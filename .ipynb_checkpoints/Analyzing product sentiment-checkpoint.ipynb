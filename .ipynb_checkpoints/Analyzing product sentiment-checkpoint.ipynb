{
 "cells": [
  {
   "cell_type": "markdown",
   "metadata": {},
   "source": [
    "#Predicting sentiment from product reviews\n",
    "\n",
    "#Fire up GraphLab Create"
   ]
  },
  {
   "cell_type": "code",
   "execution_count": 4,
   "metadata": {
    "collapsed": true
   },
   "outputs": [],
   "source": [
    "import graphlab"
   ]
  },
  {
   "cell_type": "markdown",
   "metadata": {},
   "source": [
    "#Read some product review data\n",
    "\n",
    "Loading reviews for a set of baby products. "
   ]
  },
  {
   "cell_type": "code",
   "execution_count": 16,
   "metadata": {
    "collapsed": false
   },
   "outputs": [],
   "source": [
    "products = graphlab.SFrame('amazon_baby.gl/')"
   ]
  },
  {
   "cell_type": "markdown",
   "metadata": {},
   "source": [
    "#Let's explore this data together\n",
    "\n",
    "Data includes the product name, the review text and the rating of the review. "
   ]
  },
  {
   "cell_type": "code",
   "execution_count": 17,
   "metadata": {
    "collapsed": false
   },
   "outputs": [
    {
     "data": {
      "text/html": [
       "<div style=\"max-height:1000px;max-width:1500px;overflow:auto;\"><table frame=\"box\" rules=\"cols\">\n",
       "    <tr>\n",
       "        <th style=\"padding-left: 1em; padding-right: 1em; text-align: center\">name</th>\n",
       "        <th style=\"padding-left: 1em; padding-right: 1em; text-align: center\">review</th>\n",
       "        <th style=\"padding-left: 1em; padding-right: 1em; text-align: center\">rating</th>\n",
       "    </tr>\n",
       "    <tr>\n",
       "        <td style=\"padding-left: 1em; padding-right: 1em; text-align: center; vertical-align: top\">Planetwise Flannel Wipes</td>\n",
       "        <td style=\"padding-left: 1em; padding-right: 1em; text-align: center; vertical-align: top\">These flannel wipes are<br>OK, but in my opinion ...</td>\n",
       "        <td style=\"padding-left: 1em; padding-right: 1em; text-align: center; vertical-align: top\">3.0</td>\n",
       "    </tr>\n",
       "    <tr>\n",
       "        <td style=\"padding-left: 1em; padding-right: 1em; text-align: center; vertical-align: top\">Planetwise Wipe Pouch</td>\n",
       "        <td style=\"padding-left: 1em; padding-right: 1em; text-align: center; vertical-align: top\">it came early and was not<br>disappointed. i love ...</td>\n",
       "        <td style=\"padding-left: 1em; padding-right: 1em; text-align: center; vertical-align: top\">5.0</td>\n",
       "    </tr>\n",
       "    <tr>\n",
       "        <td style=\"padding-left: 1em; padding-right: 1em; text-align: center; vertical-align: top\">Annas Dream Full Quilt<br>with 2 Shams ...</td>\n",
       "        <td style=\"padding-left: 1em; padding-right: 1em; text-align: center; vertical-align: top\">Very soft and comfortable<br>and warmer than it ...</td>\n",
       "        <td style=\"padding-left: 1em; padding-right: 1em; text-align: center; vertical-align: top\">5.0</td>\n",
       "    </tr>\n",
       "    <tr>\n",
       "        <td style=\"padding-left: 1em; padding-right: 1em; text-align: center; vertical-align: top\">Stop Pacifier Sucking<br>without tears with ...</td>\n",
       "        <td style=\"padding-left: 1em; padding-right: 1em; text-align: center; vertical-align: top\">This is a product well<br>worth the purchase.  I ...</td>\n",
       "        <td style=\"padding-left: 1em; padding-right: 1em; text-align: center; vertical-align: top\">5.0</td>\n",
       "    </tr>\n",
       "    <tr>\n",
       "        <td style=\"padding-left: 1em; padding-right: 1em; text-align: center; vertical-align: top\">Stop Pacifier Sucking<br>without tears with ...</td>\n",
       "        <td style=\"padding-left: 1em; padding-right: 1em; text-align: center; vertical-align: top\">All of my kids have cried<br>non-stop when I tried to ...</td>\n",
       "        <td style=\"padding-left: 1em; padding-right: 1em; text-align: center; vertical-align: top\">5.0</td>\n",
       "    </tr>\n",
       "    <tr>\n",
       "        <td style=\"padding-left: 1em; padding-right: 1em; text-align: center; vertical-align: top\">Stop Pacifier Sucking<br>without tears with ...</td>\n",
       "        <td style=\"padding-left: 1em; padding-right: 1em; text-align: center; vertical-align: top\">When the Binky Fairy came<br>to our house, we didn't ...</td>\n",
       "        <td style=\"padding-left: 1em; padding-right: 1em; text-align: center; vertical-align: top\">5.0</td>\n",
       "    </tr>\n",
       "    <tr>\n",
       "        <td style=\"padding-left: 1em; padding-right: 1em; text-align: center; vertical-align: top\">A Tale of Baby's Days<br>with Peter Rabbit ...</td>\n",
       "        <td style=\"padding-left: 1em; padding-right: 1em; text-align: center; vertical-align: top\">Lovely book, it's bound<br>tightly so you may no ...</td>\n",
       "        <td style=\"padding-left: 1em; padding-right: 1em; text-align: center; vertical-align: top\">4.0</td>\n",
       "    </tr>\n",
       "    <tr>\n",
       "        <td style=\"padding-left: 1em; padding-right: 1em; text-align: center; vertical-align: top\">Baby Tracker&amp;reg; - Daily<br>Childcare Journal, ...</td>\n",
       "        <td style=\"padding-left: 1em; padding-right: 1em; text-align: center; vertical-align: top\">Perfect for new parents.<br>We were able to keep ...</td>\n",
       "        <td style=\"padding-left: 1em; padding-right: 1em; text-align: center; vertical-align: top\">5.0</td>\n",
       "    </tr>\n",
       "    <tr>\n",
       "        <td style=\"padding-left: 1em; padding-right: 1em; text-align: center; vertical-align: top\">Baby Tracker&amp;reg; - Daily<br>Childcare Journal, ...</td>\n",
       "        <td style=\"padding-left: 1em; padding-right: 1em; text-align: center; vertical-align: top\">A friend of mine pinned<br>this product on Pinte ...</td>\n",
       "        <td style=\"padding-left: 1em; padding-right: 1em; text-align: center; vertical-align: top\">5.0</td>\n",
       "    </tr>\n",
       "    <tr>\n",
       "        <td style=\"padding-left: 1em; padding-right: 1em; text-align: center; vertical-align: top\">Baby Tracker&amp;reg; - Daily<br>Childcare Journal, ...</td>\n",
       "        <td style=\"padding-left: 1em; padding-right: 1em; text-align: center; vertical-align: top\">This has been an easy way<br>for my nanny to record ...</td>\n",
       "        <td style=\"padding-left: 1em; padding-right: 1em; text-align: center; vertical-align: top\">4.0</td>\n",
       "    </tr>\n",
       "</table>\n",
       "[10 rows x 3 columns]<br/>\n",
       "</div>"
      ],
      "text/plain": [
       "Columns:\n",
       "\tname\tstr\n",
       "\treview\tstr\n",
       "\trating\tfloat\n",
       "\n",
       "Rows: 10\n",
       "\n",
       "Data:\n",
       "+-------------------------------+-------------------------------+--------+\n",
       "|              name             |             review            | rating |\n",
       "+-------------------------------+-------------------------------+--------+\n",
       "|    Planetwise Flannel Wipes   | These flannel wipes are OK... |  3.0   |\n",
       "|     Planetwise Wipe Pouch     | it came early and was not ... |  5.0   |\n",
       "| Annas Dream Full Quilt wit... | Very soft and comfortable ... |  5.0   |\n",
       "| Stop Pacifier Sucking with... | This is a product well wor... |  5.0   |\n",
       "| Stop Pacifier Sucking with... | All of my kids have cried ... |  5.0   |\n",
       "| Stop Pacifier Sucking with... | When the Binky Fairy came ... |  5.0   |\n",
       "| A Tale of Baby's Days with... | Lovely book, it's bound ti... |  4.0   |\n",
       "| Baby Tracker&reg; - Daily ... | Perfect for new parents. W... |  5.0   |\n",
       "| Baby Tracker&reg; - Daily ... | A friend of mine pinned th... |  5.0   |\n",
       "| Baby Tracker&reg; - Daily ... | This has been an easy way ... |  4.0   |\n",
       "+-------------------------------+-------------------------------+--------+\n",
       "[10 rows x 3 columns]"
      ]
     },
     "execution_count": 17,
     "metadata": {},
     "output_type": "execute_result"
    }
   ],
   "source": [
    "products.head()"
   ]
  },
  {
   "cell_type": "markdown",
   "metadata": {},
   "source": [
    "#Build the word count vector for each review"
   ]
  },
  {
   "cell_type": "code",
   "execution_count": 18,
   "metadata": {
    "collapsed": false
   },
   "outputs": [],
   "source": [
    "products['word_count'] = graphlab.text_analytics.count_words(products['review'])\n",
    "\n",
    "#products['ngram_count'] = graphlab.text_analytics.count_ngrams(products['review'])"
   ]
  },
  {
   "cell_type": "code",
   "execution_count": 19,
   "metadata": {
    "collapsed": false
   },
   "outputs": [
    {
     "data": {
      "text/html": [
       "<div style=\"max-height:1000px;max-width:1500px;overflow:auto;\"><table frame=\"box\" rules=\"cols\">\n",
       "    <tr>\n",
       "        <th style=\"padding-left: 1em; padding-right: 1em; text-align: center\">name</th>\n",
       "        <th style=\"padding-left: 1em; padding-right: 1em; text-align: center\">review</th>\n",
       "        <th style=\"padding-left: 1em; padding-right: 1em; text-align: center\">rating</th>\n",
       "        <th style=\"padding-left: 1em; padding-right: 1em; text-align: center\">word_count</th>\n",
       "    </tr>\n",
       "    <tr>\n",
       "        <td style=\"padding-left: 1em; padding-right: 1em; text-align: center; vertical-align: top\">Planetwise Flannel Wipes</td>\n",
       "        <td style=\"padding-left: 1em; padding-right: 1em; text-align: center; vertical-align: top\">These flannel wipes are<br>OK, but in my opinion ...</td>\n",
       "        <td style=\"padding-left: 1em; padding-right: 1em; text-align: center; vertical-align: top\">3.0</td>\n",
       "        <td style=\"padding-left: 1em; padding-right: 1em; text-align: center; vertical-align: top\">{'and': 5, 'stink': 1,<br>'because': 1, 'ordered': ...</td>\n",
       "    </tr>\n",
       "    <tr>\n",
       "        <td style=\"padding-left: 1em; padding-right: 1em; text-align: center; vertical-align: top\">Planetwise Wipe Pouch</td>\n",
       "        <td style=\"padding-left: 1em; padding-right: 1em; text-align: center; vertical-align: top\">it came early and was not<br>disappointed. i love ...</td>\n",
       "        <td style=\"padding-left: 1em; padding-right: 1em; text-align: center; vertical-align: top\">5.0</td>\n",
       "        <td style=\"padding-left: 1em; padding-right: 1em; text-align: center; vertical-align: top\">{'and': 3, 'love': 1,<br>'it': 2, 'highly': 1, ...</td>\n",
       "    </tr>\n",
       "    <tr>\n",
       "        <td style=\"padding-left: 1em; padding-right: 1em; text-align: center; vertical-align: top\">Annas Dream Full Quilt<br>with 2 Shams ...</td>\n",
       "        <td style=\"padding-left: 1em; padding-right: 1em; text-align: center; vertical-align: top\">Very soft and comfortable<br>and warmer than it ...</td>\n",
       "        <td style=\"padding-left: 1em; padding-right: 1em; text-align: center; vertical-align: top\">5.0</td>\n",
       "        <td style=\"padding-left: 1em; padding-right: 1em; text-align: center; vertical-align: top\">{'and': 2, 'quilt': 1,<br>'it': 1, 'comfortable': ...</td>\n",
       "    </tr>\n",
       "    <tr>\n",
       "        <td style=\"padding-left: 1em; padding-right: 1em; text-align: center; vertical-align: top\">Stop Pacifier Sucking<br>without tears with ...</td>\n",
       "        <td style=\"padding-left: 1em; padding-right: 1em; text-align: center; vertical-align: top\">This is a product well<br>worth the purchase.  I ...</td>\n",
       "        <td style=\"padding-left: 1em; padding-right: 1em; text-align: center; vertical-align: top\">5.0</td>\n",
       "        <td style=\"padding-left: 1em; padding-right: 1em; text-align: center; vertical-align: top\">{'ingenious': 1, 'and':<br>3, 'love': 2, ...</td>\n",
       "    </tr>\n",
       "    <tr>\n",
       "        <td style=\"padding-left: 1em; padding-right: 1em; text-align: center; vertical-align: top\">Stop Pacifier Sucking<br>without tears with ...</td>\n",
       "        <td style=\"padding-left: 1em; padding-right: 1em; text-align: center; vertical-align: top\">All of my kids have cried<br>non-stop when I tried to ...</td>\n",
       "        <td style=\"padding-left: 1em; padding-right: 1em; text-align: center; vertical-align: top\">5.0</td>\n",
       "        <td style=\"padding-left: 1em; padding-right: 1em; text-align: center; vertical-align: top\">{'and': 2, 'parents!!':<br>1, 'all': 2, 'puppet.': ...</td>\n",
       "    </tr>\n",
       "    <tr>\n",
       "        <td style=\"padding-left: 1em; padding-right: 1em; text-align: center; vertical-align: top\">Stop Pacifier Sucking<br>without tears with ...</td>\n",
       "        <td style=\"padding-left: 1em; padding-right: 1em; text-align: center; vertical-align: top\">When the Binky Fairy came<br>to our house, we didn't ...</td>\n",
       "        <td style=\"padding-left: 1em; padding-right: 1em; text-align: center; vertical-align: top\">5.0</td>\n",
       "        <td style=\"padding-left: 1em; padding-right: 1em; text-align: center; vertical-align: top\">{'and': 2, 'cute': 1,<br>'help': 2, 'doll': 1, ...</td>\n",
       "    </tr>\n",
       "    <tr>\n",
       "        <td style=\"padding-left: 1em; padding-right: 1em; text-align: center; vertical-align: top\">A Tale of Baby's Days<br>with Peter Rabbit ...</td>\n",
       "        <td style=\"padding-left: 1em; padding-right: 1em; text-align: center; vertical-align: top\">Lovely book, it's bound<br>tightly so you may no ...</td>\n",
       "        <td style=\"padding-left: 1em; padding-right: 1em; text-align: center; vertical-align: top\">4.0</td>\n",
       "        <td style=\"padding-left: 1em; padding-right: 1em; text-align: center; vertical-align: top\">{'shop': 1, 'be': 1,<br>'is': 1, 'it': 1, 'as': ...</td>\n",
       "    </tr>\n",
       "    <tr>\n",
       "        <td style=\"padding-left: 1em; padding-right: 1em; text-align: center; vertical-align: top\">Baby Tracker&amp;reg; - Daily<br>Childcare Journal, ...</td>\n",
       "        <td style=\"padding-left: 1em; padding-right: 1em; text-align: center; vertical-align: top\">Perfect for new parents.<br>We were able to keep ...</td>\n",
       "        <td style=\"padding-left: 1em; padding-right: 1em; text-align: center; vertical-align: top\">5.0</td>\n",
       "        <td style=\"padding-left: 1em; padding-right: 1em; text-align: center; vertical-align: top\">{'feeding,': 1, 'and': 2,<br>'all': 1, 'right': 1, ...</td>\n",
       "    </tr>\n",
       "    <tr>\n",
       "        <td style=\"padding-left: 1em; padding-right: 1em; text-align: center; vertical-align: top\">Baby Tracker&amp;reg; - Daily<br>Childcare Journal, ...</td>\n",
       "        <td style=\"padding-left: 1em; padding-right: 1em; text-align: center; vertical-align: top\">A friend of mine pinned<br>this product on Pinte ...</td>\n",
       "        <td style=\"padding-left: 1em; padding-right: 1em; text-align: center; vertical-align: top\">5.0</td>\n",
       "        <td style=\"padding-left: 1em; padding-right: 1em; text-align: center; vertical-align: top\">{'and': 1, 'help': 1,<br>'give': 1, 'is': 1, ...</td>\n",
       "    </tr>\n",
       "    <tr>\n",
       "        <td style=\"padding-left: 1em; padding-right: 1em; text-align: center; vertical-align: top\">Baby Tracker&amp;reg; - Daily<br>Childcare Journal, ...</td>\n",
       "        <td style=\"padding-left: 1em; padding-right: 1em; text-align: center; vertical-align: top\">This has been an easy way<br>for my nanny to record ...</td>\n",
       "        <td style=\"padding-left: 1em; padding-right: 1em; text-align: center; vertical-align: top\">4.0</td>\n",
       "        <td style=\"padding-left: 1em; padding-right: 1em; text-align: center; vertical-align: top\">{'journal.': 1, 'all': 1,<br>'standarad': 1, ...</td>\n",
       "    </tr>\n",
       "</table>\n",
       "[10 rows x 4 columns]<br/>\n",
       "</div>"
      ],
      "text/plain": [
       "Columns:\n",
       "\tname\tstr\n",
       "\treview\tstr\n",
       "\trating\tfloat\n",
       "\tword_count\tdict\n",
       "\n",
       "Rows: 10\n",
       "\n",
       "Data:\n",
       "+-------------------------------+-------------------------------+--------+\n",
       "|              name             |             review            | rating |\n",
       "+-------------------------------+-------------------------------+--------+\n",
       "|    Planetwise Flannel Wipes   | These flannel wipes are OK... |  3.0   |\n",
       "|     Planetwise Wipe Pouch     | it came early and was not ... |  5.0   |\n",
       "| Annas Dream Full Quilt wit... | Very soft and comfortable ... |  5.0   |\n",
       "| Stop Pacifier Sucking with... | This is a product well wor... |  5.0   |\n",
       "| Stop Pacifier Sucking with... | All of my kids have cried ... |  5.0   |\n",
       "| Stop Pacifier Sucking with... | When the Binky Fairy came ... |  5.0   |\n",
       "| A Tale of Baby's Days with... | Lovely book, it's bound ti... |  4.0   |\n",
       "| Baby Tracker&reg; - Daily ... | Perfect for new parents. W... |  5.0   |\n",
       "| Baby Tracker&reg; - Daily ... | A friend of mine pinned th... |  5.0   |\n",
       "| Baby Tracker&reg; - Daily ... | This has been an easy way ... |  4.0   |\n",
       "+-------------------------------+-------------------------------+--------+\n",
       "+-------------------------------+\n",
       "|           word_count          |\n",
       "+-------------------------------+\n",
       "| {'and': 5, 'stink': 1, 'be... |\n",
       "| {'and': 3, 'love': 1, 'it'... |\n",
       "| {'and': 2, 'quilt': 1, 'it... |\n",
       "| {'ingenious': 1, 'and': 3,... |\n",
       "| {'and': 2, 'parents!!': 1,... |\n",
       "| {'and': 2, 'cute': 1, 'hel... |\n",
       "| {'shop': 1, 'be': 1, 'is':... |\n",
       "| {'feeding,': 1, 'and': 2, ... |\n",
       "| {'and': 1, 'help': 1, 'giv... |\n",
       "| {'journal.': 1, 'all': 1, ... |\n",
       "+-------------------------------+\n",
       "[10 rows x 4 columns]"
      ]
     },
     "execution_count": 19,
     "metadata": {},
     "output_type": "execute_result"
    }
   ],
   "source": [
    "products.head()"
   ]
  },
  {
   "cell_type": "code",
   "execution_count": 20,
   "metadata": {
    "collapsed": false
   },
   "outputs": [],
   "source": [
    "graphlab.canvas.set_target('ipynb')"
   ]
  },
  {
   "cell_type": "code",
   "execution_count": 40,
   "metadata": {
    "collapsed": false
   },
   "outputs": [
    {
     "name": "stdout",
     "output_type": "stream",
     "text": [
      "Annas Dream Full Quilt with 2 Shams\n"
     ]
    }
   ],
   "source": [
    "#products['name'].show()\n",
    "print products['name'][1]"
   ]
  },
  {
   "cell_type": "markdown",
   "metadata": {
    "collapsed": true
   },
   "source": [
    "#Examining the reviews for most-sold product:  'Vulli Sophie the Giraffe Teether'"
   ]
  },
  {
   "cell_type": "code",
   "execution_count": 16,
   "metadata": {
    "collapsed": true
   },
   "outputs": [],
   "source": [
    "giraffe_reviews = products[products['name'] == 'Vulli Sophie the Giraffe Teether']"
   ]
  },
  {
   "cell_type": "code",
   "execution_count": 17,
   "metadata": {
    "collapsed": false
   },
   "outputs": [
    {
     "data": {
      "text/plain": [
       "785"
      ]
     },
     "execution_count": 17,
     "metadata": {},
     "output_type": "execute_result"
    }
   ],
   "source": [
    "len(giraffe_reviews)"
   ]
  },
  {
   "cell_type": "code",
   "execution_count": 18,
   "metadata": {
    "collapsed": false
   },
   "outputs": [
    {
     "data": {
      "application/javascript": [
       "$(\"head\").append($(\"<link/>\").attr({\n",
       "  rel:  \"stylesheet\",\n",
       "  type: \"text/css\",\n",
       "  href: \"//cdnjs.cloudflare.com/ajax/libs/font-awesome/4.1.0/css/font-awesome.min.css\"\n",
       "}));\n",
       "$(\"head\").append($(\"<link/>\").attr({\n",
       "  rel:  \"stylesheet\",\n",
       "  type: \"text/css\",\n",
       "  href: \"//dato.com/files/canvas/1.6.1/css/canvas.css\"\n",
       "}));\n",
       "\n",
       "            (function(){\n",
       "\n",
       "                var e = null;\n",
       "                if (typeof element == 'undefined') {\n",
       "                    var scripts = document.getElementsByTagName('script');\n",
       "                    var thisScriptTag = scripts[scripts.length-1];\n",
       "                    var parentDiv = thisScriptTag.parentNode;\n",
       "                    e = document.createElement('div');\n",
       "                    parentDiv.appendChild(e);\n",
       "                } else {\n",
       "                    e = element[0];\n",
       "                }\n",
       "\n",
       "                if (typeof requirejs !== 'undefined') {\n",
       "                    // disable load timeout; ipython_app.js is large and can take a while to load.\n",
       "                    requirejs.config({waitSeconds: 0});\n",
       "                }\n",
       "\n",
       "                require(['//dato.com/files/canvas/1.6.1/js/ipython_app.js'], function(IPythonApp){\n",
       "                    var app = new IPythonApp();\n",
       "                    app.attachView('sarray','Categorical', {\"ipython\": true, \"sketch\": {\"std\": 1.226576304850189, \"complete\": true, \"min\": 1.0, \"max\": 5.0, \"quantile\": [1.0, 1.0, 1.0, 1.0, 1.0, 1.0, 1.0, 1.0, 2.0, 2.0, 2.0, 2.0, 3.0, 3.0, 3.0, 3.0, 3.0, 3.0, 3.0, 3.0, 4.0, 4.0, 4.0, 4.0, 4.0, 4.0, 4.0, 4.0, 4.0, 4.0, 4.0, 4.0, 5.0, 5.0, 5.0, 5.0, 5.0, 5.0, 5.0, 5.0, 5.0, 5.0, 5.0, 5.0, 5.0, 5.0, 5.0, 5.0, 5.0, 5.0, 5.0, 5.0, 5.0, 5.0, 5.0, 5.0, 5.0, 5.0, 5.0, 5.0, 5.0, 5.0, 5.0, 5.0, 5.0, 5.0, 5.0, 5.0, 5.0, 5.0, 5.0, 5.0, 5.0, 5.0, 5.0, 5.0, 5.0, 5.0, 5.0, 5.0, 5.0, 5.0, 5.0, 5.0, 5.0, 5.0, 5.0, 5.0, 5.0, 5.0, 5.0, 5.0, 5.0, 5.0, 5.0, 5.0, 5.0, 5.0, 5.0, 5.0, 5.0], \"median\": 5.0, \"numeric\": true, \"num_unique\": 5, \"num_undefined\": 0, \"var\": 1.504489431619944, \"progress\": 1.0, \"size\": 785, \"frequent_items\": {\"1.0\": {\"frequency\": 56, \"value\": 1.0}, \"2.0\": {\"frequency\": 37, \"value\": 2.0}, \"3.0\": {\"frequency\": 62, \"value\": 3.0}, \"4.0\": {\"frequency\": 95, \"value\": 4.0}, \"5.0\": {\"frequency\": 535, \"value\": 5.0}}, \"mean\": 4.294267515923567}, \"selected_variable\": {\"name\": [\"<SArray>\"], \"dtype\": \"float\", \"view_component\": \"Categorical\", \"view_file\": \"sarray\", \"descriptives\": {\"rows\": 785}, \"type\": \"SArray\", \"view_components\": [\"Numeric\", \"Categorical\"]}, \"histogram\": {\"progress\": 1.0, \"histogram\": {\"max\": 5.0439843750025, \"bins\": [56, 0, 0, 37, 0, 0, 62, 0, 95, 0, 0, 535], \"min\": 0.9534375000025004}, \"min\": 1.0, \"complete\": 1, \"max\": 5.0}}, e);\n",
       "                });\n",
       "            })();\n",
       "        "
      ]
     },
     "metadata": {},
     "output_type": "display_data"
    }
   ],
   "source": [
    "giraffe_reviews['rating'].show(view='Categorical')"
   ]
  },
  {
   "cell_type": "markdown",
   "metadata": {},
   "source": [
    "#Build a sentiment classifier"
   ]
  },
  {
   "cell_type": "code",
   "execution_count": 19,
   "metadata": {
    "collapsed": false
   },
   "outputs": [
    {
     "data": {
      "application/javascript": [
       "$(\"head\").append($(\"<link/>\").attr({\n",
       "  rel:  \"stylesheet\",\n",
       "  type: \"text/css\",\n",
       "  href: \"//cdnjs.cloudflare.com/ajax/libs/font-awesome/4.1.0/css/font-awesome.min.css\"\n",
       "}));\n",
       "$(\"head\").append($(\"<link/>\").attr({\n",
       "  rel:  \"stylesheet\",\n",
       "  type: \"text/css\",\n",
       "  href: \"//dato.com/files/canvas/1.6.1/css/canvas.css\"\n",
       "}));\n",
       "\n",
       "            (function(){\n",
       "\n",
       "                var e = null;\n",
       "                if (typeof element == 'undefined') {\n",
       "                    var scripts = document.getElementsByTagName('script');\n",
       "                    var thisScriptTag = scripts[scripts.length-1];\n",
       "                    var parentDiv = thisScriptTag.parentNode;\n",
       "                    e = document.createElement('div');\n",
       "                    parentDiv.appendChild(e);\n",
       "                } else {\n",
       "                    e = element[0];\n",
       "                }\n",
       "\n",
       "                if (typeof requirejs !== 'undefined') {\n",
       "                    // disable load timeout; ipython_app.js is large and can take a while to load.\n",
       "                    requirejs.config({waitSeconds: 0});\n",
       "                }\n",
       "\n",
       "                require(['//dato.com/files/canvas/1.6.1/js/ipython_app.js'], function(IPythonApp){\n",
       "                    var app = new IPythonApp();\n",
       "                    app.attachView('sarray','Categorical', {\"ipython\": true, \"sketch\": {\"std\": 1.2850135559617413, \"complete\": true, \"min\": 1.0, \"max\": 5.0, \"quantile\": [1.0, 1.0, 1.0, 1.0, 1.0, 1.0, 1.0, 1.0, 1.0, 2.0, 2.0, 2.0, 2.0, 2.0, 2.0, 3.0, 3.0, 3.0, 3.0, 3.0, 3.0, 3.0, 3.0, 3.0, 4.0, 4.0, 4.0, 4.0, 4.0, 4.0, 4.0, 4.0, 4.0, 4.0, 4.0, 4.0, 4.0, 4.0, 4.0, 4.0, 4.0, 4.0, 5.0, 5.0, 5.0, 5.0, 5.0, 5.0, 5.0, 5.0, 5.0, 5.0, 5.0, 5.0, 5.0, 5.0, 5.0, 5.0, 5.0, 5.0, 5.0, 5.0, 5.0, 5.0, 5.0, 5.0, 5.0, 5.0, 5.0, 5.0, 5.0, 5.0, 5.0, 5.0, 5.0, 5.0, 5.0, 5.0, 5.0, 5.0, 5.0, 5.0, 5.0, 5.0, 5.0, 5.0, 5.0, 5.0, 5.0, 5.0, 5.0, 5.0, 5.0, 5.0, 5.0, 5.0, 5.0, 5.0, 5.0, 5.0, 5.0], \"median\": 5.0, \"numeric\": true, \"num_unique\": 5, \"num_undefined\": 0, \"var\": 1.6512598390054394, \"progress\": 1.0, \"size\": 183531, \"frequent_items\": {\"1.0\": {\"frequency\": 15183, \"value\": 1.0}, \"2.0\": {\"frequency\": 11310, \"value\": 2.0}, \"3.0\": {\"frequency\": 16779, \"value\": 3.0}, \"4.0\": {\"frequency\": 33205, \"value\": 4.0}, \"5.0\": {\"frequency\": 107054, \"value\": 5.0}}, \"mean\": 4.1204483166331505}, \"selected_variable\": {\"name\": [\"<SArray>\"], \"dtype\": \"float\", \"view_component\": \"Categorical\", \"view_file\": \"sarray\", \"descriptives\": {\"rows\": 183531}, \"type\": \"SArray\", \"view_components\": [\"Numeric\", \"Categorical\"]}, \"histogram\": {\"progress\": 1.0, \"histogram\": {\"max\": 5.024, \"bins\": [15183, 0, 0, 11310, 0, 16779, 0, 0, 33205, 0, 0, 107054], \"min\": 0.992}, \"min\": 1.0, \"complete\": 1, \"max\": 5.0}}, e);\n",
       "                });\n",
       "            })();\n",
       "        "
      ]
     },
     "metadata": {},
     "output_type": "display_data"
    }
   ],
   "source": [
    "products['rating'].show(view='Categorical')"
   ]
  },
  {
   "cell_type": "markdown",
   "metadata": {},
   "source": [
    "##Define what's a positive and a negative sentiment\n",
    "\n",
    "We will ignore all reviews with rating = 3, since they tend to have a neutral sentiment.  Reviews with a rating of 4 or higher will be considered positive, while the ones with rating of 2 or lower will have a negative sentiment.   "
   ]
  },
  {
   "cell_type": "code",
   "execution_count": 20,
   "metadata": {
    "collapsed": true
   },
   "outputs": [],
   "source": [
    "#ignore all 3* reviews\n",
    "products = products[products['rating'] != 3]"
   ]
  },
  {
   "cell_type": "code",
   "execution_count": 21,
   "metadata": {
    "collapsed": true
   },
   "outputs": [],
   "source": [
    "#positive sentiment = 4* or 5* reviews\n",
    "products['sentiment'] = products['rating'] >=4"
   ]
  },
  {
   "cell_type": "code",
   "execution_count": 22,
   "metadata": {
    "collapsed": false
   },
   "outputs": [
    {
     "data": {
      "text/html": [
       "<div style=\"max-height:1000px;max-width:1500px;overflow:auto;\"><table frame=\"box\" rules=\"cols\">\n",
       "    <tr>\n",
       "        <th style=\"padding-left: 1em; padding-right: 1em; text-align: center\">name</th>\n",
       "        <th style=\"padding-left: 1em; padding-right: 1em; text-align: center\">review</th>\n",
       "        <th style=\"padding-left: 1em; padding-right: 1em; text-align: center\">rating</th>\n",
       "        <th style=\"padding-left: 1em; padding-right: 1em; text-align: center\">word_count</th>\n",
       "    </tr>\n",
       "    <tr>\n",
       "        <td style=\"padding-left: 1em; padding-right: 1em; text-align: center; vertical-align: top\">Planetwise Wipe Pouch</td>\n",
       "        <td style=\"padding-left: 1em; padding-right: 1em; text-align: center; vertical-align: top\">it came early and was not<br>disappointed. i love ...</td>\n",
       "        <td style=\"padding-left: 1em; padding-right: 1em; text-align: center; vertical-align: top\">5.0</td>\n",
       "        <td style=\"padding-left: 1em; padding-right: 1em; text-align: center; vertical-align: top\">{'and': 3, 'love': 1,<br>'it': 2, 'highly': 1, ...</td>\n",
       "    </tr>\n",
       "    <tr>\n",
       "        <td style=\"padding-left: 1em; padding-right: 1em; text-align: center; vertical-align: top\">Annas Dream Full Quilt<br>with 2 Shams ...</td>\n",
       "        <td style=\"padding-left: 1em; padding-right: 1em; text-align: center; vertical-align: top\">Very soft and comfortable<br>and warmer than it ...</td>\n",
       "        <td style=\"padding-left: 1em; padding-right: 1em; text-align: center; vertical-align: top\">5.0</td>\n",
       "        <td style=\"padding-left: 1em; padding-right: 1em; text-align: center; vertical-align: top\">{'and': 2, 'quilt': 1,<br>'it': 1, 'comfortable': ...</td>\n",
       "    </tr>\n",
       "    <tr>\n",
       "        <td style=\"padding-left: 1em; padding-right: 1em; text-align: center; vertical-align: top\">Stop Pacifier Sucking<br>without tears with ...</td>\n",
       "        <td style=\"padding-left: 1em; padding-right: 1em; text-align: center; vertical-align: top\">This is a product well<br>worth the purchase.  I ...</td>\n",
       "        <td style=\"padding-left: 1em; padding-right: 1em; text-align: center; vertical-align: top\">5.0</td>\n",
       "        <td style=\"padding-left: 1em; padding-right: 1em; text-align: center; vertical-align: top\">{'ingenious': 1, 'and':<br>3, 'love': 2, ...</td>\n",
       "    </tr>\n",
       "    <tr>\n",
       "        <td style=\"padding-left: 1em; padding-right: 1em; text-align: center; vertical-align: top\">Stop Pacifier Sucking<br>without tears with ...</td>\n",
       "        <td style=\"padding-left: 1em; padding-right: 1em; text-align: center; vertical-align: top\">All of my kids have cried<br>non-stop when I tried to ...</td>\n",
       "        <td style=\"padding-left: 1em; padding-right: 1em; text-align: center; vertical-align: top\">5.0</td>\n",
       "        <td style=\"padding-left: 1em; padding-right: 1em; text-align: center; vertical-align: top\">{'and': 2, 'parents!!':<br>1, 'all': 2, 'puppet.': ...</td>\n",
       "    </tr>\n",
       "    <tr>\n",
       "        <td style=\"padding-left: 1em; padding-right: 1em; text-align: center; vertical-align: top\">Stop Pacifier Sucking<br>without tears with ...</td>\n",
       "        <td style=\"padding-left: 1em; padding-right: 1em; text-align: center; vertical-align: top\">When the Binky Fairy came<br>to our house, we didn't ...</td>\n",
       "        <td style=\"padding-left: 1em; padding-right: 1em; text-align: center; vertical-align: top\">5.0</td>\n",
       "        <td style=\"padding-left: 1em; padding-right: 1em; text-align: center; vertical-align: top\">{'and': 2, 'cute': 1,<br>'help': 2, 'doll': 1, ...</td>\n",
       "    </tr>\n",
       "    <tr>\n",
       "        <td style=\"padding-left: 1em; padding-right: 1em; text-align: center; vertical-align: top\">A Tale of Baby's Days<br>with Peter Rabbit ...</td>\n",
       "        <td style=\"padding-left: 1em; padding-right: 1em; text-align: center; vertical-align: top\">Lovely book, it's bound<br>tightly so you may no ...</td>\n",
       "        <td style=\"padding-left: 1em; padding-right: 1em; text-align: center; vertical-align: top\">4.0</td>\n",
       "        <td style=\"padding-left: 1em; padding-right: 1em; text-align: center; vertical-align: top\">{'shop': 1, 'be': 1,<br>'is': 1, 'it': 1, 'as': ...</td>\n",
       "    </tr>\n",
       "    <tr>\n",
       "        <td style=\"padding-left: 1em; padding-right: 1em; text-align: center; vertical-align: top\">Baby Tracker&amp;reg; - Daily<br>Childcare Journal, ...</td>\n",
       "        <td style=\"padding-left: 1em; padding-right: 1em; text-align: center; vertical-align: top\">Perfect for new parents.<br>We were able to keep ...</td>\n",
       "        <td style=\"padding-left: 1em; padding-right: 1em; text-align: center; vertical-align: top\">5.0</td>\n",
       "        <td style=\"padding-left: 1em; padding-right: 1em; text-align: center; vertical-align: top\">{'feeding,': 1, 'and': 2,<br>'all': 1, 'right': 1, ...</td>\n",
       "    </tr>\n",
       "    <tr>\n",
       "        <td style=\"padding-left: 1em; padding-right: 1em; text-align: center; vertical-align: top\">Baby Tracker&amp;reg; - Daily<br>Childcare Journal, ...</td>\n",
       "        <td style=\"padding-left: 1em; padding-right: 1em; text-align: center; vertical-align: top\">A friend of mine pinned<br>this product on Pinte ...</td>\n",
       "        <td style=\"padding-left: 1em; padding-right: 1em; text-align: center; vertical-align: top\">5.0</td>\n",
       "        <td style=\"padding-left: 1em; padding-right: 1em; text-align: center; vertical-align: top\">{'and': 1, 'help': 1,<br>'give': 1, 'is': 1, ...</td>\n",
       "    </tr>\n",
       "    <tr>\n",
       "        <td style=\"padding-left: 1em; padding-right: 1em; text-align: center; vertical-align: top\">Baby Tracker&amp;reg; - Daily<br>Childcare Journal, ...</td>\n",
       "        <td style=\"padding-left: 1em; padding-right: 1em; text-align: center; vertical-align: top\">This has been an easy way<br>for my nanny to record ...</td>\n",
       "        <td style=\"padding-left: 1em; padding-right: 1em; text-align: center; vertical-align: top\">4.0</td>\n",
       "        <td style=\"padding-left: 1em; padding-right: 1em; text-align: center; vertical-align: top\">{'journal.': 1, 'all': 1,<br>'standarad': 1, ...</td>\n",
       "    </tr>\n",
       "    <tr>\n",
       "        <td style=\"padding-left: 1em; padding-right: 1em; text-align: center; vertical-align: top\">Baby Tracker&amp;reg; - Daily<br>Childcare Journal, ...</td>\n",
       "        <td style=\"padding-left: 1em; padding-right: 1em; text-align: center; vertical-align: top\">I love this journal and<br>our nanny uses it ...</td>\n",
       "        <td style=\"padding-left: 1em; padding-right: 1em; text-align: center; vertical-align: top\">4.0</td>\n",
       "        <td style=\"padding-left: 1em; padding-right: 1em; text-align: center; vertical-align: top\">{'all': 1, 'forget': 1,<br>'just': 1, \"daughter's\": ...</td>\n",
       "    </tr>\n",
       "</table>\n",
       "<table frame=\"box\" rules=\"cols\">\n",
       "    <tr>\n",
       "        <th style=\"padding-left: 1em; padding-right: 1em; text-align: center\">ngram_count</th>\n",
       "        <th style=\"padding-left: 1em; padding-right: 1em; text-align: center\">sentiment</th>\n",
       "    </tr>\n",
       "    <tr>\n",
       "        <td style=\"padding-left: 1em; padding-right: 1em; text-align: center; vertical-align: top\">{'now my': 1, 'my wipe':<br>1, 'keps my': 1, 'not ...</td>\n",
       "        <td style=\"padding-left: 1em; padding-right: 1em; text-align: center; vertical-align: top\">1</td>\n",
       "    </tr>\n",
       "    <tr>\n",
       "        <td style=\"padding-left: 1em; padding-right: 1em; text-align: center; vertical-align: top\">{'bed perfectly': 1,<br>'this type': 1, 'fit ...</td>\n",
       "        <td style=\"padding-left: 1em; padding-right: 1em; text-align: center; vertical-align: top\">1</td>\n",
       "    </tr>\n",
       "    <tr>\n",
       "        <td style=\"padding-left: 1em; padding-right: 1em; text-align: center; vertical-align: top\">{'binky she': 1, 'proud<br>of': 1, 'getting rid' ...</td>\n",
       "        <td style=\"padding-left: 1em; padding-right: 1em; text-align: center; vertical-align: top\">1</td>\n",
       "    </tr>\n",
       "    <tr>\n",
       "        <td style=\"padding-left: 1em; padding-right: 1em; text-align: center; vertical-align: top\">{'book and': 1,<br>'headaches thanks': 1, ...</td>\n",
       "        <td style=\"padding-left: 1em; padding-right: 1em; text-align: center; vertical-align: top\">1</td>\n",
       "    </tr>\n",
       "    <tr>\n",
       "        <td style=\"padding-left: 1em; padding-right: 1em; text-align: center; vertical-align: top\">{'about how': 1, 'this<br>book': 1, 'stop using': ...</td>\n",
       "        <td style=\"padding-left: 1em; padding-right: 1em; text-align: center; vertical-align: top\">1</td>\n",
       "    </tr>\n",
       "    <tr>\n",
       "        <td style=\"padding-left: 1em; padding-right: 1em; text-align: center; vertical-align: top\">{'designated spaces': 1,<br>'lovely book': 1, 'cards ...</td>\n",
       "        <td style=\"padding-left: 1em; padding-right: 1em; text-align: center; vertical-align: top\">1</td>\n",
       "    </tr>\n",
       "    <tr>\n",
       "        <td style=\"padding-left: 1em; padding-right: 1em; text-align: center; vertical-align: top\">{'feeding sleep': 1, 'we<br>had': 1, 'for the': 1, ...</td>\n",
       "        <td style=\"padding-left: 1em; padding-right: 1em; text-align: center; vertical-align: top\">1</td>\n",
       "    </tr>\n",
       "    <tr>\n",
       "        <td style=\"padding-left: 1em; padding-right: 1em; text-align: center; vertical-align: top\">{'i decided': 1, 'product<br>on': 1, 'a friend': 1, ...</td>\n",
       "        <td style=\"padding-left: 1em; padding-right: 1em; text-align: center; vertical-align: top\">1</td>\n",
       "    </tr>\n",
       "    <tr>\n",
       "        <td style=\"padding-left: 1em; padding-right: 1em; text-align: center; vertical-align: top\">{'with my': 1, 'recommend<br>it': 1, 'reason this' ...</td>\n",
       "        <td style=\"padding-left: 1em; padding-right: 1em; text-align: center; vertical-align: top\">1</td>\n",
       "    </tr>\n",
       "    <tr>\n",
       "        <td style=\"padding-left: 1em; padding-right: 1em; text-align: center; vertical-align: top\">{'complaint is': 1, 's<br>hot': 1, 'time tummy' ...</td>\n",
       "        <td style=\"padding-left: 1em; padding-right: 1em; text-align: center; vertical-align: top\">1</td>\n",
       "    </tr>\n",
       "</table>\n",
       "[10 rows x 6 columns]<br/>\n",
       "</div>"
      ],
      "text/plain": [
       "Columns:\n",
       "\tname\tstr\n",
       "\treview\tstr\n",
       "\trating\tfloat\n",
       "\tword_count\tdict\n",
       "\tngram_count\tdict\n",
       "\tsentiment\tint\n",
       "\n",
       "Rows: 10\n",
       "\n",
       "Data:\n",
       "+-------------------------------+-------------------------------+--------+\n",
       "|              name             |             review            | rating |\n",
       "+-------------------------------+-------------------------------+--------+\n",
       "|     Planetwise Wipe Pouch     | it came early and was not ... |  5.0   |\n",
       "| Annas Dream Full Quilt wit... | Very soft and comfortable ... |  5.0   |\n",
       "| Stop Pacifier Sucking with... | This is a product well wor... |  5.0   |\n",
       "| Stop Pacifier Sucking with... | All of my kids have cried ... |  5.0   |\n",
       "| Stop Pacifier Sucking with... | When the Binky Fairy came ... |  5.0   |\n",
       "| A Tale of Baby's Days with... | Lovely book, it's bound ti... |  4.0   |\n",
       "| Baby Tracker&reg; - Daily ... | Perfect for new parents. W... |  5.0   |\n",
       "| Baby Tracker&reg; - Daily ... | A friend of mine pinned th... |  5.0   |\n",
       "| Baby Tracker&reg; - Daily ... | This has been an easy way ... |  4.0   |\n",
       "| Baby Tracker&reg; - Daily ... | I love this journal and ou... |  4.0   |\n",
       "+-------------------------------+-------------------------------+--------+\n",
       "+-------------------------------+-------------------------------+-----------+\n",
       "|           word_count          |          ngram_count          | sentiment |\n",
       "+-------------------------------+-------------------------------+-----------+\n",
       "| {'and': 3, 'love': 1, 'it'... | {'now my': 1, 'my wipe': 1... |     1     |\n",
       "| {'and': 2, 'quilt': 1, 'it... | {'bed perfectly': 1, 'this... |     1     |\n",
       "| {'ingenious': 1, 'and': 3,... | {'binky she': 1, 'proud of... |     1     |\n",
       "| {'and': 2, 'parents!!': 1,... | {'book and': 1, 'headaches... |     1     |\n",
       "| {'and': 2, 'cute': 1, 'hel... | {'about how': 1, 'this boo... |     1     |\n",
       "| {'shop': 1, 'be': 1, 'is':... | {'designated spaces': 1, '... |     1     |\n",
       "| {'feeding,': 1, 'and': 2, ... | {'feeding sleep': 1, 'we h... |     1     |\n",
       "| {'and': 1, 'help': 1, 'giv... | {'i decided': 1, 'product ... |     1     |\n",
       "| {'journal.': 1, 'all': 1, ... | {'with my': 1, 'recommend ... |     1     |\n",
       "| {'all': 1, 'forget': 1, 'j... | {'complaint is': 1, 's hot... |     1     |\n",
       "+-------------------------------+-------------------------------+-----------+\n",
       "[10 rows x 6 columns]"
      ]
     },
     "execution_count": 22,
     "metadata": {},
     "output_type": "execute_result"
    }
   ],
   "source": [
    "products.head()"
   ]
  },
  {
   "cell_type": "markdown",
   "metadata": {},
   "source": [
    "##Let's train the sentiment classifier"
   ]
  },
  {
   "cell_type": "code",
   "execution_count": 23,
   "metadata": {
    "collapsed": true
   },
   "outputs": [],
   "source": [
    "train_data,test_data = products.random_split(.8, seed=0)"
   ]
  },
  {
   "cell_type": "code",
   "execution_count": 24,
   "metadata": {
    "collapsed": false
   },
   "outputs": [
    {
     "name": "stdout",
     "output_type": "stream",
     "text": [
      "PROGRESS: Logistic regression:\n",
      "PROGRESS: --------------------------------------------------------\n",
      "PROGRESS: Number of examples          : 133448\n",
      "PROGRESS: Number of classes           : 2\n",
      "PROGRESS: Number of feature columns   : 1\n",
      "PROGRESS: Number of unpacked features : 219217\n",
      "PROGRESS: Number of coefficients    : 219218\n",
      "PROGRESS: Starting L-BFGS\n",
      "PROGRESS: --------------------------------------------------------\n",
      "PROGRESS: +-----------+----------+-----------+--------------+-------------------+---------------------+\n",
      "PROGRESS: | Iteration | Passes   | Step size | Elapsed Time | Training-accuracy | Validation-accuracy |\n",
      "PROGRESS: +-----------+----------+-----------+--------------+-------------------+---------------------+\n",
      "PROGRESS: | 1         | 5        | 0.000002  | 2.867171     | 0.841481          | 0.839989            |\n",
      "PROGRESS: | 2         | 9        | 3.000000  | 4.685621     | 0.947425          | 0.894877            |\n",
      "PROGRESS: | 3         | 10       | 3.000000  | 5.393818     | 0.923768          | 0.866232            |\n",
      "PROGRESS: | 4         | 11       | 3.000000  | 6.111581     | 0.971779          | 0.912743            |\n",
      "PROGRESS: | 5         | 12       | 3.000000  | 6.838733     | 0.975511          | 0.908900            |\n",
      "PROGRESS: | 6         | 13       | 3.000000  | 7.559297     | 0.899991          | 0.825967            |\n",
      "PROGRESS: | 10        | 18       | 1.000000  | 10.659836    | 0.988715          | 0.916256            |\n",
      "PROGRESS: +-----------+----------+-----------+--------------+-------------------+---------------------+\n"
     ]
    }
   ],
   "source": [
    "sentiment_model = graphlab.logistic_classifier.create(train_data,\n",
    "                                                     target='sentiment',\n",
    "                                                     features=['word_count'],\n",
    "                                                     validation_set=test_data)"
   ]
  },
  {
   "cell_type": "markdown",
   "metadata": {},
   "source": [
    "#Evaluate the sentiment model"
   ]
  },
  {
   "cell_type": "code",
   "execution_count": 25,
   "metadata": {
    "collapsed": false
   },
   "outputs": [
    {
     "data": {
      "text/plain": [
       "{'roc_curve': Columns:\n",
       " \tthreshold\tfloat\n",
       " \tfpr\tfloat\n",
       " \ttpr\tfloat\n",
       " \tp\tint\n",
       " \tn\tint\n",
       " \n",
       " Rows: 1001\n",
       " \n",
       " Data:\n",
       " +------------------+----------------+------------------+-------+------+\n",
       " |    threshold     |      fpr       |       tpr        |   p   |  n   |\n",
       " +------------------+----------------+------------------+-------+------+\n",
       " |       0.0        | 0.223118784012 | 0.00392408675799 | 28032 | 5329 |\n",
       " | 0.0010000000475  | 0.776881215988 |  0.996075913242  | 28032 | 5329 |\n",
       " | 0.00200000009499 | 0.736911240383 |  0.995041381279  | 28032 | 5329 |\n",
       " | 0.00300000002608 |  0.7142052918  |  0.994434931507  | 28032 | 5329 |\n",
       " | 0.00400000018999 | 0.698630136986 |  0.993971175799  | 28032 | 5329 |\n",
       " | 0.00499999988824 | 0.687370988929 |  0.993614440639  | 28032 | 5329 |\n",
       " | 0.00600000005215 | 0.677613060612 |   0.9930793379   | 28032 | 5329 |\n",
       " | 0.00700000021607 | 0.667104522424 |  0.99272260274   | 28032 | 5329 |\n",
       " | 0.00800000037998 | 0.656783636705 |  0.992472888128  | 28032 | 5329 |\n",
       " | 0.00899999961257 | 0.649652842935 |  0.992116152968  | 28032 | 5329 |\n",
       " +------------------+----------------+------------------+-------+------+\n",
       " [1001 rows x 5 columns]\n",
       " Note: Only the head of the SFrame is printed.\n",
       " You can use print_rows(num_rows=m, num_columns=n) to print more rows and columns.}"
      ]
     },
     "execution_count": 25,
     "metadata": {},
     "output_type": "execute_result"
    }
   ],
   "source": [
    "sentiment_model.evaluate(test_data, metric='roc_curve')"
   ]
  },
  {
   "cell_type": "code",
   "execution_count": 26,
   "metadata": {
    "collapsed": false
   },
   "outputs": [
    {
     "data": {
      "application/javascript": [
       "$(\"head\").append($(\"<link/>\").attr({\n",
       "  rel:  \"stylesheet\",\n",
       "  type: \"text/css\",\n",
       "  href: \"//cdnjs.cloudflare.com/ajax/libs/font-awesome/4.1.0/css/font-awesome.min.css\"\n",
       "}));\n",
       "$(\"head\").append($(\"<link/>\").attr({\n",
       "  rel:  \"stylesheet\",\n",
       "  type: \"text/css\",\n",
       "  href: \"//dato.com/files/canvas/1.6.1/css/canvas.css\"\n",
       "}));\n",
       "\n",
       "            (function(){\n",
       "\n",
       "                var e = null;\n",
       "                if (typeof element == 'undefined') {\n",
       "                    var scripts = document.getElementsByTagName('script');\n",
       "                    var thisScriptTag = scripts[scripts.length-1];\n",
       "                    var parentDiv = thisScriptTag.parentNode;\n",
       "                    e = document.createElement('div');\n",
       "                    parentDiv.appendChild(e);\n",
       "                } else {\n",
       "                    e = element[0];\n",
       "                }\n",
       "\n",
       "                if (typeof requirejs !== 'undefined') {\n",
       "                    // disable load timeout; ipython_app.js is large and can take a while to load.\n",
       "                    requirejs.config({waitSeconds: 0});\n",
       "                }\n",
       "\n",
       "                require(['//dato.com/files/canvas/1.6.1/js/ipython_app.js'], function(IPythonApp){\n",
       "                    var app = new IPythonApp();\n",
       "                    app.attachView('model','Evaluation', {\"comparison\": null, \"selected_variable\": {\"comparison\": null, \"name\": [\"sentiment_model\"], \"view_file\": \"model\", \"view_component\": \"Evaluation\", \"view_params\": {\"model_type\": \"regression\", \"view\": \"Evaluation\"}, \"view_components\": [\"Summary\", \"Evaluation\", \"Comparison\"], \"model_type\": \"regression\", \"attributes\": {\"section_titles\": [\"Schema\", \"Hyperparameters\", \"Training Summary\", \"Settings\", \"Highest Positive Coefficients\", \"Lowest Negative Coefficients\"], \"sections\": [[[\"Number of coefficients\", 219218], [\"Number of examples\", 133448], [\"Number of classes\", 2], [\"Number of feature columns\", 1], [\"Number of unpacked features\", 219217]], [[\"L1 penalty\", 0.0], [\"L2 penalty\", 0.01]], [[\"Solver\", \"auto\"], [\"Solver iterations\", 10], [\"Solver status\", \"TERMINATED: Iteration limit reached.\"], [\"Training time (sec)\", 10.942]], [[\"Log-likelihood\", 4956.6901]], [[\"word_count[pinkjeep]\", 13.5701], [\"word_count[(http://www.amazon.com/review/rhgg6qp7tdnhb/ref=cm_cr_pr_cmt?ie=utf8&asin;=b00318cla0&nodeid;)]\", 12.3088], [\"word_count[label/box.]\", 11.1774], [\"word_count[product.***]\", 11.064], [\"word_count[direct-pumping]\", 11.0531]], [[\"word_count[it.update:after]\", -18.3631], [\"word_count[5months.]\", -16.0906], [\"word_count[oldest.if]\", -15.9315], [\"word_count[maxima.]\", -15.8084], [\"word_count[(160.00)]\", -15.4512]]]}, \"evaluations\": [[\"test_data\", {\"roc_curve\": [{\"threshold\": 0.0, \"p\": 28032, \"fpr\": 0.22311878401200977, \"tpr\": 0.003924086757990867, \"n\": 5329}, {\"threshold\": 0.0010000000474974513, \"p\": 28032, \"fpr\": 0.7768812159879902, \"tpr\": 0.9960759132420092, \"n\": 5329}, {\"threshold\": 0.0020000000949949026, \"p\": 28032, \"fpr\": 0.7369112403828111, \"tpr\": 0.9950413812785388, \"n\": 5329}, {\"threshold\": 0.003000000026077032, \"p\": 28032, \"fpr\": 0.7142052917995871, \"tpr\": 0.9944349315068494, \"n\": 5329}, {\"threshold\": 0.004000000189989805, \"p\": 28032, \"fpr\": 0.6986301369863014, \"tpr\": 0.9939711757990868, \"n\": 5329}, {\"threshold\": 0.004999999888241291, \"p\": 28032, \"fpr\": 0.6873709889285045, \"tpr\": 0.9936144406392694, \"n\": 5329}, {\"threshold\": 0.006000000052154064, \"p\": 28032, \"fpr\": 0.6776130606117471, \"tpr\": 0.9930793378995434, \"n\": 5329}, {\"threshold\": 0.007000000216066837, \"p\": 28032, \"fpr\": 0.6671045224244699, \"tpr\": 0.992722602739726, \"n\": 5329}, {\"threshold\": 0.00800000037997961, \"p\": 28032, \"fpr\": 0.6567836367048226, \"tpr\": 0.9924728881278538, \"n\": 5329}, {\"threshold\": 0.008999999612569809, \"p\": 28032, \"fpr\": 0.6496528429348846, \"tpr\": 0.9921161529680366, \"n\": 5329}, {\"threshold\": 0.009999999776482582, \"p\": 28032, \"fpr\": 0.6410208294239069, \"tpr\": 0.9917594178082192, \"n\": 5329}, {\"threshold\": 0.010999999940395355, \"p\": 28032, \"fpr\": 0.6342653405892288, \"tpr\": 0.99136700913242, \"n\": 5329}, {\"threshold\": 0.012000000104308128, \"p\": 28032, \"fpr\": 0.6288234190279602, \"tpr\": 0.9910459474885844, \"n\": 5329}, {\"threshold\": 0.013000000268220901, \"p\": 28032, \"fpr\": 0.622067930193282, \"tpr\": 0.9907962328767124, \"n\": 5329}, {\"threshold\": 0.014000000432133675, \"p\": 28032, \"fpr\": 0.6171889660349034, \"tpr\": 0.9905465182648402, \"n\": 5329}, {\"threshold\": 0.014999999664723873, \"p\": 28032, \"fpr\": 0.6104334772002252, \"tpr\": 0.9902611301369864, \"n\": 5329}, {\"threshold\": 0.01600000075995922, \"p\": 28032, \"fpr\": 0.6057421655094765, \"tpr\": 0.989904394977169, \"n\": 5329}, {\"threshold\": 0.017000000923871994, \"p\": 28032, \"fpr\": 0.6019891161568774, \"tpr\": 0.989619006849315, \"n\": 5329}, {\"threshold\": 0.017999999225139618, \"p\": 28032, \"fpr\": 0.5971101519984988, \"tpr\": 0.9894763127853882, \"n\": 5329}, {\"threshold\": 0.01899999938905239, \"p\": 28032, \"fpr\": 0.5922311878401201, \"tpr\": 0.9893336187214612, \"n\": 5329}, {\"threshold\": 0.019999999552965164, \"p\": 28032, \"fpr\": 0.5877275286170013, \"tpr\": 0.9891195776255708, \"n\": 5329}, {\"threshold\": 0.020999999716877937, \"p\": 28032, \"fpr\": 0.5839744792644024, \"tpr\": 0.9890125570776256, \"n\": 5329}, {\"threshold\": 0.02199999988079071, \"p\": 28032, \"fpr\": 0.5811596922499531, \"tpr\": 0.9887628424657534, \"n\": 5329}, {\"threshold\": 0.023000000044703484, \"p\": 28032, \"fpr\": 0.5790955151060236, \"tpr\": 0.9886201484018264, \"n\": 5329}, {\"threshold\": 0.024000000208616257, \"p\": 28032, \"fpr\": 0.5747795083505348, \"tpr\": 0.9884774543378996, \"n\": 5329}, {\"threshold\": 0.02500000037252903, \"p\": 28032, \"fpr\": 0.5715894164008257, \"tpr\": 0.9882990867579908, \"n\": 5329}, {\"threshold\": 0.026000000536441803, \"p\": 28032, \"fpr\": 0.5680240195158567, \"tpr\": 0.9881920662100456, \"n\": 5329}, {\"threshold\": 0.027000000700354576, \"p\": 28032, \"fpr\": 0.5648339275661475, \"tpr\": 0.9879423515981736, \"n\": 5329}, {\"threshold\": 0.02800000086426735, \"p\": 28032, \"fpr\": 0.5620191405516982, \"tpr\": 0.9876926369863014, \"n\": 5329}, {\"threshold\": 0.028999999165534973, \"p\": 28032, \"fpr\": 0.5584537436667292, \"tpr\": 0.9875499429223744, \"n\": 5329}, {\"threshold\": 0.029999999329447746, \"p\": 28032, \"fpr\": 0.5545130418465003, \"tpr\": 0.9873002283105022, \"n\": 5329}, {\"threshold\": 0.03099999949336052, \"p\": 28032, \"fpr\": 0.5530118221054607, \"tpr\": 0.987193207762557, \"n\": 5329}, {\"threshold\": 0.03200000151991844, \"p\": 28032, \"fpr\": 0.5492587727528617, \"tpr\": 0.986943493150685, \"n\": 5329}, {\"threshold\": 0.032999999821186066, \"p\": 28032, \"fpr\": 0.5453180709326327, \"tpr\": 0.9867294520547946, \"n\": 5329}, {\"threshold\": 0.03400000184774399, \"p\": 28032, \"fpr\": 0.5434415462563332, \"tpr\": 0.9866224315068494, \"n\": 5329}, {\"threshold\": 0.03500000014901161, \"p\": 28032, \"fpr\": 0.5415650215800337, \"tpr\": 0.9865867579908676, \"n\": 5329}, {\"threshold\": 0.035999998450279236, \"p\": 28032, \"fpr\": 0.5395008444361044, \"tpr\": 0.9864797374429224, \"n\": 5329}, {\"threshold\": 0.03700000047683716, \"p\": 28032, \"fpr\": 0.537061362356915, \"tpr\": 0.986408390410959, \"n\": 5329}, {\"threshold\": 0.03799999877810478, \"p\": 28032, \"fpr\": 0.5338712704072058, \"tpr\": 0.9860159817351598, \"n\": 5329}, {\"threshold\": 0.039000000804662704, \"p\": 28032, \"fpr\": 0.5327453556014261, \"tpr\": 0.9858019406392694, \"n\": 5329}, {\"threshold\": 0.03999999910593033, \"p\": 28032, \"fpr\": 0.5314317883280165, \"tpr\": 0.9856949200913242, \"n\": 5329}, {\"threshold\": 0.04100000113248825, \"p\": 28032, \"fpr\": 0.5291799587164571, \"tpr\": 0.9856235730593608, \"n\": 5329}, {\"threshold\": 0.041999999433755875, \"p\": 28032, \"fpr\": 0.5261775192343779, \"tpr\": 0.985445205479452, \"n\": 5329}, {\"threshold\": 0.0430000014603138, \"p\": 28032, \"fpr\": 0.5250516044285982, \"tpr\": 0.9852311643835616, \"n\": 5329}, {\"threshold\": 0.04399999976158142, \"p\": 28032, \"fpr\": 0.5226121223494089, \"tpr\": 0.9851241438356164, \"n\": 5329}, {\"threshold\": 0.04500000178813934, \"p\": 28032, \"fpr\": 0.5214862075436292, \"tpr\": 0.9849814497716894, \"n\": 5329}, {\"threshold\": 0.04600000008940697, \"p\": 28032, \"fpr\": 0.5186714205291799, \"tpr\": 0.9849457762557078, \"n\": 5329}, {\"threshold\": 0.04699999839067459, \"p\": 28032, \"fpr\": 0.5167948958528805, \"tpr\": 0.9847317351598174, \"n\": 5329}, {\"threshold\": 0.04800000041723251, \"p\": 28032, \"fpr\": 0.5145430662413211, \"tpr\": 0.984517694063927, \"n\": 5329}, {\"threshold\": 0.04899999871850014, \"p\": 28032, \"fpr\": 0.5134171514355413, \"tpr\": 0.984375, \"n\": 5329}, {\"threshold\": 0.05000000074505806, \"p\": 28032, \"fpr\": 0.5115406267592418, \"tpr\": 0.984232305936073, \"n\": 5329}, {\"threshold\": 0.050999999046325684, \"p\": 28032, \"fpr\": 0.5083505348095327, \"tpr\": 0.9840182648401826, \"n\": 5329}, {\"threshold\": 0.052000001072883606, \"p\": 28032, \"fpr\": 0.5057234002627135, \"tpr\": 0.9838755707762558, \"n\": 5329}, {\"threshold\": 0.05299999937415123, \"p\": 28032, \"fpr\": 0.5040345280540439, \"tpr\": 0.9838042237442922, \"n\": 5329}, {\"threshold\": 0.05400000140070915, \"p\": 28032, \"fpr\": 0.5019703509101144, \"tpr\": 0.9836258561643836, \"n\": 5329}, {\"threshold\": 0.054999999701976776, \"p\": 28032, \"fpr\": 0.5008444361043348, \"tpr\": 0.98355450913242, \"n\": 5329}, {\"threshold\": 0.0560000017285347, \"p\": 28032, \"fpr\": 0.49840495402514545, \"tpr\": 0.9835188356164384, \"n\": 5329}, {\"threshold\": 0.05700000002980232, \"p\": 28032, \"fpr\": 0.496340776881216, \"tpr\": 0.983304794520548, \"n\": 5329}, {\"threshold\": 0.057999998331069946, \"p\": 28032, \"fpr\": 0.4940889472696566, \"tpr\": 0.983162100456621, \"n\": 5329}, {\"threshold\": 0.05900000035762787, \"p\": 28032, \"fpr\": 0.4929630324638769, \"tpr\": 0.983019406392694, \"n\": 5329}, {\"threshold\": 0.05999999865889549, \"p\": 28032, \"fpr\": 0.49052355038468753, \"tpr\": 0.9829123858447488, \"n\": 5329}, {\"threshold\": 0.061000000685453415, \"p\": 28032, \"fpr\": 0.4884593732407581, \"tpr\": 0.9827340182648402, \"n\": 5329}, {\"threshold\": 0.06199999898672104, \"p\": 28032, \"fpr\": 0.4865828485644586, \"tpr\": 0.9826983447488584, \"n\": 5329}, {\"threshold\": 0.06300000101327896, \"p\": 28032, \"fpr\": 0.48526928129104896, \"tpr\": 0.982626997716895, \"n\": 5329}, {\"threshold\": 0.06400000303983688, \"p\": 28032, \"fpr\": 0.4841433664852693, \"tpr\": 0.982484303652968, \"n\": 5329}, {\"threshold\": 0.06499999761581421, \"p\": 28032, \"fpr\": 0.48282979921185964, \"tpr\": 0.9824486301369864, \"n\": 5329}, {\"threshold\": 0.06599999964237213, \"p\": 28032, \"fpr\": 0.4822668418089698, \"tpr\": 0.9824486301369864, \"n\": 5329}, {\"threshold\": 0.06700000166893005, \"p\": 28032, \"fpr\": 0.48151623193845, \"tpr\": 0.9823772831050228, \"n\": 5329}, {\"threshold\": 0.06800000369548798, \"p\": 28032, \"fpr\": 0.4803903171326703, \"tpr\": 0.9821989155251142, \"n\": 5329}, {\"threshold\": 0.0689999982714653, \"p\": 28032, \"fpr\": 0.4792644023268906, \"tpr\": 0.9821632420091324, \"n\": 5329}, {\"threshold\": 0.07000000029802322, \"p\": 28032, \"fpr\": 0.4785137924563708, \"tpr\": 0.982091894977169, \"n\": 5329}, {\"threshold\": 0.07100000232458115, \"p\": 28032, \"fpr\": 0.4772002251829612, \"tpr\": 0.9820562214611872, \"n\": 5329}, {\"threshold\": 0.07199999690055847, \"p\": 28032, \"fpr\": 0.47588665790955154, \"tpr\": 0.9820205479452054, \"n\": 5329}, {\"threshold\": 0.0729999989271164, \"p\": 28032, \"fpr\": 0.47401013323325203, \"tpr\": 0.9819848744292238, \"n\": 5329}, {\"threshold\": 0.07400000095367432, \"p\": 28032, \"fpr\": 0.4725089134922124, \"tpr\": 0.9818778538812786, \"n\": 5329}, {\"threshold\": 0.07500000298023224, \"p\": 28032, \"fpr\": 0.4706323888159129, \"tpr\": 0.9817708333333334, \"n\": 5329}, {\"threshold\": 0.07599999755620956, \"p\": 28032, \"fpr\": 0.4696941264777632, \"tpr\": 0.9815924657534246, \"n\": 5329}, {\"threshold\": 0.07699999958276749, \"p\": 28032, \"fpr\": 0.46838055920435356, \"tpr\": 0.981556792237443, \"n\": 5329}, {\"threshold\": 0.07800000160932541, \"p\": 28032, \"fpr\": 0.4674422968662038, \"tpr\": 0.981271404109589, \"n\": 5329}, {\"threshold\": 0.07900000363588333, \"p\": 28032, \"fpr\": 0.46650403452805406, \"tpr\": 0.981271404109589, \"n\": 5329}, {\"threshold\": 0.07999999821186066, \"p\": 28032, \"fpr\": 0.4655657721899043, \"tpr\": 0.9811643835616438, \"n\": 5329}, {\"threshold\": 0.08100000023841858, \"p\": 28032, \"fpr\": 0.4648151623193845, \"tpr\": 0.9811287100456622, \"n\": 5329}, {\"threshold\": 0.0820000022649765, \"p\": 28032, \"fpr\": 0.4633139425783449, \"tpr\": 0.9810930365296804, \"n\": 5329}, {\"threshold\": 0.08299999684095383, \"p\": 28032, \"fpr\": 0.4618127228373053, \"tpr\": 0.98087899543379, \"n\": 5329}, {\"threshold\": 0.08399999886751175, \"p\": 28032, \"fpr\": 0.46049915556389565, \"tpr\": 0.9808076484018264, \"n\": 5329}, {\"threshold\": 0.08500000089406967, \"p\": 28032, \"fpr\": 0.4584349784199662, \"tpr\": 0.9808076484018264, \"n\": 5329}, {\"threshold\": 0.0860000029206276, \"p\": 28032, \"fpr\": 0.45749671608181647, \"tpr\": 0.9807719748858448, \"n\": 5329}, {\"threshold\": 0.08699999749660492, \"p\": 28032, \"fpr\": 0.4559954963407769, \"tpr\": 0.9807006278538812, \"n\": 5329}, {\"threshold\": 0.08799999952316284, \"p\": 28032, \"fpr\": 0.4544942765997373, \"tpr\": 0.9804865867579908, \"n\": 5329}, {\"threshold\": 0.08900000154972076, \"p\": 28032, \"fpr\": 0.4539313191968474, \"tpr\": 0.9803082191780822, \"n\": 5329}, {\"threshold\": 0.09000000357627869, \"p\": 28032, \"fpr\": 0.45318070932632765, \"tpr\": 0.9801655251141552, \"n\": 5329}, {\"threshold\": 0.09099999815225601, \"p\": 28032, \"fpr\": 0.4522424469881779, \"tpr\": 0.9801298515981736, \"n\": 5329}, {\"threshold\": 0.09200000017881393, \"p\": 28032, \"fpr\": 0.4511165321823982, \"tpr\": 0.9801298515981736, \"n\": 5329}, {\"threshold\": 0.09300000220537186, \"p\": 28032, \"fpr\": 0.4498029649089886, \"tpr\": 0.9799871575342466, \"n\": 5329}, {\"threshold\": 0.09399999678134918, \"p\": 28032, \"fpr\": 0.44905235503846874, \"tpr\": 0.9798801369863014, \"n\": 5329}, {\"threshold\": 0.0949999988079071, \"p\": 28032, \"fpr\": 0.448114092700319, \"tpr\": 0.9797731164383562, \"n\": 5329}, {\"threshold\": 0.09600000083446503, \"p\": 28032, \"fpr\": 0.44717583036216924, \"tpr\": 0.9796304223744292, \"n\": 5329}, {\"threshold\": 0.09700000286102295, \"p\": 28032, \"fpr\": 0.44642522049164945, \"tpr\": 0.9795947488584474, \"n\": 5329}, {\"threshold\": 0.09799999743700027, \"p\": 28032, \"fpr\": 0.4456746106211297, \"tpr\": 0.979380707762557, \"n\": 5329}, {\"threshold\": 0.0989999994635582, \"p\": 28032, \"fpr\": 0.4447363482829799, \"tpr\": 0.9791666666666666, \"n\": 5329}, {\"threshold\": 0.10000000149011612, \"p\": 28032, \"fpr\": 0.44379808594483017, \"tpr\": 0.9790953196347032, \"n\": 5329}, {\"threshold\": 0.10100000351667404, \"p\": 28032, \"fpr\": 0.44192156126853066, \"tpr\": 0.9790239726027398, \"n\": 5329}, {\"threshold\": 0.10199999809265137, \"p\": 28032, \"fpr\": 0.4404203415274911, \"tpr\": 0.9789169520547946, \"n\": 5329}, {\"threshold\": 0.10300000011920929, \"p\": 28032, \"fpr\": 0.43966973165697126, \"tpr\": 0.9788812785388128, \"n\": 5329}, {\"threshold\": 0.10400000214576721, \"p\": 28032, \"fpr\": 0.4385438168511916, \"tpr\": 0.9787029109589042, \"n\": 5329}, {\"threshold\": 0.10499999672174454, \"p\": 28032, \"fpr\": 0.4381685119159317, \"tpr\": 0.9785245433789954, \"n\": 5329}, {\"threshold\": 0.10599999874830246, \"p\": 28032, \"fpr\": 0.43647963970726217, \"tpr\": 0.9783818493150684, \"n\": 5329}, {\"threshold\": 0.10700000077486038, \"p\": 28032, \"fpr\": 0.43535372490148244, \"tpr\": 0.9783461757990868, \"n\": 5329}, {\"threshold\": 0.1080000028014183, \"p\": 28032, \"fpr\": 0.43479076749859263, \"tpr\": 0.9782748287671232, \"n\": 5329}, {\"threshold\": 0.10899999737739563, \"p\": 28032, \"fpr\": 0.4336648526928129, \"tpr\": 0.9780964611872146, \"n\": 5329}, {\"threshold\": 0.10999999940395355, \"p\": 28032, \"fpr\": 0.4329142428222931, \"tpr\": 0.9779894406392694, \"n\": 5329}, {\"threshold\": 0.11100000143051147, \"p\": 28032, \"fpr\": 0.4314130230812535, \"tpr\": 0.9779894406392694, \"n\": 5329}, {\"threshold\": 0.1120000034570694, \"p\": 28032, \"fpr\": 0.43085006567836365, \"tpr\": 0.9778467465753424, \"n\": 5329}, {\"threshold\": 0.11299999803304672, \"p\": 28032, \"fpr\": 0.43009945580784387, \"tpr\": 0.9777040525114156, \"n\": 5329}, {\"threshold\": 0.11400000005960464, \"p\": 28032, \"fpr\": 0.4293488459373241, \"tpr\": 0.9776683789954338, \"n\": 5329}, {\"threshold\": 0.11500000208616257, \"p\": 28032, \"fpr\": 0.42784762619628447, \"tpr\": 0.9775613584474886, \"n\": 5329}, {\"threshold\": 0.11599999666213989, \"p\": 28032, \"fpr\": 0.4269093638581347, \"tpr\": 0.9775256849315068, \"n\": 5329}, {\"threshold\": 0.11699999868869781, \"p\": 28032, \"fpr\": 0.4263464064552449, \"tpr\": 0.9774186643835616, \"n\": 5329}, {\"threshold\": 0.11800000071525574, \"p\": 28032, \"fpr\": 0.42615875398761494, \"tpr\": 0.9773473173515982, \"n\": 5329}, {\"threshold\": 0.11900000274181366, \"p\": 28032, \"fpr\": 0.42540814411709515, \"tpr\": 0.9773116438356164, \"n\": 5329}, {\"threshold\": 0.11999999731779099, \"p\": 28032, \"fpr\": 0.4246575342465753, \"tpr\": 0.9772046232876712, \"n\": 5329}, {\"threshold\": 0.12099999934434891, \"p\": 28032, \"fpr\": 0.42428222931131543, \"tpr\": 0.9769192351598174, \"n\": 5329}, {\"threshold\": 0.12200000137090683, \"p\": 28032, \"fpr\": 0.42428222931131543, \"tpr\": 0.9768122146118722, \"n\": 5329}, {\"threshold\": 0.12300000339746475, \"p\": 28032, \"fpr\": 0.4240945768436855, \"tpr\": 0.9767408675799086, \"n\": 5329}, {\"threshold\": 0.12399999797344208, \"p\": 28032, \"fpr\": 0.4229686620379058, \"tpr\": 0.9766338470319634, \"n\": 5329}, {\"threshold\": 0.125, \"p\": 28032, \"fpr\": 0.422405704635016, \"tpr\": 0.9765981735159818, \"n\": 5329}, {\"threshold\": 0.12600000202655792, \"p\": 28032, \"fpr\": 0.4214674422968662, \"tpr\": 0.9765625, \"n\": 5329}, {\"threshold\": 0.12700000405311584, \"p\": 28032, \"fpr\": 0.4207168324263464, \"tpr\": 0.9763841324200914, \"n\": 5329}, {\"threshold\": 0.12800000607967377, \"p\": 28032, \"fpr\": 0.4199662225558266, \"tpr\": 0.9763484589041096, \"n\": 5329}, {\"threshold\": 0.1289999932050705, \"p\": 28032, \"fpr\": 0.41940326515293674, \"tpr\": 0.976170091324201, \"n\": 5329}, {\"threshold\": 0.12999999523162842, \"p\": 28032, \"fpr\": 0.4182773503471571, \"tpr\": 0.9759560502283106, \"n\": 5329}, {\"threshold\": 0.13099999725818634, \"p\": 28032, \"fpr\": 0.4177143929442672, \"tpr\": 0.9759203767123288, \"n\": 5329}, {\"threshold\": 0.13199999928474426, \"p\": 28032, \"fpr\": 0.41621317320322765, \"tpr\": 0.9758133561643836, \"n\": 5329}, {\"threshold\": 0.13300000131130219, \"p\": 28032, \"fpr\": 0.4156502158003378, \"tpr\": 0.97574200913242, \"n\": 5329}, {\"threshold\": 0.1340000033378601, \"p\": 28032, \"fpr\": 0.41452430099455806, \"tpr\": 0.9755993150684932, \"n\": 5329}, {\"threshold\": 0.13500000536441803, \"p\": 28032, \"fpr\": 0.4128354287858885, \"tpr\": 0.975492294520548, \"n\": 5329}, {\"threshold\": 0.13600000739097595, \"p\": 28032, \"fpr\": 0.41208481891536874, \"tpr\": 0.975492294520548, \"n\": 5329}, {\"threshold\": 0.13699999451637268, \"p\": 28032, \"fpr\": 0.410958904109589, \"tpr\": 0.9752425799086758, \"n\": 5329}, {\"threshold\": 0.1379999965429306, \"p\": 28032, \"fpr\": 0.4103959467066992, \"tpr\": 0.975206906392694, \"n\": 5329}, {\"threshold\": 0.13899999856948853, \"p\": 28032, \"fpr\": 0.40945768436854946, \"tpr\": 0.9751712328767124, \"n\": 5329}, {\"threshold\": 0.14000000059604645, \"p\": 28032, \"fpr\": 0.4092700319009195, \"tpr\": 0.9751355593607306, \"n\": 5329}, {\"threshold\": 0.14100000262260437, \"p\": 28032, \"fpr\": 0.40908237943328957, \"tpr\": 0.9750998858447488, \"n\": 5329}, {\"threshold\": 0.1420000046491623, \"p\": 28032, \"fpr\": 0.40833176956276973, \"tpr\": 0.9750642123287672, \"n\": 5329}, {\"threshold\": 0.14300000667572021, \"p\": 28032, \"fpr\": 0.40739350722462, \"tpr\": 0.9750285388127854, \"n\": 5329}, {\"threshold\": 0.14399999380111694, \"p\": 28032, \"fpr\": 0.4070182022893601, \"tpr\": 0.9750285388127854, \"n\": 5329}, {\"threshold\": 0.14499999582767487, \"p\": 28032, \"fpr\": 0.40532933008069055, \"tpr\": 0.9749928652968036, \"n\": 5329}, {\"threshold\": 0.1459999978542328, \"p\": 28032, \"fpr\": 0.4045787202101708, \"tpr\": 0.9749215182648402, \"n\": 5329}, {\"threshold\": 0.1469999998807907, \"p\": 28032, \"fpr\": 0.40345280540439105, \"tpr\": 0.9748501712328768, \"n\": 5329}, {\"threshold\": 0.14800000190734863, \"p\": 28032, \"fpr\": 0.40326515293676113, \"tpr\": 0.9747431506849316, \"n\": 5329}, {\"threshold\": 0.14900000393390656, \"p\": 28032, \"fpr\": 0.40270219553387127, \"tpr\": 0.9747074771689498, \"n\": 5329}, {\"threshold\": 0.15000000596046448, \"p\": 28032, \"fpr\": 0.4021392381309814, \"tpr\": 0.974671803652968, \"n\": 5329}, {\"threshold\": 0.1509999930858612, \"p\": 28032, \"fpr\": 0.40101332332520173, \"tpr\": 0.9746361301369864, \"n\": 5329}, {\"threshold\": 0.15199999511241913, \"p\": 28032, \"fpr\": 0.40101332332520173, \"tpr\": 0.9745647831050228, \"n\": 5329}, {\"threshold\": 0.15299999713897705, \"p\": 28032, \"fpr\": 0.40045036592231187, \"tpr\": 0.9744220890410958, \"n\": 5329}, {\"threshold\": 0.15399999916553497, \"p\": 28032, \"fpr\": 0.3993244511165322, \"tpr\": 0.9743507420091324, \"n\": 5329}, {\"threshold\": 0.1550000011920929, \"p\": 28032, \"fpr\": 0.3989491461812723, \"tpr\": 0.9742080479452054, \"n\": 5329}, {\"threshold\": 0.15600000321865082, \"p\": 28032, \"fpr\": 0.39838618877838244, \"tpr\": 0.974136700913242, \"n\": 5329}, {\"threshold\": 0.15700000524520874, \"p\": 28032, \"fpr\": 0.39819853631075247, \"tpr\": 0.9740296803652968, \"n\": 5329}, {\"threshold\": 0.15800000727176666, \"p\": 28032, \"fpr\": 0.3974479264402327, \"tpr\": 0.9739583333333334, \"n\": 5329}, {\"threshold\": 0.1589999943971634, \"p\": 28032, \"fpr\": 0.3972602739726027, \"tpr\": 0.9739226598173516, \"n\": 5329}, {\"threshold\": 0.1599999964237213, \"p\": 28032, \"fpr\": 0.3966973165697129, \"tpr\": 0.9739226598173516, \"n\": 5329}, {\"threshold\": 0.16099999845027924, \"p\": 28032, \"fpr\": 0.3959467066991931, \"tpr\": 0.9738513127853882, \"n\": 5329}, {\"threshold\": 0.16200000047683716, \"p\": 28032, \"fpr\": 0.39538374929630327, \"tpr\": 0.9737799657534246, \"n\": 5329}, {\"threshold\": 0.16300000250339508, \"p\": 28032, \"fpr\": 0.3950084443610433, \"tpr\": 0.9737086187214612, \"n\": 5329}, {\"threshold\": 0.164000004529953, \"p\": 28032, \"fpr\": 0.3940701820228936, \"tpr\": 0.9736372716894978, \"n\": 5329}, {\"threshold\": 0.16500000655651093, \"p\": 28032, \"fpr\": 0.3933195721523738, \"tpr\": 0.9735302511415526, \"n\": 5329}, {\"threshold\": 0.16599999368190765, \"p\": 28032, \"fpr\": 0.3929442672171139, \"tpr\": 0.973458904109589, \"n\": 5329}, {\"threshold\": 0.16699999570846558, \"p\": 28032, \"fpr\": 0.392568962281854, \"tpr\": 0.9733162100456622, \"n\": 5329}, {\"threshold\": 0.1679999977350235, \"p\": 28032, \"fpr\": 0.3921936573465941, \"tpr\": 0.9732448630136986, \"n\": 5329}, {\"threshold\": 0.16899999976158142, \"p\": 28032, \"fpr\": 0.39163069994370425, \"tpr\": 0.9731021689497716, \"n\": 5329}, {\"threshold\": 0.17000000178813934, \"p\": 28032, \"fpr\": 0.3903171326702946, \"tpr\": 0.9729951484018264, \"n\": 5329}, {\"threshold\": 0.17100000381469727, \"p\": 28032, \"fpr\": 0.38919121786451494, \"tpr\": 0.9729951484018264, \"n\": 5329}, {\"threshold\": 0.1720000058412552, \"p\": 28032, \"fpr\": 0.388815912929255, \"tpr\": 0.972923801369863, \"n\": 5329}, {\"threshold\": 0.17299999296665192, \"p\": 28032, \"fpr\": 0.3878776505911053, \"tpr\": 0.9728881278538812, \"n\": 5329}, {\"threshold\": 0.17399999499320984, \"p\": 28032, \"fpr\": 0.3876899981234753, \"tpr\": 0.9728167808219178, \"n\": 5329}, {\"threshold\": 0.17499999701976776, \"p\": 28032, \"fpr\": 0.38750234565584535, \"tpr\": 0.9726740867579908, \"n\": 5329}, {\"threshold\": 0.17599999904632568, \"p\": 28032, \"fpr\": 0.38675173578532557, \"tpr\": 0.9726384132420092, \"n\": 5329}, {\"threshold\": 0.1770000010728836, \"p\": 28032, \"fpr\": 0.385250516044286, \"tpr\": 0.9725670662100456, \"n\": 5329}, {\"threshold\": 0.17800000309944153, \"p\": 28032, \"fpr\": 0.38449990617376617, \"tpr\": 0.9724600456621004, \"n\": 5329}, {\"threshold\": 0.17900000512599945, \"p\": 28032, \"fpr\": 0.3841246012385063, \"tpr\": 0.972388698630137, \"n\": 5329}, {\"threshold\": 0.18000000715255737, \"p\": 28032, \"fpr\": 0.3831863389003565, \"tpr\": 0.9722816780821918, \"n\": 5329}, {\"threshold\": 0.1809999942779541, \"p\": 28032, \"fpr\": 0.3826233814974667, \"tpr\": 0.9722103310502284, \"n\": 5329}, {\"threshold\": 0.18199999630451202, \"p\": 28032, \"fpr\": 0.3818727716269469, \"tpr\": 0.9719606164383562, \"n\": 5329}, {\"threshold\": 0.18299999833106995, \"p\": 28032, \"fpr\": 0.3811221617564271, \"tpr\": 0.9718179223744292, \"n\": 5329}, {\"threshold\": 0.18400000035762787, \"p\": 28032, \"fpr\": 0.3807468568211672, \"tpr\": 0.9716395547945206, \"n\": 5329}, {\"threshold\": 0.1850000023841858, \"p\": 28032, \"fpr\": 0.38018389941827735, \"tpr\": 0.9716038812785388, \"n\": 5329}, {\"threshold\": 0.1860000044107437, \"p\": 28032, \"fpr\": 0.3792456370801276, \"tpr\": 0.9716038812785388, \"n\": 5329}, {\"threshold\": 0.18700000643730164, \"p\": 28032, \"fpr\": 0.3781197222743479, \"tpr\": 0.9714611872146118, \"n\": 5329}, {\"threshold\": 0.18799999356269836, \"p\": 28032, \"fpr\": 0.3781197222743479, \"tpr\": 0.9714255136986302, \"n\": 5329}, {\"threshold\": 0.1889999955892563, \"p\": 28032, \"fpr\": 0.37774441733908803, \"tpr\": 0.9713541666666666, \"n\": 5329}, {\"threshold\": 0.1899999976158142, \"p\": 28032, \"fpr\": 0.3773691124038281, \"tpr\": 0.9712114726027398, \"n\": 5329}, {\"threshold\": 0.19099999964237213, \"p\": 28032, \"fpr\": 0.3768061550009383, \"tpr\": 0.9711401255707762, \"n\": 5329}, {\"threshold\": 0.19200000166893005, \"p\": 28032, \"fpr\": 0.3766185025333083, \"tpr\": 0.971033105022831, \"n\": 5329}, {\"threshold\": 0.19300000369548798, \"p\": 28032, \"fpr\": 0.37605554513041844, \"tpr\": 0.9709617579908676, \"n\": 5329}, {\"threshold\": 0.1940000057220459, \"p\": 28032, \"fpr\": 0.37568024019515855, \"tpr\": 0.9708904109589042, \"n\": 5329}, {\"threshold\": 0.19499999284744263, \"p\": 28032, \"fpr\": 0.37530493525989866, \"tpr\": 0.9708190639269406, \"n\": 5329}, {\"threshold\": 0.19599999487400055, \"p\": 28032, \"fpr\": 0.3749296303246388, \"tpr\": 0.9707477168949772, \"n\": 5329}, {\"threshold\": 0.19699999690055847, \"p\": 28032, \"fpr\": 0.3747419778570088, \"tpr\": 0.9707120433789954, \"n\": 5329}, {\"threshold\": 0.1979999989271164, \"p\": 28032, \"fpr\": 0.3745543253893789, \"tpr\": 0.9706763698630136, \"n\": 5329}, {\"threshold\": 0.19900000095367432, \"p\": 28032, \"fpr\": 0.374179020454119, \"tpr\": 0.9705693493150684, \"n\": 5329}, {\"threshold\": 0.20000000298023224, \"p\": 28032, \"fpr\": 0.37342841058359916, \"tpr\": 0.9705336757990868, \"n\": 5329}, {\"threshold\": 0.20100000500679016, \"p\": 28032, \"fpr\": 0.37286545318070935, \"tpr\": 0.970498002283105, \"n\": 5329}, {\"threshold\": 0.20200000703334808, \"p\": 28032, \"fpr\": 0.3724901482454494, \"tpr\": 0.9704266552511416, \"n\": 5329}, {\"threshold\": 0.2029999941587448, \"p\": 28032, \"fpr\": 0.3724901482454494, \"tpr\": 0.9703909817351598, \"n\": 5329}, {\"threshold\": 0.20399999618530273, \"p\": 28032, \"fpr\": 0.3719271908425596, \"tpr\": 0.9702482876712328, \"n\": 5329}, {\"threshold\": 0.20499999821186066, \"p\": 28032, \"fpr\": 0.37080127603677987, \"tpr\": 0.970105593607306, \"n\": 5329}, {\"threshold\": 0.20600000023841858, \"p\": 28032, \"fpr\": 0.3698630136986301, \"tpr\": 0.9700342465753424, \"n\": 5329}, {\"threshold\": 0.2070000022649765, \"p\": 28032, \"fpr\": 0.3694877087633702, \"tpr\": 0.9700342465753424, \"n\": 5329}, {\"threshold\": 0.20800000429153442, \"p\": 28032, \"fpr\": 0.36911240382811034, \"tpr\": 0.9699272260273972, \"n\": 5329}, {\"threshold\": 0.20900000631809235, \"p\": 28032, \"fpr\": 0.3681741414899606, \"tpr\": 0.9698558789954338, \"n\": 5329}, {\"threshold\": 0.20999999344348907, \"p\": 28032, \"fpr\": 0.36686057421655094, \"tpr\": 0.9697488584474886, \"n\": 5329}, {\"threshold\": 0.210999995470047, \"p\": 28032, \"fpr\": 0.36648526928129105, \"tpr\": 0.9696418378995434, \"n\": 5329}, {\"threshold\": 0.21199999749660492, \"p\": 28032, \"fpr\": 0.3662976168136611, \"tpr\": 0.969427796803653, \"n\": 5329}, {\"threshold\": 0.21299999952316284, \"p\": 28032, \"fpr\": 0.36573465941077127, \"tpr\": 0.9693921232876712, \"n\": 5329}, {\"threshold\": 0.21400000154972076, \"p\": 28032, \"fpr\": 0.3653593544755114, \"tpr\": 0.969285102739726, \"n\": 5329}, {\"threshold\": 0.2150000035762787, \"p\": 28032, \"fpr\": 0.3647963970726215, \"tpr\": 0.9692494292237442, \"n\": 5329}, {\"threshold\": 0.2160000056028366, \"p\": 28032, \"fpr\": 0.36385813473447176, \"tpr\": 0.969142408675799, \"n\": 5329}, {\"threshold\": 0.21699999272823334, \"p\": 28032, \"fpr\": 0.36348282979921187, \"tpr\": 0.9691067351598174, \"n\": 5329}, {\"threshold\": 0.21799999475479126, \"p\": 28032, \"fpr\": 0.36235691499343214, \"tpr\": 0.9691067351598174, \"n\": 5329}, {\"threshold\": 0.21899999678134918, \"p\": 28032, \"fpr\": 0.36160630512291236, \"tpr\": 0.9690353881278538, \"n\": 5329}, {\"threshold\": 0.2199999988079071, \"p\": 28032, \"fpr\": 0.3606680427847626, \"tpr\": 0.9689640410958904, \"n\": 5329}, {\"threshold\": 0.22100000083446503, \"p\": 28032, \"fpr\": 0.36010508538187275, \"tpr\": 0.9688570205479452, \"n\": 5329}, {\"threshold\": 0.22200000286102295, \"p\": 28032, \"fpr\": 0.35991743291424283, \"tpr\": 0.9688570205479452, \"n\": 5329}, {\"threshold\": 0.22300000488758087, \"p\": 28032, \"fpr\": 0.35954212797898294, \"tpr\": 0.9686429794520548, \"n\": 5329}, {\"threshold\": 0.2240000069141388, \"p\": 28032, \"fpr\": 0.3586038656408332, \"tpr\": 0.9685359589041096, \"n\": 5329}, {\"threshold\": 0.22499999403953552, \"p\": 28032, \"fpr\": 0.3578532557703134, \"tpr\": 0.9685002853881278, \"n\": 5329}, {\"threshold\": 0.22599999606609344, \"p\": 28032, \"fpr\": 0.35729029836742354, \"tpr\": 0.9683932648401826, \"n\": 5329}, {\"threshold\": 0.22699999809265137, \"p\": 28032, \"fpr\": 0.35710264589979357, \"tpr\": 0.9681792237442922, \"n\": 5329}, {\"threshold\": 0.2280000001192093, \"p\": 28032, \"fpr\": 0.35653968849690376, \"tpr\": 0.9681078767123288, \"n\": 5329}, {\"threshold\": 0.2290000021457672, \"p\": 28032, \"fpr\": 0.3557890786263839, \"tpr\": 0.968072203196347, \"n\": 5329}, {\"threshold\": 0.23000000417232513, \"p\": 28032, \"fpr\": 0.35541377369112404, \"tpr\": 0.9680365296803652, \"n\": 5329}, {\"threshold\": 0.23100000619888306, \"p\": 28032, \"fpr\": 0.35466316382060425, \"tpr\": 0.96792950913242, \"n\": 5329}, {\"threshold\": 0.23199999332427979, \"p\": 28032, \"fpr\": 0.3537249014824545, \"tpr\": 0.9678581621004566, \"n\": 5329}, {\"threshold\": 0.2329999953508377, \"p\": 28032, \"fpr\": 0.3533495965471946, \"tpr\": 0.9677868150684932, \"n\": 5329}, {\"threshold\": 0.23399999737739563, \"p\": 28032, \"fpr\": 0.3529742916119347, \"tpr\": 0.9677511415525114, \"n\": 5329}, {\"threshold\": 0.23499999940395355, \"p\": 28032, \"fpr\": 0.35278663914430475, \"tpr\": 0.9677511415525114, \"n\": 5329}, {\"threshold\": 0.23600000143051147, \"p\": 28032, \"fpr\": 0.351848376806155, \"tpr\": 0.9677154680365296, \"n\": 5329}, {\"threshold\": 0.2370000034570694, \"p\": 28032, \"fpr\": 0.3514730718708951, \"tpr\": 0.967679794520548, \"n\": 5329}, {\"threshold\": 0.23800000548362732, \"p\": 28032, \"fpr\": 0.35053480953274535, \"tpr\": 0.9676084474885844, \"n\": 5329}, {\"threshold\": 0.23899999260902405, \"p\": 28032, \"fpr\": 0.3499718521298555, \"tpr\": 0.9675727739726028, \"n\": 5329}, {\"threshold\": 0.23999999463558197, \"p\": 28032, \"fpr\": 0.34978419966222557, \"tpr\": 0.9672873858447488, \"n\": 5329}, {\"threshold\": 0.2409999966621399, \"p\": 28032, \"fpr\": 0.34903358979170573, \"tpr\": 0.9671803652968036, \"n\": 5329}, {\"threshold\": 0.24199999868869781, \"p\": 28032, \"fpr\": 0.3488459373240758, \"tpr\": 0.9671090182648402, \"n\": 5329}, {\"threshold\": 0.24300000071525574, \"p\": 28032, \"fpr\": 0.3484706323888159, \"tpr\": 0.967001997716895, \"n\": 5329}, {\"threshold\": 0.24400000274181366, \"p\": 28032, \"fpr\": 0.34809532745355604, \"tpr\": 0.9669306506849316, \"n\": 5329}, {\"threshold\": 0.24500000476837158, \"p\": 28032, \"fpr\": 0.3471570651154063, \"tpr\": 0.9668236301369864, \"n\": 5329}, {\"threshold\": 0.2460000067949295, \"p\": 28032, \"fpr\": 0.34640645524488645, \"tpr\": 0.9667522831050228, \"n\": 5329}, {\"threshold\": 0.24699999392032623, \"p\": 28032, \"fpr\": 0.34640645524488645, \"tpr\": 0.9666809360730594, \"n\": 5329}, {\"threshold\": 0.24799999594688416, \"p\": 28032, \"fpr\": 0.34603115030962656, \"tpr\": 0.9666452625570776, \"n\": 5329}, {\"threshold\": 0.24899999797344208, \"p\": 28032, \"fpr\": 0.34565584537436667, \"tpr\": 0.9665382420091324, \"n\": 5329}, {\"threshold\": 0.25, \"p\": 28032, \"fpr\": 0.3452805404391068, \"tpr\": 0.966466894977169, \"n\": 5329}, {\"threshold\": 0.25099998712539673, \"p\": 28032, \"fpr\": 0.3449052355038469, \"tpr\": 0.9664312214611872, \"n\": 5329}, {\"threshold\": 0.25200000405311584, \"p\": 28032, \"fpr\": 0.3447175830362169, \"tpr\": 0.966324200913242, \"n\": 5329}, {\"threshold\": 0.2529999911785126, \"p\": 28032, \"fpr\": 0.344342278100957, \"tpr\": 0.9662528538812786, \"n\": 5329}, {\"threshold\": 0.2540000081062317, \"p\": 28032, \"fpr\": 0.34396697316569713, \"tpr\": 0.9662171803652968, \"n\": 5329}, {\"threshold\": 0.2549999952316284, \"p\": 28032, \"fpr\": 0.34359166823043724, \"tpr\": 0.966181506849315, \"n\": 5329}, {\"threshold\": 0.25600001215934753, \"p\": 28032, \"fpr\": 0.3428410583599174, \"tpr\": 0.9661101598173516, \"n\": 5329}, {\"threshold\": 0.25699999928474426, \"p\": 28032, \"fpr\": 0.3424657534246575, \"tpr\": 0.9660744863013698, \"n\": 5329}, {\"threshold\": 0.257999986410141, \"p\": 28032, \"fpr\": 0.3422781009570276, \"tpr\": 0.9660031392694064, \"n\": 5329}, {\"threshold\": 0.2590000033378601, \"p\": 28032, \"fpr\": 0.34115218615124787, \"tpr\": 0.9659674657534246, \"n\": 5329}, {\"threshold\": 0.25999999046325684, \"p\": 28032, \"fpr\": 0.34096453368361795, \"tpr\": 0.9658961187214612, \"n\": 5329}, {\"threshold\": 0.26100000739097595, \"p\": 28032, \"fpr\": 0.34096453368361795, \"tpr\": 0.9658247716894978, \"n\": 5329}, {\"threshold\": 0.2619999945163727, \"p\": 28032, \"fpr\": 0.34058922874835806, \"tpr\": 0.9658247716894978, \"n\": 5329}, {\"threshold\": 0.2630000114440918, \"p\": 28032, \"fpr\": 0.3400262713454682, \"tpr\": 0.9657177511415526, \"n\": 5329}, {\"threshold\": 0.2639999985694885, \"p\": 28032, \"fpr\": 0.3396509664102083, \"tpr\": 0.965646404109589, \"n\": 5329}, {\"threshold\": 0.26499998569488525, \"p\": 28032, \"fpr\": 0.33908800900731845, \"tpr\": 0.9656107305936074, \"n\": 5329}, {\"threshold\": 0.26600000262260437, \"p\": 28032, \"fpr\": 0.3389003565396885, \"tpr\": 0.9654680365296804, \"n\": 5329}, {\"threshold\": 0.2669999897480011, \"p\": 28032, \"fpr\": 0.3379620942015388, \"tpr\": 0.9654323630136986, \"n\": 5329}, {\"threshold\": 0.2680000066757202, \"p\": 28032, \"fpr\": 0.33758678926627883, \"tpr\": 0.9653253424657534, \"n\": 5329}, {\"threshold\": 0.26899999380111694, \"p\": 28032, \"fpr\": 0.33721148433101894, \"tpr\": 0.96525399543379, \"n\": 5329}, {\"threshold\": 0.27000001072883606, \"p\": 28032, \"fpr\": 0.337023831863389, \"tpr\": 0.96525399543379, \"n\": 5329}, {\"threshold\": 0.2709999978542328, \"p\": 28032, \"fpr\": 0.33683617939575905, \"tpr\": 0.965111301369863, \"n\": 5329}, {\"threshold\": 0.2720000147819519, \"p\": 28032, \"fpr\": 0.3358979170576093, \"tpr\": 0.965111301369863, \"n\": 5329}, {\"threshold\": 0.27300000190734863, \"p\": 28032, \"fpr\": 0.33533495965471943, \"tpr\": 0.9650399543378996, \"n\": 5329}, {\"threshold\": 0.27399998903274536, \"p\": 28032, \"fpr\": 0.3347720022518296, \"tpr\": 0.964968607305936, \"n\": 5329}, {\"threshold\": 0.2750000059604645, \"p\": 28032, \"fpr\": 0.33420904484893976, \"tpr\": 0.9648615867579908, \"n\": 5329}, {\"threshold\": 0.2759999930858612, \"p\": 28032, \"fpr\": 0.33383373991367987, \"tpr\": 0.9648259132420092, \"n\": 5329}, {\"threshold\": 0.2770000100135803, \"p\": 28032, \"fpr\": 0.33345843497842, \"tpr\": 0.9648259132420092, \"n\": 5329}, {\"threshold\": 0.27799999713897705, \"p\": 28032, \"fpr\": 0.3330831300431601, \"tpr\": 0.9647902397260274, \"n\": 5329}, {\"threshold\": 0.27900001406669617, \"p\": 28032, \"fpr\": 0.33252017264027023, \"tpr\": 0.9647545662100456, \"n\": 5329}, {\"threshold\": 0.2800000011920929, \"p\": 28032, \"fpr\": 0.33233252017264026, \"tpr\": 0.9647545662100456, \"n\": 5329}, {\"threshold\": 0.2809999883174896, \"p\": 28032, \"fpr\": 0.33195721523738037, \"tpr\": 0.9646475456621004, \"n\": 5329}, {\"threshold\": 0.28200000524520874, \"p\": 28032, \"fpr\": 0.33195721523738037, \"tpr\": 0.9646118721461188, \"n\": 5329}, {\"threshold\": 0.28299999237060547, \"p\": 28032, \"fpr\": 0.3310189528992306, \"tpr\": 0.9645048515981736, \"n\": 5329}, {\"threshold\": 0.2840000092983246, \"p\": 28032, \"fpr\": 0.3306436479639707, \"tpr\": 0.9643978310502284, \"n\": 5329}, {\"threshold\": 0.2849999964237213, \"p\": 28032, \"fpr\": 0.33008069056108086, \"tpr\": 0.9642908105022832, \"n\": 5329}, {\"threshold\": 0.28600001335144043, \"p\": 28032, \"fpr\": 0.32989303809345094, \"tpr\": 0.9642551369863014, \"n\": 5329}, {\"threshold\": 0.28700000047683716, \"p\": 28032, \"fpr\": 0.3293300806905611, \"tpr\": 0.9641124429223744, \"n\": 5329}, {\"threshold\": 0.2879999876022339, \"p\": 28032, \"fpr\": 0.3287671232876712, \"tpr\": 0.9640054223744292, \"n\": 5329}, {\"threshold\": 0.289000004529953, \"p\": 28032, \"fpr\": 0.3283918183524113, \"tpr\": 0.963898401826484, \"n\": 5329}, {\"threshold\": 0.28999999165534973, \"p\": 28032, \"fpr\": 0.32801651341715143, \"tpr\": 0.963755707762557, \"n\": 5329}, {\"threshold\": 0.29100000858306885, \"p\": 28032, \"fpr\": 0.32745355601426157, \"tpr\": 0.9636843607305936, \"n\": 5329}, {\"threshold\": 0.2919999957084656, \"p\": 28032, \"fpr\": 0.3270782510790017, \"tpr\": 0.9635773401826484, \"n\": 5329}, {\"threshold\": 0.2930000126361847, \"p\": 28032, \"fpr\": 0.3265152936761118, \"tpr\": 0.963505993150685, \"n\": 5329}, {\"threshold\": 0.2939999997615814, \"p\": 28032, \"fpr\": 0.3265152936761118, \"tpr\": 0.963363299086758, \"n\": 5329}, {\"threshold\": 0.29499998688697815, \"p\": 28032, \"fpr\": 0.3263276412084819, \"tpr\": 0.9632562785388128, \"n\": 5329}, {\"threshold\": 0.29600000381469727, \"p\": 28032, \"fpr\": 0.32576468380559204, \"tpr\": 0.963220605022831, \"n\": 5329}, {\"threshold\": 0.296999990940094, \"p\": 28032, \"fpr\": 0.32501407393507226, \"tpr\": 0.9631492579908676, \"n\": 5329}, {\"threshold\": 0.2980000078678131, \"p\": 28032, \"fpr\": 0.3248264214674423, \"tpr\": 0.9630422374429224, \"n\": 5329}, {\"threshold\": 0.29899999499320984, \"p\": 28032, \"fpr\": 0.3242634640645525, \"tpr\": 0.9630065639269406, \"n\": 5329}, {\"threshold\": 0.30000001192092896, \"p\": 28032, \"fpr\": 0.3240758115969225, \"tpr\": 0.962828196347032, \"n\": 5329}, {\"threshold\": 0.3009999990463257, \"p\": 28032, \"fpr\": 0.3233252017264027, \"tpr\": 0.9627925228310502, \"n\": 5329}, {\"threshold\": 0.3019999861717224, \"p\": 28032, \"fpr\": 0.32313754925877275, \"tpr\": 0.962685502283105, \"n\": 5329}, {\"threshold\": 0.30300000309944153, \"p\": 28032, \"fpr\": 0.3225745918558829, \"tpr\": 0.962685502283105, \"n\": 5329}, {\"threshold\": 0.30399999022483826, \"p\": 28032, \"fpr\": 0.3220116344529931, \"tpr\": 0.9626141552511416, \"n\": 5329}, {\"threshold\": 0.3050000071525574, \"p\": 28032, \"fpr\": 0.3214486770501032, \"tpr\": 0.962542808219178, \"n\": 5329}, {\"threshold\": 0.3059999942779541, \"p\": 28032, \"fpr\": 0.32088571964721335, \"tpr\": 0.9624357876712328, \"n\": 5329}, {\"threshold\": 0.3070000112056732, \"p\": 28032, \"fpr\": 0.32088571964721335, \"tpr\": 0.9623644406392694, \"n\": 5329}, {\"threshold\": 0.30799999833106995, \"p\": 28032, \"fpr\": 0.32051041471195346, \"tpr\": 0.9623644406392694, \"n\": 5329}, {\"threshold\": 0.3089999854564667, \"p\": 28032, \"fpr\": 0.3195721523738037, \"tpr\": 0.9623644406392694, \"n\": 5329}, {\"threshold\": 0.3100000023841858, \"p\": 28032, \"fpr\": 0.3193844999061738, \"tpr\": 0.9621860730593608, \"n\": 5329}, {\"threshold\": 0.3109999895095825, \"p\": 28032, \"fpr\": 0.31863389003565395, \"tpr\": 0.962150399543379, \"n\": 5329}, {\"threshold\": 0.31200000643730164, \"p\": 28032, \"fpr\": 0.31844623756802404, \"tpr\": 0.962007705479452, \"n\": 5329}, {\"threshold\": 0.31299999356269836, \"p\": 28032, \"fpr\": 0.31807093263276415, \"tpr\": 0.9619006849315068, \"n\": 5329}, {\"threshold\": 0.3140000104904175, \"p\": 28032, \"fpr\": 0.3175079752298743, \"tpr\": 0.9619006849315068, \"n\": 5329}, {\"threshold\": 0.3149999976158142, \"p\": 28032, \"fpr\": 0.31638206042409456, \"tpr\": 0.9618650114155252, \"n\": 5329}, {\"threshold\": 0.3160000145435333, \"p\": 28032, \"fpr\": 0.31600675548883467, \"tpr\": 0.9617223173515982, \"n\": 5329}, {\"threshold\": 0.31700000166893005, \"p\": 28032, \"fpr\": 0.3152561456183149, \"tpr\": 0.9615439497716894, \"n\": 5329}, {\"threshold\": 0.3179999887943268, \"p\": 28032, \"fpr\": 0.3150684931506849, \"tpr\": 0.961472602739726, \"n\": 5329}, {\"threshold\": 0.3190000057220459, \"p\": 28032, \"fpr\": 0.314693188215425, \"tpr\": 0.9613655821917808, \"n\": 5329}, {\"threshold\": 0.3199999928474426, \"p\": 28032, \"fpr\": 0.3145055357477951, \"tpr\": 0.9612942351598174, \"n\": 5329}, {\"threshold\": 0.32100000977516174, \"p\": 28032, \"fpr\": 0.31431788328016513, \"tpr\": 0.9612228881278538, \"n\": 5329}, {\"threshold\": 0.32199999690055847, \"p\": 28032, \"fpr\": 0.31394257834490524, \"tpr\": 0.9610088470319634, \"n\": 5329}, {\"threshold\": 0.3230000138282776, \"p\": 28032, \"fpr\": 0.31375492587727527, \"tpr\": 0.9610088470319634, \"n\": 5329}, {\"threshold\": 0.3240000009536743, \"p\": 28032, \"fpr\": 0.31356727340964535, \"tpr\": 0.9609018264840182, \"n\": 5329}, {\"threshold\": 0.32499998807907104, \"p\": 28032, \"fpr\": 0.31319196847438546, \"tpr\": 0.9608304794520548, \"n\": 5329}, {\"threshold\": 0.32600000500679016, \"p\": 28032, \"fpr\": 0.3128166635391255, \"tpr\": 0.9607234589041096, \"n\": 5329}, {\"threshold\": 0.3269999921321869, \"p\": 28032, \"fpr\": 0.3124413586038656, \"tpr\": 0.9606877853881278, \"n\": 5329}, {\"threshold\": 0.328000009059906, \"p\": 28032, \"fpr\": 0.31131544379808596, \"tpr\": 0.9606521118721462, \"n\": 5329}, {\"threshold\": 0.32899999618530273, \"p\": 28032, \"fpr\": 0.3105648339275662, \"tpr\": 0.9606164383561644, \"n\": 5329}, {\"threshold\": 0.33000001311302185, \"p\": 28032, \"fpr\": 0.30981422405704634, \"tpr\": 0.9605807648401826, \"n\": 5329}, {\"threshold\": 0.3310000002384186, \"p\": 28032, \"fpr\": 0.30943891912178645, \"tpr\": 0.960545091324201, \"n\": 5329}, {\"threshold\": 0.3319999873638153, \"p\": 28032, \"fpr\": 0.3092512666541565, \"tpr\": 0.9604380707762558, \"n\": 5329}, {\"threshold\": 0.3330000042915344, \"p\": 28032, \"fpr\": 0.30906361418652656, \"tpr\": 0.9603667237442922, \"n\": 5329}, {\"threshold\": 0.33399999141693115, \"p\": 28032, \"fpr\": 0.3081253518483768, \"tpr\": 0.9603667237442922, \"n\": 5329}, {\"threshold\": 0.33500000834465027, \"p\": 28032, \"fpr\": 0.3077500469131169, \"tpr\": 0.9603310502283106, \"n\": 5329}, {\"threshold\": 0.335999995470047, \"p\": 28032, \"fpr\": 0.307374741977857, \"tpr\": 0.9602953767123288, \"n\": 5329}, {\"threshold\": 0.3370000123977661, \"p\": 28032, \"fpr\": 0.30699943704259713, \"tpr\": 0.9601526826484018, \"n\": 5329}, {\"threshold\": 0.33799999952316284, \"p\": 28032, \"fpr\": 0.3066241321073372, \"tpr\": 0.9600456621004566, \"n\": 5329}, {\"threshold\": 0.33899998664855957, \"p\": 28032, \"fpr\": 0.3062488271720773, \"tpr\": 0.9600099885844748, \"n\": 5329}, {\"threshold\": 0.3400000035762787, \"p\": 28032, \"fpr\": 0.30531056483392754, \"tpr\": 0.959867294520548, \"n\": 5329}, {\"threshold\": 0.3409999907016754, \"p\": 28032, \"fpr\": 0.3051229123662976, \"tpr\": 0.9597959474885844, \"n\": 5329}, {\"threshold\": 0.34200000762939453, \"p\": 28032, \"fpr\": 0.30437230249577785, \"tpr\": 0.9596889269406392, \"n\": 5329}, {\"threshold\": 0.34299999475479126, \"p\": 28032, \"fpr\": 0.30437230249577785, \"tpr\": 0.959581906392694, \"n\": 5329}, {\"threshold\": 0.3440000116825104, \"p\": 28032, \"fpr\": 0.3041846500281479, \"tpr\": 0.9593678652968036, \"n\": 5329}, {\"threshold\": 0.3449999988079071, \"p\": 28032, \"fpr\": 0.303621692625258, \"tpr\": 0.9592608447488584, \"n\": 5329}, {\"threshold\": 0.34599998593330383, \"p\": 28032, \"fpr\": 0.3034340401576281, \"tpr\": 0.9592251712328768, \"n\": 5329}, {\"threshold\": 0.34700000286102295, \"p\": 28032, \"fpr\": 0.30268343028710826, \"tpr\": 0.9590824771689498, \"n\": 5329}, {\"threshold\": 0.3479999899864197, \"p\": 28032, \"fpr\": 0.30249577781947834, \"tpr\": 0.959046803652968, \"n\": 5329}, {\"threshold\": 0.3490000069141388, \"p\": 28032, \"fpr\": 0.30230812535184837, \"tpr\": 0.9589754566210046, \"n\": 5329}, {\"threshold\": 0.3499999940395355, \"p\": 28032, \"fpr\": 0.30230812535184837, \"tpr\": 0.958904109589041, \"n\": 5329}, {\"threshold\": 0.35100001096725464, \"p\": 28032, \"fpr\": 0.3013698630136986, \"tpr\": 0.9588327625570776, \"n\": 5329}, {\"threshold\": 0.35199999809265137, \"p\": 28032, \"fpr\": 0.3011822105460687, \"tpr\": 0.9587970890410958, \"n\": 5329}, {\"threshold\": 0.3529999852180481, \"p\": 28032, \"fpr\": 0.30061925314317883, \"tpr\": 0.958654394977169, \"n\": 5329}, {\"threshold\": 0.3540000021457672, \"p\": 28032, \"fpr\": 0.30043160067554886, \"tpr\": 0.9585830479452054, \"n\": 5329}, {\"threshold\": 0.35499998927116394, \"p\": 28032, \"fpr\": 0.30043160067554886, \"tpr\": 0.9584403538812786, \"n\": 5329}, {\"threshold\": 0.35600000619888306, \"p\": 28032, \"fpr\": 0.30024394820791894, \"tpr\": 0.9584403538812786, \"n\": 5329}, {\"threshold\": 0.3569999933242798, \"p\": 28032, \"fpr\": 0.2996809908050291, \"tpr\": 0.9583333333333334, \"n\": 5329}, {\"threshold\": 0.3580000102519989, \"p\": 28032, \"fpr\": 0.29949333833739916, \"tpr\": 0.9582619863013698, \"n\": 5329}, {\"threshold\": 0.35899999737739563, \"p\": 28032, \"fpr\": 0.29949333833739916, \"tpr\": 0.9581549657534246, \"n\": 5329}, {\"threshold\": 0.36000001430511475, \"p\": 28032, \"fpr\": 0.2987427284668793, \"tpr\": 0.9580836187214612, \"n\": 5329}, {\"threshold\": 0.3610000014305115, \"p\": 28032, \"fpr\": 0.2985550759992494, \"tpr\": 0.957976598173516, \"n\": 5329}, {\"threshold\": 0.3619999885559082, \"p\": 28032, \"fpr\": 0.29836742353161944, \"tpr\": 0.9579052511415526, \"n\": 5329}, {\"threshold\": 0.3630000054836273, \"p\": 28032, \"fpr\": 0.29799211859635955, \"tpr\": 0.9577982305936074, \"n\": 5329}, {\"threshold\": 0.36399999260902405, \"p\": 28032, \"fpr\": 0.29799211859635955, \"tpr\": 0.9577625570776256, \"n\": 5329}, {\"threshold\": 0.36500000953674316, \"p\": 28032, \"fpr\": 0.29761681366109966, \"tpr\": 0.9576912100456622, \"n\": 5329}, {\"threshold\": 0.3659999966621399, \"p\": 28032, \"fpr\": 0.29724150872583976, \"tpr\": 0.9576198630136986, \"n\": 5329}, {\"threshold\": 0.367000013589859, \"p\": 28032, \"fpr\": 0.2968662037905798, \"tpr\": 0.9575841894977168, \"n\": 5329}, {\"threshold\": 0.36800000071525574, \"p\": 28032, \"fpr\": 0.2968662037905798, \"tpr\": 0.9574058219178082, \"n\": 5329}, {\"threshold\": 0.36899998784065247, \"p\": 28032, \"fpr\": 0.2968662037905798, \"tpr\": 0.9572274543378996, \"n\": 5329}, {\"threshold\": 0.3700000047683716, \"p\": 28032, \"fpr\": 0.2966785513229499, \"tpr\": 0.9571917808219178, \"n\": 5329}, {\"threshold\": 0.3709999918937683, \"p\": 28032, \"fpr\": 0.2966785513229499, \"tpr\": 0.9570847602739726, \"n\": 5329}, {\"threshold\": 0.3720000088214874, \"p\": 28032, \"fpr\": 0.29649089885531993, \"tpr\": 0.9570134132420092, \"n\": 5329}, {\"threshold\": 0.37299999594688416, \"p\": 28032, \"fpr\": 0.2959279414524301, \"tpr\": 0.9570134132420092, \"n\": 5329}, {\"threshold\": 0.37400001287460327, \"p\": 28032, \"fpr\": 0.2955526365171702, \"tpr\": 0.9570134132420092, \"n\": 5329}, {\"threshold\": 0.375, \"p\": 28032, \"fpr\": 0.29536498404954026, \"tpr\": 0.956906392694064, \"n\": 5329}, {\"threshold\": 0.37599998712539673, \"p\": 28032, \"fpr\": 0.2948020266466504, \"tpr\": 0.956906392694064, \"n\": 5329}, {\"threshold\": 0.37700000405311584, \"p\": 28032, \"fpr\": 0.2946143741790205, \"tpr\": 0.9568350456621004, \"n\": 5329}, {\"threshold\": 0.3779999911785126, \"p\": 28032, \"fpr\": 0.29423906924376053, \"tpr\": 0.9565496575342466, \"n\": 5329}, {\"threshold\": 0.3790000081062317, \"p\": 28032, \"fpr\": 0.2936761118408707, \"tpr\": 0.9565139840182648, \"n\": 5329}, {\"threshold\": 0.3799999952316284, \"p\": 28032, \"fpr\": 0.29348845937324075, \"tpr\": 0.9563712899543378, \"n\": 5329}, {\"threshold\": 0.38100001215934753, \"p\": 28032, \"fpr\": 0.2929255019703509, \"tpr\": 0.9562999429223744, \"n\": 5329}, {\"threshold\": 0.38199999928474426, \"p\": 28032, \"fpr\": 0.2921748920998311, \"tpr\": 0.956228595890411, \"n\": 5329}, {\"threshold\": 0.382999986410141, \"p\": 28032, \"fpr\": 0.2919872396322012, \"tpr\": 0.9560502283105022, \"n\": 5329}, {\"threshold\": 0.3840000033378601, \"p\": 28032, \"fpr\": 0.2919872396322012, \"tpr\": 0.9559075342465754, \"n\": 5329}, {\"threshold\": 0.38499999046325684, \"p\": 28032, \"fpr\": 0.2919872396322012, \"tpr\": 0.9558361872146118, \"n\": 5329}, {\"threshold\": 0.38600000739097595, \"p\": 28032, \"fpr\": 0.29086132482642146, \"tpr\": 0.9558005136986302, \"n\": 5329}, {\"threshold\": 0.3869999945163727, \"p\": 28032, \"fpr\": 0.2904860198911616, \"tpr\": 0.9558005136986302, \"n\": 5329}, {\"threshold\": 0.3880000114440918, \"p\": 28032, \"fpr\": 0.2895477575530118, \"tpr\": 0.9556578196347032, \"n\": 5329}, {\"threshold\": 0.3889999985694885, \"p\": 28032, \"fpr\": 0.28879714768249204, \"tpr\": 0.9555864726027398, \"n\": 5329}, {\"threshold\": 0.38999998569488525, \"p\": 28032, \"fpr\": 0.28860949521486207, \"tpr\": 0.9555151255707762, \"n\": 5329}, {\"threshold\": 0.39100000262260437, \"p\": 28032, \"fpr\": 0.2880465378119722, \"tpr\": 0.9554437785388128, \"n\": 5329}, {\"threshold\": 0.3919999897480011, \"p\": 28032, \"fpr\": 0.2876712328767123, \"tpr\": 0.9553367579908676, \"n\": 5329}, {\"threshold\": 0.3930000066757202, \"p\": 28032, \"fpr\": 0.28692062300619253, \"tpr\": 0.9550870433789954, \"n\": 5329}, {\"threshold\": 0.39399999380111694, \"p\": 28032, \"fpr\": 0.28654531807093264, \"tpr\": 0.9550513698630136, \"n\": 5329}, {\"threshold\": 0.39500001072883606, \"p\": 28032, \"fpr\": 0.28635766560330267, \"tpr\": 0.9549086757990868, \"n\": 5329}, {\"threshold\": 0.3959999978542328, \"p\": 28032, \"fpr\": 0.2859823606680428, \"tpr\": 0.9548373287671232, \"n\": 5329}, {\"threshold\": 0.3970000147819519, \"p\": 28032, \"fpr\": 0.2854194032651529, \"tpr\": 0.9547659817351598, \"n\": 5329}, {\"threshold\": 0.39800000190734863, \"p\": 28032, \"fpr\": 0.285044098329893, \"tpr\": 0.9547659817351598, \"n\": 5329}, {\"threshold\": 0.39899998903274536, \"p\": 28032, \"fpr\": 0.285044098329893, \"tpr\": 0.9546946347031964, \"n\": 5329}, {\"threshold\": 0.4000000059604645, \"p\": 28032, \"fpr\": 0.2844811409270032, \"tpr\": 0.9545876141552512, \"n\": 5329}, {\"threshold\": 0.4009999930858612, \"p\": 28032, \"fpr\": 0.28354287858885346, \"tpr\": 0.954480593607306, \"n\": 5329}, {\"threshold\": 0.4020000100135803, \"p\": 28032, \"fpr\": 0.2829799211859636, \"tpr\": 0.954337899543379, \"n\": 5329}, {\"threshold\": 0.40299999713897705, \"p\": 28032, \"fpr\": 0.2826046162507037, \"tpr\": 0.9542308789954338, \"n\": 5329}, {\"threshold\": 0.40400001406669617, \"p\": 28032, \"fpr\": 0.2826046162507037, \"tpr\": 0.954195205479452, \"n\": 5329}, {\"threshold\": 0.4050000011920929, \"p\": 28032, \"fpr\": 0.2826046162507037, \"tpr\": 0.954195205479452, \"n\": 5329}, {\"threshold\": 0.4059999883174896, \"p\": 28032, \"fpr\": 0.28241696378307374, \"tpr\": 0.9541595319634704, \"n\": 5329}, {\"threshold\": 0.40700000524520874, \"p\": 28032, \"fpr\": 0.2822293113154438, \"tpr\": 0.9541595319634704, \"n\": 5329}, {\"threshold\": 0.40799999237060547, \"p\": 28032, \"fpr\": 0.28166635391255396, \"tpr\": 0.9540881849315068, \"n\": 5329}, {\"threshold\": 0.4090000092983246, \"p\": 28032, \"fpr\": 0.28129104897729407, \"tpr\": 0.9540168378995434, \"n\": 5329}, {\"threshold\": 0.4099999964237213, \"p\": 28032, \"fpr\": 0.2811033965096641, \"tpr\": 0.9540168378995434, \"n\": 5329}, {\"threshold\": 0.41100001335144043, \"p\": 28032, \"fpr\": 0.2809157440420342, \"tpr\": 0.9537671232876712, \"n\": 5329}, {\"threshold\": 0.41200000047683716, \"p\": 28032, \"fpr\": 0.2803527866391443, \"tpr\": 0.9537314497716894, \"n\": 5329}, {\"threshold\": 0.4129999876022339, \"p\": 28032, \"fpr\": 0.2799774817038844, \"tpr\": 0.9537314497716894, \"n\": 5329}, {\"threshold\": 0.414000004529953, \"p\": 28032, \"fpr\": 0.27941452430099456, \"tpr\": 0.953660102739726, \"n\": 5329}, {\"threshold\": 0.41499999165534973, \"p\": 28032, \"fpr\": 0.27941452430099456, \"tpr\": 0.9536244292237442, \"n\": 5329}, {\"threshold\": 0.41600000858306885, \"p\": 28032, \"fpr\": 0.27903921936573467, \"tpr\": 0.9535530821917808, \"n\": 5329}, {\"threshold\": 0.4169999957084656, \"p\": 28032, \"fpr\": 0.2784762619628448, \"tpr\": 0.953517408675799, \"n\": 5329}, {\"threshold\": 0.4180000126361847, \"p\": 28032, \"fpr\": 0.2784762619628448, \"tpr\": 0.9534103881278538, \"n\": 5329}, {\"threshold\": 0.4189999997615814, \"p\": 28032, \"fpr\": 0.2781009570275849, \"tpr\": 0.9533033675799086, \"n\": 5329}, {\"threshold\": 0.41999998688697815, \"p\": 28032, \"fpr\": 0.2781009570275849, \"tpr\": 0.953267694063927, \"n\": 5329}, {\"threshold\": 0.42100000381469727, \"p\": 28032, \"fpr\": 0.277725652092325, \"tpr\": 0.9531963470319634, \"n\": 5329}, {\"threshold\": 0.421999990940094, \"p\": 28032, \"fpr\": 0.27753799962469505, \"tpr\": 0.9530893264840182, \"n\": 5329}, {\"threshold\": 0.4230000078678131, \"p\": 28032, \"fpr\": 0.27735034715706514, \"tpr\": 0.952982305936073, \"n\": 5329}, {\"threshold\": 0.42399999499320984, \"p\": 28032, \"fpr\": 0.27735034715706514, \"tpr\": 0.9528752853881278, \"n\": 5329}, {\"threshold\": 0.42500001192092896, \"p\": 28032, \"fpr\": 0.27716269468943516, \"tpr\": 0.9528396118721462, \"n\": 5329}, {\"threshold\": 0.4259999990463257, \"p\": 28032, \"fpr\": 0.2765997372865453, \"tpr\": 0.9528396118721462, \"n\": 5329}, {\"threshold\": 0.4269999861717224, \"p\": 28032, \"fpr\": 0.2760367798836555, \"tpr\": 0.9528039383561644, \"n\": 5329}, {\"threshold\": 0.42800000309944153, \"p\": 28032, \"fpr\": 0.27509851754550574, \"tpr\": 0.9526255707762558, \"n\": 5329}, {\"threshold\": 0.42899999022483826, \"p\": 28032, \"fpr\": 0.2745355601426159, \"tpr\": 0.9524828767123288, \"n\": 5329}, {\"threshold\": 0.4300000071525574, \"p\": 28032, \"fpr\": 0.273972602739726, \"tpr\": 0.9524115296803652, \"n\": 5329}, {\"threshold\": 0.4309999942779541, \"p\": 28032, \"fpr\": 0.2735972978044661, \"tpr\": 0.9523401826484018, \"n\": 5329}, {\"threshold\": 0.4320000112056732, \"p\": 28032, \"fpr\": 0.27284668793394634, \"tpr\": 0.9522331621004566, \"n\": 5329}, {\"threshold\": 0.43299999833106995, \"p\": 28032, \"fpr\": 0.27247138299868645, \"tpr\": 0.9521618150684932, \"n\": 5329}, {\"threshold\": 0.4339999854564667, \"p\": 28032, \"fpr\": 0.2722837305310565, \"tpr\": 0.9521261415525114, \"n\": 5329}, {\"threshold\": 0.4350000023841858, \"p\": 28032, \"fpr\": 0.2719084255957966, \"tpr\": 0.9521261415525114, \"n\": 5329}, {\"threshold\": 0.4359999895095825, \"p\": 28032, \"fpr\": 0.2719084255957966, \"tpr\": 0.9520191210045662, \"n\": 5329}, {\"threshold\": 0.43700000643730164, \"p\": 28032, \"fpr\": 0.2715331206605367, \"tpr\": 0.9518764269406392, \"n\": 5329}, {\"threshold\": 0.43799999356269836, \"p\": 28032, \"fpr\": 0.27097016325764683, \"tpr\": 0.9518407534246576, \"n\": 5329}, {\"threshold\": 0.4390000104904175, \"p\": 28032, \"fpr\": 0.27097016325764683, \"tpr\": 0.9518050799086758, \"n\": 5329}, {\"threshold\": 0.4399999976158142, \"p\": 28032, \"fpr\": 0.27040720585475697, \"tpr\": 0.9516623858447488, \"n\": 5329}, {\"threshold\": 0.4410000145435333, \"p\": 28032, \"fpr\": 0.27040720585475697, \"tpr\": 0.9515553652968036, \"n\": 5329}, {\"threshold\": 0.44200000166893005, \"p\": 28032, \"fpr\": 0.27021955338712705, \"tpr\": 0.9514126712328768, \"n\": 5329}, {\"threshold\": 0.4429999887943268, \"p\": 28032, \"fpr\": 0.2700319009194971, \"tpr\": 0.951376997716895, \"n\": 5329}, {\"threshold\": 0.4440000057220459, \"p\": 28032, \"fpr\": 0.2690936385813473, \"tpr\": 0.951376997716895, \"n\": 5329}, {\"threshold\": 0.4449999928474426, \"p\": 28032, \"fpr\": 0.2685306811784575, \"tpr\": 0.9513413242009132, \"n\": 5329}, {\"threshold\": 0.44600000977516174, \"p\": 28032, \"fpr\": 0.26834302871082755, \"tpr\": 0.9511986301369864, \"n\": 5329}, {\"threshold\": 0.44699999690055847, \"p\": 28032, \"fpr\": 0.26796772377556766, \"tpr\": 0.9511629566210046, \"n\": 5329}, {\"threshold\": 0.4480000138282776, \"p\": 28032, \"fpr\": 0.2677800713079377, \"tpr\": 0.9509845890410958, \"n\": 5329}, {\"threshold\": 0.4490000009536743, \"p\": 28032, \"fpr\": 0.26759241884030777, \"tpr\": 0.950841894977169, \"n\": 5329}, {\"threshold\": 0.44999998807907104, \"p\": 28032, \"fpr\": 0.2670294614374179, \"tpr\": 0.9507705479452054, \"n\": 5329}, {\"threshold\": 0.45100000500679016, \"p\": 28032, \"fpr\": 0.2662788515668981, \"tpr\": 0.9506635273972602, \"n\": 5329}, {\"threshold\": 0.4519999921321869, \"p\": 28032, \"fpr\": 0.2662788515668981, \"tpr\": 0.9505208333333334, \"n\": 5329}, {\"threshold\": 0.453000009059906, \"p\": 28032, \"fpr\": 0.26571589416400826, \"tpr\": 0.9504851598173516, \"n\": 5329}, {\"threshold\": 0.45399999618530273, \"p\": 28032, \"fpr\": 0.2655282416963783, \"tpr\": 0.9504494863013698, \"n\": 5329}, {\"threshold\": 0.45500001311302185, \"p\": 28032, \"fpr\": 0.26534058922874837, \"tpr\": 0.9503781392694064, \"n\": 5329}, {\"threshold\": 0.4560000002384186, \"p\": 28032, \"fpr\": 0.2651529367611184, \"tpr\": 0.9502354452054794, \"n\": 5329}, {\"threshold\": 0.4569999873638153, \"p\": 28032, \"fpr\": 0.2649652842934885, \"tpr\": 0.9500570776255708, \"n\": 5329}, {\"threshold\": 0.4580000042915344, \"p\": 28032, \"fpr\": 0.2647776318258585, \"tpr\": 0.9498787100456622, \"n\": 5329}, {\"threshold\": 0.45899999141693115, \"p\": 28032, \"fpr\": 0.2647776318258585, \"tpr\": 0.9497716894977168, \"n\": 5329}, {\"threshold\": 0.46000000834465027, \"p\": 28032, \"fpr\": 0.2644023268905986, \"tpr\": 0.9495933219178082, \"n\": 5329}, {\"threshold\": 0.460999995470047, \"p\": 28032, \"fpr\": 0.26421467442296864, \"tpr\": 0.9495219748858448, \"n\": 5329}, {\"threshold\": 0.4620000123977661, \"p\": 28032, \"fpr\": 0.26365171702007884, \"tpr\": 0.9492722602739726, \"n\": 5329}, {\"threshold\": 0.46299999952316284, \"p\": 28032, \"fpr\": 0.2632764120848189, \"tpr\": 0.9491652397260274, \"n\": 5329}, {\"threshold\": 0.46399998664855957, \"p\": 28032, \"fpr\": 0.26308875961718897, \"tpr\": 0.949093892694064, \"n\": 5329}, {\"threshold\": 0.4650000035762787, \"p\": 28032, \"fpr\": 0.262901107149559, \"tpr\": 0.948951198630137, \"n\": 5329}, {\"threshold\": 0.4659999907016754, \"p\": 28032, \"fpr\": 0.2627134546819291, \"tpr\": 0.9489155251141552, \"n\": 5329}, {\"threshold\": 0.46700000762939453, \"p\": 28032, \"fpr\": 0.2623381497466692, \"tpr\": 0.9488441780821918, \"n\": 5329}, {\"threshold\": 0.46799999475479126, \"p\": 28032, \"fpr\": 0.2621504972790392, \"tpr\": 0.9486658105022832, \"n\": 5329}, {\"threshold\": 0.4690000116825104, \"p\": 28032, \"fpr\": 0.26139988740851944, \"tpr\": 0.9486301369863014, \"n\": 5329}, {\"threshold\": 0.4699999988079071, \"p\": 28032, \"fpr\": 0.2606492775379996, \"tpr\": 0.9486301369863014, \"n\": 5329}, {\"threshold\": 0.47099998593330383, \"p\": 28032, \"fpr\": 0.2606492775379996, \"tpr\": 0.9485944634703196, \"n\": 5329}, {\"threshold\": 0.47200000286102295, \"p\": 28032, \"fpr\": 0.2600863201351098, \"tpr\": 0.948416095890411, \"n\": 5329}, {\"threshold\": 0.4729999899864197, \"p\": 28032, \"fpr\": 0.2598986676674798, \"tpr\": 0.948273401826484, \"n\": 5329}, {\"threshold\": 0.4740000069141388, \"p\": 28032, \"fpr\": 0.25896040532933007, \"tpr\": 0.9482377283105022, \"n\": 5329}, {\"threshold\": 0.4749999940395355, \"p\": 28032, \"fpr\": 0.25877275286170015, \"tpr\": 0.9482020547945206, \"n\": 5329}, {\"threshold\": 0.47600001096725464, \"p\": 28032, \"fpr\": 0.25877275286170015, \"tpr\": 0.9480236872146118, \"n\": 5329}, {\"threshold\": 0.47699999809265137, \"p\": 28032, \"fpr\": 0.2585851003940702, \"tpr\": 0.9479166666666666, \"n\": 5329}, {\"threshold\": 0.4779999852180481, \"p\": 28032, \"fpr\": 0.2578344905235504, \"tpr\": 0.9478453196347032, \"n\": 5329}, {\"threshold\": 0.4790000021457672, \"p\": 28032, \"fpr\": 0.2578344905235504, \"tpr\": 0.9477739726027398, \"n\": 5329}, {\"threshold\": 0.47999998927116394, \"p\": 28032, \"fpr\": 0.2574591855882905, \"tpr\": 0.9476312785388128, \"n\": 5329}, {\"threshold\": 0.48100000619888306, \"p\": 28032, \"fpr\": 0.25689622818540064, \"tpr\": 0.9475599315068494, \"n\": 5329}, {\"threshold\": 0.4819999933242798, \"p\": 28032, \"fpr\": 0.25614561831488086, \"tpr\": 0.9475242579908676, \"n\": 5329}, {\"threshold\": 0.4830000102519989, \"p\": 28032, \"fpr\": 0.2559579658472509, \"tpr\": 0.9474172374429224, \"n\": 5329}, {\"threshold\": 0.48399999737739563, \"p\": 28032, \"fpr\": 0.255582660911991, \"tpr\": 0.947203196347032, \"n\": 5329}, {\"threshold\": 0.48500001430511475, \"p\": 28032, \"fpr\": 0.2552073559767311, \"tpr\": 0.9471318493150684, \"n\": 5329}, {\"threshold\": 0.4860000014305115, \"p\": 28032, \"fpr\": 0.2552073559767311, \"tpr\": 0.9469891552511416, \"n\": 5329}, {\"threshold\": 0.4869999885559082, \"p\": 28032, \"fpr\": 0.25501970350910114, \"tpr\": 0.9468107876712328, \"n\": 5329}, {\"threshold\": 0.4880000054836273, \"p\": 28032, \"fpr\": 0.2544567461062113, \"tpr\": 0.9467751141552512, \"n\": 5329}, {\"threshold\": 0.48899999260902405, \"p\": 28032, \"fpr\": 0.2544567461062113, \"tpr\": 0.946668093607306, \"n\": 5329}, {\"threshold\": 0.49000000953674316, \"p\": 28032, \"fpr\": 0.2537061362356915, \"tpr\": 0.9465610730593608, \"n\": 5329}, {\"threshold\": 0.4909999966621399, \"p\": 28032, \"fpr\": 0.2533308313004316, \"tpr\": 0.946525399543379, \"n\": 5329}, {\"threshold\": 0.492000013589859, \"p\": 28032, \"fpr\": 0.25314317883280163, \"tpr\": 0.9464183789954338, \"n\": 5329}, {\"threshold\": 0.49300000071525574, \"p\": 28032, \"fpr\": 0.25314317883280163, \"tpr\": 0.9463470319634704, \"n\": 5329}, {\"threshold\": 0.49399998784065247, \"p\": 28032, \"fpr\": 0.25314317883280163, \"tpr\": 0.9462043378995434, \"n\": 5329}, {\"threshold\": 0.4950000047683716, \"p\": 28032, \"fpr\": 0.2529555263651717, \"tpr\": 0.9460973173515982, \"n\": 5329}, {\"threshold\": 0.4959999918937683, \"p\": 28032, \"fpr\": 0.2529555263651717, \"tpr\": 0.9459189497716894, \"n\": 5329}, {\"threshold\": 0.4970000088214874, \"p\": 28032, \"fpr\": 0.25276787389754174, \"tpr\": 0.9457405821917808, \"n\": 5329}, {\"threshold\": 0.49799999594688416, \"p\": 28032, \"fpr\": 0.2525802214299118, \"tpr\": 0.9455978881278538, \"n\": 5329}, {\"threshold\": 0.49900001287460327, \"p\": 28032, \"fpr\": 0.2525802214299118, \"tpr\": 0.9454195205479452, \"n\": 5329}, {\"threshold\": 0.5, \"p\": 28032, \"fpr\": 0.25201726402702196, \"tpr\": 0.9452768264840182, \"n\": 5329}, {\"threshold\": 0.5009999871253967, \"p\": 28032, \"fpr\": 0.25164195909176207, \"tpr\": 0.9452054794520548, \"n\": 5329}, {\"threshold\": 0.5019999742507935, \"p\": 28032, \"fpr\": 0.2512666541565022, \"tpr\": 0.945169805936073, \"n\": 5329}, {\"threshold\": 0.503000020980835, \"p\": 28032, \"fpr\": 0.2507036967536123, \"tpr\": 0.9450627853881278, \"n\": 5329}, {\"threshold\": 0.5040000081062317, \"p\": 28032, \"fpr\": 0.2503283918183524, \"tpr\": 0.944920091324201, \"n\": 5329}, {\"threshold\": 0.5049999952316284, \"p\": 28032, \"fpr\": 0.2503283918183524, \"tpr\": 0.944777397260274, \"n\": 5329}, {\"threshold\": 0.5059999823570251, \"p\": 28032, \"fpr\": 0.24957778194783262, \"tpr\": 0.9447060502283106, \"n\": 5329}, {\"threshold\": 0.5070000290870667, \"p\": 28032, \"fpr\": 0.24920247701257273, \"tpr\": 0.9445990296803652, \"n\": 5329}, {\"threshold\": 0.5080000162124634, \"p\": 28032, \"fpr\": 0.24920247701257273, \"tpr\": 0.9444563356164384, \"n\": 5329}, {\"threshold\": 0.5090000033378601, \"p\": 28032, \"fpr\": 0.2488271720773128, \"tpr\": 0.9443493150684932, \"n\": 5329}, {\"threshold\": 0.5099999904632568, \"p\": 28032, \"fpr\": 0.24807656220679303, \"tpr\": 0.9443136415525114, \"n\": 5329}, {\"threshold\": 0.5109999775886536, \"p\": 28032, \"fpr\": 0.24751360480390316, \"tpr\": 0.944099600456621, \"n\": 5329}, {\"threshold\": 0.5120000243186951, \"p\": 28032, \"fpr\": 0.24732595233627322, \"tpr\": 0.9440639269406392, \"n\": 5329}, {\"threshold\": 0.5130000114440918, \"p\": 28032, \"fpr\": 0.24695064740101333, \"tpr\": 0.9439925799086758, \"n\": 5329}, {\"threshold\": 0.5139999985694885, \"p\": 28032, \"fpr\": 0.24695064740101333, \"tpr\": 0.9438142123287672, \"n\": 5329}, {\"threshold\": 0.5149999856948853, \"p\": 28032, \"fpr\": 0.24601238506286358, \"tpr\": 0.9437785388127854, \"n\": 5329}, {\"threshold\": 0.515999972820282, \"p\": 28032, \"fpr\": 0.24582473259523363, \"tpr\": 0.9437428652968036, \"n\": 5329}, {\"threshold\": 0.5170000195503235, \"p\": 28032, \"fpr\": 0.24544942765997374, \"tpr\": 0.9436358447488584, \"n\": 5329}, {\"threshold\": 0.5180000066757202, \"p\": 28032, \"fpr\": 0.24544942765997374, \"tpr\": 0.9436358447488584, \"n\": 5329}, {\"threshold\": 0.5189999938011169, \"p\": 28032, \"fpr\": 0.24544942765997374, \"tpr\": 0.943564497716895, \"n\": 5329}, {\"threshold\": 0.5199999809265137, \"p\": 28032, \"fpr\": 0.24526177519234377, \"tpr\": 0.9435288242009132, \"n\": 5329}, {\"threshold\": 0.5210000276565552, \"p\": 28032, \"fpr\": 0.24488647025708388, \"tpr\": 0.9434574771689498, \"n\": 5329}, {\"threshold\": 0.5220000147819519, \"p\": 28032, \"fpr\": 0.24432351285419404, \"tpr\": 0.9433147831050228, \"n\": 5329}, {\"threshold\": 0.5230000019073486, \"p\": 28032, \"fpr\": 0.24394820791893412, \"tpr\": 0.9432077625570776, \"n\": 5329}, {\"threshold\": 0.5239999890327454, \"p\": 28032, \"fpr\": 0.24319759804841434, \"tpr\": 0.9431007420091324, \"n\": 5329}, {\"threshold\": 0.5249999761581421, \"p\": 28032, \"fpr\": 0.24263464064552448, \"tpr\": 0.9429580479452054, \"n\": 5329}, {\"threshold\": 0.5260000228881836, \"p\": 28032, \"fpr\": 0.2422593357102646, \"tpr\": 0.942886700913242, \"n\": 5329}, {\"threshold\": 0.5270000100135803, \"p\": 28032, \"fpr\": 0.24207168324263464, \"tpr\": 0.942744006849315, \"n\": 5329}, {\"threshold\": 0.527999997138977, \"p\": 28032, \"fpr\": 0.24132107337211484, \"tpr\": 0.9426369863013698, \"n\": 5329}, {\"threshold\": 0.5289999842643738, \"p\": 28032, \"fpr\": 0.240758115969225, \"tpr\": 0.9425299657534246, \"n\": 5329}, {\"threshold\": 0.5299999713897705, \"p\": 28032, \"fpr\": 0.2403828110339651, \"tpr\": 0.9424229452054794, \"n\": 5329}, {\"threshold\": 0.531000018119812, \"p\": 28032, \"fpr\": 0.2403828110339651, \"tpr\": 0.9422802511415526, \"n\": 5329}, {\"threshold\": 0.5320000052452087, \"p\": 28032, \"fpr\": 0.2400075060987052, \"tpr\": 0.9422802511415526, \"n\": 5329}, {\"threshold\": 0.5329999923706055, \"p\": 28032, \"fpr\": 0.23981985363107525, \"tpr\": 0.9422445776255708, \"n\": 5329}, {\"threshold\": 0.5339999794960022, \"p\": 28032, \"fpr\": 0.23944454869581536, \"tpr\": 0.9421732305936074, \"n\": 5329}, {\"threshold\": 0.5350000262260437, \"p\": 28032, \"fpr\": 0.23869393882529555, \"tpr\": 0.9419591894977168, \"n\": 5329}, {\"threshold\": 0.5360000133514404, \"p\": 28032, \"fpr\": 0.23869393882529555, \"tpr\": 0.9418521689497716, \"n\": 5329}, {\"threshold\": 0.5370000004768372, \"p\": 28032, \"fpr\": 0.2385062863576656, \"tpr\": 0.94181649543379, \"n\": 5329}, {\"threshold\": 0.5379999876022339, \"p\": 28032, \"fpr\": 0.2385062863576656, \"tpr\": 0.941673801369863, \"n\": 5329}, {\"threshold\": 0.5389999747276306, \"p\": 28032, \"fpr\": 0.23831863389003566, \"tpr\": 0.9415667808219178, \"n\": 5329}, {\"threshold\": 0.5400000214576721, \"p\": 28032, \"fpr\": 0.2381309814224057, \"tpr\": 0.941531107305936, \"n\": 5329}, {\"threshold\": 0.5410000085830688, \"p\": 28032, \"fpr\": 0.23794332895477577, \"tpr\": 0.9414954337899544, \"n\": 5329}, {\"threshold\": 0.5419999957084656, \"p\": 28032, \"fpr\": 0.23794332895477577, \"tpr\": 0.9413527397260274, \"n\": 5329}, {\"threshold\": 0.5429999828338623, \"p\": 28032, \"fpr\": 0.23756802401951585, \"tpr\": 0.9413170662100456, \"n\": 5329}, {\"threshold\": 0.5440000295639038, \"p\": 28032, \"fpr\": 0.23700506661662601, \"tpr\": 0.9412457191780822, \"n\": 5329}, {\"threshold\": 0.5450000166893005, \"p\": 28032, \"fpr\": 0.23700506661662601, \"tpr\": 0.9412100456621004, \"n\": 5329}, {\"threshold\": 0.5460000038146973, \"p\": 28032, \"fpr\": 0.2362544567461062, \"tpr\": 0.9411030251141552, \"n\": 5329}, {\"threshold\": 0.546999990940094, \"p\": 28032, \"fpr\": 0.23606680427847626, \"tpr\": 0.9410316780821918, \"n\": 5329}, {\"threshold\": 0.5479999780654907, \"p\": 28032, \"fpr\": 0.23587915181084632, \"tpr\": 0.9409603310502284, \"n\": 5329}, {\"threshold\": 0.5490000247955322, \"p\": 28032, \"fpr\": 0.23531619440795645, \"tpr\": 0.9407819634703196, \"n\": 5329}, {\"threshold\": 0.550000011920929, \"p\": 28032, \"fpr\": 0.23494088947269656, \"tpr\": 0.9406749429223744, \"n\": 5329}, {\"threshold\": 0.5509999990463257, \"p\": 28032, \"fpr\": 0.23456558453743667, \"tpr\": 0.9405679223744292, \"n\": 5329}, {\"threshold\": 0.5519999861717224, \"p\": 28032, \"fpr\": 0.23456558453743667, \"tpr\": 0.9404965753424658, \"n\": 5329}, {\"threshold\": 0.5529999732971191, \"p\": 28032, \"fpr\": 0.23419027960217678, \"tpr\": 0.9404252283105022, \"n\": 5329}, {\"threshold\": 0.5540000200271606, \"p\": 28032, \"fpr\": 0.23343966973165697, \"tpr\": 0.9403538812785388, \"n\": 5329}, {\"threshold\": 0.5550000071525574, \"p\": 28032, \"fpr\": 0.23306436479639708, \"tpr\": 0.9402468607305936, \"n\": 5329}, {\"threshold\": 0.5559999942779541, \"p\": 28032, \"fpr\": 0.23250140739350722, \"tpr\": 0.9400328196347032, \"n\": 5329}, {\"threshold\": 0.5569999814033508, \"p\": 28032, \"fpr\": 0.23212610245824733, \"tpr\": 0.9398901255707762, \"n\": 5329}, {\"threshold\": 0.5580000281333923, \"p\": 28032, \"fpr\": 0.23156314505535747, \"tpr\": 0.9398544520547946, \"n\": 5329}, {\"threshold\": 0.5590000152587891, \"p\": 28032, \"fpr\": 0.23156314505535747, \"tpr\": 0.9397117579908676, \"n\": 5329}, {\"threshold\": 0.5600000023841858, \"p\": 28032, \"fpr\": 0.23156314505535747, \"tpr\": 0.9397117579908676, \"n\": 5329}, {\"threshold\": 0.5609999895095825, \"p\": 28032, \"fpr\": 0.23137549258772752, \"tpr\": 0.9394977168949772, \"n\": 5329}, {\"threshold\": 0.5619999766349792, \"p\": 28032, \"fpr\": 0.23081253518483769, \"tpr\": 0.9393550228310502, \"n\": 5329}, {\"threshold\": 0.5630000233650208, \"p\": 28032, \"fpr\": 0.23024957778194782, \"tpr\": 0.9392836757990868, \"n\": 5329}, {\"threshold\": 0.5640000104904175, \"p\": 28032, \"fpr\": 0.23006192531431788, \"tpr\": 0.9392123287671232, \"n\": 5329}, {\"threshold\": 0.5649999976158142, \"p\": 28032, \"fpr\": 0.229686620379058, \"tpr\": 0.9390339611872146, \"n\": 5329}, {\"threshold\": 0.5659999847412109, \"p\": 28032, \"fpr\": 0.22949896791142804, \"tpr\": 0.9389269406392694, \"n\": 5329}, {\"threshold\": 0.5669999718666077, \"p\": 28032, \"fpr\": 0.2293113154437981, \"tpr\": 0.9389269406392694, \"n\": 5329}, {\"threshold\": 0.5680000185966492, \"p\": 28032, \"fpr\": 0.22874835804090823, \"tpr\": 0.9388912671232876, \"n\": 5329}, {\"threshold\": 0.5690000057220459, \"p\": 28032, \"fpr\": 0.22837305310564834, \"tpr\": 0.9387485730593608, \"n\": 5329}, {\"threshold\": 0.5699999928474426, \"p\": 28032, \"fpr\": 0.2281854006380184, \"tpr\": 0.9386415525114156, \"n\": 5329}, {\"threshold\": 0.5709999799728394, \"p\": 28032, \"fpr\": 0.2281854006380184, \"tpr\": 0.938570205479452, \"n\": 5329}, {\"threshold\": 0.5720000267028809, \"p\": 28032, \"fpr\": 0.22762244323512854, \"tpr\": 0.9384988584474886, \"n\": 5329}, {\"threshold\": 0.5730000138282776, \"p\": 28032, \"fpr\": 0.22762244323512854, \"tpr\": 0.9384275114155252, \"n\": 5329}, {\"threshold\": 0.5740000009536743, \"p\": 28032, \"fpr\": 0.2274347907674986, \"tpr\": 0.9382848173515982, \"n\": 5329}, {\"threshold\": 0.574999988079071, \"p\": 28032, \"fpr\": 0.22668418089697878, \"tpr\": 0.9382134703196348, \"n\": 5329}, {\"threshold\": 0.5759999752044678, \"p\": 28032, \"fpr\": 0.2263088759617189, \"tpr\": 0.938035102739726, \"n\": 5329}, {\"threshold\": 0.5770000219345093, \"p\": 28032, \"fpr\": 0.22574591855882906, \"tpr\": 0.9379280821917808, \"n\": 5329}, {\"threshold\": 0.578000009059906, \"p\": 28032, \"fpr\": 0.22537061362356914, \"tpr\": 0.937892408675799, \"n\": 5329}, {\"threshold\": 0.5789999961853027, \"p\": 28032, \"fpr\": 0.2251829611559392, \"tpr\": 0.9377140410958904, \"n\": 5329}, {\"threshold\": 0.5799999833106995, \"p\": 28032, \"fpr\": 0.2251829611559392, \"tpr\": 0.9376070205479452, \"n\": 5329}, {\"threshold\": 0.5809999704360962, \"p\": 28032, \"fpr\": 0.2244323512854194, \"tpr\": 0.9375, \"n\": 5329}, {\"threshold\": 0.5820000171661377, \"p\": 28032, \"fpr\": 0.22349408894726966, \"tpr\": 0.937357305936073, \"n\": 5329}, {\"threshold\": 0.5830000042915344, \"p\": 28032, \"fpr\": 0.2233064364796397, \"tpr\": 0.9372859589041096, \"n\": 5329}, {\"threshold\": 0.5839999914169312, \"p\": 28032, \"fpr\": 0.22311878401200977, \"tpr\": 0.9372502853881278, \"n\": 5329}, {\"threshold\": 0.5849999785423279, \"p\": 28032, \"fpr\": 0.22274347907674985, \"tpr\": 0.9371789383561644, \"n\": 5329}, {\"threshold\": 0.5860000252723694, \"p\": 28032, \"fpr\": 0.2225558266091199, \"tpr\": 0.937107591324201, \"n\": 5329}, {\"threshold\": 0.5870000123977661, \"p\": 28032, \"fpr\": 0.22218052167386002, \"tpr\": 0.9370719178082192, \"n\": 5329}, {\"threshold\": 0.5879999995231628, \"p\": 28032, \"fpr\": 0.22199286920623007, \"tpr\": 0.9370362442922374, \"n\": 5329}, {\"threshold\": 0.5889999866485596, \"p\": 28032, \"fpr\": 0.22161756427097015, \"tpr\": 0.936964897260274, \"n\": 5329}, {\"threshold\": 0.5899999737739563, \"p\": 28032, \"fpr\": 0.22124225933571026, \"tpr\": 0.9367865296803652, \"n\": 5329}, {\"threshold\": 0.5910000205039978, \"p\": 28032, \"fpr\": 0.22105460686808032, \"tpr\": 0.9367865296803652, \"n\": 5329}, {\"threshold\": 0.5920000076293945, \"p\": 28032, \"fpr\": 0.22086695440045037, \"tpr\": 0.9367508561643836, \"n\": 5329}, {\"threshold\": 0.5929999947547913, \"p\": 28032, \"fpr\": 0.22049164946519045, \"tpr\": 0.9366438356164384, \"n\": 5329}, {\"threshold\": 0.593999981880188, \"p\": 28032, \"fpr\": 0.21992869206230062, \"tpr\": 0.9365724885844748, \"n\": 5329}, {\"threshold\": 0.5950000286102295, \"p\": 28032, \"fpr\": 0.2191780821917808, \"tpr\": 0.936429794520548, \"n\": 5329}, {\"threshold\": 0.5960000157356262, \"p\": 28032, \"fpr\": 0.21861512478889097, \"tpr\": 0.9363584474885844, \"n\": 5329}, {\"threshold\": 0.597000002861023, \"p\": 28032, \"fpr\": 0.21823981985363108, \"tpr\": 0.9362514269406392, \"n\": 5329}, {\"threshold\": 0.5979999899864197, \"p\": 28032, \"fpr\": 0.21767686245074122, \"tpr\": 0.9361800799086758, \"n\": 5329}, {\"threshold\": 0.5989999771118164, \"p\": 28032, \"fpr\": 0.21730155751548133, \"tpr\": 0.9361087328767124, \"n\": 5329}, {\"threshold\": 0.6000000238418579, \"p\": 28032, \"fpr\": 0.21692625258022144, \"tpr\": 0.9360373858447488, \"n\": 5329}, {\"threshold\": 0.6010000109672546, \"p\": 28032, \"fpr\": 0.21655094764496152, \"tpr\": 0.9358590182648402, \"n\": 5329}, {\"threshold\": 0.6019999980926514, \"p\": 28032, \"fpr\": 0.21580033777444174, \"tpr\": 0.9357876712328768, \"n\": 5329}, {\"threshold\": 0.6029999852180481, \"p\": 28032, \"fpr\": 0.21504972790392193, \"tpr\": 0.935751997716895, \"n\": 5329}, {\"threshold\": 0.6039999723434448, \"p\": 28032, \"fpr\": 0.2144867705010321, \"tpr\": 0.9357163242009132, \"n\": 5329}, {\"threshold\": 0.6050000190734863, \"p\": 28032, \"fpr\": 0.21392381309814223, \"tpr\": 0.9355022831050228, \"n\": 5329}, {\"threshold\": 0.6060000061988831, \"p\": 28032, \"fpr\": 0.21354850816288234, \"tpr\": 0.9353239155251142, \"n\": 5329}, {\"threshold\": 0.6069999933242798, \"p\": 28032, \"fpr\": 0.21354850816288234, \"tpr\": 0.935216894977169, \"n\": 5329}, {\"threshold\": 0.6079999804496765, \"p\": 28032, \"fpr\": 0.21317320322762245, \"tpr\": 0.9351098744292238, \"n\": 5329}, {\"threshold\": 0.609000027179718, \"p\": 28032, \"fpr\": 0.21298555075999248, \"tpr\": 0.9349671803652968, \"n\": 5329}, {\"threshold\": 0.6100000143051147, \"p\": 28032, \"fpr\": 0.21298555075999248, \"tpr\": 0.9349671803652968, \"n\": 5329}, {\"threshold\": 0.6110000014305115, \"p\": 28032, \"fpr\": 0.21279789829236254, \"tpr\": 0.9348601598173516, \"n\": 5329}, {\"threshold\": 0.6119999885559082, \"p\": 28032, \"fpr\": 0.2126102458247326, \"tpr\": 0.9347531392694064, \"n\": 5329}, {\"threshold\": 0.6129999756813049, \"p\": 28032, \"fpr\": 0.21242259335710265, \"tpr\": 0.9346104452054794, \"n\": 5329}, {\"threshold\": 0.6140000224113464, \"p\": 28032, \"fpr\": 0.2122349408894727, \"tpr\": 0.9345034246575342, \"n\": 5329}, {\"threshold\": 0.6150000095367432, \"p\": 28032, \"fpr\": 0.21204728842184276, \"tpr\": 0.9343607305936074, \"n\": 5329}, {\"threshold\": 0.6159999966621399, \"p\": 28032, \"fpr\": 0.2118596359542128, \"tpr\": 0.9341823630136986, \"n\": 5329}, {\"threshold\": 0.6169999837875366, \"p\": 28032, \"fpr\": 0.21167198348658284, \"tpr\": 0.93400399543379, \"n\": 5329}, {\"threshold\": 0.6179999709129333, \"p\": 28032, \"fpr\": 0.21167198348658284, \"tpr\": 0.9337899543378996, \"n\": 5329}, {\"threshold\": 0.6190000176429749, \"p\": 28032, \"fpr\": 0.2114843310189529, \"tpr\": 0.9336115867579908, \"n\": 5329}, {\"threshold\": 0.6200000047683716, \"p\": 28032, \"fpr\": 0.2114843310189529, \"tpr\": 0.9335402397260274, \"n\": 5329}, {\"threshold\": 0.6209999918937683, \"p\": 28032, \"fpr\": 0.211109026083693, \"tpr\": 0.933326198630137, \"n\": 5329}, {\"threshold\": 0.621999979019165, \"p\": 28032, \"fpr\": 0.2107337211484331, \"tpr\": 0.9331478310502284, \"n\": 5329}, {\"threshold\": 0.6230000257492065, \"p\": 28032, \"fpr\": 0.21054606868080314, \"tpr\": 0.9330764840182648, \"n\": 5329}, {\"threshold\": 0.6240000128746033, \"p\": 28032, \"fpr\": 0.2099831112779133, \"tpr\": 0.9329694634703196, \"n\": 5329}, {\"threshold\": 0.625, \"p\": 28032, \"fpr\": 0.20942015387502347, \"tpr\": 0.9328624429223744, \"n\": 5329}, {\"threshold\": 0.6259999871253967, \"p\": 28032, \"fpr\": 0.20942015387502347, \"tpr\": 0.9327554223744292, \"n\": 5329}, {\"threshold\": 0.6269999742507935, \"p\": 28032, \"fpr\": 0.20904484893976355, \"tpr\": 0.932648401826484, \"n\": 5329}, {\"threshold\": 0.628000020980835, \"p\": 28032, \"fpr\": 0.20866954400450366, \"tpr\": 0.9323986872146118, \"n\": 5329}, {\"threshold\": 0.6290000081062317, \"p\": 28032, \"fpr\": 0.20810658660161382, \"tpr\": 0.9321846461187214, \"n\": 5329}, {\"threshold\": 0.6299999952316284, \"p\": 28032, \"fpr\": 0.20791893413398385, \"tpr\": 0.931970605022831, \"n\": 5329}, {\"threshold\": 0.6309999823570251, \"p\": 28032, \"fpr\": 0.2077312816663539, \"tpr\": 0.9316495433789954, \"n\": 5329}, {\"threshold\": 0.6320000290870667, \"p\": 28032, \"fpr\": 0.20754362919872396, \"tpr\": 0.931578196347032, \"n\": 5329}, {\"threshold\": 0.6330000162124634, \"p\": 28032, \"fpr\": 0.20716832426346407, \"tpr\": 0.9314711757990868, \"n\": 5329}, {\"threshold\": 0.6340000033378601, \"p\": 28032, \"fpr\": 0.20698067179583413, \"tpr\": 0.9313641552511416, \"n\": 5329}, {\"threshold\": 0.6349999904632568, \"p\": 28032, \"fpr\": 0.20679301932820415, \"tpr\": 0.9311857876712328, \"n\": 5329}, {\"threshold\": 0.6359999775886536, \"p\": 28032, \"fpr\": 0.2066053668605742, \"tpr\": 0.9310074200913242, \"n\": 5329}, {\"threshold\": 0.6370000243186951, \"p\": 28032, \"fpr\": 0.20585475699005443, \"tpr\": 0.930900399543379, \"n\": 5329}, {\"threshold\": 0.6380000114440918, \"p\": 28032, \"fpr\": 0.20566710452242448, \"tpr\": 0.9308290525114156, \"n\": 5329}, {\"threshold\": 0.6389999985694885, \"p\": 28032, \"fpr\": 0.2054794520547945, \"tpr\": 0.9306150114155252, \"n\": 5329}, {\"threshold\": 0.6399999856948853, \"p\": 28032, \"fpr\": 0.2054794520547945, \"tpr\": 0.9305436643835616, \"n\": 5329}, {\"threshold\": 0.640999972820282, \"p\": 28032, \"fpr\": 0.20491649465190467, \"tpr\": 0.930365296803653, \"n\": 5329}, {\"threshold\": 0.6420000195503235, \"p\": 28032, \"fpr\": 0.20435353724901484, \"tpr\": 0.9302582762557078, \"n\": 5329}, {\"threshold\": 0.6430000066757202, \"p\": 28032, \"fpr\": 0.20397823231375492, \"tpr\": 0.9301869292237442, \"n\": 5329}, {\"threshold\": 0.6439999938011169, \"p\": 28032, \"fpr\": 0.20360292737849503, \"tpr\": 0.9301512557077626, \"n\": 5329}, {\"threshold\": 0.6449999809265137, \"p\": 28032, \"fpr\": 0.20360292737849503, \"tpr\": 0.9300442351598174, \"n\": 5329}, {\"threshold\": 0.6460000276565552, \"p\": 28032, \"fpr\": 0.20341527491086508, \"tpr\": 0.9299372146118722, \"n\": 5329}, {\"threshold\": 0.6470000147819519, \"p\": 28032, \"fpr\": 0.20341527491086508, \"tpr\": 0.929830194063927, \"n\": 5329}, {\"threshold\": 0.6480000019073486, \"p\": 28032, \"fpr\": 0.20322762244323514, \"tpr\": 0.9297945205479452, \"n\": 5329}, {\"threshold\": 0.6489999890327454, \"p\": 28032, \"fpr\": 0.20285231750797522, \"tpr\": 0.929544805936073, \"n\": 5329}, {\"threshold\": 0.6499999761581421, \"p\": 28032, \"fpr\": 0.20247701257271533, \"tpr\": 0.929295091324201, \"n\": 5329}, {\"threshold\": 0.6510000228881836, \"p\": 28032, \"fpr\": 0.20135109776693563, \"tpr\": 0.9291167237442922, \"n\": 5329}, {\"threshold\": 0.6520000100135803, \"p\": 28032, \"fpr\": 0.20135109776693563, \"tpr\": 0.9289026826484018, \"n\": 5329}, {\"threshold\": 0.652999997138977, \"p\": 28032, \"fpr\": 0.20097579283167574, \"tpr\": 0.9288313356164384, \"n\": 5329}, {\"threshold\": 0.6539999842643738, \"p\": 28032, \"fpr\": 0.2007881403640458, \"tpr\": 0.9287243150684932, \"n\": 5329}, {\"threshold\": 0.6549999713897705, \"p\": 28032, \"fpr\": 0.200037530493526, \"tpr\": 0.9285816210045662, \"n\": 5329}, {\"threshold\": 0.656000018119812, \"p\": 28032, \"fpr\": 0.1996622255582661, \"tpr\": 0.9284389269406392, \"n\": 5329}, {\"threshold\": 0.6570000052452087, \"p\": 28032, \"fpr\": 0.19928692062300618, \"tpr\": 0.9282962328767124, \"n\": 5329}, {\"threshold\": 0.6579999923706055, \"p\": 28032, \"fpr\": 0.19872396322011635, \"tpr\": 0.9281535388127854, \"n\": 5329}, {\"threshold\": 0.6589999794960022, \"p\": 28032, \"fpr\": 0.1985363107524864, \"tpr\": 0.9280465182648402, \"n\": 5329}, {\"threshold\": 0.6600000262260437, \"p\": 28032, \"fpr\": 0.19834865828485646, \"tpr\": 0.9280108447488584, \"n\": 5329}, {\"threshold\": 0.6610000133514404, \"p\": 28032, \"fpr\": 0.19797335334959654, \"tpr\": 0.9278324771689498, \"n\": 5329}, {\"threshold\": 0.6620000004768372, \"p\": 28032, \"fpr\": 0.19797335334959654, \"tpr\": 0.9276897831050228, \"n\": 5329}, {\"threshold\": 0.6629999876022339, \"p\": 28032, \"fpr\": 0.19759804841433665, \"tpr\": 0.9275114155251142, \"n\": 5329}, {\"threshold\": 0.6639999747276306, \"p\": 28032, \"fpr\": 0.19759804841433665, \"tpr\": 0.927404394977169, \"n\": 5329}, {\"threshold\": 0.6650000214576721, \"p\": 28032, \"fpr\": 0.1974103959467067, \"tpr\": 0.9271903538812786, \"n\": 5329}, {\"threshold\": 0.6660000085830688, \"p\": 28032, \"fpr\": 0.1966597860761869, \"tpr\": 0.9270476598173516, \"n\": 5329}, {\"threshold\": 0.6669999957084656, \"p\": 28032, \"fpr\": 0.196284481140927, \"tpr\": 0.9269049657534246, \"n\": 5329}, {\"threshold\": 0.6679999828338623, \"p\": 28032, \"fpr\": 0.19572152373803717, \"tpr\": 0.926726598173516, \"n\": 5329}, {\"threshold\": 0.6690000295639038, \"p\": 28032, \"fpr\": 0.19534621880277725, \"tpr\": 0.9266552511415526, \"n\": 5329}, {\"threshold\": 0.6700000166893005, \"p\": 28032, \"fpr\": 0.1951585663351473, \"tpr\": 0.9265125570776256, \"n\": 5329}, {\"threshold\": 0.6710000038146973, \"p\": 28032, \"fpr\": 0.19497091386751736, \"tpr\": 0.9264055365296804, \"n\": 5329}, {\"threshold\": 0.671999990940094, \"p\": 28032, \"fpr\": 0.19497091386751736, \"tpr\": 0.9262985159817352, \"n\": 5329}, {\"threshold\": 0.6729999780654907, \"p\": 28032, \"fpr\": 0.19497091386751736, \"tpr\": 0.92619149543379, \"n\": 5329}, {\"threshold\": 0.6740000247955322, \"p\": 28032, \"fpr\": 0.1940326515293676, \"tpr\": 0.9259417808219178, \"n\": 5329}, {\"threshold\": 0.675000011920929, \"p\": 28032, \"fpr\": 0.18971664477387878, \"tpr\": 0.9208761415525114, \"n\": 5329}, {\"threshold\": 0.6759999990463257, \"p\": 28032, \"fpr\": 0.18915368737098892, \"tpr\": 0.920662100456621, \"n\": 5329}, {\"threshold\": 0.6769999861717224, \"p\": 28032, \"fpr\": 0.18859072996809909, \"tpr\": 0.9204123858447488, \"n\": 5329}, {\"threshold\": 0.6779999732971191, \"p\": 28032, \"fpr\": 0.1882154250328392, \"tpr\": 0.9203053652968036, \"n\": 5329}, {\"threshold\": 0.6790000200271606, \"p\": 28032, \"fpr\": 0.18802777256520922, \"tpr\": 0.9201626712328768, \"n\": 5329}, {\"threshold\": 0.6800000071525574, \"p\": 28032, \"fpr\": 0.18784012009757928, \"tpr\": 0.9199486301369864, \"n\": 5329}, {\"threshold\": 0.6809999942779541, \"p\": 28032, \"fpr\": 0.18765246762994933, \"tpr\": 0.9198772831050228, \"n\": 5329}, {\"threshold\": 0.6819999814033508, \"p\": 28032, \"fpr\": 0.18727716269468944, \"tpr\": 0.9197345890410958, \"n\": 5329}, {\"threshold\": 0.6830000281333923, \"p\": 28032, \"fpr\": 0.1870895102270595, \"tpr\": 0.919591894977169, \"n\": 5329}, {\"threshold\": 0.6840000152587891, \"p\": 28032, \"fpr\": 0.1859635954212798, \"tpr\": 0.9194848744292238, \"n\": 5329}, {\"threshold\": 0.6850000023841858, \"p\": 28032, \"fpr\": 0.18577594295364985, \"tpr\": 0.9193421803652968, \"n\": 5329}, {\"threshold\": 0.6859999895095825, \"p\": 28032, \"fpr\": 0.18558829048601988, \"tpr\": 0.9191638127853882, \"n\": 5329}, {\"threshold\": 0.6869999766349792, \"p\": 28032, \"fpr\": 0.18502533308313004, \"tpr\": 0.919056792237443, \"n\": 5329}, {\"threshold\": 0.6880000233650208, \"p\": 28032, \"fpr\": 0.18389941827735035, \"tpr\": 0.9188070776255708, \"n\": 5329}, {\"threshold\": 0.6890000104904175, \"p\": 28032, \"fpr\": 0.18314880840683054, \"tpr\": 0.9185930365296804, \"n\": 5329}, {\"threshold\": 0.6899999976158142, \"p\": 28032, \"fpr\": 0.18314880840683054, \"tpr\": 0.9184146689497716, \"n\": 5329}, {\"threshold\": 0.6909999847412109, \"p\": 28032, \"fpr\": 0.18239819853631076, \"tpr\": 0.9182719748858448, \"n\": 5329}, {\"threshold\": 0.6919999718666077, \"p\": 28032, \"fpr\": 0.18239819853631076, \"tpr\": 0.918093607305936, \"n\": 5329}, {\"threshold\": 0.6930000185966492, \"p\": 28032, \"fpr\": 0.1822105460686808, \"tpr\": 0.917843892694064, \"n\": 5329}, {\"threshold\": 0.6940000057220459, \"p\": 28032, \"fpr\": 0.18164758866579095, \"tpr\": 0.9176655251141552, \"n\": 5329}, {\"threshold\": 0.6949999928474426, \"p\": 28032, \"fpr\": 0.1810846312629011, \"tpr\": 0.9174871575342466, \"n\": 5329}, {\"threshold\": 0.6959999799728394, \"p\": 28032, \"fpr\": 0.18014636892475136, \"tpr\": 0.9174514840182648, \"n\": 5329}, {\"threshold\": 0.6970000267028809, \"p\": 28032, \"fpr\": 0.17995871645712141, \"tpr\": 0.9171304223744292, \"n\": 5329}, {\"threshold\": 0.6980000138282776, \"p\": 28032, \"fpr\": 0.17995871645712141, \"tpr\": 0.9169877283105022, \"n\": 5329}, {\"threshold\": 0.6990000009536743, \"p\": 28032, \"fpr\": 0.17958341152186152, \"tpr\": 0.9169163812785388, \"n\": 5329}, {\"threshold\": 0.699999988079071, \"p\": 28032, \"fpr\": 0.17958341152186152, \"tpr\": 0.9168093607305936, \"n\": 5329}, {\"threshold\": 0.7009999752044678, \"p\": 28032, \"fpr\": 0.17864514918371177, \"tpr\": 0.9167380136986302, \"n\": 5329}, {\"threshold\": 0.7020000219345093, \"p\": 28032, \"fpr\": 0.17864514918371177, \"tpr\": 0.916488299086758, \"n\": 5329}, {\"threshold\": 0.703000009059906, \"p\": 28032, \"fpr\": 0.17826984424845188, \"tpr\": 0.916345605022831, \"n\": 5329}, {\"threshold\": 0.7039999961853027, \"p\": 28032, \"fpr\": 0.1780821917808219, \"tpr\": 0.9163099315068494, \"n\": 5329}, {\"threshold\": 0.7049999833106995, \"p\": 28032, \"fpr\": 0.17714392944267218, \"tpr\": 0.9162385844748858, \"n\": 5329}, {\"threshold\": 0.7059999704360962, \"p\": 28032, \"fpr\": 0.17676862450741226, \"tpr\": 0.915953196347032, \"n\": 5329}, {\"threshold\": 0.7070000171661377, \"p\": 28032, \"fpr\": 0.17564270970163257, \"tpr\": 0.915667808219178, \"n\": 5329}, {\"threshold\": 0.7080000042915344, \"p\": 28032, \"fpr\": 0.17545505723400262, \"tpr\": 0.9154894406392694, \"n\": 5329}, {\"threshold\": 0.7089999914169312, \"p\": 28032, \"fpr\": 0.17507975229874273, \"tpr\": 0.9152040525114156, \"n\": 5329}, {\"threshold\": 0.7099999785423279, \"p\": 28032, \"fpr\": 0.17395383749296303, \"tpr\": 0.9149543378995434, \"n\": 5329}, {\"threshold\": 0.7110000252723694, \"p\": 28032, \"fpr\": 0.1737661850253331, \"tpr\": 0.9147759703196348, \"n\": 5329}, {\"threshold\": 0.7120000123977661, \"p\": 28032, \"fpr\": 0.1737661850253331, \"tpr\": 0.9145262557077626, \"n\": 5329}, {\"threshold\": 0.7129999995231628, \"p\": 28032, \"fpr\": 0.1733908800900732, \"tpr\": 0.9141695205479452, \"n\": 5329}, {\"threshold\": 0.7139999866485596, \"p\": 28032, \"fpr\": 0.17245261775192344, \"tpr\": 0.9139911529680366, \"n\": 5329}, {\"threshold\": 0.7149999737739563, \"p\": 28032, \"fpr\": 0.17207731281666355, \"tpr\": 0.9137771118721462, \"n\": 5329}, {\"threshold\": 0.7160000205039978, \"p\": 28032, \"fpr\": 0.17188966034903358, \"tpr\": 0.9135630707762558, \"n\": 5329}, {\"threshold\": 0.7170000076293945, \"p\": 28032, \"fpr\": 0.1715143554137737, \"tpr\": 0.9133133561643836, \"n\": 5329}, {\"threshold\": 0.7179999947547913, \"p\": 28032, \"fpr\": 0.17095139801088385, \"tpr\": 0.9131706621004566, \"n\": 5329}, {\"threshold\": 0.718999981880188, \"p\": 28032, \"fpr\": 0.17057609307562394, \"tpr\": 0.9130993150684932, \"n\": 5329}, {\"threshold\": 0.7200000286102295, \"p\": 28032, \"fpr\": 0.170388440607994, \"tpr\": 0.9130636415525114, \"n\": 5329}, {\"threshold\": 0.7210000157356262, \"p\": 28032, \"fpr\": 0.1700131356727341, \"tpr\": 0.912849600456621, \"n\": 5329}, {\"threshold\": 0.722000002861023, \"p\": 28032, \"fpr\": 0.16907487333458435, \"tpr\": 0.9125285388127854, \"n\": 5329}, {\"threshold\": 0.7229999899864197, \"p\": 28032, \"fpr\": 0.1688872208669544, \"tpr\": 0.9123501712328768, \"n\": 5329}, {\"threshold\": 0.7239999771118164, \"p\": 28032, \"fpr\": 0.1688872208669544, \"tpr\": 0.912171803652968, \"n\": 5329}, {\"threshold\": 0.7250000238418579, \"p\": 28032, \"fpr\": 0.1685119159316945, \"tpr\": 0.912029109589041, \"n\": 5329}, {\"threshold\": 0.7260000109672546, \"p\": 28032, \"fpr\": 0.1681366109964346, \"tpr\": 0.9117080479452054, \"n\": 5329}, {\"threshold\": 0.7269999980926514, \"p\": 28032, \"fpr\": 0.16794895852880465, \"tpr\": 0.9114583333333334, \"n\": 5329}, {\"threshold\": 0.7279999852180481, \"p\": 28032, \"fpr\": 0.1677613060611747, \"tpr\": 0.9113869863013698, \"n\": 5329}, {\"threshold\": 0.7289999723434448, \"p\": 28032, \"fpr\": 0.16757365359354476, \"tpr\": 0.911244292237443, \"n\": 5329}, {\"threshold\": 0.7300000190734863, \"p\": 28032, \"fpr\": 0.16719834865828487, \"tpr\": 0.911101598173516, \"n\": 5329}, {\"threshold\": 0.7310000061988831, \"p\": 28032, \"fpr\": 0.166635391255395, \"tpr\": 0.9108162100456622, \"n\": 5329}, {\"threshold\": 0.7319999933242798, \"p\": 28032, \"fpr\": 0.16588478138487522, \"tpr\": 0.9106735159817352, \"n\": 5329}, {\"threshold\": 0.7329999804496765, \"p\": 28032, \"fpr\": 0.16569712891724525, \"tpr\": 0.9103524543378996, \"n\": 5329}, {\"threshold\": 0.734000027179718, \"p\": 28032, \"fpr\": 0.16532182398198536, \"tpr\": 0.9102097602739726, \"n\": 5329}, {\"threshold\": 0.7350000143051147, \"p\": 28032, \"fpr\": 0.16513417151435542, \"tpr\": 0.9100670662100456, \"n\": 5329}, {\"threshold\": 0.7360000014305115, \"p\": 28032, \"fpr\": 0.16494651904672547, \"tpr\": 0.9098530251141552, \"n\": 5329}, {\"threshold\": 0.7369999885559082, \"p\": 28032, \"fpr\": 0.16494651904672547, \"tpr\": 0.9097103310502284, \"n\": 5329}, {\"threshold\": 0.7379999756813049, \"p\": 28032, \"fpr\": 0.1643835616438356, \"tpr\": 0.9095319634703196, \"n\": 5329}, {\"threshold\": 0.7390000224113464, \"p\": 28032, \"fpr\": 0.16382060424094577, \"tpr\": 0.9092465753424658, \"n\": 5329}, {\"threshold\": 0.7400000095367432, \"p\": 28032, \"fpr\": 0.16344529930568588, \"tpr\": 0.9091395547945206, \"n\": 5329}, {\"threshold\": 0.7409999966621399, \"p\": 28032, \"fpr\": 0.16269468943516607, \"tpr\": 0.9089968607305936, \"n\": 5329}, {\"threshold\": 0.7419999837875366, \"p\": 28032, \"fpr\": 0.16250703696753613, \"tpr\": 0.9087828196347032, \"n\": 5329}, {\"threshold\": 0.7429999709129333, \"p\": 28032, \"fpr\": 0.16194407956464626, \"tpr\": 0.9086401255707762, \"n\": 5329}, {\"threshold\": 0.7440000176429749, \"p\": 28032, \"fpr\": 0.16138112216175643, \"tpr\": 0.9083904109589042, \"n\": 5329}, {\"threshold\": 0.7450000047683716, \"p\": 28032, \"fpr\": 0.16119346969412648, \"tpr\": 0.9082120433789954, \"n\": 5329}, {\"threshold\": 0.7459999918937683, \"p\": 28032, \"fpr\": 0.16100581722649654, \"tpr\": 0.9079266552511416, \"n\": 5329}, {\"threshold\": 0.746999979019165, \"p\": 28032, \"fpr\": 0.16063051229123662, \"tpr\": 0.9078196347031964, \"n\": 5329}, {\"threshold\": 0.7480000257492065, \"p\": 28032, \"fpr\": 0.16044285982360668, \"tpr\": 0.9074272260273972, \"n\": 5329}, {\"threshold\": 0.7490000128746033, \"p\": 28032, \"fpr\": 0.16025520735597673, \"tpr\": 0.9071061643835616, \"n\": 5329}, {\"threshold\": 0.75, \"p\": 28032, \"fpr\": 0.15987990242071684, \"tpr\": 0.9068921232876712, \"n\": 5329}, {\"threshold\": 0.7509999871253967, \"p\": 28032, \"fpr\": 0.1585663351473072, \"tpr\": 0.9067494292237442, \"n\": 5329}, {\"threshold\": 0.7519999742507935, \"p\": 28032, \"fpr\": 0.15837868267967722, \"tpr\": 0.9065353881278538, \"n\": 5329}, {\"threshold\": 0.753000020980835, \"p\": 28032, \"fpr\": 0.1574404203415275, \"tpr\": 0.90625, \"n\": 5329}, {\"threshold\": 0.7540000081062317, \"p\": 28032, \"fpr\": 0.1574404203415275, \"tpr\": 0.9061429794520548, \"n\": 5329}, {\"threshold\": 0.7549999952316284, \"p\": 28032, \"fpr\": 0.1574404203415275, \"tpr\": 0.9060002853881278, \"n\": 5329}, {\"threshold\": 0.7559999823570251, \"p\": 28032, \"fpr\": 0.15706511540626758, \"tpr\": 0.9057862442922374, \"n\": 5329}, {\"threshold\": 0.7570000290870667, \"p\": 28032, \"fpr\": 0.15687746293863764, \"tpr\": 0.90542950913242, \"n\": 5329}, {\"threshold\": 0.7580000162124634, \"p\": 28032, \"fpr\": 0.15612685306811785, \"tpr\": 0.905179794520548, \"n\": 5329}, {\"threshold\": 0.7590000033378601, \"p\": 28032, \"fpr\": 0.155563895665228, \"tpr\": 0.9047160388127854, \"n\": 5329}, {\"threshold\": 0.7599999904632568, \"p\": 28032, \"fpr\": 0.15537624319759805, \"tpr\": 0.9044663242009132, \"n\": 5329}, {\"threshold\": 0.7609999775886536, \"p\": 28032, \"fpr\": 0.15500093826233816, \"tpr\": 0.9041809360730594, \"n\": 5329}, {\"threshold\": 0.7620000243186951, \"p\": 28032, \"fpr\": 0.15462563332707824, \"tpr\": 0.903824200913242, \"n\": 5329}, {\"threshold\": 0.7630000114440918, \"p\": 28032, \"fpr\": 0.1540626759241884, \"tpr\": 0.9037171803652968, \"n\": 5329}, {\"threshold\": 0.7639999985694885, \"p\": 28032, \"fpr\": 0.1536873709889285, \"tpr\": 0.9032534246575342, \"n\": 5329}, {\"threshold\": 0.7649999856948853, \"p\": 28032, \"fpr\": 0.1533120660536686, \"tpr\": 0.9030037100456622, \"n\": 5329}, {\"threshold\": 0.765999972820282, \"p\": 28032, \"fpr\": 0.15274910865077876, \"tpr\": 0.9028253424657534, \"n\": 5329}, {\"threshold\": 0.7670000195503235, \"p\": 28032, \"fpr\": 0.1525614561831488, \"tpr\": 0.9025042808219178, \"n\": 5329}, {\"threshold\": 0.7680000066757202, \"p\": 28032, \"fpr\": 0.15237380371551887, \"tpr\": 0.9023615867579908, \"n\": 5329}, {\"threshold\": 0.7689999938011169, \"p\": 28032, \"fpr\": 0.15199849878025895, \"tpr\": 0.9020405251141552, \"n\": 5329}, {\"threshold\": 0.7699999809265137, \"p\": 28032, \"fpr\": 0.151810846312629, \"tpr\": 0.9018978310502284, \"n\": 5329}, {\"threshold\": 0.7710000276565552, \"p\": 28032, \"fpr\": 0.15143554137736912, \"tpr\": 0.901541095890411, \"n\": 5329}, {\"threshold\": 0.7720000147819519, \"p\": 28032, \"fpr\": 0.15124788890973917, \"tpr\": 0.9012200342465754, \"n\": 5329}, {\"threshold\": 0.7730000019073486, \"p\": 28032, \"fpr\": 0.1506849315068493, \"tpr\": 0.9009346461187214, \"n\": 5329}, {\"threshold\": 0.7739999890327454, \"p\": 28032, \"fpr\": 0.15012197410395947, \"tpr\": 0.900720605022831, \"n\": 5329}, {\"threshold\": 0.7749999761581421, \"p\": 28032, \"fpr\": 0.14974666916869958, \"tpr\": 0.9005422374429224, \"n\": 5329}, {\"threshold\": 0.7760000228881836, \"p\": 28032, \"fpr\": 0.14918371176580972, \"tpr\": 0.9005065639269406, \"n\": 5329}, {\"threshold\": 0.7770000100135803, \"p\": 28032, \"fpr\": 0.1484331018952899, \"tpr\": 0.9002568493150684, \"n\": 5329}, {\"threshold\": 0.777999997138977, \"p\": 28032, \"fpr\": 0.14824544942765996, \"tpr\": 0.900042808219178, \"n\": 5329}, {\"threshold\": 0.7789999842643738, \"p\": 28032, \"fpr\": 0.14768249202477013, \"tpr\": 0.899650399543379, \"n\": 5329}, {\"threshold\": 0.7799999713897705, \"p\": 28032, \"fpr\": 0.14768249202477013, \"tpr\": 0.8993650114155252, \"n\": 5329}, {\"threshold\": 0.781000018119812, \"p\": 28032, \"fpr\": 0.14749483955714018, \"tpr\": 0.89925799086758, \"n\": 5329}, {\"threshold\": 0.7820000052452087, \"p\": 28032, \"fpr\": 0.14693188215425032, \"tpr\": 0.8989012557077626, \"n\": 5329}, {\"threshold\": 0.7829999923706055, \"p\": 28032, \"fpr\": 0.14693188215425032, \"tpr\": 0.8987228881278538, \"n\": 5329}, {\"threshold\": 0.7839999794960022, \"p\": 28032, \"fpr\": 0.14693188215425032, \"tpr\": 0.8984375, \"n\": 5329}, {\"threshold\": 0.7850000262260437, \"p\": 28032, \"fpr\": 0.14655657721899043, \"tpr\": 0.8981877853881278, \"n\": 5329}, {\"threshold\": 0.7860000133514404, \"p\": 28032, \"fpr\": 0.14655657721899043, \"tpr\": 0.8979380707762558, \"n\": 5329}, {\"threshold\": 0.7870000004768372, \"p\": 28032, \"fpr\": 0.14580596734847062, \"tpr\": 0.8975813356164384, \"n\": 5329}, {\"threshold\": 0.7879999876022339, \"p\": 28032, \"fpr\": 0.14543066241321073, \"tpr\": 0.8974029680365296, \"n\": 5329}, {\"threshold\": 0.7889999747276306, \"p\": 28032, \"fpr\": 0.14449240007506098, \"tpr\": 0.8971532534246576, \"n\": 5329}, {\"threshold\": 0.7900000214576721, \"p\": 28032, \"fpr\": 0.14449240007506098, \"tpr\": 0.8969035388127854, \"n\": 5329}, {\"threshold\": 0.7910000085830688, \"p\": 28032, \"fpr\": 0.14430474760743103, \"tpr\": 0.8966538242009132, \"n\": 5329}, {\"threshold\": 0.7919999957084656, \"p\": 28032, \"fpr\": 0.1437417902045412, \"tpr\": 0.896404109589041, \"n\": 5329}, {\"threshold\": 0.7929999828338623, \"p\": 28032, \"fpr\": 0.14336648526928128, \"tpr\": 0.896154394977169, \"n\": 5329}, {\"threshold\": 0.7940000295639038, \"p\": 28032, \"fpr\": 0.14280352786639144, \"tpr\": 0.895869006849315, \"n\": 5329}, {\"threshold\": 0.7950000166893005, \"p\": 28032, \"fpr\": 0.14242822293113155, \"tpr\": 0.895619292237443, \"n\": 5329}, {\"threshold\": 0.7960000038146973, \"p\": 28032, \"fpr\": 0.14167761306061175, \"tpr\": 0.895333904109589, \"n\": 5329}, {\"threshold\": 0.796999990940094, \"p\": 28032, \"fpr\": 0.1411146556577219, \"tpr\": 0.8951198630136986, \"n\": 5329}, {\"threshold\": 0.7979999780654907, \"p\": 28032, \"fpr\": 0.140739350722462, \"tpr\": 0.8948701484018264, \"n\": 5329}, {\"threshold\": 0.7990000247955322, \"p\": 28032, \"fpr\": 0.14017639331957216, \"tpr\": 0.8946204337899544, \"n\": 5329}, {\"threshold\": 0.800000011920929, \"p\": 28032, \"fpr\": 0.1399887408519422, \"tpr\": 0.8945847602739726, \"n\": 5329}, {\"threshold\": 0.8009999990463257, \"p\": 28032, \"fpr\": 0.1396134359166823, \"tpr\": 0.894263698630137, \"n\": 5329}, {\"threshold\": 0.8019999861717224, \"p\": 28032, \"fpr\": 0.13905047851379246, \"tpr\": 0.8939426369863014, \"n\": 5329}, {\"threshold\": 0.8029999732971191, \"p\": 28032, \"fpr\": 0.13867517357853257, \"tpr\": 0.893585901826484, \"n\": 5329}, {\"threshold\": 0.8040000200271606, \"p\": 28032, \"fpr\": 0.13867517357853257, \"tpr\": 0.8931578196347032, \"n\": 5329}, {\"threshold\": 0.8050000071525574, \"p\": 28032, \"fpr\": 0.13773691124038281, \"tpr\": 0.8928367579908676, \"n\": 5329}, {\"threshold\": 0.8059999942779541, \"p\": 28032, \"fpr\": 0.13773691124038281, \"tpr\": 0.892658390410959, \"n\": 5329}, {\"threshold\": 0.8069999814033508, \"p\": 28032, \"fpr\": 0.13754925877275287, \"tpr\": 0.8924443493150684, \"n\": 5329}, {\"threshold\": 0.8080000281333923, \"p\": 28032, \"fpr\": 0.136986301369863, \"tpr\": 0.8923016552511416, \"n\": 5329}, {\"threshold\": 0.8090000152587891, \"p\": 28032, \"fpr\": 0.13642334396697317, \"tpr\": 0.8917665525114156, \"n\": 5329}, {\"threshold\": 0.8100000023841858, \"p\": 28032, \"fpr\": 0.13623569149934323, \"tpr\": 0.8913741438356164, \"n\": 5329}, {\"threshold\": 0.8109999895095825, \"p\": 28032, \"fpr\": 0.13604803903171328, \"tpr\": 0.8910530821917808, \"n\": 5329}, {\"threshold\": 0.8119999766349792, \"p\": 28032, \"fpr\": 0.13567273409645336, \"tpr\": 0.8909103881278538, \"n\": 5329}, {\"threshold\": 0.8130000233650208, \"p\": 28032, \"fpr\": 0.13548508162882342, \"tpr\": 0.8906963470319634, \"n\": 5329}, {\"threshold\": 0.8140000104904175, \"p\": 28032, \"fpr\": 0.13548508162882342, \"tpr\": 0.8903039383561644, \"n\": 5329}, {\"threshold\": 0.8149999976158142, \"p\": 28032, \"fpr\": 0.13492212422593358, \"tpr\": 0.8899115296803652, \"n\": 5329}, {\"threshold\": 0.8159999847412109, \"p\": 28032, \"fpr\": 0.1347344717583036, \"tpr\": 0.88980450913242, \"n\": 5329}, {\"threshold\": 0.8169999718666077, \"p\": 28032, \"fpr\": 0.13379620942015388, \"tpr\": 0.8894834474885844, \"n\": 5329}, {\"threshold\": 0.8180000185966492, \"p\": 28032, \"fpr\": 0.13379620942015388, \"tpr\": 0.8892337328767124, \"n\": 5329}, {\"threshold\": 0.8190000057220459, \"p\": 28032, \"fpr\": 0.13360855695252394, \"tpr\": 0.8889483447488584, \"n\": 5329}, {\"threshold\": 0.8199999928474426, \"p\": 28032, \"fpr\": 0.13360855695252394, \"tpr\": 0.8883062214611872, \"n\": 5329}, {\"threshold\": 0.8209999799728394, \"p\": 28032, \"fpr\": 0.13285794708200413, \"tpr\": 0.8879494863013698, \"n\": 5329}, {\"threshold\": 0.8220000267028809, \"p\": 28032, \"fpr\": 0.13285794708200413, \"tpr\": 0.887521404109589, \"n\": 5329}, {\"threshold\": 0.8230000138282776, \"p\": 28032, \"fpr\": 0.13267029461437418, \"tpr\": 0.88712899543379, \"n\": 5329}, {\"threshold\": 0.8240000009536743, \"p\": 28032, \"fpr\": 0.13229498967911427, \"tpr\": 0.8868079337899544, \"n\": 5329}, {\"threshold\": 0.824999988079071, \"p\": 28032, \"fpr\": 0.13135672734096454, \"tpr\": 0.8864155251141552, \"n\": 5329}, {\"threshold\": 0.8259999752044678, \"p\": 28032, \"fpr\": 0.13079376993807468, \"tpr\": 0.885916095890411, \"n\": 5329}, {\"threshold\": 0.8270000219345093, \"p\": 28032, \"fpr\": 0.1304184650028148, \"tpr\": 0.8855236872146118, \"n\": 5329}, {\"threshold\": 0.828000009059906, \"p\": 28032, \"fpr\": 0.12985550759992495, \"tpr\": 0.8852739726027398, \"n\": 5329}, {\"threshold\": 0.8289999961853027, \"p\": 28032, \"fpr\": 0.12948020266466503, \"tpr\": 0.8850599315068494, \"n\": 5329}, {\"threshold\": 0.8299999833106995, \"p\": 28032, \"fpr\": 0.1292925501970351, \"tpr\": 0.884703196347032, \"n\": 5329}, {\"threshold\": 0.8309999704360962, \"p\": 28032, \"fpr\": 0.12797898292362545, \"tpr\": 0.884560502283105, \"n\": 5329}, {\"threshold\": 0.8320000171661377, \"p\": 28032, \"fpr\": 0.12760367798836555, \"tpr\": 0.8840967465753424, \"n\": 5329}, {\"threshold\": 0.8330000042915344, \"p\": 28032, \"fpr\": 0.12685306811784575, \"tpr\": 0.8837043378995434, \"n\": 5329}, {\"threshold\": 0.8339999914169312, \"p\": 28032, \"fpr\": 0.12647776318258586, \"tpr\": 0.8832405821917808, \"n\": 5329}, {\"threshold\": 0.8349999785423279, \"p\": 28032, \"fpr\": 0.12572715331206605, \"tpr\": 0.8828838470319634, \"n\": 5329}, {\"threshold\": 0.8360000252723694, \"p\": 28032, \"fpr\": 0.12497654344154625, \"tpr\": 0.8823844178082192, \"n\": 5329}, {\"threshold\": 0.8370000123977661, \"p\": 28032, \"fpr\": 0.12460123850628636, \"tpr\": 0.8820990296803652, \"n\": 5329}, {\"threshold\": 0.8379999995231628, \"p\": 28032, \"fpr\": 0.12422593357102646, \"tpr\": 0.8819206621004566, \"n\": 5329}, {\"threshold\": 0.8389999866485596, \"p\": 28032, \"fpr\": 0.12422593357102646, \"tpr\": 0.8814212328767124, \"n\": 5329}, {\"threshold\": 0.8399999737739563, \"p\": 28032, \"fpr\": 0.12347532370050666, \"tpr\": 0.8808147831050228, \"n\": 5329}, {\"threshold\": 0.8410000205039978, \"p\": 28032, \"fpr\": 0.12310001876524676, \"tpr\": 0.8806007420091324, \"n\": 5329}, {\"threshold\": 0.8420000076293945, \"p\": 28032, \"fpr\": 0.12253706136235691, \"tpr\": 0.8799586187214612, \"n\": 5329}, {\"threshold\": 0.8429999947547913, \"p\": 28032, \"fpr\": 0.12234940889472697, \"tpr\": 0.8794591894977168, \"n\": 5329}, {\"threshold\": 0.843999981880188, \"p\": 28032, \"fpr\": 0.12141114655657721, \"tpr\": 0.8787457191780822, \"n\": 5329}, {\"threshold\": 0.8450000286102295, \"p\": 28032, \"fpr\": 0.12066053668605742, \"tpr\": 0.87849600456621, \"n\": 5329}, {\"threshold\": 0.8460000157356262, \"p\": 28032, \"fpr\": 0.12047288421842747, \"tpr\": 0.8782106164383562, \"n\": 5329}, {\"threshold\": 0.847000002861023, \"p\": 28032, \"fpr\": 0.12028523175079753, \"tpr\": 0.8778895547945206, \"n\": 5329}, {\"threshold\": 0.8479999899864197, \"p\": 28032, \"fpr\": 0.11934696941264777, \"tpr\": 0.8776398401826484, \"n\": 5329}, {\"threshold\": 0.8489999771118164, \"p\": 28032, \"fpr\": 0.11915931694501783, \"tpr\": 0.8772117579908676, \"n\": 5329}, {\"threshold\": 0.8500000238418579, \"p\": 28032, \"fpr\": 0.11897166447738788, \"tpr\": 0.8768193493150684, \"n\": 5329}, {\"threshold\": 0.8510000109672546, \"p\": 28032, \"fpr\": 0.11878401200975792, \"tpr\": 0.8764269406392694, \"n\": 5329}, {\"threshold\": 0.8519999980926514, \"p\": 28032, \"fpr\": 0.11859635954212798, \"tpr\": 0.8759631849315068, \"n\": 5329}, {\"threshold\": 0.8529999852180481, \"p\": 28032, \"fpr\": 0.11784574967160819, \"tpr\": 0.875535102739726, \"n\": 5329}, {\"threshold\": 0.8539999723434448, \"p\": 28032, \"fpr\": 0.11747044473634828, \"tpr\": 0.875142694063927, \"n\": 5329}, {\"threshold\": 0.8550000190734863, \"p\": 28032, \"fpr\": 0.11690748733345843, \"tpr\": 0.874464897260274, \"n\": 5329}, {\"threshold\": 0.8560000061988831, \"p\": 28032, \"fpr\": 0.11671983486582849, \"tpr\": 0.8738941210045662, \"n\": 5329}, {\"threshold\": 0.8569999933242798, \"p\": 28032, \"fpr\": 0.11653218239819854, \"tpr\": 0.873644406392694, \"n\": 5329}, {\"threshold\": 0.8579999804496765, \"p\": 28032, \"fpr\": 0.11578157252767873, \"tpr\": 0.873251997716895, \"n\": 5329}, {\"threshold\": 0.859000027179718, \"p\": 28032, \"fpr\": 0.11578157252767873, \"tpr\": 0.8726812214611872, \"n\": 5329}, {\"threshold\": 0.8600000143051147, \"p\": 28032, \"fpr\": 0.11559392006004879, \"tpr\": 0.8722174657534246, \"n\": 5329}, {\"threshold\": 0.8610000014305115, \"p\": 28032, \"fpr\": 0.11503096265715894, \"tpr\": 0.8719677511415526, \"n\": 5329}, {\"threshold\": 0.8619999885559082, \"p\": 28032, \"fpr\": 0.114843310189529, \"tpr\": 0.8715753424657534, \"n\": 5329}, {\"threshold\": 0.8629999756813049, \"p\": 28032, \"fpr\": 0.11465565772189905, \"tpr\": 0.8711829337899544, \"n\": 5329}, {\"threshold\": 0.8640000224113464, \"p\": 28032, \"fpr\": 0.11390504785137924, \"tpr\": 0.8708618721461188, \"n\": 5329}, {\"threshold\": 0.8650000095367432, \"p\": 28032, \"fpr\": 0.1129667855132295, \"tpr\": 0.8702554223744292, \"n\": 5329}, {\"threshold\": 0.8659999966621399, \"p\": 28032, \"fpr\": 0.11240382811033965, \"tpr\": 0.8695419520547946, \"n\": 5329}, {\"threshold\": 0.8669999837875366, \"p\": 28032, \"fpr\": 0.1118408707074498, \"tpr\": 0.8691852168949772, \"n\": 5329}, {\"threshold\": 0.8679999709129333, \"p\": 28032, \"fpr\": 0.11165321823981986, \"tpr\": 0.8686501141552512, \"n\": 5329}, {\"threshold\": 0.8690000176429749, \"p\": 28032, \"fpr\": 0.11127791330455995, \"tpr\": 0.8683647260273972, \"n\": 5329}, {\"threshold\": 0.8700000047683716, \"p\": 28032, \"fpr\": 0.11052730343404016, \"tpr\": 0.8678296232876712, \"n\": 5329}, {\"threshold\": 0.8709999918937683, \"p\": 28032, \"fpr\": 0.11015199849878025, \"tpr\": 0.867579908675799, \"n\": 5329}, {\"threshold\": 0.871999979019165, \"p\": 28032, \"fpr\": 0.1095890410958904, \"tpr\": 0.867044805936073, \"n\": 5329}, {\"threshold\": 0.8730000257492065, \"p\": 28032, \"fpr\": 0.10902608369300057, \"tpr\": 0.8664026826484018, \"n\": 5329}, {\"threshold\": 0.8740000128746033, \"p\": 28032, \"fpr\": 0.10865077875774067, \"tpr\": 0.8660459474885844, \"n\": 5329}, {\"threshold\": 0.875, \"p\": 28032, \"fpr\": 0.10808782135485082, \"tpr\": 0.8654751712328768, \"n\": 5329}, {\"threshold\": 0.8759999871253967, \"p\": 28032, \"fpr\": 0.10733721148433102, \"tpr\": 0.865154109589041, \"n\": 5329}, {\"threshold\": 0.8769999742507935, \"p\": 28032, \"fpr\": 0.10658660161381123, \"tpr\": 0.8645119863013698, \"n\": 5329}, {\"threshold\": 0.878000020980835, \"p\": 28032, \"fpr\": 0.10564833927566147, \"tpr\": 0.8640125570776256, \"n\": 5329}, {\"threshold\": 0.8790000081062317, \"p\": 28032, \"fpr\": 0.10527303434040157, \"tpr\": 0.8635131278538812, \"n\": 5329}, {\"threshold\": 0.8799999952316284, \"p\": 28032, \"fpr\": 0.10508538187277162, \"tpr\": 0.8627283105022832, \"n\": 5329}, {\"threshold\": 0.8809999823570251, \"p\": 28032, \"fpr\": 0.10471007693751173, \"tpr\": 0.8619791666666666, \"n\": 5329}, {\"threshold\": 0.8820000290870667, \"p\": 28032, \"fpr\": 0.10414711953462188, \"tpr\": 0.861408390410959, \"n\": 5329}, {\"threshold\": 0.8830000162124634, \"p\": 28032, \"fpr\": 0.10377181459936198, \"tpr\": 0.8608019406392694, \"n\": 5329}, {\"threshold\": 0.8840000033378601, \"p\": 28032, \"fpr\": 0.10283355226121224, \"tpr\": 0.860052796803653, \"n\": 5329}, {\"threshold\": 0.8849999904632568, \"p\": 28032, \"fpr\": 0.10245824732595234, \"tpr\": 0.859232305936073, \"n\": 5329}, {\"threshold\": 0.8859999775886536, \"p\": 28032, \"fpr\": 0.10227059485832239, \"tpr\": 0.858839897260274, \"n\": 5329}, {\"threshold\": 0.8870000243186951, \"p\": 28032, \"fpr\": 0.10189528992306249, \"tpr\": 0.8580550799086758, \"n\": 5329}, {\"threshold\": 0.8880000114440918, \"p\": 28032, \"fpr\": 0.10151998498780258, \"tpr\": 0.8573772831050228, \"n\": 5329}, {\"threshold\": 0.8889999985694885, \"p\": 28032, \"fpr\": 0.1011446800525427, \"tpr\": 0.8569848744292238, \"n\": 5329}, {\"threshold\": 0.8899999856948853, \"p\": 28032, \"fpr\": 0.09964346031150309, \"tpr\": 0.8563784246575342, \"n\": 5329}, {\"threshold\": 0.890999972820282, \"p\": 28032, \"fpr\": 0.0992681553762432, \"tpr\": 0.8554509132420092, \"n\": 5329}, {\"threshold\": 0.8920000195503235, \"p\": 28032, \"fpr\": 0.0985175455057234, \"tpr\": 0.8548087899543378, \"n\": 5329}, {\"threshold\": 0.8930000066757202, \"p\": 28032, \"fpr\": 0.0981422405704635, \"tpr\": 0.8540953196347032, \"n\": 5329}, {\"threshold\": 0.8939999938011169, \"p\": 28032, \"fpr\": 0.09720397823231375, \"tpr\": 0.853167808219178, \"n\": 5329}, {\"threshold\": 0.8949999809265137, \"p\": 28032, \"fpr\": 0.09682867329705386, \"tpr\": 0.8524900114155252, \"n\": 5329}, {\"threshold\": 0.8960000276565552, \"p\": 28032, \"fpr\": 0.09682867329705386, \"tpr\": 0.8516695205479452, \"n\": 5329}, {\"threshold\": 0.8970000147819519, \"p\": 28032, \"fpr\": 0.09664102082942391, \"tpr\": 0.8509917237442922, \"n\": 5329}, {\"threshold\": 0.8980000019073486, \"p\": 28032, \"fpr\": 0.09626571589416401, \"tpr\": 0.8504209474885844, \"n\": 5329}, {\"threshold\": 0.8989999890327454, \"p\": 28032, \"fpr\": 0.09570275849127416, \"tpr\": 0.8496361301369864, \"n\": 5329}, {\"threshold\": 0.8999999761581421, \"p\": 28032, \"fpr\": 0.09532745355601425, \"tpr\": 0.8489583333333334, \"n\": 5329}, {\"threshold\": 0.9010000228881836, \"p\": 28032, \"fpr\": 0.09438919121786452, \"tpr\": 0.8482805365296804, \"n\": 5329}, {\"threshold\": 0.9020000100135803, \"p\": 28032, \"fpr\": 0.09420153875023457, \"tpr\": 0.8476027397260274, \"n\": 5329}, {\"threshold\": 0.902999997138977, \"p\": 28032, \"fpr\": 0.09363858134734472, \"tpr\": 0.8472816780821918, \"n\": 5329}, {\"threshold\": 0.9039999842643738, \"p\": 28032, \"fpr\": 0.09345092887971476, \"tpr\": 0.8464611872146118, \"n\": 5329}, {\"threshold\": 0.9049999713897705, \"p\": 28032, \"fpr\": 0.09251266654156502, \"tpr\": 0.8458904109589042, \"n\": 5329}, {\"threshold\": 0.906000018119812, \"p\": 28032, \"fpr\": 0.09138675173578532, \"tpr\": 0.844962899543379, \"n\": 5329}, {\"threshold\": 0.9070000052452087, \"p\": 28032, \"fpr\": 0.09063614186526553, \"tpr\": 0.8441067351598174, \"n\": 5329}, {\"threshold\": 0.9079999923706055, \"p\": 28032, \"fpr\": 0.08969787952711578, \"tpr\": 0.843072203196347, \"n\": 5329}, {\"threshold\": 0.9089999794960022, \"p\": 28032, \"fpr\": 0.08951022705948583, \"tpr\": 0.8420376712328768, \"n\": 5329}, {\"threshold\": 0.9100000262260437, \"p\": 28032, \"fpr\": 0.08932257459185589, \"tpr\": 0.841181506849315, \"n\": 5329}, {\"threshold\": 0.9110000133514404, \"p\": 28032, \"fpr\": 0.08857196472133609, \"tpr\": 0.84025399543379, \"n\": 5329}, {\"threshold\": 0.9120000004768372, \"p\": 28032, \"fpr\": 0.08838431225370613, \"tpr\": 0.839576198630137, \"n\": 5329}, {\"threshold\": 0.9129999876022339, \"p\": 28032, \"fpr\": 0.08800900731844624, \"tpr\": 0.8388627283105022, \"n\": 5329}, {\"threshold\": 0.9139999747276306, \"p\": 28032, \"fpr\": 0.08800900731844624, \"tpr\": 0.8381849315068494, \"n\": 5329}, {\"threshold\": 0.9150000214576721, \"p\": 28032, \"fpr\": 0.08763370238318634, \"tpr\": 0.8370790525114156, \"n\": 5329}, {\"threshold\": 0.9160000085830688, \"p\": 28032, \"fpr\": 0.08707074498029649, \"tpr\": 0.8361872146118722, \"n\": 5329}, {\"threshold\": 0.9169999957084656, \"p\": 28032, \"fpr\": 0.0863201351097767, \"tpr\": 0.8347959474885844, \"n\": 5329}, {\"threshold\": 0.9179999828338623, \"p\": 28032, \"fpr\": 0.0863201351097767, \"tpr\": 0.833511700913242, \"n\": 5329}, {\"threshold\": 0.9190000295639038, \"p\": 28032, \"fpr\": 0.08575717770688684, \"tpr\": 0.8326198630136986, \"n\": 5329}, {\"threshold\": 0.9200000166893005, \"p\": 28032, \"fpr\": 0.08500656783636705, \"tpr\": 0.8311929223744292, \"n\": 5329}, {\"threshold\": 0.9210000038146973, \"p\": 28032, \"fpr\": 0.08463126290110715, \"tpr\": 0.8301940639269406, \"n\": 5329}, {\"threshold\": 0.921999990940094, \"p\": 28032, \"fpr\": 0.0836930005629574, \"tpr\": 0.8290525114155252, \"n\": 5329}, {\"threshold\": 0.9229999780654907, \"p\": 28032, \"fpr\": 0.08294239069243761, \"tpr\": 0.8279109589041096, \"n\": 5329}, {\"threshold\": 0.9240000247955322, \"p\": 28032, \"fpr\": 0.08256708575717771, \"tpr\": 0.8269834474885844, \"n\": 5329}, {\"threshold\": 0.925000011920929, \"p\": 28032, \"fpr\": 0.0821917808219178, \"tpr\": 0.8261986301369864, \"n\": 5329}, {\"threshold\": 0.9259999990463257, \"p\": 28032, \"fpr\": 0.08125351848376806, \"tpr\": 0.8248787100456622, \"n\": 5329}, {\"threshold\": 0.9269999861717224, \"p\": 28032, \"fpr\": 0.08125351848376806, \"tpr\": 0.8237728310502284, \"n\": 5329}, {\"threshold\": 0.9279999732971191, \"p\": 28032, \"fpr\": 0.08106586601613812, \"tpr\": 0.8228096461187214, \"n\": 5329}, {\"threshold\": 0.9290000200271606, \"p\": 28032, \"fpr\": 0.08031525614561831, \"tpr\": 0.8214540525114156, \"n\": 5329}, {\"threshold\": 0.9300000071525574, \"p\": 28032, \"fpr\": 0.07956464627509852, \"tpr\": 0.8202411529680366, \"n\": 5329}, {\"threshold\": 0.9309999942779541, \"p\": 28032, \"fpr\": 0.07843873146931882, \"tpr\": 0.818707191780822, \"n\": 5329}, {\"threshold\": 0.9319999814033508, \"p\": 28032, \"fpr\": 0.07825107900168887, \"tpr\": 0.8173159246575342, \"n\": 5329}, {\"threshold\": 0.9330000281333923, \"p\": 28032, \"fpr\": 0.07825107900168887, \"tpr\": 0.816138698630137, \"n\": 5329}, {\"threshold\": 0.9340000152587891, \"p\": 28032, \"fpr\": 0.07806342653405893, \"tpr\": 0.8146047374429224, \"n\": 5329}, {\"threshold\": 0.9350000023841858, \"p\": 28032, \"fpr\": 0.07787577406642897, \"tpr\": 0.8130707762557078, \"n\": 5329}, {\"threshold\": 0.9359999895095825, \"p\": 28032, \"fpr\": 0.07731281666353912, \"tpr\": 0.8118578767123288, \"n\": 5329}, {\"threshold\": 0.9369999766349792, \"p\": 28032, \"fpr\": 0.07674985926064928, \"tpr\": 0.810751997716895, \"n\": 5329}, {\"threshold\": 0.9380000233650208, \"p\": 28032, \"fpr\": 0.07637455432538938, \"tpr\": 0.8092893835616438, \"n\": 5329}, {\"threshold\": 0.9390000104904175, \"p\": 28032, \"fpr\": 0.07599924939012948, \"tpr\": 0.8077554223744292, \"n\": 5329}, {\"threshold\": 0.9399999976158142, \"p\": 28032, \"fpr\": 0.07524863951960968, \"tpr\": 0.8059360730593608, \"n\": 5329}, {\"threshold\": 0.9409999847412109, \"p\": 28032, \"fpr\": 0.07468568211671983, \"tpr\": 0.8046161529680366, \"n\": 5329}, {\"threshold\": 0.9419999718666077, \"p\": 28032, \"fpr\": 0.07393507224620004, \"tpr\": 0.8031892123287672, \"n\": 5329}, {\"threshold\": 0.9430000185966492, \"p\": 28032, \"fpr\": 0.07374741977857009, \"tpr\": 0.8016909246575342, \"n\": 5329}, {\"threshold\": 0.9440000057220459, \"p\": 28032, \"fpr\": 0.0729968099080503, \"tpr\": 0.8002639840182648, \"n\": 5329}, {\"threshold\": 0.9449999928474426, \"p\": 28032, \"fpr\": 0.07243385250516045, \"tpr\": 0.7986943493150684, \"n\": 5329}, {\"threshold\": 0.9459999799728394, \"p\": 28032, \"fpr\": 0.07205854756990054, \"tpr\": 0.7968393264840182, \"n\": 5329}, {\"threshold\": 0.9470000267028809, \"p\": 28032, \"fpr\": 0.0711202852317508, \"tpr\": 0.7951626712328768, \"n\": 5329}, {\"threshold\": 0.9480000138282776, \"p\": 28032, \"fpr\": 0.07055732782886096, \"tpr\": 0.793771404109589, \"n\": 5329}, {\"threshold\": 0.9490000009536743, \"p\": 28032, \"fpr\": 0.06905610808782135, \"tpr\": 0.7921304223744292, \"n\": 5329}, {\"threshold\": 0.949999988079071, \"p\": 28032, \"fpr\": 0.06774254081441171, \"tpr\": 0.7896689497716894, \"n\": 5329}, {\"threshold\": 0.9509999752044678, \"p\": 28032, \"fpr\": 0.06699193094389191, \"tpr\": 0.7881349885844748, \"n\": 5329}, {\"threshold\": 0.9520000219345093, \"p\": 28032, \"fpr\": 0.06624132107337212, \"tpr\": 0.7865653538812786, \"n\": 5329}, {\"threshold\": 0.953000009059906, \"p\": 28032, \"fpr\": 0.06567836367048227, \"tpr\": 0.7841752283105022, \"n\": 5329}, {\"threshold\": 0.9539999961853027, \"p\": 28032, \"fpr\": 0.06511540626759242, \"tpr\": 0.7817494292237442, \"n\": 5329}, {\"threshold\": 0.9549999833106995, \"p\": 28032, \"fpr\": 0.06436479639707263, \"tpr\": 0.7796090182648402, \"n\": 5329}, {\"threshold\": 0.9559999704360962, \"p\": 28032, \"fpr\": 0.06417714392944267, \"tpr\": 0.7779680365296804, \"n\": 5329}, {\"threshold\": 0.9570000171661377, \"p\": 28032, \"fpr\": 0.06305122912366298, \"tpr\": 0.7757562785388128, \"n\": 5329}, {\"threshold\": 0.9580000042915344, \"p\": 28032, \"fpr\": 0.06230061925314318, \"tpr\": 0.773829908675799, \"n\": 5329}, {\"threshold\": 0.9589999914169312, \"p\": 28032, \"fpr\": 0.061362356914993435, \"tpr\": 0.7710473744292238, \"n\": 5329}, {\"threshold\": 0.9599999785423279, \"p\": 28032, \"fpr\": 0.06098705197973353, \"tpr\": 0.7686572488584474, \"n\": 5329}, {\"threshold\": 0.9610000252723694, \"p\": 28032, \"fpr\": 0.06042409457684369, \"tpr\": 0.7661244292237442, \"n\": 5329}, {\"threshold\": 0.9620000123977661, \"p\": 28032, \"fpr\": 0.05911052730343404, \"tpr\": 0.7639840182648402, \"n\": 5329}, {\"threshold\": 0.9629999995231628, \"p\": 28032, \"fpr\": 0.058547569900544195, \"tpr\": 0.7610231164383562, \"n\": 5329}, {\"threshold\": 0.9639999866485596, \"p\": 28032, \"fpr\": 0.05760930756239445, \"tpr\": 0.7578125, \"n\": 5329}, {\"threshold\": 0.9649999737739563, \"p\": 28032, \"fpr\": 0.05685869769187465, \"tpr\": 0.7553153538812786, \"n\": 5329}, {\"threshold\": 0.9660000205039978, \"p\": 28032, \"fpr\": 0.05610808782135485, \"tpr\": 0.7523544520547946, \"n\": 5329}, {\"threshold\": 0.9670000076293945, \"p\": 28032, \"fpr\": 0.05535747795083505, \"tpr\": 0.749322203196347, \"n\": 5329}, {\"threshold\": 0.9679999947547913, \"p\": 28032, \"fpr\": 0.0547945205479452, \"tpr\": 0.7457905251141552, \"n\": 5329}, {\"threshold\": 0.968999981880188, \"p\": 28032, \"fpr\": 0.054419215612685305, \"tpr\": 0.7426512557077626, \"n\": 5329}, {\"threshold\": 0.9700000286102295, \"p\": 28032, \"fpr\": 0.053293300806905614, \"tpr\": 0.7389055365296804, \"n\": 5329}, {\"threshold\": 0.9710000157356262, \"p\": 28032, \"fpr\": 0.05235503846875587, \"tpr\": 0.7358376141552512, \"n\": 5329}, {\"threshold\": 0.972000002861023, \"p\": 28032, \"fpr\": 0.05141677613060612, \"tpr\": 0.731806506849315, \"n\": 5329}, {\"threshold\": 0.9729999899864197, \"p\": 28032, \"fpr\": 0.051041471195346216, \"tpr\": 0.728310502283105, \"n\": 5329}, {\"threshold\": 0.9739999771118164, \"p\": 28032, \"fpr\": 0.049915556389566525, \"tpr\": 0.7238869863013698, \"n\": 5329}, {\"threshold\": 0.9750000238418579, \"p\": 28032, \"fpr\": 0.048789641583786826, \"tpr\": 0.7194991438356164, \"n\": 5329}, {\"threshold\": 0.9760000109672546, \"p\": 28032, \"fpr\": 0.047100769375117285, \"tpr\": 0.7150399543378996, \"n\": 5329}, {\"threshold\": 0.9769999980926514, \"p\": 28032, \"fpr\": 0.045787202101707634, \"tpr\": 0.7104737442922374, \"n\": 5329}, {\"threshold\": 0.9779999852180481, \"p\": 28032, \"fpr\": 0.04484893976355789, \"tpr\": 0.7061215753424658, \"n\": 5329}, {\"threshold\": 0.9789999723434448, \"p\": 28032, \"fpr\": 0.04447363482829799, \"tpr\": 0.7011272831050228, \"n\": 5329}, {\"threshold\": 0.9800000190734863, \"p\": 28032, \"fpr\": 0.04391067742540814, \"tpr\": 0.6952411529680366, \"n\": 5329}, {\"threshold\": 0.9810000061988831, \"p\": 28032, \"fpr\": 0.04316006755488835, \"tpr\": 0.6894977168949772, \"n\": 5329}, {\"threshold\": 0.9819999933242798, \"p\": 28032, \"fpr\": 0.0418465002814787, \"tpr\": 0.6829337899543378, \"n\": 5329}, {\"threshold\": 0.9829999804496765, \"p\": 28032, \"fpr\": 0.039594670669919306, \"tpr\": 0.6770476598173516, \"n\": 5329}, {\"threshold\": 0.984000027179718, \"p\": 28032, \"fpr\": 0.03809345092887972, \"tpr\": 0.6697345890410958, \"n\": 5329}, {\"threshold\": 0.9850000143051147, \"p\": 28032, \"fpr\": 0.037342841058359916, \"tpr\": 0.662171803652968, \"n\": 5329}, {\"threshold\": 0.9860000014305115, \"p\": 28032, \"fpr\": 0.03602927378495027, \"tpr\": 0.6538955479452054, \"n\": 5329}, {\"threshold\": 0.9869999885559082, \"p\": 28032, \"fpr\": 0.035091011446800525, \"tpr\": 0.644656107305936, \"n\": 5329}, {\"threshold\": 0.9879999756813049, \"p\": 28032, \"fpr\": 0.03358979170576093, \"tpr\": 0.635380993150685, \"n\": 5329}, {\"threshold\": 0.9890000224113464, \"p\": 28032, \"fpr\": 0.03190091949709139, \"tpr\": 0.6254637557077626, \"n\": 5329}, {\"threshold\": 0.9900000095367432, \"p\": 28032, \"fpr\": 0.029461437417902046, \"tpr\": 0.6139055365296804, \"n\": 5329}, {\"threshold\": 0.9909999966621399, \"p\": 28032, \"fpr\": 0.0281478701444924, \"tpr\": 0.6016695205479452, \"n\": 5329}, {\"threshold\": 0.9919999837875366, \"p\": 28032, \"fpr\": 0.026646650403452807, \"tpr\": 0.5876498287671232, \"n\": 5329}, {\"threshold\": 0.9929999709129333, \"p\": 28032, \"fpr\": 0.02458247325952336, \"tpr\": 0.5724885844748858, \"n\": 5329}, {\"threshold\": 0.9940000176429749, \"p\": 28032, \"fpr\": 0.02308125351848377, \"tpr\": 0.555365296803653, \"n\": 5329}, {\"threshold\": 0.9950000047683716, \"p\": 28032, \"fpr\": 0.02195533871270407, \"tpr\": 0.5330336757990868, \"n\": 5329}, {\"threshold\": 0.9959999918937683, \"p\": 28032, \"fpr\": 0.02045411897166448, \"tpr\": 0.505921803652968, \"n\": 5329}, {\"threshold\": 0.996999979019165, \"p\": 28032, \"fpr\": 0.018389941827735033, \"tpr\": 0.4727097602739726, \"n\": 5329}, {\"threshold\": 0.9980000257492065, \"p\": 28032, \"fpr\": 0.015012197410395946, \"tpr\": 0.4281892123287671, \"n\": 5329}, {\"threshold\": 0.9990000128746033, \"p\": 28032, \"fpr\": 0.011071495590167011, \"tpr\": 0.3590896118721461, \"n\": 5329}, {\"threshold\": 1.0, \"p\": 28032, \"fpr\": 0.0, \"tpr\": 0.0, \"n\": 5329}]}]], \"type\": \"Model\"}, \"ipython\": true, \"view_params\": {\"model_type\": \"regression\", \"view\": \"Evaluation\"}, \"model_type\": \"regression\", \"attributes\": {\"section_titles\": [\"Schema\", \"Hyperparameters\", \"Training Summary\", \"Settings\", \"Highest Positive Coefficients\", \"Lowest Negative Coefficients\"], \"sections\": [[[\"Number of coefficients\", 219218], [\"Number of examples\", 133448], [\"Number of classes\", 2], [\"Number of feature columns\", 1], [\"Number of unpacked features\", 219217]], [[\"L1 penalty\", 0.0], [\"L2 penalty\", 0.01]], [[\"Solver\", \"auto\"], [\"Solver iterations\", 10], [\"Solver status\", \"TERMINATED: Iteration limit reached.\"], [\"Training time (sec)\", 10.942]], [[\"Log-likelihood\", 4956.6901]], [[\"word_count[pinkjeep]\", 13.5701], [\"word_count[(http://www.amazon.com/review/rhgg6qp7tdnhb/ref=cm_cr_pr_cmt?ie=utf8&asin;=b00318cla0&nodeid;)]\", 12.3088], [\"word_count[label/box.]\", 11.1774], [\"word_count[product.***]\", 11.064], [\"word_count[direct-pumping]\", 11.0531]], [[\"word_count[it.update:after]\", -18.3631], [\"word_count[5months.]\", -16.0906], [\"word_count[oldest.if]\", -15.9315], [\"word_count[maxima.]\", -15.8084], [\"word_count[(160.00)]\", -15.4512]]]}, \"evaluations\": [[\"test_data\", {\"roc_curve\": [{\"threshold\": 0.0, \"p\": 28032, \"fpr\": 0.22311878401200977, \"tpr\": 0.003924086757990867, \"n\": 5329}, {\"threshold\": 0.0010000000474974513, \"p\": 28032, \"fpr\": 0.7768812159879902, \"tpr\": 0.9960759132420092, \"n\": 5329}, {\"threshold\": 0.0020000000949949026, \"p\": 28032, \"fpr\": 0.7369112403828111, \"tpr\": 0.9950413812785388, \"n\": 5329}, {\"threshold\": 0.003000000026077032, \"p\": 28032, \"fpr\": 0.7142052917995871, \"tpr\": 0.9944349315068494, \"n\": 5329}, {\"threshold\": 0.004000000189989805, \"p\": 28032, \"fpr\": 0.6986301369863014, \"tpr\": 0.9939711757990868, \"n\": 5329}, {\"threshold\": 0.004999999888241291, \"p\": 28032, \"fpr\": 0.6873709889285045, \"tpr\": 0.9936144406392694, \"n\": 5329}, {\"threshold\": 0.006000000052154064, \"p\": 28032, \"fpr\": 0.6776130606117471, \"tpr\": 0.9930793378995434, \"n\": 5329}, {\"threshold\": 0.007000000216066837, \"p\": 28032, \"fpr\": 0.6671045224244699, \"tpr\": 0.992722602739726, \"n\": 5329}, {\"threshold\": 0.00800000037997961, \"p\": 28032, \"fpr\": 0.6567836367048226, \"tpr\": 0.9924728881278538, \"n\": 5329}, {\"threshold\": 0.008999999612569809, \"p\": 28032, \"fpr\": 0.6496528429348846, \"tpr\": 0.9921161529680366, \"n\": 5329}, {\"threshold\": 0.009999999776482582, \"p\": 28032, \"fpr\": 0.6410208294239069, \"tpr\": 0.9917594178082192, \"n\": 5329}, {\"threshold\": 0.010999999940395355, \"p\": 28032, \"fpr\": 0.6342653405892288, \"tpr\": 0.99136700913242, \"n\": 5329}, {\"threshold\": 0.012000000104308128, \"p\": 28032, \"fpr\": 0.6288234190279602, \"tpr\": 0.9910459474885844, \"n\": 5329}, {\"threshold\": 0.013000000268220901, \"p\": 28032, \"fpr\": 0.622067930193282, \"tpr\": 0.9907962328767124, \"n\": 5329}, {\"threshold\": 0.014000000432133675, \"p\": 28032, \"fpr\": 0.6171889660349034, \"tpr\": 0.9905465182648402, \"n\": 5329}, {\"threshold\": 0.014999999664723873, \"p\": 28032, \"fpr\": 0.6104334772002252, \"tpr\": 0.9902611301369864, \"n\": 5329}, {\"threshold\": 0.01600000075995922, \"p\": 28032, \"fpr\": 0.6057421655094765, \"tpr\": 0.989904394977169, \"n\": 5329}, {\"threshold\": 0.017000000923871994, \"p\": 28032, \"fpr\": 0.6019891161568774, \"tpr\": 0.989619006849315, \"n\": 5329}, {\"threshold\": 0.017999999225139618, \"p\": 28032, \"fpr\": 0.5971101519984988, \"tpr\": 0.9894763127853882, \"n\": 5329}, {\"threshold\": 0.01899999938905239, \"p\": 28032, \"fpr\": 0.5922311878401201, \"tpr\": 0.9893336187214612, \"n\": 5329}, {\"threshold\": 0.019999999552965164, \"p\": 28032, \"fpr\": 0.5877275286170013, \"tpr\": 0.9891195776255708, \"n\": 5329}, {\"threshold\": 0.020999999716877937, \"p\": 28032, \"fpr\": 0.5839744792644024, \"tpr\": 0.9890125570776256, \"n\": 5329}, {\"threshold\": 0.02199999988079071, \"p\": 28032, \"fpr\": 0.5811596922499531, \"tpr\": 0.9887628424657534, \"n\": 5329}, {\"threshold\": 0.023000000044703484, \"p\": 28032, \"fpr\": 0.5790955151060236, \"tpr\": 0.9886201484018264, \"n\": 5329}, {\"threshold\": 0.024000000208616257, \"p\": 28032, \"fpr\": 0.5747795083505348, \"tpr\": 0.9884774543378996, \"n\": 5329}, {\"threshold\": 0.02500000037252903, \"p\": 28032, \"fpr\": 0.5715894164008257, \"tpr\": 0.9882990867579908, \"n\": 5329}, {\"threshold\": 0.026000000536441803, \"p\": 28032, \"fpr\": 0.5680240195158567, \"tpr\": 0.9881920662100456, \"n\": 5329}, {\"threshold\": 0.027000000700354576, \"p\": 28032, \"fpr\": 0.5648339275661475, \"tpr\": 0.9879423515981736, \"n\": 5329}, {\"threshold\": 0.02800000086426735, \"p\": 28032, \"fpr\": 0.5620191405516982, \"tpr\": 0.9876926369863014, \"n\": 5329}, {\"threshold\": 0.028999999165534973, \"p\": 28032, \"fpr\": 0.5584537436667292, \"tpr\": 0.9875499429223744, \"n\": 5329}, {\"threshold\": 0.029999999329447746, \"p\": 28032, \"fpr\": 0.5545130418465003, \"tpr\": 0.9873002283105022, \"n\": 5329}, {\"threshold\": 0.03099999949336052, \"p\": 28032, \"fpr\": 0.5530118221054607, \"tpr\": 0.987193207762557, \"n\": 5329}, {\"threshold\": 0.03200000151991844, \"p\": 28032, \"fpr\": 0.5492587727528617, \"tpr\": 0.986943493150685, \"n\": 5329}, {\"threshold\": 0.032999999821186066, \"p\": 28032, \"fpr\": 0.5453180709326327, \"tpr\": 0.9867294520547946, \"n\": 5329}, {\"threshold\": 0.03400000184774399, \"p\": 28032, \"fpr\": 0.5434415462563332, \"tpr\": 0.9866224315068494, \"n\": 5329}, {\"threshold\": 0.03500000014901161, \"p\": 28032, \"fpr\": 0.5415650215800337, \"tpr\": 0.9865867579908676, \"n\": 5329}, {\"threshold\": 0.035999998450279236, \"p\": 28032, \"fpr\": 0.5395008444361044, \"tpr\": 0.9864797374429224, \"n\": 5329}, {\"threshold\": 0.03700000047683716, \"p\": 28032, \"fpr\": 0.537061362356915, \"tpr\": 0.986408390410959, \"n\": 5329}, {\"threshold\": 0.03799999877810478, \"p\": 28032, \"fpr\": 0.5338712704072058, \"tpr\": 0.9860159817351598, \"n\": 5329}, {\"threshold\": 0.039000000804662704, \"p\": 28032, \"fpr\": 0.5327453556014261, \"tpr\": 0.9858019406392694, \"n\": 5329}, {\"threshold\": 0.03999999910593033, \"p\": 28032, \"fpr\": 0.5314317883280165, \"tpr\": 0.9856949200913242, \"n\": 5329}, {\"threshold\": 0.04100000113248825, \"p\": 28032, \"fpr\": 0.5291799587164571, \"tpr\": 0.9856235730593608, \"n\": 5329}, {\"threshold\": 0.041999999433755875, \"p\": 28032, \"fpr\": 0.5261775192343779, \"tpr\": 0.985445205479452, \"n\": 5329}, {\"threshold\": 0.0430000014603138, \"p\": 28032, \"fpr\": 0.5250516044285982, \"tpr\": 0.9852311643835616, \"n\": 5329}, {\"threshold\": 0.04399999976158142, \"p\": 28032, \"fpr\": 0.5226121223494089, \"tpr\": 0.9851241438356164, \"n\": 5329}, {\"threshold\": 0.04500000178813934, \"p\": 28032, \"fpr\": 0.5214862075436292, \"tpr\": 0.9849814497716894, \"n\": 5329}, {\"threshold\": 0.04600000008940697, \"p\": 28032, \"fpr\": 0.5186714205291799, \"tpr\": 0.9849457762557078, \"n\": 5329}, {\"threshold\": 0.04699999839067459, \"p\": 28032, \"fpr\": 0.5167948958528805, \"tpr\": 0.9847317351598174, \"n\": 5329}, {\"threshold\": 0.04800000041723251, \"p\": 28032, \"fpr\": 0.5145430662413211, \"tpr\": 0.984517694063927, \"n\": 5329}, {\"threshold\": 0.04899999871850014, \"p\": 28032, \"fpr\": 0.5134171514355413, \"tpr\": 0.984375, \"n\": 5329}, {\"threshold\": 0.05000000074505806, \"p\": 28032, \"fpr\": 0.5115406267592418, \"tpr\": 0.984232305936073, \"n\": 5329}, {\"threshold\": 0.050999999046325684, \"p\": 28032, \"fpr\": 0.5083505348095327, \"tpr\": 0.9840182648401826, \"n\": 5329}, {\"threshold\": 0.052000001072883606, \"p\": 28032, \"fpr\": 0.5057234002627135, \"tpr\": 0.9838755707762558, \"n\": 5329}, {\"threshold\": 0.05299999937415123, \"p\": 28032, \"fpr\": 0.5040345280540439, \"tpr\": 0.9838042237442922, \"n\": 5329}, {\"threshold\": 0.05400000140070915, \"p\": 28032, \"fpr\": 0.5019703509101144, \"tpr\": 0.9836258561643836, \"n\": 5329}, {\"threshold\": 0.054999999701976776, \"p\": 28032, \"fpr\": 0.5008444361043348, \"tpr\": 0.98355450913242, \"n\": 5329}, {\"threshold\": 0.0560000017285347, \"p\": 28032, \"fpr\": 0.49840495402514545, \"tpr\": 0.9835188356164384, \"n\": 5329}, {\"threshold\": 0.05700000002980232, \"p\": 28032, \"fpr\": 0.496340776881216, \"tpr\": 0.983304794520548, \"n\": 5329}, {\"threshold\": 0.057999998331069946, \"p\": 28032, \"fpr\": 0.4940889472696566, \"tpr\": 0.983162100456621, \"n\": 5329}, {\"threshold\": 0.05900000035762787, \"p\": 28032, \"fpr\": 0.4929630324638769, \"tpr\": 0.983019406392694, \"n\": 5329}, {\"threshold\": 0.05999999865889549, \"p\": 28032, \"fpr\": 0.49052355038468753, \"tpr\": 0.9829123858447488, \"n\": 5329}, {\"threshold\": 0.061000000685453415, \"p\": 28032, \"fpr\": 0.4884593732407581, \"tpr\": 0.9827340182648402, \"n\": 5329}, {\"threshold\": 0.06199999898672104, \"p\": 28032, \"fpr\": 0.4865828485644586, \"tpr\": 0.9826983447488584, \"n\": 5329}, {\"threshold\": 0.06300000101327896, \"p\": 28032, \"fpr\": 0.48526928129104896, \"tpr\": 0.982626997716895, \"n\": 5329}, {\"threshold\": 0.06400000303983688, \"p\": 28032, \"fpr\": 0.4841433664852693, \"tpr\": 0.982484303652968, \"n\": 5329}, {\"threshold\": 0.06499999761581421, \"p\": 28032, \"fpr\": 0.48282979921185964, \"tpr\": 0.9824486301369864, \"n\": 5329}, {\"threshold\": 0.06599999964237213, \"p\": 28032, \"fpr\": 0.4822668418089698, \"tpr\": 0.9824486301369864, \"n\": 5329}, {\"threshold\": 0.06700000166893005, \"p\": 28032, \"fpr\": 0.48151623193845, \"tpr\": 0.9823772831050228, \"n\": 5329}, {\"threshold\": 0.06800000369548798, \"p\": 28032, \"fpr\": 0.4803903171326703, \"tpr\": 0.9821989155251142, \"n\": 5329}, {\"threshold\": 0.0689999982714653, \"p\": 28032, \"fpr\": 0.4792644023268906, \"tpr\": 0.9821632420091324, \"n\": 5329}, {\"threshold\": 0.07000000029802322, \"p\": 28032, \"fpr\": 0.4785137924563708, \"tpr\": 0.982091894977169, \"n\": 5329}, {\"threshold\": 0.07100000232458115, \"p\": 28032, \"fpr\": 0.4772002251829612, \"tpr\": 0.9820562214611872, \"n\": 5329}, {\"threshold\": 0.07199999690055847, \"p\": 28032, \"fpr\": 0.47588665790955154, \"tpr\": 0.9820205479452054, \"n\": 5329}, {\"threshold\": 0.0729999989271164, \"p\": 28032, \"fpr\": 0.47401013323325203, \"tpr\": 0.9819848744292238, \"n\": 5329}, {\"threshold\": 0.07400000095367432, \"p\": 28032, \"fpr\": 0.4725089134922124, \"tpr\": 0.9818778538812786, \"n\": 5329}, {\"threshold\": 0.07500000298023224, \"p\": 28032, \"fpr\": 0.4706323888159129, \"tpr\": 0.9817708333333334, \"n\": 5329}, {\"threshold\": 0.07599999755620956, \"p\": 28032, \"fpr\": 0.4696941264777632, \"tpr\": 0.9815924657534246, \"n\": 5329}, {\"threshold\": 0.07699999958276749, \"p\": 28032, \"fpr\": 0.46838055920435356, \"tpr\": 0.981556792237443, \"n\": 5329}, {\"threshold\": 0.07800000160932541, \"p\": 28032, \"fpr\": 0.4674422968662038, \"tpr\": 0.981271404109589, \"n\": 5329}, {\"threshold\": 0.07900000363588333, \"p\": 28032, \"fpr\": 0.46650403452805406, \"tpr\": 0.981271404109589, \"n\": 5329}, {\"threshold\": 0.07999999821186066, \"p\": 28032, \"fpr\": 0.4655657721899043, \"tpr\": 0.9811643835616438, \"n\": 5329}, {\"threshold\": 0.08100000023841858, \"p\": 28032, \"fpr\": 0.4648151623193845, \"tpr\": 0.9811287100456622, \"n\": 5329}, {\"threshold\": 0.0820000022649765, \"p\": 28032, \"fpr\": 0.4633139425783449, \"tpr\": 0.9810930365296804, \"n\": 5329}, {\"threshold\": 0.08299999684095383, \"p\": 28032, \"fpr\": 0.4618127228373053, \"tpr\": 0.98087899543379, \"n\": 5329}, {\"threshold\": 0.08399999886751175, \"p\": 28032, \"fpr\": 0.46049915556389565, \"tpr\": 0.9808076484018264, \"n\": 5329}, {\"threshold\": 0.08500000089406967, \"p\": 28032, \"fpr\": 0.4584349784199662, \"tpr\": 0.9808076484018264, \"n\": 5329}, {\"threshold\": 0.0860000029206276, \"p\": 28032, \"fpr\": 0.45749671608181647, \"tpr\": 0.9807719748858448, \"n\": 5329}, {\"threshold\": 0.08699999749660492, \"p\": 28032, \"fpr\": 0.4559954963407769, \"tpr\": 0.9807006278538812, \"n\": 5329}, {\"threshold\": 0.08799999952316284, \"p\": 28032, \"fpr\": 0.4544942765997373, \"tpr\": 0.9804865867579908, \"n\": 5329}, {\"threshold\": 0.08900000154972076, \"p\": 28032, \"fpr\": 0.4539313191968474, \"tpr\": 0.9803082191780822, \"n\": 5329}, {\"threshold\": 0.09000000357627869, \"p\": 28032, \"fpr\": 0.45318070932632765, \"tpr\": 0.9801655251141552, \"n\": 5329}, {\"threshold\": 0.09099999815225601, \"p\": 28032, \"fpr\": 0.4522424469881779, \"tpr\": 0.9801298515981736, \"n\": 5329}, {\"threshold\": 0.09200000017881393, \"p\": 28032, \"fpr\": 0.4511165321823982, \"tpr\": 0.9801298515981736, \"n\": 5329}, {\"threshold\": 0.09300000220537186, \"p\": 28032, \"fpr\": 0.4498029649089886, \"tpr\": 0.9799871575342466, \"n\": 5329}, {\"threshold\": 0.09399999678134918, \"p\": 28032, \"fpr\": 0.44905235503846874, \"tpr\": 0.9798801369863014, \"n\": 5329}, {\"threshold\": 0.0949999988079071, \"p\": 28032, \"fpr\": 0.448114092700319, \"tpr\": 0.9797731164383562, \"n\": 5329}, {\"threshold\": 0.09600000083446503, \"p\": 28032, \"fpr\": 0.44717583036216924, \"tpr\": 0.9796304223744292, \"n\": 5329}, {\"threshold\": 0.09700000286102295, \"p\": 28032, \"fpr\": 0.44642522049164945, \"tpr\": 0.9795947488584474, \"n\": 5329}, {\"threshold\": 0.09799999743700027, \"p\": 28032, \"fpr\": 0.4456746106211297, \"tpr\": 0.979380707762557, \"n\": 5329}, {\"threshold\": 0.0989999994635582, \"p\": 28032, \"fpr\": 0.4447363482829799, \"tpr\": 0.9791666666666666, \"n\": 5329}, {\"threshold\": 0.10000000149011612, \"p\": 28032, \"fpr\": 0.44379808594483017, \"tpr\": 0.9790953196347032, \"n\": 5329}, {\"threshold\": 0.10100000351667404, \"p\": 28032, \"fpr\": 0.44192156126853066, \"tpr\": 0.9790239726027398, \"n\": 5329}, {\"threshold\": 0.10199999809265137, \"p\": 28032, \"fpr\": 0.4404203415274911, \"tpr\": 0.9789169520547946, \"n\": 5329}, {\"threshold\": 0.10300000011920929, \"p\": 28032, \"fpr\": 0.43966973165697126, \"tpr\": 0.9788812785388128, \"n\": 5329}, {\"threshold\": 0.10400000214576721, \"p\": 28032, \"fpr\": 0.4385438168511916, \"tpr\": 0.9787029109589042, \"n\": 5329}, {\"threshold\": 0.10499999672174454, \"p\": 28032, \"fpr\": 0.4381685119159317, \"tpr\": 0.9785245433789954, \"n\": 5329}, {\"threshold\": 0.10599999874830246, \"p\": 28032, \"fpr\": 0.43647963970726217, \"tpr\": 0.9783818493150684, \"n\": 5329}, {\"threshold\": 0.10700000077486038, \"p\": 28032, \"fpr\": 0.43535372490148244, \"tpr\": 0.9783461757990868, \"n\": 5329}, {\"threshold\": 0.1080000028014183, \"p\": 28032, \"fpr\": 0.43479076749859263, \"tpr\": 0.9782748287671232, \"n\": 5329}, {\"threshold\": 0.10899999737739563, \"p\": 28032, \"fpr\": 0.4336648526928129, \"tpr\": 0.9780964611872146, \"n\": 5329}, {\"threshold\": 0.10999999940395355, \"p\": 28032, \"fpr\": 0.4329142428222931, \"tpr\": 0.9779894406392694, \"n\": 5329}, {\"threshold\": 0.11100000143051147, \"p\": 28032, \"fpr\": 0.4314130230812535, \"tpr\": 0.9779894406392694, \"n\": 5329}, {\"threshold\": 0.1120000034570694, \"p\": 28032, \"fpr\": 0.43085006567836365, \"tpr\": 0.9778467465753424, \"n\": 5329}, {\"threshold\": 0.11299999803304672, \"p\": 28032, \"fpr\": 0.43009945580784387, \"tpr\": 0.9777040525114156, \"n\": 5329}, {\"threshold\": 0.11400000005960464, \"p\": 28032, \"fpr\": 0.4293488459373241, \"tpr\": 0.9776683789954338, \"n\": 5329}, {\"threshold\": 0.11500000208616257, \"p\": 28032, \"fpr\": 0.42784762619628447, \"tpr\": 0.9775613584474886, \"n\": 5329}, {\"threshold\": 0.11599999666213989, \"p\": 28032, \"fpr\": 0.4269093638581347, \"tpr\": 0.9775256849315068, \"n\": 5329}, {\"threshold\": 0.11699999868869781, \"p\": 28032, \"fpr\": 0.4263464064552449, \"tpr\": 0.9774186643835616, \"n\": 5329}, {\"threshold\": 0.11800000071525574, \"p\": 28032, \"fpr\": 0.42615875398761494, \"tpr\": 0.9773473173515982, \"n\": 5329}, {\"threshold\": 0.11900000274181366, \"p\": 28032, \"fpr\": 0.42540814411709515, \"tpr\": 0.9773116438356164, \"n\": 5329}, {\"threshold\": 0.11999999731779099, \"p\": 28032, \"fpr\": 0.4246575342465753, \"tpr\": 0.9772046232876712, \"n\": 5329}, {\"threshold\": 0.12099999934434891, \"p\": 28032, \"fpr\": 0.42428222931131543, \"tpr\": 0.9769192351598174, \"n\": 5329}, {\"threshold\": 0.12200000137090683, \"p\": 28032, \"fpr\": 0.42428222931131543, \"tpr\": 0.9768122146118722, \"n\": 5329}, {\"threshold\": 0.12300000339746475, \"p\": 28032, \"fpr\": 0.4240945768436855, \"tpr\": 0.9767408675799086, \"n\": 5329}, {\"threshold\": 0.12399999797344208, \"p\": 28032, \"fpr\": 0.4229686620379058, \"tpr\": 0.9766338470319634, \"n\": 5329}, {\"threshold\": 0.125, \"p\": 28032, \"fpr\": 0.422405704635016, \"tpr\": 0.9765981735159818, \"n\": 5329}, {\"threshold\": 0.12600000202655792, \"p\": 28032, \"fpr\": 0.4214674422968662, \"tpr\": 0.9765625, \"n\": 5329}, {\"threshold\": 0.12700000405311584, \"p\": 28032, \"fpr\": 0.4207168324263464, \"tpr\": 0.9763841324200914, \"n\": 5329}, {\"threshold\": 0.12800000607967377, \"p\": 28032, \"fpr\": 0.4199662225558266, \"tpr\": 0.9763484589041096, \"n\": 5329}, {\"threshold\": 0.1289999932050705, \"p\": 28032, \"fpr\": 0.41940326515293674, \"tpr\": 0.976170091324201, \"n\": 5329}, {\"threshold\": 0.12999999523162842, \"p\": 28032, \"fpr\": 0.4182773503471571, \"tpr\": 0.9759560502283106, \"n\": 5329}, {\"threshold\": 0.13099999725818634, \"p\": 28032, \"fpr\": 0.4177143929442672, \"tpr\": 0.9759203767123288, \"n\": 5329}, {\"threshold\": 0.13199999928474426, \"p\": 28032, \"fpr\": 0.41621317320322765, \"tpr\": 0.9758133561643836, \"n\": 5329}, {\"threshold\": 0.13300000131130219, \"p\": 28032, \"fpr\": 0.4156502158003378, \"tpr\": 0.97574200913242, \"n\": 5329}, {\"threshold\": 0.1340000033378601, \"p\": 28032, \"fpr\": 0.41452430099455806, \"tpr\": 0.9755993150684932, \"n\": 5329}, {\"threshold\": 0.13500000536441803, \"p\": 28032, \"fpr\": 0.4128354287858885, \"tpr\": 0.975492294520548, \"n\": 5329}, {\"threshold\": 0.13600000739097595, \"p\": 28032, \"fpr\": 0.41208481891536874, \"tpr\": 0.975492294520548, \"n\": 5329}, {\"threshold\": 0.13699999451637268, \"p\": 28032, \"fpr\": 0.410958904109589, \"tpr\": 0.9752425799086758, \"n\": 5329}, {\"threshold\": 0.1379999965429306, \"p\": 28032, \"fpr\": 0.4103959467066992, \"tpr\": 0.975206906392694, \"n\": 5329}, {\"threshold\": 0.13899999856948853, \"p\": 28032, \"fpr\": 0.40945768436854946, \"tpr\": 0.9751712328767124, \"n\": 5329}, {\"threshold\": 0.14000000059604645, \"p\": 28032, \"fpr\": 0.4092700319009195, \"tpr\": 0.9751355593607306, \"n\": 5329}, {\"threshold\": 0.14100000262260437, \"p\": 28032, \"fpr\": 0.40908237943328957, \"tpr\": 0.9750998858447488, \"n\": 5329}, {\"threshold\": 0.1420000046491623, \"p\": 28032, \"fpr\": 0.40833176956276973, \"tpr\": 0.9750642123287672, \"n\": 5329}, {\"threshold\": 0.14300000667572021, \"p\": 28032, \"fpr\": 0.40739350722462, \"tpr\": 0.9750285388127854, \"n\": 5329}, {\"threshold\": 0.14399999380111694, \"p\": 28032, \"fpr\": 0.4070182022893601, \"tpr\": 0.9750285388127854, \"n\": 5329}, {\"threshold\": 0.14499999582767487, \"p\": 28032, \"fpr\": 0.40532933008069055, \"tpr\": 0.9749928652968036, \"n\": 5329}, {\"threshold\": 0.1459999978542328, \"p\": 28032, \"fpr\": 0.4045787202101708, \"tpr\": 0.9749215182648402, \"n\": 5329}, {\"threshold\": 0.1469999998807907, \"p\": 28032, \"fpr\": 0.40345280540439105, \"tpr\": 0.9748501712328768, \"n\": 5329}, {\"threshold\": 0.14800000190734863, \"p\": 28032, \"fpr\": 0.40326515293676113, \"tpr\": 0.9747431506849316, \"n\": 5329}, {\"threshold\": 0.14900000393390656, \"p\": 28032, \"fpr\": 0.40270219553387127, \"tpr\": 0.9747074771689498, \"n\": 5329}, {\"threshold\": 0.15000000596046448, \"p\": 28032, \"fpr\": 0.4021392381309814, \"tpr\": 0.974671803652968, \"n\": 5329}, {\"threshold\": 0.1509999930858612, \"p\": 28032, \"fpr\": 0.40101332332520173, \"tpr\": 0.9746361301369864, \"n\": 5329}, {\"threshold\": 0.15199999511241913, \"p\": 28032, \"fpr\": 0.40101332332520173, \"tpr\": 0.9745647831050228, \"n\": 5329}, {\"threshold\": 0.15299999713897705, \"p\": 28032, \"fpr\": 0.40045036592231187, \"tpr\": 0.9744220890410958, \"n\": 5329}, {\"threshold\": 0.15399999916553497, \"p\": 28032, \"fpr\": 0.3993244511165322, \"tpr\": 0.9743507420091324, \"n\": 5329}, {\"threshold\": 0.1550000011920929, \"p\": 28032, \"fpr\": 0.3989491461812723, \"tpr\": 0.9742080479452054, \"n\": 5329}, {\"threshold\": 0.15600000321865082, \"p\": 28032, \"fpr\": 0.39838618877838244, \"tpr\": 0.974136700913242, \"n\": 5329}, {\"threshold\": 0.15700000524520874, \"p\": 28032, \"fpr\": 0.39819853631075247, \"tpr\": 0.9740296803652968, \"n\": 5329}, {\"threshold\": 0.15800000727176666, \"p\": 28032, \"fpr\": 0.3974479264402327, \"tpr\": 0.9739583333333334, \"n\": 5329}, {\"threshold\": 0.1589999943971634, \"p\": 28032, \"fpr\": 0.3972602739726027, \"tpr\": 0.9739226598173516, \"n\": 5329}, {\"threshold\": 0.1599999964237213, \"p\": 28032, \"fpr\": 0.3966973165697129, \"tpr\": 0.9739226598173516, \"n\": 5329}, {\"threshold\": 0.16099999845027924, \"p\": 28032, \"fpr\": 0.3959467066991931, \"tpr\": 0.9738513127853882, \"n\": 5329}, {\"threshold\": 0.16200000047683716, \"p\": 28032, \"fpr\": 0.39538374929630327, \"tpr\": 0.9737799657534246, \"n\": 5329}, {\"threshold\": 0.16300000250339508, \"p\": 28032, \"fpr\": 0.3950084443610433, \"tpr\": 0.9737086187214612, \"n\": 5329}, {\"threshold\": 0.164000004529953, \"p\": 28032, \"fpr\": 0.3940701820228936, \"tpr\": 0.9736372716894978, \"n\": 5329}, {\"threshold\": 0.16500000655651093, \"p\": 28032, \"fpr\": 0.3933195721523738, \"tpr\": 0.9735302511415526, \"n\": 5329}, {\"threshold\": 0.16599999368190765, \"p\": 28032, \"fpr\": 0.3929442672171139, \"tpr\": 0.973458904109589, \"n\": 5329}, {\"threshold\": 0.16699999570846558, \"p\": 28032, \"fpr\": 0.392568962281854, \"tpr\": 0.9733162100456622, \"n\": 5329}, {\"threshold\": 0.1679999977350235, \"p\": 28032, \"fpr\": 0.3921936573465941, \"tpr\": 0.9732448630136986, \"n\": 5329}, {\"threshold\": 0.16899999976158142, \"p\": 28032, \"fpr\": 0.39163069994370425, \"tpr\": 0.9731021689497716, \"n\": 5329}, {\"threshold\": 0.17000000178813934, \"p\": 28032, \"fpr\": 0.3903171326702946, \"tpr\": 0.9729951484018264, \"n\": 5329}, {\"threshold\": 0.17100000381469727, \"p\": 28032, \"fpr\": 0.38919121786451494, \"tpr\": 0.9729951484018264, \"n\": 5329}, {\"threshold\": 0.1720000058412552, \"p\": 28032, \"fpr\": 0.388815912929255, \"tpr\": 0.972923801369863, \"n\": 5329}, {\"threshold\": 0.17299999296665192, \"p\": 28032, \"fpr\": 0.3878776505911053, \"tpr\": 0.9728881278538812, \"n\": 5329}, {\"threshold\": 0.17399999499320984, \"p\": 28032, \"fpr\": 0.3876899981234753, \"tpr\": 0.9728167808219178, \"n\": 5329}, {\"threshold\": 0.17499999701976776, \"p\": 28032, \"fpr\": 0.38750234565584535, \"tpr\": 0.9726740867579908, \"n\": 5329}, {\"threshold\": 0.17599999904632568, \"p\": 28032, \"fpr\": 0.38675173578532557, \"tpr\": 0.9726384132420092, \"n\": 5329}, {\"threshold\": 0.1770000010728836, \"p\": 28032, \"fpr\": 0.385250516044286, \"tpr\": 0.9725670662100456, \"n\": 5329}, {\"threshold\": 0.17800000309944153, \"p\": 28032, \"fpr\": 0.38449990617376617, \"tpr\": 0.9724600456621004, \"n\": 5329}, {\"threshold\": 0.17900000512599945, \"p\": 28032, \"fpr\": 0.3841246012385063, \"tpr\": 0.972388698630137, \"n\": 5329}, {\"threshold\": 0.18000000715255737, \"p\": 28032, \"fpr\": 0.3831863389003565, \"tpr\": 0.9722816780821918, \"n\": 5329}, {\"threshold\": 0.1809999942779541, \"p\": 28032, \"fpr\": 0.3826233814974667, \"tpr\": 0.9722103310502284, \"n\": 5329}, {\"threshold\": 0.18199999630451202, \"p\": 28032, \"fpr\": 0.3818727716269469, \"tpr\": 0.9719606164383562, \"n\": 5329}, {\"threshold\": 0.18299999833106995, \"p\": 28032, \"fpr\": 0.3811221617564271, \"tpr\": 0.9718179223744292, \"n\": 5329}, {\"threshold\": 0.18400000035762787, \"p\": 28032, \"fpr\": 0.3807468568211672, \"tpr\": 0.9716395547945206, \"n\": 5329}, {\"threshold\": 0.1850000023841858, \"p\": 28032, \"fpr\": 0.38018389941827735, \"tpr\": 0.9716038812785388, \"n\": 5329}, {\"threshold\": 0.1860000044107437, \"p\": 28032, \"fpr\": 0.3792456370801276, \"tpr\": 0.9716038812785388, \"n\": 5329}, {\"threshold\": 0.18700000643730164, \"p\": 28032, \"fpr\": 0.3781197222743479, \"tpr\": 0.9714611872146118, \"n\": 5329}, {\"threshold\": 0.18799999356269836, \"p\": 28032, \"fpr\": 0.3781197222743479, \"tpr\": 0.9714255136986302, \"n\": 5329}, {\"threshold\": 0.1889999955892563, \"p\": 28032, \"fpr\": 0.37774441733908803, \"tpr\": 0.9713541666666666, \"n\": 5329}, {\"threshold\": 0.1899999976158142, \"p\": 28032, \"fpr\": 0.3773691124038281, \"tpr\": 0.9712114726027398, \"n\": 5329}, {\"threshold\": 0.19099999964237213, \"p\": 28032, \"fpr\": 0.3768061550009383, \"tpr\": 0.9711401255707762, \"n\": 5329}, {\"threshold\": 0.19200000166893005, \"p\": 28032, \"fpr\": 0.3766185025333083, \"tpr\": 0.971033105022831, \"n\": 5329}, {\"threshold\": 0.19300000369548798, \"p\": 28032, \"fpr\": 0.37605554513041844, \"tpr\": 0.9709617579908676, \"n\": 5329}, {\"threshold\": 0.1940000057220459, \"p\": 28032, \"fpr\": 0.37568024019515855, \"tpr\": 0.9708904109589042, \"n\": 5329}, {\"threshold\": 0.19499999284744263, \"p\": 28032, \"fpr\": 0.37530493525989866, \"tpr\": 0.9708190639269406, \"n\": 5329}, {\"threshold\": 0.19599999487400055, \"p\": 28032, \"fpr\": 0.3749296303246388, \"tpr\": 0.9707477168949772, \"n\": 5329}, {\"threshold\": 0.19699999690055847, \"p\": 28032, \"fpr\": 0.3747419778570088, \"tpr\": 0.9707120433789954, \"n\": 5329}, {\"threshold\": 0.1979999989271164, \"p\": 28032, \"fpr\": 0.3745543253893789, \"tpr\": 0.9706763698630136, \"n\": 5329}, {\"threshold\": 0.19900000095367432, \"p\": 28032, \"fpr\": 0.374179020454119, \"tpr\": 0.9705693493150684, \"n\": 5329}, {\"threshold\": 0.20000000298023224, \"p\": 28032, \"fpr\": 0.37342841058359916, \"tpr\": 0.9705336757990868, \"n\": 5329}, {\"threshold\": 0.20100000500679016, \"p\": 28032, \"fpr\": 0.37286545318070935, \"tpr\": 0.970498002283105, \"n\": 5329}, {\"threshold\": 0.20200000703334808, \"p\": 28032, \"fpr\": 0.3724901482454494, \"tpr\": 0.9704266552511416, \"n\": 5329}, {\"threshold\": 0.2029999941587448, \"p\": 28032, \"fpr\": 0.3724901482454494, \"tpr\": 0.9703909817351598, \"n\": 5329}, {\"threshold\": 0.20399999618530273, \"p\": 28032, \"fpr\": 0.3719271908425596, \"tpr\": 0.9702482876712328, \"n\": 5329}, {\"threshold\": 0.20499999821186066, \"p\": 28032, \"fpr\": 0.37080127603677987, \"tpr\": 0.970105593607306, \"n\": 5329}, {\"threshold\": 0.20600000023841858, \"p\": 28032, \"fpr\": 0.3698630136986301, \"tpr\": 0.9700342465753424, \"n\": 5329}, {\"threshold\": 0.2070000022649765, \"p\": 28032, \"fpr\": 0.3694877087633702, \"tpr\": 0.9700342465753424, \"n\": 5329}, {\"threshold\": 0.20800000429153442, \"p\": 28032, \"fpr\": 0.36911240382811034, \"tpr\": 0.9699272260273972, \"n\": 5329}, {\"threshold\": 0.20900000631809235, \"p\": 28032, \"fpr\": 0.3681741414899606, \"tpr\": 0.9698558789954338, \"n\": 5329}, {\"threshold\": 0.20999999344348907, \"p\": 28032, \"fpr\": 0.36686057421655094, \"tpr\": 0.9697488584474886, \"n\": 5329}, {\"threshold\": 0.210999995470047, \"p\": 28032, \"fpr\": 0.36648526928129105, \"tpr\": 0.9696418378995434, \"n\": 5329}, {\"threshold\": 0.21199999749660492, \"p\": 28032, \"fpr\": 0.3662976168136611, \"tpr\": 0.969427796803653, \"n\": 5329}, {\"threshold\": 0.21299999952316284, \"p\": 28032, \"fpr\": 0.36573465941077127, \"tpr\": 0.9693921232876712, \"n\": 5329}, {\"threshold\": 0.21400000154972076, \"p\": 28032, \"fpr\": 0.3653593544755114, \"tpr\": 0.969285102739726, \"n\": 5329}, {\"threshold\": 0.2150000035762787, \"p\": 28032, \"fpr\": 0.3647963970726215, \"tpr\": 0.9692494292237442, \"n\": 5329}, {\"threshold\": 0.2160000056028366, \"p\": 28032, \"fpr\": 0.36385813473447176, \"tpr\": 0.969142408675799, \"n\": 5329}, {\"threshold\": 0.21699999272823334, \"p\": 28032, \"fpr\": 0.36348282979921187, \"tpr\": 0.9691067351598174, \"n\": 5329}, {\"threshold\": 0.21799999475479126, \"p\": 28032, \"fpr\": 0.36235691499343214, \"tpr\": 0.9691067351598174, \"n\": 5329}, {\"threshold\": 0.21899999678134918, \"p\": 28032, \"fpr\": 0.36160630512291236, \"tpr\": 0.9690353881278538, \"n\": 5329}, {\"threshold\": 0.2199999988079071, \"p\": 28032, \"fpr\": 0.3606680427847626, \"tpr\": 0.9689640410958904, \"n\": 5329}, {\"threshold\": 0.22100000083446503, \"p\": 28032, \"fpr\": 0.36010508538187275, \"tpr\": 0.9688570205479452, \"n\": 5329}, {\"threshold\": 0.22200000286102295, \"p\": 28032, \"fpr\": 0.35991743291424283, \"tpr\": 0.9688570205479452, \"n\": 5329}, {\"threshold\": 0.22300000488758087, \"p\": 28032, \"fpr\": 0.35954212797898294, \"tpr\": 0.9686429794520548, \"n\": 5329}, {\"threshold\": 0.2240000069141388, \"p\": 28032, \"fpr\": 0.3586038656408332, \"tpr\": 0.9685359589041096, \"n\": 5329}, {\"threshold\": 0.22499999403953552, \"p\": 28032, \"fpr\": 0.3578532557703134, \"tpr\": 0.9685002853881278, \"n\": 5329}, {\"threshold\": 0.22599999606609344, \"p\": 28032, \"fpr\": 0.35729029836742354, \"tpr\": 0.9683932648401826, \"n\": 5329}, {\"threshold\": 0.22699999809265137, \"p\": 28032, \"fpr\": 0.35710264589979357, \"tpr\": 0.9681792237442922, \"n\": 5329}, {\"threshold\": 0.2280000001192093, \"p\": 28032, \"fpr\": 0.35653968849690376, \"tpr\": 0.9681078767123288, \"n\": 5329}, {\"threshold\": 0.2290000021457672, \"p\": 28032, \"fpr\": 0.3557890786263839, \"tpr\": 0.968072203196347, \"n\": 5329}, {\"threshold\": 0.23000000417232513, \"p\": 28032, \"fpr\": 0.35541377369112404, \"tpr\": 0.9680365296803652, \"n\": 5329}, {\"threshold\": 0.23100000619888306, \"p\": 28032, \"fpr\": 0.35466316382060425, \"tpr\": 0.96792950913242, \"n\": 5329}, {\"threshold\": 0.23199999332427979, \"p\": 28032, \"fpr\": 0.3537249014824545, \"tpr\": 0.9678581621004566, \"n\": 5329}, {\"threshold\": 0.2329999953508377, \"p\": 28032, \"fpr\": 0.3533495965471946, \"tpr\": 0.9677868150684932, \"n\": 5329}, {\"threshold\": 0.23399999737739563, \"p\": 28032, \"fpr\": 0.3529742916119347, \"tpr\": 0.9677511415525114, \"n\": 5329}, {\"threshold\": 0.23499999940395355, \"p\": 28032, \"fpr\": 0.35278663914430475, \"tpr\": 0.9677511415525114, \"n\": 5329}, {\"threshold\": 0.23600000143051147, \"p\": 28032, \"fpr\": 0.351848376806155, \"tpr\": 0.9677154680365296, \"n\": 5329}, {\"threshold\": 0.2370000034570694, \"p\": 28032, \"fpr\": 0.3514730718708951, \"tpr\": 0.967679794520548, \"n\": 5329}, {\"threshold\": 0.23800000548362732, \"p\": 28032, \"fpr\": 0.35053480953274535, \"tpr\": 0.9676084474885844, \"n\": 5329}, {\"threshold\": 0.23899999260902405, \"p\": 28032, \"fpr\": 0.3499718521298555, \"tpr\": 0.9675727739726028, \"n\": 5329}, {\"threshold\": 0.23999999463558197, \"p\": 28032, \"fpr\": 0.34978419966222557, \"tpr\": 0.9672873858447488, \"n\": 5329}, {\"threshold\": 0.2409999966621399, \"p\": 28032, \"fpr\": 0.34903358979170573, \"tpr\": 0.9671803652968036, \"n\": 5329}, {\"threshold\": 0.24199999868869781, \"p\": 28032, \"fpr\": 0.3488459373240758, \"tpr\": 0.9671090182648402, \"n\": 5329}, {\"threshold\": 0.24300000071525574, \"p\": 28032, \"fpr\": 0.3484706323888159, \"tpr\": 0.967001997716895, \"n\": 5329}, {\"threshold\": 0.24400000274181366, \"p\": 28032, \"fpr\": 0.34809532745355604, \"tpr\": 0.9669306506849316, \"n\": 5329}, {\"threshold\": 0.24500000476837158, \"p\": 28032, \"fpr\": 0.3471570651154063, \"tpr\": 0.9668236301369864, \"n\": 5329}, {\"threshold\": 0.2460000067949295, \"p\": 28032, \"fpr\": 0.34640645524488645, \"tpr\": 0.9667522831050228, \"n\": 5329}, {\"threshold\": 0.24699999392032623, \"p\": 28032, \"fpr\": 0.34640645524488645, \"tpr\": 0.9666809360730594, \"n\": 5329}, {\"threshold\": 0.24799999594688416, \"p\": 28032, \"fpr\": 0.34603115030962656, \"tpr\": 0.9666452625570776, \"n\": 5329}, {\"threshold\": 0.24899999797344208, \"p\": 28032, \"fpr\": 0.34565584537436667, \"tpr\": 0.9665382420091324, \"n\": 5329}, {\"threshold\": 0.25, \"p\": 28032, \"fpr\": 0.3452805404391068, \"tpr\": 0.966466894977169, \"n\": 5329}, {\"threshold\": 0.25099998712539673, \"p\": 28032, \"fpr\": 0.3449052355038469, \"tpr\": 0.9664312214611872, \"n\": 5329}, {\"threshold\": 0.25200000405311584, \"p\": 28032, \"fpr\": 0.3447175830362169, \"tpr\": 0.966324200913242, \"n\": 5329}, {\"threshold\": 0.2529999911785126, \"p\": 28032, \"fpr\": 0.344342278100957, \"tpr\": 0.9662528538812786, \"n\": 5329}, {\"threshold\": 0.2540000081062317, \"p\": 28032, \"fpr\": 0.34396697316569713, \"tpr\": 0.9662171803652968, \"n\": 5329}, {\"threshold\": 0.2549999952316284, \"p\": 28032, \"fpr\": 0.34359166823043724, \"tpr\": 0.966181506849315, \"n\": 5329}, {\"threshold\": 0.25600001215934753, \"p\": 28032, \"fpr\": 0.3428410583599174, \"tpr\": 0.9661101598173516, \"n\": 5329}, {\"threshold\": 0.25699999928474426, \"p\": 28032, \"fpr\": 0.3424657534246575, \"tpr\": 0.9660744863013698, \"n\": 5329}, {\"threshold\": 0.257999986410141, \"p\": 28032, \"fpr\": 0.3422781009570276, \"tpr\": 0.9660031392694064, \"n\": 5329}, {\"threshold\": 0.2590000033378601, \"p\": 28032, \"fpr\": 0.34115218615124787, \"tpr\": 0.9659674657534246, \"n\": 5329}, {\"threshold\": 0.25999999046325684, \"p\": 28032, \"fpr\": 0.34096453368361795, \"tpr\": 0.9658961187214612, \"n\": 5329}, {\"threshold\": 0.26100000739097595, \"p\": 28032, \"fpr\": 0.34096453368361795, \"tpr\": 0.9658247716894978, \"n\": 5329}, {\"threshold\": 0.2619999945163727, \"p\": 28032, \"fpr\": 0.34058922874835806, \"tpr\": 0.9658247716894978, \"n\": 5329}, {\"threshold\": 0.2630000114440918, \"p\": 28032, \"fpr\": 0.3400262713454682, \"tpr\": 0.9657177511415526, \"n\": 5329}, {\"threshold\": 0.2639999985694885, \"p\": 28032, \"fpr\": 0.3396509664102083, \"tpr\": 0.965646404109589, \"n\": 5329}, {\"threshold\": 0.26499998569488525, \"p\": 28032, \"fpr\": 0.33908800900731845, \"tpr\": 0.9656107305936074, \"n\": 5329}, {\"threshold\": 0.26600000262260437, \"p\": 28032, \"fpr\": 0.3389003565396885, \"tpr\": 0.9654680365296804, \"n\": 5329}, {\"threshold\": 0.2669999897480011, \"p\": 28032, \"fpr\": 0.3379620942015388, \"tpr\": 0.9654323630136986, \"n\": 5329}, {\"threshold\": 0.2680000066757202, \"p\": 28032, \"fpr\": 0.33758678926627883, \"tpr\": 0.9653253424657534, \"n\": 5329}, {\"threshold\": 0.26899999380111694, \"p\": 28032, \"fpr\": 0.33721148433101894, \"tpr\": 0.96525399543379, \"n\": 5329}, {\"threshold\": 0.27000001072883606, \"p\": 28032, \"fpr\": 0.337023831863389, \"tpr\": 0.96525399543379, \"n\": 5329}, {\"threshold\": 0.2709999978542328, \"p\": 28032, \"fpr\": 0.33683617939575905, \"tpr\": 0.965111301369863, \"n\": 5329}, {\"threshold\": 0.2720000147819519, \"p\": 28032, \"fpr\": 0.3358979170576093, \"tpr\": 0.965111301369863, \"n\": 5329}, {\"threshold\": 0.27300000190734863, \"p\": 28032, \"fpr\": 0.33533495965471943, \"tpr\": 0.9650399543378996, \"n\": 5329}, {\"threshold\": 0.27399998903274536, \"p\": 28032, \"fpr\": 0.3347720022518296, \"tpr\": 0.964968607305936, \"n\": 5329}, {\"threshold\": 0.2750000059604645, \"p\": 28032, \"fpr\": 0.33420904484893976, \"tpr\": 0.9648615867579908, \"n\": 5329}, {\"threshold\": 0.2759999930858612, \"p\": 28032, \"fpr\": 0.33383373991367987, \"tpr\": 0.9648259132420092, \"n\": 5329}, {\"threshold\": 0.2770000100135803, \"p\": 28032, \"fpr\": 0.33345843497842, \"tpr\": 0.9648259132420092, \"n\": 5329}, {\"threshold\": 0.27799999713897705, \"p\": 28032, \"fpr\": 0.3330831300431601, \"tpr\": 0.9647902397260274, \"n\": 5329}, {\"threshold\": 0.27900001406669617, \"p\": 28032, \"fpr\": 0.33252017264027023, \"tpr\": 0.9647545662100456, \"n\": 5329}, {\"threshold\": 0.2800000011920929, \"p\": 28032, \"fpr\": 0.33233252017264026, \"tpr\": 0.9647545662100456, \"n\": 5329}, {\"threshold\": 0.2809999883174896, \"p\": 28032, \"fpr\": 0.33195721523738037, \"tpr\": 0.9646475456621004, \"n\": 5329}, {\"threshold\": 0.28200000524520874, \"p\": 28032, \"fpr\": 0.33195721523738037, \"tpr\": 0.9646118721461188, \"n\": 5329}, {\"threshold\": 0.28299999237060547, \"p\": 28032, \"fpr\": 0.3310189528992306, \"tpr\": 0.9645048515981736, \"n\": 5329}, {\"threshold\": 0.2840000092983246, \"p\": 28032, \"fpr\": 0.3306436479639707, \"tpr\": 0.9643978310502284, \"n\": 5329}, {\"threshold\": 0.2849999964237213, \"p\": 28032, \"fpr\": 0.33008069056108086, \"tpr\": 0.9642908105022832, \"n\": 5329}, {\"threshold\": 0.28600001335144043, \"p\": 28032, \"fpr\": 0.32989303809345094, \"tpr\": 0.9642551369863014, \"n\": 5329}, {\"threshold\": 0.28700000047683716, \"p\": 28032, \"fpr\": 0.3293300806905611, \"tpr\": 0.9641124429223744, \"n\": 5329}, {\"threshold\": 0.2879999876022339, \"p\": 28032, \"fpr\": 0.3287671232876712, \"tpr\": 0.9640054223744292, \"n\": 5329}, {\"threshold\": 0.289000004529953, \"p\": 28032, \"fpr\": 0.3283918183524113, \"tpr\": 0.963898401826484, \"n\": 5329}, {\"threshold\": 0.28999999165534973, \"p\": 28032, \"fpr\": 0.32801651341715143, \"tpr\": 0.963755707762557, \"n\": 5329}, {\"threshold\": 0.29100000858306885, \"p\": 28032, \"fpr\": 0.32745355601426157, \"tpr\": 0.9636843607305936, \"n\": 5329}, {\"threshold\": 0.2919999957084656, \"p\": 28032, \"fpr\": 0.3270782510790017, \"tpr\": 0.9635773401826484, \"n\": 5329}, {\"threshold\": 0.2930000126361847, \"p\": 28032, \"fpr\": 0.3265152936761118, \"tpr\": 0.963505993150685, \"n\": 5329}, {\"threshold\": 0.2939999997615814, \"p\": 28032, \"fpr\": 0.3265152936761118, \"tpr\": 0.963363299086758, \"n\": 5329}, {\"threshold\": 0.29499998688697815, \"p\": 28032, \"fpr\": 0.3263276412084819, \"tpr\": 0.9632562785388128, \"n\": 5329}, {\"threshold\": 0.29600000381469727, \"p\": 28032, \"fpr\": 0.32576468380559204, \"tpr\": 0.963220605022831, \"n\": 5329}, {\"threshold\": 0.296999990940094, \"p\": 28032, \"fpr\": 0.32501407393507226, \"tpr\": 0.9631492579908676, \"n\": 5329}, {\"threshold\": 0.2980000078678131, \"p\": 28032, \"fpr\": 0.3248264214674423, \"tpr\": 0.9630422374429224, \"n\": 5329}, {\"threshold\": 0.29899999499320984, \"p\": 28032, \"fpr\": 0.3242634640645525, \"tpr\": 0.9630065639269406, \"n\": 5329}, {\"threshold\": 0.30000001192092896, \"p\": 28032, \"fpr\": 0.3240758115969225, \"tpr\": 0.962828196347032, \"n\": 5329}, {\"threshold\": 0.3009999990463257, \"p\": 28032, \"fpr\": 0.3233252017264027, \"tpr\": 0.9627925228310502, \"n\": 5329}, {\"threshold\": 0.3019999861717224, \"p\": 28032, \"fpr\": 0.32313754925877275, \"tpr\": 0.962685502283105, \"n\": 5329}, {\"threshold\": 0.30300000309944153, \"p\": 28032, \"fpr\": 0.3225745918558829, \"tpr\": 0.962685502283105, \"n\": 5329}, {\"threshold\": 0.30399999022483826, \"p\": 28032, \"fpr\": 0.3220116344529931, \"tpr\": 0.9626141552511416, \"n\": 5329}, {\"threshold\": 0.3050000071525574, \"p\": 28032, \"fpr\": 0.3214486770501032, \"tpr\": 0.962542808219178, \"n\": 5329}, {\"threshold\": 0.3059999942779541, \"p\": 28032, \"fpr\": 0.32088571964721335, \"tpr\": 0.9624357876712328, \"n\": 5329}, {\"threshold\": 0.3070000112056732, \"p\": 28032, \"fpr\": 0.32088571964721335, \"tpr\": 0.9623644406392694, \"n\": 5329}, {\"threshold\": 0.30799999833106995, \"p\": 28032, \"fpr\": 0.32051041471195346, \"tpr\": 0.9623644406392694, \"n\": 5329}, {\"threshold\": 0.3089999854564667, \"p\": 28032, \"fpr\": 0.3195721523738037, \"tpr\": 0.9623644406392694, \"n\": 5329}, {\"threshold\": 0.3100000023841858, \"p\": 28032, \"fpr\": 0.3193844999061738, \"tpr\": 0.9621860730593608, \"n\": 5329}, {\"threshold\": 0.3109999895095825, \"p\": 28032, \"fpr\": 0.31863389003565395, \"tpr\": 0.962150399543379, \"n\": 5329}, {\"threshold\": 0.31200000643730164, \"p\": 28032, \"fpr\": 0.31844623756802404, \"tpr\": 0.962007705479452, \"n\": 5329}, {\"threshold\": 0.31299999356269836, \"p\": 28032, \"fpr\": 0.31807093263276415, \"tpr\": 0.9619006849315068, \"n\": 5329}, {\"threshold\": 0.3140000104904175, \"p\": 28032, \"fpr\": 0.3175079752298743, \"tpr\": 0.9619006849315068, \"n\": 5329}, {\"threshold\": 0.3149999976158142, \"p\": 28032, \"fpr\": 0.31638206042409456, \"tpr\": 0.9618650114155252, \"n\": 5329}, {\"threshold\": 0.3160000145435333, \"p\": 28032, \"fpr\": 0.31600675548883467, \"tpr\": 0.9617223173515982, \"n\": 5329}, {\"threshold\": 0.31700000166893005, \"p\": 28032, \"fpr\": 0.3152561456183149, \"tpr\": 0.9615439497716894, \"n\": 5329}, {\"threshold\": 0.3179999887943268, \"p\": 28032, \"fpr\": 0.3150684931506849, \"tpr\": 0.961472602739726, \"n\": 5329}, {\"threshold\": 0.3190000057220459, \"p\": 28032, \"fpr\": 0.314693188215425, \"tpr\": 0.9613655821917808, \"n\": 5329}, {\"threshold\": 0.3199999928474426, \"p\": 28032, \"fpr\": 0.3145055357477951, \"tpr\": 0.9612942351598174, \"n\": 5329}, {\"threshold\": 0.32100000977516174, \"p\": 28032, \"fpr\": 0.31431788328016513, \"tpr\": 0.9612228881278538, \"n\": 5329}, {\"threshold\": 0.32199999690055847, \"p\": 28032, \"fpr\": 0.31394257834490524, \"tpr\": 0.9610088470319634, \"n\": 5329}, {\"threshold\": 0.3230000138282776, \"p\": 28032, \"fpr\": 0.31375492587727527, \"tpr\": 0.9610088470319634, \"n\": 5329}, {\"threshold\": 0.3240000009536743, \"p\": 28032, \"fpr\": 0.31356727340964535, \"tpr\": 0.9609018264840182, \"n\": 5329}, {\"threshold\": 0.32499998807907104, \"p\": 28032, \"fpr\": 0.31319196847438546, \"tpr\": 0.9608304794520548, \"n\": 5329}, {\"threshold\": 0.32600000500679016, \"p\": 28032, \"fpr\": 0.3128166635391255, \"tpr\": 0.9607234589041096, \"n\": 5329}, {\"threshold\": 0.3269999921321869, \"p\": 28032, \"fpr\": 0.3124413586038656, \"tpr\": 0.9606877853881278, \"n\": 5329}, {\"threshold\": 0.328000009059906, \"p\": 28032, \"fpr\": 0.31131544379808596, \"tpr\": 0.9606521118721462, \"n\": 5329}, {\"threshold\": 0.32899999618530273, \"p\": 28032, \"fpr\": 0.3105648339275662, \"tpr\": 0.9606164383561644, \"n\": 5329}, {\"threshold\": 0.33000001311302185, \"p\": 28032, \"fpr\": 0.30981422405704634, \"tpr\": 0.9605807648401826, \"n\": 5329}, {\"threshold\": 0.3310000002384186, \"p\": 28032, \"fpr\": 0.30943891912178645, \"tpr\": 0.960545091324201, \"n\": 5329}, {\"threshold\": 0.3319999873638153, \"p\": 28032, \"fpr\": 0.3092512666541565, \"tpr\": 0.9604380707762558, \"n\": 5329}, {\"threshold\": 0.3330000042915344, \"p\": 28032, \"fpr\": 0.30906361418652656, \"tpr\": 0.9603667237442922, \"n\": 5329}, {\"threshold\": 0.33399999141693115, \"p\": 28032, \"fpr\": 0.3081253518483768, \"tpr\": 0.9603667237442922, \"n\": 5329}, {\"threshold\": 0.33500000834465027, \"p\": 28032, \"fpr\": 0.3077500469131169, \"tpr\": 0.9603310502283106, \"n\": 5329}, {\"threshold\": 0.335999995470047, \"p\": 28032, \"fpr\": 0.307374741977857, \"tpr\": 0.9602953767123288, \"n\": 5329}, {\"threshold\": 0.3370000123977661, \"p\": 28032, \"fpr\": 0.30699943704259713, \"tpr\": 0.9601526826484018, \"n\": 5329}, {\"threshold\": 0.33799999952316284, \"p\": 28032, \"fpr\": 0.3066241321073372, \"tpr\": 0.9600456621004566, \"n\": 5329}, {\"threshold\": 0.33899998664855957, \"p\": 28032, \"fpr\": 0.3062488271720773, \"tpr\": 0.9600099885844748, \"n\": 5329}, {\"threshold\": 0.3400000035762787, \"p\": 28032, \"fpr\": 0.30531056483392754, \"tpr\": 0.959867294520548, \"n\": 5329}, {\"threshold\": 0.3409999907016754, \"p\": 28032, \"fpr\": 0.3051229123662976, \"tpr\": 0.9597959474885844, \"n\": 5329}, {\"threshold\": 0.34200000762939453, \"p\": 28032, \"fpr\": 0.30437230249577785, \"tpr\": 0.9596889269406392, \"n\": 5329}, {\"threshold\": 0.34299999475479126, \"p\": 28032, \"fpr\": 0.30437230249577785, \"tpr\": 0.959581906392694, \"n\": 5329}, {\"threshold\": 0.3440000116825104, \"p\": 28032, \"fpr\": 0.3041846500281479, \"tpr\": 0.9593678652968036, \"n\": 5329}, {\"threshold\": 0.3449999988079071, \"p\": 28032, \"fpr\": 0.303621692625258, \"tpr\": 0.9592608447488584, \"n\": 5329}, {\"threshold\": 0.34599998593330383, \"p\": 28032, \"fpr\": 0.3034340401576281, \"tpr\": 0.9592251712328768, \"n\": 5329}, {\"threshold\": 0.34700000286102295, \"p\": 28032, \"fpr\": 0.30268343028710826, \"tpr\": 0.9590824771689498, \"n\": 5329}, {\"threshold\": 0.3479999899864197, \"p\": 28032, \"fpr\": 0.30249577781947834, \"tpr\": 0.959046803652968, \"n\": 5329}, {\"threshold\": 0.3490000069141388, \"p\": 28032, \"fpr\": 0.30230812535184837, \"tpr\": 0.9589754566210046, \"n\": 5329}, {\"threshold\": 0.3499999940395355, \"p\": 28032, \"fpr\": 0.30230812535184837, \"tpr\": 0.958904109589041, \"n\": 5329}, {\"threshold\": 0.35100001096725464, \"p\": 28032, \"fpr\": 0.3013698630136986, \"tpr\": 0.9588327625570776, \"n\": 5329}, {\"threshold\": 0.35199999809265137, \"p\": 28032, \"fpr\": 0.3011822105460687, \"tpr\": 0.9587970890410958, \"n\": 5329}, {\"threshold\": 0.3529999852180481, \"p\": 28032, \"fpr\": 0.30061925314317883, \"tpr\": 0.958654394977169, \"n\": 5329}, {\"threshold\": 0.3540000021457672, \"p\": 28032, \"fpr\": 0.30043160067554886, \"tpr\": 0.9585830479452054, \"n\": 5329}, {\"threshold\": 0.35499998927116394, \"p\": 28032, \"fpr\": 0.30043160067554886, \"tpr\": 0.9584403538812786, \"n\": 5329}, {\"threshold\": 0.35600000619888306, \"p\": 28032, \"fpr\": 0.30024394820791894, \"tpr\": 0.9584403538812786, \"n\": 5329}, {\"threshold\": 0.3569999933242798, \"p\": 28032, \"fpr\": 0.2996809908050291, \"tpr\": 0.9583333333333334, \"n\": 5329}, {\"threshold\": 0.3580000102519989, \"p\": 28032, \"fpr\": 0.29949333833739916, \"tpr\": 0.9582619863013698, \"n\": 5329}, {\"threshold\": 0.35899999737739563, \"p\": 28032, \"fpr\": 0.29949333833739916, \"tpr\": 0.9581549657534246, \"n\": 5329}, {\"threshold\": 0.36000001430511475, \"p\": 28032, \"fpr\": 0.2987427284668793, \"tpr\": 0.9580836187214612, \"n\": 5329}, {\"threshold\": 0.3610000014305115, \"p\": 28032, \"fpr\": 0.2985550759992494, \"tpr\": 0.957976598173516, \"n\": 5329}, {\"threshold\": 0.3619999885559082, \"p\": 28032, \"fpr\": 0.29836742353161944, \"tpr\": 0.9579052511415526, \"n\": 5329}, {\"threshold\": 0.3630000054836273, \"p\": 28032, \"fpr\": 0.29799211859635955, \"tpr\": 0.9577982305936074, \"n\": 5329}, {\"threshold\": 0.36399999260902405, \"p\": 28032, \"fpr\": 0.29799211859635955, \"tpr\": 0.9577625570776256, \"n\": 5329}, {\"threshold\": 0.36500000953674316, \"p\": 28032, \"fpr\": 0.29761681366109966, \"tpr\": 0.9576912100456622, \"n\": 5329}, {\"threshold\": 0.3659999966621399, \"p\": 28032, \"fpr\": 0.29724150872583976, \"tpr\": 0.9576198630136986, \"n\": 5329}, {\"threshold\": 0.367000013589859, \"p\": 28032, \"fpr\": 0.2968662037905798, \"tpr\": 0.9575841894977168, \"n\": 5329}, {\"threshold\": 0.36800000071525574, \"p\": 28032, \"fpr\": 0.2968662037905798, \"tpr\": 0.9574058219178082, \"n\": 5329}, {\"threshold\": 0.36899998784065247, \"p\": 28032, \"fpr\": 0.2968662037905798, \"tpr\": 0.9572274543378996, \"n\": 5329}, {\"threshold\": 0.3700000047683716, \"p\": 28032, \"fpr\": 0.2966785513229499, \"tpr\": 0.9571917808219178, \"n\": 5329}, {\"threshold\": 0.3709999918937683, \"p\": 28032, \"fpr\": 0.2966785513229499, \"tpr\": 0.9570847602739726, \"n\": 5329}, {\"threshold\": 0.3720000088214874, \"p\": 28032, \"fpr\": 0.29649089885531993, \"tpr\": 0.9570134132420092, \"n\": 5329}, {\"threshold\": 0.37299999594688416, \"p\": 28032, \"fpr\": 0.2959279414524301, \"tpr\": 0.9570134132420092, \"n\": 5329}, {\"threshold\": 0.37400001287460327, \"p\": 28032, \"fpr\": 0.2955526365171702, \"tpr\": 0.9570134132420092, \"n\": 5329}, {\"threshold\": 0.375, \"p\": 28032, \"fpr\": 0.29536498404954026, \"tpr\": 0.956906392694064, \"n\": 5329}, {\"threshold\": 0.37599998712539673, \"p\": 28032, \"fpr\": 0.2948020266466504, \"tpr\": 0.956906392694064, \"n\": 5329}, {\"threshold\": 0.37700000405311584, \"p\": 28032, \"fpr\": 0.2946143741790205, \"tpr\": 0.9568350456621004, \"n\": 5329}, {\"threshold\": 0.3779999911785126, \"p\": 28032, \"fpr\": 0.29423906924376053, \"tpr\": 0.9565496575342466, \"n\": 5329}, {\"threshold\": 0.3790000081062317, \"p\": 28032, \"fpr\": 0.2936761118408707, \"tpr\": 0.9565139840182648, \"n\": 5329}, {\"threshold\": 0.3799999952316284, \"p\": 28032, \"fpr\": 0.29348845937324075, \"tpr\": 0.9563712899543378, \"n\": 5329}, {\"threshold\": 0.38100001215934753, \"p\": 28032, \"fpr\": 0.2929255019703509, \"tpr\": 0.9562999429223744, \"n\": 5329}, {\"threshold\": 0.38199999928474426, \"p\": 28032, \"fpr\": 0.2921748920998311, \"tpr\": 0.956228595890411, \"n\": 5329}, {\"threshold\": 0.382999986410141, \"p\": 28032, \"fpr\": 0.2919872396322012, \"tpr\": 0.9560502283105022, \"n\": 5329}, {\"threshold\": 0.3840000033378601, \"p\": 28032, \"fpr\": 0.2919872396322012, \"tpr\": 0.9559075342465754, \"n\": 5329}, {\"threshold\": 0.38499999046325684, \"p\": 28032, \"fpr\": 0.2919872396322012, \"tpr\": 0.9558361872146118, \"n\": 5329}, {\"threshold\": 0.38600000739097595, \"p\": 28032, \"fpr\": 0.29086132482642146, \"tpr\": 0.9558005136986302, \"n\": 5329}, {\"threshold\": 0.3869999945163727, \"p\": 28032, \"fpr\": 0.2904860198911616, \"tpr\": 0.9558005136986302, \"n\": 5329}, {\"threshold\": 0.3880000114440918, \"p\": 28032, \"fpr\": 0.2895477575530118, \"tpr\": 0.9556578196347032, \"n\": 5329}, {\"threshold\": 0.3889999985694885, \"p\": 28032, \"fpr\": 0.28879714768249204, \"tpr\": 0.9555864726027398, \"n\": 5329}, {\"threshold\": 0.38999998569488525, \"p\": 28032, \"fpr\": 0.28860949521486207, \"tpr\": 0.9555151255707762, \"n\": 5329}, {\"threshold\": 0.39100000262260437, \"p\": 28032, \"fpr\": 0.2880465378119722, \"tpr\": 0.9554437785388128, \"n\": 5329}, {\"threshold\": 0.3919999897480011, \"p\": 28032, \"fpr\": 0.2876712328767123, \"tpr\": 0.9553367579908676, \"n\": 5329}, {\"threshold\": 0.3930000066757202, \"p\": 28032, \"fpr\": 0.28692062300619253, \"tpr\": 0.9550870433789954, \"n\": 5329}, {\"threshold\": 0.39399999380111694, \"p\": 28032, \"fpr\": 0.28654531807093264, \"tpr\": 0.9550513698630136, \"n\": 5329}, {\"threshold\": 0.39500001072883606, \"p\": 28032, \"fpr\": 0.28635766560330267, \"tpr\": 0.9549086757990868, \"n\": 5329}, {\"threshold\": 0.3959999978542328, \"p\": 28032, \"fpr\": 0.2859823606680428, \"tpr\": 0.9548373287671232, \"n\": 5329}, {\"threshold\": 0.3970000147819519, \"p\": 28032, \"fpr\": 0.2854194032651529, \"tpr\": 0.9547659817351598, \"n\": 5329}, {\"threshold\": 0.39800000190734863, \"p\": 28032, \"fpr\": 0.285044098329893, \"tpr\": 0.9547659817351598, \"n\": 5329}, {\"threshold\": 0.39899998903274536, \"p\": 28032, \"fpr\": 0.285044098329893, \"tpr\": 0.9546946347031964, \"n\": 5329}, {\"threshold\": 0.4000000059604645, \"p\": 28032, \"fpr\": 0.2844811409270032, \"tpr\": 0.9545876141552512, \"n\": 5329}, {\"threshold\": 0.4009999930858612, \"p\": 28032, \"fpr\": 0.28354287858885346, \"tpr\": 0.954480593607306, \"n\": 5329}, {\"threshold\": 0.4020000100135803, \"p\": 28032, \"fpr\": 0.2829799211859636, \"tpr\": 0.954337899543379, \"n\": 5329}, {\"threshold\": 0.40299999713897705, \"p\": 28032, \"fpr\": 0.2826046162507037, \"tpr\": 0.9542308789954338, \"n\": 5329}, {\"threshold\": 0.40400001406669617, \"p\": 28032, \"fpr\": 0.2826046162507037, \"tpr\": 0.954195205479452, \"n\": 5329}, {\"threshold\": 0.4050000011920929, \"p\": 28032, \"fpr\": 0.2826046162507037, \"tpr\": 0.954195205479452, \"n\": 5329}, {\"threshold\": 0.4059999883174896, \"p\": 28032, \"fpr\": 0.28241696378307374, \"tpr\": 0.9541595319634704, \"n\": 5329}, {\"threshold\": 0.40700000524520874, \"p\": 28032, \"fpr\": 0.2822293113154438, \"tpr\": 0.9541595319634704, \"n\": 5329}, {\"threshold\": 0.40799999237060547, \"p\": 28032, \"fpr\": 0.28166635391255396, \"tpr\": 0.9540881849315068, \"n\": 5329}, {\"threshold\": 0.4090000092983246, \"p\": 28032, \"fpr\": 0.28129104897729407, \"tpr\": 0.9540168378995434, \"n\": 5329}, {\"threshold\": 0.4099999964237213, \"p\": 28032, \"fpr\": 0.2811033965096641, \"tpr\": 0.9540168378995434, \"n\": 5329}, {\"threshold\": 0.41100001335144043, \"p\": 28032, \"fpr\": 0.2809157440420342, \"tpr\": 0.9537671232876712, \"n\": 5329}, {\"threshold\": 0.41200000047683716, \"p\": 28032, \"fpr\": 0.2803527866391443, \"tpr\": 0.9537314497716894, \"n\": 5329}, {\"threshold\": 0.4129999876022339, \"p\": 28032, \"fpr\": 0.2799774817038844, \"tpr\": 0.9537314497716894, \"n\": 5329}, {\"threshold\": 0.414000004529953, \"p\": 28032, \"fpr\": 0.27941452430099456, \"tpr\": 0.953660102739726, \"n\": 5329}, {\"threshold\": 0.41499999165534973, \"p\": 28032, \"fpr\": 0.27941452430099456, \"tpr\": 0.9536244292237442, \"n\": 5329}, {\"threshold\": 0.41600000858306885, \"p\": 28032, \"fpr\": 0.27903921936573467, \"tpr\": 0.9535530821917808, \"n\": 5329}, {\"threshold\": 0.4169999957084656, \"p\": 28032, \"fpr\": 0.2784762619628448, \"tpr\": 0.953517408675799, \"n\": 5329}, {\"threshold\": 0.4180000126361847, \"p\": 28032, \"fpr\": 0.2784762619628448, \"tpr\": 0.9534103881278538, \"n\": 5329}, {\"threshold\": 0.4189999997615814, \"p\": 28032, \"fpr\": 0.2781009570275849, \"tpr\": 0.9533033675799086, \"n\": 5329}, {\"threshold\": 0.41999998688697815, \"p\": 28032, \"fpr\": 0.2781009570275849, \"tpr\": 0.953267694063927, \"n\": 5329}, {\"threshold\": 0.42100000381469727, \"p\": 28032, \"fpr\": 0.277725652092325, \"tpr\": 0.9531963470319634, \"n\": 5329}, {\"threshold\": 0.421999990940094, \"p\": 28032, \"fpr\": 0.27753799962469505, \"tpr\": 0.9530893264840182, \"n\": 5329}, {\"threshold\": 0.4230000078678131, \"p\": 28032, \"fpr\": 0.27735034715706514, \"tpr\": 0.952982305936073, \"n\": 5329}, {\"threshold\": 0.42399999499320984, \"p\": 28032, \"fpr\": 0.27735034715706514, \"tpr\": 0.9528752853881278, \"n\": 5329}, {\"threshold\": 0.42500001192092896, \"p\": 28032, \"fpr\": 0.27716269468943516, \"tpr\": 0.9528396118721462, \"n\": 5329}, {\"threshold\": 0.4259999990463257, \"p\": 28032, \"fpr\": 0.2765997372865453, \"tpr\": 0.9528396118721462, \"n\": 5329}, {\"threshold\": 0.4269999861717224, \"p\": 28032, \"fpr\": 0.2760367798836555, \"tpr\": 0.9528039383561644, \"n\": 5329}, {\"threshold\": 0.42800000309944153, \"p\": 28032, \"fpr\": 0.27509851754550574, \"tpr\": 0.9526255707762558, \"n\": 5329}, {\"threshold\": 0.42899999022483826, \"p\": 28032, \"fpr\": 0.2745355601426159, \"tpr\": 0.9524828767123288, \"n\": 5329}, {\"threshold\": 0.4300000071525574, \"p\": 28032, \"fpr\": 0.273972602739726, \"tpr\": 0.9524115296803652, \"n\": 5329}, {\"threshold\": 0.4309999942779541, \"p\": 28032, \"fpr\": 0.2735972978044661, \"tpr\": 0.9523401826484018, \"n\": 5329}, {\"threshold\": 0.4320000112056732, \"p\": 28032, \"fpr\": 0.27284668793394634, \"tpr\": 0.9522331621004566, \"n\": 5329}, {\"threshold\": 0.43299999833106995, \"p\": 28032, \"fpr\": 0.27247138299868645, \"tpr\": 0.9521618150684932, \"n\": 5329}, {\"threshold\": 0.4339999854564667, \"p\": 28032, \"fpr\": 0.2722837305310565, \"tpr\": 0.9521261415525114, \"n\": 5329}, {\"threshold\": 0.4350000023841858, \"p\": 28032, \"fpr\": 0.2719084255957966, \"tpr\": 0.9521261415525114, \"n\": 5329}, {\"threshold\": 0.4359999895095825, \"p\": 28032, \"fpr\": 0.2719084255957966, \"tpr\": 0.9520191210045662, \"n\": 5329}, {\"threshold\": 0.43700000643730164, \"p\": 28032, \"fpr\": 0.2715331206605367, \"tpr\": 0.9518764269406392, \"n\": 5329}, {\"threshold\": 0.43799999356269836, \"p\": 28032, \"fpr\": 0.27097016325764683, \"tpr\": 0.9518407534246576, \"n\": 5329}, {\"threshold\": 0.4390000104904175, \"p\": 28032, \"fpr\": 0.27097016325764683, \"tpr\": 0.9518050799086758, \"n\": 5329}, {\"threshold\": 0.4399999976158142, \"p\": 28032, \"fpr\": 0.27040720585475697, \"tpr\": 0.9516623858447488, \"n\": 5329}, {\"threshold\": 0.4410000145435333, \"p\": 28032, \"fpr\": 0.27040720585475697, \"tpr\": 0.9515553652968036, \"n\": 5329}, {\"threshold\": 0.44200000166893005, \"p\": 28032, \"fpr\": 0.27021955338712705, \"tpr\": 0.9514126712328768, \"n\": 5329}, {\"threshold\": 0.4429999887943268, \"p\": 28032, \"fpr\": 0.2700319009194971, \"tpr\": 0.951376997716895, \"n\": 5329}, {\"threshold\": 0.4440000057220459, \"p\": 28032, \"fpr\": 0.2690936385813473, \"tpr\": 0.951376997716895, \"n\": 5329}, {\"threshold\": 0.4449999928474426, \"p\": 28032, \"fpr\": 0.2685306811784575, \"tpr\": 0.9513413242009132, \"n\": 5329}, {\"threshold\": 0.44600000977516174, \"p\": 28032, \"fpr\": 0.26834302871082755, \"tpr\": 0.9511986301369864, \"n\": 5329}, {\"threshold\": 0.44699999690055847, \"p\": 28032, \"fpr\": 0.26796772377556766, \"tpr\": 0.9511629566210046, \"n\": 5329}, {\"threshold\": 0.4480000138282776, \"p\": 28032, \"fpr\": 0.2677800713079377, \"tpr\": 0.9509845890410958, \"n\": 5329}, {\"threshold\": 0.4490000009536743, \"p\": 28032, \"fpr\": 0.26759241884030777, \"tpr\": 0.950841894977169, \"n\": 5329}, {\"threshold\": 0.44999998807907104, \"p\": 28032, \"fpr\": 0.2670294614374179, \"tpr\": 0.9507705479452054, \"n\": 5329}, {\"threshold\": 0.45100000500679016, \"p\": 28032, \"fpr\": 0.2662788515668981, \"tpr\": 0.9506635273972602, \"n\": 5329}, {\"threshold\": 0.4519999921321869, \"p\": 28032, \"fpr\": 0.2662788515668981, \"tpr\": 0.9505208333333334, \"n\": 5329}, {\"threshold\": 0.453000009059906, \"p\": 28032, \"fpr\": 0.26571589416400826, \"tpr\": 0.9504851598173516, \"n\": 5329}, {\"threshold\": 0.45399999618530273, \"p\": 28032, \"fpr\": 0.2655282416963783, \"tpr\": 0.9504494863013698, \"n\": 5329}, {\"threshold\": 0.45500001311302185, \"p\": 28032, \"fpr\": 0.26534058922874837, \"tpr\": 0.9503781392694064, \"n\": 5329}, {\"threshold\": 0.4560000002384186, \"p\": 28032, \"fpr\": 0.2651529367611184, \"tpr\": 0.9502354452054794, \"n\": 5329}, {\"threshold\": 0.4569999873638153, \"p\": 28032, \"fpr\": 0.2649652842934885, \"tpr\": 0.9500570776255708, \"n\": 5329}, {\"threshold\": 0.4580000042915344, \"p\": 28032, \"fpr\": 0.2647776318258585, \"tpr\": 0.9498787100456622, \"n\": 5329}, {\"threshold\": 0.45899999141693115, \"p\": 28032, \"fpr\": 0.2647776318258585, \"tpr\": 0.9497716894977168, \"n\": 5329}, {\"threshold\": 0.46000000834465027, \"p\": 28032, \"fpr\": 0.2644023268905986, \"tpr\": 0.9495933219178082, \"n\": 5329}, {\"threshold\": 0.460999995470047, \"p\": 28032, \"fpr\": 0.26421467442296864, \"tpr\": 0.9495219748858448, \"n\": 5329}, {\"threshold\": 0.4620000123977661, \"p\": 28032, \"fpr\": 0.26365171702007884, \"tpr\": 0.9492722602739726, \"n\": 5329}, {\"threshold\": 0.46299999952316284, \"p\": 28032, \"fpr\": 0.2632764120848189, \"tpr\": 0.9491652397260274, \"n\": 5329}, {\"threshold\": 0.46399998664855957, \"p\": 28032, \"fpr\": 0.26308875961718897, \"tpr\": 0.949093892694064, \"n\": 5329}, {\"threshold\": 0.4650000035762787, \"p\": 28032, \"fpr\": 0.262901107149559, \"tpr\": 0.948951198630137, \"n\": 5329}, {\"threshold\": 0.4659999907016754, \"p\": 28032, \"fpr\": 0.2627134546819291, \"tpr\": 0.9489155251141552, \"n\": 5329}, {\"threshold\": 0.46700000762939453, \"p\": 28032, \"fpr\": 0.2623381497466692, \"tpr\": 0.9488441780821918, \"n\": 5329}, {\"threshold\": 0.46799999475479126, \"p\": 28032, \"fpr\": 0.2621504972790392, \"tpr\": 0.9486658105022832, \"n\": 5329}, {\"threshold\": 0.4690000116825104, \"p\": 28032, \"fpr\": 0.26139988740851944, \"tpr\": 0.9486301369863014, \"n\": 5329}, {\"threshold\": 0.4699999988079071, \"p\": 28032, \"fpr\": 0.2606492775379996, \"tpr\": 0.9486301369863014, \"n\": 5329}, {\"threshold\": 0.47099998593330383, \"p\": 28032, \"fpr\": 0.2606492775379996, \"tpr\": 0.9485944634703196, \"n\": 5329}, {\"threshold\": 0.47200000286102295, \"p\": 28032, \"fpr\": 0.2600863201351098, \"tpr\": 0.948416095890411, \"n\": 5329}, {\"threshold\": 0.4729999899864197, \"p\": 28032, \"fpr\": 0.2598986676674798, \"tpr\": 0.948273401826484, \"n\": 5329}, {\"threshold\": 0.4740000069141388, \"p\": 28032, \"fpr\": 0.25896040532933007, \"tpr\": 0.9482377283105022, \"n\": 5329}, {\"threshold\": 0.4749999940395355, \"p\": 28032, \"fpr\": 0.25877275286170015, \"tpr\": 0.9482020547945206, \"n\": 5329}, {\"threshold\": 0.47600001096725464, \"p\": 28032, \"fpr\": 0.25877275286170015, \"tpr\": 0.9480236872146118, \"n\": 5329}, {\"threshold\": 0.47699999809265137, \"p\": 28032, \"fpr\": 0.2585851003940702, \"tpr\": 0.9479166666666666, \"n\": 5329}, {\"threshold\": 0.4779999852180481, \"p\": 28032, \"fpr\": 0.2578344905235504, \"tpr\": 0.9478453196347032, \"n\": 5329}, {\"threshold\": 0.4790000021457672, \"p\": 28032, \"fpr\": 0.2578344905235504, \"tpr\": 0.9477739726027398, \"n\": 5329}, {\"threshold\": 0.47999998927116394, \"p\": 28032, \"fpr\": 0.2574591855882905, \"tpr\": 0.9476312785388128, \"n\": 5329}, {\"threshold\": 0.48100000619888306, \"p\": 28032, \"fpr\": 0.25689622818540064, \"tpr\": 0.9475599315068494, \"n\": 5329}, {\"threshold\": 0.4819999933242798, \"p\": 28032, \"fpr\": 0.25614561831488086, \"tpr\": 0.9475242579908676, \"n\": 5329}, {\"threshold\": 0.4830000102519989, \"p\": 28032, \"fpr\": 0.2559579658472509, \"tpr\": 0.9474172374429224, \"n\": 5329}, {\"threshold\": 0.48399999737739563, \"p\": 28032, \"fpr\": 0.255582660911991, \"tpr\": 0.947203196347032, \"n\": 5329}, {\"threshold\": 0.48500001430511475, \"p\": 28032, \"fpr\": 0.2552073559767311, \"tpr\": 0.9471318493150684, \"n\": 5329}, {\"threshold\": 0.4860000014305115, \"p\": 28032, \"fpr\": 0.2552073559767311, \"tpr\": 0.9469891552511416, \"n\": 5329}, {\"threshold\": 0.4869999885559082, \"p\": 28032, \"fpr\": 0.25501970350910114, \"tpr\": 0.9468107876712328, \"n\": 5329}, {\"threshold\": 0.4880000054836273, \"p\": 28032, \"fpr\": 0.2544567461062113, \"tpr\": 0.9467751141552512, \"n\": 5329}, {\"threshold\": 0.48899999260902405, \"p\": 28032, \"fpr\": 0.2544567461062113, \"tpr\": 0.946668093607306, \"n\": 5329}, {\"threshold\": 0.49000000953674316, \"p\": 28032, \"fpr\": 0.2537061362356915, \"tpr\": 0.9465610730593608, \"n\": 5329}, {\"threshold\": 0.4909999966621399, \"p\": 28032, \"fpr\": 0.2533308313004316, \"tpr\": 0.946525399543379, \"n\": 5329}, {\"threshold\": 0.492000013589859, \"p\": 28032, \"fpr\": 0.25314317883280163, \"tpr\": 0.9464183789954338, \"n\": 5329}, {\"threshold\": 0.49300000071525574, \"p\": 28032, \"fpr\": 0.25314317883280163, \"tpr\": 0.9463470319634704, \"n\": 5329}, {\"threshold\": 0.49399998784065247, \"p\": 28032, \"fpr\": 0.25314317883280163, \"tpr\": 0.9462043378995434, \"n\": 5329}, {\"threshold\": 0.4950000047683716, \"p\": 28032, \"fpr\": 0.2529555263651717, \"tpr\": 0.9460973173515982, \"n\": 5329}, {\"threshold\": 0.4959999918937683, \"p\": 28032, \"fpr\": 0.2529555263651717, \"tpr\": 0.9459189497716894, \"n\": 5329}, {\"threshold\": 0.4970000088214874, \"p\": 28032, \"fpr\": 0.25276787389754174, \"tpr\": 0.9457405821917808, \"n\": 5329}, {\"threshold\": 0.49799999594688416, \"p\": 28032, \"fpr\": 0.2525802214299118, \"tpr\": 0.9455978881278538, \"n\": 5329}, {\"threshold\": 0.49900001287460327, \"p\": 28032, \"fpr\": 0.2525802214299118, \"tpr\": 0.9454195205479452, \"n\": 5329}, {\"threshold\": 0.5, \"p\": 28032, \"fpr\": 0.25201726402702196, \"tpr\": 0.9452768264840182, \"n\": 5329}, {\"threshold\": 0.5009999871253967, \"p\": 28032, \"fpr\": 0.25164195909176207, \"tpr\": 0.9452054794520548, \"n\": 5329}, {\"threshold\": 0.5019999742507935, \"p\": 28032, \"fpr\": 0.2512666541565022, \"tpr\": 0.945169805936073, \"n\": 5329}, {\"threshold\": 0.503000020980835, \"p\": 28032, \"fpr\": 0.2507036967536123, \"tpr\": 0.9450627853881278, \"n\": 5329}, {\"threshold\": 0.5040000081062317, \"p\": 28032, \"fpr\": 0.2503283918183524, \"tpr\": 0.944920091324201, \"n\": 5329}, {\"threshold\": 0.5049999952316284, \"p\": 28032, \"fpr\": 0.2503283918183524, \"tpr\": 0.944777397260274, \"n\": 5329}, {\"threshold\": 0.5059999823570251, \"p\": 28032, \"fpr\": 0.24957778194783262, \"tpr\": 0.9447060502283106, \"n\": 5329}, {\"threshold\": 0.5070000290870667, \"p\": 28032, \"fpr\": 0.24920247701257273, \"tpr\": 0.9445990296803652, \"n\": 5329}, {\"threshold\": 0.5080000162124634, \"p\": 28032, \"fpr\": 0.24920247701257273, \"tpr\": 0.9444563356164384, \"n\": 5329}, {\"threshold\": 0.5090000033378601, \"p\": 28032, \"fpr\": 0.2488271720773128, \"tpr\": 0.9443493150684932, \"n\": 5329}, {\"threshold\": 0.5099999904632568, \"p\": 28032, \"fpr\": 0.24807656220679303, \"tpr\": 0.9443136415525114, \"n\": 5329}, {\"threshold\": 0.5109999775886536, \"p\": 28032, \"fpr\": 0.24751360480390316, \"tpr\": 0.944099600456621, \"n\": 5329}, {\"threshold\": 0.5120000243186951, \"p\": 28032, \"fpr\": 0.24732595233627322, \"tpr\": 0.9440639269406392, \"n\": 5329}, {\"threshold\": 0.5130000114440918, \"p\": 28032, \"fpr\": 0.24695064740101333, \"tpr\": 0.9439925799086758, \"n\": 5329}, {\"threshold\": 0.5139999985694885, \"p\": 28032, \"fpr\": 0.24695064740101333, \"tpr\": 0.9438142123287672, \"n\": 5329}, {\"threshold\": 0.5149999856948853, \"p\": 28032, \"fpr\": 0.24601238506286358, \"tpr\": 0.9437785388127854, \"n\": 5329}, {\"threshold\": 0.515999972820282, \"p\": 28032, \"fpr\": 0.24582473259523363, \"tpr\": 0.9437428652968036, \"n\": 5329}, {\"threshold\": 0.5170000195503235, \"p\": 28032, \"fpr\": 0.24544942765997374, \"tpr\": 0.9436358447488584, \"n\": 5329}, {\"threshold\": 0.5180000066757202, \"p\": 28032, \"fpr\": 0.24544942765997374, \"tpr\": 0.9436358447488584, \"n\": 5329}, {\"threshold\": 0.5189999938011169, \"p\": 28032, \"fpr\": 0.24544942765997374, \"tpr\": 0.943564497716895, \"n\": 5329}, {\"threshold\": 0.5199999809265137, \"p\": 28032, \"fpr\": 0.24526177519234377, \"tpr\": 0.9435288242009132, \"n\": 5329}, {\"threshold\": 0.5210000276565552, \"p\": 28032, \"fpr\": 0.24488647025708388, \"tpr\": 0.9434574771689498, \"n\": 5329}, {\"threshold\": 0.5220000147819519, \"p\": 28032, \"fpr\": 0.24432351285419404, \"tpr\": 0.9433147831050228, \"n\": 5329}, {\"threshold\": 0.5230000019073486, \"p\": 28032, \"fpr\": 0.24394820791893412, \"tpr\": 0.9432077625570776, \"n\": 5329}, {\"threshold\": 0.5239999890327454, \"p\": 28032, \"fpr\": 0.24319759804841434, \"tpr\": 0.9431007420091324, \"n\": 5329}, {\"threshold\": 0.5249999761581421, \"p\": 28032, \"fpr\": 0.24263464064552448, \"tpr\": 0.9429580479452054, \"n\": 5329}, {\"threshold\": 0.5260000228881836, \"p\": 28032, \"fpr\": 0.2422593357102646, \"tpr\": 0.942886700913242, \"n\": 5329}, {\"threshold\": 0.5270000100135803, \"p\": 28032, \"fpr\": 0.24207168324263464, \"tpr\": 0.942744006849315, \"n\": 5329}, {\"threshold\": 0.527999997138977, \"p\": 28032, \"fpr\": 0.24132107337211484, \"tpr\": 0.9426369863013698, \"n\": 5329}, {\"threshold\": 0.5289999842643738, \"p\": 28032, \"fpr\": 0.240758115969225, \"tpr\": 0.9425299657534246, \"n\": 5329}, {\"threshold\": 0.5299999713897705, \"p\": 28032, \"fpr\": 0.2403828110339651, \"tpr\": 0.9424229452054794, \"n\": 5329}, {\"threshold\": 0.531000018119812, \"p\": 28032, \"fpr\": 0.2403828110339651, \"tpr\": 0.9422802511415526, \"n\": 5329}, {\"threshold\": 0.5320000052452087, \"p\": 28032, \"fpr\": 0.2400075060987052, \"tpr\": 0.9422802511415526, \"n\": 5329}, {\"threshold\": 0.5329999923706055, \"p\": 28032, \"fpr\": 0.23981985363107525, \"tpr\": 0.9422445776255708, \"n\": 5329}, {\"threshold\": 0.5339999794960022, \"p\": 28032, \"fpr\": 0.23944454869581536, \"tpr\": 0.9421732305936074, \"n\": 5329}, {\"threshold\": 0.5350000262260437, \"p\": 28032, \"fpr\": 0.23869393882529555, \"tpr\": 0.9419591894977168, \"n\": 5329}, {\"threshold\": 0.5360000133514404, \"p\": 28032, \"fpr\": 0.23869393882529555, \"tpr\": 0.9418521689497716, \"n\": 5329}, {\"threshold\": 0.5370000004768372, \"p\": 28032, \"fpr\": 0.2385062863576656, \"tpr\": 0.94181649543379, \"n\": 5329}, {\"threshold\": 0.5379999876022339, \"p\": 28032, \"fpr\": 0.2385062863576656, \"tpr\": 0.941673801369863, \"n\": 5329}, {\"threshold\": 0.5389999747276306, \"p\": 28032, \"fpr\": 0.23831863389003566, \"tpr\": 0.9415667808219178, \"n\": 5329}, {\"threshold\": 0.5400000214576721, \"p\": 28032, \"fpr\": 0.2381309814224057, \"tpr\": 0.941531107305936, \"n\": 5329}, {\"threshold\": 0.5410000085830688, \"p\": 28032, \"fpr\": 0.23794332895477577, \"tpr\": 0.9414954337899544, \"n\": 5329}, {\"threshold\": 0.5419999957084656, \"p\": 28032, \"fpr\": 0.23794332895477577, \"tpr\": 0.9413527397260274, \"n\": 5329}, {\"threshold\": 0.5429999828338623, \"p\": 28032, \"fpr\": 0.23756802401951585, \"tpr\": 0.9413170662100456, \"n\": 5329}, {\"threshold\": 0.5440000295639038, \"p\": 28032, \"fpr\": 0.23700506661662601, \"tpr\": 0.9412457191780822, \"n\": 5329}, {\"threshold\": 0.5450000166893005, \"p\": 28032, \"fpr\": 0.23700506661662601, \"tpr\": 0.9412100456621004, \"n\": 5329}, {\"threshold\": 0.5460000038146973, \"p\": 28032, \"fpr\": 0.2362544567461062, \"tpr\": 0.9411030251141552, \"n\": 5329}, {\"threshold\": 0.546999990940094, \"p\": 28032, \"fpr\": 0.23606680427847626, \"tpr\": 0.9410316780821918, \"n\": 5329}, {\"threshold\": 0.5479999780654907, \"p\": 28032, \"fpr\": 0.23587915181084632, \"tpr\": 0.9409603310502284, \"n\": 5329}, {\"threshold\": 0.5490000247955322, \"p\": 28032, \"fpr\": 0.23531619440795645, \"tpr\": 0.9407819634703196, \"n\": 5329}, {\"threshold\": 0.550000011920929, \"p\": 28032, \"fpr\": 0.23494088947269656, \"tpr\": 0.9406749429223744, \"n\": 5329}, {\"threshold\": 0.5509999990463257, \"p\": 28032, \"fpr\": 0.23456558453743667, \"tpr\": 0.9405679223744292, \"n\": 5329}, {\"threshold\": 0.5519999861717224, \"p\": 28032, \"fpr\": 0.23456558453743667, \"tpr\": 0.9404965753424658, \"n\": 5329}, {\"threshold\": 0.5529999732971191, \"p\": 28032, \"fpr\": 0.23419027960217678, \"tpr\": 0.9404252283105022, \"n\": 5329}, {\"threshold\": 0.5540000200271606, \"p\": 28032, \"fpr\": 0.23343966973165697, \"tpr\": 0.9403538812785388, \"n\": 5329}, {\"threshold\": 0.5550000071525574, \"p\": 28032, \"fpr\": 0.23306436479639708, \"tpr\": 0.9402468607305936, \"n\": 5329}, {\"threshold\": 0.5559999942779541, \"p\": 28032, \"fpr\": 0.23250140739350722, \"tpr\": 0.9400328196347032, \"n\": 5329}, {\"threshold\": 0.5569999814033508, \"p\": 28032, \"fpr\": 0.23212610245824733, \"tpr\": 0.9398901255707762, \"n\": 5329}, {\"threshold\": 0.5580000281333923, \"p\": 28032, \"fpr\": 0.23156314505535747, \"tpr\": 0.9398544520547946, \"n\": 5329}, {\"threshold\": 0.5590000152587891, \"p\": 28032, \"fpr\": 0.23156314505535747, \"tpr\": 0.9397117579908676, \"n\": 5329}, {\"threshold\": 0.5600000023841858, \"p\": 28032, \"fpr\": 0.23156314505535747, \"tpr\": 0.9397117579908676, \"n\": 5329}, {\"threshold\": 0.5609999895095825, \"p\": 28032, \"fpr\": 0.23137549258772752, \"tpr\": 0.9394977168949772, \"n\": 5329}, {\"threshold\": 0.5619999766349792, \"p\": 28032, \"fpr\": 0.23081253518483769, \"tpr\": 0.9393550228310502, \"n\": 5329}, {\"threshold\": 0.5630000233650208, \"p\": 28032, \"fpr\": 0.23024957778194782, \"tpr\": 0.9392836757990868, \"n\": 5329}, {\"threshold\": 0.5640000104904175, \"p\": 28032, \"fpr\": 0.23006192531431788, \"tpr\": 0.9392123287671232, \"n\": 5329}, {\"threshold\": 0.5649999976158142, \"p\": 28032, \"fpr\": 0.229686620379058, \"tpr\": 0.9390339611872146, \"n\": 5329}, {\"threshold\": 0.5659999847412109, \"p\": 28032, \"fpr\": 0.22949896791142804, \"tpr\": 0.9389269406392694, \"n\": 5329}, {\"threshold\": 0.5669999718666077, \"p\": 28032, \"fpr\": 0.2293113154437981, \"tpr\": 0.9389269406392694, \"n\": 5329}, {\"threshold\": 0.5680000185966492, \"p\": 28032, \"fpr\": 0.22874835804090823, \"tpr\": 0.9388912671232876, \"n\": 5329}, {\"threshold\": 0.5690000057220459, \"p\": 28032, \"fpr\": 0.22837305310564834, \"tpr\": 0.9387485730593608, \"n\": 5329}, {\"threshold\": 0.5699999928474426, \"p\": 28032, \"fpr\": 0.2281854006380184, \"tpr\": 0.9386415525114156, \"n\": 5329}, {\"threshold\": 0.5709999799728394, \"p\": 28032, \"fpr\": 0.2281854006380184, \"tpr\": 0.938570205479452, \"n\": 5329}, {\"threshold\": 0.5720000267028809, \"p\": 28032, \"fpr\": 0.22762244323512854, \"tpr\": 0.9384988584474886, \"n\": 5329}, {\"threshold\": 0.5730000138282776, \"p\": 28032, \"fpr\": 0.22762244323512854, \"tpr\": 0.9384275114155252, \"n\": 5329}, {\"threshold\": 0.5740000009536743, \"p\": 28032, \"fpr\": 0.2274347907674986, \"tpr\": 0.9382848173515982, \"n\": 5329}, {\"threshold\": 0.574999988079071, \"p\": 28032, \"fpr\": 0.22668418089697878, \"tpr\": 0.9382134703196348, \"n\": 5329}, {\"threshold\": 0.5759999752044678, \"p\": 28032, \"fpr\": 0.2263088759617189, \"tpr\": 0.938035102739726, \"n\": 5329}, {\"threshold\": 0.5770000219345093, \"p\": 28032, \"fpr\": 0.22574591855882906, \"tpr\": 0.9379280821917808, \"n\": 5329}, {\"threshold\": 0.578000009059906, \"p\": 28032, \"fpr\": 0.22537061362356914, \"tpr\": 0.937892408675799, \"n\": 5329}, {\"threshold\": 0.5789999961853027, \"p\": 28032, \"fpr\": 0.2251829611559392, \"tpr\": 0.9377140410958904, \"n\": 5329}, {\"threshold\": 0.5799999833106995, \"p\": 28032, \"fpr\": 0.2251829611559392, \"tpr\": 0.9376070205479452, \"n\": 5329}, {\"threshold\": 0.5809999704360962, \"p\": 28032, \"fpr\": 0.2244323512854194, \"tpr\": 0.9375, \"n\": 5329}, {\"threshold\": 0.5820000171661377, \"p\": 28032, \"fpr\": 0.22349408894726966, \"tpr\": 0.937357305936073, \"n\": 5329}, {\"threshold\": 0.5830000042915344, \"p\": 28032, \"fpr\": 0.2233064364796397, \"tpr\": 0.9372859589041096, \"n\": 5329}, {\"threshold\": 0.5839999914169312, \"p\": 28032, \"fpr\": 0.22311878401200977, \"tpr\": 0.9372502853881278, \"n\": 5329}, {\"threshold\": 0.5849999785423279, \"p\": 28032, \"fpr\": 0.22274347907674985, \"tpr\": 0.9371789383561644, \"n\": 5329}, {\"threshold\": 0.5860000252723694, \"p\": 28032, \"fpr\": 0.2225558266091199, \"tpr\": 0.937107591324201, \"n\": 5329}, {\"threshold\": 0.5870000123977661, \"p\": 28032, \"fpr\": 0.22218052167386002, \"tpr\": 0.9370719178082192, \"n\": 5329}, {\"threshold\": 0.5879999995231628, \"p\": 28032, \"fpr\": 0.22199286920623007, \"tpr\": 0.9370362442922374, \"n\": 5329}, {\"threshold\": 0.5889999866485596, \"p\": 28032, \"fpr\": 0.22161756427097015, \"tpr\": 0.936964897260274, \"n\": 5329}, {\"threshold\": 0.5899999737739563, \"p\": 28032, \"fpr\": 0.22124225933571026, \"tpr\": 0.9367865296803652, \"n\": 5329}, {\"threshold\": 0.5910000205039978, \"p\": 28032, \"fpr\": 0.22105460686808032, \"tpr\": 0.9367865296803652, \"n\": 5329}, {\"threshold\": 0.5920000076293945, \"p\": 28032, \"fpr\": 0.22086695440045037, \"tpr\": 0.9367508561643836, \"n\": 5329}, {\"threshold\": 0.5929999947547913, \"p\": 28032, \"fpr\": 0.22049164946519045, \"tpr\": 0.9366438356164384, \"n\": 5329}, {\"threshold\": 0.593999981880188, \"p\": 28032, \"fpr\": 0.21992869206230062, \"tpr\": 0.9365724885844748, \"n\": 5329}, {\"threshold\": 0.5950000286102295, \"p\": 28032, \"fpr\": 0.2191780821917808, \"tpr\": 0.936429794520548, \"n\": 5329}, {\"threshold\": 0.5960000157356262, \"p\": 28032, \"fpr\": 0.21861512478889097, \"tpr\": 0.9363584474885844, \"n\": 5329}, {\"threshold\": 0.597000002861023, \"p\": 28032, \"fpr\": 0.21823981985363108, \"tpr\": 0.9362514269406392, \"n\": 5329}, {\"threshold\": 0.5979999899864197, \"p\": 28032, \"fpr\": 0.21767686245074122, \"tpr\": 0.9361800799086758, \"n\": 5329}, {\"threshold\": 0.5989999771118164, \"p\": 28032, \"fpr\": 0.21730155751548133, \"tpr\": 0.9361087328767124, \"n\": 5329}, {\"threshold\": 0.6000000238418579, \"p\": 28032, \"fpr\": 0.21692625258022144, \"tpr\": 0.9360373858447488, \"n\": 5329}, {\"threshold\": 0.6010000109672546, \"p\": 28032, \"fpr\": 0.21655094764496152, \"tpr\": 0.9358590182648402, \"n\": 5329}, {\"threshold\": 0.6019999980926514, \"p\": 28032, \"fpr\": 0.21580033777444174, \"tpr\": 0.9357876712328768, \"n\": 5329}, {\"threshold\": 0.6029999852180481, \"p\": 28032, \"fpr\": 0.21504972790392193, \"tpr\": 0.935751997716895, \"n\": 5329}, {\"threshold\": 0.6039999723434448, \"p\": 28032, \"fpr\": 0.2144867705010321, \"tpr\": 0.9357163242009132, \"n\": 5329}, {\"threshold\": 0.6050000190734863, \"p\": 28032, \"fpr\": 0.21392381309814223, \"tpr\": 0.9355022831050228, \"n\": 5329}, {\"threshold\": 0.6060000061988831, \"p\": 28032, \"fpr\": 0.21354850816288234, \"tpr\": 0.9353239155251142, \"n\": 5329}, {\"threshold\": 0.6069999933242798, \"p\": 28032, \"fpr\": 0.21354850816288234, \"tpr\": 0.935216894977169, \"n\": 5329}, {\"threshold\": 0.6079999804496765, \"p\": 28032, \"fpr\": 0.21317320322762245, \"tpr\": 0.9351098744292238, \"n\": 5329}, {\"threshold\": 0.609000027179718, \"p\": 28032, \"fpr\": 0.21298555075999248, \"tpr\": 0.9349671803652968, \"n\": 5329}, {\"threshold\": 0.6100000143051147, \"p\": 28032, \"fpr\": 0.21298555075999248, \"tpr\": 0.9349671803652968, \"n\": 5329}, {\"threshold\": 0.6110000014305115, \"p\": 28032, \"fpr\": 0.21279789829236254, \"tpr\": 0.9348601598173516, \"n\": 5329}, {\"threshold\": 0.6119999885559082, \"p\": 28032, \"fpr\": 0.2126102458247326, \"tpr\": 0.9347531392694064, \"n\": 5329}, {\"threshold\": 0.6129999756813049, \"p\": 28032, \"fpr\": 0.21242259335710265, \"tpr\": 0.9346104452054794, \"n\": 5329}, {\"threshold\": 0.6140000224113464, \"p\": 28032, \"fpr\": 0.2122349408894727, \"tpr\": 0.9345034246575342, \"n\": 5329}, {\"threshold\": 0.6150000095367432, \"p\": 28032, \"fpr\": 0.21204728842184276, \"tpr\": 0.9343607305936074, \"n\": 5329}, {\"threshold\": 0.6159999966621399, \"p\": 28032, \"fpr\": 0.2118596359542128, \"tpr\": 0.9341823630136986, \"n\": 5329}, {\"threshold\": 0.6169999837875366, \"p\": 28032, \"fpr\": 0.21167198348658284, \"tpr\": 0.93400399543379, \"n\": 5329}, {\"threshold\": 0.6179999709129333, \"p\": 28032, \"fpr\": 0.21167198348658284, \"tpr\": 0.9337899543378996, \"n\": 5329}, {\"threshold\": 0.6190000176429749, \"p\": 28032, \"fpr\": 0.2114843310189529, \"tpr\": 0.9336115867579908, \"n\": 5329}, {\"threshold\": 0.6200000047683716, \"p\": 28032, \"fpr\": 0.2114843310189529, \"tpr\": 0.9335402397260274, \"n\": 5329}, {\"threshold\": 0.6209999918937683, \"p\": 28032, \"fpr\": 0.211109026083693, \"tpr\": 0.933326198630137, \"n\": 5329}, {\"threshold\": 0.621999979019165, \"p\": 28032, \"fpr\": 0.2107337211484331, \"tpr\": 0.9331478310502284, \"n\": 5329}, {\"threshold\": 0.6230000257492065, \"p\": 28032, \"fpr\": 0.21054606868080314, \"tpr\": 0.9330764840182648, \"n\": 5329}, {\"threshold\": 0.6240000128746033, \"p\": 28032, \"fpr\": 0.2099831112779133, \"tpr\": 0.9329694634703196, \"n\": 5329}, {\"threshold\": 0.625, \"p\": 28032, \"fpr\": 0.20942015387502347, \"tpr\": 0.9328624429223744, \"n\": 5329}, {\"threshold\": 0.6259999871253967, \"p\": 28032, \"fpr\": 0.20942015387502347, \"tpr\": 0.9327554223744292, \"n\": 5329}, {\"threshold\": 0.6269999742507935, \"p\": 28032, \"fpr\": 0.20904484893976355, \"tpr\": 0.932648401826484, \"n\": 5329}, {\"threshold\": 0.628000020980835, \"p\": 28032, \"fpr\": 0.20866954400450366, \"tpr\": 0.9323986872146118, \"n\": 5329}, {\"threshold\": 0.6290000081062317, \"p\": 28032, \"fpr\": 0.20810658660161382, \"tpr\": 0.9321846461187214, \"n\": 5329}, {\"threshold\": 0.6299999952316284, \"p\": 28032, \"fpr\": 0.20791893413398385, \"tpr\": 0.931970605022831, \"n\": 5329}, {\"threshold\": 0.6309999823570251, \"p\": 28032, \"fpr\": 0.2077312816663539, \"tpr\": 0.9316495433789954, \"n\": 5329}, {\"threshold\": 0.6320000290870667, \"p\": 28032, \"fpr\": 0.20754362919872396, \"tpr\": 0.931578196347032, \"n\": 5329}, {\"threshold\": 0.6330000162124634, \"p\": 28032, \"fpr\": 0.20716832426346407, \"tpr\": 0.9314711757990868, \"n\": 5329}, {\"threshold\": 0.6340000033378601, \"p\": 28032, \"fpr\": 0.20698067179583413, \"tpr\": 0.9313641552511416, \"n\": 5329}, {\"threshold\": 0.6349999904632568, \"p\": 28032, \"fpr\": 0.20679301932820415, \"tpr\": 0.9311857876712328, \"n\": 5329}, {\"threshold\": 0.6359999775886536, \"p\": 28032, \"fpr\": 0.2066053668605742, \"tpr\": 0.9310074200913242, \"n\": 5329}, {\"threshold\": 0.6370000243186951, \"p\": 28032, \"fpr\": 0.20585475699005443, \"tpr\": 0.930900399543379, \"n\": 5329}, {\"threshold\": 0.6380000114440918, \"p\": 28032, \"fpr\": 0.20566710452242448, \"tpr\": 0.9308290525114156, \"n\": 5329}, {\"threshold\": 0.6389999985694885, \"p\": 28032, \"fpr\": 0.2054794520547945, \"tpr\": 0.9306150114155252, \"n\": 5329}, {\"threshold\": 0.6399999856948853, \"p\": 28032, \"fpr\": 0.2054794520547945, \"tpr\": 0.9305436643835616, \"n\": 5329}, {\"threshold\": 0.640999972820282, \"p\": 28032, \"fpr\": 0.20491649465190467, \"tpr\": 0.930365296803653, \"n\": 5329}, {\"threshold\": 0.6420000195503235, \"p\": 28032, \"fpr\": 0.20435353724901484, \"tpr\": 0.9302582762557078, \"n\": 5329}, {\"threshold\": 0.6430000066757202, \"p\": 28032, \"fpr\": 0.20397823231375492, \"tpr\": 0.9301869292237442, \"n\": 5329}, {\"threshold\": 0.6439999938011169, \"p\": 28032, \"fpr\": 0.20360292737849503, \"tpr\": 0.9301512557077626, \"n\": 5329}, {\"threshold\": 0.6449999809265137, \"p\": 28032, \"fpr\": 0.20360292737849503, \"tpr\": 0.9300442351598174, \"n\": 5329}, {\"threshold\": 0.6460000276565552, \"p\": 28032, \"fpr\": 0.20341527491086508, \"tpr\": 0.9299372146118722, \"n\": 5329}, {\"threshold\": 0.6470000147819519, \"p\": 28032, \"fpr\": 0.20341527491086508, \"tpr\": 0.929830194063927, \"n\": 5329}, {\"threshold\": 0.6480000019073486, \"p\": 28032, \"fpr\": 0.20322762244323514, \"tpr\": 0.9297945205479452, \"n\": 5329}, {\"threshold\": 0.6489999890327454, \"p\": 28032, \"fpr\": 0.20285231750797522, \"tpr\": 0.929544805936073, \"n\": 5329}, {\"threshold\": 0.6499999761581421, \"p\": 28032, \"fpr\": 0.20247701257271533, \"tpr\": 0.929295091324201, \"n\": 5329}, {\"threshold\": 0.6510000228881836, \"p\": 28032, \"fpr\": 0.20135109776693563, \"tpr\": 0.9291167237442922, \"n\": 5329}, {\"threshold\": 0.6520000100135803, \"p\": 28032, \"fpr\": 0.20135109776693563, \"tpr\": 0.9289026826484018, \"n\": 5329}, {\"threshold\": 0.652999997138977, \"p\": 28032, \"fpr\": 0.20097579283167574, \"tpr\": 0.9288313356164384, \"n\": 5329}, {\"threshold\": 0.6539999842643738, \"p\": 28032, \"fpr\": 0.2007881403640458, \"tpr\": 0.9287243150684932, \"n\": 5329}, {\"threshold\": 0.6549999713897705, \"p\": 28032, \"fpr\": 0.200037530493526, \"tpr\": 0.9285816210045662, \"n\": 5329}, {\"threshold\": 0.656000018119812, \"p\": 28032, \"fpr\": 0.1996622255582661, \"tpr\": 0.9284389269406392, \"n\": 5329}, {\"threshold\": 0.6570000052452087, \"p\": 28032, \"fpr\": 0.19928692062300618, \"tpr\": 0.9282962328767124, \"n\": 5329}, {\"threshold\": 0.6579999923706055, \"p\": 28032, \"fpr\": 0.19872396322011635, \"tpr\": 0.9281535388127854, \"n\": 5329}, {\"threshold\": 0.6589999794960022, \"p\": 28032, \"fpr\": 0.1985363107524864, \"tpr\": 0.9280465182648402, \"n\": 5329}, {\"threshold\": 0.6600000262260437, \"p\": 28032, \"fpr\": 0.19834865828485646, \"tpr\": 0.9280108447488584, \"n\": 5329}, {\"threshold\": 0.6610000133514404, \"p\": 28032, \"fpr\": 0.19797335334959654, \"tpr\": 0.9278324771689498, \"n\": 5329}, {\"threshold\": 0.6620000004768372, \"p\": 28032, \"fpr\": 0.19797335334959654, \"tpr\": 0.9276897831050228, \"n\": 5329}, {\"threshold\": 0.6629999876022339, \"p\": 28032, \"fpr\": 0.19759804841433665, \"tpr\": 0.9275114155251142, \"n\": 5329}, {\"threshold\": 0.6639999747276306, \"p\": 28032, \"fpr\": 0.19759804841433665, \"tpr\": 0.927404394977169, \"n\": 5329}, {\"threshold\": 0.6650000214576721, \"p\": 28032, \"fpr\": 0.1974103959467067, \"tpr\": 0.9271903538812786, \"n\": 5329}, {\"threshold\": 0.6660000085830688, \"p\": 28032, \"fpr\": 0.1966597860761869, \"tpr\": 0.9270476598173516, \"n\": 5329}, {\"threshold\": 0.6669999957084656, \"p\": 28032, \"fpr\": 0.196284481140927, \"tpr\": 0.9269049657534246, \"n\": 5329}, {\"threshold\": 0.6679999828338623, \"p\": 28032, \"fpr\": 0.19572152373803717, \"tpr\": 0.926726598173516, \"n\": 5329}, {\"threshold\": 0.6690000295639038, \"p\": 28032, \"fpr\": 0.19534621880277725, \"tpr\": 0.9266552511415526, \"n\": 5329}, {\"threshold\": 0.6700000166893005, \"p\": 28032, \"fpr\": 0.1951585663351473, \"tpr\": 0.9265125570776256, \"n\": 5329}, {\"threshold\": 0.6710000038146973, \"p\": 28032, \"fpr\": 0.19497091386751736, \"tpr\": 0.9264055365296804, \"n\": 5329}, {\"threshold\": 0.671999990940094, \"p\": 28032, \"fpr\": 0.19497091386751736, \"tpr\": 0.9262985159817352, \"n\": 5329}, {\"threshold\": 0.6729999780654907, \"p\": 28032, \"fpr\": 0.19497091386751736, \"tpr\": 0.92619149543379, \"n\": 5329}, {\"threshold\": 0.6740000247955322, \"p\": 28032, \"fpr\": 0.1940326515293676, \"tpr\": 0.9259417808219178, \"n\": 5329}, {\"threshold\": 0.675000011920929, \"p\": 28032, \"fpr\": 0.18971664477387878, \"tpr\": 0.9208761415525114, \"n\": 5329}, {\"threshold\": 0.6759999990463257, \"p\": 28032, \"fpr\": 0.18915368737098892, \"tpr\": 0.920662100456621, \"n\": 5329}, {\"threshold\": 0.6769999861717224, \"p\": 28032, \"fpr\": 0.18859072996809909, \"tpr\": 0.9204123858447488, \"n\": 5329}, {\"threshold\": 0.6779999732971191, \"p\": 28032, \"fpr\": 0.1882154250328392, \"tpr\": 0.9203053652968036, \"n\": 5329}, {\"threshold\": 0.6790000200271606, \"p\": 28032, \"fpr\": 0.18802777256520922, \"tpr\": 0.9201626712328768, \"n\": 5329}, {\"threshold\": 0.6800000071525574, \"p\": 28032, \"fpr\": 0.18784012009757928, \"tpr\": 0.9199486301369864, \"n\": 5329}, {\"threshold\": 0.6809999942779541, \"p\": 28032, \"fpr\": 0.18765246762994933, \"tpr\": 0.9198772831050228, \"n\": 5329}, {\"threshold\": 0.6819999814033508, \"p\": 28032, \"fpr\": 0.18727716269468944, \"tpr\": 0.9197345890410958, \"n\": 5329}, {\"threshold\": 0.6830000281333923, \"p\": 28032, \"fpr\": 0.1870895102270595, \"tpr\": 0.919591894977169, \"n\": 5329}, {\"threshold\": 0.6840000152587891, \"p\": 28032, \"fpr\": 0.1859635954212798, \"tpr\": 0.9194848744292238, \"n\": 5329}, {\"threshold\": 0.6850000023841858, \"p\": 28032, \"fpr\": 0.18577594295364985, \"tpr\": 0.9193421803652968, \"n\": 5329}, {\"threshold\": 0.6859999895095825, \"p\": 28032, \"fpr\": 0.18558829048601988, \"tpr\": 0.9191638127853882, \"n\": 5329}, {\"threshold\": 0.6869999766349792, \"p\": 28032, \"fpr\": 0.18502533308313004, \"tpr\": 0.919056792237443, \"n\": 5329}, {\"threshold\": 0.6880000233650208, \"p\": 28032, \"fpr\": 0.18389941827735035, \"tpr\": 0.9188070776255708, \"n\": 5329}, {\"threshold\": 0.6890000104904175, \"p\": 28032, \"fpr\": 0.18314880840683054, \"tpr\": 0.9185930365296804, \"n\": 5329}, {\"threshold\": 0.6899999976158142, \"p\": 28032, \"fpr\": 0.18314880840683054, \"tpr\": 0.9184146689497716, \"n\": 5329}, {\"threshold\": 0.6909999847412109, \"p\": 28032, \"fpr\": 0.18239819853631076, \"tpr\": 0.9182719748858448, \"n\": 5329}, {\"threshold\": 0.6919999718666077, \"p\": 28032, \"fpr\": 0.18239819853631076, \"tpr\": 0.918093607305936, \"n\": 5329}, {\"threshold\": 0.6930000185966492, \"p\": 28032, \"fpr\": 0.1822105460686808, \"tpr\": 0.917843892694064, \"n\": 5329}, {\"threshold\": 0.6940000057220459, \"p\": 28032, \"fpr\": 0.18164758866579095, \"tpr\": 0.9176655251141552, \"n\": 5329}, {\"threshold\": 0.6949999928474426, \"p\": 28032, \"fpr\": 0.1810846312629011, \"tpr\": 0.9174871575342466, \"n\": 5329}, {\"threshold\": 0.6959999799728394, \"p\": 28032, \"fpr\": 0.18014636892475136, \"tpr\": 0.9174514840182648, \"n\": 5329}, {\"threshold\": 0.6970000267028809, \"p\": 28032, \"fpr\": 0.17995871645712141, \"tpr\": 0.9171304223744292, \"n\": 5329}, {\"threshold\": 0.6980000138282776, \"p\": 28032, \"fpr\": 0.17995871645712141, \"tpr\": 0.9169877283105022, \"n\": 5329}, {\"threshold\": 0.6990000009536743, \"p\": 28032, \"fpr\": 0.17958341152186152, \"tpr\": 0.9169163812785388, \"n\": 5329}, {\"threshold\": 0.699999988079071, \"p\": 28032, \"fpr\": 0.17958341152186152, \"tpr\": 0.9168093607305936, \"n\": 5329}, {\"threshold\": 0.7009999752044678, \"p\": 28032, \"fpr\": 0.17864514918371177, \"tpr\": 0.9167380136986302, \"n\": 5329}, {\"threshold\": 0.7020000219345093, \"p\": 28032, \"fpr\": 0.17864514918371177, \"tpr\": 0.916488299086758, \"n\": 5329}, {\"threshold\": 0.703000009059906, \"p\": 28032, \"fpr\": 0.17826984424845188, \"tpr\": 0.916345605022831, \"n\": 5329}, {\"threshold\": 0.7039999961853027, \"p\": 28032, \"fpr\": 0.1780821917808219, \"tpr\": 0.9163099315068494, \"n\": 5329}, {\"threshold\": 0.7049999833106995, \"p\": 28032, \"fpr\": 0.17714392944267218, \"tpr\": 0.9162385844748858, \"n\": 5329}, {\"threshold\": 0.7059999704360962, \"p\": 28032, \"fpr\": 0.17676862450741226, \"tpr\": 0.915953196347032, \"n\": 5329}, {\"threshold\": 0.7070000171661377, \"p\": 28032, \"fpr\": 0.17564270970163257, \"tpr\": 0.915667808219178, \"n\": 5329}, {\"threshold\": 0.7080000042915344, \"p\": 28032, \"fpr\": 0.17545505723400262, \"tpr\": 0.9154894406392694, \"n\": 5329}, {\"threshold\": 0.7089999914169312, \"p\": 28032, \"fpr\": 0.17507975229874273, \"tpr\": 0.9152040525114156, \"n\": 5329}, {\"threshold\": 0.7099999785423279, \"p\": 28032, \"fpr\": 0.17395383749296303, \"tpr\": 0.9149543378995434, \"n\": 5329}, {\"threshold\": 0.7110000252723694, \"p\": 28032, \"fpr\": 0.1737661850253331, \"tpr\": 0.9147759703196348, \"n\": 5329}, {\"threshold\": 0.7120000123977661, \"p\": 28032, \"fpr\": 0.1737661850253331, \"tpr\": 0.9145262557077626, \"n\": 5329}, {\"threshold\": 0.7129999995231628, \"p\": 28032, \"fpr\": 0.1733908800900732, \"tpr\": 0.9141695205479452, \"n\": 5329}, {\"threshold\": 0.7139999866485596, \"p\": 28032, \"fpr\": 0.17245261775192344, \"tpr\": 0.9139911529680366, \"n\": 5329}, {\"threshold\": 0.7149999737739563, \"p\": 28032, \"fpr\": 0.17207731281666355, \"tpr\": 0.9137771118721462, \"n\": 5329}, {\"threshold\": 0.7160000205039978, \"p\": 28032, \"fpr\": 0.17188966034903358, \"tpr\": 0.9135630707762558, \"n\": 5329}, {\"threshold\": 0.7170000076293945, \"p\": 28032, \"fpr\": 0.1715143554137737, \"tpr\": 0.9133133561643836, \"n\": 5329}, {\"threshold\": 0.7179999947547913, \"p\": 28032, \"fpr\": 0.17095139801088385, \"tpr\": 0.9131706621004566, \"n\": 5329}, {\"threshold\": 0.718999981880188, \"p\": 28032, \"fpr\": 0.17057609307562394, \"tpr\": 0.9130993150684932, \"n\": 5329}, {\"threshold\": 0.7200000286102295, \"p\": 28032, \"fpr\": 0.170388440607994, \"tpr\": 0.9130636415525114, \"n\": 5329}, {\"threshold\": 0.7210000157356262, \"p\": 28032, \"fpr\": 0.1700131356727341, \"tpr\": 0.912849600456621, \"n\": 5329}, {\"threshold\": 0.722000002861023, \"p\": 28032, \"fpr\": 0.16907487333458435, \"tpr\": 0.9125285388127854, \"n\": 5329}, {\"threshold\": 0.7229999899864197, \"p\": 28032, \"fpr\": 0.1688872208669544, \"tpr\": 0.9123501712328768, \"n\": 5329}, {\"threshold\": 0.7239999771118164, \"p\": 28032, \"fpr\": 0.1688872208669544, \"tpr\": 0.912171803652968, \"n\": 5329}, {\"threshold\": 0.7250000238418579, \"p\": 28032, \"fpr\": 0.1685119159316945, \"tpr\": 0.912029109589041, \"n\": 5329}, {\"threshold\": 0.7260000109672546, \"p\": 28032, \"fpr\": 0.1681366109964346, \"tpr\": 0.9117080479452054, \"n\": 5329}, {\"threshold\": 0.7269999980926514, \"p\": 28032, \"fpr\": 0.16794895852880465, \"tpr\": 0.9114583333333334, \"n\": 5329}, {\"threshold\": 0.7279999852180481, \"p\": 28032, \"fpr\": 0.1677613060611747, \"tpr\": 0.9113869863013698, \"n\": 5329}, {\"threshold\": 0.7289999723434448, \"p\": 28032, \"fpr\": 0.16757365359354476, \"tpr\": 0.911244292237443, \"n\": 5329}, {\"threshold\": 0.7300000190734863, \"p\": 28032, \"fpr\": 0.16719834865828487, \"tpr\": 0.911101598173516, \"n\": 5329}, {\"threshold\": 0.7310000061988831, \"p\": 28032, \"fpr\": 0.166635391255395, \"tpr\": 0.9108162100456622, \"n\": 5329}, {\"threshold\": 0.7319999933242798, \"p\": 28032, \"fpr\": 0.16588478138487522, \"tpr\": 0.9106735159817352, \"n\": 5329}, {\"threshold\": 0.7329999804496765, \"p\": 28032, \"fpr\": 0.16569712891724525, \"tpr\": 0.9103524543378996, \"n\": 5329}, {\"threshold\": 0.734000027179718, \"p\": 28032, \"fpr\": 0.16532182398198536, \"tpr\": 0.9102097602739726, \"n\": 5329}, {\"threshold\": 0.7350000143051147, \"p\": 28032, \"fpr\": 0.16513417151435542, \"tpr\": 0.9100670662100456, \"n\": 5329}, {\"threshold\": 0.7360000014305115, \"p\": 28032, \"fpr\": 0.16494651904672547, \"tpr\": 0.9098530251141552, \"n\": 5329}, {\"threshold\": 0.7369999885559082, \"p\": 28032, \"fpr\": 0.16494651904672547, \"tpr\": 0.9097103310502284, \"n\": 5329}, {\"threshold\": 0.7379999756813049, \"p\": 28032, \"fpr\": 0.1643835616438356, \"tpr\": 0.9095319634703196, \"n\": 5329}, {\"threshold\": 0.7390000224113464, \"p\": 28032, \"fpr\": 0.16382060424094577, \"tpr\": 0.9092465753424658, \"n\": 5329}, {\"threshold\": 0.7400000095367432, \"p\": 28032, \"fpr\": 0.16344529930568588, \"tpr\": 0.9091395547945206, \"n\": 5329}, {\"threshold\": 0.7409999966621399, \"p\": 28032, \"fpr\": 0.16269468943516607, \"tpr\": 0.9089968607305936, \"n\": 5329}, {\"threshold\": 0.7419999837875366, \"p\": 28032, \"fpr\": 0.16250703696753613, \"tpr\": 0.9087828196347032, \"n\": 5329}, {\"threshold\": 0.7429999709129333, \"p\": 28032, \"fpr\": 0.16194407956464626, \"tpr\": 0.9086401255707762, \"n\": 5329}, {\"threshold\": 0.7440000176429749, \"p\": 28032, \"fpr\": 0.16138112216175643, \"tpr\": 0.9083904109589042, \"n\": 5329}, {\"threshold\": 0.7450000047683716, \"p\": 28032, \"fpr\": 0.16119346969412648, \"tpr\": 0.9082120433789954, \"n\": 5329}, {\"threshold\": 0.7459999918937683, \"p\": 28032, \"fpr\": 0.16100581722649654, \"tpr\": 0.9079266552511416, \"n\": 5329}, {\"threshold\": 0.746999979019165, \"p\": 28032, \"fpr\": 0.16063051229123662, \"tpr\": 0.9078196347031964, \"n\": 5329}, {\"threshold\": 0.7480000257492065, \"p\": 28032, \"fpr\": 0.16044285982360668, \"tpr\": 0.9074272260273972, \"n\": 5329}, {\"threshold\": 0.7490000128746033, \"p\": 28032, \"fpr\": 0.16025520735597673, \"tpr\": 0.9071061643835616, \"n\": 5329}, {\"threshold\": 0.75, \"p\": 28032, \"fpr\": 0.15987990242071684, \"tpr\": 0.9068921232876712, \"n\": 5329}, {\"threshold\": 0.7509999871253967, \"p\": 28032, \"fpr\": 0.1585663351473072, \"tpr\": 0.9067494292237442, \"n\": 5329}, {\"threshold\": 0.7519999742507935, \"p\": 28032, \"fpr\": 0.15837868267967722, \"tpr\": 0.9065353881278538, \"n\": 5329}, {\"threshold\": 0.753000020980835, \"p\": 28032, \"fpr\": 0.1574404203415275, \"tpr\": 0.90625, \"n\": 5329}, {\"threshold\": 0.7540000081062317, \"p\": 28032, \"fpr\": 0.1574404203415275, \"tpr\": 0.9061429794520548, \"n\": 5329}, {\"threshold\": 0.7549999952316284, \"p\": 28032, \"fpr\": 0.1574404203415275, \"tpr\": 0.9060002853881278, \"n\": 5329}, {\"threshold\": 0.7559999823570251, \"p\": 28032, \"fpr\": 0.15706511540626758, \"tpr\": 0.9057862442922374, \"n\": 5329}, {\"threshold\": 0.7570000290870667, \"p\": 28032, \"fpr\": 0.15687746293863764, \"tpr\": 0.90542950913242, \"n\": 5329}, {\"threshold\": 0.7580000162124634, \"p\": 28032, \"fpr\": 0.15612685306811785, \"tpr\": 0.905179794520548, \"n\": 5329}, {\"threshold\": 0.7590000033378601, \"p\": 28032, \"fpr\": 0.155563895665228, \"tpr\": 0.9047160388127854, \"n\": 5329}, {\"threshold\": 0.7599999904632568, \"p\": 28032, \"fpr\": 0.15537624319759805, \"tpr\": 0.9044663242009132, \"n\": 5329}, {\"threshold\": 0.7609999775886536, \"p\": 28032, \"fpr\": 0.15500093826233816, \"tpr\": 0.9041809360730594, \"n\": 5329}, {\"threshold\": 0.7620000243186951, \"p\": 28032, \"fpr\": 0.15462563332707824, \"tpr\": 0.903824200913242, \"n\": 5329}, {\"threshold\": 0.7630000114440918, \"p\": 28032, \"fpr\": 0.1540626759241884, \"tpr\": 0.9037171803652968, \"n\": 5329}, {\"threshold\": 0.7639999985694885, \"p\": 28032, \"fpr\": 0.1536873709889285, \"tpr\": 0.9032534246575342, \"n\": 5329}, {\"threshold\": 0.7649999856948853, \"p\": 28032, \"fpr\": 0.1533120660536686, \"tpr\": 0.9030037100456622, \"n\": 5329}, {\"threshold\": 0.765999972820282, \"p\": 28032, \"fpr\": 0.15274910865077876, \"tpr\": 0.9028253424657534, \"n\": 5329}, {\"threshold\": 0.7670000195503235, \"p\": 28032, \"fpr\": 0.1525614561831488, \"tpr\": 0.9025042808219178, \"n\": 5329}, {\"threshold\": 0.7680000066757202, \"p\": 28032, \"fpr\": 0.15237380371551887, \"tpr\": 0.9023615867579908, \"n\": 5329}, {\"threshold\": 0.7689999938011169, \"p\": 28032, \"fpr\": 0.15199849878025895, \"tpr\": 0.9020405251141552, \"n\": 5329}, {\"threshold\": 0.7699999809265137, \"p\": 28032, \"fpr\": 0.151810846312629, \"tpr\": 0.9018978310502284, \"n\": 5329}, {\"threshold\": 0.7710000276565552, \"p\": 28032, \"fpr\": 0.15143554137736912, \"tpr\": 0.901541095890411, \"n\": 5329}, {\"threshold\": 0.7720000147819519, \"p\": 28032, \"fpr\": 0.15124788890973917, \"tpr\": 0.9012200342465754, \"n\": 5329}, {\"threshold\": 0.7730000019073486, \"p\": 28032, \"fpr\": 0.1506849315068493, \"tpr\": 0.9009346461187214, \"n\": 5329}, {\"threshold\": 0.7739999890327454, \"p\": 28032, \"fpr\": 0.15012197410395947, \"tpr\": 0.900720605022831, \"n\": 5329}, {\"threshold\": 0.7749999761581421, \"p\": 28032, \"fpr\": 0.14974666916869958, \"tpr\": 0.9005422374429224, \"n\": 5329}, {\"threshold\": 0.7760000228881836, \"p\": 28032, \"fpr\": 0.14918371176580972, \"tpr\": 0.9005065639269406, \"n\": 5329}, {\"threshold\": 0.7770000100135803, \"p\": 28032, \"fpr\": 0.1484331018952899, \"tpr\": 0.9002568493150684, \"n\": 5329}, {\"threshold\": 0.777999997138977, \"p\": 28032, \"fpr\": 0.14824544942765996, \"tpr\": 0.900042808219178, \"n\": 5329}, {\"threshold\": 0.7789999842643738, \"p\": 28032, \"fpr\": 0.14768249202477013, \"tpr\": 0.899650399543379, \"n\": 5329}, {\"threshold\": 0.7799999713897705, \"p\": 28032, \"fpr\": 0.14768249202477013, \"tpr\": 0.8993650114155252, \"n\": 5329}, {\"threshold\": 0.781000018119812, \"p\": 28032, \"fpr\": 0.14749483955714018, \"tpr\": 0.89925799086758, \"n\": 5329}, {\"threshold\": 0.7820000052452087, \"p\": 28032, \"fpr\": 0.14693188215425032, \"tpr\": 0.8989012557077626, \"n\": 5329}, {\"threshold\": 0.7829999923706055, \"p\": 28032, \"fpr\": 0.14693188215425032, \"tpr\": 0.8987228881278538, \"n\": 5329}, {\"threshold\": 0.7839999794960022, \"p\": 28032, \"fpr\": 0.14693188215425032, \"tpr\": 0.8984375, \"n\": 5329}, {\"threshold\": 0.7850000262260437, \"p\": 28032, \"fpr\": 0.14655657721899043, \"tpr\": 0.8981877853881278, \"n\": 5329}, {\"threshold\": 0.7860000133514404, \"p\": 28032, \"fpr\": 0.14655657721899043, \"tpr\": 0.8979380707762558, \"n\": 5329}, {\"threshold\": 0.7870000004768372, \"p\": 28032, \"fpr\": 0.14580596734847062, \"tpr\": 0.8975813356164384, \"n\": 5329}, {\"threshold\": 0.7879999876022339, \"p\": 28032, \"fpr\": 0.14543066241321073, \"tpr\": 0.8974029680365296, \"n\": 5329}, {\"threshold\": 0.7889999747276306, \"p\": 28032, \"fpr\": 0.14449240007506098, \"tpr\": 0.8971532534246576, \"n\": 5329}, {\"threshold\": 0.7900000214576721, \"p\": 28032, \"fpr\": 0.14449240007506098, \"tpr\": 0.8969035388127854, \"n\": 5329}, {\"threshold\": 0.7910000085830688, \"p\": 28032, \"fpr\": 0.14430474760743103, \"tpr\": 0.8966538242009132, \"n\": 5329}, {\"threshold\": 0.7919999957084656, \"p\": 28032, \"fpr\": 0.1437417902045412, \"tpr\": 0.896404109589041, \"n\": 5329}, {\"threshold\": 0.7929999828338623, \"p\": 28032, \"fpr\": 0.14336648526928128, \"tpr\": 0.896154394977169, \"n\": 5329}, {\"threshold\": 0.7940000295639038, \"p\": 28032, \"fpr\": 0.14280352786639144, \"tpr\": 0.895869006849315, \"n\": 5329}, {\"threshold\": 0.7950000166893005, \"p\": 28032, \"fpr\": 0.14242822293113155, \"tpr\": 0.895619292237443, \"n\": 5329}, {\"threshold\": 0.7960000038146973, \"p\": 28032, \"fpr\": 0.14167761306061175, \"tpr\": 0.895333904109589, \"n\": 5329}, {\"threshold\": 0.796999990940094, \"p\": 28032, \"fpr\": 0.1411146556577219, \"tpr\": 0.8951198630136986, \"n\": 5329}, {\"threshold\": 0.7979999780654907, \"p\": 28032, \"fpr\": 0.140739350722462, \"tpr\": 0.8948701484018264, \"n\": 5329}, {\"threshold\": 0.7990000247955322, \"p\": 28032, \"fpr\": 0.14017639331957216, \"tpr\": 0.8946204337899544, \"n\": 5329}, {\"threshold\": 0.800000011920929, \"p\": 28032, \"fpr\": 0.1399887408519422, \"tpr\": 0.8945847602739726, \"n\": 5329}, {\"threshold\": 0.8009999990463257, \"p\": 28032, \"fpr\": 0.1396134359166823, \"tpr\": 0.894263698630137, \"n\": 5329}, {\"threshold\": 0.8019999861717224, \"p\": 28032, \"fpr\": 0.13905047851379246, \"tpr\": 0.8939426369863014, \"n\": 5329}, {\"threshold\": 0.8029999732971191, \"p\": 28032, \"fpr\": 0.13867517357853257, \"tpr\": 0.893585901826484, \"n\": 5329}, {\"threshold\": 0.8040000200271606, \"p\": 28032, \"fpr\": 0.13867517357853257, \"tpr\": 0.8931578196347032, \"n\": 5329}, {\"threshold\": 0.8050000071525574, \"p\": 28032, \"fpr\": 0.13773691124038281, \"tpr\": 0.8928367579908676, \"n\": 5329}, {\"threshold\": 0.8059999942779541, \"p\": 28032, \"fpr\": 0.13773691124038281, \"tpr\": 0.892658390410959, \"n\": 5329}, {\"threshold\": 0.8069999814033508, \"p\": 28032, \"fpr\": 0.13754925877275287, \"tpr\": 0.8924443493150684, \"n\": 5329}, {\"threshold\": 0.8080000281333923, \"p\": 28032, \"fpr\": 0.136986301369863, \"tpr\": 0.8923016552511416, \"n\": 5329}, {\"threshold\": 0.8090000152587891, \"p\": 28032, \"fpr\": 0.13642334396697317, \"tpr\": 0.8917665525114156, \"n\": 5329}, {\"threshold\": 0.8100000023841858, \"p\": 28032, \"fpr\": 0.13623569149934323, \"tpr\": 0.8913741438356164, \"n\": 5329}, {\"threshold\": 0.8109999895095825, \"p\": 28032, \"fpr\": 0.13604803903171328, \"tpr\": 0.8910530821917808, \"n\": 5329}, {\"threshold\": 0.8119999766349792, \"p\": 28032, \"fpr\": 0.13567273409645336, \"tpr\": 0.8909103881278538, \"n\": 5329}, {\"threshold\": 0.8130000233650208, \"p\": 28032, \"fpr\": 0.13548508162882342, \"tpr\": 0.8906963470319634, \"n\": 5329}, {\"threshold\": 0.8140000104904175, \"p\": 28032, \"fpr\": 0.13548508162882342, \"tpr\": 0.8903039383561644, \"n\": 5329}, {\"threshold\": 0.8149999976158142, \"p\": 28032, \"fpr\": 0.13492212422593358, \"tpr\": 0.8899115296803652, \"n\": 5329}, {\"threshold\": 0.8159999847412109, \"p\": 28032, \"fpr\": 0.1347344717583036, \"tpr\": 0.88980450913242, \"n\": 5329}, {\"threshold\": 0.8169999718666077, \"p\": 28032, \"fpr\": 0.13379620942015388, \"tpr\": 0.8894834474885844, \"n\": 5329}, {\"threshold\": 0.8180000185966492, \"p\": 28032, \"fpr\": 0.13379620942015388, \"tpr\": 0.8892337328767124, \"n\": 5329}, {\"threshold\": 0.8190000057220459, \"p\": 28032, \"fpr\": 0.13360855695252394, \"tpr\": 0.8889483447488584, \"n\": 5329}, {\"threshold\": 0.8199999928474426, \"p\": 28032, \"fpr\": 0.13360855695252394, \"tpr\": 0.8883062214611872, \"n\": 5329}, {\"threshold\": 0.8209999799728394, \"p\": 28032, \"fpr\": 0.13285794708200413, \"tpr\": 0.8879494863013698, \"n\": 5329}, {\"threshold\": 0.8220000267028809, \"p\": 28032, \"fpr\": 0.13285794708200413, \"tpr\": 0.887521404109589, \"n\": 5329}, {\"threshold\": 0.8230000138282776, \"p\": 28032, \"fpr\": 0.13267029461437418, \"tpr\": 0.88712899543379, \"n\": 5329}, {\"threshold\": 0.8240000009536743, \"p\": 28032, \"fpr\": 0.13229498967911427, \"tpr\": 0.8868079337899544, \"n\": 5329}, {\"threshold\": 0.824999988079071, \"p\": 28032, \"fpr\": 0.13135672734096454, \"tpr\": 0.8864155251141552, \"n\": 5329}, {\"threshold\": 0.8259999752044678, \"p\": 28032, \"fpr\": 0.13079376993807468, \"tpr\": 0.885916095890411, \"n\": 5329}, {\"threshold\": 0.8270000219345093, \"p\": 28032, \"fpr\": 0.1304184650028148, \"tpr\": 0.8855236872146118, \"n\": 5329}, {\"threshold\": 0.828000009059906, \"p\": 28032, \"fpr\": 0.12985550759992495, \"tpr\": 0.8852739726027398, \"n\": 5329}, {\"threshold\": 0.8289999961853027, \"p\": 28032, \"fpr\": 0.12948020266466503, \"tpr\": 0.8850599315068494, \"n\": 5329}, {\"threshold\": 0.8299999833106995, \"p\": 28032, \"fpr\": 0.1292925501970351, \"tpr\": 0.884703196347032, \"n\": 5329}, {\"threshold\": 0.8309999704360962, \"p\": 28032, \"fpr\": 0.12797898292362545, \"tpr\": 0.884560502283105, \"n\": 5329}, {\"threshold\": 0.8320000171661377, \"p\": 28032, \"fpr\": 0.12760367798836555, \"tpr\": 0.8840967465753424, \"n\": 5329}, {\"threshold\": 0.8330000042915344, \"p\": 28032, \"fpr\": 0.12685306811784575, \"tpr\": 0.8837043378995434, \"n\": 5329}, {\"threshold\": 0.8339999914169312, \"p\": 28032, \"fpr\": 0.12647776318258586, \"tpr\": 0.8832405821917808, \"n\": 5329}, {\"threshold\": 0.8349999785423279, \"p\": 28032, \"fpr\": 0.12572715331206605, \"tpr\": 0.8828838470319634, \"n\": 5329}, {\"threshold\": 0.8360000252723694, \"p\": 28032, \"fpr\": 0.12497654344154625, \"tpr\": 0.8823844178082192, \"n\": 5329}, {\"threshold\": 0.8370000123977661, \"p\": 28032, \"fpr\": 0.12460123850628636, \"tpr\": 0.8820990296803652, \"n\": 5329}, {\"threshold\": 0.8379999995231628, \"p\": 28032, \"fpr\": 0.12422593357102646, \"tpr\": 0.8819206621004566, \"n\": 5329}, {\"threshold\": 0.8389999866485596, \"p\": 28032, \"fpr\": 0.12422593357102646, \"tpr\": 0.8814212328767124, \"n\": 5329}, {\"threshold\": 0.8399999737739563, \"p\": 28032, \"fpr\": 0.12347532370050666, \"tpr\": 0.8808147831050228, \"n\": 5329}, {\"threshold\": 0.8410000205039978, \"p\": 28032, \"fpr\": 0.12310001876524676, \"tpr\": 0.8806007420091324, \"n\": 5329}, {\"threshold\": 0.8420000076293945, \"p\": 28032, \"fpr\": 0.12253706136235691, \"tpr\": 0.8799586187214612, \"n\": 5329}, {\"threshold\": 0.8429999947547913, \"p\": 28032, \"fpr\": 0.12234940889472697, \"tpr\": 0.8794591894977168, \"n\": 5329}, {\"threshold\": 0.843999981880188, \"p\": 28032, \"fpr\": 0.12141114655657721, \"tpr\": 0.8787457191780822, \"n\": 5329}, {\"threshold\": 0.8450000286102295, \"p\": 28032, \"fpr\": 0.12066053668605742, \"tpr\": 0.87849600456621, \"n\": 5329}, {\"threshold\": 0.8460000157356262, \"p\": 28032, \"fpr\": 0.12047288421842747, \"tpr\": 0.8782106164383562, \"n\": 5329}, {\"threshold\": 0.847000002861023, \"p\": 28032, \"fpr\": 0.12028523175079753, \"tpr\": 0.8778895547945206, \"n\": 5329}, {\"threshold\": 0.8479999899864197, \"p\": 28032, \"fpr\": 0.11934696941264777, \"tpr\": 0.8776398401826484, \"n\": 5329}, {\"threshold\": 0.8489999771118164, \"p\": 28032, \"fpr\": 0.11915931694501783, \"tpr\": 0.8772117579908676, \"n\": 5329}, {\"threshold\": 0.8500000238418579, \"p\": 28032, \"fpr\": 0.11897166447738788, \"tpr\": 0.8768193493150684, \"n\": 5329}, {\"threshold\": 0.8510000109672546, \"p\": 28032, \"fpr\": 0.11878401200975792, \"tpr\": 0.8764269406392694, \"n\": 5329}, {\"threshold\": 0.8519999980926514, \"p\": 28032, \"fpr\": 0.11859635954212798, \"tpr\": 0.8759631849315068, \"n\": 5329}, {\"threshold\": 0.8529999852180481, \"p\": 28032, \"fpr\": 0.11784574967160819, \"tpr\": 0.875535102739726, \"n\": 5329}, {\"threshold\": 0.8539999723434448, \"p\": 28032, \"fpr\": 0.11747044473634828, \"tpr\": 0.875142694063927, \"n\": 5329}, {\"threshold\": 0.8550000190734863, \"p\": 28032, \"fpr\": 0.11690748733345843, \"tpr\": 0.874464897260274, \"n\": 5329}, {\"threshold\": 0.8560000061988831, \"p\": 28032, \"fpr\": 0.11671983486582849, \"tpr\": 0.8738941210045662, \"n\": 5329}, {\"threshold\": 0.8569999933242798, \"p\": 28032, \"fpr\": 0.11653218239819854, \"tpr\": 0.873644406392694, \"n\": 5329}, {\"threshold\": 0.8579999804496765, \"p\": 28032, \"fpr\": 0.11578157252767873, \"tpr\": 0.873251997716895, \"n\": 5329}, {\"threshold\": 0.859000027179718, \"p\": 28032, \"fpr\": 0.11578157252767873, \"tpr\": 0.8726812214611872, \"n\": 5329}, {\"threshold\": 0.8600000143051147, \"p\": 28032, \"fpr\": 0.11559392006004879, \"tpr\": 0.8722174657534246, \"n\": 5329}, {\"threshold\": 0.8610000014305115, \"p\": 28032, \"fpr\": 0.11503096265715894, \"tpr\": 0.8719677511415526, \"n\": 5329}, {\"threshold\": 0.8619999885559082, \"p\": 28032, \"fpr\": 0.114843310189529, \"tpr\": 0.8715753424657534, \"n\": 5329}, {\"threshold\": 0.8629999756813049, \"p\": 28032, \"fpr\": 0.11465565772189905, \"tpr\": 0.8711829337899544, \"n\": 5329}, {\"threshold\": 0.8640000224113464, \"p\": 28032, \"fpr\": 0.11390504785137924, \"tpr\": 0.8708618721461188, \"n\": 5329}, {\"threshold\": 0.8650000095367432, \"p\": 28032, \"fpr\": 0.1129667855132295, \"tpr\": 0.8702554223744292, \"n\": 5329}, {\"threshold\": 0.8659999966621399, \"p\": 28032, \"fpr\": 0.11240382811033965, \"tpr\": 0.8695419520547946, \"n\": 5329}, {\"threshold\": 0.8669999837875366, \"p\": 28032, \"fpr\": 0.1118408707074498, \"tpr\": 0.8691852168949772, \"n\": 5329}, {\"threshold\": 0.8679999709129333, \"p\": 28032, \"fpr\": 0.11165321823981986, \"tpr\": 0.8686501141552512, \"n\": 5329}, {\"threshold\": 0.8690000176429749, \"p\": 28032, \"fpr\": 0.11127791330455995, \"tpr\": 0.8683647260273972, \"n\": 5329}, {\"threshold\": 0.8700000047683716, \"p\": 28032, \"fpr\": 0.11052730343404016, \"tpr\": 0.8678296232876712, \"n\": 5329}, {\"threshold\": 0.8709999918937683, \"p\": 28032, \"fpr\": 0.11015199849878025, \"tpr\": 0.867579908675799, \"n\": 5329}, {\"threshold\": 0.871999979019165, \"p\": 28032, \"fpr\": 0.1095890410958904, \"tpr\": 0.867044805936073, \"n\": 5329}, {\"threshold\": 0.8730000257492065, \"p\": 28032, \"fpr\": 0.10902608369300057, \"tpr\": 0.8664026826484018, \"n\": 5329}, {\"threshold\": 0.8740000128746033, \"p\": 28032, \"fpr\": 0.10865077875774067, \"tpr\": 0.8660459474885844, \"n\": 5329}, {\"threshold\": 0.875, \"p\": 28032, \"fpr\": 0.10808782135485082, \"tpr\": 0.8654751712328768, \"n\": 5329}, {\"threshold\": 0.8759999871253967, \"p\": 28032, \"fpr\": 0.10733721148433102, \"tpr\": 0.865154109589041, \"n\": 5329}, {\"threshold\": 0.8769999742507935, \"p\": 28032, \"fpr\": 0.10658660161381123, \"tpr\": 0.8645119863013698, \"n\": 5329}, {\"threshold\": 0.878000020980835, \"p\": 28032, \"fpr\": 0.10564833927566147, \"tpr\": 0.8640125570776256, \"n\": 5329}, {\"threshold\": 0.8790000081062317, \"p\": 28032, \"fpr\": 0.10527303434040157, \"tpr\": 0.8635131278538812, \"n\": 5329}, {\"threshold\": 0.8799999952316284, \"p\": 28032, \"fpr\": 0.10508538187277162, \"tpr\": 0.8627283105022832, \"n\": 5329}, {\"threshold\": 0.8809999823570251, \"p\": 28032, \"fpr\": 0.10471007693751173, \"tpr\": 0.8619791666666666, \"n\": 5329}, {\"threshold\": 0.8820000290870667, \"p\": 28032, \"fpr\": 0.10414711953462188, \"tpr\": 0.861408390410959, \"n\": 5329}, {\"threshold\": 0.8830000162124634, \"p\": 28032, \"fpr\": 0.10377181459936198, \"tpr\": 0.8608019406392694, \"n\": 5329}, {\"threshold\": 0.8840000033378601, \"p\": 28032, \"fpr\": 0.10283355226121224, \"tpr\": 0.860052796803653, \"n\": 5329}, {\"threshold\": 0.8849999904632568, \"p\": 28032, \"fpr\": 0.10245824732595234, \"tpr\": 0.859232305936073, \"n\": 5329}, {\"threshold\": 0.8859999775886536, \"p\": 28032, \"fpr\": 0.10227059485832239, \"tpr\": 0.858839897260274, \"n\": 5329}, {\"threshold\": 0.8870000243186951, \"p\": 28032, \"fpr\": 0.10189528992306249, \"tpr\": 0.8580550799086758, \"n\": 5329}, {\"threshold\": 0.8880000114440918, \"p\": 28032, \"fpr\": 0.10151998498780258, \"tpr\": 0.8573772831050228, \"n\": 5329}, {\"threshold\": 0.8889999985694885, \"p\": 28032, \"fpr\": 0.1011446800525427, \"tpr\": 0.8569848744292238, \"n\": 5329}, {\"threshold\": 0.8899999856948853, \"p\": 28032, \"fpr\": 0.09964346031150309, \"tpr\": 0.8563784246575342, \"n\": 5329}, {\"threshold\": 0.890999972820282, \"p\": 28032, \"fpr\": 0.0992681553762432, \"tpr\": 0.8554509132420092, \"n\": 5329}, {\"threshold\": 0.8920000195503235, \"p\": 28032, \"fpr\": 0.0985175455057234, \"tpr\": 0.8548087899543378, \"n\": 5329}, {\"threshold\": 0.8930000066757202, \"p\": 28032, \"fpr\": 0.0981422405704635, \"tpr\": 0.8540953196347032, \"n\": 5329}, {\"threshold\": 0.8939999938011169, \"p\": 28032, \"fpr\": 0.09720397823231375, \"tpr\": 0.853167808219178, \"n\": 5329}, {\"threshold\": 0.8949999809265137, \"p\": 28032, \"fpr\": 0.09682867329705386, \"tpr\": 0.8524900114155252, \"n\": 5329}, {\"threshold\": 0.8960000276565552, \"p\": 28032, \"fpr\": 0.09682867329705386, \"tpr\": 0.8516695205479452, \"n\": 5329}, {\"threshold\": 0.8970000147819519, \"p\": 28032, \"fpr\": 0.09664102082942391, \"tpr\": 0.8509917237442922, \"n\": 5329}, {\"threshold\": 0.8980000019073486, \"p\": 28032, \"fpr\": 0.09626571589416401, \"tpr\": 0.8504209474885844, \"n\": 5329}, {\"threshold\": 0.8989999890327454, \"p\": 28032, \"fpr\": 0.09570275849127416, \"tpr\": 0.8496361301369864, \"n\": 5329}, {\"threshold\": 0.8999999761581421, \"p\": 28032, \"fpr\": 0.09532745355601425, \"tpr\": 0.8489583333333334, \"n\": 5329}, {\"threshold\": 0.9010000228881836, \"p\": 28032, \"fpr\": 0.09438919121786452, \"tpr\": 0.8482805365296804, \"n\": 5329}, {\"threshold\": 0.9020000100135803, \"p\": 28032, \"fpr\": 0.09420153875023457, \"tpr\": 0.8476027397260274, \"n\": 5329}, {\"threshold\": 0.902999997138977, \"p\": 28032, \"fpr\": 0.09363858134734472, \"tpr\": 0.8472816780821918, \"n\": 5329}, {\"threshold\": 0.9039999842643738, \"p\": 28032, \"fpr\": 0.09345092887971476, \"tpr\": 0.8464611872146118, \"n\": 5329}, {\"threshold\": 0.9049999713897705, \"p\": 28032, \"fpr\": 0.09251266654156502, \"tpr\": 0.8458904109589042, \"n\": 5329}, {\"threshold\": 0.906000018119812, \"p\": 28032, \"fpr\": 0.09138675173578532, \"tpr\": 0.844962899543379, \"n\": 5329}, {\"threshold\": 0.9070000052452087, \"p\": 28032, \"fpr\": 0.09063614186526553, \"tpr\": 0.8441067351598174, \"n\": 5329}, {\"threshold\": 0.9079999923706055, \"p\": 28032, \"fpr\": 0.08969787952711578, \"tpr\": 0.843072203196347, \"n\": 5329}, {\"threshold\": 0.9089999794960022, \"p\": 28032, \"fpr\": 0.08951022705948583, \"tpr\": 0.8420376712328768, \"n\": 5329}, {\"threshold\": 0.9100000262260437, \"p\": 28032, \"fpr\": 0.08932257459185589, \"tpr\": 0.841181506849315, \"n\": 5329}, {\"threshold\": 0.9110000133514404, \"p\": 28032, \"fpr\": 0.08857196472133609, \"tpr\": 0.84025399543379, \"n\": 5329}, {\"threshold\": 0.9120000004768372, \"p\": 28032, \"fpr\": 0.08838431225370613, \"tpr\": 0.839576198630137, \"n\": 5329}, {\"threshold\": 0.9129999876022339, \"p\": 28032, \"fpr\": 0.08800900731844624, \"tpr\": 0.8388627283105022, \"n\": 5329}, {\"threshold\": 0.9139999747276306, \"p\": 28032, \"fpr\": 0.08800900731844624, \"tpr\": 0.8381849315068494, \"n\": 5329}, {\"threshold\": 0.9150000214576721, \"p\": 28032, \"fpr\": 0.08763370238318634, \"tpr\": 0.8370790525114156, \"n\": 5329}, {\"threshold\": 0.9160000085830688, \"p\": 28032, \"fpr\": 0.08707074498029649, \"tpr\": 0.8361872146118722, \"n\": 5329}, {\"threshold\": 0.9169999957084656, \"p\": 28032, \"fpr\": 0.0863201351097767, \"tpr\": 0.8347959474885844, \"n\": 5329}, {\"threshold\": 0.9179999828338623, \"p\": 28032, \"fpr\": 0.0863201351097767, \"tpr\": 0.833511700913242, \"n\": 5329}, {\"threshold\": 0.9190000295639038, \"p\": 28032, \"fpr\": 0.08575717770688684, \"tpr\": 0.8326198630136986, \"n\": 5329}, {\"threshold\": 0.9200000166893005, \"p\": 28032, \"fpr\": 0.08500656783636705, \"tpr\": 0.8311929223744292, \"n\": 5329}, {\"threshold\": 0.9210000038146973, \"p\": 28032, \"fpr\": 0.08463126290110715, \"tpr\": 0.8301940639269406, \"n\": 5329}, {\"threshold\": 0.921999990940094, \"p\": 28032, \"fpr\": 0.0836930005629574, \"tpr\": 0.8290525114155252, \"n\": 5329}, {\"threshold\": 0.9229999780654907, \"p\": 28032, \"fpr\": 0.08294239069243761, \"tpr\": 0.8279109589041096, \"n\": 5329}, {\"threshold\": 0.9240000247955322, \"p\": 28032, \"fpr\": 0.08256708575717771, \"tpr\": 0.8269834474885844, \"n\": 5329}, {\"threshold\": 0.925000011920929, \"p\": 28032, \"fpr\": 0.0821917808219178, \"tpr\": 0.8261986301369864, \"n\": 5329}, {\"threshold\": 0.9259999990463257, \"p\": 28032, \"fpr\": 0.08125351848376806, \"tpr\": 0.8248787100456622, \"n\": 5329}, {\"threshold\": 0.9269999861717224, \"p\": 28032, \"fpr\": 0.08125351848376806, \"tpr\": 0.8237728310502284, \"n\": 5329}, {\"threshold\": 0.9279999732971191, \"p\": 28032, \"fpr\": 0.08106586601613812, \"tpr\": 0.8228096461187214, \"n\": 5329}, {\"threshold\": 0.9290000200271606, \"p\": 28032, \"fpr\": 0.08031525614561831, \"tpr\": 0.8214540525114156, \"n\": 5329}, {\"threshold\": 0.9300000071525574, \"p\": 28032, \"fpr\": 0.07956464627509852, \"tpr\": 0.8202411529680366, \"n\": 5329}, {\"threshold\": 0.9309999942779541, \"p\": 28032, \"fpr\": 0.07843873146931882, \"tpr\": 0.818707191780822, \"n\": 5329}, {\"threshold\": 0.9319999814033508, \"p\": 28032, \"fpr\": 0.07825107900168887, \"tpr\": 0.8173159246575342, \"n\": 5329}, {\"threshold\": 0.9330000281333923, \"p\": 28032, \"fpr\": 0.07825107900168887, \"tpr\": 0.816138698630137, \"n\": 5329}, {\"threshold\": 0.9340000152587891, \"p\": 28032, \"fpr\": 0.07806342653405893, \"tpr\": 0.8146047374429224, \"n\": 5329}, {\"threshold\": 0.9350000023841858, \"p\": 28032, \"fpr\": 0.07787577406642897, \"tpr\": 0.8130707762557078, \"n\": 5329}, {\"threshold\": 0.9359999895095825, \"p\": 28032, \"fpr\": 0.07731281666353912, \"tpr\": 0.8118578767123288, \"n\": 5329}, {\"threshold\": 0.9369999766349792, \"p\": 28032, \"fpr\": 0.07674985926064928, \"tpr\": 0.810751997716895, \"n\": 5329}, {\"threshold\": 0.9380000233650208, \"p\": 28032, \"fpr\": 0.07637455432538938, \"tpr\": 0.8092893835616438, \"n\": 5329}, {\"threshold\": 0.9390000104904175, \"p\": 28032, \"fpr\": 0.07599924939012948, \"tpr\": 0.8077554223744292, \"n\": 5329}, {\"threshold\": 0.9399999976158142, \"p\": 28032, \"fpr\": 0.07524863951960968, \"tpr\": 0.8059360730593608, \"n\": 5329}, {\"threshold\": 0.9409999847412109, \"p\": 28032, \"fpr\": 0.07468568211671983, \"tpr\": 0.8046161529680366, \"n\": 5329}, {\"threshold\": 0.9419999718666077, \"p\": 28032, \"fpr\": 0.07393507224620004, \"tpr\": 0.8031892123287672, \"n\": 5329}, {\"threshold\": 0.9430000185966492, \"p\": 28032, \"fpr\": 0.07374741977857009, \"tpr\": 0.8016909246575342, \"n\": 5329}, {\"threshold\": 0.9440000057220459, \"p\": 28032, \"fpr\": 0.0729968099080503, \"tpr\": 0.8002639840182648, \"n\": 5329}, {\"threshold\": 0.9449999928474426, \"p\": 28032, \"fpr\": 0.07243385250516045, \"tpr\": 0.7986943493150684, \"n\": 5329}, {\"threshold\": 0.9459999799728394, \"p\": 28032, \"fpr\": 0.07205854756990054, \"tpr\": 0.7968393264840182, \"n\": 5329}, {\"threshold\": 0.9470000267028809, \"p\": 28032, \"fpr\": 0.0711202852317508, \"tpr\": 0.7951626712328768, \"n\": 5329}, {\"threshold\": 0.9480000138282776, \"p\": 28032, \"fpr\": 0.07055732782886096, \"tpr\": 0.793771404109589, \"n\": 5329}, {\"threshold\": 0.9490000009536743, \"p\": 28032, \"fpr\": 0.06905610808782135, \"tpr\": 0.7921304223744292, \"n\": 5329}, {\"threshold\": 0.949999988079071, \"p\": 28032, \"fpr\": 0.06774254081441171, \"tpr\": 0.7896689497716894, \"n\": 5329}, {\"threshold\": 0.9509999752044678, \"p\": 28032, \"fpr\": 0.06699193094389191, \"tpr\": 0.7881349885844748, \"n\": 5329}, {\"threshold\": 0.9520000219345093, \"p\": 28032, \"fpr\": 0.06624132107337212, \"tpr\": 0.7865653538812786, \"n\": 5329}, {\"threshold\": 0.953000009059906, \"p\": 28032, \"fpr\": 0.06567836367048227, \"tpr\": 0.7841752283105022, \"n\": 5329}, {\"threshold\": 0.9539999961853027, \"p\": 28032, \"fpr\": 0.06511540626759242, \"tpr\": 0.7817494292237442, \"n\": 5329}, {\"threshold\": 0.9549999833106995, \"p\": 28032, \"fpr\": 0.06436479639707263, \"tpr\": 0.7796090182648402, \"n\": 5329}, {\"threshold\": 0.9559999704360962, \"p\": 28032, \"fpr\": 0.06417714392944267, \"tpr\": 0.7779680365296804, \"n\": 5329}, {\"threshold\": 0.9570000171661377, \"p\": 28032, \"fpr\": 0.06305122912366298, \"tpr\": 0.7757562785388128, \"n\": 5329}, {\"threshold\": 0.9580000042915344, \"p\": 28032, \"fpr\": 0.06230061925314318, \"tpr\": 0.773829908675799, \"n\": 5329}, {\"threshold\": 0.9589999914169312, \"p\": 28032, \"fpr\": 0.061362356914993435, \"tpr\": 0.7710473744292238, \"n\": 5329}, {\"threshold\": 0.9599999785423279, \"p\": 28032, \"fpr\": 0.06098705197973353, \"tpr\": 0.7686572488584474, \"n\": 5329}, {\"threshold\": 0.9610000252723694, \"p\": 28032, \"fpr\": 0.06042409457684369, \"tpr\": 0.7661244292237442, \"n\": 5329}, {\"threshold\": 0.9620000123977661, \"p\": 28032, \"fpr\": 0.05911052730343404, \"tpr\": 0.7639840182648402, \"n\": 5329}, {\"threshold\": 0.9629999995231628, \"p\": 28032, \"fpr\": 0.058547569900544195, \"tpr\": 0.7610231164383562, \"n\": 5329}, {\"threshold\": 0.9639999866485596, \"p\": 28032, \"fpr\": 0.05760930756239445, \"tpr\": 0.7578125, \"n\": 5329}, {\"threshold\": 0.9649999737739563, \"p\": 28032, \"fpr\": 0.05685869769187465, \"tpr\": 0.7553153538812786, \"n\": 5329}, {\"threshold\": 0.9660000205039978, \"p\": 28032, \"fpr\": 0.05610808782135485, \"tpr\": 0.7523544520547946, \"n\": 5329}, {\"threshold\": 0.9670000076293945, \"p\": 28032, \"fpr\": 0.05535747795083505, \"tpr\": 0.749322203196347, \"n\": 5329}, {\"threshold\": 0.9679999947547913, \"p\": 28032, \"fpr\": 0.0547945205479452, \"tpr\": 0.7457905251141552, \"n\": 5329}, {\"threshold\": 0.968999981880188, \"p\": 28032, \"fpr\": 0.054419215612685305, \"tpr\": 0.7426512557077626, \"n\": 5329}, {\"threshold\": 0.9700000286102295, \"p\": 28032, \"fpr\": 0.053293300806905614, \"tpr\": 0.7389055365296804, \"n\": 5329}, {\"threshold\": 0.9710000157356262, \"p\": 28032, \"fpr\": 0.05235503846875587, \"tpr\": 0.7358376141552512, \"n\": 5329}, {\"threshold\": 0.972000002861023, \"p\": 28032, \"fpr\": 0.05141677613060612, \"tpr\": 0.731806506849315, \"n\": 5329}, {\"threshold\": 0.9729999899864197, \"p\": 28032, \"fpr\": 0.051041471195346216, \"tpr\": 0.728310502283105, \"n\": 5329}, {\"threshold\": 0.9739999771118164, \"p\": 28032, \"fpr\": 0.049915556389566525, \"tpr\": 0.7238869863013698, \"n\": 5329}, {\"threshold\": 0.9750000238418579, \"p\": 28032, \"fpr\": 0.048789641583786826, \"tpr\": 0.7194991438356164, \"n\": 5329}, {\"threshold\": 0.9760000109672546, \"p\": 28032, \"fpr\": 0.047100769375117285, \"tpr\": 0.7150399543378996, \"n\": 5329}, {\"threshold\": 0.9769999980926514, \"p\": 28032, \"fpr\": 0.045787202101707634, \"tpr\": 0.7104737442922374, \"n\": 5329}, {\"threshold\": 0.9779999852180481, \"p\": 28032, \"fpr\": 0.04484893976355789, \"tpr\": 0.7061215753424658, \"n\": 5329}, {\"threshold\": 0.9789999723434448, \"p\": 28032, \"fpr\": 0.04447363482829799, \"tpr\": 0.7011272831050228, \"n\": 5329}, {\"threshold\": 0.9800000190734863, \"p\": 28032, \"fpr\": 0.04391067742540814, \"tpr\": 0.6952411529680366, \"n\": 5329}, {\"threshold\": 0.9810000061988831, \"p\": 28032, \"fpr\": 0.04316006755488835, \"tpr\": 0.6894977168949772, \"n\": 5329}, {\"threshold\": 0.9819999933242798, \"p\": 28032, \"fpr\": 0.0418465002814787, \"tpr\": 0.6829337899543378, \"n\": 5329}, {\"threshold\": 0.9829999804496765, \"p\": 28032, \"fpr\": 0.039594670669919306, \"tpr\": 0.6770476598173516, \"n\": 5329}, {\"threshold\": 0.984000027179718, \"p\": 28032, \"fpr\": 0.03809345092887972, \"tpr\": 0.6697345890410958, \"n\": 5329}, {\"threshold\": 0.9850000143051147, \"p\": 28032, \"fpr\": 0.037342841058359916, \"tpr\": 0.662171803652968, \"n\": 5329}, {\"threshold\": 0.9860000014305115, \"p\": 28032, \"fpr\": 0.03602927378495027, \"tpr\": 0.6538955479452054, \"n\": 5329}, {\"threshold\": 0.9869999885559082, \"p\": 28032, \"fpr\": 0.035091011446800525, \"tpr\": 0.644656107305936, \"n\": 5329}, {\"threshold\": 0.9879999756813049, \"p\": 28032, \"fpr\": 0.03358979170576093, \"tpr\": 0.635380993150685, \"n\": 5329}, {\"threshold\": 0.9890000224113464, \"p\": 28032, \"fpr\": 0.03190091949709139, \"tpr\": 0.6254637557077626, \"n\": 5329}, {\"threshold\": 0.9900000095367432, \"p\": 28032, \"fpr\": 0.029461437417902046, \"tpr\": 0.6139055365296804, \"n\": 5329}, {\"threshold\": 0.9909999966621399, \"p\": 28032, \"fpr\": 0.0281478701444924, \"tpr\": 0.6016695205479452, \"n\": 5329}, {\"threshold\": 0.9919999837875366, \"p\": 28032, \"fpr\": 0.026646650403452807, \"tpr\": 0.5876498287671232, \"n\": 5329}, {\"threshold\": 0.9929999709129333, \"p\": 28032, \"fpr\": 0.02458247325952336, \"tpr\": 0.5724885844748858, \"n\": 5329}, {\"threshold\": 0.9940000176429749, \"p\": 28032, \"fpr\": 0.02308125351848377, \"tpr\": 0.555365296803653, \"n\": 5329}, {\"threshold\": 0.9950000047683716, \"p\": 28032, \"fpr\": 0.02195533871270407, \"tpr\": 0.5330336757990868, \"n\": 5329}, {\"threshold\": 0.9959999918937683, \"p\": 28032, \"fpr\": 0.02045411897166448, \"tpr\": 0.505921803652968, \"n\": 5329}, {\"threshold\": 0.996999979019165, \"p\": 28032, \"fpr\": 0.018389941827735033, \"tpr\": 0.4727097602739726, \"n\": 5329}, {\"threshold\": 0.9980000257492065, \"p\": 28032, \"fpr\": 0.015012197410395946, \"tpr\": 0.4281892123287671, \"n\": 5329}, {\"threshold\": 0.9990000128746033, \"p\": 28032, \"fpr\": 0.011071495590167011, \"tpr\": 0.3590896118721461, \"n\": 5329}, {\"threshold\": 1.0, \"p\": 28032, \"fpr\": 0.0, \"tpr\": 0.0, \"n\": 5329}]}]]}, e);\n",
       "                });\n",
       "            })();\n",
       "        "
      ]
     },
     "metadata": {},
     "output_type": "display_data"
    }
   ],
   "source": [
    "sentiment_model.show(view='Evaluation')"
   ]
  },
  {
   "cell_type": "markdown",
   "metadata": {},
   "source": [
    "#Applying the learned model to understand sentiment for Giraffe"
   ]
  },
  {
   "cell_type": "code",
   "execution_count": 27,
   "metadata": {
    "collapsed": true
   },
   "outputs": [],
   "source": [
    "giraffe_reviews['predicted_sentiment'] = sentiment_model.predict(giraffe_reviews, output_type='probability')"
   ]
  },
  {
   "cell_type": "code",
   "execution_count": 28,
   "metadata": {
    "collapsed": false
   },
   "outputs": [
    {
     "data": {
      "text/html": [
       "<div style=\"max-height:1000px;max-width:1500px;overflow:auto;\"><table frame=\"box\" rules=\"cols\">\n",
       "    <tr>\n",
       "        <th style=\"padding-left: 1em; padding-right: 1em; text-align: center\">name</th>\n",
       "        <th style=\"padding-left: 1em; padding-right: 1em; text-align: center\">review</th>\n",
       "        <th style=\"padding-left: 1em; padding-right: 1em; text-align: center\">rating</th>\n",
       "        <th style=\"padding-left: 1em; padding-right: 1em; text-align: center\">word_count</th>\n",
       "    </tr>\n",
       "    <tr>\n",
       "        <td style=\"padding-left: 1em; padding-right: 1em; text-align: center; vertical-align: top\">Vulli Sophie the Giraffe<br>Teether ...</td>\n",
       "        <td style=\"padding-left: 1em; padding-right: 1em; text-align: center; vertical-align: top\">He likes chewing on all<br>the parts especially the ...</td>\n",
       "        <td style=\"padding-left: 1em; padding-right: 1em; text-align: center; vertical-align: top\">5.0</td>\n",
       "        <td style=\"padding-left: 1em; padding-right: 1em; text-align: center; vertical-align: top\">{'and': 1, 'all': 1,<br>'because': 1, 'it': 1, ...</td>\n",
       "    </tr>\n",
       "    <tr>\n",
       "        <td style=\"padding-left: 1em; padding-right: 1em; text-align: center; vertical-align: top\">Vulli Sophie the Giraffe<br>Teether ...</td>\n",
       "        <td style=\"padding-left: 1em; padding-right: 1em; text-align: center; vertical-align: top\">My son loves this toy and<br>fits great in the diaper ...</td>\n",
       "        <td style=\"padding-left: 1em; padding-right: 1em; text-align: center; vertical-align: top\">5.0</td>\n",
       "        <td style=\"padding-left: 1em; padding-right: 1em; text-align: center; vertical-align: top\">{'and': 1, 'right': 1,<br>'help': 1, 'just': 1, ...</td>\n",
       "    </tr>\n",
       "    <tr>\n",
       "        <td style=\"padding-left: 1em; padding-right: 1em; text-align: center; vertical-align: top\">Vulli Sophie the Giraffe<br>Teether ...</td>\n",
       "        <td style=\"padding-left: 1em; padding-right: 1em; text-align: center; vertical-align: top\">There really should be a<br>large warning on the  ...</td>\n",
       "        <td style=\"padding-left: 1em; padding-right: 1em; text-align: center; vertical-align: top\">1.0</td>\n",
       "        <td style=\"padding-left: 1em; padding-right: 1em; text-align: center; vertical-align: top\">{'and': 2, 'all': 1,<br>'latex.': 1, 'being': 1, ...</td>\n",
       "    </tr>\n",
       "    <tr>\n",
       "        <td style=\"padding-left: 1em; padding-right: 1em; text-align: center; vertical-align: top\">Vulli Sophie the Giraffe<br>Teether ...</td>\n",
       "        <td style=\"padding-left: 1em; padding-right: 1em; text-align: center; vertical-align: top\">All the moms in my moms'<br>group got Sophie for ...</td>\n",
       "        <td style=\"padding-left: 1em; padding-right: 1em; text-align: center; vertical-align: top\">5.0</td>\n",
       "        <td style=\"padding-left: 1em; padding-right: 1em; text-align: center; vertical-align: top\">{'and': 2, 'one!': 1,<br>'all': 1, 'love': 1, ...</td>\n",
       "    </tr>\n",
       "    <tr>\n",
       "        <td style=\"padding-left: 1em; padding-right: 1em; text-align: center; vertical-align: top\">Vulli Sophie the Giraffe<br>Teether ...</td>\n",
       "        <td style=\"padding-left: 1em; padding-right: 1em; text-align: center; vertical-align: top\">I was a little skeptical<br>on whether Sophie was ...</td>\n",
       "        <td style=\"padding-left: 1em; padding-right: 1em; text-align: center; vertical-align: top\">5.0</td>\n",
       "        <td style=\"padding-left: 1em; padding-right: 1em; text-align: center; vertical-align: top\">{'and': 3, 'all': 1,<br>'old': 1, 'her.': 1, ...</td>\n",
       "    </tr>\n",
       "    <tr>\n",
       "        <td style=\"padding-left: 1em; padding-right: 1em; text-align: center; vertical-align: top\">Vulli Sophie the Giraffe<br>Teether ...</td>\n",
       "        <td style=\"padding-left: 1em; padding-right: 1em; text-align: center; vertical-align: top\">I have been reading about<br>Sophie and was going  ...</td>\n",
       "        <td style=\"padding-left: 1em; padding-right: 1em; text-align: center; vertical-align: top\">5.0</td>\n",
       "        <td style=\"padding-left: 1em; padding-right: 1em; text-align: center; vertical-align: top\">{'and': 6, 'seven': 1,<br>'already': 1, 'love': 1, ...</td>\n",
       "    </tr>\n",
       "    <tr>\n",
       "        <td style=\"padding-left: 1em; padding-right: 1em; text-align: center; vertical-align: top\">Vulli Sophie the Giraffe<br>Teether ...</td>\n",
       "        <td style=\"padding-left: 1em; padding-right: 1em; text-align: center; vertical-align: top\">My neice loves her sophie<br>and has spent hours ...</td>\n",
       "        <td style=\"padding-left: 1em; padding-right: 1em; text-align: center; vertical-align: top\">5.0</td>\n",
       "        <td style=\"padding-left: 1em; padding-right: 1em; text-align: center; vertical-align: top\">{'and': 4, 'drooling,':<br>1, 'love': 1, 'her.': 1, ...</td>\n",
       "    </tr>\n",
       "    <tr>\n",
       "        <td style=\"padding-left: 1em; padding-right: 1em; text-align: center; vertical-align: top\">Vulli Sophie the Giraffe<br>Teether ...</td>\n",
       "        <td style=\"padding-left: 1em; padding-right: 1em; text-align: center; vertical-align: top\">What a friendly face!<br>And those mesmerizing ...</td>\n",
       "        <td style=\"padding-left: 1em; padding-right: 1em; text-align: center; vertical-align: top\">5.0</td>\n",
       "        <td style=\"padding-left: 1em; padding-right: 1em; text-align: center; vertical-align: top\">{'and': 3, 'chew': 1,<br>\"don't\": 1, 'is': 1, ...</td>\n",
       "    </tr>\n",
       "    <tr>\n",
       "        <td style=\"padding-left: 1em; padding-right: 1em; text-align: center; vertical-align: top\">Vulli Sophie the Giraffe<br>Teether ...</td>\n",
       "        <td style=\"padding-left: 1em; padding-right: 1em; text-align: center; vertical-align: top\">We got this just for my<br>son to chew on instea ...</td>\n",
       "        <td style=\"padding-left: 1em; padding-right: 1em; text-align: center; vertical-align: top\">5.0</td>\n",
       "        <td style=\"padding-left: 1em; padding-right: 1em; text-align: center; vertical-align: top\">{'chew': 2, 'because': 1,<br>'just': 2, 'what': 1, ...</td>\n",
       "    </tr>\n",
       "    <tr>\n",
       "        <td style=\"padding-left: 1em; padding-right: 1em; text-align: center; vertical-align: top\">Vulli Sophie the Giraffe<br>Teether ...</td>\n",
       "        <td style=\"padding-left: 1em; padding-right: 1em; text-align: center; vertical-align: top\">My baby seems to like<br>this toy, but I could ...</td>\n",
       "        <td style=\"padding-left: 1em; padding-right: 1em; text-align: center; vertical-align: top\">3.0</td>\n",
       "        <td style=\"padding-left: 1em; padding-right: 1em; text-align: center; vertical-align: top\">{'and': 2, 'already': 1,<br>'in': 1, 'some': 1, ' ...</td>\n",
       "    </tr>\n",
       "</table>\n",
       "<table frame=\"box\" rules=\"cols\">\n",
       "    <tr>\n",
       "        <th style=\"padding-left: 1em; padding-right: 1em; text-align: center\">ngram_count</th>\n",
       "        <th style=\"padding-left: 1em; padding-right: 1em; text-align: center\">predicted_sentiment</th>\n",
       "    </tr>\n",
       "    <tr>\n",
       "        <td style=\"padding-left: 1em; padding-right: 1em; text-align: center; vertical-align: top\">{'head and': 1, 'it has':<br>1, 'been cranky': 1, 'he ...</td>\n",
       "        <td style=\"padding-left: 1em; padding-right: 1em; text-align: center; vertical-align: top\">0.999513023521</td>\n",
       "    </tr>\n",
       "    <tr>\n",
       "        <td style=\"padding-left: 1em; padding-right: 1em; text-align: center; vertical-align: top\">{'him when': 1, 'this<br>toy': 1, 'water seems': ...</td>\n",
       "        <td style=\"padding-left: 1em; padding-right: 1em; text-align: center; vertical-align: top\">0.999320678306</td>\n",
       "    </tr>\n",
       "    <tr>\n",
       "        <td style=\"padding-left: 1em; padding-right: 1em; text-align: center; vertical-align: top\">{'large warning': 1, 'was<br>no': 1, 'idea for': 1, ...</td>\n",
       "        <td style=\"padding-left: 1em; padding-right: 1em; text-align: center; vertical-align: top\">0.013558811687</td>\n",
       "    </tr>\n",
       "    <tr>\n",
       "        <td style=\"padding-left: 1em; padding-right: 1em; text-align: center; vertical-align: top\">{'got one': 1, 'and got':<br>1, 'ever lost': 1, 'and ...</td>\n",
       "        <td style=\"padding-left: 1em; padding-right: 1em; text-align: center; vertical-align: top\">0.995769474148</td>\n",
       "    </tr>\n",
       "    <tr>\n",
       "        <td style=\"padding-left: 1em; padding-right: 1em; text-align: center; vertical-align: top\">{'it arrived': 1, 'and<br>buy': 1, 'rather or': 1, ...</td>\n",
       "        <td style=\"padding-left: 1em; padding-right: 1em; text-align: center; vertical-align: top\">0.662374415673</td>\n",
       "    </tr>\n",
       "    <tr>\n",
       "        <td style=\"padding-left: 1em; padding-right: 1em; text-align: center; vertical-align: top\">{'on her': 1, 'our baby':<br>1, 'her the': 1, 'we  ...</td>\n",
       "        <td style=\"padding-left: 1em; padding-right: 1em; text-align: center; vertical-align: top\">0.999997148186</td>\n",
       "    </tr>\n",
       "    <tr>\n",
       "        <td style=\"padding-left: 1em; padding-right: 1em; text-align: center; vertical-align: top\">{'in delight': 1, 'and<br>squeal': 1, 'and ...</td>\n",
       "        <td style=\"padding-left: 1em; padding-right: 1em; text-align: center; vertical-align: top\">0.989190989536</td>\n",
       "    </tr>\n",
       "    <tr>\n",
       "        <td style=\"padding-left: 1em; padding-right: 1em; text-align: center; vertical-align: top\">{'be careful': 1, 'when<br>you': 1, 'water inside': ...</td>\n",
       "        <td style=\"padding-left: 1em; padding-right: 1em; text-align: center; vertical-align: top\">0.999563518413</td>\n",
       "    </tr>\n",
       "    <tr>\n",
       "        <td style=\"padding-left: 1em; padding-right: 1em; text-align: center; vertical-align: top\">{'son to': 1, 'i though':<br>1, 'worn off': 1, 'got ...</td>\n",
       "        <td style=\"padding-left: 1em; padding-right: 1em; text-align: center; vertical-align: top\">0.970160542725</td>\n",
       "    </tr>\n",
       "    <tr>\n",
       "        <td style=\"padding-left: 1em; padding-right: 1em; text-align: center; vertical-align: top\">{'i could': 2, 'this<br>toy': 1, 'would be': 1, ...</td>\n",
       "        <td style=\"padding-left: 1em; padding-right: 1em; text-align: center; vertical-align: top\">0.195367644588</td>\n",
       "    </tr>\n",
       "</table>\n",
       "[10 rows x 6 columns]<br/>\n",
       "</div>"
      ],
      "text/plain": [
       "Columns:\n",
       "\tname\tstr\n",
       "\treview\tstr\n",
       "\trating\tfloat\n",
       "\tword_count\tdict\n",
       "\tngram_count\tdict\n",
       "\tpredicted_sentiment\tfloat\n",
       "\n",
       "Rows: 10\n",
       "\n",
       "Data:\n",
       "+-------------------------------+-------------------------------+--------+\n",
       "|              name             |             review            | rating |\n",
       "+-------------------------------+-------------------------------+--------+\n",
       "| Vulli Sophie the Giraffe T... | He likes chewing on all th... |  5.0   |\n",
       "| Vulli Sophie the Giraffe T... | My son loves this toy and ... |  5.0   |\n",
       "| Vulli Sophie the Giraffe T... | There really should be a l... |  1.0   |\n",
       "| Vulli Sophie the Giraffe T... | All the moms in my moms' g... |  5.0   |\n",
       "| Vulli Sophie the Giraffe T... | I was a little skeptical o... |  5.0   |\n",
       "| Vulli Sophie the Giraffe T... | I have been reading about ... |  5.0   |\n",
       "| Vulli Sophie the Giraffe T... | My neice loves her sophie ... |  5.0   |\n",
       "| Vulli Sophie the Giraffe T... | What a friendly face!  And... |  5.0   |\n",
       "| Vulli Sophie the Giraffe T... | We got this just for my so... |  5.0   |\n",
       "| Vulli Sophie the Giraffe T... | My baby seems to like this... |  3.0   |\n",
       "+-------------------------------+-------------------------------+--------+\n",
       "+-------------------------------+-------------------------------+---------------------+\n",
       "|           word_count          |          ngram_count          | predicted_sentiment |\n",
       "+-------------------------------+-------------------------------+---------------------+\n",
       "| {'and': 1, 'all': 1, 'beca... | {'head and': 1, 'it has': ... |    0.999513023521   |\n",
       "| {'and': 1, 'right': 1, 'he... | {'him when': 1, 'this toy'... |    0.999320678306   |\n",
       "| {'and': 2, 'all': 1, 'late... | {'large warning': 1, 'was ... |    0.013558811687   |\n",
       "| {'and': 2, 'one!': 1, 'all... | {'got one': 1, 'and got': ... |    0.995769474148   |\n",
       "| {'and': 3, 'all': 1, 'old'... | {'it arrived': 1, 'and buy... |    0.662374415673   |\n",
       "| {'and': 6, 'seven': 1, 'al... | {'on her': 1, 'our baby': ... |    0.999997148186   |\n",
       "| {'and': 4, 'drooling,': 1,... | {'in delight': 1, 'and squ... |    0.989190989536   |\n",
       "| {'and': 3, 'chew': 1, \"don... | {'be careful': 1, 'when yo... |    0.999563518413   |\n",
       "| {'chew': 2, 'because': 1, ... | {'son to': 1, 'i though': ... |    0.970160542725   |\n",
       "| {'and': 2, 'already': 1, '... | {'i could': 2, 'this toy':... |    0.195367644588   |\n",
       "+-------------------------------+-------------------------------+---------------------+\n",
       "[10 rows x 6 columns]"
      ]
     },
     "execution_count": 28,
     "metadata": {},
     "output_type": "execute_result"
    }
   ],
   "source": [
    "giraffe_reviews.head()"
   ]
  },
  {
   "cell_type": "markdown",
   "metadata": {},
   "source": [
    "##Sort the reviews based on the predicted sentiment and explore"
   ]
  },
  {
   "cell_type": "code",
   "execution_count": 29,
   "metadata": {
    "collapsed": true
   },
   "outputs": [],
   "source": [
    "giraffe_reviews = giraffe_reviews.sort('predicted_sentiment', ascending=False)"
   ]
  },
  {
   "cell_type": "code",
   "execution_count": 30,
   "metadata": {
    "collapsed": false
   },
   "outputs": [
    {
     "data": {
      "text/html": [
       "<div style=\"max-height:1000px;max-width:1500px;overflow:auto;\"><table frame=\"box\" rules=\"cols\">\n",
       "    <tr>\n",
       "        <th style=\"padding-left: 1em; padding-right: 1em; text-align: center\">name</th>\n",
       "        <th style=\"padding-left: 1em; padding-right: 1em; text-align: center\">review</th>\n",
       "        <th style=\"padding-left: 1em; padding-right: 1em; text-align: center\">rating</th>\n",
       "        <th style=\"padding-left: 1em; padding-right: 1em; text-align: center\">word_count</th>\n",
       "    </tr>\n",
       "    <tr>\n",
       "        <td style=\"padding-left: 1em; padding-right: 1em; text-align: center; vertical-align: top\">Vulli Sophie the Giraffe<br>Teether ...</td>\n",
       "        <td style=\"padding-left: 1em; padding-right: 1em; text-align: center; vertical-align: top\">Sophie, oh Sophie, your<br>time has come. My ...</td>\n",
       "        <td style=\"padding-left: 1em; padding-right: 1em; text-align: center; vertical-align: top\">5.0</td>\n",
       "        <td style=\"padding-left: 1em; padding-right: 1em; text-align: center; vertical-align: top\">{'giggles': 1, 'all': 1,<br>\"violet's\": 2, 'food' ...</td>\n",
       "    </tr>\n",
       "    <tr>\n",
       "        <td style=\"padding-left: 1em; padding-right: 1em; text-align: center; vertical-align: top\">Vulli Sophie the Giraffe<br>Teether ...</td>\n",
       "        <td style=\"padding-left: 1em; padding-right: 1em; text-align: center; vertical-align: top\">I'm not sure why Sophie<br>is such a hit with the ...</td>\n",
       "        <td style=\"padding-left: 1em; padding-right: 1em; text-align: center; vertical-align: top\">4.0</td>\n",
       "        <td style=\"padding-left: 1em; padding-right: 1em; text-align: center; vertical-align: top\">{'peace': 1, 'month': 1,<br>'bright': 1, 'softer' ...</td>\n",
       "    </tr>\n",
       "    <tr>\n",
       "        <td style=\"padding-left: 1em; padding-right: 1em; text-align: center; vertical-align: top\">Vulli Sophie the Giraffe<br>Teether ...</td>\n",
       "        <td style=\"padding-left: 1em; padding-right: 1em; text-align: center; vertical-align: top\">I'll be honest...I bought<br>this toy because all the ...</td>\n",
       "        <td style=\"padding-left: 1em; padding-right: 1em; text-align: center; vertical-align: top\">4.0</td>\n",
       "        <td style=\"padding-left: 1em; padding-right: 1em; text-align: center; vertical-align: top\">{'all': 2, 'pops': 1,<br>'existence.': 1, ...</td>\n",
       "    </tr>\n",
       "    <tr>\n",
       "        <td style=\"padding-left: 1em; padding-right: 1em; text-align: center; vertical-align: top\">Vulli Sophie the Giraffe<br>Teether ...</td>\n",
       "        <td style=\"padding-left: 1em; padding-right: 1em; text-align: center; vertical-align: top\">We got this little<br>giraffe as a gift from a ...</td>\n",
       "        <td style=\"padding-left: 1em; padding-right: 1em; text-align: center; vertical-align: top\">5.0</td>\n",
       "        <td style=\"padding-left: 1em; padding-right: 1em; text-align: center; vertical-align: top\">{'all': 2, \"don't\": 1,<br>'(literally).so': 1, ...</td>\n",
       "    </tr>\n",
       "    <tr>\n",
       "        <td style=\"padding-left: 1em; padding-right: 1em; text-align: center; vertical-align: top\">Vulli Sophie the Giraffe<br>Teether ...</td>\n",
       "        <td style=\"padding-left: 1em; padding-right: 1em; text-align: center; vertical-align: top\">As a mother of 16month<br>old twins; I bought ...</td>\n",
       "        <td style=\"padding-left: 1em; padding-right: 1em; text-align: center; vertical-align: top\">5.0</td>\n",
       "        <td style=\"padding-left: 1em; padding-right: 1em; text-align: center; vertical-align: top\">{'cute': 1, 'all': 1,<br>'reviews.': 2, 'just' ...</td>\n",
       "    </tr>\n",
       "    <tr>\n",
       "        <td style=\"padding-left: 1em; padding-right: 1em; text-align: center; vertical-align: top\">Vulli Sophie the Giraffe<br>Teether ...</td>\n",
       "        <td style=\"padding-left: 1em; padding-right: 1em; text-align: center; vertical-align: top\">Sophie the Giraffe is the<br>perfect teething toy. ...</td>\n",
       "        <td style=\"padding-left: 1em; padding-right: 1em; text-align: center; vertical-align: top\">5.0</td>\n",
       "        <td style=\"padding-left: 1em; padding-right: 1em; text-align: center; vertical-align: top\">{'just': 2, 'both': 1,<br>'month': 1, 'ears,': 1, ...</td>\n",
       "    </tr>\n",
       "    <tr>\n",
       "        <td style=\"padding-left: 1em; padding-right: 1em; text-align: center; vertical-align: top\">Vulli Sophie the Giraffe<br>Teether ...</td>\n",
       "        <td style=\"padding-left: 1em; padding-right: 1em; text-align: center; vertical-align: top\">Sophie la giraffe is<br>absolutely the best toy ...</td>\n",
       "        <td style=\"padding-left: 1em; padding-right: 1em; text-align: center; vertical-align: top\">5.0</td>\n",
       "        <td style=\"padding-left: 1em; padding-right: 1em; text-align: center; vertical-align: top\">{'and': 5, 'the': 1,<br>'all': 1, 'that': 2, ...</td>\n",
       "    </tr>\n",
       "    <tr>\n",
       "        <td style=\"padding-left: 1em; padding-right: 1em; text-align: center; vertical-align: top\">Vulli Sophie the Giraffe<br>Teether ...</td>\n",
       "        <td style=\"padding-left: 1em; padding-right: 1em; text-align: center; vertical-align: top\">My 5-mos old son took to<br>this immediately. The ...</td>\n",
       "        <td style=\"padding-left: 1em; padding-right: 1em; text-align: center; vertical-align: top\">5.0</td>\n",
       "        <td style=\"padding-left: 1em; padding-right: 1em; text-align: center; vertical-align: top\">{'just': 1, 'shape': 2,<br>'mutt': 1, '\"dog': 1, ...</td>\n",
       "    </tr>\n",
       "    <tr>\n",
       "        <td style=\"padding-left: 1em; padding-right: 1em; text-align: center; vertical-align: top\">Vulli Sophie the Giraffe<br>Teether ...</td>\n",
       "        <td style=\"padding-left: 1em; padding-right: 1em; text-align: center; vertical-align: top\">My nephews and my four<br>kids all had Sophie in ...</td>\n",
       "        <td style=\"padding-left: 1em; padding-right: 1em; text-align: center; vertical-align: top\">5.0</td>\n",
       "        <td style=\"padding-left: 1em; padding-right: 1em; text-align: center; vertical-align: top\">{'and': 4, 'chew': 1,<br>'all': 1, 'perfect;': 1, ...</td>\n",
       "    </tr>\n",
       "    <tr>\n",
       "        <td style=\"padding-left: 1em; padding-right: 1em; text-align: center; vertical-align: top\">Vulli Sophie the Giraffe<br>Teether ...</td>\n",
       "        <td style=\"padding-left: 1em; padding-right: 1em; text-align: center; vertical-align: top\">Never thought I'd see my<br>son French kissing a ...</td>\n",
       "        <td style=\"padding-left: 1em; padding-right: 1em; text-align: center; vertical-align: top\">5.0</td>\n",
       "        <td style=\"padding-left: 1em; padding-right: 1em; text-align: center; vertical-align: top\">{'giggles': 1, 'all': 1,<br>'out,': 1, 'over': 1, ...</td>\n",
       "    </tr>\n",
       "</table>\n",
       "<table frame=\"box\" rules=\"cols\">\n",
       "    <tr>\n",
       "        <th style=\"padding-left: 1em; padding-right: 1em; text-align: center\">ngram_count</th>\n",
       "        <th style=\"padding-left: 1em; padding-right: 1em; text-align: center\">predicted_sentiment</th>\n",
       "    </tr>\n",
       "    <tr>\n",
       "        <td style=\"padding-left: 1em; padding-right: 1em; text-align: center; vertical-align: top\">{'know the': 1, 'what<br>joy': 1, 'grasp and': 1, ...</td>\n",
       "        <td style=\"padding-left: 1em; padding-right: 1em; text-align: center; vertical-align: top\">1.0</td>\n",
       "    </tr>\n",
       "    <tr>\n",
       "        <td style=\"padding-left: 1em; padding-right: 1em; text-align: center; vertical-align: top\">{'on her': 2, 'her not':<br>1, 'is such': 1, 'new ...</td>\n",
       "        <td style=\"padding-left: 1em; padding-right: 1em; text-align: center; vertical-align: top\">0.999999999703</td>\n",
       "    </tr>\n",
       "    <tr>\n",
       "        <td style=\"padding-left: 1em; padding-right: 1em; text-align: center; vertical-align: top\">{'one to': 1, 'they<br>explore': 1, 'been far': ...</td>\n",
       "        <td style=\"padding-left: 1em; padding-right: 1em; text-align: center; vertical-align: top\">0.999999999392</td>\n",
       "    </tr>\n",
       "    <tr>\n",
       "        <td style=\"padding-left: 1em; padding-right: 1em; text-align: center; vertical-align: top\">{'with it': 1, 'it in':<br>1, 'babies with': 1,  ...</td>\n",
       "        <td style=\"padding-left: 1em; padding-right: 1em; text-align: center; vertical-align: top\">0.99999999919</td>\n",
       "    </tr>\n",
       "    <tr>\n",
       "        <td style=\"padding-left: 1em; padding-right: 1em; text-align: center; vertical-align: top\">{'on her': 3, 'are<br>wondering': 1, 'face ...</td>\n",
       "        <td style=\"padding-left: 1em; padding-right: 1em; text-align: center; vertical-align: top\">0.999999998657</td>\n",
       "    </tr>\n",
       "    <tr>\n",
       "        <td style=\"padding-left: 1em; padding-right: 1em; text-align: center; vertical-align: top\">{'on her': 1, 'expensive<br>after': 1, 'the most' ...</td>\n",
       "        <td style=\"padding-left: 1em; padding-right: 1em; text-align: center; vertical-align: top\">0.999999997108</td>\n",
       "    </tr>\n",
       "    <tr>\n",
       "        <td style=\"padding-left: 1em; padding-right: 1em; text-align: center; vertical-align: top\">{'if you': 1, 'time he':<br>1, 'old pictures': 1, ...</td>\n",
       "        <td style=\"padding-left: 1em; padding-right: 1em; text-align: center; vertical-align: top\">0.999999995589</td>\n",
       "    </tr>\n",
       "    <tr>\n",
       "        <td style=\"padding-left: 1em; padding-right: 1em; text-align: center; vertical-align: top\">{'to wait': 1, 'it in':<br>1, 'but we': 1, 'darling ...</td>\n",
       "        <td style=\"padding-left: 1em; padding-right: 1em; text-align: center; vertical-align: top\">0.999999995573</td>\n",
       "    </tr>\n",
       "    <tr>\n",
       "        <td style=\"padding-left: 1em; padding-right: 1em; text-align: center; vertical-align: top\">{'all had': 1, 'kids<br>all': 1, 'sophie hasn': ...</td>\n",
       "        <td style=\"padding-left: 1em; padding-right: 1em; text-align: center; vertical-align: top\">0.999999989527</td>\n",
       "    </tr>\n",
       "    <tr>\n",
       "        <td style=\"padding-left: 1em; padding-right: 1em; text-align: center; vertical-align: top\">{'gets from': 1,<br>'teething furiously': 1, ...</td>\n",
       "        <td style=\"padding-left: 1em; padding-right: 1em; text-align: center; vertical-align: top\">0.999999985069</td>\n",
       "    </tr>\n",
       "</table>\n",
       "[10 rows x 6 columns]<br/>\n",
       "</div>"
      ],
      "text/plain": [
       "Columns:\n",
       "\tname\tstr\n",
       "\treview\tstr\n",
       "\trating\tfloat\n",
       "\tword_count\tdict\n",
       "\tngram_count\tdict\n",
       "\tpredicted_sentiment\tfloat\n",
       "\n",
       "Rows: 10\n",
       "\n",
       "Data:\n",
       "+-------------------------------+-------------------------------+--------+\n",
       "|              name             |             review            | rating |\n",
       "+-------------------------------+-------------------------------+--------+\n",
       "| Vulli Sophie the Giraffe T... | Sophie, oh Sophie, your ti... |  5.0   |\n",
       "| Vulli Sophie the Giraffe T... | I'm not sure why Sophie is... |  4.0   |\n",
       "| Vulli Sophie the Giraffe T... | I'll be honest...I bought ... |  4.0   |\n",
       "| Vulli Sophie the Giraffe T... | We got this little giraffe... |  5.0   |\n",
       "| Vulli Sophie the Giraffe T... | As a mother of 16month old... |  5.0   |\n",
       "| Vulli Sophie the Giraffe T... | Sophie the Giraffe is the ... |  5.0   |\n",
       "| Vulli Sophie the Giraffe T... | Sophie la giraffe is absol... |  5.0   |\n",
       "| Vulli Sophie the Giraffe T... | My 5-mos old son took to t... |  5.0   |\n",
       "| Vulli Sophie the Giraffe T... | My nephews and my four kid... |  5.0   |\n",
       "| Vulli Sophie the Giraffe T... | Never thought I'd see my s... |  5.0   |\n",
       "+-------------------------------+-------------------------------+--------+\n",
       "+-------------------------------+-------------------------------+---------------------+\n",
       "|           word_count          |          ngram_count          | predicted_sentiment |\n",
       "+-------------------------------+-------------------------------+---------------------+\n",
       "| {'giggles': 1, 'all': 1, \"... | {'know the': 1, 'what joy'... |         1.0         |\n",
       "| {'peace': 1, 'month': 1, '... | {'on her': 2, 'her not': 1... |    0.999999999703   |\n",
       "| {'all': 2, 'pops': 1, 'exi... | {'one to': 1, 'they explor... |    0.999999999392   |\n",
       "| {'all': 2, \"don't\": 1, '(l... | {'with it': 1, 'it in': 1,... |    0.99999999919    |\n",
       "| {'cute': 1, 'all': 1, 'rev... | {'on her': 3, 'are wonderi... |    0.999999998657   |\n",
       "| {'just': 2, 'both': 1, 'mo... | {'on her': 1, 'expensive a... |    0.999999997108   |\n",
       "| {'and': 5, 'the': 1, 'all'... | {'if you': 1, 'time he': 1... |    0.999999995589   |\n",
       "| {'just': 1, 'shape': 2, 'm... | {'to wait': 1, 'it in': 1,... |    0.999999995573   |\n",
       "| {'and': 4, 'chew': 1, 'all... | {'all had': 1, 'kids all':... |    0.999999989527   |\n",
       "| {'giggles': 1, 'all': 1, '... | {'gets from': 1, 'teething... |    0.999999985069   |\n",
       "+-------------------------------+-------------------------------+---------------------+\n",
       "[10 rows x 6 columns]"
      ]
     },
     "execution_count": 30,
     "metadata": {},
     "output_type": "execute_result"
    }
   ],
   "source": [
    "giraffe_reviews.head()"
   ]
  },
  {
   "cell_type": "markdown",
   "metadata": {},
   "source": [
    "##Most positive reviews for the giraffe"
   ]
  },
  {
   "cell_type": "code",
   "execution_count": 22,
   "metadata": {
    "collapsed": false
   },
   "outputs": [
    {
     "data": {
      "text/plain": [
       "\"Sophie, oh Sophie, your time has come. My granddaughter, Violet is 5 months old and starting to teeth. What joy little Sophie brings to Violet. Sophie is made of a very pliable rubber that is sturdy but not tough. It is quite easy for Violet to twist Sophie into unheard of positions to get Sophie into her mouth. The little nose and hooves fit perfectly into small mouths, and the drooling has purpose. The paint on Sophie is food quality.Sophie was born in 1961 in France. The maker had wondered why there was nothing available for babies and made Sophie from the finest rubber, phthalate-free on St Sophie's Day, thus the name was born. Since that time millions of Sophie's populate the world. She is soft and for babies little hands easy to grasp. Violet especially loves the bumpy head and horns of Sophie. Sophie has a long neck that easy to grasp and twist. She has lovely, sizable spots that attract Violet's attention. Sophie has happy little squeaks that bring squeals of delight from Violet. She is able to make Sophie squeak and that brings much joy. Sophie's smooth skin is soothing to Violet's little gums. Sophie is 7 inches tall and is the exact correct size for babies to hold and love.As you well know the first thing babies grasp, goes into their mouths- how wonderful to have a toy that stimulates all of the senses and helps with the issue of teething. Sophie is small enough to fit into any size pocket or bag. Sophie is the perfect find for babies from a few months to a year old. How wonderful to hear the giggles and laughs that emanate from babies who find Sophie irresistible. Viva La Sophie!Highly Recommended.  prisrob 12-11-09\""
      ]
     },
     "execution_count": 22,
     "metadata": {},
     "output_type": "execute_result"
    }
   ],
   "source": [
    "giraffe_reviews[0]['review']"
   ]
  },
  {
   "cell_type": "code",
   "execution_count": 23,
   "metadata": {
    "collapsed": false
   },
   "outputs": [
    {
     "data": {
      "text/plain": [
       "\"I'm not sure why Sophie is such a hit with the little ones, but my 7 month old baby girl is one of her adoring fans.  The rubber is softer and more pleasant to handle, and my daughter has enjoyed chewing on her legs and the nubs on her head even before she started teething.  She also loves the squeak that Sophie makes when you squeeze her.  Not sure what it is but if Sophie is amongst a pile of her other toys, my daughter will more often than not reach for Sophie.  And I have the peace of mind of knowing that only edible and safe paints and materials have been used to make Sophie, as opposed to Bright Starts and other baby toys made in China.  Now that the research is out on phthalates and other toxic substances in baby toys, I think it's more important than ever to find good quality toys that are also safe for our babies to handle and put in their mouths.  Sophie is a must-have for every new mom in my opinion.  Even if your kid is one of the few that can take or leave her, it's worth a try.  Vulli, the makers of Sophie, also make natural rubber teething rings that my daughter loves as well.\""
      ]
     },
     "execution_count": 23,
     "metadata": {},
     "output_type": "execute_result"
    }
   ],
   "source": [
    "giraffe_reviews[1]['review']"
   ]
  },
  {
   "cell_type": "markdown",
   "metadata": {},
   "source": [
    "##Show most negative reviews for giraffe"
   ]
  },
  {
   "cell_type": "code",
   "execution_count": 24,
   "metadata": {
    "collapsed": false
   },
   "outputs": [
    {
     "data": {
      "text/plain": [
       "\"My son (now 2.5) LOVED his Sophie, and I bought one for every baby shower I've gone to. Now, my daughter (6 months) just today nearly choked on it and I will never give it to her again. Had I not been within hearing range it could have been fatal. The strange sound she was making caught my attention and when I went to her and found the front curved leg shoved well down her throat and her face a purply/blue I panicked. I pulled it out and she vomited all over the carpet before screaming her head off. I can't believe how my opinion of this toy has changed from a must-have to a must-not-use. Please don't disregard any of the choking hazard comments, they are not over exaggerated!\""
      ]
     },
     "execution_count": 24,
     "metadata": {},
     "output_type": "execute_result"
    }
   ],
   "source": [
    "giraffe_reviews[-1]['review']"
   ]
  },
  {
   "cell_type": "code",
   "execution_count": 25,
   "metadata": {
    "collapsed": false
   },
   "outputs": [
    {
     "data": {
      "text/plain": [
       "\"This children's toy is nostalgic and very cute. However, there is a distinct rubber smell and a very odd taste, yes I tried it, that my baby did not enjoy. Also, if it is soiled it is extremely difficult to clean as the rubber is a kind of porus material and does not clean well. The final thing is the squeaking device inside which stopped working after the first couple of days. I returned this item feeling I had overpaid for a toy that was defective and did not meet my expectations. Please do not be swayed by the cute packaging and hype surounding it as I was. One more thing, I was given a full refund from Amazon without any problem.\""
      ]
     },
     "execution_count": 25,
     "metadata": {},
     "output_type": "execute_result"
    }
   ],
   "source": [
    "giraffe_reviews[-2]['review']"
   ]
  },
  {
   "cell_type": "markdown",
   "metadata": {
    "collapsed": true
   },
   "source": [
    "## Building awesome count function"
   ]
  },
  {
   "cell_type": "code",
   "execution_count": 50,
   "metadata": {
    "collapsed": false
   },
   "outputs": [
    {
     "data": {
      "text/plain": [
       "2"
      ]
     },
     "execution_count": 50,
     "metadata": {},
     "output_type": "execute_result"
    }
   ],
   "source": [
    "dicts = products['word_count'].head()\n",
    "dicts[1]['my']\n",
    "        "
   ]
  },
  {
   "cell_type": "code",
   "execution_count": 83,
   "metadata": {
    "collapsed": false
   },
   "outputs": [],
   "source": [
    "def awesome_count(dictionary):\n",
    "    \"\"\"\" Count the number of occurence of the word Awesome on the dict\"\"\"\n",
    "    word = 'terrible'\n",
    "    for review in dictionary:\n",
    "        if word in review:\n",
    "            return review[word]\n",
    "        else :\n",
    "            \n",
    "            return 0"
   ]
  },
  {
   "cell_type": "code",
   "execution_count": 76,
   "metadata": {
    "collapsed": false
   },
   "outputs": [
    {
     "name": "stdout",
     "output_type": "stream",
     "text": [
      "0\n"
     ]
    }
   ],
   "source": [
    "print awesome_count(dicts)"
   ]
  },
  {
   "cell_type": "code",
   "execution_count": 77,
   "metadata": {
    "collapsed": false
   },
   "outputs": [
    {
     "name": "stdout",
     "output_type": "stream",
     "text": [
      "5\n"
     ]
    }
   ],
   "source": [
    "print dicts[0]['and']"
   ]
  },
  {
   "cell_type": "markdown",
   "metadata": {},
   "source": [
    "## Buildind the awesome feature column"
   ]
  },
  {
   "cell_type": "code",
   "execution_count": 59,
   "metadata": {
    "collapsed": false
   },
   "outputs": [],
   "source": [
    "products['awesome'] = products['word_count'].apply(awesome_count)"
   ]
  },
  {
   "cell_type": "code",
   "execution_count": 60,
   "metadata": {
    "collapsed": false
   },
   "outputs": [
    {
     "data": {
      "text/html": [
       "<div style=\"max-height:1000px;max-width:1500px;overflow:auto;\"><table frame=\"box\" rules=\"cols\">\n",
       "    <tr>\n",
       "        <th style=\"padding-left: 1em; padding-right: 1em; text-align: center\">name</th>\n",
       "        <th style=\"padding-left: 1em; padding-right: 1em; text-align: center\">review</th>\n",
       "        <th style=\"padding-left: 1em; padding-right: 1em; text-align: center\">rating</th>\n",
       "        <th style=\"padding-left: 1em; padding-right: 1em; text-align: center\">word_count</th>\n",
       "        <th style=\"padding-left: 1em; padding-right: 1em; text-align: center\">awesome</th>\n",
       "    </tr>\n",
       "    <tr>\n",
       "        <td style=\"padding-left: 1em; padding-right: 1em; text-align: center; vertical-align: top\">Planetwise Flannel Wipes</td>\n",
       "        <td style=\"padding-left: 1em; padding-right: 1em; text-align: center; vertical-align: top\">These flannel wipes are<br>OK, but in my opinion ...</td>\n",
       "        <td style=\"padding-left: 1em; padding-right: 1em; text-align: center; vertical-align: top\">3.0</td>\n",
       "        <td style=\"padding-left: 1em; padding-right: 1em; text-align: center; vertical-align: top\">{'and': 5, 'stink': 1,<br>'because': 1, 'ordered': ...</td>\n",
       "        <td style=\"padding-left: 1em; padding-right: 1em; text-align: center; vertical-align: top\">0</td>\n",
       "    </tr>\n",
       "    <tr>\n",
       "        <td style=\"padding-left: 1em; padding-right: 1em; text-align: center; vertical-align: top\">Planetwise Wipe Pouch</td>\n",
       "        <td style=\"padding-left: 1em; padding-right: 1em; text-align: center; vertical-align: top\">it came early and was not<br>disappointed. i love ...</td>\n",
       "        <td style=\"padding-left: 1em; padding-right: 1em; text-align: center; vertical-align: top\">5.0</td>\n",
       "        <td style=\"padding-left: 1em; padding-right: 1em; text-align: center; vertical-align: top\">{'and': 3, 'love': 1,<br>'it': 2, 'highly': 1, ...</td>\n",
       "        <td style=\"padding-left: 1em; padding-right: 1em; text-align: center; vertical-align: top\">0</td>\n",
       "    </tr>\n",
       "    <tr>\n",
       "        <td style=\"padding-left: 1em; padding-right: 1em; text-align: center; vertical-align: top\">Annas Dream Full Quilt<br>with 2 Shams ...</td>\n",
       "        <td style=\"padding-left: 1em; padding-right: 1em; text-align: center; vertical-align: top\">Very soft and comfortable<br>and warmer than it ...</td>\n",
       "        <td style=\"padding-left: 1em; padding-right: 1em; text-align: center; vertical-align: top\">5.0</td>\n",
       "        <td style=\"padding-left: 1em; padding-right: 1em; text-align: center; vertical-align: top\">{'and': 2, 'quilt': 1,<br>'it': 1, 'comfortable': ...</td>\n",
       "        <td style=\"padding-left: 1em; padding-right: 1em; text-align: center; vertical-align: top\">0</td>\n",
       "    </tr>\n",
       "    <tr>\n",
       "        <td style=\"padding-left: 1em; padding-right: 1em; text-align: center; vertical-align: top\">Stop Pacifier Sucking<br>without tears with ...</td>\n",
       "        <td style=\"padding-left: 1em; padding-right: 1em; text-align: center; vertical-align: top\">This is a product well<br>worth the purchase.  I ...</td>\n",
       "        <td style=\"padding-left: 1em; padding-right: 1em; text-align: center; vertical-align: top\">5.0</td>\n",
       "        <td style=\"padding-left: 1em; padding-right: 1em; text-align: center; vertical-align: top\">{'ingenious': 1, 'and':<br>3, 'love': 2, ...</td>\n",
       "        <td style=\"padding-left: 1em; padding-right: 1em; text-align: center; vertical-align: top\">0</td>\n",
       "    </tr>\n",
       "    <tr>\n",
       "        <td style=\"padding-left: 1em; padding-right: 1em; text-align: center; vertical-align: top\">Stop Pacifier Sucking<br>without tears with ...</td>\n",
       "        <td style=\"padding-left: 1em; padding-right: 1em; text-align: center; vertical-align: top\">All of my kids have cried<br>non-stop when I tried to ...</td>\n",
       "        <td style=\"padding-left: 1em; padding-right: 1em; text-align: center; vertical-align: top\">5.0</td>\n",
       "        <td style=\"padding-left: 1em; padding-right: 1em; text-align: center; vertical-align: top\">{'and': 2, 'parents!!':<br>1, 'all': 2, 'puppet.': ...</td>\n",
       "        <td style=\"padding-left: 1em; padding-right: 1em; text-align: center; vertical-align: top\">0</td>\n",
       "    </tr>\n",
       "    <tr>\n",
       "        <td style=\"padding-left: 1em; padding-right: 1em; text-align: center; vertical-align: top\">Stop Pacifier Sucking<br>without tears with ...</td>\n",
       "        <td style=\"padding-left: 1em; padding-right: 1em; text-align: center; vertical-align: top\">When the Binky Fairy came<br>to our house, we didn't ...</td>\n",
       "        <td style=\"padding-left: 1em; padding-right: 1em; text-align: center; vertical-align: top\">5.0</td>\n",
       "        <td style=\"padding-left: 1em; padding-right: 1em; text-align: center; vertical-align: top\">{'and': 2, 'cute': 1,<br>'help': 2, 'doll': 1, ...</td>\n",
       "        <td style=\"padding-left: 1em; padding-right: 1em; text-align: center; vertical-align: top\">0</td>\n",
       "    </tr>\n",
       "    <tr>\n",
       "        <td style=\"padding-left: 1em; padding-right: 1em; text-align: center; vertical-align: top\">A Tale of Baby's Days<br>with Peter Rabbit ...</td>\n",
       "        <td style=\"padding-left: 1em; padding-right: 1em; text-align: center; vertical-align: top\">Lovely book, it's bound<br>tightly so you may no ...</td>\n",
       "        <td style=\"padding-left: 1em; padding-right: 1em; text-align: center; vertical-align: top\">4.0</td>\n",
       "        <td style=\"padding-left: 1em; padding-right: 1em; text-align: center; vertical-align: top\">{'shop': 1, 'be': 1,<br>'is': 1, 'it': 1, 'as': ...</td>\n",
       "        <td style=\"padding-left: 1em; padding-right: 1em; text-align: center; vertical-align: top\">0</td>\n",
       "    </tr>\n",
       "    <tr>\n",
       "        <td style=\"padding-left: 1em; padding-right: 1em; text-align: center; vertical-align: top\">Baby Tracker&amp;reg; - Daily<br>Childcare Journal, ...</td>\n",
       "        <td style=\"padding-left: 1em; padding-right: 1em; text-align: center; vertical-align: top\">Perfect for new parents.<br>We were able to keep ...</td>\n",
       "        <td style=\"padding-left: 1em; padding-right: 1em; text-align: center; vertical-align: top\">5.0</td>\n",
       "        <td style=\"padding-left: 1em; padding-right: 1em; text-align: center; vertical-align: top\">{'feeding,': 1, 'and': 2,<br>'all': 1, 'right': 1, ...</td>\n",
       "        <td style=\"padding-left: 1em; padding-right: 1em; text-align: center; vertical-align: top\">0</td>\n",
       "    </tr>\n",
       "    <tr>\n",
       "        <td style=\"padding-left: 1em; padding-right: 1em; text-align: center; vertical-align: top\">Baby Tracker&amp;reg; - Daily<br>Childcare Journal, ...</td>\n",
       "        <td style=\"padding-left: 1em; padding-right: 1em; text-align: center; vertical-align: top\">A friend of mine pinned<br>this product on Pinte ...</td>\n",
       "        <td style=\"padding-left: 1em; padding-right: 1em; text-align: center; vertical-align: top\">5.0</td>\n",
       "        <td style=\"padding-left: 1em; padding-right: 1em; text-align: center; vertical-align: top\">{'and': 1, 'help': 1,<br>'give': 1, 'is': 1, ...</td>\n",
       "        <td style=\"padding-left: 1em; padding-right: 1em; text-align: center; vertical-align: top\">0</td>\n",
       "    </tr>\n",
       "    <tr>\n",
       "        <td style=\"padding-left: 1em; padding-right: 1em; text-align: center; vertical-align: top\">Baby Tracker&amp;reg; - Daily<br>Childcare Journal, ...</td>\n",
       "        <td style=\"padding-left: 1em; padding-right: 1em; text-align: center; vertical-align: top\">This has been an easy way<br>for my nanny to record ...</td>\n",
       "        <td style=\"padding-left: 1em; padding-right: 1em; text-align: center; vertical-align: top\">4.0</td>\n",
       "        <td style=\"padding-left: 1em; padding-right: 1em; text-align: center; vertical-align: top\">{'journal.': 1, 'all': 1,<br>'standarad': 1, ...</td>\n",
       "        <td style=\"padding-left: 1em; padding-right: 1em; text-align: center; vertical-align: top\">0</td>\n",
       "    </tr>\n",
       "</table>\n",
       "[183531 rows x 5 columns]<br/>Note: Only the head of the SFrame is printed.<br/>You can use print_rows(num_rows=m, num_columns=n) to print more rows and columns.\n",
       "</div>"
      ],
      "text/plain": [
       "Columns:\n",
       "\tname\tstr\n",
       "\treview\tstr\n",
       "\trating\tfloat\n",
       "\tword_count\tdict\n",
       "\tawesome\tint\n",
       "\n",
       "Rows: 183531\n",
       "\n",
       "Data:\n",
       "+-------------------------------+-------------------------------+--------+\n",
       "|              name             |             review            | rating |\n",
       "+-------------------------------+-------------------------------+--------+\n",
       "|    Planetwise Flannel Wipes   | These flannel wipes are OK... |  3.0   |\n",
       "|     Planetwise Wipe Pouch     | it came early and was not ... |  5.0   |\n",
       "| Annas Dream Full Quilt wit... | Very soft and comfortable ... |  5.0   |\n",
       "| Stop Pacifier Sucking with... | This is a product well wor... |  5.0   |\n",
       "| Stop Pacifier Sucking with... | All of my kids have cried ... |  5.0   |\n",
       "| Stop Pacifier Sucking with... | When the Binky Fairy came ... |  5.0   |\n",
       "| A Tale of Baby's Days with... | Lovely book, it's bound ti... |  4.0   |\n",
       "| Baby Tracker&reg; - Daily ... | Perfect for new parents. W... |  5.0   |\n",
       "| Baby Tracker&reg; - Daily ... | A friend of mine pinned th... |  5.0   |\n",
       "| Baby Tracker&reg; - Daily ... | This has been an easy way ... |  4.0   |\n",
       "+-------------------------------+-------------------------------+--------+\n",
       "+-------------------------------+---------+\n",
       "|           word_count          | awesome |\n",
       "+-------------------------------+---------+\n",
       "| {'and': 5, 'stink': 1, 'be... |    0    |\n",
       "| {'and': 3, 'love': 1, 'it'... |    0    |\n",
       "| {'and': 2, 'quilt': 1, 'it... |    0    |\n",
       "| {'ingenious': 1, 'and': 3,... |    0    |\n",
       "| {'and': 2, 'parents!!': 1,... |    0    |\n",
       "| {'and': 2, 'cute': 1, 'hel... |    0    |\n",
       "| {'shop': 1, 'be': 1, 'is':... |    0    |\n",
       "| {'feeding,': 1, 'and': 2, ... |    0    |\n",
       "| {'and': 1, 'help': 1, 'giv... |    0    |\n",
       "| {'journal.': 1, 'all': 1, ... |    0    |\n",
       "+-------------------------------+---------+\n",
       "[183531 rows x 5 columns]\n",
       "Note: Only the head of the SFrame is printed.\n",
       "You can use print_rows(num_rows=m, num_columns=n) to print more rows and columns."
      ]
     },
     "execution_count": 60,
     "metadata": {},
     "output_type": "execute_result"
    }
   ],
   "source": [
    "products"
   ]
  },
  {
   "cell_type": "markdown",
   "metadata": {},
   "source": [
    "## Add 10 more new features"
   ]
  },
  {
   "cell_type": "code",
   "execution_count": 62,
   "metadata": {
    "collapsed": false
   },
   "outputs": [
    {
     "data": {
      "text/html": [
       "<div style=\"max-height:1000px;max-width:1500px;overflow:auto;\"><table frame=\"box\" rules=\"cols\">\n",
       "    <tr>\n",
       "        <th style=\"padding-left: 1em; padding-right: 1em; text-align: center\">name</th>\n",
       "        <th style=\"padding-left: 1em; padding-right: 1em; text-align: center\">review</th>\n",
       "        <th style=\"padding-left: 1em; padding-right: 1em; text-align: center\">rating</th>\n",
       "        <th style=\"padding-left: 1em; padding-right: 1em; text-align: center\">word_count</th>\n",
       "        <th style=\"padding-left: 1em; padding-right: 1em; text-align: center\">awesome</th>\n",
       "        <th style=\"padding-left: 1em; padding-right: 1em; text-align: center\">great</th>\n",
       "    </tr>\n",
       "    <tr>\n",
       "        <td style=\"padding-left: 1em; padding-right: 1em; text-align: center; vertical-align: top\">Planetwise Flannel Wipes</td>\n",
       "        <td style=\"padding-left: 1em; padding-right: 1em; text-align: center; vertical-align: top\">These flannel wipes are<br>OK, but in my opinion ...</td>\n",
       "        <td style=\"padding-left: 1em; padding-right: 1em; text-align: center; vertical-align: top\">3.0</td>\n",
       "        <td style=\"padding-left: 1em; padding-right: 1em; text-align: center; vertical-align: top\">{'and': 5, 'stink': 1,<br>'because': 1, 'ordered': ...</td>\n",
       "        <td style=\"padding-left: 1em; padding-right: 1em; text-align: center; vertical-align: top\">0</td>\n",
       "        <td style=\"padding-left: 1em; padding-right: 1em; text-align: center; vertical-align: top\">0</td>\n",
       "    </tr>\n",
       "    <tr>\n",
       "        <td style=\"padding-left: 1em; padding-right: 1em; text-align: center; vertical-align: top\">Planetwise Wipe Pouch</td>\n",
       "        <td style=\"padding-left: 1em; padding-right: 1em; text-align: center; vertical-align: top\">it came early and was not<br>disappointed. i love ...</td>\n",
       "        <td style=\"padding-left: 1em; padding-right: 1em; text-align: center; vertical-align: top\">5.0</td>\n",
       "        <td style=\"padding-left: 1em; padding-right: 1em; text-align: center; vertical-align: top\">{'and': 3, 'love': 1,<br>'it': 2, 'highly': 1, ...</td>\n",
       "        <td style=\"padding-left: 1em; padding-right: 1em; text-align: center; vertical-align: top\">0</td>\n",
       "        <td style=\"padding-left: 1em; padding-right: 1em; text-align: center; vertical-align: top\">0</td>\n",
       "    </tr>\n",
       "    <tr>\n",
       "        <td style=\"padding-left: 1em; padding-right: 1em; text-align: center; vertical-align: top\">Annas Dream Full Quilt<br>with 2 Shams ...</td>\n",
       "        <td style=\"padding-left: 1em; padding-right: 1em; text-align: center; vertical-align: top\">Very soft and comfortable<br>and warmer than it ...</td>\n",
       "        <td style=\"padding-left: 1em; padding-right: 1em; text-align: center; vertical-align: top\">5.0</td>\n",
       "        <td style=\"padding-left: 1em; padding-right: 1em; text-align: center; vertical-align: top\">{'and': 2, 'quilt': 1,<br>'it': 1, 'comfortable': ...</td>\n",
       "        <td style=\"padding-left: 1em; padding-right: 1em; text-align: center; vertical-align: top\">0</td>\n",
       "        <td style=\"padding-left: 1em; padding-right: 1em; text-align: center; vertical-align: top\">0</td>\n",
       "    </tr>\n",
       "    <tr>\n",
       "        <td style=\"padding-left: 1em; padding-right: 1em; text-align: center; vertical-align: top\">Stop Pacifier Sucking<br>without tears with ...</td>\n",
       "        <td style=\"padding-left: 1em; padding-right: 1em; text-align: center; vertical-align: top\">This is a product well<br>worth the purchase.  I ...</td>\n",
       "        <td style=\"padding-left: 1em; padding-right: 1em; text-align: center; vertical-align: top\">5.0</td>\n",
       "        <td style=\"padding-left: 1em; padding-right: 1em; text-align: center; vertical-align: top\">{'ingenious': 1, 'and':<br>3, 'love': 2, ...</td>\n",
       "        <td style=\"padding-left: 1em; padding-right: 1em; text-align: center; vertical-align: top\">0</td>\n",
       "        <td style=\"padding-left: 1em; padding-right: 1em; text-align: center; vertical-align: top\">0</td>\n",
       "    </tr>\n",
       "    <tr>\n",
       "        <td style=\"padding-left: 1em; padding-right: 1em; text-align: center; vertical-align: top\">Stop Pacifier Sucking<br>without tears with ...</td>\n",
       "        <td style=\"padding-left: 1em; padding-right: 1em; text-align: center; vertical-align: top\">All of my kids have cried<br>non-stop when I tried to ...</td>\n",
       "        <td style=\"padding-left: 1em; padding-right: 1em; text-align: center; vertical-align: top\">5.0</td>\n",
       "        <td style=\"padding-left: 1em; padding-right: 1em; text-align: center; vertical-align: top\">{'and': 2, 'parents!!':<br>1, 'all': 2, 'puppet.': ...</td>\n",
       "        <td style=\"padding-left: 1em; padding-right: 1em; text-align: center; vertical-align: top\">0</td>\n",
       "        <td style=\"padding-left: 1em; padding-right: 1em; text-align: center; vertical-align: top\">0</td>\n",
       "    </tr>\n",
       "    <tr>\n",
       "        <td style=\"padding-left: 1em; padding-right: 1em; text-align: center; vertical-align: top\">Stop Pacifier Sucking<br>without tears with ...</td>\n",
       "        <td style=\"padding-left: 1em; padding-right: 1em; text-align: center; vertical-align: top\">When the Binky Fairy came<br>to our house, we didn't ...</td>\n",
       "        <td style=\"padding-left: 1em; padding-right: 1em; text-align: center; vertical-align: top\">5.0</td>\n",
       "        <td style=\"padding-left: 1em; padding-right: 1em; text-align: center; vertical-align: top\">{'and': 2, 'cute': 1,<br>'help': 2, 'doll': 1, ...</td>\n",
       "        <td style=\"padding-left: 1em; padding-right: 1em; text-align: center; vertical-align: top\">0</td>\n",
       "        <td style=\"padding-left: 1em; padding-right: 1em; text-align: center; vertical-align: top\">0</td>\n",
       "    </tr>\n",
       "    <tr>\n",
       "        <td style=\"padding-left: 1em; padding-right: 1em; text-align: center; vertical-align: top\">A Tale of Baby's Days<br>with Peter Rabbit ...</td>\n",
       "        <td style=\"padding-left: 1em; padding-right: 1em; text-align: center; vertical-align: top\">Lovely book, it's bound<br>tightly so you may no ...</td>\n",
       "        <td style=\"padding-left: 1em; padding-right: 1em; text-align: center; vertical-align: top\">4.0</td>\n",
       "        <td style=\"padding-left: 1em; padding-right: 1em; text-align: center; vertical-align: top\">{'shop': 1, 'be': 1,<br>'is': 1, 'it': 1, 'as': ...</td>\n",
       "        <td style=\"padding-left: 1em; padding-right: 1em; text-align: center; vertical-align: top\">0</td>\n",
       "        <td style=\"padding-left: 1em; padding-right: 1em; text-align: center; vertical-align: top\">0</td>\n",
       "    </tr>\n",
       "    <tr>\n",
       "        <td style=\"padding-left: 1em; padding-right: 1em; text-align: center; vertical-align: top\">Baby Tracker&amp;reg; - Daily<br>Childcare Journal, ...</td>\n",
       "        <td style=\"padding-left: 1em; padding-right: 1em; text-align: center; vertical-align: top\">Perfect for new parents.<br>We were able to keep ...</td>\n",
       "        <td style=\"padding-left: 1em; padding-right: 1em; text-align: center; vertical-align: top\">5.0</td>\n",
       "        <td style=\"padding-left: 1em; padding-right: 1em; text-align: center; vertical-align: top\">{'feeding,': 1, 'and': 2,<br>'all': 1, 'right': 1, ...</td>\n",
       "        <td style=\"padding-left: 1em; padding-right: 1em; text-align: center; vertical-align: top\">0</td>\n",
       "        <td style=\"padding-left: 1em; padding-right: 1em; text-align: center; vertical-align: top\">0</td>\n",
       "    </tr>\n",
       "    <tr>\n",
       "        <td style=\"padding-left: 1em; padding-right: 1em; text-align: center; vertical-align: top\">Baby Tracker&amp;reg; - Daily<br>Childcare Journal, ...</td>\n",
       "        <td style=\"padding-left: 1em; padding-right: 1em; text-align: center; vertical-align: top\">A friend of mine pinned<br>this product on Pinte ...</td>\n",
       "        <td style=\"padding-left: 1em; padding-right: 1em; text-align: center; vertical-align: top\">5.0</td>\n",
       "        <td style=\"padding-left: 1em; padding-right: 1em; text-align: center; vertical-align: top\">{'and': 1, 'help': 1,<br>'give': 1, 'is': 1, ...</td>\n",
       "        <td style=\"padding-left: 1em; padding-right: 1em; text-align: center; vertical-align: top\">0</td>\n",
       "        <td style=\"padding-left: 1em; padding-right: 1em; text-align: center; vertical-align: top\">0</td>\n",
       "    </tr>\n",
       "    <tr>\n",
       "        <td style=\"padding-left: 1em; padding-right: 1em; text-align: center; vertical-align: top\">Baby Tracker&amp;reg; - Daily<br>Childcare Journal, ...</td>\n",
       "        <td style=\"padding-left: 1em; padding-right: 1em; text-align: center; vertical-align: top\">This has been an easy way<br>for my nanny to record ...</td>\n",
       "        <td style=\"padding-left: 1em; padding-right: 1em; text-align: center; vertical-align: top\">4.0</td>\n",
       "        <td style=\"padding-left: 1em; padding-right: 1em; text-align: center; vertical-align: top\">{'journal.': 1, 'all': 1,<br>'standarad': 1, ...</td>\n",
       "        <td style=\"padding-left: 1em; padding-right: 1em; text-align: center; vertical-align: top\">0</td>\n",
       "        <td style=\"padding-left: 1em; padding-right: 1em; text-align: center; vertical-align: top\">0</td>\n",
       "    </tr>\n",
       "</table>\n",
       "[183531 rows x 6 columns]<br/>Note: Only the head of the SFrame is printed.<br/>You can use print_rows(num_rows=m, num_columns=n) to print more rows and columns.\n",
       "</div>"
      ],
      "text/plain": [
       "Columns:\n",
       "\tname\tstr\n",
       "\treview\tstr\n",
       "\trating\tfloat\n",
       "\tword_count\tdict\n",
       "\tawesome\tint\n",
       "\tgreat\tint\n",
       "\n",
       "Rows: 183531\n",
       "\n",
       "Data:\n",
       "+-------------------------------+-------------------------------+--------+\n",
       "|              name             |             review            | rating |\n",
       "+-------------------------------+-------------------------------+--------+\n",
       "|    Planetwise Flannel Wipes   | These flannel wipes are OK... |  3.0   |\n",
       "|     Planetwise Wipe Pouch     | it came early and was not ... |  5.0   |\n",
       "| Annas Dream Full Quilt wit... | Very soft and comfortable ... |  5.0   |\n",
       "| Stop Pacifier Sucking with... | This is a product well wor... |  5.0   |\n",
       "| Stop Pacifier Sucking with... | All of my kids have cried ... |  5.0   |\n",
       "| Stop Pacifier Sucking with... | When the Binky Fairy came ... |  5.0   |\n",
       "| A Tale of Baby's Days with... | Lovely book, it's bound ti... |  4.0   |\n",
       "| Baby Tracker&reg; - Daily ... | Perfect for new parents. W... |  5.0   |\n",
       "| Baby Tracker&reg; - Daily ... | A friend of mine pinned th... |  5.0   |\n",
       "| Baby Tracker&reg; - Daily ... | This has been an easy way ... |  4.0   |\n",
       "+-------------------------------+-------------------------------+--------+\n",
       "+-------------------------------+---------+-------+\n",
       "|           word_count          | awesome | great |\n",
       "+-------------------------------+---------+-------+\n",
       "| {'and': 5, 'stink': 1, 'be... |    0    |   0   |\n",
       "| {'and': 3, 'love': 1, 'it'... |    0    |   0   |\n",
       "| {'and': 2, 'quilt': 1, 'it... |    0    |   0   |\n",
       "| {'ingenious': 1, 'and': 3,... |    0    |   0   |\n",
       "| {'and': 2, 'parents!!': 1,... |    0    |   0   |\n",
       "| {'and': 2, 'cute': 1, 'hel... |    0    |   0   |\n",
       "| {'shop': 1, 'be': 1, 'is':... |    0    |   0   |\n",
       "| {'feeding,': 1, 'and': 2, ... |    0    |   0   |\n",
       "| {'and': 1, 'help': 1, 'giv... |    0    |   0   |\n",
       "| {'journal.': 1, 'all': 1, ... |    0    |   0   |\n",
       "+-------------------------------+---------+-------+\n",
       "[183531 rows x 6 columns]\n",
       "Note: Only the head of the SFrame is printed.\n",
       "You can use print_rows(num_rows=m, num_columns=n) to print more rows and columns."
      ]
     },
     "execution_count": 62,
     "metadata": {},
     "output_type": "execute_result"
    }
   ],
   "source": [
    "## Great\n",
    "products['great'] = products['word_count'].apply(awesome_count)\n",
    "products"
   ]
  },
  {
   "cell_type": "code",
   "execution_count": 66,
   "metadata": {
    "collapsed": false
   },
   "outputs": [
    {
     "data": {
      "text/html": [
       "<div style=\"max-height:1000px;max-width:1500px;overflow:auto;\"><table frame=\"box\" rules=\"cols\">\n",
       "    <tr>\n",
       "        <th style=\"padding-left: 1em; padding-right: 1em; text-align: center\">name</th>\n",
       "        <th style=\"padding-left: 1em; padding-right: 1em; text-align: center\">review</th>\n",
       "        <th style=\"padding-left: 1em; padding-right: 1em; text-align: center\">rating</th>\n",
       "        <th style=\"padding-left: 1em; padding-right: 1em; text-align: center\">word_count</th>\n",
       "        <th style=\"padding-left: 1em; padding-right: 1em; text-align: center\">awesome</th>\n",
       "        <th style=\"padding-left: 1em; padding-right: 1em; text-align: center\">great</th>\n",
       "        <th style=\"padding-left: 1em; padding-right: 1em; text-align: center\">fantastic</th>\n",
       "    </tr>\n",
       "    <tr>\n",
       "        <td style=\"padding-left: 1em; padding-right: 1em; text-align: center; vertical-align: top\">Planetwise Flannel Wipes</td>\n",
       "        <td style=\"padding-left: 1em; padding-right: 1em; text-align: center; vertical-align: top\">These flannel wipes are<br>OK, but in my opinion ...</td>\n",
       "        <td style=\"padding-left: 1em; padding-right: 1em; text-align: center; vertical-align: top\">3.0</td>\n",
       "        <td style=\"padding-left: 1em; padding-right: 1em; text-align: center; vertical-align: top\">{'and': 5, 'stink': 1,<br>'because': 1, 'ordered': ...</td>\n",
       "        <td style=\"padding-left: 1em; padding-right: 1em; text-align: center; vertical-align: top\">0</td>\n",
       "        <td style=\"padding-left: 1em; padding-right: 1em; text-align: center; vertical-align: top\">0</td>\n",
       "        <td style=\"padding-left: 1em; padding-right: 1em; text-align: center; vertical-align: top\">0</td>\n",
       "    </tr>\n",
       "    <tr>\n",
       "        <td style=\"padding-left: 1em; padding-right: 1em; text-align: center; vertical-align: top\">Planetwise Wipe Pouch</td>\n",
       "        <td style=\"padding-left: 1em; padding-right: 1em; text-align: center; vertical-align: top\">it came early and was not<br>disappointed. i love ...</td>\n",
       "        <td style=\"padding-left: 1em; padding-right: 1em; text-align: center; vertical-align: top\">5.0</td>\n",
       "        <td style=\"padding-left: 1em; padding-right: 1em; text-align: center; vertical-align: top\">{'and': 3, 'love': 1,<br>'it': 2, 'highly': 1, ...</td>\n",
       "        <td style=\"padding-left: 1em; padding-right: 1em; text-align: center; vertical-align: top\">0</td>\n",
       "        <td style=\"padding-left: 1em; padding-right: 1em; text-align: center; vertical-align: top\">0</td>\n",
       "        <td style=\"padding-left: 1em; padding-right: 1em; text-align: center; vertical-align: top\">0</td>\n",
       "    </tr>\n",
       "    <tr>\n",
       "        <td style=\"padding-left: 1em; padding-right: 1em; text-align: center; vertical-align: top\">Annas Dream Full Quilt<br>with 2 Shams ...</td>\n",
       "        <td style=\"padding-left: 1em; padding-right: 1em; text-align: center; vertical-align: top\">Very soft and comfortable<br>and warmer than it ...</td>\n",
       "        <td style=\"padding-left: 1em; padding-right: 1em; text-align: center; vertical-align: top\">5.0</td>\n",
       "        <td style=\"padding-left: 1em; padding-right: 1em; text-align: center; vertical-align: top\">{'and': 2, 'quilt': 1,<br>'it': 1, 'comfortable': ...</td>\n",
       "        <td style=\"padding-left: 1em; padding-right: 1em; text-align: center; vertical-align: top\">0</td>\n",
       "        <td style=\"padding-left: 1em; padding-right: 1em; text-align: center; vertical-align: top\">0</td>\n",
       "        <td style=\"padding-left: 1em; padding-right: 1em; text-align: center; vertical-align: top\">0</td>\n",
       "    </tr>\n",
       "    <tr>\n",
       "        <td style=\"padding-left: 1em; padding-right: 1em; text-align: center; vertical-align: top\">Stop Pacifier Sucking<br>without tears with ...</td>\n",
       "        <td style=\"padding-left: 1em; padding-right: 1em; text-align: center; vertical-align: top\">This is a product well<br>worth the purchase.  I ...</td>\n",
       "        <td style=\"padding-left: 1em; padding-right: 1em; text-align: center; vertical-align: top\">5.0</td>\n",
       "        <td style=\"padding-left: 1em; padding-right: 1em; text-align: center; vertical-align: top\">{'ingenious': 1, 'and':<br>3, 'love': 2, ...</td>\n",
       "        <td style=\"padding-left: 1em; padding-right: 1em; text-align: center; vertical-align: top\">0</td>\n",
       "        <td style=\"padding-left: 1em; padding-right: 1em; text-align: center; vertical-align: top\">0</td>\n",
       "        <td style=\"padding-left: 1em; padding-right: 1em; text-align: center; vertical-align: top\">0</td>\n",
       "    </tr>\n",
       "    <tr>\n",
       "        <td style=\"padding-left: 1em; padding-right: 1em; text-align: center; vertical-align: top\">Stop Pacifier Sucking<br>without tears with ...</td>\n",
       "        <td style=\"padding-left: 1em; padding-right: 1em; text-align: center; vertical-align: top\">All of my kids have cried<br>non-stop when I tried to ...</td>\n",
       "        <td style=\"padding-left: 1em; padding-right: 1em; text-align: center; vertical-align: top\">5.0</td>\n",
       "        <td style=\"padding-left: 1em; padding-right: 1em; text-align: center; vertical-align: top\">{'and': 2, 'parents!!':<br>1, 'all': 2, 'puppet.': ...</td>\n",
       "        <td style=\"padding-left: 1em; padding-right: 1em; text-align: center; vertical-align: top\">0</td>\n",
       "        <td style=\"padding-left: 1em; padding-right: 1em; text-align: center; vertical-align: top\">0</td>\n",
       "        <td style=\"padding-left: 1em; padding-right: 1em; text-align: center; vertical-align: top\">0</td>\n",
       "    </tr>\n",
       "    <tr>\n",
       "        <td style=\"padding-left: 1em; padding-right: 1em; text-align: center; vertical-align: top\">Stop Pacifier Sucking<br>without tears with ...</td>\n",
       "        <td style=\"padding-left: 1em; padding-right: 1em; text-align: center; vertical-align: top\">When the Binky Fairy came<br>to our house, we didn't ...</td>\n",
       "        <td style=\"padding-left: 1em; padding-right: 1em; text-align: center; vertical-align: top\">5.0</td>\n",
       "        <td style=\"padding-left: 1em; padding-right: 1em; text-align: center; vertical-align: top\">{'and': 2, 'cute': 1,<br>'help': 2, 'doll': 1, ...</td>\n",
       "        <td style=\"padding-left: 1em; padding-right: 1em; text-align: center; vertical-align: top\">0</td>\n",
       "        <td style=\"padding-left: 1em; padding-right: 1em; text-align: center; vertical-align: top\">0</td>\n",
       "        <td style=\"padding-left: 1em; padding-right: 1em; text-align: center; vertical-align: top\">0</td>\n",
       "    </tr>\n",
       "    <tr>\n",
       "        <td style=\"padding-left: 1em; padding-right: 1em; text-align: center; vertical-align: top\">A Tale of Baby's Days<br>with Peter Rabbit ...</td>\n",
       "        <td style=\"padding-left: 1em; padding-right: 1em; text-align: center; vertical-align: top\">Lovely book, it's bound<br>tightly so you may no ...</td>\n",
       "        <td style=\"padding-left: 1em; padding-right: 1em; text-align: center; vertical-align: top\">4.0</td>\n",
       "        <td style=\"padding-left: 1em; padding-right: 1em; text-align: center; vertical-align: top\">{'shop': 1, 'be': 1,<br>'is': 1, 'it': 1, 'as': ...</td>\n",
       "        <td style=\"padding-left: 1em; padding-right: 1em; text-align: center; vertical-align: top\">0</td>\n",
       "        <td style=\"padding-left: 1em; padding-right: 1em; text-align: center; vertical-align: top\">0</td>\n",
       "        <td style=\"padding-left: 1em; padding-right: 1em; text-align: center; vertical-align: top\">0</td>\n",
       "    </tr>\n",
       "    <tr>\n",
       "        <td style=\"padding-left: 1em; padding-right: 1em; text-align: center; vertical-align: top\">Baby Tracker&amp;reg; - Daily<br>Childcare Journal, ...</td>\n",
       "        <td style=\"padding-left: 1em; padding-right: 1em; text-align: center; vertical-align: top\">Perfect for new parents.<br>We were able to keep ...</td>\n",
       "        <td style=\"padding-left: 1em; padding-right: 1em; text-align: center; vertical-align: top\">5.0</td>\n",
       "        <td style=\"padding-left: 1em; padding-right: 1em; text-align: center; vertical-align: top\">{'feeding,': 1, 'and': 2,<br>'all': 1, 'right': 1, ...</td>\n",
       "        <td style=\"padding-left: 1em; padding-right: 1em; text-align: center; vertical-align: top\">0</td>\n",
       "        <td style=\"padding-left: 1em; padding-right: 1em; text-align: center; vertical-align: top\">0</td>\n",
       "        <td style=\"padding-left: 1em; padding-right: 1em; text-align: center; vertical-align: top\">0</td>\n",
       "    </tr>\n",
       "    <tr>\n",
       "        <td style=\"padding-left: 1em; padding-right: 1em; text-align: center; vertical-align: top\">Baby Tracker&amp;reg; - Daily<br>Childcare Journal, ...</td>\n",
       "        <td style=\"padding-left: 1em; padding-right: 1em; text-align: center; vertical-align: top\">A friend of mine pinned<br>this product on Pinte ...</td>\n",
       "        <td style=\"padding-left: 1em; padding-right: 1em; text-align: center; vertical-align: top\">5.0</td>\n",
       "        <td style=\"padding-left: 1em; padding-right: 1em; text-align: center; vertical-align: top\">{'and': 1, 'help': 1,<br>'give': 1, 'is': 1, ...</td>\n",
       "        <td style=\"padding-left: 1em; padding-right: 1em; text-align: center; vertical-align: top\">0</td>\n",
       "        <td style=\"padding-left: 1em; padding-right: 1em; text-align: center; vertical-align: top\">0</td>\n",
       "        <td style=\"padding-left: 1em; padding-right: 1em; text-align: center; vertical-align: top\">0</td>\n",
       "    </tr>\n",
       "    <tr>\n",
       "        <td style=\"padding-left: 1em; padding-right: 1em; text-align: center; vertical-align: top\">Baby Tracker&amp;reg; - Daily<br>Childcare Journal, ...</td>\n",
       "        <td style=\"padding-left: 1em; padding-right: 1em; text-align: center; vertical-align: top\">This has been an easy way<br>for my nanny to record ...</td>\n",
       "        <td style=\"padding-left: 1em; padding-right: 1em; text-align: center; vertical-align: top\">4.0</td>\n",
       "        <td style=\"padding-left: 1em; padding-right: 1em; text-align: center; vertical-align: top\">{'journal.': 1, 'all': 1,<br>'standarad': 1, ...</td>\n",
       "        <td style=\"padding-left: 1em; padding-right: 1em; text-align: center; vertical-align: top\">0</td>\n",
       "        <td style=\"padding-left: 1em; padding-right: 1em; text-align: center; vertical-align: top\">0</td>\n",
       "        <td style=\"padding-left: 1em; padding-right: 1em; text-align: center; vertical-align: top\">0</td>\n",
       "    </tr>\n",
       "</table>\n",
       "[183531 rows x 7 columns]<br/>Note: Only the head of the SFrame is printed.<br/>You can use print_rows(num_rows=m, num_columns=n) to print more rows and columns.\n",
       "</div>"
      ],
      "text/plain": [
       "Columns:\n",
       "\tname\tstr\n",
       "\treview\tstr\n",
       "\trating\tfloat\n",
       "\tword_count\tdict\n",
       "\tawesome\tint\n",
       "\tgreat\tint\n",
       "\tfantastic\tint\n",
       "\n",
       "Rows: 183531\n",
       "\n",
       "Data:\n",
       "+-------------------------------+-------------------------------+--------+\n",
       "|              name             |             review            | rating |\n",
       "+-------------------------------+-------------------------------+--------+\n",
       "|    Planetwise Flannel Wipes   | These flannel wipes are OK... |  3.0   |\n",
       "|     Planetwise Wipe Pouch     | it came early and was not ... |  5.0   |\n",
       "| Annas Dream Full Quilt wit... | Very soft and comfortable ... |  5.0   |\n",
       "| Stop Pacifier Sucking with... | This is a product well wor... |  5.0   |\n",
       "| Stop Pacifier Sucking with... | All of my kids have cried ... |  5.0   |\n",
       "| Stop Pacifier Sucking with... | When the Binky Fairy came ... |  5.0   |\n",
       "| A Tale of Baby's Days with... | Lovely book, it's bound ti... |  4.0   |\n",
       "| Baby Tracker&reg; - Daily ... | Perfect for new parents. W... |  5.0   |\n",
       "| Baby Tracker&reg; - Daily ... | A friend of mine pinned th... |  5.0   |\n",
       "| Baby Tracker&reg; - Daily ... | This has been an easy way ... |  4.0   |\n",
       "+-------------------------------+-------------------------------+--------+\n",
       "+-------------------------------+---------+-------+-----------+\n",
       "|           word_count          | awesome | great | fantastic |\n",
       "+-------------------------------+---------+-------+-----------+\n",
       "| {'and': 5, 'stink': 1, 'be... |    0    |   0   |     0     |\n",
       "| {'and': 3, 'love': 1, 'it'... |    0    |   0   |     0     |\n",
       "| {'and': 2, 'quilt': 1, 'it... |    0    |   0   |     0     |\n",
       "| {'ingenious': 1, 'and': 3,... |    0    |   0   |     0     |\n",
       "| {'and': 2, 'parents!!': 1,... |    0    |   0   |     0     |\n",
       "| {'and': 2, 'cute': 1, 'hel... |    0    |   0   |     0     |\n",
       "| {'shop': 1, 'be': 1, 'is':... |    0    |   0   |     0     |\n",
       "| {'feeding,': 1, 'and': 2, ... |    0    |   0   |     0     |\n",
       "| {'and': 1, 'help': 1, 'giv... |    0    |   0   |     0     |\n",
       "| {'journal.': 1, 'all': 1, ... |    0    |   0   |     0     |\n",
       "+-------------------------------+---------+-------+-----------+\n",
       "[183531 rows x 7 columns]\n",
       "Note: Only the head of the SFrame is printed.\n",
       "You can use print_rows(num_rows=m, num_columns=n) to print more rows and columns."
      ]
     },
     "execution_count": 66,
     "metadata": {},
     "output_type": "execute_result"
    }
   ],
   "source": [
    "# Fantastic\n",
    "products['fantastic'] = products['word_count'].apply(awesome_count)\n",
    "products"
   ]
  },
  {
   "cell_type": "code",
   "execution_count": 70,
   "metadata": {
    "collapsed": false
   },
   "outputs": [
    {
     "data": {
      "text/html": [
       "<div style=\"max-height:1000px;max-width:1500px;overflow:auto;\"><table frame=\"box\" rules=\"cols\">\n",
       "    <tr>\n",
       "        <th style=\"padding-left: 1em; padding-right: 1em; text-align: center\">name</th>\n",
       "        <th style=\"padding-left: 1em; padding-right: 1em; text-align: center\">review</th>\n",
       "        <th style=\"padding-left: 1em; padding-right: 1em; text-align: center\">rating</th>\n",
       "        <th style=\"padding-left: 1em; padding-right: 1em; text-align: center\">word_count</th>\n",
       "        <th style=\"padding-left: 1em; padding-right: 1em; text-align: center\">awesome</th>\n",
       "        <th style=\"padding-left: 1em; padding-right: 1em; text-align: center\">great</th>\n",
       "        <th style=\"padding-left: 1em; padding-right: 1em; text-align: center\">fantastic</th>\n",
       "    </tr>\n",
       "    <tr>\n",
       "        <td style=\"padding-left: 1em; padding-right: 1em; text-align: center; vertical-align: top\">Planetwise Flannel Wipes</td>\n",
       "        <td style=\"padding-left: 1em; padding-right: 1em; text-align: center; vertical-align: top\">These flannel wipes are<br>OK, but in my opinion ...</td>\n",
       "        <td style=\"padding-left: 1em; padding-right: 1em; text-align: center; vertical-align: top\">3.0</td>\n",
       "        <td style=\"padding-left: 1em; padding-right: 1em; text-align: center; vertical-align: top\">{'and': 5, 'stink': 1,<br>'because': 1, 'ordered': ...</td>\n",
       "        <td style=\"padding-left: 1em; padding-right: 1em; text-align: center; vertical-align: top\">0</td>\n",
       "        <td style=\"padding-left: 1em; padding-right: 1em; text-align: center; vertical-align: top\">0</td>\n",
       "        <td style=\"padding-left: 1em; padding-right: 1em; text-align: center; vertical-align: top\">0</td>\n",
       "    </tr>\n",
       "    <tr>\n",
       "        <td style=\"padding-left: 1em; padding-right: 1em; text-align: center; vertical-align: top\">Planetwise Wipe Pouch</td>\n",
       "        <td style=\"padding-left: 1em; padding-right: 1em; text-align: center; vertical-align: top\">it came early and was not<br>disappointed. i love ...</td>\n",
       "        <td style=\"padding-left: 1em; padding-right: 1em; text-align: center; vertical-align: top\">5.0</td>\n",
       "        <td style=\"padding-left: 1em; padding-right: 1em; text-align: center; vertical-align: top\">{'and': 3, 'love': 1,<br>'it': 2, 'highly': 1, ...</td>\n",
       "        <td style=\"padding-left: 1em; padding-right: 1em; text-align: center; vertical-align: top\">0</td>\n",
       "        <td style=\"padding-left: 1em; padding-right: 1em; text-align: center; vertical-align: top\">0</td>\n",
       "        <td style=\"padding-left: 1em; padding-right: 1em; text-align: center; vertical-align: top\">0</td>\n",
       "    </tr>\n",
       "    <tr>\n",
       "        <td style=\"padding-left: 1em; padding-right: 1em; text-align: center; vertical-align: top\">Annas Dream Full Quilt<br>with 2 Shams ...</td>\n",
       "        <td style=\"padding-left: 1em; padding-right: 1em; text-align: center; vertical-align: top\">Very soft and comfortable<br>and warmer than it ...</td>\n",
       "        <td style=\"padding-left: 1em; padding-right: 1em; text-align: center; vertical-align: top\">5.0</td>\n",
       "        <td style=\"padding-left: 1em; padding-right: 1em; text-align: center; vertical-align: top\">{'and': 2, 'quilt': 1,<br>'it': 1, 'comfortable': ...</td>\n",
       "        <td style=\"padding-left: 1em; padding-right: 1em; text-align: center; vertical-align: top\">0</td>\n",
       "        <td style=\"padding-left: 1em; padding-right: 1em; text-align: center; vertical-align: top\">0</td>\n",
       "        <td style=\"padding-left: 1em; padding-right: 1em; text-align: center; vertical-align: top\">0</td>\n",
       "    </tr>\n",
       "    <tr>\n",
       "        <td style=\"padding-left: 1em; padding-right: 1em; text-align: center; vertical-align: top\">Stop Pacifier Sucking<br>without tears with ...</td>\n",
       "        <td style=\"padding-left: 1em; padding-right: 1em; text-align: center; vertical-align: top\">This is a product well<br>worth the purchase.  I ...</td>\n",
       "        <td style=\"padding-left: 1em; padding-right: 1em; text-align: center; vertical-align: top\">5.0</td>\n",
       "        <td style=\"padding-left: 1em; padding-right: 1em; text-align: center; vertical-align: top\">{'ingenious': 1, 'and':<br>3, 'love': 2, ...</td>\n",
       "        <td style=\"padding-left: 1em; padding-right: 1em; text-align: center; vertical-align: top\">0</td>\n",
       "        <td style=\"padding-left: 1em; padding-right: 1em; text-align: center; vertical-align: top\">0</td>\n",
       "        <td style=\"padding-left: 1em; padding-right: 1em; text-align: center; vertical-align: top\">0</td>\n",
       "    </tr>\n",
       "    <tr>\n",
       "        <td style=\"padding-left: 1em; padding-right: 1em; text-align: center; vertical-align: top\">Stop Pacifier Sucking<br>without tears with ...</td>\n",
       "        <td style=\"padding-left: 1em; padding-right: 1em; text-align: center; vertical-align: top\">All of my kids have cried<br>non-stop when I tried to ...</td>\n",
       "        <td style=\"padding-left: 1em; padding-right: 1em; text-align: center; vertical-align: top\">5.0</td>\n",
       "        <td style=\"padding-left: 1em; padding-right: 1em; text-align: center; vertical-align: top\">{'and': 2, 'parents!!':<br>1, 'all': 2, 'puppet.': ...</td>\n",
       "        <td style=\"padding-left: 1em; padding-right: 1em; text-align: center; vertical-align: top\">0</td>\n",
       "        <td style=\"padding-left: 1em; padding-right: 1em; text-align: center; vertical-align: top\">0</td>\n",
       "        <td style=\"padding-left: 1em; padding-right: 1em; text-align: center; vertical-align: top\">0</td>\n",
       "    </tr>\n",
       "    <tr>\n",
       "        <td style=\"padding-left: 1em; padding-right: 1em; text-align: center; vertical-align: top\">Stop Pacifier Sucking<br>without tears with ...</td>\n",
       "        <td style=\"padding-left: 1em; padding-right: 1em; text-align: center; vertical-align: top\">When the Binky Fairy came<br>to our house, we didn't ...</td>\n",
       "        <td style=\"padding-left: 1em; padding-right: 1em; text-align: center; vertical-align: top\">5.0</td>\n",
       "        <td style=\"padding-left: 1em; padding-right: 1em; text-align: center; vertical-align: top\">{'and': 2, 'cute': 1,<br>'help': 2, 'doll': 1, ...</td>\n",
       "        <td style=\"padding-left: 1em; padding-right: 1em; text-align: center; vertical-align: top\">0</td>\n",
       "        <td style=\"padding-left: 1em; padding-right: 1em; text-align: center; vertical-align: top\">0</td>\n",
       "        <td style=\"padding-left: 1em; padding-right: 1em; text-align: center; vertical-align: top\">0</td>\n",
       "    </tr>\n",
       "    <tr>\n",
       "        <td style=\"padding-left: 1em; padding-right: 1em; text-align: center; vertical-align: top\">A Tale of Baby's Days<br>with Peter Rabbit ...</td>\n",
       "        <td style=\"padding-left: 1em; padding-right: 1em; text-align: center; vertical-align: top\">Lovely book, it's bound<br>tightly so you may no ...</td>\n",
       "        <td style=\"padding-left: 1em; padding-right: 1em; text-align: center; vertical-align: top\">4.0</td>\n",
       "        <td style=\"padding-left: 1em; padding-right: 1em; text-align: center; vertical-align: top\">{'shop': 1, 'be': 1,<br>'is': 1, 'it': 1, 'as': ...</td>\n",
       "        <td style=\"padding-left: 1em; padding-right: 1em; text-align: center; vertical-align: top\">0</td>\n",
       "        <td style=\"padding-left: 1em; padding-right: 1em; text-align: center; vertical-align: top\">0</td>\n",
       "        <td style=\"padding-left: 1em; padding-right: 1em; text-align: center; vertical-align: top\">0</td>\n",
       "    </tr>\n",
       "    <tr>\n",
       "        <td style=\"padding-left: 1em; padding-right: 1em; text-align: center; vertical-align: top\">Baby Tracker&amp;reg; - Daily<br>Childcare Journal, ...</td>\n",
       "        <td style=\"padding-left: 1em; padding-right: 1em; text-align: center; vertical-align: top\">Perfect for new parents.<br>We were able to keep ...</td>\n",
       "        <td style=\"padding-left: 1em; padding-right: 1em; text-align: center; vertical-align: top\">5.0</td>\n",
       "        <td style=\"padding-left: 1em; padding-right: 1em; text-align: center; vertical-align: top\">{'feeding,': 1, 'and': 2,<br>'all': 1, 'right': 1, ...</td>\n",
       "        <td style=\"padding-left: 1em; padding-right: 1em; text-align: center; vertical-align: top\">0</td>\n",
       "        <td style=\"padding-left: 1em; padding-right: 1em; text-align: center; vertical-align: top\">0</td>\n",
       "        <td style=\"padding-left: 1em; padding-right: 1em; text-align: center; vertical-align: top\">0</td>\n",
       "    </tr>\n",
       "    <tr>\n",
       "        <td style=\"padding-left: 1em; padding-right: 1em; text-align: center; vertical-align: top\">Baby Tracker&amp;reg; - Daily<br>Childcare Journal, ...</td>\n",
       "        <td style=\"padding-left: 1em; padding-right: 1em; text-align: center; vertical-align: top\">A friend of mine pinned<br>this product on Pinte ...</td>\n",
       "        <td style=\"padding-left: 1em; padding-right: 1em; text-align: center; vertical-align: top\">5.0</td>\n",
       "        <td style=\"padding-left: 1em; padding-right: 1em; text-align: center; vertical-align: top\">{'and': 1, 'help': 1,<br>'give': 1, 'is': 1, ...</td>\n",
       "        <td style=\"padding-left: 1em; padding-right: 1em; text-align: center; vertical-align: top\">0</td>\n",
       "        <td style=\"padding-left: 1em; padding-right: 1em; text-align: center; vertical-align: top\">0</td>\n",
       "        <td style=\"padding-left: 1em; padding-right: 1em; text-align: center; vertical-align: top\">0</td>\n",
       "    </tr>\n",
       "    <tr>\n",
       "        <td style=\"padding-left: 1em; padding-right: 1em; text-align: center; vertical-align: top\">Baby Tracker&amp;reg; - Daily<br>Childcare Journal, ...</td>\n",
       "        <td style=\"padding-left: 1em; padding-right: 1em; text-align: center; vertical-align: top\">This has been an easy way<br>for my nanny to record ...</td>\n",
       "        <td style=\"padding-left: 1em; padding-right: 1em; text-align: center; vertical-align: top\">4.0</td>\n",
       "        <td style=\"padding-left: 1em; padding-right: 1em; text-align: center; vertical-align: top\">{'journal.': 1, 'all': 1,<br>'standarad': 1, ...</td>\n",
       "        <td style=\"padding-left: 1em; padding-right: 1em; text-align: center; vertical-align: top\">0</td>\n",
       "        <td style=\"padding-left: 1em; padding-right: 1em; text-align: center; vertical-align: top\">0</td>\n",
       "        <td style=\"padding-left: 1em; padding-right: 1em; text-align: center; vertical-align: top\">0</td>\n",
       "    </tr>\n",
       "</table>\n",
       "<table frame=\"box\" rules=\"cols\">\n",
       "    <tr>\n",
       "        <th style=\"padding-left: 1em; padding-right: 1em; text-align: center\">amazing</th>\n",
       "    </tr>\n",
       "    <tr>\n",
       "        <td style=\"padding-left: 1em; padding-right: 1em; text-align: center; vertical-align: top\">0</td>\n",
       "    </tr>\n",
       "    <tr>\n",
       "        <td style=\"padding-left: 1em; padding-right: 1em; text-align: center; vertical-align: top\">0</td>\n",
       "    </tr>\n",
       "    <tr>\n",
       "        <td style=\"padding-left: 1em; padding-right: 1em; text-align: center; vertical-align: top\">0</td>\n",
       "    </tr>\n",
       "    <tr>\n",
       "        <td style=\"padding-left: 1em; padding-right: 1em; text-align: center; vertical-align: top\">0</td>\n",
       "    </tr>\n",
       "    <tr>\n",
       "        <td style=\"padding-left: 1em; padding-right: 1em; text-align: center; vertical-align: top\">0</td>\n",
       "    </tr>\n",
       "    <tr>\n",
       "        <td style=\"padding-left: 1em; padding-right: 1em; text-align: center; vertical-align: top\">0</td>\n",
       "    </tr>\n",
       "    <tr>\n",
       "        <td style=\"padding-left: 1em; padding-right: 1em; text-align: center; vertical-align: top\">0</td>\n",
       "    </tr>\n",
       "    <tr>\n",
       "        <td style=\"padding-left: 1em; padding-right: 1em; text-align: center; vertical-align: top\">0</td>\n",
       "    </tr>\n",
       "    <tr>\n",
       "        <td style=\"padding-left: 1em; padding-right: 1em; text-align: center; vertical-align: top\">0</td>\n",
       "    </tr>\n",
       "    <tr>\n",
       "        <td style=\"padding-left: 1em; padding-right: 1em; text-align: center; vertical-align: top\">0</td>\n",
       "    </tr>\n",
       "</table>\n",
       "[183531 rows x 8 columns]<br/>Note: Only the head of the SFrame is printed.<br/>You can use print_rows(num_rows=m, num_columns=n) to print more rows and columns.\n",
       "</div>"
      ],
      "text/plain": [
       "Columns:\n",
       "\tname\tstr\n",
       "\treview\tstr\n",
       "\trating\tfloat\n",
       "\tword_count\tdict\n",
       "\tawesome\tint\n",
       "\tgreat\tint\n",
       "\tfantastic\tint\n",
       "\tamazing\tint\n",
       "\n",
       "Rows: 183531\n",
       "\n",
       "Data:\n",
       "+-------------------------------+-------------------------------+--------+\n",
       "|              name             |             review            | rating |\n",
       "+-------------------------------+-------------------------------+--------+\n",
       "|    Planetwise Flannel Wipes   | These flannel wipes are OK... |  3.0   |\n",
       "|     Planetwise Wipe Pouch     | it came early and was not ... |  5.0   |\n",
       "| Annas Dream Full Quilt wit... | Very soft and comfortable ... |  5.0   |\n",
       "| Stop Pacifier Sucking with... | This is a product well wor... |  5.0   |\n",
       "| Stop Pacifier Sucking with... | All of my kids have cried ... |  5.0   |\n",
       "| Stop Pacifier Sucking with... | When the Binky Fairy came ... |  5.0   |\n",
       "| A Tale of Baby's Days with... | Lovely book, it's bound ti... |  4.0   |\n",
       "| Baby Tracker&reg; - Daily ... | Perfect for new parents. W... |  5.0   |\n",
       "| Baby Tracker&reg; - Daily ... | A friend of mine pinned th... |  5.0   |\n",
       "| Baby Tracker&reg; - Daily ... | This has been an easy way ... |  4.0   |\n",
       "+-------------------------------+-------------------------------+--------+\n",
       "+-------------------------------+---------+-------+-----------+---------+\n",
       "|           word_count          | awesome | great | fantastic | amazing |\n",
       "+-------------------------------+---------+-------+-----------+---------+\n",
       "| {'and': 5, 'stink': 1, 'be... |    0    |   0   |     0     |    0    |\n",
       "| {'and': 3, 'love': 1, 'it'... |    0    |   0   |     0     |    0    |\n",
       "| {'and': 2, 'quilt': 1, 'it... |    0    |   0   |     0     |    0    |\n",
       "| {'ingenious': 1, 'and': 3,... |    0    |   0   |     0     |    0    |\n",
       "| {'and': 2, 'parents!!': 1,... |    0    |   0   |     0     |    0    |\n",
       "| {'and': 2, 'cute': 1, 'hel... |    0    |   0   |     0     |    0    |\n",
       "| {'shop': 1, 'be': 1, 'is':... |    0    |   0   |     0     |    0    |\n",
       "| {'feeding,': 1, 'and': 2, ... |    0    |   0   |     0     |    0    |\n",
       "| {'and': 1, 'help': 1, 'giv... |    0    |   0   |     0     |    0    |\n",
       "| {'journal.': 1, 'all': 1, ... |    0    |   0   |     0     |    0    |\n",
       "+-------------------------------+---------+-------+-----------+---------+\n",
       "[183531 rows x 8 columns]\n",
       "Note: Only the head of the SFrame is printed.\n",
       "You can use print_rows(num_rows=m, num_columns=n) to print more rows and columns."
      ]
     },
     "execution_count": 70,
     "metadata": {},
     "output_type": "execute_result"
    }
   ],
   "source": [
    "## amazing\n",
    "products['amazing'] = products['word_count'].apply(awesome_count)\n",
    "products"
   ]
  },
  {
   "cell_type": "code",
   "execution_count": 78,
   "metadata": {
    "collapsed": false
   },
   "outputs": [
    {
     "ename": "TypeError",
     "evalue": "string indices must be integers, not str",
     "output_type": "error",
     "traceback": [
      "\u001b[1;31m---------------------------------------------------------------------------\u001b[0m",
      "\u001b[1;31mTypeError\u001b[0m                                 Traceback (most recent call last)",
      "\u001b[1;32m<ipython-input-78-9e5280cad960>\u001b[0m in \u001b[0;36m<module>\u001b[1;34m()\u001b[0m\n\u001b[0;32m      1\u001b[0m \u001b[1;31m## love\u001b[0m\u001b[1;33m\u001b[0m\u001b[1;33m\u001b[0m\u001b[0m\n\u001b[1;32m----> 2\u001b[1;33m \u001b[0mproducts\u001b[0m\u001b[1;33m[\u001b[0m\u001b[1;34m'love'\u001b[0m\u001b[1;33m]\u001b[0m \u001b[1;33m=\u001b[0m \u001b[0mproducts\u001b[0m\u001b[1;33m[\u001b[0m\u001b[1;34m'word_count'\u001b[0m\u001b[1;33m]\u001b[0m\u001b[1;33m.\u001b[0m\u001b[0mapply\u001b[0m\u001b[1;33m(\u001b[0m\u001b[0mawesome_count\u001b[0m\u001b[1;33m)\u001b[0m\u001b[1;33m\u001b[0m\u001b[0m\n\u001b[0m",
      "\u001b[1;32m/home/zax/anaconda/lib/python2.7/site-packages/graphlab/data_structures/sarray.pyc\u001b[0m in \u001b[0;36mapply\u001b[1;34m(self, fn, dtype, skip_undefined, seed)\u001b[0m\n\u001b[0;32m   1600\u001b[0m         \u001b[1;32massert\u001b[0m \u001b[0mcallable\u001b[0m\u001b[1;33m(\u001b[0m\u001b[0mfn\u001b[0m\u001b[1;33m)\u001b[0m\u001b[1;33m,\u001b[0m \u001b[1;34m\"Input function must be callable.\"\u001b[0m\u001b[1;33m\u001b[0m\u001b[0m\n\u001b[0;32m   1601\u001b[0m \u001b[1;33m\u001b[0m\u001b[0m\n\u001b[1;32m-> 1602\u001b[1;33m         \u001b[0mdryrun\u001b[0m \u001b[1;33m=\u001b[0m \u001b[1;33m[\u001b[0m\u001b[0mfn\u001b[0m\u001b[1;33m(\u001b[0m\u001b[0mi\u001b[0m\u001b[1;33m)\u001b[0m \u001b[1;32mfor\u001b[0m \u001b[0mi\u001b[0m \u001b[1;32min\u001b[0m \u001b[0mself\u001b[0m\u001b[1;33m.\u001b[0m\u001b[0mhead\u001b[0m\u001b[1;33m(\u001b[0m\u001b[1;36m100\u001b[0m\u001b[1;33m)\u001b[0m \u001b[1;32mif\u001b[0m \u001b[0mi\u001b[0m \u001b[1;32mis\u001b[0m \u001b[1;32mnot\u001b[0m \u001b[0mNone\u001b[0m\u001b[1;33m]\u001b[0m\u001b[1;33m\u001b[0m\u001b[0m\n\u001b[0m\u001b[0;32m   1603\u001b[0m         \u001b[1;32mif\u001b[0m \u001b[0mdtype\u001b[0m \u001b[1;33m==\u001b[0m \u001b[0mNone\u001b[0m\u001b[1;33m:\u001b[0m\u001b[1;33m\u001b[0m\u001b[0m\n\u001b[0;32m   1604\u001b[0m             \u001b[0mdtype\u001b[0m \u001b[1;33m=\u001b[0m \u001b[0minfer_type_of_list\u001b[0m\u001b[1;33m(\u001b[0m\u001b[0mdryrun\u001b[0m\u001b[1;33m)\u001b[0m\u001b[1;33m\u001b[0m\u001b[0m\n",
      "\u001b[1;32m<ipython-input-75-ba24bdb5a0db>\u001b[0m in \u001b[0;36mawesome_count\u001b[1;34m(dictionary)\u001b[0m\n\u001b[0;32m      4\u001b[0m     \u001b[1;32mfor\u001b[0m \u001b[0mreview\u001b[0m \u001b[1;32min\u001b[0m \u001b[0mdictionary\u001b[0m\u001b[1;33m:\u001b[0m\u001b[1;33m\u001b[0m\u001b[0m\n\u001b[0;32m      5\u001b[0m         \u001b[1;32mif\u001b[0m \u001b[0mword\u001b[0m \u001b[1;32min\u001b[0m \u001b[0mreview\u001b[0m\u001b[1;33m:\u001b[0m\u001b[1;33m\u001b[0m\u001b[0m\n\u001b[1;32m----> 6\u001b[1;33m             \u001b[1;32mreturn\u001b[0m \u001b[0mreview\u001b[0m\u001b[1;33m[\u001b[0m\u001b[0mword\u001b[0m\u001b[1;33m]\u001b[0m\u001b[1;33m\u001b[0m\u001b[0m\n\u001b[0m\u001b[0;32m      7\u001b[0m         \u001b[1;32melse\u001b[0m \u001b[1;33m:\u001b[0m\u001b[1;33m\u001b[0m\u001b[0m\n\u001b[0;32m      8\u001b[0m \u001b[1;33m\u001b[0m\u001b[0m\n",
      "\u001b[1;31mTypeError\u001b[0m: string indices must be integers, not str"
     ]
    }
   ],
   "source": [
    "## love\n",
    "products['love'] = products['word_count'].apply(awesome_count)"
   ]
  },
  {
   "cell_type": "code",
   "execution_count": 80,
   "metadata": {
    "collapsed": true
   },
   "outputs": [],
   "source": [
    "## horrible\n",
    "products['horrible'] = products['word_count'].apply(awesome_count)"
   ]
  },
  {
   "cell_type": "code",
   "execution_count": 82,
   "metadata": {
    "collapsed": true
   },
   "outputs": [],
   "source": [
    "## bad\n",
    "products['bad'] = products['word_count'].apply(awesome_count)"
   ]
  },
  {
   "cell_type": "code",
   "execution_count": 84,
   "metadata": {
    "collapsed": true
   },
   "outputs": [],
   "source": [
    "## terrible\n",
    "products['terrible'] = products['word_count'].apply(awesome_count)"
   ]
  },
  {
   "cell_type": "code",
   "execution_count": 89,
   "metadata": {
    "collapsed": true
   },
   "outputs": [],
   "source": [
    "def awesome_count(dictionary):\n",
    "    \"\"\"\" Count the number of occurence of the word Awesome on the dict\"\"\"\n",
    "    word = 'hate'\n",
    "    for review in dictionary:\n",
    "        if word in review:\n",
    "            return review[word]\n",
    "        else :\n",
    "            \n",
    "            return 0"
   ]
  },
  {
   "cell_type": "code",
   "execution_count": 87,
   "metadata": {
    "collapsed": true
   },
   "outputs": [],
   "source": [
    "## awful\n",
    "products['awful'] = products['word_count'].apply(awesome_count)"
   ]
  },
  {
   "cell_type": "code",
   "execution_count": 88,
   "metadata": {
    "collapsed": true
   },
   "outputs": [],
   "source": [
    "## wow\n",
    "products['wow'] = products['word_count'].apply(awesome_count)"
   ]
  },
  {
   "cell_type": "code",
   "execution_count": 102,
   "metadata": {
    "collapsed": false
   },
   "outputs": [
    {
     "data": {
      "text/plain": [
       "dtype: int\n",
       "Rows: 183531\n",
       "[0, 0, 0, 0, 0, 0, 0, 0, 0, 0, 0, 0, 0, 0, 0, 0, 0, 0, 0, 0, 0, 0, 0, 0, 0, 0, 0, 0, 0, 0, 0, 0, 0, 0, 0, 0, 0, 0, None, 0, 0, 0, 0, 0, 0, 0, 0, 0, 0, 0, 0, 0, 0, 0, 0, 0, 0, 0, None, 0, 0, 0, 0, 0, 0, 0, 0, 0, 0, 0, 0, 0, 0, 0, 0, 0, 0, 0, 0, 0, 0, 0, 0, 0, 0, 0, 0, 0, 0, 0, 0, 0, 0, 0, 0, 0, 0, 0, 0, 0, ... ]"
      ]
     },
     "execution_count": 102,
     "metadata": {},
     "output_type": "execute_result"
    }
   ],
   "source": [
    "## hate\n",
    "products['hate'] = products['word_count'].apply(awesome_count)\n",
    "products['hate']"
   ]
  },
  {
   "cell_type": "code",
   "execution_count": 93,
   "metadata": {
    "collapsed": false
   },
   "outputs": [],
   "source": [
    "selected_words = ['awesome', 'great', 'fantastic', 'amazing', 'love', 'horrible', 'bad', 'terrible', 'awful', 'wow', 'hate']"
   ]
  },
  {
   "cell_type": "code",
   "execution_count": 107,
   "metadata": {
    "collapsed": false
   },
   "outputs": [
    {
     "name": "stdout",
     "output_type": "stream",
     "text": [
      "awesome\n",
      "great\n",
      "fantastic\n",
      "amazing\n",
      "love\n",
      "horrible\n",
      "bad\n",
      "terrible\n",
      "awful\n",
      "wow\n",
      "hate\n"
     ]
    }
   ],
   "source": [
    "for x in xrange(len(selected_words)):\n",
    "    print selected_words[x]"
   ]
  },
  {
   "cell_type": "code",
   "execution_count": 104,
   "metadata": {
    "collapsed": false
   },
   "outputs": [
    {
     "data": {
      "text/plain": [
       "183531"
      ]
     },
     "execution_count": 104,
     "metadata": {},
     "output_type": "execute_result"
    }
   ],
   "source": [
    "for x in xrange(len(selected_words)):\n",
    "    print products['awesome'].sum()"
   ]
  },
  {
   "cell_type": "code",
   "execution_count": null,
   "metadata": {
    "collapsed": true
   },
   "outputs": [],
   "source": []
  }
 ],
 "metadata": {
  "kernelspec": {
   "display_name": "Python 2",
   "language": "python",
   "name": "python2"
  },
  "language_info": {
   "codemirror_mode": {
    "name": "ipython",
    "version": 2
   },
   "file_extension": ".py",
   "mimetype": "text/x-python",
   "name": "python",
   "nbconvert_exporter": "python",
   "pygments_lexer": "ipython2",
   "version": "2.7.10"
  }
 },
 "nbformat": 4,
 "nbformat_minor": 0
}
