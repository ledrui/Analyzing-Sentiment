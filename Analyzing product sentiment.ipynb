{
 "cells": [
  {
   "cell_type": "markdown",
   "metadata": {},
   "source": [
    "#Predicting sentiment from product reviews\n",
    "\n",
    "#Fire up GraphLab Create"
   ]
  },
  {
   "cell_type": "code",
   "execution_count": 1,
   "metadata": {
    "collapsed": true
   },
   "outputs": [],
   "source": [
    "import graphlab"
   ]
  },
  {
   "cell_type": "markdown",
   "metadata": {},
   "source": [
    "#Read some product review data\n",
    "\n",
    "Loading reviews for a set of baby products. "
   ]
  },
  {
   "cell_type": "code",
   "execution_count": 2,
   "metadata": {
    "collapsed": false
   },
   "outputs": [
    {
     "name": "stderr",
     "output_type": "stream",
     "text": [
      "[INFO] This non-commercial license of GraphLab Create is assigned to iliassweb@gmail.comand will expire on September 22, 2016. For commercial licensing options, visit https://dato.com/buy/.\n",
      "\n",
      "[INFO] Start server at: ipc:///tmp/graphlab_server-25262 - Server binary: /home/zax/anaconda/lib/python2.7/site-packages/graphlab/unity_server - Server log: /tmp/graphlab_server_1445838606.log\n",
      "[INFO] GraphLab Server Version: 1.6.1\n"
     ]
    }
   ],
   "source": [
    "products = graphlab.SFrame('amazon_baby.gl/')"
   ]
  },
  {
   "cell_type": "markdown",
   "metadata": {},
   "source": [
    "#Let's explore this data together\n",
    "\n",
    "Data includes the product name, the review text and the rating of the review. "
   ]
  },
  {
   "cell_type": "code",
   "execution_count": 3,
   "metadata": {
    "collapsed": false
   },
   "outputs": [
    {
     "data": {
      "text/html": [
       "<div style=\"max-height:1000px;max-width:1500px;overflow:auto;\"><table frame=\"box\" rules=\"cols\">\n",
       "    <tr>\n",
       "        <th style=\"padding-left: 1em; padding-right: 1em; text-align: center\">name</th>\n",
       "        <th style=\"padding-left: 1em; padding-right: 1em; text-align: center\">review</th>\n",
       "        <th style=\"padding-left: 1em; padding-right: 1em; text-align: center\">rating</th>\n",
       "    </tr>\n",
       "    <tr>\n",
       "        <td style=\"padding-left: 1em; padding-right: 1em; text-align: center; vertical-align: top\">Planetwise Flannel Wipes</td>\n",
       "        <td style=\"padding-left: 1em; padding-right: 1em; text-align: center; vertical-align: top\">These flannel wipes are<br>OK, but in my opinion ...</td>\n",
       "        <td style=\"padding-left: 1em; padding-right: 1em; text-align: center; vertical-align: top\">3.0</td>\n",
       "    </tr>\n",
       "    <tr>\n",
       "        <td style=\"padding-left: 1em; padding-right: 1em; text-align: center; vertical-align: top\">Planetwise Wipe Pouch</td>\n",
       "        <td style=\"padding-left: 1em; padding-right: 1em; text-align: center; vertical-align: top\">it came early and was not<br>disappointed. i love ...</td>\n",
       "        <td style=\"padding-left: 1em; padding-right: 1em; text-align: center; vertical-align: top\">5.0</td>\n",
       "    </tr>\n",
       "    <tr>\n",
       "        <td style=\"padding-left: 1em; padding-right: 1em; text-align: center; vertical-align: top\">Annas Dream Full Quilt<br>with 2 Shams ...</td>\n",
       "        <td style=\"padding-left: 1em; padding-right: 1em; text-align: center; vertical-align: top\">Very soft and comfortable<br>and warmer than it ...</td>\n",
       "        <td style=\"padding-left: 1em; padding-right: 1em; text-align: center; vertical-align: top\">5.0</td>\n",
       "    </tr>\n",
       "    <tr>\n",
       "        <td style=\"padding-left: 1em; padding-right: 1em; text-align: center; vertical-align: top\">Stop Pacifier Sucking<br>without tears with ...</td>\n",
       "        <td style=\"padding-left: 1em; padding-right: 1em; text-align: center; vertical-align: top\">This is a product well<br>worth the purchase.  I ...</td>\n",
       "        <td style=\"padding-left: 1em; padding-right: 1em; text-align: center; vertical-align: top\">5.0</td>\n",
       "    </tr>\n",
       "    <tr>\n",
       "        <td style=\"padding-left: 1em; padding-right: 1em; text-align: center; vertical-align: top\">Stop Pacifier Sucking<br>without tears with ...</td>\n",
       "        <td style=\"padding-left: 1em; padding-right: 1em; text-align: center; vertical-align: top\">All of my kids have cried<br>non-stop when I tried to ...</td>\n",
       "        <td style=\"padding-left: 1em; padding-right: 1em; text-align: center; vertical-align: top\">5.0</td>\n",
       "    </tr>\n",
       "    <tr>\n",
       "        <td style=\"padding-left: 1em; padding-right: 1em; text-align: center; vertical-align: top\">Stop Pacifier Sucking<br>without tears with ...</td>\n",
       "        <td style=\"padding-left: 1em; padding-right: 1em; text-align: center; vertical-align: top\">When the Binky Fairy came<br>to our house, we didn't ...</td>\n",
       "        <td style=\"padding-left: 1em; padding-right: 1em; text-align: center; vertical-align: top\">5.0</td>\n",
       "    </tr>\n",
       "    <tr>\n",
       "        <td style=\"padding-left: 1em; padding-right: 1em; text-align: center; vertical-align: top\">A Tale of Baby's Days<br>with Peter Rabbit ...</td>\n",
       "        <td style=\"padding-left: 1em; padding-right: 1em; text-align: center; vertical-align: top\">Lovely book, it's bound<br>tightly so you may no ...</td>\n",
       "        <td style=\"padding-left: 1em; padding-right: 1em; text-align: center; vertical-align: top\">4.0</td>\n",
       "    </tr>\n",
       "    <tr>\n",
       "        <td style=\"padding-left: 1em; padding-right: 1em; text-align: center; vertical-align: top\">Baby Tracker&amp;reg; - Daily<br>Childcare Journal, ...</td>\n",
       "        <td style=\"padding-left: 1em; padding-right: 1em; text-align: center; vertical-align: top\">Perfect for new parents.<br>We were able to keep ...</td>\n",
       "        <td style=\"padding-left: 1em; padding-right: 1em; text-align: center; vertical-align: top\">5.0</td>\n",
       "    </tr>\n",
       "    <tr>\n",
       "        <td style=\"padding-left: 1em; padding-right: 1em; text-align: center; vertical-align: top\">Baby Tracker&amp;reg; - Daily<br>Childcare Journal, ...</td>\n",
       "        <td style=\"padding-left: 1em; padding-right: 1em; text-align: center; vertical-align: top\">A friend of mine pinned<br>this product on Pinte ...</td>\n",
       "        <td style=\"padding-left: 1em; padding-right: 1em; text-align: center; vertical-align: top\">5.0</td>\n",
       "    </tr>\n",
       "    <tr>\n",
       "        <td style=\"padding-left: 1em; padding-right: 1em; text-align: center; vertical-align: top\">Baby Tracker&amp;reg; - Daily<br>Childcare Journal, ...</td>\n",
       "        <td style=\"padding-left: 1em; padding-right: 1em; text-align: center; vertical-align: top\">This has been an easy way<br>for my nanny to record ...</td>\n",
       "        <td style=\"padding-left: 1em; padding-right: 1em; text-align: center; vertical-align: top\">4.0</td>\n",
       "    </tr>\n",
       "</table>\n",
       "[10 rows x 3 columns]<br/>\n",
       "</div>"
      ],
      "text/plain": [
       "Columns:\n",
       "\tname\tstr\n",
       "\treview\tstr\n",
       "\trating\tfloat\n",
       "\n",
       "Rows: 10\n",
       "\n",
       "Data:\n",
       "+-------------------------------+-------------------------------+--------+\n",
       "|              name             |             review            | rating |\n",
       "+-------------------------------+-------------------------------+--------+\n",
       "|    Planetwise Flannel Wipes   | These flannel wipes are OK... |  3.0   |\n",
       "|     Planetwise Wipe Pouch     | it came early and was not ... |  5.0   |\n",
       "| Annas Dream Full Quilt wit... | Very soft and comfortable ... |  5.0   |\n",
       "| Stop Pacifier Sucking with... | This is a product well wor... |  5.0   |\n",
       "| Stop Pacifier Sucking with... | All of my kids have cried ... |  5.0   |\n",
       "| Stop Pacifier Sucking with... | When the Binky Fairy came ... |  5.0   |\n",
       "| A Tale of Baby's Days with... | Lovely book, it's bound ti... |  4.0   |\n",
       "| Baby Tracker&reg; - Daily ... | Perfect for new parents. W... |  5.0   |\n",
       "| Baby Tracker&reg; - Daily ... | A friend of mine pinned th... |  5.0   |\n",
       "| Baby Tracker&reg; - Daily ... | This has been an easy way ... |  4.0   |\n",
       "+-------------------------------+-------------------------------+--------+\n",
       "[10 rows x 3 columns]"
      ]
     },
     "execution_count": 3,
     "metadata": {},
     "output_type": "execute_result"
    }
   ],
   "source": [
    "products.head()"
   ]
  },
  {
   "cell_type": "markdown",
   "metadata": {},
   "source": [
    "#Build the word count vector for each review"
   ]
  },
  {
   "cell_type": "code",
   "execution_count": 4,
   "metadata": {
    "collapsed": false
   },
   "outputs": [],
   "source": [
    "products['word_count'] = graphlab.text_analytics.count_words(products['review'])\n"
   ]
  },
  {
   "cell_type": "code",
   "execution_count": 6,
   "metadata": {
    "collapsed": false
   },
   "outputs": [
    {
     "data": {
      "text/html": [
       "<div style=\"max-height:1000px;max-width:1500px;overflow:auto;\"><table frame=\"box\" rules=\"cols\">\n",
       "    <tr>\n",
       "        <th style=\"padding-left: 1em; padding-right: 1em; text-align: center\">name</th>\n",
       "        <th style=\"padding-left: 1em; padding-right: 1em; text-align: center\">review</th>\n",
       "        <th style=\"padding-left: 1em; padding-right: 1em; text-align: center\">rating</th>\n",
       "        <th style=\"padding-left: 1em; padding-right: 1em; text-align: center\">word_count</th>\n",
       "    </tr>\n",
       "    <tr>\n",
       "        <td style=\"padding-left: 1em; padding-right: 1em; text-align: center; vertical-align: top\">Planetwise Flannel Wipes</td>\n",
       "        <td style=\"padding-left: 1em; padding-right: 1em; text-align: center; vertical-align: top\">These flannel wipes are<br>OK, but in my opinion ...</td>\n",
       "        <td style=\"padding-left: 1em; padding-right: 1em; text-align: center; vertical-align: top\">3.0</td>\n",
       "        <td style=\"padding-left: 1em; padding-right: 1em; text-align: center; vertical-align: top\">{'and': 5, 'stink': 1,<br>'because': 1, 'ordered': ...</td>\n",
       "    </tr>\n",
       "    <tr>\n",
       "        <td style=\"padding-left: 1em; padding-right: 1em; text-align: center; vertical-align: top\">Planetwise Wipe Pouch</td>\n",
       "        <td style=\"padding-left: 1em; padding-right: 1em; text-align: center; vertical-align: top\">it came early and was not<br>disappointed. i love ...</td>\n",
       "        <td style=\"padding-left: 1em; padding-right: 1em; text-align: center; vertical-align: top\">5.0</td>\n",
       "        <td style=\"padding-left: 1em; padding-right: 1em; text-align: center; vertical-align: top\">{'and': 3, 'love': 1,<br>'it': 2, 'highly': 1, ...</td>\n",
       "    </tr>\n",
       "    <tr>\n",
       "        <td style=\"padding-left: 1em; padding-right: 1em; text-align: center; vertical-align: top\">Annas Dream Full Quilt<br>with 2 Shams ...</td>\n",
       "        <td style=\"padding-left: 1em; padding-right: 1em; text-align: center; vertical-align: top\">Very soft and comfortable<br>and warmer than it ...</td>\n",
       "        <td style=\"padding-left: 1em; padding-right: 1em; text-align: center; vertical-align: top\">5.0</td>\n",
       "        <td style=\"padding-left: 1em; padding-right: 1em; text-align: center; vertical-align: top\">{'and': 2, 'quilt': 1,<br>'it': 1, 'comfortable': ...</td>\n",
       "    </tr>\n",
       "    <tr>\n",
       "        <td style=\"padding-left: 1em; padding-right: 1em; text-align: center; vertical-align: top\">Stop Pacifier Sucking<br>without tears with ...</td>\n",
       "        <td style=\"padding-left: 1em; padding-right: 1em; text-align: center; vertical-align: top\">This is a product well<br>worth the purchase.  I ...</td>\n",
       "        <td style=\"padding-left: 1em; padding-right: 1em; text-align: center; vertical-align: top\">5.0</td>\n",
       "        <td style=\"padding-left: 1em; padding-right: 1em; text-align: center; vertical-align: top\">{'ingenious': 1, 'and':<br>3, 'love': 2, ...</td>\n",
       "    </tr>\n",
       "    <tr>\n",
       "        <td style=\"padding-left: 1em; padding-right: 1em; text-align: center; vertical-align: top\">Stop Pacifier Sucking<br>without tears with ...</td>\n",
       "        <td style=\"padding-left: 1em; padding-right: 1em; text-align: center; vertical-align: top\">All of my kids have cried<br>non-stop when I tried to ...</td>\n",
       "        <td style=\"padding-left: 1em; padding-right: 1em; text-align: center; vertical-align: top\">5.0</td>\n",
       "        <td style=\"padding-left: 1em; padding-right: 1em; text-align: center; vertical-align: top\">{'and': 2, 'parents!!':<br>1, 'all': 2, 'puppet.': ...</td>\n",
       "    </tr>\n",
       "    <tr>\n",
       "        <td style=\"padding-left: 1em; padding-right: 1em; text-align: center; vertical-align: top\">Stop Pacifier Sucking<br>without tears with ...</td>\n",
       "        <td style=\"padding-left: 1em; padding-right: 1em; text-align: center; vertical-align: top\">When the Binky Fairy came<br>to our house, we didn't ...</td>\n",
       "        <td style=\"padding-left: 1em; padding-right: 1em; text-align: center; vertical-align: top\">5.0</td>\n",
       "        <td style=\"padding-left: 1em; padding-right: 1em; text-align: center; vertical-align: top\">{'and': 2, 'cute': 1,<br>'help': 2, 'doll': 1, ...</td>\n",
       "    </tr>\n",
       "    <tr>\n",
       "        <td style=\"padding-left: 1em; padding-right: 1em; text-align: center; vertical-align: top\">A Tale of Baby's Days<br>with Peter Rabbit ...</td>\n",
       "        <td style=\"padding-left: 1em; padding-right: 1em; text-align: center; vertical-align: top\">Lovely book, it's bound<br>tightly so you may no ...</td>\n",
       "        <td style=\"padding-left: 1em; padding-right: 1em; text-align: center; vertical-align: top\">4.0</td>\n",
       "        <td style=\"padding-left: 1em; padding-right: 1em; text-align: center; vertical-align: top\">{'shop': 1, 'be': 1,<br>'is': 1, 'it': 1, 'as': ...</td>\n",
       "    </tr>\n",
       "    <tr>\n",
       "        <td style=\"padding-left: 1em; padding-right: 1em; text-align: center; vertical-align: top\">Baby Tracker&amp;reg; - Daily<br>Childcare Journal, ...</td>\n",
       "        <td style=\"padding-left: 1em; padding-right: 1em; text-align: center; vertical-align: top\">Perfect for new parents.<br>We were able to keep ...</td>\n",
       "        <td style=\"padding-left: 1em; padding-right: 1em; text-align: center; vertical-align: top\">5.0</td>\n",
       "        <td style=\"padding-left: 1em; padding-right: 1em; text-align: center; vertical-align: top\">{'feeding,': 1, 'and': 2,<br>'all': 1, 'right': 1, ...</td>\n",
       "    </tr>\n",
       "    <tr>\n",
       "        <td style=\"padding-left: 1em; padding-right: 1em; text-align: center; vertical-align: top\">Baby Tracker&amp;reg; - Daily<br>Childcare Journal, ...</td>\n",
       "        <td style=\"padding-left: 1em; padding-right: 1em; text-align: center; vertical-align: top\">A friend of mine pinned<br>this product on Pinte ...</td>\n",
       "        <td style=\"padding-left: 1em; padding-right: 1em; text-align: center; vertical-align: top\">5.0</td>\n",
       "        <td style=\"padding-left: 1em; padding-right: 1em; text-align: center; vertical-align: top\">{'and': 1, 'help': 1,<br>'give': 1, 'is': 1, ...</td>\n",
       "    </tr>\n",
       "    <tr>\n",
       "        <td style=\"padding-left: 1em; padding-right: 1em; text-align: center; vertical-align: top\">Baby Tracker&amp;reg; - Daily<br>Childcare Journal, ...</td>\n",
       "        <td style=\"padding-left: 1em; padding-right: 1em; text-align: center; vertical-align: top\">This has been an easy way<br>for my nanny to record ...</td>\n",
       "        <td style=\"padding-left: 1em; padding-right: 1em; text-align: center; vertical-align: top\">4.0</td>\n",
       "        <td style=\"padding-left: 1em; padding-right: 1em; text-align: center; vertical-align: top\">{'journal.': 1, 'all': 1,<br>'standarad': 1, ...</td>\n",
       "    </tr>\n",
       "</table>\n",
       "[10 rows x 4 columns]<br/>\n",
       "</div>"
      ],
      "text/plain": [
       "Columns:\n",
       "\tname\tstr\n",
       "\treview\tstr\n",
       "\trating\tfloat\n",
       "\tword_count\tdict\n",
       "\n",
       "Rows: 10\n",
       "\n",
       "Data:\n",
       "+-------------------------------+-------------------------------+--------+\n",
       "|              name             |             review            | rating |\n",
       "+-------------------------------+-------------------------------+--------+\n",
       "|    Planetwise Flannel Wipes   | These flannel wipes are OK... |  3.0   |\n",
       "|     Planetwise Wipe Pouch     | it came early and was not ... |  5.0   |\n",
       "| Annas Dream Full Quilt wit... | Very soft and comfortable ... |  5.0   |\n",
       "| Stop Pacifier Sucking with... | This is a product well wor... |  5.0   |\n",
       "| Stop Pacifier Sucking with... | All of my kids have cried ... |  5.0   |\n",
       "| Stop Pacifier Sucking with... | When the Binky Fairy came ... |  5.0   |\n",
       "| A Tale of Baby's Days with... | Lovely book, it's bound ti... |  4.0   |\n",
       "| Baby Tracker&reg; - Daily ... | Perfect for new parents. W... |  5.0   |\n",
       "| Baby Tracker&reg; - Daily ... | A friend of mine pinned th... |  5.0   |\n",
       "| Baby Tracker&reg; - Daily ... | This has been an easy way ... |  4.0   |\n",
       "+-------------------------------+-------------------------------+--------+\n",
       "+-------------------------------+\n",
       "|           word_count          |\n",
       "+-------------------------------+\n",
       "| {'and': 5, 'stink': 1, 'be... |\n",
       "| {'and': 3, 'love': 1, 'it'... |\n",
       "| {'and': 2, 'quilt': 1, 'it... |\n",
       "| {'ingenious': 1, 'and': 3,... |\n",
       "| {'and': 2, 'parents!!': 1,... |\n",
       "| {'and': 2, 'cute': 1, 'hel... |\n",
       "| {'shop': 1, 'be': 1, 'is':... |\n",
       "| {'feeding,': 1, 'and': 2, ... |\n",
       "| {'and': 1, 'help': 1, 'giv... |\n",
       "| {'journal.': 1, 'all': 1, ... |\n",
       "+-------------------------------+\n",
       "[10 rows x 4 columns]"
      ]
     },
     "execution_count": 6,
     "metadata": {},
     "output_type": "execute_result"
    }
   ],
   "source": [
    "products.head()"
   ]
  },
  {
   "cell_type": "code",
   "execution_count": 5,
   "metadata": {
    "collapsed": false
   },
   "outputs": [],
   "source": [
    "graphlab.canvas.set_target('ipynb')"
   ]
  },
  {
   "cell_type": "code",
   "execution_count": 6,
   "metadata": {
    "collapsed": false
   },
   "outputs": [
    {
     "data": {
      "application/javascript": [
       "$(\"head\").append($(\"<link/>\").attr({\n",
       "  rel:  \"stylesheet\",\n",
       "  type: \"text/css\",\n",
       "  href: \"//cdnjs.cloudflare.com/ajax/libs/font-awesome/4.1.0/css/font-awesome.min.css\"\n",
       "}));\n",
       "$(\"head\").append($(\"<link/>\").attr({\n",
       "  rel:  \"stylesheet\",\n",
       "  type: \"text/css\",\n",
       "  href: \"//dato.com/files/canvas/1.6.1/css/canvas.css\"\n",
       "}));\n",
       "\n",
       "            (function(){\n",
       "\n",
       "                var e = null;\n",
       "                if (typeof element == 'undefined') {\n",
       "                    var scripts = document.getElementsByTagName('script');\n",
       "                    var thisScriptTag = scripts[scripts.length-1];\n",
       "                    var parentDiv = thisScriptTag.parentNode;\n",
       "                    e = document.createElement('div');\n",
       "                    parentDiv.appendChild(e);\n",
       "                } else {\n",
       "                    e = element[0];\n",
       "                }\n",
       "\n",
       "                if (typeof requirejs !== 'undefined') {\n",
       "                    // disable load timeout; ipython_app.js is large and can take a while to load.\n",
       "                    requirejs.config({waitSeconds: 0});\n",
       "                }\n",
       "\n",
       "                require(['//dato.com/files/canvas/1.6.1/js/ipython_app.js'], function(IPythonApp){\n",
       "                    var app = new IPythonApp();\n",
       "                    app.attachView('sarray','Numeric', {\"ipython\": true, \"sketch\": {\"std\": 1.2850135559617413, \"complete\": true, \"min\": 1.0, \"max\": 5.0, \"quantile\": [1.0, 1.0, 1.0, 1.0, 1.0, 1.0, 1.0, 1.0, 1.0, 2.0, 2.0, 2.0, 2.0, 2.0, 2.0, 3.0, 3.0, 3.0, 3.0, 3.0, 3.0, 3.0, 3.0, 3.0, 4.0, 4.0, 4.0, 4.0, 4.0, 4.0, 4.0, 4.0, 4.0, 4.0, 4.0, 4.0, 4.0, 4.0, 4.0, 4.0, 4.0, 4.0, 5.0, 5.0, 5.0, 5.0, 5.0, 5.0, 5.0, 5.0, 5.0, 5.0, 5.0, 5.0, 5.0, 5.0, 5.0, 5.0, 5.0, 5.0, 5.0, 5.0, 5.0, 5.0, 5.0, 5.0, 5.0, 5.0, 5.0, 5.0, 5.0, 5.0, 5.0, 5.0, 5.0, 5.0, 5.0, 5.0, 5.0, 5.0, 5.0, 5.0, 5.0, 5.0, 5.0, 5.0, 5.0, 5.0, 5.0, 5.0, 5.0, 5.0, 5.0, 5.0, 5.0, 5.0, 5.0, 5.0, 5.0, 5.0, 5.0], \"median\": 5.0, \"numeric\": true, \"num_unique\": 5, \"num_undefined\": 0, \"var\": 1.6512598390054394, \"progress\": 1.0, \"size\": 183531, \"frequent_items\": {\"1.0\": {\"frequency\": 15183, \"value\": 1.0}, \"2.0\": {\"frequency\": 11310, \"value\": 2.0}, \"3.0\": {\"frequency\": 16779, \"value\": 3.0}, \"4.0\": {\"frequency\": 33205, \"value\": 4.0}, \"5.0\": {\"frequency\": 107054, \"value\": 5.0}}, \"mean\": 4.1204483166331505}, \"selected_variable\": {\"name\": [\"<SArray>\"], \"dtype\": \"float\", \"view_component\": \"Numeric\", \"view_file\": \"sarray\", \"descriptives\": {\"rows\": 183531}, \"type\": \"SArray\", \"view_components\": [\"Numeric\", \"Categorical\"]}, \"histogram\": {\"progress\": 1.0, \"histogram\": {\"max\": 5.024, \"bins\": [15183, 0, 0, 11310, 0, 16779, 0, 0, 33205, 0, 0, 107054], \"min\": 0.992}, \"min\": 1.0, \"complete\": 1, \"max\": 5.0}}, e);\n",
       "                });\n",
       "            })();\n",
       "        "
      ]
     },
     "metadata": {},
     "output_type": "display_data"
    }
   ],
   "source": [
    "products['rating'].show()\n",
    "#print products['rating']"
   ]
  },
  {
   "cell_type": "markdown",
   "metadata": {
    "collapsed": true
   },
   "source": [
    "#Examining the reviews for most-sold product:  'Vulli Sophie the Giraffe Teether'"
   ]
  },
  {
   "cell_type": "code",
   "execution_count": 194,
   "metadata": {
    "collapsed": false
   },
   "outputs": [],
   "source": [
    "giraffe_reviews = products[products['name'] == 'Vulli Sophie the Giraffe Teether']"
   ]
  },
  {
   "cell_type": "code",
   "execution_count": 195,
   "metadata": {
    "collapsed": false
   },
   "outputs": [
    {
     "data": {
      "text/plain": [
       "785"
      ]
     },
     "execution_count": 195,
     "metadata": {},
     "output_type": "execute_result"
    }
   ],
   "source": [
    "len(giraffe_reviews)"
   ]
  },
  {
   "cell_type": "code",
   "execution_count": 196,
   "metadata": {
    "collapsed": false
   },
   "outputs": [
    {
     "data": {
      "application/javascript": [
       "$(\"head\").append($(\"<link/>\").attr({\n",
       "  rel:  \"stylesheet\",\n",
       "  type: \"text/css\",\n",
       "  href: \"//cdnjs.cloudflare.com/ajax/libs/font-awesome/4.1.0/css/font-awesome.min.css\"\n",
       "}));\n",
       "$(\"head\").append($(\"<link/>\").attr({\n",
       "  rel:  \"stylesheet\",\n",
       "  type: \"text/css\",\n",
       "  href: \"//dato.com/files/canvas/1.6.1/css/canvas.css\"\n",
       "}));\n",
       "\n",
       "            (function(){\n",
       "\n",
       "                var e = null;\n",
       "                if (typeof element == 'undefined') {\n",
       "                    var scripts = document.getElementsByTagName('script');\n",
       "                    var thisScriptTag = scripts[scripts.length-1];\n",
       "                    var parentDiv = thisScriptTag.parentNode;\n",
       "                    e = document.createElement('div');\n",
       "                    parentDiv.appendChild(e);\n",
       "                } else {\n",
       "                    e = element[0];\n",
       "                }\n",
       "\n",
       "                if (typeof requirejs !== 'undefined') {\n",
       "                    // disable load timeout; ipython_app.js is large and can take a while to load.\n",
       "                    requirejs.config({waitSeconds: 0});\n",
       "                }\n",
       "\n",
       "                require(['//dato.com/files/canvas/1.6.1/js/ipython_app.js'], function(IPythonApp){\n",
       "                    var app = new IPythonApp();\n",
       "                    app.attachView('sarray','Categorical', {\"ipython\": true, \"sketch\": {\"std\": 1.226576304850189, \"complete\": true, \"min\": 1.0, \"max\": 5.0, \"quantile\": [1.0, 1.0, 1.0, 1.0, 1.0, 1.0, 1.0, 1.0, 2.0, 2.0, 2.0, 2.0, 3.0, 3.0, 3.0, 3.0, 3.0, 3.0, 3.0, 3.0, 4.0, 4.0, 4.0, 4.0, 4.0, 4.0, 4.0, 4.0, 4.0, 4.0, 4.0, 4.0, 5.0, 5.0, 5.0, 5.0, 5.0, 5.0, 5.0, 5.0, 5.0, 5.0, 5.0, 5.0, 5.0, 5.0, 5.0, 5.0, 5.0, 5.0, 5.0, 5.0, 5.0, 5.0, 5.0, 5.0, 5.0, 5.0, 5.0, 5.0, 5.0, 5.0, 5.0, 5.0, 5.0, 5.0, 5.0, 5.0, 5.0, 5.0, 5.0, 5.0, 5.0, 5.0, 5.0, 5.0, 5.0, 5.0, 5.0, 5.0, 5.0, 5.0, 5.0, 5.0, 5.0, 5.0, 5.0, 5.0, 5.0, 5.0, 5.0, 5.0, 5.0, 5.0, 5.0, 5.0, 5.0, 5.0, 5.0, 5.0, 5.0], \"median\": 5.0, \"numeric\": true, \"num_unique\": 5, \"num_undefined\": 0, \"var\": 1.504489431619944, \"progress\": 1.0, \"size\": 785, \"frequent_items\": {\"1.0\": {\"frequency\": 56, \"value\": 1.0}, \"2.0\": {\"frequency\": 37, \"value\": 2.0}, \"3.0\": {\"frequency\": 62, \"value\": 3.0}, \"4.0\": {\"frequency\": 95, \"value\": 4.0}, \"5.0\": {\"frequency\": 535, \"value\": 5.0}}, \"mean\": 4.294267515923567}, \"selected_variable\": {\"name\": [\"<SArray>\"], \"dtype\": \"float\", \"view_component\": \"Categorical\", \"view_file\": \"sarray\", \"descriptives\": {\"rows\": 785}, \"type\": \"SArray\", \"view_components\": [\"Numeric\", \"Categorical\"]}, \"histogram\": {\"progress\": 1.0, \"histogram\": {\"max\": 5.0439843750025, \"bins\": [56, 0, 0, 37, 0, 0, 62, 0, 95, 0, 0, 535], \"min\": 0.9534375000025004}, \"min\": 1.0, \"complete\": 1, \"max\": 5.0}}, e);\n",
       "                });\n",
       "            })();\n",
       "        "
      ]
     },
     "metadata": {},
     "output_type": "display_data"
    }
   ],
   "source": [
    "giraffe_reviews['rating'].show(view='Categorical')"
   ]
  },
  {
   "cell_type": "markdown",
   "metadata": {},
   "source": [
    "#Build a sentiment classifier"
   ]
  },
  {
   "cell_type": "code",
   "execution_count": 7,
   "metadata": {
    "collapsed": false
   },
   "outputs": [
    {
     "data": {
      "application/javascript": [
       "$(\"head\").append($(\"<link/>\").attr({\n",
       "  rel:  \"stylesheet\",\n",
       "  type: \"text/css\",\n",
       "  href: \"//cdnjs.cloudflare.com/ajax/libs/font-awesome/4.1.0/css/font-awesome.min.css\"\n",
       "}));\n",
       "$(\"head\").append($(\"<link/>\").attr({\n",
       "  rel:  \"stylesheet\",\n",
       "  type: \"text/css\",\n",
       "  href: \"//dato.com/files/canvas/1.6.1/css/canvas.css\"\n",
       "}));\n",
       "\n",
       "            (function(){\n",
       "\n",
       "                var e = null;\n",
       "                if (typeof element == 'undefined') {\n",
       "                    var scripts = document.getElementsByTagName('script');\n",
       "                    var thisScriptTag = scripts[scripts.length-1];\n",
       "                    var parentDiv = thisScriptTag.parentNode;\n",
       "                    e = document.createElement('div');\n",
       "                    parentDiv.appendChild(e);\n",
       "                } else {\n",
       "                    e = element[0];\n",
       "                }\n",
       "\n",
       "                if (typeof requirejs !== 'undefined') {\n",
       "                    // disable load timeout; ipython_app.js is large and can take a while to load.\n",
       "                    requirejs.config({waitSeconds: 0});\n",
       "                }\n",
       "\n",
       "                require(['//dato.com/files/canvas/1.6.1/js/ipython_app.js'], function(IPythonApp){\n",
       "                    var app = new IPythonApp();\n",
       "                    app.attachView('sarray','Categorical', {\"ipython\": true, \"sketch\": {\"std\": 1.2850135559617413, \"complete\": true, \"min\": 1.0, \"max\": 5.0, \"quantile\": [1.0, 1.0, 1.0, 1.0, 1.0, 1.0, 1.0, 1.0, 1.0, 2.0, 2.0, 2.0, 2.0, 2.0, 2.0, 3.0, 3.0, 3.0, 3.0, 3.0, 3.0, 3.0, 3.0, 3.0, 4.0, 4.0, 4.0, 4.0, 4.0, 4.0, 4.0, 4.0, 4.0, 4.0, 4.0, 4.0, 4.0, 4.0, 4.0, 4.0, 4.0, 4.0, 5.0, 5.0, 5.0, 5.0, 5.0, 5.0, 5.0, 5.0, 5.0, 5.0, 5.0, 5.0, 5.0, 5.0, 5.0, 5.0, 5.0, 5.0, 5.0, 5.0, 5.0, 5.0, 5.0, 5.0, 5.0, 5.0, 5.0, 5.0, 5.0, 5.0, 5.0, 5.0, 5.0, 5.0, 5.0, 5.0, 5.0, 5.0, 5.0, 5.0, 5.0, 5.0, 5.0, 5.0, 5.0, 5.0, 5.0, 5.0, 5.0, 5.0, 5.0, 5.0, 5.0, 5.0, 5.0, 5.0, 5.0, 5.0, 5.0], \"median\": 5.0, \"numeric\": true, \"num_unique\": 5, \"num_undefined\": 0, \"var\": 1.6512598390054394, \"progress\": 1.0, \"size\": 183531, \"frequent_items\": {\"1.0\": {\"frequency\": 15183, \"value\": 1.0}, \"2.0\": {\"frequency\": 11310, \"value\": 2.0}, \"3.0\": {\"frequency\": 16779, \"value\": 3.0}, \"4.0\": {\"frequency\": 33205, \"value\": 4.0}, \"5.0\": {\"frequency\": 107054, \"value\": 5.0}}, \"mean\": 4.1204483166331505}, \"selected_variable\": {\"name\": [\"<SArray>\"], \"dtype\": \"float\", \"view_component\": \"Categorical\", \"view_file\": \"sarray\", \"descriptives\": {\"rows\": 183531}, \"type\": \"SArray\", \"view_components\": [\"Numeric\", \"Categorical\"]}, \"histogram\": {\"progress\": 1.0, \"histogram\": {\"max\": 5.024, \"bins\": [15183, 0, 0, 11310, 0, 16779, 0, 0, 33205, 0, 0, 107054], \"min\": 0.992}, \"min\": 1.0, \"complete\": 1, \"max\": 5.0}}, e);\n",
       "                });\n",
       "            })();\n",
       "        "
      ]
     },
     "metadata": {},
     "output_type": "display_data"
    }
   ],
   "source": [
    "products['rating'].show(view='Categorical')"
   ]
  },
  {
   "cell_type": "markdown",
   "metadata": {},
   "source": [
    "##Define what's a positive and a negative sentiment\n",
    "\n",
    "We will ignore all reviews with rating = 3, since they tend to have a neutral sentiment.  Reviews with a rating of 4 or higher will be considered positive, while the ones with rating of 2 or lower will have a negative sentiment.   "
   ]
  },
  {
   "cell_type": "code",
   "execution_count": 8,
   "metadata": {
    "collapsed": false
   },
   "outputs": [],
   "source": [
    "#ignore all 3* reviews\n",
    "products = products[products['rating'] != 3]"
   ]
  },
  {
   "cell_type": "code",
   "execution_count": 9,
   "metadata": {
    "collapsed": false
   },
   "outputs": [],
   "source": [
    "#positive sentiment = 4* or 5* reviews\n",
    "products['sentiment'] = products['rating'] >=4"
   ]
  },
  {
   "cell_type": "code",
   "execution_count": null,
   "metadata": {
    "collapsed": false,
    "scrolled": false
   },
   "outputs": [],
   "source": []
  },
  {
   "cell_type": "markdown",
   "metadata": {},
   "source": [
    "##Let's train the sentiment classifier"
   ]
  },
  {
   "cell_type": "code",
   "execution_count": 10,
   "metadata": {
    "collapsed": true
   },
   "outputs": [],
   "source": [
    "train_data,test_data = products.random_split(.8, seed=0)"
   ]
  },
  {
   "cell_type": "code",
   "execution_count": 11,
   "metadata": {
    "collapsed": false,
    "scrolled": false
   },
   "outputs": [
    {
     "name": "stdout",
     "output_type": "stream",
     "text": [
      "PROGRESS: Logistic regression:\n",
      "PROGRESS: --------------------------------------------------------\n",
      "PROGRESS: Number of examples          : 133448\n",
      "PROGRESS: Number of classes           : 2\n",
      "PROGRESS: Number of feature columns   : 1\n",
      "PROGRESS: Number of unpacked features : 219217\n",
      "PROGRESS: Number of coefficients    : 219218\n",
      "PROGRESS: Starting L-BFGS\n",
      "PROGRESS: --------------------------------------------------------\n",
      "PROGRESS: +-----------+----------+-----------+--------------+-------------------+---------------------+\n",
      "PROGRESS: | Iteration | Passes   | Step size | Elapsed Time | Training-accuracy | Validation-accuracy |\n",
      "PROGRESS: +-----------+----------+-----------+--------------+-------------------+---------------------+\n",
      "PROGRESS: | 1         | 5        | 0.000002  | 2.717550     | 0.841481          | 0.839989            |\n",
      "PROGRESS: | 2         | 9        | 3.000000  | 4.360094     | 0.947425          | 0.894877            |\n",
      "PROGRESS: | 3         | 10       | 3.000000  | 4.974734     | 0.923768          | 0.866232            |\n",
      "PROGRESS: | 4         | 11       | 3.000000  | 5.590956     | 0.971779          | 0.912743            |\n",
      "PROGRESS: | 5         | 12       | 3.000000  | 6.205668     | 0.975511          | 0.908900            |\n",
      "PROGRESS: | 6         | 13       | 3.000000  | 6.823351     | 0.899991          | 0.825967            |\n",
      "PROGRESS: | 10        | 18       | 1.000000  | 9.760932     | 0.988715          | 0.916256            |\n",
      "PROGRESS: +-----------+----------+-----------+--------------+-------------------+---------------------+\n"
     ]
    }
   ],
   "source": [
    "sentiment_model = graphlab.logistic_classifier.create(train_data,\n",
    "                                                     target='sentiment',\n",
    "                                                     features=['word_count'],\n",
    "                                                     validation_set=test_data)"
   ]
  },
  {
   "cell_type": "markdown",
   "metadata": {},
   "source": [
    "#Evaluate the sentiment model"
   ]
  },
  {
   "cell_type": "code",
   "execution_count": 12,
   "metadata": {
    "collapsed": false
   },
   "outputs": [
    {
     "data": {
      "text/plain": [
       "{'roc_curve': Columns:\n",
       " \tthreshold\tfloat\n",
       " \tfpr\tfloat\n",
       " \ttpr\tfloat\n",
       " \tp\tint\n",
       " \tn\tint\n",
       " \n",
       " Rows: 1001\n",
       " \n",
       " Data:\n",
       " +------------------+----------------+-----------------+-------+------+\n",
       " |    threshold     |      fpr       |       tpr       |   p   |  n   |\n",
       " +------------------+----------------+-----------------+-------+------+\n",
       " |       0.0        | 0.224328890558 | 0.0036772581221 | 28010 | 5327 |\n",
       " | 0.0010000000475  | 0.775671109442 |  0.996322741878 | 28010 | 5327 |\n",
       " | 0.00200000009499 | 0.735686127276 |  0.995287397358 | 28010 | 5327 |\n",
       " | 0.00300000002608 | 0.712971653839 |  0.994644769725 | 28010 | 5327 |\n",
       " | 0.00400000018999 | 0.69757837432  |  0.994144948233 | 28010 | 5327 |\n",
       " | 0.00499999988824 | 0.686314999061 |  0.993787932881 | 28010 | 5327 |\n",
       " | 0.00600000005215 | 0.676553407171 |  0.993288111389 | 28010 | 5327 |\n",
       " | 0.00700000021607 | 0.666040923597 |  0.992931096037 | 28010 | 5327 |\n",
       " | 0.00800000037998 | 0.655716162943 |  0.992681185291 | 28010 | 5327 |\n",
       " | 0.00899999961257 | 0.648394969026 |  0.992359871474 | 28010 | 5327 |\n",
       " +------------------+----------------+-----------------+-------+------+\n",
       " [1001 rows x 5 columns]\n",
       " Note: Only the head of the SFrame is printed.\n",
       " You can use print_rows(num_rows=m, num_columns=n) to print more rows and columns.}"
      ]
     },
     "execution_count": 12,
     "metadata": {},
     "output_type": "execute_result"
    }
   ],
   "source": [
    "sentiment_model.evaluate(test_data, metric='roc_curve')"
   ]
  },
  {
   "cell_type": "code",
   "execution_count": 54,
   "metadata": {
    "collapsed": false
   },
   "outputs": [
    {
     "data": {
      "application/javascript": [
       "$(\"head\").append($(\"<link/>\").attr({\n",
       "  rel:  \"stylesheet\",\n",
       "  type: \"text/css\",\n",
       "  href: \"//cdnjs.cloudflare.com/ajax/libs/font-awesome/4.1.0/css/font-awesome.min.css\"\n",
       "}));\n",
       "$(\"head\").append($(\"<link/>\").attr({\n",
       "  rel:  \"stylesheet\",\n",
       "  type: \"text/css\",\n",
       "  href: \"//dato.com/files/canvas/1.6.1/css/canvas.css\"\n",
       "}));\n",
       "\n",
       "            (function(){\n",
       "\n",
       "                var e = null;\n",
       "                if (typeof element == 'undefined') {\n",
       "                    var scripts = document.getElementsByTagName('script');\n",
       "                    var thisScriptTag = scripts[scripts.length-1];\n",
       "                    var parentDiv = thisScriptTag.parentNode;\n",
       "                    e = document.createElement('div');\n",
       "                    parentDiv.appendChild(e);\n",
       "                } else {\n",
       "                    e = element[0];\n",
       "                }\n",
       "\n",
       "                if (typeof requirejs !== 'undefined') {\n",
       "                    // disable load timeout; ipython_app.js is large and can take a while to load.\n",
       "                    requirejs.config({waitSeconds: 0});\n",
       "                }\n",
       "\n",
       "                require(['//dato.com/files/canvas/1.6.1/js/ipython_app.js'], function(IPythonApp){\n",
       "                    var app = new IPythonApp();\n",
       "                    app.attachView('model','Evaluation', {\"comparison\": null, \"selected_variable\": {\"comparison\": null, \"name\": [\"sentiment_model\"], \"view_file\": \"model\", \"view_component\": \"Evaluation\", \"view_params\": {\"model_type\": \"regression\", \"view\": \"Evaluation\"}, \"view_components\": [\"Summary\", \"Evaluation\", \"Comparison\"], \"model_type\": \"regression\", \"attributes\": {\"section_titles\": [\"Schema\", \"Hyperparameters\", \"Training Summary\", \"Settings\", \"Highest Positive Coefficients\", \"Lowest Negative Coefficients\"], \"sections\": [[[\"Number of coefficients\", 219218], [\"Number of examples\", 133448], [\"Number of classes\", 2], [\"Number of feature columns\", 1], [\"Number of unpacked features\", 219217]], [[\"L1 penalty\", 0.0], [\"L2 penalty\", 0.01]], [[\"Solver\", \"auto\"], [\"Solver iterations\", 10], [\"Solver status\", \"TERMINATED: Iteration limit reached.\"], [\"Training time (sec)\", 9.7704]], [[\"Log-likelihood\", 4956.6901]], [[\"word_count[pinkjeep]\", 13.5701], [\"word_count[(http://www.amazon.com/review/rhgg6qp7tdnhb/ref=cm_cr_pr_cmt?ie=utf8&asin;=b00318cla0&nodeid;)]\", 12.3088], [\"word_count[label/box.]\", 11.1774], [\"word_count[product.***]\", 11.064], [\"word_count[direct-pumping]\", 11.0531]], [[\"word_count[it.update:after]\", -18.3631], [\"word_count[5months.]\", -16.0906], [\"word_count[oldest.if]\", -15.9315], [\"word_count[maxima.]\", -15.8084], [\"word_count[(160.00)]\", -15.4512]]]}, \"evaluations\": [[\"test_data\", {\"roc_curve\": [{\"threshold\": 0.0, \"p\": 28046, \"fpr\": 0.2214941022280472, \"tpr\": 0.00424302930899237, \"n\": 5341}, {\"threshold\": 0.0010000000474974513, \"p\": 28046, \"fpr\": 0.7785058977719528, \"tpr\": 0.9957569706910077, \"n\": 5341}, {\"threshold\": 0.0020000000949949026, \"p\": 28046, \"fpr\": 0.7391874180865007, \"tpr\": 0.994544676602724, \"n\": 5341}, {\"threshold\": 0.003000000026077032, \"p\": 28046, \"fpr\": 0.7163452536978094, \"tpr\": 0.9939385295585823, \"n\": 5341}, {\"threshold\": 0.004000000189989805, \"p\": 28046, \"fpr\": 0.7008050926792735, \"tpr\": 0.9934750053483563, \"n\": 5341}, {\"threshold\": 0.004999999888241291, \"p\": 28046, \"fpr\": 0.6897584721962179, \"tpr\": 0.993082792555088, \"n\": 5341}, {\"threshold\": 0.006000000052154064, \"p\": 28046, \"fpr\": 0.6802096985583224, \"tpr\": 0.9925123012194252, \"n\": 5341}, {\"threshold\": 0.007000000216066837, \"p\": 28046, \"fpr\": 0.6697247706422018, \"tpr\": 0.9921557441346359, \"n\": 5341}, {\"threshold\": 0.00800000037997961, \"p\": 28046, \"fpr\": 0.6594270735817263, \"tpr\": 0.9919061541752835, \"n\": 5341}, {\"threshold\": 0.008999999612569809, \"p\": 28046, \"fpr\": 0.6521250702115708, \"tpr\": 0.9915852527989731, \"n\": 5341}, {\"threshold\": 0.009999999776482582, \"p\": 28046, \"fpr\": 0.6435124508519003, \"tpr\": 0.9913356628396206, \"n\": 5341}, {\"threshold\": 0.010999999940395355, \"p\": 28046, \"fpr\": 0.636584909193035, \"tpr\": 0.9910504171717892, \"n\": 5341}, {\"threshold\": 0.012000000104308128, \"p\": 28046, \"fpr\": 0.6311552143793298, \"tpr\": 0.9907295157954789, \"n\": 5341}, {\"threshold\": 0.013000000268220901, \"p\": 28046, \"fpr\": 0.6244149035761093, \"tpr\": 0.9904799258361263, \"n\": 5341}, {\"threshold\": 0.014000000432133675, \"p\": 28046, \"fpr\": 0.6197341321849841, \"tpr\": 0.9901946801682949, \"n\": 5341}, {\"threshold\": 0.014999999664723873, \"p\": 28046, \"fpr\": 0.6129938213817637, \"tpr\": 0.9899450902089425, \"n\": 5341}, {\"threshold\": 0.01600000075995922, \"p\": 28046, \"fpr\": 0.6085002808462835, \"tpr\": 0.9895885331241532, \"n\": 5341}, {\"threshold\": 0.017000000923871994, \"p\": 28046, \"fpr\": 0.6047556637333833, \"tpr\": 0.9893389431648006, \"n\": 5341}, {\"threshold\": 0.017999999225139618, \"p\": 28046, \"fpr\": 0.599887661486613, \"tpr\": 0.989196320330885, \"n\": 5341}, {\"threshold\": 0.01899999938905239, \"p\": 28046, \"fpr\": 0.5950196592398427, \"tpr\": 0.9890536974969693, \"n\": 5341}, {\"threshold\": 0.019999999552965164, \"p\": 28046, \"fpr\": 0.5905261187043624, \"tpr\": 0.9888397632460957, \"n\": 5341}, {\"threshold\": 0.020999999716877937, \"p\": 28046, \"fpr\": 0.5869687324471072, \"tpr\": 0.98869714041218, \"n\": 5341}, {\"threshold\": 0.02199999988079071, \"p\": 28046, \"fpr\": 0.5839730387567871, \"tpr\": 0.9884832061613065, \"n\": 5341}, {\"threshold\": 0.023000000044703484, \"p\": 28046, \"fpr\": 0.582100730200337, \"tpr\": 0.9883405833273907, \"n\": 5341}, {\"threshold\": 0.024000000208616257, \"p\": 28046, \"fpr\": 0.5777944205205018, \"tpr\": 0.9881623047849961, \"n\": 5341}, {\"threshold\": 0.02500000037252903, \"p\": 28046, \"fpr\": 0.5746114959745366, \"tpr\": 0.9879483705341225, \"n\": 5341}, {\"threshold\": 0.026000000536441803, \"p\": 28046, \"fpr\": 0.5712413405729264, \"tpr\": 0.9878057477002068, \"n\": 5341}, {\"threshold\": 0.027000000700354576, \"p\": 28046, \"fpr\": 0.5680584160269613, \"tpr\": 0.9875561577408543, \"n\": 5341}, {\"threshold\": 0.02800000086426735, \"p\": 28046, \"fpr\": 0.5652499531922861, \"tpr\": 0.9873778791984597, \"n\": 5341}, {\"threshold\": 0.028999999165534973, \"p\": 28046, \"fpr\": 0.5616925669350309, \"tpr\": 0.987235256364544, \"n\": 5341}, {\"threshold\": 0.029999999329447746, \"p\": 28046, \"fpr\": 0.5581351806777757, \"tpr\": 0.9868786992797547, \"n\": 5341}, {\"threshold\": 0.03099999949336052, \"p\": 28046, \"fpr\": 0.5566373338326156, \"tpr\": 0.9867717321543179, \"n\": 5341}, {\"threshold\": 0.03200000151991844, \"p\": 28046, \"fpr\": 0.5528927167197154, \"tpr\": 0.9865221421949654, \"n\": 5341}, {\"threshold\": 0.032999999821186066, \"p\": 28046, \"fpr\": 0.5489608687511702, \"tpr\": 0.9863438636525708, \"n\": 5341}, {\"threshold\": 0.03400000184774399, \"p\": 28046, \"fpr\": 0.5470885601947201, \"tpr\": 0.986236896527134, \"n\": 5341}, {\"threshold\": 0.03500000014901161, \"p\": 28046, \"fpr\": 0.54521625163827, \"tpr\": 0.986201240818655, \"n\": 5341}, {\"threshold\": 0.035999998450279236, \"p\": 28046, \"fpr\": 0.5431567122261749, \"tpr\": 0.9860942736932183, \"n\": 5341}, {\"threshold\": 0.03700000047683716, \"p\": 28046, \"fpr\": 0.5409099419584348, \"tpr\": 0.9859873065677816, \"n\": 5341}, {\"threshold\": 0.03799999877810478, \"p\": 28046, \"fpr\": 0.5377270174124695, \"tpr\": 0.9856307494829922, \"n\": 5341}, {\"threshold\": 0.039000000804662704, \"p\": 28046, \"fpr\": 0.5366036322785995, \"tpr\": 0.9854168152321187, \"n\": 5341}, {\"threshold\": 0.03999999910593033, \"p\": 28046, \"fpr\": 0.5352930162890844, \"tpr\": 0.9853098481066819, \"n\": 5341}, {\"threshold\": 0.04100000113248825, \"p\": 28046, \"fpr\": 0.5332334768769893, \"tpr\": 0.9852028809812451, \"n\": 5341}, {\"threshold\": 0.041999999433755875, \"p\": 28046, \"fpr\": 0.5302377831866691, \"tpr\": 0.9850959138558083, \"n\": 5341}, {\"threshold\": 0.0430000014603138, \"p\": 28046, \"fpr\": 0.5291143980527991, \"tpr\": 0.9849176353134137, \"n\": 5341}, {\"threshold\": 0.04399999976158142, \"p\": 28046, \"fpr\": 0.5266803969294139, \"tpr\": 0.9848106681879769, \"n\": 5341}, {\"threshold\": 0.04500000178813934, \"p\": 28046, \"fpr\": 0.5255570117955439, \"tpr\": 0.9846680453540612, \"n\": 5341}, {\"threshold\": 0.04600000008940697, \"p\": 28046, \"fpr\": 0.5227485489608688, \"tpr\": 0.9846323896455823, \"n\": 5341}, {\"threshold\": 0.04699999839067459, \"p\": 28046, \"fpr\": 0.5208762404044186, \"tpr\": 0.9843827996862298, \"n\": 5341}, {\"threshold\": 0.04800000041723251, \"p\": 28046, \"fpr\": 0.5186294701366785, \"tpr\": 0.9841688654353562, \"n\": 5341}, {\"threshold\": 0.04899999871850014, \"p\": 28046, \"fpr\": 0.5175060850028085, \"tpr\": 0.9840262426014404, \"n\": 5341}, {\"threshold\": 0.05000000074505806, \"p\": 28046, \"fpr\": 0.5156337764463583, \"tpr\": 0.9838836197675248, \"n\": 5341}, {\"threshold\": 0.050999999046325684, \"p\": 28046, \"fpr\": 0.5124508519003932, \"tpr\": 0.9836340298081723, \"n\": 5341}, {\"threshold\": 0.052000001072883606, \"p\": 28046, \"fpr\": 0.509829619921363, \"tpr\": 0.9834914069742566, \"n\": 5341}, {\"threshold\": 0.05299999937415123, \"p\": 28046, \"fpr\": 0.5083317730762029, \"tpr\": 0.9833487841403409, \"n\": 5341}, {\"threshold\": 0.05400000140070915, \"p\": 28046, \"fpr\": 0.5062722336641079, \"tpr\": 0.9831705055979463, \"n\": 5341}, {\"threshold\": 0.054999999701976776, \"p\": 28046, \"fpr\": 0.5051488485302378, \"tpr\": 0.9830991941809883, \"n\": 5341}, {\"threshold\": 0.0560000017285347, \"p\": 28046, \"fpr\": 0.5027148474068527, \"tpr\": 0.9830278827640305, \"n\": 5341}, {\"threshold\": 0.05700000002980232, \"p\": 28046, \"fpr\": 0.5006553079947575, \"tpr\": 0.982813948513157, \"n\": 5341}, {\"threshold\": 0.057999998331069946, \"p\": 28046, \"fpr\": 0.49840853772701743, \"tpr\": 0.9826713256792412, \"n\": 5341}, {\"threshold\": 0.05900000035762787, \"p\": 28046, \"fpr\": 0.4972851525931474, \"tpr\": 0.9825287028453256, \"n\": 5341}, {\"threshold\": 0.05999999865889549, \"p\": 28046, \"fpr\": 0.4948511514697622, \"tpr\": 0.9824930471368466, \"n\": 5341}, {\"threshold\": 0.061000000685453415, \"p\": 28046, \"fpr\": 0.4927916120576671, \"tpr\": 0.9823504243029308, \"n\": 5341}, {\"threshold\": 0.06199999898672104, \"p\": 28046, \"fpr\": 0.490919303501217, \"tpr\": 0.982314768594452, \"n\": 5341}, {\"threshold\": 0.06300000101327896, \"p\": 28046, \"fpr\": 0.48960868751170195, \"tpr\": 0.9822434571774941, \"n\": 5341}, {\"threshold\": 0.06400000303983688, \"p\": 28046, \"fpr\": 0.4884853023778319, \"tpr\": 0.9821008343435784, \"n\": 5341}, {\"threshold\": 0.06499999761581421, \"p\": 28046, \"fpr\": 0.4871746863883168, \"tpr\": 0.9821008343435784, \"n\": 5341}, {\"threshold\": 0.06599999964237213, \"p\": 28046, \"fpr\": 0.4866129938213818, \"tpr\": 0.9820651786350995, \"n\": 5341}, {\"threshold\": 0.06700000166893005, \"p\": 28046, \"fpr\": 0.4858640703988017, \"tpr\": 0.9819938672181416, \"n\": 5341}, {\"threshold\": 0.06800000369548798, \"p\": 28046, \"fpr\": 0.48474068526493164, \"tpr\": 0.981815588675747, \"n\": 5341}, {\"threshold\": 0.0689999982714653, \"p\": 28046, \"fpr\": 0.4836173001310616, \"tpr\": 0.9817442772587891, \"n\": 5341}, {\"threshold\": 0.07000000029802322, \"p\": 28046, \"fpr\": 0.48286837670848154, \"tpr\": 0.9816729658418313, \"n\": 5341}, {\"threshold\": 0.07100000232458115, \"p\": 28046, \"fpr\": 0.4815577607189665, \"tpr\": 0.9816016544248735, \"n\": 5341}, {\"threshold\": 0.07199999690055847, \"p\": 28046, \"fpr\": 0.4802471447294514, \"tpr\": 0.9815659987163945, \"n\": 5341}, {\"threshold\": 0.0729999989271164, \"p\": 28046, \"fpr\": 0.4783748361730013, \"tpr\": 0.9815303430079155, \"n\": 5341}, {\"threshold\": 0.07400000095367432, \"p\": 28046, \"fpr\": 0.4768769893278412, \"tpr\": 0.9814233758824787, \"n\": 5341}, {\"threshold\": 0.07500000298023224, \"p\": 28046, \"fpr\": 0.47500468077139113, \"tpr\": 0.981316408757042, \"n\": 5341}, {\"threshold\": 0.07599999755620956, \"p\": 28046, \"fpr\": 0.47406852649316605, \"tpr\": 0.9811381302146474, \"n\": 5341}, {\"threshold\": 0.07699999958276749, \"p\": 28046, \"fpr\": 0.472757910503651, \"tpr\": 0.9811024745061684, \"n\": 5341}, {\"threshold\": 0.07800000160932541, \"p\": 28046, \"fpr\": 0.47182175622542594, \"tpr\": 0.980817228838337, \"n\": 5341}, {\"threshold\": 0.07900000363588333, \"p\": 28046, \"fpr\": 0.4708856019472009, \"tpr\": 0.980817228838337, \"n\": 5341}, {\"threshold\": 0.07999999821186066, \"p\": 28046, \"fpr\": 0.46994944766897584, \"tpr\": 0.9807102617129002, \"n\": 5341}, {\"threshold\": 0.08100000023841858, \"p\": 28046, \"fpr\": 0.4692005242463958, \"tpr\": 0.9806746060044214, \"n\": 5341}, {\"threshold\": 0.0820000022649765, \"p\": 28046, \"fpr\": 0.4677026774012357, \"tpr\": 0.9806389502959424, \"n\": 5341}, {\"threshold\": 0.08299999684095383, \"p\": 28046, \"fpr\": 0.46620483055607564, \"tpr\": 0.9803893603365899, \"n\": 5341}, {\"threshold\": 0.08399999886751175, \"p\": 28046, \"fpr\": 0.46489421456656055, \"tpr\": 0.980318048919632, \"n\": 5341}, {\"threshold\": 0.08500000089406967, \"p\": 28046, \"fpr\": 0.46283467515446547, \"tpr\": 0.980318048919632, \"n\": 5341}, {\"threshold\": 0.0860000029206276, \"p\": 28046, \"fpr\": 0.4618985208762404, \"tpr\": 0.9802823932111531, \"n\": 5341}, {\"threshold\": 0.08699999749660492, \"p\": 28046, \"fpr\": 0.4604006740310803, \"tpr\": 0.9802110817941952, \"n\": 5341}, {\"threshold\": 0.08799999952316284, \"p\": 28046, \"fpr\": 0.45890282718592024, \"tpr\": 0.9799971475433217, \"n\": 5341}, {\"threshold\": 0.08900000154972076, \"p\": 28046, \"fpr\": 0.45834113461898524, \"tpr\": 0.9798188690009271, \"n\": 5341}, {\"threshold\": 0.09000000357627869, \"p\": 28046, \"fpr\": 0.45740498034076016, \"tpr\": 0.9797475575839691, \"n\": 5341}, {\"threshold\": 0.09099999815225601, \"p\": 28046, \"fpr\": 0.4564688260625351, \"tpr\": 0.9797119018754903, \"n\": 5341}, {\"threshold\": 0.09200000017881393, \"p\": 28046, \"fpr\": 0.455345440928665, \"tpr\": 0.9796762461670113, \"n\": 5341}, {\"threshold\": 0.09300000220537186, \"p\": 28046, \"fpr\": 0.45403482493915, \"tpr\": 0.9794979676246167, \"n\": 5341}, {\"threshold\": 0.09399999678134918, \"p\": 28046, \"fpr\": 0.45328590151656994, \"tpr\": 0.9794266562076589, \"n\": 5341}, {\"threshold\": 0.0949999988079071, \"p\": 28046, \"fpr\": 0.45234974723834487, \"tpr\": 0.9793196890822221, \"n\": 5341}, {\"threshold\": 0.09600000083446503, \"p\": 28046, \"fpr\": 0.45141359296011985, \"tpr\": 0.9792127219567853, \"n\": 5341}, {\"threshold\": 0.09700000286102295, \"p\": 28046, \"fpr\": 0.4506646695375398, \"tpr\": 0.9791414105398274, \"n\": 5341}, {\"threshold\": 0.09799999743700027, \"p\": 28046, \"fpr\": 0.44991574611495977, \"tpr\": 0.9789274762889538, \"n\": 5341}, {\"threshold\": 0.0989999994635582, \"p\": 28046, \"fpr\": 0.4489795918367347, \"tpr\": 0.9787135420380803, \"n\": 5341}, {\"threshold\": 0.10000000149011612, \"p\": 28046, \"fpr\": 0.4480434375585096, \"tpr\": 0.9786422306211224, \"n\": 5341}, {\"threshold\": 0.10100000351667404, \"p\": 28046, \"fpr\": 0.4461711290020595, \"tpr\": 0.9785709192041646, \"n\": 5341}, {\"threshold\": 0.10199999809265137, \"p\": 28046, \"fpr\": 0.44467328215689944, \"tpr\": 0.9784282963702489, \"n\": 5341}, {\"threshold\": 0.10300000011920929, \"p\": 28046, \"fpr\": 0.4439243587343194, \"tpr\": 0.9783926406617699, \"n\": 5341}, {\"threshold\": 0.10400000214576721, \"p\": 28046, \"fpr\": 0.44280097360044934, \"tpr\": 0.9782143621193753, \"n\": 5341}, {\"threshold\": 0.10499999672174454, \"p\": 28046, \"fpr\": 0.4424265118891593, \"tpr\": 0.9780360835769807, \"n\": 5341}, {\"threshold\": 0.10599999874830246, \"p\": 28046, \"fpr\": 0.44074143418835426, \"tpr\": 0.9778934607430649, \"n\": 5341}, {\"threshold\": 0.10700000077486038, \"p\": 28046, \"fpr\": 0.4396180490544842, \"tpr\": 0.9778578050345861, \"n\": 5341}, {\"threshold\": 0.1080000028014183, \"p\": 28046, \"fpr\": 0.43905635648754915, \"tpr\": 0.9777864936176281, \"n\": 5341}, {\"threshold\": 0.10899999737739563, \"p\": 28046, \"fpr\": 0.43812020220932407, \"tpr\": 0.9775725593667546, \"n\": 5341}, {\"threshold\": 0.10999999940395355, \"p\": 28046, \"fpr\": 0.43737127878674403, \"tpr\": 0.9774299365328389, \"n\": 5341}, {\"threshold\": 0.11100000143051147, \"p\": 28046, \"fpr\": 0.43587343194158396, \"tpr\": 0.9774299365328389, \"n\": 5341}, {\"threshold\": 0.1120000034570694, \"p\": 28046, \"fpr\": 0.43531173937464895, \"tpr\": 0.9772873136989232, \"n\": 5341}, {\"threshold\": 0.11299999803304672, \"p\": 28046, \"fpr\": 0.4345628159520689, \"tpr\": 0.9771446908650074, \"n\": 5341}, {\"threshold\": 0.11400000005960464, \"p\": 28046, \"fpr\": 0.4338138925294889, \"tpr\": 0.9771090351565286, \"n\": 5341}, {\"threshold\": 0.11500000208616257, \"p\": 28046, \"fpr\": 0.4323160456843288, \"tpr\": 0.9770020680310918, \"n\": 5341}, {\"threshold\": 0.11599999666213989, \"p\": 28046, \"fpr\": 0.4313798914061037, \"tpr\": 0.9769664123226128, \"n\": 5341}, {\"threshold\": 0.11699999868869781, \"p\": 28046, \"fpr\": 0.4308181988391687, \"tpr\": 0.976859445197176, \"n\": 5341}, {\"threshold\": 0.11800000071525574, \"p\": 28046, \"fpr\": 0.4306309679835237, \"tpr\": 0.9767881337802182, \"n\": 5341}, {\"threshold\": 0.11900000274181366, \"p\": 28046, \"fpr\": 0.42988204456094364, \"tpr\": 0.9767168223632604, \"n\": 5341}, {\"threshold\": 0.11999999731779099, \"p\": 28046, \"fpr\": 0.4291331211383636, \"tpr\": 0.9766455109463025, \"n\": 5341}, {\"threshold\": 0.12099999934434891, \"p\": 28046, \"fpr\": 0.42857142857142855, \"tpr\": 0.97639592098695, \"n\": 5341}, {\"threshold\": 0.12200000137090683, \"p\": 28046, \"fpr\": 0.42857142857142855, \"tpr\": 0.9762889538615133, \"n\": 5341}, {\"threshold\": 0.12300000339746475, \"p\": 28046, \"fpr\": 0.42838419771578357, \"tpr\": 0.9762176424445553, \"n\": 5341}, {\"threshold\": 0.12399999797344208, \"p\": 28046, \"fpr\": 0.4272608125819135, \"tpr\": 0.9761106753191185, \"n\": 5341}, {\"threshold\": 0.125, \"p\": 28046, \"fpr\": 0.42669912001497845, \"tpr\": 0.9760750196106397, \"n\": 5341}, {\"threshold\": 0.12600000202655792, \"p\": 28046, \"fpr\": 0.42576296573675343, \"tpr\": 0.9760750196106397, \"n\": 5341}, {\"threshold\": 0.12700000405311584, \"p\": 28046, \"fpr\": 0.4250140423141734, \"tpr\": 0.975896741068245, \"n\": 5341}, {\"threshold\": 0.12800000607967377, \"p\": 28046, \"fpr\": 0.42426511889159335, \"tpr\": 0.9758610853597661, \"n\": 5341}, {\"threshold\": 0.1289999932050705, \"p\": 28046, \"fpr\": 0.4237034263246583, \"tpr\": 0.9756828068173714, \"n\": 5341}, {\"threshold\": 0.12999999523162842, \"p\": 28046, \"fpr\": 0.42258004119078824, \"tpr\": 0.975468872566498, \"n\": 5341}, {\"threshold\": 0.13099999725818634, \"p\": 28046, \"fpr\": 0.42201834862385323, \"tpr\": 0.975433216858019, \"n\": 5341}, {\"threshold\": 0.13199999928474426, \"p\": 28046, \"fpr\": 0.42070773263433814, \"tpr\": 0.9752905940241032, \"n\": 5341}, {\"threshold\": 0.13300000131130219, \"p\": 28046, \"fpr\": 0.4201460400674031, \"tpr\": 0.9752192826071454, \"n\": 5341}, {\"threshold\": 0.1340000033378601, \"p\": 28046, \"fpr\": 0.419022654933533, \"tpr\": 0.9751123154817086, \"n\": 5341}, {\"threshold\": 0.13500000536441803, \"p\": 28046, \"fpr\": 0.41733757723272796, \"tpr\": 0.9750053483562718, \"n\": 5341}, {\"threshold\": 0.13600000739097595, \"p\": 28046, \"fpr\": 0.4165886538101479, \"tpr\": 0.9750053483562718, \"n\": 5341}, {\"threshold\": 0.13699999451637268, \"p\": 28046, \"fpr\": 0.41546526867627787, \"tpr\": 0.9747557583969193, \"n\": 5341}, {\"threshold\": 0.1379999965429306, \"p\": 28046, \"fpr\": 0.4149035761093428, \"tpr\": 0.9747201026884404, \"n\": 5341}, {\"threshold\": 0.13899999856948853, \"p\": 28046, \"fpr\": 0.4139674218311178, \"tpr\": 0.9746487912714825, \"n\": 5341}, {\"threshold\": 0.14000000059604645, \"p\": 28046, \"fpr\": 0.41378019097547275, \"tpr\": 0.9746487912714825, \"n\": 5341}, {\"threshold\": 0.14100000262260437, \"p\": 28046, \"fpr\": 0.41359296011982777, \"tpr\": 0.9746131355630037, \"n\": 5341}, {\"threshold\": 0.1420000046491623, \"p\": 28046, \"fpr\": 0.41284403669724773, \"tpr\": 0.9745774798545247, \"n\": 5341}, {\"threshold\": 0.14300000667572021, \"p\": 28046, \"fpr\": 0.41190788241902265, \"tpr\": 0.9745418241460457, \"n\": 5341}, {\"threshold\": 0.14399999380111694, \"p\": 28046, \"fpr\": 0.41153342070773263, \"tpr\": 0.9745418241460457, \"n\": 5341}, {\"threshold\": 0.14499999582767487, \"p\": 28046, \"fpr\": 0.4098483430069275, \"tpr\": 0.9745061684375669, \"n\": 5341}, {\"threshold\": 0.1459999978542328, \"p\": 28046, \"fpr\": 0.4090994195843475, \"tpr\": 0.974434857020609, \"n\": 5341}, {\"threshold\": 0.1469999998807907, \"p\": 28046, \"fpr\": 0.4079760344504774, \"tpr\": 0.9743635456036511, \"n\": 5341}, {\"threshold\": 0.14800000190734863, \"p\": 28046, \"fpr\": 0.40778880359483244, \"tpr\": 0.9742565784782143, \"n\": 5341}, {\"threshold\": 0.14900000393390656, \"p\": 28046, \"fpr\": 0.4072271110278974, \"tpr\": 0.9742209227697355, \"n\": 5341}, {\"threshold\": 0.15000000596046448, \"p\": 28046, \"fpr\": 0.4066654184609624, \"tpr\": 0.9741496113527776, \"n\": 5341}, {\"threshold\": 0.1509999930858612, \"p\": 28046, \"fpr\": 0.4055420333270923, \"tpr\": 0.9741139556442987, \"n\": 5341}, {\"threshold\": 0.15199999511241913, \"p\": 28046, \"fpr\": 0.4055420333270923, \"tpr\": 0.9740426442273408, \"n\": 5341}, {\"threshold\": 0.15299999713897705, \"p\": 28046, \"fpr\": 0.40498034076015726, \"tpr\": 0.9739000213934251, \"n\": 5341}, {\"threshold\": 0.15399999916553497, \"p\": 28046, \"fpr\": 0.4038569556262872, \"tpr\": 0.9738287099764672, \"n\": 5341}, {\"threshold\": 0.1550000011920929, \"p\": 28046, \"fpr\": 0.4034824939149972, \"tpr\": 0.9736860871425516, \"n\": 5341}, {\"threshold\": 0.15600000321865082, \"p\": 28046, \"fpr\": 0.4029208013480622, \"tpr\": 0.9736147757255936, \"n\": 5341}, {\"threshold\": 0.15700000524520874, \"p\": 28046, \"fpr\": 0.40273357049241715, \"tpr\": 0.9735078086001568, \"n\": 5341}, {\"threshold\": 0.15800000727176666, \"p\": 28046, \"fpr\": 0.4019846470698371, \"tpr\": 0.973436497183199, \"n\": 5341}, {\"threshold\": 0.1589999943971634, \"p\": 28046, \"fpr\": 0.40179741621419207, \"tpr\": 0.9734008414747201, \"n\": 5341}, {\"threshold\": 0.1599999964237213, \"p\": 28046, \"fpr\": 0.40123572364725707, \"tpr\": 0.9733651857662412, \"n\": 5341}, {\"threshold\": 0.16099999845027924, \"p\": 28046, \"fpr\": 0.40048680022467703, \"tpr\": 0.9732938743492833, \"n\": 5341}, {\"threshold\": 0.16200000047683716, \"p\": 28046, \"fpr\": 0.400112338513387, \"tpr\": 0.9731869072238465, \"n\": 5341}, {\"threshold\": 0.16300000250339508, \"p\": 28046, \"fpr\": 0.399737876802097, \"tpr\": 0.9731155958068887, \"n\": 5341}, {\"threshold\": 0.164000004529953, \"p\": 28046, \"fpr\": 0.3988017225238719, \"tpr\": 0.9730799400984097, \"n\": 5341}, {\"threshold\": 0.16500000655651093, \"p\": 28046, \"fpr\": 0.3980527991012919, \"tpr\": 0.972972972972973, \"n\": 5341}, {\"threshold\": 0.16599999368190765, \"p\": 28046, \"fpr\": 0.39767833739000186, \"tpr\": 0.9729016615560151, \"n\": 5341}, {\"threshold\": 0.16699999570846558, \"p\": 28046, \"fpr\": 0.39730387567871184, \"tpr\": 0.9727946944305783, \"n\": 5341}, {\"threshold\": 0.1679999977350235, \"p\": 28046, \"fpr\": 0.3969294139674218, \"tpr\": 0.9726877273051415, \"n\": 5341}, {\"threshold\": 0.16899999976158142, \"p\": 28046, \"fpr\": 0.3961804905448418, \"tpr\": 0.9725807601797047, \"n\": 5341}, {\"threshold\": 0.17000000178813934, \"p\": 28046, \"fpr\": 0.39486987455532674, \"tpr\": 0.972473793054268, \"n\": 5341}, {\"threshold\": 0.17100000381469727, \"p\": 28046, \"fpr\": 0.3937464894214567, \"tpr\": 0.972473793054268, \"n\": 5341}, {\"threshold\": 0.1720000058412552, \"p\": 28046, \"fpr\": 0.39337202771016666, \"tpr\": 0.9724024816373101, \"n\": 5341}, {\"threshold\": 0.17299999296665192, \"p\": 28046, \"fpr\": 0.3924358734319416, \"tpr\": 0.9724024816373101, \"n\": 5341}, {\"threshold\": 0.17399999499320984, \"p\": 28046, \"fpr\": 0.39224864257629655, \"tpr\": 0.9723311702203523, \"n\": 5341}, {\"threshold\": 0.17499999701976776, \"p\": 28046, \"fpr\": 0.39206141172065156, \"tpr\": 0.9721885473864366, \"n\": 5341}, {\"threshold\": 0.17599999904632568, \"p\": 28046, \"fpr\": 0.3913124882980715, \"tpr\": 0.9721528916779576, \"n\": 5341}, {\"threshold\": 0.1770000010728836, \"p\": 28046, \"fpr\": 0.38981464145291145, \"tpr\": 0.9720815802609998, \"n\": 5341}, {\"threshold\": 0.17800000309944153, \"p\": 28046, \"fpr\": 0.3890657180303314, \"tpr\": 0.971974613135563, \"n\": 5341}, {\"threshold\": 0.17900000512599945, \"p\": 28046, \"fpr\": 0.3886912563190414, \"tpr\": 0.9719033017186052, \"n\": 5341}, {\"threshold\": 0.18000000715255737, \"p\": 28046, \"fpr\": 0.3877551020408163, \"tpr\": 0.9717606788846894, \"n\": 5341}, {\"threshold\": 0.1809999942779541, \"p\": 28046, \"fpr\": 0.3871934094738813, \"tpr\": 0.9716893674677316, \"n\": 5341}, {\"threshold\": 0.18199999630451202, \"p\": 28046, \"fpr\": 0.3864444860513013, \"tpr\": 0.971475433216858, \"n\": 5341}, {\"threshold\": 0.18299999833106995, \"p\": 28046, \"fpr\": 0.38569556262872123, \"tpr\": 0.9713328103829423, \"n\": 5341}, {\"threshold\": 0.18400000035762787, \"p\": 28046, \"fpr\": 0.3853211009174312, \"tpr\": 0.9711545318405477, \"n\": 5341}, {\"threshold\": 0.1850000023841858, \"p\": 28046, \"fpr\": 0.38475940835049616, \"tpr\": 0.9711188761320687, \"n\": 5341}, {\"threshold\": 0.1860000044107437, \"p\": 28046, \"fpr\": 0.38382325407227114, \"tpr\": 0.9711188761320687, \"n\": 5341}, {\"threshold\": 0.18700000643730164, \"p\": 28046, \"fpr\": 0.382699868938401, \"tpr\": 0.9709405975896741, \"n\": 5341}, {\"threshold\": 0.18799999356269836, \"p\": 28046, \"fpr\": 0.382699868938401, \"tpr\": 0.9709049418811951, \"n\": 5341}, {\"threshold\": 0.1889999955892563, \"p\": 28046, \"fpr\": 0.382325407227111, \"tpr\": 0.9707979747557584, \"n\": 5341}, {\"threshold\": 0.1899999976158142, \"p\": 28046, \"fpr\": 0.381950945515821, \"tpr\": 0.9706196962133637, \"n\": 5341}, {\"threshold\": 0.19099999964237213, \"p\": 28046, \"fpr\": 0.381389252948886, \"tpr\": 0.9705483847964059, \"n\": 5341}, {\"threshold\": 0.19200000166893005, \"p\": 28046, \"fpr\": 0.38120202209324094, \"tpr\": 0.9704414176709691, \"n\": 5341}, {\"threshold\": 0.19300000369548798, \"p\": 28046, \"fpr\": 0.38064032952630594, \"tpr\": 0.9702987948370534, \"n\": 5341}, {\"threshold\": 0.1940000057220459, \"p\": 28046, \"fpr\": 0.3802658678150159, \"tpr\": 0.9702274834200956, \"n\": 5341}, {\"threshold\": 0.19499999284744263, \"p\": 28046, \"fpr\": 0.3798914061037259, \"tpr\": 0.9701561720031378, \"n\": 5341}, {\"threshold\": 0.19599999487400055, \"p\": 28046, \"fpr\": 0.3795169443924359, \"tpr\": 0.9700848605861798, \"n\": 5341}, {\"threshold\": 0.19699999690055847, \"p\": 28046, \"fpr\": 0.37932971353679085, \"tpr\": 0.970049204877701, \"n\": 5341}, {\"threshold\": 0.1979999989271164, \"p\": 28046, \"fpr\": 0.37914248268114586, \"tpr\": 0.970013549169222, \"n\": 5341}, {\"threshold\": 0.19900000095367432, \"p\": 28046, \"fpr\": 0.37876802096985585, \"tpr\": 0.9699065820437852, \"n\": 5341}, {\"threshold\": 0.20000000298023224, \"p\": 28046, \"fpr\": 0.3780190975472758, \"tpr\": 0.9698709263353062, \"n\": 5341}, {\"threshold\": 0.20100000500679016, \"p\": 28046, \"fpr\": 0.37745740498034075, \"tpr\": 0.9698352706268274, \"n\": 5341}, {\"threshold\": 0.20200000703334808, \"p\": 28046, \"fpr\": 0.37708294326905073, \"tpr\": 0.9697283035013906, \"n\": 5341}, {\"threshold\": 0.2029999941587448, \"p\": 28046, \"fpr\": 0.37708294326905073, \"tpr\": 0.9696926477929116, \"n\": 5341}, {\"threshold\": 0.20399999618530273, \"p\": 28046, \"fpr\": 0.37652125070211573, \"tpr\": 0.9695500249589959, \"n\": 5341}, {\"threshold\": 0.20499999821186066, \"p\": 28046, \"fpr\": 0.37539786556824567, \"tpr\": 0.9694074021250803, \"n\": 5341}, {\"threshold\": 0.20600000023841858, \"p\": 28046, \"fpr\": 0.3744617112900206, \"tpr\": 0.9693004349996435, \"n\": 5341}, {\"threshold\": 0.2070000022649765, \"p\": 28046, \"fpr\": 0.3740872495787306, \"tpr\": 0.9692647792911645, \"n\": 5341}, {\"threshold\": 0.20800000429153442, \"p\": 28046, \"fpr\": 0.37371278786744055, \"tpr\": 0.9691578121657277, \"n\": 5341}, {\"threshold\": 0.20900000631809235, \"p\": 28046, \"fpr\": 0.3727766335892155, \"tpr\": 0.9690865007487699, \"n\": 5341}, {\"threshold\": 0.20999999344348907, \"p\": 28046, \"fpr\": 0.37146601759970044, \"tpr\": 0.9690151893318121, \"n\": 5341}, {\"threshold\": 0.210999995470047, \"p\": 28046, \"fpr\": 0.3710915558884104, \"tpr\": 0.9689082222063753, \"n\": 5341}, {\"threshold\": 0.21199999749660492, \"p\": 28046, \"fpr\": 0.3709043250327654, \"tpr\": 0.9686942879555017, \"n\": 5341}, {\"threshold\": 0.21299999952316284, \"p\": 28046, \"fpr\": 0.3703426324658304, \"tpr\": 0.9686229765385438, \"n\": 5341}, {\"threshold\": 0.21400000154972076, \"p\": 28046, \"fpr\": 0.36996817075454036, \"tpr\": 0.968516009413107, \"n\": 5341}, {\"threshold\": 0.2150000035762787, \"p\": 28046, \"fpr\": 0.3694064781876053, \"tpr\": 0.9684803537046281, \"n\": 5341}, {\"threshold\": 0.2160000056028366, \"p\": 28046, \"fpr\": 0.3684703239093803, \"tpr\": 0.9684090422876702, \"n\": 5341}, {\"threshold\": 0.21699999272823334, \"p\": 28046, \"fpr\": 0.36809586219809026, \"tpr\": 0.9684090422876702, \"n\": 5341}, {\"threshold\": 0.21799999475479126, \"p\": 28046, \"fpr\": 0.3669724770642202, \"tpr\": 0.9684090422876702, \"n\": 5341}, {\"threshold\": 0.21899999678134918, \"p\": 28046, \"fpr\": 0.36622355364164016, \"tpr\": 0.9683377308707124, \"n\": 5341}, {\"threshold\": 0.2199999988079071, \"p\": 28046, \"fpr\": 0.3652873993634151, \"tpr\": 0.9683020751622334, \"n\": 5341}, {\"threshold\": 0.22100000083446503, \"p\": 28046, \"fpr\": 0.3647257067964801, \"tpr\": 0.9681594523283178, \"n\": 5341}, {\"threshold\": 0.22200000286102295, \"p\": 28046, \"fpr\": 0.36453847594083505, \"tpr\": 0.9681594523283178, \"n\": 5341}, {\"threshold\": 0.22300000488758087, \"p\": 28046, \"fpr\": 0.36416401422954503, \"tpr\": 0.9679455180774442, \"n\": 5341}, {\"threshold\": 0.2240000069141388, \"p\": 28046, \"fpr\": 0.36322785995131995, \"tpr\": 0.9678742066604863, \"n\": 5341}, {\"threshold\": 0.22499999403953552, \"p\": 28046, \"fpr\": 0.3624789365287399, \"tpr\": 0.9678028952435285, \"n\": 5341}, {\"threshold\": 0.22599999606609344, \"p\": 28046, \"fpr\": 0.3619172439618049, \"tpr\": 0.9676959281180917, \"n\": 5341}, {\"threshold\": 0.22699999809265137, \"p\": 28046, \"fpr\": 0.3617300131061599, \"tpr\": 0.9674819938672181, \"n\": 5341}, {\"threshold\": 0.2280000001192093, \"p\": 28046, \"fpr\": 0.3611683205392249, \"tpr\": 0.9673750267417813, \"n\": 5341}, {\"threshold\": 0.2290000021457672, \"p\": 28046, \"fpr\": 0.36041939711664484, \"tpr\": 0.9673393710333025, \"n\": 5341}, {\"threshold\": 0.23000000417232513, \"p\": 28046, \"fpr\": 0.3600449354053548, \"tpr\": 0.9673037153248235, \"n\": 5341}, {\"threshold\": 0.23100000619888306, \"p\": 28046, \"fpr\": 0.3592960119827748, \"tpr\": 0.9671967481993867, \"n\": 5341}, {\"threshold\": 0.23199999332427979, \"p\": 28046, \"fpr\": 0.3583598577045497, \"tpr\": 0.9670897810739499, \"n\": 5341}, {\"threshold\": 0.2329999953508377, \"p\": 28046, \"fpr\": 0.3579853959932597, \"tpr\": 0.9670184696569921, \"n\": 5341}, {\"threshold\": 0.23399999737739563, \"p\": 28046, \"fpr\": 0.35761093428196966, \"tpr\": 0.9669828139485132, \"n\": 5341}, {\"threshold\": 0.23499999940395355, \"p\": 28046, \"fpr\": 0.3574237034263247, \"tpr\": 0.9669828139485132, \"n\": 5341}, {\"threshold\": 0.23600000143051147, \"p\": 28046, \"fpr\": 0.3564875491480996, \"tpr\": 0.9669115025315553, \"n\": 5341}, {\"threshold\": 0.2370000034570694, \"p\": 28046, \"fpr\": 0.3561130874368096, \"tpr\": 0.9668758468230764, \"n\": 5341}, {\"threshold\": 0.23800000548362732, \"p\": 28046, \"fpr\": 0.35517693315858456, \"tpr\": 0.9668401911145974, \"n\": 5341}, {\"threshold\": 0.23899999260902405, \"p\": 28046, \"fpr\": 0.3546152405916495, \"tpr\": 0.9668045354061185, \"n\": 5341}, {\"threshold\": 0.23999999463558197, \"p\": 28046, \"fpr\": 0.35442800973600447, \"tpr\": 0.966519289738287, \"n\": 5341}, {\"threshold\": 0.2409999966621399, \"p\": 28046, \"fpr\": 0.35367908631342443, \"tpr\": 0.9664123226128504, \"n\": 5341}, {\"threshold\": 0.24199999868869781, \"p\": 28046, \"fpr\": 0.35349185545777945, \"tpr\": 0.9663410111958924, \"n\": 5341}, {\"threshold\": 0.24300000071525574, \"p\": 28046, \"fpr\": 0.3531173937464894, \"tpr\": 0.9662340440704557, \"n\": 5341}, {\"threshold\": 0.24400000274181366, \"p\": 28046, \"fpr\": 0.3527429320351994, \"tpr\": 0.9661627326534978, \"n\": 5341}, {\"threshold\": 0.24500000476837158, \"p\": 28046, \"fpr\": 0.35180677775697433, \"tpr\": 0.966055765528061, \"n\": 5341}, {\"threshold\": 0.2460000067949295, \"p\": 28046, \"fpr\": 0.3510578543343943, \"tpr\": 0.9659844541111032, \"n\": 5341}, {\"threshold\": 0.24699999392032623, \"p\": 28046, \"fpr\": 0.3510578543343943, \"tpr\": 0.9659131426941453, \"n\": 5341}, {\"threshold\": 0.24799999594688416, \"p\": 28046, \"fpr\": 0.3506833926231043, \"tpr\": 0.9658774869856664, \"n\": 5341}, {\"threshold\": 0.24899999797344208, \"p\": 28046, \"fpr\": 0.35030893091181425, \"tpr\": 0.9658061755687085, \"n\": 5341}, {\"threshold\": 0.25, \"p\": 28046, \"fpr\": 0.34993446920052423, \"tpr\": 0.9657705198602297, \"n\": 5341}, {\"threshold\": 0.25099998712539673, \"p\": 28046, \"fpr\": 0.3495600074892342, \"tpr\": 0.9657348641517507, \"n\": 5341}, {\"threshold\": 0.25200000405311584, \"p\": 28046, \"fpr\": 0.34937277663358923, \"tpr\": 0.9656278970263139, \"n\": 5341}, {\"threshold\": 0.2529999911785126, \"p\": 28046, \"fpr\": 0.3489983149222992, \"tpr\": 0.9655565856093561, \"n\": 5341}, {\"threshold\": 0.2540000081062317, \"p\": 28046, \"fpr\": 0.3486238532110092, \"tpr\": 0.9655209299008771, \"n\": 5341}, {\"threshold\": 0.2549999952316284, \"p\": 28046, \"fpr\": 0.3482493914997192, \"tpr\": 0.9654852741923982, \"n\": 5341}, {\"threshold\": 0.25600001215934753, \"p\": 28046, \"fpr\": 0.34750046807713914, \"tpr\": 0.9654139627754403, \"n\": 5341}, {\"threshold\": 0.25699999928474426, \"p\": 28046, \"fpr\": 0.3471260063658491, \"tpr\": 0.9653783070669614, \"n\": 5341}, {\"threshold\": 0.257999986410141, \"p\": 28046, \"fpr\": 0.3469387755102041, \"tpr\": 0.9653069956500036, \"n\": 5341}, {\"threshold\": 0.2590000033378601, \"p\": 28046, \"fpr\": 0.345815390376334, \"tpr\": 0.9652713399415246, \"n\": 5341}, {\"threshold\": 0.25999999046325684, \"p\": 28046, \"fpr\": 0.345628159520689, \"tpr\": 0.9652000285245668, \"n\": 5341}, {\"threshold\": 0.26100000739097595, \"p\": 28046, \"fpr\": 0.345628159520689, \"tpr\": 0.965128717107609, \"n\": 5341}, {\"threshold\": 0.2619999945163727, \"p\": 28046, \"fpr\": 0.34525369780939896, \"tpr\": 0.965128717107609, \"n\": 5341}, {\"threshold\": 0.2630000114440918, \"p\": 28046, \"fpr\": 0.34469200524246396, \"tpr\": 0.9650574056906511, \"n\": 5341}, {\"threshold\": 0.2639999985694885, \"p\": 28046, \"fpr\": 0.34431754353117394, \"tpr\": 0.9649860942736932, \"n\": 5341}, {\"threshold\": 0.26499998569488525, \"p\": 28046, \"fpr\": 0.3437558509642389, \"tpr\": 0.9649504385652143, \"n\": 5341}, {\"threshold\": 0.26600000262260437, \"p\": 28046, \"fpr\": 0.3435686201085939, \"tpr\": 0.9647721600228196, \"n\": 5341}, {\"threshold\": 0.2669999897480011, \"p\": 28046, \"fpr\": 0.3426324658303688, \"tpr\": 0.9647365043143408, \"n\": 5341}, {\"threshold\": 0.2680000066757202, \"p\": 28046, \"fpr\": 0.3422580041190788, \"tpr\": 0.964593881480425, \"n\": 5341}, {\"threshold\": 0.26899999380111694, \"p\": 28046, \"fpr\": 0.3418835424077888, \"tpr\": 0.9645225700634672, \"n\": 5341}, {\"threshold\": 0.27000001072883606, \"p\": 28046, \"fpr\": 0.3416963115521438, \"tpr\": 0.9645225700634672, \"n\": 5341}, {\"threshold\": 0.2709999978542328, \"p\": 28046, \"fpr\": 0.34150908069649877, \"tpr\": 0.9643799472295514, \"n\": 5341}, {\"threshold\": 0.2720000147819519, \"p\": 28046, \"fpr\": 0.34057292641827375, \"tpr\": 0.9643799472295514, \"n\": 5341}, {\"threshold\": 0.27300000190734863, \"p\": 28046, \"fpr\": 0.3400112338513387, \"tpr\": 0.9642729801041147, \"n\": 5341}, {\"threshold\": 0.27399998903274536, \"p\": 28046, \"fpr\": 0.3394495412844037, \"tpr\": 0.9642016686871568, \"n\": 5341}, {\"threshold\": 0.2750000059604645, \"p\": 28046, \"fpr\": 0.33907507957311367, \"tpr\": 0.9640590458532411, \"n\": 5341}, {\"threshold\": 0.2759999930858612, \"p\": 28046, \"fpr\": 0.33870061786182365, \"tpr\": 0.9640233901447621, \"n\": 5341}, {\"threshold\": 0.2770000100135803, \"p\": 28046, \"fpr\": 0.33832615615053363, \"tpr\": 0.9639877344362833, \"n\": 5341}, {\"threshold\": 0.27799999713897705, \"p\": 28046, \"fpr\": 0.3379516944392436, \"tpr\": 0.9639520787278043, \"n\": 5341}, {\"threshold\": 0.27900001406669617, \"p\": 28046, \"fpr\": 0.33739000187230855, \"tpr\": 0.9639164230193253, \"n\": 5341}, {\"threshold\": 0.2800000011920929, \"p\": 28046, \"fpr\": 0.33720277101666357, \"tpr\": 0.9639164230193253, \"n\": 5341}, {\"threshold\": 0.2809999883174896, \"p\": 28046, \"fpr\": 0.33682830930537355, \"tpr\": 0.9638094558938887, \"n\": 5341}, {\"threshold\": 0.28200000524520874, \"p\": 28046, \"fpr\": 0.33682830930537355, \"tpr\": 0.9637738001854097, \"n\": 5341}, {\"threshold\": 0.28299999237060547, \"p\": 28046, \"fpr\": 0.3358921550271485, \"tpr\": 0.9636668330599729, \"n\": 5341}, {\"threshold\": 0.2840000092983246, \"p\": 28046, \"fpr\": 0.33551769331585846, \"tpr\": 0.9635598659345361, \"n\": 5341}, {\"threshold\": 0.2849999964237213, \"p\": 28046, \"fpr\": 0.3349560007489234, \"tpr\": 0.9634172431006204, \"n\": 5341}, {\"threshold\": 0.28600001335144043, \"p\": 28046, \"fpr\": 0.3347687698932784, \"tpr\": 0.9633459316836626, \"n\": 5341}, {\"threshold\": 0.28700000047683716, \"p\": 28046, \"fpr\": 0.33420707732634336, \"tpr\": 0.963167653141268, \"n\": 5341}, {\"threshold\": 0.2879999876022339, \"p\": 28046, \"fpr\": 0.33364538475940836, \"tpr\": 0.9630606860158312, \"n\": 5341}, {\"threshold\": 0.289000004529953, \"p\": 28046, \"fpr\": 0.33327092304811834, \"tpr\": 0.9629537188903944, \"n\": 5341}, {\"threshold\": 0.28999999165534973, \"p\": 28046, \"fpr\": 0.3328964613368283, \"tpr\": 0.9628110960564786, \"n\": 5341}, {\"threshold\": 0.29100000858306885, \"p\": 28046, \"fpr\": 0.33233476876989326, \"tpr\": 0.9627397846395208, \"n\": 5341}, {\"threshold\": 0.2919999957084656, \"p\": 28046, \"fpr\": 0.33196030705860324, \"tpr\": 0.962632817514084, \"n\": 5341}, {\"threshold\": 0.2930000126361847, \"p\": 28046, \"fpr\": 0.33139861449166824, \"tpr\": 0.9625258503886472, \"n\": 5341}, {\"threshold\": 0.2939999997615814, \"p\": 28046, \"fpr\": 0.33139861449166824, \"tpr\": 0.9623832275547315, \"n\": 5341}, {\"threshold\": 0.29499998688697815, \"p\": 28046, \"fpr\": 0.3312113836360232, \"tpr\": 0.9622406047208159, \"n\": 5341}, {\"threshold\": 0.29600000381469727, \"p\": 28046, \"fpr\": 0.3306496910690882, \"tpr\": 0.9622049490123369, \"n\": 5341}, {\"threshold\": 0.296999990940094, \"p\": 28046, \"fpr\": 0.32990076764650816, \"tpr\": 0.9620979818869001, \"n\": 5341}, {\"threshold\": 0.2980000078678131, \"p\": 28046, \"fpr\": 0.3297135367908631, \"tpr\": 0.9619910147614633, \"n\": 5341}, {\"threshold\": 0.29899999499320984, \"p\": 28046, \"fpr\": 0.3291518442239281, \"tpr\": 0.9619553590529843, \"n\": 5341}, {\"threshold\": 0.30000001192092896, \"p\": 28046, \"fpr\": 0.3291518442239281, \"tpr\": 0.9617770805105897, \"n\": 5341}, {\"threshold\": 0.3009999990463257, \"p\": 28046, \"fpr\": 0.3284029208013481, \"tpr\": 0.9617414248021108, \"n\": 5341}, {\"threshold\": 0.3019999861717224, \"p\": 28046, \"fpr\": 0.32821568994570305, \"tpr\": 0.961634457676674, \"n\": 5341}, {\"threshold\": 0.30300000309944153, \"p\": 28046, \"fpr\": 0.32765399737876805, \"tpr\": 0.961634457676674, \"n\": 5341}, {\"threshold\": 0.30399999022483826, \"p\": 28046, \"fpr\": 0.327092304811833, \"tpr\": 0.9615631462597162, \"n\": 5341}, {\"threshold\": 0.3050000071525574, \"p\": 28046, \"fpr\": 0.32653061224489793, \"tpr\": 0.9614918348427584, \"n\": 5341}, {\"threshold\": 0.3059999942779541, \"p\": 28046, \"fpr\": 0.32596891967796293, \"tpr\": 0.9613848677173216, \"n\": 5341}, {\"threshold\": 0.3070000112056732, \"p\": 28046, \"fpr\": 0.32596891967796293, \"tpr\": 0.9613135563003636, \"n\": 5341}, {\"threshold\": 0.30799999833106995, \"p\": 28046, \"fpr\": 0.3255944579666729, \"tpr\": 0.9613135563003636, \"n\": 5341}, {\"threshold\": 0.3089999854564667, \"p\": 28046, \"fpr\": 0.32465830368844784, \"tpr\": 0.9612779005918848, \"n\": 5341}, {\"threshold\": 0.3100000023841858, \"p\": 28046, \"fpr\": 0.32447107283280285, \"tpr\": 0.9610996220494902, \"n\": 5341}, {\"threshold\": 0.3109999895095825, \"p\": 28046, \"fpr\": 0.3237221494102228, \"tpr\": 0.9610996220494902, \"n\": 5341}, {\"threshold\": 0.31200000643730164, \"p\": 28046, \"fpr\": 0.3235349185545778, \"tpr\": 0.9609926549240534, \"n\": 5341}, {\"threshold\": 0.31299999356269836, \"p\": 28046, \"fpr\": 0.32316045684328776, \"tpr\": 0.9608856877986166, \"n\": 5341}, {\"threshold\": 0.3140000104904175, \"p\": 28046, \"fpr\": 0.32259876427635276, \"tpr\": 0.9608856877986166, \"n\": 5341}, {\"threshold\": 0.3149999976158142, \"p\": 28046, \"fpr\": 0.3214753791424827, \"tpr\": 0.9608500320901376, \"n\": 5341}, {\"threshold\": 0.3160000145435333, \"p\": 28046, \"fpr\": 0.3211009174311927, \"tpr\": 0.9607074092562219, \"n\": 5341}, {\"threshold\": 0.31700000166893005, \"p\": 28046, \"fpr\": 0.32035199400861264, \"tpr\": 0.9605647864223062, \"n\": 5341}, {\"threshold\": 0.3179999887943268, \"p\": 28046, \"fpr\": 0.3201647631529676, \"tpr\": 0.9604934750053483, \"n\": 5341}, {\"threshold\": 0.3190000057220459, \"p\": 28046, \"fpr\": 0.3197903014416776, \"tpr\": 0.9603865078799115, \"n\": 5341}, {\"threshold\": 0.3199999928474426, \"p\": 28046, \"fpr\": 0.3196030705860326, \"tpr\": 0.9602795407544747, \"n\": 5341}, {\"threshold\": 0.32100000977516174, \"p\": 28046, \"fpr\": 0.31941583973038756, \"tpr\": 0.960172573629038, \"n\": 5341}, {\"threshold\": 0.32199999690055847, \"p\": 28046, \"fpr\": 0.31904137801909754, \"tpr\": 0.9599586393781644, \"n\": 5341}, {\"threshold\": 0.3230000138282776, \"p\": 28046, \"fpr\": 0.31885414716345256, \"tpr\": 0.9599586393781644, \"n\": 5341}, {\"threshold\": 0.3240000009536743, \"p\": 28046, \"fpr\": 0.3186669163078075, \"tpr\": 0.9598873279612066, \"n\": 5341}, {\"threshold\": 0.32499998807907104, \"p\": 28046, \"fpr\": 0.3182924545965175, \"tpr\": 0.9598160165442488, \"n\": 5341}, {\"threshold\": 0.32600000500679016, \"p\": 28046, \"fpr\": 0.3179179928852275, \"tpr\": 0.959709049418812, \"n\": 5341}, {\"threshold\": 0.3269999921321869, \"p\": 28046, \"fpr\": 0.31754353117393747, \"tpr\": 0.959673393710333, \"n\": 5341}, {\"threshold\": 0.328000009059906, \"p\": 28046, \"fpr\": 0.3164201460400674, \"tpr\": 0.9596377380018541, \"n\": 5341}, {\"threshold\": 0.32899999618530273, \"p\": 28046, \"fpr\": 0.31567122261748737, \"tpr\": 0.9596020822933752, \"n\": 5341}, {\"threshold\": 0.33000001311302185, \"p\": 28046, \"fpr\": 0.31492229919490733, \"tpr\": 0.9595307708764174, \"n\": 5341}, {\"threshold\": 0.3310000002384186, \"p\": 28046, \"fpr\": 0.3145478374836173, \"tpr\": 0.9594951151679384, \"n\": 5341}, {\"threshold\": 0.3319999873638153, \"p\": 28046, \"fpr\": 0.31436060662797227, \"tpr\": 0.9593881480425016, \"n\": 5341}, {\"threshold\": 0.3330000042915344, \"p\": 28046, \"fpr\": 0.3141733757723273, \"tpr\": 0.9593168366255438, \"n\": 5341}, {\"threshold\": 0.33399999141693115, \"p\": 28046, \"fpr\": 0.3132372214941022, \"tpr\": 0.9593168366255438, \"n\": 5341}, {\"threshold\": 0.33500000834465027, \"p\": 28046, \"fpr\": 0.31304999063845723, \"tpr\": 0.9592455252085859, \"n\": 5341}, {\"threshold\": 0.335999995470047, \"p\": 28046, \"fpr\": 0.3126755289271672, \"tpr\": 0.959209869500107, \"n\": 5341}, {\"threshold\": 0.3370000123977661, \"p\": 28046, \"fpr\": 0.3123010672158772, \"tpr\": 0.9590672466661913, \"n\": 5341}, {\"threshold\": 0.33799999952316284, \"p\": 28046, \"fpr\": 0.3119266055045872, \"tpr\": 0.9589602795407545, \"n\": 5341}, {\"threshold\": 0.33899998664855957, \"p\": 28046, \"fpr\": 0.31155214379329715, \"tpr\": 0.9589246238322755, \"n\": 5341}, {\"threshold\": 0.3400000035762787, \"p\": 28046, \"fpr\": 0.3106159895150721, \"tpr\": 0.9587820009983599, \"n\": 5341}, {\"threshold\": 0.3409999907016754, \"p\": 28046, \"fpr\": 0.3104287586594271, \"tpr\": 0.9587106895814019, \"n\": 5341}, {\"threshold\": 0.34200000762939453, \"p\": 28046, \"fpr\": 0.30967983523684706, \"tpr\": 0.9586037224559651, \"n\": 5341}, {\"threshold\": 0.34299999475479126, \"p\": 28046, \"fpr\": 0.30967983523684706, \"tpr\": 0.9584967553305285, \"n\": 5341}, {\"threshold\": 0.3440000116825104, \"p\": 28046, \"fpr\": 0.309492604381202, \"tpr\": 0.9582828210796549, \"n\": 5341}, {\"threshold\": 0.3449999988079071, \"p\": 28046, \"fpr\": 0.308930911814267, \"tpr\": 0.958211509662697, \"n\": 5341}, {\"threshold\": 0.34599998593330383, \"p\": 28046, \"fpr\": 0.308743680958622, \"tpr\": 0.9581758539542181, \"n\": 5341}, {\"threshold\": 0.34700000286102295, \"p\": 28046, \"fpr\": 0.30799475753604194, \"tpr\": 0.9580332311203024, \"n\": 5341}, {\"threshold\": 0.3479999899864197, \"p\": 28046, \"fpr\": 0.3078075266803969, \"tpr\": 0.9579975754118234, \"n\": 5341}, {\"threshold\": 0.3490000069141388, \"p\": 28046, \"fpr\": 0.3076202958247519, \"tpr\": 0.9579262639948656, \"n\": 5341}, {\"threshold\": 0.3499999940395355, \"p\": 28046, \"fpr\": 0.3076202958247519, \"tpr\": 0.9578549525779078, \"n\": 5341}, {\"threshold\": 0.35100001096725464, \"p\": 28046, \"fpr\": 0.30668414154652685, \"tpr\": 0.9577836411609498, \"n\": 5341}, {\"threshold\": 0.35199999809265137, \"p\": 28046, \"fpr\": 0.30649691069088186, \"tpr\": 0.957747985452471, \"n\": 5341}, {\"threshold\": 0.3529999852180481, \"p\": 28046, \"fpr\": 0.3059352181239468, \"tpr\": 0.9576053626185552, \"n\": 5341}, {\"threshold\": 0.3540000021457672, \"p\": 28046, \"fpr\": 0.3057479872683018, \"tpr\": 0.9575340512015974, \"n\": 5341}, {\"threshold\": 0.35499998927116394, \"p\": 28046, \"fpr\": 0.3057479872683018, \"tpr\": 0.9573914283676817, \"n\": 5341}, {\"threshold\": 0.35600000619888306, \"p\": 28046, \"fpr\": 0.3055607564126568, \"tpr\": 0.9573914283676817, \"n\": 5341}, {\"threshold\": 0.3569999933242798, \"p\": 28046, \"fpr\": 0.3049990638457218, \"tpr\": 0.9572844612422449, \"n\": 5341}, {\"threshold\": 0.3580000102519989, \"p\": 28046, \"fpr\": 0.30481183299007675, \"tpr\": 0.957213149825287, \"n\": 5341}, {\"threshold\": 0.35899999737739563, \"p\": 28046, \"fpr\": 0.30481183299007675, \"tpr\": 0.9571061826998503, \"n\": 5341}, {\"threshold\": 0.36000001430511475, \"p\": 28046, \"fpr\": 0.3040629095674967, \"tpr\": 0.9570705269913713, \"n\": 5341}, {\"threshold\": 0.3610000014305115, \"p\": 28046, \"fpr\": 0.3038756787118517, \"tpr\": 0.9569635598659345, \"n\": 5341}, {\"threshold\": 0.3619999885559082, \"p\": 28046, \"fpr\": 0.3036884478562067, \"tpr\": 0.9568922484489767, \"n\": 5341}, {\"threshold\": 0.3630000054836273, \"p\": 28046, \"fpr\": 0.30331398614491667, \"tpr\": 0.9567852813235399, \"n\": 5341}, {\"threshold\": 0.36399999260902405, \"p\": 28046, \"fpr\": 0.30331398614491667, \"tpr\": 0.9567496256150609, \"n\": 5341}, {\"threshold\": 0.36500000953674316, \"p\": 28046, \"fpr\": 0.30293952443362665, \"tpr\": 0.9566783141981031, \"n\": 5341}, {\"threshold\": 0.3659999966621399, \"p\": 28046, \"fpr\": 0.30256506272233663, \"tpr\": 0.9566070027811453, \"n\": 5341}, {\"threshold\": 0.367000013589859, \"p\": 28046, \"fpr\": 0.3021906010110466, \"tpr\": 0.9565713470726663, \"n\": 5341}, {\"threshold\": 0.36800000071525574, \"p\": 28046, \"fpr\": 0.3021906010110466, \"tpr\": 0.9563930685302717, \"n\": 5341}, {\"threshold\": 0.36899998784065247, \"p\": 28046, \"fpr\": 0.3021906010110466, \"tpr\": 0.956214789987877, \"n\": 5341}, {\"threshold\": 0.3700000047683716, \"p\": 28046, \"fpr\": 0.30200337015540163, \"tpr\": 0.9561791342793982, \"n\": 5341}, {\"threshold\": 0.3709999918937683, \"p\": 28046, \"fpr\": 0.30200337015540163, \"tpr\": 0.9560721671539614, \"n\": 5341}, {\"threshold\": 0.3720000088214874, \"p\": 28046, \"fpr\": 0.3018161392997566, \"tpr\": 0.9560008557370034, \"n\": 5341}, {\"threshold\": 0.37299999594688416, \"p\": 28046, \"fpr\": 0.3012544467328216, \"tpr\": 0.9560008557370034, \"n\": 5341}, {\"threshold\": 0.37400001287460327, \"p\": 28046, \"fpr\": 0.30087998502153157, \"tpr\": 0.9560008557370034, \"n\": 5341}, {\"threshold\": 0.375, \"p\": 28046, \"fpr\": 0.30069275416588653, \"tpr\": 0.9558938886115668, \"n\": 5341}, {\"threshold\": 0.37599998712539673, \"p\": 28046, \"fpr\": 0.30013106159895153, \"tpr\": 0.9558938886115668, \"n\": 5341}, {\"threshold\": 0.37700000405311584, \"p\": 28046, \"fpr\": 0.2999438307433065, \"tpr\": 0.9558225771946088, \"n\": 5341}, {\"threshold\": 0.3779999911785126, \"p\": 28046, \"fpr\": 0.2995693690320165, \"tpr\": 0.9555373315267774, \"n\": 5341}, {\"threshold\": 0.3790000081062317, \"p\": 28046, \"fpr\": 0.2990076764650814, \"tpr\": 0.9555016758182985, \"n\": 5341}, {\"threshold\": 0.3799999952316284, \"p\": 28046, \"fpr\": 0.29882044560943644, \"tpr\": 0.9553590529843828, \"n\": 5341}, {\"threshold\": 0.38100001215934753, \"p\": 28046, \"fpr\": 0.2982587530425014, \"tpr\": 0.955252085858946, \"n\": 5341}, {\"threshold\": 0.38199999928474426, \"p\": 28046, \"fpr\": 0.29750982961992134, \"tpr\": 0.9551451187335093, \"n\": 5341}, {\"threshold\": 0.382999986410141, \"p\": 28046, \"fpr\": 0.29732259876427636, \"tpr\": 0.9549668401911146, \"n\": 5341}, {\"threshold\": 0.3840000033378601, \"p\": 28046, \"fpr\": 0.2971353679086313, \"tpr\": 0.9548242173571989, \"n\": 5341}, {\"threshold\": 0.38499999046325684, \"p\": 28046, \"fpr\": 0.2971353679086313, \"tpr\": 0.9547172502317621, \"n\": 5341}, {\"threshold\": 0.38600000739097595, \"p\": 28046, \"fpr\": 0.29601198277476126, \"tpr\": 0.9546459388148042, \"n\": 5341}, {\"threshold\": 0.3869999945163727, \"p\": 28046, \"fpr\": 0.29563752106347124, \"tpr\": 0.9546459388148042, \"n\": 5341}, {\"threshold\": 0.3880000114440918, \"p\": 28046, \"fpr\": 0.2947013667852462, \"tpr\": 0.9545033159808886, \"n\": 5341}, {\"threshold\": 0.3889999985694885, \"p\": 28046, \"fpr\": 0.2939524433626662, \"tpr\": 0.9544320045639307, \"n\": 5341}, {\"threshold\": 0.38999998569488525, \"p\": 28046, \"fpr\": 0.29376521250702115, \"tpr\": 0.9543606931469728, \"n\": 5341}, {\"threshold\": 0.39100000262260437, \"p\": 28046, \"fpr\": 0.29320351994008614, \"tpr\": 0.954289381730015, \"n\": 5341}, {\"threshold\": 0.3919999897480011, \"p\": 28046, \"fpr\": 0.2928290582287961, \"tpr\": 0.9541824146045782, \"n\": 5341}, {\"threshold\": 0.3930000066757202, \"p\": 28046, \"fpr\": 0.2920801348062161, \"tpr\": 0.9539684803537046, \"n\": 5341}, {\"threshold\": 0.39399999380111694, \"p\": 28046, \"fpr\": 0.29170567309492607, \"tpr\": 0.9539328246452257, \"n\": 5341}, {\"threshold\": 0.39500001072883606, \"p\": 28046, \"fpr\": 0.29151844223928103, \"tpr\": 0.9537545461028311, \"n\": 5341}, {\"threshold\": 0.3959999978542328, \"p\": 28046, \"fpr\": 0.291143980527991, \"tpr\": 0.9536832346858732, \"n\": 5341}, {\"threshold\": 0.3970000147819519, \"p\": 28046, \"fpr\": 0.290582287961056, \"tpr\": 0.9536119232689153, \"n\": 5341}, {\"threshold\": 0.39800000190734863, \"p\": 28046, \"fpr\": 0.290207826249766, \"tpr\": 0.9535762675604365, \"n\": 5341}, {\"threshold\": 0.39899998903274536, \"p\": 28046, \"fpr\": 0.290207826249766, \"tpr\": 0.9535049561434785, \"n\": 5341}, {\"threshold\": 0.4000000059604645, \"p\": 28046, \"fpr\": 0.28964613368283093, \"tpr\": 0.9533979890180417, \"n\": 5341}, {\"threshold\": 0.4009999930858612, \"p\": 28046, \"fpr\": 0.28870997940460585, \"tpr\": 0.953291021892605, \"n\": 5341}, {\"threshold\": 0.4020000100135803, \"p\": 28046, \"fpr\": 0.28814828683767085, \"tpr\": 0.9531483990586893, \"n\": 5341}, {\"threshold\": 0.40299999713897705, \"p\": 28046, \"fpr\": 0.2875865942707358, \"tpr\": 0.9530414319332525, \"n\": 5341}, {\"threshold\": 0.40400001406669617, \"p\": 28046, \"fpr\": 0.2875865942707358, \"tpr\": 0.9530057762247736, \"n\": 5341}, {\"threshold\": 0.4050000011920929, \"p\": 28046, \"fpr\": 0.2875865942707358, \"tpr\": 0.9530057762247736, \"n\": 5341}, {\"threshold\": 0.4059999883174896, \"p\": 28046, \"fpr\": 0.2873993634150908, \"tpr\": 0.9529701205162947, \"n\": 5341}, {\"threshold\": 0.40700000524520874, \"p\": 28046, \"fpr\": 0.2872121325594458, \"tpr\": 0.9529701205162947, \"n\": 5341}, {\"threshold\": 0.40799999237060547, \"p\": 28046, \"fpr\": 0.2866504399925108, \"tpr\": 0.9528631533908579, \"n\": 5341}, {\"threshold\": 0.4090000092983246, \"p\": 28046, \"fpr\": 0.28627597828122076, \"tpr\": 0.9527918419739, \"n\": 5341}, {\"threshold\": 0.4099999964237213, \"p\": 28046, \"fpr\": 0.2860887474255757, \"tpr\": 0.9527561862654211, \"n\": 5341}, {\"threshold\": 0.41100001335144043, \"p\": 28046, \"fpr\": 0.28590151656993074, \"tpr\": 0.9525065963060686, \"n\": 5341}, {\"threshold\": 0.41200000047683716, \"p\": 28046, \"fpr\": 0.2853398240029957, \"tpr\": 0.9524709405975896, \"n\": 5341}, {\"threshold\": 0.4129999876022339, \"p\": 28046, \"fpr\": 0.28496536229170566, \"tpr\": 0.9523996291806318, \"n\": 5341}, {\"threshold\": 0.414000004529953, \"p\": 28046, \"fpr\": 0.28440366972477066, \"tpr\": 0.952328317763674, \"n\": 5341}, {\"threshold\": 0.41499999165534973, \"p\": 28046, \"fpr\": 0.28440366972477066, \"tpr\": 0.952292662055195, \"n\": 5341}, {\"threshold\": 0.41600000858306885, \"p\": 28046, \"fpr\": 0.28402920801348064, \"tpr\": 0.9522213506382372, \"n\": 5341}, {\"threshold\": 0.4169999957084656, \"p\": 28046, \"fpr\": 0.2834675154465456, \"tpr\": 0.9521500392212793, \"n\": 5341}, {\"threshold\": 0.4180000126361847, \"p\": 28046, \"fpr\": 0.2834675154465456, \"tpr\": 0.9520430720958425, \"n\": 5341}, {\"threshold\": 0.4189999997615814, \"p\": 28046, \"fpr\": 0.2829058228796106, \"tpr\": 0.9519717606788847, \"n\": 5341}, {\"threshold\": 0.41999998688697815, \"p\": 28046, \"fpr\": 0.2829058228796106, \"tpr\": 0.9519361049704058, \"n\": 5341}, {\"threshold\": 0.42100000381469727, \"p\": 28046, \"fpr\": 0.28253136116832056, \"tpr\": 0.9518647935534479, \"n\": 5341}, {\"threshold\": 0.421999990940094, \"p\": 28046, \"fpr\": 0.2823441303126755, \"tpr\": 0.9517578264280111, \"n\": 5341}, {\"threshold\": 0.4230000078678131, \"p\": 28046, \"fpr\": 0.28215689945703054, \"tpr\": 0.9516508593025743, \"n\": 5341}, {\"threshold\": 0.42399999499320984, \"p\": 28046, \"fpr\": 0.28215689945703054, \"tpr\": 0.9515438921771375, \"n\": 5341}, {\"threshold\": 0.42500001192092896, \"p\": 28046, \"fpr\": 0.2819696686013855, \"tpr\": 0.9515082364686587, \"n\": 5341}, {\"threshold\": 0.4259999990463257, \"p\": 28046, \"fpr\": 0.2814079760344505, \"tpr\": 0.9514369250517007, \"n\": 5341}, {\"threshold\": 0.4269999861717224, \"p\": 28046, \"fpr\": 0.28084628346751545, \"tpr\": 0.9514012693432219, \"n\": 5341}, {\"threshold\": 0.42800000309944153, \"p\": 28046, \"fpr\": 0.27991012918929037, \"tpr\": 0.9512229908008272, \"n\": 5341}, {\"threshold\": 0.42899999022483826, \"p\": 28046, \"fpr\": 0.27934843662235537, \"tpr\": 0.9510803679669115, \"n\": 5341}, {\"threshold\": 0.4300000071525574, \"p\": 28046, \"fpr\": 0.2787867440554203, \"tpr\": 0.9510090565499536, \"n\": 5341}, {\"threshold\": 0.4309999942779541, \"p\": 28046, \"fpr\": 0.2784122823441303, \"tpr\": 0.9509377451329958, \"n\": 5341}, {\"threshold\": 0.4320000112056732, \"p\": 28046, \"fpr\": 0.27766335892155025, \"tpr\": 0.950866433716038, \"n\": 5341}, {\"threshold\": 0.43299999833106995, \"p\": 28046, \"fpr\": 0.27728889721026023, \"tpr\": 0.95079512229908, \"n\": 5341}, {\"threshold\": 0.4339999854564667, \"p\": 28046, \"fpr\": 0.27710166635461525, \"tpr\": 0.9507594665906012, \"n\": 5341}, {\"threshold\": 0.4350000023841858, \"p\": 28046, \"fpr\": 0.27672720464332523, \"tpr\": 0.9507594665906012, \"n\": 5341}, {\"threshold\": 0.4359999895095825, \"p\": 28046, \"fpr\": 0.27672720464332523, \"tpr\": 0.9506524994651644, \"n\": 5341}, {\"threshold\": 0.43700000643730164, \"p\": 28046, \"fpr\": 0.2763527429320352, \"tpr\": 0.9505455323397276, \"n\": 5341}, {\"threshold\": 0.43799999356269836, \"p\": 28046, \"fpr\": 0.27579105036510015, \"tpr\": 0.9505098766312486, \"n\": 5341}, {\"threshold\": 0.4390000104904175, \"p\": 28046, \"fpr\": 0.27579105036510015, \"tpr\": 0.9504742209227698, \"n\": 5341}, {\"threshold\": 0.4399999976158142, \"p\": 28046, \"fpr\": 0.27522935779816515, \"tpr\": 0.950331598088854, \"n\": 5341}, {\"threshold\": 0.4410000145435333, \"p\": 28046, \"fpr\": 0.27522935779816515, \"tpr\": 0.9502246309634172, \"n\": 5341}, {\"threshold\": 0.44200000166893005, \"p\": 28046, \"fpr\": 0.2750421269425201, \"tpr\": 0.9500820081295015, \"n\": 5341}, {\"threshold\": 0.4429999887943268, \"p\": 28046, \"fpr\": 0.27485489608687513, \"tpr\": 0.9500463524210226, \"n\": 5341}, {\"threshold\": 0.4440000057220459, \"p\": 28046, \"fpr\": 0.27391874180865006, \"tpr\": 0.9500106967125437, \"n\": 5341}, {\"threshold\": 0.4449999928474426, \"p\": 28046, \"fpr\": 0.27335704924171506, \"tpr\": 0.9499393852955859, \"n\": 5341}, {\"threshold\": 0.44600000977516174, \"p\": 28046, \"fpr\": 0.27298258753042504, \"tpr\": 0.9498324181701491, \"n\": 5341}, {\"threshold\": 0.44699999690055847, \"p\": 28046, \"fpr\": 0.272608125819135, \"tpr\": 0.9497967624616701, \"n\": 5341}, {\"threshold\": 0.4480000138282776, \"p\": 28046, \"fpr\": 0.27242089496349, \"tpr\": 0.9496184839192755, \"n\": 5341}, {\"threshold\": 0.4490000009536743, \"p\": 28046, \"fpr\": 0.272233664107845, \"tpr\": 0.9494758610853598, \"n\": 5341}, {\"threshold\": 0.44999998807907104, \"p\": 28046, \"fpr\": 0.27167197154090994, \"tpr\": 0.9494045496684019, \"n\": 5341}, {\"threshold\": 0.45100000500679016, \"p\": 28046, \"fpr\": 0.2709230481183299, \"tpr\": 0.9492975825429651, \"n\": 5341}, {\"threshold\": 0.4519999921321869, \"p\": 28046, \"fpr\": 0.2709230481183299, \"tpr\": 0.9491549597090494, \"n\": 5341}, {\"threshold\": 0.453000009059906, \"p\": 28046, \"fpr\": 0.27036135555139484, \"tpr\": 0.9491193040005705, \"n\": 5341}, {\"threshold\": 0.45399999618530273, \"p\": 28046, \"fpr\": 0.27036135555139484, \"tpr\": 0.9490479925836126, \"n\": 5341}, {\"threshold\": 0.45500001311302185, \"p\": 28046, \"fpr\": 0.27017412469574986, \"tpr\": 0.9489766811666548, \"n\": 5341}, {\"threshold\": 0.4560000002384186, \"p\": 28046, \"fpr\": 0.2699868938401048, \"tpr\": 0.948869714041218, \"n\": 5341}, {\"threshold\": 0.4569999873638153, \"p\": 28046, \"fpr\": 0.26979966298445984, \"tpr\": 0.9486914354988234, \"n\": 5341}, {\"threshold\": 0.4580000042915344, \"p\": 28046, \"fpr\": 0.2696124321288148, \"tpr\": 0.9485131569564287, \"n\": 5341}, {\"threshold\": 0.45899999141693115, \"p\": 28046, \"fpr\": 0.2696124321288148, \"tpr\": 0.9484061898309919, \"n\": 5341}, {\"threshold\": 0.46000000834465027, \"p\": 28046, \"fpr\": 0.2692379704175248, \"tpr\": 0.9482279112885973, \"n\": 5341}, {\"threshold\": 0.460999995470047, \"p\": 28046, \"fpr\": 0.2690507395618798, \"tpr\": 0.9481565998716395, \"n\": 5341}, {\"threshold\": 0.4620000123977661, \"p\": 28046, \"fpr\": 0.26848904699494475, \"tpr\": 0.9479070099122869, \"n\": 5341}, {\"threshold\": 0.46299999952316284, \"p\": 28046, \"fpr\": 0.2681145852836547, \"tpr\": 0.9478356984953291, \"n\": 5341}, {\"threshold\": 0.46399998664855957, \"p\": 28046, \"fpr\": 0.26792735442800975, \"tpr\": 0.9477643870783713, \"n\": 5341}, {\"threshold\": 0.4650000035762787, \"p\": 28046, \"fpr\": 0.2677401235723647, \"tpr\": 0.9476217642444555, \"n\": 5341}, {\"threshold\": 0.4659999907016754, \"p\": 28046, \"fpr\": 0.2675528927167197, \"tpr\": 0.9475861085359766, \"n\": 5341}, {\"threshold\": 0.46700000762939453, \"p\": 28046, \"fpr\": 0.2671784310054297, \"tpr\": 0.9474791414105398, \"n\": 5341}, {\"threshold\": 0.46799999475479126, \"p\": 28046, \"fpr\": 0.26699120014978467, \"tpr\": 0.9473008628681452, \"n\": 5341}, {\"threshold\": 0.4690000116825104, \"p\": 28046, \"fpr\": 0.26624227672720463, \"tpr\": 0.9472652071596662, \"n\": 5341}, {\"threshold\": 0.4699999988079071, \"p\": 28046, \"fpr\": 0.2654933533046246, \"tpr\": 0.9472652071596662, \"n\": 5341}, {\"threshold\": 0.47099998593330383, \"p\": 28046, \"fpr\": 0.2654933533046246, \"tpr\": 0.9472295514511874, \"n\": 5341}, {\"threshold\": 0.47200000286102295, \"p\": 28046, \"fpr\": 0.2649316607376896, \"tpr\": 0.9470512729087927, \"n\": 5341}, {\"threshold\": 0.4729999899864197, \"p\": 28046, \"fpr\": 0.26474442988204455, \"tpr\": 0.946908650074877, \"n\": 5341}, {\"threshold\": 0.4740000069141388, \"p\": 28046, \"fpr\": 0.26380827560381953, \"tpr\": 0.946872994366398, \"n\": 5341}, {\"threshold\": 0.4749999940395355, \"p\": 28046, \"fpr\": 0.2636210447481745, \"tpr\": 0.9468373386579191, \"n\": 5341}, {\"threshold\": 0.47600001096725464, \"p\": 28046, \"fpr\": 0.2636210447481745, \"tpr\": 0.9466590601155245, \"n\": 5341}, {\"threshold\": 0.47699999809265137, \"p\": 28046, \"fpr\": 0.2634338138925295, \"tpr\": 0.9465520929900877, \"n\": 5341}, {\"threshold\": 0.4779999852180481, \"p\": 28046, \"fpr\": 0.2626848904699495, \"tpr\": 0.9464451258646509, \"n\": 5341}, {\"threshold\": 0.4790000021457672, \"p\": 28046, \"fpr\": 0.2626848904699495, \"tpr\": 0.9463738144476931, \"n\": 5341}, {\"threshold\": 0.47999998927116394, \"p\": 28046, \"fpr\": 0.26231042875865945, \"tpr\": 0.9462311916137773, \"n\": 5341}, {\"threshold\": 0.48100000619888306, \"p\": 28046, \"fpr\": 0.2617487361917244, \"tpr\": 0.9461598801968195, \"n\": 5341}, {\"threshold\": 0.4819999933242798, \"p\": 28046, \"fpr\": 0.26099981276914436, \"tpr\": 0.9461242244883405, \"n\": 5341}, {\"threshold\": 0.4830000102519989, \"p\": 28046, \"fpr\": 0.2608125819134993, \"tpr\": 0.9460529130713827, \"n\": 5341}, {\"threshold\": 0.48399999737739563, \"p\": 28046, \"fpr\": 0.2604381202022093, \"tpr\": 0.9458389788205092, \"n\": 5341}, {\"threshold\": 0.48500001430511475, \"p\": 28046, \"fpr\": 0.2600636584909193, \"tpr\": 0.9457676674035513, \"n\": 5341}, {\"threshold\": 0.4860000014305115, \"p\": 28046, \"fpr\": 0.2600636584909193, \"tpr\": 0.9456250445696356, \"n\": 5341}, {\"threshold\": 0.4869999885559082, \"p\": 28046, \"fpr\": 0.2598764276352743, \"tpr\": 0.945446766027241, \"n\": 5341}, {\"threshold\": 0.4880000054836273, \"p\": 28046, \"fpr\": 0.25931473506833924, \"tpr\": 0.945411110318762, \"n\": 5341}, {\"threshold\": 0.48899999260902405, \"p\": 28046, \"fpr\": 0.25931473506833924, \"tpr\": 0.9453041431933252, \"n\": 5341}, {\"threshold\": 0.49000000953674316, \"p\": 28046, \"fpr\": 0.2585658116457592, \"tpr\": 0.9452328317763674, \"n\": 5341}, {\"threshold\": 0.4909999966621399, \"p\": 28046, \"fpr\": 0.2581913499344692, \"tpr\": 0.9451971760678884, \"n\": 5341}, {\"threshold\": 0.492000013589859, \"p\": 28046, \"fpr\": 0.2580041190788242, \"tpr\": 0.9450902089424517, \"n\": 5341}, {\"threshold\": 0.49300000071525574, \"p\": 28046, \"fpr\": 0.2580041190788242, \"tpr\": 0.9450188975254938, \"n\": 5341}, {\"threshold\": 0.49399998784065247, \"p\": 28046, \"fpr\": 0.2580041190788242, \"tpr\": 0.9448762746915781, \"n\": 5341}, {\"threshold\": 0.4950000047683716, \"p\": 28046, \"fpr\": 0.25781688822317916, \"tpr\": 0.9447693075661413, \"n\": 5341}, {\"threshold\": 0.4959999918937683, \"p\": 28046, \"fpr\": 0.25781688822317916, \"tpr\": 0.9445910290237467, \"n\": 5341}, {\"threshold\": 0.4970000088214874, \"p\": 28046, \"fpr\": 0.2576296573675342, \"tpr\": 0.9444127504813521, \"n\": 5341}, {\"threshold\": 0.49799999594688416, \"p\": 28046, \"fpr\": 0.25744242651188914, \"tpr\": 0.9442701276474363, \"n\": 5341}, {\"threshold\": 0.49900001287460327, \"p\": 28046, \"fpr\": 0.25744242651188914, \"tpr\": 0.9440918491050417, \"n\": 5341}, {\"threshold\": 0.5, \"p\": 28046, \"fpr\": 0.25688073394495414, \"tpr\": 0.9439135705626471, \"n\": 5341}, {\"threshold\": 0.5009999871253967, \"p\": 28046, \"fpr\": 0.2565062722336641, \"tpr\": 0.9438422591456892, \"n\": 5341}, {\"threshold\": 0.5019999742507935, \"p\": 28046, \"fpr\": 0.2561318105223741, \"tpr\": 0.9438066034372103, \"n\": 5341}, {\"threshold\": 0.503000020980835, \"p\": 28046, \"fpr\": 0.25557011795543905, \"tpr\": 0.9436996363117736, \"n\": 5341}, {\"threshold\": 0.5040000081062317, \"p\": 28046, \"fpr\": 0.255195656244149, \"tpr\": 0.9435570134778578, \"n\": 5341}, {\"threshold\": 0.5049999952316284, \"p\": 28046, \"fpr\": 0.255195656244149, \"tpr\": 0.9434143906439421, \"n\": 5341}, {\"threshold\": 0.5059999823570251, \"p\": 28046, \"fpr\": 0.254446732821569, \"tpr\": 0.9433074235185053, \"n\": 5341}, {\"threshold\": 0.5070000290870667, \"p\": 28046, \"fpr\": 0.25407227111027897, \"tpr\": 0.9432004563930685, \"n\": 5341}, {\"threshold\": 0.5080000162124634, \"p\": 28046, \"fpr\": 0.25407227111027897, \"tpr\": 0.9430578335591528, \"n\": 5341}, {\"threshold\": 0.5090000033378601, \"p\": 28046, \"fpr\": 0.25369780939898895, \"tpr\": 0.9429508664337161, \"n\": 5341}, {\"threshold\": 0.5099999904632568, \"p\": 28046, \"fpr\": 0.2529488859764089, \"tpr\": 0.9429152107252371, \"n\": 5341}, {\"threshold\": 0.5109999775886536, \"p\": 28046, \"fpr\": 0.2523871934094739, \"tpr\": 0.9426656207658847, \"n\": 5341}, {\"threshold\": 0.5120000243186951, \"p\": 28046, \"fpr\": 0.25219996255382887, \"tpr\": 0.9426299650574057, \"n\": 5341}, {\"threshold\": 0.5130000114440918, \"p\": 28046, \"fpr\": 0.25182550084253885, \"tpr\": 0.9425586536404479, \"n\": 5341}, {\"threshold\": 0.5139999985694885, \"p\": 28046, \"fpr\": 0.25182550084253885, \"tpr\": 0.9423803750980532, \"n\": 5341}, {\"threshold\": 0.5149999856948853, \"p\": 28046, \"fpr\": 0.2508893465643138, \"tpr\": 0.9423447193895743, \"n\": 5341}, {\"threshold\": 0.515999972820282, \"p\": 28046, \"fpr\": 0.2507021157086688, \"tpr\": 0.9423090636810953, \"n\": 5341}, {\"threshold\": 0.5170000195503235, \"p\": 28046, \"fpr\": 0.2503276539973788, \"tpr\": 0.9422020965556586, \"n\": 5341}, {\"threshold\": 0.5180000066757202, \"p\": 28046, \"fpr\": 0.2503276539973788, \"tpr\": 0.9422020965556586, \"n\": 5341}, {\"threshold\": 0.5189999938011169, \"p\": 28046, \"fpr\": 0.2503276539973788, \"tpr\": 0.9421307851387007, \"n\": 5341}, {\"threshold\": 0.5199999809265137, \"p\": 28046, \"fpr\": 0.25014042314173374, \"tpr\": 0.9420951294302218, \"n\": 5341}, {\"threshold\": 0.5210000276565552, \"p\": 28046, \"fpr\": 0.24976596143044374, \"tpr\": 0.942023818013264, \"n\": 5341}, {\"threshold\": 0.5220000147819519, \"p\": 28046, \"fpr\": 0.24920426886350872, \"tpr\": 0.9418455394708692, \"n\": 5341}, {\"threshold\": 0.5230000019073486, \"p\": 28046, \"fpr\": 0.2488298071522187, \"tpr\": 0.9417385723454325, \"n\": 5341}, {\"threshold\": 0.5239999890327454, \"p\": 28046, \"fpr\": 0.24808088372963866, \"tpr\": 0.9416316052199957, \"n\": 5341}, {\"threshold\": 0.5249999761581421, \"p\": 28046, \"fpr\": 0.2475191911627036, \"tpr\": 0.94148898238608, \"n\": 5341}, {\"threshold\": 0.5260000228881836, \"p\": 28046, \"fpr\": 0.24714472945141358, \"tpr\": 0.9414176709691222, \"n\": 5341}, {\"threshold\": 0.5270000100135803, \"p\": 28046, \"fpr\": 0.24695749859576857, \"tpr\": 0.9412750481352065, \"n\": 5341}, {\"threshold\": 0.527999997138977, \"p\": 28046, \"fpr\": 0.24620857517318853, \"tpr\": 0.9411680810097697, \"n\": 5341}, {\"threshold\": 0.5289999842643738, \"p\": 28046, \"fpr\": 0.2456468826062535, \"tpr\": 0.9410254581758539, \"n\": 5341}, {\"threshold\": 0.5299999713897705, \"p\": 28046, \"fpr\": 0.24527242089496348, \"tpr\": 0.9409541467588961, \"n\": 5341}, {\"threshold\": 0.531000018119812, \"p\": 28046, \"fpr\": 0.24527242089496348, \"tpr\": 0.9408115239249804, \"n\": 5341}, {\"threshold\": 0.5320000052452087, \"p\": 28046, \"fpr\": 0.24489795918367346, \"tpr\": 0.9408115239249804, \"n\": 5341}, {\"threshold\": 0.5329999923706055, \"p\": 28046, \"fpr\": 0.24471072832802845, \"tpr\": 0.9407758682165015, \"n\": 5341}, {\"threshold\": 0.5339999794960022, \"p\": 28046, \"fpr\": 0.24433626661673843, \"tpr\": 0.9407045567995436, \"n\": 5341}, {\"threshold\": 0.5350000262260437, \"p\": 28046, \"fpr\": 0.2435873431941584, \"tpr\": 0.940526278257149, \"n\": 5341}, {\"threshold\": 0.5360000133514404, \"p\": 28046, \"fpr\": 0.24340011233851339, \"tpr\": 0.9404549668401911, \"n\": 5341}, {\"threshold\": 0.5370000004768372, \"p\": 28046, \"fpr\": 0.24321288148286838, \"tpr\": 0.9404193111317122, \"n\": 5341}, {\"threshold\": 0.5379999876022339, \"p\": 28046, \"fpr\": 0.24321288148286838, \"tpr\": 0.9402766882977964, \"n\": 5341}, {\"threshold\": 0.5389999747276306, \"p\": 28046, \"fpr\": 0.24302565062722337, \"tpr\": 0.9401697211723596, \"n\": 5341}, {\"threshold\": 0.5400000214576721, \"p\": 28046, \"fpr\": 0.24283841977157836, \"tpr\": 0.9401340654638808, \"n\": 5341}, {\"threshold\": 0.5410000085830688, \"p\": 28046, \"fpr\": 0.24265118891593335, \"tpr\": 0.9400984097554018, \"n\": 5341}, {\"threshold\": 0.5419999957084656, \"p\": 28046, \"fpr\": 0.24265118891593335, \"tpr\": 0.9399557869214862, \"n\": 5341}, {\"threshold\": 0.5429999828338623, \"p\": 28046, \"fpr\": 0.24227672720464333, \"tpr\": 0.9399201312130072, \"n\": 5341}, {\"threshold\": 0.5440000295639038, \"p\": 28046, \"fpr\": 0.2417150346377083, \"tpr\": 0.9398488197960494, \"n\": 5341}, {\"threshold\": 0.5450000166893005, \"p\": 28046, \"fpr\": 0.2417150346377083, \"tpr\": 0.9398131640875704, \"n\": 5341}, {\"threshold\": 0.5460000038146973, \"p\": 28046, \"fpr\": 0.24096611121512826, \"tpr\": 0.9397061969621336, \"n\": 5341}, {\"threshold\": 0.546999990940094, \"p\": 28046, \"fpr\": 0.24077888035948325, \"tpr\": 0.9396348855451758, \"n\": 5341}, {\"threshold\": 0.5479999780654907, \"p\": 28046, \"fpr\": 0.24059164950383824, \"tpr\": 0.9395635741282179, \"n\": 5341}, {\"threshold\": 0.5490000247955322, \"p\": 28046, \"fpr\": 0.2400299569369032, \"tpr\": 0.9393496398773443, \"n\": 5341}, {\"threshold\": 0.550000011920929, \"p\": 28046, \"fpr\": 0.2396554952256132, \"tpr\": 0.9392783284603865, \"n\": 5341}, {\"threshold\": 0.5509999990463257, \"p\": 28046, \"fpr\": 0.23928103351432317, \"tpr\": 0.9391713613349497, \"n\": 5341}, {\"threshold\": 0.5519999861717224, \"p\": 28046, \"fpr\": 0.23928103351432317, \"tpr\": 0.9391000499179919, \"n\": 5341}, {\"threshold\": 0.5529999732971191, \"p\": 28046, \"fpr\": 0.23890657180303315, \"tpr\": 0.9389930827925551, \"n\": 5341}, {\"threshold\": 0.5540000200271606, \"p\": 28046, \"fpr\": 0.23815764838045309, \"tpr\": 0.9388861156671183, \"n\": 5341}, {\"threshold\": 0.5550000071525574, \"p\": 28046, \"fpr\": 0.23778318666916307, \"tpr\": 0.9388148042501605, \"n\": 5341}, {\"threshold\": 0.5559999942779541, \"p\": 28046, \"fpr\": 0.23722149410222804, \"tpr\": 0.9386008699992869, \"n\": 5341}, {\"threshold\": 0.5569999814033508, \"p\": 28046, \"fpr\": 0.23684703239093802, \"tpr\": 0.9384582471653712, \"n\": 5341}, {\"threshold\": 0.5580000281333923, \"p\": 28046, \"fpr\": 0.236285339824003, \"tpr\": 0.9384582471653712, \"n\": 5341}, {\"threshold\": 0.5590000152587891, \"p\": 28046, \"fpr\": 0.236285339824003, \"tpr\": 0.9383156243314554, \"n\": 5341}, {\"threshold\": 0.5600000023841858, \"p\": 28046, \"fpr\": 0.236285339824003, \"tpr\": 0.9383156243314554, \"n\": 5341}, {\"threshold\": 0.5609999895095825, \"p\": 28046, \"fpr\": 0.23609810896835798, \"tpr\": 0.9381373457890608, \"n\": 5341}, {\"threshold\": 0.5619999766349792, \"p\": 28046, \"fpr\": 0.23553641640142295, \"tpr\": 0.9379947229551451, \"n\": 5341}, {\"threshold\": 0.5630000233650208, \"p\": 28046, \"fpr\": 0.23497472383448792, \"tpr\": 0.9379234115381873, \"n\": 5341}, {\"threshold\": 0.5640000104904175, \"p\": 28046, \"fpr\": 0.2347874929788429, \"tpr\": 0.9378521001212294, \"n\": 5341}, {\"threshold\": 0.5649999976158142, \"p\": 28046, \"fpr\": 0.2344130312675529, \"tpr\": 0.9376738215788347, \"n\": 5341}, {\"threshold\": 0.5659999847412109, \"p\": 28046, \"fpr\": 0.23422580041190788, \"tpr\": 0.9375668544533979, \"n\": 5341}, {\"threshold\": 0.5669999718666077, \"p\": 28046, \"fpr\": 0.23403856955626287, \"tpr\": 0.9375668544533979, \"n\": 5341}, {\"threshold\": 0.5680000185966492, \"p\": 28046, \"fpr\": 0.23347687698932784, \"tpr\": 0.9374955430364401, \"n\": 5341}, {\"threshold\": 0.5690000057220459, \"p\": 28046, \"fpr\": 0.23310241527803782, \"tpr\": 0.9373529202025245, \"n\": 5341}, {\"threshold\": 0.5699999928474426, \"p\": 28046, \"fpr\": 0.2329151844223928, \"tpr\": 0.9372459530770877, \"n\": 5341}, {\"threshold\": 0.5709999799728394, \"p\": 28046, \"fpr\": 0.2329151844223928, \"tpr\": 0.9371746416601298, \"n\": 5341}, {\"threshold\": 0.5720000267028809, \"p\": 28046, \"fpr\": 0.23235349185545778, \"tpr\": 0.9371033302431719, \"n\": 5341}, {\"threshold\": 0.5730000138282776, \"p\": 28046, \"fpr\": 0.23235349185545778, \"tpr\": 0.9370320188262141, \"n\": 5341}, {\"threshold\": 0.5740000009536743, \"p\": 28046, \"fpr\": 0.23216626099981277, \"tpr\": 0.9368537402838194, \"n\": 5341}, {\"threshold\": 0.574999988079071, \"p\": 28046, \"fpr\": 0.23141733757723273, \"tpr\": 0.9367824288668616, \"n\": 5341}, {\"threshold\": 0.5759999752044678, \"p\": 28046, \"fpr\": 0.23104287586594272, \"tpr\": 0.936604150324467, \"n\": 5341}, {\"threshold\": 0.5770000219345093, \"p\": 28046, \"fpr\": 0.23048118329900769, \"tpr\": 0.9364971831990302, \"n\": 5341}, {\"threshold\": 0.578000009059906, \"p\": 28046, \"fpr\": 0.23010672158771767, \"tpr\": 0.9364615274905512, \"n\": 5341}, {\"threshold\": 0.5789999961853027, \"p\": 28046, \"fpr\": 0.22991949073207266, \"tpr\": 0.9362832489481566, \"n\": 5341}, {\"threshold\": 0.5799999833106995, \"p\": 28046, \"fpr\": 0.22991949073207266, \"tpr\": 0.9361762818227198, \"n\": 5341}, {\"threshold\": 0.5809999704360962, \"p\": 28046, \"fpr\": 0.22917056730949262, \"tpr\": 0.936069314697283, \"n\": 5341}, {\"threshold\": 0.5820000171661377, \"p\": 28046, \"fpr\": 0.22823441303126754, \"tpr\": 0.9358553804464095, \"n\": 5341}, {\"threshold\": 0.5830000042915344, \"p\": 28046, \"fpr\": 0.22804718217562253, \"tpr\": 0.9357840690294517, \"n\": 5341}, {\"threshold\": 0.5839999914169312, \"p\": 28046, \"fpr\": 0.22785995131997752, \"tpr\": 0.9357484133209727, \"n\": 5341}, {\"threshold\": 0.5849999785423279, \"p\": 28046, \"fpr\": 0.2274854896086875, \"tpr\": 0.9356771019040149, \"n\": 5341}, {\"threshold\": 0.5860000252723694, \"p\": 28046, \"fpr\": 0.2272982587530425, \"tpr\": 0.9356057904870569, \"n\": 5341}, {\"threshold\": 0.5870000123977661, \"p\": 28046, \"fpr\": 0.22692379704175247, \"tpr\": 0.9355701347785781, \"n\": 5341}, {\"threshold\": 0.5879999995231628, \"p\": 28046, \"fpr\": 0.22673656618610746, \"tpr\": 0.9355344790700991, \"n\": 5341}, {\"threshold\": 0.5889999866485596, \"p\": 28046, \"fpr\": 0.22636210447481744, \"tpr\": 0.9354631676531413, \"n\": 5341}, {\"threshold\": 0.5899999737739563, \"p\": 28046, \"fpr\": 0.22598764276352742, \"tpr\": 0.9352848891107466, \"n\": 5341}, {\"threshold\": 0.5910000205039978, \"p\": 28046, \"fpr\": 0.22580041190788241, \"tpr\": 0.9352848891107466, \"n\": 5341}, {\"threshold\": 0.5920000076293945, \"p\": 28046, \"fpr\": 0.2256131810522374, \"tpr\": 0.9352492334022677, \"n\": 5341}, {\"threshold\": 0.5929999947547913, \"p\": 28046, \"fpr\": 0.22523871934094739, \"tpr\": 0.935142266276831, \"n\": 5341}, {\"threshold\": 0.593999981880188, \"p\": 28046, \"fpr\": 0.22467702677401236, \"tpr\": 0.935070954859873, \"n\": 5341}, {\"threshold\": 0.5950000286102295, \"p\": 28046, \"fpr\": 0.22392810335143232, \"tpr\": 0.9349283320259574, \"n\": 5341}, {\"threshold\": 0.5960000157356262, \"p\": 28046, \"fpr\": 0.2233664107844973, \"tpr\": 0.9348570206089996, \"n\": 5341}, {\"threshold\": 0.597000002861023, \"p\": 28046, \"fpr\": 0.22299194907320727, \"tpr\": 0.9347500534835628, \"n\": 5341}, {\"threshold\": 0.5979999899864197, \"p\": 28046, \"fpr\": 0.22243025650627224, \"tpr\": 0.934643086358126, \"n\": 5341}, {\"threshold\": 0.5989999771118164, \"p\": 28046, \"fpr\": 0.22205579479498222, \"tpr\": 0.9345361192326892, \"n\": 5341}, {\"threshold\": 0.6000000238418579, \"p\": 28046, \"fpr\": 0.2216813330836922, \"tpr\": 0.9344648078157313, \"n\": 5341}, {\"threshold\": 0.6010000109672546, \"p\": 28046, \"fpr\": 0.22130687137240218, \"tpr\": 0.9343221849818156, \"n\": 5341}, {\"threshold\": 0.6019999980926514, \"p\": 28046, \"fpr\": 0.22055794794982214, \"tpr\": 0.9342508735648577, \"n\": 5341}, {\"threshold\": 0.6029999852180481, \"p\": 28046, \"fpr\": 0.2198090245272421, \"tpr\": 0.9342152178563788, \"n\": 5341}, {\"threshold\": 0.6039999723434448, \"p\": 28046, \"fpr\": 0.21924733196030705, \"tpr\": 0.9341795621478999, \"n\": 5341}, {\"threshold\": 0.6050000190734863, \"p\": 28046, \"fpr\": 0.21868563939337202, \"tpr\": 0.9340012836055053, \"n\": 5341}, {\"threshold\": 0.6060000061988831, \"p\": 28046, \"fpr\": 0.218311177682082, \"tpr\": 0.9338230050631106, \"n\": 5341}, {\"threshold\": 0.6069999933242798, \"p\": 28046, \"fpr\": 0.218311177682082, \"tpr\": 0.9337160379376738, \"n\": 5341}, {\"threshold\": 0.6079999804496765, \"p\": 28046, \"fpr\": 0.21793671597079198, \"tpr\": 0.933609070812237, \"n\": 5341}, {\"threshold\": 0.609000027179718, \"p\": 28046, \"fpr\": 0.21774948511514697, \"tpr\": 0.9334664479783213, \"n\": 5341}, {\"threshold\": 0.6100000143051147, \"p\": 28046, \"fpr\": 0.21774948511514697, \"tpr\": 0.9334664479783213, \"n\": 5341}, {\"threshold\": 0.6110000014305115, \"p\": 28046, \"fpr\": 0.21756225425950196, \"tpr\": 0.9333238251444056, \"n\": 5341}, {\"threshold\": 0.6119999885559082, \"p\": 28046, \"fpr\": 0.21737502340385695, \"tpr\": 0.9332168580189688, \"n\": 5341}, {\"threshold\": 0.6129999756813049, \"p\": 28046, \"fpr\": 0.21718779254821194, \"tpr\": 0.9330742351850532, \"n\": 5341}, {\"threshold\": 0.6140000224113464, \"p\": 28046, \"fpr\": 0.21700056169256693, \"tpr\": 0.9329672680596164, \"n\": 5341}, {\"threshold\": 0.6150000095367432, \"p\": 28046, \"fpr\": 0.21681333083692192, \"tpr\": 0.9328246452257006, \"n\": 5341}, {\"threshold\": 0.6159999966621399, \"p\": 28046, \"fpr\": 0.2166260999812769, \"tpr\": 0.932646366683306, \"n\": 5341}, {\"threshold\": 0.6169999837875366, \"p\": 28046, \"fpr\": 0.2164388691256319, \"tpr\": 0.9324680881409113, \"n\": 5341}, {\"threshold\": 0.6179999709129333, \"p\": 28046, \"fpr\": 0.2164388691256319, \"tpr\": 0.9322541538900377, \"n\": 5341}, {\"threshold\": 0.6190000176429749, \"p\": 28046, \"fpr\": 0.2162516382699869, \"tpr\": 0.9320758753476431, \"n\": 5341}, {\"threshold\": 0.6200000047683716, \"p\": 28046, \"fpr\": 0.2162516382699869, \"tpr\": 0.9320045639306853, \"n\": 5341}, {\"threshold\": 0.6209999918937683, \"p\": 28046, \"fpr\": 0.21587717655869687, \"tpr\": 0.9317906296798117, \"n\": 5341}, {\"threshold\": 0.621999979019165, \"p\": 28046, \"fpr\": 0.21550271484740685, \"tpr\": 0.9316123511374171, \"n\": 5341}, {\"threshold\": 0.6230000257492065, \"p\": 28046, \"fpr\": 0.21531548399176184, \"tpr\": 0.9315410397204592, \"n\": 5341}, {\"threshold\": 0.6240000128746033, \"p\": 28046, \"fpr\": 0.2147537914248268, \"tpr\": 0.9313984168865436, \"n\": 5341}, {\"threshold\": 0.625, \"p\": 28046, \"fpr\": 0.21419209885789178, \"tpr\": 0.9312914497611068, \"n\": 5341}, {\"threshold\": 0.6259999871253967, \"p\": 28046, \"fpr\": 0.21419209885789178, \"tpr\": 0.93118448263567, \"n\": 5341}, {\"threshold\": 0.6269999742507935, \"p\": 28046, \"fpr\": 0.21381763714660176, \"tpr\": 0.9310775155102332, \"n\": 5341}, {\"threshold\": 0.628000020980835, \"p\": 28046, \"fpr\": 0.21344317543531174, \"tpr\": 0.9308279255508807, \"n\": 5341}, {\"threshold\": 0.6290000081062317, \"p\": 28046, \"fpr\": 0.21288148286837671, \"tpr\": 0.9305783355915282, \"n\": 5341}, {\"threshold\": 0.6299999952316284, \"p\": 28046, \"fpr\": 0.2126942520127317, \"tpr\": 0.9303644013406547, \"n\": 5341}, {\"threshold\": 0.6309999823570251, \"p\": 28046, \"fpr\": 0.2125070211570867, \"tpr\": 0.9300434999643443, \"n\": 5341}, {\"threshold\": 0.6320000290870667, \"p\": 28046, \"fpr\": 0.21231979030144169, \"tpr\": 0.9299721885473864, \"n\": 5341}, {\"threshold\": 0.6330000162124634, \"p\": 28046, \"fpr\": 0.21194532859015167, \"tpr\": 0.9298652214219496, \"n\": 5341}, {\"threshold\": 0.6340000033378601, \"p\": 28046, \"fpr\": 0.21175809773450666, \"tpr\": 0.9297582542965128, \"n\": 5341}, {\"threshold\": 0.6349999904632568, \"p\": 28046, \"fpr\": 0.21157086687886165, \"tpr\": 0.9295799757541182, \"n\": 5341}, {\"threshold\": 0.6359999775886536, \"p\": 28046, \"fpr\": 0.21138363602321664, \"tpr\": 0.9294016972117236, \"n\": 5341}, {\"threshold\": 0.6370000243186951, \"p\": 28046, \"fpr\": 0.2106347126006366, \"tpr\": 0.9293303857947658, \"n\": 5341}, {\"threshold\": 0.6380000114440918, \"p\": 28046, \"fpr\": 0.2104474817449916, \"tpr\": 0.9292590743778079, \"n\": 5341}, {\"threshold\": 0.6389999985694885, \"p\": 28046, \"fpr\": 0.21026025088934655, \"tpr\": 0.9290451401269343, \"n\": 5341}, {\"threshold\": 0.6399999856948853, \"p\": 28046, \"fpr\": 0.21026025088934655, \"tpr\": 0.9289738287099765, \"n\": 5341}, {\"threshold\": 0.640999972820282, \"p\": 28046, \"fpr\": 0.20969855832241152, \"tpr\": 0.9288312058760607, \"n\": 5341}, {\"threshold\": 0.6420000195503235, \"p\": 28046, \"fpr\": 0.2091368657554765, \"tpr\": 0.9287242387506239, \"n\": 5341}, {\"threshold\": 0.6430000066757202, \"p\": 28046, \"fpr\": 0.20876240404418647, \"tpr\": 0.9286529273336661, \"n\": 5341}, {\"threshold\": 0.6439999938011169, \"p\": 28046, \"fpr\": 0.20838794233289645, \"tpr\": 0.9286172716251871, \"n\": 5341}, {\"threshold\": 0.6449999809265137, \"p\": 28046, \"fpr\": 0.20838794233289645, \"tpr\": 0.9285103044997504, \"n\": 5341}, {\"threshold\": 0.6460000276565552, \"p\": 28046, \"fpr\": 0.20820071147725144, \"tpr\": 0.9284033373743136, \"n\": 5341}, {\"threshold\": 0.6470000147819519, \"p\": 28046, \"fpr\": 0.20820071147725144, \"tpr\": 0.9282963702488768, \"n\": 5341}, {\"threshold\": 0.6480000019073486, \"p\": 28046, \"fpr\": 0.20801348062160643, \"tpr\": 0.9282607145403979, \"n\": 5341}, {\"threshold\": 0.6489999890327454, \"p\": 28046, \"fpr\": 0.20763901891031641, \"tpr\": 0.9280111245810454, \"n\": 5341}, {\"threshold\": 0.6499999761581421, \"p\": 28046, \"fpr\": 0.2074517880546714, \"tpr\": 0.927761534621693, \"n\": 5341}, {\"threshold\": 0.6510000228881836, \"p\": 28046, \"fpr\": 0.20632840292080135, \"tpr\": 0.9275832560792983, \"n\": 5341}, {\"threshold\": 0.6520000100135803, \"p\": 28046, \"fpr\": 0.20632840292080135, \"tpr\": 0.9273693218284247, \"n\": 5341}, {\"threshold\": 0.652999997138977, \"p\": 28046, \"fpr\": 0.20595394120951133, \"tpr\": 0.9272980104114669, \"n\": 5341}, {\"threshold\": 0.6539999842643738, \"p\": 28046, \"fpr\": 0.20576671035386632, \"tpr\": 0.9271910432860301, \"n\": 5341}, {\"threshold\": 0.6549999713897705, \"p\": 28046, \"fpr\": 0.20501778693128628, \"tpr\": 0.9270484204521143, \"n\": 5341}, {\"threshold\": 0.656000018119812, \"p\": 28046, \"fpr\": 0.20464332521999626, \"tpr\": 0.9269057976181987, \"n\": 5341}, {\"threshold\": 0.6570000052452087, \"p\": 28046, \"fpr\": 0.20426886350870624, \"tpr\": 0.9267631747842829, \"n\": 5341}, {\"threshold\": 0.6579999923706055, \"p\": 28046, \"fpr\": 0.2037071709417712, \"tpr\": 0.9266205519503673, \"n\": 5341}, {\"threshold\": 0.6589999794960022, \"p\": 28046, \"fpr\": 0.2035199400861262, \"tpr\": 0.9264779291164515, \"n\": 5341}, {\"threshold\": 0.6600000262260437, \"p\": 28046, \"fpr\": 0.2033327092304812, \"tpr\": 0.9264422734079726, \"n\": 5341}, {\"threshold\": 0.6610000133514404, \"p\": 28046, \"fpr\": 0.20295824751919117, \"tpr\": 0.926263994865578, \"n\": 5341}, {\"threshold\": 0.6620000004768372, \"p\": 28046, \"fpr\": 0.20295824751919117, \"tpr\": 0.9261213720316622, \"n\": 5341}, {\"threshold\": 0.6629999876022339, \"p\": 28046, \"fpr\": 0.20258378580790115, \"tpr\": 0.9259430934892676, \"n\": 5341}, {\"threshold\": 0.6639999747276306, \"p\": 28046, \"fpr\": 0.20239655495225614, \"tpr\": 0.9258717820723098, \"n\": 5341}, {\"threshold\": 0.6650000214576721, \"p\": 28046, \"fpr\": 0.20220932409661113, \"tpr\": 0.9256578478214362, \"n\": 5341}, {\"threshold\": 0.6660000085830688, \"p\": 28046, \"fpr\": 0.2014604006740311, \"tpr\": 0.9255152249875205, \"n\": 5341}, {\"threshold\": 0.6669999957084656, \"p\": 28046, \"fpr\": 0.20127316981838608, \"tpr\": 0.9253369464451259, \"n\": 5341}, {\"threshold\": 0.6679999828338623, \"p\": 28046, \"fpr\": 0.20071147725145103, \"tpr\": 0.9251586679027313, \"n\": 5341}, {\"threshold\": 0.6690000295639038, \"p\": 28046, \"fpr\": 0.200337015540161, \"tpr\": 0.9250873564857733, \"n\": 5341}, {\"threshold\": 0.6700000166893005, \"p\": 28046, \"fpr\": 0.200149784684516, \"tpr\": 0.9249447336518577, \"n\": 5341}, {\"threshold\": 0.6710000038146973, \"p\": 28046, \"fpr\": 0.199962553828871, \"tpr\": 0.9248377665264209, \"n\": 5341}, {\"threshold\": 0.671999990940094, \"p\": 28046, \"fpr\": 0.199962553828871, \"tpr\": 0.9247307994009841, \"n\": 5341}, {\"threshold\": 0.6729999780654907, \"p\": 28046, \"fpr\": 0.199962553828871, \"tpr\": 0.9246238322755473, \"n\": 5341}, {\"threshold\": 0.6740000247955322, \"p\": 28046, \"fpr\": 0.19902639955064594, \"tpr\": 0.9243742423161948, \"n\": 5341}, {\"threshold\": 0.675000011920929, \"p\": 28046, \"fpr\": 0.19472008987081071, \"tpr\": 0.9192754760037082, \"n\": 5341}, {\"threshold\": 0.6759999990463257, \"p\": 28046, \"fpr\": 0.19415839730387568, \"tpr\": 0.9190615417528346, \"n\": 5341}, {\"threshold\": 0.6769999861717224, \"p\": 28046, \"fpr\": 0.19340947388129565, \"tpr\": 0.918847607501961, \"n\": 5341}, {\"threshold\": 0.6779999732971191, \"p\": 28046, \"fpr\": 0.19303501217000563, \"tpr\": 0.9187406403765243, \"n\": 5341}, {\"threshold\": 0.6790000200271606, \"p\": 28046, \"fpr\": 0.19284778131436062, \"tpr\": 0.9185980175426086, \"n\": 5341}, {\"threshold\": 0.6800000071525574, \"p\": 28046, \"fpr\": 0.1926605504587156, \"tpr\": 0.918384083291735, \"n\": 5341}, {\"threshold\": 0.6809999942779541, \"p\": 28046, \"fpr\": 0.1924733196030706, \"tpr\": 0.9183484275832561, \"n\": 5341}, {\"threshold\": 0.6819999814033508, \"p\": 28046, \"fpr\": 0.19209885789178058, \"tpr\": 0.9182058047493403, \"n\": 5341}, {\"threshold\": 0.6830000281333923, \"p\": 28046, \"fpr\": 0.19191162703613557, \"tpr\": 0.9180988376239035, \"n\": 5341}, {\"threshold\": 0.6840000152587891, \"p\": 28046, \"fpr\": 0.19078824190226548, \"tpr\": 0.9179562147899879, \"n\": 5341}, {\"threshold\": 0.6850000023841858, \"p\": 28046, \"fpr\": 0.19060101104662047, \"tpr\": 0.9178135919560722, \"n\": 5341}, {\"threshold\": 0.6859999895095825, \"p\": 28046, \"fpr\": 0.19041378019097546, \"tpr\": 0.9176353134136775, \"n\": 5341}, {\"threshold\": 0.6869999766349792, \"p\": 28046, \"fpr\": 0.18985208762404043, \"tpr\": 0.9175640019967197, \"n\": 5341}, {\"threshold\": 0.6880000233650208, \"p\": 28046, \"fpr\": 0.18872870249017037, \"tpr\": 0.9173500677458462, \"n\": 5341}, {\"threshold\": 0.6890000104904175, \"p\": 28046, \"fpr\": 0.18797977906759034, \"tpr\": 0.9171361334949726, \"n\": 5341}, {\"threshold\": 0.6899999976158142, \"p\": 28046, \"fpr\": 0.18797977906759034, \"tpr\": 0.9169935106610568, \"n\": 5341}, {\"threshold\": 0.6909999847412109, \"p\": 28046, \"fpr\": 0.1872308556450103, \"tpr\": 0.9168508878271411, \"n\": 5341}, {\"threshold\": 0.6919999718666077, \"p\": 28046, \"fpr\": 0.1872308556450103, \"tpr\": 0.9166726092847465, \"n\": 5341}, {\"threshold\": 0.6930000185966492, \"p\": 28046, \"fpr\": 0.1870436247893653, \"tpr\": 0.916423019325394, \"n\": 5341}, {\"threshold\": 0.6940000057220459, \"p\": 28046, \"fpr\": 0.18648193222243026, \"tpr\": 0.9162447407829993, \"n\": 5341}, {\"threshold\": 0.6949999928474426, \"p\": 28046, \"fpr\": 0.18592023965549523, \"tpr\": 0.9160664622406047, \"n\": 5341}, {\"threshold\": 0.6959999799728394, \"p\": 28046, \"fpr\": 0.18498408537727018, \"tpr\": 0.9160308065321258, \"n\": 5341}, {\"threshold\": 0.6970000267028809, \"p\": 28046, \"fpr\": 0.18479685452162517, \"tpr\": 0.9157099051558154, \"n\": 5341}, {\"threshold\": 0.6980000138282776, \"p\": 28046, \"fpr\": 0.18479685452162517, \"tpr\": 0.9155672823218998, \"n\": 5341}, {\"threshold\": 0.6990000009536743, \"p\": 28046, \"fpr\": 0.18442239281033515, \"tpr\": 0.9154959709049418, \"n\": 5341}, {\"threshold\": 0.699999988079071, \"p\": 28046, \"fpr\": 0.18442239281033515, \"tpr\": 0.915389003779505, \"n\": 5341}, {\"threshold\": 0.7009999752044678, \"p\": 28046, \"fpr\": 0.1834862385321101, \"tpr\": 0.9152820366540683, \"n\": 5341}, {\"threshold\": 0.7020000219345093, \"p\": 28046, \"fpr\": 0.1834862385321101, \"tpr\": 0.9150324466947158, \"n\": 5341}, {\"threshold\": 0.703000009059906, \"p\": 28046, \"fpr\": 0.18311177682082008, \"tpr\": 0.9148898238608001, \"n\": 5341}, {\"threshold\": 0.7039999961853027, \"p\": 28046, \"fpr\": 0.18292454596517507, \"tpr\": 0.9148541681523212, \"n\": 5341}, {\"threshold\": 0.7049999833106995, \"p\": 28046, \"fpr\": 0.18198839168695, \"tpr\": 0.9147828567353633, \"n\": 5341}, {\"threshold\": 0.7059999704360962, \"p\": 28046, \"fpr\": 0.18161392997565998, \"tpr\": 0.9144976110675319, \"n\": 5341}, {\"threshold\": 0.7070000171661377, \"p\": 28046, \"fpr\": 0.18049054484178992, \"tpr\": 0.9142123653997005, \"n\": 5341}, {\"threshold\": 0.7080000042915344, \"p\": 28046, \"fpr\": 0.1803033139861449, \"tpr\": 0.9140340868573058, \"n\": 5341}, {\"threshold\": 0.7089999914169312, \"p\": 28046, \"fpr\": 0.1799288522748549, \"tpr\": 0.9137488411894744, \"n\": 5341}, {\"threshold\": 0.7099999785423279, \"p\": 28046, \"fpr\": 0.17880546714098483, \"tpr\": 0.913499251230122, \"n\": 5341}, {\"threshold\": 0.7110000252723694, \"p\": 28046, \"fpr\": 0.17861823628533982, \"tpr\": 0.9133209726877273, \"n\": 5341}, {\"threshold\": 0.7120000123977661, \"p\": 28046, \"fpr\": 0.17861823628533982, \"tpr\": 0.9130713827283748, \"n\": 5341}, {\"threshold\": 0.7129999995231628, \"p\": 28046, \"fpr\": 0.1782437745740498, \"tpr\": 0.9127148256435855, \"n\": 5341}, {\"threshold\": 0.7139999866485596, \"p\": 28046, \"fpr\": 0.17730762029582475, \"tpr\": 0.9125722028096698, \"n\": 5341}, {\"threshold\": 0.7149999737739563, \"p\": 28046, \"fpr\": 0.17693315858453473, \"tpr\": 0.9123939242672752, \"n\": 5341}, {\"threshold\": 0.7160000205039978, \"p\": 28046, \"fpr\": 0.17674592772888972, \"tpr\": 0.9121799900164016, \"n\": 5341}, {\"threshold\": 0.7170000076293945, \"p\": 28046, \"fpr\": 0.1763714660175997, \"tpr\": 0.9119304000570492, \"n\": 5341}, {\"threshold\": 0.7179999947547913, \"p\": 28046, \"fpr\": 0.17580977345066467, \"tpr\": 0.9117877772231334, \"n\": 5341}, {\"threshold\": 0.718999981880188, \"p\": 28046, \"fpr\": 0.17543531173937466, \"tpr\": 0.9117164658061756, \"n\": 5341}, {\"threshold\": 0.7200000286102295, \"p\": 28046, \"fpr\": 0.17524808088372965, \"tpr\": 0.9116808100976966, \"n\": 5341}, {\"threshold\": 0.7210000157356262, \"p\": 28046, \"fpr\": 0.17468638831679462, \"tpr\": 0.9114668758468231, \"n\": 5341}, {\"threshold\": 0.722000002861023, \"p\": 28046, \"fpr\": 0.17375023403856957, \"tpr\": 0.9111459744705127, \"n\": 5341}, {\"threshold\": 0.7229999899864197, \"p\": 28046, \"fpr\": 0.17356300318292456, \"tpr\": 0.9109676959281181, \"n\": 5341}, {\"threshold\": 0.7239999771118164, \"p\": 28046, \"fpr\": 0.17356300318292456, \"tpr\": 0.9107894173857235, \"n\": 5341}, {\"threshold\": 0.7250000238418579, \"p\": 28046, \"fpr\": 0.17318854147163454, \"tpr\": 0.9106467945518077, \"n\": 5341}, {\"threshold\": 0.7260000109672546, \"p\": 28046, \"fpr\": 0.1728140797603445, \"tpr\": 0.9103258931754974, \"n\": 5341}, {\"threshold\": 0.7269999980926514, \"p\": 28046, \"fpr\": 0.17262684890469948, \"tpr\": 0.9101119589246238, \"n\": 5341}, {\"threshold\": 0.7279999852180481, \"p\": 28046, \"fpr\": 0.17243961804905447, \"tpr\": 0.9100763032161449, \"n\": 5341}, {\"threshold\": 0.7289999723434448, \"p\": 28046, \"fpr\": 0.17225238719340946, \"tpr\": 0.9099336803822292, \"n\": 5341}, {\"threshold\": 0.7300000190734863, \"p\": 28046, \"fpr\": 0.17187792548211944, \"tpr\": 0.9097910575483135, \"n\": 5341}, {\"threshold\": 0.7310000061988831, \"p\": 28046, \"fpr\": 0.1713162329151844, \"tpr\": 0.9095058118804821, \"n\": 5341}, {\"threshold\": 0.7319999933242798, \"p\": 28046, \"fpr\": 0.17056730949260437, \"tpr\": 0.9093631890465663, \"n\": 5341}, {\"threshold\": 0.7329999804496765, \"p\": 28046, \"fpr\": 0.17038007863695936, \"tpr\": 0.9090066319617771, \"n\": 5341}, {\"threshold\": 0.734000027179718, \"p\": 28046, \"fpr\": 0.17019284778131435, \"tpr\": 0.9088283534193824, \"n\": 5341}, {\"threshold\": 0.7350000143051147, \"p\": 28046, \"fpr\": 0.17000561692566935, \"tpr\": 0.9086857305854668, \"n\": 5341}, {\"threshold\": 0.7360000014305115, \"p\": 28046, \"fpr\": 0.16981838607002434, \"tpr\": 0.9084361406261142, \"n\": 5341}, {\"threshold\": 0.7369999885559082, \"p\": 28046, \"fpr\": 0.16981838607002434, \"tpr\": 0.9082935177921986, \"n\": 5341}, {\"threshold\": 0.7379999756813049, \"p\": 28046, \"fpr\": 0.1692566935030893, \"tpr\": 0.9081152392498039, \"n\": 5341}, {\"threshold\": 0.7390000224113464, \"p\": 28046, \"fpr\": 0.16869500093615428, \"tpr\": 0.9078299935819725, \"n\": 5341}, {\"threshold\": 0.7400000095367432, \"p\": 28046, \"fpr\": 0.16832053922486426, \"tpr\": 0.9077230264565357, \"n\": 5341}, {\"threshold\": 0.7409999966621399, \"p\": 28046, \"fpr\": 0.16757161580228422, \"tpr\": 0.9075804036226199, \"n\": 5341}, {\"threshold\": 0.7419999837875366, \"p\": 28046, \"fpr\": 0.1673843849466392, \"tpr\": 0.9073664693717464, \"n\": 5341}, {\"threshold\": 0.7429999709129333, \"p\": 28046, \"fpr\": 0.16682269237970418, \"tpr\": 0.9072238465378307, \"n\": 5341}, {\"threshold\": 0.7440000176429749, \"p\": 28046, \"fpr\": 0.16626099981276915, \"tpr\": 0.9069742565784782, \"n\": 5341}, {\"threshold\": 0.7450000047683716, \"p\": 28046, \"fpr\": 0.16607376895712414, \"tpr\": 0.9067959780360836, \"n\": 5341}, {\"threshold\": 0.7459999918937683, \"p\": 28046, \"fpr\": 0.16588653810147913, \"tpr\": 0.9064750766597732, \"n\": 5341}, {\"threshold\": 0.746999979019165, \"p\": 28046, \"fpr\": 0.1655120763901891, \"tpr\": 0.9063681095343364, \"n\": 5341}, {\"threshold\": 0.7480000257492065, \"p\": 28046, \"fpr\": 0.1653248455345441, \"tpr\": 0.9060115524495471, \"n\": 5341}, {\"threshold\": 0.7490000128746033, \"p\": 28046, \"fpr\": 0.1651376146788991, \"tpr\": 0.9057263067817157, \"n\": 5341}, {\"threshold\": 0.75, \"p\": 28046, \"fpr\": 0.16476315296760907, \"tpr\": 0.9055123725308422, \"n\": 5341}, {\"threshold\": 0.7509999871253967, \"p\": 28046, \"fpr\": 0.16345253697809398, \"tpr\": 0.9053340939884476, \"n\": 5341}, {\"threshold\": 0.7519999742507935, \"p\": 28046, \"fpr\": 0.16326530612244897, \"tpr\": 0.905120159737574, \"n\": 5341}, {\"threshold\": 0.753000020980835, \"p\": 28046, \"fpr\": 0.1621419209885789, \"tpr\": 0.9048705697782214, \"n\": 5341}, {\"threshold\": 0.7540000081062317, \"p\": 28046, \"fpr\": 0.1619546901329339, \"tpr\": 0.9047992583612636, \"n\": 5341}, {\"threshold\": 0.7549999952316284, \"p\": 28046, \"fpr\": 0.1619546901329339, \"tpr\": 0.904620979818869, \"n\": 5341}, {\"threshold\": 0.7559999823570251, \"p\": 28046, \"fpr\": 0.16158022842164388, \"tpr\": 0.9044427012764744, \"n\": 5341}, {\"threshold\": 0.7570000290870667, \"p\": 28046, \"fpr\": 0.16139299756599887, \"tpr\": 0.9040861441916851, \"n\": 5341}, {\"threshold\": 0.7580000162124634, \"p\": 28046, \"fpr\": 0.16064407414341883, \"tpr\": 0.9038722099408115, \"n\": 5341}, {\"threshold\": 0.7590000033378601, \"p\": 28046, \"fpr\": 0.1600823815764838, \"tpr\": 0.9034086857305854, \"n\": 5341}, {\"threshold\": 0.7599999904632568, \"p\": 28046, \"fpr\": 0.1598951507208388, \"tpr\": 0.903159095771233, \"n\": 5341}, {\"threshold\": 0.7609999775886536, \"p\": 28046, \"fpr\": 0.15952068900954877, \"tpr\": 0.9028738501034016, \"n\": 5341}, {\"threshold\": 0.7620000243186951, \"p\": 28046, \"fpr\": 0.15914622729825875, \"tpr\": 0.9025172930186123, \"n\": 5341}, {\"threshold\": 0.7630000114440918, \"p\": 28046, \"fpr\": 0.15858453473132372, \"tpr\": 0.9024103258931755, \"n\": 5341}, {\"threshold\": 0.7639999985694885, \"p\": 28046, \"fpr\": 0.1582100730200337, \"tpr\": 0.9019824573914283, \"n\": 5341}, {\"threshold\": 0.7649999856948853, \"p\": 28046, \"fpr\": 0.15783561130874368, \"tpr\": 0.9017328674320759, \"n\": 5341}, {\"threshold\": 0.765999972820282, \"p\": 28046, \"fpr\": 0.15727391874180865, \"tpr\": 0.9015902445981602, \"n\": 5341}, {\"threshold\": 0.7670000195503235, \"p\": 28046, \"fpr\": 0.15708668788616365, \"tpr\": 0.9012693432218498, \"n\": 5341}, {\"threshold\": 0.7680000066757202, \"p\": 28046, \"fpr\": 0.15689945703051864, \"tpr\": 0.9011267203879341, \"n\": 5341}, {\"threshold\": 0.7689999938011169, \"p\": 28046, \"fpr\": 0.15652499531922862, \"tpr\": 0.9008058190116237, \"n\": 5341}, {\"threshold\": 0.7699999809265137, \"p\": 28046, \"fpr\": 0.15652499531922862, \"tpr\": 0.9006275404692291, \"n\": 5341}, {\"threshold\": 0.7710000276565552, \"p\": 28046, \"fpr\": 0.1561505336079386, \"tpr\": 0.9002709833844399, \"n\": 5341}, {\"threshold\": 0.7720000147819519, \"p\": 28046, \"fpr\": 0.1559633027522936, \"tpr\": 0.8999500820081295, \"n\": 5341}, {\"threshold\": 0.7730000019073486, \"p\": 28046, \"fpr\": 0.15540161018535856, \"tpr\": 0.899664836340298, \"n\": 5341}, {\"threshold\": 0.7739999890327454, \"p\": 28046, \"fpr\": 0.15483991761842353, \"tpr\": 0.8994509020894245, \"n\": 5341}, {\"threshold\": 0.7749999761581421, \"p\": 28046, \"fpr\": 0.1544654559071335, \"tpr\": 0.8992726235470299, \"n\": 5341}, {\"threshold\": 0.7760000228881836, \"p\": 28046, \"fpr\": 0.15390376334019845, \"tpr\": 0.899236967838551, \"n\": 5341}, {\"threshold\": 0.7770000100135803, \"p\": 28046, \"fpr\": 0.1531548399176184, \"tpr\": 0.8989873778791985, \"n\": 5341}, {\"threshold\": 0.777999997138977, \"p\": 28046, \"fpr\": 0.1527803782063284, \"tpr\": 0.8987734436283249, \"n\": 5341}, {\"threshold\": 0.7789999842643738, \"p\": 28046, \"fpr\": 0.15221868563939336, \"tpr\": 0.8983812308350567, \"n\": 5341}, {\"threshold\": 0.7799999713897705, \"p\": 28046, \"fpr\": 0.15221868563939336, \"tpr\": 0.8980959851672252, \"n\": 5341}, {\"threshold\": 0.781000018119812, \"p\": 28046, \"fpr\": 0.15203145478374835, \"tpr\": 0.8979890180417885, \"n\": 5341}, {\"threshold\": 0.7820000052452087, \"p\": 28046, \"fpr\": 0.15146976221681333, \"tpr\": 0.8976324609569992, \"n\": 5341}, {\"threshold\": 0.7829999923706055, \"p\": 28046, \"fpr\": 0.15146976221681333, \"tpr\": 0.8974185267061257, \"n\": 5341}, {\"threshold\": 0.7839999794960022, \"p\": 28046, \"fpr\": 0.15146976221681333, \"tpr\": 0.8971332810382943, \"n\": 5341}, {\"threshold\": 0.7850000262260437, \"p\": 28046, \"fpr\": 0.1510953005055233, \"tpr\": 0.8968836910789417, \"n\": 5341}, {\"threshold\": 0.7860000133514404, \"p\": 28046, \"fpr\": 0.1510953005055233, \"tpr\": 0.8966341011195893, \"n\": 5341}, {\"threshold\": 0.7870000004768372, \"p\": 28046, \"fpr\": 0.15034637708294327, \"tpr\": 0.8963131997432789, \"n\": 5341}, {\"threshold\": 0.7879999876022339, \"p\": 28046, \"fpr\": 0.14997191537165325, \"tpr\": 0.8961349212008842, \"n\": 5341}, {\"threshold\": 0.7889999747276306, \"p\": 28046, \"fpr\": 0.1490357610934282, \"tpr\": 0.8958853312415318, \"n\": 5341}, {\"threshold\": 0.7900000214576721, \"p\": 28046, \"fpr\": 0.1490357610934282, \"tpr\": 0.8956357412821793, \"n\": 5341}, {\"threshold\": 0.7910000085830688, \"p\": 28046, \"fpr\": 0.1488485302377832, \"tpr\": 0.8953861513228268, \"n\": 5341}, {\"threshold\": 0.7919999957084656, \"p\": 28046, \"fpr\": 0.14828683767084816, \"tpr\": 0.8951365613634743, \"n\": 5341}, {\"threshold\": 0.7929999828338623, \"p\": 28046, \"fpr\": 0.14791237595955814, \"tpr\": 0.8948869714041218, \"n\": 5341}, {\"threshold\": 0.7940000295639038, \"p\": 28046, \"fpr\": 0.14753791424826812, \"tpr\": 0.8945304143193326, \"n\": 5341}, {\"threshold\": 0.7950000166893005, \"p\": 28046, \"fpr\": 0.1471634525369781, \"tpr\": 0.89428082435998, \"n\": 5341}, {\"threshold\": 0.7960000038146973, \"p\": 28046, \"fpr\": 0.14641452911439806, \"tpr\": 0.8939955786921486, \"n\": 5341}, {\"threshold\": 0.796999990940094, \"p\": 28046, \"fpr\": 0.14585283654746303, \"tpr\": 0.8937816444412751, \"n\": 5341}, {\"threshold\": 0.7979999780654907, \"p\": 28046, \"fpr\": 0.145478374836173, \"tpr\": 0.8935320544819225, \"n\": 5341}, {\"threshold\": 0.7990000247955322, \"p\": 28046, \"fpr\": 0.14491668226923798, \"tpr\": 0.8932824645225701, \"n\": 5341}, {\"threshold\": 0.800000011920929, \"p\": 28046, \"fpr\": 0.14472945141359295, \"tpr\": 0.8932468088140911, \"n\": 5341}, {\"threshold\": 0.8009999990463257, \"p\": 28046, \"fpr\": 0.14435498970230293, \"tpr\": 0.8929259074377808, \"n\": 5341}, {\"threshold\": 0.8019999861717224, \"p\": 28046, \"fpr\": 0.1437932971353679, \"tpr\": 0.8926050060614704, \"n\": 5341}, {\"threshold\": 0.8029999732971191, \"p\": 28046, \"fpr\": 0.14341883542407788, \"tpr\": 0.8922484489766812, \"n\": 5341}, {\"threshold\": 0.8040000200271606, \"p\": 28046, \"fpr\": 0.14341883542407788, \"tpr\": 0.8918205804749341, \"n\": 5341}, {\"threshold\": 0.8050000071525574, \"p\": 28046, \"fpr\": 0.14266991200149784, \"tpr\": 0.8914640233901447, \"n\": 5341}, {\"threshold\": 0.8059999942779541, \"p\": 28046, \"fpr\": 0.14266991200149784, \"tpr\": 0.8912857448477501, \"n\": 5341}, {\"threshold\": 0.8069999814033508, \"p\": 28046, \"fpr\": 0.14248268114585283, \"tpr\": 0.8910718105968766, \"n\": 5341}, {\"threshold\": 0.8080000281333923, \"p\": 28046, \"fpr\": 0.1419209885789178, \"tpr\": 0.8909291877629608, \"n\": 5341}, {\"threshold\": 0.8090000152587891, \"p\": 28046, \"fpr\": 0.14135929601198277, \"tpr\": 0.890358696427298, \"n\": 5341}, {\"threshold\": 0.8100000023841858, \"p\": 28046, \"fpr\": 0.14117206515633776, \"tpr\": 0.8899664836340299, \"n\": 5341}, {\"threshold\": 0.8109999895095825, \"p\": 28046, \"fpr\": 0.14098483430069275, \"tpr\": 0.8896455822577195, \"n\": 5341}, {\"threshold\": 0.8119999766349792, \"p\": 28046, \"fpr\": 0.14061037258940273, \"tpr\": 0.8895029594238038, \"n\": 5341}, {\"threshold\": 0.8130000233650208, \"p\": 28046, \"fpr\": 0.14042314173375772, \"tpr\": 0.8892533694644512, \"n\": 5341}, {\"threshold\": 0.8140000104904175, \"p\": 28046, \"fpr\": 0.14042314173375772, \"tpr\": 0.888861156671183, \"n\": 5341}, {\"threshold\": 0.8149999976158142, \"p\": 28046, \"fpr\": 0.1398614491668227, \"tpr\": 0.8884689438779149, \"n\": 5341}, {\"threshold\": 0.8159999847412109, \"p\": 28046, \"fpr\": 0.13967421831117768, \"tpr\": 0.8883263210439991, \"n\": 5341}, {\"threshold\": 0.8169999718666077, \"p\": 28046, \"fpr\": 0.13873806403295263, \"tpr\": 0.8880054196676888, \"n\": 5341}, {\"threshold\": 0.8180000185966492, \"p\": 28046, \"fpr\": 0.13873806403295263, \"tpr\": 0.8877558297083363, \"n\": 5341}, {\"threshold\": 0.8190000057220459, \"p\": 28046, \"fpr\": 0.13855083317730763, \"tpr\": 0.8874705840405049, \"n\": 5341}, {\"threshold\": 0.8199999928474426, \"p\": 28046, \"fpr\": 0.13855083317730763, \"tpr\": 0.8868287812878842, \"n\": 5341}, {\"threshold\": 0.8209999799728394, \"p\": 28046, \"fpr\": 0.1378019097547276, \"tpr\": 0.8864722242030949, \"n\": 5341}, {\"threshold\": 0.8220000267028809, \"p\": 28046, \"fpr\": 0.1378019097547276, \"tpr\": 0.8860443557013478, \"n\": 5341}, {\"threshold\": 0.8230000138282776, \"p\": 28046, \"fpr\": 0.13761467889908258, \"tpr\": 0.8856521429080796, \"n\": 5341}, {\"threshold\": 0.8240000009536743, \"p\": 28046, \"fpr\": 0.13724021718779256, \"tpr\": 0.8853312415317692, \"n\": 5341}, {\"threshold\": 0.824999988079071, \"p\": 28046, \"fpr\": 0.1363040629095675, \"tpr\": 0.8849746844469799, \"n\": 5341}, {\"threshold\": 0.8259999752044678, \"p\": 28046, \"fpr\": 0.13574237034263248, \"tpr\": 0.884475504528275, \"n\": 5341}, {\"threshold\": 0.8270000219345093, \"p\": 28046, \"fpr\": 0.13536790863134243, \"tpr\": 0.8840832917350068, \"n\": 5341}, {\"threshold\": 0.828000009059906, \"p\": 28046, \"fpr\": 0.1348062160644074, \"tpr\": 0.8838337017756542, \"n\": 5341}, {\"threshold\": 0.8289999961853027, \"p\": 28046, \"fpr\": 0.13443175435311738, \"tpr\": 0.8836197675247807, \"n\": 5341}, {\"threshold\": 0.8299999833106995, \"p\": 28046, \"fpr\": 0.13424452349747237, \"tpr\": 0.8832632104399915, \"n\": 5341}, {\"threshold\": 0.8309999704360962, \"p\": 28046, \"fpr\": 0.1329339075079573, \"tpr\": 0.8831205876060757, \"n\": 5341}, {\"threshold\": 0.8320000171661377, \"p\": 28046, \"fpr\": 0.13255944579666729, \"tpr\": 0.8826570633958497, \"n\": 5341}, {\"threshold\": 0.8330000042915344, \"p\": 28046, \"fpr\": 0.13181052237408725, \"tpr\": 0.8822648506025814, \"n\": 5341}, {\"threshold\": 0.8339999914169312, \"p\": 28046, \"fpr\": 0.13143606066279723, \"tpr\": 0.8818013263923554, \"n\": 5341}, {\"threshold\": 0.8349999785423279, \"p\": 28046, \"fpr\": 0.1306871372402172, \"tpr\": 0.8814804250160451, \"n\": 5341}, {\"threshold\": 0.8360000252723694, \"p\": 28046, \"fpr\": 0.12993821381763715, \"tpr\": 0.881016900805819, \"n\": 5341}, {\"threshold\": 0.8370000123977661, \"p\": 28046, \"fpr\": 0.12956375210634713, \"tpr\": 0.8807673108464665, \"n\": 5341}, {\"threshold\": 0.8379999995231628, \"p\": 28046, \"fpr\": 0.1291892903950571, \"tpr\": 0.8805890323040719, \"n\": 5341}, {\"threshold\": 0.8389999866485596, \"p\": 28046, \"fpr\": 0.1291892903950571, \"tpr\": 0.880054196676888, \"n\": 5341}, {\"threshold\": 0.8399999737739563, \"p\": 28046, \"fpr\": 0.12844036697247707, \"tpr\": 0.8794480496327463, \"n\": 5341}, {\"threshold\": 0.8410000205039978, \"p\": 28046, \"fpr\": 0.12806590526118705, \"tpr\": 0.8792341153818727, \"n\": 5341}, {\"threshold\": 0.8420000076293945, \"p\": 28046, \"fpr\": 0.12750421269425202, \"tpr\": 0.8786279683377308, \"n\": 5341}, {\"threshold\": 0.8429999947547913, \"p\": 28046, \"fpr\": 0.127316981838607, \"tpr\": 0.8781287884190259, \"n\": 5341}, {\"threshold\": 0.843999981880188, \"p\": 28046, \"fpr\": 0.12638082756038196, \"tpr\": 0.8774513299579263, \"n\": 5341}, {\"threshold\": 0.8450000286102295, \"p\": 28046, \"fpr\": 0.1256319041378019, \"tpr\": 0.8772017399985738, \"n\": 5341}, {\"threshold\": 0.8460000157356262, \"p\": 28046, \"fpr\": 0.1254446732821569, \"tpr\": 0.8769164943307424, \"n\": 5341}, {\"threshold\": 0.847000002861023, \"p\": 28046, \"fpr\": 0.12525744242651188, \"tpr\": 0.876595592954432, \"n\": 5341}, {\"threshold\": 0.8479999899864197, \"p\": 28046, \"fpr\": 0.12432128814828684, \"tpr\": 0.8763460029950795, \"n\": 5341}, {\"threshold\": 0.8489999771118164, \"p\": 28046, \"fpr\": 0.12413405729264183, \"tpr\": 0.8759181344933323, \"n\": 5341}, {\"threshold\": 0.8500000238418579, \"p\": 28046, \"fpr\": 0.12394682643699682, \"tpr\": 0.8755259217000642, \"n\": 5341}, {\"threshold\": 0.8510000109672546, \"p\": 28046, \"fpr\": 0.1237595955813518, \"tpr\": 0.875133708906796, \"n\": 5341}, {\"threshold\": 0.8519999980926514, \"p\": 28046, \"fpr\": 0.12357236472570679, \"tpr\": 0.8746701846965699, \"n\": 5341}, {\"threshold\": 0.8529999852180481, \"p\": 28046, \"fpr\": 0.12282344130312675, \"tpr\": 0.8742423161948228, \"n\": 5341}, {\"threshold\": 0.8539999723434448, \"p\": 28046, \"fpr\": 0.12244897959183673, \"tpr\": 0.8738857591100335, \"n\": 5341}, {\"threshold\": 0.8550000190734863, \"p\": 28046, \"fpr\": 0.1218872870249017, \"tpr\": 0.873172644940455, \"n\": 5341}, {\"threshold\": 0.8560000061988831, \"p\": 28046, \"fpr\": 0.12170005616925669, \"tpr\": 0.8726021536047921, \"n\": 5341}, {\"threshold\": 0.8569999933242798, \"p\": 28046, \"fpr\": 0.12151282531361168, \"tpr\": 0.8723525636454397, \"n\": 5341}, {\"threshold\": 0.8579999804496765, \"p\": 28046, \"fpr\": 0.12076390189103164, \"tpr\": 0.8719603508521714, \"n\": 5341}, {\"threshold\": 0.859000027179718, \"p\": 28046, \"fpr\": 0.12076390189103164, \"tpr\": 0.8713898595165086, \"n\": 5341}, {\"threshold\": 0.8600000143051147, \"p\": 28046, \"fpr\": 0.12057667103538663, \"tpr\": 0.8709263353062825, \"n\": 5341}, {\"threshold\": 0.8610000014305115, \"p\": 28046, \"fpr\": 0.1200149784684516, \"tpr\": 0.8706767453469301, \"n\": 5341}, {\"threshold\": 0.8619999885559082, \"p\": 28046, \"fpr\": 0.1198277476128066, \"tpr\": 0.8702845325536619, \"n\": 5341}, {\"threshold\": 0.8629999756813049, \"p\": 28046, \"fpr\": 0.11964051675716159, \"tpr\": 0.8698566640519148, \"n\": 5341}, {\"threshold\": 0.8640000224113464, \"p\": 28046, \"fpr\": 0.11889159333458153, \"tpr\": 0.8695357626756044, \"n\": 5341}, {\"threshold\": 0.8650000095367432, \"p\": 28046, \"fpr\": 0.11776820820071147, \"tpr\": 0.8689652713399415, \"n\": 5341}, {\"threshold\": 0.8659999966621399, \"p\": 28046, \"fpr\": 0.11720651563377645, \"tpr\": 0.868252157170363, \"n\": 5341}, {\"threshold\": 0.8669999837875366, \"p\": 28046, \"fpr\": 0.11664482306684142, \"tpr\": 0.8678956000855736, \"n\": 5341}, {\"threshold\": 0.8679999709129333, \"p\": 28046, \"fpr\": 0.1164575922111964, \"tpr\": 0.8673607644583898, \"n\": 5341}, {\"threshold\": 0.8690000176429749, \"p\": 28046, \"fpr\": 0.11608313049990639, \"tpr\": 0.8670755187905583, \"n\": 5341}, {\"threshold\": 0.8700000047683716, \"p\": 28046, \"fpr\": 0.11533420707732635, \"tpr\": 0.8665406831633744, \"n\": 5341}, {\"threshold\": 0.8709999918937683, \"p\": 28046, \"fpr\": 0.11495974536603633, \"tpr\": 0.866291093204022, \"n\": 5341}, {\"threshold\": 0.871999979019165, \"p\": 28046, \"fpr\": 0.11402359108781127, \"tpr\": 0.8658275689937959, \"n\": 5341}, {\"threshold\": 0.8730000257492065, \"p\": 28046, \"fpr\": 0.11346189852087624, \"tpr\": 0.8651857662411752, \"n\": 5341}, {\"threshold\": 0.8740000128746033, \"p\": 28046, \"fpr\": 0.11308743680958622, \"tpr\": 0.864829209156386, \"n\": 5341}, {\"threshold\": 0.875, \"p\": 28046, \"fpr\": 0.11252574424265119, \"tpr\": 0.864258717820723, \"n\": 5341}, {\"threshold\": 0.8759999871253967, \"p\": 28046, \"fpr\": 0.11177682082007115, \"tpr\": 0.8639378164444127, \"n\": 5341}, {\"threshold\": 0.8769999742507935, \"p\": 28046, \"fpr\": 0.11102789739749111, \"tpr\": 0.8632960136917921, \"n\": 5341}, {\"threshold\": 0.878000020980835, \"p\": 28046, \"fpr\": 0.11027897397491107, \"tpr\": 0.8627611780646082, \"n\": 5341}, {\"threshold\": 0.8790000081062317, \"p\": 28046, \"fpr\": 0.10990451226362105, \"tpr\": 0.8622619981459032, \"n\": 5341}, {\"threshold\": 0.8799999952316284, \"p\": 28046, \"fpr\": 0.10953005055233102, \"tpr\": 0.8615132282678457, \"n\": 5341}, {\"threshold\": 0.8809999823570251, \"p\": 28046, \"fpr\": 0.109155588841041, \"tpr\": 0.8607644583897882, \"n\": 5341}, {\"threshold\": 0.8820000290870667, \"p\": 28046, \"fpr\": 0.10859389627410597, \"tpr\": 0.8602296227626043, \"n\": 5341}, {\"threshold\": 0.8830000162124634, \"p\": 28046, \"fpr\": 0.10821943456281595, \"tpr\": 0.8596234757184625, \"n\": 5341}, {\"threshold\": 0.8840000033378601, \"p\": 28046, \"fpr\": 0.1072832802845909, \"tpr\": 0.8588390501319261, \"n\": 5341}, {\"threshold\": 0.8849999904632568, \"p\": 28046, \"fpr\": 0.10690881857330088, \"tpr\": 0.8579833131284319, \"n\": 5341}, {\"threshold\": 0.8859999775886536, \"p\": 28046, \"fpr\": 0.10672158771765587, \"tpr\": 0.8575911003351636, \"n\": 5341}, {\"threshold\": 0.8870000243186951, \"p\": 28046, \"fpr\": 0.10653435686201086, \"tpr\": 0.8568066747486273, \"n\": 5341}, {\"threshold\": 0.8880000114440918, \"p\": 28046, \"fpr\": 0.10615989515072084, \"tpr\": 0.8561292162875276, \"n\": 5341}, {\"threshold\": 0.8889999985694885, \"p\": 28046, \"fpr\": 0.10578543343943082, \"tpr\": 0.8557013477857806, \"n\": 5341}, {\"threshold\": 0.8899999856948853, \"p\": 28046, \"fpr\": 0.10428758659427073, \"tpr\": 0.8550952007416387, \"n\": 5341}, {\"threshold\": 0.890999972820282, \"p\": 28046, \"fpr\": 0.10391312488298071, \"tpr\": 0.8541681523211866, \"n\": 5341}, {\"threshold\": 0.8920000195503235, \"p\": 28046, \"fpr\": 0.10335143231604568, \"tpr\": 0.853490693860087, \"n\": 5341}, {\"threshold\": 0.8930000066757202, \"p\": 28046, \"fpr\": 0.10278973974911065, \"tpr\": 0.8528132353989873, \"n\": 5341}, {\"threshold\": 0.8939999938011169, \"p\": 28046, \"fpr\": 0.1018535854708856, \"tpr\": 0.8518861869785352, \"n\": 5341}, {\"threshold\": 0.8949999809265137, \"p\": 28046, \"fpr\": 0.10147912375959559, \"tpr\": 0.8512087285174357, \"n\": 5341}, {\"threshold\": 0.8960000276565552, \"p\": 28046, \"fpr\": 0.10147912375959559, \"tpr\": 0.8503886472224204, \"n\": 5341}, {\"threshold\": 0.8970000147819519, \"p\": 28046, \"fpr\": 0.10129189290395058, \"tpr\": 0.8496755330528417, \"n\": 5341}, {\"threshold\": 0.8980000019073486, \"p\": 28046, \"fpr\": 0.10091743119266056, \"tpr\": 0.8490693860087, \"n\": 5341}, {\"threshold\": 0.8989999890327454, \"p\": 28046, \"fpr\": 0.10035573862572551, \"tpr\": 0.8482849604221636, \"n\": 5341}, {\"threshold\": 0.8999999761581421, \"p\": 28046, \"fpr\": 0.09979404605879048, \"tpr\": 0.8476431576695429, \"n\": 5341}, {\"threshold\": 0.9010000228881836, \"p\": 28046, \"fpr\": 0.09885789178056544, \"tpr\": 0.8469656992084432, \"n\": 5341}, {\"threshold\": 0.9020000100135803, \"p\": 28046, \"fpr\": 0.09848343006927542, \"tpr\": 0.8463238964558226, \"n\": 5341}, {\"threshold\": 0.902999997138977, \"p\": 28046, \"fpr\": 0.09792173750234039, \"tpr\": 0.8460029950795123, \"n\": 5341}, {\"threshold\": 0.9039999842643738, \"p\": 28046, \"fpr\": 0.09773450664669538, \"tpr\": 0.8452185694929758, \"n\": 5341}, {\"threshold\": 0.9049999713897705, \"p\": 28046, \"fpr\": 0.09679835236847033, \"tpr\": 0.844648078157313, \"n\": 5341}, {\"threshold\": 0.906000018119812, \"p\": 28046, \"fpr\": 0.09567496723460026, \"tpr\": 0.8437210297368609, \"n\": 5341}, {\"threshold\": 0.9070000052452087, \"p\": 28046, \"fpr\": 0.09492604381202022, \"tpr\": 0.8428652927333666, \"n\": 5341}, {\"threshold\": 0.9079999923706055, \"p\": 28046, \"fpr\": 0.09380265867815016, \"tpr\": 0.8418669328959566, \"n\": 5341}, {\"threshold\": 0.9089999794960022, \"p\": 28046, \"fpr\": 0.09361542782250515, \"tpr\": 0.8408329173500677, \"n\": 5341}, {\"threshold\": 0.9100000262260437, \"p\": 28046, \"fpr\": 0.09342819696686014, \"tpr\": 0.8399771803465735, \"n\": 5341}, {\"threshold\": 0.9110000133514404, \"p\": 28046, \"fpr\": 0.0926792735442801, \"tpr\": 0.8390501319261213, \"n\": 5341}, {\"threshold\": 0.9120000004768372, \"p\": 28046, \"fpr\": 0.09249204268863509, \"tpr\": 0.8383726734650218, \"n\": 5341}, {\"threshold\": 0.9129999876022339, \"p\": 28046, \"fpr\": 0.09211758097734507, \"tpr\": 0.8376595592954432, \"n\": 5341}, {\"threshold\": 0.9139999747276306, \"p\": 28046, \"fpr\": 0.09211758097734507, \"tpr\": 0.8369821008343435, \"n\": 5341}, {\"threshold\": 0.9150000214576721, \"p\": 28046, \"fpr\": 0.09174311926605505, \"tpr\": 0.8358767738714968, \"n\": 5341}, {\"threshold\": 0.9160000085830688, \"p\": 28046, \"fpr\": 0.09118142669912002, \"tpr\": 0.8349853811595236, \"n\": 5341}, {\"threshold\": 0.9169999957084656, \"p\": 28046, \"fpr\": 0.09043250327653997, \"tpr\": 0.8335948085288455, \"n\": 5341}, {\"threshold\": 0.9179999828338623, \"p\": 28046, \"fpr\": 0.09043250327653997, \"tpr\": 0.8323112030236041, \"n\": 5341}, {\"threshold\": 0.9190000295639038, \"p\": 28046, \"fpr\": 0.08987081070960494, \"tpr\": 0.8314198103116309, \"n\": 5341}, {\"threshold\": 0.9200000166893005, \"p\": 28046, \"fpr\": 0.0891218872870249, \"tpr\": 0.8299935819724737, \"n\": 5341}, {\"threshold\": 0.9210000038146973, \"p\": 28046, \"fpr\": 0.08874742557573488, \"tpr\": 0.8289952221350638, \"n\": 5341}, {\"threshold\": 0.921999990940094, \"p\": 28046, \"fpr\": 0.08781127129750983, \"tpr\": 0.8278542394637382, \"n\": 5341}, {\"threshold\": 0.9229999780654907, \"p\": 28046, \"fpr\": 0.0872495787305748, \"tpr\": 0.8266776010839335, \"n\": 5341}, {\"threshold\": 0.9240000247955322, \"p\": 28046, \"fpr\": 0.08687511701928478, \"tpr\": 0.8257505526634814, \"n\": 5341}, {\"threshold\": 0.925000011920929, \"p\": 28046, \"fpr\": 0.08650065530799476, \"tpr\": 0.824966127076945, \"n\": 5341}, {\"threshold\": 0.9259999990463257, \"p\": 28046, \"fpr\": 0.0855645010297697, \"tpr\": 0.8236468658632247, \"n\": 5341}, {\"threshold\": 0.9269999861717224, \"p\": 28046, \"fpr\": 0.08537727017412469, \"tpr\": 0.822505883191899, \"n\": 5341}, {\"threshold\": 0.9279999732971191, \"p\": 28046, \"fpr\": 0.08519003931847968, \"tpr\": 0.821543179062968, \"n\": 5341}, {\"threshold\": 0.9290000200271606, \"p\": 28046, \"fpr\": 0.08444111589589964, \"tpr\": 0.8201882621407688, \"n\": 5341}, {\"threshold\": 0.9300000071525574, \"p\": 28046, \"fpr\": 0.0836921924733196, \"tpr\": 0.8189759680524852, \"n\": 5341}, {\"threshold\": 0.9309999942779541, \"p\": 28046, \"fpr\": 0.08256880733944955, \"tpr\": 0.8174071168794124, \"n\": 5341}, {\"threshold\": 0.9319999814033508, \"p\": 28046, \"fpr\": 0.08238157648380454, \"tpr\": 0.8160165442487343, \"n\": 5341}, {\"threshold\": 0.9330000281333923, \"p\": 28046, \"fpr\": 0.08238157648380454, \"tpr\": 0.8148399058689296, \"n\": 5341}, {\"threshold\": 0.9340000152587891, \"p\": 28046, \"fpr\": 0.08219434562815953, \"tpr\": 0.8133067104043358, \"n\": 5341}, {\"threshold\": 0.9350000023841858, \"p\": 28046, \"fpr\": 0.08200711477251452, \"tpr\": 0.8117735149397418, \"n\": 5341}, {\"threshold\": 0.9359999895095825, \"p\": 28046, \"fpr\": 0.08144542220557947, \"tpr\": 0.8105612208514583, \"n\": 5341}, {\"threshold\": 0.9369999766349792, \"p\": 28046, \"fpr\": 0.08088372963864444, \"tpr\": 0.8094558938886116, \"n\": 5341}, {\"threshold\": 0.9380000233650208, \"p\": 28046, \"fpr\": 0.08050926792735442, \"tpr\": 0.8079940098409756, \"n\": 5341}, {\"threshold\": 0.9390000104904175, \"p\": 28046, \"fpr\": 0.0801348062160644, \"tpr\": 0.8064608143763816, \"n\": 5341}, {\"threshold\": 0.9399999976158142, \"p\": 28046, \"fpr\": 0.07938588279348437, \"tpr\": 0.8046780289524352, \"n\": 5341}, {\"threshold\": 0.9409999847412109, \"p\": 28046, \"fpr\": 0.07882419022654934, \"tpr\": 0.803358767738715, \"n\": 5341}, {\"threshold\": 0.9419999718666077, \"p\": 28046, \"fpr\": 0.0780752668039693, \"tpr\": 0.8019325393995579, \"n\": 5341}, {\"threshold\": 0.9430000185966492, \"p\": 28046, \"fpr\": 0.07788803594832429, \"tpr\": 0.800399343934964, \"n\": 5341}, {\"threshold\": 0.9440000057220459, \"p\": 28046, \"fpr\": 0.07713911252574425, \"tpr\": 0.7989731155958069, \"n\": 5341}, {\"threshold\": 0.9449999928474426, \"p\": 28046, \"fpr\": 0.07676465081445422, \"tpr\": 0.7973686087142552, \"n\": 5341}, {\"threshold\": 0.9459999799728394, \"p\": 28046, \"fpr\": 0.0763901891031642, \"tpr\": 0.7955145118733509, \"n\": 5341}, {\"threshold\": 0.9470000267028809, \"p\": 28046, \"fpr\": 0.07545403482493915, \"tpr\": 0.7938743492833202, \"n\": 5341}, {\"threshold\": 0.9480000138282776, \"p\": 28046, \"fpr\": 0.07489234225800412, \"tpr\": 0.7924837766526421, \"n\": 5341}, {\"threshold\": 0.9490000009536743, \"p\": 28046, \"fpr\": 0.07339449541284404, \"tpr\": 0.7908436140626114, \"n\": 5341}, {\"threshold\": 0.949999988079071, \"p\": 28046, \"fpr\": 0.07208387942332896, \"tpr\": 0.7883833701775654, \"n\": 5341}, {\"threshold\": 0.9509999752044678, \"p\": 28046, \"fpr\": 0.07133495600074892, \"tpr\": 0.7868501747129716, \"n\": 5341}, {\"threshold\": 0.9520000219345093, \"p\": 28046, \"fpr\": 0.07039880172252387, \"tpr\": 0.7853169792483776, \"n\": 5341}, {\"threshold\": 0.953000009059906, \"p\": 28046, \"fpr\": 0.06983710915558884, \"tpr\": 0.7829280467802895, \"n\": 5341}, {\"threshold\": 0.9539999961853027, \"p\": 28046, \"fpr\": 0.06927541658865381, \"tpr\": 0.7805034586037225, \"n\": 5341}, {\"threshold\": 0.9549999833106995, \"p\": 28046, \"fpr\": 0.06852649316607377, \"tpr\": 0.7783641160949868, \"n\": 5341}, {\"threshold\": 0.9559999704360962, \"p\": 28046, \"fpr\": 0.06833926231042876, \"tpr\": 0.7767239535049562, \"n\": 5341}, {\"threshold\": 0.9570000171661377, \"p\": 28046, \"fpr\": 0.06721587717655869, \"tpr\": 0.7745132995792626, \"n\": 5341}, {\"threshold\": 0.9580000042915344, \"p\": 28046, \"fpr\": 0.06646695375397865, \"tpr\": 0.7725878913214006, \"n\": 5341}, {\"threshold\": 0.9589999914169312, \"p\": 28046, \"fpr\": 0.0655307994757536, \"tpr\": 0.7698067460600442, \"n\": 5341}, {\"threshold\": 0.9599999785423279, \"p\": 28046, \"fpr\": 0.06515633776446358, \"tpr\": 0.767453469300435, \"n\": 5341}, {\"threshold\": 0.9610000252723694, \"p\": 28046, \"fpr\": 0.06459464519752856, \"tpr\": 0.7649219139984311, \"n\": 5341}, {\"threshold\": 0.9620000123977661, \"p\": 28046, \"fpr\": 0.0634712600636585, \"tpr\": 0.7627825714896955, \"n\": 5341}, {\"threshold\": 0.9629999995231628, \"p\": 28046, \"fpr\": 0.06290956749672345, \"tpr\": 0.7598231476859445, \"n\": 5341}, {\"threshold\": 0.9639999866485596, \"p\": 28046, \"fpr\": 0.06197341321849841, \"tpr\": 0.756614133922841, \"n\": 5341}, {\"threshold\": 0.9649999737739563, \"p\": 28046, \"fpr\": 0.061224489795918366, \"tpr\": 0.7541182343293161, \"n\": 5341}, {\"threshold\": 0.9660000205039978, \"p\": 28046, \"fpr\": 0.06047556637333833, \"tpr\": 0.7511588105255651, \"n\": 5341}, {\"threshold\": 0.9670000076293945, \"p\": 28046, \"fpr\": 0.05972664295075829, \"tpr\": 0.7481280753048563, \"n\": 5341}, {\"threshold\": 0.9679999947547913, \"p\": 28046, \"fpr\": 0.05916495038382325, \"tpr\": 0.7445981601654424, \"n\": 5341}, {\"threshold\": 0.968999981880188, \"p\": 28046, \"fpr\": 0.05879048867253323, \"tpr\": 0.7414604578192968, \"n\": 5341}, {\"threshold\": 0.9700000286102295, \"p\": 28046, \"fpr\": 0.057667103538663174, \"tpr\": 0.7377166084290094, \"n\": 5341}, {\"threshold\": 0.9710000157356262, \"p\": 28046, \"fpr\": 0.05673094926043812, \"tpr\": 0.7346502174998217, \"n\": 5341}, {\"threshold\": 0.972000002861023, \"p\": 28046, \"fpr\": 0.05542033327092305, \"tpr\": 0.7306924338586608, \"n\": 5341}, {\"threshold\": 0.9729999899864197, \"p\": 28046, \"fpr\": 0.054858640703988014, \"tpr\": 0.7272338301362048, \"n\": 5341}, {\"threshold\": 0.9739999771118164, \"p\": 28046, \"fpr\": 0.053735255570117955, \"tpr\": 0.7228125222848178, \"n\": 5341}, {\"threshold\": 0.9750000238418579, \"p\": 28046, \"fpr\": 0.0526118704362479, \"tpr\": 0.7183912144334308, \"n\": 5341}, {\"threshold\": 0.9760000109672546, \"p\": 28046, \"fpr\": 0.05073956187979779, \"tpr\": 0.7140055622905227, \"n\": 5341}, {\"threshold\": 0.9769999980926514, \"p\": 28046, \"fpr\": 0.04942894589028272, \"tpr\": 0.7095129430221778, \"n\": 5341}, {\"threshold\": 0.9779999852180481, \"p\": 28046, \"fpr\": 0.04849279161205767, \"tpr\": 0.7051629465877487, \"n\": 5341}, {\"threshold\": 0.9789999723434448, \"p\": 28046, \"fpr\": 0.04811832990076765, \"tpr\": 0.7001711474006989, \"n\": 5341}, {\"threshold\": 0.9800000190734863, \"p\": 28046, \"fpr\": 0.04755663733383261, \"tpr\": 0.6942522997931969, \"n\": 5341}, {\"threshold\": 0.9810000061988831, \"p\": 28046, \"fpr\": 0.046807713911252574, \"tpr\": 0.6885117307280896, \"n\": 5341}, {\"threshold\": 0.9819999933242798, \"p\": 28046, \"fpr\": 0.0454970979217375, \"tpr\": 0.6819510803679669, \"n\": 5341}, {\"threshold\": 0.9829999804496765, \"p\": 28046, \"fpr\": 0.04325032765399738, \"tpr\": 0.6760678884689438, \"n\": 5341}, {\"threshold\": 0.984000027179718, \"p\": 28046, \"fpr\": 0.0417524808088373, \"tpr\": 0.6687584682307638, \"n\": 5341}, {\"threshold\": 0.9850000143051147, \"p\": 28046, \"fpr\": 0.04100355738625726, \"tpr\": 0.6611994580332311, \"n\": 5341}, {\"threshold\": 0.9860000014305115, \"p\": 28046, \"fpr\": 0.03969294139674218, \"tpr\": 0.65292733366612, \"n\": 5341}, {\"threshold\": 0.9869999885559082, \"p\": 28046, \"fpr\": 0.038944017974162144, \"tpr\": 0.6436568494615988, \"n\": 5341}, {\"threshold\": 0.9879999756813049, \"p\": 28046, \"fpr\": 0.03744617112900206, \"tpr\": 0.6343863652570777, \"n\": 5341}, {\"threshold\": 0.9890000224113464, \"p\": 28046, \"fpr\": 0.035761093428196965, \"tpr\": 0.6244740782999358, \"n\": 5341}, {\"threshold\": 0.9900000095367432, \"p\": 28046, \"fpr\": 0.03332709230481183, \"tpr\": 0.6129216287527633, \"n\": 5341}, {\"threshold\": 0.9909999966621399, \"p\": 28046, \"fpr\": 0.03182924545965175, \"tpr\": 0.6007273764529701, \"n\": 5341}, {\"threshold\": 0.9919999837875366, \"p\": 28046, \"fpr\": 0.030518629470136678, \"tpr\": 0.5867146830207516, \"n\": 5341}, {\"threshold\": 0.9929999709129333, \"p\": 28046, \"fpr\": 0.028271859202396554, \"tpr\": 0.5715966626256864, \"n\": 5341}, {\"threshold\": 0.9940000176429749, \"p\": 28046, \"fpr\": 0.026774012357236473, \"tpr\": 0.5544462668473222, \"n\": 5341}, {\"threshold\": 0.9950000047683716, \"p\": 28046, \"fpr\": 0.0254633963677214, \"tpr\": 0.5321614490479926, \"n\": 5341}, {\"threshold\": 0.9959999918937683, \"p\": 28046, \"fpr\": 0.023403856955626287, \"tpr\": 0.5051700777294444, \"n\": 5341}, {\"threshold\": 0.996999979019165, \"p\": 28046, \"fpr\": 0.021157086687886163, \"tpr\": 0.471974613135563, \"n\": 5341}, {\"threshold\": 0.9980000257492065, \"p\": 28046, \"fpr\": 0.017974162141920987, \"tpr\": 0.42744063324538256, \"n\": 5341}, {\"threshold\": 0.9990000128746033, \"p\": 28046, \"fpr\": 0.013855083317730763, \"tpr\": 0.358411181630179, \"n\": 5341}, {\"threshold\": 1.0, \"p\": 28046, \"fpr\": 0.0, \"tpr\": 0.0, \"n\": 5341}]}]], \"type\": \"Model\"}, \"ipython\": true, \"view_params\": {\"model_type\": \"regression\", \"view\": \"Evaluation\"}, \"model_type\": \"regression\", \"attributes\": {\"section_titles\": [\"Schema\", \"Hyperparameters\", \"Training Summary\", \"Settings\", \"Highest Positive Coefficients\", \"Lowest Negative Coefficients\"], \"sections\": [[[\"Number of coefficients\", 219218], [\"Number of examples\", 133448], [\"Number of classes\", 2], [\"Number of feature columns\", 1], [\"Number of unpacked features\", 219217]], [[\"L1 penalty\", 0.0], [\"L2 penalty\", 0.01]], [[\"Solver\", \"auto\"], [\"Solver iterations\", 10], [\"Solver status\", \"TERMINATED: Iteration limit reached.\"], [\"Training time (sec)\", 9.7704]], [[\"Log-likelihood\", 4956.6901]], [[\"word_count[pinkjeep]\", 13.5701], [\"word_count[(http://www.amazon.com/review/rhgg6qp7tdnhb/ref=cm_cr_pr_cmt?ie=utf8&asin;=b00318cla0&nodeid;)]\", 12.3088], [\"word_count[label/box.]\", 11.1774], [\"word_count[product.***]\", 11.064], [\"word_count[direct-pumping]\", 11.0531]], [[\"word_count[it.update:after]\", -18.3631], [\"word_count[5months.]\", -16.0906], [\"word_count[oldest.if]\", -15.9315], [\"word_count[maxima.]\", -15.8084], [\"word_count[(160.00)]\", -15.4512]]]}, \"evaluations\": [[\"test_data\", {\"roc_curve\": [{\"threshold\": 0.0, \"p\": 28046, \"fpr\": 0.2214941022280472, \"tpr\": 0.00424302930899237, \"n\": 5341}, {\"threshold\": 0.0010000000474974513, \"p\": 28046, \"fpr\": 0.7785058977719528, \"tpr\": 0.9957569706910077, \"n\": 5341}, {\"threshold\": 0.0020000000949949026, \"p\": 28046, \"fpr\": 0.7391874180865007, \"tpr\": 0.994544676602724, \"n\": 5341}, {\"threshold\": 0.003000000026077032, \"p\": 28046, \"fpr\": 0.7163452536978094, \"tpr\": 0.9939385295585823, \"n\": 5341}, {\"threshold\": 0.004000000189989805, \"p\": 28046, \"fpr\": 0.7008050926792735, \"tpr\": 0.9934750053483563, \"n\": 5341}, {\"threshold\": 0.004999999888241291, \"p\": 28046, \"fpr\": 0.6897584721962179, \"tpr\": 0.993082792555088, \"n\": 5341}, {\"threshold\": 0.006000000052154064, \"p\": 28046, \"fpr\": 0.6802096985583224, \"tpr\": 0.9925123012194252, \"n\": 5341}, {\"threshold\": 0.007000000216066837, \"p\": 28046, \"fpr\": 0.6697247706422018, \"tpr\": 0.9921557441346359, \"n\": 5341}, {\"threshold\": 0.00800000037997961, \"p\": 28046, \"fpr\": 0.6594270735817263, \"tpr\": 0.9919061541752835, \"n\": 5341}, {\"threshold\": 0.008999999612569809, \"p\": 28046, \"fpr\": 0.6521250702115708, \"tpr\": 0.9915852527989731, \"n\": 5341}, {\"threshold\": 0.009999999776482582, \"p\": 28046, \"fpr\": 0.6435124508519003, \"tpr\": 0.9913356628396206, \"n\": 5341}, {\"threshold\": 0.010999999940395355, \"p\": 28046, \"fpr\": 0.636584909193035, \"tpr\": 0.9910504171717892, \"n\": 5341}, {\"threshold\": 0.012000000104308128, \"p\": 28046, \"fpr\": 0.6311552143793298, \"tpr\": 0.9907295157954789, \"n\": 5341}, {\"threshold\": 0.013000000268220901, \"p\": 28046, \"fpr\": 0.6244149035761093, \"tpr\": 0.9904799258361263, \"n\": 5341}, {\"threshold\": 0.014000000432133675, \"p\": 28046, \"fpr\": 0.6197341321849841, \"tpr\": 0.9901946801682949, \"n\": 5341}, {\"threshold\": 0.014999999664723873, \"p\": 28046, \"fpr\": 0.6129938213817637, \"tpr\": 0.9899450902089425, \"n\": 5341}, {\"threshold\": 0.01600000075995922, \"p\": 28046, \"fpr\": 0.6085002808462835, \"tpr\": 0.9895885331241532, \"n\": 5341}, {\"threshold\": 0.017000000923871994, \"p\": 28046, \"fpr\": 0.6047556637333833, \"tpr\": 0.9893389431648006, \"n\": 5341}, {\"threshold\": 0.017999999225139618, \"p\": 28046, \"fpr\": 0.599887661486613, \"tpr\": 0.989196320330885, \"n\": 5341}, {\"threshold\": 0.01899999938905239, \"p\": 28046, \"fpr\": 0.5950196592398427, \"tpr\": 0.9890536974969693, \"n\": 5341}, {\"threshold\": 0.019999999552965164, \"p\": 28046, \"fpr\": 0.5905261187043624, \"tpr\": 0.9888397632460957, \"n\": 5341}, {\"threshold\": 0.020999999716877937, \"p\": 28046, \"fpr\": 0.5869687324471072, \"tpr\": 0.98869714041218, \"n\": 5341}, {\"threshold\": 0.02199999988079071, \"p\": 28046, \"fpr\": 0.5839730387567871, \"tpr\": 0.9884832061613065, \"n\": 5341}, {\"threshold\": 0.023000000044703484, \"p\": 28046, \"fpr\": 0.582100730200337, \"tpr\": 0.9883405833273907, \"n\": 5341}, {\"threshold\": 0.024000000208616257, \"p\": 28046, \"fpr\": 0.5777944205205018, \"tpr\": 0.9881623047849961, \"n\": 5341}, {\"threshold\": 0.02500000037252903, \"p\": 28046, \"fpr\": 0.5746114959745366, \"tpr\": 0.9879483705341225, \"n\": 5341}, {\"threshold\": 0.026000000536441803, \"p\": 28046, \"fpr\": 0.5712413405729264, \"tpr\": 0.9878057477002068, \"n\": 5341}, {\"threshold\": 0.027000000700354576, \"p\": 28046, \"fpr\": 0.5680584160269613, \"tpr\": 0.9875561577408543, \"n\": 5341}, {\"threshold\": 0.02800000086426735, \"p\": 28046, \"fpr\": 0.5652499531922861, \"tpr\": 0.9873778791984597, \"n\": 5341}, {\"threshold\": 0.028999999165534973, \"p\": 28046, \"fpr\": 0.5616925669350309, \"tpr\": 0.987235256364544, \"n\": 5341}, {\"threshold\": 0.029999999329447746, \"p\": 28046, \"fpr\": 0.5581351806777757, \"tpr\": 0.9868786992797547, \"n\": 5341}, {\"threshold\": 0.03099999949336052, \"p\": 28046, \"fpr\": 0.5566373338326156, \"tpr\": 0.9867717321543179, \"n\": 5341}, {\"threshold\": 0.03200000151991844, \"p\": 28046, \"fpr\": 0.5528927167197154, \"tpr\": 0.9865221421949654, \"n\": 5341}, {\"threshold\": 0.032999999821186066, \"p\": 28046, \"fpr\": 0.5489608687511702, \"tpr\": 0.9863438636525708, \"n\": 5341}, {\"threshold\": 0.03400000184774399, \"p\": 28046, \"fpr\": 0.5470885601947201, \"tpr\": 0.986236896527134, \"n\": 5341}, {\"threshold\": 0.03500000014901161, \"p\": 28046, \"fpr\": 0.54521625163827, \"tpr\": 0.986201240818655, \"n\": 5341}, {\"threshold\": 0.035999998450279236, \"p\": 28046, \"fpr\": 0.5431567122261749, \"tpr\": 0.9860942736932183, \"n\": 5341}, {\"threshold\": 0.03700000047683716, \"p\": 28046, \"fpr\": 0.5409099419584348, \"tpr\": 0.9859873065677816, \"n\": 5341}, {\"threshold\": 0.03799999877810478, \"p\": 28046, \"fpr\": 0.5377270174124695, \"tpr\": 0.9856307494829922, \"n\": 5341}, {\"threshold\": 0.039000000804662704, \"p\": 28046, \"fpr\": 0.5366036322785995, \"tpr\": 0.9854168152321187, \"n\": 5341}, {\"threshold\": 0.03999999910593033, \"p\": 28046, \"fpr\": 0.5352930162890844, \"tpr\": 0.9853098481066819, \"n\": 5341}, {\"threshold\": 0.04100000113248825, \"p\": 28046, \"fpr\": 0.5332334768769893, \"tpr\": 0.9852028809812451, \"n\": 5341}, {\"threshold\": 0.041999999433755875, \"p\": 28046, \"fpr\": 0.5302377831866691, \"tpr\": 0.9850959138558083, \"n\": 5341}, {\"threshold\": 0.0430000014603138, \"p\": 28046, \"fpr\": 0.5291143980527991, \"tpr\": 0.9849176353134137, \"n\": 5341}, {\"threshold\": 0.04399999976158142, \"p\": 28046, \"fpr\": 0.5266803969294139, \"tpr\": 0.9848106681879769, \"n\": 5341}, {\"threshold\": 0.04500000178813934, \"p\": 28046, \"fpr\": 0.5255570117955439, \"tpr\": 0.9846680453540612, \"n\": 5341}, {\"threshold\": 0.04600000008940697, \"p\": 28046, \"fpr\": 0.5227485489608688, \"tpr\": 0.9846323896455823, \"n\": 5341}, {\"threshold\": 0.04699999839067459, \"p\": 28046, \"fpr\": 0.5208762404044186, \"tpr\": 0.9843827996862298, \"n\": 5341}, {\"threshold\": 0.04800000041723251, \"p\": 28046, \"fpr\": 0.5186294701366785, \"tpr\": 0.9841688654353562, \"n\": 5341}, {\"threshold\": 0.04899999871850014, \"p\": 28046, \"fpr\": 0.5175060850028085, \"tpr\": 0.9840262426014404, \"n\": 5341}, {\"threshold\": 0.05000000074505806, \"p\": 28046, \"fpr\": 0.5156337764463583, \"tpr\": 0.9838836197675248, \"n\": 5341}, {\"threshold\": 0.050999999046325684, \"p\": 28046, \"fpr\": 0.5124508519003932, \"tpr\": 0.9836340298081723, \"n\": 5341}, {\"threshold\": 0.052000001072883606, \"p\": 28046, \"fpr\": 0.509829619921363, \"tpr\": 0.9834914069742566, \"n\": 5341}, {\"threshold\": 0.05299999937415123, \"p\": 28046, \"fpr\": 0.5083317730762029, \"tpr\": 0.9833487841403409, \"n\": 5341}, {\"threshold\": 0.05400000140070915, \"p\": 28046, \"fpr\": 0.5062722336641079, \"tpr\": 0.9831705055979463, \"n\": 5341}, {\"threshold\": 0.054999999701976776, \"p\": 28046, \"fpr\": 0.5051488485302378, \"tpr\": 0.9830991941809883, \"n\": 5341}, {\"threshold\": 0.0560000017285347, \"p\": 28046, \"fpr\": 0.5027148474068527, \"tpr\": 0.9830278827640305, \"n\": 5341}, {\"threshold\": 0.05700000002980232, \"p\": 28046, \"fpr\": 0.5006553079947575, \"tpr\": 0.982813948513157, \"n\": 5341}, {\"threshold\": 0.057999998331069946, \"p\": 28046, \"fpr\": 0.49840853772701743, \"tpr\": 0.9826713256792412, \"n\": 5341}, {\"threshold\": 0.05900000035762787, \"p\": 28046, \"fpr\": 0.4972851525931474, \"tpr\": 0.9825287028453256, \"n\": 5341}, {\"threshold\": 0.05999999865889549, \"p\": 28046, \"fpr\": 0.4948511514697622, \"tpr\": 0.9824930471368466, \"n\": 5341}, {\"threshold\": 0.061000000685453415, \"p\": 28046, \"fpr\": 0.4927916120576671, \"tpr\": 0.9823504243029308, \"n\": 5341}, {\"threshold\": 0.06199999898672104, \"p\": 28046, \"fpr\": 0.490919303501217, \"tpr\": 0.982314768594452, \"n\": 5341}, {\"threshold\": 0.06300000101327896, \"p\": 28046, \"fpr\": 0.48960868751170195, \"tpr\": 0.9822434571774941, \"n\": 5341}, {\"threshold\": 0.06400000303983688, \"p\": 28046, \"fpr\": 0.4884853023778319, \"tpr\": 0.9821008343435784, \"n\": 5341}, {\"threshold\": 0.06499999761581421, \"p\": 28046, \"fpr\": 0.4871746863883168, \"tpr\": 0.9821008343435784, \"n\": 5341}, {\"threshold\": 0.06599999964237213, \"p\": 28046, \"fpr\": 0.4866129938213818, \"tpr\": 0.9820651786350995, \"n\": 5341}, {\"threshold\": 0.06700000166893005, \"p\": 28046, \"fpr\": 0.4858640703988017, \"tpr\": 0.9819938672181416, \"n\": 5341}, {\"threshold\": 0.06800000369548798, \"p\": 28046, \"fpr\": 0.48474068526493164, \"tpr\": 0.981815588675747, \"n\": 5341}, {\"threshold\": 0.0689999982714653, \"p\": 28046, \"fpr\": 0.4836173001310616, \"tpr\": 0.9817442772587891, \"n\": 5341}, {\"threshold\": 0.07000000029802322, \"p\": 28046, \"fpr\": 0.48286837670848154, \"tpr\": 0.9816729658418313, \"n\": 5341}, {\"threshold\": 0.07100000232458115, \"p\": 28046, \"fpr\": 0.4815577607189665, \"tpr\": 0.9816016544248735, \"n\": 5341}, {\"threshold\": 0.07199999690055847, \"p\": 28046, \"fpr\": 0.4802471447294514, \"tpr\": 0.9815659987163945, \"n\": 5341}, {\"threshold\": 0.0729999989271164, \"p\": 28046, \"fpr\": 0.4783748361730013, \"tpr\": 0.9815303430079155, \"n\": 5341}, {\"threshold\": 0.07400000095367432, \"p\": 28046, \"fpr\": 0.4768769893278412, \"tpr\": 0.9814233758824787, \"n\": 5341}, {\"threshold\": 0.07500000298023224, \"p\": 28046, \"fpr\": 0.47500468077139113, \"tpr\": 0.981316408757042, \"n\": 5341}, {\"threshold\": 0.07599999755620956, \"p\": 28046, \"fpr\": 0.47406852649316605, \"tpr\": 0.9811381302146474, \"n\": 5341}, {\"threshold\": 0.07699999958276749, \"p\": 28046, \"fpr\": 0.472757910503651, \"tpr\": 0.9811024745061684, \"n\": 5341}, {\"threshold\": 0.07800000160932541, \"p\": 28046, \"fpr\": 0.47182175622542594, \"tpr\": 0.980817228838337, \"n\": 5341}, {\"threshold\": 0.07900000363588333, \"p\": 28046, \"fpr\": 0.4708856019472009, \"tpr\": 0.980817228838337, \"n\": 5341}, {\"threshold\": 0.07999999821186066, \"p\": 28046, \"fpr\": 0.46994944766897584, \"tpr\": 0.9807102617129002, \"n\": 5341}, {\"threshold\": 0.08100000023841858, \"p\": 28046, \"fpr\": 0.4692005242463958, \"tpr\": 0.9806746060044214, \"n\": 5341}, {\"threshold\": 0.0820000022649765, \"p\": 28046, \"fpr\": 0.4677026774012357, \"tpr\": 0.9806389502959424, \"n\": 5341}, {\"threshold\": 0.08299999684095383, \"p\": 28046, \"fpr\": 0.46620483055607564, \"tpr\": 0.9803893603365899, \"n\": 5341}, {\"threshold\": 0.08399999886751175, \"p\": 28046, \"fpr\": 0.46489421456656055, \"tpr\": 0.980318048919632, \"n\": 5341}, {\"threshold\": 0.08500000089406967, \"p\": 28046, \"fpr\": 0.46283467515446547, \"tpr\": 0.980318048919632, \"n\": 5341}, {\"threshold\": 0.0860000029206276, \"p\": 28046, \"fpr\": 0.4618985208762404, \"tpr\": 0.9802823932111531, \"n\": 5341}, {\"threshold\": 0.08699999749660492, \"p\": 28046, \"fpr\": 0.4604006740310803, \"tpr\": 0.9802110817941952, \"n\": 5341}, {\"threshold\": 0.08799999952316284, \"p\": 28046, \"fpr\": 0.45890282718592024, \"tpr\": 0.9799971475433217, \"n\": 5341}, {\"threshold\": 0.08900000154972076, \"p\": 28046, \"fpr\": 0.45834113461898524, \"tpr\": 0.9798188690009271, \"n\": 5341}, {\"threshold\": 0.09000000357627869, \"p\": 28046, \"fpr\": 0.45740498034076016, \"tpr\": 0.9797475575839691, \"n\": 5341}, {\"threshold\": 0.09099999815225601, \"p\": 28046, \"fpr\": 0.4564688260625351, \"tpr\": 0.9797119018754903, \"n\": 5341}, {\"threshold\": 0.09200000017881393, \"p\": 28046, \"fpr\": 0.455345440928665, \"tpr\": 0.9796762461670113, \"n\": 5341}, {\"threshold\": 0.09300000220537186, \"p\": 28046, \"fpr\": 0.45403482493915, \"tpr\": 0.9794979676246167, \"n\": 5341}, {\"threshold\": 0.09399999678134918, \"p\": 28046, \"fpr\": 0.45328590151656994, \"tpr\": 0.9794266562076589, \"n\": 5341}, {\"threshold\": 0.0949999988079071, \"p\": 28046, \"fpr\": 0.45234974723834487, \"tpr\": 0.9793196890822221, \"n\": 5341}, {\"threshold\": 0.09600000083446503, \"p\": 28046, \"fpr\": 0.45141359296011985, \"tpr\": 0.9792127219567853, \"n\": 5341}, {\"threshold\": 0.09700000286102295, \"p\": 28046, \"fpr\": 0.4506646695375398, \"tpr\": 0.9791414105398274, \"n\": 5341}, {\"threshold\": 0.09799999743700027, \"p\": 28046, \"fpr\": 0.44991574611495977, \"tpr\": 0.9789274762889538, \"n\": 5341}, {\"threshold\": 0.0989999994635582, \"p\": 28046, \"fpr\": 0.4489795918367347, \"tpr\": 0.9787135420380803, \"n\": 5341}, {\"threshold\": 0.10000000149011612, \"p\": 28046, \"fpr\": 0.4480434375585096, \"tpr\": 0.9786422306211224, \"n\": 5341}, {\"threshold\": 0.10100000351667404, \"p\": 28046, \"fpr\": 0.4461711290020595, \"tpr\": 0.9785709192041646, \"n\": 5341}, {\"threshold\": 0.10199999809265137, \"p\": 28046, \"fpr\": 0.44467328215689944, \"tpr\": 0.9784282963702489, \"n\": 5341}, {\"threshold\": 0.10300000011920929, \"p\": 28046, \"fpr\": 0.4439243587343194, \"tpr\": 0.9783926406617699, \"n\": 5341}, {\"threshold\": 0.10400000214576721, \"p\": 28046, \"fpr\": 0.44280097360044934, \"tpr\": 0.9782143621193753, \"n\": 5341}, {\"threshold\": 0.10499999672174454, \"p\": 28046, \"fpr\": 0.4424265118891593, \"tpr\": 0.9780360835769807, \"n\": 5341}, {\"threshold\": 0.10599999874830246, \"p\": 28046, \"fpr\": 0.44074143418835426, \"tpr\": 0.9778934607430649, \"n\": 5341}, {\"threshold\": 0.10700000077486038, \"p\": 28046, \"fpr\": 0.4396180490544842, \"tpr\": 0.9778578050345861, \"n\": 5341}, {\"threshold\": 0.1080000028014183, \"p\": 28046, \"fpr\": 0.43905635648754915, \"tpr\": 0.9777864936176281, \"n\": 5341}, {\"threshold\": 0.10899999737739563, \"p\": 28046, \"fpr\": 0.43812020220932407, \"tpr\": 0.9775725593667546, \"n\": 5341}, {\"threshold\": 0.10999999940395355, \"p\": 28046, \"fpr\": 0.43737127878674403, \"tpr\": 0.9774299365328389, \"n\": 5341}, {\"threshold\": 0.11100000143051147, \"p\": 28046, \"fpr\": 0.43587343194158396, \"tpr\": 0.9774299365328389, \"n\": 5341}, {\"threshold\": 0.1120000034570694, \"p\": 28046, \"fpr\": 0.43531173937464895, \"tpr\": 0.9772873136989232, \"n\": 5341}, {\"threshold\": 0.11299999803304672, \"p\": 28046, \"fpr\": 0.4345628159520689, \"tpr\": 0.9771446908650074, \"n\": 5341}, {\"threshold\": 0.11400000005960464, \"p\": 28046, \"fpr\": 0.4338138925294889, \"tpr\": 0.9771090351565286, \"n\": 5341}, {\"threshold\": 0.11500000208616257, \"p\": 28046, \"fpr\": 0.4323160456843288, \"tpr\": 0.9770020680310918, \"n\": 5341}, {\"threshold\": 0.11599999666213989, \"p\": 28046, \"fpr\": 0.4313798914061037, \"tpr\": 0.9769664123226128, \"n\": 5341}, {\"threshold\": 0.11699999868869781, \"p\": 28046, \"fpr\": 0.4308181988391687, \"tpr\": 0.976859445197176, \"n\": 5341}, {\"threshold\": 0.11800000071525574, \"p\": 28046, \"fpr\": 0.4306309679835237, \"tpr\": 0.9767881337802182, \"n\": 5341}, {\"threshold\": 0.11900000274181366, \"p\": 28046, \"fpr\": 0.42988204456094364, \"tpr\": 0.9767168223632604, \"n\": 5341}, {\"threshold\": 0.11999999731779099, \"p\": 28046, \"fpr\": 0.4291331211383636, \"tpr\": 0.9766455109463025, \"n\": 5341}, {\"threshold\": 0.12099999934434891, \"p\": 28046, \"fpr\": 0.42857142857142855, \"tpr\": 0.97639592098695, \"n\": 5341}, {\"threshold\": 0.12200000137090683, \"p\": 28046, \"fpr\": 0.42857142857142855, \"tpr\": 0.9762889538615133, \"n\": 5341}, {\"threshold\": 0.12300000339746475, \"p\": 28046, \"fpr\": 0.42838419771578357, \"tpr\": 0.9762176424445553, \"n\": 5341}, {\"threshold\": 0.12399999797344208, \"p\": 28046, \"fpr\": 0.4272608125819135, \"tpr\": 0.9761106753191185, \"n\": 5341}, {\"threshold\": 0.125, \"p\": 28046, \"fpr\": 0.42669912001497845, \"tpr\": 0.9760750196106397, \"n\": 5341}, {\"threshold\": 0.12600000202655792, \"p\": 28046, \"fpr\": 0.42576296573675343, \"tpr\": 0.9760750196106397, \"n\": 5341}, {\"threshold\": 0.12700000405311584, \"p\": 28046, \"fpr\": 0.4250140423141734, \"tpr\": 0.975896741068245, \"n\": 5341}, {\"threshold\": 0.12800000607967377, \"p\": 28046, \"fpr\": 0.42426511889159335, \"tpr\": 0.9758610853597661, \"n\": 5341}, {\"threshold\": 0.1289999932050705, \"p\": 28046, \"fpr\": 0.4237034263246583, \"tpr\": 0.9756828068173714, \"n\": 5341}, {\"threshold\": 0.12999999523162842, \"p\": 28046, \"fpr\": 0.42258004119078824, \"tpr\": 0.975468872566498, \"n\": 5341}, {\"threshold\": 0.13099999725818634, \"p\": 28046, \"fpr\": 0.42201834862385323, \"tpr\": 0.975433216858019, \"n\": 5341}, {\"threshold\": 0.13199999928474426, \"p\": 28046, \"fpr\": 0.42070773263433814, \"tpr\": 0.9752905940241032, \"n\": 5341}, {\"threshold\": 0.13300000131130219, \"p\": 28046, \"fpr\": 0.4201460400674031, \"tpr\": 0.9752192826071454, \"n\": 5341}, {\"threshold\": 0.1340000033378601, \"p\": 28046, \"fpr\": 0.419022654933533, \"tpr\": 0.9751123154817086, \"n\": 5341}, {\"threshold\": 0.13500000536441803, \"p\": 28046, \"fpr\": 0.41733757723272796, \"tpr\": 0.9750053483562718, \"n\": 5341}, {\"threshold\": 0.13600000739097595, \"p\": 28046, \"fpr\": 0.4165886538101479, \"tpr\": 0.9750053483562718, \"n\": 5341}, {\"threshold\": 0.13699999451637268, \"p\": 28046, \"fpr\": 0.41546526867627787, \"tpr\": 0.9747557583969193, \"n\": 5341}, {\"threshold\": 0.1379999965429306, \"p\": 28046, \"fpr\": 0.4149035761093428, \"tpr\": 0.9747201026884404, \"n\": 5341}, {\"threshold\": 0.13899999856948853, \"p\": 28046, \"fpr\": 0.4139674218311178, \"tpr\": 0.9746487912714825, \"n\": 5341}, {\"threshold\": 0.14000000059604645, \"p\": 28046, \"fpr\": 0.41378019097547275, \"tpr\": 0.9746487912714825, \"n\": 5341}, {\"threshold\": 0.14100000262260437, \"p\": 28046, \"fpr\": 0.41359296011982777, \"tpr\": 0.9746131355630037, \"n\": 5341}, {\"threshold\": 0.1420000046491623, \"p\": 28046, \"fpr\": 0.41284403669724773, \"tpr\": 0.9745774798545247, \"n\": 5341}, {\"threshold\": 0.14300000667572021, \"p\": 28046, \"fpr\": 0.41190788241902265, \"tpr\": 0.9745418241460457, \"n\": 5341}, {\"threshold\": 0.14399999380111694, \"p\": 28046, \"fpr\": 0.41153342070773263, \"tpr\": 0.9745418241460457, \"n\": 5341}, {\"threshold\": 0.14499999582767487, \"p\": 28046, \"fpr\": 0.4098483430069275, \"tpr\": 0.9745061684375669, \"n\": 5341}, {\"threshold\": 0.1459999978542328, \"p\": 28046, \"fpr\": 0.4090994195843475, \"tpr\": 0.974434857020609, \"n\": 5341}, {\"threshold\": 0.1469999998807907, \"p\": 28046, \"fpr\": 0.4079760344504774, \"tpr\": 0.9743635456036511, \"n\": 5341}, {\"threshold\": 0.14800000190734863, \"p\": 28046, \"fpr\": 0.40778880359483244, \"tpr\": 0.9742565784782143, \"n\": 5341}, {\"threshold\": 0.14900000393390656, \"p\": 28046, \"fpr\": 0.4072271110278974, \"tpr\": 0.9742209227697355, \"n\": 5341}, {\"threshold\": 0.15000000596046448, \"p\": 28046, \"fpr\": 0.4066654184609624, \"tpr\": 0.9741496113527776, \"n\": 5341}, {\"threshold\": 0.1509999930858612, \"p\": 28046, \"fpr\": 0.4055420333270923, \"tpr\": 0.9741139556442987, \"n\": 5341}, {\"threshold\": 0.15199999511241913, \"p\": 28046, \"fpr\": 0.4055420333270923, \"tpr\": 0.9740426442273408, \"n\": 5341}, {\"threshold\": 0.15299999713897705, \"p\": 28046, \"fpr\": 0.40498034076015726, \"tpr\": 0.9739000213934251, \"n\": 5341}, {\"threshold\": 0.15399999916553497, \"p\": 28046, \"fpr\": 0.4038569556262872, \"tpr\": 0.9738287099764672, \"n\": 5341}, {\"threshold\": 0.1550000011920929, \"p\": 28046, \"fpr\": 0.4034824939149972, \"tpr\": 0.9736860871425516, \"n\": 5341}, {\"threshold\": 0.15600000321865082, \"p\": 28046, \"fpr\": 0.4029208013480622, \"tpr\": 0.9736147757255936, \"n\": 5341}, {\"threshold\": 0.15700000524520874, \"p\": 28046, \"fpr\": 0.40273357049241715, \"tpr\": 0.9735078086001568, \"n\": 5341}, {\"threshold\": 0.15800000727176666, \"p\": 28046, \"fpr\": 0.4019846470698371, \"tpr\": 0.973436497183199, \"n\": 5341}, {\"threshold\": 0.1589999943971634, \"p\": 28046, \"fpr\": 0.40179741621419207, \"tpr\": 0.9734008414747201, \"n\": 5341}, {\"threshold\": 0.1599999964237213, \"p\": 28046, \"fpr\": 0.40123572364725707, \"tpr\": 0.9733651857662412, \"n\": 5341}, {\"threshold\": 0.16099999845027924, \"p\": 28046, \"fpr\": 0.40048680022467703, \"tpr\": 0.9732938743492833, \"n\": 5341}, {\"threshold\": 0.16200000047683716, \"p\": 28046, \"fpr\": 0.400112338513387, \"tpr\": 0.9731869072238465, \"n\": 5341}, {\"threshold\": 0.16300000250339508, \"p\": 28046, \"fpr\": 0.399737876802097, \"tpr\": 0.9731155958068887, \"n\": 5341}, {\"threshold\": 0.164000004529953, \"p\": 28046, \"fpr\": 0.3988017225238719, \"tpr\": 0.9730799400984097, \"n\": 5341}, {\"threshold\": 0.16500000655651093, \"p\": 28046, \"fpr\": 0.3980527991012919, \"tpr\": 0.972972972972973, \"n\": 5341}, {\"threshold\": 0.16599999368190765, \"p\": 28046, \"fpr\": 0.39767833739000186, \"tpr\": 0.9729016615560151, \"n\": 5341}, {\"threshold\": 0.16699999570846558, \"p\": 28046, \"fpr\": 0.39730387567871184, \"tpr\": 0.9727946944305783, \"n\": 5341}, {\"threshold\": 0.1679999977350235, \"p\": 28046, \"fpr\": 0.3969294139674218, \"tpr\": 0.9726877273051415, \"n\": 5341}, {\"threshold\": 0.16899999976158142, \"p\": 28046, \"fpr\": 0.3961804905448418, \"tpr\": 0.9725807601797047, \"n\": 5341}, {\"threshold\": 0.17000000178813934, \"p\": 28046, \"fpr\": 0.39486987455532674, \"tpr\": 0.972473793054268, \"n\": 5341}, {\"threshold\": 0.17100000381469727, \"p\": 28046, \"fpr\": 0.3937464894214567, \"tpr\": 0.972473793054268, \"n\": 5341}, {\"threshold\": 0.1720000058412552, \"p\": 28046, \"fpr\": 0.39337202771016666, \"tpr\": 0.9724024816373101, \"n\": 5341}, {\"threshold\": 0.17299999296665192, \"p\": 28046, \"fpr\": 0.3924358734319416, \"tpr\": 0.9724024816373101, \"n\": 5341}, {\"threshold\": 0.17399999499320984, \"p\": 28046, \"fpr\": 0.39224864257629655, \"tpr\": 0.9723311702203523, \"n\": 5341}, {\"threshold\": 0.17499999701976776, \"p\": 28046, \"fpr\": 0.39206141172065156, \"tpr\": 0.9721885473864366, \"n\": 5341}, {\"threshold\": 0.17599999904632568, \"p\": 28046, \"fpr\": 0.3913124882980715, \"tpr\": 0.9721528916779576, \"n\": 5341}, {\"threshold\": 0.1770000010728836, \"p\": 28046, \"fpr\": 0.38981464145291145, \"tpr\": 0.9720815802609998, \"n\": 5341}, {\"threshold\": 0.17800000309944153, \"p\": 28046, \"fpr\": 0.3890657180303314, \"tpr\": 0.971974613135563, \"n\": 5341}, {\"threshold\": 0.17900000512599945, \"p\": 28046, \"fpr\": 0.3886912563190414, \"tpr\": 0.9719033017186052, \"n\": 5341}, {\"threshold\": 0.18000000715255737, \"p\": 28046, \"fpr\": 0.3877551020408163, \"tpr\": 0.9717606788846894, \"n\": 5341}, {\"threshold\": 0.1809999942779541, \"p\": 28046, \"fpr\": 0.3871934094738813, \"tpr\": 0.9716893674677316, \"n\": 5341}, {\"threshold\": 0.18199999630451202, \"p\": 28046, \"fpr\": 0.3864444860513013, \"tpr\": 0.971475433216858, \"n\": 5341}, {\"threshold\": 0.18299999833106995, \"p\": 28046, \"fpr\": 0.38569556262872123, \"tpr\": 0.9713328103829423, \"n\": 5341}, {\"threshold\": 0.18400000035762787, \"p\": 28046, \"fpr\": 0.3853211009174312, \"tpr\": 0.9711545318405477, \"n\": 5341}, {\"threshold\": 0.1850000023841858, \"p\": 28046, \"fpr\": 0.38475940835049616, \"tpr\": 0.9711188761320687, \"n\": 5341}, {\"threshold\": 0.1860000044107437, \"p\": 28046, \"fpr\": 0.38382325407227114, \"tpr\": 0.9711188761320687, \"n\": 5341}, {\"threshold\": 0.18700000643730164, \"p\": 28046, \"fpr\": 0.382699868938401, \"tpr\": 0.9709405975896741, \"n\": 5341}, {\"threshold\": 0.18799999356269836, \"p\": 28046, \"fpr\": 0.382699868938401, \"tpr\": 0.9709049418811951, \"n\": 5341}, {\"threshold\": 0.1889999955892563, \"p\": 28046, \"fpr\": 0.382325407227111, \"tpr\": 0.9707979747557584, \"n\": 5341}, {\"threshold\": 0.1899999976158142, \"p\": 28046, \"fpr\": 0.381950945515821, \"tpr\": 0.9706196962133637, \"n\": 5341}, {\"threshold\": 0.19099999964237213, \"p\": 28046, \"fpr\": 0.381389252948886, \"tpr\": 0.9705483847964059, \"n\": 5341}, {\"threshold\": 0.19200000166893005, \"p\": 28046, \"fpr\": 0.38120202209324094, \"tpr\": 0.9704414176709691, \"n\": 5341}, {\"threshold\": 0.19300000369548798, \"p\": 28046, \"fpr\": 0.38064032952630594, \"tpr\": 0.9702987948370534, \"n\": 5341}, {\"threshold\": 0.1940000057220459, \"p\": 28046, \"fpr\": 0.3802658678150159, \"tpr\": 0.9702274834200956, \"n\": 5341}, {\"threshold\": 0.19499999284744263, \"p\": 28046, \"fpr\": 0.3798914061037259, \"tpr\": 0.9701561720031378, \"n\": 5341}, {\"threshold\": 0.19599999487400055, \"p\": 28046, \"fpr\": 0.3795169443924359, \"tpr\": 0.9700848605861798, \"n\": 5341}, {\"threshold\": 0.19699999690055847, \"p\": 28046, \"fpr\": 0.37932971353679085, \"tpr\": 0.970049204877701, \"n\": 5341}, {\"threshold\": 0.1979999989271164, \"p\": 28046, \"fpr\": 0.37914248268114586, \"tpr\": 0.970013549169222, \"n\": 5341}, {\"threshold\": 0.19900000095367432, \"p\": 28046, \"fpr\": 0.37876802096985585, \"tpr\": 0.9699065820437852, \"n\": 5341}, {\"threshold\": 0.20000000298023224, \"p\": 28046, \"fpr\": 0.3780190975472758, \"tpr\": 0.9698709263353062, \"n\": 5341}, {\"threshold\": 0.20100000500679016, \"p\": 28046, \"fpr\": 0.37745740498034075, \"tpr\": 0.9698352706268274, \"n\": 5341}, {\"threshold\": 0.20200000703334808, \"p\": 28046, \"fpr\": 0.37708294326905073, \"tpr\": 0.9697283035013906, \"n\": 5341}, {\"threshold\": 0.2029999941587448, \"p\": 28046, \"fpr\": 0.37708294326905073, \"tpr\": 0.9696926477929116, \"n\": 5341}, {\"threshold\": 0.20399999618530273, \"p\": 28046, \"fpr\": 0.37652125070211573, \"tpr\": 0.9695500249589959, \"n\": 5341}, {\"threshold\": 0.20499999821186066, \"p\": 28046, \"fpr\": 0.37539786556824567, \"tpr\": 0.9694074021250803, \"n\": 5341}, {\"threshold\": 0.20600000023841858, \"p\": 28046, \"fpr\": 0.3744617112900206, \"tpr\": 0.9693004349996435, \"n\": 5341}, {\"threshold\": 0.2070000022649765, \"p\": 28046, \"fpr\": 0.3740872495787306, \"tpr\": 0.9692647792911645, \"n\": 5341}, {\"threshold\": 0.20800000429153442, \"p\": 28046, \"fpr\": 0.37371278786744055, \"tpr\": 0.9691578121657277, \"n\": 5341}, {\"threshold\": 0.20900000631809235, \"p\": 28046, \"fpr\": 0.3727766335892155, \"tpr\": 0.9690865007487699, \"n\": 5341}, {\"threshold\": 0.20999999344348907, \"p\": 28046, \"fpr\": 0.37146601759970044, \"tpr\": 0.9690151893318121, \"n\": 5341}, {\"threshold\": 0.210999995470047, \"p\": 28046, \"fpr\": 0.3710915558884104, \"tpr\": 0.9689082222063753, \"n\": 5341}, {\"threshold\": 0.21199999749660492, \"p\": 28046, \"fpr\": 0.3709043250327654, \"tpr\": 0.9686942879555017, \"n\": 5341}, {\"threshold\": 0.21299999952316284, \"p\": 28046, \"fpr\": 0.3703426324658304, \"tpr\": 0.9686229765385438, \"n\": 5341}, {\"threshold\": 0.21400000154972076, \"p\": 28046, \"fpr\": 0.36996817075454036, \"tpr\": 0.968516009413107, \"n\": 5341}, {\"threshold\": 0.2150000035762787, \"p\": 28046, \"fpr\": 0.3694064781876053, \"tpr\": 0.9684803537046281, \"n\": 5341}, {\"threshold\": 0.2160000056028366, \"p\": 28046, \"fpr\": 0.3684703239093803, \"tpr\": 0.9684090422876702, \"n\": 5341}, {\"threshold\": 0.21699999272823334, \"p\": 28046, \"fpr\": 0.36809586219809026, \"tpr\": 0.9684090422876702, \"n\": 5341}, {\"threshold\": 0.21799999475479126, \"p\": 28046, \"fpr\": 0.3669724770642202, \"tpr\": 0.9684090422876702, \"n\": 5341}, {\"threshold\": 0.21899999678134918, \"p\": 28046, \"fpr\": 0.36622355364164016, \"tpr\": 0.9683377308707124, \"n\": 5341}, {\"threshold\": 0.2199999988079071, \"p\": 28046, \"fpr\": 0.3652873993634151, \"tpr\": 0.9683020751622334, \"n\": 5341}, {\"threshold\": 0.22100000083446503, \"p\": 28046, \"fpr\": 0.3647257067964801, \"tpr\": 0.9681594523283178, \"n\": 5341}, {\"threshold\": 0.22200000286102295, \"p\": 28046, \"fpr\": 0.36453847594083505, \"tpr\": 0.9681594523283178, \"n\": 5341}, {\"threshold\": 0.22300000488758087, \"p\": 28046, \"fpr\": 0.36416401422954503, \"tpr\": 0.9679455180774442, \"n\": 5341}, {\"threshold\": 0.2240000069141388, \"p\": 28046, \"fpr\": 0.36322785995131995, \"tpr\": 0.9678742066604863, \"n\": 5341}, {\"threshold\": 0.22499999403953552, \"p\": 28046, \"fpr\": 0.3624789365287399, \"tpr\": 0.9678028952435285, \"n\": 5341}, {\"threshold\": 0.22599999606609344, \"p\": 28046, \"fpr\": 0.3619172439618049, \"tpr\": 0.9676959281180917, \"n\": 5341}, {\"threshold\": 0.22699999809265137, \"p\": 28046, \"fpr\": 0.3617300131061599, \"tpr\": 0.9674819938672181, \"n\": 5341}, {\"threshold\": 0.2280000001192093, \"p\": 28046, \"fpr\": 0.3611683205392249, \"tpr\": 0.9673750267417813, \"n\": 5341}, {\"threshold\": 0.2290000021457672, \"p\": 28046, \"fpr\": 0.36041939711664484, \"tpr\": 0.9673393710333025, \"n\": 5341}, {\"threshold\": 0.23000000417232513, \"p\": 28046, \"fpr\": 0.3600449354053548, \"tpr\": 0.9673037153248235, \"n\": 5341}, {\"threshold\": 0.23100000619888306, \"p\": 28046, \"fpr\": 0.3592960119827748, \"tpr\": 0.9671967481993867, \"n\": 5341}, {\"threshold\": 0.23199999332427979, \"p\": 28046, \"fpr\": 0.3583598577045497, \"tpr\": 0.9670897810739499, \"n\": 5341}, {\"threshold\": 0.2329999953508377, \"p\": 28046, \"fpr\": 0.3579853959932597, \"tpr\": 0.9670184696569921, \"n\": 5341}, {\"threshold\": 0.23399999737739563, \"p\": 28046, \"fpr\": 0.35761093428196966, \"tpr\": 0.9669828139485132, \"n\": 5341}, {\"threshold\": 0.23499999940395355, \"p\": 28046, \"fpr\": 0.3574237034263247, \"tpr\": 0.9669828139485132, \"n\": 5341}, {\"threshold\": 0.23600000143051147, \"p\": 28046, \"fpr\": 0.3564875491480996, \"tpr\": 0.9669115025315553, \"n\": 5341}, {\"threshold\": 0.2370000034570694, \"p\": 28046, \"fpr\": 0.3561130874368096, \"tpr\": 0.9668758468230764, \"n\": 5341}, {\"threshold\": 0.23800000548362732, \"p\": 28046, \"fpr\": 0.35517693315858456, \"tpr\": 0.9668401911145974, \"n\": 5341}, {\"threshold\": 0.23899999260902405, \"p\": 28046, \"fpr\": 0.3546152405916495, \"tpr\": 0.9668045354061185, \"n\": 5341}, {\"threshold\": 0.23999999463558197, \"p\": 28046, \"fpr\": 0.35442800973600447, \"tpr\": 0.966519289738287, \"n\": 5341}, {\"threshold\": 0.2409999966621399, \"p\": 28046, \"fpr\": 0.35367908631342443, \"tpr\": 0.9664123226128504, \"n\": 5341}, {\"threshold\": 0.24199999868869781, \"p\": 28046, \"fpr\": 0.35349185545777945, \"tpr\": 0.9663410111958924, \"n\": 5341}, {\"threshold\": 0.24300000071525574, \"p\": 28046, \"fpr\": 0.3531173937464894, \"tpr\": 0.9662340440704557, \"n\": 5341}, {\"threshold\": 0.24400000274181366, \"p\": 28046, \"fpr\": 0.3527429320351994, \"tpr\": 0.9661627326534978, \"n\": 5341}, {\"threshold\": 0.24500000476837158, \"p\": 28046, \"fpr\": 0.35180677775697433, \"tpr\": 0.966055765528061, \"n\": 5341}, {\"threshold\": 0.2460000067949295, \"p\": 28046, \"fpr\": 0.3510578543343943, \"tpr\": 0.9659844541111032, \"n\": 5341}, {\"threshold\": 0.24699999392032623, \"p\": 28046, \"fpr\": 0.3510578543343943, \"tpr\": 0.9659131426941453, \"n\": 5341}, {\"threshold\": 0.24799999594688416, \"p\": 28046, \"fpr\": 0.3506833926231043, \"tpr\": 0.9658774869856664, \"n\": 5341}, {\"threshold\": 0.24899999797344208, \"p\": 28046, \"fpr\": 0.35030893091181425, \"tpr\": 0.9658061755687085, \"n\": 5341}, {\"threshold\": 0.25, \"p\": 28046, \"fpr\": 0.34993446920052423, \"tpr\": 0.9657705198602297, \"n\": 5341}, {\"threshold\": 0.25099998712539673, \"p\": 28046, \"fpr\": 0.3495600074892342, \"tpr\": 0.9657348641517507, \"n\": 5341}, {\"threshold\": 0.25200000405311584, \"p\": 28046, \"fpr\": 0.34937277663358923, \"tpr\": 0.9656278970263139, \"n\": 5341}, {\"threshold\": 0.2529999911785126, \"p\": 28046, \"fpr\": 0.3489983149222992, \"tpr\": 0.9655565856093561, \"n\": 5341}, {\"threshold\": 0.2540000081062317, \"p\": 28046, \"fpr\": 0.3486238532110092, \"tpr\": 0.9655209299008771, \"n\": 5341}, {\"threshold\": 0.2549999952316284, \"p\": 28046, \"fpr\": 0.3482493914997192, \"tpr\": 0.9654852741923982, \"n\": 5341}, {\"threshold\": 0.25600001215934753, \"p\": 28046, \"fpr\": 0.34750046807713914, \"tpr\": 0.9654139627754403, \"n\": 5341}, {\"threshold\": 0.25699999928474426, \"p\": 28046, \"fpr\": 0.3471260063658491, \"tpr\": 0.9653783070669614, \"n\": 5341}, {\"threshold\": 0.257999986410141, \"p\": 28046, \"fpr\": 0.3469387755102041, \"tpr\": 0.9653069956500036, \"n\": 5341}, {\"threshold\": 0.2590000033378601, \"p\": 28046, \"fpr\": 0.345815390376334, \"tpr\": 0.9652713399415246, \"n\": 5341}, {\"threshold\": 0.25999999046325684, \"p\": 28046, \"fpr\": 0.345628159520689, \"tpr\": 0.9652000285245668, \"n\": 5341}, {\"threshold\": 0.26100000739097595, \"p\": 28046, \"fpr\": 0.345628159520689, \"tpr\": 0.965128717107609, \"n\": 5341}, {\"threshold\": 0.2619999945163727, \"p\": 28046, \"fpr\": 0.34525369780939896, \"tpr\": 0.965128717107609, \"n\": 5341}, {\"threshold\": 0.2630000114440918, \"p\": 28046, \"fpr\": 0.34469200524246396, \"tpr\": 0.9650574056906511, \"n\": 5341}, {\"threshold\": 0.2639999985694885, \"p\": 28046, \"fpr\": 0.34431754353117394, \"tpr\": 0.9649860942736932, \"n\": 5341}, {\"threshold\": 0.26499998569488525, \"p\": 28046, \"fpr\": 0.3437558509642389, \"tpr\": 0.9649504385652143, \"n\": 5341}, {\"threshold\": 0.26600000262260437, \"p\": 28046, \"fpr\": 0.3435686201085939, \"tpr\": 0.9647721600228196, \"n\": 5341}, {\"threshold\": 0.2669999897480011, \"p\": 28046, \"fpr\": 0.3426324658303688, \"tpr\": 0.9647365043143408, \"n\": 5341}, {\"threshold\": 0.2680000066757202, \"p\": 28046, \"fpr\": 0.3422580041190788, \"tpr\": 0.964593881480425, \"n\": 5341}, {\"threshold\": 0.26899999380111694, \"p\": 28046, \"fpr\": 0.3418835424077888, \"tpr\": 0.9645225700634672, \"n\": 5341}, {\"threshold\": 0.27000001072883606, \"p\": 28046, \"fpr\": 0.3416963115521438, \"tpr\": 0.9645225700634672, \"n\": 5341}, {\"threshold\": 0.2709999978542328, \"p\": 28046, \"fpr\": 0.34150908069649877, \"tpr\": 0.9643799472295514, \"n\": 5341}, {\"threshold\": 0.2720000147819519, \"p\": 28046, \"fpr\": 0.34057292641827375, \"tpr\": 0.9643799472295514, \"n\": 5341}, {\"threshold\": 0.27300000190734863, \"p\": 28046, \"fpr\": 0.3400112338513387, \"tpr\": 0.9642729801041147, \"n\": 5341}, {\"threshold\": 0.27399998903274536, \"p\": 28046, \"fpr\": 0.3394495412844037, \"tpr\": 0.9642016686871568, \"n\": 5341}, {\"threshold\": 0.2750000059604645, \"p\": 28046, \"fpr\": 0.33907507957311367, \"tpr\": 0.9640590458532411, \"n\": 5341}, {\"threshold\": 0.2759999930858612, \"p\": 28046, \"fpr\": 0.33870061786182365, \"tpr\": 0.9640233901447621, \"n\": 5341}, {\"threshold\": 0.2770000100135803, \"p\": 28046, \"fpr\": 0.33832615615053363, \"tpr\": 0.9639877344362833, \"n\": 5341}, {\"threshold\": 0.27799999713897705, \"p\": 28046, \"fpr\": 0.3379516944392436, \"tpr\": 0.9639520787278043, \"n\": 5341}, {\"threshold\": 0.27900001406669617, \"p\": 28046, \"fpr\": 0.33739000187230855, \"tpr\": 0.9639164230193253, \"n\": 5341}, {\"threshold\": 0.2800000011920929, \"p\": 28046, \"fpr\": 0.33720277101666357, \"tpr\": 0.9639164230193253, \"n\": 5341}, {\"threshold\": 0.2809999883174896, \"p\": 28046, \"fpr\": 0.33682830930537355, \"tpr\": 0.9638094558938887, \"n\": 5341}, {\"threshold\": 0.28200000524520874, \"p\": 28046, \"fpr\": 0.33682830930537355, \"tpr\": 0.9637738001854097, \"n\": 5341}, {\"threshold\": 0.28299999237060547, \"p\": 28046, \"fpr\": 0.3358921550271485, \"tpr\": 0.9636668330599729, \"n\": 5341}, {\"threshold\": 0.2840000092983246, \"p\": 28046, \"fpr\": 0.33551769331585846, \"tpr\": 0.9635598659345361, \"n\": 5341}, {\"threshold\": 0.2849999964237213, \"p\": 28046, \"fpr\": 0.3349560007489234, \"tpr\": 0.9634172431006204, \"n\": 5341}, {\"threshold\": 0.28600001335144043, \"p\": 28046, \"fpr\": 0.3347687698932784, \"tpr\": 0.9633459316836626, \"n\": 5341}, {\"threshold\": 0.28700000047683716, \"p\": 28046, \"fpr\": 0.33420707732634336, \"tpr\": 0.963167653141268, \"n\": 5341}, {\"threshold\": 0.2879999876022339, \"p\": 28046, \"fpr\": 0.33364538475940836, \"tpr\": 0.9630606860158312, \"n\": 5341}, {\"threshold\": 0.289000004529953, \"p\": 28046, \"fpr\": 0.33327092304811834, \"tpr\": 0.9629537188903944, \"n\": 5341}, {\"threshold\": 0.28999999165534973, \"p\": 28046, \"fpr\": 0.3328964613368283, \"tpr\": 0.9628110960564786, \"n\": 5341}, {\"threshold\": 0.29100000858306885, \"p\": 28046, \"fpr\": 0.33233476876989326, \"tpr\": 0.9627397846395208, \"n\": 5341}, {\"threshold\": 0.2919999957084656, \"p\": 28046, \"fpr\": 0.33196030705860324, \"tpr\": 0.962632817514084, \"n\": 5341}, {\"threshold\": 0.2930000126361847, \"p\": 28046, \"fpr\": 0.33139861449166824, \"tpr\": 0.9625258503886472, \"n\": 5341}, {\"threshold\": 0.2939999997615814, \"p\": 28046, \"fpr\": 0.33139861449166824, \"tpr\": 0.9623832275547315, \"n\": 5341}, {\"threshold\": 0.29499998688697815, \"p\": 28046, \"fpr\": 0.3312113836360232, \"tpr\": 0.9622406047208159, \"n\": 5341}, {\"threshold\": 0.29600000381469727, \"p\": 28046, \"fpr\": 0.3306496910690882, \"tpr\": 0.9622049490123369, \"n\": 5341}, {\"threshold\": 0.296999990940094, \"p\": 28046, \"fpr\": 0.32990076764650816, \"tpr\": 0.9620979818869001, \"n\": 5341}, {\"threshold\": 0.2980000078678131, \"p\": 28046, \"fpr\": 0.3297135367908631, \"tpr\": 0.9619910147614633, \"n\": 5341}, {\"threshold\": 0.29899999499320984, \"p\": 28046, \"fpr\": 0.3291518442239281, \"tpr\": 0.9619553590529843, \"n\": 5341}, {\"threshold\": 0.30000001192092896, \"p\": 28046, \"fpr\": 0.3291518442239281, \"tpr\": 0.9617770805105897, \"n\": 5341}, {\"threshold\": 0.3009999990463257, \"p\": 28046, \"fpr\": 0.3284029208013481, \"tpr\": 0.9617414248021108, \"n\": 5341}, {\"threshold\": 0.3019999861717224, \"p\": 28046, \"fpr\": 0.32821568994570305, \"tpr\": 0.961634457676674, \"n\": 5341}, {\"threshold\": 0.30300000309944153, \"p\": 28046, \"fpr\": 0.32765399737876805, \"tpr\": 0.961634457676674, \"n\": 5341}, {\"threshold\": 0.30399999022483826, \"p\": 28046, \"fpr\": 0.327092304811833, \"tpr\": 0.9615631462597162, \"n\": 5341}, {\"threshold\": 0.3050000071525574, \"p\": 28046, \"fpr\": 0.32653061224489793, \"tpr\": 0.9614918348427584, \"n\": 5341}, {\"threshold\": 0.3059999942779541, \"p\": 28046, \"fpr\": 0.32596891967796293, \"tpr\": 0.9613848677173216, \"n\": 5341}, {\"threshold\": 0.3070000112056732, \"p\": 28046, \"fpr\": 0.32596891967796293, \"tpr\": 0.9613135563003636, \"n\": 5341}, {\"threshold\": 0.30799999833106995, \"p\": 28046, \"fpr\": 0.3255944579666729, \"tpr\": 0.9613135563003636, \"n\": 5341}, {\"threshold\": 0.3089999854564667, \"p\": 28046, \"fpr\": 0.32465830368844784, \"tpr\": 0.9612779005918848, \"n\": 5341}, {\"threshold\": 0.3100000023841858, \"p\": 28046, \"fpr\": 0.32447107283280285, \"tpr\": 0.9610996220494902, \"n\": 5341}, {\"threshold\": 0.3109999895095825, \"p\": 28046, \"fpr\": 0.3237221494102228, \"tpr\": 0.9610996220494902, \"n\": 5341}, {\"threshold\": 0.31200000643730164, \"p\": 28046, \"fpr\": 0.3235349185545778, \"tpr\": 0.9609926549240534, \"n\": 5341}, {\"threshold\": 0.31299999356269836, \"p\": 28046, \"fpr\": 0.32316045684328776, \"tpr\": 0.9608856877986166, \"n\": 5341}, {\"threshold\": 0.3140000104904175, \"p\": 28046, \"fpr\": 0.32259876427635276, \"tpr\": 0.9608856877986166, \"n\": 5341}, {\"threshold\": 0.3149999976158142, \"p\": 28046, \"fpr\": 0.3214753791424827, \"tpr\": 0.9608500320901376, \"n\": 5341}, {\"threshold\": 0.3160000145435333, \"p\": 28046, \"fpr\": 0.3211009174311927, \"tpr\": 0.9607074092562219, \"n\": 5341}, {\"threshold\": 0.31700000166893005, \"p\": 28046, \"fpr\": 0.32035199400861264, \"tpr\": 0.9605647864223062, \"n\": 5341}, {\"threshold\": 0.3179999887943268, \"p\": 28046, \"fpr\": 0.3201647631529676, \"tpr\": 0.9604934750053483, \"n\": 5341}, {\"threshold\": 0.3190000057220459, \"p\": 28046, \"fpr\": 0.3197903014416776, \"tpr\": 0.9603865078799115, \"n\": 5341}, {\"threshold\": 0.3199999928474426, \"p\": 28046, \"fpr\": 0.3196030705860326, \"tpr\": 0.9602795407544747, \"n\": 5341}, {\"threshold\": 0.32100000977516174, \"p\": 28046, \"fpr\": 0.31941583973038756, \"tpr\": 0.960172573629038, \"n\": 5341}, {\"threshold\": 0.32199999690055847, \"p\": 28046, \"fpr\": 0.31904137801909754, \"tpr\": 0.9599586393781644, \"n\": 5341}, {\"threshold\": 0.3230000138282776, \"p\": 28046, \"fpr\": 0.31885414716345256, \"tpr\": 0.9599586393781644, \"n\": 5341}, {\"threshold\": 0.3240000009536743, \"p\": 28046, \"fpr\": 0.3186669163078075, \"tpr\": 0.9598873279612066, \"n\": 5341}, {\"threshold\": 0.32499998807907104, \"p\": 28046, \"fpr\": 0.3182924545965175, \"tpr\": 0.9598160165442488, \"n\": 5341}, {\"threshold\": 0.32600000500679016, \"p\": 28046, \"fpr\": 0.3179179928852275, \"tpr\": 0.959709049418812, \"n\": 5341}, {\"threshold\": 0.3269999921321869, \"p\": 28046, \"fpr\": 0.31754353117393747, \"tpr\": 0.959673393710333, \"n\": 5341}, {\"threshold\": 0.328000009059906, \"p\": 28046, \"fpr\": 0.3164201460400674, \"tpr\": 0.9596377380018541, \"n\": 5341}, {\"threshold\": 0.32899999618530273, \"p\": 28046, \"fpr\": 0.31567122261748737, \"tpr\": 0.9596020822933752, \"n\": 5341}, {\"threshold\": 0.33000001311302185, \"p\": 28046, \"fpr\": 0.31492229919490733, \"tpr\": 0.9595307708764174, \"n\": 5341}, {\"threshold\": 0.3310000002384186, \"p\": 28046, \"fpr\": 0.3145478374836173, \"tpr\": 0.9594951151679384, \"n\": 5341}, {\"threshold\": 0.3319999873638153, \"p\": 28046, \"fpr\": 0.31436060662797227, \"tpr\": 0.9593881480425016, \"n\": 5341}, {\"threshold\": 0.3330000042915344, \"p\": 28046, \"fpr\": 0.3141733757723273, \"tpr\": 0.9593168366255438, \"n\": 5341}, {\"threshold\": 0.33399999141693115, \"p\": 28046, \"fpr\": 0.3132372214941022, \"tpr\": 0.9593168366255438, \"n\": 5341}, {\"threshold\": 0.33500000834465027, \"p\": 28046, \"fpr\": 0.31304999063845723, \"tpr\": 0.9592455252085859, \"n\": 5341}, {\"threshold\": 0.335999995470047, \"p\": 28046, \"fpr\": 0.3126755289271672, \"tpr\": 0.959209869500107, \"n\": 5341}, {\"threshold\": 0.3370000123977661, \"p\": 28046, \"fpr\": 0.3123010672158772, \"tpr\": 0.9590672466661913, \"n\": 5341}, {\"threshold\": 0.33799999952316284, \"p\": 28046, \"fpr\": 0.3119266055045872, \"tpr\": 0.9589602795407545, \"n\": 5341}, {\"threshold\": 0.33899998664855957, \"p\": 28046, \"fpr\": 0.31155214379329715, \"tpr\": 0.9589246238322755, \"n\": 5341}, {\"threshold\": 0.3400000035762787, \"p\": 28046, \"fpr\": 0.3106159895150721, \"tpr\": 0.9587820009983599, \"n\": 5341}, {\"threshold\": 0.3409999907016754, \"p\": 28046, \"fpr\": 0.3104287586594271, \"tpr\": 0.9587106895814019, \"n\": 5341}, {\"threshold\": 0.34200000762939453, \"p\": 28046, \"fpr\": 0.30967983523684706, \"tpr\": 0.9586037224559651, \"n\": 5341}, {\"threshold\": 0.34299999475479126, \"p\": 28046, \"fpr\": 0.30967983523684706, \"tpr\": 0.9584967553305285, \"n\": 5341}, {\"threshold\": 0.3440000116825104, \"p\": 28046, \"fpr\": 0.309492604381202, \"tpr\": 0.9582828210796549, \"n\": 5341}, {\"threshold\": 0.3449999988079071, \"p\": 28046, \"fpr\": 0.308930911814267, \"tpr\": 0.958211509662697, \"n\": 5341}, {\"threshold\": 0.34599998593330383, \"p\": 28046, \"fpr\": 0.308743680958622, \"tpr\": 0.9581758539542181, \"n\": 5341}, {\"threshold\": 0.34700000286102295, \"p\": 28046, \"fpr\": 0.30799475753604194, \"tpr\": 0.9580332311203024, \"n\": 5341}, {\"threshold\": 0.3479999899864197, \"p\": 28046, \"fpr\": 0.3078075266803969, \"tpr\": 0.9579975754118234, \"n\": 5341}, {\"threshold\": 0.3490000069141388, \"p\": 28046, \"fpr\": 0.3076202958247519, \"tpr\": 0.9579262639948656, \"n\": 5341}, {\"threshold\": 0.3499999940395355, \"p\": 28046, \"fpr\": 0.3076202958247519, \"tpr\": 0.9578549525779078, \"n\": 5341}, {\"threshold\": 0.35100001096725464, \"p\": 28046, \"fpr\": 0.30668414154652685, \"tpr\": 0.9577836411609498, \"n\": 5341}, {\"threshold\": 0.35199999809265137, \"p\": 28046, \"fpr\": 0.30649691069088186, \"tpr\": 0.957747985452471, \"n\": 5341}, {\"threshold\": 0.3529999852180481, \"p\": 28046, \"fpr\": 0.3059352181239468, \"tpr\": 0.9576053626185552, \"n\": 5341}, {\"threshold\": 0.3540000021457672, \"p\": 28046, \"fpr\": 0.3057479872683018, \"tpr\": 0.9575340512015974, \"n\": 5341}, {\"threshold\": 0.35499998927116394, \"p\": 28046, \"fpr\": 0.3057479872683018, \"tpr\": 0.9573914283676817, \"n\": 5341}, {\"threshold\": 0.35600000619888306, \"p\": 28046, \"fpr\": 0.3055607564126568, \"tpr\": 0.9573914283676817, \"n\": 5341}, {\"threshold\": 0.3569999933242798, \"p\": 28046, \"fpr\": 0.3049990638457218, \"tpr\": 0.9572844612422449, \"n\": 5341}, {\"threshold\": 0.3580000102519989, \"p\": 28046, \"fpr\": 0.30481183299007675, \"tpr\": 0.957213149825287, \"n\": 5341}, {\"threshold\": 0.35899999737739563, \"p\": 28046, \"fpr\": 0.30481183299007675, \"tpr\": 0.9571061826998503, \"n\": 5341}, {\"threshold\": 0.36000001430511475, \"p\": 28046, \"fpr\": 0.3040629095674967, \"tpr\": 0.9570705269913713, \"n\": 5341}, {\"threshold\": 0.3610000014305115, \"p\": 28046, \"fpr\": 0.3038756787118517, \"tpr\": 0.9569635598659345, \"n\": 5341}, {\"threshold\": 0.3619999885559082, \"p\": 28046, \"fpr\": 0.3036884478562067, \"tpr\": 0.9568922484489767, \"n\": 5341}, {\"threshold\": 0.3630000054836273, \"p\": 28046, \"fpr\": 0.30331398614491667, \"tpr\": 0.9567852813235399, \"n\": 5341}, {\"threshold\": 0.36399999260902405, \"p\": 28046, \"fpr\": 0.30331398614491667, \"tpr\": 0.9567496256150609, \"n\": 5341}, {\"threshold\": 0.36500000953674316, \"p\": 28046, \"fpr\": 0.30293952443362665, \"tpr\": 0.9566783141981031, \"n\": 5341}, {\"threshold\": 0.3659999966621399, \"p\": 28046, \"fpr\": 0.30256506272233663, \"tpr\": 0.9566070027811453, \"n\": 5341}, {\"threshold\": 0.367000013589859, \"p\": 28046, \"fpr\": 0.3021906010110466, \"tpr\": 0.9565713470726663, \"n\": 5341}, {\"threshold\": 0.36800000071525574, \"p\": 28046, \"fpr\": 0.3021906010110466, \"tpr\": 0.9563930685302717, \"n\": 5341}, {\"threshold\": 0.36899998784065247, \"p\": 28046, \"fpr\": 0.3021906010110466, \"tpr\": 0.956214789987877, \"n\": 5341}, {\"threshold\": 0.3700000047683716, \"p\": 28046, \"fpr\": 0.30200337015540163, \"tpr\": 0.9561791342793982, \"n\": 5341}, {\"threshold\": 0.3709999918937683, \"p\": 28046, \"fpr\": 0.30200337015540163, \"tpr\": 0.9560721671539614, \"n\": 5341}, {\"threshold\": 0.3720000088214874, \"p\": 28046, \"fpr\": 0.3018161392997566, \"tpr\": 0.9560008557370034, \"n\": 5341}, {\"threshold\": 0.37299999594688416, \"p\": 28046, \"fpr\": 0.3012544467328216, \"tpr\": 0.9560008557370034, \"n\": 5341}, {\"threshold\": 0.37400001287460327, \"p\": 28046, \"fpr\": 0.30087998502153157, \"tpr\": 0.9560008557370034, \"n\": 5341}, {\"threshold\": 0.375, \"p\": 28046, \"fpr\": 0.30069275416588653, \"tpr\": 0.9558938886115668, \"n\": 5341}, {\"threshold\": 0.37599998712539673, \"p\": 28046, \"fpr\": 0.30013106159895153, \"tpr\": 0.9558938886115668, \"n\": 5341}, {\"threshold\": 0.37700000405311584, \"p\": 28046, \"fpr\": 0.2999438307433065, \"tpr\": 0.9558225771946088, \"n\": 5341}, {\"threshold\": 0.3779999911785126, \"p\": 28046, \"fpr\": 0.2995693690320165, \"tpr\": 0.9555373315267774, \"n\": 5341}, {\"threshold\": 0.3790000081062317, \"p\": 28046, \"fpr\": 0.2990076764650814, \"tpr\": 0.9555016758182985, \"n\": 5341}, {\"threshold\": 0.3799999952316284, \"p\": 28046, \"fpr\": 0.29882044560943644, \"tpr\": 0.9553590529843828, \"n\": 5341}, {\"threshold\": 0.38100001215934753, \"p\": 28046, \"fpr\": 0.2982587530425014, \"tpr\": 0.955252085858946, \"n\": 5341}, {\"threshold\": 0.38199999928474426, \"p\": 28046, \"fpr\": 0.29750982961992134, \"tpr\": 0.9551451187335093, \"n\": 5341}, {\"threshold\": 0.382999986410141, \"p\": 28046, \"fpr\": 0.29732259876427636, \"tpr\": 0.9549668401911146, \"n\": 5341}, {\"threshold\": 0.3840000033378601, \"p\": 28046, \"fpr\": 0.2971353679086313, \"tpr\": 0.9548242173571989, \"n\": 5341}, {\"threshold\": 0.38499999046325684, \"p\": 28046, \"fpr\": 0.2971353679086313, \"tpr\": 0.9547172502317621, \"n\": 5341}, {\"threshold\": 0.38600000739097595, \"p\": 28046, \"fpr\": 0.29601198277476126, \"tpr\": 0.9546459388148042, \"n\": 5341}, {\"threshold\": 0.3869999945163727, \"p\": 28046, \"fpr\": 0.29563752106347124, \"tpr\": 0.9546459388148042, \"n\": 5341}, {\"threshold\": 0.3880000114440918, \"p\": 28046, \"fpr\": 0.2947013667852462, \"tpr\": 0.9545033159808886, \"n\": 5341}, {\"threshold\": 0.3889999985694885, \"p\": 28046, \"fpr\": 0.2939524433626662, \"tpr\": 0.9544320045639307, \"n\": 5341}, {\"threshold\": 0.38999998569488525, \"p\": 28046, \"fpr\": 0.29376521250702115, \"tpr\": 0.9543606931469728, \"n\": 5341}, {\"threshold\": 0.39100000262260437, \"p\": 28046, \"fpr\": 0.29320351994008614, \"tpr\": 0.954289381730015, \"n\": 5341}, {\"threshold\": 0.3919999897480011, \"p\": 28046, \"fpr\": 0.2928290582287961, \"tpr\": 0.9541824146045782, \"n\": 5341}, {\"threshold\": 0.3930000066757202, \"p\": 28046, \"fpr\": 0.2920801348062161, \"tpr\": 0.9539684803537046, \"n\": 5341}, {\"threshold\": 0.39399999380111694, \"p\": 28046, \"fpr\": 0.29170567309492607, \"tpr\": 0.9539328246452257, \"n\": 5341}, {\"threshold\": 0.39500001072883606, \"p\": 28046, \"fpr\": 0.29151844223928103, \"tpr\": 0.9537545461028311, \"n\": 5341}, {\"threshold\": 0.3959999978542328, \"p\": 28046, \"fpr\": 0.291143980527991, \"tpr\": 0.9536832346858732, \"n\": 5341}, {\"threshold\": 0.3970000147819519, \"p\": 28046, \"fpr\": 0.290582287961056, \"tpr\": 0.9536119232689153, \"n\": 5341}, {\"threshold\": 0.39800000190734863, \"p\": 28046, \"fpr\": 0.290207826249766, \"tpr\": 0.9535762675604365, \"n\": 5341}, {\"threshold\": 0.39899998903274536, \"p\": 28046, \"fpr\": 0.290207826249766, \"tpr\": 0.9535049561434785, \"n\": 5341}, {\"threshold\": 0.4000000059604645, \"p\": 28046, \"fpr\": 0.28964613368283093, \"tpr\": 0.9533979890180417, \"n\": 5341}, {\"threshold\": 0.4009999930858612, \"p\": 28046, \"fpr\": 0.28870997940460585, \"tpr\": 0.953291021892605, \"n\": 5341}, {\"threshold\": 0.4020000100135803, \"p\": 28046, \"fpr\": 0.28814828683767085, \"tpr\": 0.9531483990586893, \"n\": 5341}, {\"threshold\": 0.40299999713897705, \"p\": 28046, \"fpr\": 0.2875865942707358, \"tpr\": 0.9530414319332525, \"n\": 5341}, {\"threshold\": 0.40400001406669617, \"p\": 28046, \"fpr\": 0.2875865942707358, \"tpr\": 0.9530057762247736, \"n\": 5341}, {\"threshold\": 0.4050000011920929, \"p\": 28046, \"fpr\": 0.2875865942707358, \"tpr\": 0.9530057762247736, \"n\": 5341}, {\"threshold\": 0.4059999883174896, \"p\": 28046, \"fpr\": 0.2873993634150908, \"tpr\": 0.9529701205162947, \"n\": 5341}, {\"threshold\": 0.40700000524520874, \"p\": 28046, \"fpr\": 0.2872121325594458, \"tpr\": 0.9529701205162947, \"n\": 5341}, {\"threshold\": 0.40799999237060547, \"p\": 28046, \"fpr\": 0.2866504399925108, \"tpr\": 0.9528631533908579, \"n\": 5341}, {\"threshold\": 0.4090000092983246, \"p\": 28046, \"fpr\": 0.28627597828122076, \"tpr\": 0.9527918419739, \"n\": 5341}, {\"threshold\": 0.4099999964237213, \"p\": 28046, \"fpr\": 0.2860887474255757, \"tpr\": 0.9527561862654211, \"n\": 5341}, {\"threshold\": 0.41100001335144043, \"p\": 28046, \"fpr\": 0.28590151656993074, \"tpr\": 0.9525065963060686, \"n\": 5341}, {\"threshold\": 0.41200000047683716, \"p\": 28046, \"fpr\": 0.2853398240029957, \"tpr\": 0.9524709405975896, \"n\": 5341}, {\"threshold\": 0.4129999876022339, \"p\": 28046, \"fpr\": 0.28496536229170566, \"tpr\": 0.9523996291806318, \"n\": 5341}, {\"threshold\": 0.414000004529953, \"p\": 28046, \"fpr\": 0.28440366972477066, \"tpr\": 0.952328317763674, \"n\": 5341}, {\"threshold\": 0.41499999165534973, \"p\": 28046, \"fpr\": 0.28440366972477066, \"tpr\": 0.952292662055195, \"n\": 5341}, {\"threshold\": 0.41600000858306885, \"p\": 28046, \"fpr\": 0.28402920801348064, \"tpr\": 0.9522213506382372, \"n\": 5341}, {\"threshold\": 0.4169999957084656, \"p\": 28046, \"fpr\": 0.2834675154465456, \"tpr\": 0.9521500392212793, \"n\": 5341}, {\"threshold\": 0.4180000126361847, \"p\": 28046, \"fpr\": 0.2834675154465456, \"tpr\": 0.9520430720958425, \"n\": 5341}, {\"threshold\": 0.4189999997615814, \"p\": 28046, \"fpr\": 0.2829058228796106, \"tpr\": 0.9519717606788847, \"n\": 5341}, {\"threshold\": 0.41999998688697815, \"p\": 28046, \"fpr\": 0.2829058228796106, \"tpr\": 0.9519361049704058, \"n\": 5341}, {\"threshold\": 0.42100000381469727, \"p\": 28046, \"fpr\": 0.28253136116832056, \"tpr\": 0.9518647935534479, \"n\": 5341}, {\"threshold\": 0.421999990940094, \"p\": 28046, \"fpr\": 0.2823441303126755, \"tpr\": 0.9517578264280111, \"n\": 5341}, {\"threshold\": 0.4230000078678131, \"p\": 28046, \"fpr\": 0.28215689945703054, \"tpr\": 0.9516508593025743, \"n\": 5341}, {\"threshold\": 0.42399999499320984, \"p\": 28046, \"fpr\": 0.28215689945703054, \"tpr\": 0.9515438921771375, \"n\": 5341}, {\"threshold\": 0.42500001192092896, \"p\": 28046, \"fpr\": 0.2819696686013855, \"tpr\": 0.9515082364686587, \"n\": 5341}, {\"threshold\": 0.4259999990463257, \"p\": 28046, \"fpr\": 0.2814079760344505, \"tpr\": 0.9514369250517007, \"n\": 5341}, {\"threshold\": 0.4269999861717224, \"p\": 28046, \"fpr\": 0.28084628346751545, \"tpr\": 0.9514012693432219, \"n\": 5341}, {\"threshold\": 0.42800000309944153, \"p\": 28046, \"fpr\": 0.27991012918929037, \"tpr\": 0.9512229908008272, \"n\": 5341}, {\"threshold\": 0.42899999022483826, \"p\": 28046, \"fpr\": 0.27934843662235537, \"tpr\": 0.9510803679669115, \"n\": 5341}, {\"threshold\": 0.4300000071525574, \"p\": 28046, \"fpr\": 0.2787867440554203, \"tpr\": 0.9510090565499536, \"n\": 5341}, {\"threshold\": 0.4309999942779541, \"p\": 28046, \"fpr\": 0.2784122823441303, \"tpr\": 0.9509377451329958, \"n\": 5341}, {\"threshold\": 0.4320000112056732, \"p\": 28046, \"fpr\": 0.27766335892155025, \"tpr\": 0.950866433716038, \"n\": 5341}, {\"threshold\": 0.43299999833106995, \"p\": 28046, \"fpr\": 0.27728889721026023, \"tpr\": 0.95079512229908, \"n\": 5341}, {\"threshold\": 0.4339999854564667, \"p\": 28046, \"fpr\": 0.27710166635461525, \"tpr\": 0.9507594665906012, \"n\": 5341}, {\"threshold\": 0.4350000023841858, \"p\": 28046, \"fpr\": 0.27672720464332523, \"tpr\": 0.9507594665906012, \"n\": 5341}, {\"threshold\": 0.4359999895095825, \"p\": 28046, \"fpr\": 0.27672720464332523, \"tpr\": 0.9506524994651644, \"n\": 5341}, {\"threshold\": 0.43700000643730164, \"p\": 28046, \"fpr\": 0.2763527429320352, \"tpr\": 0.9505455323397276, \"n\": 5341}, {\"threshold\": 0.43799999356269836, \"p\": 28046, \"fpr\": 0.27579105036510015, \"tpr\": 0.9505098766312486, \"n\": 5341}, {\"threshold\": 0.4390000104904175, \"p\": 28046, \"fpr\": 0.27579105036510015, \"tpr\": 0.9504742209227698, \"n\": 5341}, {\"threshold\": 0.4399999976158142, \"p\": 28046, \"fpr\": 0.27522935779816515, \"tpr\": 0.950331598088854, \"n\": 5341}, {\"threshold\": 0.4410000145435333, \"p\": 28046, \"fpr\": 0.27522935779816515, \"tpr\": 0.9502246309634172, \"n\": 5341}, {\"threshold\": 0.44200000166893005, \"p\": 28046, \"fpr\": 0.2750421269425201, \"tpr\": 0.9500820081295015, \"n\": 5341}, {\"threshold\": 0.4429999887943268, \"p\": 28046, \"fpr\": 0.27485489608687513, \"tpr\": 0.9500463524210226, \"n\": 5341}, {\"threshold\": 0.4440000057220459, \"p\": 28046, \"fpr\": 0.27391874180865006, \"tpr\": 0.9500106967125437, \"n\": 5341}, {\"threshold\": 0.4449999928474426, \"p\": 28046, \"fpr\": 0.27335704924171506, \"tpr\": 0.9499393852955859, \"n\": 5341}, {\"threshold\": 0.44600000977516174, \"p\": 28046, \"fpr\": 0.27298258753042504, \"tpr\": 0.9498324181701491, \"n\": 5341}, {\"threshold\": 0.44699999690055847, \"p\": 28046, \"fpr\": 0.272608125819135, \"tpr\": 0.9497967624616701, \"n\": 5341}, {\"threshold\": 0.4480000138282776, \"p\": 28046, \"fpr\": 0.27242089496349, \"tpr\": 0.9496184839192755, \"n\": 5341}, {\"threshold\": 0.4490000009536743, \"p\": 28046, \"fpr\": 0.272233664107845, \"tpr\": 0.9494758610853598, \"n\": 5341}, {\"threshold\": 0.44999998807907104, \"p\": 28046, \"fpr\": 0.27167197154090994, \"tpr\": 0.9494045496684019, \"n\": 5341}, {\"threshold\": 0.45100000500679016, \"p\": 28046, \"fpr\": 0.2709230481183299, \"tpr\": 0.9492975825429651, \"n\": 5341}, {\"threshold\": 0.4519999921321869, \"p\": 28046, \"fpr\": 0.2709230481183299, \"tpr\": 0.9491549597090494, \"n\": 5341}, {\"threshold\": 0.453000009059906, \"p\": 28046, \"fpr\": 0.27036135555139484, \"tpr\": 0.9491193040005705, \"n\": 5341}, {\"threshold\": 0.45399999618530273, \"p\": 28046, \"fpr\": 0.27036135555139484, \"tpr\": 0.9490479925836126, \"n\": 5341}, {\"threshold\": 0.45500001311302185, \"p\": 28046, \"fpr\": 0.27017412469574986, \"tpr\": 0.9489766811666548, \"n\": 5341}, {\"threshold\": 0.4560000002384186, \"p\": 28046, \"fpr\": 0.2699868938401048, \"tpr\": 0.948869714041218, \"n\": 5341}, {\"threshold\": 0.4569999873638153, \"p\": 28046, \"fpr\": 0.26979966298445984, \"tpr\": 0.9486914354988234, \"n\": 5341}, {\"threshold\": 0.4580000042915344, \"p\": 28046, \"fpr\": 0.2696124321288148, \"tpr\": 0.9485131569564287, \"n\": 5341}, {\"threshold\": 0.45899999141693115, \"p\": 28046, \"fpr\": 0.2696124321288148, \"tpr\": 0.9484061898309919, \"n\": 5341}, {\"threshold\": 0.46000000834465027, \"p\": 28046, \"fpr\": 0.2692379704175248, \"tpr\": 0.9482279112885973, \"n\": 5341}, {\"threshold\": 0.460999995470047, \"p\": 28046, \"fpr\": 0.2690507395618798, \"tpr\": 0.9481565998716395, \"n\": 5341}, {\"threshold\": 0.4620000123977661, \"p\": 28046, \"fpr\": 0.26848904699494475, \"tpr\": 0.9479070099122869, \"n\": 5341}, {\"threshold\": 0.46299999952316284, \"p\": 28046, \"fpr\": 0.2681145852836547, \"tpr\": 0.9478356984953291, \"n\": 5341}, {\"threshold\": 0.46399998664855957, \"p\": 28046, \"fpr\": 0.26792735442800975, \"tpr\": 0.9477643870783713, \"n\": 5341}, {\"threshold\": 0.4650000035762787, \"p\": 28046, \"fpr\": 0.2677401235723647, \"tpr\": 0.9476217642444555, \"n\": 5341}, {\"threshold\": 0.4659999907016754, \"p\": 28046, \"fpr\": 0.2675528927167197, \"tpr\": 0.9475861085359766, \"n\": 5341}, {\"threshold\": 0.46700000762939453, \"p\": 28046, \"fpr\": 0.2671784310054297, \"tpr\": 0.9474791414105398, \"n\": 5341}, {\"threshold\": 0.46799999475479126, \"p\": 28046, \"fpr\": 0.26699120014978467, \"tpr\": 0.9473008628681452, \"n\": 5341}, {\"threshold\": 0.4690000116825104, \"p\": 28046, \"fpr\": 0.26624227672720463, \"tpr\": 0.9472652071596662, \"n\": 5341}, {\"threshold\": 0.4699999988079071, \"p\": 28046, \"fpr\": 0.2654933533046246, \"tpr\": 0.9472652071596662, \"n\": 5341}, {\"threshold\": 0.47099998593330383, \"p\": 28046, \"fpr\": 0.2654933533046246, \"tpr\": 0.9472295514511874, \"n\": 5341}, {\"threshold\": 0.47200000286102295, \"p\": 28046, \"fpr\": 0.2649316607376896, \"tpr\": 0.9470512729087927, \"n\": 5341}, {\"threshold\": 0.4729999899864197, \"p\": 28046, \"fpr\": 0.26474442988204455, \"tpr\": 0.946908650074877, \"n\": 5341}, {\"threshold\": 0.4740000069141388, \"p\": 28046, \"fpr\": 0.26380827560381953, \"tpr\": 0.946872994366398, \"n\": 5341}, {\"threshold\": 0.4749999940395355, \"p\": 28046, \"fpr\": 0.2636210447481745, \"tpr\": 0.9468373386579191, \"n\": 5341}, {\"threshold\": 0.47600001096725464, \"p\": 28046, \"fpr\": 0.2636210447481745, \"tpr\": 0.9466590601155245, \"n\": 5341}, {\"threshold\": 0.47699999809265137, \"p\": 28046, \"fpr\": 0.2634338138925295, \"tpr\": 0.9465520929900877, \"n\": 5341}, {\"threshold\": 0.4779999852180481, \"p\": 28046, \"fpr\": 0.2626848904699495, \"tpr\": 0.9464451258646509, \"n\": 5341}, {\"threshold\": 0.4790000021457672, \"p\": 28046, \"fpr\": 0.2626848904699495, \"tpr\": 0.9463738144476931, \"n\": 5341}, {\"threshold\": 0.47999998927116394, \"p\": 28046, \"fpr\": 0.26231042875865945, \"tpr\": 0.9462311916137773, \"n\": 5341}, {\"threshold\": 0.48100000619888306, \"p\": 28046, \"fpr\": 0.2617487361917244, \"tpr\": 0.9461598801968195, \"n\": 5341}, {\"threshold\": 0.4819999933242798, \"p\": 28046, \"fpr\": 0.26099981276914436, \"tpr\": 0.9461242244883405, \"n\": 5341}, {\"threshold\": 0.4830000102519989, \"p\": 28046, \"fpr\": 0.2608125819134993, \"tpr\": 0.9460529130713827, \"n\": 5341}, {\"threshold\": 0.48399999737739563, \"p\": 28046, \"fpr\": 0.2604381202022093, \"tpr\": 0.9458389788205092, \"n\": 5341}, {\"threshold\": 0.48500001430511475, \"p\": 28046, \"fpr\": 0.2600636584909193, \"tpr\": 0.9457676674035513, \"n\": 5341}, {\"threshold\": 0.4860000014305115, \"p\": 28046, \"fpr\": 0.2600636584909193, \"tpr\": 0.9456250445696356, \"n\": 5341}, {\"threshold\": 0.4869999885559082, \"p\": 28046, \"fpr\": 0.2598764276352743, \"tpr\": 0.945446766027241, \"n\": 5341}, {\"threshold\": 0.4880000054836273, \"p\": 28046, \"fpr\": 0.25931473506833924, \"tpr\": 0.945411110318762, \"n\": 5341}, {\"threshold\": 0.48899999260902405, \"p\": 28046, \"fpr\": 0.25931473506833924, \"tpr\": 0.9453041431933252, \"n\": 5341}, {\"threshold\": 0.49000000953674316, \"p\": 28046, \"fpr\": 0.2585658116457592, \"tpr\": 0.9452328317763674, \"n\": 5341}, {\"threshold\": 0.4909999966621399, \"p\": 28046, \"fpr\": 0.2581913499344692, \"tpr\": 0.9451971760678884, \"n\": 5341}, {\"threshold\": 0.492000013589859, \"p\": 28046, \"fpr\": 0.2580041190788242, \"tpr\": 0.9450902089424517, \"n\": 5341}, {\"threshold\": 0.49300000071525574, \"p\": 28046, \"fpr\": 0.2580041190788242, \"tpr\": 0.9450188975254938, \"n\": 5341}, {\"threshold\": 0.49399998784065247, \"p\": 28046, \"fpr\": 0.2580041190788242, \"tpr\": 0.9448762746915781, \"n\": 5341}, {\"threshold\": 0.4950000047683716, \"p\": 28046, \"fpr\": 0.25781688822317916, \"tpr\": 0.9447693075661413, \"n\": 5341}, {\"threshold\": 0.4959999918937683, \"p\": 28046, \"fpr\": 0.25781688822317916, \"tpr\": 0.9445910290237467, \"n\": 5341}, {\"threshold\": 0.4970000088214874, \"p\": 28046, \"fpr\": 0.2576296573675342, \"tpr\": 0.9444127504813521, \"n\": 5341}, {\"threshold\": 0.49799999594688416, \"p\": 28046, \"fpr\": 0.25744242651188914, \"tpr\": 0.9442701276474363, \"n\": 5341}, {\"threshold\": 0.49900001287460327, \"p\": 28046, \"fpr\": 0.25744242651188914, \"tpr\": 0.9440918491050417, \"n\": 5341}, {\"threshold\": 0.5, \"p\": 28046, \"fpr\": 0.25688073394495414, \"tpr\": 0.9439135705626471, \"n\": 5341}, {\"threshold\": 0.5009999871253967, \"p\": 28046, \"fpr\": 0.2565062722336641, \"tpr\": 0.9438422591456892, \"n\": 5341}, {\"threshold\": 0.5019999742507935, \"p\": 28046, \"fpr\": 0.2561318105223741, \"tpr\": 0.9438066034372103, \"n\": 5341}, {\"threshold\": 0.503000020980835, \"p\": 28046, \"fpr\": 0.25557011795543905, \"tpr\": 0.9436996363117736, \"n\": 5341}, {\"threshold\": 0.5040000081062317, \"p\": 28046, \"fpr\": 0.255195656244149, \"tpr\": 0.9435570134778578, \"n\": 5341}, {\"threshold\": 0.5049999952316284, \"p\": 28046, \"fpr\": 0.255195656244149, \"tpr\": 0.9434143906439421, \"n\": 5341}, {\"threshold\": 0.5059999823570251, \"p\": 28046, \"fpr\": 0.254446732821569, \"tpr\": 0.9433074235185053, \"n\": 5341}, {\"threshold\": 0.5070000290870667, \"p\": 28046, \"fpr\": 0.25407227111027897, \"tpr\": 0.9432004563930685, \"n\": 5341}, {\"threshold\": 0.5080000162124634, \"p\": 28046, \"fpr\": 0.25407227111027897, \"tpr\": 0.9430578335591528, \"n\": 5341}, {\"threshold\": 0.5090000033378601, \"p\": 28046, \"fpr\": 0.25369780939898895, \"tpr\": 0.9429508664337161, \"n\": 5341}, {\"threshold\": 0.5099999904632568, \"p\": 28046, \"fpr\": 0.2529488859764089, \"tpr\": 0.9429152107252371, \"n\": 5341}, {\"threshold\": 0.5109999775886536, \"p\": 28046, \"fpr\": 0.2523871934094739, \"tpr\": 0.9426656207658847, \"n\": 5341}, {\"threshold\": 0.5120000243186951, \"p\": 28046, \"fpr\": 0.25219996255382887, \"tpr\": 0.9426299650574057, \"n\": 5341}, {\"threshold\": 0.5130000114440918, \"p\": 28046, \"fpr\": 0.25182550084253885, \"tpr\": 0.9425586536404479, \"n\": 5341}, {\"threshold\": 0.5139999985694885, \"p\": 28046, \"fpr\": 0.25182550084253885, \"tpr\": 0.9423803750980532, \"n\": 5341}, {\"threshold\": 0.5149999856948853, \"p\": 28046, \"fpr\": 0.2508893465643138, \"tpr\": 0.9423447193895743, \"n\": 5341}, {\"threshold\": 0.515999972820282, \"p\": 28046, \"fpr\": 0.2507021157086688, \"tpr\": 0.9423090636810953, \"n\": 5341}, {\"threshold\": 0.5170000195503235, \"p\": 28046, \"fpr\": 0.2503276539973788, \"tpr\": 0.9422020965556586, \"n\": 5341}, {\"threshold\": 0.5180000066757202, \"p\": 28046, \"fpr\": 0.2503276539973788, \"tpr\": 0.9422020965556586, \"n\": 5341}, {\"threshold\": 0.5189999938011169, \"p\": 28046, \"fpr\": 0.2503276539973788, \"tpr\": 0.9421307851387007, \"n\": 5341}, {\"threshold\": 0.5199999809265137, \"p\": 28046, \"fpr\": 0.25014042314173374, \"tpr\": 0.9420951294302218, \"n\": 5341}, {\"threshold\": 0.5210000276565552, \"p\": 28046, \"fpr\": 0.24976596143044374, \"tpr\": 0.942023818013264, \"n\": 5341}, {\"threshold\": 0.5220000147819519, \"p\": 28046, \"fpr\": 0.24920426886350872, \"tpr\": 0.9418455394708692, \"n\": 5341}, {\"threshold\": 0.5230000019073486, \"p\": 28046, \"fpr\": 0.2488298071522187, \"tpr\": 0.9417385723454325, \"n\": 5341}, {\"threshold\": 0.5239999890327454, \"p\": 28046, \"fpr\": 0.24808088372963866, \"tpr\": 0.9416316052199957, \"n\": 5341}, {\"threshold\": 0.5249999761581421, \"p\": 28046, \"fpr\": 0.2475191911627036, \"tpr\": 0.94148898238608, \"n\": 5341}, {\"threshold\": 0.5260000228881836, \"p\": 28046, \"fpr\": 0.24714472945141358, \"tpr\": 0.9414176709691222, \"n\": 5341}, {\"threshold\": 0.5270000100135803, \"p\": 28046, \"fpr\": 0.24695749859576857, \"tpr\": 0.9412750481352065, \"n\": 5341}, {\"threshold\": 0.527999997138977, \"p\": 28046, \"fpr\": 0.24620857517318853, \"tpr\": 0.9411680810097697, \"n\": 5341}, {\"threshold\": 0.5289999842643738, \"p\": 28046, \"fpr\": 0.2456468826062535, \"tpr\": 0.9410254581758539, \"n\": 5341}, {\"threshold\": 0.5299999713897705, \"p\": 28046, \"fpr\": 0.24527242089496348, \"tpr\": 0.9409541467588961, \"n\": 5341}, {\"threshold\": 0.531000018119812, \"p\": 28046, \"fpr\": 0.24527242089496348, \"tpr\": 0.9408115239249804, \"n\": 5341}, {\"threshold\": 0.5320000052452087, \"p\": 28046, \"fpr\": 0.24489795918367346, \"tpr\": 0.9408115239249804, \"n\": 5341}, {\"threshold\": 0.5329999923706055, \"p\": 28046, \"fpr\": 0.24471072832802845, \"tpr\": 0.9407758682165015, \"n\": 5341}, {\"threshold\": 0.5339999794960022, \"p\": 28046, \"fpr\": 0.24433626661673843, \"tpr\": 0.9407045567995436, \"n\": 5341}, {\"threshold\": 0.5350000262260437, \"p\": 28046, \"fpr\": 0.2435873431941584, \"tpr\": 0.940526278257149, \"n\": 5341}, {\"threshold\": 0.5360000133514404, \"p\": 28046, \"fpr\": 0.24340011233851339, \"tpr\": 0.9404549668401911, \"n\": 5341}, {\"threshold\": 0.5370000004768372, \"p\": 28046, \"fpr\": 0.24321288148286838, \"tpr\": 0.9404193111317122, \"n\": 5341}, {\"threshold\": 0.5379999876022339, \"p\": 28046, \"fpr\": 0.24321288148286838, \"tpr\": 0.9402766882977964, \"n\": 5341}, {\"threshold\": 0.5389999747276306, \"p\": 28046, \"fpr\": 0.24302565062722337, \"tpr\": 0.9401697211723596, \"n\": 5341}, {\"threshold\": 0.5400000214576721, \"p\": 28046, \"fpr\": 0.24283841977157836, \"tpr\": 0.9401340654638808, \"n\": 5341}, {\"threshold\": 0.5410000085830688, \"p\": 28046, \"fpr\": 0.24265118891593335, \"tpr\": 0.9400984097554018, \"n\": 5341}, {\"threshold\": 0.5419999957084656, \"p\": 28046, \"fpr\": 0.24265118891593335, \"tpr\": 0.9399557869214862, \"n\": 5341}, {\"threshold\": 0.5429999828338623, \"p\": 28046, \"fpr\": 0.24227672720464333, \"tpr\": 0.9399201312130072, \"n\": 5341}, {\"threshold\": 0.5440000295639038, \"p\": 28046, \"fpr\": 0.2417150346377083, \"tpr\": 0.9398488197960494, \"n\": 5341}, {\"threshold\": 0.5450000166893005, \"p\": 28046, \"fpr\": 0.2417150346377083, \"tpr\": 0.9398131640875704, \"n\": 5341}, {\"threshold\": 0.5460000038146973, \"p\": 28046, \"fpr\": 0.24096611121512826, \"tpr\": 0.9397061969621336, \"n\": 5341}, {\"threshold\": 0.546999990940094, \"p\": 28046, \"fpr\": 0.24077888035948325, \"tpr\": 0.9396348855451758, \"n\": 5341}, {\"threshold\": 0.5479999780654907, \"p\": 28046, \"fpr\": 0.24059164950383824, \"tpr\": 0.9395635741282179, \"n\": 5341}, {\"threshold\": 0.5490000247955322, \"p\": 28046, \"fpr\": 0.2400299569369032, \"tpr\": 0.9393496398773443, \"n\": 5341}, {\"threshold\": 0.550000011920929, \"p\": 28046, \"fpr\": 0.2396554952256132, \"tpr\": 0.9392783284603865, \"n\": 5341}, {\"threshold\": 0.5509999990463257, \"p\": 28046, \"fpr\": 0.23928103351432317, \"tpr\": 0.9391713613349497, \"n\": 5341}, {\"threshold\": 0.5519999861717224, \"p\": 28046, \"fpr\": 0.23928103351432317, \"tpr\": 0.9391000499179919, \"n\": 5341}, {\"threshold\": 0.5529999732971191, \"p\": 28046, \"fpr\": 0.23890657180303315, \"tpr\": 0.9389930827925551, \"n\": 5341}, {\"threshold\": 0.5540000200271606, \"p\": 28046, \"fpr\": 0.23815764838045309, \"tpr\": 0.9388861156671183, \"n\": 5341}, {\"threshold\": 0.5550000071525574, \"p\": 28046, \"fpr\": 0.23778318666916307, \"tpr\": 0.9388148042501605, \"n\": 5341}, {\"threshold\": 0.5559999942779541, \"p\": 28046, \"fpr\": 0.23722149410222804, \"tpr\": 0.9386008699992869, \"n\": 5341}, {\"threshold\": 0.5569999814033508, \"p\": 28046, \"fpr\": 0.23684703239093802, \"tpr\": 0.9384582471653712, \"n\": 5341}, {\"threshold\": 0.5580000281333923, \"p\": 28046, \"fpr\": 0.236285339824003, \"tpr\": 0.9384582471653712, \"n\": 5341}, {\"threshold\": 0.5590000152587891, \"p\": 28046, \"fpr\": 0.236285339824003, \"tpr\": 0.9383156243314554, \"n\": 5341}, {\"threshold\": 0.5600000023841858, \"p\": 28046, \"fpr\": 0.236285339824003, \"tpr\": 0.9383156243314554, \"n\": 5341}, {\"threshold\": 0.5609999895095825, \"p\": 28046, \"fpr\": 0.23609810896835798, \"tpr\": 0.9381373457890608, \"n\": 5341}, {\"threshold\": 0.5619999766349792, \"p\": 28046, \"fpr\": 0.23553641640142295, \"tpr\": 0.9379947229551451, \"n\": 5341}, {\"threshold\": 0.5630000233650208, \"p\": 28046, \"fpr\": 0.23497472383448792, \"tpr\": 0.9379234115381873, \"n\": 5341}, {\"threshold\": 0.5640000104904175, \"p\": 28046, \"fpr\": 0.2347874929788429, \"tpr\": 0.9378521001212294, \"n\": 5341}, {\"threshold\": 0.5649999976158142, \"p\": 28046, \"fpr\": 0.2344130312675529, \"tpr\": 0.9376738215788347, \"n\": 5341}, {\"threshold\": 0.5659999847412109, \"p\": 28046, \"fpr\": 0.23422580041190788, \"tpr\": 0.9375668544533979, \"n\": 5341}, {\"threshold\": 0.5669999718666077, \"p\": 28046, \"fpr\": 0.23403856955626287, \"tpr\": 0.9375668544533979, \"n\": 5341}, {\"threshold\": 0.5680000185966492, \"p\": 28046, \"fpr\": 0.23347687698932784, \"tpr\": 0.9374955430364401, \"n\": 5341}, {\"threshold\": 0.5690000057220459, \"p\": 28046, \"fpr\": 0.23310241527803782, \"tpr\": 0.9373529202025245, \"n\": 5341}, {\"threshold\": 0.5699999928474426, \"p\": 28046, \"fpr\": 0.2329151844223928, \"tpr\": 0.9372459530770877, \"n\": 5341}, {\"threshold\": 0.5709999799728394, \"p\": 28046, \"fpr\": 0.2329151844223928, \"tpr\": 0.9371746416601298, \"n\": 5341}, {\"threshold\": 0.5720000267028809, \"p\": 28046, \"fpr\": 0.23235349185545778, \"tpr\": 0.9371033302431719, \"n\": 5341}, {\"threshold\": 0.5730000138282776, \"p\": 28046, \"fpr\": 0.23235349185545778, \"tpr\": 0.9370320188262141, \"n\": 5341}, {\"threshold\": 0.5740000009536743, \"p\": 28046, \"fpr\": 0.23216626099981277, \"tpr\": 0.9368537402838194, \"n\": 5341}, {\"threshold\": 0.574999988079071, \"p\": 28046, \"fpr\": 0.23141733757723273, \"tpr\": 0.9367824288668616, \"n\": 5341}, {\"threshold\": 0.5759999752044678, \"p\": 28046, \"fpr\": 0.23104287586594272, \"tpr\": 0.936604150324467, \"n\": 5341}, {\"threshold\": 0.5770000219345093, \"p\": 28046, \"fpr\": 0.23048118329900769, \"tpr\": 0.9364971831990302, \"n\": 5341}, {\"threshold\": 0.578000009059906, \"p\": 28046, \"fpr\": 0.23010672158771767, \"tpr\": 0.9364615274905512, \"n\": 5341}, {\"threshold\": 0.5789999961853027, \"p\": 28046, \"fpr\": 0.22991949073207266, \"tpr\": 0.9362832489481566, \"n\": 5341}, {\"threshold\": 0.5799999833106995, \"p\": 28046, \"fpr\": 0.22991949073207266, \"tpr\": 0.9361762818227198, \"n\": 5341}, {\"threshold\": 0.5809999704360962, \"p\": 28046, \"fpr\": 0.22917056730949262, \"tpr\": 0.936069314697283, \"n\": 5341}, {\"threshold\": 0.5820000171661377, \"p\": 28046, \"fpr\": 0.22823441303126754, \"tpr\": 0.9358553804464095, \"n\": 5341}, {\"threshold\": 0.5830000042915344, \"p\": 28046, \"fpr\": 0.22804718217562253, \"tpr\": 0.9357840690294517, \"n\": 5341}, {\"threshold\": 0.5839999914169312, \"p\": 28046, \"fpr\": 0.22785995131997752, \"tpr\": 0.9357484133209727, \"n\": 5341}, {\"threshold\": 0.5849999785423279, \"p\": 28046, \"fpr\": 0.2274854896086875, \"tpr\": 0.9356771019040149, \"n\": 5341}, {\"threshold\": 0.5860000252723694, \"p\": 28046, \"fpr\": 0.2272982587530425, \"tpr\": 0.9356057904870569, \"n\": 5341}, {\"threshold\": 0.5870000123977661, \"p\": 28046, \"fpr\": 0.22692379704175247, \"tpr\": 0.9355701347785781, \"n\": 5341}, {\"threshold\": 0.5879999995231628, \"p\": 28046, \"fpr\": 0.22673656618610746, \"tpr\": 0.9355344790700991, \"n\": 5341}, {\"threshold\": 0.5889999866485596, \"p\": 28046, \"fpr\": 0.22636210447481744, \"tpr\": 0.9354631676531413, \"n\": 5341}, {\"threshold\": 0.5899999737739563, \"p\": 28046, \"fpr\": 0.22598764276352742, \"tpr\": 0.9352848891107466, \"n\": 5341}, {\"threshold\": 0.5910000205039978, \"p\": 28046, \"fpr\": 0.22580041190788241, \"tpr\": 0.9352848891107466, \"n\": 5341}, {\"threshold\": 0.5920000076293945, \"p\": 28046, \"fpr\": 0.2256131810522374, \"tpr\": 0.9352492334022677, \"n\": 5341}, {\"threshold\": 0.5929999947547913, \"p\": 28046, \"fpr\": 0.22523871934094739, \"tpr\": 0.935142266276831, \"n\": 5341}, {\"threshold\": 0.593999981880188, \"p\": 28046, \"fpr\": 0.22467702677401236, \"tpr\": 0.935070954859873, \"n\": 5341}, {\"threshold\": 0.5950000286102295, \"p\": 28046, \"fpr\": 0.22392810335143232, \"tpr\": 0.9349283320259574, \"n\": 5341}, {\"threshold\": 0.5960000157356262, \"p\": 28046, \"fpr\": 0.2233664107844973, \"tpr\": 0.9348570206089996, \"n\": 5341}, {\"threshold\": 0.597000002861023, \"p\": 28046, \"fpr\": 0.22299194907320727, \"tpr\": 0.9347500534835628, \"n\": 5341}, {\"threshold\": 0.5979999899864197, \"p\": 28046, \"fpr\": 0.22243025650627224, \"tpr\": 0.934643086358126, \"n\": 5341}, {\"threshold\": 0.5989999771118164, \"p\": 28046, \"fpr\": 0.22205579479498222, \"tpr\": 0.9345361192326892, \"n\": 5341}, {\"threshold\": 0.6000000238418579, \"p\": 28046, \"fpr\": 0.2216813330836922, \"tpr\": 0.9344648078157313, \"n\": 5341}, {\"threshold\": 0.6010000109672546, \"p\": 28046, \"fpr\": 0.22130687137240218, \"tpr\": 0.9343221849818156, \"n\": 5341}, {\"threshold\": 0.6019999980926514, \"p\": 28046, \"fpr\": 0.22055794794982214, \"tpr\": 0.9342508735648577, \"n\": 5341}, {\"threshold\": 0.6029999852180481, \"p\": 28046, \"fpr\": 0.2198090245272421, \"tpr\": 0.9342152178563788, \"n\": 5341}, {\"threshold\": 0.6039999723434448, \"p\": 28046, \"fpr\": 0.21924733196030705, \"tpr\": 0.9341795621478999, \"n\": 5341}, {\"threshold\": 0.6050000190734863, \"p\": 28046, \"fpr\": 0.21868563939337202, \"tpr\": 0.9340012836055053, \"n\": 5341}, {\"threshold\": 0.6060000061988831, \"p\": 28046, \"fpr\": 0.218311177682082, \"tpr\": 0.9338230050631106, \"n\": 5341}, {\"threshold\": 0.6069999933242798, \"p\": 28046, \"fpr\": 0.218311177682082, \"tpr\": 0.9337160379376738, \"n\": 5341}, {\"threshold\": 0.6079999804496765, \"p\": 28046, \"fpr\": 0.21793671597079198, \"tpr\": 0.933609070812237, \"n\": 5341}, {\"threshold\": 0.609000027179718, \"p\": 28046, \"fpr\": 0.21774948511514697, \"tpr\": 0.9334664479783213, \"n\": 5341}, {\"threshold\": 0.6100000143051147, \"p\": 28046, \"fpr\": 0.21774948511514697, \"tpr\": 0.9334664479783213, \"n\": 5341}, {\"threshold\": 0.6110000014305115, \"p\": 28046, \"fpr\": 0.21756225425950196, \"tpr\": 0.9333238251444056, \"n\": 5341}, {\"threshold\": 0.6119999885559082, \"p\": 28046, \"fpr\": 0.21737502340385695, \"tpr\": 0.9332168580189688, \"n\": 5341}, {\"threshold\": 0.6129999756813049, \"p\": 28046, \"fpr\": 0.21718779254821194, \"tpr\": 0.9330742351850532, \"n\": 5341}, {\"threshold\": 0.6140000224113464, \"p\": 28046, \"fpr\": 0.21700056169256693, \"tpr\": 0.9329672680596164, \"n\": 5341}, {\"threshold\": 0.6150000095367432, \"p\": 28046, \"fpr\": 0.21681333083692192, \"tpr\": 0.9328246452257006, \"n\": 5341}, {\"threshold\": 0.6159999966621399, \"p\": 28046, \"fpr\": 0.2166260999812769, \"tpr\": 0.932646366683306, \"n\": 5341}, {\"threshold\": 0.6169999837875366, \"p\": 28046, \"fpr\": 0.2164388691256319, \"tpr\": 0.9324680881409113, \"n\": 5341}, {\"threshold\": 0.6179999709129333, \"p\": 28046, \"fpr\": 0.2164388691256319, \"tpr\": 0.9322541538900377, \"n\": 5341}, {\"threshold\": 0.6190000176429749, \"p\": 28046, \"fpr\": 0.2162516382699869, \"tpr\": 0.9320758753476431, \"n\": 5341}, {\"threshold\": 0.6200000047683716, \"p\": 28046, \"fpr\": 0.2162516382699869, \"tpr\": 0.9320045639306853, \"n\": 5341}, {\"threshold\": 0.6209999918937683, \"p\": 28046, \"fpr\": 0.21587717655869687, \"tpr\": 0.9317906296798117, \"n\": 5341}, {\"threshold\": 0.621999979019165, \"p\": 28046, \"fpr\": 0.21550271484740685, \"tpr\": 0.9316123511374171, \"n\": 5341}, {\"threshold\": 0.6230000257492065, \"p\": 28046, \"fpr\": 0.21531548399176184, \"tpr\": 0.9315410397204592, \"n\": 5341}, {\"threshold\": 0.6240000128746033, \"p\": 28046, \"fpr\": 0.2147537914248268, \"tpr\": 0.9313984168865436, \"n\": 5341}, {\"threshold\": 0.625, \"p\": 28046, \"fpr\": 0.21419209885789178, \"tpr\": 0.9312914497611068, \"n\": 5341}, {\"threshold\": 0.6259999871253967, \"p\": 28046, \"fpr\": 0.21419209885789178, \"tpr\": 0.93118448263567, \"n\": 5341}, {\"threshold\": 0.6269999742507935, \"p\": 28046, \"fpr\": 0.21381763714660176, \"tpr\": 0.9310775155102332, \"n\": 5341}, {\"threshold\": 0.628000020980835, \"p\": 28046, \"fpr\": 0.21344317543531174, \"tpr\": 0.9308279255508807, \"n\": 5341}, {\"threshold\": 0.6290000081062317, \"p\": 28046, \"fpr\": 0.21288148286837671, \"tpr\": 0.9305783355915282, \"n\": 5341}, {\"threshold\": 0.6299999952316284, \"p\": 28046, \"fpr\": 0.2126942520127317, \"tpr\": 0.9303644013406547, \"n\": 5341}, {\"threshold\": 0.6309999823570251, \"p\": 28046, \"fpr\": 0.2125070211570867, \"tpr\": 0.9300434999643443, \"n\": 5341}, {\"threshold\": 0.6320000290870667, \"p\": 28046, \"fpr\": 0.21231979030144169, \"tpr\": 0.9299721885473864, \"n\": 5341}, {\"threshold\": 0.6330000162124634, \"p\": 28046, \"fpr\": 0.21194532859015167, \"tpr\": 0.9298652214219496, \"n\": 5341}, {\"threshold\": 0.6340000033378601, \"p\": 28046, \"fpr\": 0.21175809773450666, \"tpr\": 0.9297582542965128, \"n\": 5341}, {\"threshold\": 0.6349999904632568, \"p\": 28046, \"fpr\": 0.21157086687886165, \"tpr\": 0.9295799757541182, \"n\": 5341}, {\"threshold\": 0.6359999775886536, \"p\": 28046, \"fpr\": 0.21138363602321664, \"tpr\": 0.9294016972117236, \"n\": 5341}, {\"threshold\": 0.6370000243186951, \"p\": 28046, \"fpr\": 0.2106347126006366, \"tpr\": 0.9293303857947658, \"n\": 5341}, {\"threshold\": 0.6380000114440918, \"p\": 28046, \"fpr\": 0.2104474817449916, \"tpr\": 0.9292590743778079, \"n\": 5341}, {\"threshold\": 0.6389999985694885, \"p\": 28046, \"fpr\": 0.21026025088934655, \"tpr\": 0.9290451401269343, \"n\": 5341}, {\"threshold\": 0.6399999856948853, \"p\": 28046, \"fpr\": 0.21026025088934655, \"tpr\": 0.9289738287099765, \"n\": 5341}, {\"threshold\": 0.640999972820282, \"p\": 28046, \"fpr\": 0.20969855832241152, \"tpr\": 0.9288312058760607, \"n\": 5341}, {\"threshold\": 0.6420000195503235, \"p\": 28046, \"fpr\": 0.2091368657554765, \"tpr\": 0.9287242387506239, \"n\": 5341}, {\"threshold\": 0.6430000066757202, \"p\": 28046, \"fpr\": 0.20876240404418647, \"tpr\": 0.9286529273336661, \"n\": 5341}, {\"threshold\": 0.6439999938011169, \"p\": 28046, \"fpr\": 0.20838794233289645, \"tpr\": 0.9286172716251871, \"n\": 5341}, {\"threshold\": 0.6449999809265137, \"p\": 28046, \"fpr\": 0.20838794233289645, \"tpr\": 0.9285103044997504, \"n\": 5341}, {\"threshold\": 0.6460000276565552, \"p\": 28046, \"fpr\": 0.20820071147725144, \"tpr\": 0.9284033373743136, \"n\": 5341}, {\"threshold\": 0.6470000147819519, \"p\": 28046, \"fpr\": 0.20820071147725144, \"tpr\": 0.9282963702488768, \"n\": 5341}, {\"threshold\": 0.6480000019073486, \"p\": 28046, \"fpr\": 0.20801348062160643, \"tpr\": 0.9282607145403979, \"n\": 5341}, {\"threshold\": 0.6489999890327454, \"p\": 28046, \"fpr\": 0.20763901891031641, \"tpr\": 0.9280111245810454, \"n\": 5341}, {\"threshold\": 0.6499999761581421, \"p\": 28046, \"fpr\": 0.2074517880546714, \"tpr\": 0.927761534621693, \"n\": 5341}, {\"threshold\": 0.6510000228881836, \"p\": 28046, \"fpr\": 0.20632840292080135, \"tpr\": 0.9275832560792983, \"n\": 5341}, {\"threshold\": 0.6520000100135803, \"p\": 28046, \"fpr\": 0.20632840292080135, \"tpr\": 0.9273693218284247, \"n\": 5341}, {\"threshold\": 0.652999997138977, \"p\": 28046, \"fpr\": 0.20595394120951133, \"tpr\": 0.9272980104114669, \"n\": 5341}, {\"threshold\": 0.6539999842643738, \"p\": 28046, \"fpr\": 0.20576671035386632, \"tpr\": 0.9271910432860301, \"n\": 5341}, {\"threshold\": 0.6549999713897705, \"p\": 28046, \"fpr\": 0.20501778693128628, \"tpr\": 0.9270484204521143, \"n\": 5341}, {\"threshold\": 0.656000018119812, \"p\": 28046, \"fpr\": 0.20464332521999626, \"tpr\": 0.9269057976181987, \"n\": 5341}, {\"threshold\": 0.6570000052452087, \"p\": 28046, \"fpr\": 0.20426886350870624, \"tpr\": 0.9267631747842829, \"n\": 5341}, {\"threshold\": 0.6579999923706055, \"p\": 28046, \"fpr\": 0.2037071709417712, \"tpr\": 0.9266205519503673, \"n\": 5341}, {\"threshold\": 0.6589999794960022, \"p\": 28046, \"fpr\": 0.2035199400861262, \"tpr\": 0.9264779291164515, \"n\": 5341}, {\"threshold\": 0.6600000262260437, \"p\": 28046, \"fpr\": 0.2033327092304812, \"tpr\": 0.9264422734079726, \"n\": 5341}, {\"threshold\": 0.6610000133514404, \"p\": 28046, \"fpr\": 0.20295824751919117, \"tpr\": 0.926263994865578, \"n\": 5341}, {\"threshold\": 0.6620000004768372, \"p\": 28046, \"fpr\": 0.20295824751919117, \"tpr\": 0.9261213720316622, \"n\": 5341}, {\"threshold\": 0.6629999876022339, \"p\": 28046, \"fpr\": 0.20258378580790115, \"tpr\": 0.9259430934892676, \"n\": 5341}, {\"threshold\": 0.6639999747276306, \"p\": 28046, \"fpr\": 0.20239655495225614, \"tpr\": 0.9258717820723098, \"n\": 5341}, {\"threshold\": 0.6650000214576721, \"p\": 28046, \"fpr\": 0.20220932409661113, \"tpr\": 0.9256578478214362, \"n\": 5341}, {\"threshold\": 0.6660000085830688, \"p\": 28046, \"fpr\": 0.2014604006740311, \"tpr\": 0.9255152249875205, \"n\": 5341}, {\"threshold\": 0.6669999957084656, \"p\": 28046, \"fpr\": 0.20127316981838608, \"tpr\": 0.9253369464451259, \"n\": 5341}, {\"threshold\": 0.6679999828338623, \"p\": 28046, \"fpr\": 0.20071147725145103, \"tpr\": 0.9251586679027313, \"n\": 5341}, {\"threshold\": 0.6690000295639038, \"p\": 28046, \"fpr\": 0.200337015540161, \"tpr\": 0.9250873564857733, \"n\": 5341}, {\"threshold\": 0.6700000166893005, \"p\": 28046, \"fpr\": 0.200149784684516, \"tpr\": 0.9249447336518577, \"n\": 5341}, {\"threshold\": 0.6710000038146973, \"p\": 28046, \"fpr\": 0.199962553828871, \"tpr\": 0.9248377665264209, \"n\": 5341}, {\"threshold\": 0.671999990940094, \"p\": 28046, \"fpr\": 0.199962553828871, \"tpr\": 0.9247307994009841, \"n\": 5341}, {\"threshold\": 0.6729999780654907, \"p\": 28046, \"fpr\": 0.199962553828871, \"tpr\": 0.9246238322755473, \"n\": 5341}, {\"threshold\": 0.6740000247955322, \"p\": 28046, \"fpr\": 0.19902639955064594, \"tpr\": 0.9243742423161948, \"n\": 5341}, {\"threshold\": 0.675000011920929, \"p\": 28046, \"fpr\": 0.19472008987081071, \"tpr\": 0.9192754760037082, \"n\": 5341}, {\"threshold\": 0.6759999990463257, \"p\": 28046, \"fpr\": 0.19415839730387568, \"tpr\": 0.9190615417528346, \"n\": 5341}, {\"threshold\": 0.6769999861717224, \"p\": 28046, \"fpr\": 0.19340947388129565, \"tpr\": 0.918847607501961, \"n\": 5341}, {\"threshold\": 0.6779999732971191, \"p\": 28046, \"fpr\": 0.19303501217000563, \"tpr\": 0.9187406403765243, \"n\": 5341}, {\"threshold\": 0.6790000200271606, \"p\": 28046, \"fpr\": 0.19284778131436062, \"tpr\": 0.9185980175426086, \"n\": 5341}, {\"threshold\": 0.6800000071525574, \"p\": 28046, \"fpr\": 0.1926605504587156, \"tpr\": 0.918384083291735, \"n\": 5341}, {\"threshold\": 0.6809999942779541, \"p\": 28046, \"fpr\": 0.1924733196030706, \"tpr\": 0.9183484275832561, \"n\": 5341}, {\"threshold\": 0.6819999814033508, \"p\": 28046, \"fpr\": 0.19209885789178058, \"tpr\": 0.9182058047493403, \"n\": 5341}, {\"threshold\": 0.6830000281333923, \"p\": 28046, \"fpr\": 0.19191162703613557, \"tpr\": 0.9180988376239035, \"n\": 5341}, {\"threshold\": 0.6840000152587891, \"p\": 28046, \"fpr\": 0.19078824190226548, \"tpr\": 0.9179562147899879, \"n\": 5341}, {\"threshold\": 0.6850000023841858, \"p\": 28046, \"fpr\": 0.19060101104662047, \"tpr\": 0.9178135919560722, \"n\": 5341}, {\"threshold\": 0.6859999895095825, \"p\": 28046, \"fpr\": 0.19041378019097546, \"tpr\": 0.9176353134136775, \"n\": 5341}, {\"threshold\": 0.6869999766349792, \"p\": 28046, \"fpr\": 0.18985208762404043, \"tpr\": 0.9175640019967197, \"n\": 5341}, {\"threshold\": 0.6880000233650208, \"p\": 28046, \"fpr\": 0.18872870249017037, \"tpr\": 0.9173500677458462, \"n\": 5341}, {\"threshold\": 0.6890000104904175, \"p\": 28046, \"fpr\": 0.18797977906759034, \"tpr\": 0.9171361334949726, \"n\": 5341}, {\"threshold\": 0.6899999976158142, \"p\": 28046, \"fpr\": 0.18797977906759034, \"tpr\": 0.9169935106610568, \"n\": 5341}, {\"threshold\": 0.6909999847412109, \"p\": 28046, \"fpr\": 0.1872308556450103, \"tpr\": 0.9168508878271411, \"n\": 5341}, {\"threshold\": 0.6919999718666077, \"p\": 28046, \"fpr\": 0.1872308556450103, \"tpr\": 0.9166726092847465, \"n\": 5341}, {\"threshold\": 0.6930000185966492, \"p\": 28046, \"fpr\": 0.1870436247893653, \"tpr\": 0.916423019325394, \"n\": 5341}, {\"threshold\": 0.6940000057220459, \"p\": 28046, \"fpr\": 0.18648193222243026, \"tpr\": 0.9162447407829993, \"n\": 5341}, {\"threshold\": 0.6949999928474426, \"p\": 28046, \"fpr\": 0.18592023965549523, \"tpr\": 0.9160664622406047, \"n\": 5341}, {\"threshold\": 0.6959999799728394, \"p\": 28046, \"fpr\": 0.18498408537727018, \"tpr\": 0.9160308065321258, \"n\": 5341}, {\"threshold\": 0.6970000267028809, \"p\": 28046, \"fpr\": 0.18479685452162517, \"tpr\": 0.9157099051558154, \"n\": 5341}, {\"threshold\": 0.6980000138282776, \"p\": 28046, \"fpr\": 0.18479685452162517, \"tpr\": 0.9155672823218998, \"n\": 5341}, {\"threshold\": 0.6990000009536743, \"p\": 28046, \"fpr\": 0.18442239281033515, \"tpr\": 0.9154959709049418, \"n\": 5341}, {\"threshold\": 0.699999988079071, \"p\": 28046, \"fpr\": 0.18442239281033515, \"tpr\": 0.915389003779505, \"n\": 5341}, {\"threshold\": 0.7009999752044678, \"p\": 28046, \"fpr\": 0.1834862385321101, \"tpr\": 0.9152820366540683, \"n\": 5341}, {\"threshold\": 0.7020000219345093, \"p\": 28046, \"fpr\": 0.1834862385321101, \"tpr\": 0.9150324466947158, \"n\": 5341}, {\"threshold\": 0.703000009059906, \"p\": 28046, \"fpr\": 0.18311177682082008, \"tpr\": 0.9148898238608001, \"n\": 5341}, {\"threshold\": 0.7039999961853027, \"p\": 28046, \"fpr\": 0.18292454596517507, \"tpr\": 0.9148541681523212, \"n\": 5341}, {\"threshold\": 0.7049999833106995, \"p\": 28046, \"fpr\": 0.18198839168695, \"tpr\": 0.9147828567353633, \"n\": 5341}, {\"threshold\": 0.7059999704360962, \"p\": 28046, \"fpr\": 0.18161392997565998, \"tpr\": 0.9144976110675319, \"n\": 5341}, {\"threshold\": 0.7070000171661377, \"p\": 28046, \"fpr\": 0.18049054484178992, \"tpr\": 0.9142123653997005, \"n\": 5341}, {\"threshold\": 0.7080000042915344, \"p\": 28046, \"fpr\": 0.1803033139861449, \"tpr\": 0.9140340868573058, \"n\": 5341}, {\"threshold\": 0.7089999914169312, \"p\": 28046, \"fpr\": 0.1799288522748549, \"tpr\": 0.9137488411894744, \"n\": 5341}, {\"threshold\": 0.7099999785423279, \"p\": 28046, \"fpr\": 0.17880546714098483, \"tpr\": 0.913499251230122, \"n\": 5341}, {\"threshold\": 0.7110000252723694, \"p\": 28046, \"fpr\": 0.17861823628533982, \"tpr\": 0.9133209726877273, \"n\": 5341}, {\"threshold\": 0.7120000123977661, \"p\": 28046, \"fpr\": 0.17861823628533982, \"tpr\": 0.9130713827283748, \"n\": 5341}, {\"threshold\": 0.7129999995231628, \"p\": 28046, \"fpr\": 0.1782437745740498, \"tpr\": 0.9127148256435855, \"n\": 5341}, {\"threshold\": 0.7139999866485596, \"p\": 28046, \"fpr\": 0.17730762029582475, \"tpr\": 0.9125722028096698, \"n\": 5341}, {\"threshold\": 0.7149999737739563, \"p\": 28046, \"fpr\": 0.17693315858453473, \"tpr\": 0.9123939242672752, \"n\": 5341}, {\"threshold\": 0.7160000205039978, \"p\": 28046, \"fpr\": 0.17674592772888972, \"tpr\": 0.9121799900164016, \"n\": 5341}, {\"threshold\": 0.7170000076293945, \"p\": 28046, \"fpr\": 0.1763714660175997, \"tpr\": 0.9119304000570492, \"n\": 5341}, {\"threshold\": 0.7179999947547913, \"p\": 28046, \"fpr\": 0.17580977345066467, \"tpr\": 0.9117877772231334, \"n\": 5341}, {\"threshold\": 0.718999981880188, \"p\": 28046, \"fpr\": 0.17543531173937466, \"tpr\": 0.9117164658061756, \"n\": 5341}, {\"threshold\": 0.7200000286102295, \"p\": 28046, \"fpr\": 0.17524808088372965, \"tpr\": 0.9116808100976966, \"n\": 5341}, {\"threshold\": 0.7210000157356262, \"p\": 28046, \"fpr\": 0.17468638831679462, \"tpr\": 0.9114668758468231, \"n\": 5341}, {\"threshold\": 0.722000002861023, \"p\": 28046, \"fpr\": 0.17375023403856957, \"tpr\": 0.9111459744705127, \"n\": 5341}, {\"threshold\": 0.7229999899864197, \"p\": 28046, \"fpr\": 0.17356300318292456, \"tpr\": 0.9109676959281181, \"n\": 5341}, {\"threshold\": 0.7239999771118164, \"p\": 28046, \"fpr\": 0.17356300318292456, \"tpr\": 0.9107894173857235, \"n\": 5341}, {\"threshold\": 0.7250000238418579, \"p\": 28046, \"fpr\": 0.17318854147163454, \"tpr\": 0.9106467945518077, \"n\": 5341}, {\"threshold\": 0.7260000109672546, \"p\": 28046, \"fpr\": 0.1728140797603445, \"tpr\": 0.9103258931754974, \"n\": 5341}, {\"threshold\": 0.7269999980926514, \"p\": 28046, \"fpr\": 0.17262684890469948, \"tpr\": 0.9101119589246238, \"n\": 5341}, {\"threshold\": 0.7279999852180481, \"p\": 28046, \"fpr\": 0.17243961804905447, \"tpr\": 0.9100763032161449, \"n\": 5341}, {\"threshold\": 0.7289999723434448, \"p\": 28046, \"fpr\": 0.17225238719340946, \"tpr\": 0.9099336803822292, \"n\": 5341}, {\"threshold\": 0.7300000190734863, \"p\": 28046, \"fpr\": 0.17187792548211944, \"tpr\": 0.9097910575483135, \"n\": 5341}, {\"threshold\": 0.7310000061988831, \"p\": 28046, \"fpr\": 0.1713162329151844, \"tpr\": 0.9095058118804821, \"n\": 5341}, {\"threshold\": 0.7319999933242798, \"p\": 28046, \"fpr\": 0.17056730949260437, \"tpr\": 0.9093631890465663, \"n\": 5341}, {\"threshold\": 0.7329999804496765, \"p\": 28046, \"fpr\": 0.17038007863695936, \"tpr\": 0.9090066319617771, \"n\": 5341}, {\"threshold\": 0.734000027179718, \"p\": 28046, \"fpr\": 0.17019284778131435, \"tpr\": 0.9088283534193824, \"n\": 5341}, {\"threshold\": 0.7350000143051147, \"p\": 28046, \"fpr\": 0.17000561692566935, \"tpr\": 0.9086857305854668, \"n\": 5341}, {\"threshold\": 0.7360000014305115, \"p\": 28046, \"fpr\": 0.16981838607002434, \"tpr\": 0.9084361406261142, \"n\": 5341}, {\"threshold\": 0.7369999885559082, \"p\": 28046, \"fpr\": 0.16981838607002434, \"tpr\": 0.9082935177921986, \"n\": 5341}, {\"threshold\": 0.7379999756813049, \"p\": 28046, \"fpr\": 0.1692566935030893, \"tpr\": 0.9081152392498039, \"n\": 5341}, {\"threshold\": 0.7390000224113464, \"p\": 28046, \"fpr\": 0.16869500093615428, \"tpr\": 0.9078299935819725, \"n\": 5341}, {\"threshold\": 0.7400000095367432, \"p\": 28046, \"fpr\": 0.16832053922486426, \"tpr\": 0.9077230264565357, \"n\": 5341}, {\"threshold\": 0.7409999966621399, \"p\": 28046, \"fpr\": 0.16757161580228422, \"tpr\": 0.9075804036226199, \"n\": 5341}, {\"threshold\": 0.7419999837875366, \"p\": 28046, \"fpr\": 0.1673843849466392, \"tpr\": 0.9073664693717464, \"n\": 5341}, {\"threshold\": 0.7429999709129333, \"p\": 28046, \"fpr\": 0.16682269237970418, \"tpr\": 0.9072238465378307, \"n\": 5341}, {\"threshold\": 0.7440000176429749, \"p\": 28046, \"fpr\": 0.16626099981276915, \"tpr\": 0.9069742565784782, \"n\": 5341}, {\"threshold\": 0.7450000047683716, \"p\": 28046, \"fpr\": 0.16607376895712414, \"tpr\": 0.9067959780360836, \"n\": 5341}, {\"threshold\": 0.7459999918937683, \"p\": 28046, \"fpr\": 0.16588653810147913, \"tpr\": 0.9064750766597732, \"n\": 5341}, {\"threshold\": 0.746999979019165, \"p\": 28046, \"fpr\": 0.1655120763901891, \"tpr\": 0.9063681095343364, \"n\": 5341}, {\"threshold\": 0.7480000257492065, \"p\": 28046, \"fpr\": 0.1653248455345441, \"tpr\": 0.9060115524495471, \"n\": 5341}, {\"threshold\": 0.7490000128746033, \"p\": 28046, \"fpr\": 0.1651376146788991, \"tpr\": 0.9057263067817157, \"n\": 5341}, {\"threshold\": 0.75, \"p\": 28046, \"fpr\": 0.16476315296760907, \"tpr\": 0.9055123725308422, \"n\": 5341}, {\"threshold\": 0.7509999871253967, \"p\": 28046, \"fpr\": 0.16345253697809398, \"tpr\": 0.9053340939884476, \"n\": 5341}, {\"threshold\": 0.7519999742507935, \"p\": 28046, \"fpr\": 0.16326530612244897, \"tpr\": 0.905120159737574, \"n\": 5341}, {\"threshold\": 0.753000020980835, \"p\": 28046, \"fpr\": 0.1621419209885789, \"tpr\": 0.9048705697782214, \"n\": 5341}, {\"threshold\": 0.7540000081062317, \"p\": 28046, \"fpr\": 0.1619546901329339, \"tpr\": 0.9047992583612636, \"n\": 5341}, {\"threshold\": 0.7549999952316284, \"p\": 28046, \"fpr\": 0.1619546901329339, \"tpr\": 0.904620979818869, \"n\": 5341}, {\"threshold\": 0.7559999823570251, \"p\": 28046, \"fpr\": 0.16158022842164388, \"tpr\": 0.9044427012764744, \"n\": 5341}, {\"threshold\": 0.7570000290870667, \"p\": 28046, \"fpr\": 0.16139299756599887, \"tpr\": 0.9040861441916851, \"n\": 5341}, {\"threshold\": 0.7580000162124634, \"p\": 28046, \"fpr\": 0.16064407414341883, \"tpr\": 0.9038722099408115, \"n\": 5341}, {\"threshold\": 0.7590000033378601, \"p\": 28046, \"fpr\": 0.1600823815764838, \"tpr\": 0.9034086857305854, \"n\": 5341}, {\"threshold\": 0.7599999904632568, \"p\": 28046, \"fpr\": 0.1598951507208388, \"tpr\": 0.903159095771233, \"n\": 5341}, {\"threshold\": 0.7609999775886536, \"p\": 28046, \"fpr\": 0.15952068900954877, \"tpr\": 0.9028738501034016, \"n\": 5341}, {\"threshold\": 0.7620000243186951, \"p\": 28046, \"fpr\": 0.15914622729825875, \"tpr\": 0.9025172930186123, \"n\": 5341}, {\"threshold\": 0.7630000114440918, \"p\": 28046, \"fpr\": 0.15858453473132372, \"tpr\": 0.9024103258931755, \"n\": 5341}, {\"threshold\": 0.7639999985694885, \"p\": 28046, \"fpr\": 0.1582100730200337, \"tpr\": 0.9019824573914283, \"n\": 5341}, {\"threshold\": 0.7649999856948853, \"p\": 28046, \"fpr\": 0.15783561130874368, \"tpr\": 0.9017328674320759, \"n\": 5341}, {\"threshold\": 0.765999972820282, \"p\": 28046, \"fpr\": 0.15727391874180865, \"tpr\": 0.9015902445981602, \"n\": 5341}, {\"threshold\": 0.7670000195503235, \"p\": 28046, \"fpr\": 0.15708668788616365, \"tpr\": 0.9012693432218498, \"n\": 5341}, {\"threshold\": 0.7680000066757202, \"p\": 28046, \"fpr\": 0.15689945703051864, \"tpr\": 0.9011267203879341, \"n\": 5341}, {\"threshold\": 0.7689999938011169, \"p\": 28046, \"fpr\": 0.15652499531922862, \"tpr\": 0.9008058190116237, \"n\": 5341}, {\"threshold\": 0.7699999809265137, \"p\": 28046, \"fpr\": 0.15652499531922862, \"tpr\": 0.9006275404692291, \"n\": 5341}, {\"threshold\": 0.7710000276565552, \"p\": 28046, \"fpr\": 0.1561505336079386, \"tpr\": 0.9002709833844399, \"n\": 5341}, {\"threshold\": 0.7720000147819519, \"p\": 28046, \"fpr\": 0.1559633027522936, \"tpr\": 0.8999500820081295, \"n\": 5341}, {\"threshold\": 0.7730000019073486, \"p\": 28046, \"fpr\": 0.15540161018535856, \"tpr\": 0.899664836340298, \"n\": 5341}, {\"threshold\": 0.7739999890327454, \"p\": 28046, \"fpr\": 0.15483991761842353, \"tpr\": 0.8994509020894245, \"n\": 5341}, {\"threshold\": 0.7749999761581421, \"p\": 28046, \"fpr\": 0.1544654559071335, \"tpr\": 0.8992726235470299, \"n\": 5341}, {\"threshold\": 0.7760000228881836, \"p\": 28046, \"fpr\": 0.15390376334019845, \"tpr\": 0.899236967838551, \"n\": 5341}, {\"threshold\": 0.7770000100135803, \"p\": 28046, \"fpr\": 0.1531548399176184, \"tpr\": 0.8989873778791985, \"n\": 5341}, {\"threshold\": 0.777999997138977, \"p\": 28046, \"fpr\": 0.1527803782063284, \"tpr\": 0.8987734436283249, \"n\": 5341}, {\"threshold\": 0.7789999842643738, \"p\": 28046, \"fpr\": 0.15221868563939336, \"tpr\": 0.8983812308350567, \"n\": 5341}, {\"threshold\": 0.7799999713897705, \"p\": 28046, \"fpr\": 0.15221868563939336, \"tpr\": 0.8980959851672252, \"n\": 5341}, {\"threshold\": 0.781000018119812, \"p\": 28046, \"fpr\": 0.15203145478374835, \"tpr\": 0.8979890180417885, \"n\": 5341}, {\"threshold\": 0.7820000052452087, \"p\": 28046, \"fpr\": 0.15146976221681333, \"tpr\": 0.8976324609569992, \"n\": 5341}, {\"threshold\": 0.7829999923706055, \"p\": 28046, \"fpr\": 0.15146976221681333, \"tpr\": 0.8974185267061257, \"n\": 5341}, {\"threshold\": 0.7839999794960022, \"p\": 28046, \"fpr\": 0.15146976221681333, \"tpr\": 0.8971332810382943, \"n\": 5341}, {\"threshold\": 0.7850000262260437, \"p\": 28046, \"fpr\": 0.1510953005055233, \"tpr\": 0.8968836910789417, \"n\": 5341}, {\"threshold\": 0.7860000133514404, \"p\": 28046, \"fpr\": 0.1510953005055233, \"tpr\": 0.8966341011195893, \"n\": 5341}, {\"threshold\": 0.7870000004768372, \"p\": 28046, \"fpr\": 0.15034637708294327, \"tpr\": 0.8963131997432789, \"n\": 5341}, {\"threshold\": 0.7879999876022339, \"p\": 28046, \"fpr\": 0.14997191537165325, \"tpr\": 0.8961349212008842, \"n\": 5341}, {\"threshold\": 0.7889999747276306, \"p\": 28046, \"fpr\": 0.1490357610934282, \"tpr\": 0.8958853312415318, \"n\": 5341}, {\"threshold\": 0.7900000214576721, \"p\": 28046, \"fpr\": 0.1490357610934282, \"tpr\": 0.8956357412821793, \"n\": 5341}, {\"threshold\": 0.7910000085830688, \"p\": 28046, \"fpr\": 0.1488485302377832, \"tpr\": 0.8953861513228268, \"n\": 5341}, {\"threshold\": 0.7919999957084656, \"p\": 28046, \"fpr\": 0.14828683767084816, \"tpr\": 0.8951365613634743, \"n\": 5341}, {\"threshold\": 0.7929999828338623, \"p\": 28046, \"fpr\": 0.14791237595955814, \"tpr\": 0.8948869714041218, \"n\": 5341}, {\"threshold\": 0.7940000295639038, \"p\": 28046, \"fpr\": 0.14753791424826812, \"tpr\": 0.8945304143193326, \"n\": 5341}, {\"threshold\": 0.7950000166893005, \"p\": 28046, \"fpr\": 0.1471634525369781, \"tpr\": 0.89428082435998, \"n\": 5341}, {\"threshold\": 0.7960000038146973, \"p\": 28046, \"fpr\": 0.14641452911439806, \"tpr\": 0.8939955786921486, \"n\": 5341}, {\"threshold\": 0.796999990940094, \"p\": 28046, \"fpr\": 0.14585283654746303, \"tpr\": 0.8937816444412751, \"n\": 5341}, {\"threshold\": 0.7979999780654907, \"p\": 28046, \"fpr\": 0.145478374836173, \"tpr\": 0.8935320544819225, \"n\": 5341}, {\"threshold\": 0.7990000247955322, \"p\": 28046, \"fpr\": 0.14491668226923798, \"tpr\": 0.8932824645225701, \"n\": 5341}, {\"threshold\": 0.800000011920929, \"p\": 28046, \"fpr\": 0.14472945141359295, \"tpr\": 0.8932468088140911, \"n\": 5341}, {\"threshold\": 0.8009999990463257, \"p\": 28046, \"fpr\": 0.14435498970230293, \"tpr\": 0.8929259074377808, \"n\": 5341}, {\"threshold\": 0.8019999861717224, \"p\": 28046, \"fpr\": 0.1437932971353679, \"tpr\": 0.8926050060614704, \"n\": 5341}, {\"threshold\": 0.8029999732971191, \"p\": 28046, \"fpr\": 0.14341883542407788, \"tpr\": 0.8922484489766812, \"n\": 5341}, {\"threshold\": 0.8040000200271606, \"p\": 28046, \"fpr\": 0.14341883542407788, \"tpr\": 0.8918205804749341, \"n\": 5341}, {\"threshold\": 0.8050000071525574, \"p\": 28046, \"fpr\": 0.14266991200149784, \"tpr\": 0.8914640233901447, \"n\": 5341}, {\"threshold\": 0.8059999942779541, \"p\": 28046, \"fpr\": 0.14266991200149784, \"tpr\": 0.8912857448477501, \"n\": 5341}, {\"threshold\": 0.8069999814033508, \"p\": 28046, \"fpr\": 0.14248268114585283, \"tpr\": 0.8910718105968766, \"n\": 5341}, {\"threshold\": 0.8080000281333923, \"p\": 28046, \"fpr\": 0.1419209885789178, \"tpr\": 0.8909291877629608, \"n\": 5341}, {\"threshold\": 0.8090000152587891, \"p\": 28046, \"fpr\": 0.14135929601198277, \"tpr\": 0.890358696427298, \"n\": 5341}, {\"threshold\": 0.8100000023841858, \"p\": 28046, \"fpr\": 0.14117206515633776, \"tpr\": 0.8899664836340299, \"n\": 5341}, {\"threshold\": 0.8109999895095825, \"p\": 28046, \"fpr\": 0.14098483430069275, \"tpr\": 0.8896455822577195, \"n\": 5341}, {\"threshold\": 0.8119999766349792, \"p\": 28046, \"fpr\": 0.14061037258940273, \"tpr\": 0.8895029594238038, \"n\": 5341}, {\"threshold\": 0.8130000233650208, \"p\": 28046, \"fpr\": 0.14042314173375772, \"tpr\": 0.8892533694644512, \"n\": 5341}, {\"threshold\": 0.8140000104904175, \"p\": 28046, \"fpr\": 0.14042314173375772, \"tpr\": 0.888861156671183, \"n\": 5341}, {\"threshold\": 0.8149999976158142, \"p\": 28046, \"fpr\": 0.1398614491668227, \"tpr\": 0.8884689438779149, \"n\": 5341}, {\"threshold\": 0.8159999847412109, \"p\": 28046, \"fpr\": 0.13967421831117768, \"tpr\": 0.8883263210439991, \"n\": 5341}, {\"threshold\": 0.8169999718666077, \"p\": 28046, \"fpr\": 0.13873806403295263, \"tpr\": 0.8880054196676888, \"n\": 5341}, {\"threshold\": 0.8180000185966492, \"p\": 28046, \"fpr\": 0.13873806403295263, \"tpr\": 0.8877558297083363, \"n\": 5341}, {\"threshold\": 0.8190000057220459, \"p\": 28046, \"fpr\": 0.13855083317730763, \"tpr\": 0.8874705840405049, \"n\": 5341}, {\"threshold\": 0.8199999928474426, \"p\": 28046, \"fpr\": 0.13855083317730763, \"tpr\": 0.8868287812878842, \"n\": 5341}, {\"threshold\": 0.8209999799728394, \"p\": 28046, \"fpr\": 0.1378019097547276, \"tpr\": 0.8864722242030949, \"n\": 5341}, {\"threshold\": 0.8220000267028809, \"p\": 28046, \"fpr\": 0.1378019097547276, \"tpr\": 0.8860443557013478, \"n\": 5341}, {\"threshold\": 0.8230000138282776, \"p\": 28046, \"fpr\": 0.13761467889908258, \"tpr\": 0.8856521429080796, \"n\": 5341}, {\"threshold\": 0.8240000009536743, \"p\": 28046, \"fpr\": 0.13724021718779256, \"tpr\": 0.8853312415317692, \"n\": 5341}, {\"threshold\": 0.824999988079071, \"p\": 28046, \"fpr\": 0.1363040629095675, \"tpr\": 0.8849746844469799, \"n\": 5341}, {\"threshold\": 0.8259999752044678, \"p\": 28046, \"fpr\": 0.13574237034263248, \"tpr\": 0.884475504528275, \"n\": 5341}, {\"threshold\": 0.8270000219345093, \"p\": 28046, \"fpr\": 0.13536790863134243, \"tpr\": 0.8840832917350068, \"n\": 5341}, {\"threshold\": 0.828000009059906, \"p\": 28046, \"fpr\": 0.1348062160644074, \"tpr\": 0.8838337017756542, \"n\": 5341}, {\"threshold\": 0.8289999961853027, \"p\": 28046, \"fpr\": 0.13443175435311738, \"tpr\": 0.8836197675247807, \"n\": 5341}, {\"threshold\": 0.8299999833106995, \"p\": 28046, \"fpr\": 0.13424452349747237, \"tpr\": 0.8832632104399915, \"n\": 5341}, {\"threshold\": 0.8309999704360962, \"p\": 28046, \"fpr\": 0.1329339075079573, \"tpr\": 0.8831205876060757, \"n\": 5341}, {\"threshold\": 0.8320000171661377, \"p\": 28046, \"fpr\": 0.13255944579666729, \"tpr\": 0.8826570633958497, \"n\": 5341}, {\"threshold\": 0.8330000042915344, \"p\": 28046, \"fpr\": 0.13181052237408725, \"tpr\": 0.8822648506025814, \"n\": 5341}, {\"threshold\": 0.8339999914169312, \"p\": 28046, \"fpr\": 0.13143606066279723, \"tpr\": 0.8818013263923554, \"n\": 5341}, {\"threshold\": 0.8349999785423279, \"p\": 28046, \"fpr\": 0.1306871372402172, \"tpr\": 0.8814804250160451, \"n\": 5341}, {\"threshold\": 0.8360000252723694, \"p\": 28046, \"fpr\": 0.12993821381763715, \"tpr\": 0.881016900805819, \"n\": 5341}, {\"threshold\": 0.8370000123977661, \"p\": 28046, \"fpr\": 0.12956375210634713, \"tpr\": 0.8807673108464665, \"n\": 5341}, {\"threshold\": 0.8379999995231628, \"p\": 28046, \"fpr\": 0.1291892903950571, \"tpr\": 0.8805890323040719, \"n\": 5341}, {\"threshold\": 0.8389999866485596, \"p\": 28046, \"fpr\": 0.1291892903950571, \"tpr\": 0.880054196676888, \"n\": 5341}, {\"threshold\": 0.8399999737739563, \"p\": 28046, \"fpr\": 0.12844036697247707, \"tpr\": 0.8794480496327463, \"n\": 5341}, {\"threshold\": 0.8410000205039978, \"p\": 28046, \"fpr\": 0.12806590526118705, \"tpr\": 0.8792341153818727, \"n\": 5341}, {\"threshold\": 0.8420000076293945, \"p\": 28046, \"fpr\": 0.12750421269425202, \"tpr\": 0.8786279683377308, \"n\": 5341}, {\"threshold\": 0.8429999947547913, \"p\": 28046, \"fpr\": 0.127316981838607, \"tpr\": 0.8781287884190259, \"n\": 5341}, {\"threshold\": 0.843999981880188, \"p\": 28046, \"fpr\": 0.12638082756038196, \"tpr\": 0.8774513299579263, \"n\": 5341}, {\"threshold\": 0.8450000286102295, \"p\": 28046, \"fpr\": 0.1256319041378019, \"tpr\": 0.8772017399985738, \"n\": 5341}, {\"threshold\": 0.8460000157356262, \"p\": 28046, \"fpr\": 0.1254446732821569, \"tpr\": 0.8769164943307424, \"n\": 5341}, {\"threshold\": 0.847000002861023, \"p\": 28046, \"fpr\": 0.12525744242651188, \"tpr\": 0.876595592954432, \"n\": 5341}, {\"threshold\": 0.8479999899864197, \"p\": 28046, \"fpr\": 0.12432128814828684, \"tpr\": 0.8763460029950795, \"n\": 5341}, {\"threshold\": 0.8489999771118164, \"p\": 28046, \"fpr\": 0.12413405729264183, \"tpr\": 0.8759181344933323, \"n\": 5341}, {\"threshold\": 0.8500000238418579, \"p\": 28046, \"fpr\": 0.12394682643699682, \"tpr\": 0.8755259217000642, \"n\": 5341}, {\"threshold\": 0.8510000109672546, \"p\": 28046, \"fpr\": 0.1237595955813518, \"tpr\": 0.875133708906796, \"n\": 5341}, {\"threshold\": 0.8519999980926514, \"p\": 28046, \"fpr\": 0.12357236472570679, \"tpr\": 0.8746701846965699, \"n\": 5341}, {\"threshold\": 0.8529999852180481, \"p\": 28046, \"fpr\": 0.12282344130312675, \"tpr\": 0.8742423161948228, \"n\": 5341}, {\"threshold\": 0.8539999723434448, \"p\": 28046, \"fpr\": 0.12244897959183673, \"tpr\": 0.8738857591100335, \"n\": 5341}, {\"threshold\": 0.8550000190734863, \"p\": 28046, \"fpr\": 0.1218872870249017, \"tpr\": 0.873172644940455, \"n\": 5341}, {\"threshold\": 0.8560000061988831, \"p\": 28046, \"fpr\": 0.12170005616925669, \"tpr\": 0.8726021536047921, \"n\": 5341}, {\"threshold\": 0.8569999933242798, \"p\": 28046, \"fpr\": 0.12151282531361168, \"tpr\": 0.8723525636454397, \"n\": 5341}, {\"threshold\": 0.8579999804496765, \"p\": 28046, \"fpr\": 0.12076390189103164, \"tpr\": 0.8719603508521714, \"n\": 5341}, {\"threshold\": 0.859000027179718, \"p\": 28046, \"fpr\": 0.12076390189103164, \"tpr\": 0.8713898595165086, \"n\": 5341}, {\"threshold\": 0.8600000143051147, \"p\": 28046, \"fpr\": 0.12057667103538663, \"tpr\": 0.8709263353062825, \"n\": 5341}, {\"threshold\": 0.8610000014305115, \"p\": 28046, \"fpr\": 0.1200149784684516, \"tpr\": 0.8706767453469301, \"n\": 5341}, {\"threshold\": 0.8619999885559082, \"p\": 28046, \"fpr\": 0.1198277476128066, \"tpr\": 0.8702845325536619, \"n\": 5341}, {\"threshold\": 0.8629999756813049, \"p\": 28046, \"fpr\": 0.11964051675716159, \"tpr\": 0.8698566640519148, \"n\": 5341}, {\"threshold\": 0.8640000224113464, \"p\": 28046, \"fpr\": 0.11889159333458153, \"tpr\": 0.8695357626756044, \"n\": 5341}, {\"threshold\": 0.8650000095367432, \"p\": 28046, \"fpr\": 0.11776820820071147, \"tpr\": 0.8689652713399415, \"n\": 5341}, {\"threshold\": 0.8659999966621399, \"p\": 28046, \"fpr\": 0.11720651563377645, \"tpr\": 0.868252157170363, \"n\": 5341}, {\"threshold\": 0.8669999837875366, \"p\": 28046, \"fpr\": 0.11664482306684142, \"tpr\": 0.8678956000855736, \"n\": 5341}, {\"threshold\": 0.8679999709129333, \"p\": 28046, \"fpr\": 0.1164575922111964, \"tpr\": 0.8673607644583898, \"n\": 5341}, {\"threshold\": 0.8690000176429749, \"p\": 28046, \"fpr\": 0.11608313049990639, \"tpr\": 0.8670755187905583, \"n\": 5341}, {\"threshold\": 0.8700000047683716, \"p\": 28046, \"fpr\": 0.11533420707732635, \"tpr\": 0.8665406831633744, \"n\": 5341}, {\"threshold\": 0.8709999918937683, \"p\": 28046, \"fpr\": 0.11495974536603633, \"tpr\": 0.866291093204022, \"n\": 5341}, {\"threshold\": 0.871999979019165, \"p\": 28046, \"fpr\": 0.11402359108781127, \"tpr\": 0.8658275689937959, \"n\": 5341}, {\"threshold\": 0.8730000257492065, \"p\": 28046, \"fpr\": 0.11346189852087624, \"tpr\": 0.8651857662411752, \"n\": 5341}, {\"threshold\": 0.8740000128746033, \"p\": 28046, \"fpr\": 0.11308743680958622, \"tpr\": 0.864829209156386, \"n\": 5341}, {\"threshold\": 0.875, \"p\": 28046, \"fpr\": 0.11252574424265119, \"tpr\": 0.864258717820723, \"n\": 5341}, {\"threshold\": 0.8759999871253967, \"p\": 28046, \"fpr\": 0.11177682082007115, \"tpr\": 0.8639378164444127, \"n\": 5341}, {\"threshold\": 0.8769999742507935, \"p\": 28046, \"fpr\": 0.11102789739749111, \"tpr\": 0.8632960136917921, \"n\": 5341}, {\"threshold\": 0.878000020980835, \"p\": 28046, \"fpr\": 0.11027897397491107, \"tpr\": 0.8627611780646082, \"n\": 5341}, {\"threshold\": 0.8790000081062317, \"p\": 28046, \"fpr\": 0.10990451226362105, \"tpr\": 0.8622619981459032, \"n\": 5341}, {\"threshold\": 0.8799999952316284, \"p\": 28046, \"fpr\": 0.10953005055233102, \"tpr\": 0.8615132282678457, \"n\": 5341}, {\"threshold\": 0.8809999823570251, \"p\": 28046, \"fpr\": 0.109155588841041, \"tpr\": 0.8607644583897882, \"n\": 5341}, {\"threshold\": 0.8820000290870667, \"p\": 28046, \"fpr\": 0.10859389627410597, \"tpr\": 0.8602296227626043, \"n\": 5341}, {\"threshold\": 0.8830000162124634, \"p\": 28046, \"fpr\": 0.10821943456281595, \"tpr\": 0.8596234757184625, \"n\": 5341}, {\"threshold\": 0.8840000033378601, \"p\": 28046, \"fpr\": 0.1072832802845909, \"tpr\": 0.8588390501319261, \"n\": 5341}, {\"threshold\": 0.8849999904632568, \"p\": 28046, \"fpr\": 0.10690881857330088, \"tpr\": 0.8579833131284319, \"n\": 5341}, {\"threshold\": 0.8859999775886536, \"p\": 28046, \"fpr\": 0.10672158771765587, \"tpr\": 0.8575911003351636, \"n\": 5341}, {\"threshold\": 0.8870000243186951, \"p\": 28046, \"fpr\": 0.10653435686201086, \"tpr\": 0.8568066747486273, \"n\": 5341}, {\"threshold\": 0.8880000114440918, \"p\": 28046, \"fpr\": 0.10615989515072084, \"tpr\": 0.8561292162875276, \"n\": 5341}, {\"threshold\": 0.8889999985694885, \"p\": 28046, \"fpr\": 0.10578543343943082, \"tpr\": 0.8557013477857806, \"n\": 5341}, {\"threshold\": 0.8899999856948853, \"p\": 28046, \"fpr\": 0.10428758659427073, \"tpr\": 0.8550952007416387, \"n\": 5341}, {\"threshold\": 0.890999972820282, \"p\": 28046, \"fpr\": 0.10391312488298071, \"tpr\": 0.8541681523211866, \"n\": 5341}, {\"threshold\": 0.8920000195503235, \"p\": 28046, \"fpr\": 0.10335143231604568, \"tpr\": 0.853490693860087, \"n\": 5341}, {\"threshold\": 0.8930000066757202, \"p\": 28046, \"fpr\": 0.10278973974911065, \"tpr\": 0.8528132353989873, \"n\": 5341}, {\"threshold\": 0.8939999938011169, \"p\": 28046, \"fpr\": 0.1018535854708856, \"tpr\": 0.8518861869785352, \"n\": 5341}, {\"threshold\": 0.8949999809265137, \"p\": 28046, \"fpr\": 0.10147912375959559, \"tpr\": 0.8512087285174357, \"n\": 5341}, {\"threshold\": 0.8960000276565552, \"p\": 28046, \"fpr\": 0.10147912375959559, \"tpr\": 0.8503886472224204, \"n\": 5341}, {\"threshold\": 0.8970000147819519, \"p\": 28046, \"fpr\": 0.10129189290395058, \"tpr\": 0.8496755330528417, \"n\": 5341}, {\"threshold\": 0.8980000019073486, \"p\": 28046, \"fpr\": 0.10091743119266056, \"tpr\": 0.8490693860087, \"n\": 5341}, {\"threshold\": 0.8989999890327454, \"p\": 28046, \"fpr\": 0.10035573862572551, \"tpr\": 0.8482849604221636, \"n\": 5341}, {\"threshold\": 0.8999999761581421, \"p\": 28046, \"fpr\": 0.09979404605879048, \"tpr\": 0.8476431576695429, \"n\": 5341}, {\"threshold\": 0.9010000228881836, \"p\": 28046, \"fpr\": 0.09885789178056544, \"tpr\": 0.8469656992084432, \"n\": 5341}, {\"threshold\": 0.9020000100135803, \"p\": 28046, \"fpr\": 0.09848343006927542, \"tpr\": 0.8463238964558226, \"n\": 5341}, {\"threshold\": 0.902999997138977, \"p\": 28046, \"fpr\": 0.09792173750234039, \"tpr\": 0.8460029950795123, \"n\": 5341}, {\"threshold\": 0.9039999842643738, \"p\": 28046, \"fpr\": 0.09773450664669538, \"tpr\": 0.8452185694929758, \"n\": 5341}, {\"threshold\": 0.9049999713897705, \"p\": 28046, \"fpr\": 0.09679835236847033, \"tpr\": 0.844648078157313, \"n\": 5341}, {\"threshold\": 0.906000018119812, \"p\": 28046, \"fpr\": 0.09567496723460026, \"tpr\": 0.8437210297368609, \"n\": 5341}, {\"threshold\": 0.9070000052452087, \"p\": 28046, \"fpr\": 0.09492604381202022, \"tpr\": 0.8428652927333666, \"n\": 5341}, {\"threshold\": 0.9079999923706055, \"p\": 28046, \"fpr\": 0.09380265867815016, \"tpr\": 0.8418669328959566, \"n\": 5341}, {\"threshold\": 0.9089999794960022, \"p\": 28046, \"fpr\": 0.09361542782250515, \"tpr\": 0.8408329173500677, \"n\": 5341}, {\"threshold\": 0.9100000262260437, \"p\": 28046, \"fpr\": 0.09342819696686014, \"tpr\": 0.8399771803465735, \"n\": 5341}, {\"threshold\": 0.9110000133514404, \"p\": 28046, \"fpr\": 0.0926792735442801, \"tpr\": 0.8390501319261213, \"n\": 5341}, {\"threshold\": 0.9120000004768372, \"p\": 28046, \"fpr\": 0.09249204268863509, \"tpr\": 0.8383726734650218, \"n\": 5341}, {\"threshold\": 0.9129999876022339, \"p\": 28046, \"fpr\": 0.09211758097734507, \"tpr\": 0.8376595592954432, \"n\": 5341}, {\"threshold\": 0.9139999747276306, \"p\": 28046, \"fpr\": 0.09211758097734507, \"tpr\": 0.8369821008343435, \"n\": 5341}, {\"threshold\": 0.9150000214576721, \"p\": 28046, \"fpr\": 0.09174311926605505, \"tpr\": 0.8358767738714968, \"n\": 5341}, {\"threshold\": 0.9160000085830688, \"p\": 28046, \"fpr\": 0.09118142669912002, \"tpr\": 0.8349853811595236, \"n\": 5341}, {\"threshold\": 0.9169999957084656, \"p\": 28046, \"fpr\": 0.09043250327653997, \"tpr\": 0.8335948085288455, \"n\": 5341}, {\"threshold\": 0.9179999828338623, \"p\": 28046, \"fpr\": 0.09043250327653997, \"tpr\": 0.8323112030236041, \"n\": 5341}, {\"threshold\": 0.9190000295639038, \"p\": 28046, \"fpr\": 0.08987081070960494, \"tpr\": 0.8314198103116309, \"n\": 5341}, {\"threshold\": 0.9200000166893005, \"p\": 28046, \"fpr\": 0.0891218872870249, \"tpr\": 0.8299935819724737, \"n\": 5341}, {\"threshold\": 0.9210000038146973, \"p\": 28046, \"fpr\": 0.08874742557573488, \"tpr\": 0.8289952221350638, \"n\": 5341}, {\"threshold\": 0.921999990940094, \"p\": 28046, \"fpr\": 0.08781127129750983, \"tpr\": 0.8278542394637382, \"n\": 5341}, {\"threshold\": 0.9229999780654907, \"p\": 28046, \"fpr\": 0.0872495787305748, \"tpr\": 0.8266776010839335, \"n\": 5341}, {\"threshold\": 0.9240000247955322, \"p\": 28046, \"fpr\": 0.08687511701928478, \"tpr\": 0.8257505526634814, \"n\": 5341}, {\"threshold\": 0.925000011920929, \"p\": 28046, \"fpr\": 0.08650065530799476, \"tpr\": 0.824966127076945, \"n\": 5341}, {\"threshold\": 0.9259999990463257, \"p\": 28046, \"fpr\": 0.0855645010297697, \"tpr\": 0.8236468658632247, \"n\": 5341}, {\"threshold\": 0.9269999861717224, \"p\": 28046, \"fpr\": 0.08537727017412469, \"tpr\": 0.822505883191899, \"n\": 5341}, {\"threshold\": 0.9279999732971191, \"p\": 28046, \"fpr\": 0.08519003931847968, \"tpr\": 0.821543179062968, \"n\": 5341}, {\"threshold\": 0.9290000200271606, \"p\": 28046, \"fpr\": 0.08444111589589964, \"tpr\": 0.8201882621407688, \"n\": 5341}, {\"threshold\": 0.9300000071525574, \"p\": 28046, \"fpr\": 0.0836921924733196, \"tpr\": 0.8189759680524852, \"n\": 5341}, {\"threshold\": 0.9309999942779541, \"p\": 28046, \"fpr\": 0.08256880733944955, \"tpr\": 0.8174071168794124, \"n\": 5341}, {\"threshold\": 0.9319999814033508, \"p\": 28046, \"fpr\": 0.08238157648380454, \"tpr\": 0.8160165442487343, \"n\": 5341}, {\"threshold\": 0.9330000281333923, \"p\": 28046, \"fpr\": 0.08238157648380454, \"tpr\": 0.8148399058689296, \"n\": 5341}, {\"threshold\": 0.9340000152587891, \"p\": 28046, \"fpr\": 0.08219434562815953, \"tpr\": 0.8133067104043358, \"n\": 5341}, {\"threshold\": 0.9350000023841858, \"p\": 28046, \"fpr\": 0.08200711477251452, \"tpr\": 0.8117735149397418, \"n\": 5341}, {\"threshold\": 0.9359999895095825, \"p\": 28046, \"fpr\": 0.08144542220557947, \"tpr\": 0.8105612208514583, \"n\": 5341}, {\"threshold\": 0.9369999766349792, \"p\": 28046, \"fpr\": 0.08088372963864444, \"tpr\": 0.8094558938886116, \"n\": 5341}, {\"threshold\": 0.9380000233650208, \"p\": 28046, \"fpr\": 0.08050926792735442, \"tpr\": 0.8079940098409756, \"n\": 5341}, {\"threshold\": 0.9390000104904175, \"p\": 28046, \"fpr\": 0.0801348062160644, \"tpr\": 0.8064608143763816, \"n\": 5341}, {\"threshold\": 0.9399999976158142, \"p\": 28046, \"fpr\": 0.07938588279348437, \"tpr\": 0.8046780289524352, \"n\": 5341}, {\"threshold\": 0.9409999847412109, \"p\": 28046, \"fpr\": 0.07882419022654934, \"tpr\": 0.803358767738715, \"n\": 5341}, {\"threshold\": 0.9419999718666077, \"p\": 28046, \"fpr\": 0.0780752668039693, \"tpr\": 0.8019325393995579, \"n\": 5341}, {\"threshold\": 0.9430000185966492, \"p\": 28046, \"fpr\": 0.07788803594832429, \"tpr\": 0.800399343934964, \"n\": 5341}, {\"threshold\": 0.9440000057220459, \"p\": 28046, \"fpr\": 0.07713911252574425, \"tpr\": 0.7989731155958069, \"n\": 5341}, {\"threshold\": 0.9449999928474426, \"p\": 28046, \"fpr\": 0.07676465081445422, \"tpr\": 0.7973686087142552, \"n\": 5341}, {\"threshold\": 0.9459999799728394, \"p\": 28046, \"fpr\": 0.0763901891031642, \"tpr\": 0.7955145118733509, \"n\": 5341}, {\"threshold\": 0.9470000267028809, \"p\": 28046, \"fpr\": 0.07545403482493915, \"tpr\": 0.7938743492833202, \"n\": 5341}, {\"threshold\": 0.9480000138282776, \"p\": 28046, \"fpr\": 0.07489234225800412, \"tpr\": 0.7924837766526421, \"n\": 5341}, {\"threshold\": 0.9490000009536743, \"p\": 28046, \"fpr\": 0.07339449541284404, \"tpr\": 0.7908436140626114, \"n\": 5341}, {\"threshold\": 0.949999988079071, \"p\": 28046, \"fpr\": 0.07208387942332896, \"tpr\": 0.7883833701775654, \"n\": 5341}, {\"threshold\": 0.9509999752044678, \"p\": 28046, \"fpr\": 0.07133495600074892, \"tpr\": 0.7868501747129716, \"n\": 5341}, {\"threshold\": 0.9520000219345093, \"p\": 28046, \"fpr\": 0.07039880172252387, \"tpr\": 0.7853169792483776, \"n\": 5341}, {\"threshold\": 0.953000009059906, \"p\": 28046, \"fpr\": 0.06983710915558884, \"tpr\": 0.7829280467802895, \"n\": 5341}, {\"threshold\": 0.9539999961853027, \"p\": 28046, \"fpr\": 0.06927541658865381, \"tpr\": 0.7805034586037225, \"n\": 5341}, {\"threshold\": 0.9549999833106995, \"p\": 28046, \"fpr\": 0.06852649316607377, \"tpr\": 0.7783641160949868, \"n\": 5341}, {\"threshold\": 0.9559999704360962, \"p\": 28046, \"fpr\": 0.06833926231042876, \"tpr\": 0.7767239535049562, \"n\": 5341}, {\"threshold\": 0.9570000171661377, \"p\": 28046, \"fpr\": 0.06721587717655869, \"tpr\": 0.7745132995792626, \"n\": 5341}, {\"threshold\": 0.9580000042915344, \"p\": 28046, \"fpr\": 0.06646695375397865, \"tpr\": 0.7725878913214006, \"n\": 5341}, {\"threshold\": 0.9589999914169312, \"p\": 28046, \"fpr\": 0.0655307994757536, \"tpr\": 0.7698067460600442, \"n\": 5341}, {\"threshold\": 0.9599999785423279, \"p\": 28046, \"fpr\": 0.06515633776446358, \"tpr\": 0.767453469300435, \"n\": 5341}, {\"threshold\": 0.9610000252723694, \"p\": 28046, \"fpr\": 0.06459464519752856, \"tpr\": 0.7649219139984311, \"n\": 5341}, {\"threshold\": 0.9620000123977661, \"p\": 28046, \"fpr\": 0.0634712600636585, \"tpr\": 0.7627825714896955, \"n\": 5341}, {\"threshold\": 0.9629999995231628, \"p\": 28046, \"fpr\": 0.06290956749672345, \"tpr\": 0.7598231476859445, \"n\": 5341}, {\"threshold\": 0.9639999866485596, \"p\": 28046, \"fpr\": 0.06197341321849841, \"tpr\": 0.756614133922841, \"n\": 5341}, {\"threshold\": 0.9649999737739563, \"p\": 28046, \"fpr\": 0.061224489795918366, \"tpr\": 0.7541182343293161, \"n\": 5341}, {\"threshold\": 0.9660000205039978, \"p\": 28046, \"fpr\": 0.06047556637333833, \"tpr\": 0.7511588105255651, \"n\": 5341}, {\"threshold\": 0.9670000076293945, \"p\": 28046, \"fpr\": 0.05972664295075829, \"tpr\": 0.7481280753048563, \"n\": 5341}, {\"threshold\": 0.9679999947547913, \"p\": 28046, \"fpr\": 0.05916495038382325, \"tpr\": 0.7445981601654424, \"n\": 5341}, {\"threshold\": 0.968999981880188, \"p\": 28046, \"fpr\": 0.05879048867253323, \"tpr\": 0.7414604578192968, \"n\": 5341}, {\"threshold\": 0.9700000286102295, \"p\": 28046, \"fpr\": 0.057667103538663174, \"tpr\": 0.7377166084290094, \"n\": 5341}, {\"threshold\": 0.9710000157356262, \"p\": 28046, \"fpr\": 0.05673094926043812, \"tpr\": 0.7346502174998217, \"n\": 5341}, {\"threshold\": 0.972000002861023, \"p\": 28046, \"fpr\": 0.05542033327092305, \"tpr\": 0.7306924338586608, \"n\": 5341}, {\"threshold\": 0.9729999899864197, \"p\": 28046, \"fpr\": 0.054858640703988014, \"tpr\": 0.7272338301362048, \"n\": 5341}, {\"threshold\": 0.9739999771118164, \"p\": 28046, \"fpr\": 0.053735255570117955, \"tpr\": 0.7228125222848178, \"n\": 5341}, {\"threshold\": 0.9750000238418579, \"p\": 28046, \"fpr\": 0.0526118704362479, \"tpr\": 0.7183912144334308, \"n\": 5341}, {\"threshold\": 0.9760000109672546, \"p\": 28046, \"fpr\": 0.05073956187979779, \"tpr\": 0.7140055622905227, \"n\": 5341}, {\"threshold\": 0.9769999980926514, \"p\": 28046, \"fpr\": 0.04942894589028272, \"tpr\": 0.7095129430221778, \"n\": 5341}, {\"threshold\": 0.9779999852180481, \"p\": 28046, \"fpr\": 0.04849279161205767, \"tpr\": 0.7051629465877487, \"n\": 5341}, {\"threshold\": 0.9789999723434448, \"p\": 28046, \"fpr\": 0.04811832990076765, \"tpr\": 0.7001711474006989, \"n\": 5341}, {\"threshold\": 0.9800000190734863, \"p\": 28046, \"fpr\": 0.04755663733383261, \"tpr\": 0.6942522997931969, \"n\": 5341}, {\"threshold\": 0.9810000061988831, \"p\": 28046, \"fpr\": 0.046807713911252574, \"tpr\": 0.6885117307280896, \"n\": 5341}, {\"threshold\": 0.9819999933242798, \"p\": 28046, \"fpr\": 0.0454970979217375, \"tpr\": 0.6819510803679669, \"n\": 5341}, {\"threshold\": 0.9829999804496765, \"p\": 28046, \"fpr\": 0.04325032765399738, \"tpr\": 0.6760678884689438, \"n\": 5341}, {\"threshold\": 0.984000027179718, \"p\": 28046, \"fpr\": 0.0417524808088373, \"tpr\": 0.6687584682307638, \"n\": 5341}, {\"threshold\": 0.9850000143051147, \"p\": 28046, \"fpr\": 0.04100355738625726, \"tpr\": 0.6611994580332311, \"n\": 5341}, {\"threshold\": 0.9860000014305115, \"p\": 28046, \"fpr\": 0.03969294139674218, \"tpr\": 0.65292733366612, \"n\": 5341}, {\"threshold\": 0.9869999885559082, \"p\": 28046, \"fpr\": 0.038944017974162144, \"tpr\": 0.6436568494615988, \"n\": 5341}, {\"threshold\": 0.9879999756813049, \"p\": 28046, \"fpr\": 0.03744617112900206, \"tpr\": 0.6343863652570777, \"n\": 5341}, {\"threshold\": 0.9890000224113464, \"p\": 28046, \"fpr\": 0.035761093428196965, \"tpr\": 0.6244740782999358, \"n\": 5341}, {\"threshold\": 0.9900000095367432, \"p\": 28046, \"fpr\": 0.03332709230481183, \"tpr\": 0.6129216287527633, \"n\": 5341}, {\"threshold\": 0.9909999966621399, \"p\": 28046, \"fpr\": 0.03182924545965175, \"tpr\": 0.6007273764529701, \"n\": 5341}, {\"threshold\": 0.9919999837875366, \"p\": 28046, \"fpr\": 0.030518629470136678, \"tpr\": 0.5867146830207516, \"n\": 5341}, {\"threshold\": 0.9929999709129333, \"p\": 28046, \"fpr\": 0.028271859202396554, \"tpr\": 0.5715966626256864, \"n\": 5341}, {\"threshold\": 0.9940000176429749, \"p\": 28046, \"fpr\": 0.026774012357236473, \"tpr\": 0.5544462668473222, \"n\": 5341}, {\"threshold\": 0.9950000047683716, \"p\": 28046, \"fpr\": 0.0254633963677214, \"tpr\": 0.5321614490479926, \"n\": 5341}, {\"threshold\": 0.9959999918937683, \"p\": 28046, \"fpr\": 0.023403856955626287, \"tpr\": 0.5051700777294444, \"n\": 5341}, {\"threshold\": 0.996999979019165, \"p\": 28046, \"fpr\": 0.021157086687886163, \"tpr\": 0.471974613135563, \"n\": 5341}, {\"threshold\": 0.9980000257492065, \"p\": 28046, \"fpr\": 0.017974162141920987, \"tpr\": 0.42744063324538256, \"n\": 5341}, {\"threshold\": 0.9990000128746033, \"p\": 28046, \"fpr\": 0.013855083317730763, \"tpr\": 0.358411181630179, \"n\": 5341}, {\"threshold\": 1.0, \"p\": 28046, \"fpr\": 0.0, \"tpr\": 0.0, \"n\": 5341}]}]]}, e);\n",
       "                });\n",
       "            })();\n",
       "        "
      ]
     },
     "metadata": {},
     "output_type": "display_data"
    }
   ],
   "source": [
    "sentiment_model.show(view='Evaluation')"
   ]
  },
  {
   "cell_type": "markdown",
   "metadata": {},
   "source": [
    "#Applying the learned model to understand sentiment for Giraffe"
   ]
  },
  {
   "cell_type": "code",
   "execution_count": 205,
   "metadata": {
    "collapsed": true
   },
   "outputs": [],
   "source": [
    "giraffe_reviews['predicted_sentiment'] = sentiment_model.predict(giraffe_reviews, output_type='probability')"
   ]
  },
  {
   "cell_type": "code",
   "execution_count": 13,
   "metadata": {
    "collapsed": false
   },
   "outputs": [
    {
     "ename": "SyntaxError",
     "evalue": "unexpected EOF while parsing (<ipython-input-13-5af05b58209d>, line 1)",
     "output_type": "error",
     "traceback": [
      "\u001b[1;36m  File \u001b[1;32m\"<ipython-input-13-5af05b58209d>\"\u001b[1;36m, line \u001b[1;32m1\u001b[0m\n\u001b[1;33m    giraffe_reviews.head(\u001b[0m\n\u001b[1;37m                         ^\u001b[0m\n\u001b[1;31mSyntaxError\u001b[0m\u001b[1;31m:\u001b[0m unexpected EOF while parsing\n"
     ]
    }
   ],
   "source": [
    "giraffe_reviews.head()"
   ]
  },
  {
   "cell_type": "markdown",
   "metadata": {},
   "source": [
    "##Sort the reviews based on the predicted sentiment and explore"
   ]
  },
  {
   "cell_type": "code",
   "execution_count": 29,
   "metadata": {
    "collapsed": true
   },
   "outputs": [],
   "source": [
    "giraffe_reviews = giraffe_reviews.sort('predicted_sentiment', ascending=False)"
   ]
  },
  {
   "cell_type": "code",
   "execution_count": 14,
   "metadata": {
    "collapsed": false
   },
   "outputs": [
    {
     "ename": "SyntaxError",
     "evalue": "unexpected EOF while parsing (<ipython-input-14-5af05b58209d>, line 1)",
     "output_type": "error",
     "traceback": [
      "\u001b[1;36m  File \u001b[1;32m\"<ipython-input-14-5af05b58209d>\"\u001b[1;36m, line \u001b[1;32m1\u001b[0m\n\u001b[1;33m    giraffe_reviews.head(\u001b[0m\n\u001b[1;37m                         ^\u001b[0m\n\u001b[1;31mSyntaxError\u001b[0m\u001b[1;31m:\u001b[0m unexpected EOF while parsing\n"
     ]
    }
   ],
   "source": [
    "giraffe_reviews.head()"
   ]
  },
  {
   "cell_type": "markdown",
   "metadata": {},
   "source": [
    "##Most positive reviews for the giraffe"
   ]
  },
  {
   "cell_type": "code",
   "execution_count": 22,
   "metadata": {
    "collapsed": false
   },
   "outputs": [
    {
     "data": {
      "text/plain": [
       "\"Sophie, oh Sophie, your time has come. My granddaughter, Violet is 5 months old and starting to teeth. What joy little Sophie brings to Violet. Sophie is made of a very pliable rubber that is sturdy but not tough. It is quite easy for Violet to twist Sophie into unheard of positions to get Sophie into her mouth. The little nose and hooves fit perfectly into small mouths, and the drooling has purpose. The paint on Sophie is food quality.Sophie was born in 1961 in France. The maker had wondered why there was nothing available for babies and made Sophie from the finest rubber, phthalate-free on St Sophie's Day, thus the name was born. Since that time millions of Sophie's populate the world. She is soft and for babies little hands easy to grasp. Violet especially loves the bumpy head and horns of Sophie. Sophie has a long neck that easy to grasp and twist. She has lovely, sizable spots that attract Violet's attention. Sophie has happy little squeaks that bring squeals of delight from Violet. She is able to make Sophie squeak and that brings much joy. Sophie's smooth skin is soothing to Violet's little gums. Sophie is 7 inches tall and is the exact correct size for babies to hold and love.As you well know the first thing babies grasp, goes into their mouths- how wonderful to have a toy that stimulates all of the senses and helps with the issue of teething. Sophie is small enough to fit into any size pocket or bag. Sophie is the perfect find for babies from a few months to a year old. How wonderful to hear the giggles and laughs that emanate from babies who find Sophie irresistible. Viva La Sophie!Highly Recommended.  prisrob 12-11-09\""
      ]
     },
     "execution_count": 22,
     "metadata": {},
     "output_type": "execute_result"
    }
   ],
   "source": [
    "giraffe_reviews[0]['review']"
   ]
  },
  {
   "cell_type": "code",
   "execution_count": 23,
   "metadata": {
    "collapsed": false
   },
   "outputs": [
    {
     "data": {
      "text/plain": [
       "\"I'm not sure why Sophie is such a hit with the little ones, but my 7 month old baby girl is one of her adoring fans.  The rubber is softer and more pleasant to handle, and my daughter has enjoyed chewing on her legs and the nubs on her head even before she started teething.  She also loves the squeak that Sophie makes when you squeeze her.  Not sure what it is but if Sophie is amongst a pile of her other toys, my daughter will more often than not reach for Sophie.  And I have the peace of mind of knowing that only edible and safe paints and materials have been used to make Sophie, as opposed to Bright Starts and other baby toys made in China.  Now that the research is out on phthalates and other toxic substances in baby toys, I think it's more important than ever to find good quality toys that are also safe for our babies to handle and put in their mouths.  Sophie is a must-have for every new mom in my opinion.  Even if your kid is one of the few that can take or leave her, it's worth a try.  Vulli, the makers of Sophie, also make natural rubber teething rings that my daughter loves as well.\""
      ]
     },
     "execution_count": 23,
     "metadata": {},
     "output_type": "execute_result"
    }
   ],
   "source": [
    "giraffe_reviews[1]['review']"
   ]
  },
  {
   "cell_type": "markdown",
   "metadata": {},
   "source": [
    "##Show most negative reviews for giraffe"
   ]
  },
  {
   "cell_type": "code",
   "execution_count": 24,
   "metadata": {
    "collapsed": false
   },
   "outputs": [
    {
     "data": {
      "text/plain": [
       "\"My son (now 2.5) LOVED his Sophie, and I bought one for every baby shower I've gone to. Now, my daughter (6 months) just today nearly choked on it and I will never give it to her again. Had I not been within hearing range it could have been fatal. The strange sound she was making caught my attention and when I went to her and found the front curved leg shoved well down her throat and her face a purply/blue I panicked. I pulled it out and she vomited all over the carpet before screaming her head off. I can't believe how my opinion of this toy has changed from a must-have to a must-not-use. Please don't disregard any of the choking hazard comments, they are not over exaggerated!\""
      ]
     },
     "execution_count": 24,
     "metadata": {},
     "output_type": "execute_result"
    }
   ],
   "source": [
    "giraffe_reviews[-1]['review']"
   ]
  },
  {
   "cell_type": "code",
   "execution_count": null,
   "metadata": {
    "collapsed": false
   },
   "outputs": [],
   "source": []
  },
  {
   "cell_type": "markdown",
   "metadata": {
    "collapsed": true
   },
   "source": [
    "## Building awesome count function"
   ]
  },
  {
   "cell_type": "code",
   "execution_count": 15,
   "metadata": {
    "collapsed": false
   },
   "outputs": [],
   "source": [
    "selected_words = ['awesome', 'great', 'fantastic', 'amazing', 'love', 'horrible', 'bad', 'terrible', 'awful', 'wow', 'hate']\n",
    "        "
   ]
  },
  {
   "cell_type": "code",
   "execution_count": 46,
   "metadata": {
    "collapsed": false
   },
   "outputs": [],
   "source": [
    "def awesome_count(dicts):\n",
    "    word = 'and'\n",
    "    if word in dicts:\n",
    "        return dicts[word]\n",
    "    else:\n",
    "        return 0\n",
    "\n",
    "# automation function\n",
    "\"\"\"\"def automate(word_list, products):\n",
    "    for i in xrange(len(word_list)):\n",
    "        print word_list[i]\n",
    "        products[word_list[i]]= products['word_count'].apply(awesome_count)     \n",
    " \"\"\"\"  "
   ]
  },
  {
   "cell_type": "code",
   "execution_count": 47,
   "metadata": {
    "collapsed": false
   },
   "outputs": [
    {
     "name": "stdout",
     "output_type": "stream",
     "text": [
      "awesome\n",
      "great\n",
      "fantastic\n",
      "amazing\n",
      "love\n",
      "horrible\n",
      "bad\n",
      "terrible\n",
      "awful\n",
      "wow\n",
      "hate\n"
     ]
    }
   ],
   "source": [
    "automate(selected_words, products)"
   ]
  },
  {
   "cell_type": "code",
   "execution_count": 127,
   "metadata": {
    "collapsed": false
   },
   "outputs": [],
   "source": [
    "def awesome_count(dicts):\n",
    "    word = 'hate'\n",
    "    if word in dicts:\n",
    "        return dicts[word]\n",
    "    else:\n",
    "        return 0\n",
    "    "
   ]
  },
  {
   "cell_type": "markdown",
   "metadata": {},
   "source": [
    "## Buildind the awesome feature column"
   ]
  },
  {
   "cell_type": "code",
   "execution_count": 19,
   "metadata": {
    "collapsed": false
   },
   "outputs": [],
   "source": [
    "def awesome_count(dicts):\n",
    "    word = 'awesome'\n",
    "    if word in dicts:\n",
    "        return dicts[word]\n",
    "    else:\n",
    "        return 0\n",
    "products['awesome'] = products['word_count'].apply(awesome_count)\n"
   ]
  },
  {
   "cell_type": "code",
   "execution_count": null,
   "metadata": {
    "collapsed": false,
    "scrolled": false
   },
   "outputs": [],
   "source": []
  },
  {
   "cell_type": "markdown",
   "metadata": {},
   "source": [
    "## Add 10 more new features"
   ]
  },
  {
   "cell_type": "code",
   "execution_count": 21,
   "metadata": {
    "collapsed": false
   },
   "outputs": [],
   "source": [
    "def awesome_count(dicts):\n",
    "    word = 'great'\n",
    "    if word in dicts:\n",
    "        return dicts[word]\n",
    "    else:\n",
    "        return 0\n",
    "## Great\n",
    "products['great'] = products['word_count'].apply(awesome_count)\n"
   ]
  },
  {
   "cell_type": "code",
   "execution_count": 22,
   "metadata": {
    "collapsed": false
   },
   "outputs": [],
   "source": [
    "def awesome_count(dicts):\n",
    "    word = 'fantastic'\n",
    "    if word in dicts:\n",
    "        return dicts[word]\n",
    "    else:\n",
    "        return 0\n",
    "# Fantastic\n",
    "products['fantastic'] = products['word_count'].apply(awesome_count)"
   ]
  },
  {
   "cell_type": "code",
   "execution_count": 23,
   "metadata": {
    "collapsed": false
   },
   "outputs": [],
   "source": [
    "def awesome_count(dicts):\n",
    "    word = 'amazing'\n",
    "    if word in dicts:\n",
    "        return dicts[word]\n",
    "    else:\n",
    "        return 0\n",
    "## amazing\n",
    "products['amazing'] = products['word_count'].apply(awesome_count, skip_undefined=True)\n"
   ]
  },
  {
   "cell_type": "code",
   "execution_count": 24,
   "metadata": {
    "collapsed": false
   },
   "outputs": [],
   "source": [
    "def awesome_count(dicts):\n",
    "    word = 'love'\n",
    "    if word in dicts:\n",
    "        return dicts[word]\n",
    "    else:\n",
    "        return 0\n",
    "## love\n",
    "products['love'] = products['word_count'].apply(awesome_count)"
   ]
  },
  {
   "cell_type": "code",
   "execution_count": 25,
   "metadata": {
    "collapsed": false
   },
   "outputs": [],
   "source": [
    "def awesome_count(dicts):\n",
    "    word = 'horrible'\n",
    "    if word in dicts:\n",
    "        return dicts[word]\n",
    "    else:\n",
    "        return 0\n",
    "## horrible\n",
    "products['horrible'] = products['word_count'].apply(awesome_count)"
   ]
  },
  {
   "cell_type": "code",
   "execution_count": 26,
   "metadata": {
    "collapsed": false
   },
   "outputs": [],
   "source": [
    "def awesome_count(dicts):\n",
    "    word = 'bad'\n",
    "    if word in dicts:\n",
    "        return dicts[word]\n",
    "    else:\n",
    "        return 0\n",
    "## bad\n",
    "products['bad'] = products['word_count'].apply(awesome_count)"
   ]
  },
  {
   "cell_type": "code",
   "execution_count": 27,
   "metadata": {
    "collapsed": true
   },
   "outputs": [],
   "source": [
    "def awesome_count(dicts):\n",
    "    word = 'terrible'\n",
    "    if word in dicts:\n",
    "        return dicts[word]\n",
    "    else:\n",
    "        return 0\n",
    "## terrible\n",
    "products['terrible'] = products['word_count'].apply(awesome_count)"
   ]
  },
  {
   "cell_type": "code",
   "execution_count": 163,
   "metadata": {
    "collapsed": true
   },
   "outputs": [],
   "source": []
  },
  {
   "cell_type": "code",
   "execution_count": 28,
   "metadata": {
    "collapsed": true
   },
   "outputs": [],
   "source": [
    "def awesome_count(dicts):\n",
    "    word = 'awful'\n",
    "    if word in dicts:\n",
    "        return dicts[word]\n",
    "    else:\n",
    "        return 0\n",
    "## awful\n",
    "products['awful'] = products['word_count'].apply(awesome_count)"
   ]
  },
  {
   "cell_type": "code",
   "execution_count": 29,
   "metadata": {
    "collapsed": true
   },
   "outputs": [],
   "source": [
    "def awesome_count(dicts):\n",
    "    word = 'wow'\n",
    "    if word in dicts:\n",
    "        return dicts[word]\n",
    "    else:\n",
    "        return 0\n",
    "## wow\n",
    "products['wow'] = products['word_count'].apply(awesome_count)"
   ]
  },
  {
   "cell_type": "code",
   "execution_count": 30,
   "metadata": {
    "collapsed": false
   },
   "outputs": [],
   "source": [
    "def awesome_count(dicts):\n",
    "    word = 'hate'\n",
    "    if word in dicts:\n",
    "        return dicts[word]\n",
    "    else:\n",
    "        return 0\n",
    "## hate\n",
    "products['hate'] = products['word_count'].apply(awesome_count)\n"
   ]
  },
  {
   "cell_type": "code",
   "execution_count": null,
   "metadata": {
    "collapsed": false
   },
   "outputs": [],
   "source": []
  },
  {
   "cell_type": "code",
   "execution_count": 31,
   "metadata": {
    "collapsed": false
   },
   "outputs": [
    {
     "data": {
      "text/html": [
       "<div style=\"max-height:1000px;max-width:1500px;overflow:auto;\"><table frame=\"box\" rules=\"cols\">\n",
       "    <tr>\n",
       "        <th style=\"padding-left: 1em; padding-right: 1em; text-align: center\">name</th>\n",
       "        <th style=\"padding-left: 1em; padding-right: 1em; text-align: center\">review</th>\n",
       "        <th style=\"padding-left: 1em; padding-right: 1em; text-align: center\">rating</th>\n",
       "        <th style=\"padding-left: 1em; padding-right: 1em; text-align: center\">word_count</th>\n",
       "        <th style=\"padding-left: 1em; padding-right: 1em; text-align: center\">sentiment</th>\n",
       "        <th style=\"padding-left: 1em; padding-right: 1em; text-align: center\">awesome</th>\n",
       "    </tr>\n",
       "    <tr>\n",
       "        <td style=\"padding-left: 1em; padding-right: 1em; text-align: center; vertical-align: top\">Planetwise Wipe Pouch</td>\n",
       "        <td style=\"padding-left: 1em; padding-right: 1em; text-align: center; vertical-align: top\">it came early and was not<br>disappointed. i love ...</td>\n",
       "        <td style=\"padding-left: 1em; padding-right: 1em; text-align: center; vertical-align: top\">5.0</td>\n",
       "        <td style=\"padding-left: 1em; padding-right: 1em; text-align: center; vertical-align: top\">{'and': 3, 'love': 1,<br>'it': 2, 'highly': 1, ...</td>\n",
       "        <td style=\"padding-left: 1em; padding-right: 1em; text-align: center; vertical-align: top\">1</td>\n",
       "        <td style=\"padding-left: 1em; padding-right: 1em; text-align: center; vertical-align: top\">0</td>\n",
       "    </tr>\n",
       "    <tr>\n",
       "        <td style=\"padding-left: 1em; padding-right: 1em; text-align: center; vertical-align: top\">Annas Dream Full Quilt<br>with 2 Shams ...</td>\n",
       "        <td style=\"padding-left: 1em; padding-right: 1em; text-align: center; vertical-align: top\">Very soft and comfortable<br>and warmer than it ...</td>\n",
       "        <td style=\"padding-left: 1em; padding-right: 1em; text-align: center; vertical-align: top\">5.0</td>\n",
       "        <td style=\"padding-left: 1em; padding-right: 1em; text-align: center; vertical-align: top\">{'and': 2, 'quilt': 1,<br>'it': 1, 'comfortable': ...</td>\n",
       "        <td style=\"padding-left: 1em; padding-right: 1em; text-align: center; vertical-align: top\">1</td>\n",
       "        <td style=\"padding-left: 1em; padding-right: 1em; text-align: center; vertical-align: top\">0</td>\n",
       "    </tr>\n",
       "    <tr>\n",
       "        <td style=\"padding-left: 1em; padding-right: 1em; text-align: center; vertical-align: top\">Stop Pacifier Sucking<br>without tears with ...</td>\n",
       "        <td style=\"padding-left: 1em; padding-right: 1em; text-align: center; vertical-align: top\">This is a product well<br>worth the purchase.  I ...</td>\n",
       "        <td style=\"padding-left: 1em; padding-right: 1em; text-align: center; vertical-align: top\">5.0</td>\n",
       "        <td style=\"padding-left: 1em; padding-right: 1em; text-align: center; vertical-align: top\">{'ingenious': 1, 'and':<br>3, 'love': 2, ...</td>\n",
       "        <td style=\"padding-left: 1em; padding-right: 1em; text-align: center; vertical-align: top\">1</td>\n",
       "        <td style=\"padding-left: 1em; padding-right: 1em; text-align: center; vertical-align: top\">0</td>\n",
       "    </tr>\n",
       "    <tr>\n",
       "        <td style=\"padding-left: 1em; padding-right: 1em; text-align: center; vertical-align: top\">Stop Pacifier Sucking<br>without tears with ...</td>\n",
       "        <td style=\"padding-left: 1em; padding-right: 1em; text-align: center; vertical-align: top\">All of my kids have cried<br>non-stop when I tried to ...</td>\n",
       "        <td style=\"padding-left: 1em; padding-right: 1em; text-align: center; vertical-align: top\">5.0</td>\n",
       "        <td style=\"padding-left: 1em; padding-right: 1em; text-align: center; vertical-align: top\">{'and': 2, 'parents!!':<br>1, 'all': 2, 'puppet.': ...</td>\n",
       "        <td style=\"padding-left: 1em; padding-right: 1em; text-align: center; vertical-align: top\">1</td>\n",
       "        <td style=\"padding-left: 1em; padding-right: 1em; text-align: center; vertical-align: top\">0</td>\n",
       "    </tr>\n",
       "    <tr>\n",
       "        <td style=\"padding-left: 1em; padding-right: 1em; text-align: center; vertical-align: top\">Stop Pacifier Sucking<br>without tears with ...</td>\n",
       "        <td style=\"padding-left: 1em; padding-right: 1em; text-align: center; vertical-align: top\">When the Binky Fairy came<br>to our house, we didn't ...</td>\n",
       "        <td style=\"padding-left: 1em; padding-right: 1em; text-align: center; vertical-align: top\">5.0</td>\n",
       "        <td style=\"padding-left: 1em; padding-right: 1em; text-align: center; vertical-align: top\">{'and': 2, 'cute': 1,<br>'help': 2, 'doll': 1, ...</td>\n",
       "        <td style=\"padding-left: 1em; padding-right: 1em; text-align: center; vertical-align: top\">1</td>\n",
       "        <td style=\"padding-left: 1em; padding-right: 1em; text-align: center; vertical-align: top\">0</td>\n",
       "    </tr>\n",
       "    <tr>\n",
       "        <td style=\"padding-left: 1em; padding-right: 1em; text-align: center; vertical-align: top\">A Tale of Baby's Days<br>with Peter Rabbit ...</td>\n",
       "        <td style=\"padding-left: 1em; padding-right: 1em; text-align: center; vertical-align: top\">Lovely book, it's bound<br>tightly so you may no ...</td>\n",
       "        <td style=\"padding-left: 1em; padding-right: 1em; text-align: center; vertical-align: top\">4.0</td>\n",
       "        <td style=\"padding-left: 1em; padding-right: 1em; text-align: center; vertical-align: top\">{'shop': 1, 'be': 1,<br>'is': 1, 'it': 1, 'as': ...</td>\n",
       "        <td style=\"padding-left: 1em; padding-right: 1em; text-align: center; vertical-align: top\">1</td>\n",
       "        <td style=\"padding-left: 1em; padding-right: 1em; text-align: center; vertical-align: top\">0</td>\n",
       "    </tr>\n",
       "    <tr>\n",
       "        <td style=\"padding-left: 1em; padding-right: 1em; text-align: center; vertical-align: top\">Baby Tracker&amp;reg; - Daily<br>Childcare Journal, ...</td>\n",
       "        <td style=\"padding-left: 1em; padding-right: 1em; text-align: center; vertical-align: top\">Perfect for new parents.<br>We were able to keep ...</td>\n",
       "        <td style=\"padding-left: 1em; padding-right: 1em; text-align: center; vertical-align: top\">5.0</td>\n",
       "        <td style=\"padding-left: 1em; padding-right: 1em; text-align: center; vertical-align: top\">{'feeding,': 1, 'and': 2,<br>'all': 1, 'right': 1, ...</td>\n",
       "        <td style=\"padding-left: 1em; padding-right: 1em; text-align: center; vertical-align: top\">1</td>\n",
       "        <td style=\"padding-left: 1em; padding-right: 1em; text-align: center; vertical-align: top\">0</td>\n",
       "    </tr>\n",
       "    <tr>\n",
       "        <td style=\"padding-left: 1em; padding-right: 1em; text-align: center; vertical-align: top\">Baby Tracker&amp;reg; - Daily<br>Childcare Journal, ...</td>\n",
       "        <td style=\"padding-left: 1em; padding-right: 1em; text-align: center; vertical-align: top\">A friend of mine pinned<br>this product on Pinte ...</td>\n",
       "        <td style=\"padding-left: 1em; padding-right: 1em; text-align: center; vertical-align: top\">5.0</td>\n",
       "        <td style=\"padding-left: 1em; padding-right: 1em; text-align: center; vertical-align: top\">{'and': 1, 'help': 1,<br>'give': 1, 'is': 1, ...</td>\n",
       "        <td style=\"padding-left: 1em; padding-right: 1em; text-align: center; vertical-align: top\">1</td>\n",
       "        <td style=\"padding-left: 1em; padding-right: 1em; text-align: center; vertical-align: top\">0</td>\n",
       "    </tr>\n",
       "    <tr>\n",
       "        <td style=\"padding-left: 1em; padding-right: 1em; text-align: center; vertical-align: top\">Baby Tracker&amp;reg; - Daily<br>Childcare Journal, ...</td>\n",
       "        <td style=\"padding-left: 1em; padding-right: 1em; text-align: center; vertical-align: top\">This has been an easy way<br>for my nanny to record ...</td>\n",
       "        <td style=\"padding-left: 1em; padding-right: 1em; text-align: center; vertical-align: top\">4.0</td>\n",
       "        <td style=\"padding-left: 1em; padding-right: 1em; text-align: center; vertical-align: top\">{'journal.': 1, 'all': 1,<br>'standarad': 1, ...</td>\n",
       "        <td style=\"padding-left: 1em; padding-right: 1em; text-align: center; vertical-align: top\">1</td>\n",
       "        <td style=\"padding-left: 1em; padding-right: 1em; text-align: center; vertical-align: top\">0</td>\n",
       "    </tr>\n",
       "    <tr>\n",
       "        <td style=\"padding-left: 1em; padding-right: 1em; text-align: center; vertical-align: top\">Baby Tracker&amp;reg; - Daily<br>Childcare Journal, ...</td>\n",
       "        <td style=\"padding-left: 1em; padding-right: 1em; text-align: center; vertical-align: top\">I love this journal and<br>our nanny uses it ...</td>\n",
       "        <td style=\"padding-left: 1em; padding-right: 1em; text-align: center; vertical-align: top\">4.0</td>\n",
       "        <td style=\"padding-left: 1em; padding-right: 1em; text-align: center; vertical-align: top\">{'all': 1, 'forget': 1,<br>'just': 1, \"daughter's\": ...</td>\n",
       "        <td style=\"padding-left: 1em; padding-right: 1em; text-align: center; vertical-align: top\">1</td>\n",
       "        <td style=\"padding-left: 1em; padding-right: 1em; text-align: center; vertical-align: top\">0</td>\n",
       "    </tr>\n",
       "</table>\n",
       "<table frame=\"box\" rules=\"cols\">\n",
       "    <tr>\n",
       "        <th style=\"padding-left: 1em; padding-right: 1em; text-align: center\">great</th>\n",
       "        <th style=\"padding-left: 1em; padding-right: 1em; text-align: center\">fantastic</th>\n",
       "        <th style=\"padding-left: 1em; padding-right: 1em; text-align: center\">amazing</th>\n",
       "        <th style=\"padding-left: 1em; padding-right: 1em; text-align: center\">love</th>\n",
       "        <th style=\"padding-left: 1em; padding-right: 1em; text-align: center\">horrible</th>\n",
       "        <th style=\"padding-left: 1em; padding-right: 1em; text-align: center\">bad</th>\n",
       "        <th style=\"padding-left: 1em; padding-right: 1em; text-align: center\">terrible</th>\n",
       "        <th style=\"padding-left: 1em; padding-right: 1em; text-align: center\">awful</th>\n",
       "        <th style=\"padding-left: 1em; padding-right: 1em; text-align: center\">wow</th>\n",
       "        <th style=\"padding-left: 1em; padding-right: 1em; text-align: center\">hate</th>\n",
       "    </tr>\n",
       "    <tr>\n",
       "        <td style=\"padding-left: 1em; padding-right: 1em; text-align: center; vertical-align: top\">0</td>\n",
       "        <td style=\"padding-left: 1em; padding-right: 1em; text-align: center; vertical-align: top\">0</td>\n",
       "        <td style=\"padding-left: 1em; padding-right: 1em; text-align: center; vertical-align: top\">0</td>\n",
       "        <td style=\"padding-left: 1em; padding-right: 1em; text-align: center; vertical-align: top\">1</td>\n",
       "        <td style=\"padding-left: 1em; padding-right: 1em; text-align: center; vertical-align: top\">0</td>\n",
       "        <td style=\"padding-left: 1em; padding-right: 1em; text-align: center; vertical-align: top\">0</td>\n",
       "        <td style=\"padding-left: 1em; padding-right: 1em; text-align: center; vertical-align: top\">0</td>\n",
       "        <td style=\"padding-left: 1em; padding-right: 1em; text-align: center; vertical-align: top\">0</td>\n",
       "        <td style=\"padding-left: 1em; padding-right: 1em; text-align: center; vertical-align: top\">0</td>\n",
       "        <td style=\"padding-left: 1em; padding-right: 1em; text-align: center; vertical-align: top\">0</td>\n",
       "    </tr>\n",
       "    <tr>\n",
       "        <td style=\"padding-left: 1em; padding-right: 1em; text-align: center; vertical-align: top\">0</td>\n",
       "        <td style=\"padding-left: 1em; padding-right: 1em; text-align: center; vertical-align: top\">0</td>\n",
       "        <td style=\"padding-left: 1em; padding-right: 1em; text-align: center; vertical-align: top\">0</td>\n",
       "        <td style=\"padding-left: 1em; padding-right: 1em; text-align: center; vertical-align: top\">0</td>\n",
       "        <td style=\"padding-left: 1em; padding-right: 1em; text-align: center; vertical-align: top\">0</td>\n",
       "        <td style=\"padding-left: 1em; padding-right: 1em; text-align: center; vertical-align: top\">0</td>\n",
       "        <td style=\"padding-left: 1em; padding-right: 1em; text-align: center; vertical-align: top\">0</td>\n",
       "        <td style=\"padding-left: 1em; padding-right: 1em; text-align: center; vertical-align: top\">0</td>\n",
       "        <td style=\"padding-left: 1em; padding-right: 1em; text-align: center; vertical-align: top\">0</td>\n",
       "        <td style=\"padding-left: 1em; padding-right: 1em; text-align: center; vertical-align: top\">0</td>\n",
       "    </tr>\n",
       "    <tr>\n",
       "        <td style=\"padding-left: 1em; padding-right: 1em; text-align: center; vertical-align: top\">0</td>\n",
       "        <td style=\"padding-left: 1em; padding-right: 1em; text-align: center; vertical-align: top\">0</td>\n",
       "        <td style=\"padding-left: 1em; padding-right: 1em; text-align: center; vertical-align: top\">0</td>\n",
       "        <td style=\"padding-left: 1em; padding-right: 1em; text-align: center; vertical-align: top\">2</td>\n",
       "        <td style=\"padding-left: 1em; padding-right: 1em; text-align: center; vertical-align: top\">0</td>\n",
       "        <td style=\"padding-left: 1em; padding-right: 1em; text-align: center; vertical-align: top\">0</td>\n",
       "        <td style=\"padding-left: 1em; padding-right: 1em; text-align: center; vertical-align: top\">0</td>\n",
       "        <td style=\"padding-left: 1em; padding-right: 1em; text-align: center; vertical-align: top\">0</td>\n",
       "        <td style=\"padding-left: 1em; padding-right: 1em; text-align: center; vertical-align: top\">0</td>\n",
       "        <td style=\"padding-left: 1em; padding-right: 1em; text-align: center; vertical-align: top\">0</td>\n",
       "    </tr>\n",
       "    <tr>\n",
       "        <td style=\"padding-left: 1em; padding-right: 1em; text-align: center; vertical-align: top\">1</td>\n",
       "        <td style=\"padding-left: 1em; padding-right: 1em; text-align: center; vertical-align: top\">0</td>\n",
       "        <td style=\"padding-left: 1em; padding-right: 1em; text-align: center; vertical-align: top\">0</td>\n",
       "        <td style=\"padding-left: 1em; padding-right: 1em; text-align: center; vertical-align: top\">0</td>\n",
       "        <td style=\"padding-left: 1em; padding-right: 1em; text-align: center; vertical-align: top\">0</td>\n",
       "        <td style=\"padding-left: 1em; padding-right: 1em; text-align: center; vertical-align: top\">0</td>\n",
       "        <td style=\"padding-left: 1em; padding-right: 1em; text-align: center; vertical-align: top\">0</td>\n",
       "        <td style=\"padding-left: 1em; padding-right: 1em; text-align: center; vertical-align: top\">0</td>\n",
       "        <td style=\"padding-left: 1em; padding-right: 1em; text-align: center; vertical-align: top\">0</td>\n",
       "        <td style=\"padding-left: 1em; padding-right: 1em; text-align: center; vertical-align: top\">0</td>\n",
       "    </tr>\n",
       "    <tr>\n",
       "        <td style=\"padding-left: 1em; padding-right: 1em; text-align: center; vertical-align: top\">1</td>\n",
       "        <td style=\"padding-left: 1em; padding-right: 1em; text-align: center; vertical-align: top\">0</td>\n",
       "        <td style=\"padding-left: 1em; padding-right: 1em; text-align: center; vertical-align: top\">0</td>\n",
       "        <td style=\"padding-left: 1em; padding-right: 1em; text-align: center; vertical-align: top\">0</td>\n",
       "        <td style=\"padding-left: 1em; padding-right: 1em; text-align: center; vertical-align: top\">0</td>\n",
       "        <td style=\"padding-left: 1em; padding-right: 1em; text-align: center; vertical-align: top\">0</td>\n",
       "        <td style=\"padding-left: 1em; padding-right: 1em; text-align: center; vertical-align: top\">0</td>\n",
       "        <td style=\"padding-left: 1em; padding-right: 1em; text-align: center; vertical-align: top\">0</td>\n",
       "        <td style=\"padding-left: 1em; padding-right: 1em; text-align: center; vertical-align: top\">0</td>\n",
       "        <td style=\"padding-left: 1em; padding-right: 1em; text-align: center; vertical-align: top\">0</td>\n",
       "    </tr>\n",
       "    <tr>\n",
       "        <td style=\"padding-left: 1em; padding-right: 1em; text-align: center; vertical-align: top\">0</td>\n",
       "        <td style=\"padding-left: 1em; padding-right: 1em; text-align: center; vertical-align: top\">0</td>\n",
       "        <td style=\"padding-left: 1em; padding-right: 1em; text-align: center; vertical-align: top\">0</td>\n",
       "        <td style=\"padding-left: 1em; padding-right: 1em; text-align: center; vertical-align: top\">0</td>\n",
       "        <td style=\"padding-left: 1em; padding-right: 1em; text-align: center; vertical-align: top\">0</td>\n",
       "        <td style=\"padding-left: 1em; padding-right: 1em; text-align: center; vertical-align: top\">0</td>\n",
       "        <td style=\"padding-left: 1em; padding-right: 1em; text-align: center; vertical-align: top\">0</td>\n",
       "        <td style=\"padding-left: 1em; padding-right: 1em; text-align: center; vertical-align: top\">0</td>\n",
       "        <td style=\"padding-left: 1em; padding-right: 1em; text-align: center; vertical-align: top\">0</td>\n",
       "        <td style=\"padding-left: 1em; padding-right: 1em; text-align: center; vertical-align: top\">0</td>\n",
       "    </tr>\n",
       "    <tr>\n",
       "        <td style=\"padding-left: 1em; padding-right: 1em; text-align: center; vertical-align: top\">0</td>\n",
       "        <td style=\"padding-left: 1em; padding-right: 1em; text-align: center; vertical-align: top\">0</td>\n",
       "        <td style=\"padding-left: 1em; padding-right: 1em; text-align: center; vertical-align: top\">0</td>\n",
       "        <td style=\"padding-left: 1em; padding-right: 1em; text-align: center; vertical-align: top\">0</td>\n",
       "        <td style=\"padding-left: 1em; padding-right: 1em; text-align: center; vertical-align: top\">0</td>\n",
       "        <td style=\"padding-left: 1em; padding-right: 1em; text-align: center; vertical-align: top\">0</td>\n",
       "        <td style=\"padding-left: 1em; padding-right: 1em; text-align: center; vertical-align: top\">0</td>\n",
       "        <td style=\"padding-left: 1em; padding-right: 1em; text-align: center; vertical-align: top\">0</td>\n",
       "        <td style=\"padding-left: 1em; padding-right: 1em; text-align: center; vertical-align: top\">0</td>\n",
       "        <td style=\"padding-left: 1em; padding-right: 1em; text-align: center; vertical-align: top\">0</td>\n",
       "    </tr>\n",
       "    <tr>\n",
       "        <td style=\"padding-left: 1em; padding-right: 1em; text-align: center; vertical-align: top\">0</td>\n",
       "        <td style=\"padding-left: 1em; padding-right: 1em; text-align: center; vertical-align: top\">0</td>\n",
       "        <td style=\"padding-left: 1em; padding-right: 1em; text-align: center; vertical-align: top\">0</td>\n",
       "        <td style=\"padding-left: 1em; padding-right: 1em; text-align: center; vertical-align: top\">0</td>\n",
       "        <td style=\"padding-left: 1em; padding-right: 1em; text-align: center; vertical-align: top\">0</td>\n",
       "        <td style=\"padding-left: 1em; padding-right: 1em; text-align: center; vertical-align: top\">0</td>\n",
       "        <td style=\"padding-left: 1em; padding-right: 1em; text-align: center; vertical-align: top\">0</td>\n",
       "        <td style=\"padding-left: 1em; padding-right: 1em; text-align: center; vertical-align: top\">0</td>\n",
       "        <td style=\"padding-left: 1em; padding-right: 1em; text-align: center; vertical-align: top\">0</td>\n",
       "        <td style=\"padding-left: 1em; padding-right: 1em; text-align: center; vertical-align: top\">0</td>\n",
       "    </tr>\n",
       "    <tr>\n",
       "        <td style=\"padding-left: 1em; padding-right: 1em; text-align: center; vertical-align: top\">0</td>\n",
       "        <td style=\"padding-left: 1em; padding-right: 1em; text-align: center; vertical-align: top\">0</td>\n",
       "        <td style=\"padding-left: 1em; padding-right: 1em; text-align: center; vertical-align: top\">0</td>\n",
       "        <td style=\"padding-left: 1em; padding-right: 1em; text-align: center; vertical-align: top\">0</td>\n",
       "        <td style=\"padding-left: 1em; padding-right: 1em; text-align: center; vertical-align: top\">0</td>\n",
       "        <td style=\"padding-left: 1em; padding-right: 1em; text-align: center; vertical-align: top\">0</td>\n",
       "        <td style=\"padding-left: 1em; padding-right: 1em; text-align: center; vertical-align: top\">0</td>\n",
       "        <td style=\"padding-left: 1em; padding-right: 1em; text-align: center; vertical-align: top\">0</td>\n",
       "        <td style=\"padding-left: 1em; padding-right: 1em; text-align: center; vertical-align: top\">0</td>\n",
       "        <td style=\"padding-left: 1em; padding-right: 1em; text-align: center; vertical-align: top\">0</td>\n",
       "    </tr>\n",
       "    <tr>\n",
       "        <td style=\"padding-left: 1em; padding-right: 1em; text-align: center; vertical-align: top\">0</td>\n",
       "        <td style=\"padding-left: 1em; padding-right: 1em; text-align: center; vertical-align: top\">0</td>\n",
       "        <td style=\"padding-left: 1em; padding-right: 1em; text-align: center; vertical-align: top\">0</td>\n",
       "        <td style=\"padding-left: 1em; padding-right: 1em; text-align: center; vertical-align: top\">2</td>\n",
       "        <td style=\"padding-left: 1em; padding-right: 1em; text-align: center; vertical-align: top\">0</td>\n",
       "        <td style=\"padding-left: 1em; padding-right: 1em; text-align: center; vertical-align: top\">0</td>\n",
       "        <td style=\"padding-left: 1em; padding-right: 1em; text-align: center; vertical-align: top\">0</td>\n",
       "        <td style=\"padding-left: 1em; padding-right: 1em; text-align: center; vertical-align: top\">0</td>\n",
       "        <td style=\"padding-left: 1em; padding-right: 1em; text-align: center; vertical-align: top\">0</td>\n",
       "        <td style=\"padding-left: 1em; padding-right: 1em; text-align: center; vertical-align: top\">0</td>\n",
       "    </tr>\n",
       "</table>\n",
       "[166752 rows x 16 columns]<br/>Note: Only the head of the SFrame is printed.<br/>You can use print_rows(num_rows=m, num_columns=n) to print more rows and columns.\n",
       "</div>"
      ],
      "text/plain": [
       "Columns:\n",
       "\tname\tstr\n",
       "\treview\tstr\n",
       "\trating\tfloat\n",
       "\tword_count\tdict\n",
       "\tsentiment\tint\n",
       "\tawesome\tint\n",
       "\tgreat\tint\n",
       "\tfantastic\tint\n",
       "\tamazing\tint\n",
       "\tlove\tint\n",
       "\thorrible\tint\n",
       "\tbad\tint\n",
       "\tterrible\tint\n",
       "\tawful\tint\n",
       "\twow\tint\n",
       "\thate\tint\n",
       "\n",
       "Rows: 166752\n",
       "\n",
       "Data:\n",
       "+-------------------------------+-------------------------------+--------+\n",
       "|              name             |             review            | rating |\n",
       "+-------------------------------+-------------------------------+--------+\n",
       "|     Planetwise Wipe Pouch     | it came early and was not ... |  5.0   |\n",
       "| Annas Dream Full Quilt wit... | Very soft and comfortable ... |  5.0   |\n",
       "| Stop Pacifier Sucking with... | This is a product well wor... |  5.0   |\n",
       "| Stop Pacifier Sucking with... | All of my kids have cried ... |  5.0   |\n",
       "| Stop Pacifier Sucking with... | When the Binky Fairy came ... |  5.0   |\n",
       "| A Tale of Baby's Days with... | Lovely book, it's bound ti... |  4.0   |\n",
       "| Baby Tracker&reg; - Daily ... | Perfect for new parents. W... |  5.0   |\n",
       "| Baby Tracker&reg; - Daily ... | A friend of mine pinned th... |  5.0   |\n",
       "| Baby Tracker&reg; - Daily ... | This has been an easy way ... |  4.0   |\n",
       "| Baby Tracker&reg; - Daily ... | I love this journal and ou... |  4.0   |\n",
       "+-------------------------------+-------------------------------+--------+\n",
       "+-------------------------------+-----------+---------+-------+-----------+---------+\n",
       "|           word_count          | sentiment | awesome | great | fantastic | amazing |\n",
       "+-------------------------------+-----------+---------+-------+-----------+---------+\n",
       "| {'and': 3, 'love': 1, 'it'... |     1     |    0    |   0   |     0     |    0    |\n",
       "| {'and': 2, 'quilt': 1, 'it... |     1     |    0    |   0   |     0     |    0    |\n",
       "| {'ingenious': 1, 'and': 3,... |     1     |    0    |   0   |     0     |    0    |\n",
       "| {'and': 2, 'parents!!': 1,... |     1     |    0    |   1   |     0     |    0    |\n",
       "| {'and': 2, 'cute': 1, 'hel... |     1     |    0    |   1   |     0     |    0    |\n",
       "| {'shop': 1, 'be': 1, 'is':... |     1     |    0    |   0   |     0     |    0    |\n",
       "| {'feeding,': 1, 'and': 2, ... |     1     |    0    |   0   |     0     |    0    |\n",
       "| {'and': 1, 'help': 1, 'giv... |     1     |    0    |   0   |     0     |    0    |\n",
       "| {'journal.': 1, 'all': 1, ... |     1     |    0    |   0   |     0     |    0    |\n",
       "| {'all': 1, 'forget': 1, 'j... |     1     |    0    |   0   |     0     |    0    |\n",
       "+-------------------------------+-----------+---------+-------+-----------+---------+\n",
       "+------+----------+-----+----------+-------+-----+------+\n",
       "| love | horrible | bad | terrible | awful | wow | hate |\n",
       "+------+----------+-----+----------+-------+-----+------+\n",
       "|  1   |    0     |  0  |    0     |   0   |  0  |  0   |\n",
       "|  0   |    0     |  0  |    0     |   0   |  0  |  0   |\n",
       "|  2   |    0     |  0  |    0     |   0   |  0  |  0   |\n",
       "|  0   |    0     |  0  |    0     |   0   |  0  |  0   |\n",
       "|  0   |    0     |  0  |    0     |   0   |  0  |  0   |\n",
       "|  0   |    0     |  0  |    0     |   0   |  0  |  0   |\n",
       "|  0   |    0     |  0  |    0     |   0   |  0  |  0   |\n",
       "|  0   |    0     |  0  |    0     |   0   |  0  |  0   |\n",
       "|  0   |    0     |  0  |    0     |   0   |  0  |  0   |\n",
       "|  2   |    0     |  0  |    0     |   0   |  0  |  0   |\n",
       "+------+----------+-----+----------+-------+-----+------+\n",
       "[166752 rows x 16 columns]\n",
       "Note: Only the head of the SFrame is printed.\n",
       "You can use print_rows(num_rows=m, num_columns=n) to print more rows and columns."
      ]
     },
     "execution_count": 31,
     "metadata": {},
     "output_type": "execute_result"
    }
   ],
   "source": [
    "products"
   ]
  },
  {
   "cell_type": "code",
   "execution_count": 32,
   "metadata": {
    "collapsed": false
   },
   "outputs": [
    {
     "name": "stdout",
     "output_type": "stream",
     "text": [
      "awesome\n",
      "2002\n",
      "great\n",
      "42420\n",
      "fantastic\n",
      "873\n",
      "amazing\n",
      "1305\n",
      "love\n",
      "40277\n",
      "horrible\n",
      "659\n",
      "bad\n",
      "3197\n",
      "terrible\n",
      "673\n",
      "awful\n",
      "345\n",
      "wow\n",
      "131\n",
      "hate\n",
      "1057\n",
      "[2002, 42420, 873, 1305, 40277, 659, 3197, 673, 345, 131, 1057]\n"
     ]
    }
   ],
   "source": [
    "# Sum of differents words \n",
    "result = []\n",
    "for i in xrange(len(selected_words)):\n",
    "    print selected_words[i]\n",
    "    print products[selected_words[i]].sum()\n",
    "\n",
    "    result.append(products[selected_words[i]].sum())\n",
    "    \n",
    "print result\n"
   ]
  },
  {
   "cell_type": "code",
   "execution_count": 33,
   "metadata": {
    "collapsed": true
   },
   "outputs": [],
   "source": [
    "train_data,test_data = products.random_split(.8, seed=0)"
   ]
  },
  {
   "cell_type": "markdown",
   "metadata": {},
   "source": [
    "## Build a new sentiment analysis model using selected_words"
   ]
  },
  {
   "cell_type": "code",
   "execution_count": 34,
   "metadata": {
    "collapsed": false
   },
   "outputs": [
    {
     "name": "stdout",
     "output_type": "stream",
     "text": [
      "PROGRESS: Logistic regression:\n",
      "PROGRESS: --------------------------------------------------------\n",
      "PROGRESS: Number of examples          : 133448\n",
      "PROGRESS: Number of classes           : 2\n",
      "PROGRESS: Number of feature columns   : 11\n",
      "PROGRESS: Number of unpacked features : 11\n",
      "PROGRESS: Number of coefficients    : 12\n",
      "PROGRESS: Starting Newton Method\n",
      "PROGRESS: --------------------------------------------------------\n",
      "PROGRESS: +-----------+----------+--------------+-------------------+---------------------+\n",
      "PROGRESS: | Iteration | Passes   | Elapsed Time | Training-accuracy | Validation-accuracy |\n",
      "PROGRESS: +-----------+----------+--------------+-------------------+---------------------+\n",
      "PROGRESS: | 1         | 2        | 0.392447     | 0.844299          | 0.842842            |\n",
      "PROGRESS: | 2         | 3        | 0.613884     | 0.844186          | 0.842842            |\n",
      "PROGRESS: | 3         | 4        | 0.855533     | 0.844276          | 0.843142            |\n",
      "PROGRESS: | 4         | 5        | 1.153878     | 0.844269          | 0.843142            |\n",
      "PROGRESS: | 5         | 6        | 1.433343     | 0.844269          | 0.843142            |\n",
      "PROGRESS: | 6         | 7        | 1.663327     | 0.844269          | 0.843142            |\n",
      "PROGRESS: +-----------+----------+--------------+-------------------+---------------------+\n"
     ]
    }
   ],
   "source": [
    "selected_words_model = graphlab.logistic_classifier.create(train_data,\n",
    "                                                     target='sentiment',\n",
    "                                                     features=selected_words,\n",
    "                                                     validation_set=test_data)"
   ]
  },
  {
   "cell_type": "code",
   "execution_count": 36,
   "metadata": {
    "collapsed": false
   },
   "outputs": [
    {
     "name": "stdout",
     "output_type": "stream",
     "text": [
      "+-------------+-------+-------+------------------+\n",
      "|     name    | index | class |      value       |\n",
      "+-------------+-------+-------+------------------+\n",
      "| (intercept) |  None |   1   |  1.36728315229   |\n",
      "|   awesome   |  None |   1   |  1.05800888878   |\n",
      "|    great    |  None |   1   |  0.883937894898  |\n",
      "|  fantastic  |  None |   1   |  0.891303090304  |\n",
      "|   amazing   |  None |   1   |  0.892802422508  |\n",
      "|     love    |  None |   1   |  1.39989834302   |\n",
      "|   horrible  |  None |   1   |  -1.99651800559  |\n",
      "|     bad     |  None |   1   | -0.985827369929  |\n",
      "|   terrible  |  None |   1   |  -2.09049998487  |\n",
      "|    awful    |  None |   1   |  -1.76469955631  |\n",
      "|     wow     |  None |   1   | -0.0541450123333 |\n",
      "|     hate    |  None |   1   |  -1.40916406276  |\n",
      "+-------------+-------+-------+------------------+\n",
      "[12 rows x 4 columns]\n",
      "\n"
     ]
    }
   ],
   "source": [
    "coef = selected_words_model['coefficients']\n",
    "coef.print_rows(12,4)"
   ]
  },
  {
   "cell_type": "code",
   "execution_count": 37,
   "metadata": {
    "collapsed": false
   },
   "outputs": [
    {
     "ename": "NameError",
     "evalue": "name 'copy' is not defined",
     "output_type": "error",
     "traceback": [
      "\u001b[1;31m---------------------------------------------------------------------------\u001b[0m",
      "\u001b[1;31mNameError\u001b[0m                                 Traceback (most recent call last)",
      "\u001b[1;32m<ipython-input-37-fba34c47a7fe>\u001b[0m in \u001b[0;36m<module>\u001b[1;34m()\u001b[0m\n\u001b[1;32m----> 1\u001b[1;33m \u001b[0mcoef1\u001b[0m \u001b[1;33m=\u001b[0m \u001b[0mcopy\u001b[0m\u001b[1;33m(\u001b[0m\u001b[0mcoef\u001b[0m\u001b[1;33m)\u001b[0m\u001b[1;33m\u001b[0m\u001b[0m\n\u001b[0m",
      "\u001b[1;31mNameError\u001b[0m: name 'copy' is not defined"
     ]
    }
   ],
   "source": [
    "coef1 = copy(coef)\n"
   ]
  },
  {
   "cell_type": "code",
   "execution_count": null,
   "metadata": {
    "collapsed": true
   },
   "outputs": [],
   "source": []
  },
  {
   "cell_type": "code",
   "execution_count": 61,
   "metadata": {
    "collapsed": false
   },
   "outputs": [],
   "source": [
    "selected_words_evaluate = selected_words_model.evaluate(test_data, metric='roc_curve')"
   ]
  },
  {
   "cell_type": "code",
   "execution_count": 67,
   "metadata": {
    "collapsed": false
   },
   "outputs": [
    {
     "ename": "AttributeError",
     "evalue": "'dict' object has no attribute 'Show'",
     "output_type": "error",
     "traceback": [
      "\u001b[1;31m---------------------------------------------------------------------------\u001b[0m",
      "\u001b[1;31mAttributeError\u001b[0m                            Traceback (most recent call last)",
      "\u001b[1;32m<ipython-input-67-5039c1cf132d>\u001b[0m in \u001b[0;36m<module>\u001b[1;34m()\u001b[0m\n\u001b[1;32m----> 1\u001b[1;33m \u001b[0mselected_words_evaluate\u001b[0m\u001b[1;33m.\u001b[0m\u001b[0mShow\u001b[0m\u001b[1;33m(\u001b[0m\u001b[0mview\u001b[0m\u001b[1;33m=\u001b[0m\u001b[1;34m'Evaluation'\u001b[0m\u001b[1;33m)\u001b[0m\u001b[1;33m\u001b[0m\u001b[0m\n\u001b[0m",
      "\u001b[1;31mAttributeError\u001b[0m: 'dict' object has no attribute 'Show'"
     ]
    }
   ],
   "source": [
    "selected_words_evaluate."
   ]
  },
  {
   "cell_type": "code",
   "execution_count": null,
   "metadata": {
    "collapsed": true
   },
   "outputs": [],
   "source": []
  }
 ],
 "metadata": {
  "kernelspec": {
   "display_name": "Python 2",
   "language": "python",
   "name": "python2"
  },
  "language_info": {
   "codemirror_mode": {
    "name": "ipython",
    "version": 2
   },
   "file_extension": ".py",
   "mimetype": "text/x-python",
   "name": "python",
   "nbconvert_exporter": "python",
   "pygments_lexer": "ipython2",
   "version": "2.7.10"
  }
 },
 "nbformat": 4,
 "nbformat_minor": 0
}
