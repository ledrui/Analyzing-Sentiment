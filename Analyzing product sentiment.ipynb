{
 "cells": [
  {
   "cell_type": "markdown",
   "metadata": {},
   "source": [
    "#Predicting sentiment from product reviews\n",
    "\n",
    "#Fire up GraphLab Create"
   ]
  },
  {
   "cell_type": "code",
   "execution_count": 1,
   "metadata": {
    "collapsed": true
   },
   "outputs": [],
   "source": [
    "import graphlab"
   ]
  },
  {
   "cell_type": "markdown",
   "metadata": {},
   "source": [
    "#Read some product review data\n",
    "\n",
    "Loading reviews for a set of baby products. "
   ]
  },
  {
   "cell_type": "code",
   "execution_count": 2,
   "metadata": {
    "collapsed": false
   },
   "outputs": [
    {
     "name": "stderr",
     "output_type": "stream",
     "text": [
      "[INFO] This non-commercial license of GraphLab Create is assigned to iliassweb@gmail.comand will expire on September 22, 2016. For commercial licensing options, visit https://dato.com/buy/.\n",
      "\n",
      "[INFO] Start server at: ipc:///tmp/graphlab_server-7211 - Server binary: /home/zax/anaconda/lib/python2.7/site-packages/graphlab/unity_server - Server log: /tmp/graphlab_server_1444619705.log\n",
      "[INFO] GraphLab Server Version: 1.6.1\n"
     ]
    }
   ],
   "source": [
    "products = graphlab.SFrame('amazon_baby.gl/')"
   ]
  },
  {
   "cell_type": "markdown",
   "metadata": {},
   "source": [
    "#Let's explore this data together\n",
    "\n",
    "Data includes the product name, the review text and the rating of the review. "
   ]
  },
  {
   "cell_type": "code",
   "execution_count": 3,
   "metadata": {
    "collapsed": false
   },
   "outputs": [
    {
     "data": {
      "text/html": [
       "<div style=\"max-height:1000px;max-width:1500px;overflow:auto;\"><table frame=\"box\" rules=\"cols\">\n",
       "    <tr>\n",
       "        <th style=\"padding-left: 1em; padding-right: 1em; text-align: center\">name</th>\n",
       "        <th style=\"padding-left: 1em; padding-right: 1em; text-align: center\">review</th>\n",
       "        <th style=\"padding-left: 1em; padding-right: 1em; text-align: center\">rating</th>\n",
       "    </tr>\n",
       "    <tr>\n",
       "        <td style=\"padding-left: 1em; padding-right: 1em; text-align: center; vertical-align: top\">Planetwise Flannel Wipes</td>\n",
       "        <td style=\"padding-left: 1em; padding-right: 1em; text-align: center; vertical-align: top\">These flannel wipes are<br>OK, but in my opinion ...</td>\n",
       "        <td style=\"padding-left: 1em; padding-right: 1em; text-align: center; vertical-align: top\">3.0</td>\n",
       "    </tr>\n",
       "    <tr>\n",
       "        <td style=\"padding-left: 1em; padding-right: 1em; text-align: center; vertical-align: top\">Planetwise Wipe Pouch</td>\n",
       "        <td style=\"padding-left: 1em; padding-right: 1em; text-align: center; vertical-align: top\">it came early and was not<br>disappointed. i love ...</td>\n",
       "        <td style=\"padding-left: 1em; padding-right: 1em; text-align: center; vertical-align: top\">5.0</td>\n",
       "    </tr>\n",
       "    <tr>\n",
       "        <td style=\"padding-left: 1em; padding-right: 1em; text-align: center; vertical-align: top\">Annas Dream Full Quilt<br>with 2 Shams ...</td>\n",
       "        <td style=\"padding-left: 1em; padding-right: 1em; text-align: center; vertical-align: top\">Very soft and comfortable<br>and warmer than it ...</td>\n",
       "        <td style=\"padding-left: 1em; padding-right: 1em; text-align: center; vertical-align: top\">5.0</td>\n",
       "    </tr>\n",
       "    <tr>\n",
       "        <td style=\"padding-left: 1em; padding-right: 1em; text-align: center; vertical-align: top\">Stop Pacifier Sucking<br>without tears with ...</td>\n",
       "        <td style=\"padding-left: 1em; padding-right: 1em; text-align: center; vertical-align: top\">This is a product well<br>worth the purchase.  I ...</td>\n",
       "        <td style=\"padding-left: 1em; padding-right: 1em; text-align: center; vertical-align: top\">5.0</td>\n",
       "    </tr>\n",
       "    <tr>\n",
       "        <td style=\"padding-left: 1em; padding-right: 1em; text-align: center; vertical-align: top\">Stop Pacifier Sucking<br>without tears with ...</td>\n",
       "        <td style=\"padding-left: 1em; padding-right: 1em; text-align: center; vertical-align: top\">All of my kids have cried<br>non-stop when I tried to ...</td>\n",
       "        <td style=\"padding-left: 1em; padding-right: 1em; text-align: center; vertical-align: top\">5.0</td>\n",
       "    </tr>\n",
       "    <tr>\n",
       "        <td style=\"padding-left: 1em; padding-right: 1em; text-align: center; vertical-align: top\">Stop Pacifier Sucking<br>without tears with ...</td>\n",
       "        <td style=\"padding-left: 1em; padding-right: 1em; text-align: center; vertical-align: top\">When the Binky Fairy came<br>to our house, we didn't ...</td>\n",
       "        <td style=\"padding-left: 1em; padding-right: 1em; text-align: center; vertical-align: top\">5.0</td>\n",
       "    </tr>\n",
       "    <tr>\n",
       "        <td style=\"padding-left: 1em; padding-right: 1em; text-align: center; vertical-align: top\">A Tale of Baby's Days<br>with Peter Rabbit ...</td>\n",
       "        <td style=\"padding-left: 1em; padding-right: 1em; text-align: center; vertical-align: top\">Lovely book, it's bound<br>tightly so you may no ...</td>\n",
       "        <td style=\"padding-left: 1em; padding-right: 1em; text-align: center; vertical-align: top\">4.0</td>\n",
       "    </tr>\n",
       "    <tr>\n",
       "        <td style=\"padding-left: 1em; padding-right: 1em; text-align: center; vertical-align: top\">Baby Tracker&amp;reg; - Daily<br>Childcare Journal, ...</td>\n",
       "        <td style=\"padding-left: 1em; padding-right: 1em; text-align: center; vertical-align: top\">Perfect for new parents.<br>We were able to keep ...</td>\n",
       "        <td style=\"padding-left: 1em; padding-right: 1em; text-align: center; vertical-align: top\">5.0</td>\n",
       "    </tr>\n",
       "    <tr>\n",
       "        <td style=\"padding-left: 1em; padding-right: 1em; text-align: center; vertical-align: top\">Baby Tracker&amp;reg; - Daily<br>Childcare Journal, ...</td>\n",
       "        <td style=\"padding-left: 1em; padding-right: 1em; text-align: center; vertical-align: top\">A friend of mine pinned<br>this product on Pinte ...</td>\n",
       "        <td style=\"padding-left: 1em; padding-right: 1em; text-align: center; vertical-align: top\">5.0</td>\n",
       "    </tr>\n",
       "    <tr>\n",
       "        <td style=\"padding-left: 1em; padding-right: 1em; text-align: center; vertical-align: top\">Baby Tracker&amp;reg; - Daily<br>Childcare Journal, ...</td>\n",
       "        <td style=\"padding-left: 1em; padding-right: 1em; text-align: center; vertical-align: top\">This has been an easy way<br>for my nanny to record ...</td>\n",
       "        <td style=\"padding-left: 1em; padding-right: 1em; text-align: center; vertical-align: top\">4.0</td>\n",
       "    </tr>\n",
       "</table>\n",
       "[10 rows x 3 columns]<br/>\n",
       "</div>"
      ],
      "text/plain": [
       "Columns:\n",
       "\tname\tstr\n",
       "\treview\tstr\n",
       "\trating\tfloat\n",
       "\n",
       "Rows: 10\n",
       "\n",
       "Data:\n",
       "+-------------------------------+-------------------------------+--------+\n",
       "|              name             |             review            | rating |\n",
       "+-------------------------------+-------------------------------+--------+\n",
       "|    Planetwise Flannel Wipes   | These flannel wipes are OK... |  3.0   |\n",
       "|     Planetwise Wipe Pouch     | it came early and was not ... |  5.0   |\n",
       "| Annas Dream Full Quilt wit... | Very soft and comfortable ... |  5.0   |\n",
       "| Stop Pacifier Sucking with... | This is a product well wor... |  5.0   |\n",
       "| Stop Pacifier Sucking with... | All of my kids have cried ... |  5.0   |\n",
       "| Stop Pacifier Sucking with... | When the Binky Fairy came ... |  5.0   |\n",
       "| A Tale of Baby's Days with... | Lovely book, it's bound ti... |  4.0   |\n",
       "| Baby Tracker&reg; - Daily ... | Perfect for new parents. W... |  5.0   |\n",
       "| Baby Tracker&reg; - Daily ... | A friend of mine pinned th... |  5.0   |\n",
       "| Baby Tracker&reg; - Daily ... | This has been an easy way ... |  4.0   |\n",
       "+-------------------------------+-------------------------------+--------+\n",
       "[10 rows x 3 columns]"
      ]
     },
     "execution_count": 3,
     "metadata": {},
     "output_type": "execute_result"
    }
   ],
   "source": [
    "products.head()"
   ]
  },
  {
   "cell_type": "markdown",
   "metadata": {},
   "source": [
    "#Build the word count vector for each review"
   ]
  },
  {
   "cell_type": "code",
   "execution_count": 5,
   "metadata": {
    "collapsed": false
   },
   "outputs": [],
   "source": [
    "products['word_count'] = graphlab.text_analytics.count_words(products['review'])\n",
    "\n",
    "#products['ngram_count'] = graphlab.text_analytics.count_ngrams(products['review'])"
   ]
  },
  {
   "cell_type": "code",
   "execution_count": 6,
   "metadata": {
    "collapsed": false
   },
   "outputs": [
    {
     "data": {
      "text/html": [
       "<div style=\"max-height:1000px;max-width:1500px;overflow:auto;\"><table frame=\"box\" rules=\"cols\">\n",
       "    <tr>\n",
       "        <th style=\"padding-left: 1em; padding-right: 1em; text-align: center\">name</th>\n",
       "        <th style=\"padding-left: 1em; padding-right: 1em; text-align: center\">review</th>\n",
       "        <th style=\"padding-left: 1em; padding-right: 1em; text-align: center\">rating</th>\n",
       "        <th style=\"padding-left: 1em; padding-right: 1em; text-align: center\">word_count</th>\n",
       "    </tr>\n",
       "    <tr>\n",
       "        <td style=\"padding-left: 1em; padding-right: 1em; text-align: center; vertical-align: top\">Planetwise Flannel Wipes</td>\n",
       "        <td style=\"padding-left: 1em; padding-right: 1em; text-align: center; vertical-align: top\">These flannel wipes are<br>OK, but in my opinion ...</td>\n",
       "        <td style=\"padding-left: 1em; padding-right: 1em; text-align: center; vertical-align: top\">3.0</td>\n",
       "        <td style=\"padding-left: 1em; padding-right: 1em; text-align: center; vertical-align: top\">{'and': 5, 'stink': 1,<br>'because': 1, 'ordered': ...</td>\n",
       "    </tr>\n",
       "    <tr>\n",
       "        <td style=\"padding-left: 1em; padding-right: 1em; text-align: center; vertical-align: top\">Planetwise Wipe Pouch</td>\n",
       "        <td style=\"padding-left: 1em; padding-right: 1em; text-align: center; vertical-align: top\">it came early and was not<br>disappointed. i love ...</td>\n",
       "        <td style=\"padding-left: 1em; padding-right: 1em; text-align: center; vertical-align: top\">5.0</td>\n",
       "        <td style=\"padding-left: 1em; padding-right: 1em; text-align: center; vertical-align: top\">{'and': 3, 'love': 1,<br>'it': 2, 'highly': 1, ...</td>\n",
       "    </tr>\n",
       "    <tr>\n",
       "        <td style=\"padding-left: 1em; padding-right: 1em; text-align: center; vertical-align: top\">Annas Dream Full Quilt<br>with 2 Shams ...</td>\n",
       "        <td style=\"padding-left: 1em; padding-right: 1em; text-align: center; vertical-align: top\">Very soft and comfortable<br>and warmer than it ...</td>\n",
       "        <td style=\"padding-left: 1em; padding-right: 1em; text-align: center; vertical-align: top\">5.0</td>\n",
       "        <td style=\"padding-left: 1em; padding-right: 1em; text-align: center; vertical-align: top\">{'and': 2, 'quilt': 1,<br>'it': 1, 'comfortable': ...</td>\n",
       "    </tr>\n",
       "    <tr>\n",
       "        <td style=\"padding-left: 1em; padding-right: 1em; text-align: center; vertical-align: top\">Stop Pacifier Sucking<br>without tears with ...</td>\n",
       "        <td style=\"padding-left: 1em; padding-right: 1em; text-align: center; vertical-align: top\">This is a product well<br>worth the purchase.  I ...</td>\n",
       "        <td style=\"padding-left: 1em; padding-right: 1em; text-align: center; vertical-align: top\">5.0</td>\n",
       "        <td style=\"padding-left: 1em; padding-right: 1em; text-align: center; vertical-align: top\">{'ingenious': 1, 'and':<br>3, 'love': 2, ...</td>\n",
       "    </tr>\n",
       "    <tr>\n",
       "        <td style=\"padding-left: 1em; padding-right: 1em; text-align: center; vertical-align: top\">Stop Pacifier Sucking<br>without tears with ...</td>\n",
       "        <td style=\"padding-left: 1em; padding-right: 1em; text-align: center; vertical-align: top\">All of my kids have cried<br>non-stop when I tried to ...</td>\n",
       "        <td style=\"padding-left: 1em; padding-right: 1em; text-align: center; vertical-align: top\">5.0</td>\n",
       "        <td style=\"padding-left: 1em; padding-right: 1em; text-align: center; vertical-align: top\">{'and': 2, 'parents!!':<br>1, 'all': 2, 'puppet.': ...</td>\n",
       "    </tr>\n",
       "    <tr>\n",
       "        <td style=\"padding-left: 1em; padding-right: 1em; text-align: center; vertical-align: top\">Stop Pacifier Sucking<br>without tears with ...</td>\n",
       "        <td style=\"padding-left: 1em; padding-right: 1em; text-align: center; vertical-align: top\">When the Binky Fairy came<br>to our house, we didn't ...</td>\n",
       "        <td style=\"padding-left: 1em; padding-right: 1em; text-align: center; vertical-align: top\">5.0</td>\n",
       "        <td style=\"padding-left: 1em; padding-right: 1em; text-align: center; vertical-align: top\">{'and': 2, 'cute': 1,<br>'help': 2, 'doll': 1, ...</td>\n",
       "    </tr>\n",
       "    <tr>\n",
       "        <td style=\"padding-left: 1em; padding-right: 1em; text-align: center; vertical-align: top\">A Tale of Baby's Days<br>with Peter Rabbit ...</td>\n",
       "        <td style=\"padding-left: 1em; padding-right: 1em; text-align: center; vertical-align: top\">Lovely book, it's bound<br>tightly so you may no ...</td>\n",
       "        <td style=\"padding-left: 1em; padding-right: 1em; text-align: center; vertical-align: top\">4.0</td>\n",
       "        <td style=\"padding-left: 1em; padding-right: 1em; text-align: center; vertical-align: top\">{'shop': 1, 'be': 1,<br>'is': 1, 'it': 1, 'as': ...</td>\n",
       "    </tr>\n",
       "    <tr>\n",
       "        <td style=\"padding-left: 1em; padding-right: 1em; text-align: center; vertical-align: top\">Baby Tracker&amp;reg; - Daily<br>Childcare Journal, ...</td>\n",
       "        <td style=\"padding-left: 1em; padding-right: 1em; text-align: center; vertical-align: top\">Perfect for new parents.<br>We were able to keep ...</td>\n",
       "        <td style=\"padding-left: 1em; padding-right: 1em; text-align: center; vertical-align: top\">5.0</td>\n",
       "        <td style=\"padding-left: 1em; padding-right: 1em; text-align: center; vertical-align: top\">{'feeding,': 1, 'and': 2,<br>'all': 1, 'right': 1, ...</td>\n",
       "    </tr>\n",
       "    <tr>\n",
       "        <td style=\"padding-left: 1em; padding-right: 1em; text-align: center; vertical-align: top\">Baby Tracker&amp;reg; - Daily<br>Childcare Journal, ...</td>\n",
       "        <td style=\"padding-left: 1em; padding-right: 1em; text-align: center; vertical-align: top\">A friend of mine pinned<br>this product on Pinte ...</td>\n",
       "        <td style=\"padding-left: 1em; padding-right: 1em; text-align: center; vertical-align: top\">5.0</td>\n",
       "        <td style=\"padding-left: 1em; padding-right: 1em; text-align: center; vertical-align: top\">{'and': 1, 'help': 1,<br>'give': 1, 'is': 1, ...</td>\n",
       "    </tr>\n",
       "    <tr>\n",
       "        <td style=\"padding-left: 1em; padding-right: 1em; text-align: center; vertical-align: top\">Baby Tracker&amp;reg; - Daily<br>Childcare Journal, ...</td>\n",
       "        <td style=\"padding-left: 1em; padding-right: 1em; text-align: center; vertical-align: top\">This has been an easy way<br>for my nanny to record ...</td>\n",
       "        <td style=\"padding-left: 1em; padding-right: 1em; text-align: center; vertical-align: top\">4.0</td>\n",
       "        <td style=\"padding-left: 1em; padding-right: 1em; text-align: center; vertical-align: top\">{'journal.': 1, 'all': 1,<br>'standarad': 1, ...</td>\n",
       "    </tr>\n",
       "</table>\n",
       "[10 rows x 4 columns]<br/>\n",
       "</div>"
      ],
      "text/plain": [
       "Columns:\n",
       "\tname\tstr\n",
       "\treview\tstr\n",
       "\trating\tfloat\n",
       "\tword_count\tdict\n",
       "\n",
       "Rows: 10\n",
       "\n",
       "Data:\n",
       "+-------------------------------+-------------------------------+--------+\n",
       "|              name             |             review            | rating |\n",
       "+-------------------------------+-------------------------------+--------+\n",
       "|    Planetwise Flannel Wipes   | These flannel wipes are OK... |  3.0   |\n",
       "|     Planetwise Wipe Pouch     | it came early and was not ... |  5.0   |\n",
       "| Annas Dream Full Quilt wit... | Very soft and comfortable ... |  5.0   |\n",
       "| Stop Pacifier Sucking with... | This is a product well wor... |  5.0   |\n",
       "| Stop Pacifier Sucking with... | All of my kids have cried ... |  5.0   |\n",
       "| Stop Pacifier Sucking with... | When the Binky Fairy came ... |  5.0   |\n",
       "| A Tale of Baby's Days with... | Lovely book, it's bound ti... |  4.0   |\n",
       "| Baby Tracker&reg; - Daily ... | Perfect for new parents. W... |  5.0   |\n",
       "| Baby Tracker&reg; - Daily ... | A friend of mine pinned th... |  5.0   |\n",
       "| Baby Tracker&reg; - Daily ... | This has been an easy way ... |  4.0   |\n",
       "+-------------------------------+-------------------------------+--------+\n",
       "+-------------------------------+\n",
       "|           word_count          |\n",
       "+-------------------------------+\n",
       "| {'and': 5, 'stink': 1, 'be... |\n",
       "| {'and': 3, 'love': 1, 'it'... |\n",
       "| {'and': 2, 'quilt': 1, 'it... |\n",
       "| {'ingenious': 1, 'and': 3,... |\n",
       "| {'and': 2, 'parents!!': 1,... |\n",
       "| {'and': 2, 'cute': 1, 'hel... |\n",
       "| {'shop': 1, 'be': 1, 'is':... |\n",
       "| {'feeding,': 1, 'and': 2, ... |\n",
       "| {'and': 1, 'help': 1, 'giv... |\n",
       "| {'journal.': 1, 'all': 1, ... |\n",
       "+-------------------------------+\n",
       "[10 rows x 4 columns]"
      ]
     },
     "execution_count": 6,
     "metadata": {},
     "output_type": "execute_result"
    }
   ],
   "source": [
    "products.head()"
   ]
  },
  {
   "cell_type": "code",
   "execution_count": 6,
   "metadata": {
    "collapsed": false
   },
   "outputs": [],
   "source": [
    "graphlab.canvas.set_target('ipynb')"
   ]
  },
  {
   "cell_type": "code",
   "execution_count": 8,
   "metadata": {
    "collapsed": false
   },
   "outputs": [
    {
     "data": {
      "application/javascript": [
       "$(\"head\").append($(\"<link/>\").attr({\n",
       "  rel:  \"stylesheet\",\n",
       "  type: \"text/css\",\n",
       "  href: \"//cdnjs.cloudflare.com/ajax/libs/font-awesome/4.1.0/css/font-awesome.min.css\"\n",
       "}));\n",
       "$(\"head\").append($(\"<link/>\").attr({\n",
       "  rel:  \"stylesheet\",\n",
       "  type: \"text/css\",\n",
       "  href: \"//dato.com/files/canvas/1.6.1/css/canvas.css\"\n",
       "}));\n",
       "\n",
       "            (function(){\n",
       "\n",
       "                var e = null;\n",
       "                if (typeof element == 'undefined') {\n",
       "                    var scripts = document.getElementsByTagName('script');\n",
       "                    var thisScriptTag = scripts[scripts.length-1];\n",
       "                    var parentDiv = thisScriptTag.parentNode;\n",
       "                    e = document.createElement('div');\n",
       "                    parentDiv.appendChild(e);\n",
       "                } else {\n",
       "                    e = element[0];\n",
       "                }\n",
       "\n",
       "                if (typeof requirejs !== 'undefined') {\n",
       "                    // disable load timeout; ipython_app.js is large and can take a while to load.\n",
       "                    requirejs.config({waitSeconds: 0});\n",
       "                }\n",
       "\n",
       "                require(['//dato.com/files/canvas/1.6.1/js/ipython_app.js'], function(IPythonApp){\n",
       "                    var app = new IPythonApp();\n",
       "                    app.attachView('sarray','Numeric', {\"ipython\": true, \"sketch\": {\"std\": 1.2850135559617413, \"complete\": true, \"min\": 1.0, \"max\": 5.0, \"quantile\": [1.0, 1.0, 1.0, 1.0, 1.0, 1.0, 1.0, 1.0, 1.0, 2.0, 2.0, 2.0, 2.0, 2.0, 2.0, 3.0, 3.0, 3.0, 3.0, 3.0, 3.0, 3.0, 3.0, 3.0, 4.0, 4.0, 4.0, 4.0, 4.0, 4.0, 4.0, 4.0, 4.0, 4.0, 4.0, 4.0, 4.0, 4.0, 4.0, 4.0, 4.0, 4.0, 5.0, 5.0, 5.0, 5.0, 5.0, 5.0, 5.0, 5.0, 5.0, 5.0, 5.0, 5.0, 5.0, 5.0, 5.0, 5.0, 5.0, 5.0, 5.0, 5.0, 5.0, 5.0, 5.0, 5.0, 5.0, 5.0, 5.0, 5.0, 5.0, 5.0, 5.0, 5.0, 5.0, 5.0, 5.0, 5.0, 5.0, 5.0, 5.0, 5.0, 5.0, 5.0, 5.0, 5.0, 5.0, 5.0, 5.0, 5.0, 5.0, 5.0, 5.0, 5.0, 5.0, 5.0, 5.0, 5.0, 5.0, 5.0, 5.0], \"median\": 5.0, \"numeric\": true, \"num_unique\": 5, \"num_undefined\": 0, \"var\": 1.6512598390054394, \"progress\": 1.0, \"size\": 183531, \"frequent_items\": {\"1.0\": {\"frequency\": 15183, \"value\": 1.0}, \"2.0\": {\"frequency\": 11310, \"value\": 2.0}, \"3.0\": {\"frequency\": 16779, \"value\": 3.0}, \"4.0\": {\"frequency\": 33205, \"value\": 4.0}, \"5.0\": {\"frequency\": 107054, \"value\": 5.0}}, \"mean\": 4.1204483166331505}, \"selected_variable\": {\"name\": [\"<SArray>\"], \"dtype\": \"float\", \"view_component\": \"Numeric\", \"view_file\": \"sarray\", \"descriptives\": {\"rows\": 183531}, \"type\": \"SArray\", \"view_components\": [\"Numeric\", \"Categorical\"]}, \"histogram\": {\"progress\": 1.0, \"histogram\": {\"max\": 5.024, \"bins\": [15183, 0, 0, 11310, 0, 16779, 0, 0, 33205, 0, 0, 107054], \"min\": 0.992}, \"min\": 1.0, \"complete\": 1, \"max\": 5.0}}, e);\n",
       "                });\n",
       "            })();\n",
       "        "
      ]
     },
     "metadata": {},
     "output_type": "display_data"
    }
   ],
   "source": [
    "products['rating'].show()\n",
    "#print products['rating']"
   ]
  },
  {
   "cell_type": "markdown",
   "metadata": {
    "collapsed": true
   },
   "source": [
    "#Examining the reviews for most-sold product:  'Vulli Sophie the Giraffe Teether'"
   ]
  },
  {
   "cell_type": "code",
   "execution_count": 194,
   "metadata": {
    "collapsed": false
   },
   "outputs": [],
   "source": [
    "giraffe_reviews = products[products['name'] == 'Vulli Sophie the Giraffe Teether']"
   ]
  },
  {
   "cell_type": "code",
   "execution_count": 195,
   "metadata": {
    "collapsed": false
   },
   "outputs": [
    {
     "data": {
      "text/plain": [
       "785"
      ]
     },
     "execution_count": 195,
     "metadata": {},
     "output_type": "execute_result"
    }
   ],
   "source": [
    "len(giraffe_reviews)"
   ]
  },
  {
   "cell_type": "code",
   "execution_count": 196,
   "metadata": {
    "collapsed": false
   },
   "outputs": [
    {
     "data": {
      "application/javascript": [
       "$(\"head\").append($(\"<link/>\").attr({\n",
       "  rel:  \"stylesheet\",\n",
       "  type: \"text/css\",\n",
       "  href: \"//cdnjs.cloudflare.com/ajax/libs/font-awesome/4.1.0/css/font-awesome.min.css\"\n",
       "}));\n",
       "$(\"head\").append($(\"<link/>\").attr({\n",
       "  rel:  \"stylesheet\",\n",
       "  type: \"text/css\",\n",
       "  href: \"//dato.com/files/canvas/1.6.1/css/canvas.css\"\n",
       "}));\n",
       "\n",
       "            (function(){\n",
       "\n",
       "                var e = null;\n",
       "                if (typeof element == 'undefined') {\n",
       "                    var scripts = document.getElementsByTagName('script');\n",
       "                    var thisScriptTag = scripts[scripts.length-1];\n",
       "                    var parentDiv = thisScriptTag.parentNode;\n",
       "                    e = document.createElement('div');\n",
       "                    parentDiv.appendChild(e);\n",
       "                } else {\n",
       "                    e = element[0];\n",
       "                }\n",
       "\n",
       "                if (typeof requirejs !== 'undefined') {\n",
       "                    // disable load timeout; ipython_app.js is large and can take a while to load.\n",
       "                    requirejs.config({waitSeconds: 0});\n",
       "                }\n",
       "\n",
       "                require(['//dato.com/files/canvas/1.6.1/js/ipython_app.js'], function(IPythonApp){\n",
       "                    var app = new IPythonApp();\n",
       "                    app.attachView('sarray','Categorical', {\"ipython\": true, \"sketch\": {\"std\": 1.226576304850189, \"complete\": true, \"min\": 1.0, \"max\": 5.0, \"quantile\": [1.0, 1.0, 1.0, 1.0, 1.0, 1.0, 1.0, 1.0, 2.0, 2.0, 2.0, 2.0, 3.0, 3.0, 3.0, 3.0, 3.0, 3.0, 3.0, 3.0, 4.0, 4.0, 4.0, 4.0, 4.0, 4.0, 4.0, 4.0, 4.0, 4.0, 4.0, 4.0, 5.0, 5.0, 5.0, 5.0, 5.0, 5.0, 5.0, 5.0, 5.0, 5.0, 5.0, 5.0, 5.0, 5.0, 5.0, 5.0, 5.0, 5.0, 5.0, 5.0, 5.0, 5.0, 5.0, 5.0, 5.0, 5.0, 5.0, 5.0, 5.0, 5.0, 5.0, 5.0, 5.0, 5.0, 5.0, 5.0, 5.0, 5.0, 5.0, 5.0, 5.0, 5.0, 5.0, 5.0, 5.0, 5.0, 5.0, 5.0, 5.0, 5.0, 5.0, 5.0, 5.0, 5.0, 5.0, 5.0, 5.0, 5.0, 5.0, 5.0, 5.0, 5.0, 5.0, 5.0, 5.0, 5.0, 5.0, 5.0, 5.0], \"median\": 5.0, \"numeric\": true, \"num_unique\": 5, \"num_undefined\": 0, \"var\": 1.504489431619944, \"progress\": 1.0, \"size\": 785, \"frequent_items\": {\"1.0\": {\"frequency\": 56, \"value\": 1.0}, \"2.0\": {\"frequency\": 37, \"value\": 2.0}, \"3.0\": {\"frequency\": 62, \"value\": 3.0}, \"4.0\": {\"frequency\": 95, \"value\": 4.0}, \"5.0\": {\"frequency\": 535, \"value\": 5.0}}, \"mean\": 4.294267515923567}, \"selected_variable\": {\"name\": [\"<SArray>\"], \"dtype\": \"float\", \"view_component\": \"Categorical\", \"view_file\": \"sarray\", \"descriptives\": {\"rows\": 785}, \"type\": \"SArray\", \"view_components\": [\"Numeric\", \"Categorical\"]}, \"histogram\": {\"progress\": 1.0, \"histogram\": {\"max\": 5.0439843750025, \"bins\": [56, 0, 0, 37, 0, 0, 62, 0, 95, 0, 0, 535], \"min\": 0.9534375000025004}, \"min\": 1.0, \"complete\": 1, \"max\": 5.0}}, e);\n",
       "                });\n",
       "            })();\n",
       "        "
      ]
     },
     "metadata": {},
     "output_type": "display_data"
    }
   ],
   "source": [
    "giraffe_reviews['rating'].show(view='Categorical')"
   ]
  },
  {
   "cell_type": "markdown",
   "metadata": {},
   "source": [
    "#Build a sentiment classifier"
   ]
  },
  {
   "cell_type": "code",
   "execution_count": 7,
   "metadata": {
    "collapsed": false
   },
   "outputs": [
    {
     "data": {
      "application/javascript": [
       "$(\"head\").append($(\"<link/>\").attr({\n",
       "  rel:  \"stylesheet\",\n",
       "  type: \"text/css\",\n",
       "  href: \"//cdnjs.cloudflare.com/ajax/libs/font-awesome/4.1.0/css/font-awesome.min.css\"\n",
       "}));\n",
       "$(\"head\").append($(\"<link/>\").attr({\n",
       "  rel:  \"stylesheet\",\n",
       "  type: \"text/css\",\n",
       "  href: \"//dato.com/files/canvas/1.6.1/css/canvas.css\"\n",
       "}));\n",
       "\n",
       "            (function(){\n",
       "\n",
       "                var e = null;\n",
       "                if (typeof element == 'undefined') {\n",
       "                    var scripts = document.getElementsByTagName('script');\n",
       "                    var thisScriptTag = scripts[scripts.length-1];\n",
       "                    var parentDiv = thisScriptTag.parentNode;\n",
       "                    e = document.createElement('div');\n",
       "                    parentDiv.appendChild(e);\n",
       "                } else {\n",
       "                    e = element[0];\n",
       "                }\n",
       "\n",
       "                if (typeof requirejs !== 'undefined') {\n",
       "                    // disable load timeout; ipython_app.js is large and can take a while to load.\n",
       "                    requirejs.config({waitSeconds: 0});\n",
       "                }\n",
       "\n",
       "                require(['//dato.com/files/canvas/1.6.1/js/ipython_app.js'], function(IPythonApp){\n",
       "                    var app = new IPythonApp();\n",
       "                    app.attachView('sarray','Categorical', {\"ipython\": true, \"sketch\": {\"std\": 1.2850135559617413, \"complete\": true, \"min\": 1.0, \"max\": 5.0, \"quantile\": [1.0, 1.0, 1.0, 1.0, 1.0, 1.0, 1.0, 1.0, 1.0, 2.0, 2.0, 2.0, 2.0, 2.0, 2.0, 3.0, 3.0, 3.0, 3.0, 3.0, 3.0, 3.0, 3.0, 3.0, 4.0, 4.0, 4.0, 4.0, 4.0, 4.0, 4.0, 4.0, 4.0, 4.0, 4.0, 4.0, 4.0, 4.0, 4.0, 4.0, 4.0, 4.0, 5.0, 5.0, 5.0, 5.0, 5.0, 5.0, 5.0, 5.0, 5.0, 5.0, 5.0, 5.0, 5.0, 5.0, 5.0, 5.0, 5.0, 5.0, 5.0, 5.0, 5.0, 5.0, 5.0, 5.0, 5.0, 5.0, 5.0, 5.0, 5.0, 5.0, 5.0, 5.0, 5.0, 5.0, 5.0, 5.0, 5.0, 5.0, 5.0, 5.0, 5.0, 5.0, 5.0, 5.0, 5.0, 5.0, 5.0, 5.0, 5.0, 5.0, 5.0, 5.0, 5.0, 5.0, 5.0, 5.0, 5.0, 5.0, 5.0], \"median\": 5.0, \"numeric\": true, \"num_unique\": 5, \"num_undefined\": 0, \"var\": 1.6512598390054394, \"progress\": 1.0, \"size\": 183531, \"frequent_items\": {\"1.0\": {\"frequency\": 15183, \"value\": 1.0}, \"2.0\": {\"frequency\": 11310, \"value\": 2.0}, \"3.0\": {\"frequency\": 16779, \"value\": 3.0}, \"4.0\": {\"frequency\": 33205, \"value\": 4.0}, \"5.0\": {\"frequency\": 107054, \"value\": 5.0}}, \"mean\": 4.1204483166331505}, \"selected_variable\": {\"name\": [\"<SArray>\"], \"dtype\": \"float\", \"view_component\": \"Categorical\", \"view_file\": \"sarray\", \"descriptives\": {\"rows\": 183531}, \"type\": \"SArray\", \"view_components\": [\"Numeric\", \"Categorical\"]}, \"histogram\": {\"progress\": 1.0, \"histogram\": {\"max\": 5.024, \"bins\": [15183, 0, 0, 11310, 0, 16779, 0, 0, 33205, 0, 0, 107054], \"min\": 0.992}, \"min\": 1.0, \"complete\": 1, \"max\": 5.0}}, e);\n",
       "                });\n",
       "            })();\n",
       "        "
      ]
     },
     "metadata": {},
     "output_type": "display_data"
    }
   ],
   "source": [
    "products['rating'].show(view='Categorical')"
   ]
  },
  {
   "cell_type": "markdown",
   "metadata": {},
   "source": [
    "##Define what's a positive and a negative sentiment\n",
    "\n",
    "We will ignore all reviews with rating = 3, since they tend to have a neutral sentiment.  Reviews with a rating of 4 or higher will be considered positive, while the ones with rating of 2 or lower will have a negative sentiment.   "
   ]
  },
  {
   "cell_type": "code",
   "execution_count": 79,
   "metadata": {
    "collapsed": false
   },
   "outputs": [],
   "source": [
    "#ignore all 3* reviews\n",
    "products = products[products['rating'] != 3]"
   ]
  },
  {
   "cell_type": "code",
   "execution_count": 81,
   "metadata": {
    "collapsed": false
   },
   "outputs": [],
   "source": [
    "#positive sentiment = 4* or 5* reviews\n",
    "products['sentiment'] = products['rating'] >=4"
   ]
  },
  {
   "cell_type": "code",
   "execution_count": 10,
   "metadata": {
    "collapsed": false,
    "scrolled": true
   },
   "outputs": [
    {
     "data": {
      "text/html": [
       "<div style=\"max-height:1000px;max-width:1500px;overflow:auto;\"><table frame=\"box\" rules=\"cols\">\n",
       "    <tr>\n",
       "        <th style=\"padding-left: 1em; padding-right: 1em; text-align: center\">name</th>\n",
       "        <th style=\"padding-left: 1em; padding-right: 1em; text-align: center\">review</th>\n",
       "        <th style=\"padding-left: 1em; padding-right: 1em; text-align: center\">rating</th>\n",
       "        <th style=\"padding-left: 1em; padding-right: 1em; text-align: center\">word_count</th>\n",
       "        <th style=\"padding-left: 1em; padding-right: 1em; text-align: center\">sentiment</th>\n",
       "    </tr>\n",
       "    <tr>\n",
       "        <td style=\"padding-left: 1em; padding-right: 1em; text-align: center; vertical-align: top\">Planetwise Wipe Pouch</td>\n",
       "        <td style=\"padding-left: 1em; padding-right: 1em; text-align: center; vertical-align: top\">it came early and was not<br>disappointed. i love ...</td>\n",
       "        <td style=\"padding-left: 1em; padding-right: 1em; text-align: center; vertical-align: top\">5.0</td>\n",
       "        <td style=\"padding-left: 1em; padding-right: 1em; text-align: center; vertical-align: top\">{'and': 3, 'love': 1,<br>'it': 2, 'highly': 1, ...</td>\n",
       "        <td style=\"padding-left: 1em; padding-right: 1em; text-align: center; vertical-align: top\">1</td>\n",
       "    </tr>\n",
       "    <tr>\n",
       "        <td style=\"padding-left: 1em; padding-right: 1em; text-align: center; vertical-align: top\">Annas Dream Full Quilt<br>with 2 Shams ...</td>\n",
       "        <td style=\"padding-left: 1em; padding-right: 1em; text-align: center; vertical-align: top\">Very soft and comfortable<br>and warmer than it ...</td>\n",
       "        <td style=\"padding-left: 1em; padding-right: 1em; text-align: center; vertical-align: top\">5.0</td>\n",
       "        <td style=\"padding-left: 1em; padding-right: 1em; text-align: center; vertical-align: top\">{'and': 2, 'quilt': 1,<br>'it': 1, 'comfortable': ...</td>\n",
       "        <td style=\"padding-left: 1em; padding-right: 1em; text-align: center; vertical-align: top\">1</td>\n",
       "    </tr>\n",
       "    <tr>\n",
       "        <td style=\"padding-left: 1em; padding-right: 1em; text-align: center; vertical-align: top\">Stop Pacifier Sucking<br>without tears with ...</td>\n",
       "        <td style=\"padding-left: 1em; padding-right: 1em; text-align: center; vertical-align: top\">This is a product well<br>worth the purchase.  I ...</td>\n",
       "        <td style=\"padding-left: 1em; padding-right: 1em; text-align: center; vertical-align: top\">5.0</td>\n",
       "        <td style=\"padding-left: 1em; padding-right: 1em; text-align: center; vertical-align: top\">{'ingenious': 1, 'and':<br>3, 'love': 2, ...</td>\n",
       "        <td style=\"padding-left: 1em; padding-right: 1em; text-align: center; vertical-align: top\">1</td>\n",
       "    </tr>\n",
       "    <tr>\n",
       "        <td style=\"padding-left: 1em; padding-right: 1em; text-align: center; vertical-align: top\">Stop Pacifier Sucking<br>without tears with ...</td>\n",
       "        <td style=\"padding-left: 1em; padding-right: 1em; text-align: center; vertical-align: top\">All of my kids have cried<br>non-stop when I tried to ...</td>\n",
       "        <td style=\"padding-left: 1em; padding-right: 1em; text-align: center; vertical-align: top\">5.0</td>\n",
       "        <td style=\"padding-left: 1em; padding-right: 1em; text-align: center; vertical-align: top\">{'and': 2, 'parents!!':<br>1, 'all': 2, 'puppet.': ...</td>\n",
       "        <td style=\"padding-left: 1em; padding-right: 1em; text-align: center; vertical-align: top\">1</td>\n",
       "    </tr>\n",
       "    <tr>\n",
       "        <td style=\"padding-left: 1em; padding-right: 1em; text-align: center; vertical-align: top\">Stop Pacifier Sucking<br>without tears with ...</td>\n",
       "        <td style=\"padding-left: 1em; padding-right: 1em; text-align: center; vertical-align: top\">When the Binky Fairy came<br>to our house, we didn't ...</td>\n",
       "        <td style=\"padding-left: 1em; padding-right: 1em; text-align: center; vertical-align: top\">5.0</td>\n",
       "        <td style=\"padding-left: 1em; padding-right: 1em; text-align: center; vertical-align: top\">{'and': 2, 'cute': 1,<br>'help': 2, 'doll': 1, ...</td>\n",
       "        <td style=\"padding-left: 1em; padding-right: 1em; text-align: center; vertical-align: top\">1</td>\n",
       "    </tr>\n",
       "    <tr>\n",
       "        <td style=\"padding-left: 1em; padding-right: 1em; text-align: center; vertical-align: top\">A Tale of Baby's Days<br>with Peter Rabbit ...</td>\n",
       "        <td style=\"padding-left: 1em; padding-right: 1em; text-align: center; vertical-align: top\">Lovely book, it's bound<br>tightly so you may no ...</td>\n",
       "        <td style=\"padding-left: 1em; padding-right: 1em; text-align: center; vertical-align: top\">4.0</td>\n",
       "        <td style=\"padding-left: 1em; padding-right: 1em; text-align: center; vertical-align: top\">{'shop': 1, 'be': 1,<br>'is': 1, 'it': 1, 'as': ...</td>\n",
       "        <td style=\"padding-left: 1em; padding-right: 1em; text-align: center; vertical-align: top\">1</td>\n",
       "    </tr>\n",
       "    <tr>\n",
       "        <td style=\"padding-left: 1em; padding-right: 1em; text-align: center; vertical-align: top\">Baby Tracker&amp;reg; - Daily<br>Childcare Journal, ...</td>\n",
       "        <td style=\"padding-left: 1em; padding-right: 1em; text-align: center; vertical-align: top\">Perfect for new parents.<br>We were able to keep ...</td>\n",
       "        <td style=\"padding-left: 1em; padding-right: 1em; text-align: center; vertical-align: top\">5.0</td>\n",
       "        <td style=\"padding-left: 1em; padding-right: 1em; text-align: center; vertical-align: top\">{'feeding,': 1, 'and': 2,<br>'all': 1, 'right': 1, ...</td>\n",
       "        <td style=\"padding-left: 1em; padding-right: 1em; text-align: center; vertical-align: top\">1</td>\n",
       "    </tr>\n",
       "    <tr>\n",
       "        <td style=\"padding-left: 1em; padding-right: 1em; text-align: center; vertical-align: top\">Baby Tracker&amp;reg; - Daily<br>Childcare Journal, ...</td>\n",
       "        <td style=\"padding-left: 1em; padding-right: 1em; text-align: center; vertical-align: top\">A friend of mine pinned<br>this product on Pinte ...</td>\n",
       "        <td style=\"padding-left: 1em; padding-right: 1em; text-align: center; vertical-align: top\">5.0</td>\n",
       "        <td style=\"padding-left: 1em; padding-right: 1em; text-align: center; vertical-align: top\">{'and': 1, 'help': 1,<br>'give': 1, 'is': 1, ...</td>\n",
       "        <td style=\"padding-left: 1em; padding-right: 1em; text-align: center; vertical-align: top\">1</td>\n",
       "    </tr>\n",
       "    <tr>\n",
       "        <td style=\"padding-left: 1em; padding-right: 1em; text-align: center; vertical-align: top\">Baby Tracker&amp;reg; - Daily<br>Childcare Journal, ...</td>\n",
       "        <td style=\"padding-left: 1em; padding-right: 1em; text-align: center; vertical-align: top\">This has been an easy way<br>for my nanny to record ...</td>\n",
       "        <td style=\"padding-left: 1em; padding-right: 1em; text-align: center; vertical-align: top\">4.0</td>\n",
       "        <td style=\"padding-left: 1em; padding-right: 1em; text-align: center; vertical-align: top\">{'journal.': 1, 'all': 1,<br>'standarad': 1, ...</td>\n",
       "        <td style=\"padding-left: 1em; padding-right: 1em; text-align: center; vertical-align: top\">1</td>\n",
       "    </tr>\n",
       "    <tr>\n",
       "        <td style=\"padding-left: 1em; padding-right: 1em; text-align: center; vertical-align: top\">Baby Tracker&amp;reg; - Daily<br>Childcare Journal, ...</td>\n",
       "        <td style=\"padding-left: 1em; padding-right: 1em; text-align: center; vertical-align: top\">I love this journal and<br>our nanny uses it ...</td>\n",
       "        <td style=\"padding-left: 1em; padding-right: 1em; text-align: center; vertical-align: top\">4.0</td>\n",
       "        <td style=\"padding-left: 1em; padding-right: 1em; text-align: center; vertical-align: top\">{'all': 1, 'forget': 1,<br>'just': 1, \"daughter's\": ...</td>\n",
       "        <td style=\"padding-left: 1em; padding-right: 1em; text-align: center; vertical-align: top\">1</td>\n",
       "    </tr>\n",
       "</table>\n",
       "[10 rows x 5 columns]<br/>\n",
       "</div>"
      ],
      "text/plain": [
       "Columns:\n",
       "\tname\tstr\n",
       "\treview\tstr\n",
       "\trating\tfloat\n",
       "\tword_count\tdict\n",
       "\tsentiment\tint\n",
       "\n",
       "Rows: 10\n",
       "\n",
       "Data:\n",
       "+-------------------------------+-------------------------------+--------+\n",
       "|              name             |             review            | rating |\n",
       "+-------------------------------+-------------------------------+--------+\n",
       "|     Planetwise Wipe Pouch     | it came early and was not ... |  5.0   |\n",
       "| Annas Dream Full Quilt wit... | Very soft and comfortable ... |  5.0   |\n",
       "| Stop Pacifier Sucking with... | This is a product well wor... |  5.0   |\n",
       "| Stop Pacifier Sucking with... | All of my kids have cried ... |  5.0   |\n",
       "| Stop Pacifier Sucking with... | When the Binky Fairy came ... |  5.0   |\n",
       "| A Tale of Baby's Days with... | Lovely book, it's bound ti... |  4.0   |\n",
       "| Baby Tracker&reg; - Daily ... | Perfect for new parents. W... |  5.0   |\n",
       "| Baby Tracker&reg; - Daily ... | A friend of mine pinned th... |  5.0   |\n",
       "| Baby Tracker&reg; - Daily ... | This has been an easy way ... |  4.0   |\n",
       "| Baby Tracker&reg; - Daily ... | I love this journal and ou... |  4.0   |\n",
       "+-------------------------------+-------------------------------+--------+\n",
       "+-------------------------------+-----------+\n",
       "|           word_count          | sentiment |\n",
       "+-------------------------------+-----------+\n",
       "| {'and': 3, 'love': 1, 'it'... |     1     |\n",
       "| {'and': 2, 'quilt': 1, 'it... |     1     |\n",
       "| {'ingenious': 1, 'and': 3,... |     1     |\n",
       "| {'and': 2, 'parents!!': 1,... |     1     |\n",
       "| {'and': 2, 'cute': 1, 'hel... |     1     |\n",
       "| {'shop': 1, 'be': 1, 'is':... |     1     |\n",
       "| {'feeding,': 1, 'and': 2, ... |     1     |\n",
       "| {'and': 1, 'help': 1, 'giv... |     1     |\n",
       "| {'journal.': 1, 'all': 1, ... |     1     |\n",
       "| {'all': 1, 'forget': 1, 'j... |     1     |\n",
       "+-------------------------------+-----------+\n",
       "[10 rows x 5 columns]"
      ]
     },
     "execution_count": 10,
     "metadata": {},
     "output_type": "execute_result"
    }
   ],
   "source": [
    "products.head()"
   ]
  },
  {
   "cell_type": "markdown",
   "metadata": {},
   "source": [
    "##Let's train the sentiment classifier"
   ]
  },
  {
   "cell_type": "code",
   "execution_count": 77,
   "metadata": {
    "collapsed": true
   },
   "outputs": [],
   "source": [
    "train_data,test_data = products.random_split(.8, seed=0)"
   ]
  },
  {
   "cell_type": "code",
   "execution_count": 82,
   "metadata": {
    "collapsed": false,
    "scrolled": true
   },
   "outputs": [
    {
     "ename": "ToolkitError",
     "evalue": "The following columns were expected but are missing: ['sentiment']",
     "output_type": "error",
     "traceback": [
      "\u001b[1;31m---------------------------------------------------------------------------\u001b[0m",
      "\u001b[1;31mToolkitError\u001b[0m                              Traceback (most recent call last)",
      "\u001b[1;32m<ipython-input-82-63e4f7c02dde>\u001b[0m in \u001b[0;36m<module>\u001b[1;34m()\u001b[0m\n\u001b[0;32m      2\u001b[0m                                                      \u001b[0mtarget\u001b[0m\u001b[1;33m=\u001b[0m\u001b[1;34m'sentiment'\u001b[0m\u001b[1;33m,\u001b[0m\u001b[1;33m\u001b[0m\u001b[0m\n\u001b[0;32m      3\u001b[0m                                                      \u001b[0mfeatures\u001b[0m\u001b[1;33m=\u001b[0m\u001b[1;33m[\u001b[0m\u001b[1;34m'word_count'\u001b[0m\u001b[1;33m]\u001b[0m\u001b[1;33m,\u001b[0m\u001b[1;33m\u001b[0m\u001b[0m\n\u001b[1;32m----> 4\u001b[1;33m                                                      validation_set=test_data)\n\u001b[0m",
      "\u001b[1;32m/home/zax/anaconda/lib/python2.7/site-packages/graphlab/toolkits/classifier/logistic_classifier.pyc\u001b[0m in \u001b[0;36mcreate\u001b[1;34m(dataset, target, features, l2_penalty, l1_penalty, solver, feature_rescaling, convergence_threshold, step_size, lbfgs_memory_level, max_iterations, class_weights, validation_set, verbose)\u001b[0m\n\u001b[0;32m    295\u001b[0m                         \u001b[0mlbfgs_memory_level\u001b[0m \u001b[1;33m=\u001b[0m \u001b[0mlbfgs_memory_level\u001b[0m\u001b[1;33m,\u001b[0m\u001b[1;33m\u001b[0m\u001b[0m\n\u001b[0;32m    296\u001b[0m                         \u001b[0mmax_iterations\u001b[0m \u001b[1;33m=\u001b[0m \u001b[0mmax_iterations\u001b[0m\u001b[1;33m,\u001b[0m\u001b[1;33m\u001b[0m\u001b[0m\n\u001b[1;32m--> 297\u001b[1;33m                         class_weights = class_weights)\n\u001b[0m\u001b[0;32m    298\u001b[0m \u001b[1;33m\u001b[0m\u001b[0m\n\u001b[0;32m    299\u001b[0m     \u001b[1;32mreturn\u001b[0m \u001b[0mLogisticClassifier\u001b[0m\u001b[1;33m(\u001b[0m\u001b[0mmodel\u001b[0m\u001b[1;33m.\u001b[0m\u001b[0m__proxy__\u001b[0m\u001b[1;33m)\u001b[0m\u001b[1;33m\u001b[0m\u001b[0m\n",
      "\u001b[1;32m/home/zax/anaconda/lib/python2.7/site-packages/graphlab/toolkits/_supervised_learning.pyc\u001b[0m in \u001b[0;36mcreate\u001b[1;34m(dataset, target, model_name, features, validation_set, verbose, distributed, **kwargs)\u001b[0m\n\u001b[0;32m    410\u001b[0m \u001b[1;33m\u001b[0m\u001b[0m\n\u001b[0;32m    411\u001b[0m     \u001b[1;31m# Target\u001b[0m\u001b[1;33m\u001b[0m\u001b[1;33m\u001b[0m\u001b[0m\n\u001b[1;32m--> 412\u001b[1;33m     \u001b[0mtarget_sframe\u001b[0m \u001b[1;33m=\u001b[0m \u001b[0m_toolkits_select_columns\u001b[0m\u001b[1;33m(\u001b[0m\u001b[0mdataset\u001b[0m\u001b[1;33m,\u001b[0m \u001b[1;33m[\u001b[0m\u001b[0mtarget\u001b[0m\u001b[1;33m]\u001b[0m\u001b[1;33m)\u001b[0m\u001b[1;33m\u001b[0m\u001b[0m\n\u001b[0m\u001b[0;32m    413\u001b[0m \u001b[1;33m\u001b[0m\u001b[0m\n\u001b[0;32m    414\u001b[0m     \u001b[1;31m# Features\u001b[0m\u001b[1;33m\u001b[0m\u001b[1;33m\u001b[0m\u001b[0m\n",
      "\u001b[1;32m/home/zax/anaconda/lib/python2.7/site-packages/graphlab/toolkits/_internal_utils.pyc\u001b[0m in \u001b[0;36m_toolkits_select_columns\u001b[1;34m(dataset, columns)\u001b[0m\n\u001b[0;32m    301\u001b[0m         \u001b[0mmissing_features\u001b[0m \u001b[1;33m=\u001b[0m \u001b[0mlist\u001b[0m\u001b[1;33m(\u001b[0m\u001b[0mset\u001b[0m\u001b[1;33m(\u001b[0m\u001b[0mcolumns\u001b[0m\u001b[1;33m)\u001b[0m\u001b[1;33m.\u001b[0m\u001b[0mdifference\u001b[0m\u001b[1;33m(\u001b[0m\u001b[0mset\u001b[0m\u001b[1;33m(\u001b[0m\u001b[0mdataset\u001b[0m\u001b[1;33m.\u001b[0m\u001b[0mcolumn_names\u001b[0m\u001b[1;33m(\u001b[0m\u001b[1;33m)\u001b[0m\u001b[1;33m)\u001b[0m\u001b[1;33m)\u001b[0m\u001b[1;33m)\u001b[0m\u001b[1;33m\u001b[0m\u001b[0m\n\u001b[0;32m    302\u001b[0m         raise ToolkitError(\"The following columns were expected but are \" +\n\u001b[1;32m--> 303\u001b[1;33m                            \"missing: {}\".format(missing_features))\n\u001b[0m\u001b[0;32m    304\u001b[0m \u001b[1;33m\u001b[0m\u001b[0m\n\u001b[0;32m    305\u001b[0m def _raise_error_if_column_exists(dataset, column_name = 'dataset',\n",
      "\u001b[1;31mToolkitError\u001b[0m: The following columns were expected but are missing: ['sentiment']"
     ]
    }
   ],
   "source": [
    "sentiment_model = graphlab.logistic_classifier.create(train_data,\n",
    "                                                     target='sentiment',\n",
    "                                                     features=['word_count'],\n",
    "                                                     validation_set=test_data)"
   ]
  },
  {
   "cell_type": "markdown",
   "metadata": {},
   "source": [
    "#Evaluate the sentiment model"
   ]
  },
  {
   "cell_type": "code",
   "execution_count": 13,
   "metadata": {
    "collapsed": false
   },
   "outputs": [
    {
     "data": {
      "text/plain": [
       "{'roc_curve': Columns:\n",
       " \tthreshold\tfloat\n",
       " \tfpr\tfloat\n",
       " \ttpr\tfloat\n",
       " \tp\tint\n",
       " \tn\tint\n",
       " \n",
       " Rows: 1001\n",
       " \n",
       " Data:\n",
       " +------------------+----------------+------------------+-------+------+\n",
       " |    threshold     |      fpr       |       tpr        |   p   |  n   |\n",
       " +------------------+----------------+------------------+-------+------+\n",
       " |       0.0        | 0.223577998874 | 0.00395990153758 | 28031 | 5327 |\n",
       " | 0.0010000000475  | 0.776422001126 |  0.996040098462  | 28031 | 5327 |\n",
       " | 0.00200000009499 | 0.736624741881 |  0.994862830438  | 28031 | 5327 |\n",
       " | 0.00300000002608 | 0.713910268444 |  0.994256359031  | 28031 | 5327 |\n",
       " | 0.00400000018999 | 0.698329266003 |  0.993792586779  | 28031 | 5327 |\n",
       " | 0.00499999988824 | 0.686878167824 |  0.993471513681  | 28031 | 5327 |\n",
       " | 0.00600000005215 | 0.677116575934 |  0.992972066641  | 28031 | 5327 |\n",
       " | 0.00700000021607 | 0.66660409236  |  0.992615318754  | 28031 | 5327 |\n",
       " | 0.00800000037998 | 0.656279331706 |  0.992329920445  | 28031 | 5327 |\n",
       " | 0.00899999961257 | 0.648958137789 |  0.991973172559  | 28031 | 5327 |\n",
       " +------------------+----------------+------------------+-------+------+\n",
       " [1001 rows x 5 columns]\n",
       " Note: Only the head of the SFrame is printed.\n",
       " You can use print_rows(num_rows=m, num_columns=n) to print more rows and columns.}"
      ]
     },
     "execution_count": 13,
     "metadata": {},
     "output_type": "execute_result"
    }
   ],
   "source": [
    "sentiment_model.evaluate(test_data, metric='roc_curve')"
   ]
  },
  {
   "cell_type": "code",
   "execution_count": 14,
   "metadata": {
    "collapsed": false
   },
   "outputs": [
    {
     "data": {
      "application/javascript": [
       "$(\"head\").append($(\"<link/>\").attr({\n",
       "  rel:  \"stylesheet\",\n",
       "  type: \"text/css\",\n",
       "  href: \"//cdnjs.cloudflare.com/ajax/libs/font-awesome/4.1.0/css/font-awesome.min.css\"\n",
       "}));\n",
       "$(\"head\").append($(\"<link/>\").attr({\n",
       "  rel:  \"stylesheet\",\n",
       "  type: \"text/css\",\n",
       "  href: \"//dato.com/files/canvas/1.6.1/css/canvas.css\"\n",
       "}));\n",
       "\n",
       "            (function(){\n",
       "\n",
       "                var e = null;\n",
       "                if (typeof element == 'undefined') {\n",
       "                    var scripts = document.getElementsByTagName('script');\n",
       "                    var thisScriptTag = scripts[scripts.length-1];\n",
       "                    var parentDiv = thisScriptTag.parentNode;\n",
       "                    e = document.createElement('div');\n",
       "                    parentDiv.appendChild(e);\n",
       "                } else {\n",
       "                    e = element[0];\n",
       "                }\n",
       "\n",
       "                if (typeof requirejs !== 'undefined') {\n",
       "                    // disable load timeout; ipython_app.js is large and can take a while to load.\n",
       "                    requirejs.config({waitSeconds: 0});\n",
       "                }\n",
       "\n",
       "                require(['//dato.com/files/canvas/1.6.1/js/ipython_app.js'], function(IPythonApp){\n",
       "                    var app = new IPythonApp();\n",
       "                    app.attachView('model','Evaluation', {\"comparison\": null, \"selected_variable\": {\"comparison\": null, \"name\": [\"sentiment_model\"], \"view_file\": \"model\", \"view_component\": \"Evaluation\", \"view_params\": {\"model_type\": \"regression\", \"view\": \"Evaluation\"}, \"view_components\": [\"Summary\", \"Evaluation\", \"Comparison\"], \"model_type\": \"regression\", \"attributes\": {\"section_titles\": [\"Schema\", \"Hyperparameters\", \"Training Summary\", \"Settings\", \"Highest Positive Coefficients\", \"Lowest Negative Coefficients\"], \"sections\": [[[\"Number of coefficients\", 219218], [\"Number of examples\", 133448], [\"Number of classes\", 2], [\"Number of feature columns\", 1], [\"Number of unpacked features\", 219217]], [[\"L1 penalty\", 0.0], [\"L2 penalty\", 0.01]], [[\"Solver\", \"auto\"], [\"Solver iterations\", 10], [\"Solver status\", \"TERMINATED: Iteration limit reached.\"], [\"Training time (sec)\", 10.3253]], [[\"Log-likelihood\", 4956.6901]], [[\"word_count[pinkjeep]\", 13.5701], [\"word_count[(http://www.amazon.com/review/rhgg6qp7tdnhb/ref=cm_cr_pr_cmt?ie=utf8&asin;=b00318cla0&nodeid;)]\", 12.3088], [\"word_count[label/box.]\", 11.1774], [\"word_count[product.***]\", 11.064], [\"word_count[direct-pumping]\", 11.0531]], [[\"word_count[it.update:after]\", -18.3631], [\"word_count[5months.]\", -16.0906], [\"word_count[oldest.if]\", -15.9315], [\"word_count[maxima.]\", -15.8084], [\"word_count[(160.00)]\", -15.4512]]]}, \"evaluations\": [[\"test_data\", {\"roc_curve\": [{\"threshold\": 0.0, \"p\": 28031, \"fpr\": 0.22357799887366248, \"tpr\": 0.00395990153758339, \"n\": 5327}, {\"threshold\": 0.0010000000474974513, \"p\": 28031, \"fpr\": 0.7764220011263375, \"tpr\": 0.9960400984624166, \"n\": 5327}, {\"threshold\": 0.0020000000949949026, \"p\": 28031, \"fpr\": 0.7366247418809837, \"tpr\": 0.9948628304377296, \"n\": 5327}, {\"threshold\": 0.003000000026077032, \"p\": 28031, \"fpr\": 0.713910268443777, \"tpr\": 0.9942563590310728, \"n\": 5327}, {\"threshold\": 0.004000000189989805, \"p\": 28031, \"fpr\": 0.698329266003379, \"tpr\": 0.9937925867789233, \"n\": 5327}, {\"threshold\": 0.004999999888241291, \"p\": 28031, \"fpr\": 0.6868781678242913, \"tpr\": 0.9934715136812814, \"n\": 5327}, {\"threshold\": 0.006000000052154064, \"p\": 28031, \"fpr\": 0.6771165759339215, \"tpr\": 0.9929720666405052, \"n\": 5327}, {\"threshold\": 0.007000000216066837, \"p\": 28031, \"fpr\": 0.6666040923596771, \"tpr\": 0.9926153187542364, \"n\": 5327}, {\"threshold\": 0.00800000037997961, \"p\": 28031, \"fpr\": 0.6562793317064014, \"tpr\": 0.9923299204452214, \"n\": 5327}, {\"threshold\": 0.008999999612569809, \"p\": 28031, \"fpr\": 0.648958137788624, \"tpr\": 0.9919731725589526, \"n\": 5327}, {\"threshold\": 0.009999999776482582, \"p\": 28031, \"fpr\": 0.6403228834240661, \"tpr\": 0.9916877742499376, \"n\": 5327}, {\"threshold\": 0.010999999940395355, \"p\": 28031, \"fpr\": 0.633377135348226, \"tpr\": 0.9913667011522956, \"n\": 5327}, {\"threshold\": 0.012000000104308128, \"p\": 28031, \"fpr\": 0.6281208935611038, \"tpr\": 0.9910099532660269, \"n\": 5327}, {\"threshold\": 0.013000000268220901, \"p\": 28031, \"fpr\": 0.6213628684062324, \"tpr\": 0.9907602297456387, \"n\": 5327}, {\"threshold\": 0.014000000432133675, \"p\": 28031, \"fpr\": 0.6164820724610475, \"tpr\": 0.9905105062252506, \"n\": 5327}, {\"threshold\": 0.014999999664723873, \"p\": 28031, \"fpr\": 0.6097240473061761, \"tpr\": 0.9902251079162356, \"n\": 5327}, {\"threshold\": 0.01600000075995922, \"p\": 28031, \"fpr\": 0.6050309742819598, \"tpr\": 0.9899040348185937, \"n\": 5327}, {\"threshold\": 0.017000000923871994, \"p\": 28031, \"fpr\": 0.6012765158625868, \"tpr\": 0.9896543112982056, \"n\": 5327}, {\"threshold\": 0.017999999225139618, \"p\": 28031, \"fpr\": 0.5965834428383706, \"tpr\": 0.9894759373550712, \"n\": 5327}, {\"threshold\": 0.01899999938905239, \"p\": 28031, \"fpr\": 0.5917026468931856, \"tpr\": 0.9893332382005636, \"n\": 5327}, {\"threshold\": 0.019999999552965164, \"p\": 28031, \"fpr\": 0.587197296789938, \"tpr\": 0.9891191894688024, \"n\": 5327}, {\"threshold\": 0.020999999716877937, \"p\": 28031, \"fpr\": 0.5836305612915337, \"tpr\": 0.988940815525668, \"n\": 5327}, {\"threshold\": 0.02199999988079071, \"p\": 28031, \"fpr\": 0.580814717477004, \"tpr\": 0.988655417216653, \"n\": 5327}, {\"threshold\": 0.023000000044703484, \"p\": 28031, \"fpr\": 0.5787497653463488, \"tpr\": 0.9885483928507723, \"n\": 5327}, {\"threshold\": 0.024000000208616257, \"p\": 28031, \"fpr\": 0.5744321381640698, \"tpr\": 0.9884056936962649, \"n\": 5327}, {\"threshold\": 0.02500000037252903, \"p\": 28031, \"fpr\": 0.5712408485076028, \"tpr\": 0.9882273197531305, \"n\": 5327}, {\"threshold\": 0.026000000536441803, \"p\": 28031, \"fpr\": 0.5676741130091985, \"tpr\": 0.9881202953872499, \"n\": 5327}, {\"threshold\": 0.027000000700354576, \"p\": 28031, \"fpr\": 0.5644828233527314, \"tpr\": 0.9878705718668617, \"n\": 5327}, {\"threshold\": 0.02800000086426735, \"p\": 28031, \"fpr\": 0.5616669795382017, \"tpr\": 0.9876921979237273, \"n\": 5327}, {\"threshold\": 0.028999999165534973, \"p\": 28031, \"fpr\": 0.5581002440397973, \"tpr\": 0.9875494987692198, \"n\": 5327}, {\"threshold\": 0.029999999329447746, \"p\": 28031, \"fpr\": 0.5543457856204242, \"tpr\": 0.9872641004602047, \"n\": 5327}, {\"threshold\": 0.03099999949336052, \"p\": 28031, \"fpr\": 0.552844002252675, \"tpr\": 0.9871570760943241, \"n\": 5327}, {\"threshold\": 0.03200000151991844, \"p\": 28031, \"fpr\": 0.549089543833302, \"tpr\": 0.986907352573936, \"n\": 5327}, {\"threshold\": 0.032999999821186066, \"p\": 28031, \"fpr\": 0.5449596395719918, \"tpr\": 0.9867646534194285, \"n\": 5327}, {\"threshold\": 0.03400000184774399, \"p\": 28031, \"fpr\": 0.5430824103623052, \"tpr\": 0.9866576290535478, \"n\": 5327}, {\"threshold\": 0.03500000014901161, \"p\": 28031, \"fpr\": 0.5412051811526187, \"tpr\": 0.9865862794762941, \"n\": 5327}, {\"threshold\": 0.035999998450279236, \"p\": 28031, \"fpr\": 0.5391402290219636, \"tpr\": 0.9864792551104135, \"n\": 5327}, {\"threshold\": 0.03700000047683716, \"p\": 28031, \"fpr\": 0.5366998310493711, \"tpr\": 0.9864079055331597, \"n\": 5327}, {\"threshold\": 0.03799999877810478, \"p\": 28031, \"fpr\": 0.533508541392904, \"tpr\": 0.986051157646891, \"n\": 5327}, {\"threshold\": 0.039000000804662704, \"p\": 28031, \"fpr\": 0.5323822038670921, \"tpr\": 0.9858014341265028, \"n\": 5327}, {\"threshold\": 0.03999999910593033, \"p\": 28031, \"fpr\": 0.5312558663412803, \"tpr\": 0.9856587349719953, \"n\": 5327}, {\"threshold\": 0.04100000113248825, \"p\": 28031, \"fpr\": 0.5290031912896564, \"tpr\": 0.9855873853947416, \"n\": 5327}, {\"threshold\": 0.041999999433755875, \"p\": 28031, \"fpr\": 0.525999624554158, \"tpr\": 0.9854446862402341, \"n\": 5327}, {\"threshold\": 0.0430000014603138, \"p\": 28031, \"fpr\": 0.5248732870283461, \"tpr\": 0.9852663122970996, \"n\": 5327}, {\"threshold\": 0.04399999976158142, \"p\": 28031, \"fpr\": 0.5224328890557537, \"tpr\": 0.985159287931219, \"n\": 5327}, {\"threshold\": 0.04500000178813934, \"p\": 28031, \"fpr\": 0.5213065515299418, \"tpr\": 0.9850165887767115, \"n\": 5327}, {\"threshold\": 0.04600000008940697, \"p\": 28031, \"fpr\": 0.5184907077154121, \"tpr\": 0.9849809139880846, \"n\": 5327}, {\"threshold\": 0.04699999839067459, \"p\": 28031, \"fpr\": 0.5166134785057256, \"tpr\": 0.9847668652563234, \"n\": 5327}, {\"threshold\": 0.04800000041723251, \"p\": 28031, \"fpr\": 0.5143608034541017, \"tpr\": 0.9845528165245621, \"n\": 5327}, {\"threshold\": 0.04899999871850014, \"p\": 28031, \"fpr\": 0.5132344659282898, \"tpr\": 0.9844101173700546, \"n\": 5327}, {\"threshold\": 0.05000000074505806, \"p\": 28031, \"fpr\": 0.5113572367186033, \"tpr\": 0.9842674182155471, \"n\": 5327}, {\"threshold\": 0.050999999046325684, \"p\": 28031, \"fpr\": 0.5081659470621362, \"tpr\": 0.9840533694837859, \"n\": 5327}, {\"threshold\": 0.052000001072883606, \"p\": 28031, \"fpr\": 0.5055378261685752, \"tpr\": 0.9839106703292783, \"n\": 5327}, {\"threshold\": 0.05299999937415123, \"p\": 28031, \"fpr\": 0.504036042800826, \"tpr\": 0.9837679711747708, \"n\": 5327}, {\"threshold\": 0.05400000140070915, \"p\": 28031, \"fpr\": 0.5019710906701709, \"tpr\": 0.9835895972316364, \"n\": 5327}, {\"threshold\": 0.054999999701976776, \"p\": 28031, \"fpr\": 0.500844753144359, \"tpr\": 0.9835182476543827, \"n\": 5327}, {\"threshold\": 0.0560000017285347, \"p\": 28031, \"fpr\": 0.49840435517176646, \"tpr\": 0.9834825728657558, \"n\": 5327}, {\"threshold\": 0.05700000002980232, \"p\": 28031, \"fpr\": 0.4963394030411113, \"tpr\": 0.9832685241339945, \"n\": 5327}, {\"threshold\": 0.057999998331069946, \"p\": 28031, \"fpr\": 0.4940867279894875, \"tpr\": 0.983125824979487, \"n\": 5327}, {\"threshold\": 0.05900000035762787, \"p\": 28031, \"fpr\": 0.4929603904636756, \"tpr\": 0.9829831258249795, \"n\": 5327}, {\"threshold\": 0.05999999865889549, \"p\": 28031, \"fpr\": 0.49051999249108313, \"tpr\": 0.9829474510363526, \"n\": 5327}, {\"threshold\": 0.061000000685453415, \"p\": 28031, \"fpr\": 0.48845504036042803, \"tpr\": 0.9827334023045914, \"n\": 5327}, {\"threshold\": 0.06199999898672104, \"p\": 28031, \"fpr\": 0.4865778111507415, \"tpr\": 0.9826620527273376, \"n\": 5327}, {\"threshold\": 0.06300000101327896, \"p\": 28031, \"fpr\": 0.48545147362492963, \"tpr\": 0.9825550283614569, \"n\": 5327}, {\"threshold\": 0.06400000303983688, \"p\": 28031, \"fpr\": 0.4843251360991177, \"tpr\": 0.9824123292069494, \"n\": 5327}, {\"threshold\": 0.06499999761581421, \"p\": 28031, \"fpr\": 0.48301107565233714, \"tpr\": 0.9824123292069494, \"n\": 5327}, {\"threshold\": 0.06599999964237213, \"p\": 28031, \"fpr\": 0.4824479068894312, \"tpr\": 0.9824123292069494, \"n\": 5327}, {\"threshold\": 0.06700000166893005, \"p\": 28031, \"fpr\": 0.4816970152055566, \"tpr\": 0.9823409796296957, \"n\": 5327}, {\"threshold\": 0.06800000369548798, \"p\": 28031, \"fpr\": 0.4805706776797447, \"tpr\": 0.9821626056865613, \"n\": 5327}, {\"threshold\": 0.0689999982714653, \"p\": 28031, \"fpr\": 0.4794443401539328, \"tpr\": 0.9821269308979345, \"n\": 5327}, {\"threshold\": 0.07000000029802322, \"p\": 28031, \"fpr\": 0.4786934484700582, \"tpr\": 0.9820199065320538, \"n\": 5327}, {\"threshold\": 0.07100000232458115, \"p\": 28031, \"fpr\": 0.4773793880232776, \"tpr\": 0.981984231743427, \"n\": 5327}, {\"threshold\": 0.07199999690055847, \"p\": 28031, \"fpr\": 0.4760653275764971, \"tpr\": 0.981984231743427, \"n\": 5327}, {\"threshold\": 0.0729999989271164, \"p\": 28031, \"fpr\": 0.4741880983668106, \"tpr\": 0.9819485569548, \"n\": 5327}, {\"threshold\": 0.07400000095367432, \"p\": 28031, \"fpr\": 0.4726863149990614, \"tpr\": 0.9818415325889194, \"n\": 5327}, {\"threshold\": 0.07500000298023224, \"p\": 28031, \"fpr\": 0.47080908578937486, \"tpr\": 0.9817345082230388, \"n\": 5327}, {\"threshold\": 0.07599999755620956, \"p\": 28031, \"fpr\": 0.4698704711845316, \"tpr\": 0.9815561342799044, \"n\": 5327}, {\"threshold\": 0.07699999958276749, \"p\": 28031, \"fpr\": 0.46855641073775106, \"tpr\": 0.9815204594912775, \"n\": 5327}, {\"threshold\": 0.07800000160932541, \"p\": 28031, \"fpr\": 0.4676177961329078, \"tpr\": 0.9812350611822624, \"n\": 5327}, {\"threshold\": 0.07900000363588333, \"p\": 28031, \"fpr\": 0.4666791815280646, \"tpr\": 0.9812350611822624, \"n\": 5327}, {\"threshold\": 0.07999999821186066, \"p\": 28031, \"fpr\": 0.4657405669232213, \"tpr\": 0.9811280368163818, \"n\": 5327}, {\"threshold\": 0.08100000023841858, \"p\": 28031, \"fpr\": 0.4649896752393467, \"tpr\": 0.981092362027755, \"n\": 5327}, {\"threshold\": 0.0820000022649765, \"p\": 28031, \"fpr\": 0.4634878918715975, \"tpr\": 0.9810566872391281, \"n\": 5327}, {\"threshold\": 0.08299999684095383, \"p\": 28031, \"fpr\": 0.4619861085038483, \"tpr\": 0.9808426385073669, \"n\": 5327}, {\"threshold\": 0.08399999886751175, \"p\": 28031, \"fpr\": 0.4606720480570678, \"tpr\": 0.9807356141414862, \"n\": 5327}, {\"threshold\": 0.08500000089406967, \"p\": 28031, \"fpr\": 0.45860709592641263, \"tpr\": 0.9807356141414862, \"n\": 5327}, {\"threshold\": 0.0860000029206276, \"p\": 28031, \"fpr\": 0.45766848132156934, \"tpr\": 0.9806642645642325, \"n\": 5327}, {\"threshold\": 0.08699999749660492, \"p\": 28031, \"fpr\": 0.45616669795382014, \"tpr\": 0.9805929149869786, \"n\": 5327}, {\"threshold\": 0.08799999952316284, \"p\": 28031, \"fpr\": 0.45466491458607095, \"tpr\": 0.9803788662552174, \"n\": 5327}, {\"threshold\": 0.08900000154972076, \"p\": 28031, \"fpr\": 0.454101745823165, \"tpr\": 0.9802004923120831, \"n\": 5327}, {\"threshold\": 0.09000000357627869, \"p\": 28031, \"fpr\": 0.45316313121832175, \"tpr\": 0.9801291427348293, \"n\": 5327}, {\"threshold\": 0.09099999815225601, \"p\": 28031, \"fpr\": 0.4522245166134785, \"tpr\": 0.9800221183689487, \"n\": 5327}, {\"threshold\": 0.09200000017881393, \"p\": 28031, \"fpr\": 0.4510981790876666, \"tpr\": 0.9800221183689487, \"n\": 5327}, {\"threshold\": 0.09300000220537186, \"p\": 28031, \"fpr\": 0.4497841186408861, \"tpr\": 0.9798794192144411, \"n\": 5327}, {\"threshold\": 0.09399999678134918, \"p\": 28031, \"fpr\": 0.4490332269570115, \"tpr\": 0.9798080696371874, \"n\": 5327}, {\"threshold\": 0.0949999988079071, \"p\": 28031, \"fpr\": 0.4480946123521682, \"tpr\": 0.9797010452713067, \"n\": 5327}, {\"threshold\": 0.09600000083446503, \"p\": 28031, \"fpr\": 0.44715599774732495, \"tpr\": 0.9795940209054261, \"n\": 5327}, {\"threshold\": 0.09700000286102295, \"p\": 28031, \"fpr\": 0.44640510606345035, \"tpr\": 0.9795583461167993, \"n\": 5327}, {\"threshold\": 0.09799999743700027, \"p\": 28031, \"fpr\": 0.44565421437957575, \"tpr\": 0.979344297385038, \"n\": 5327}, {\"threshold\": 0.0989999994635582, \"p\": 28031, \"fpr\": 0.4447155997747325, \"tpr\": 0.9791302486532767, \"n\": 5327}, {\"threshold\": 0.10000000149011612, \"p\": 28031, \"fpr\": 0.4437769851698892, \"tpr\": 0.979058899076023, \"n\": 5327}, {\"threshold\": 0.10100000351667404, \"p\": 28031, \"fpr\": 0.44189975596020276, \"tpr\": 0.9789875494987692, \"n\": 5327}, {\"threshold\": 0.10199999809265137, \"p\": 28031, \"fpr\": 0.44039797259245356, \"tpr\": 0.9788805251328886, \"n\": 5327}, {\"threshold\": 0.10300000011920929, \"p\": 28031, \"fpr\": 0.43964708090857896, \"tpr\": 0.9788448503442617, \"n\": 5327}, {\"threshold\": 0.10400000214576721, \"p\": 28031, \"fpr\": 0.43852074338276703, \"tpr\": 0.9786664764011274, \"n\": 5327}, {\"threshold\": 0.10499999672174454, \"p\": 28031, \"fpr\": 0.43814529754082976, \"tpr\": 0.9784881024579929, \"n\": 5327}, {\"threshold\": 0.10599999874830246, \"p\": 28031, \"fpr\": 0.43645579125211187, \"tpr\": 0.9783454033034854, \"n\": 5327}, {\"threshold\": 0.10700000077486038, \"p\": 28031, \"fpr\": 0.4353294537263, \"tpr\": 0.9783097285148585, \"n\": 5327}, {\"threshold\": 0.1080000028014183, \"p\": 28031, \"fpr\": 0.43476628496339403, \"tpr\": 0.9782383789376048, \"n\": 5327}, {\"threshold\": 0.10899999737739563, \"p\": 28031, \"fpr\": 0.4336399474375821, \"tpr\": 0.9780600049944704, \"n\": 5327}, {\"threshold\": 0.10999999940395355, \"p\": 28031, \"fpr\": 0.4328890557537075, \"tpr\": 0.9779529806285898, \"n\": 5327}, {\"threshold\": 0.11100000143051147, \"p\": 28031, \"fpr\": 0.4313872723859583, \"tpr\": 0.977917305839963, \"n\": 5327}, {\"threshold\": 0.1120000034570694, \"p\": 28031, \"fpr\": 0.4308241036230524, \"tpr\": 0.9777746066854553, \"n\": 5327}, {\"threshold\": 0.11299999803304672, \"p\": 28031, \"fpr\": 0.43007321193917775, \"tpr\": 0.9776319075309479, \"n\": 5327}, {\"threshold\": 0.11400000005960464, \"p\": 28031, \"fpr\": 0.42932232025530315, \"tpr\": 0.977596232742321, \"n\": 5327}, {\"threshold\": 0.11500000208616257, \"p\": 28031, \"fpr\": 0.42782053688755395, \"tpr\": 0.9774535335878135, \"n\": 5327}, {\"threshold\": 0.11599999666213989, \"p\": 28031, \"fpr\": 0.4268819222827107, \"tpr\": 0.9774178587991866, \"n\": 5327}, {\"threshold\": 0.11699999868869781, \"p\": 28031, \"fpr\": 0.42631875351980475, \"tpr\": 0.977310834433306, \"n\": 5327}, {\"threshold\": 0.11800000071525574, \"p\": 28031, \"fpr\": 0.4261310305988361, \"tpr\": 0.9772394848560523, \"n\": 5327}, {\"threshold\": 0.11900000274181366, \"p\": 28031, \"fpr\": 0.4253801389149615, \"tpr\": 0.9772038100674254, \"n\": 5327}, {\"threshold\": 0.11999999731779099, \"p\": 28031, \"fpr\": 0.4246292472310869, \"tpr\": 0.9771324604901716, \"n\": 5327}, {\"threshold\": 0.12099999934434891, \"p\": 28031, \"fpr\": 0.42406607846818095, \"tpr\": 0.9768827369697834, \"n\": 5327}, {\"threshold\": 0.12200000137090683, \"p\": 28031, \"fpr\": 0.42406607846818095, \"tpr\": 0.9767757126039028, \"n\": 5327}, {\"threshold\": 0.12300000339746475, \"p\": 28031, \"fpr\": 0.4238783555472123, \"tpr\": 0.9767043630266491, \"n\": 5327}, {\"threshold\": 0.12399999797344208, \"p\": 28031, \"fpr\": 0.4227520180214004, \"tpr\": 0.9765973386607685, \"n\": 5327}, {\"threshold\": 0.125, \"p\": 28031, \"fpr\": 0.4221888492584945, \"tpr\": 0.9765616638721416, \"n\": 5327}, {\"threshold\": 0.12600000202655792, \"p\": 28031, \"fpr\": 0.4212502346536512, \"tpr\": 0.9765616638721416, \"n\": 5327}, {\"threshold\": 0.12700000405311584, \"p\": 28031, \"fpr\": 0.4204993429697766, \"tpr\": 0.9763832899290071, \"n\": 5327}, {\"threshold\": 0.12800000607967377, \"p\": 28031, \"fpr\": 0.419748451285902, \"tpr\": 0.9763476151403803, \"n\": 5327}, {\"threshold\": 0.1289999932050705, \"p\": 28031, \"fpr\": 0.4191852825229961, \"tpr\": 0.976133566408619, \"n\": 5327}, {\"threshold\": 0.12999999523162842, \"p\": 28031, \"fpr\": 0.41805894499718416, \"tpr\": 0.9759195176768578, \"n\": 5327}, {\"threshold\": 0.13099999725818634, \"p\": 28031, \"fpr\": 0.4174957762342782, \"tpr\": 0.9758838428882309, \"n\": 5327}, {\"threshold\": 0.13199999928474426, \"p\": 28031, \"fpr\": 0.41618171578749763, \"tpr\": 0.9757054689450965, \"n\": 5327}, {\"threshold\": 0.13300000131130219, \"p\": 28031, \"fpr\": 0.4156185470245917, \"tpr\": 0.9756341193678427, \"n\": 5327}, {\"threshold\": 0.1340000033378601, \"p\": 28031, \"fpr\": 0.4144922094987798, \"tpr\": 0.9754914202133352, \"n\": 5327}, {\"threshold\": 0.13500000536441803, \"p\": 28031, \"fpr\": 0.41280270321006196, \"tpr\": 0.9753843958474546, \"n\": 5327}, {\"threshold\": 0.13600000739097595, \"p\": 28031, \"fpr\": 0.41205181152618736, \"tpr\": 0.9753843958474546, \"n\": 5327}, {\"threshold\": 0.13699999451637268, \"p\": 28031, \"fpr\": 0.41092547400037543, \"tpr\": 0.9751346723270664, \"n\": 5327}, {\"threshold\": 0.1379999965429306, \"p\": 28031, \"fpr\": 0.41036230523746947, \"tpr\": 0.9750989975384395, \"n\": 5327}, {\"threshold\": 0.13899999856948853, \"p\": 28031, \"fpr\": 0.40942369063262624, \"tpr\": 0.9750633227498127, \"n\": 5327}, {\"threshold\": 0.14000000059604645, \"p\": 28031, \"fpr\": 0.4092359677116576, \"tpr\": 0.9750276479611858, \"n\": 5327}, {\"threshold\": 0.14100000262260437, \"p\": 28031, \"fpr\": 0.40904824479068896, \"tpr\": 0.9749919731725589, \"n\": 5327}, {\"threshold\": 0.1420000046491623, \"p\": 28031, \"fpr\": 0.40829735310681436, \"tpr\": 0.974956298383932, \"n\": 5327}, {\"threshold\": 0.14300000667572021, \"p\": 28031, \"fpr\": 0.4073587385019711, \"tpr\": 0.9749206235953052, \"n\": 5327}, {\"threshold\": 0.14399999380111694, \"p\": 28031, \"fpr\": 0.4069832926600338, \"tpr\": 0.9749206235953052, \"n\": 5327}, {\"threshold\": 0.14499999582767487, \"p\": 28031, \"fpr\": 0.4052937863713159, \"tpr\": 0.9748849488066783, \"n\": 5327}, {\"threshold\": 0.1459999978542328, \"p\": 28031, \"fpr\": 0.4045428946874413, \"tpr\": 0.9748135992294246, \"n\": 5327}, {\"threshold\": 0.1469999998807907, \"p\": 28031, \"fpr\": 0.40341655716162944, \"tpr\": 0.9747422496521708, \"n\": 5327}, {\"threshold\": 0.14800000190734863, \"p\": 28031, \"fpr\": 0.4032288342406608, \"tpr\": 0.9746352252862902, \"n\": 5327}, {\"threshold\": 0.14900000393390656, \"p\": 28031, \"fpr\": 0.40266566547775484, \"tpr\": 0.9745995504976633, \"n\": 5327}, {\"threshold\": 0.15000000596046448, \"p\": 28031, \"fpr\": 0.4021024967148489, \"tpr\": 0.9745282009204096, \"n\": 5327}, {\"threshold\": 0.1509999930858612, \"p\": 28031, \"fpr\": 0.400976159189037, \"tpr\": 0.9744925261317827, \"n\": 5327}, {\"threshold\": 0.15199999511241913, \"p\": 28031, \"fpr\": 0.400976159189037, \"tpr\": 0.9744211765545289, \"n\": 5327}, {\"threshold\": 0.15299999713897705, \"p\": 28031, \"fpr\": 0.40041299042613104, \"tpr\": 0.9742784774000214, \"n\": 5327}, {\"threshold\": 0.15399999916553497, \"p\": 28031, \"fpr\": 0.3992866529003191, \"tpr\": 0.9741357782455139, \"n\": 5327}, {\"threshold\": 0.1550000011920929, \"p\": 28031, \"fpr\": 0.39891120705838184, \"tpr\": 0.9739930790910064, \"n\": 5327}, {\"threshold\": 0.15600000321865082, \"p\": 28031, \"fpr\": 0.3983480382954759, \"tpr\": 0.9739217295137527, \"n\": 5327}, {\"threshold\": 0.15700000524520874, \"p\": 28031, \"fpr\": 0.39816031537450725, \"tpr\": 0.973814705147872, \"n\": 5327}, {\"threshold\": 0.15800000727176666, \"p\": 28031, \"fpr\": 0.39740942369063265, \"tpr\": 0.9737433555706182, \"n\": 5327}, {\"threshold\": 0.1589999943971634, \"p\": 28031, \"fpr\": 0.39722170076966395, \"tpr\": 0.9737076807819913, \"n\": 5327}, {\"threshold\": 0.1599999964237213, \"p\": 28031, \"fpr\": 0.39665853200675805, \"tpr\": 0.9737076807819913, \"n\": 5327}, {\"threshold\": 0.16099999845027924, \"p\": 28031, \"fpr\": 0.39590764032288345, \"tpr\": 0.9736363312047376, \"n\": 5327}, {\"threshold\": 0.16200000047683716, \"p\": 28031, \"fpr\": 0.3953444715599775, \"tpr\": 0.9735649816274838, \"n\": 5327}, {\"threshold\": 0.16300000250339508, \"p\": 28031, \"fpr\": 0.39496902571804016, \"tpr\": 0.9734936320502301, \"n\": 5327}, {\"threshold\": 0.164000004529953, \"p\": 28031, \"fpr\": 0.3940304111131969, \"tpr\": 0.9734579572616032, \"n\": 5327}, {\"threshold\": 0.16500000655651093, \"p\": 28031, \"fpr\": 0.3932795194293223, \"tpr\": 0.9733152581070957, \"n\": 5327}, {\"threshold\": 0.16599999368190765, \"p\": 28031, \"fpr\": 0.392904073587385, \"tpr\": 0.973243908529842, \"n\": 5327}, {\"threshold\": 0.16699999570846558, \"p\": 28031, \"fpr\": 0.3925286277454477, \"tpr\": 0.9731368841639614, \"n\": 5327}, {\"threshold\": 0.1679999977350235, \"p\": 28031, \"fpr\": 0.3921531819035104, \"tpr\": 0.9730655345867075, \"n\": 5327}, {\"threshold\": 0.16899999976158142, \"p\": 28031, \"fpr\": 0.3914022902196358, \"tpr\": 0.9729585102208269, \"n\": 5327}, {\"threshold\": 0.17000000178813934, \"p\": 28031, \"fpr\": 0.3900882297728553, \"tpr\": 0.9728514858549463, \"n\": 5327}, {\"threshold\": 0.17100000381469727, \"p\": 28031, \"fpr\": 0.38896189224704336, \"tpr\": 0.9728514858549463, \"n\": 5327}, {\"threshold\": 0.1720000058412552, \"p\": 28031, \"fpr\": 0.3885864464051061, \"tpr\": 0.9727801362776926, \"n\": 5327}, {\"threshold\": 0.17299999296665192, \"p\": 28031, \"fpr\": 0.3876478318002628, \"tpr\": 0.9727801362776926, \"n\": 5327}, {\"threshold\": 0.17399999499320984, \"p\": 28031, \"fpr\": 0.38746010887929416, \"tpr\": 0.9727087867004388, \"n\": 5327}, {\"threshold\": 0.17499999701976776, \"p\": 28031, \"fpr\": 0.3872723859583255, \"tpr\": 0.9725660875459313, \"n\": 5327}, {\"threshold\": 0.17599999904632568, \"p\": 28031, \"fpr\": 0.3865214942744509, \"tpr\": 0.9725304127573045, \"n\": 5327}, {\"threshold\": 0.1770000010728836, \"p\": 28031, \"fpr\": 0.38501971090670173, \"tpr\": 0.9724590631800507, \"n\": 5327}, {\"threshold\": 0.17800000309944153, \"p\": 28031, \"fpr\": 0.38426881922282713, \"tpr\": 0.97235203881417, \"n\": 5327}, {\"threshold\": 0.17900000512599945, \"p\": 28031, \"fpr\": 0.3838933733808898, \"tpr\": 0.9722806892369162, \"n\": 5327}, {\"threshold\": 0.18000000715255737, \"p\": 28031, \"fpr\": 0.38295475877604657, \"tpr\": 0.9721736648710356, \"n\": 5327}, {\"threshold\": 0.1809999942779541, \"p\": 28031, \"fpr\": 0.3823915900131406, \"tpr\": 0.9721023152937819, \"n\": 5327}, {\"threshold\": 0.18199999630451202, \"p\": 28031, \"fpr\": 0.381640698329266, \"tpr\": 0.9718882665620207, \"n\": 5327}, {\"threshold\": 0.18299999833106995, \"p\": 28031, \"fpr\": 0.3808898066453914, \"tpr\": 0.9717455674075131, \"n\": 5327}, {\"threshold\": 0.18400000035762787, \"p\": 28031, \"fpr\": 0.3805143608034541, \"tpr\": 0.9716028682530056, \"n\": 5327}, {\"threshold\": 0.1850000023841858, \"p\": 28031, \"fpr\": 0.3801389149615168, \"tpr\": 0.9715315186757518, \"n\": 5327}, {\"threshold\": 0.1860000044107437, \"p\": 28031, \"fpr\": 0.37920030035667357, \"tpr\": 0.9715315186757518, \"n\": 5327}, {\"threshold\": 0.18700000643730164, \"p\": 28031, \"fpr\": 0.37807396283086164, \"tpr\": 0.9713888195212443, \"n\": 5327}, {\"threshold\": 0.18799999356269836, \"p\": 28031, \"fpr\": 0.37807396283086164, \"tpr\": 0.9713531447326175, \"n\": 5327}, {\"threshold\": 0.1889999955892563, \"p\": 28031, \"fpr\": 0.37769851698892437, \"tpr\": 0.9712817951553637, \"n\": 5327}, {\"threshold\": 0.1899999976158142, \"p\": 28031, \"fpr\": 0.37732307114698704, \"tpr\": 0.9711390960008562, \"n\": 5327}, {\"threshold\": 0.19099999964237213, \"p\": 28031, \"fpr\": 0.3767599023840811, \"tpr\": 0.9710677464236024, \"n\": 5327}, {\"threshold\": 0.19200000166893005, \"p\": 28031, \"fpr\": 0.37657217946311244, \"tpr\": 0.9709607220577218, \"n\": 5327}, {\"threshold\": 0.19300000369548798, \"p\": 28031, \"fpr\": 0.3760090107002065, \"tpr\": 0.970889372480468, \"n\": 5327}, {\"threshold\": 0.1940000057220459, \"p\": 28031, \"fpr\": 0.3756335648582692, \"tpr\": 0.9708180229032143, \"n\": 5327}, {\"threshold\": 0.19499999284744263, \"p\": 28031, \"fpr\": 0.3752581190163319, \"tpr\": 0.9707466733259605, \"n\": 5327}, {\"threshold\": 0.19599999487400055, \"p\": 28031, \"fpr\": 0.3748826731743946, \"tpr\": 0.9706753237487068, \"n\": 5327}, {\"threshold\": 0.19699999690055847, \"p\": 28031, \"fpr\": 0.3746949502534259, \"tpr\": 0.9706396489600799, \"n\": 5327}, {\"threshold\": 0.1979999989271164, \"p\": 28031, \"fpr\": 0.3745072273324573, \"tpr\": 0.970603974171453, \"n\": 5327}, {\"threshold\": 0.19900000095367432, \"p\": 28031, \"fpr\": 0.37413178149052, \"tpr\": 0.9704969498055724, \"n\": 5327}, {\"threshold\": 0.20000000298023224, \"p\": 28031, \"fpr\": 0.3733808898066454, \"tpr\": 0.9704612750169456, \"n\": 5327}, {\"threshold\": 0.20100000500679016, \"p\": 28031, \"fpr\": 0.37281772104373945, \"tpr\": 0.9704256002283187, \"n\": 5327}, {\"threshold\": 0.20200000703334808, \"p\": 28031, \"fpr\": 0.3724422752018021, \"tpr\": 0.9703542506510648, \"n\": 5327}, {\"threshold\": 0.2029999941587448, \"p\": 28031, \"fpr\": 0.3724422752018021, \"tpr\": 0.970318575862438, \"n\": 5327}, {\"threshold\": 0.20399999618530273, \"p\": 28031, \"fpr\": 0.3718791064388962, \"tpr\": 0.9701758767079305, \"n\": 5327}, {\"threshold\": 0.20499999821186066, \"p\": 28031, \"fpr\": 0.3707527689130843, \"tpr\": 0.9699975027647961, \"n\": 5327}, {\"threshold\": 0.20600000023841858, \"p\": 28031, \"fpr\": 0.36981415430824105, \"tpr\": 0.9699261531875424, \"n\": 5327}, {\"threshold\": 0.2070000022649765, \"p\": 28031, \"fpr\": 0.3694387084663037, \"tpr\": 0.9699261531875424, \"n\": 5327}, {\"threshold\": 0.20800000429153442, \"p\": 28031, \"fpr\": 0.36906326262436645, \"tpr\": 0.9698191288216618, \"n\": 5327}, {\"threshold\": 0.20900000631809235, \"p\": 28031, \"fpr\": 0.36812464801952316, \"tpr\": 0.969747779244408, \"n\": 5327}, {\"threshold\": 0.20999999344348907, \"p\": 28031, \"fpr\": 0.36681058757274265, \"tpr\": 0.9696764296671542, \"n\": 5327}, {\"threshold\": 0.210999995470047, \"p\": 28031, \"fpr\": 0.3664351417308053, \"tpr\": 0.9695694053012736, \"n\": 5327}, {\"threshold\": 0.21199999749660492, \"p\": 28031, \"fpr\": 0.3662474188098367, \"tpr\": 0.9693553565695123, \"n\": 5327}, {\"threshold\": 0.21299999952316284, \"p\": 28031, \"fpr\": 0.3656842500469307, \"tpr\": 0.9693196817808855, \"n\": 5327}, {\"threshold\": 0.21400000154972076, \"p\": 28031, \"fpr\": 0.36530880420499345, \"tpr\": 0.9692126574150048, \"n\": 5327}, {\"threshold\": 0.2150000035762787, \"p\": 28031, \"fpr\": 0.3647456354420875, \"tpr\": 0.969176982626378, \"n\": 5327}, {\"threshold\": 0.2160000056028366, \"p\": 28031, \"fpr\": 0.36380702083724425, \"tpr\": 0.9691056330491242, \"n\": 5327}, {\"threshold\": 0.21699999272823334, \"p\": 28031, \"fpr\": 0.3634315749953069, \"tpr\": 0.9691056330491242, \"n\": 5327}, {\"threshold\": 0.21799999475479126, \"p\": 28031, \"fpr\": 0.362305237469495, \"tpr\": 0.9691056330491242, \"n\": 5327}, {\"threshold\": 0.21899999678134918, \"p\": 28031, \"fpr\": 0.3617420687065891, \"tpr\": 0.9689986086832435, \"n\": 5327}, {\"threshold\": 0.2199999988079071, \"p\": 28031, \"fpr\": 0.3608034541017458, \"tpr\": 0.9689629338946166, \"n\": 5327}, {\"threshold\": 0.22100000083446503, \"p\": 28031, \"fpr\": 0.3602402853388399, \"tpr\": 0.968855909528736, \"n\": 5327}, {\"threshold\": 0.22200000286102295, \"p\": 28031, \"fpr\": 0.3600525624178712, \"tpr\": 0.968855909528736, \"n\": 5327}, {\"threshold\": 0.22300000488758087, \"p\": 28031, \"fpr\": 0.35967711657593393, \"tpr\": 0.9686418607969748, \"n\": 5327}, {\"threshold\": 0.2240000069141388, \"p\": 28031, \"fpr\": 0.3587385019710907, \"tpr\": 0.968570511219721, \"n\": 5327}, {\"threshold\": 0.22499999403953552, \"p\": 28031, \"fpr\": 0.3579876102872161, \"tpr\": 0.9684991616424673, \"n\": 5327}, {\"threshold\": 0.22599999606609344, \"p\": 28031, \"fpr\": 0.35742444152431013, \"tpr\": 0.9683921372765867, \"n\": 5327}, {\"threshold\": 0.22699999809265137, \"p\": 28031, \"fpr\": 0.35723671860334144, \"tpr\": 0.9681780885448253, \"n\": 5327}, {\"threshold\": 0.2280000001192093, \"p\": 28031, \"fpr\": 0.35667354984043553, \"tpr\": 0.9681067389675716, \"n\": 5327}, {\"threshold\": 0.2290000021457672, \"p\": 28031, \"fpr\": 0.35592265815656093, \"tpr\": 0.9680710641789447, \"n\": 5327}, {\"threshold\": 0.23000000417232513, \"p\": 28031, \"fpr\": 0.3555472123146236, \"tpr\": 0.9680353893903179, \"n\": 5327}, {\"threshold\": 0.23100000619888306, \"p\": 28031, \"fpr\": 0.354796320630749, \"tpr\": 0.9679283650244372, \"n\": 5327}, {\"threshold\": 0.23199999332427979, \"p\": 28031, \"fpr\": 0.35385770602590577, \"tpr\": 0.9678570154471835, \"n\": 5327}, {\"threshold\": 0.2329999953508377, \"p\": 28031, \"fpr\": 0.35348226018396844, \"tpr\": 0.9677856658699298, \"n\": 5327}, {\"threshold\": 0.23399999737739563, \"p\": 28031, \"fpr\": 0.35310681434203117, \"tpr\": 0.9677499910813029, \"n\": 5327}, {\"threshold\": 0.23499999940395355, \"p\": 28031, \"fpr\": 0.35291909142106254, \"tpr\": 0.9677499910813029, \"n\": 5327}, {\"threshold\": 0.23600000143051147, \"p\": 28031, \"fpr\": 0.35198047681621925, \"tpr\": 0.967714316292676, \"n\": 5327}, {\"threshold\": 0.2370000034570694, \"p\": 28031, \"fpr\": 0.351605030974282, \"tpr\": 0.9676786415040491, \"n\": 5327}, {\"threshold\": 0.23800000548362732, \"p\": 28031, \"fpr\": 0.3506664163694387, \"tpr\": 0.9676429667154222, \"n\": 5327}, {\"threshold\": 0.23899999260902405, \"p\": 28031, \"fpr\": 0.3501032476065328, \"tpr\": 0.9676072919267953, \"n\": 5327}, {\"threshold\": 0.23999999463558197, \"p\": 28031, \"fpr\": 0.3499155246855641, \"tpr\": 0.9673218936177803, \"n\": 5327}, {\"threshold\": 0.2409999966621399, \"p\": 28031, \"fpr\": 0.3491646330016895, \"tpr\": 0.9672148692518997, \"n\": 5327}, {\"threshold\": 0.24199999868869781, \"p\": 28031, \"fpr\": 0.34897691008072085, \"tpr\": 0.967143519674646, \"n\": 5327}, {\"threshold\": 0.24300000071525574, \"p\": 28031, \"fpr\": 0.3486014642387836, \"tpr\": 0.9670364953087653, \"n\": 5327}, {\"threshold\": 0.24400000274181366, \"p\": 28031, \"fpr\": 0.34822601839684625, \"tpr\": 0.9669651457315115, \"n\": 5327}, {\"threshold\": 0.24500000476837158, \"p\": 28031, \"fpr\": 0.347287403792003, \"tpr\": 0.9668581213656309, \"n\": 5327}, {\"threshold\": 0.2460000067949295, \"p\": 28031, \"fpr\": 0.3465365121081284, \"tpr\": 0.9667867717883771, \"n\": 5327}, {\"threshold\": 0.24699999392032623, \"p\": 28031, \"fpr\": 0.3465365121081284, \"tpr\": 0.9667154222111234, \"n\": 5327}, {\"threshold\": 0.24799999594688416, \"p\": 28031, \"fpr\": 0.3461610662661911, \"tpr\": 0.9666440726338696, \"n\": 5327}, {\"threshold\": 0.24899999797344208, \"p\": 28031, \"fpr\": 0.3457856204242538, \"tpr\": 0.9665727230566159, \"n\": 5327}, {\"threshold\": 0.25, \"p\": 28031, \"fpr\": 0.3454101745823165, \"tpr\": 0.966537048267989, \"n\": 5327}, {\"threshold\": 0.25099998712539673, \"p\": 28031, \"fpr\": 0.3450347287403792, \"tpr\": 0.9665013734793622, \"n\": 5327}, {\"threshold\": 0.25200000405311584, \"p\": 28031, \"fpr\": 0.3448470058194105, \"tpr\": 0.9663943491134815, \"n\": 5327}, {\"threshold\": 0.2529999911785126, \"p\": 28031, \"fpr\": 0.34447155997747325, \"tpr\": 0.9663229995362278, \"n\": 5327}, {\"threshold\": 0.2540000081062317, \"p\": 28031, \"fpr\": 0.3440961141355359, \"tpr\": 0.9662873247476008, \"n\": 5327}, {\"threshold\": 0.2549999952316284, \"p\": 28031, \"fpr\": 0.34372066829359865, \"tpr\": 0.966251649958974, \"n\": 5327}, {\"threshold\": 0.25600001215934753, \"p\": 28031, \"fpr\": 0.34296977660972405, \"tpr\": 0.9661803003817202, \"n\": 5327}, {\"threshold\": 0.25699999928474426, \"p\": 28031, \"fpr\": 0.3425943307677867, \"tpr\": 0.9661446255930933, \"n\": 5327}, {\"threshold\": 0.257999986410141, \"p\": 28031, \"fpr\": 0.3424066078468181, \"tpr\": 0.9660732760158396, \"n\": 5327}, {\"threshold\": 0.2590000033378601, \"p\": 28031, \"fpr\": 0.3412802703210062, \"tpr\": 0.9660376012272127, \"n\": 5327}, {\"threshold\": 0.25999999046325684, \"p\": 28031, \"fpr\": 0.3410925474000375, \"tpr\": 0.965966251649959, \"n\": 5327}, {\"threshold\": 0.26100000739097595, \"p\": 28031, \"fpr\": 0.3410925474000375, \"tpr\": 0.9658949020727052, \"n\": 5327}, {\"threshold\": 0.2619999945163727, \"p\": 28031, \"fpr\": 0.34071710155810025, \"tpr\": 0.9658949020727052, \"n\": 5327}, {\"threshold\": 0.2630000114440918, \"p\": 28031, \"fpr\": 0.3401539327951943, \"tpr\": 0.9658235524954515, \"n\": 5327}, {\"threshold\": 0.2639999985694885, \"p\": 28031, \"fpr\": 0.339778486953257, \"tpr\": 0.9657522029181977, \"n\": 5327}, {\"threshold\": 0.26499998569488525, \"p\": 28031, \"fpr\": 0.33921531819035106, \"tpr\": 0.9657165281295709, \"n\": 5327}, {\"threshold\": 0.26600000262260437, \"p\": 28031, \"fpr\": 0.33902759526938236, \"tpr\": 0.9655738289750633, \"n\": 5327}, {\"threshold\": 0.2669999897480011, \"p\": 28031, \"fpr\": 0.33808898066453913, \"tpr\": 0.9655381541864364, \"n\": 5327}, {\"threshold\": 0.2680000066757202, \"p\": 28031, \"fpr\": 0.33771353482260186, \"tpr\": 0.9654311298205558, \"n\": 5327}, {\"threshold\": 0.26899999380111694, \"p\": 28031, \"fpr\": 0.33733808898066453, \"tpr\": 0.965359780243302, \"n\": 5327}, {\"threshold\": 0.27000001072883606, \"p\": 28031, \"fpr\": 0.3371503660596959, \"tpr\": 0.965359780243302, \"n\": 5327}, {\"threshold\": 0.2709999978542328, \"p\": 28031, \"fpr\": 0.33696264313872726, \"tpr\": 0.9652170810887946, \"n\": 5327}, {\"threshold\": 0.2720000147819519, \"p\": 28031, \"fpr\": 0.33602402853388397, \"tpr\": 0.9652170810887946, \"n\": 5327}, {\"threshold\": 0.27300000190734863, \"p\": 28031, \"fpr\": 0.33546085977097806, \"tpr\": 0.9651814063001677, \"n\": 5327}, {\"threshold\": 0.27399998903274536, \"p\": 28031, \"fpr\": 0.3348976910080721, \"tpr\": 0.965110056722914, \"n\": 5327}, {\"threshold\": 0.2750000059604645, \"p\": 28031, \"fpr\": 0.33433452224516613, \"tpr\": 0.9650030323570333, \"n\": 5327}, {\"threshold\": 0.2759999930858612, \"p\": 28031, \"fpr\": 0.33395907640322886, \"tpr\": 0.9649673575684065, \"n\": 5327}, {\"threshold\": 0.2770000100135803, \"p\": 28031, \"fpr\": 0.33358363056129153, \"tpr\": 0.9649673575684065, \"n\": 5327}, {\"threshold\": 0.27799999713897705, \"p\": 28031, \"fpr\": 0.3332081847193542, \"tpr\": 0.9648960079911526, \"n\": 5327}, {\"threshold\": 0.27900001406669617, \"p\": 28031, \"fpr\": 0.3326450159564483, \"tpr\": 0.9648603332025257, \"n\": 5327}, {\"threshold\": 0.2800000011920929, \"p\": 28031, \"fpr\": 0.3324572930354796, \"tpr\": 0.9648603332025257, \"n\": 5327}, {\"threshold\": 0.2809999883174896, \"p\": 28031, \"fpr\": 0.33208184719354233, \"tpr\": 0.9647533088366451, \"n\": 5327}, {\"threshold\": 0.28200000524520874, \"p\": 28031, \"fpr\": 0.33208184719354233, \"tpr\": 0.9647176340480182, \"n\": 5327}, {\"threshold\": 0.28299999237060547, \"p\": 28031, \"fpr\": 0.3311432325886991, \"tpr\": 0.9646106096821376, \"n\": 5327}, {\"threshold\": 0.2840000092983246, \"p\": 28031, \"fpr\": 0.33076778674676177, \"tpr\": 0.964503585316257, \"n\": 5327}, {\"threshold\": 0.2849999964237213, \"p\": 28031, \"fpr\": 0.3302046179838558, \"tpr\": 0.9643965609503764, \"n\": 5327}, {\"threshold\": 0.28600001335144043, \"p\": 28031, \"fpr\": 0.33001689506288717, \"tpr\": 0.9643608861617495, \"n\": 5327}, {\"threshold\": 0.28700000047683716, \"p\": 28031, \"fpr\": 0.3294537262999812, \"tpr\": 0.9642181870072419, \"n\": 5327}, {\"threshold\": 0.2879999876022339, \"p\": 28031, \"fpr\": 0.3288905575370753, \"tpr\": 0.9641111626413613, \"n\": 5327}, {\"threshold\": 0.289000004529953, \"p\": 28031, \"fpr\": 0.328515111695138, \"tpr\": 0.9640041382754807, \"n\": 5327}, {\"threshold\": 0.28999999165534973, \"p\": 28031, \"fpr\": 0.3281396658532007, \"tpr\": 0.9638614391209732, \"n\": 5327}, {\"threshold\": 0.29100000858306885, \"p\": 28031, \"fpr\": 0.32757649709029474, \"tpr\": 0.9637900895437195, \"n\": 5327}, {\"threshold\": 0.2919999957084656, \"p\": 28031, \"fpr\": 0.3272010512483574, \"tpr\": 0.9636830651778389, \"n\": 5327}, {\"threshold\": 0.2930000126361847, \"p\": 28031, \"fpr\": 0.32663788248545145, \"tpr\": 0.9636117156005851, \"n\": 5327}, {\"threshold\": 0.2939999997615814, \"p\": 28031, \"fpr\": 0.32663788248545145, \"tpr\": 0.9634690164460775, \"n\": 5327}, {\"threshold\": 0.29499998688697815, \"p\": 28031, \"fpr\": 0.3264501595644828, \"tpr\": 0.9633619920801969, \"n\": 5327}, {\"threshold\": 0.29600000381469727, \"p\": 28031, \"fpr\": 0.32588699080157685, \"tpr\": 0.96332631729157, \"n\": 5327}, {\"threshold\": 0.296999990940094, \"p\": 28031, \"fpr\": 0.32513609911770225, \"tpr\": 0.9632549677143163, \"n\": 5327}, {\"threshold\": 0.2980000078678131, \"p\": 28031, \"fpr\": 0.3249483761967336, \"tpr\": 0.9631479433484357, \"n\": 5327}, {\"threshold\": 0.29899999499320984, \"p\": 28031, \"fpr\": 0.32438520743382765, \"tpr\": 0.9631122685598088, \"n\": 5327}, {\"threshold\": 0.30000001192092896, \"p\": 28031, \"fpr\": 0.324197484512859, \"tpr\": 0.9629695694053013, \"n\": 5327}, {\"threshold\": 0.3009999990463257, \"p\": 28031, \"fpr\": 0.3234465928289844, \"tpr\": 0.9629338946166744, \"n\": 5327}, {\"threshold\": 0.3019999861717224, \"p\": 28031, \"fpr\": 0.3232588699080158, \"tpr\": 0.9628268702507937, \"n\": 5327}, {\"threshold\": 0.30300000309944153, \"p\": 28031, \"fpr\": 0.3226957011451098, \"tpr\": 0.9628268702507937, \"n\": 5327}, {\"threshold\": 0.30399999022483826, \"p\": 28031, \"fpr\": 0.32213253238220385, \"tpr\": 0.96275552067354, \"n\": 5327}, {\"threshold\": 0.3050000071525574, \"p\": 28031, \"fpr\": 0.32156936361929794, \"tpr\": 0.9626841710962862, \"n\": 5327}, {\"threshold\": 0.3059999942779541, \"p\": 28031, \"fpr\": 0.321006194856392, \"tpr\": 0.9625771467304056, \"n\": 5327}, {\"threshold\": 0.3070000112056732, \"p\": 28031, \"fpr\": 0.321006194856392, \"tpr\": 0.9625057971531519, \"n\": 5327}, {\"threshold\": 0.30799999833106995, \"p\": 28031, \"fpr\": 0.32063074901445465, \"tpr\": 0.9625057971531519, \"n\": 5327}, {\"threshold\": 0.3089999854564667, \"p\": 28031, \"fpr\": 0.3196921344096114, \"tpr\": 0.9625057971531519, \"n\": 5327}, {\"threshold\": 0.3100000023841858, \"p\": 28031, \"fpr\": 0.3195044114886428, \"tpr\": 0.9623274232100175, \"n\": 5327}, {\"threshold\": 0.3109999895095825, \"p\": 28031, \"fpr\": 0.3187535198047682, \"tpr\": 0.9622917484213906, \"n\": 5327}, {\"threshold\": 0.31200000643730164, \"p\": 28031, \"fpr\": 0.3185657968837995, \"tpr\": 0.962149049266883, \"n\": 5327}, {\"threshold\": 0.31299999356269836, \"p\": 28031, \"fpr\": 0.3181903510418622, \"tpr\": 0.9620063501123756, \"n\": 5327}, {\"threshold\": 0.3140000104904175, \"p\": 28031, \"fpr\": 0.31762718227895625, \"tpr\": 0.9620063501123756, \"n\": 5327}, {\"threshold\": 0.3149999976158142, \"p\": 28031, \"fpr\": 0.3165008447531444, \"tpr\": 0.9619706753237487, \"n\": 5327}, {\"threshold\": 0.3160000145435333, \"p\": 28031, \"fpr\": 0.31612539891120706, \"tpr\": 0.9618279761692412, \"n\": 5327}, {\"threshold\": 0.31700000166893005, \"p\": 28031, \"fpr\": 0.31537450722733246, \"tpr\": 0.9616852770147337, \"n\": 5327}, {\"threshold\": 0.3179999887943268, \"p\": 28031, \"fpr\": 0.3151867843063638, \"tpr\": 0.96161392743748, \"n\": 5327}, {\"threshold\": 0.3190000057220459, \"p\": 28031, \"fpr\": 0.3148113384644265, \"tpr\": 0.9615069030715993, \"n\": 5327}, {\"threshold\": 0.3199999928474426, \"p\": 28031, \"fpr\": 0.31462361554345786, \"tpr\": 0.9614355534943455, \"n\": 5327}, {\"threshold\": 0.32100000977516174, \"p\": 28031, \"fpr\": 0.3144358926224892, \"tpr\": 0.961292854339838, \"n\": 5327}, {\"threshold\": 0.32199999690055847, \"p\": 28031, \"fpr\": 0.3140604467805519, \"tpr\": 0.9611144803967037, \"n\": 5327}, {\"threshold\": 0.3230000138282776, \"p\": 28031, \"fpr\": 0.31387272385958326, \"tpr\": 0.9611144803967037, \"n\": 5327}, {\"threshold\": 0.3240000009536743, \"p\": 28031, \"fpr\": 0.3136850009386146, \"tpr\": 0.9610431308194499, \"n\": 5327}, {\"threshold\": 0.32499998807907104, \"p\": 28031, \"fpr\": 0.3133095550966773, \"tpr\": 0.9609717812421962, \"n\": 5327}, {\"threshold\": 0.32600000500679016, \"p\": 28031, \"fpr\": 0.31293410925474, \"tpr\": 0.9608290820876886, \"n\": 5327}, {\"threshold\": 0.3269999921321869, \"p\": 28031, \"fpr\": 0.3125586634128027, \"tpr\": 0.9607577325104348, \"n\": 5327}, {\"threshold\": 0.328000009059906, \"p\": 28031, \"fpr\": 0.3114323258869908, \"tpr\": 0.960722057721808, \"n\": 5327}, {\"threshold\": 0.32899999618530273, \"p\": 28031, \"fpr\": 0.3106814342031162, \"tpr\": 0.9606863829331811, \"n\": 5327}, {\"threshold\": 0.33000001311302185, \"p\": 28031, \"fpr\": 0.3099305425192416, \"tpr\": 0.9606507081445542, \"n\": 5327}, {\"threshold\": 0.3310000002384186, \"p\": 28031, \"fpr\": 0.3095550966773043, \"tpr\": 0.9606150333559274, \"n\": 5327}, {\"threshold\": 0.3319999873638153, \"p\": 28031, \"fpr\": 0.30936737375633566, \"tpr\": 0.9605080089900467, \"n\": 5327}, {\"threshold\": 0.3330000042915344, \"p\": 28031, \"fpr\": 0.309179650835367, \"tpr\": 0.960436659412793, \"n\": 5327}, {\"threshold\": 0.33399999141693115, \"p\": 28031, \"fpr\": 0.30824103623052374, \"tpr\": 0.9604009846241661, \"n\": 5327}, {\"threshold\": 0.33500000834465027, \"p\": 28031, \"fpr\": 0.30786559038858646, \"tpr\": 0.9603653098355392, \"n\": 5327}, {\"threshold\": 0.335999995470047, \"p\": 28031, \"fpr\": 0.30749014454664914, \"tpr\": 0.9603296350469124, \"n\": 5327}, {\"threshold\": 0.3370000123977661, \"p\": 28031, \"fpr\": 0.30711469870471186, \"tpr\": 0.9601869358924049, \"n\": 5327}, {\"threshold\": 0.33799999952316284, \"p\": 28031, \"fpr\": 0.30673925286277454, \"tpr\": 0.9600799115265242, \"n\": 5327}, {\"threshold\": 0.33899998664855957, \"p\": 28031, \"fpr\": 0.30636380702083726, \"tpr\": 0.9600085619492704, \"n\": 5327}, {\"threshold\": 0.3400000035762787, \"p\": 28031, \"fpr\": 0.305425192415994, \"tpr\": 0.9598301880061361, \"n\": 5327}, {\"threshold\": 0.3409999907016754, \"p\": 28031, \"fpr\": 0.30523746949502534, \"tpr\": 0.9597588384288823, \"n\": 5327}, {\"threshold\": 0.34200000762939453, \"p\": 28031, \"fpr\": 0.30448657781115074, \"tpr\": 0.9596161392743748, \"n\": 5327}, {\"threshold\": 0.34299999475479126, \"p\": 28031, \"fpr\": 0.30448657781115074, \"tpr\": 0.9595091149084942, \"n\": 5327}, {\"threshold\": 0.3440000116825104, \"p\": 28031, \"fpr\": 0.3042988548901821, \"tpr\": 0.9592950661767329, \"n\": 5327}, {\"threshold\": 0.3449999988079071, \"p\": 28031, \"fpr\": 0.30373568612727614, \"tpr\": 0.9591880418108523, \"n\": 5327}, {\"threshold\": 0.34599998593330383, \"p\": 28031, \"fpr\": 0.3035479632063075, \"tpr\": 0.9591523670222254, \"n\": 5327}, {\"threshold\": 0.34700000286102295, \"p\": 28031, \"fpr\": 0.3027970715224329, \"tpr\": 0.9590096678677179, \"n\": 5327}, {\"threshold\": 0.3479999899864197, \"p\": 28031, \"fpr\": 0.3026093486014642, \"tpr\": 0.958973993079091, \"n\": 5327}, {\"threshold\": 0.3490000069141388, \"p\": 28031, \"fpr\": 0.3024216256804956, \"tpr\": 0.9589026435018373, \"n\": 5327}, {\"threshold\": 0.3499999940395355, \"p\": 28031, \"fpr\": 0.3024216256804956, \"tpr\": 0.9588312939245835, \"n\": 5327}, {\"threshold\": 0.35100001096725464, \"p\": 28031, \"fpr\": 0.30148301107565234, \"tpr\": 0.9587242695587028, \"n\": 5327}, {\"threshold\": 0.35199999809265137, \"p\": 28031, \"fpr\": 0.3012952881546837, \"tpr\": 0.958688594770076, \"n\": 5327}, {\"threshold\": 0.3529999852180481, \"p\": 28031, \"fpr\": 0.30073211939177774, \"tpr\": 0.9585458956155685, \"n\": 5327}, {\"threshold\": 0.3540000021457672, \"p\": 28031, \"fpr\": 0.3005443964708091, \"tpr\": 0.9584745460383147, \"n\": 5327}, {\"threshold\": 0.35499998927116394, \"p\": 28031, \"fpr\": 0.3005443964708091, \"tpr\": 0.9583318468838072, \"n\": 5327}, {\"threshold\": 0.35600000619888306, \"p\": 28031, \"fpr\": 0.3003566735498404, \"tpr\": 0.9583318468838072, \"n\": 5327}, {\"threshold\": 0.3569999933242798, \"p\": 28031, \"fpr\": 0.2997935047869345, \"tpr\": 0.9582248225179266, \"n\": 5327}, {\"threshold\": 0.3580000102519989, \"p\": 28031, \"fpr\": 0.2996057818659658, \"tpr\": 0.9581534729406729, \"n\": 5327}, {\"threshold\": 0.35899999737739563, \"p\": 28031, \"fpr\": 0.2996057818659658, \"tpr\": 0.9580464485747922, \"n\": 5327}, {\"threshold\": 0.36000001430511475, \"p\": 28031, \"fpr\": 0.2988548901820912, \"tpr\": 0.9580107737861653, \"n\": 5327}, {\"threshold\": 0.3610000014305115, \"p\": 28031, \"fpr\": 0.2986671672611226, \"tpr\": 0.9579037494202847, \"n\": 5327}, {\"threshold\": 0.3619999885559082, \"p\": 28031, \"fpr\": 0.29847944434015394, \"tpr\": 0.9578323998430309, \"n\": 5327}, {\"threshold\": 0.3630000054836273, \"p\": 28031, \"fpr\": 0.2981039984982166, \"tpr\": 0.9577253754771503, \"n\": 5327}, {\"threshold\": 0.36399999260902405, \"p\": 28031, \"fpr\": 0.2981039984982166, \"tpr\": 0.9576897006885234, \"n\": 5327}, {\"threshold\": 0.36500000953674316, \"p\": 28031, \"fpr\": 0.29772855265627934, \"tpr\": 0.9576183511112697, \"n\": 5327}, {\"threshold\": 0.3659999966621399, \"p\": 28031, \"fpr\": 0.297353106814342, \"tpr\": 0.957547001534016, \"n\": 5327}, {\"threshold\": 0.367000013589859, \"p\": 28031, \"fpr\": 0.29697766097240474, \"tpr\": 0.9575113267453891, \"n\": 5327}, {\"threshold\": 0.36800000071525574, \"p\": 28031, \"fpr\": 0.29697766097240474, \"tpr\": 0.9573329528022546, \"n\": 5327}, {\"threshold\": 0.36899998784065247, \"p\": 28031, \"fpr\": 0.29697766097240474, \"tpr\": 0.9571545788591203, \"n\": 5327}, {\"threshold\": 0.3700000047683716, \"p\": 28031, \"fpr\": 0.29678993805143605, \"tpr\": 0.9571189040704934, \"n\": 5327}, {\"threshold\": 0.3709999918937683, \"p\": 28031, \"fpr\": 0.29678993805143605, \"tpr\": 0.9570118797046128, \"n\": 5327}, {\"threshold\": 0.3720000088214874, \"p\": 28031, \"fpr\": 0.2966022151304674, \"tpr\": 0.9569048553387322, \"n\": 5327}, {\"threshold\": 0.37299999594688416, \"p\": 28031, \"fpr\": 0.29603904636756145, \"tpr\": 0.9569048553387322, \"n\": 5327}, {\"threshold\": 0.37400001287460327, \"p\": 28031, \"fpr\": 0.2956636005256242, \"tpr\": 0.9569048553387322, \"n\": 5327}, {\"threshold\": 0.375, \"p\": 28031, \"fpr\": 0.29547587760465555, \"tpr\": 0.9567978309728515, \"n\": 5327}, {\"threshold\": 0.37599998712539673, \"p\": 28031, \"fpr\": 0.2949127088417496, \"tpr\": 0.9567978309728515, \"n\": 5327}, {\"threshold\": 0.37700000405311584, \"p\": 28031, \"fpr\": 0.29472498592078095, \"tpr\": 0.9567264813955977, \"n\": 5327}, {\"threshold\": 0.3779999911785126, \"p\": 28031, \"fpr\": 0.2943495400788436, \"tpr\": 0.9564410830865827, \"n\": 5327}, {\"threshold\": 0.3790000081062317, \"p\": 28031, \"fpr\": 0.29378637131593766, \"tpr\": 0.9564054082979558, \"n\": 5327}, {\"threshold\": 0.3799999952316284, \"p\": 28031, \"fpr\": 0.293598648394969, \"tpr\": 0.9562627091434484, \"n\": 5327}, {\"threshold\": 0.38100001215934753, \"p\": 28031, \"fpr\": 0.29303547963206306, \"tpr\": 0.9561913595661946, \"n\": 5327}, {\"threshold\": 0.38199999928474426, \"p\": 28031, \"fpr\": 0.29228458794818846, \"tpr\": 0.9561200099889409, \"n\": 5327}, {\"threshold\": 0.382999986410141, \"p\": 28031, \"fpr\": 0.2920968650272198, \"tpr\": 0.9559416360458064, \"n\": 5327}, {\"threshold\": 0.3840000033378601, \"p\": 28031, \"fpr\": 0.2919091421062512, \"tpr\": 0.9558346116799258, \"n\": 5327}, {\"threshold\": 0.38499999046325684, \"p\": 28031, \"fpr\": 0.2919091421062512, \"tpr\": 0.9557275873140452, \"n\": 5327}, {\"threshold\": 0.38600000739097595, \"p\": 28031, \"fpr\": 0.29078280458043926, \"tpr\": 0.9556919125254183, \"n\": 5327}, {\"threshold\": 0.3869999945163727, \"p\": 28031, \"fpr\": 0.290407358738502, \"tpr\": 0.9556919125254183, \"n\": 5327}, {\"threshold\": 0.3880000114440918, \"p\": 28031, \"fpr\": 0.2894687441336587, \"tpr\": 0.9555492133709108, \"n\": 5327}, {\"threshold\": 0.3889999985694885, \"p\": 28031, \"fpr\": 0.2887178524497841, \"tpr\": 0.9554778637936571, \"n\": 5327}, {\"threshold\": 0.38999998569488525, \"p\": 28031, \"fpr\": 0.28853012952881546, \"tpr\": 0.9554065142164032, \"n\": 5327}, {\"threshold\": 0.39100000262260437, \"p\": 28031, \"fpr\": 0.2879669607659095, \"tpr\": 0.9553351646391495, \"n\": 5327}, {\"threshold\": 0.3919999897480011, \"p\": 28031, \"fpr\": 0.2875915149239722, \"tpr\": 0.9552281402732689, \"n\": 5327}, {\"threshold\": 0.3930000066757202, \"p\": 28031, \"fpr\": 0.2868406232400976, \"tpr\": 0.9549784167528808, \"n\": 5327}, {\"threshold\": 0.39399999380111694, \"p\": 28031, \"fpr\": 0.2864651773981603, \"tpr\": 0.9549427419642539, \"n\": 5327}, {\"threshold\": 0.39500001072883606, \"p\": 28031, \"fpr\": 0.28627745447719166, \"tpr\": 0.9548000428097464, \"n\": 5327}, {\"threshold\": 0.3959999978542328, \"p\": 28031, \"fpr\": 0.2859020086352544, \"tpr\": 0.9547286932324925, \"n\": 5327}, {\"threshold\": 0.3970000147819519, \"p\": 28031, \"fpr\": 0.2853388398723484, \"tpr\": 0.9546573436552388, \"n\": 5327}, {\"threshold\": 0.39800000190734863, \"p\": 28031, \"fpr\": 0.2849633940304111, \"tpr\": 0.9546216688666119, \"n\": 5327}, {\"threshold\": 0.39899998903274536, \"p\": 28031, \"fpr\": 0.2849633940304111, \"tpr\": 0.9545503192893582, \"n\": 5327}, {\"threshold\": 0.4000000059604645, \"p\": 28031, \"fpr\": 0.28440022526750514, \"tpr\": 0.9544432949234776, \"n\": 5327}, {\"threshold\": 0.4009999930858612, \"p\": 28031, \"fpr\": 0.2834616106626619, \"tpr\": 0.9543719453462238, \"n\": 5327}, {\"threshold\": 0.4020000100135803, \"p\": 28031, \"fpr\": 0.28289844189975594, \"tpr\": 0.9542292461917163, \"n\": 5327}, {\"threshold\": 0.40299999713897705, \"p\": 28031, \"fpr\": 0.28233527313685003, \"tpr\": 0.9541578966144626, \"n\": 5327}, {\"threshold\": 0.40400001406669617, \"p\": 28031, \"fpr\": 0.28233527313685003, \"tpr\": 0.9541222218258357, \"n\": 5327}, {\"threshold\": 0.4050000011920929, \"p\": 28031, \"fpr\": 0.28233527313685003, \"tpr\": 0.9541222218258357, \"n\": 5327}, {\"threshold\": 0.4059999883174896, \"p\": 28031, \"fpr\": 0.28214755021588134, \"tpr\": 0.9540865470372089, \"n\": 5327}, {\"threshold\": 0.40700000524520874, \"p\": 28031, \"fpr\": 0.2819598272949127, \"tpr\": 0.9540865470372089, \"n\": 5327}, {\"threshold\": 0.40799999237060547, \"p\": 28031, \"fpr\": 0.28139665853200674, \"tpr\": 0.954015197459955, \"n\": 5327}, {\"threshold\": 0.4090000092983246, \"p\": 28031, \"fpr\": 0.28102121269006947, \"tpr\": 0.9539438478827013, \"n\": 5327}, {\"threshold\": 0.4099999964237213, \"p\": 28031, \"fpr\": 0.28083348976910083, \"tpr\": 0.9539438478827013, \"n\": 5327}, {\"threshold\": 0.41100001335144043, \"p\": 28031, \"fpr\": 0.28064576684813214, \"tpr\": 0.95372979915094, \"n\": 5327}, {\"threshold\": 0.41200000047683716, \"p\": 28031, \"fpr\": 0.28008259808522623, \"tpr\": 0.9536941243623132, \"n\": 5327}, {\"threshold\": 0.4129999876022339, \"p\": 28031, \"fpr\": 0.2797071522432889, \"tpr\": 0.9536941243623132, \"n\": 5327}, {\"threshold\": 0.414000004529953, \"p\": 28031, \"fpr\": 0.27914398348038294, \"tpr\": 0.9536227747850594, \"n\": 5327}, {\"threshold\": 0.41499999165534973, \"p\": 28031, \"fpr\": 0.27914398348038294, \"tpr\": 0.9535870999964325, \"n\": 5327}, {\"threshold\": 0.41600000858306885, \"p\": 28031, \"fpr\": 0.27876853763844567, \"tpr\": 0.9534800756305519, \"n\": 5327}, {\"threshold\": 0.4169999957084656, \"p\": 28031, \"fpr\": 0.2782053688755397, \"tpr\": 0.953444400841925, \"n\": 5327}, {\"threshold\": 0.4180000126361847, \"p\": 28031, \"fpr\": 0.2782053688755397, \"tpr\": 0.9533373764760443, \"n\": 5327}, {\"threshold\": 0.4189999997615814, \"p\": 28031, \"fpr\": 0.2778299230336024, \"tpr\": 0.9532303521101637, \"n\": 5327}, {\"threshold\": 0.41999998688697815, \"p\": 28031, \"fpr\": 0.2778299230336024, \"tpr\": 0.9531946773215368, \"n\": 5327}, {\"threshold\": 0.42100000381469727, \"p\": 28031, \"fpr\": 0.2774544771916651, \"tpr\": 0.9531233277442831, \"n\": 5327}, {\"threshold\": 0.421999990940094, \"p\": 28031, \"fpr\": 0.27726675427069647, \"tpr\": 0.9530163033784025, \"n\": 5327}, {\"threshold\": 0.4230000078678131, \"p\": 28031, \"fpr\": 0.2770790313497278, \"tpr\": 0.9529092790125219, \"n\": 5327}, {\"threshold\": 0.42399999499320984, \"p\": 28031, \"fpr\": 0.2770790313497278, \"tpr\": 0.9528022546466413, \"n\": 5327}, {\"threshold\": 0.42500001192092896, \"p\": 28031, \"fpr\": 0.27689130842875914, \"tpr\": 0.9527665798580144, \"n\": 5327}, {\"threshold\": 0.4259999990463257, \"p\": 28031, \"fpr\": 0.2763281396658532, \"tpr\": 0.9527665798580144, \"n\": 5327}, {\"threshold\": 0.4269999861717224, \"p\": 28031, \"fpr\": 0.27576497090294727, \"tpr\": 0.9527309050693875, \"n\": 5327}, {\"threshold\": 0.42800000309944153, \"p\": 28031, \"fpr\": 0.274826356298104, \"tpr\": 0.952552531126253, \"n\": 5327}, {\"threshold\": 0.42899999022483826, \"p\": 28031, \"fpr\": 0.27426318753519807, \"tpr\": 0.9523741571831187, \"n\": 5327}, {\"threshold\": 0.4300000071525574, \"p\": 28031, \"fpr\": 0.2737000187722921, \"tpr\": 0.9523028076058649, \"n\": 5327}, {\"threshold\": 0.4309999942779541, \"p\": 28031, \"fpr\": 0.2733245729303548, \"tpr\": 0.9522314580286112, \"n\": 5327}, {\"threshold\": 0.4320000112056732, \"p\": 28031, \"fpr\": 0.2725736812464802, \"tpr\": 0.9521601084513575, \"n\": 5327}, {\"threshold\": 0.43299999833106995, \"p\": 28031, \"fpr\": 0.2721982354045429, \"tpr\": 0.9520887588741037, \"n\": 5327}, {\"threshold\": 0.4339999854564667, \"p\": 28031, \"fpr\": 0.2720105124835742, \"tpr\": 0.9520530840854768, \"n\": 5327}, {\"threshold\": 0.4350000023841858, \"p\": 28031, \"fpr\": 0.27163506664163695, \"tpr\": 0.9520530840854768, \"n\": 5327}, {\"threshold\": 0.4359999895095825, \"p\": 28031, \"fpr\": 0.27163506664163695, \"tpr\": 0.9519460597195961, \"n\": 5327}, {\"threshold\": 0.43700000643730164, \"p\": 28031, \"fpr\": 0.2712596207996996, \"tpr\": 0.9518390353537155, \"n\": 5327}, {\"threshold\": 0.43799999356269836, \"p\": 28031, \"fpr\": 0.2706964520367937, \"tpr\": 0.9518033605650886, \"n\": 5327}, {\"threshold\": 0.4390000104904175, \"p\": 28031, \"fpr\": 0.2706964520367937, \"tpr\": 0.9517676857764618, \"n\": 5327}, {\"threshold\": 0.4399999976158142, \"p\": 28031, \"fpr\": 0.27013328327388775, \"tpr\": 0.9516606614105811, \"n\": 5327}, {\"threshold\": 0.4410000145435333, \"p\": 28031, \"fpr\": 0.27013328327388775, \"tpr\": 0.9515536370447005, \"n\": 5327}, {\"threshold\": 0.44200000166893005, \"p\": 28031, \"fpr\": 0.2699455603529191, \"tpr\": 0.951410937890193, \"n\": 5327}, {\"threshold\": 0.4429999887943268, \"p\": 28031, \"fpr\": 0.2697578374319504, \"tpr\": 0.9513752631015662, \"n\": 5327}, {\"threshold\": 0.4440000057220459, \"p\": 28031, \"fpr\": 0.2688192228271072, \"tpr\": 0.9513752631015662, \"n\": 5327}, {\"threshold\": 0.4449999928474426, \"p\": 28031, \"fpr\": 0.2682560540642012, \"tpr\": 0.9513395883129393, \"n\": 5327}, {\"threshold\": 0.44600000977516174, \"p\": 28031, \"fpr\": 0.26788060822226395, \"tpr\": 0.9512325639470586, \"n\": 5327}, {\"threshold\": 0.44699999690055847, \"p\": 28031, \"fpr\": 0.2675051623803266, \"tpr\": 0.9511968891584317, \"n\": 5327}, {\"threshold\": 0.4480000138282776, \"p\": 28031, \"fpr\": 0.267317439459358, \"tpr\": 0.9510185152152973, \"n\": 5327}, {\"threshold\": 0.4490000009536743, \"p\": 28031, \"fpr\": 0.26712971653838935, \"tpr\": 0.9508758160607899, \"n\": 5327}, {\"threshold\": 0.44999998807907104, \"p\": 28031, \"fpr\": 0.2665665477754834, \"tpr\": 0.9508044664835361, \"n\": 5327}, {\"threshold\": 0.45100000500679016, \"p\": 28031, \"fpr\": 0.2658156560916088, \"tpr\": 0.9506974421176555, \"n\": 5327}, {\"threshold\": 0.4519999921321869, \"p\": 28031, \"fpr\": 0.2658156560916088, \"tpr\": 0.9505547429631479, \"n\": 5327}, {\"threshold\": 0.453000009059906, \"p\": 28031, \"fpr\": 0.2652524873287028, \"tpr\": 0.950519068174521, \"n\": 5327}, {\"threshold\": 0.45399999618530273, \"p\": 28031, \"fpr\": 0.2652524873287028, \"tpr\": 0.9504477185972673, \"n\": 5327}, {\"threshold\": 0.45500001311302185, \"p\": 28031, \"fpr\": 0.2650647644077342, \"tpr\": 0.9503763690200135, \"n\": 5327}, {\"threshold\": 0.4560000002384186, \"p\": 28031, \"fpr\": 0.26487704148676555, \"tpr\": 0.9502693446541329, \"n\": 5327}, {\"threshold\": 0.4569999873638153, \"p\": 28031, \"fpr\": 0.26468931856579686, \"tpr\": 0.9500909707109986, \"n\": 5327}, {\"threshold\": 0.4580000042915344, \"p\": 28031, \"fpr\": 0.2645015956448282, \"tpr\": 0.9499125967678641, \"n\": 5327}, {\"threshold\": 0.45899999141693115, \"p\": 28031, \"fpr\": 0.2645015956448282, \"tpr\": 0.9498055724019835, \"n\": 5327}, {\"threshold\": 0.46000000834465027, \"p\": 28031, \"fpr\": 0.26412614980289095, \"tpr\": 0.9496271984588491, \"n\": 5327}, {\"threshold\": 0.460999995470047, \"p\": 28031, \"fpr\": 0.26393842688192226, \"tpr\": 0.9495558488815954, \"n\": 5327}, {\"threshold\": 0.4620000123977661, \"p\": 28031, \"fpr\": 0.26337525811901635, \"tpr\": 0.9493061253612073, \"n\": 5327}, {\"threshold\": 0.46299999952316284, \"p\": 28031, \"fpr\": 0.262999812277079, \"tpr\": 0.9492347757839534, \"n\": 5327}, {\"threshold\": 0.46399998664855957, \"p\": 28031, \"fpr\": 0.2628120893561104, \"tpr\": 0.9491634262066997, \"n\": 5327}, {\"threshold\": 0.4650000035762787, \"p\": 28031, \"fpr\": 0.26262436643514175, \"tpr\": 0.9490207270521922, \"n\": 5327}, {\"threshold\": 0.4659999907016754, \"p\": 28031, \"fpr\": 0.26243664351417306, \"tpr\": 0.9489850522635653, \"n\": 5327}, {\"threshold\": 0.46700000762939453, \"p\": 28031, \"fpr\": 0.2620611976722358, \"tpr\": 0.9489137026863116, \"n\": 5327}, {\"threshold\": 0.46799999475479126, \"p\": 28031, \"fpr\": 0.26187347475126715, \"tpr\": 0.9487353287431772, \"n\": 5327}, {\"threshold\": 0.4690000116825104, \"p\": 28031, \"fpr\": 0.26112258306739256, \"tpr\": 0.9486996539545504, \"n\": 5327}, {\"threshold\": 0.4699999988079071, \"p\": 28031, \"fpr\": 0.2603716913835179, \"tpr\": 0.9486996539545504, \"n\": 5327}, {\"threshold\": 0.47099998593330383, \"p\": 28031, \"fpr\": 0.2603716913835179, \"tpr\": 0.9486639791659235, \"n\": 5327}, {\"threshold\": 0.47200000286102295, \"p\": 28031, \"fpr\": 0.259808522620612, \"tpr\": 0.948485605222789, \"n\": 5327}, {\"threshold\": 0.4729999899864197, \"p\": 28031, \"fpr\": 0.2596207996996433, \"tpr\": 0.9483429060682815, \"n\": 5327}, {\"threshold\": 0.4740000069141388, \"p\": 28031, \"fpr\": 0.25868218509480007, \"tpr\": 0.9483072312796547, \"n\": 5327}, {\"threshold\": 0.4749999940395355, \"p\": 28031, \"fpr\": 0.25849446217383143, \"tpr\": 0.9482715564910278, \"n\": 5327}, {\"threshold\": 0.47600001096725464, \"p\": 28031, \"fpr\": 0.25849446217383143, \"tpr\": 0.9480931825478934, \"n\": 5327}, {\"threshold\": 0.47699999809265137, \"p\": 28031, \"fpr\": 0.2583067392528628, \"tpr\": 0.9479861581820128, \"n\": 5327}, {\"threshold\": 0.4779999852180481, \"p\": 28031, \"fpr\": 0.2575558475689882, \"tpr\": 0.947914808604759, \"n\": 5327}, {\"threshold\": 0.4790000021457672, \"p\": 28031, \"fpr\": 0.2575558475689882, \"tpr\": 0.9478434590275052, \"n\": 5327}, {\"threshold\": 0.47999998927116394, \"p\": 28031, \"fpr\": 0.25718040172705087, \"tpr\": 0.9476650850843709, \"n\": 5327}, {\"threshold\": 0.48100000619888306, \"p\": 28031, \"fpr\": 0.2566172329641449, \"tpr\": 0.9475580607184902, \"n\": 5327}, {\"threshold\": 0.4819999933242798, \"p\": 28031, \"fpr\": 0.2558663412802703, \"tpr\": 0.9475223859298634, \"n\": 5327}, {\"threshold\": 0.4830000102519989, \"p\": 28031, \"fpr\": 0.25567861835930167, \"tpr\": 0.9474510363526096, \"n\": 5327}, {\"threshold\": 0.48399999737739563, \"p\": 28031, \"fpr\": 0.2553031725173644, \"tpr\": 0.9472369876208483, \"n\": 5327}, {\"threshold\": 0.48500001430511475, \"p\": 28031, \"fpr\": 0.25492772667542707, \"tpr\": 0.9471656380435945, \"n\": 5327}, {\"threshold\": 0.4860000014305115, \"p\": 28031, \"fpr\": 0.25492772667542707, \"tpr\": 0.9470229388890871, \"n\": 5327}, {\"threshold\": 0.4869999885559082, \"p\": 28031, \"fpr\": 0.25474000375445843, \"tpr\": 0.9468445649459527, \"n\": 5327}, {\"threshold\": 0.4880000054836273, \"p\": 28031, \"fpr\": 0.25417683499155247, \"tpr\": 0.9468088901573258, \"n\": 5327}, {\"threshold\": 0.48899999260902405, \"p\": 28031, \"fpr\": 0.25417683499155247, \"tpr\": 0.9467018657914452, \"n\": 5327}, {\"threshold\": 0.49000000953674316, \"p\": 28031, \"fpr\": 0.25342594330767787, \"tpr\": 0.9466305162141915, \"n\": 5327}, {\"threshold\": 0.4909999966621399, \"p\": 28031, \"fpr\": 0.25305049746574054, \"tpr\": 0.9465948414255646, \"n\": 5327}, {\"threshold\": 0.492000013589859, \"p\": 28031, \"fpr\": 0.2528627745447719, \"tpr\": 0.9464878170596839, \"n\": 5327}, {\"threshold\": 0.49300000071525574, \"p\": 28031, \"fpr\": 0.2528627745447719, \"tpr\": 0.9464164674824301, \"n\": 5327}, {\"threshold\": 0.49399998784065247, \"p\": 28031, \"fpr\": 0.2528627745447719, \"tpr\": 0.9462737683279226, \"n\": 5327}, {\"threshold\": 0.4950000047683716, \"p\": 28031, \"fpr\": 0.25267505162380327, \"tpr\": 0.946166743962042, \"n\": 5327}, {\"threshold\": 0.4959999918937683, \"p\": 28031, \"fpr\": 0.25267505162380327, \"tpr\": 0.9459883700189077, \"n\": 5327}, {\"threshold\": 0.4970000088214874, \"p\": 28031, \"fpr\": 0.25248732870283463, \"tpr\": 0.9458099960757732, \"n\": 5327}, {\"threshold\": 0.49799999594688416, \"p\": 28031, \"fpr\": 0.25229960578186594, \"tpr\": 0.9456672969212657, \"n\": 5327}, {\"threshold\": 0.49900001287460327, \"p\": 28031, \"fpr\": 0.25229960578186594, \"tpr\": 0.9454889229781314, \"n\": 5327}, {\"threshold\": 0.5, \"p\": 28031, \"fpr\": 0.25173643701896004, \"tpr\": 0.945310549034997, \"n\": 5327}, {\"threshold\": 0.5009999871253967, \"p\": 28031, \"fpr\": 0.25154871409799134, \"tpr\": 0.9452035246691164, \"n\": 5327}, {\"threshold\": 0.5019999742507935, \"p\": 28031, \"fpr\": 0.25117326825605407, \"tpr\": 0.9451678498804894, \"n\": 5327}, {\"threshold\": 0.503000020980835, \"p\": 28031, \"fpr\": 0.2506100994931481, \"tpr\": 0.9450608255146088, \"n\": 5327}, {\"threshold\": 0.5040000081062317, \"p\": 28031, \"fpr\": 0.25023465365121084, \"tpr\": 0.9448824515714744, \"n\": 5327}, {\"threshold\": 0.5049999952316284, \"p\": 28031, \"fpr\": 0.25023465365121084, \"tpr\": 0.944739752416967, \"n\": 5327}, {\"threshold\": 0.5059999823570251, \"p\": 28031, \"fpr\": 0.2494837619673362, \"tpr\": 0.9446327280510863, \"n\": 5327}, {\"threshold\": 0.5070000290870667, \"p\": 28031, \"fpr\": 0.2491083161253989, \"tpr\": 0.9445257036852057, \"n\": 5327}, {\"threshold\": 0.5080000162124634, \"p\": 28031, \"fpr\": 0.2491083161253989, \"tpr\": 0.9443830045306981, \"n\": 5327}, {\"threshold\": 0.5090000033378601, \"p\": 28031, \"fpr\": 0.2487328702834616, \"tpr\": 0.9442403053761906, \"n\": 5327}, {\"threshold\": 0.5099999904632568, \"p\": 28031, \"fpr\": 0.247981978599587, \"tpr\": 0.9442046305875638, \"n\": 5327}, {\"threshold\": 0.5109999775886536, \"p\": 28031, \"fpr\": 0.24741880983668105, \"tpr\": 0.9440262566444294, \"n\": 5327}, {\"threshold\": 0.5120000243186951, \"p\": 28031, \"fpr\": 0.2472310869157124, \"tpr\": 0.9439905818558025, \"n\": 5327}, {\"threshold\": 0.5130000114440918, \"p\": 28031, \"fpr\": 0.2468556410737751, \"tpr\": 0.9439192322785488, \"n\": 5327}, {\"threshold\": 0.5139999985694885, \"p\": 28031, \"fpr\": 0.2468556410737751, \"tpr\": 0.9437408583354143, \"n\": 5327}, {\"threshold\": 0.5149999856948853, \"p\": 28031, \"fpr\": 0.24591702646893185, \"tpr\": 0.9437051835467875, \"n\": 5327}, {\"threshold\": 0.515999972820282, \"p\": 28031, \"fpr\": 0.2457293035479632, \"tpr\": 0.9436695087581606, \"n\": 5327}, {\"threshold\": 0.5170000195503235, \"p\": 28031, \"fpr\": 0.2453538577060259, \"tpr\": 0.94356248439228, \"n\": 5327}, {\"threshold\": 0.5180000066757202, \"p\": 28031, \"fpr\": 0.2453538577060259, \"tpr\": 0.94356248439228, \"n\": 5327}, {\"threshold\": 0.5189999938011169, \"p\": 28031, \"fpr\": 0.2453538577060259, \"tpr\": 0.9434911348150262, \"n\": 5327}, {\"threshold\": 0.5199999809265137, \"p\": 28031, \"fpr\": 0.24516613478505725, \"tpr\": 0.9434554600263994, \"n\": 5327}, {\"threshold\": 0.5210000276565552, \"p\": 28031, \"fpr\": 0.24479068894311995, \"tpr\": 0.9433841104491456, \"n\": 5327}, {\"threshold\": 0.5220000147819519, \"p\": 28031, \"fpr\": 0.24422752018021401, \"tpr\": 0.9432057365060112, \"n\": 5327}, {\"threshold\": 0.5230000019073486, \"p\": 28031, \"fpr\": 0.24385207433827671, \"tpr\": 0.9430987121401305, \"n\": 5327}, {\"threshold\": 0.5239999890327454, \"p\": 28031, \"fpr\": 0.24310118265440211, \"tpr\": 0.9429916877742499, \"n\": 5327}, {\"threshold\": 0.5249999761581421, \"p\": 28031, \"fpr\": 0.24253801389149615, \"tpr\": 0.9428489886197424, \"n\": 5327}, {\"threshold\": 0.5260000228881836, \"p\": 28031, \"fpr\": 0.24216256804955885, \"tpr\": 0.9427776390424887, \"n\": 5327}, {\"threshold\": 0.5270000100135803, \"p\": 28031, \"fpr\": 0.2419748451285902, \"tpr\": 0.9426349398879812, \"n\": 5327}, {\"threshold\": 0.527999997138977, \"p\": 28031, \"fpr\": 0.2412239534447156, \"tpr\": 0.9425279155221006, \"n\": 5327}, {\"threshold\": 0.5289999842643738, \"p\": 28031, \"fpr\": 0.24066078468180965, \"tpr\": 0.9424208911562199, \"n\": 5327}, {\"threshold\": 0.5299999713897705, \"p\": 28031, \"fpr\": 0.24028533883987235, \"tpr\": 0.9423495415789661, \"n\": 5327}, {\"threshold\": 0.531000018119812, \"p\": 28031, \"fpr\": 0.24028533883987235, \"tpr\": 0.9422068424244586, \"n\": 5327}, {\"threshold\": 0.5320000052452087, \"p\": 28031, \"fpr\": 0.23990989299793505, \"tpr\": 0.9422068424244586, \"n\": 5327}, {\"threshold\": 0.5329999923706055, \"p\": 28031, \"fpr\": 0.2397221700769664, \"tpr\": 0.9421711676358318, \"n\": 5327}, {\"threshold\": 0.5339999794960022, \"p\": 28031, \"fpr\": 0.2393467242350291, \"tpr\": 0.942099818058578, \"n\": 5327}, {\"threshold\": 0.5350000262260437, \"p\": 28031, \"fpr\": 0.2385958325511545, \"tpr\": 0.9419214441154437, \"n\": 5327}, {\"threshold\": 0.5360000133514404, \"p\": 28031, \"fpr\": 0.23840810963018585, \"tpr\": 0.9418500945381899, \"n\": 5327}, {\"threshold\": 0.5370000004768372, \"p\": 28031, \"fpr\": 0.2382203867092172, \"tpr\": 0.941814419749563, \"n\": 5327}, {\"threshold\": 0.5379999876022339, \"p\": 28031, \"fpr\": 0.2382203867092172, \"tpr\": 0.9416717205950554, \"n\": 5327}, {\"threshold\": 0.5389999747276306, \"p\": 28031, \"fpr\": 0.23803266378824856, \"tpr\": 0.9415646962291748, \"n\": 5327}, {\"threshold\": 0.5400000214576721, \"p\": 28031, \"fpr\": 0.2378449408672799, \"tpr\": 0.941529021440548, \"n\": 5327}, {\"threshold\": 0.5410000085830688, \"p\": 28031, \"fpr\": 0.23765721794631126, \"tpr\": 0.9414933466519211, \"n\": 5327}, {\"threshold\": 0.5419999957084656, \"p\": 28031, \"fpr\": 0.23765721794631126, \"tpr\": 0.9413506474974136, \"n\": 5327}, {\"threshold\": 0.5429999828338623, \"p\": 28031, \"fpr\": 0.23728177210437396, \"tpr\": 0.9413149727087867, \"n\": 5327}, {\"threshold\": 0.5440000295639038, \"p\": 28031, \"fpr\": 0.236718603341468, \"tpr\": 0.941243623131533, \"n\": 5327}, {\"threshold\": 0.5450000166893005, \"p\": 28031, \"fpr\": 0.236718603341468, \"tpr\": 0.9412079483429061, \"n\": 5327}, {\"threshold\": 0.5460000038146973, \"p\": 28031, \"fpr\": 0.2359677116575934, \"tpr\": 0.9411009239770254, \"n\": 5327}, {\"threshold\": 0.546999990940094, \"p\": 28031, \"fpr\": 0.23577998873662473, \"tpr\": 0.9410295743997716, \"n\": 5327}, {\"threshold\": 0.5479999780654907, \"p\": 28031, \"fpr\": 0.2355922658156561, \"tpr\": 0.940922550033891, \"n\": 5327}, {\"threshold\": 0.5490000247955322, \"p\": 28031, \"fpr\": 0.23502909705275013, \"tpr\": 0.9407441760907567, \"n\": 5327}, {\"threshold\": 0.550000011920929, \"p\": 28031, \"fpr\": 0.23465365121081283, \"tpr\": 0.9406728265135029, \"n\": 5327}, {\"threshold\": 0.5509999990463257, \"p\": 28031, \"fpr\": 0.23427820536887553, \"tpr\": 0.9405658021476223, \"n\": 5327}, {\"threshold\": 0.5519999861717224, \"p\": 28031, \"fpr\": 0.23427820536887553, \"tpr\": 0.9404944525703686, \"n\": 5327}, {\"threshold\": 0.5529999732971191, \"p\": 28031, \"fpr\": 0.23390275952693823, \"tpr\": 0.9404231029931147, \"n\": 5327}, {\"threshold\": 0.5540000200271606, \"p\": 28031, \"fpr\": 0.23315186784306363, \"tpr\": 0.9403160786272341, \"n\": 5327}, {\"threshold\": 0.5550000071525574, \"p\": 28031, \"fpr\": 0.23277642200112633, \"tpr\": 0.9402090542613535, \"n\": 5327}, {\"threshold\": 0.5559999942779541, \"p\": 28031, \"fpr\": 0.2322132532382204, \"tpr\": 0.9400306803182191, \"n\": 5327}, {\"threshold\": 0.5569999814033508, \"p\": 28031, \"fpr\": 0.2318378073962831, \"tpr\": 0.9398879811637116, \"n\": 5327}, {\"threshold\": 0.5580000281333923, \"p\": 28031, \"fpr\": 0.23127463863337713, \"tpr\": 0.9398879811637116, \"n\": 5327}, {\"threshold\": 0.5590000152587891, \"p\": 28031, \"fpr\": 0.23127463863337713, \"tpr\": 0.939745282009204, \"n\": 5327}, {\"threshold\": 0.5600000023841858, \"p\": 28031, \"fpr\": 0.23127463863337713, \"tpr\": 0.939745282009204, \"n\": 5327}, {\"threshold\": 0.5609999895095825, \"p\": 28031, \"fpr\": 0.2310869157124085, \"tpr\": 0.9395312332774428, \"n\": 5327}, {\"threshold\": 0.5619999766349792, \"p\": 28031, \"fpr\": 0.2307114698704712, \"tpr\": 0.9393528593343085, \"n\": 5327}, {\"threshold\": 0.5630000233650208, \"p\": 28031, \"fpr\": 0.23014830110756523, \"tpr\": 0.9392815097570547, \"n\": 5327}, {\"threshold\": 0.5640000104904175, \"p\": 28031, \"fpr\": 0.22996057818659657, \"tpr\": 0.939210160179801, \"n\": 5327}, {\"threshold\": 0.5649999976158142, \"p\": 28031, \"fpr\": 0.22958513234465927, \"tpr\": 0.9390317862366665, \"n\": 5327}, {\"threshold\": 0.5659999847412109, \"p\": 28031, \"fpr\": 0.22939740942369063, \"tpr\": 0.9389247618707859, \"n\": 5327}, {\"threshold\": 0.5669999718666077, \"p\": 28031, \"fpr\": 0.22920968650272197, \"tpr\": 0.9389247618707859, \"n\": 5327}, {\"threshold\": 0.5680000185966492, \"p\": 28031, \"fpr\": 0.22864651773981604, \"tpr\": 0.938889087082159, \"n\": 5327}, {\"threshold\": 0.5690000057220459, \"p\": 28031, \"fpr\": 0.22827107189787874, \"tpr\": 0.9387463879276515, \"n\": 5327}, {\"threshold\": 0.5699999928474426, \"p\": 28031, \"fpr\": 0.22808334897691007, \"tpr\": 0.9386393635617709, \"n\": 5327}, {\"threshold\": 0.5709999799728394, \"p\": 28031, \"fpr\": 0.22808334897691007, \"tpr\": 0.9385680139845172, \"n\": 5327}, {\"threshold\": 0.5720000267028809, \"p\": 28031, \"fpr\": 0.22752018021400414, \"tpr\": 0.9384966644072634, \"n\": 5327}, {\"threshold\": 0.5730000138282776, \"p\": 28031, \"fpr\": 0.22752018021400414, \"tpr\": 0.9384609896186366, \"n\": 5327}, {\"threshold\": 0.5740000009536743, \"p\": 28031, \"fpr\": 0.22733245729303547, \"tpr\": 0.938318290464129, \"n\": 5327}, {\"threshold\": 0.574999988079071, \"p\": 28031, \"fpr\": 0.22658156560916087, \"tpr\": 0.9382469408868752, \"n\": 5327}, {\"threshold\": 0.5759999752044678, \"p\": 28031, \"fpr\": 0.22620611976722357, \"tpr\": 0.9380685669437409, \"n\": 5327}, {\"threshold\": 0.5770000219345093, \"p\": 28031, \"fpr\": 0.22564295100431764, \"tpr\": 0.9379615425778602, \"n\": 5327}, {\"threshold\": 0.578000009059906, \"p\": 28031, \"fpr\": 0.22526750516238034, \"tpr\": 0.9379258677892334, \"n\": 5327}, {\"threshold\": 0.5789999961853027, \"p\": 28031, \"fpr\": 0.22507978224141167, \"tpr\": 0.937747493846099, \"n\": 5327}, {\"threshold\": 0.5799999833106995, \"p\": 28031, \"fpr\": 0.22507978224141167, \"tpr\": 0.9376404694802183, \"n\": 5327}, {\"threshold\": 0.5809999704360962, \"p\": 28031, \"fpr\": 0.22432889055753708, \"tpr\": 0.9375334451143377, \"n\": 5327}, {\"threshold\": 0.5820000171661377, \"p\": 28031, \"fpr\": 0.2233902759526938, \"tpr\": 0.9373907459598302, \"n\": 5327}, {\"threshold\": 0.5830000042915344, \"p\": 28031, \"fpr\": 0.22320255303172518, \"tpr\": 0.9373193963825764, \"n\": 5327}, {\"threshold\": 0.5839999914169312, \"p\": 28031, \"fpr\": 0.2230148301107565, \"tpr\": 0.9372837215939496, \"n\": 5327}, {\"threshold\": 0.5849999785423279, \"p\": 28031, \"fpr\": 0.2226393842688192, \"tpr\": 0.9372123720166958, \"n\": 5327}, {\"threshold\": 0.5860000252723694, \"p\": 28031, \"fpr\": 0.22245166134785058, \"tpr\": 0.9371410224394421, \"n\": 5327}, {\"threshold\": 0.5870000123977661, \"p\": 28031, \"fpr\": 0.22207621550591328, \"tpr\": 0.9371053476508152, \"n\": 5327}, {\"threshold\": 0.5879999995231628, \"p\": 28031, \"fpr\": 0.2218884925849446, \"tpr\": 0.9370696728621883, \"n\": 5327}, {\"threshold\": 0.5889999866485596, \"p\": 28031, \"fpr\": 0.2215130467430073, \"tpr\": 0.9369983232849345, \"n\": 5327}, {\"threshold\": 0.5899999737739563, \"p\": 28031, \"fpr\": 0.22113760090107001, \"tpr\": 0.9367842745531733, \"n\": 5327}, {\"threshold\": 0.5910000205039978, \"p\": 28031, \"fpr\": 0.22094987798010138, \"tpr\": 0.9367842745531733, \"n\": 5327}, {\"threshold\": 0.5920000076293945, \"p\": 28031, \"fpr\": 0.22076215505913271, \"tpr\": 0.9367485997645464, \"n\": 5327}, {\"threshold\": 0.5929999947547913, \"p\": 28031, \"fpr\": 0.22038670921719541, \"tpr\": 0.9366415753986658, \"n\": 5327}, {\"threshold\": 0.593999981880188, \"p\": 28031, \"fpr\": 0.21982354045428948, \"tpr\": 0.936570225821412, \"n\": 5327}, {\"threshold\": 0.5950000286102295, \"p\": 28031, \"fpr\": 0.21907264877041488, \"tpr\": 0.9364275266669045, \"n\": 5327}, {\"threshold\": 0.5960000157356262, \"p\": 28031, \"fpr\": 0.21850948000750892, \"tpr\": 0.9363561770896508, \"n\": 5327}, {\"threshold\": 0.597000002861023, \"p\": 28031, \"fpr\": 0.21813403416557162, \"tpr\": 0.9362491527237701, \"n\": 5327}, {\"threshold\": 0.5979999899864197, \"p\": 28031, \"fpr\": 0.21775858832363432, \"tpr\": 0.9361421283578895, \"n\": 5327}, {\"threshold\": 0.5989999771118164, \"p\": 28031, \"fpr\": 0.21738314248169702, \"tpr\": 0.9360707787806357, \"n\": 5327}, {\"threshold\": 0.6000000238418579, \"p\": 28031, \"fpr\": 0.21700769663975972, \"tpr\": 0.935999429203382, \"n\": 5327}, {\"threshold\": 0.6010000109672546, \"p\": 28031, \"fpr\": 0.21663225079782242, \"tpr\": 0.9358567300488745, \"n\": 5327}, {\"threshold\": 0.6019999980926514, \"p\": 28031, \"fpr\": 0.21588135911394782, \"tpr\": 0.9357853804716207, \"n\": 5327}, {\"threshold\": 0.6029999852180481, \"p\": 28031, \"fpr\": 0.21513046743007322, \"tpr\": 0.9357497056829939, \"n\": 5327}, {\"threshold\": 0.6039999723434448, \"p\": 28031, \"fpr\": 0.21456729866716726, \"tpr\": 0.935714030894367, \"n\": 5327}, {\"threshold\": 0.6050000190734863, \"p\": 28031, \"fpr\": 0.21400412990426132, \"tpr\": 0.9355356569512325, \"n\": 5327}, {\"threshold\": 0.6060000061988831, \"p\": 28031, \"fpr\": 0.21362868406232402, \"tpr\": 0.9353572830080982, \"n\": 5327}, {\"threshold\": 0.6069999933242798, \"p\": 28031, \"fpr\": 0.21362868406232402, \"tpr\": 0.9352502586422176, \"n\": 5327}, {\"threshold\": 0.6079999804496765, \"p\": 28031, \"fpr\": 0.21325323822038672, \"tpr\": 0.9351432342763369, \"n\": 5327}, {\"threshold\": 0.609000027179718, \"p\": 28031, \"fpr\": 0.21306551529941806, \"tpr\": 0.9350005351218295, \"n\": 5327}, {\"threshold\": 0.6100000143051147, \"p\": 28031, \"fpr\": 0.21306551529941806, \"tpr\": 0.9350005351218295, \"n\": 5327}, {\"threshold\": 0.6110000014305115, \"p\": 28031, \"fpr\": 0.21287779237844942, \"tpr\": 0.9348935107559487, \"n\": 5327}, {\"threshold\": 0.6119999885559082, \"p\": 28031, \"fpr\": 0.21269006945748076, \"tpr\": 0.9347864863900681, \"n\": 5327}, {\"threshold\": 0.6129999756813049, \"p\": 28031, \"fpr\": 0.21250234653651212, \"tpr\": 0.9346437872355606, \"n\": 5327}, {\"threshold\": 0.6140000224113464, \"p\": 28031, \"fpr\": 0.21231462361554346, \"tpr\": 0.93453676286968, \"n\": 5327}, {\"threshold\": 0.6150000095367432, \"p\": 28031, \"fpr\": 0.21212690069457482, \"tpr\": 0.9343940637151725, \"n\": 5327}, {\"threshold\": 0.6159999966621399, \"p\": 28031, \"fpr\": 0.21193917777360616, \"tpr\": 0.9342156897720381, \"n\": 5327}, {\"threshold\": 0.6169999837875366, \"p\": 28031, \"fpr\": 0.2117514548526375, \"tpr\": 0.9340373158289037, \"n\": 5327}, {\"threshold\": 0.6179999709129333, \"p\": 28031, \"fpr\": 0.2117514548526375, \"tpr\": 0.9338232670971425, \"n\": 5327}, {\"threshold\": 0.6190000176429749, \"p\": 28031, \"fpr\": 0.21156373193166886, \"tpr\": 0.9336448931540081, \"n\": 5327}, {\"threshold\": 0.6200000047683716, \"p\": 28031, \"fpr\": 0.21156373193166886, \"tpr\": 0.9335735435767543, \"n\": 5327}, {\"threshold\": 0.6209999918937683, \"p\": 28031, \"fpr\": 0.21118828608973156, \"tpr\": 0.933359494844993, \"n\": 5327}, {\"threshold\": 0.621999979019165, \"p\": 28031, \"fpr\": 0.21081284024779426, \"tpr\": 0.9331811209018587, \"n\": 5327}, {\"threshold\": 0.6230000257492065, \"p\": 28031, \"fpr\": 0.2106251173268256, \"tpr\": 0.9331097713246049, \"n\": 5327}, {\"threshold\": 0.6240000128746033, \"p\": 28031, \"fpr\": 0.21006194856391966, \"tpr\": 0.9330027469587243, \"n\": 5327}, {\"threshold\": 0.625, \"p\": 28031, \"fpr\": 0.2094987798010137, \"tpr\": 0.9328957225928436, \"n\": 5327}, {\"threshold\": 0.6259999871253967, \"p\": 28031, \"fpr\": 0.2094987798010137, \"tpr\": 0.932788698226963, \"n\": 5327}, {\"threshold\": 0.6269999742507935, \"p\": 28031, \"fpr\": 0.2091233339590764, \"tpr\": 0.9326816738610824, \"n\": 5327}, {\"threshold\": 0.628000020980835, \"p\": 28031, \"fpr\": 0.2087478881171391, \"tpr\": 0.9324319503406943, \"n\": 5327}, {\"threshold\": 0.6290000081062317, \"p\": 28031, \"fpr\": 0.20818471935423316, \"tpr\": 0.9322179016089329, \"n\": 5327}, {\"threshold\": 0.6299999952316284, \"p\": 28031, \"fpr\": 0.2079969964332645, \"tpr\": 0.9320038528771717, \"n\": 5327}, {\"threshold\": 0.6309999823570251, \"p\": 28031, \"fpr\": 0.20780927351229586, \"tpr\": 0.9316827797795298, \"n\": 5327}, {\"threshold\": 0.6320000290870667, \"p\": 28031, \"fpr\": 0.2076215505913272, \"tpr\": 0.9315757554136491, \"n\": 5327}, {\"threshold\": 0.6330000162124634, \"p\": 28031, \"fpr\": 0.2072461047493899, \"tpr\": 0.9314687310477685, \"n\": 5327}, {\"threshold\": 0.6340000033378601, \"p\": 28031, \"fpr\": 0.20705838182842126, \"tpr\": 0.9313617066818879, \"n\": 5327}, {\"threshold\": 0.6349999904632568, \"p\": 28031, \"fpr\": 0.2068706589074526, \"tpr\": 0.9311833327387535, \"n\": 5327}, {\"threshold\": 0.6359999775886536, \"p\": 28031, \"fpr\": 0.20668293598648396, \"tpr\": 0.9310049587956192, \"n\": 5327}, {\"threshold\": 0.6370000243186951, \"p\": 28031, \"fpr\": 0.20593204430260934, \"tpr\": 0.9309336092183654, \"n\": 5327}, {\"threshold\": 0.6380000114440918, \"p\": 28031, \"fpr\": 0.2057443213816407, \"tpr\": 0.9308622596411116, \"n\": 5327}, {\"threshold\": 0.6389999985694885, \"p\": 28031, \"fpr\": 0.20555659846067204, \"tpr\": 0.9306482109093503, \"n\": 5327}, {\"threshold\": 0.6399999856948853, \"p\": 28031, \"fpr\": 0.20555659846067204, \"tpr\": 0.9305768613320966, \"n\": 5327}, {\"threshold\": 0.640999972820282, \"p\": 28031, \"fpr\": 0.2049934296977661, \"tpr\": 0.9304341621775891, \"n\": 5327}, {\"threshold\": 0.6420000195503235, \"p\": 28031, \"fpr\": 0.20443026093486014, \"tpr\": 0.9303271378117085, \"n\": 5327}, {\"threshold\": 0.6430000066757202, \"p\": 28031, \"fpr\": 0.20405481509292284, \"tpr\": 0.9302557882344548, \"n\": 5327}, {\"threshold\": 0.6439999938011169, \"p\": 28031, \"fpr\": 0.20367936925098554, \"tpr\": 0.9302201134458278, \"n\": 5327}, {\"threshold\": 0.6449999809265137, \"p\": 28031, \"fpr\": 0.20367936925098554, \"tpr\": 0.9301130890799472, \"n\": 5327}, {\"threshold\": 0.6460000276565552, \"p\": 28031, \"fpr\": 0.2034916463300169, \"tpr\": 0.9300060647140665, \"n\": 5327}, {\"threshold\": 0.6470000147819519, \"p\": 28031, \"fpr\": 0.2034916463300169, \"tpr\": 0.9298990403481859, \"n\": 5327}, {\"threshold\": 0.6480000019073486, \"p\": 28031, \"fpr\": 0.20330392340904824, \"tpr\": 0.9298633655595591, \"n\": 5327}, {\"threshold\": 0.6489999890327454, \"p\": 28031, \"fpr\": 0.20292847756711094, \"tpr\": 0.929613642039171, \"n\": 5327}, {\"threshold\": 0.6499999761581421, \"p\": 28031, \"fpr\": 0.2027407546461423, \"tpr\": 0.9293639185187828, \"n\": 5327}, {\"threshold\": 0.6510000228881836, \"p\": 28031, \"fpr\": 0.2016144171203304, \"tpr\": 0.9291855445756484, \"n\": 5327}, {\"threshold\": 0.6520000100135803, \"p\": 28031, \"fpr\": 0.2016144171203304, \"tpr\": 0.9289714958438872, \"n\": 5327}, {\"threshold\": 0.652999997138977, \"p\": 28031, \"fpr\": 0.2012389712783931, \"tpr\": 0.9289001462666334, \"n\": 5327}, {\"threshold\": 0.6539999842643738, \"p\": 28031, \"fpr\": 0.20105124835742444, \"tpr\": 0.9287931219007527, \"n\": 5327}, {\"threshold\": 0.6549999713897705, \"p\": 28031, \"fpr\": 0.20030035667354984, \"tpr\": 0.9286504227462452, \"n\": 5327}, {\"threshold\": 0.656000018119812, \"p\": 28031, \"fpr\": 0.19992491083161254, \"tpr\": 0.9285077235917377, \"n\": 5327}, {\"threshold\": 0.6570000052452087, \"p\": 28031, \"fpr\": 0.19954946498967524, \"tpr\": 0.9283293496486034, \"n\": 5327}, {\"threshold\": 0.6579999923706055, \"p\": 28031, \"fpr\": 0.19898629622676928, \"tpr\": 0.9281866504940959, \"n\": 5327}, {\"threshold\": 0.6589999794960022, \"p\": 28031, \"fpr\": 0.19879857330580064, \"tpr\": 0.9280439513395883, \"n\": 5327}, {\"threshold\": 0.6600000262260437, \"p\": 28031, \"fpr\": 0.19861085038483198, \"tpr\": 0.9280082765509614, \"n\": 5327}, {\"threshold\": 0.6610000133514404, \"p\": 28031, \"fpr\": 0.19823540454289468, \"tpr\": 0.927829902607827, \"n\": 5327}, {\"threshold\": 0.6620000004768372, \"p\": 28031, \"fpr\": 0.19823540454289468, \"tpr\": 0.9276872034533196, \"n\": 5327}, {\"threshold\": 0.6629999876022339, \"p\": 28031, \"fpr\": 0.19785995870095738, \"tpr\": 0.9275445042988121, \"n\": 5327}, {\"threshold\": 0.6639999747276306, \"p\": 28031, \"fpr\": 0.19785995870095738, \"tpr\": 0.9274374799329314, \"n\": 5327}, {\"threshold\": 0.6650000214576721, \"p\": 28031, \"fpr\": 0.19767223577998874, \"tpr\": 0.9272234312011701, \"n\": 5327}, {\"threshold\": 0.6660000085830688, \"p\": 28031, \"fpr\": 0.19692134409611414, \"tpr\": 0.9270807320466626, \"n\": 5327}, {\"threshold\": 0.6669999957084656, \"p\": 28031, \"fpr\": 0.19654589825417684, \"tpr\": 0.9269380328921552, \"n\": 5327}, {\"threshold\": 0.6679999828338623, \"p\": 28031, \"fpr\": 0.19598272949127088, \"tpr\": 0.9267596589490207, \"n\": 5327}, {\"threshold\": 0.6690000295639038, \"p\": 28031, \"fpr\": 0.19560728364933358, \"tpr\": 0.9266883093717669, \"n\": 5327}, {\"threshold\": 0.6700000166893005, \"p\": 28031, \"fpr\": 0.19541956072836494, \"tpr\": 0.9265456102172595, \"n\": 5327}, {\"threshold\": 0.6710000038146973, \"p\": 28031, \"fpr\": 0.19523183780739628, \"tpr\": 0.9264385858513788, \"n\": 5327}, {\"threshold\": 0.671999990940094, \"p\": 28031, \"fpr\": 0.19523183780739628, \"tpr\": 0.9263315614854982, \"n\": 5327}, {\"threshold\": 0.6729999780654907, \"p\": 28031, \"fpr\": 0.19523183780739628, \"tpr\": 0.9262245371196176, \"n\": 5327}, {\"threshold\": 0.6740000247955322, \"p\": 28031, \"fpr\": 0.19429322320255304, \"tpr\": 0.9259748135992294, \"n\": 5327}, {\"threshold\": 0.675000011920929, \"p\": 28031, \"fpr\": 0.18997559602027408, \"tpr\": 0.920873318825586, \"n\": 5327}, {\"threshold\": 0.6759999990463257, \"p\": 28031, \"fpr\": 0.18941242725736812, \"tpr\": 0.9206592700938246, \"n\": 5327}, {\"threshold\": 0.6769999861717224, \"p\": 28031, \"fpr\": 0.18866153557349352, \"tpr\": 0.9204452213620634, \"n\": 5327}, {\"threshold\": 0.6779999732971191, \"p\": 28031, \"fpr\": 0.18828608973155622, \"tpr\": 0.9203381969961828, \"n\": 5327}, {\"threshold\": 0.6790000200271606, \"p\": 28031, \"fpr\": 0.18809836681058759, \"tpr\": 0.9202311726303022, \"n\": 5327}, {\"threshold\": 0.6800000071525574, \"p\": 28031, \"fpr\": 0.18791064388961892, \"tpr\": 0.920017123898541, \"n\": 5327}, {\"threshold\": 0.6809999942779541, \"p\": 28031, \"fpr\": 0.18772292096865026, \"tpr\": 0.919981449109914, \"n\": 5327}, {\"threshold\": 0.6819999814033508, \"p\": 28031, \"fpr\": 0.18734747512671296, \"tpr\": 0.9198387499554065, \"n\": 5327}, {\"threshold\": 0.6830000281333923, \"p\": 28031, \"fpr\": 0.18715975220574432, \"tpr\": 0.9197317255895259, \"n\": 5327}, {\"threshold\": 0.6840000152587891, \"p\": 28031, \"fpr\": 0.18603341467993242, \"tpr\": 0.9196247012236453, \"n\": 5327}, {\"threshold\": 0.6850000023841858, \"p\": 28031, \"fpr\": 0.18584569175896376, \"tpr\": 0.9194820020691378, \"n\": 5327}, {\"threshold\": 0.6859999895095825, \"p\": 28031, \"fpr\": 0.18565796883799512, \"tpr\": 0.9193393029146303, \"n\": 5327}, {\"threshold\": 0.6869999766349792, \"p\": 28031, \"fpr\": 0.18509480007508916, \"tpr\": 0.9192679533373764, \"n\": 5327}, {\"threshold\": 0.6880000233650208, \"p\": 28031, \"fpr\": 0.18396846254927726, \"tpr\": 0.9190539046056152, \"n\": 5327}, {\"threshold\": 0.6890000104904175, \"p\": 28031, \"fpr\": 0.18321757086540266, \"tpr\": 0.918839855873854, \"n\": 5327}, {\"threshold\": 0.6899999976158142, \"p\": 28031, \"fpr\": 0.18321757086540266, \"tpr\": 0.9186614819307196, \"n\": 5327}, {\"threshold\": 0.6909999847412109, \"p\": 28031, \"fpr\": 0.18246667918152806, \"tpr\": 0.9184474331989583, \"n\": 5327}, {\"threshold\": 0.6919999718666077, \"p\": 28031, \"fpr\": 0.18246667918152806, \"tpr\": 0.9182690592558239, \"n\": 5327}, {\"threshold\": 0.6930000185966492, \"p\": 28031, \"fpr\": 0.18227895626055943, \"tpr\": 0.9180193357354358, \"n\": 5327}, {\"threshold\": 0.6940000057220459, \"p\": 28031, \"fpr\": 0.18171578749765346, \"tpr\": 0.9178409617923013, \"n\": 5327}, {\"threshold\": 0.6949999928474426, \"p\": 28031, \"fpr\": 0.1811526187347475, \"tpr\": 0.917662587849167, \"n\": 5327}, {\"threshold\": 0.6959999799728394, \"p\": 28031, \"fpr\": 0.18021400412990426, \"tpr\": 0.9176269130605401, \"n\": 5327}, {\"threshold\": 0.6970000267028809, \"p\": 28031, \"fpr\": 0.1800262812089356, \"tpr\": 0.9173058399628983, \"n\": 5327}, {\"threshold\": 0.6980000138282776, \"p\": 28031, \"fpr\": 0.1800262812089356, \"tpr\": 0.9171631408083907, \"n\": 5327}, {\"threshold\": 0.6990000009536743, \"p\": 28031, \"fpr\": 0.1796508353669983, \"tpr\": 0.9170917912311369, \"n\": 5327}, {\"threshold\": 0.699999988079071, \"p\": 28031, \"fpr\": 0.1796508353669983, \"tpr\": 0.9169847668652563, \"n\": 5327}, {\"threshold\": 0.7009999752044678, \"p\": 28031, \"fpr\": 0.17871222076215507, \"tpr\": 0.9169134172880026, \"n\": 5327}, {\"threshold\": 0.7020000219345093, \"p\": 28031, \"fpr\": 0.17871222076215507, \"tpr\": 0.9166636937676145, \"n\": 5327}, {\"threshold\": 0.703000009059906, \"p\": 28031, \"fpr\": 0.17833677492021777, \"tpr\": 0.9165209946131069, \"n\": 5327}, {\"threshold\": 0.7039999961853027, \"p\": 28031, \"fpr\": 0.1781490519992491, \"tpr\": 0.91648531982448, \"n\": 5327}, {\"threshold\": 0.7049999833106995, \"p\": 28031, \"fpr\": 0.17721043739440587, \"tpr\": 0.9164139702472263, \"n\": 5327}, {\"threshold\": 0.7059999704360962, \"p\": 28031, \"fpr\": 0.17683499155246857, \"tpr\": 0.9161285719382113, \"n\": 5327}, {\"threshold\": 0.7070000171661377, \"p\": 28031, \"fpr\": 0.17570865402665664, \"tpr\": 0.9158431736291962, \"n\": 5327}, {\"threshold\": 0.7080000042915344, \"p\": 28031, \"fpr\": 0.175520931105688, \"tpr\": 0.9156647996860618, \"n\": 5327}, {\"threshold\": 0.7089999914169312, \"p\": 28031, \"fpr\": 0.1751454852637507, \"tpr\": 0.9153794013770469, \"n\": 5327}, {\"threshold\": 0.7099999785423279, \"p\": 28031, \"fpr\": 0.1740191477379388, \"tpr\": 0.9151296778566587, \"n\": 5327}, {\"threshold\": 0.7110000252723694, \"p\": 28031, \"fpr\": 0.17383142481697014, \"tpr\": 0.9149156291248974, \"n\": 5327}, {\"threshold\": 0.7120000123977661, \"p\": 28031, \"fpr\": 0.17383142481697014, \"tpr\": 0.9147015803931362, \"n\": 5327}, {\"threshold\": 0.7129999995231628, \"p\": 28031, \"fpr\": 0.17345597897503284, \"tpr\": 0.9143805072954942, \"n\": 5327}, {\"threshold\": 0.7139999866485596, \"p\": 28031, \"fpr\": 0.1725173643701896, \"tpr\": 0.9142021333523599, \"n\": 5327}, {\"threshold\": 0.7149999737739563, \"p\": 28031, \"fpr\": 0.1721419185282523, \"tpr\": 0.9140237594092255, \"n\": 5327}, {\"threshold\": 0.7160000205039978, \"p\": 28031, \"fpr\": 0.17195419560728364, \"tpr\": 0.9138097106774642, \"n\": 5327}, {\"threshold\": 0.7170000076293945, \"p\": 28031, \"fpr\": 0.17157874976534634, \"tpr\": 0.9135599871570761, \"n\": 5327}, {\"threshold\": 0.7179999947547913, \"p\": 28031, \"fpr\": 0.1710155810024404, \"tpr\": 0.9134172880025686, \"n\": 5327}, {\"threshold\": 0.718999981880188, \"p\": 28031, \"fpr\": 0.1706401351605031, \"tpr\": 0.9133459384253149, \"n\": 5327}, {\"threshold\": 0.7200000286102295, \"p\": 28031, \"fpr\": 0.17045241223953445, \"tpr\": 0.913310263636688, \"n\": 5327}, {\"threshold\": 0.7210000157356262, \"p\": 28031, \"fpr\": 0.17007696639759715, \"tpr\": 0.9130962149049267, \"n\": 5327}, {\"threshold\": 0.722000002861023, \"p\": 28031, \"fpr\": 0.16913835179275388, \"tpr\": 0.9127751418072848, \"n\": 5327}, {\"threshold\": 0.7229999899864197, \"p\": 28031, \"fpr\": 0.16895062887178525, \"tpr\": 0.9125967678641504, \"n\": 5327}, {\"threshold\": 0.7239999771118164, \"p\": 28031, \"fpr\": 0.16895062887178525, \"tpr\": 0.912418393921016, \"n\": 5327}, {\"threshold\": 0.7250000238418579, \"p\": 28031, \"fpr\": 0.16857518302984795, \"tpr\": 0.9122756947665085, \"n\": 5327}, {\"threshold\": 0.7260000109672546, \"p\": 28031, \"fpr\": 0.16819973718791065, \"tpr\": 0.9119546216688666, \"n\": 5327}, {\"threshold\": 0.7269999980926514, \"p\": 28031, \"fpr\": 0.16801201426694198, \"tpr\": 0.9117048981484784, \"n\": 5327}, {\"threshold\": 0.7279999852180481, \"p\": 28031, \"fpr\": 0.16782429134597335, \"tpr\": 0.9116335485712247, \"n\": 5327}, {\"threshold\": 0.7289999723434448, \"p\": 28031, \"fpr\": 0.16763656842500468, \"tpr\": 0.9114908494167172, \"n\": 5327}, {\"threshold\": 0.7300000190734863, \"p\": 28031, \"fpr\": 0.16726112258306738, \"tpr\": 0.9113481502622097, \"n\": 5327}, {\"threshold\": 0.7310000061988831, \"p\": 28031, \"fpr\": 0.16669795382016145, \"tpr\": 0.9110270771645678, \"n\": 5327}, {\"threshold\": 0.7319999933242798, \"p\": 28031, \"fpr\": 0.16594706213628685, \"tpr\": 0.9108843780100603, \"n\": 5327}, {\"threshold\": 0.7329999804496765, \"p\": 28031, \"fpr\": 0.16575933921531819, \"tpr\": 0.9105276301237916, \"n\": 5327}, {\"threshold\": 0.734000027179718, \"p\": 28031, \"fpr\": 0.16557161629434955, \"tpr\": 0.9103492561806571, \"n\": 5327}, {\"threshold\": 0.7350000143051147, \"p\": 28031, \"fpr\": 0.16538389337338089, \"tpr\": 0.9102065570261496, \"n\": 5327}, {\"threshold\": 0.7360000014305115, \"p\": 28031, \"fpr\": 0.16519617045241225, \"tpr\": 0.9099568335057615, \"n\": 5327}, {\"threshold\": 0.7369999885559082, \"p\": 28031, \"fpr\": 0.16519617045241225, \"tpr\": 0.909814134351254, \"n\": 5327}, {\"threshold\": 0.7379999756813049, \"p\": 28031, \"fpr\": 0.1646330016895063, \"tpr\": 0.9096357604081196, \"n\": 5327}, {\"threshold\": 0.7390000224113464, \"p\": 28031, \"fpr\": 0.16406983292660035, \"tpr\": 0.9093503620991046, \"n\": 5327}, {\"threshold\": 0.7400000095367432, \"p\": 28031, \"fpr\": 0.16369438708466305, \"tpr\": 0.909243337733224, \"n\": 5327}, {\"threshold\": 0.7409999966621399, \"p\": 28031, \"fpr\": 0.16294349540078842, \"tpr\": 0.9091006385787164, \"n\": 5327}, {\"threshold\": 0.7419999837875366, \"p\": 28031, \"fpr\": 0.1627557724798198, \"tpr\": 0.9088865898469551, \"n\": 5327}, {\"threshold\": 0.7429999709129333, \"p\": 28031, \"fpr\": 0.16219260371691382, \"tpr\": 0.9087438906924477, \"n\": 5327}, {\"threshold\": 0.7440000176429749, \"p\": 28031, \"fpr\": 0.1616294349540079, \"tpr\": 0.9084941671720596, \"n\": 5327}, {\"threshold\": 0.7450000047683716, \"p\": 28031, \"fpr\": 0.16144171203303923, \"tpr\": 0.9083157932289251, \"n\": 5327}, {\"threshold\": 0.7459999918937683, \"p\": 28031, \"fpr\": 0.1612539891120706, \"tpr\": 0.9079947201312832, \"n\": 5327}, {\"threshold\": 0.746999979019165, \"p\": 28031, \"fpr\": 0.1608785432701333, \"tpr\": 0.9078876957654026, \"n\": 5327}, {\"threshold\": 0.7480000257492065, \"p\": 28031, \"fpr\": 0.16069082034916463, \"tpr\": 0.9075309478791338, \"n\": 5327}, {\"threshold\": 0.7490000128746033, \"p\": 28031, \"fpr\": 0.160503097428196, \"tpr\": 0.907209874781492, \"n\": 5327}, {\"threshold\": 0.75, \"p\": 28031, \"fpr\": 0.1601276515862587, \"tpr\": 0.9070315008383575, \"n\": 5327}, {\"threshold\": 0.7509999871253967, \"p\": 28031, \"fpr\": 0.15881359113947813, \"tpr\": 0.90688880168385, \"n\": 5327}, {\"threshold\": 0.7519999742507935, \"p\": 28031, \"fpr\": 0.1586258682185095, \"tpr\": 0.9066747529520888, \"n\": 5327}, {\"threshold\": 0.753000020980835, \"p\": 28031, \"fpr\": 0.15749953069269756, \"tpr\": 0.9064250294317007, \"n\": 5327}, {\"threshold\": 0.7540000081062317, \"p\": 28031, \"fpr\": 0.15731180777172893, \"tpr\": 0.9063536798544468, \"n\": 5327}, {\"threshold\": 0.7549999952316284, \"p\": 28031, \"fpr\": 0.15731180777172893, \"tpr\": 0.9061753059113125, \"n\": 5327}, {\"threshold\": 0.7559999823570251, \"p\": 28031, \"fpr\": 0.15693636192979163, \"tpr\": 0.9059612571795512, \"n\": 5327}, {\"threshold\": 0.7570000290870667, \"p\": 28031, \"fpr\": 0.15674863900882297, \"tpr\": 0.9056045092932824, \"n\": 5327}, {\"threshold\": 0.7580000162124634, \"p\": 28031, \"fpr\": 0.15599774732494837, \"tpr\": 0.9053547857728943, \"n\": 5327}, {\"threshold\": 0.7590000033378601, \"p\": 28031, \"fpr\": 0.15543457856204243, \"tpr\": 0.9048910135207449, \"n\": 5327}, {\"threshold\": 0.7599999904632568, \"p\": 28031, \"fpr\": 0.15524685564107377, \"tpr\": 0.9046412900003568, \"n\": 5327}, {\"threshold\": 0.7609999775886536, \"p\": 28031, \"fpr\": 0.15487140979913647, \"tpr\": 0.9043558916913417, \"n\": 5327}, {\"threshold\": 0.7620000243186951, \"p\": 28031, \"fpr\": 0.15449596395719917, \"tpr\": 0.903999143805073, \"n\": 5327}, {\"threshold\": 0.7630000114440918, \"p\": 28031, \"fpr\": 0.15393279519429323, \"tpr\": 0.9038921194391923, \"n\": 5327}, {\"threshold\": 0.7639999985694885, \"p\": 28031, \"fpr\": 0.15355734935235593, \"tpr\": 0.9034640219756698, \"n\": 5327}, {\"threshold\": 0.7649999856948853, \"p\": 28031, \"fpr\": 0.15318190351041863, \"tpr\": 0.9032142984552817, \"n\": 5327}, {\"threshold\": 0.765999972820282, \"p\": 28031, \"fpr\": 0.15261873474751267, \"tpr\": 0.9030715993007742, \"n\": 5327}, {\"threshold\": 0.7670000195503235, \"p\": 28031, \"fpr\": 0.15243101182654403, \"tpr\": 0.9027505262031322, \"n\": 5327}, {\"threshold\": 0.7680000066757202, \"p\": 28031, \"fpr\": 0.15224328890557537, \"tpr\": 0.9026078270486247, \"n\": 5327}, {\"threshold\": 0.7689999938011169, \"p\": 28031, \"fpr\": 0.15186784306363807, \"tpr\": 0.9022867539509828, \"n\": 5327}, {\"threshold\": 0.7699999809265137, \"p\": 28031, \"fpr\": 0.15186784306363807, \"tpr\": 0.9021083800078484, \"n\": 5327}, {\"threshold\": 0.7710000276565552, \"p\": 28031, \"fpr\": 0.15149239722170077, \"tpr\": 0.9017516321215797, \"n\": 5327}, {\"threshold\": 0.7720000147819519, \"p\": 28031, \"fpr\": 0.1513046743007321, \"tpr\": 0.9014305590239378, \"n\": 5327}, {\"threshold\": 0.7730000019073486, \"p\": 28031, \"fpr\": 0.15074150553782617, \"tpr\": 0.9011451607149228, \"n\": 5327}, {\"threshold\": 0.7739999890327454, \"p\": 28031, \"fpr\": 0.1501783367749202, \"tpr\": 0.9009311119831614, \"n\": 5327}, {\"threshold\": 0.7749999761581421, \"p\": 28031, \"fpr\": 0.1498028909329829, \"tpr\": 0.9007527380400271, \"n\": 5327}, {\"threshold\": 0.7760000228881836, \"p\": 28031, \"fpr\": 0.14923972217007697, \"tpr\": 0.9007170632514002, \"n\": 5327}, {\"threshold\": 0.7770000100135803, \"p\": 28031, \"fpr\": 0.14848883048620237, \"tpr\": 0.9004673397310121, \"n\": 5327}, {\"threshold\": 0.777999997138977, \"p\": 28031, \"fpr\": 0.1483011075652337, \"tpr\": 0.9002176162106239, \"n\": 5327}, {\"threshold\": 0.7789999842643738, \"p\": 28031, \"fpr\": 0.14773793880232777, \"tpr\": 0.8998251935357283, \"n\": 5327}, {\"threshold\": 0.7799999713897705, \"p\": 28031, \"fpr\": 0.14773793880232777, \"tpr\": 0.8995397952267132, \"n\": 5327}, {\"threshold\": 0.781000018119812, \"p\": 28031, \"fpr\": 0.1475502158813591, \"tpr\": 0.8994327708608326, \"n\": 5327}, {\"threshold\": 0.7820000052452087, \"p\": 28031, \"fpr\": 0.14698704711845317, \"tpr\": 0.8990760229745639, \"n\": 5327}, {\"threshold\": 0.7829999923706055, \"p\": 28031, \"fpr\": 0.14698704711845317, \"tpr\": 0.8988619742428026, \"n\": 5327}, {\"threshold\": 0.7839999794960022, \"p\": 28031, \"fpr\": 0.14698704711845317, \"tpr\": 0.8985765759337876, \"n\": 5327}, {\"threshold\": 0.7850000262260437, \"p\": 28031, \"fpr\": 0.14661160127651587, \"tpr\": 0.8983268524133995, \"n\": 5327}, {\"threshold\": 0.7860000133514404, \"p\": 28031, \"fpr\": 0.14661160127651587, \"tpr\": 0.8980771288930113, \"n\": 5327}, {\"threshold\": 0.7870000004768372, \"p\": 28031, \"fpr\": 0.14586070959264127, \"tpr\": 0.8977560557953694, \"n\": 5327}, {\"threshold\": 0.7879999876022339, \"p\": 28031, \"fpr\": 0.14548526375070397, \"tpr\": 0.8975776818522351, \"n\": 5327}, {\"threshold\": 0.7889999747276306, \"p\": 28031, \"fpr\": 0.1445466491458607, \"tpr\": 0.89729228354322, \"n\": 5327}, {\"threshold\": 0.7900000214576721, \"p\": 28031, \"fpr\": 0.1445466491458607, \"tpr\": 0.8970425600228319, \"n\": 5327}, {\"threshold\": 0.7910000085830688, \"p\": 28031, \"fpr\": 0.14435892622489205, \"tpr\": 0.8967928365024437, \"n\": 5327}, {\"threshold\": 0.7919999957084656, \"p\": 28031, \"fpr\": 0.1437957574619861, \"tpr\": 0.8965431129820556, \"n\": 5327}, {\"threshold\": 0.7929999828338623, \"p\": 28031, \"fpr\": 0.1434203116200488, \"tpr\": 0.8962933894616675, \"n\": 5327}, {\"threshold\": 0.7940000295639038, \"p\": 28031, \"fpr\": 0.14285714285714285, \"tpr\": 0.8960079911526524, \"n\": 5327}, {\"threshold\": 0.7950000166893005, \"p\": 28031, \"fpr\": 0.14248169701520555, \"tpr\": 0.8957582676322643, \"n\": 5327}, {\"threshold\": 0.7960000038146973, \"p\": 28031, \"fpr\": 0.14173080533133095, \"tpr\": 0.8954728693232492, \"n\": 5327}, {\"threshold\": 0.796999990940094, \"p\": 28031, \"fpr\": 0.14116763656842501, \"tpr\": 0.895258820591488, \"n\": 5327}, {\"threshold\": 0.7979999780654907, \"p\": 28031, \"fpr\": 0.14079219072648771, \"tpr\": 0.8950090970710999, \"n\": 5327}, {\"threshold\": 0.7990000247955322, \"p\": 28031, \"fpr\": 0.14022902196358175, \"tpr\": 0.8947593735507117, \"n\": 5327}, {\"threshold\": 0.800000011920929, \"p\": 28031, \"fpr\": 0.14004129904261312, \"tpr\": 0.8947236987620848, \"n\": 5327}, {\"threshold\": 0.8009999990463257, \"p\": 28031, \"fpr\": 0.13966585320067582, \"tpr\": 0.894402625664443, \"n\": 5327}, {\"threshold\": 0.8019999861717224, \"p\": 28031, \"fpr\": 0.13910268443776985, \"tpr\": 0.894081552566801, \"n\": 5327}, {\"threshold\": 0.8029999732971191, \"p\": 28031, \"fpr\": 0.13872723859583255, \"tpr\": 0.8937248046805323, \"n\": 5327}, {\"threshold\": 0.8040000200271606, \"p\": 28031, \"fpr\": 0.13872723859583255, \"tpr\": 0.8932967072170097, \"n\": 5327}, {\"threshold\": 0.8050000071525574, \"p\": 28031, \"fpr\": 0.13797634691195795, \"tpr\": 0.892939959330741, \"n\": 5327}, {\"threshold\": 0.8059999942779541, \"p\": 28031, \"fpr\": 0.13797634691195795, \"tpr\": 0.8927615853876065, \"n\": 5327}, {\"threshold\": 0.8069999814033508, \"p\": 28031, \"fpr\": 0.1377886239909893, \"tpr\": 0.8925475366558453, \"n\": 5327}, {\"threshold\": 0.8080000281333923, \"p\": 28031, \"fpr\": 0.13722545522808335, \"tpr\": 0.8924048375013378, \"n\": 5327}, {\"threshold\": 0.8090000152587891, \"p\": 28031, \"fpr\": 0.1366622864651774, \"tpr\": 0.8918340408833078, \"n\": 5327}, {\"threshold\": 0.8100000023841858, \"p\": 28031, \"fpr\": 0.13647456354420875, \"tpr\": 0.8914416182084122, \"n\": 5327}, {\"threshold\": 0.8109999895095825, \"p\": 28031, \"fpr\": 0.1362868406232401, \"tpr\": 0.8911205451107702, \"n\": 5327}, {\"threshold\": 0.8119999766349792, \"p\": 28031, \"fpr\": 0.1359113947813028, \"tpr\": 0.8909778459562627, \"n\": 5327}, {\"threshold\": 0.8130000233650208, \"p\": 28031, \"fpr\": 0.13572367186033416, \"tpr\": 0.8907637972245015, \"n\": 5327}, {\"threshold\": 0.8140000104904175, \"p\": 28031, \"fpr\": 0.13572367186033416, \"tpr\": 0.8903713745496058, \"n\": 5327}, {\"threshold\": 0.8149999976158142, \"p\": 28031, \"fpr\": 0.1351605030974282, \"tpr\": 0.8899789518747101, \"n\": 5327}, {\"threshold\": 0.8159999847412109, \"p\": 28031, \"fpr\": 0.13497278017645956, \"tpr\": 0.8898362527202026, \"n\": 5327}, {\"threshold\": 0.8169999718666077, \"p\": 28031, \"fpr\": 0.1340341655716163, \"tpr\": 0.8895151796225608, \"n\": 5327}, {\"threshold\": 0.8180000185966492, \"p\": 28031, \"fpr\": 0.1340341655716163, \"tpr\": 0.8892654561021726, \"n\": 5327}, {\"threshold\": 0.8190000057220459, \"p\": 28031, \"fpr\": 0.13384644265064766, \"tpr\": 0.8889800577931576, \"n\": 5327}, {\"threshold\": 0.8199999928474426, \"p\": 28031, \"fpr\": 0.13384644265064766, \"tpr\": 0.8883379115978738, \"n\": 5327}, {\"threshold\": 0.8209999799728394, \"p\": 28031, \"fpr\": 0.13309555096677303, \"tpr\": 0.887981163711605, \"n\": 5327}, {\"threshold\": 0.8220000267028809, \"p\": 28031, \"fpr\": 0.13309555096677303, \"tpr\": 0.8875530662480825, \"n\": 5327}, {\"threshold\": 0.8230000138282776, \"p\": 28031, \"fpr\": 0.1329078280458044, \"tpr\": 0.8871606435731868, \"n\": 5327}, {\"threshold\": 0.8240000009536743, \"p\": 28031, \"fpr\": 0.1325323822038671, \"tpr\": 0.886839570475545, \"n\": 5327}, {\"threshold\": 0.824999988079071, \"p\": 28031, \"fpr\": 0.13159376759902383, \"tpr\": 0.8864471478006493, \"n\": 5327}, {\"threshold\": 0.8259999752044678, \"p\": 28031, \"fpr\": 0.1310305988361179, \"tpr\": 0.885947700759873, \"n\": 5327}, {\"threshold\": 0.8270000219345093, \"p\": 28031, \"fpr\": 0.1306551529941806, \"tpr\": 0.8855552780849774, \"n\": 5327}, {\"threshold\": 0.828000009059906, \"p\": 28031, \"fpr\": 0.13009198423127463, \"tpr\": 0.8853055545645893, \"n\": 5327}, {\"threshold\": 0.8289999961853027, \"p\": 28031, \"fpr\": 0.12971653838933733, \"tpr\": 0.8850915058328279, \"n\": 5327}, {\"threshold\": 0.8299999833106995, \"p\": 28031, \"fpr\": 0.1295288154683687, \"tpr\": 0.8847347579465592, \"n\": 5327}, {\"threshold\": 0.8309999704360962, \"p\": 28031, \"fpr\": 0.12821475502158813, \"tpr\": 0.8845920587920516, \"n\": 5327}, {\"threshold\": 0.8320000171661377, \"p\": 28031, \"fpr\": 0.12783930917965083, \"tpr\": 0.8841282865399023, \"n\": 5327}, {\"threshold\": 0.8330000042915344, \"p\": 28031, \"fpr\": 0.12708841749577623, \"tpr\": 0.8837358638650066, \"n\": 5327}, {\"threshold\": 0.8339999914169312, \"p\": 28031, \"fpr\": 0.12671297165383894, \"tpr\": 0.8832720916128572, \"n\": 5327}, {\"threshold\": 0.8349999785423279, \"p\": 28031, \"fpr\": 0.12596207996996434, \"tpr\": 0.8829510185152153, \"n\": 5327}, {\"threshold\": 0.8360000252723694, \"p\": 28031, \"fpr\": 0.12521118828608974, \"tpr\": 0.8824872462630658, \"n\": 5327}, {\"threshold\": 0.8370000123977661, \"p\": 28031, \"fpr\": 0.12483574244415244, \"tpr\": 0.8822375227426777, \"n\": 5327}, {\"threshold\": 0.8379999995231628, \"p\": 28031, \"fpr\": 0.12446029660221514, \"tpr\": 0.8820591487995434, \"n\": 5327}, {\"threshold\": 0.8389999866485596, \"p\": 28031, \"fpr\": 0.12446029660221514, \"tpr\": 0.8815240269701402, \"n\": 5327}, {\"threshold\": 0.8399999737739563, \"p\": 28031, \"fpr\": 0.12370940491834052, \"tpr\": 0.8809175555634833, \"n\": 5327}, {\"threshold\": 0.8410000205039978, \"p\": 28031, \"fpr\": 0.12333395907640322, \"tpr\": 0.880703506831722, \"n\": 5327}, {\"threshold\": 0.8420000076293945, \"p\": 28031, \"fpr\": 0.12277079031349727, \"tpr\": 0.880132710213692, \"n\": 5327}, {\"threshold\": 0.8429999947547913, \"p\": 28031, \"fpr\": 0.12258306739252862, \"tpr\": 0.8796332631729157, \"n\": 5327}, {\"threshold\": 0.843999981880188, \"p\": 28031, \"fpr\": 0.12164445278768538, \"tpr\": 0.878955442189005, \"n\": 5327}, {\"threshold\": 0.8450000286102295, \"p\": 28031, \"fpr\": 0.12089356110381078, \"tpr\": 0.8787057186686169, \"n\": 5327}, {\"threshold\": 0.8460000157356262, \"p\": 28031, \"fpr\": 0.12070583818284213, \"tpr\": 0.8784203203596018, \"n\": 5327}, {\"threshold\": 0.847000002861023, \"p\": 28031, \"fpr\": 0.12051811526187348, \"tpr\": 0.8781349220505869, \"n\": 5327}, {\"threshold\": 0.8479999899864197, \"p\": 28031, \"fpr\": 0.11957950065703023, \"tpr\": 0.8778851985301988, \"n\": 5327}, {\"threshold\": 0.8489999771118164, \"p\": 28031, \"fpr\": 0.11939177773606158, \"tpr\": 0.8774571010666762, \"n\": 5327}, {\"threshold\": 0.8500000238418579, \"p\": 28031, \"fpr\": 0.11920405481509293, \"tpr\": 0.8770646783917805, \"n\": 5327}, {\"threshold\": 0.8510000109672546, \"p\": 28031, \"fpr\": 0.11901633189412428, \"tpr\": 0.8766722557168849, \"n\": 5327}, {\"threshold\": 0.8519999980926514, \"p\": 28031, \"fpr\": 0.11882860897315563, \"tpr\": 0.8762084834647355, \"n\": 5327}, {\"threshold\": 0.8529999852180481, \"p\": 28031, \"fpr\": 0.11826544021024968, \"tpr\": 0.875744711212586, \"n\": 5327}, {\"threshold\": 0.8539999723434448, \"p\": 28031, \"fpr\": 0.11788999436831236, \"tpr\": 0.8753522885376904, \"n\": 5327}, {\"threshold\": 0.8550000190734863, \"p\": 28031, \"fpr\": 0.11732682560540642, \"tpr\": 0.8746387927651529, \"n\": 5327}, {\"threshold\": 0.8560000061988831, \"p\": 28031, \"fpr\": 0.11713910268443777, \"tpr\": 0.8740679961471228, \"n\": 5327}, {\"threshold\": 0.8569999933242798, \"p\": 28031, \"fpr\": 0.11695137976346912, \"tpr\": 0.8738182726267347, \"n\": 5327}, {\"threshold\": 0.8579999804496765, \"p\": 28031, \"fpr\": 0.11620048807959452, \"tpr\": 0.873425849951839, \"n\": 5327}, {\"threshold\": 0.859000027179718, \"p\": 28031, \"fpr\": 0.11620048807959452, \"tpr\": 0.872855053333809, \"n\": 5327}, {\"threshold\": 0.8600000143051147, \"p\": 28031, \"fpr\": 0.11601276515862587, \"tpr\": 0.8723912810816596, \"n\": 5327}, {\"threshold\": 0.8610000014305115, \"p\": 28031, \"fpr\": 0.11544959639571992, \"tpr\": 0.8721415575612714, \"n\": 5327}, {\"threshold\": 0.8619999885559082, \"p\": 28031, \"fpr\": 0.11526187347475127, \"tpr\": 0.8717491348863758, \"n\": 5327}, {\"threshold\": 0.8629999756813049, \"p\": 28031, \"fpr\": 0.11507415055378262, \"tpr\": 0.8713567122114801, \"n\": 5327}, {\"threshold\": 0.8640000224113464, \"p\": 28031, \"fpr\": 0.11432325886990802, \"tpr\": 0.8710356391138383, \"n\": 5327}, {\"threshold\": 0.8650000095367432, \"p\": 28031, \"fpr\": 0.11319692134409612, \"tpr\": 0.8704648424958082, \"n\": 5327}, {\"threshold\": 0.8659999966621399, \"p\": 28031, \"fpr\": 0.11263375258119017, \"tpr\": 0.8697513467232707, \"n\": 5327}, {\"threshold\": 0.8669999837875366, \"p\": 28031, \"fpr\": 0.1120705838182842, \"tpr\": 0.8693945988370019, \"n\": 5327}, {\"threshold\": 0.8679999709129333, \"p\": 28031, \"fpr\": 0.11188286089731556, \"tpr\": 0.8688594770075987, \"n\": 5327}, {\"threshold\": 0.8690000176429749, \"p\": 28031, \"fpr\": 0.11150741505537826, \"tpr\": 0.8685740786985837, \"n\": 5327}, {\"threshold\": 0.8700000047683716, \"p\": 28031, \"fpr\": 0.11075652337150366, \"tpr\": 0.8680389568691805, \"n\": 5327}, {\"threshold\": 0.8709999918937683, \"p\": 28031, \"fpr\": 0.11038107752956636, \"tpr\": 0.8677892333487924, \"n\": 5327}, {\"threshold\": 0.871999979019165, \"p\": 28031, \"fpr\": 0.10963018584569176, \"tpr\": 0.8672897863080161, \"n\": 5327}, {\"threshold\": 0.8730000257492065, \"p\": 28031, \"fpr\": 0.10906701708278581, \"tpr\": 0.8666476401127323, \"n\": 5327}, {\"threshold\": 0.8740000128746033, \"p\": 28031, \"fpr\": 0.10869157124084851, \"tpr\": 0.8662908922264636, \"n\": 5327}, {\"threshold\": 0.875, \"p\": 28031, \"fpr\": 0.10812840247794256, \"tpr\": 0.8656844208198067, \"n\": 5327}, {\"threshold\": 0.8759999871253967, \"p\": 28031, \"fpr\": 0.10737751079406796, \"tpr\": 0.8653633477221647, \"n\": 5327}, {\"threshold\": 0.8769999742507935, \"p\": 28031, \"fpr\": 0.10662661911019336, \"tpr\": 0.8647212015268809, \"n\": 5327}, {\"threshold\": 0.878000020980835, \"p\": 28031, \"fpr\": 0.1056880045053501, \"tpr\": 0.8642217544861047, \"n\": 5327}, {\"threshold\": 0.8790000081062317, \"p\": 28031, \"fpr\": 0.1053125586634128, \"tpr\": 0.8637223074453284, \"n\": 5327}, {\"threshold\": 0.8799999952316284, \"p\": 28031, \"fpr\": 0.10512483574244415, \"tpr\": 0.8629374620955371, \"n\": 5327}, {\"threshold\": 0.8809999823570251, \"p\": 28031, \"fpr\": 0.10474938990050685, \"tpr\": 0.8621882915343727, \"n\": 5327}, {\"threshold\": 0.8820000290870667, \"p\": 28031, \"fpr\": 0.1041862211376009, \"tpr\": 0.8616174949163427, \"n\": 5327}, {\"threshold\": 0.8830000162124634, \"p\": 28031, \"fpr\": 0.1038107752956636, \"tpr\": 0.8610110235096857, \"n\": 5327}, {\"threshold\": 0.8840000033378601, \"p\": 28031, \"fpr\": 0.10287216069082035, \"tpr\": 0.8602618529485213, \"n\": 5327}, {\"threshold\": 0.8849999904632568, \"p\": 28031, \"fpr\": 0.10249671484888305, \"tpr\": 0.8594056580214762, \"n\": 5327}, {\"threshold\": 0.8859999775886536, \"p\": 28031, \"fpr\": 0.1023089919279144, \"tpr\": 0.8590132353465806, \"n\": 5327}, {\"threshold\": 0.8870000243186951, \"p\": 28031, \"fpr\": 0.1019335460859771, \"tpr\": 0.8582640647854162, \"n\": 5327}, {\"threshold\": 0.8880000114440918, \"p\": 28031, \"fpr\": 0.1015581002440398, \"tpr\": 0.8575862438015055, \"n\": 5327}, {\"threshold\": 0.8889999985694885, \"p\": 28031, \"fpr\": 0.1011826544021025, \"tpr\": 0.8571581463379829, \"n\": 5327}, {\"threshold\": 0.8899999856948853, \"p\": 28031, \"fpr\": 0.09968087103435329, \"tpr\": 0.856551674931326, \"n\": 5327}, {\"threshold\": 0.890999972820282, \"p\": 28031, \"fpr\": 0.09930542519241599, \"tpr\": 0.8556598052156541, \"n\": 5327}, {\"threshold\": 0.8920000195503235, \"p\": 28031, \"fpr\": 0.09855453350854139, \"tpr\": 0.8550176590203703, \"n\": 5327}, {\"threshold\": 0.8930000066757202, \"p\": 28031, \"fpr\": 0.09817908766660409, \"tpr\": 0.8543041632478328, \"n\": 5327}, {\"threshold\": 0.8939999938011169, \"p\": 28031, \"fpr\": 0.09724047306176084, \"tpr\": 0.853376618743534, \"n\": 5327}, {\"threshold\": 0.8949999809265137, \"p\": 28031, \"fpr\": 0.09686502721982354, \"tpr\": 0.8526987977596233, \"n\": 5327}, {\"threshold\": 0.8960000276565552, \"p\": 28031, \"fpr\": 0.09686502721982354, \"tpr\": 0.851878277621205, \"n\": 5327}, {\"threshold\": 0.8970000147819519, \"p\": 28031, \"fpr\": 0.09667730429885489, \"tpr\": 0.8511647818486675, \"n\": 5327}, {\"threshold\": 0.8980000019073486, \"p\": 28031, \"fpr\": 0.09630185845691759, \"tpr\": 0.8505583104420106, \"n\": 5327}, {\"threshold\": 0.8989999890327454, \"p\": 28031, \"fpr\": 0.09573868969401164, \"tpr\": 0.8497734650922193, \"n\": 5327}, {\"threshold\": 0.8999999761581421, \"p\": 28031, \"fpr\": 0.09536324385207434, \"tpr\": 0.8490956441083086, \"n\": 5327}, {\"threshold\": 0.9010000228881836, \"p\": 28031, \"fpr\": 0.09442462924723109, \"tpr\": 0.848417823124398, \"n\": 5327}, {\"threshold\": 0.9020000100135803, \"p\": 28031, \"fpr\": 0.09423690632626244, \"tpr\": 0.8477400021404873, \"n\": 5327}, {\"threshold\": 0.902999997138977, \"p\": 28031, \"fpr\": 0.09367373756335648, \"tpr\": 0.8474189290428454, \"n\": 5327}, {\"threshold\": 0.9039999842643738, \"p\": 28031, \"fpr\": 0.09348601464238783, \"tpr\": 0.8465984089044273, \"n\": 5327}, {\"threshold\": 0.9049999713897705, \"p\": 28031, \"fpr\": 0.09254740003754458, \"tpr\": 0.8460276122863972, \"n\": 5327}, {\"threshold\": 0.906000018119812, \"p\": 28031, \"fpr\": 0.09142106251173268, \"tpr\": 0.8451000677820983, \"n\": 5327}, {\"threshold\": 0.9070000052452087, \"p\": 28031, \"fpr\": 0.09067017082785808, \"tpr\": 0.8442438728550533, \"n\": 5327}, {\"threshold\": 0.9079999923706055, \"p\": 28031, \"fpr\": 0.08973155622301483, \"tpr\": 0.8432093039848739, \"n\": 5327}, {\"threshold\": 0.9089999794960022, \"p\": 28031, \"fpr\": 0.08954383330204618, \"tpr\": 0.8421747351146944, \"n\": 5327}, {\"threshold\": 0.9100000262260437, \"p\": 28031, \"fpr\": 0.08935611038107753, \"tpr\": 0.8413185401876494, \"n\": 5327}, {\"threshold\": 0.9110000133514404, \"p\": 28031, \"fpr\": 0.08860521869720293, \"tpr\": 0.8403909956833506, \"n\": 5327}, {\"threshold\": 0.9120000004768372, \"p\": 28031, \"fpr\": 0.08841749577623428, \"tpr\": 0.83971317469944, \"n\": 5327}, {\"threshold\": 0.9129999876022339, \"p\": 28031, \"fpr\": 0.08804204993429698, \"tpr\": 0.8389996789269023, \"n\": 5327}, {\"threshold\": 0.9139999747276306, \"p\": 28031, \"fpr\": 0.08804204993429698, \"tpr\": 0.8383575327316186, \"n\": 5327}, {\"threshold\": 0.9150000214576721, \"p\": 28031, \"fpr\": 0.08766660409235967, \"tpr\": 0.8372516142841854, \"n\": 5327}, {\"threshold\": 0.9160000085830688, \"p\": 28031, \"fpr\": 0.08710343532945372, \"tpr\": 0.8363597445685135, \"n\": 5327}, {\"threshold\": 0.9169999957084656, \"p\": 28031, \"fpr\": 0.08635254364557912, \"tpr\": 0.8349684278120653, \"n\": 5327}, {\"threshold\": 0.9179999828338623, \"p\": 28031, \"fpr\": 0.08635254364557912, \"tpr\": 0.8336841354214977, \"n\": 5327}, {\"threshold\": 0.9190000295639038, \"p\": 28031, \"fpr\": 0.08578937488267317, \"tpr\": 0.8327922657058257, \"n\": 5327}, {\"threshold\": 0.9200000166893005, \"p\": 28031, \"fpr\": 0.08503848319879857, \"tpr\": 0.8313652741607506, \"n\": 5327}, {\"threshold\": 0.9210000038146973, \"p\": 28031, \"fpr\": 0.08466303735686127, \"tpr\": 0.830366380079198, \"n\": 5327}, {\"threshold\": 0.921999990940094, \"p\": 28031, \"fpr\": 0.08372442275201802, \"tpr\": 0.8292247868431379, \"n\": 5327}, {\"threshold\": 0.9229999780654907, \"p\": 28031, \"fpr\": 0.08297353106814342, \"tpr\": 0.8280831936070778, \"n\": 5327}, {\"threshold\": 0.9240000247955322, \"p\": 28031, \"fpr\": 0.08259808522620612, \"tpr\": 0.8271556491027791, \"n\": 5327}, {\"threshold\": 0.925000011920929, \"p\": 28031, \"fpr\": 0.08222263938426883, \"tpr\": 0.8263351289643609, \"n\": 5327}, {\"threshold\": 0.9259999990463257, \"p\": 28031, \"fpr\": 0.08128402477942556, \"tpr\": 0.8250151617851664, \"n\": 5327}, {\"threshold\": 0.9269999861717224, \"p\": 28031, \"fpr\": 0.08128402477942556, \"tpr\": 0.8238378937604794, \"n\": 5327}, {\"threshold\": 0.9279999732971191, \"p\": 28031, \"fpr\": 0.08109630185845691, \"tpr\": 0.8228746744675538, \"n\": 5327}, {\"threshold\": 0.9290000200271606, \"p\": 28031, \"fpr\": 0.08034541017458231, \"tpr\": 0.8215190324997325, \"n\": 5327}, {\"threshold\": 0.9300000071525574, \"p\": 28031, \"fpr\": 0.07959451849070771, \"tpr\": 0.8203060896864186, \"n\": 5327}, {\"threshold\": 0.9309999942779541, \"p\": 28031, \"fpr\": 0.07846818096489581, \"tpr\": 0.818736398986836, \"n\": 5327}, {\"threshold\": 0.9319999814033508, \"p\": 28031, \"fpr\": 0.07828045804392716, \"tpr\": 0.8173450822303878, \"n\": 5327}, {\"threshold\": 0.9330000281333923, \"p\": 28031, \"fpr\": 0.07828045804392716, \"tpr\": 0.8161678142057008, \"n\": 5327}, {\"threshold\": 0.9340000152587891, \"p\": 28031, \"fpr\": 0.07809273512295851, \"tpr\": 0.8146337982947451, \"n\": 5327}, {\"threshold\": 0.9350000023841858, \"p\": 28031, \"fpr\": 0.07771728928102122, \"tpr\": 0.8131354571724162, \"n\": 5327}, {\"threshold\": 0.9359999895095825, \"p\": 28031, \"fpr\": 0.07715412051811527, \"tpr\": 0.8119225143591025, \"n\": 5327}, {\"threshold\": 0.9369999766349792, \"p\": 28031, \"fpr\": 0.07659095175520932, \"tpr\": 0.8108522707002961, \"n\": 5327}, {\"threshold\": 0.9380000233650208, \"p\": 28031, \"fpr\": 0.07621550591327202, \"tpr\": 0.8093896043665941, \"n\": 5327}, {\"threshold\": 0.9390000104904175, \"p\": 28031, \"fpr\": 0.07584006007133472, \"tpr\": 0.8078555884556384, \"n\": 5327}, {\"threshold\": 0.9399999976158142, \"p\": 28031, \"fpr\": 0.0750891683874601, \"tpr\": 0.8060361742356676, \"n\": 5327}, {\"threshold\": 0.9409999847412109, \"p\": 28031, \"fpr\": 0.07452599962455415, \"tpr\": 0.8047162070564732, \"n\": 5327}, {\"threshold\": 0.9419999718666077, \"p\": 28031, \"fpr\": 0.07377510794067955, \"tpr\": 0.8032892155113981, \"n\": 5327}, {\"threshold\": 0.9430000185966492, \"p\": 28031, \"fpr\": 0.0735873850197109, \"tpr\": 0.8017551996004424, \"n\": 5327}, {\"threshold\": 0.9440000057220459, \"p\": 28031, \"fpr\": 0.0728364933358363, \"tpr\": 0.8003282080553673, \"n\": 5327}, {\"threshold\": 0.9449999928474426, \"p\": 28031, \"fpr\": 0.072461047493899, \"tpr\": 0.7987228425671578, \"n\": 5327}, {\"threshold\": 0.9459999799728394, \"p\": 28031, \"fpr\": 0.0720856016519617, \"tpr\": 0.7968677535585602, \"n\": 5327}, {\"threshold\": 0.9470000267028809, \"p\": 28031, \"fpr\": 0.07114698704711846, \"tpr\": 0.7951910384930969, \"n\": 5327}, {\"threshold\": 0.9480000138282776, \"p\": 28031, \"fpr\": 0.07058381828421251, \"tpr\": 0.7937997217366487, \"n\": 5327}, {\"threshold\": 0.9490000009536743, \"p\": 28031, \"fpr\": 0.0690820349164633, \"tpr\": 0.7921230066711855, \"n\": 5327}, {\"threshold\": 0.949999988079071, \"p\": 28031, \"fpr\": 0.0675802515487141, \"tpr\": 0.7896971210445578, \"n\": 5327}, {\"threshold\": 0.9509999752044678, \"p\": 28031, \"fpr\": 0.0668293598648395, \"tpr\": 0.7881631051336021, \"n\": 5327}, {\"threshold\": 0.9520000219345093, \"p\": 28031, \"fpr\": 0.0660784681809649, \"tpr\": 0.7865934144340195, \"n\": 5327}, {\"threshold\": 0.953000009059906, \"p\": 28031, \"fpr\": 0.06551529941805895, \"tpr\": 0.7842032035960187, \"n\": 5327}, {\"threshold\": 0.9539999961853027, \"p\": 28031, \"fpr\": 0.064952130655153, \"tpr\": 0.781777317969391, \"n\": 5327}, {\"threshold\": 0.9549999833106995, \"p\": 28031, \"fpr\": 0.0642012389712784, \"tpr\": 0.7796368306517784, \"n\": 5327}, {\"threshold\": 0.9559999704360962, \"p\": 28031, \"fpr\": 0.06401351605030975, \"tpr\": 0.777995790374942, \"n\": 5327}, {\"threshold\": 0.9570000171661377, \"p\": 28031, \"fpr\": 0.06288717852449784, \"tpr\": 0.7757839534800757, \"n\": 5327}, {\"threshold\": 0.9580000042915344, \"p\": 28031, \"fpr\": 0.062136286840623244, \"tpr\": 0.7738575148942243, \"n\": 5327}, {\"threshold\": 0.9589999914169312, \"p\": 28031, \"fpr\": 0.06119767223577999, \"tpr\": 0.7710748813813278, \"n\": 5327}, {\"threshold\": 0.9599999785423279, \"p\": 28031, \"fpr\": 0.06082222639384269, \"tpr\": 0.768684670543327, \"n\": 5327}, {\"threshold\": 0.9610000252723694, \"p\": 28031, \"fpr\": 0.06025905763093674, \"tpr\": 0.7661517605508187, \"n\": 5327}, {\"threshold\": 0.9620000123977661, \"p\": 28031, \"fpr\": 0.05894499718415618, \"tpr\": 0.7640112732332061, \"n\": 5327}, {\"threshold\": 0.9629999995231628, \"p\": 28031, \"fpr\": 0.05838182842125023, \"tpr\": 0.7610502657771753, \"n\": 5327}, {\"threshold\": 0.9639999866485596, \"p\": 28031, \"fpr\": 0.057443213816406984, \"tpr\": 0.7578395348007563, \"n\": 5327}, {\"threshold\": 0.9649999737739563, \"p\": 28031, \"fpr\": 0.056692322132532384, \"tpr\": 0.7553422995968749, \"n\": 5327}, {\"threshold\": 0.9660000205039978, \"p\": 28031, \"fpr\": 0.05594143044865778, \"tpr\": 0.752381292140844, \"n\": 5327}, {\"threshold\": 0.9670000076293945, \"p\": 28031, \"fpr\": 0.05519053876478318, \"tpr\": 0.7493489351075595, \"n\": 5327}, {\"threshold\": 0.9679999947547913, \"p\": 28031, \"fpr\": 0.05462737000187723, \"tpr\": 0.7458528058221255, \"n\": 5327}, {\"threshold\": 0.968999981880188, \"p\": 28031, \"fpr\": 0.05425192415993993, \"tpr\": 0.7427134244229603, \"n\": 5327}, {\"threshold\": 0.9700000286102295, \"p\": 28031, \"fpr\": 0.05312558663412803, \"tpr\": 0.7389675716171382, \"n\": 5327}, {\"threshold\": 0.9710000157356262, \"p\": 28031, \"fpr\": 0.052186972029284774, \"tpr\": 0.7358995397952267, \"n\": 5327}, {\"threshold\": 0.972000002861023, \"p\": 28031, \"fpr\": 0.051248357424441525, \"tpr\": 0.7318682886803896, \"n\": 5327}, {\"threshold\": 0.9729999899864197, \"p\": 28031, \"fpr\": 0.050685188661535575, \"tpr\": 0.7284078341835825, \"n\": 5327}, {\"threshold\": 0.9739999771118164, \"p\": 28031, \"fpr\": 0.04955885113572367, \"tpr\": 0.7239841603938497, \"n\": 5327}, {\"threshold\": 0.9750000238418579, \"p\": 28031, \"fpr\": 0.04843251360991177, \"tpr\": 0.7195604866041169, \"n\": 5327}, {\"threshold\": 0.9760000109672546, \"p\": 28031, \"fpr\": 0.046743007321193915, \"tpr\": 0.7151011380257571, \"n\": 5327}, {\"threshold\": 0.9769999980926514, \"p\": 28031, \"fpr\": 0.045616669795382016, \"tpr\": 0.71049909029289, \"n\": 5327}, {\"threshold\": 0.9779999852180481, \"p\": 28031, \"fpr\": 0.04467805519053877, \"tpr\": 0.7061467660804109, \"n\": 5327}, {\"threshold\": 0.9789999723434448, \"p\": 28031, \"fpr\": 0.04430260934860147, \"tpr\": 0.7011522956726481, \"n\": 5327}, {\"threshold\": 0.9800000190734863, \"p\": 28031, \"fpr\": 0.04373944058569551, \"tpr\": 0.6952302807605865, \"n\": 5327}, {\"threshold\": 0.9810000061988831, \"p\": 28031, \"fpr\": 0.04298854890182091, \"tpr\": 0.6894866397916593, \"n\": 5327}, {\"threshold\": 0.9819999933242798, \"p\": 28031, \"fpr\": 0.04167448845504036, \"tpr\": 0.6829224786843138, \"n\": 5327}, {\"threshold\": 0.9829999804496765, \"p\": 28031, \"fpr\": 0.03942181340341656, \"tpr\": 0.6770361385608791, \"n\": 5327}, {\"threshold\": 0.984000027179718, \"p\": 28031, \"fpr\": 0.03792003003566736, \"tpr\": 0.6697228068923692, \"n\": 5327}, {\"threshold\": 0.9850000143051147, \"p\": 28031, \"fpr\": 0.03716913835179275, \"tpr\": 0.6621597517034712, \"n\": 5327}, {\"threshold\": 0.9860000014305115, \"p\": 28031, \"fpr\": 0.0358550779050122, \"tpr\": 0.6538832007420357, \"n\": 5327}, {\"threshold\": 0.9869999885559082, \"p\": 28031, \"fpr\": 0.034916463300168954, \"tpr\": 0.6446434304876744, \"n\": 5327}, {\"threshold\": 0.9879999756813049, \"p\": 28031, \"fpr\": 0.0336024028533884, \"tpr\": 0.6353323106560593, \"n\": 5327}, {\"threshold\": 0.9890000224113464, \"p\": 28031, \"fpr\": 0.03172517364370189, \"tpr\": 0.6254503942064144, \"n\": 5327}, {\"threshold\": 0.9900000095367432, \"p\": 28031, \"fpr\": 0.02928477567110944, \"tpr\": 0.613927437479933, \"n\": 5327}, {\"threshold\": 0.9909999966621399, \"p\": 28031, \"fpr\": 0.02797071522432889, \"tpr\": 0.601690984980914, \"n\": 5327}, {\"threshold\": 0.9919999837875366, \"p\": 28031, \"fpr\": 0.02665665477754834, \"tpr\": 0.5876351182619243, \"n\": 5327}, {\"threshold\": 0.9929999709129333, \"p\": 28031, \"fpr\": 0.024779425567861835, \"tpr\": 0.5724376583068745, \"n\": 5327}, {\"threshold\": 0.9940000176429749, \"p\": 28031, \"fpr\": 0.023089919279143983, \"tpr\": 0.5553137597659734, \"n\": 5327}, {\"threshold\": 0.9950000047683716, \"p\": 28031, \"fpr\": 0.02196358175333208, \"tpr\": 0.5329456672969213, \"n\": 5327}, {\"threshold\": 0.9959999918937683, \"p\": 28031, \"fpr\": 0.020274075464614228, \"tpr\": 0.5058685027291213, \"n\": 5327}, {\"threshold\": 0.996999979019165, \"p\": 28031, \"fpr\": 0.018209123333959076, \"tpr\": 0.47261959972887163, \"n\": 5327}, {\"threshold\": 0.9980000257492065, \"p\": 28031, \"fpr\": 0.015017833677492022, \"tpr\": 0.42806178873390177, \"n\": 5327}, {\"threshold\": 0.9990000128746033, \"p\": 28031, \"fpr\": 0.011263375258119017, \"tpr\": 0.3589597231636403, \"n\": 5327}, {\"threshold\": 1.0, \"p\": 28031, \"fpr\": 0.0, \"tpr\": 0.0, \"n\": 5327}]}]], \"type\": \"Model\"}, \"ipython\": true, \"view_params\": {\"model_type\": \"regression\", \"view\": \"Evaluation\"}, \"model_type\": \"regression\", \"attributes\": {\"section_titles\": [\"Schema\", \"Hyperparameters\", \"Training Summary\", \"Settings\", \"Highest Positive Coefficients\", \"Lowest Negative Coefficients\"], \"sections\": [[[\"Number of coefficients\", 219218], [\"Number of examples\", 133448], [\"Number of classes\", 2], [\"Number of feature columns\", 1], [\"Number of unpacked features\", 219217]], [[\"L1 penalty\", 0.0], [\"L2 penalty\", 0.01]], [[\"Solver\", \"auto\"], [\"Solver iterations\", 10], [\"Solver status\", \"TERMINATED: Iteration limit reached.\"], [\"Training time (sec)\", 10.3253]], [[\"Log-likelihood\", 4956.6901]], [[\"word_count[pinkjeep]\", 13.5701], [\"word_count[(http://www.amazon.com/review/rhgg6qp7tdnhb/ref=cm_cr_pr_cmt?ie=utf8&asin;=b00318cla0&nodeid;)]\", 12.3088], [\"word_count[label/box.]\", 11.1774], [\"word_count[product.***]\", 11.064], [\"word_count[direct-pumping]\", 11.0531]], [[\"word_count[it.update:after]\", -18.3631], [\"word_count[5months.]\", -16.0906], [\"word_count[oldest.if]\", -15.9315], [\"word_count[maxima.]\", -15.8084], [\"word_count[(160.00)]\", -15.4512]]]}, \"evaluations\": [[\"test_data\", {\"roc_curve\": [{\"threshold\": 0.0, \"p\": 28031, \"fpr\": 0.22357799887366248, \"tpr\": 0.00395990153758339, \"n\": 5327}, {\"threshold\": 0.0010000000474974513, \"p\": 28031, \"fpr\": 0.7764220011263375, \"tpr\": 0.9960400984624166, \"n\": 5327}, {\"threshold\": 0.0020000000949949026, \"p\": 28031, \"fpr\": 0.7366247418809837, \"tpr\": 0.9948628304377296, \"n\": 5327}, {\"threshold\": 0.003000000026077032, \"p\": 28031, \"fpr\": 0.713910268443777, \"tpr\": 0.9942563590310728, \"n\": 5327}, {\"threshold\": 0.004000000189989805, \"p\": 28031, \"fpr\": 0.698329266003379, \"tpr\": 0.9937925867789233, \"n\": 5327}, {\"threshold\": 0.004999999888241291, \"p\": 28031, \"fpr\": 0.6868781678242913, \"tpr\": 0.9934715136812814, \"n\": 5327}, {\"threshold\": 0.006000000052154064, \"p\": 28031, \"fpr\": 0.6771165759339215, \"tpr\": 0.9929720666405052, \"n\": 5327}, {\"threshold\": 0.007000000216066837, \"p\": 28031, \"fpr\": 0.6666040923596771, \"tpr\": 0.9926153187542364, \"n\": 5327}, {\"threshold\": 0.00800000037997961, \"p\": 28031, \"fpr\": 0.6562793317064014, \"tpr\": 0.9923299204452214, \"n\": 5327}, {\"threshold\": 0.008999999612569809, \"p\": 28031, \"fpr\": 0.648958137788624, \"tpr\": 0.9919731725589526, \"n\": 5327}, {\"threshold\": 0.009999999776482582, \"p\": 28031, \"fpr\": 0.6403228834240661, \"tpr\": 0.9916877742499376, \"n\": 5327}, {\"threshold\": 0.010999999940395355, \"p\": 28031, \"fpr\": 0.633377135348226, \"tpr\": 0.9913667011522956, \"n\": 5327}, {\"threshold\": 0.012000000104308128, \"p\": 28031, \"fpr\": 0.6281208935611038, \"tpr\": 0.9910099532660269, \"n\": 5327}, {\"threshold\": 0.013000000268220901, \"p\": 28031, \"fpr\": 0.6213628684062324, \"tpr\": 0.9907602297456387, \"n\": 5327}, {\"threshold\": 0.014000000432133675, \"p\": 28031, \"fpr\": 0.6164820724610475, \"tpr\": 0.9905105062252506, \"n\": 5327}, {\"threshold\": 0.014999999664723873, \"p\": 28031, \"fpr\": 0.6097240473061761, \"tpr\": 0.9902251079162356, \"n\": 5327}, {\"threshold\": 0.01600000075995922, \"p\": 28031, \"fpr\": 0.6050309742819598, \"tpr\": 0.9899040348185937, \"n\": 5327}, {\"threshold\": 0.017000000923871994, \"p\": 28031, \"fpr\": 0.6012765158625868, \"tpr\": 0.9896543112982056, \"n\": 5327}, {\"threshold\": 0.017999999225139618, \"p\": 28031, \"fpr\": 0.5965834428383706, \"tpr\": 0.9894759373550712, \"n\": 5327}, {\"threshold\": 0.01899999938905239, \"p\": 28031, \"fpr\": 0.5917026468931856, \"tpr\": 0.9893332382005636, \"n\": 5327}, {\"threshold\": 0.019999999552965164, \"p\": 28031, \"fpr\": 0.587197296789938, \"tpr\": 0.9891191894688024, \"n\": 5327}, {\"threshold\": 0.020999999716877937, \"p\": 28031, \"fpr\": 0.5836305612915337, \"tpr\": 0.988940815525668, \"n\": 5327}, {\"threshold\": 0.02199999988079071, \"p\": 28031, \"fpr\": 0.580814717477004, \"tpr\": 0.988655417216653, \"n\": 5327}, {\"threshold\": 0.023000000044703484, \"p\": 28031, \"fpr\": 0.5787497653463488, \"tpr\": 0.9885483928507723, \"n\": 5327}, {\"threshold\": 0.024000000208616257, \"p\": 28031, \"fpr\": 0.5744321381640698, \"tpr\": 0.9884056936962649, \"n\": 5327}, {\"threshold\": 0.02500000037252903, \"p\": 28031, \"fpr\": 0.5712408485076028, \"tpr\": 0.9882273197531305, \"n\": 5327}, {\"threshold\": 0.026000000536441803, \"p\": 28031, \"fpr\": 0.5676741130091985, \"tpr\": 0.9881202953872499, \"n\": 5327}, {\"threshold\": 0.027000000700354576, \"p\": 28031, \"fpr\": 0.5644828233527314, \"tpr\": 0.9878705718668617, \"n\": 5327}, {\"threshold\": 0.02800000086426735, \"p\": 28031, \"fpr\": 0.5616669795382017, \"tpr\": 0.9876921979237273, \"n\": 5327}, {\"threshold\": 0.028999999165534973, \"p\": 28031, \"fpr\": 0.5581002440397973, \"tpr\": 0.9875494987692198, \"n\": 5327}, {\"threshold\": 0.029999999329447746, \"p\": 28031, \"fpr\": 0.5543457856204242, \"tpr\": 0.9872641004602047, \"n\": 5327}, {\"threshold\": 0.03099999949336052, \"p\": 28031, \"fpr\": 0.552844002252675, \"tpr\": 0.9871570760943241, \"n\": 5327}, {\"threshold\": 0.03200000151991844, \"p\": 28031, \"fpr\": 0.549089543833302, \"tpr\": 0.986907352573936, \"n\": 5327}, {\"threshold\": 0.032999999821186066, \"p\": 28031, \"fpr\": 0.5449596395719918, \"tpr\": 0.9867646534194285, \"n\": 5327}, {\"threshold\": 0.03400000184774399, \"p\": 28031, \"fpr\": 0.5430824103623052, \"tpr\": 0.9866576290535478, \"n\": 5327}, {\"threshold\": 0.03500000014901161, \"p\": 28031, \"fpr\": 0.5412051811526187, \"tpr\": 0.9865862794762941, \"n\": 5327}, {\"threshold\": 0.035999998450279236, \"p\": 28031, \"fpr\": 0.5391402290219636, \"tpr\": 0.9864792551104135, \"n\": 5327}, {\"threshold\": 0.03700000047683716, \"p\": 28031, \"fpr\": 0.5366998310493711, \"tpr\": 0.9864079055331597, \"n\": 5327}, {\"threshold\": 0.03799999877810478, \"p\": 28031, \"fpr\": 0.533508541392904, \"tpr\": 0.986051157646891, \"n\": 5327}, {\"threshold\": 0.039000000804662704, \"p\": 28031, \"fpr\": 0.5323822038670921, \"tpr\": 0.9858014341265028, \"n\": 5327}, {\"threshold\": 0.03999999910593033, \"p\": 28031, \"fpr\": 0.5312558663412803, \"tpr\": 0.9856587349719953, \"n\": 5327}, {\"threshold\": 0.04100000113248825, \"p\": 28031, \"fpr\": 0.5290031912896564, \"tpr\": 0.9855873853947416, \"n\": 5327}, {\"threshold\": 0.041999999433755875, \"p\": 28031, \"fpr\": 0.525999624554158, \"tpr\": 0.9854446862402341, \"n\": 5327}, {\"threshold\": 0.0430000014603138, \"p\": 28031, \"fpr\": 0.5248732870283461, \"tpr\": 0.9852663122970996, \"n\": 5327}, {\"threshold\": 0.04399999976158142, \"p\": 28031, \"fpr\": 0.5224328890557537, \"tpr\": 0.985159287931219, \"n\": 5327}, {\"threshold\": 0.04500000178813934, \"p\": 28031, \"fpr\": 0.5213065515299418, \"tpr\": 0.9850165887767115, \"n\": 5327}, {\"threshold\": 0.04600000008940697, \"p\": 28031, \"fpr\": 0.5184907077154121, \"tpr\": 0.9849809139880846, \"n\": 5327}, {\"threshold\": 0.04699999839067459, \"p\": 28031, \"fpr\": 0.5166134785057256, \"tpr\": 0.9847668652563234, \"n\": 5327}, {\"threshold\": 0.04800000041723251, \"p\": 28031, \"fpr\": 0.5143608034541017, \"tpr\": 0.9845528165245621, \"n\": 5327}, {\"threshold\": 0.04899999871850014, \"p\": 28031, \"fpr\": 0.5132344659282898, \"tpr\": 0.9844101173700546, \"n\": 5327}, {\"threshold\": 0.05000000074505806, \"p\": 28031, \"fpr\": 0.5113572367186033, \"tpr\": 0.9842674182155471, \"n\": 5327}, {\"threshold\": 0.050999999046325684, \"p\": 28031, \"fpr\": 0.5081659470621362, \"tpr\": 0.9840533694837859, \"n\": 5327}, {\"threshold\": 0.052000001072883606, \"p\": 28031, \"fpr\": 0.5055378261685752, \"tpr\": 0.9839106703292783, \"n\": 5327}, {\"threshold\": 0.05299999937415123, \"p\": 28031, \"fpr\": 0.504036042800826, \"tpr\": 0.9837679711747708, \"n\": 5327}, {\"threshold\": 0.05400000140070915, \"p\": 28031, \"fpr\": 0.5019710906701709, \"tpr\": 0.9835895972316364, \"n\": 5327}, {\"threshold\": 0.054999999701976776, \"p\": 28031, \"fpr\": 0.500844753144359, \"tpr\": 0.9835182476543827, \"n\": 5327}, {\"threshold\": 0.0560000017285347, \"p\": 28031, \"fpr\": 0.49840435517176646, \"tpr\": 0.9834825728657558, \"n\": 5327}, {\"threshold\": 0.05700000002980232, \"p\": 28031, \"fpr\": 0.4963394030411113, \"tpr\": 0.9832685241339945, \"n\": 5327}, {\"threshold\": 0.057999998331069946, \"p\": 28031, \"fpr\": 0.4940867279894875, \"tpr\": 0.983125824979487, \"n\": 5327}, {\"threshold\": 0.05900000035762787, \"p\": 28031, \"fpr\": 0.4929603904636756, \"tpr\": 0.9829831258249795, \"n\": 5327}, {\"threshold\": 0.05999999865889549, \"p\": 28031, \"fpr\": 0.49051999249108313, \"tpr\": 0.9829474510363526, \"n\": 5327}, {\"threshold\": 0.061000000685453415, \"p\": 28031, \"fpr\": 0.48845504036042803, \"tpr\": 0.9827334023045914, \"n\": 5327}, {\"threshold\": 0.06199999898672104, \"p\": 28031, \"fpr\": 0.4865778111507415, \"tpr\": 0.9826620527273376, \"n\": 5327}, {\"threshold\": 0.06300000101327896, \"p\": 28031, \"fpr\": 0.48545147362492963, \"tpr\": 0.9825550283614569, \"n\": 5327}, {\"threshold\": 0.06400000303983688, \"p\": 28031, \"fpr\": 0.4843251360991177, \"tpr\": 0.9824123292069494, \"n\": 5327}, {\"threshold\": 0.06499999761581421, \"p\": 28031, \"fpr\": 0.48301107565233714, \"tpr\": 0.9824123292069494, \"n\": 5327}, {\"threshold\": 0.06599999964237213, \"p\": 28031, \"fpr\": 0.4824479068894312, \"tpr\": 0.9824123292069494, \"n\": 5327}, {\"threshold\": 0.06700000166893005, \"p\": 28031, \"fpr\": 0.4816970152055566, \"tpr\": 0.9823409796296957, \"n\": 5327}, {\"threshold\": 0.06800000369548798, \"p\": 28031, \"fpr\": 0.4805706776797447, \"tpr\": 0.9821626056865613, \"n\": 5327}, {\"threshold\": 0.0689999982714653, \"p\": 28031, \"fpr\": 0.4794443401539328, \"tpr\": 0.9821269308979345, \"n\": 5327}, {\"threshold\": 0.07000000029802322, \"p\": 28031, \"fpr\": 0.4786934484700582, \"tpr\": 0.9820199065320538, \"n\": 5327}, {\"threshold\": 0.07100000232458115, \"p\": 28031, \"fpr\": 0.4773793880232776, \"tpr\": 0.981984231743427, \"n\": 5327}, {\"threshold\": 0.07199999690055847, \"p\": 28031, \"fpr\": 0.4760653275764971, \"tpr\": 0.981984231743427, \"n\": 5327}, {\"threshold\": 0.0729999989271164, \"p\": 28031, \"fpr\": 0.4741880983668106, \"tpr\": 0.9819485569548, \"n\": 5327}, {\"threshold\": 0.07400000095367432, \"p\": 28031, \"fpr\": 0.4726863149990614, \"tpr\": 0.9818415325889194, \"n\": 5327}, {\"threshold\": 0.07500000298023224, \"p\": 28031, \"fpr\": 0.47080908578937486, \"tpr\": 0.9817345082230388, \"n\": 5327}, {\"threshold\": 0.07599999755620956, \"p\": 28031, \"fpr\": 0.4698704711845316, \"tpr\": 0.9815561342799044, \"n\": 5327}, {\"threshold\": 0.07699999958276749, \"p\": 28031, \"fpr\": 0.46855641073775106, \"tpr\": 0.9815204594912775, \"n\": 5327}, {\"threshold\": 0.07800000160932541, \"p\": 28031, \"fpr\": 0.4676177961329078, \"tpr\": 0.9812350611822624, \"n\": 5327}, {\"threshold\": 0.07900000363588333, \"p\": 28031, \"fpr\": 0.4666791815280646, \"tpr\": 0.9812350611822624, \"n\": 5327}, {\"threshold\": 0.07999999821186066, \"p\": 28031, \"fpr\": 0.4657405669232213, \"tpr\": 0.9811280368163818, \"n\": 5327}, {\"threshold\": 0.08100000023841858, \"p\": 28031, \"fpr\": 0.4649896752393467, \"tpr\": 0.981092362027755, \"n\": 5327}, {\"threshold\": 0.0820000022649765, \"p\": 28031, \"fpr\": 0.4634878918715975, \"tpr\": 0.9810566872391281, \"n\": 5327}, {\"threshold\": 0.08299999684095383, \"p\": 28031, \"fpr\": 0.4619861085038483, \"tpr\": 0.9808426385073669, \"n\": 5327}, {\"threshold\": 0.08399999886751175, \"p\": 28031, \"fpr\": 0.4606720480570678, \"tpr\": 0.9807356141414862, \"n\": 5327}, {\"threshold\": 0.08500000089406967, \"p\": 28031, \"fpr\": 0.45860709592641263, \"tpr\": 0.9807356141414862, \"n\": 5327}, {\"threshold\": 0.0860000029206276, \"p\": 28031, \"fpr\": 0.45766848132156934, \"tpr\": 0.9806642645642325, \"n\": 5327}, {\"threshold\": 0.08699999749660492, \"p\": 28031, \"fpr\": 0.45616669795382014, \"tpr\": 0.9805929149869786, \"n\": 5327}, {\"threshold\": 0.08799999952316284, \"p\": 28031, \"fpr\": 0.45466491458607095, \"tpr\": 0.9803788662552174, \"n\": 5327}, {\"threshold\": 0.08900000154972076, \"p\": 28031, \"fpr\": 0.454101745823165, \"tpr\": 0.9802004923120831, \"n\": 5327}, {\"threshold\": 0.09000000357627869, \"p\": 28031, \"fpr\": 0.45316313121832175, \"tpr\": 0.9801291427348293, \"n\": 5327}, {\"threshold\": 0.09099999815225601, \"p\": 28031, \"fpr\": 0.4522245166134785, \"tpr\": 0.9800221183689487, \"n\": 5327}, {\"threshold\": 0.09200000017881393, \"p\": 28031, \"fpr\": 0.4510981790876666, \"tpr\": 0.9800221183689487, \"n\": 5327}, {\"threshold\": 0.09300000220537186, \"p\": 28031, \"fpr\": 0.4497841186408861, \"tpr\": 0.9798794192144411, \"n\": 5327}, {\"threshold\": 0.09399999678134918, \"p\": 28031, \"fpr\": 0.4490332269570115, \"tpr\": 0.9798080696371874, \"n\": 5327}, {\"threshold\": 0.0949999988079071, \"p\": 28031, \"fpr\": 0.4480946123521682, \"tpr\": 0.9797010452713067, \"n\": 5327}, {\"threshold\": 0.09600000083446503, \"p\": 28031, \"fpr\": 0.44715599774732495, \"tpr\": 0.9795940209054261, \"n\": 5327}, {\"threshold\": 0.09700000286102295, \"p\": 28031, \"fpr\": 0.44640510606345035, \"tpr\": 0.9795583461167993, \"n\": 5327}, {\"threshold\": 0.09799999743700027, \"p\": 28031, \"fpr\": 0.44565421437957575, \"tpr\": 0.979344297385038, \"n\": 5327}, {\"threshold\": 0.0989999994635582, \"p\": 28031, \"fpr\": 0.4447155997747325, \"tpr\": 0.9791302486532767, \"n\": 5327}, {\"threshold\": 0.10000000149011612, \"p\": 28031, \"fpr\": 0.4437769851698892, \"tpr\": 0.979058899076023, \"n\": 5327}, {\"threshold\": 0.10100000351667404, \"p\": 28031, \"fpr\": 0.44189975596020276, \"tpr\": 0.9789875494987692, \"n\": 5327}, {\"threshold\": 0.10199999809265137, \"p\": 28031, \"fpr\": 0.44039797259245356, \"tpr\": 0.9788805251328886, \"n\": 5327}, {\"threshold\": 0.10300000011920929, \"p\": 28031, \"fpr\": 0.43964708090857896, \"tpr\": 0.9788448503442617, \"n\": 5327}, {\"threshold\": 0.10400000214576721, \"p\": 28031, \"fpr\": 0.43852074338276703, \"tpr\": 0.9786664764011274, \"n\": 5327}, {\"threshold\": 0.10499999672174454, \"p\": 28031, \"fpr\": 0.43814529754082976, \"tpr\": 0.9784881024579929, \"n\": 5327}, {\"threshold\": 0.10599999874830246, \"p\": 28031, \"fpr\": 0.43645579125211187, \"tpr\": 0.9783454033034854, \"n\": 5327}, {\"threshold\": 0.10700000077486038, \"p\": 28031, \"fpr\": 0.4353294537263, \"tpr\": 0.9783097285148585, \"n\": 5327}, {\"threshold\": 0.1080000028014183, \"p\": 28031, \"fpr\": 0.43476628496339403, \"tpr\": 0.9782383789376048, \"n\": 5327}, {\"threshold\": 0.10899999737739563, \"p\": 28031, \"fpr\": 0.4336399474375821, \"tpr\": 0.9780600049944704, \"n\": 5327}, {\"threshold\": 0.10999999940395355, \"p\": 28031, \"fpr\": 0.4328890557537075, \"tpr\": 0.9779529806285898, \"n\": 5327}, {\"threshold\": 0.11100000143051147, \"p\": 28031, \"fpr\": 0.4313872723859583, \"tpr\": 0.977917305839963, \"n\": 5327}, {\"threshold\": 0.1120000034570694, \"p\": 28031, \"fpr\": 0.4308241036230524, \"tpr\": 0.9777746066854553, \"n\": 5327}, {\"threshold\": 0.11299999803304672, \"p\": 28031, \"fpr\": 0.43007321193917775, \"tpr\": 0.9776319075309479, \"n\": 5327}, {\"threshold\": 0.11400000005960464, \"p\": 28031, \"fpr\": 0.42932232025530315, \"tpr\": 0.977596232742321, \"n\": 5327}, {\"threshold\": 0.11500000208616257, \"p\": 28031, \"fpr\": 0.42782053688755395, \"tpr\": 0.9774535335878135, \"n\": 5327}, {\"threshold\": 0.11599999666213989, \"p\": 28031, \"fpr\": 0.4268819222827107, \"tpr\": 0.9774178587991866, \"n\": 5327}, {\"threshold\": 0.11699999868869781, \"p\": 28031, \"fpr\": 0.42631875351980475, \"tpr\": 0.977310834433306, \"n\": 5327}, {\"threshold\": 0.11800000071525574, \"p\": 28031, \"fpr\": 0.4261310305988361, \"tpr\": 0.9772394848560523, \"n\": 5327}, {\"threshold\": 0.11900000274181366, \"p\": 28031, \"fpr\": 0.4253801389149615, \"tpr\": 0.9772038100674254, \"n\": 5327}, {\"threshold\": 0.11999999731779099, \"p\": 28031, \"fpr\": 0.4246292472310869, \"tpr\": 0.9771324604901716, \"n\": 5327}, {\"threshold\": 0.12099999934434891, \"p\": 28031, \"fpr\": 0.42406607846818095, \"tpr\": 0.9768827369697834, \"n\": 5327}, {\"threshold\": 0.12200000137090683, \"p\": 28031, \"fpr\": 0.42406607846818095, \"tpr\": 0.9767757126039028, \"n\": 5327}, {\"threshold\": 0.12300000339746475, \"p\": 28031, \"fpr\": 0.4238783555472123, \"tpr\": 0.9767043630266491, \"n\": 5327}, {\"threshold\": 0.12399999797344208, \"p\": 28031, \"fpr\": 0.4227520180214004, \"tpr\": 0.9765973386607685, \"n\": 5327}, {\"threshold\": 0.125, \"p\": 28031, \"fpr\": 0.4221888492584945, \"tpr\": 0.9765616638721416, \"n\": 5327}, {\"threshold\": 0.12600000202655792, \"p\": 28031, \"fpr\": 0.4212502346536512, \"tpr\": 0.9765616638721416, \"n\": 5327}, {\"threshold\": 0.12700000405311584, \"p\": 28031, \"fpr\": 0.4204993429697766, \"tpr\": 0.9763832899290071, \"n\": 5327}, {\"threshold\": 0.12800000607967377, \"p\": 28031, \"fpr\": 0.419748451285902, \"tpr\": 0.9763476151403803, \"n\": 5327}, {\"threshold\": 0.1289999932050705, \"p\": 28031, \"fpr\": 0.4191852825229961, \"tpr\": 0.976133566408619, \"n\": 5327}, {\"threshold\": 0.12999999523162842, \"p\": 28031, \"fpr\": 0.41805894499718416, \"tpr\": 0.9759195176768578, \"n\": 5327}, {\"threshold\": 0.13099999725818634, \"p\": 28031, \"fpr\": 0.4174957762342782, \"tpr\": 0.9758838428882309, \"n\": 5327}, {\"threshold\": 0.13199999928474426, \"p\": 28031, \"fpr\": 0.41618171578749763, \"tpr\": 0.9757054689450965, \"n\": 5327}, {\"threshold\": 0.13300000131130219, \"p\": 28031, \"fpr\": 0.4156185470245917, \"tpr\": 0.9756341193678427, \"n\": 5327}, {\"threshold\": 0.1340000033378601, \"p\": 28031, \"fpr\": 0.4144922094987798, \"tpr\": 0.9754914202133352, \"n\": 5327}, {\"threshold\": 0.13500000536441803, \"p\": 28031, \"fpr\": 0.41280270321006196, \"tpr\": 0.9753843958474546, \"n\": 5327}, {\"threshold\": 0.13600000739097595, \"p\": 28031, \"fpr\": 0.41205181152618736, \"tpr\": 0.9753843958474546, \"n\": 5327}, {\"threshold\": 0.13699999451637268, \"p\": 28031, \"fpr\": 0.41092547400037543, \"tpr\": 0.9751346723270664, \"n\": 5327}, {\"threshold\": 0.1379999965429306, \"p\": 28031, \"fpr\": 0.41036230523746947, \"tpr\": 0.9750989975384395, \"n\": 5327}, {\"threshold\": 0.13899999856948853, \"p\": 28031, \"fpr\": 0.40942369063262624, \"tpr\": 0.9750633227498127, \"n\": 5327}, {\"threshold\": 0.14000000059604645, \"p\": 28031, \"fpr\": 0.4092359677116576, \"tpr\": 0.9750276479611858, \"n\": 5327}, {\"threshold\": 0.14100000262260437, \"p\": 28031, \"fpr\": 0.40904824479068896, \"tpr\": 0.9749919731725589, \"n\": 5327}, {\"threshold\": 0.1420000046491623, \"p\": 28031, \"fpr\": 0.40829735310681436, \"tpr\": 0.974956298383932, \"n\": 5327}, {\"threshold\": 0.14300000667572021, \"p\": 28031, \"fpr\": 0.4073587385019711, \"tpr\": 0.9749206235953052, \"n\": 5327}, {\"threshold\": 0.14399999380111694, \"p\": 28031, \"fpr\": 0.4069832926600338, \"tpr\": 0.9749206235953052, \"n\": 5327}, {\"threshold\": 0.14499999582767487, \"p\": 28031, \"fpr\": 0.4052937863713159, \"tpr\": 0.9748849488066783, \"n\": 5327}, {\"threshold\": 0.1459999978542328, \"p\": 28031, \"fpr\": 0.4045428946874413, \"tpr\": 0.9748135992294246, \"n\": 5327}, {\"threshold\": 0.1469999998807907, \"p\": 28031, \"fpr\": 0.40341655716162944, \"tpr\": 0.9747422496521708, \"n\": 5327}, {\"threshold\": 0.14800000190734863, \"p\": 28031, \"fpr\": 0.4032288342406608, \"tpr\": 0.9746352252862902, \"n\": 5327}, {\"threshold\": 0.14900000393390656, \"p\": 28031, \"fpr\": 0.40266566547775484, \"tpr\": 0.9745995504976633, \"n\": 5327}, {\"threshold\": 0.15000000596046448, \"p\": 28031, \"fpr\": 0.4021024967148489, \"tpr\": 0.9745282009204096, \"n\": 5327}, {\"threshold\": 0.1509999930858612, \"p\": 28031, \"fpr\": 0.400976159189037, \"tpr\": 0.9744925261317827, \"n\": 5327}, {\"threshold\": 0.15199999511241913, \"p\": 28031, \"fpr\": 0.400976159189037, \"tpr\": 0.9744211765545289, \"n\": 5327}, {\"threshold\": 0.15299999713897705, \"p\": 28031, \"fpr\": 0.40041299042613104, \"tpr\": 0.9742784774000214, \"n\": 5327}, {\"threshold\": 0.15399999916553497, \"p\": 28031, \"fpr\": 0.3992866529003191, \"tpr\": 0.9741357782455139, \"n\": 5327}, {\"threshold\": 0.1550000011920929, \"p\": 28031, \"fpr\": 0.39891120705838184, \"tpr\": 0.9739930790910064, \"n\": 5327}, {\"threshold\": 0.15600000321865082, \"p\": 28031, \"fpr\": 0.3983480382954759, \"tpr\": 0.9739217295137527, \"n\": 5327}, {\"threshold\": 0.15700000524520874, \"p\": 28031, \"fpr\": 0.39816031537450725, \"tpr\": 0.973814705147872, \"n\": 5327}, {\"threshold\": 0.15800000727176666, \"p\": 28031, \"fpr\": 0.39740942369063265, \"tpr\": 0.9737433555706182, \"n\": 5327}, {\"threshold\": 0.1589999943971634, \"p\": 28031, \"fpr\": 0.39722170076966395, \"tpr\": 0.9737076807819913, \"n\": 5327}, {\"threshold\": 0.1599999964237213, \"p\": 28031, \"fpr\": 0.39665853200675805, \"tpr\": 0.9737076807819913, \"n\": 5327}, {\"threshold\": 0.16099999845027924, \"p\": 28031, \"fpr\": 0.39590764032288345, \"tpr\": 0.9736363312047376, \"n\": 5327}, {\"threshold\": 0.16200000047683716, \"p\": 28031, \"fpr\": 0.3953444715599775, \"tpr\": 0.9735649816274838, \"n\": 5327}, {\"threshold\": 0.16300000250339508, \"p\": 28031, \"fpr\": 0.39496902571804016, \"tpr\": 0.9734936320502301, \"n\": 5327}, {\"threshold\": 0.164000004529953, \"p\": 28031, \"fpr\": 0.3940304111131969, \"tpr\": 0.9734579572616032, \"n\": 5327}, {\"threshold\": 0.16500000655651093, \"p\": 28031, \"fpr\": 0.3932795194293223, \"tpr\": 0.9733152581070957, \"n\": 5327}, {\"threshold\": 0.16599999368190765, \"p\": 28031, \"fpr\": 0.392904073587385, \"tpr\": 0.973243908529842, \"n\": 5327}, {\"threshold\": 0.16699999570846558, \"p\": 28031, \"fpr\": 0.3925286277454477, \"tpr\": 0.9731368841639614, \"n\": 5327}, {\"threshold\": 0.1679999977350235, \"p\": 28031, \"fpr\": 0.3921531819035104, \"tpr\": 0.9730655345867075, \"n\": 5327}, {\"threshold\": 0.16899999976158142, \"p\": 28031, \"fpr\": 0.3914022902196358, \"tpr\": 0.9729585102208269, \"n\": 5327}, {\"threshold\": 0.17000000178813934, \"p\": 28031, \"fpr\": 0.3900882297728553, \"tpr\": 0.9728514858549463, \"n\": 5327}, {\"threshold\": 0.17100000381469727, \"p\": 28031, \"fpr\": 0.38896189224704336, \"tpr\": 0.9728514858549463, \"n\": 5327}, {\"threshold\": 0.1720000058412552, \"p\": 28031, \"fpr\": 0.3885864464051061, \"tpr\": 0.9727801362776926, \"n\": 5327}, {\"threshold\": 0.17299999296665192, \"p\": 28031, \"fpr\": 0.3876478318002628, \"tpr\": 0.9727801362776926, \"n\": 5327}, {\"threshold\": 0.17399999499320984, \"p\": 28031, \"fpr\": 0.38746010887929416, \"tpr\": 0.9727087867004388, \"n\": 5327}, {\"threshold\": 0.17499999701976776, \"p\": 28031, \"fpr\": 0.3872723859583255, \"tpr\": 0.9725660875459313, \"n\": 5327}, {\"threshold\": 0.17599999904632568, \"p\": 28031, \"fpr\": 0.3865214942744509, \"tpr\": 0.9725304127573045, \"n\": 5327}, {\"threshold\": 0.1770000010728836, \"p\": 28031, \"fpr\": 0.38501971090670173, \"tpr\": 0.9724590631800507, \"n\": 5327}, {\"threshold\": 0.17800000309944153, \"p\": 28031, \"fpr\": 0.38426881922282713, \"tpr\": 0.97235203881417, \"n\": 5327}, {\"threshold\": 0.17900000512599945, \"p\": 28031, \"fpr\": 0.3838933733808898, \"tpr\": 0.9722806892369162, \"n\": 5327}, {\"threshold\": 0.18000000715255737, \"p\": 28031, \"fpr\": 0.38295475877604657, \"tpr\": 0.9721736648710356, \"n\": 5327}, {\"threshold\": 0.1809999942779541, \"p\": 28031, \"fpr\": 0.3823915900131406, \"tpr\": 0.9721023152937819, \"n\": 5327}, {\"threshold\": 0.18199999630451202, \"p\": 28031, \"fpr\": 0.381640698329266, \"tpr\": 0.9718882665620207, \"n\": 5327}, {\"threshold\": 0.18299999833106995, \"p\": 28031, \"fpr\": 0.3808898066453914, \"tpr\": 0.9717455674075131, \"n\": 5327}, {\"threshold\": 0.18400000035762787, \"p\": 28031, \"fpr\": 0.3805143608034541, \"tpr\": 0.9716028682530056, \"n\": 5327}, {\"threshold\": 0.1850000023841858, \"p\": 28031, \"fpr\": 0.3801389149615168, \"tpr\": 0.9715315186757518, \"n\": 5327}, {\"threshold\": 0.1860000044107437, \"p\": 28031, \"fpr\": 0.37920030035667357, \"tpr\": 0.9715315186757518, \"n\": 5327}, {\"threshold\": 0.18700000643730164, \"p\": 28031, \"fpr\": 0.37807396283086164, \"tpr\": 0.9713888195212443, \"n\": 5327}, {\"threshold\": 0.18799999356269836, \"p\": 28031, \"fpr\": 0.37807396283086164, \"tpr\": 0.9713531447326175, \"n\": 5327}, {\"threshold\": 0.1889999955892563, \"p\": 28031, \"fpr\": 0.37769851698892437, \"tpr\": 0.9712817951553637, \"n\": 5327}, {\"threshold\": 0.1899999976158142, \"p\": 28031, \"fpr\": 0.37732307114698704, \"tpr\": 0.9711390960008562, \"n\": 5327}, {\"threshold\": 0.19099999964237213, \"p\": 28031, \"fpr\": 0.3767599023840811, \"tpr\": 0.9710677464236024, \"n\": 5327}, {\"threshold\": 0.19200000166893005, \"p\": 28031, \"fpr\": 0.37657217946311244, \"tpr\": 0.9709607220577218, \"n\": 5327}, {\"threshold\": 0.19300000369548798, \"p\": 28031, \"fpr\": 0.3760090107002065, \"tpr\": 0.970889372480468, \"n\": 5327}, {\"threshold\": 0.1940000057220459, \"p\": 28031, \"fpr\": 0.3756335648582692, \"tpr\": 0.9708180229032143, \"n\": 5327}, {\"threshold\": 0.19499999284744263, \"p\": 28031, \"fpr\": 0.3752581190163319, \"tpr\": 0.9707466733259605, \"n\": 5327}, {\"threshold\": 0.19599999487400055, \"p\": 28031, \"fpr\": 0.3748826731743946, \"tpr\": 0.9706753237487068, \"n\": 5327}, {\"threshold\": 0.19699999690055847, \"p\": 28031, \"fpr\": 0.3746949502534259, \"tpr\": 0.9706396489600799, \"n\": 5327}, {\"threshold\": 0.1979999989271164, \"p\": 28031, \"fpr\": 0.3745072273324573, \"tpr\": 0.970603974171453, \"n\": 5327}, {\"threshold\": 0.19900000095367432, \"p\": 28031, \"fpr\": 0.37413178149052, \"tpr\": 0.9704969498055724, \"n\": 5327}, {\"threshold\": 0.20000000298023224, \"p\": 28031, \"fpr\": 0.3733808898066454, \"tpr\": 0.9704612750169456, \"n\": 5327}, {\"threshold\": 0.20100000500679016, \"p\": 28031, \"fpr\": 0.37281772104373945, \"tpr\": 0.9704256002283187, \"n\": 5327}, {\"threshold\": 0.20200000703334808, \"p\": 28031, \"fpr\": 0.3724422752018021, \"tpr\": 0.9703542506510648, \"n\": 5327}, {\"threshold\": 0.2029999941587448, \"p\": 28031, \"fpr\": 0.3724422752018021, \"tpr\": 0.970318575862438, \"n\": 5327}, {\"threshold\": 0.20399999618530273, \"p\": 28031, \"fpr\": 0.3718791064388962, \"tpr\": 0.9701758767079305, \"n\": 5327}, {\"threshold\": 0.20499999821186066, \"p\": 28031, \"fpr\": 0.3707527689130843, \"tpr\": 0.9699975027647961, \"n\": 5327}, {\"threshold\": 0.20600000023841858, \"p\": 28031, \"fpr\": 0.36981415430824105, \"tpr\": 0.9699261531875424, \"n\": 5327}, {\"threshold\": 0.2070000022649765, \"p\": 28031, \"fpr\": 0.3694387084663037, \"tpr\": 0.9699261531875424, \"n\": 5327}, {\"threshold\": 0.20800000429153442, \"p\": 28031, \"fpr\": 0.36906326262436645, \"tpr\": 0.9698191288216618, \"n\": 5327}, {\"threshold\": 0.20900000631809235, \"p\": 28031, \"fpr\": 0.36812464801952316, \"tpr\": 0.969747779244408, \"n\": 5327}, {\"threshold\": 0.20999999344348907, \"p\": 28031, \"fpr\": 0.36681058757274265, \"tpr\": 0.9696764296671542, \"n\": 5327}, {\"threshold\": 0.210999995470047, \"p\": 28031, \"fpr\": 0.3664351417308053, \"tpr\": 0.9695694053012736, \"n\": 5327}, {\"threshold\": 0.21199999749660492, \"p\": 28031, \"fpr\": 0.3662474188098367, \"tpr\": 0.9693553565695123, \"n\": 5327}, {\"threshold\": 0.21299999952316284, \"p\": 28031, \"fpr\": 0.3656842500469307, \"tpr\": 0.9693196817808855, \"n\": 5327}, {\"threshold\": 0.21400000154972076, \"p\": 28031, \"fpr\": 0.36530880420499345, \"tpr\": 0.9692126574150048, \"n\": 5327}, {\"threshold\": 0.2150000035762787, \"p\": 28031, \"fpr\": 0.3647456354420875, \"tpr\": 0.969176982626378, \"n\": 5327}, {\"threshold\": 0.2160000056028366, \"p\": 28031, \"fpr\": 0.36380702083724425, \"tpr\": 0.9691056330491242, \"n\": 5327}, {\"threshold\": 0.21699999272823334, \"p\": 28031, \"fpr\": 0.3634315749953069, \"tpr\": 0.9691056330491242, \"n\": 5327}, {\"threshold\": 0.21799999475479126, \"p\": 28031, \"fpr\": 0.362305237469495, \"tpr\": 0.9691056330491242, \"n\": 5327}, {\"threshold\": 0.21899999678134918, \"p\": 28031, \"fpr\": 0.3617420687065891, \"tpr\": 0.9689986086832435, \"n\": 5327}, {\"threshold\": 0.2199999988079071, \"p\": 28031, \"fpr\": 0.3608034541017458, \"tpr\": 0.9689629338946166, \"n\": 5327}, {\"threshold\": 0.22100000083446503, \"p\": 28031, \"fpr\": 0.3602402853388399, \"tpr\": 0.968855909528736, \"n\": 5327}, {\"threshold\": 0.22200000286102295, \"p\": 28031, \"fpr\": 0.3600525624178712, \"tpr\": 0.968855909528736, \"n\": 5327}, {\"threshold\": 0.22300000488758087, \"p\": 28031, \"fpr\": 0.35967711657593393, \"tpr\": 0.9686418607969748, \"n\": 5327}, {\"threshold\": 0.2240000069141388, \"p\": 28031, \"fpr\": 0.3587385019710907, \"tpr\": 0.968570511219721, \"n\": 5327}, {\"threshold\": 0.22499999403953552, \"p\": 28031, \"fpr\": 0.3579876102872161, \"tpr\": 0.9684991616424673, \"n\": 5327}, {\"threshold\": 0.22599999606609344, \"p\": 28031, \"fpr\": 0.35742444152431013, \"tpr\": 0.9683921372765867, \"n\": 5327}, {\"threshold\": 0.22699999809265137, \"p\": 28031, \"fpr\": 0.35723671860334144, \"tpr\": 0.9681780885448253, \"n\": 5327}, {\"threshold\": 0.2280000001192093, \"p\": 28031, \"fpr\": 0.35667354984043553, \"tpr\": 0.9681067389675716, \"n\": 5327}, {\"threshold\": 0.2290000021457672, \"p\": 28031, \"fpr\": 0.35592265815656093, \"tpr\": 0.9680710641789447, \"n\": 5327}, {\"threshold\": 0.23000000417232513, \"p\": 28031, \"fpr\": 0.3555472123146236, \"tpr\": 0.9680353893903179, \"n\": 5327}, {\"threshold\": 0.23100000619888306, \"p\": 28031, \"fpr\": 0.354796320630749, \"tpr\": 0.9679283650244372, \"n\": 5327}, {\"threshold\": 0.23199999332427979, \"p\": 28031, \"fpr\": 0.35385770602590577, \"tpr\": 0.9678570154471835, \"n\": 5327}, {\"threshold\": 0.2329999953508377, \"p\": 28031, \"fpr\": 0.35348226018396844, \"tpr\": 0.9677856658699298, \"n\": 5327}, {\"threshold\": 0.23399999737739563, \"p\": 28031, \"fpr\": 0.35310681434203117, \"tpr\": 0.9677499910813029, \"n\": 5327}, {\"threshold\": 0.23499999940395355, \"p\": 28031, \"fpr\": 0.35291909142106254, \"tpr\": 0.9677499910813029, \"n\": 5327}, {\"threshold\": 0.23600000143051147, \"p\": 28031, \"fpr\": 0.35198047681621925, \"tpr\": 0.967714316292676, \"n\": 5327}, {\"threshold\": 0.2370000034570694, \"p\": 28031, \"fpr\": 0.351605030974282, \"tpr\": 0.9676786415040491, \"n\": 5327}, {\"threshold\": 0.23800000548362732, \"p\": 28031, \"fpr\": 0.3506664163694387, \"tpr\": 0.9676429667154222, \"n\": 5327}, {\"threshold\": 0.23899999260902405, \"p\": 28031, \"fpr\": 0.3501032476065328, \"tpr\": 0.9676072919267953, \"n\": 5327}, {\"threshold\": 0.23999999463558197, \"p\": 28031, \"fpr\": 0.3499155246855641, \"tpr\": 0.9673218936177803, \"n\": 5327}, {\"threshold\": 0.2409999966621399, \"p\": 28031, \"fpr\": 0.3491646330016895, \"tpr\": 0.9672148692518997, \"n\": 5327}, {\"threshold\": 0.24199999868869781, \"p\": 28031, \"fpr\": 0.34897691008072085, \"tpr\": 0.967143519674646, \"n\": 5327}, {\"threshold\": 0.24300000071525574, \"p\": 28031, \"fpr\": 0.3486014642387836, \"tpr\": 0.9670364953087653, \"n\": 5327}, {\"threshold\": 0.24400000274181366, \"p\": 28031, \"fpr\": 0.34822601839684625, \"tpr\": 0.9669651457315115, \"n\": 5327}, {\"threshold\": 0.24500000476837158, \"p\": 28031, \"fpr\": 0.347287403792003, \"tpr\": 0.9668581213656309, \"n\": 5327}, {\"threshold\": 0.2460000067949295, \"p\": 28031, \"fpr\": 0.3465365121081284, \"tpr\": 0.9667867717883771, \"n\": 5327}, {\"threshold\": 0.24699999392032623, \"p\": 28031, \"fpr\": 0.3465365121081284, \"tpr\": 0.9667154222111234, \"n\": 5327}, {\"threshold\": 0.24799999594688416, \"p\": 28031, \"fpr\": 0.3461610662661911, \"tpr\": 0.9666440726338696, \"n\": 5327}, {\"threshold\": 0.24899999797344208, \"p\": 28031, \"fpr\": 0.3457856204242538, \"tpr\": 0.9665727230566159, \"n\": 5327}, {\"threshold\": 0.25, \"p\": 28031, \"fpr\": 0.3454101745823165, \"tpr\": 0.966537048267989, \"n\": 5327}, {\"threshold\": 0.25099998712539673, \"p\": 28031, \"fpr\": 0.3450347287403792, \"tpr\": 0.9665013734793622, \"n\": 5327}, {\"threshold\": 0.25200000405311584, \"p\": 28031, \"fpr\": 0.3448470058194105, \"tpr\": 0.9663943491134815, \"n\": 5327}, {\"threshold\": 0.2529999911785126, \"p\": 28031, \"fpr\": 0.34447155997747325, \"tpr\": 0.9663229995362278, \"n\": 5327}, {\"threshold\": 0.2540000081062317, \"p\": 28031, \"fpr\": 0.3440961141355359, \"tpr\": 0.9662873247476008, \"n\": 5327}, {\"threshold\": 0.2549999952316284, \"p\": 28031, \"fpr\": 0.34372066829359865, \"tpr\": 0.966251649958974, \"n\": 5327}, {\"threshold\": 0.25600001215934753, \"p\": 28031, \"fpr\": 0.34296977660972405, \"tpr\": 0.9661803003817202, \"n\": 5327}, {\"threshold\": 0.25699999928474426, \"p\": 28031, \"fpr\": 0.3425943307677867, \"tpr\": 0.9661446255930933, \"n\": 5327}, {\"threshold\": 0.257999986410141, \"p\": 28031, \"fpr\": 0.3424066078468181, \"tpr\": 0.9660732760158396, \"n\": 5327}, {\"threshold\": 0.2590000033378601, \"p\": 28031, \"fpr\": 0.3412802703210062, \"tpr\": 0.9660376012272127, \"n\": 5327}, {\"threshold\": 0.25999999046325684, \"p\": 28031, \"fpr\": 0.3410925474000375, \"tpr\": 0.965966251649959, \"n\": 5327}, {\"threshold\": 0.26100000739097595, \"p\": 28031, \"fpr\": 0.3410925474000375, \"tpr\": 0.9658949020727052, \"n\": 5327}, {\"threshold\": 0.2619999945163727, \"p\": 28031, \"fpr\": 0.34071710155810025, \"tpr\": 0.9658949020727052, \"n\": 5327}, {\"threshold\": 0.2630000114440918, \"p\": 28031, \"fpr\": 0.3401539327951943, \"tpr\": 0.9658235524954515, \"n\": 5327}, {\"threshold\": 0.2639999985694885, \"p\": 28031, \"fpr\": 0.339778486953257, \"tpr\": 0.9657522029181977, \"n\": 5327}, {\"threshold\": 0.26499998569488525, \"p\": 28031, \"fpr\": 0.33921531819035106, \"tpr\": 0.9657165281295709, \"n\": 5327}, {\"threshold\": 0.26600000262260437, \"p\": 28031, \"fpr\": 0.33902759526938236, \"tpr\": 0.9655738289750633, \"n\": 5327}, {\"threshold\": 0.2669999897480011, \"p\": 28031, \"fpr\": 0.33808898066453913, \"tpr\": 0.9655381541864364, \"n\": 5327}, {\"threshold\": 0.2680000066757202, \"p\": 28031, \"fpr\": 0.33771353482260186, \"tpr\": 0.9654311298205558, \"n\": 5327}, {\"threshold\": 0.26899999380111694, \"p\": 28031, \"fpr\": 0.33733808898066453, \"tpr\": 0.965359780243302, \"n\": 5327}, {\"threshold\": 0.27000001072883606, \"p\": 28031, \"fpr\": 0.3371503660596959, \"tpr\": 0.965359780243302, \"n\": 5327}, {\"threshold\": 0.2709999978542328, \"p\": 28031, \"fpr\": 0.33696264313872726, \"tpr\": 0.9652170810887946, \"n\": 5327}, {\"threshold\": 0.2720000147819519, \"p\": 28031, \"fpr\": 0.33602402853388397, \"tpr\": 0.9652170810887946, \"n\": 5327}, {\"threshold\": 0.27300000190734863, \"p\": 28031, \"fpr\": 0.33546085977097806, \"tpr\": 0.9651814063001677, \"n\": 5327}, {\"threshold\": 0.27399998903274536, \"p\": 28031, \"fpr\": 0.3348976910080721, \"tpr\": 0.965110056722914, \"n\": 5327}, {\"threshold\": 0.2750000059604645, \"p\": 28031, \"fpr\": 0.33433452224516613, \"tpr\": 0.9650030323570333, \"n\": 5327}, {\"threshold\": 0.2759999930858612, \"p\": 28031, \"fpr\": 0.33395907640322886, \"tpr\": 0.9649673575684065, \"n\": 5327}, {\"threshold\": 0.2770000100135803, \"p\": 28031, \"fpr\": 0.33358363056129153, \"tpr\": 0.9649673575684065, \"n\": 5327}, {\"threshold\": 0.27799999713897705, \"p\": 28031, \"fpr\": 0.3332081847193542, \"tpr\": 0.9648960079911526, \"n\": 5327}, {\"threshold\": 0.27900001406669617, \"p\": 28031, \"fpr\": 0.3326450159564483, \"tpr\": 0.9648603332025257, \"n\": 5327}, {\"threshold\": 0.2800000011920929, \"p\": 28031, \"fpr\": 0.3324572930354796, \"tpr\": 0.9648603332025257, \"n\": 5327}, {\"threshold\": 0.2809999883174896, \"p\": 28031, \"fpr\": 0.33208184719354233, \"tpr\": 0.9647533088366451, \"n\": 5327}, {\"threshold\": 0.28200000524520874, \"p\": 28031, \"fpr\": 0.33208184719354233, \"tpr\": 0.9647176340480182, \"n\": 5327}, {\"threshold\": 0.28299999237060547, \"p\": 28031, \"fpr\": 0.3311432325886991, \"tpr\": 0.9646106096821376, \"n\": 5327}, {\"threshold\": 0.2840000092983246, \"p\": 28031, \"fpr\": 0.33076778674676177, \"tpr\": 0.964503585316257, \"n\": 5327}, {\"threshold\": 0.2849999964237213, \"p\": 28031, \"fpr\": 0.3302046179838558, \"tpr\": 0.9643965609503764, \"n\": 5327}, {\"threshold\": 0.28600001335144043, \"p\": 28031, \"fpr\": 0.33001689506288717, \"tpr\": 0.9643608861617495, \"n\": 5327}, {\"threshold\": 0.28700000047683716, \"p\": 28031, \"fpr\": 0.3294537262999812, \"tpr\": 0.9642181870072419, \"n\": 5327}, {\"threshold\": 0.2879999876022339, \"p\": 28031, \"fpr\": 0.3288905575370753, \"tpr\": 0.9641111626413613, \"n\": 5327}, {\"threshold\": 0.289000004529953, \"p\": 28031, \"fpr\": 0.328515111695138, \"tpr\": 0.9640041382754807, \"n\": 5327}, {\"threshold\": 0.28999999165534973, \"p\": 28031, \"fpr\": 0.3281396658532007, \"tpr\": 0.9638614391209732, \"n\": 5327}, {\"threshold\": 0.29100000858306885, \"p\": 28031, \"fpr\": 0.32757649709029474, \"tpr\": 0.9637900895437195, \"n\": 5327}, {\"threshold\": 0.2919999957084656, \"p\": 28031, \"fpr\": 0.3272010512483574, \"tpr\": 0.9636830651778389, \"n\": 5327}, {\"threshold\": 0.2930000126361847, \"p\": 28031, \"fpr\": 0.32663788248545145, \"tpr\": 0.9636117156005851, \"n\": 5327}, {\"threshold\": 0.2939999997615814, \"p\": 28031, \"fpr\": 0.32663788248545145, \"tpr\": 0.9634690164460775, \"n\": 5327}, {\"threshold\": 0.29499998688697815, \"p\": 28031, \"fpr\": 0.3264501595644828, \"tpr\": 0.9633619920801969, \"n\": 5327}, {\"threshold\": 0.29600000381469727, \"p\": 28031, \"fpr\": 0.32588699080157685, \"tpr\": 0.96332631729157, \"n\": 5327}, {\"threshold\": 0.296999990940094, \"p\": 28031, \"fpr\": 0.32513609911770225, \"tpr\": 0.9632549677143163, \"n\": 5327}, {\"threshold\": 0.2980000078678131, \"p\": 28031, \"fpr\": 0.3249483761967336, \"tpr\": 0.9631479433484357, \"n\": 5327}, {\"threshold\": 0.29899999499320984, \"p\": 28031, \"fpr\": 0.32438520743382765, \"tpr\": 0.9631122685598088, \"n\": 5327}, {\"threshold\": 0.30000001192092896, \"p\": 28031, \"fpr\": 0.324197484512859, \"tpr\": 0.9629695694053013, \"n\": 5327}, {\"threshold\": 0.3009999990463257, \"p\": 28031, \"fpr\": 0.3234465928289844, \"tpr\": 0.9629338946166744, \"n\": 5327}, {\"threshold\": 0.3019999861717224, \"p\": 28031, \"fpr\": 0.3232588699080158, \"tpr\": 0.9628268702507937, \"n\": 5327}, {\"threshold\": 0.30300000309944153, \"p\": 28031, \"fpr\": 0.3226957011451098, \"tpr\": 0.9628268702507937, \"n\": 5327}, {\"threshold\": 0.30399999022483826, \"p\": 28031, \"fpr\": 0.32213253238220385, \"tpr\": 0.96275552067354, \"n\": 5327}, {\"threshold\": 0.3050000071525574, \"p\": 28031, \"fpr\": 0.32156936361929794, \"tpr\": 0.9626841710962862, \"n\": 5327}, {\"threshold\": 0.3059999942779541, \"p\": 28031, \"fpr\": 0.321006194856392, \"tpr\": 0.9625771467304056, \"n\": 5327}, {\"threshold\": 0.3070000112056732, \"p\": 28031, \"fpr\": 0.321006194856392, \"tpr\": 0.9625057971531519, \"n\": 5327}, {\"threshold\": 0.30799999833106995, \"p\": 28031, \"fpr\": 0.32063074901445465, \"tpr\": 0.9625057971531519, \"n\": 5327}, {\"threshold\": 0.3089999854564667, \"p\": 28031, \"fpr\": 0.3196921344096114, \"tpr\": 0.9625057971531519, \"n\": 5327}, {\"threshold\": 0.3100000023841858, \"p\": 28031, \"fpr\": 0.3195044114886428, \"tpr\": 0.9623274232100175, \"n\": 5327}, {\"threshold\": 0.3109999895095825, \"p\": 28031, \"fpr\": 0.3187535198047682, \"tpr\": 0.9622917484213906, \"n\": 5327}, {\"threshold\": 0.31200000643730164, \"p\": 28031, \"fpr\": 0.3185657968837995, \"tpr\": 0.962149049266883, \"n\": 5327}, {\"threshold\": 0.31299999356269836, \"p\": 28031, \"fpr\": 0.3181903510418622, \"tpr\": 0.9620063501123756, \"n\": 5327}, {\"threshold\": 0.3140000104904175, \"p\": 28031, \"fpr\": 0.31762718227895625, \"tpr\": 0.9620063501123756, \"n\": 5327}, {\"threshold\": 0.3149999976158142, \"p\": 28031, \"fpr\": 0.3165008447531444, \"tpr\": 0.9619706753237487, \"n\": 5327}, {\"threshold\": 0.3160000145435333, \"p\": 28031, \"fpr\": 0.31612539891120706, \"tpr\": 0.9618279761692412, \"n\": 5327}, {\"threshold\": 0.31700000166893005, \"p\": 28031, \"fpr\": 0.31537450722733246, \"tpr\": 0.9616852770147337, \"n\": 5327}, {\"threshold\": 0.3179999887943268, \"p\": 28031, \"fpr\": 0.3151867843063638, \"tpr\": 0.96161392743748, \"n\": 5327}, {\"threshold\": 0.3190000057220459, \"p\": 28031, \"fpr\": 0.3148113384644265, \"tpr\": 0.9615069030715993, \"n\": 5327}, {\"threshold\": 0.3199999928474426, \"p\": 28031, \"fpr\": 0.31462361554345786, \"tpr\": 0.9614355534943455, \"n\": 5327}, {\"threshold\": 0.32100000977516174, \"p\": 28031, \"fpr\": 0.3144358926224892, \"tpr\": 0.961292854339838, \"n\": 5327}, {\"threshold\": 0.32199999690055847, \"p\": 28031, \"fpr\": 0.3140604467805519, \"tpr\": 0.9611144803967037, \"n\": 5327}, {\"threshold\": 0.3230000138282776, \"p\": 28031, \"fpr\": 0.31387272385958326, \"tpr\": 0.9611144803967037, \"n\": 5327}, {\"threshold\": 0.3240000009536743, \"p\": 28031, \"fpr\": 0.3136850009386146, \"tpr\": 0.9610431308194499, \"n\": 5327}, {\"threshold\": 0.32499998807907104, \"p\": 28031, \"fpr\": 0.3133095550966773, \"tpr\": 0.9609717812421962, \"n\": 5327}, {\"threshold\": 0.32600000500679016, \"p\": 28031, \"fpr\": 0.31293410925474, \"tpr\": 0.9608290820876886, \"n\": 5327}, {\"threshold\": 0.3269999921321869, \"p\": 28031, \"fpr\": 0.3125586634128027, \"tpr\": 0.9607577325104348, \"n\": 5327}, {\"threshold\": 0.328000009059906, \"p\": 28031, \"fpr\": 0.3114323258869908, \"tpr\": 0.960722057721808, \"n\": 5327}, {\"threshold\": 0.32899999618530273, \"p\": 28031, \"fpr\": 0.3106814342031162, \"tpr\": 0.9606863829331811, \"n\": 5327}, {\"threshold\": 0.33000001311302185, \"p\": 28031, \"fpr\": 0.3099305425192416, \"tpr\": 0.9606507081445542, \"n\": 5327}, {\"threshold\": 0.3310000002384186, \"p\": 28031, \"fpr\": 0.3095550966773043, \"tpr\": 0.9606150333559274, \"n\": 5327}, {\"threshold\": 0.3319999873638153, \"p\": 28031, \"fpr\": 0.30936737375633566, \"tpr\": 0.9605080089900467, \"n\": 5327}, {\"threshold\": 0.3330000042915344, \"p\": 28031, \"fpr\": 0.309179650835367, \"tpr\": 0.960436659412793, \"n\": 5327}, {\"threshold\": 0.33399999141693115, \"p\": 28031, \"fpr\": 0.30824103623052374, \"tpr\": 0.9604009846241661, \"n\": 5327}, {\"threshold\": 0.33500000834465027, \"p\": 28031, \"fpr\": 0.30786559038858646, \"tpr\": 0.9603653098355392, \"n\": 5327}, {\"threshold\": 0.335999995470047, \"p\": 28031, \"fpr\": 0.30749014454664914, \"tpr\": 0.9603296350469124, \"n\": 5327}, {\"threshold\": 0.3370000123977661, \"p\": 28031, \"fpr\": 0.30711469870471186, \"tpr\": 0.9601869358924049, \"n\": 5327}, {\"threshold\": 0.33799999952316284, \"p\": 28031, \"fpr\": 0.30673925286277454, \"tpr\": 0.9600799115265242, \"n\": 5327}, {\"threshold\": 0.33899998664855957, \"p\": 28031, \"fpr\": 0.30636380702083726, \"tpr\": 0.9600085619492704, \"n\": 5327}, {\"threshold\": 0.3400000035762787, \"p\": 28031, \"fpr\": 0.305425192415994, \"tpr\": 0.9598301880061361, \"n\": 5327}, {\"threshold\": 0.3409999907016754, \"p\": 28031, \"fpr\": 0.30523746949502534, \"tpr\": 0.9597588384288823, \"n\": 5327}, {\"threshold\": 0.34200000762939453, \"p\": 28031, \"fpr\": 0.30448657781115074, \"tpr\": 0.9596161392743748, \"n\": 5327}, {\"threshold\": 0.34299999475479126, \"p\": 28031, \"fpr\": 0.30448657781115074, \"tpr\": 0.9595091149084942, \"n\": 5327}, {\"threshold\": 0.3440000116825104, \"p\": 28031, \"fpr\": 0.3042988548901821, \"tpr\": 0.9592950661767329, \"n\": 5327}, {\"threshold\": 0.3449999988079071, \"p\": 28031, \"fpr\": 0.30373568612727614, \"tpr\": 0.9591880418108523, \"n\": 5327}, {\"threshold\": 0.34599998593330383, \"p\": 28031, \"fpr\": 0.3035479632063075, \"tpr\": 0.9591523670222254, \"n\": 5327}, {\"threshold\": 0.34700000286102295, \"p\": 28031, \"fpr\": 0.3027970715224329, \"tpr\": 0.9590096678677179, \"n\": 5327}, {\"threshold\": 0.3479999899864197, \"p\": 28031, \"fpr\": 0.3026093486014642, \"tpr\": 0.958973993079091, \"n\": 5327}, {\"threshold\": 0.3490000069141388, \"p\": 28031, \"fpr\": 0.3024216256804956, \"tpr\": 0.9589026435018373, \"n\": 5327}, {\"threshold\": 0.3499999940395355, \"p\": 28031, \"fpr\": 0.3024216256804956, \"tpr\": 0.9588312939245835, \"n\": 5327}, {\"threshold\": 0.35100001096725464, \"p\": 28031, \"fpr\": 0.30148301107565234, \"tpr\": 0.9587242695587028, \"n\": 5327}, {\"threshold\": 0.35199999809265137, \"p\": 28031, \"fpr\": 0.3012952881546837, \"tpr\": 0.958688594770076, \"n\": 5327}, {\"threshold\": 0.3529999852180481, \"p\": 28031, \"fpr\": 0.30073211939177774, \"tpr\": 0.9585458956155685, \"n\": 5327}, {\"threshold\": 0.3540000021457672, \"p\": 28031, \"fpr\": 0.3005443964708091, \"tpr\": 0.9584745460383147, \"n\": 5327}, {\"threshold\": 0.35499998927116394, \"p\": 28031, \"fpr\": 0.3005443964708091, \"tpr\": 0.9583318468838072, \"n\": 5327}, {\"threshold\": 0.35600000619888306, \"p\": 28031, \"fpr\": 0.3003566735498404, \"tpr\": 0.9583318468838072, \"n\": 5327}, {\"threshold\": 0.3569999933242798, \"p\": 28031, \"fpr\": 0.2997935047869345, \"tpr\": 0.9582248225179266, \"n\": 5327}, {\"threshold\": 0.3580000102519989, \"p\": 28031, \"fpr\": 0.2996057818659658, \"tpr\": 0.9581534729406729, \"n\": 5327}, {\"threshold\": 0.35899999737739563, \"p\": 28031, \"fpr\": 0.2996057818659658, \"tpr\": 0.9580464485747922, \"n\": 5327}, {\"threshold\": 0.36000001430511475, \"p\": 28031, \"fpr\": 0.2988548901820912, \"tpr\": 0.9580107737861653, \"n\": 5327}, {\"threshold\": 0.3610000014305115, \"p\": 28031, \"fpr\": 0.2986671672611226, \"tpr\": 0.9579037494202847, \"n\": 5327}, {\"threshold\": 0.3619999885559082, \"p\": 28031, \"fpr\": 0.29847944434015394, \"tpr\": 0.9578323998430309, \"n\": 5327}, {\"threshold\": 0.3630000054836273, \"p\": 28031, \"fpr\": 0.2981039984982166, \"tpr\": 0.9577253754771503, \"n\": 5327}, {\"threshold\": 0.36399999260902405, \"p\": 28031, \"fpr\": 0.2981039984982166, \"tpr\": 0.9576897006885234, \"n\": 5327}, {\"threshold\": 0.36500000953674316, \"p\": 28031, \"fpr\": 0.29772855265627934, \"tpr\": 0.9576183511112697, \"n\": 5327}, {\"threshold\": 0.3659999966621399, \"p\": 28031, \"fpr\": 0.297353106814342, \"tpr\": 0.957547001534016, \"n\": 5327}, {\"threshold\": 0.367000013589859, \"p\": 28031, \"fpr\": 0.29697766097240474, \"tpr\": 0.9575113267453891, \"n\": 5327}, {\"threshold\": 0.36800000071525574, \"p\": 28031, \"fpr\": 0.29697766097240474, \"tpr\": 0.9573329528022546, \"n\": 5327}, {\"threshold\": 0.36899998784065247, \"p\": 28031, \"fpr\": 0.29697766097240474, \"tpr\": 0.9571545788591203, \"n\": 5327}, {\"threshold\": 0.3700000047683716, \"p\": 28031, \"fpr\": 0.29678993805143605, \"tpr\": 0.9571189040704934, \"n\": 5327}, {\"threshold\": 0.3709999918937683, \"p\": 28031, \"fpr\": 0.29678993805143605, \"tpr\": 0.9570118797046128, \"n\": 5327}, {\"threshold\": 0.3720000088214874, \"p\": 28031, \"fpr\": 0.2966022151304674, \"tpr\": 0.9569048553387322, \"n\": 5327}, {\"threshold\": 0.37299999594688416, \"p\": 28031, \"fpr\": 0.29603904636756145, \"tpr\": 0.9569048553387322, \"n\": 5327}, {\"threshold\": 0.37400001287460327, \"p\": 28031, \"fpr\": 0.2956636005256242, \"tpr\": 0.9569048553387322, \"n\": 5327}, {\"threshold\": 0.375, \"p\": 28031, \"fpr\": 0.29547587760465555, \"tpr\": 0.9567978309728515, \"n\": 5327}, {\"threshold\": 0.37599998712539673, \"p\": 28031, \"fpr\": 0.2949127088417496, \"tpr\": 0.9567978309728515, \"n\": 5327}, {\"threshold\": 0.37700000405311584, \"p\": 28031, \"fpr\": 0.29472498592078095, \"tpr\": 0.9567264813955977, \"n\": 5327}, {\"threshold\": 0.3779999911785126, \"p\": 28031, \"fpr\": 0.2943495400788436, \"tpr\": 0.9564410830865827, \"n\": 5327}, {\"threshold\": 0.3790000081062317, \"p\": 28031, \"fpr\": 0.29378637131593766, \"tpr\": 0.9564054082979558, \"n\": 5327}, {\"threshold\": 0.3799999952316284, \"p\": 28031, \"fpr\": 0.293598648394969, \"tpr\": 0.9562627091434484, \"n\": 5327}, {\"threshold\": 0.38100001215934753, \"p\": 28031, \"fpr\": 0.29303547963206306, \"tpr\": 0.9561913595661946, \"n\": 5327}, {\"threshold\": 0.38199999928474426, \"p\": 28031, \"fpr\": 0.29228458794818846, \"tpr\": 0.9561200099889409, \"n\": 5327}, {\"threshold\": 0.382999986410141, \"p\": 28031, \"fpr\": 0.2920968650272198, \"tpr\": 0.9559416360458064, \"n\": 5327}, {\"threshold\": 0.3840000033378601, \"p\": 28031, \"fpr\": 0.2919091421062512, \"tpr\": 0.9558346116799258, \"n\": 5327}, {\"threshold\": 0.38499999046325684, \"p\": 28031, \"fpr\": 0.2919091421062512, \"tpr\": 0.9557275873140452, \"n\": 5327}, {\"threshold\": 0.38600000739097595, \"p\": 28031, \"fpr\": 0.29078280458043926, \"tpr\": 0.9556919125254183, \"n\": 5327}, {\"threshold\": 0.3869999945163727, \"p\": 28031, \"fpr\": 0.290407358738502, \"tpr\": 0.9556919125254183, \"n\": 5327}, {\"threshold\": 0.3880000114440918, \"p\": 28031, \"fpr\": 0.2894687441336587, \"tpr\": 0.9555492133709108, \"n\": 5327}, {\"threshold\": 0.3889999985694885, \"p\": 28031, \"fpr\": 0.2887178524497841, \"tpr\": 0.9554778637936571, \"n\": 5327}, {\"threshold\": 0.38999998569488525, \"p\": 28031, \"fpr\": 0.28853012952881546, \"tpr\": 0.9554065142164032, \"n\": 5327}, {\"threshold\": 0.39100000262260437, \"p\": 28031, \"fpr\": 0.2879669607659095, \"tpr\": 0.9553351646391495, \"n\": 5327}, {\"threshold\": 0.3919999897480011, \"p\": 28031, \"fpr\": 0.2875915149239722, \"tpr\": 0.9552281402732689, \"n\": 5327}, {\"threshold\": 0.3930000066757202, \"p\": 28031, \"fpr\": 0.2868406232400976, \"tpr\": 0.9549784167528808, \"n\": 5327}, {\"threshold\": 0.39399999380111694, \"p\": 28031, \"fpr\": 0.2864651773981603, \"tpr\": 0.9549427419642539, \"n\": 5327}, {\"threshold\": 0.39500001072883606, \"p\": 28031, \"fpr\": 0.28627745447719166, \"tpr\": 0.9548000428097464, \"n\": 5327}, {\"threshold\": 0.3959999978542328, \"p\": 28031, \"fpr\": 0.2859020086352544, \"tpr\": 0.9547286932324925, \"n\": 5327}, {\"threshold\": 0.3970000147819519, \"p\": 28031, \"fpr\": 0.2853388398723484, \"tpr\": 0.9546573436552388, \"n\": 5327}, {\"threshold\": 0.39800000190734863, \"p\": 28031, \"fpr\": 0.2849633940304111, \"tpr\": 0.9546216688666119, \"n\": 5327}, {\"threshold\": 0.39899998903274536, \"p\": 28031, \"fpr\": 0.2849633940304111, \"tpr\": 0.9545503192893582, \"n\": 5327}, {\"threshold\": 0.4000000059604645, \"p\": 28031, \"fpr\": 0.28440022526750514, \"tpr\": 0.9544432949234776, \"n\": 5327}, {\"threshold\": 0.4009999930858612, \"p\": 28031, \"fpr\": 0.2834616106626619, \"tpr\": 0.9543719453462238, \"n\": 5327}, {\"threshold\": 0.4020000100135803, \"p\": 28031, \"fpr\": 0.28289844189975594, \"tpr\": 0.9542292461917163, \"n\": 5327}, {\"threshold\": 0.40299999713897705, \"p\": 28031, \"fpr\": 0.28233527313685003, \"tpr\": 0.9541578966144626, \"n\": 5327}, {\"threshold\": 0.40400001406669617, \"p\": 28031, \"fpr\": 0.28233527313685003, \"tpr\": 0.9541222218258357, \"n\": 5327}, {\"threshold\": 0.4050000011920929, \"p\": 28031, \"fpr\": 0.28233527313685003, \"tpr\": 0.9541222218258357, \"n\": 5327}, {\"threshold\": 0.4059999883174896, \"p\": 28031, \"fpr\": 0.28214755021588134, \"tpr\": 0.9540865470372089, \"n\": 5327}, {\"threshold\": 0.40700000524520874, \"p\": 28031, \"fpr\": 0.2819598272949127, \"tpr\": 0.9540865470372089, \"n\": 5327}, {\"threshold\": 0.40799999237060547, \"p\": 28031, \"fpr\": 0.28139665853200674, \"tpr\": 0.954015197459955, \"n\": 5327}, {\"threshold\": 0.4090000092983246, \"p\": 28031, \"fpr\": 0.28102121269006947, \"tpr\": 0.9539438478827013, \"n\": 5327}, {\"threshold\": 0.4099999964237213, \"p\": 28031, \"fpr\": 0.28083348976910083, \"tpr\": 0.9539438478827013, \"n\": 5327}, {\"threshold\": 0.41100001335144043, \"p\": 28031, \"fpr\": 0.28064576684813214, \"tpr\": 0.95372979915094, \"n\": 5327}, {\"threshold\": 0.41200000047683716, \"p\": 28031, \"fpr\": 0.28008259808522623, \"tpr\": 0.9536941243623132, \"n\": 5327}, {\"threshold\": 0.4129999876022339, \"p\": 28031, \"fpr\": 0.2797071522432889, \"tpr\": 0.9536941243623132, \"n\": 5327}, {\"threshold\": 0.414000004529953, \"p\": 28031, \"fpr\": 0.27914398348038294, \"tpr\": 0.9536227747850594, \"n\": 5327}, {\"threshold\": 0.41499999165534973, \"p\": 28031, \"fpr\": 0.27914398348038294, \"tpr\": 0.9535870999964325, \"n\": 5327}, {\"threshold\": 0.41600000858306885, \"p\": 28031, \"fpr\": 0.27876853763844567, \"tpr\": 0.9534800756305519, \"n\": 5327}, {\"threshold\": 0.4169999957084656, \"p\": 28031, \"fpr\": 0.2782053688755397, \"tpr\": 0.953444400841925, \"n\": 5327}, {\"threshold\": 0.4180000126361847, \"p\": 28031, \"fpr\": 0.2782053688755397, \"tpr\": 0.9533373764760443, \"n\": 5327}, {\"threshold\": 0.4189999997615814, \"p\": 28031, \"fpr\": 0.2778299230336024, \"tpr\": 0.9532303521101637, \"n\": 5327}, {\"threshold\": 0.41999998688697815, \"p\": 28031, \"fpr\": 0.2778299230336024, \"tpr\": 0.9531946773215368, \"n\": 5327}, {\"threshold\": 0.42100000381469727, \"p\": 28031, \"fpr\": 0.2774544771916651, \"tpr\": 0.9531233277442831, \"n\": 5327}, {\"threshold\": 0.421999990940094, \"p\": 28031, \"fpr\": 0.27726675427069647, \"tpr\": 0.9530163033784025, \"n\": 5327}, {\"threshold\": 0.4230000078678131, \"p\": 28031, \"fpr\": 0.2770790313497278, \"tpr\": 0.9529092790125219, \"n\": 5327}, {\"threshold\": 0.42399999499320984, \"p\": 28031, \"fpr\": 0.2770790313497278, \"tpr\": 0.9528022546466413, \"n\": 5327}, {\"threshold\": 0.42500001192092896, \"p\": 28031, \"fpr\": 0.27689130842875914, \"tpr\": 0.9527665798580144, \"n\": 5327}, {\"threshold\": 0.4259999990463257, \"p\": 28031, \"fpr\": 0.2763281396658532, \"tpr\": 0.9527665798580144, \"n\": 5327}, {\"threshold\": 0.4269999861717224, \"p\": 28031, \"fpr\": 0.27576497090294727, \"tpr\": 0.9527309050693875, \"n\": 5327}, {\"threshold\": 0.42800000309944153, \"p\": 28031, \"fpr\": 0.274826356298104, \"tpr\": 0.952552531126253, \"n\": 5327}, {\"threshold\": 0.42899999022483826, \"p\": 28031, \"fpr\": 0.27426318753519807, \"tpr\": 0.9523741571831187, \"n\": 5327}, {\"threshold\": 0.4300000071525574, \"p\": 28031, \"fpr\": 0.2737000187722921, \"tpr\": 0.9523028076058649, \"n\": 5327}, {\"threshold\": 0.4309999942779541, \"p\": 28031, \"fpr\": 0.2733245729303548, \"tpr\": 0.9522314580286112, \"n\": 5327}, {\"threshold\": 0.4320000112056732, \"p\": 28031, \"fpr\": 0.2725736812464802, \"tpr\": 0.9521601084513575, \"n\": 5327}, {\"threshold\": 0.43299999833106995, \"p\": 28031, \"fpr\": 0.2721982354045429, \"tpr\": 0.9520887588741037, \"n\": 5327}, {\"threshold\": 0.4339999854564667, \"p\": 28031, \"fpr\": 0.2720105124835742, \"tpr\": 0.9520530840854768, \"n\": 5327}, {\"threshold\": 0.4350000023841858, \"p\": 28031, \"fpr\": 0.27163506664163695, \"tpr\": 0.9520530840854768, \"n\": 5327}, {\"threshold\": 0.4359999895095825, \"p\": 28031, \"fpr\": 0.27163506664163695, \"tpr\": 0.9519460597195961, \"n\": 5327}, {\"threshold\": 0.43700000643730164, \"p\": 28031, \"fpr\": 0.2712596207996996, \"tpr\": 0.9518390353537155, \"n\": 5327}, {\"threshold\": 0.43799999356269836, \"p\": 28031, \"fpr\": 0.2706964520367937, \"tpr\": 0.9518033605650886, \"n\": 5327}, {\"threshold\": 0.4390000104904175, \"p\": 28031, \"fpr\": 0.2706964520367937, \"tpr\": 0.9517676857764618, \"n\": 5327}, {\"threshold\": 0.4399999976158142, \"p\": 28031, \"fpr\": 0.27013328327388775, \"tpr\": 0.9516606614105811, \"n\": 5327}, {\"threshold\": 0.4410000145435333, \"p\": 28031, \"fpr\": 0.27013328327388775, \"tpr\": 0.9515536370447005, \"n\": 5327}, {\"threshold\": 0.44200000166893005, \"p\": 28031, \"fpr\": 0.2699455603529191, \"tpr\": 0.951410937890193, \"n\": 5327}, {\"threshold\": 0.4429999887943268, \"p\": 28031, \"fpr\": 0.2697578374319504, \"tpr\": 0.9513752631015662, \"n\": 5327}, {\"threshold\": 0.4440000057220459, \"p\": 28031, \"fpr\": 0.2688192228271072, \"tpr\": 0.9513752631015662, \"n\": 5327}, {\"threshold\": 0.4449999928474426, \"p\": 28031, \"fpr\": 0.2682560540642012, \"tpr\": 0.9513395883129393, \"n\": 5327}, {\"threshold\": 0.44600000977516174, \"p\": 28031, \"fpr\": 0.26788060822226395, \"tpr\": 0.9512325639470586, \"n\": 5327}, {\"threshold\": 0.44699999690055847, \"p\": 28031, \"fpr\": 0.2675051623803266, \"tpr\": 0.9511968891584317, \"n\": 5327}, {\"threshold\": 0.4480000138282776, \"p\": 28031, \"fpr\": 0.267317439459358, \"tpr\": 0.9510185152152973, \"n\": 5327}, {\"threshold\": 0.4490000009536743, \"p\": 28031, \"fpr\": 0.26712971653838935, \"tpr\": 0.9508758160607899, \"n\": 5327}, {\"threshold\": 0.44999998807907104, \"p\": 28031, \"fpr\": 0.2665665477754834, \"tpr\": 0.9508044664835361, \"n\": 5327}, {\"threshold\": 0.45100000500679016, \"p\": 28031, \"fpr\": 0.2658156560916088, \"tpr\": 0.9506974421176555, \"n\": 5327}, {\"threshold\": 0.4519999921321869, \"p\": 28031, \"fpr\": 0.2658156560916088, \"tpr\": 0.9505547429631479, \"n\": 5327}, {\"threshold\": 0.453000009059906, \"p\": 28031, \"fpr\": 0.2652524873287028, \"tpr\": 0.950519068174521, \"n\": 5327}, {\"threshold\": 0.45399999618530273, \"p\": 28031, \"fpr\": 0.2652524873287028, \"tpr\": 0.9504477185972673, \"n\": 5327}, {\"threshold\": 0.45500001311302185, \"p\": 28031, \"fpr\": 0.2650647644077342, \"tpr\": 0.9503763690200135, \"n\": 5327}, {\"threshold\": 0.4560000002384186, \"p\": 28031, \"fpr\": 0.26487704148676555, \"tpr\": 0.9502693446541329, \"n\": 5327}, {\"threshold\": 0.4569999873638153, \"p\": 28031, \"fpr\": 0.26468931856579686, \"tpr\": 0.9500909707109986, \"n\": 5327}, {\"threshold\": 0.4580000042915344, \"p\": 28031, \"fpr\": 0.2645015956448282, \"tpr\": 0.9499125967678641, \"n\": 5327}, {\"threshold\": 0.45899999141693115, \"p\": 28031, \"fpr\": 0.2645015956448282, \"tpr\": 0.9498055724019835, \"n\": 5327}, {\"threshold\": 0.46000000834465027, \"p\": 28031, \"fpr\": 0.26412614980289095, \"tpr\": 0.9496271984588491, \"n\": 5327}, {\"threshold\": 0.460999995470047, \"p\": 28031, \"fpr\": 0.26393842688192226, \"tpr\": 0.9495558488815954, \"n\": 5327}, {\"threshold\": 0.4620000123977661, \"p\": 28031, \"fpr\": 0.26337525811901635, \"tpr\": 0.9493061253612073, \"n\": 5327}, {\"threshold\": 0.46299999952316284, \"p\": 28031, \"fpr\": 0.262999812277079, \"tpr\": 0.9492347757839534, \"n\": 5327}, {\"threshold\": 0.46399998664855957, \"p\": 28031, \"fpr\": 0.2628120893561104, \"tpr\": 0.9491634262066997, \"n\": 5327}, {\"threshold\": 0.4650000035762787, \"p\": 28031, \"fpr\": 0.26262436643514175, \"tpr\": 0.9490207270521922, \"n\": 5327}, {\"threshold\": 0.4659999907016754, \"p\": 28031, \"fpr\": 0.26243664351417306, \"tpr\": 0.9489850522635653, \"n\": 5327}, {\"threshold\": 0.46700000762939453, \"p\": 28031, \"fpr\": 0.2620611976722358, \"tpr\": 0.9489137026863116, \"n\": 5327}, {\"threshold\": 0.46799999475479126, \"p\": 28031, \"fpr\": 0.26187347475126715, \"tpr\": 0.9487353287431772, \"n\": 5327}, {\"threshold\": 0.4690000116825104, \"p\": 28031, \"fpr\": 0.26112258306739256, \"tpr\": 0.9486996539545504, \"n\": 5327}, {\"threshold\": 0.4699999988079071, \"p\": 28031, \"fpr\": 0.2603716913835179, \"tpr\": 0.9486996539545504, \"n\": 5327}, {\"threshold\": 0.47099998593330383, \"p\": 28031, \"fpr\": 0.2603716913835179, \"tpr\": 0.9486639791659235, \"n\": 5327}, {\"threshold\": 0.47200000286102295, \"p\": 28031, \"fpr\": 0.259808522620612, \"tpr\": 0.948485605222789, \"n\": 5327}, {\"threshold\": 0.4729999899864197, \"p\": 28031, \"fpr\": 0.2596207996996433, \"tpr\": 0.9483429060682815, \"n\": 5327}, {\"threshold\": 0.4740000069141388, \"p\": 28031, \"fpr\": 0.25868218509480007, \"tpr\": 0.9483072312796547, \"n\": 5327}, {\"threshold\": 0.4749999940395355, \"p\": 28031, \"fpr\": 0.25849446217383143, \"tpr\": 0.9482715564910278, \"n\": 5327}, {\"threshold\": 0.47600001096725464, \"p\": 28031, \"fpr\": 0.25849446217383143, \"tpr\": 0.9480931825478934, \"n\": 5327}, {\"threshold\": 0.47699999809265137, \"p\": 28031, \"fpr\": 0.2583067392528628, \"tpr\": 0.9479861581820128, \"n\": 5327}, {\"threshold\": 0.4779999852180481, \"p\": 28031, \"fpr\": 0.2575558475689882, \"tpr\": 0.947914808604759, \"n\": 5327}, {\"threshold\": 0.4790000021457672, \"p\": 28031, \"fpr\": 0.2575558475689882, \"tpr\": 0.9478434590275052, \"n\": 5327}, {\"threshold\": 0.47999998927116394, \"p\": 28031, \"fpr\": 0.25718040172705087, \"tpr\": 0.9476650850843709, \"n\": 5327}, {\"threshold\": 0.48100000619888306, \"p\": 28031, \"fpr\": 0.2566172329641449, \"tpr\": 0.9475580607184902, \"n\": 5327}, {\"threshold\": 0.4819999933242798, \"p\": 28031, \"fpr\": 0.2558663412802703, \"tpr\": 0.9475223859298634, \"n\": 5327}, {\"threshold\": 0.4830000102519989, \"p\": 28031, \"fpr\": 0.25567861835930167, \"tpr\": 0.9474510363526096, \"n\": 5327}, {\"threshold\": 0.48399999737739563, \"p\": 28031, \"fpr\": 0.2553031725173644, \"tpr\": 0.9472369876208483, \"n\": 5327}, {\"threshold\": 0.48500001430511475, \"p\": 28031, \"fpr\": 0.25492772667542707, \"tpr\": 0.9471656380435945, \"n\": 5327}, {\"threshold\": 0.4860000014305115, \"p\": 28031, \"fpr\": 0.25492772667542707, \"tpr\": 0.9470229388890871, \"n\": 5327}, {\"threshold\": 0.4869999885559082, \"p\": 28031, \"fpr\": 0.25474000375445843, \"tpr\": 0.9468445649459527, \"n\": 5327}, {\"threshold\": 0.4880000054836273, \"p\": 28031, \"fpr\": 0.25417683499155247, \"tpr\": 0.9468088901573258, \"n\": 5327}, {\"threshold\": 0.48899999260902405, \"p\": 28031, \"fpr\": 0.25417683499155247, \"tpr\": 0.9467018657914452, \"n\": 5327}, {\"threshold\": 0.49000000953674316, \"p\": 28031, \"fpr\": 0.25342594330767787, \"tpr\": 0.9466305162141915, \"n\": 5327}, {\"threshold\": 0.4909999966621399, \"p\": 28031, \"fpr\": 0.25305049746574054, \"tpr\": 0.9465948414255646, \"n\": 5327}, {\"threshold\": 0.492000013589859, \"p\": 28031, \"fpr\": 0.2528627745447719, \"tpr\": 0.9464878170596839, \"n\": 5327}, {\"threshold\": 0.49300000071525574, \"p\": 28031, \"fpr\": 0.2528627745447719, \"tpr\": 0.9464164674824301, \"n\": 5327}, {\"threshold\": 0.49399998784065247, \"p\": 28031, \"fpr\": 0.2528627745447719, \"tpr\": 0.9462737683279226, \"n\": 5327}, {\"threshold\": 0.4950000047683716, \"p\": 28031, \"fpr\": 0.25267505162380327, \"tpr\": 0.946166743962042, \"n\": 5327}, {\"threshold\": 0.4959999918937683, \"p\": 28031, \"fpr\": 0.25267505162380327, \"tpr\": 0.9459883700189077, \"n\": 5327}, {\"threshold\": 0.4970000088214874, \"p\": 28031, \"fpr\": 0.25248732870283463, \"tpr\": 0.9458099960757732, \"n\": 5327}, {\"threshold\": 0.49799999594688416, \"p\": 28031, \"fpr\": 0.25229960578186594, \"tpr\": 0.9456672969212657, \"n\": 5327}, {\"threshold\": 0.49900001287460327, \"p\": 28031, \"fpr\": 0.25229960578186594, \"tpr\": 0.9454889229781314, \"n\": 5327}, {\"threshold\": 0.5, \"p\": 28031, \"fpr\": 0.25173643701896004, \"tpr\": 0.945310549034997, \"n\": 5327}, {\"threshold\": 0.5009999871253967, \"p\": 28031, \"fpr\": 0.25154871409799134, \"tpr\": 0.9452035246691164, \"n\": 5327}, {\"threshold\": 0.5019999742507935, \"p\": 28031, \"fpr\": 0.25117326825605407, \"tpr\": 0.9451678498804894, \"n\": 5327}, {\"threshold\": 0.503000020980835, \"p\": 28031, \"fpr\": 0.2506100994931481, \"tpr\": 0.9450608255146088, \"n\": 5327}, {\"threshold\": 0.5040000081062317, \"p\": 28031, \"fpr\": 0.25023465365121084, \"tpr\": 0.9448824515714744, \"n\": 5327}, {\"threshold\": 0.5049999952316284, \"p\": 28031, \"fpr\": 0.25023465365121084, \"tpr\": 0.944739752416967, \"n\": 5327}, {\"threshold\": 0.5059999823570251, \"p\": 28031, \"fpr\": 0.2494837619673362, \"tpr\": 0.9446327280510863, \"n\": 5327}, {\"threshold\": 0.5070000290870667, \"p\": 28031, \"fpr\": 0.2491083161253989, \"tpr\": 0.9445257036852057, \"n\": 5327}, {\"threshold\": 0.5080000162124634, \"p\": 28031, \"fpr\": 0.2491083161253989, \"tpr\": 0.9443830045306981, \"n\": 5327}, {\"threshold\": 0.5090000033378601, \"p\": 28031, \"fpr\": 0.2487328702834616, \"tpr\": 0.9442403053761906, \"n\": 5327}, {\"threshold\": 0.5099999904632568, \"p\": 28031, \"fpr\": 0.247981978599587, \"tpr\": 0.9442046305875638, \"n\": 5327}, {\"threshold\": 0.5109999775886536, \"p\": 28031, \"fpr\": 0.24741880983668105, \"tpr\": 0.9440262566444294, \"n\": 5327}, {\"threshold\": 0.5120000243186951, \"p\": 28031, \"fpr\": 0.2472310869157124, \"tpr\": 0.9439905818558025, \"n\": 5327}, {\"threshold\": 0.5130000114440918, \"p\": 28031, \"fpr\": 0.2468556410737751, \"tpr\": 0.9439192322785488, \"n\": 5327}, {\"threshold\": 0.5139999985694885, \"p\": 28031, \"fpr\": 0.2468556410737751, \"tpr\": 0.9437408583354143, \"n\": 5327}, {\"threshold\": 0.5149999856948853, \"p\": 28031, \"fpr\": 0.24591702646893185, \"tpr\": 0.9437051835467875, \"n\": 5327}, {\"threshold\": 0.515999972820282, \"p\": 28031, \"fpr\": 0.2457293035479632, \"tpr\": 0.9436695087581606, \"n\": 5327}, {\"threshold\": 0.5170000195503235, \"p\": 28031, \"fpr\": 0.2453538577060259, \"tpr\": 0.94356248439228, \"n\": 5327}, {\"threshold\": 0.5180000066757202, \"p\": 28031, \"fpr\": 0.2453538577060259, \"tpr\": 0.94356248439228, \"n\": 5327}, {\"threshold\": 0.5189999938011169, \"p\": 28031, \"fpr\": 0.2453538577060259, \"tpr\": 0.9434911348150262, \"n\": 5327}, {\"threshold\": 0.5199999809265137, \"p\": 28031, \"fpr\": 0.24516613478505725, \"tpr\": 0.9434554600263994, \"n\": 5327}, {\"threshold\": 0.5210000276565552, \"p\": 28031, \"fpr\": 0.24479068894311995, \"tpr\": 0.9433841104491456, \"n\": 5327}, {\"threshold\": 0.5220000147819519, \"p\": 28031, \"fpr\": 0.24422752018021401, \"tpr\": 0.9432057365060112, \"n\": 5327}, {\"threshold\": 0.5230000019073486, \"p\": 28031, \"fpr\": 0.24385207433827671, \"tpr\": 0.9430987121401305, \"n\": 5327}, {\"threshold\": 0.5239999890327454, \"p\": 28031, \"fpr\": 0.24310118265440211, \"tpr\": 0.9429916877742499, \"n\": 5327}, {\"threshold\": 0.5249999761581421, \"p\": 28031, \"fpr\": 0.24253801389149615, \"tpr\": 0.9428489886197424, \"n\": 5327}, {\"threshold\": 0.5260000228881836, \"p\": 28031, \"fpr\": 0.24216256804955885, \"tpr\": 0.9427776390424887, \"n\": 5327}, {\"threshold\": 0.5270000100135803, \"p\": 28031, \"fpr\": 0.2419748451285902, \"tpr\": 0.9426349398879812, \"n\": 5327}, {\"threshold\": 0.527999997138977, \"p\": 28031, \"fpr\": 0.2412239534447156, \"tpr\": 0.9425279155221006, \"n\": 5327}, {\"threshold\": 0.5289999842643738, \"p\": 28031, \"fpr\": 0.24066078468180965, \"tpr\": 0.9424208911562199, \"n\": 5327}, {\"threshold\": 0.5299999713897705, \"p\": 28031, \"fpr\": 0.24028533883987235, \"tpr\": 0.9423495415789661, \"n\": 5327}, {\"threshold\": 0.531000018119812, \"p\": 28031, \"fpr\": 0.24028533883987235, \"tpr\": 0.9422068424244586, \"n\": 5327}, {\"threshold\": 0.5320000052452087, \"p\": 28031, \"fpr\": 0.23990989299793505, \"tpr\": 0.9422068424244586, \"n\": 5327}, {\"threshold\": 0.5329999923706055, \"p\": 28031, \"fpr\": 0.2397221700769664, \"tpr\": 0.9421711676358318, \"n\": 5327}, {\"threshold\": 0.5339999794960022, \"p\": 28031, \"fpr\": 0.2393467242350291, \"tpr\": 0.942099818058578, \"n\": 5327}, {\"threshold\": 0.5350000262260437, \"p\": 28031, \"fpr\": 0.2385958325511545, \"tpr\": 0.9419214441154437, \"n\": 5327}, {\"threshold\": 0.5360000133514404, \"p\": 28031, \"fpr\": 0.23840810963018585, \"tpr\": 0.9418500945381899, \"n\": 5327}, {\"threshold\": 0.5370000004768372, \"p\": 28031, \"fpr\": 0.2382203867092172, \"tpr\": 0.941814419749563, \"n\": 5327}, {\"threshold\": 0.5379999876022339, \"p\": 28031, \"fpr\": 0.2382203867092172, \"tpr\": 0.9416717205950554, \"n\": 5327}, {\"threshold\": 0.5389999747276306, \"p\": 28031, \"fpr\": 0.23803266378824856, \"tpr\": 0.9415646962291748, \"n\": 5327}, {\"threshold\": 0.5400000214576721, \"p\": 28031, \"fpr\": 0.2378449408672799, \"tpr\": 0.941529021440548, \"n\": 5327}, {\"threshold\": 0.5410000085830688, \"p\": 28031, \"fpr\": 0.23765721794631126, \"tpr\": 0.9414933466519211, \"n\": 5327}, {\"threshold\": 0.5419999957084656, \"p\": 28031, \"fpr\": 0.23765721794631126, \"tpr\": 0.9413506474974136, \"n\": 5327}, {\"threshold\": 0.5429999828338623, \"p\": 28031, \"fpr\": 0.23728177210437396, \"tpr\": 0.9413149727087867, \"n\": 5327}, {\"threshold\": 0.5440000295639038, \"p\": 28031, \"fpr\": 0.236718603341468, \"tpr\": 0.941243623131533, \"n\": 5327}, {\"threshold\": 0.5450000166893005, \"p\": 28031, \"fpr\": 0.236718603341468, \"tpr\": 0.9412079483429061, \"n\": 5327}, {\"threshold\": 0.5460000038146973, \"p\": 28031, \"fpr\": 0.2359677116575934, \"tpr\": 0.9411009239770254, \"n\": 5327}, {\"threshold\": 0.546999990940094, \"p\": 28031, \"fpr\": 0.23577998873662473, \"tpr\": 0.9410295743997716, \"n\": 5327}, {\"threshold\": 0.5479999780654907, \"p\": 28031, \"fpr\": 0.2355922658156561, \"tpr\": 0.940922550033891, \"n\": 5327}, {\"threshold\": 0.5490000247955322, \"p\": 28031, \"fpr\": 0.23502909705275013, \"tpr\": 0.9407441760907567, \"n\": 5327}, {\"threshold\": 0.550000011920929, \"p\": 28031, \"fpr\": 0.23465365121081283, \"tpr\": 0.9406728265135029, \"n\": 5327}, {\"threshold\": 0.5509999990463257, \"p\": 28031, \"fpr\": 0.23427820536887553, \"tpr\": 0.9405658021476223, \"n\": 5327}, {\"threshold\": 0.5519999861717224, \"p\": 28031, \"fpr\": 0.23427820536887553, \"tpr\": 0.9404944525703686, \"n\": 5327}, {\"threshold\": 0.5529999732971191, \"p\": 28031, \"fpr\": 0.23390275952693823, \"tpr\": 0.9404231029931147, \"n\": 5327}, {\"threshold\": 0.5540000200271606, \"p\": 28031, \"fpr\": 0.23315186784306363, \"tpr\": 0.9403160786272341, \"n\": 5327}, {\"threshold\": 0.5550000071525574, \"p\": 28031, \"fpr\": 0.23277642200112633, \"tpr\": 0.9402090542613535, \"n\": 5327}, {\"threshold\": 0.5559999942779541, \"p\": 28031, \"fpr\": 0.2322132532382204, \"tpr\": 0.9400306803182191, \"n\": 5327}, {\"threshold\": 0.5569999814033508, \"p\": 28031, \"fpr\": 0.2318378073962831, \"tpr\": 0.9398879811637116, \"n\": 5327}, {\"threshold\": 0.5580000281333923, \"p\": 28031, \"fpr\": 0.23127463863337713, \"tpr\": 0.9398879811637116, \"n\": 5327}, {\"threshold\": 0.5590000152587891, \"p\": 28031, \"fpr\": 0.23127463863337713, \"tpr\": 0.939745282009204, \"n\": 5327}, {\"threshold\": 0.5600000023841858, \"p\": 28031, \"fpr\": 0.23127463863337713, \"tpr\": 0.939745282009204, \"n\": 5327}, {\"threshold\": 0.5609999895095825, \"p\": 28031, \"fpr\": 0.2310869157124085, \"tpr\": 0.9395312332774428, \"n\": 5327}, {\"threshold\": 0.5619999766349792, \"p\": 28031, \"fpr\": 0.2307114698704712, \"tpr\": 0.9393528593343085, \"n\": 5327}, {\"threshold\": 0.5630000233650208, \"p\": 28031, \"fpr\": 0.23014830110756523, \"tpr\": 0.9392815097570547, \"n\": 5327}, {\"threshold\": 0.5640000104904175, \"p\": 28031, \"fpr\": 0.22996057818659657, \"tpr\": 0.939210160179801, \"n\": 5327}, {\"threshold\": 0.5649999976158142, \"p\": 28031, \"fpr\": 0.22958513234465927, \"tpr\": 0.9390317862366665, \"n\": 5327}, {\"threshold\": 0.5659999847412109, \"p\": 28031, \"fpr\": 0.22939740942369063, \"tpr\": 0.9389247618707859, \"n\": 5327}, {\"threshold\": 0.5669999718666077, \"p\": 28031, \"fpr\": 0.22920968650272197, \"tpr\": 0.9389247618707859, \"n\": 5327}, {\"threshold\": 0.5680000185966492, \"p\": 28031, \"fpr\": 0.22864651773981604, \"tpr\": 0.938889087082159, \"n\": 5327}, {\"threshold\": 0.5690000057220459, \"p\": 28031, \"fpr\": 0.22827107189787874, \"tpr\": 0.9387463879276515, \"n\": 5327}, {\"threshold\": 0.5699999928474426, \"p\": 28031, \"fpr\": 0.22808334897691007, \"tpr\": 0.9386393635617709, \"n\": 5327}, {\"threshold\": 0.5709999799728394, \"p\": 28031, \"fpr\": 0.22808334897691007, \"tpr\": 0.9385680139845172, \"n\": 5327}, {\"threshold\": 0.5720000267028809, \"p\": 28031, \"fpr\": 0.22752018021400414, \"tpr\": 0.9384966644072634, \"n\": 5327}, {\"threshold\": 0.5730000138282776, \"p\": 28031, \"fpr\": 0.22752018021400414, \"tpr\": 0.9384609896186366, \"n\": 5327}, {\"threshold\": 0.5740000009536743, \"p\": 28031, \"fpr\": 0.22733245729303547, \"tpr\": 0.938318290464129, \"n\": 5327}, {\"threshold\": 0.574999988079071, \"p\": 28031, \"fpr\": 0.22658156560916087, \"tpr\": 0.9382469408868752, \"n\": 5327}, {\"threshold\": 0.5759999752044678, \"p\": 28031, \"fpr\": 0.22620611976722357, \"tpr\": 0.9380685669437409, \"n\": 5327}, {\"threshold\": 0.5770000219345093, \"p\": 28031, \"fpr\": 0.22564295100431764, \"tpr\": 0.9379615425778602, \"n\": 5327}, {\"threshold\": 0.578000009059906, \"p\": 28031, \"fpr\": 0.22526750516238034, \"tpr\": 0.9379258677892334, \"n\": 5327}, {\"threshold\": 0.5789999961853027, \"p\": 28031, \"fpr\": 0.22507978224141167, \"tpr\": 0.937747493846099, \"n\": 5327}, {\"threshold\": 0.5799999833106995, \"p\": 28031, \"fpr\": 0.22507978224141167, \"tpr\": 0.9376404694802183, \"n\": 5327}, {\"threshold\": 0.5809999704360962, \"p\": 28031, \"fpr\": 0.22432889055753708, \"tpr\": 0.9375334451143377, \"n\": 5327}, {\"threshold\": 0.5820000171661377, \"p\": 28031, \"fpr\": 0.2233902759526938, \"tpr\": 0.9373907459598302, \"n\": 5327}, {\"threshold\": 0.5830000042915344, \"p\": 28031, \"fpr\": 0.22320255303172518, \"tpr\": 0.9373193963825764, \"n\": 5327}, {\"threshold\": 0.5839999914169312, \"p\": 28031, \"fpr\": 0.2230148301107565, \"tpr\": 0.9372837215939496, \"n\": 5327}, {\"threshold\": 0.5849999785423279, \"p\": 28031, \"fpr\": 0.2226393842688192, \"tpr\": 0.9372123720166958, \"n\": 5327}, {\"threshold\": 0.5860000252723694, \"p\": 28031, \"fpr\": 0.22245166134785058, \"tpr\": 0.9371410224394421, \"n\": 5327}, {\"threshold\": 0.5870000123977661, \"p\": 28031, \"fpr\": 0.22207621550591328, \"tpr\": 0.9371053476508152, \"n\": 5327}, {\"threshold\": 0.5879999995231628, \"p\": 28031, \"fpr\": 0.2218884925849446, \"tpr\": 0.9370696728621883, \"n\": 5327}, {\"threshold\": 0.5889999866485596, \"p\": 28031, \"fpr\": 0.2215130467430073, \"tpr\": 0.9369983232849345, \"n\": 5327}, {\"threshold\": 0.5899999737739563, \"p\": 28031, \"fpr\": 0.22113760090107001, \"tpr\": 0.9367842745531733, \"n\": 5327}, {\"threshold\": 0.5910000205039978, \"p\": 28031, \"fpr\": 0.22094987798010138, \"tpr\": 0.9367842745531733, \"n\": 5327}, {\"threshold\": 0.5920000076293945, \"p\": 28031, \"fpr\": 0.22076215505913271, \"tpr\": 0.9367485997645464, \"n\": 5327}, {\"threshold\": 0.5929999947547913, \"p\": 28031, \"fpr\": 0.22038670921719541, \"tpr\": 0.9366415753986658, \"n\": 5327}, {\"threshold\": 0.593999981880188, \"p\": 28031, \"fpr\": 0.21982354045428948, \"tpr\": 0.936570225821412, \"n\": 5327}, {\"threshold\": 0.5950000286102295, \"p\": 28031, \"fpr\": 0.21907264877041488, \"tpr\": 0.9364275266669045, \"n\": 5327}, {\"threshold\": 0.5960000157356262, \"p\": 28031, \"fpr\": 0.21850948000750892, \"tpr\": 0.9363561770896508, \"n\": 5327}, {\"threshold\": 0.597000002861023, \"p\": 28031, \"fpr\": 0.21813403416557162, \"tpr\": 0.9362491527237701, \"n\": 5327}, {\"threshold\": 0.5979999899864197, \"p\": 28031, \"fpr\": 0.21775858832363432, \"tpr\": 0.9361421283578895, \"n\": 5327}, {\"threshold\": 0.5989999771118164, \"p\": 28031, \"fpr\": 0.21738314248169702, \"tpr\": 0.9360707787806357, \"n\": 5327}, {\"threshold\": 0.6000000238418579, \"p\": 28031, \"fpr\": 0.21700769663975972, \"tpr\": 0.935999429203382, \"n\": 5327}, {\"threshold\": 0.6010000109672546, \"p\": 28031, \"fpr\": 0.21663225079782242, \"tpr\": 0.9358567300488745, \"n\": 5327}, {\"threshold\": 0.6019999980926514, \"p\": 28031, \"fpr\": 0.21588135911394782, \"tpr\": 0.9357853804716207, \"n\": 5327}, {\"threshold\": 0.6029999852180481, \"p\": 28031, \"fpr\": 0.21513046743007322, \"tpr\": 0.9357497056829939, \"n\": 5327}, {\"threshold\": 0.6039999723434448, \"p\": 28031, \"fpr\": 0.21456729866716726, \"tpr\": 0.935714030894367, \"n\": 5327}, {\"threshold\": 0.6050000190734863, \"p\": 28031, \"fpr\": 0.21400412990426132, \"tpr\": 0.9355356569512325, \"n\": 5327}, {\"threshold\": 0.6060000061988831, \"p\": 28031, \"fpr\": 0.21362868406232402, \"tpr\": 0.9353572830080982, \"n\": 5327}, {\"threshold\": 0.6069999933242798, \"p\": 28031, \"fpr\": 0.21362868406232402, \"tpr\": 0.9352502586422176, \"n\": 5327}, {\"threshold\": 0.6079999804496765, \"p\": 28031, \"fpr\": 0.21325323822038672, \"tpr\": 0.9351432342763369, \"n\": 5327}, {\"threshold\": 0.609000027179718, \"p\": 28031, \"fpr\": 0.21306551529941806, \"tpr\": 0.9350005351218295, \"n\": 5327}, {\"threshold\": 0.6100000143051147, \"p\": 28031, \"fpr\": 0.21306551529941806, \"tpr\": 0.9350005351218295, \"n\": 5327}, {\"threshold\": 0.6110000014305115, \"p\": 28031, \"fpr\": 0.21287779237844942, \"tpr\": 0.9348935107559487, \"n\": 5327}, {\"threshold\": 0.6119999885559082, \"p\": 28031, \"fpr\": 0.21269006945748076, \"tpr\": 0.9347864863900681, \"n\": 5327}, {\"threshold\": 0.6129999756813049, \"p\": 28031, \"fpr\": 0.21250234653651212, \"tpr\": 0.9346437872355606, \"n\": 5327}, {\"threshold\": 0.6140000224113464, \"p\": 28031, \"fpr\": 0.21231462361554346, \"tpr\": 0.93453676286968, \"n\": 5327}, {\"threshold\": 0.6150000095367432, \"p\": 28031, \"fpr\": 0.21212690069457482, \"tpr\": 0.9343940637151725, \"n\": 5327}, {\"threshold\": 0.6159999966621399, \"p\": 28031, \"fpr\": 0.21193917777360616, \"tpr\": 0.9342156897720381, \"n\": 5327}, {\"threshold\": 0.6169999837875366, \"p\": 28031, \"fpr\": 0.2117514548526375, \"tpr\": 0.9340373158289037, \"n\": 5327}, {\"threshold\": 0.6179999709129333, \"p\": 28031, \"fpr\": 0.2117514548526375, \"tpr\": 0.9338232670971425, \"n\": 5327}, {\"threshold\": 0.6190000176429749, \"p\": 28031, \"fpr\": 0.21156373193166886, \"tpr\": 0.9336448931540081, \"n\": 5327}, {\"threshold\": 0.6200000047683716, \"p\": 28031, \"fpr\": 0.21156373193166886, \"tpr\": 0.9335735435767543, \"n\": 5327}, {\"threshold\": 0.6209999918937683, \"p\": 28031, \"fpr\": 0.21118828608973156, \"tpr\": 0.933359494844993, \"n\": 5327}, {\"threshold\": 0.621999979019165, \"p\": 28031, \"fpr\": 0.21081284024779426, \"tpr\": 0.9331811209018587, \"n\": 5327}, {\"threshold\": 0.6230000257492065, \"p\": 28031, \"fpr\": 0.2106251173268256, \"tpr\": 0.9331097713246049, \"n\": 5327}, {\"threshold\": 0.6240000128746033, \"p\": 28031, \"fpr\": 0.21006194856391966, \"tpr\": 0.9330027469587243, \"n\": 5327}, {\"threshold\": 0.625, \"p\": 28031, \"fpr\": 0.2094987798010137, \"tpr\": 0.9328957225928436, \"n\": 5327}, {\"threshold\": 0.6259999871253967, \"p\": 28031, \"fpr\": 0.2094987798010137, \"tpr\": 0.932788698226963, \"n\": 5327}, {\"threshold\": 0.6269999742507935, \"p\": 28031, \"fpr\": 0.2091233339590764, \"tpr\": 0.9326816738610824, \"n\": 5327}, {\"threshold\": 0.628000020980835, \"p\": 28031, \"fpr\": 0.2087478881171391, \"tpr\": 0.9324319503406943, \"n\": 5327}, {\"threshold\": 0.6290000081062317, \"p\": 28031, \"fpr\": 0.20818471935423316, \"tpr\": 0.9322179016089329, \"n\": 5327}, {\"threshold\": 0.6299999952316284, \"p\": 28031, \"fpr\": 0.2079969964332645, \"tpr\": 0.9320038528771717, \"n\": 5327}, {\"threshold\": 0.6309999823570251, \"p\": 28031, \"fpr\": 0.20780927351229586, \"tpr\": 0.9316827797795298, \"n\": 5327}, {\"threshold\": 0.6320000290870667, \"p\": 28031, \"fpr\": 0.2076215505913272, \"tpr\": 0.9315757554136491, \"n\": 5327}, {\"threshold\": 0.6330000162124634, \"p\": 28031, \"fpr\": 0.2072461047493899, \"tpr\": 0.9314687310477685, \"n\": 5327}, {\"threshold\": 0.6340000033378601, \"p\": 28031, \"fpr\": 0.20705838182842126, \"tpr\": 0.9313617066818879, \"n\": 5327}, {\"threshold\": 0.6349999904632568, \"p\": 28031, \"fpr\": 0.2068706589074526, \"tpr\": 0.9311833327387535, \"n\": 5327}, {\"threshold\": 0.6359999775886536, \"p\": 28031, \"fpr\": 0.20668293598648396, \"tpr\": 0.9310049587956192, \"n\": 5327}, {\"threshold\": 0.6370000243186951, \"p\": 28031, \"fpr\": 0.20593204430260934, \"tpr\": 0.9309336092183654, \"n\": 5327}, {\"threshold\": 0.6380000114440918, \"p\": 28031, \"fpr\": 0.2057443213816407, \"tpr\": 0.9308622596411116, \"n\": 5327}, {\"threshold\": 0.6389999985694885, \"p\": 28031, \"fpr\": 0.20555659846067204, \"tpr\": 0.9306482109093503, \"n\": 5327}, {\"threshold\": 0.6399999856948853, \"p\": 28031, \"fpr\": 0.20555659846067204, \"tpr\": 0.9305768613320966, \"n\": 5327}, {\"threshold\": 0.640999972820282, \"p\": 28031, \"fpr\": 0.2049934296977661, \"tpr\": 0.9304341621775891, \"n\": 5327}, {\"threshold\": 0.6420000195503235, \"p\": 28031, \"fpr\": 0.20443026093486014, \"tpr\": 0.9303271378117085, \"n\": 5327}, {\"threshold\": 0.6430000066757202, \"p\": 28031, \"fpr\": 0.20405481509292284, \"tpr\": 0.9302557882344548, \"n\": 5327}, {\"threshold\": 0.6439999938011169, \"p\": 28031, \"fpr\": 0.20367936925098554, \"tpr\": 0.9302201134458278, \"n\": 5327}, {\"threshold\": 0.6449999809265137, \"p\": 28031, \"fpr\": 0.20367936925098554, \"tpr\": 0.9301130890799472, \"n\": 5327}, {\"threshold\": 0.6460000276565552, \"p\": 28031, \"fpr\": 0.2034916463300169, \"tpr\": 0.9300060647140665, \"n\": 5327}, {\"threshold\": 0.6470000147819519, \"p\": 28031, \"fpr\": 0.2034916463300169, \"tpr\": 0.9298990403481859, \"n\": 5327}, {\"threshold\": 0.6480000019073486, \"p\": 28031, \"fpr\": 0.20330392340904824, \"tpr\": 0.9298633655595591, \"n\": 5327}, {\"threshold\": 0.6489999890327454, \"p\": 28031, \"fpr\": 0.20292847756711094, \"tpr\": 0.929613642039171, \"n\": 5327}, {\"threshold\": 0.6499999761581421, \"p\": 28031, \"fpr\": 0.2027407546461423, \"tpr\": 0.9293639185187828, \"n\": 5327}, {\"threshold\": 0.6510000228881836, \"p\": 28031, \"fpr\": 0.2016144171203304, \"tpr\": 0.9291855445756484, \"n\": 5327}, {\"threshold\": 0.6520000100135803, \"p\": 28031, \"fpr\": 0.2016144171203304, \"tpr\": 0.9289714958438872, \"n\": 5327}, {\"threshold\": 0.652999997138977, \"p\": 28031, \"fpr\": 0.2012389712783931, \"tpr\": 0.9289001462666334, \"n\": 5327}, {\"threshold\": 0.6539999842643738, \"p\": 28031, \"fpr\": 0.20105124835742444, \"tpr\": 0.9287931219007527, \"n\": 5327}, {\"threshold\": 0.6549999713897705, \"p\": 28031, \"fpr\": 0.20030035667354984, \"tpr\": 0.9286504227462452, \"n\": 5327}, {\"threshold\": 0.656000018119812, \"p\": 28031, \"fpr\": 0.19992491083161254, \"tpr\": 0.9285077235917377, \"n\": 5327}, {\"threshold\": 0.6570000052452087, \"p\": 28031, \"fpr\": 0.19954946498967524, \"tpr\": 0.9283293496486034, \"n\": 5327}, {\"threshold\": 0.6579999923706055, \"p\": 28031, \"fpr\": 0.19898629622676928, \"tpr\": 0.9281866504940959, \"n\": 5327}, {\"threshold\": 0.6589999794960022, \"p\": 28031, \"fpr\": 0.19879857330580064, \"tpr\": 0.9280439513395883, \"n\": 5327}, {\"threshold\": 0.6600000262260437, \"p\": 28031, \"fpr\": 0.19861085038483198, \"tpr\": 0.9280082765509614, \"n\": 5327}, {\"threshold\": 0.6610000133514404, \"p\": 28031, \"fpr\": 0.19823540454289468, \"tpr\": 0.927829902607827, \"n\": 5327}, {\"threshold\": 0.6620000004768372, \"p\": 28031, \"fpr\": 0.19823540454289468, \"tpr\": 0.9276872034533196, \"n\": 5327}, {\"threshold\": 0.6629999876022339, \"p\": 28031, \"fpr\": 0.19785995870095738, \"tpr\": 0.9275445042988121, \"n\": 5327}, {\"threshold\": 0.6639999747276306, \"p\": 28031, \"fpr\": 0.19785995870095738, \"tpr\": 0.9274374799329314, \"n\": 5327}, {\"threshold\": 0.6650000214576721, \"p\": 28031, \"fpr\": 0.19767223577998874, \"tpr\": 0.9272234312011701, \"n\": 5327}, {\"threshold\": 0.6660000085830688, \"p\": 28031, \"fpr\": 0.19692134409611414, \"tpr\": 0.9270807320466626, \"n\": 5327}, {\"threshold\": 0.6669999957084656, \"p\": 28031, \"fpr\": 0.19654589825417684, \"tpr\": 0.9269380328921552, \"n\": 5327}, {\"threshold\": 0.6679999828338623, \"p\": 28031, \"fpr\": 0.19598272949127088, \"tpr\": 0.9267596589490207, \"n\": 5327}, {\"threshold\": 0.6690000295639038, \"p\": 28031, \"fpr\": 0.19560728364933358, \"tpr\": 0.9266883093717669, \"n\": 5327}, {\"threshold\": 0.6700000166893005, \"p\": 28031, \"fpr\": 0.19541956072836494, \"tpr\": 0.9265456102172595, \"n\": 5327}, {\"threshold\": 0.6710000038146973, \"p\": 28031, \"fpr\": 0.19523183780739628, \"tpr\": 0.9264385858513788, \"n\": 5327}, {\"threshold\": 0.671999990940094, \"p\": 28031, \"fpr\": 0.19523183780739628, \"tpr\": 0.9263315614854982, \"n\": 5327}, {\"threshold\": 0.6729999780654907, \"p\": 28031, \"fpr\": 0.19523183780739628, \"tpr\": 0.9262245371196176, \"n\": 5327}, {\"threshold\": 0.6740000247955322, \"p\": 28031, \"fpr\": 0.19429322320255304, \"tpr\": 0.9259748135992294, \"n\": 5327}, {\"threshold\": 0.675000011920929, \"p\": 28031, \"fpr\": 0.18997559602027408, \"tpr\": 0.920873318825586, \"n\": 5327}, {\"threshold\": 0.6759999990463257, \"p\": 28031, \"fpr\": 0.18941242725736812, \"tpr\": 0.9206592700938246, \"n\": 5327}, {\"threshold\": 0.6769999861717224, \"p\": 28031, \"fpr\": 0.18866153557349352, \"tpr\": 0.9204452213620634, \"n\": 5327}, {\"threshold\": 0.6779999732971191, \"p\": 28031, \"fpr\": 0.18828608973155622, \"tpr\": 0.9203381969961828, \"n\": 5327}, {\"threshold\": 0.6790000200271606, \"p\": 28031, \"fpr\": 0.18809836681058759, \"tpr\": 0.9202311726303022, \"n\": 5327}, {\"threshold\": 0.6800000071525574, \"p\": 28031, \"fpr\": 0.18791064388961892, \"tpr\": 0.920017123898541, \"n\": 5327}, {\"threshold\": 0.6809999942779541, \"p\": 28031, \"fpr\": 0.18772292096865026, \"tpr\": 0.919981449109914, \"n\": 5327}, {\"threshold\": 0.6819999814033508, \"p\": 28031, \"fpr\": 0.18734747512671296, \"tpr\": 0.9198387499554065, \"n\": 5327}, {\"threshold\": 0.6830000281333923, \"p\": 28031, \"fpr\": 0.18715975220574432, \"tpr\": 0.9197317255895259, \"n\": 5327}, {\"threshold\": 0.6840000152587891, \"p\": 28031, \"fpr\": 0.18603341467993242, \"tpr\": 0.9196247012236453, \"n\": 5327}, {\"threshold\": 0.6850000023841858, \"p\": 28031, \"fpr\": 0.18584569175896376, \"tpr\": 0.9194820020691378, \"n\": 5327}, {\"threshold\": 0.6859999895095825, \"p\": 28031, \"fpr\": 0.18565796883799512, \"tpr\": 0.9193393029146303, \"n\": 5327}, {\"threshold\": 0.6869999766349792, \"p\": 28031, \"fpr\": 0.18509480007508916, \"tpr\": 0.9192679533373764, \"n\": 5327}, {\"threshold\": 0.6880000233650208, \"p\": 28031, \"fpr\": 0.18396846254927726, \"tpr\": 0.9190539046056152, \"n\": 5327}, {\"threshold\": 0.6890000104904175, \"p\": 28031, \"fpr\": 0.18321757086540266, \"tpr\": 0.918839855873854, \"n\": 5327}, {\"threshold\": 0.6899999976158142, \"p\": 28031, \"fpr\": 0.18321757086540266, \"tpr\": 0.9186614819307196, \"n\": 5327}, {\"threshold\": 0.6909999847412109, \"p\": 28031, \"fpr\": 0.18246667918152806, \"tpr\": 0.9184474331989583, \"n\": 5327}, {\"threshold\": 0.6919999718666077, \"p\": 28031, \"fpr\": 0.18246667918152806, \"tpr\": 0.9182690592558239, \"n\": 5327}, {\"threshold\": 0.6930000185966492, \"p\": 28031, \"fpr\": 0.18227895626055943, \"tpr\": 0.9180193357354358, \"n\": 5327}, {\"threshold\": 0.6940000057220459, \"p\": 28031, \"fpr\": 0.18171578749765346, \"tpr\": 0.9178409617923013, \"n\": 5327}, {\"threshold\": 0.6949999928474426, \"p\": 28031, \"fpr\": 0.1811526187347475, \"tpr\": 0.917662587849167, \"n\": 5327}, {\"threshold\": 0.6959999799728394, \"p\": 28031, \"fpr\": 0.18021400412990426, \"tpr\": 0.9176269130605401, \"n\": 5327}, {\"threshold\": 0.6970000267028809, \"p\": 28031, \"fpr\": 0.1800262812089356, \"tpr\": 0.9173058399628983, \"n\": 5327}, {\"threshold\": 0.6980000138282776, \"p\": 28031, \"fpr\": 0.1800262812089356, \"tpr\": 0.9171631408083907, \"n\": 5327}, {\"threshold\": 0.6990000009536743, \"p\": 28031, \"fpr\": 0.1796508353669983, \"tpr\": 0.9170917912311369, \"n\": 5327}, {\"threshold\": 0.699999988079071, \"p\": 28031, \"fpr\": 0.1796508353669983, \"tpr\": 0.9169847668652563, \"n\": 5327}, {\"threshold\": 0.7009999752044678, \"p\": 28031, \"fpr\": 0.17871222076215507, \"tpr\": 0.9169134172880026, \"n\": 5327}, {\"threshold\": 0.7020000219345093, \"p\": 28031, \"fpr\": 0.17871222076215507, \"tpr\": 0.9166636937676145, \"n\": 5327}, {\"threshold\": 0.703000009059906, \"p\": 28031, \"fpr\": 0.17833677492021777, \"tpr\": 0.9165209946131069, \"n\": 5327}, {\"threshold\": 0.7039999961853027, \"p\": 28031, \"fpr\": 0.1781490519992491, \"tpr\": 0.91648531982448, \"n\": 5327}, {\"threshold\": 0.7049999833106995, \"p\": 28031, \"fpr\": 0.17721043739440587, \"tpr\": 0.9164139702472263, \"n\": 5327}, {\"threshold\": 0.7059999704360962, \"p\": 28031, \"fpr\": 0.17683499155246857, \"tpr\": 0.9161285719382113, \"n\": 5327}, {\"threshold\": 0.7070000171661377, \"p\": 28031, \"fpr\": 0.17570865402665664, \"tpr\": 0.9158431736291962, \"n\": 5327}, {\"threshold\": 0.7080000042915344, \"p\": 28031, \"fpr\": 0.175520931105688, \"tpr\": 0.9156647996860618, \"n\": 5327}, {\"threshold\": 0.7089999914169312, \"p\": 28031, \"fpr\": 0.1751454852637507, \"tpr\": 0.9153794013770469, \"n\": 5327}, {\"threshold\": 0.7099999785423279, \"p\": 28031, \"fpr\": 0.1740191477379388, \"tpr\": 0.9151296778566587, \"n\": 5327}, {\"threshold\": 0.7110000252723694, \"p\": 28031, \"fpr\": 0.17383142481697014, \"tpr\": 0.9149156291248974, \"n\": 5327}, {\"threshold\": 0.7120000123977661, \"p\": 28031, \"fpr\": 0.17383142481697014, \"tpr\": 0.9147015803931362, \"n\": 5327}, {\"threshold\": 0.7129999995231628, \"p\": 28031, \"fpr\": 0.17345597897503284, \"tpr\": 0.9143805072954942, \"n\": 5327}, {\"threshold\": 0.7139999866485596, \"p\": 28031, \"fpr\": 0.1725173643701896, \"tpr\": 0.9142021333523599, \"n\": 5327}, {\"threshold\": 0.7149999737739563, \"p\": 28031, \"fpr\": 0.1721419185282523, \"tpr\": 0.9140237594092255, \"n\": 5327}, {\"threshold\": 0.7160000205039978, \"p\": 28031, \"fpr\": 0.17195419560728364, \"tpr\": 0.9138097106774642, \"n\": 5327}, {\"threshold\": 0.7170000076293945, \"p\": 28031, \"fpr\": 0.17157874976534634, \"tpr\": 0.9135599871570761, \"n\": 5327}, {\"threshold\": 0.7179999947547913, \"p\": 28031, \"fpr\": 0.1710155810024404, \"tpr\": 0.9134172880025686, \"n\": 5327}, {\"threshold\": 0.718999981880188, \"p\": 28031, \"fpr\": 0.1706401351605031, \"tpr\": 0.9133459384253149, \"n\": 5327}, {\"threshold\": 0.7200000286102295, \"p\": 28031, \"fpr\": 0.17045241223953445, \"tpr\": 0.913310263636688, \"n\": 5327}, {\"threshold\": 0.7210000157356262, \"p\": 28031, \"fpr\": 0.17007696639759715, \"tpr\": 0.9130962149049267, \"n\": 5327}, {\"threshold\": 0.722000002861023, \"p\": 28031, \"fpr\": 0.16913835179275388, \"tpr\": 0.9127751418072848, \"n\": 5327}, {\"threshold\": 0.7229999899864197, \"p\": 28031, \"fpr\": 0.16895062887178525, \"tpr\": 0.9125967678641504, \"n\": 5327}, {\"threshold\": 0.7239999771118164, \"p\": 28031, \"fpr\": 0.16895062887178525, \"tpr\": 0.912418393921016, \"n\": 5327}, {\"threshold\": 0.7250000238418579, \"p\": 28031, \"fpr\": 0.16857518302984795, \"tpr\": 0.9122756947665085, \"n\": 5327}, {\"threshold\": 0.7260000109672546, \"p\": 28031, \"fpr\": 0.16819973718791065, \"tpr\": 0.9119546216688666, \"n\": 5327}, {\"threshold\": 0.7269999980926514, \"p\": 28031, \"fpr\": 0.16801201426694198, \"tpr\": 0.9117048981484784, \"n\": 5327}, {\"threshold\": 0.7279999852180481, \"p\": 28031, \"fpr\": 0.16782429134597335, \"tpr\": 0.9116335485712247, \"n\": 5327}, {\"threshold\": 0.7289999723434448, \"p\": 28031, \"fpr\": 0.16763656842500468, \"tpr\": 0.9114908494167172, \"n\": 5327}, {\"threshold\": 0.7300000190734863, \"p\": 28031, \"fpr\": 0.16726112258306738, \"tpr\": 0.9113481502622097, \"n\": 5327}, {\"threshold\": 0.7310000061988831, \"p\": 28031, \"fpr\": 0.16669795382016145, \"tpr\": 0.9110270771645678, \"n\": 5327}, {\"threshold\": 0.7319999933242798, \"p\": 28031, \"fpr\": 0.16594706213628685, \"tpr\": 0.9108843780100603, \"n\": 5327}, {\"threshold\": 0.7329999804496765, \"p\": 28031, \"fpr\": 0.16575933921531819, \"tpr\": 0.9105276301237916, \"n\": 5327}, {\"threshold\": 0.734000027179718, \"p\": 28031, \"fpr\": 0.16557161629434955, \"tpr\": 0.9103492561806571, \"n\": 5327}, {\"threshold\": 0.7350000143051147, \"p\": 28031, \"fpr\": 0.16538389337338089, \"tpr\": 0.9102065570261496, \"n\": 5327}, {\"threshold\": 0.7360000014305115, \"p\": 28031, \"fpr\": 0.16519617045241225, \"tpr\": 0.9099568335057615, \"n\": 5327}, {\"threshold\": 0.7369999885559082, \"p\": 28031, \"fpr\": 0.16519617045241225, \"tpr\": 0.909814134351254, \"n\": 5327}, {\"threshold\": 0.7379999756813049, \"p\": 28031, \"fpr\": 0.1646330016895063, \"tpr\": 0.9096357604081196, \"n\": 5327}, {\"threshold\": 0.7390000224113464, \"p\": 28031, \"fpr\": 0.16406983292660035, \"tpr\": 0.9093503620991046, \"n\": 5327}, {\"threshold\": 0.7400000095367432, \"p\": 28031, \"fpr\": 0.16369438708466305, \"tpr\": 0.909243337733224, \"n\": 5327}, {\"threshold\": 0.7409999966621399, \"p\": 28031, \"fpr\": 0.16294349540078842, \"tpr\": 0.9091006385787164, \"n\": 5327}, {\"threshold\": 0.7419999837875366, \"p\": 28031, \"fpr\": 0.1627557724798198, \"tpr\": 0.9088865898469551, \"n\": 5327}, {\"threshold\": 0.7429999709129333, \"p\": 28031, \"fpr\": 0.16219260371691382, \"tpr\": 0.9087438906924477, \"n\": 5327}, {\"threshold\": 0.7440000176429749, \"p\": 28031, \"fpr\": 0.1616294349540079, \"tpr\": 0.9084941671720596, \"n\": 5327}, {\"threshold\": 0.7450000047683716, \"p\": 28031, \"fpr\": 0.16144171203303923, \"tpr\": 0.9083157932289251, \"n\": 5327}, {\"threshold\": 0.7459999918937683, \"p\": 28031, \"fpr\": 0.1612539891120706, \"tpr\": 0.9079947201312832, \"n\": 5327}, {\"threshold\": 0.746999979019165, \"p\": 28031, \"fpr\": 0.1608785432701333, \"tpr\": 0.9078876957654026, \"n\": 5327}, {\"threshold\": 0.7480000257492065, \"p\": 28031, \"fpr\": 0.16069082034916463, \"tpr\": 0.9075309478791338, \"n\": 5327}, {\"threshold\": 0.7490000128746033, \"p\": 28031, \"fpr\": 0.160503097428196, \"tpr\": 0.907209874781492, \"n\": 5327}, {\"threshold\": 0.75, \"p\": 28031, \"fpr\": 0.1601276515862587, \"tpr\": 0.9070315008383575, \"n\": 5327}, {\"threshold\": 0.7509999871253967, \"p\": 28031, \"fpr\": 0.15881359113947813, \"tpr\": 0.90688880168385, \"n\": 5327}, {\"threshold\": 0.7519999742507935, \"p\": 28031, \"fpr\": 0.1586258682185095, \"tpr\": 0.9066747529520888, \"n\": 5327}, {\"threshold\": 0.753000020980835, \"p\": 28031, \"fpr\": 0.15749953069269756, \"tpr\": 0.9064250294317007, \"n\": 5327}, {\"threshold\": 0.7540000081062317, \"p\": 28031, \"fpr\": 0.15731180777172893, \"tpr\": 0.9063536798544468, \"n\": 5327}, {\"threshold\": 0.7549999952316284, \"p\": 28031, \"fpr\": 0.15731180777172893, \"tpr\": 0.9061753059113125, \"n\": 5327}, {\"threshold\": 0.7559999823570251, \"p\": 28031, \"fpr\": 0.15693636192979163, \"tpr\": 0.9059612571795512, \"n\": 5327}, {\"threshold\": 0.7570000290870667, \"p\": 28031, \"fpr\": 0.15674863900882297, \"tpr\": 0.9056045092932824, \"n\": 5327}, {\"threshold\": 0.7580000162124634, \"p\": 28031, \"fpr\": 0.15599774732494837, \"tpr\": 0.9053547857728943, \"n\": 5327}, {\"threshold\": 0.7590000033378601, \"p\": 28031, \"fpr\": 0.15543457856204243, \"tpr\": 0.9048910135207449, \"n\": 5327}, {\"threshold\": 0.7599999904632568, \"p\": 28031, \"fpr\": 0.15524685564107377, \"tpr\": 0.9046412900003568, \"n\": 5327}, {\"threshold\": 0.7609999775886536, \"p\": 28031, \"fpr\": 0.15487140979913647, \"tpr\": 0.9043558916913417, \"n\": 5327}, {\"threshold\": 0.7620000243186951, \"p\": 28031, \"fpr\": 0.15449596395719917, \"tpr\": 0.903999143805073, \"n\": 5327}, {\"threshold\": 0.7630000114440918, \"p\": 28031, \"fpr\": 0.15393279519429323, \"tpr\": 0.9038921194391923, \"n\": 5327}, {\"threshold\": 0.7639999985694885, \"p\": 28031, \"fpr\": 0.15355734935235593, \"tpr\": 0.9034640219756698, \"n\": 5327}, {\"threshold\": 0.7649999856948853, \"p\": 28031, \"fpr\": 0.15318190351041863, \"tpr\": 0.9032142984552817, \"n\": 5327}, {\"threshold\": 0.765999972820282, \"p\": 28031, \"fpr\": 0.15261873474751267, \"tpr\": 0.9030715993007742, \"n\": 5327}, {\"threshold\": 0.7670000195503235, \"p\": 28031, \"fpr\": 0.15243101182654403, \"tpr\": 0.9027505262031322, \"n\": 5327}, {\"threshold\": 0.7680000066757202, \"p\": 28031, \"fpr\": 0.15224328890557537, \"tpr\": 0.9026078270486247, \"n\": 5327}, {\"threshold\": 0.7689999938011169, \"p\": 28031, \"fpr\": 0.15186784306363807, \"tpr\": 0.9022867539509828, \"n\": 5327}, {\"threshold\": 0.7699999809265137, \"p\": 28031, \"fpr\": 0.15186784306363807, \"tpr\": 0.9021083800078484, \"n\": 5327}, {\"threshold\": 0.7710000276565552, \"p\": 28031, \"fpr\": 0.15149239722170077, \"tpr\": 0.9017516321215797, \"n\": 5327}, {\"threshold\": 0.7720000147819519, \"p\": 28031, \"fpr\": 0.1513046743007321, \"tpr\": 0.9014305590239378, \"n\": 5327}, {\"threshold\": 0.7730000019073486, \"p\": 28031, \"fpr\": 0.15074150553782617, \"tpr\": 0.9011451607149228, \"n\": 5327}, {\"threshold\": 0.7739999890327454, \"p\": 28031, \"fpr\": 0.1501783367749202, \"tpr\": 0.9009311119831614, \"n\": 5327}, {\"threshold\": 0.7749999761581421, \"p\": 28031, \"fpr\": 0.1498028909329829, \"tpr\": 0.9007527380400271, \"n\": 5327}, {\"threshold\": 0.7760000228881836, \"p\": 28031, \"fpr\": 0.14923972217007697, \"tpr\": 0.9007170632514002, \"n\": 5327}, {\"threshold\": 0.7770000100135803, \"p\": 28031, \"fpr\": 0.14848883048620237, \"tpr\": 0.9004673397310121, \"n\": 5327}, {\"threshold\": 0.777999997138977, \"p\": 28031, \"fpr\": 0.1483011075652337, \"tpr\": 0.9002176162106239, \"n\": 5327}, {\"threshold\": 0.7789999842643738, \"p\": 28031, \"fpr\": 0.14773793880232777, \"tpr\": 0.8998251935357283, \"n\": 5327}, {\"threshold\": 0.7799999713897705, \"p\": 28031, \"fpr\": 0.14773793880232777, \"tpr\": 0.8995397952267132, \"n\": 5327}, {\"threshold\": 0.781000018119812, \"p\": 28031, \"fpr\": 0.1475502158813591, \"tpr\": 0.8994327708608326, \"n\": 5327}, {\"threshold\": 0.7820000052452087, \"p\": 28031, \"fpr\": 0.14698704711845317, \"tpr\": 0.8990760229745639, \"n\": 5327}, {\"threshold\": 0.7829999923706055, \"p\": 28031, \"fpr\": 0.14698704711845317, \"tpr\": 0.8988619742428026, \"n\": 5327}, {\"threshold\": 0.7839999794960022, \"p\": 28031, \"fpr\": 0.14698704711845317, \"tpr\": 0.8985765759337876, \"n\": 5327}, {\"threshold\": 0.7850000262260437, \"p\": 28031, \"fpr\": 0.14661160127651587, \"tpr\": 0.8983268524133995, \"n\": 5327}, {\"threshold\": 0.7860000133514404, \"p\": 28031, \"fpr\": 0.14661160127651587, \"tpr\": 0.8980771288930113, \"n\": 5327}, {\"threshold\": 0.7870000004768372, \"p\": 28031, \"fpr\": 0.14586070959264127, \"tpr\": 0.8977560557953694, \"n\": 5327}, {\"threshold\": 0.7879999876022339, \"p\": 28031, \"fpr\": 0.14548526375070397, \"tpr\": 0.8975776818522351, \"n\": 5327}, {\"threshold\": 0.7889999747276306, \"p\": 28031, \"fpr\": 0.1445466491458607, \"tpr\": 0.89729228354322, \"n\": 5327}, {\"threshold\": 0.7900000214576721, \"p\": 28031, \"fpr\": 0.1445466491458607, \"tpr\": 0.8970425600228319, \"n\": 5327}, {\"threshold\": 0.7910000085830688, \"p\": 28031, \"fpr\": 0.14435892622489205, \"tpr\": 0.8967928365024437, \"n\": 5327}, {\"threshold\": 0.7919999957084656, \"p\": 28031, \"fpr\": 0.1437957574619861, \"tpr\": 0.8965431129820556, \"n\": 5327}, {\"threshold\": 0.7929999828338623, \"p\": 28031, \"fpr\": 0.1434203116200488, \"tpr\": 0.8962933894616675, \"n\": 5327}, {\"threshold\": 0.7940000295639038, \"p\": 28031, \"fpr\": 0.14285714285714285, \"tpr\": 0.8960079911526524, \"n\": 5327}, {\"threshold\": 0.7950000166893005, \"p\": 28031, \"fpr\": 0.14248169701520555, \"tpr\": 0.8957582676322643, \"n\": 5327}, {\"threshold\": 0.7960000038146973, \"p\": 28031, \"fpr\": 0.14173080533133095, \"tpr\": 0.8954728693232492, \"n\": 5327}, {\"threshold\": 0.796999990940094, \"p\": 28031, \"fpr\": 0.14116763656842501, \"tpr\": 0.895258820591488, \"n\": 5327}, {\"threshold\": 0.7979999780654907, \"p\": 28031, \"fpr\": 0.14079219072648771, \"tpr\": 0.8950090970710999, \"n\": 5327}, {\"threshold\": 0.7990000247955322, \"p\": 28031, \"fpr\": 0.14022902196358175, \"tpr\": 0.8947593735507117, \"n\": 5327}, {\"threshold\": 0.800000011920929, \"p\": 28031, \"fpr\": 0.14004129904261312, \"tpr\": 0.8947236987620848, \"n\": 5327}, {\"threshold\": 0.8009999990463257, \"p\": 28031, \"fpr\": 0.13966585320067582, \"tpr\": 0.894402625664443, \"n\": 5327}, {\"threshold\": 0.8019999861717224, \"p\": 28031, \"fpr\": 0.13910268443776985, \"tpr\": 0.894081552566801, \"n\": 5327}, {\"threshold\": 0.8029999732971191, \"p\": 28031, \"fpr\": 0.13872723859583255, \"tpr\": 0.8937248046805323, \"n\": 5327}, {\"threshold\": 0.8040000200271606, \"p\": 28031, \"fpr\": 0.13872723859583255, \"tpr\": 0.8932967072170097, \"n\": 5327}, {\"threshold\": 0.8050000071525574, \"p\": 28031, \"fpr\": 0.13797634691195795, \"tpr\": 0.892939959330741, \"n\": 5327}, {\"threshold\": 0.8059999942779541, \"p\": 28031, \"fpr\": 0.13797634691195795, \"tpr\": 0.8927615853876065, \"n\": 5327}, {\"threshold\": 0.8069999814033508, \"p\": 28031, \"fpr\": 0.1377886239909893, \"tpr\": 0.8925475366558453, \"n\": 5327}, {\"threshold\": 0.8080000281333923, \"p\": 28031, \"fpr\": 0.13722545522808335, \"tpr\": 0.8924048375013378, \"n\": 5327}, {\"threshold\": 0.8090000152587891, \"p\": 28031, \"fpr\": 0.1366622864651774, \"tpr\": 0.8918340408833078, \"n\": 5327}, {\"threshold\": 0.8100000023841858, \"p\": 28031, \"fpr\": 0.13647456354420875, \"tpr\": 0.8914416182084122, \"n\": 5327}, {\"threshold\": 0.8109999895095825, \"p\": 28031, \"fpr\": 0.1362868406232401, \"tpr\": 0.8911205451107702, \"n\": 5327}, {\"threshold\": 0.8119999766349792, \"p\": 28031, \"fpr\": 0.1359113947813028, \"tpr\": 0.8909778459562627, \"n\": 5327}, {\"threshold\": 0.8130000233650208, \"p\": 28031, \"fpr\": 0.13572367186033416, \"tpr\": 0.8907637972245015, \"n\": 5327}, {\"threshold\": 0.8140000104904175, \"p\": 28031, \"fpr\": 0.13572367186033416, \"tpr\": 0.8903713745496058, \"n\": 5327}, {\"threshold\": 0.8149999976158142, \"p\": 28031, \"fpr\": 0.1351605030974282, \"tpr\": 0.8899789518747101, \"n\": 5327}, {\"threshold\": 0.8159999847412109, \"p\": 28031, \"fpr\": 0.13497278017645956, \"tpr\": 0.8898362527202026, \"n\": 5327}, {\"threshold\": 0.8169999718666077, \"p\": 28031, \"fpr\": 0.1340341655716163, \"tpr\": 0.8895151796225608, \"n\": 5327}, {\"threshold\": 0.8180000185966492, \"p\": 28031, \"fpr\": 0.1340341655716163, \"tpr\": 0.8892654561021726, \"n\": 5327}, {\"threshold\": 0.8190000057220459, \"p\": 28031, \"fpr\": 0.13384644265064766, \"tpr\": 0.8889800577931576, \"n\": 5327}, {\"threshold\": 0.8199999928474426, \"p\": 28031, \"fpr\": 0.13384644265064766, \"tpr\": 0.8883379115978738, \"n\": 5327}, {\"threshold\": 0.8209999799728394, \"p\": 28031, \"fpr\": 0.13309555096677303, \"tpr\": 0.887981163711605, \"n\": 5327}, {\"threshold\": 0.8220000267028809, \"p\": 28031, \"fpr\": 0.13309555096677303, \"tpr\": 0.8875530662480825, \"n\": 5327}, {\"threshold\": 0.8230000138282776, \"p\": 28031, \"fpr\": 0.1329078280458044, \"tpr\": 0.8871606435731868, \"n\": 5327}, {\"threshold\": 0.8240000009536743, \"p\": 28031, \"fpr\": 0.1325323822038671, \"tpr\": 0.886839570475545, \"n\": 5327}, {\"threshold\": 0.824999988079071, \"p\": 28031, \"fpr\": 0.13159376759902383, \"tpr\": 0.8864471478006493, \"n\": 5327}, {\"threshold\": 0.8259999752044678, \"p\": 28031, \"fpr\": 0.1310305988361179, \"tpr\": 0.885947700759873, \"n\": 5327}, {\"threshold\": 0.8270000219345093, \"p\": 28031, \"fpr\": 0.1306551529941806, \"tpr\": 0.8855552780849774, \"n\": 5327}, {\"threshold\": 0.828000009059906, \"p\": 28031, \"fpr\": 0.13009198423127463, \"tpr\": 0.8853055545645893, \"n\": 5327}, {\"threshold\": 0.8289999961853027, \"p\": 28031, \"fpr\": 0.12971653838933733, \"tpr\": 0.8850915058328279, \"n\": 5327}, {\"threshold\": 0.8299999833106995, \"p\": 28031, \"fpr\": 0.1295288154683687, \"tpr\": 0.8847347579465592, \"n\": 5327}, {\"threshold\": 0.8309999704360962, \"p\": 28031, \"fpr\": 0.12821475502158813, \"tpr\": 0.8845920587920516, \"n\": 5327}, {\"threshold\": 0.8320000171661377, \"p\": 28031, \"fpr\": 0.12783930917965083, \"tpr\": 0.8841282865399023, \"n\": 5327}, {\"threshold\": 0.8330000042915344, \"p\": 28031, \"fpr\": 0.12708841749577623, \"tpr\": 0.8837358638650066, \"n\": 5327}, {\"threshold\": 0.8339999914169312, \"p\": 28031, \"fpr\": 0.12671297165383894, \"tpr\": 0.8832720916128572, \"n\": 5327}, {\"threshold\": 0.8349999785423279, \"p\": 28031, \"fpr\": 0.12596207996996434, \"tpr\": 0.8829510185152153, \"n\": 5327}, {\"threshold\": 0.8360000252723694, \"p\": 28031, \"fpr\": 0.12521118828608974, \"tpr\": 0.8824872462630658, \"n\": 5327}, {\"threshold\": 0.8370000123977661, \"p\": 28031, \"fpr\": 0.12483574244415244, \"tpr\": 0.8822375227426777, \"n\": 5327}, {\"threshold\": 0.8379999995231628, \"p\": 28031, \"fpr\": 0.12446029660221514, \"tpr\": 0.8820591487995434, \"n\": 5327}, {\"threshold\": 0.8389999866485596, \"p\": 28031, \"fpr\": 0.12446029660221514, \"tpr\": 0.8815240269701402, \"n\": 5327}, {\"threshold\": 0.8399999737739563, \"p\": 28031, \"fpr\": 0.12370940491834052, \"tpr\": 0.8809175555634833, \"n\": 5327}, {\"threshold\": 0.8410000205039978, \"p\": 28031, \"fpr\": 0.12333395907640322, \"tpr\": 0.880703506831722, \"n\": 5327}, {\"threshold\": 0.8420000076293945, \"p\": 28031, \"fpr\": 0.12277079031349727, \"tpr\": 0.880132710213692, \"n\": 5327}, {\"threshold\": 0.8429999947547913, \"p\": 28031, \"fpr\": 0.12258306739252862, \"tpr\": 0.8796332631729157, \"n\": 5327}, {\"threshold\": 0.843999981880188, \"p\": 28031, \"fpr\": 0.12164445278768538, \"tpr\": 0.878955442189005, \"n\": 5327}, {\"threshold\": 0.8450000286102295, \"p\": 28031, \"fpr\": 0.12089356110381078, \"tpr\": 0.8787057186686169, \"n\": 5327}, {\"threshold\": 0.8460000157356262, \"p\": 28031, \"fpr\": 0.12070583818284213, \"tpr\": 0.8784203203596018, \"n\": 5327}, {\"threshold\": 0.847000002861023, \"p\": 28031, \"fpr\": 0.12051811526187348, \"tpr\": 0.8781349220505869, \"n\": 5327}, {\"threshold\": 0.8479999899864197, \"p\": 28031, \"fpr\": 0.11957950065703023, \"tpr\": 0.8778851985301988, \"n\": 5327}, {\"threshold\": 0.8489999771118164, \"p\": 28031, \"fpr\": 0.11939177773606158, \"tpr\": 0.8774571010666762, \"n\": 5327}, {\"threshold\": 0.8500000238418579, \"p\": 28031, \"fpr\": 0.11920405481509293, \"tpr\": 0.8770646783917805, \"n\": 5327}, {\"threshold\": 0.8510000109672546, \"p\": 28031, \"fpr\": 0.11901633189412428, \"tpr\": 0.8766722557168849, \"n\": 5327}, {\"threshold\": 0.8519999980926514, \"p\": 28031, \"fpr\": 0.11882860897315563, \"tpr\": 0.8762084834647355, \"n\": 5327}, {\"threshold\": 0.8529999852180481, \"p\": 28031, \"fpr\": 0.11826544021024968, \"tpr\": 0.875744711212586, \"n\": 5327}, {\"threshold\": 0.8539999723434448, \"p\": 28031, \"fpr\": 0.11788999436831236, \"tpr\": 0.8753522885376904, \"n\": 5327}, {\"threshold\": 0.8550000190734863, \"p\": 28031, \"fpr\": 0.11732682560540642, \"tpr\": 0.8746387927651529, \"n\": 5327}, {\"threshold\": 0.8560000061988831, \"p\": 28031, \"fpr\": 0.11713910268443777, \"tpr\": 0.8740679961471228, \"n\": 5327}, {\"threshold\": 0.8569999933242798, \"p\": 28031, \"fpr\": 0.11695137976346912, \"tpr\": 0.8738182726267347, \"n\": 5327}, {\"threshold\": 0.8579999804496765, \"p\": 28031, \"fpr\": 0.11620048807959452, \"tpr\": 0.873425849951839, \"n\": 5327}, {\"threshold\": 0.859000027179718, \"p\": 28031, \"fpr\": 0.11620048807959452, \"tpr\": 0.872855053333809, \"n\": 5327}, {\"threshold\": 0.8600000143051147, \"p\": 28031, \"fpr\": 0.11601276515862587, \"tpr\": 0.8723912810816596, \"n\": 5327}, {\"threshold\": 0.8610000014305115, \"p\": 28031, \"fpr\": 0.11544959639571992, \"tpr\": 0.8721415575612714, \"n\": 5327}, {\"threshold\": 0.8619999885559082, \"p\": 28031, \"fpr\": 0.11526187347475127, \"tpr\": 0.8717491348863758, \"n\": 5327}, {\"threshold\": 0.8629999756813049, \"p\": 28031, \"fpr\": 0.11507415055378262, \"tpr\": 0.8713567122114801, \"n\": 5327}, {\"threshold\": 0.8640000224113464, \"p\": 28031, \"fpr\": 0.11432325886990802, \"tpr\": 0.8710356391138383, \"n\": 5327}, {\"threshold\": 0.8650000095367432, \"p\": 28031, \"fpr\": 0.11319692134409612, \"tpr\": 0.8704648424958082, \"n\": 5327}, {\"threshold\": 0.8659999966621399, \"p\": 28031, \"fpr\": 0.11263375258119017, \"tpr\": 0.8697513467232707, \"n\": 5327}, {\"threshold\": 0.8669999837875366, \"p\": 28031, \"fpr\": 0.1120705838182842, \"tpr\": 0.8693945988370019, \"n\": 5327}, {\"threshold\": 0.8679999709129333, \"p\": 28031, \"fpr\": 0.11188286089731556, \"tpr\": 0.8688594770075987, \"n\": 5327}, {\"threshold\": 0.8690000176429749, \"p\": 28031, \"fpr\": 0.11150741505537826, \"tpr\": 0.8685740786985837, \"n\": 5327}, {\"threshold\": 0.8700000047683716, \"p\": 28031, \"fpr\": 0.11075652337150366, \"tpr\": 0.8680389568691805, \"n\": 5327}, {\"threshold\": 0.8709999918937683, \"p\": 28031, \"fpr\": 0.11038107752956636, \"tpr\": 0.8677892333487924, \"n\": 5327}, {\"threshold\": 0.871999979019165, \"p\": 28031, \"fpr\": 0.10963018584569176, \"tpr\": 0.8672897863080161, \"n\": 5327}, {\"threshold\": 0.8730000257492065, \"p\": 28031, \"fpr\": 0.10906701708278581, \"tpr\": 0.8666476401127323, \"n\": 5327}, {\"threshold\": 0.8740000128746033, \"p\": 28031, \"fpr\": 0.10869157124084851, \"tpr\": 0.8662908922264636, \"n\": 5327}, {\"threshold\": 0.875, \"p\": 28031, \"fpr\": 0.10812840247794256, \"tpr\": 0.8656844208198067, \"n\": 5327}, {\"threshold\": 0.8759999871253967, \"p\": 28031, \"fpr\": 0.10737751079406796, \"tpr\": 0.8653633477221647, \"n\": 5327}, {\"threshold\": 0.8769999742507935, \"p\": 28031, \"fpr\": 0.10662661911019336, \"tpr\": 0.8647212015268809, \"n\": 5327}, {\"threshold\": 0.878000020980835, \"p\": 28031, \"fpr\": 0.1056880045053501, \"tpr\": 0.8642217544861047, \"n\": 5327}, {\"threshold\": 0.8790000081062317, \"p\": 28031, \"fpr\": 0.1053125586634128, \"tpr\": 0.8637223074453284, \"n\": 5327}, {\"threshold\": 0.8799999952316284, \"p\": 28031, \"fpr\": 0.10512483574244415, \"tpr\": 0.8629374620955371, \"n\": 5327}, {\"threshold\": 0.8809999823570251, \"p\": 28031, \"fpr\": 0.10474938990050685, \"tpr\": 0.8621882915343727, \"n\": 5327}, {\"threshold\": 0.8820000290870667, \"p\": 28031, \"fpr\": 0.1041862211376009, \"tpr\": 0.8616174949163427, \"n\": 5327}, {\"threshold\": 0.8830000162124634, \"p\": 28031, \"fpr\": 0.1038107752956636, \"tpr\": 0.8610110235096857, \"n\": 5327}, {\"threshold\": 0.8840000033378601, \"p\": 28031, \"fpr\": 0.10287216069082035, \"tpr\": 0.8602618529485213, \"n\": 5327}, {\"threshold\": 0.8849999904632568, \"p\": 28031, \"fpr\": 0.10249671484888305, \"tpr\": 0.8594056580214762, \"n\": 5327}, {\"threshold\": 0.8859999775886536, \"p\": 28031, \"fpr\": 0.1023089919279144, \"tpr\": 0.8590132353465806, \"n\": 5327}, {\"threshold\": 0.8870000243186951, \"p\": 28031, \"fpr\": 0.1019335460859771, \"tpr\": 0.8582640647854162, \"n\": 5327}, {\"threshold\": 0.8880000114440918, \"p\": 28031, \"fpr\": 0.1015581002440398, \"tpr\": 0.8575862438015055, \"n\": 5327}, {\"threshold\": 0.8889999985694885, \"p\": 28031, \"fpr\": 0.1011826544021025, \"tpr\": 0.8571581463379829, \"n\": 5327}, {\"threshold\": 0.8899999856948853, \"p\": 28031, \"fpr\": 0.09968087103435329, \"tpr\": 0.856551674931326, \"n\": 5327}, {\"threshold\": 0.890999972820282, \"p\": 28031, \"fpr\": 0.09930542519241599, \"tpr\": 0.8556598052156541, \"n\": 5327}, {\"threshold\": 0.8920000195503235, \"p\": 28031, \"fpr\": 0.09855453350854139, \"tpr\": 0.8550176590203703, \"n\": 5327}, {\"threshold\": 0.8930000066757202, \"p\": 28031, \"fpr\": 0.09817908766660409, \"tpr\": 0.8543041632478328, \"n\": 5327}, {\"threshold\": 0.8939999938011169, \"p\": 28031, \"fpr\": 0.09724047306176084, \"tpr\": 0.853376618743534, \"n\": 5327}, {\"threshold\": 0.8949999809265137, \"p\": 28031, \"fpr\": 0.09686502721982354, \"tpr\": 0.8526987977596233, \"n\": 5327}, {\"threshold\": 0.8960000276565552, \"p\": 28031, \"fpr\": 0.09686502721982354, \"tpr\": 0.851878277621205, \"n\": 5327}, {\"threshold\": 0.8970000147819519, \"p\": 28031, \"fpr\": 0.09667730429885489, \"tpr\": 0.8511647818486675, \"n\": 5327}, {\"threshold\": 0.8980000019073486, \"p\": 28031, \"fpr\": 0.09630185845691759, \"tpr\": 0.8505583104420106, \"n\": 5327}, {\"threshold\": 0.8989999890327454, \"p\": 28031, \"fpr\": 0.09573868969401164, \"tpr\": 0.8497734650922193, \"n\": 5327}, {\"threshold\": 0.8999999761581421, \"p\": 28031, \"fpr\": 0.09536324385207434, \"tpr\": 0.8490956441083086, \"n\": 5327}, {\"threshold\": 0.9010000228881836, \"p\": 28031, \"fpr\": 0.09442462924723109, \"tpr\": 0.848417823124398, \"n\": 5327}, {\"threshold\": 0.9020000100135803, \"p\": 28031, \"fpr\": 0.09423690632626244, \"tpr\": 0.8477400021404873, \"n\": 5327}, {\"threshold\": 0.902999997138977, \"p\": 28031, \"fpr\": 0.09367373756335648, \"tpr\": 0.8474189290428454, \"n\": 5327}, {\"threshold\": 0.9039999842643738, \"p\": 28031, \"fpr\": 0.09348601464238783, \"tpr\": 0.8465984089044273, \"n\": 5327}, {\"threshold\": 0.9049999713897705, \"p\": 28031, \"fpr\": 0.09254740003754458, \"tpr\": 0.8460276122863972, \"n\": 5327}, {\"threshold\": 0.906000018119812, \"p\": 28031, \"fpr\": 0.09142106251173268, \"tpr\": 0.8451000677820983, \"n\": 5327}, {\"threshold\": 0.9070000052452087, \"p\": 28031, \"fpr\": 0.09067017082785808, \"tpr\": 0.8442438728550533, \"n\": 5327}, {\"threshold\": 0.9079999923706055, \"p\": 28031, \"fpr\": 0.08973155622301483, \"tpr\": 0.8432093039848739, \"n\": 5327}, {\"threshold\": 0.9089999794960022, \"p\": 28031, \"fpr\": 0.08954383330204618, \"tpr\": 0.8421747351146944, \"n\": 5327}, {\"threshold\": 0.9100000262260437, \"p\": 28031, \"fpr\": 0.08935611038107753, \"tpr\": 0.8413185401876494, \"n\": 5327}, {\"threshold\": 0.9110000133514404, \"p\": 28031, \"fpr\": 0.08860521869720293, \"tpr\": 0.8403909956833506, \"n\": 5327}, {\"threshold\": 0.9120000004768372, \"p\": 28031, \"fpr\": 0.08841749577623428, \"tpr\": 0.83971317469944, \"n\": 5327}, {\"threshold\": 0.9129999876022339, \"p\": 28031, \"fpr\": 0.08804204993429698, \"tpr\": 0.8389996789269023, \"n\": 5327}, {\"threshold\": 0.9139999747276306, \"p\": 28031, \"fpr\": 0.08804204993429698, \"tpr\": 0.8383575327316186, \"n\": 5327}, {\"threshold\": 0.9150000214576721, \"p\": 28031, \"fpr\": 0.08766660409235967, \"tpr\": 0.8372516142841854, \"n\": 5327}, {\"threshold\": 0.9160000085830688, \"p\": 28031, \"fpr\": 0.08710343532945372, \"tpr\": 0.8363597445685135, \"n\": 5327}, {\"threshold\": 0.9169999957084656, \"p\": 28031, \"fpr\": 0.08635254364557912, \"tpr\": 0.8349684278120653, \"n\": 5327}, {\"threshold\": 0.9179999828338623, \"p\": 28031, \"fpr\": 0.08635254364557912, \"tpr\": 0.8336841354214977, \"n\": 5327}, {\"threshold\": 0.9190000295639038, \"p\": 28031, \"fpr\": 0.08578937488267317, \"tpr\": 0.8327922657058257, \"n\": 5327}, {\"threshold\": 0.9200000166893005, \"p\": 28031, \"fpr\": 0.08503848319879857, \"tpr\": 0.8313652741607506, \"n\": 5327}, {\"threshold\": 0.9210000038146973, \"p\": 28031, \"fpr\": 0.08466303735686127, \"tpr\": 0.830366380079198, \"n\": 5327}, {\"threshold\": 0.921999990940094, \"p\": 28031, \"fpr\": 0.08372442275201802, \"tpr\": 0.8292247868431379, \"n\": 5327}, {\"threshold\": 0.9229999780654907, \"p\": 28031, \"fpr\": 0.08297353106814342, \"tpr\": 0.8280831936070778, \"n\": 5327}, {\"threshold\": 0.9240000247955322, \"p\": 28031, \"fpr\": 0.08259808522620612, \"tpr\": 0.8271556491027791, \"n\": 5327}, {\"threshold\": 0.925000011920929, \"p\": 28031, \"fpr\": 0.08222263938426883, \"tpr\": 0.8263351289643609, \"n\": 5327}, {\"threshold\": 0.9259999990463257, \"p\": 28031, \"fpr\": 0.08128402477942556, \"tpr\": 0.8250151617851664, \"n\": 5327}, {\"threshold\": 0.9269999861717224, \"p\": 28031, \"fpr\": 0.08128402477942556, \"tpr\": 0.8238378937604794, \"n\": 5327}, {\"threshold\": 0.9279999732971191, \"p\": 28031, \"fpr\": 0.08109630185845691, \"tpr\": 0.8228746744675538, \"n\": 5327}, {\"threshold\": 0.9290000200271606, \"p\": 28031, \"fpr\": 0.08034541017458231, \"tpr\": 0.8215190324997325, \"n\": 5327}, {\"threshold\": 0.9300000071525574, \"p\": 28031, \"fpr\": 0.07959451849070771, \"tpr\": 0.8203060896864186, \"n\": 5327}, {\"threshold\": 0.9309999942779541, \"p\": 28031, \"fpr\": 0.07846818096489581, \"tpr\": 0.818736398986836, \"n\": 5327}, {\"threshold\": 0.9319999814033508, \"p\": 28031, \"fpr\": 0.07828045804392716, \"tpr\": 0.8173450822303878, \"n\": 5327}, {\"threshold\": 0.9330000281333923, \"p\": 28031, \"fpr\": 0.07828045804392716, \"tpr\": 0.8161678142057008, \"n\": 5327}, {\"threshold\": 0.9340000152587891, \"p\": 28031, \"fpr\": 0.07809273512295851, \"tpr\": 0.8146337982947451, \"n\": 5327}, {\"threshold\": 0.9350000023841858, \"p\": 28031, \"fpr\": 0.07771728928102122, \"tpr\": 0.8131354571724162, \"n\": 5327}, {\"threshold\": 0.9359999895095825, \"p\": 28031, \"fpr\": 0.07715412051811527, \"tpr\": 0.8119225143591025, \"n\": 5327}, {\"threshold\": 0.9369999766349792, \"p\": 28031, \"fpr\": 0.07659095175520932, \"tpr\": 0.8108522707002961, \"n\": 5327}, {\"threshold\": 0.9380000233650208, \"p\": 28031, \"fpr\": 0.07621550591327202, \"tpr\": 0.8093896043665941, \"n\": 5327}, {\"threshold\": 0.9390000104904175, \"p\": 28031, \"fpr\": 0.07584006007133472, \"tpr\": 0.8078555884556384, \"n\": 5327}, {\"threshold\": 0.9399999976158142, \"p\": 28031, \"fpr\": 0.0750891683874601, \"tpr\": 0.8060361742356676, \"n\": 5327}, {\"threshold\": 0.9409999847412109, \"p\": 28031, \"fpr\": 0.07452599962455415, \"tpr\": 0.8047162070564732, \"n\": 5327}, {\"threshold\": 0.9419999718666077, \"p\": 28031, \"fpr\": 0.07377510794067955, \"tpr\": 0.8032892155113981, \"n\": 5327}, {\"threshold\": 0.9430000185966492, \"p\": 28031, \"fpr\": 0.0735873850197109, \"tpr\": 0.8017551996004424, \"n\": 5327}, {\"threshold\": 0.9440000057220459, \"p\": 28031, \"fpr\": 0.0728364933358363, \"tpr\": 0.8003282080553673, \"n\": 5327}, {\"threshold\": 0.9449999928474426, \"p\": 28031, \"fpr\": 0.072461047493899, \"tpr\": 0.7987228425671578, \"n\": 5327}, {\"threshold\": 0.9459999799728394, \"p\": 28031, \"fpr\": 0.0720856016519617, \"tpr\": 0.7968677535585602, \"n\": 5327}, {\"threshold\": 0.9470000267028809, \"p\": 28031, \"fpr\": 0.07114698704711846, \"tpr\": 0.7951910384930969, \"n\": 5327}, {\"threshold\": 0.9480000138282776, \"p\": 28031, \"fpr\": 0.07058381828421251, \"tpr\": 0.7937997217366487, \"n\": 5327}, {\"threshold\": 0.9490000009536743, \"p\": 28031, \"fpr\": 0.0690820349164633, \"tpr\": 0.7921230066711855, \"n\": 5327}, {\"threshold\": 0.949999988079071, \"p\": 28031, \"fpr\": 0.0675802515487141, \"tpr\": 0.7896971210445578, \"n\": 5327}, {\"threshold\": 0.9509999752044678, \"p\": 28031, \"fpr\": 0.0668293598648395, \"tpr\": 0.7881631051336021, \"n\": 5327}, {\"threshold\": 0.9520000219345093, \"p\": 28031, \"fpr\": 0.0660784681809649, \"tpr\": 0.7865934144340195, \"n\": 5327}, {\"threshold\": 0.953000009059906, \"p\": 28031, \"fpr\": 0.06551529941805895, \"tpr\": 0.7842032035960187, \"n\": 5327}, {\"threshold\": 0.9539999961853027, \"p\": 28031, \"fpr\": 0.064952130655153, \"tpr\": 0.781777317969391, \"n\": 5327}, {\"threshold\": 0.9549999833106995, \"p\": 28031, \"fpr\": 0.0642012389712784, \"tpr\": 0.7796368306517784, \"n\": 5327}, {\"threshold\": 0.9559999704360962, \"p\": 28031, \"fpr\": 0.06401351605030975, \"tpr\": 0.777995790374942, \"n\": 5327}, {\"threshold\": 0.9570000171661377, \"p\": 28031, \"fpr\": 0.06288717852449784, \"tpr\": 0.7757839534800757, \"n\": 5327}, {\"threshold\": 0.9580000042915344, \"p\": 28031, \"fpr\": 0.062136286840623244, \"tpr\": 0.7738575148942243, \"n\": 5327}, {\"threshold\": 0.9589999914169312, \"p\": 28031, \"fpr\": 0.06119767223577999, \"tpr\": 0.7710748813813278, \"n\": 5327}, {\"threshold\": 0.9599999785423279, \"p\": 28031, \"fpr\": 0.06082222639384269, \"tpr\": 0.768684670543327, \"n\": 5327}, {\"threshold\": 0.9610000252723694, \"p\": 28031, \"fpr\": 0.06025905763093674, \"tpr\": 0.7661517605508187, \"n\": 5327}, {\"threshold\": 0.9620000123977661, \"p\": 28031, \"fpr\": 0.05894499718415618, \"tpr\": 0.7640112732332061, \"n\": 5327}, {\"threshold\": 0.9629999995231628, \"p\": 28031, \"fpr\": 0.05838182842125023, \"tpr\": 0.7610502657771753, \"n\": 5327}, {\"threshold\": 0.9639999866485596, \"p\": 28031, \"fpr\": 0.057443213816406984, \"tpr\": 0.7578395348007563, \"n\": 5327}, {\"threshold\": 0.9649999737739563, \"p\": 28031, \"fpr\": 0.056692322132532384, \"tpr\": 0.7553422995968749, \"n\": 5327}, {\"threshold\": 0.9660000205039978, \"p\": 28031, \"fpr\": 0.05594143044865778, \"tpr\": 0.752381292140844, \"n\": 5327}, {\"threshold\": 0.9670000076293945, \"p\": 28031, \"fpr\": 0.05519053876478318, \"tpr\": 0.7493489351075595, \"n\": 5327}, {\"threshold\": 0.9679999947547913, \"p\": 28031, \"fpr\": 0.05462737000187723, \"tpr\": 0.7458528058221255, \"n\": 5327}, {\"threshold\": 0.968999981880188, \"p\": 28031, \"fpr\": 0.05425192415993993, \"tpr\": 0.7427134244229603, \"n\": 5327}, {\"threshold\": 0.9700000286102295, \"p\": 28031, \"fpr\": 0.05312558663412803, \"tpr\": 0.7389675716171382, \"n\": 5327}, {\"threshold\": 0.9710000157356262, \"p\": 28031, \"fpr\": 0.052186972029284774, \"tpr\": 0.7358995397952267, \"n\": 5327}, {\"threshold\": 0.972000002861023, \"p\": 28031, \"fpr\": 0.051248357424441525, \"tpr\": 0.7318682886803896, \"n\": 5327}, {\"threshold\": 0.9729999899864197, \"p\": 28031, \"fpr\": 0.050685188661535575, \"tpr\": 0.7284078341835825, \"n\": 5327}, {\"threshold\": 0.9739999771118164, \"p\": 28031, \"fpr\": 0.04955885113572367, \"tpr\": 0.7239841603938497, \"n\": 5327}, {\"threshold\": 0.9750000238418579, \"p\": 28031, \"fpr\": 0.04843251360991177, \"tpr\": 0.7195604866041169, \"n\": 5327}, {\"threshold\": 0.9760000109672546, \"p\": 28031, \"fpr\": 0.046743007321193915, \"tpr\": 0.7151011380257571, \"n\": 5327}, {\"threshold\": 0.9769999980926514, \"p\": 28031, \"fpr\": 0.045616669795382016, \"tpr\": 0.71049909029289, \"n\": 5327}, {\"threshold\": 0.9779999852180481, \"p\": 28031, \"fpr\": 0.04467805519053877, \"tpr\": 0.7061467660804109, \"n\": 5327}, {\"threshold\": 0.9789999723434448, \"p\": 28031, \"fpr\": 0.04430260934860147, \"tpr\": 0.7011522956726481, \"n\": 5327}, {\"threshold\": 0.9800000190734863, \"p\": 28031, \"fpr\": 0.04373944058569551, \"tpr\": 0.6952302807605865, \"n\": 5327}, {\"threshold\": 0.9810000061988831, \"p\": 28031, \"fpr\": 0.04298854890182091, \"tpr\": 0.6894866397916593, \"n\": 5327}, {\"threshold\": 0.9819999933242798, \"p\": 28031, \"fpr\": 0.04167448845504036, \"tpr\": 0.6829224786843138, \"n\": 5327}, {\"threshold\": 0.9829999804496765, \"p\": 28031, \"fpr\": 0.03942181340341656, \"tpr\": 0.6770361385608791, \"n\": 5327}, {\"threshold\": 0.984000027179718, \"p\": 28031, \"fpr\": 0.03792003003566736, \"tpr\": 0.6697228068923692, \"n\": 5327}, {\"threshold\": 0.9850000143051147, \"p\": 28031, \"fpr\": 0.03716913835179275, \"tpr\": 0.6621597517034712, \"n\": 5327}, {\"threshold\": 0.9860000014305115, \"p\": 28031, \"fpr\": 0.0358550779050122, \"tpr\": 0.6538832007420357, \"n\": 5327}, {\"threshold\": 0.9869999885559082, \"p\": 28031, \"fpr\": 0.034916463300168954, \"tpr\": 0.6446434304876744, \"n\": 5327}, {\"threshold\": 0.9879999756813049, \"p\": 28031, \"fpr\": 0.0336024028533884, \"tpr\": 0.6353323106560593, \"n\": 5327}, {\"threshold\": 0.9890000224113464, \"p\": 28031, \"fpr\": 0.03172517364370189, \"tpr\": 0.6254503942064144, \"n\": 5327}, {\"threshold\": 0.9900000095367432, \"p\": 28031, \"fpr\": 0.02928477567110944, \"tpr\": 0.613927437479933, \"n\": 5327}, {\"threshold\": 0.9909999966621399, \"p\": 28031, \"fpr\": 0.02797071522432889, \"tpr\": 0.601690984980914, \"n\": 5327}, {\"threshold\": 0.9919999837875366, \"p\": 28031, \"fpr\": 0.02665665477754834, \"tpr\": 0.5876351182619243, \"n\": 5327}, {\"threshold\": 0.9929999709129333, \"p\": 28031, \"fpr\": 0.024779425567861835, \"tpr\": 0.5724376583068745, \"n\": 5327}, {\"threshold\": 0.9940000176429749, \"p\": 28031, \"fpr\": 0.023089919279143983, \"tpr\": 0.5553137597659734, \"n\": 5327}, {\"threshold\": 0.9950000047683716, \"p\": 28031, \"fpr\": 0.02196358175333208, \"tpr\": 0.5329456672969213, \"n\": 5327}, {\"threshold\": 0.9959999918937683, \"p\": 28031, \"fpr\": 0.020274075464614228, \"tpr\": 0.5058685027291213, \"n\": 5327}, {\"threshold\": 0.996999979019165, \"p\": 28031, \"fpr\": 0.018209123333959076, \"tpr\": 0.47261959972887163, \"n\": 5327}, {\"threshold\": 0.9980000257492065, \"p\": 28031, \"fpr\": 0.015017833677492022, \"tpr\": 0.42806178873390177, \"n\": 5327}, {\"threshold\": 0.9990000128746033, \"p\": 28031, \"fpr\": 0.011263375258119017, \"tpr\": 0.3589597231636403, \"n\": 5327}, {\"threshold\": 1.0, \"p\": 28031, \"fpr\": 0.0, \"tpr\": 0.0, \"n\": 5327}]}]]}, e);\n",
       "                });\n",
       "            })();\n",
       "        "
      ]
     },
     "metadata": {},
     "output_type": "display_data"
    }
   ],
   "source": [
    "sentiment_model.show(view='Evaluation')"
   ]
  },
  {
   "cell_type": "markdown",
   "metadata": {},
   "source": [
    "#Applying the learned model to understand sentiment for Giraffe"
   ]
  },
  {
   "cell_type": "code",
   "execution_count": 205,
   "metadata": {
    "collapsed": true
   },
   "outputs": [],
   "source": [
    "giraffe_reviews['predicted_sentiment'] = sentiment_model.predict(giraffe_reviews, output_type='probability')"
   ]
  },
  {
   "cell_type": "code",
   "execution_count": 28,
   "metadata": {
    "collapsed": false
   },
   "outputs": [
    {
     "data": {
      "text/html": [
       "<div style=\"max-height:1000px;max-width:1500px;overflow:auto;\"><table frame=\"box\" rules=\"cols\">\n",
       "    <tr>\n",
       "        <th style=\"padding-left: 1em; padding-right: 1em; text-align: center\">name</th>\n",
       "        <th style=\"padding-left: 1em; padding-right: 1em; text-align: center\">review</th>\n",
       "        <th style=\"padding-left: 1em; padding-right: 1em; text-align: center\">rating</th>\n",
       "        <th style=\"padding-left: 1em; padding-right: 1em; text-align: center\">word_count</th>\n",
       "    </tr>\n",
       "    <tr>\n",
       "        <td style=\"padding-left: 1em; padding-right: 1em; text-align: center; vertical-align: top\">Vulli Sophie the Giraffe<br>Teether ...</td>\n",
       "        <td style=\"padding-left: 1em; padding-right: 1em; text-align: center; vertical-align: top\">He likes chewing on all<br>the parts especially the ...</td>\n",
       "        <td style=\"padding-left: 1em; padding-right: 1em; text-align: center; vertical-align: top\">5.0</td>\n",
       "        <td style=\"padding-left: 1em; padding-right: 1em; text-align: center; vertical-align: top\">{'and': 1, 'all': 1,<br>'because': 1, 'it': 1, ...</td>\n",
       "    </tr>\n",
       "    <tr>\n",
       "        <td style=\"padding-left: 1em; padding-right: 1em; text-align: center; vertical-align: top\">Vulli Sophie the Giraffe<br>Teether ...</td>\n",
       "        <td style=\"padding-left: 1em; padding-right: 1em; text-align: center; vertical-align: top\">My son loves this toy and<br>fits great in the diaper ...</td>\n",
       "        <td style=\"padding-left: 1em; padding-right: 1em; text-align: center; vertical-align: top\">5.0</td>\n",
       "        <td style=\"padding-left: 1em; padding-right: 1em; text-align: center; vertical-align: top\">{'and': 1, 'right': 1,<br>'help': 1, 'just': 1, ...</td>\n",
       "    </tr>\n",
       "    <tr>\n",
       "        <td style=\"padding-left: 1em; padding-right: 1em; text-align: center; vertical-align: top\">Vulli Sophie the Giraffe<br>Teether ...</td>\n",
       "        <td style=\"padding-left: 1em; padding-right: 1em; text-align: center; vertical-align: top\">There really should be a<br>large warning on the  ...</td>\n",
       "        <td style=\"padding-left: 1em; padding-right: 1em; text-align: center; vertical-align: top\">1.0</td>\n",
       "        <td style=\"padding-left: 1em; padding-right: 1em; text-align: center; vertical-align: top\">{'and': 2, 'all': 1,<br>'latex.': 1, 'being': 1, ...</td>\n",
       "    </tr>\n",
       "    <tr>\n",
       "        <td style=\"padding-left: 1em; padding-right: 1em; text-align: center; vertical-align: top\">Vulli Sophie the Giraffe<br>Teether ...</td>\n",
       "        <td style=\"padding-left: 1em; padding-right: 1em; text-align: center; vertical-align: top\">All the moms in my moms'<br>group got Sophie for ...</td>\n",
       "        <td style=\"padding-left: 1em; padding-right: 1em; text-align: center; vertical-align: top\">5.0</td>\n",
       "        <td style=\"padding-left: 1em; padding-right: 1em; text-align: center; vertical-align: top\">{'and': 2, 'one!': 1,<br>'all': 1, 'love': 1, ...</td>\n",
       "    </tr>\n",
       "    <tr>\n",
       "        <td style=\"padding-left: 1em; padding-right: 1em; text-align: center; vertical-align: top\">Vulli Sophie the Giraffe<br>Teether ...</td>\n",
       "        <td style=\"padding-left: 1em; padding-right: 1em; text-align: center; vertical-align: top\">I was a little skeptical<br>on whether Sophie was ...</td>\n",
       "        <td style=\"padding-left: 1em; padding-right: 1em; text-align: center; vertical-align: top\">5.0</td>\n",
       "        <td style=\"padding-left: 1em; padding-right: 1em; text-align: center; vertical-align: top\">{'and': 3, 'all': 1,<br>'old': 1, 'her.': 1, ...</td>\n",
       "    </tr>\n",
       "    <tr>\n",
       "        <td style=\"padding-left: 1em; padding-right: 1em; text-align: center; vertical-align: top\">Vulli Sophie the Giraffe<br>Teether ...</td>\n",
       "        <td style=\"padding-left: 1em; padding-right: 1em; text-align: center; vertical-align: top\">I have been reading about<br>Sophie and was going  ...</td>\n",
       "        <td style=\"padding-left: 1em; padding-right: 1em; text-align: center; vertical-align: top\">5.0</td>\n",
       "        <td style=\"padding-left: 1em; padding-right: 1em; text-align: center; vertical-align: top\">{'and': 6, 'seven': 1,<br>'already': 1, 'love': 1, ...</td>\n",
       "    </tr>\n",
       "    <tr>\n",
       "        <td style=\"padding-left: 1em; padding-right: 1em; text-align: center; vertical-align: top\">Vulli Sophie the Giraffe<br>Teether ...</td>\n",
       "        <td style=\"padding-left: 1em; padding-right: 1em; text-align: center; vertical-align: top\">My neice loves her sophie<br>and has spent hours ...</td>\n",
       "        <td style=\"padding-left: 1em; padding-right: 1em; text-align: center; vertical-align: top\">5.0</td>\n",
       "        <td style=\"padding-left: 1em; padding-right: 1em; text-align: center; vertical-align: top\">{'and': 4, 'drooling,':<br>1, 'love': 1, 'her.': 1, ...</td>\n",
       "    </tr>\n",
       "    <tr>\n",
       "        <td style=\"padding-left: 1em; padding-right: 1em; text-align: center; vertical-align: top\">Vulli Sophie the Giraffe<br>Teether ...</td>\n",
       "        <td style=\"padding-left: 1em; padding-right: 1em; text-align: center; vertical-align: top\">What a friendly face!<br>And those mesmerizing ...</td>\n",
       "        <td style=\"padding-left: 1em; padding-right: 1em; text-align: center; vertical-align: top\">5.0</td>\n",
       "        <td style=\"padding-left: 1em; padding-right: 1em; text-align: center; vertical-align: top\">{'and': 3, 'chew': 1,<br>\"don't\": 1, 'is': 1, ...</td>\n",
       "    </tr>\n",
       "    <tr>\n",
       "        <td style=\"padding-left: 1em; padding-right: 1em; text-align: center; vertical-align: top\">Vulli Sophie the Giraffe<br>Teether ...</td>\n",
       "        <td style=\"padding-left: 1em; padding-right: 1em; text-align: center; vertical-align: top\">We got this just for my<br>son to chew on instea ...</td>\n",
       "        <td style=\"padding-left: 1em; padding-right: 1em; text-align: center; vertical-align: top\">5.0</td>\n",
       "        <td style=\"padding-left: 1em; padding-right: 1em; text-align: center; vertical-align: top\">{'chew': 2, 'because': 1,<br>'just': 2, 'what': 1, ...</td>\n",
       "    </tr>\n",
       "    <tr>\n",
       "        <td style=\"padding-left: 1em; padding-right: 1em; text-align: center; vertical-align: top\">Vulli Sophie the Giraffe<br>Teether ...</td>\n",
       "        <td style=\"padding-left: 1em; padding-right: 1em; text-align: center; vertical-align: top\">My baby seems to like<br>this toy, but I could ...</td>\n",
       "        <td style=\"padding-left: 1em; padding-right: 1em; text-align: center; vertical-align: top\">3.0</td>\n",
       "        <td style=\"padding-left: 1em; padding-right: 1em; text-align: center; vertical-align: top\">{'and': 2, 'already': 1,<br>'in': 1, 'some': 1, ' ...</td>\n",
       "    </tr>\n",
       "</table>\n",
       "<table frame=\"box\" rules=\"cols\">\n",
       "    <tr>\n",
       "        <th style=\"padding-left: 1em; padding-right: 1em; text-align: center\">ngram_count</th>\n",
       "        <th style=\"padding-left: 1em; padding-right: 1em; text-align: center\">predicted_sentiment</th>\n",
       "    </tr>\n",
       "    <tr>\n",
       "        <td style=\"padding-left: 1em; padding-right: 1em; text-align: center; vertical-align: top\">{'head and': 1, 'it has':<br>1, 'been cranky': 1, 'he ...</td>\n",
       "        <td style=\"padding-left: 1em; padding-right: 1em; text-align: center; vertical-align: top\">0.999513023521</td>\n",
       "    </tr>\n",
       "    <tr>\n",
       "        <td style=\"padding-left: 1em; padding-right: 1em; text-align: center; vertical-align: top\">{'him when': 1, 'this<br>toy': 1, 'water seems': ...</td>\n",
       "        <td style=\"padding-left: 1em; padding-right: 1em; text-align: center; vertical-align: top\">0.999320678306</td>\n",
       "    </tr>\n",
       "    <tr>\n",
       "        <td style=\"padding-left: 1em; padding-right: 1em; text-align: center; vertical-align: top\">{'large warning': 1, 'was<br>no': 1, 'idea for': 1, ...</td>\n",
       "        <td style=\"padding-left: 1em; padding-right: 1em; text-align: center; vertical-align: top\">0.013558811687</td>\n",
       "    </tr>\n",
       "    <tr>\n",
       "        <td style=\"padding-left: 1em; padding-right: 1em; text-align: center; vertical-align: top\">{'got one': 1, 'and got':<br>1, 'ever lost': 1, 'and ...</td>\n",
       "        <td style=\"padding-left: 1em; padding-right: 1em; text-align: center; vertical-align: top\">0.995769474148</td>\n",
       "    </tr>\n",
       "    <tr>\n",
       "        <td style=\"padding-left: 1em; padding-right: 1em; text-align: center; vertical-align: top\">{'it arrived': 1, 'and<br>buy': 1, 'rather or': 1, ...</td>\n",
       "        <td style=\"padding-left: 1em; padding-right: 1em; text-align: center; vertical-align: top\">0.662374415673</td>\n",
       "    </tr>\n",
       "    <tr>\n",
       "        <td style=\"padding-left: 1em; padding-right: 1em; text-align: center; vertical-align: top\">{'on her': 1, 'our baby':<br>1, 'her the': 1, 'we  ...</td>\n",
       "        <td style=\"padding-left: 1em; padding-right: 1em; text-align: center; vertical-align: top\">0.999997148186</td>\n",
       "    </tr>\n",
       "    <tr>\n",
       "        <td style=\"padding-left: 1em; padding-right: 1em; text-align: center; vertical-align: top\">{'in delight': 1, 'and<br>squeal': 1, 'and ...</td>\n",
       "        <td style=\"padding-left: 1em; padding-right: 1em; text-align: center; vertical-align: top\">0.989190989536</td>\n",
       "    </tr>\n",
       "    <tr>\n",
       "        <td style=\"padding-left: 1em; padding-right: 1em; text-align: center; vertical-align: top\">{'be careful': 1, 'when<br>you': 1, 'water inside': ...</td>\n",
       "        <td style=\"padding-left: 1em; padding-right: 1em; text-align: center; vertical-align: top\">0.999563518413</td>\n",
       "    </tr>\n",
       "    <tr>\n",
       "        <td style=\"padding-left: 1em; padding-right: 1em; text-align: center; vertical-align: top\">{'son to': 1, 'i though':<br>1, 'worn off': 1, 'got ...</td>\n",
       "        <td style=\"padding-left: 1em; padding-right: 1em; text-align: center; vertical-align: top\">0.970160542725</td>\n",
       "    </tr>\n",
       "    <tr>\n",
       "        <td style=\"padding-left: 1em; padding-right: 1em; text-align: center; vertical-align: top\">{'i could': 2, 'this<br>toy': 1, 'would be': 1, ...</td>\n",
       "        <td style=\"padding-left: 1em; padding-right: 1em; text-align: center; vertical-align: top\">0.195367644588</td>\n",
       "    </tr>\n",
       "</table>\n",
       "[10 rows x 6 columns]<br/>\n",
       "</div>"
      ],
      "text/plain": [
       "Columns:\n",
       "\tname\tstr\n",
       "\treview\tstr\n",
       "\trating\tfloat\n",
       "\tword_count\tdict\n",
       "\tngram_count\tdict\n",
       "\tpredicted_sentiment\tfloat\n",
       "\n",
       "Rows: 10\n",
       "\n",
       "Data:\n",
       "+-------------------------------+-------------------------------+--------+\n",
       "|              name             |             review            | rating |\n",
       "+-------------------------------+-------------------------------+--------+\n",
       "| Vulli Sophie the Giraffe T... | He likes chewing on all th... |  5.0   |\n",
       "| Vulli Sophie the Giraffe T... | My son loves this toy and ... |  5.0   |\n",
       "| Vulli Sophie the Giraffe T... | There really should be a l... |  1.0   |\n",
       "| Vulli Sophie the Giraffe T... | All the moms in my moms' g... |  5.0   |\n",
       "| Vulli Sophie the Giraffe T... | I was a little skeptical o... |  5.0   |\n",
       "| Vulli Sophie the Giraffe T... | I have been reading about ... |  5.0   |\n",
       "| Vulli Sophie the Giraffe T... | My neice loves her sophie ... |  5.0   |\n",
       "| Vulli Sophie the Giraffe T... | What a friendly face!  And... |  5.0   |\n",
       "| Vulli Sophie the Giraffe T... | We got this just for my so... |  5.0   |\n",
       "| Vulli Sophie the Giraffe T... | My baby seems to like this... |  3.0   |\n",
       "+-------------------------------+-------------------------------+--------+\n",
       "+-------------------------------+-------------------------------+---------------------+\n",
       "|           word_count          |          ngram_count          | predicted_sentiment |\n",
       "+-------------------------------+-------------------------------+---------------------+\n",
       "| {'and': 1, 'all': 1, 'beca... | {'head and': 1, 'it has': ... |    0.999513023521   |\n",
       "| {'and': 1, 'right': 1, 'he... | {'him when': 1, 'this toy'... |    0.999320678306   |\n",
       "| {'and': 2, 'all': 1, 'late... | {'large warning': 1, 'was ... |    0.013558811687   |\n",
       "| {'and': 2, 'one!': 1, 'all... | {'got one': 1, 'and got': ... |    0.995769474148   |\n",
       "| {'and': 3, 'all': 1, 'old'... | {'it arrived': 1, 'and buy... |    0.662374415673   |\n",
       "| {'and': 6, 'seven': 1, 'al... | {'on her': 1, 'our baby': ... |    0.999997148186   |\n",
       "| {'and': 4, 'drooling,': 1,... | {'in delight': 1, 'and squ... |    0.989190989536   |\n",
       "| {'and': 3, 'chew': 1, \"don... | {'be careful': 1, 'when yo... |    0.999563518413   |\n",
       "| {'chew': 2, 'because': 1, ... | {'son to': 1, 'i though': ... |    0.970160542725   |\n",
       "| {'and': 2, 'already': 1, '... | {'i could': 2, 'this toy':... |    0.195367644588   |\n",
       "+-------------------------------+-------------------------------+---------------------+\n",
       "[10 rows x 6 columns]"
      ]
     },
     "execution_count": 28,
     "metadata": {},
     "output_type": "execute_result"
    }
   ],
   "source": [
    "giraffe_reviews.head()"
   ]
  },
  {
   "cell_type": "markdown",
   "metadata": {},
   "source": [
    "##Sort the reviews based on the predicted sentiment and explore"
   ]
  },
  {
   "cell_type": "code",
   "execution_count": 29,
   "metadata": {
    "collapsed": true
   },
   "outputs": [],
   "source": [
    "giraffe_reviews = giraffe_reviews.sort('predicted_sentiment', ascending=False)"
   ]
  },
  {
   "cell_type": "code",
   "execution_count": 30,
   "metadata": {
    "collapsed": false
   },
   "outputs": [
    {
     "data": {
      "text/html": [
       "<div style=\"max-height:1000px;max-width:1500px;overflow:auto;\"><table frame=\"box\" rules=\"cols\">\n",
       "    <tr>\n",
       "        <th style=\"padding-left: 1em; padding-right: 1em; text-align: center\">name</th>\n",
       "        <th style=\"padding-left: 1em; padding-right: 1em; text-align: center\">review</th>\n",
       "        <th style=\"padding-left: 1em; padding-right: 1em; text-align: center\">rating</th>\n",
       "        <th style=\"padding-left: 1em; padding-right: 1em; text-align: center\">word_count</th>\n",
       "    </tr>\n",
       "    <tr>\n",
       "        <td style=\"padding-left: 1em; padding-right: 1em; text-align: center; vertical-align: top\">Vulli Sophie the Giraffe<br>Teether ...</td>\n",
       "        <td style=\"padding-left: 1em; padding-right: 1em; text-align: center; vertical-align: top\">Sophie, oh Sophie, your<br>time has come. My ...</td>\n",
       "        <td style=\"padding-left: 1em; padding-right: 1em; text-align: center; vertical-align: top\">5.0</td>\n",
       "        <td style=\"padding-left: 1em; padding-right: 1em; text-align: center; vertical-align: top\">{'giggles': 1, 'all': 1,<br>\"violet's\": 2, 'food' ...</td>\n",
       "    </tr>\n",
       "    <tr>\n",
       "        <td style=\"padding-left: 1em; padding-right: 1em; text-align: center; vertical-align: top\">Vulli Sophie the Giraffe<br>Teether ...</td>\n",
       "        <td style=\"padding-left: 1em; padding-right: 1em; text-align: center; vertical-align: top\">I'm not sure why Sophie<br>is such a hit with the ...</td>\n",
       "        <td style=\"padding-left: 1em; padding-right: 1em; text-align: center; vertical-align: top\">4.0</td>\n",
       "        <td style=\"padding-left: 1em; padding-right: 1em; text-align: center; vertical-align: top\">{'peace': 1, 'month': 1,<br>'bright': 1, 'softer' ...</td>\n",
       "    </tr>\n",
       "    <tr>\n",
       "        <td style=\"padding-left: 1em; padding-right: 1em; text-align: center; vertical-align: top\">Vulli Sophie the Giraffe<br>Teether ...</td>\n",
       "        <td style=\"padding-left: 1em; padding-right: 1em; text-align: center; vertical-align: top\">I'll be honest...I bought<br>this toy because all the ...</td>\n",
       "        <td style=\"padding-left: 1em; padding-right: 1em; text-align: center; vertical-align: top\">4.0</td>\n",
       "        <td style=\"padding-left: 1em; padding-right: 1em; text-align: center; vertical-align: top\">{'all': 2, 'pops': 1,<br>'existence.': 1, ...</td>\n",
       "    </tr>\n",
       "    <tr>\n",
       "        <td style=\"padding-left: 1em; padding-right: 1em; text-align: center; vertical-align: top\">Vulli Sophie the Giraffe<br>Teether ...</td>\n",
       "        <td style=\"padding-left: 1em; padding-right: 1em; text-align: center; vertical-align: top\">We got this little<br>giraffe as a gift from a ...</td>\n",
       "        <td style=\"padding-left: 1em; padding-right: 1em; text-align: center; vertical-align: top\">5.0</td>\n",
       "        <td style=\"padding-left: 1em; padding-right: 1em; text-align: center; vertical-align: top\">{'all': 2, \"don't\": 1,<br>'(literally).so': 1, ...</td>\n",
       "    </tr>\n",
       "    <tr>\n",
       "        <td style=\"padding-left: 1em; padding-right: 1em; text-align: center; vertical-align: top\">Vulli Sophie the Giraffe<br>Teether ...</td>\n",
       "        <td style=\"padding-left: 1em; padding-right: 1em; text-align: center; vertical-align: top\">As a mother of 16month<br>old twins; I bought ...</td>\n",
       "        <td style=\"padding-left: 1em; padding-right: 1em; text-align: center; vertical-align: top\">5.0</td>\n",
       "        <td style=\"padding-left: 1em; padding-right: 1em; text-align: center; vertical-align: top\">{'cute': 1, 'all': 1,<br>'reviews.': 2, 'just' ...</td>\n",
       "    </tr>\n",
       "    <tr>\n",
       "        <td style=\"padding-left: 1em; padding-right: 1em; text-align: center; vertical-align: top\">Vulli Sophie the Giraffe<br>Teether ...</td>\n",
       "        <td style=\"padding-left: 1em; padding-right: 1em; text-align: center; vertical-align: top\">Sophie the Giraffe is the<br>perfect teething toy. ...</td>\n",
       "        <td style=\"padding-left: 1em; padding-right: 1em; text-align: center; vertical-align: top\">5.0</td>\n",
       "        <td style=\"padding-left: 1em; padding-right: 1em; text-align: center; vertical-align: top\">{'just': 2, 'both': 1,<br>'month': 1, 'ears,': 1, ...</td>\n",
       "    </tr>\n",
       "    <tr>\n",
       "        <td style=\"padding-left: 1em; padding-right: 1em; text-align: center; vertical-align: top\">Vulli Sophie the Giraffe<br>Teether ...</td>\n",
       "        <td style=\"padding-left: 1em; padding-right: 1em; text-align: center; vertical-align: top\">Sophie la giraffe is<br>absolutely the best toy ...</td>\n",
       "        <td style=\"padding-left: 1em; padding-right: 1em; text-align: center; vertical-align: top\">5.0</td>\n",
       "        <td style=\"padding-left: 1em; padding-right: 1em; text-align: center; vertical-align: top\">{'and': 5, 'the': 1,<br>'all': 1, 'that': 2, ...</td>\n",
       "    </tr>\n",
       "    <tr>\n",
       "        <td style=\"padding-left: 1em; padding-right: 1em; text-align: center; vertical-align: top\">Vulli Sophie the Giraffe<br>Teether ...</td>\n",
       "        <td style=\"padding-left: 1em; padding-right: 1em; text-align: center; vertical-align: top\">My 5-mos old son took to<br>this immediately. The ...</td>\n",
       "        <td style=\"padding-left: 1em; padding-right: 1em; text-align: center; vertical-align: top\">5.0</td>\n",
       "        <td style=\"padding-left: 1em; padding-right: 1em; text-align: center; vertical-align: top\">{'just': 1, 'shape': 2,<br>'mutt': 1, '\"dog': 1, ...</td>\n",
       "    </tr>\n",
       "    <tr>\n",
       "        <td style=\"padding-left: 1em; padding-right: 1em; text-align: center; vertical-align: top\">Vulli Sophie the Giraffe<br>Teether ...</td>\n",
       "        <td style=\"padding-left: 1em; padding-right: 1em; text-align: center; vertical-align: top\">My nephews and my four<br>kids all had Sophie in ...</td>\n",
       "        <td style=\"padding-left: 1em; padding-right: 1em; text-align: center; vertical-align: top\">5.0</td>\n",
       "        <td style=\"padding-left: 1em; padding-right: 1em; text-align: center; vertical-align: top\">{'and': 4, 'chew': 1,<br>'all': 1, 'perfect;': 1, ...</td>\n",
       "    </tr>\n",
       "    <tr>\n",
       "        <td style=\"padding-left: 1em; padding-right: 1em; text-align: center; vertical-align: top\">Vulli Sophie the Giraffe<br>Teether ...</td>\n",
       "        <td style=\"padding-left: 1em; padding-right: 1em; text-align: center; vertical-align: top\">Never thought I'd see my<br>son French kissing a ...</td>\n",
       "        <td style=\"padding-left: 1em; padding-right: 1em; text-align: center; vertical-align: top\">5.0</td>\n",
       "        <td style=\"padding-left: 1em; padding-right: 1em; text-align: center; vertical-align: top\">{'giggles': 1, 'all': 1,<br>'out,': 1, 'over': 1, ...</td>\n",
       "    </tr>\n",
       "</table>\n",
       "<table frame=\"box\" rules=\"cols\">\n",
       "    <tr>\n",
       "        <th style=\"padding-left: 1em; padding-right: 1em; text-align: center\">ngram_count</th>\n",
       "        <th style=\"padding-left: 1em; padding-right: 1em; text-align: center\">predicted_sentiment</th>\n",
       "    </tr>\n",
       "    <tr>\n",
       "        <td style=\"padding-left: 1em; padding-right: 1em; text-align: center; vertical-align: top\">{'know the': 1, 'what<br>joy': 1, 'grasp and': 1, ...</td>\n",
       "        <td style=\"padding-left: 1em; padding-right: 1em; text-align: center; vertical-align: top\">1.0</td>\n",
       "    </tr>\n",
       "    <tr>\n",
       "        <td style=\"padding-left: 1em; padding-right: 1em; text-align: center; vertical-align: top\">{'on her': 2, 'her not':<br>1, 'is such': 1, 'new ...</td>\n",
       "        <td style=\"padding-left: 1em; padding-right: 1em; text-align: center; vertical-align: top\">0.999999999703</td>\n",
       "    </tr>\n",
       "    <tr>\n",
       "        <td style=\"padding-left: 1em; padding-right: 1em; text-align: center; vertical-align: top\">{'one to': 1, 'they<br>explore': 1, 'been far': ...</td>\n",
       "        <td style=\"padding-left: 1em; padding-right: 1em; text-align: center; vertical-align: top\">0.999999999392</td>\n",
       "    </tr>\n",
       "    <tr>\n",
       "        <td style=\"padding-left: 1em; padding-right: 1em; text-align: center; vertical-align: top\">{'with it': 1, 'it in':<br>1, 'babies with': 1,  ...</td>\n",
       "        <td style=\"padding-left: 1em; padding-right: 1em; text-align: center; vertical-align: top\">0.99999999919</td>\n",
       "    </tr>\n",
       "    <tr>\n",
       "        <td style=\"padding-left: 1em; padding-right: 1em; text-align: center; vertical-align: top\">{'on her': 3, 'are<br>wondering': 1, 'face ...</td>\n",
       "        <td style=\"padding-left: 1em; padding-right: 1em; text-align: center; vertical-align: top\">0.999999998657</td>\n",
       "    </tr>\n",
       "    <tr>\n",
       "        <td style=\"padding-left: 1em; padding-right: 1em; text-align: center; vertical-align: top\">{'on her': 1, 'expensive<br>after': 1, 'the most' ...</td>\n",
       "        <td style=\"padding-left: 1em; padding-right: 1em; text-align: center; vertical-align: top\">0.999999997108</td>\n",
       "    </tr>\n",
       "    <tr>\n",
       "        <td style=\"padding-left: 1em; padding-right: 1em; text-align: center; vertical-align: top\">{'if you': 1, 'time he':<br>1, 'old pictures': 1, ...</td>\n",
       "        <td style=\"padding-left: 1em; padding-right: 1em; text-align: center; vertical-align: top\">0.999999995589</td>\n",
       "    </tr>\n",
       "    <tr>\n",
       "        <td style=\"padding-left: 1em; padding-right: 1em; text-align: center; vertical-align: top\">{'to wait': 1, 'it in':<br>1, 'but we': 1, 'darling ...</td>\n",
       "        <td style=\"padding-left: 1em; padding-right: 1em; text-align: center; vertical-align: top\">0.999999995573</td>\n",
       "    </tr>\n",
       "    <tr>\n",
       "        <td style=\"padding-left: 1em; padding-right: 1em; text-align: center; vertical-align: top\">{'all had': 1, 'kids<br>all': 1, 'sophie hasn': ...</td>\n",
       "        <td style=\"padding-left: 1em; padding-right: 1em; text-align: center; vertical-align: top\">0.999999989527</td>\n",
       "    </tr>\n",
       "    <tr>\n",
       "        <td style=\"padding-left: 1em; padding-right: 1em; text-align: center; vertical-align: top\">{'gets from': 1,<br>'teething furiously': 1, ...</td>\n",
       "        <td style=\"padding-left: 1em; padding-right: 1em; text-align: center; vertical-align: top\">0.999999985069</td>\n",
       "    </tr>\n",
       "</table>\n",
       "[10 rows x 6 columns]<br/>\n",
       "</div>"
      ],
      "text/plain": [
       "Columns:\n",
       "\tname\tstr\n",
       "\treview\tstr\n",
       "\trating\tfloat\n",
       "\tword_count\tdict\n",
       "\tngram_count\tdict\n",
       "\tpredicted_sentiment\tfloat\n",
       "\n",
       "Rows: 10\n",
       "\n",
       "Data:\n",
       "+-------------------------------+-------------------------------+--------+\n",
       "|              name             |             review            | rating |\n",
       "+-------------------------------+-------------------------------+--------+\n",
       "| Vulli Sophie the Giraffe T... | Sophie, oh Sophie, your ti... |  5.0   |\n",
       "| Vulli Sophie the Giraffe T... | I'm not sure why Sophie is... |  4.0   |\n",
       "| Vulli Sophie the Giraffe T... | I'll be honest...I bought ... |  4.0   |\n",
       "| Vulli Sophie the Giraffe T... | We got this little giraffe... |  5.0   |\n",
       "| Vulli Sophie the Giraffe T... | As a mother of 16month old... |  5.0   |\n",
       "| Vulli Sophie the Giraffe T... | Sophie the Giraffe is the ... |  5.0   |\n",
       "| Vulli Sophie the Giraffe T... | Sophie la giraffe is absol... |  5.0   |\n",
       "| Vulli Sophie the Giraffe T... | My 5-mos old son took to t... |  5.0   |\n",
       "| Vulli Sophie the Giraffe T... | My nephews and my four kid... |  5.0   |\n",
       "| Vulli Sophie the Giraffe T... | Never thought I'd see my s... |  5.0   |\n",
       "+-------------------------------+-------------------------------+--------+\n",
       "+-------------------------------+-------------------------------+---------------------+\n",
       "|           word_count          |          ngram_count          | predicted_sentiment |\n",
       "+-------------------------------+-------------------------------+---------------------+\n",
       "| {'giggles': 1, 'all': 1, \"... | {'know the': 1, 'what joy'... |         1.0         |\n",
       "| {'peace': 1, 'month': 1, '... | {'on her': 2, 'her not': 1... |    0.999999999703   |\n",
       "| {'all': 2, 'pops': 1, 'exi... | {'one to': 1, 'they explor... |    0.999999999392   |\n",
       "| {'all': 2, \"don't\": 1, '(l... | {'with it': 1, 'it in': 1,... |    0.99999999919    |\n",
       "| {'cute': 1, 'all': 1, 'rev... | {'on her': 3, 'are wonderi... |    0.999999998657   |\n",
       "| {'just': 2, 'both': 1, 'mo... | {'on her': 1, 'expensive a... |    0.999999997108   |\n",
       "| {'and': 5, 'the': 1, 'all'... | {'if you': 1, 'time he': 1... |    0.999999995589   |\n",
       "| {'just': 1, 'shape': 2, 'm... | {'to wait': 1, 'it in': 1,... |    0.999999995573   |\n",
       "| {'and': 4, 'chew': 1, 'all... | {'all had': 1, 'kids all':... |    0.999999989527   |\n",
       "| {'giggles': 1, 'all': 1, '... | {'gets from': 1, 'teething... |    0.999999985069   |\n",
       "+-------------------------------+-------------------------------+---------------------+\n",
       "[10 rows x 6 columns]"
      ]
     },
     "execution_count": 30,
     "metadata": {},
     "output_type": "execute_result"
    }
   ],
   "source": [
    "giraffe_reviews.head()"
   ]
  },
  {
   "cell_type": "markdown",
   "metadata": {},
   "source": [
    "##Most positive reviews for the giraffe"
   ]
  },
  {
   "cell_type": "code",
   "execution_count": 22,
   "metadata": {
    "collapsed": false
   },
   "outputs": [
    {
     "data": {
      "text/plain": [
       "\"Sophie, oh Sophie, your time has come. My granddaughter, Violet is 5 months old and starting to teeth. What joy little Sophie brings to Violet. Sophie is made of a very pliable rubber that is sturdy but not tough. It is quite easy for Violet to twist Sophie into unheard of positions to get Sophie into her mouth. The little nose and hooves fit perfectly into small mouths, and the drooling has purpose. The paint on Sophie is food quality.Sophie was born in 1961 in France. The maker had wondered why there was nothing available for babies and made Sophie from the finest rubber, phthalate-free on St Sophie's Day, thus the name was born. Since that time millions of Sophie's populate the world. She is soft and for babies little hands easy to grasp. Violet especially loves the bumpy head and horns of Sophie. Sophie has a long neck that easy to grasp and twist. She has lovely, sizable spots that attract Violet's attention. Sophie has happy little squeaks that bring squeals of delight from Violet. She is able to make Sophie squeak and that brings much joy. Sophie's smooth skin is soothing to Violet's little gums. Sophie is 7 inches tall and is the exact correct size for babies to hold and love.As you well know the first thing babies grasp, goes into their mouths- how wonderful to have a toy that stimulates all of the senses and helps with the issue of teething. Sophie is small enough to fit into any size pocket or bag. Sophie is the perfect find for babies from a few months to a year old. How wonderful to hear the giggles and laughs that emanate from babies who find Sophie irresistible. Viva La Sophie!Highly Recommended.  prisrob 12-11-09\""
      ]
     },
     "execution_count": 22,
     "metadata": {},
     "output_type": "execute_result"
    }
   ],
   "source": [
    "giraffe_reviews[0]['review']"
   ]
  },
  {
   "cell_type": "code",
   "execution_count": 23,
   "metadata": {
    "collapsed": false
   },
   "outputs": [
    {
     "data": {
      "text/plain": [
       "\"I'm not sure why Sophie is such a hit with the little ones, but my 7 month old baby girl is one of her adoring fans.  The rubber is softer and more pleasant to handle, and my daughter has enjoyed chewing on her legs and the nubs on her head even before she started teething.  She also loves the squeak that Sophie makes when you squeeze her.  Not sure what it is but if Sophie is amongst a pile of her other toys, my daughter will more often than not reach for Sophie.  And I have the peace of mind of knowing that only edible and safe paints and materials have been used to make Sophie, as opposed to Bright Starts and other baby toys made in China.  Now that the research is out on phthalates and other toxic substances in baby toys, I think it's more important than ever to find good quality toys that are also safe for our babies to handle and put in their mouths.  Sophie is a must-have for every new mom in my opinion.  Even if your kid is one of the few that can take or leave her, it's worth a try.  Vulli, the makers of Sophie, also make natural rubber teething rings that my daughter loves as well.\""
      ]
     },
     "execution_count": 23,
     "metadata": {},
     "output_type": "execute_result"
    }
   ],
   "source": [
    "giraffe_reviews[1]['review']"
   ]
  },
  {
   "cell_type": "markdown",
   "metadata": {},
   "source": [
    "##Show most negative reviews for giraffe"
   ]
  },
  {
   "cell_type": "code",
   "execution_count": 24,
   "metadata": {
    "collapsed": false
   },
   "outputs": [
    {
     "data": {
      "text/plain": [
       "\"My son (now 2.5) LOVED his Sophie, and I bought one for every baby shower I've gone to. Now, my daughter (6 months) just today nearly choked on it and I will never give it to her again. Had I not been within hearing range it could have been fatal. The strange sound she was making caught my attention and when I went to her and found the front curved leg shoved well down her throat and her face a purply/blue I panicked. I pulled it out and she vomited all over the carpet before screaming her head off. I can't believe how my opinion of this toy has changed from a must-have to a must-not-use. Please don't disregard any of the choking hazard comments, they are not over exaggerated!\""
      ]
     },
     "execution_count": 24,
     "metadata": {},
     "output_type": "execute_result"
    }
   ],
   "source": [
    "giraffe_reviews[-1]['review']"
   ]
  },
  {
   "cell_type": "code",
   "execution_count": 25,
   "metadata": {
    "collapsed": false
   },
   "outputs": [
    {
     "data": {
      "text/plain": [
       "\"This children's toy is nostalgic and very cute. However, there is a distinct rubber smell and a very odd taste, yes I tried it, that my baby did not enjoy. Also, if it is soiled it is extremely difficult to clean as the rubber is a kind of porus material and does not clean well. The final thing is the squeaking device inside which stopped working after the first couple of days. I returned this item feeling I had overpaid for a toy that was defective and did not meet my expectations. Please do not be swayed by the cute packaging and hype surounding it as I was. One more thing, I was given a full refund from Amazon without any problem.\""
      ]
     },
     "execution_count": 25,
     "metadata": {},
     "output_type": "execute_result"
    }
   ],
   "source": [
    "giraffe_reviews[-2]['review']"
   ]
  },
  {
   "cell_type": "markdown",
   "metadata": {
    "collapsed": true
   },
   "source": [
    "## Building awesome count function"
   ]
  },
  {
   "cell_type": "code",
   "execution_count": 41,
   "metadata": {
    "collapsed": false
   },
   "outputs": [],
   "source": [
    "selected_words = ['awesome', 'great', 'fantastic', 'amazing', 'love', 'horrible', 'bad', 'terrible', 'awful', 'wow', 'hate']\n",
    "        "
   ]
  },
  {
   "cell_type": "code",
   "execution_count": 46,
   "metadata": {
    "collapsed": false
   },
   "outputs": [],
   "source": [
    "def awesome_count(dicts):\n",
    "    word = 'and'\n",
    "    if word in dicts:\n",
    "        return dicts[word]\n",
    "    else:\n",
    "        return 0\n",
    "\n",
    "# automation function\n",
    "def automate(word_list, products):\n",
    "    for i in xrange(len(word_list)):\n",
    "        print word_list[i]\n",
    "        products[word_list[i]]= products['word_count'].apply(awesome_count)     \n",
    "    "
   ]
  },
  {
   "cell_type": "code",
   "execution_count": 47,
   "metadata": {
    "collapsed": false
   },
   "outputs": [
    {
     "name": "stdout",
     "output_type": "stream",
     "text": [
      "awesome\n",
      "great\n",
      "fantastic\n",
      "amazing\n",
      "love\n",
      "horrible\n",
      "bad\n",
      "terrible\n",
      "awful\n",
      "wow\n",
      "hate\n"
     ]
    }
   ],
   "source": [
    "automate(selected_words, products)"
   ]
  },
  {
   "cell_type": "code",
   "execution_count": 73,
   "metadata": {
    "collapsed": false
   },
   "outputs": [],
   "source": [
    "def awesome_count(dicts):\n",
    "    word = 'hate'\n",
    "    if word in dicts:\n",
    "        return dicts[word]\n",
    "    else:\n",
    "        return 0\n",
    "    "
   ]
  },
  {
   "cell_type": "markdown",
   "metadata": {},
   "source": [
    "## Buildind the awesome feature column"
   ]
  },
  {
   "cell_type": "code",
   "execution_count": 50,
   "metadata": {
    "collapsed": false
   },
   "outputs": [],
   "source": [
    "products['awesome'] = products['word_count'].apply(awesome_count)"
   ]
  },
  {
   "cell_type": "code",
   "execution_count": null,
   "metadata": {
    "collapsed": false,
    "scrolled": false
   },
   "outputs": [],
   "source": []
  },
  {
   "cell_type": "markdown",
   "metadata": {},
   "source": [
    "## Add 10 more new features"
   ]
  },
  {
   "cell_type": "code",
   "execution_count": 56,
   "metadata": {
    "collapsed": false
   },
   "outputs": [],
   "source": [
    "## Great\n",
    "products['great'] = products['word_count'].apply(awesome_count)\n"
   ]
  },
  {
   "cell_type": "code",
   "execution_count": 58,
   "metadata": {
    "collapsed": false
   },
   "outputs": [],
   "source": [
    "# Fantastic\n",
    "products['fantastic'] = products['word_count'].apply(awesome_count)"
   ]
  },
  {
   "cell_type": "code",
   "execution_count": 60,
   "metadata": {
    "collapsed": false
   },
   "outputs": [],
   "source": [
    "## amazing\n",
    "products['amazing'] = products['word_count'].apply(awesome_count, skip_undefined=True)\n"
   ]
  },
  {
   "cell_type": "code",
   "execution_count": 62,
   "metadata": {
    "collapsed": false
   },
   "outputs": [],
   "source": [
    "## love\n",
    "products['love'] = products['word_count'].apply(awesome_count)"
   ]
  },
  {
   "cell_type": "code",
   "execution_count": 64,
   "metadata": {
    "collapsed": false
   },
   "outputs": [],
   "source": [
    "## horrible\n",
    "products['horrible'] = products['word_count'].apply(awesome_count)"
   ]
  },
  {
   "cell_type": "code",
   "execution_count": 66,
   "metadata": {
    "collapsed": false
   },
   "outputs": [],
   "source": [
    "## bad\n",
    "products['bad'] = products['word_count'].apply(awesome_count)"
   ]
  },
  {
   "cell_type": "code",
   "execution_count": 68,
   "metadata": {
    "collapsed": true
   },
   "outputs": [],
   "source": [
    "## terrible\n",
    "products['terrible'] = products['word_count'].apply(awesome_count)"
   ]
  },
  {
   "cell_type": "code",
   "execution_count": 163,
   "metadata": {
    "collapsed": true
   },
   "outputs": [],
   "source": []
  },
  {
   "cell_type": "code",
   "execution_count": 70,
   "metadata": {
    "collapsed": true
   },
   "outputs": [],
   "source": [
    "## awful\n",
    "products['awful'] = products['word_count'].apply(awesome_count)"
   ]
  },
  {
   "cell_type": "code",
   "execution_count": 72,
   "metadata": {
    "collapsed": true
   },
   "outputs": [],
   "source": [
    "## wow\n",
    "products['wow'] = products['word_count'].apply(awesome_count)"
   ]
  },
  {
   "cell_type": "code",
   "execution_count": 74,
   "metadata": {
    "collapsed": false
   },
   "outputs": [],
   "source": [
    "## hate\n",
    "products['hate'] = products['word_count'].apply(awesome_count)\n"
   ]
  },
  {
   "cell_type": "code",
   "execution_count": 211,
   "metadata": {
    "collapsed": false
   },
   "outputs": [],
   "source": []
  },
  {
   "cell_type": "code",
   "execution_count": 76,
   "metadata": {
    "collapsed": false
   },
   "outputs": [
    {
     "data": {
      "text/html": [
       "<div style=\"max-height:1000px;max-width:1500px;overflow:auto;\"><table frame=\"box\" rules=\"cols\">\n",
       "    <tr>\n",
       "        <th style=\"padding-left: 1em; padding-right: 1em; text-align: center\">name</th>\n",
       "        <th style=\"padding-left: 1em; padding-right: 1em; text-align: center\">review</th>\n",
       "        <th style=\"padding-left: 1em; padding-right: 1em; text-align: center\">rating</th>\n",
       "        <th style=\"padding-left: 1em; padding-right: 1em; text-align: center\">word_count</th>\n",
       "        <th style=\"padding-left: 1em; padding-right: 1em; text-align: center\">awesome</th>\n",
       "        <th style=\"padding-left: 1em; padding-right: 1em; text-align: center\">great</th>\n",
       "        <th style=\"padding-left: 1em; padding-right: 1em; text-align: center\">fantastic</th>\n",
       "    </tr>\n",
       "    <tr>\n",
       "        <td style=\"padding-left: 1em; padding-right: 1em; text-align: center; vertical-align: top\">Planetwise Flannel Wipes</td>\n",
       "        <td style=\"padding-left: 1em; padding-right: 1em; text-align: center; vertical-align: top\">These flannel wipes are<br>OK, but in my opinion ...</td>\n",
       "        <td style=\"padding-left: 1em; padding-right: 1em; text-align: center; vertical-align: top\">3.0</td>\n",
       "        <td style=\"padding-left: 1em; padding-right: 1em; text-align: center; vertical-align: top\">{'and': 5, 'stink': 1,<br>'because': 1, 'ordered': ...</td>\n",
       "        <td style=\"padding-left: 1em; padding-right: 1em; text-align: center; vertical-align: top\">0</td>\n",
       "        <td style=\"padding-left: 1em; padding-right: 1em; text-align: center; vertical-align: top\">0</td>\n",
       "        <td style=\"padding-left: 1em; padding-right: 1em; text-align: center; vertical-align: top\">0</td>\n",
       "    </tr>\n",
       "    <tr>\n",
       "        <td style=\"padding-left: 1em; padding-right: 1em; text-align: center; vertical-align: top\">Planetwise Wipe Pouch</td>\n",
       "        <td style=\"padding-left: 1em; padding-right: 1em; text-align: center; vertical-align: top\">it came early and was not<br>disappointed. i love ...</td>\n",
       "        <td style=\"padding-left: 1em; padding-right: 1em; text-align: center; vertical-align: top\">5.0</td>\n",
       "        <td style=\"padding-left: 1em; padding-right: 1em; text-align: center; vertical-align: top\">{'and': 3, 'love': 1,<br>'it': 2, 'highly': 1, ...</td>\n",
       "        <td style=\"padding-left: 1em; padding-right: 1em; text-align: center; vertical-align: top\">0</td>\n",
       "        <td style=\"padding-left: 1em; padding-right: 1em; text-align: center; vertical-align: top\">0</td>\n",
       "        <td style=\"padding-left: 1em; padding-right: 1em; text-align: center; vertical-align: top\">0</td>\n",
       "    </tr>\n",
       "    <tr>\n",
       "        <td style=\"padding-left: 1em; padding-right: 1em; text-align: center; vertical-align: top\">Annas Dream Full Quilt<br>with 2 Shams ...</td>\n",
       "        <td style=\"padding-left: 1em; padding-right: 1em; text-align: center; vertical-align: top\">Very soft and comfortable<br>and warmer than it ...</td>\n",
       "        <td style=\"padding-left: 1em; padding-right: 1em; text-align: center; vertical-align: top\">5.0</td>\n",
       "        <td style=\"padding-left: 1em; padding-right: 1em; text-align: center; vertical-align: top\">{'and': 2, 'quilt': 1,<br>'it': 1, 'comfortable': ...</td>\n",
       "        <td style=\"padding-left: 1em; padding-right: 1em; text-align: center; vertical-align: top\">0</td>\n",
       "        <td style=\"padding-left: 1em; padding-right: 1em; text-align: center; vertical-align: top\">0</td>\n",
       "        <td style=\"padding-left: 1em; padding-right: 1em; text-align: center; vertical-align: top\">0</td>\n",
       "    </tr>\n",
       "    <tr>\n",
       "        <td style=\"padding-left: 1em; padding-right: 1em; text-align: center; vertical-align: top\">Stop Pacifier Sucking<br>without tears with ...</td>\n",
       "        <td style=\"padding-left: 1em; padding-right: 1em; text-align: center; vertical-align: top\">This is a product well<br>worth the purchase.  I ...</td>\n",
       "        <td style=\"padding-left: 1em; padding-right: 1em; text-align: center; vertical-align: top\">5.0</td>\n",
       "        <td style=\"padding-left: 1em; padding-right: 1em; text-align: center; vertical-align: top\">{'ingenious': 1, 'and':<br>3, 'love': 2, ...</td>\n",
       "        <td style=\"padding-left: 1em; padding-right: 1em; text-align: center; vertical-align: top\">0</td>\n",
       "        <td style=\"padding-left: 1em; padding-right: 1em; text-align: center; vertical-align: top\">0</td>\n",
       "        <td style=\"padding-left: 1em; padding-right: 1em; text-align: center; vertical-align: top\">0</td>\n",
       "    </tr>\n",
       "    <tr>\n",
       "        <td style=\"padding-left: 1em; padding-right: 1em; text-align: center; vertical-align: top\">Stop Pacifier Sucking<br>without tears with ...</td>\n",
       "        <td style=\"padding-left: 1em; padding-right: 1em; text-align: center; vertical-align: top\">All of my kids have cried<br>non-stop when I tried to ...</td>\n",
       "        <td style=\"padding-left: 1em; padding-right: 1em; text-align: center; vertical-align: top\">5.0</td>\n",
       "        <td style=\"padding-left: 1em; padding-right: 1em; text-align: center; vertical-align: top\">{'and': 2, 'parents!!':<br>1, 'all': 2, 'puppet.': ...</td>\n",
       "        <td style=\"padding-left: 1em; padding-right: 1em; text-align: center; vertical-align: top\">0</td>\n",
       "        <td style=\"padding-left: 1em; padding-right: 1em; text-align: center; vertical-align: top\">1</td>\n",
       "        <td style=\"padding-left: 1em; padding-right: 1em; text-align: center; vertical-align: top\">1</td>\n",
       "    </tr>\n",
       "    <tr>\n",
       "        <td style=\"padding-left: 1em; padding-right: 1em; text-align: center; vertical-align: top\">Stop Pacifier Sucking<br>without tears with ...</td>\n",
       "        <td style=\"padding-left: 1em; padding-right: 1em; text-align: center; vertical-align: top\">When the Binky Fairy came<br>to our house, we didn't ...</td>\n",
       "        <td style=\"padding-left: 1em; padding-right: 1em; text-align: center; vertical-align: top\">5.0</td>\n",
       "        <td style=\"padding-left: 1em; padding-right: 1em; text-align: center; vertical-align: top\">{'and': 2, 'cute': 1,<br>'help': 2, 'doll': 1, ...</td>\n",
       "        <td style=\"padding-left: 1em; padding-right: 1em; text-align: center; vertical-align: top\">0</td>\n",
       "        <td style=\"padding-left: 1em; padding-right: 1em; text-align: center; vertical-align: top\">1</td>\n",
       "        <td style=\"padding-left: 1em; padding-right: 1em; text-align: center; vertical-align: top\">1</td>\n",
       "    </tr>\n",
       "    <tr>\n",
       "        <td style=\"padding-left: 1em; padding-right: 1em; text-align: center; vertical-align: top\">A Tale of Baby's Days<br>with Peter Rabbit ...</td>\n",
       "        <td style=\"padding-left: 1em; padding-right: 1em; text-align: center; vertical-align: top\">Lovely book, it's bound<br>tightly so you may no ...</td>\n",
       "        <td style=\"padding-left: 1em; padding-right: 1em; text-align: center; vertical-align: top\">4.0</td>\n",
       "        <td style=\"padding-left: 1em; padding-right: 1em; text-align: center; vertical-align: top\">{'shop': 1, 'be': 1,<br>'is': 1, 'it': 1, 'as': ...</td>\n",
       "        <td style=\"padding-left: 1em; padding-right: 1em; text-align: center; vertical-align: top\">0</td>\n",
       "        <td style=\"padding-left: 1em; padding-right: 1em; text-align: center; vertical-align: top\">0</td>\n",
       "        <td style=\"padding-left: 1em; padding-right: 1em; text-align: center; vertical-align: top\">0</td>\n",
       "    </tr>\n",
       "    <tr>\n",
       "        <td style=\"padding-left: 1em; padding-right: 1em; text-align: center; vertical-align: top\">Baby Tracker&amp;reg; - Daily<br>Childcare Journal, ...</td>\n",
       "        <td style=\"padding-left: 1em; padding-right: 1em; text-align: center; vertical-align: top\">Perfect for new parents.<br>We were able to keep ...</td>\n",
       "        <td style=\"padding-left: 1em; padding-right: 1em; text-align: center; vertical-align: top\">5.0</td>\n",
       "        <td style=\"padding-left: 1em; padding-right: 1em; text-align: center; vertical-align: top\">{'feeding,': 1, 'and': 2,<br>'all': 1, 'right': 1, ...</td>\n",
       "        <td style=\"padding-left: 1em; padding-right: 1em; text-align: center; vertical-align: top\">0</td>\n",
       "        <td style=\"padding-left: 1em; padding-right: 1em; text-align: center; vertical-align: top\">0</td>\n",
       "        <td style=\"padding-left: 1em; padding-right: 1em; text-align: center; vertical-align: top\">0</td>\n",
       "    </tr>\n",
       "    <tr>\n",
       "        <td style=\"padding-left: 1em; padding-right: 1em; text-align: center; vertical-align: top\">Baby Tracker&amp;reg; - Daily<br>Childcare Journal, ...</td>\n",
       "        <td style=\"padding-left: 1em; padding-right: 1em; text-align: center; vertical-align: top\">A friend of mine pinned<br>this product on Pinte ...</td>\n",
       "        <td style=\"padding-left: 1em; padding-right: 1em; text-align: center; vertical-align: top\">5.0</td>\n",
       "        <td style=\"padding-left: 1em; padding-right: 1em; text-align: center; vertical-align: top\">{'and': 1, 'help': 1,<br>'give': 1, 'is': 1, ...</td>\n",
       "        <td style=\"padding-left: 1em; padding-right: 1em; text-align: center; vertical-align: top\">0</td>\n",
       "        <td style=\"padding-left: 1em; padding-right: 1em; text-align: center; vertical-align: top\">0</td>\n",
       "        <td style=\"padding-left: 1em; padding-right: 1em; text-align: center; vertical-align: top\">0</td>\n",
       "    </tr>\n",
       "    <tr>\n",
       "        <td style=\"padding-left: 1em; padding-right: 1em; text-align: center; vertical-align: top\">Baby Tracker&amp;reg; - Daily<br>Childcare Journal, ...</td>\n",
       "        <td style=\"padding-left: 1em; padding-right: 1em; text-align: center; vertical-align: top\">This has been an easy way<br>for my nanny to record ...</td>\n",
       "        <td style=\"padding-left: 1em; padding-right: 1em; text-align: center; vertical-align: top\">4.0</td>\n",
       "        <td style=\"padding-left: 1em; padding-right: 1em; text-align: center; vertical-align: top\">{'journal.': 1, 'all': 1,<br>'standarad': 1, ...</td>\n",
       "        <td style=\"padding-left: 1em; padding-right: 1em; text-align: center; vertical-align: top\">0</td>\n",
       "        <td style=\"padding-left: 1em; padding-right: 1em; text-align: center; vertical-align: top\">0</td>\n",
       "        <td style=\"padding-left: 1em; padding-right: 1em; text-align: center; vertical-align: top\">0</td>\n",
       "    </tr>\n",
       "</table>\n",
       "<table frame=\"box\" rules=\"cols\">\n",
       "    <tr>\n",
       "        <th style=\"padding-left: 1em; padding-right: 1em; text-align: center\">amazing</th>\n",
       "        <th style=\"padding-left: 1em; padding-right: 1em; text-align: center\">love</th>\n",
       "        <th style=\"padding-left: 1em; padding-right: 1em; text-align: center\">horrible</th>\n",
       "        <th style=\"padding-left: 1em; padding-right: 1em; text-align: center\">bad</th>\n",
       "        <th style=\"padding-left: 1em; padding-right: 1em; text-align: center\">terrible</th>\n",
       "        <th style=\"padding-left: 1em; padding-right: 1em; text-align: center\">awful</th>\n",
       "        <th style=\"padding-left: 1em; padding-right: 1em; text-align: center\">wow</th>\n",
       "        <th style=\"padding-left: 1em; padding-right: 1em; text-align: center\">hate</th>\n",
       "    </tr>\n",
       "    <tr>\n",
       "        <td style=\"padding-left: 1em; padding-right: 1em; text-align: center; vertical-align: top\">0</td>\n",
       "        <td style=\"padding-left: 1em; padding-right: 1em; text-align: center; vertical-align: top\">0</td>\n",
       "        <td style=\"padding-left: 1em; padding-right: 1em; text-align: center; vertical-align: top\">0</td>\n",
       "        <td style=\"padding-left: 1em; padding-right: 1em; text-align: center; vertical-align: top\">0</td>\n",
       "        <td style=\"padding-left: 1em; padding-right: 1em; text-align: center; vertical-align: top\">0</td>\n",
       "        <td style=\"padding-left: 1em; padding-right: 1em; text-align: center; vertical-align: top\">0</td>\n",
       "        <td style=\"padding-left: 1em; padding-right: 1em; text-align: center; vertical-align: top\">0</td>\n",
       "        <td style=\"padding-left: 1em; padding-right: 1em; text-align: center; vertical-align: top\">0</td>\n",
       "    </tr>\n",
       "    <tr>\n",
       "        <td style=\"padding-left: 1em; padding-right: 1em; text-align: center; vertical-align: top\">0</td>\n",
       "        <td style=\"padding-left: 1em; padding-right: 1em; text-align: center; vertical-align: top\">1</td>\n",
       "        <td style=\"padding-left: 1em; padding-right: 1em; text-align: center; vertical-align: top\">0</td>\n",
       "        <td style=\"padding-left: 1em; padding-right: 1em; text-align: center; vertical-align: top\">0</td>\n",
       "        <td style=\"padding-left: 1em; padding-right: 1em; text-align: center; vertical-align: top\">0</td>\n",
       "        <td style=\"padding-left: 1em; padding-right: 1em; text-align: center; vertical-align: top\">0</td>\n",
       "        <td style=\"padding-left: 1em; padding-right: 1em; text-align: center; vertical-align: top\">0</td>\n",
       "        <td style=\"padding-left: 1em; padding-right: 1em; text-align: center; vertical-align: top\">0</td>\n",
       "    </tr>\n",
       "    <tr>\n",
       "        <td style=\"padding-left: 1em; padding-right: 1em; text-align: center; vertical-align: top\">0</td>\n",
       "        <td style=\"padding-left: 1em; padding-right: 1em; text-align: center; vertical-align: top\">0</td>\n",
       "        <td style=\"padding-left: 1em; padding-right: 1em; text-align: center; vertical-align: top\">0</td>\n",
       "        <td style=\"padding-left: 1em; padding-right: 1em; text-align: center; vertical-align: top\">0</td>\n",
       "        <td style=\"padding-left: 1em; padding-right: 1em; text-align: center; vertical-align: top\">0</td>\n",
       "        <td style=\"padding-left: 1em; padding-right: 1em; text-align: center; vertical-align: top\">0</td>\n",
       "        <td style=\"padding-left: 1em; padding-right: 1em; text-align: center; vertical-align: top\">0</td>\n",
       "        <td style=\"padding-left: 1em; padding-right: 1em; text-align: center; vertical-align: top\">0</td>\n",
       "    </tr>\n",
       "    <tr>\n",
       "        <td style=\"padding-left: 1em; padding-right: 1em; text-align: center; vertical-align: top\">0</td>\n",
       "        <td style=\"padding-left: 1em; padding-right: 1em; text-align: center; vertical-align: top\">2</td>\n",
       "        <td style=\"padding-left: 1em; padding-right: 1em; text-align: center; vertical-align: top\">0</td>\n",
       "        <td style=\"padding-left: 1em; padding-right: 1em; text-align: center; vertical-align: top\">0</td>\n",
       "        <td style=\"padding-left: 1em; padding-right: 1em; text-align: center; vertical-align: top\">0</td>\n",
       "        <td style=\"padding-left: 1em; padding-right: 1em; text-align: center; vertical-align: top\">0</td>\n",
       "        <td style=\"padding-left: 1em; padding-right: 1em; text-align: center; vertical-align: top\">0</td>\n",
       "        <td style=\"padding-left: 1em; padding-right: 1em; text-align: center; vertical-align: top\">0</td>\n",
       "    </tr>\n",
       "    <tr>\n",
       "        <td style=\"padding-left: 1em; padding-right: 1em; text-align: center; vertical-align: top\">0</td>\n",
       "        <td style=\"padding-left: 1em; padding-right: 1em; text-align: center; vertical-align: top\">0</td>\n",
       "        <td style=\"padding-left: 1em; padding-right: 1em; text-align: center; vertical-align: top\">0</td>\n",
       "        <td style=\"padding-left: 1em; padding-right: 1em; text-align: center; vertical-align: top\">0</td>\n",
       "        <td style=\"padding-left: 1em; padding-right: 1em; text-align: center; vertical-align: top\">0</td>\n",
       "        <td style=\"padding-left: 1em; padding-right: 1em; text-align: center; vertical-align: top\">0</td>\n",
       "        <td style=\"padding-left: 1em; padding-right: 1em; text-align: center; vertical-align: top\">0</td>\n",
       "        <td style=\"padding-left: 1em; padding-right: 1em; text-align: center; vertical-align: top\">0</td>\n",
       "    </tr>\n",
       "    <tr>\n",
       "        <td style=\"padding-left: 1em; padding-right: 1em; text-align: center; vertical-align: top\">0</td>\n",
       "        <td style=\"padding-left: 1em; padding-right: 1em; text-align: center; vertical-align: top\">0</td>\n",
       "        <td style=\"padding-left: 1em; padding-right: 1em; text-align: center; vertical-align: top\">0</td>\n",
       "        <td style=\"padding-left: 1em; padding-right: 1em; text-align: center; vertical-align: top\">0</td>\n",
       "        <td style=\"padding-left: 1em; padding-right: 1em; text-align: center; vertical-align: top\">0</td>\n",
       "        <td style=\"padding-left: 1em; padding-right: 1em; text-align: center; vertical-align: top\">0</td>\n",
       "        <td style=\"padding-left: 1em; padding-right: 1em; text-align: center; vertical-align: top\">0</td>\n",
       "        <td style=\"padding-left: 1em; padding-right: 1em; text-align: center; vertical-align: top\">0</td>\n",
       "    </tr>\n",
       "    <tr>\n",
       "        <td style=\"padding-left: 1em; padding-right: 1em; text-align: center; vertical-align: top\">0</td>\n",
       "        <td style=\"padding-left: 1em; padding-right: 1em; text-align: center; vertical-align: top\">0</td>\n",
       "        <td style=\"padding-left: 1em; padding-right: 1em; text-align: center; vertical-align: top\">0</td>\n",
       "        <td style=\"padding-left: 1em; padding-right: 1em; text-align: center; vertical-align: top\">0</td>\n",
       "        <td style=\"padding-left: 1em; padding-right: 1em; text-align: center; vertical-align: top\">0</td>\n",
       "        <td style=\"padding-left: 1em; padding-right: 1em; text-align: center; vertical-align: top\">0</td>\n",
       "        <td style=\"padding-left: 1em; padding-right: 1em; text-align: center; vertical-align: top\">0</td>\n",
       "        <td style=\"padding-left: 1em; padding-right: 1em; text-align: center; vertical-align: top\">0</td>\n",
       "    </tr>\n",
       "    <tr>\n",
       "        <td style=\"padding-left: 1em; padding-right: 1em; text-align: center; vertical-align: top\">0</td>\n",
       "        <td style=\"padding-left: 1em; padding-right: 1em; text-align: center; vertical-align: top\">0</td>\n",
       "        <td style=\"padding-left: 1em; padding-right: 1em; text-align: center; vertical-align: top\">0</td>\n",
       "        <td style=\"padding-left: 1em; padding-right: 1em; text-align: center; vertical-align: top\">0</td>\n",
       "        <td style=\"padding-left: 1em; padding-right: 1em; text-align: center; vertical-align: top\">0</td>\n",
       "        <td style=\"padding-left: 1em; padding-right: 1em; text-align: center; vertical-align: top\">0</td>\n",
       "        <td style=\"padding-left: 1em; padding-right: 1em; text-align: center; vertical-align: top\">0</td>\n",
       "        <td style=\"padding-left: 1em; padding-right: 1em; text-align: center; vertical-align: top\">0</td>\n",
       "    </tr>\n",
       "    <tr>\n",
       "        <td style=\"padding-left: 1em; padding-right: 1em; text-align: center; vertical-align: top\">0</td>\n",
       "        <td style=\"padding-left: 1em; padding-right: 1em; text-align: center; vertical-align: top\">0</td>\n",
       "        <td style=\"padding-left: 1em; padding-right: 1em; text-align: center; vertical-align: top\">0</td>\n",
       "        <td style=\"padding-left: 1em; padding-right: 1em; text-align: center; vertical-align: top\">0</td>\n",
       "        <td style=\"padding-left: 1em; padding-right: 1em; text-align: center; vertical-align: top\">0</td>\n",
       "        <td style=\"padding-left: 1em; padding-right: 1em; text-align: center; vertical-align: top\">0</td>\n",
       "        <td style=\"padding-left: 1em; padding-right: 1em; text-align: center; vertical-align: top\">0</td>\n",
       "        <td style=\"padding-left: 1em; padding-right: 1em; text-align: center; vertical-align: top\">0</td>\n",
       "    </tr>\n",
       "    <tr>\n",
       "        <td style=\"padding-left: 1em; padding-right: 1em; text-align: center; vertical-align: top\">0</td>\n",
       "        <td style=\"padding-left: 1em; padding-right: 1em; text-align: center; vertical-align: top\">0</td>\n",
       "        <td style=\"padding-left: 1em; padding-right: 1em; text-align: center; vertical-align: top\">0</td>\n",
       "        <td style=\"padding-left: 1em; padding-right: 1em; text-align: center; vertical-align: top\">0</td>\n",
       "        <td style=\"padding-left: 1em; padding-right: 1em; text-align: center; vertical-align: top\">0</td>\n",
       "        <td style=\"padding-left: 1em; padding-right: 1em; text-align: center; vertical-align: top\">0</td>\n",
       "        <td style=\"padding-left: 1em; padding-right: 1em; text-align: center; vertical-align: top\">0</td>\n",
       "        <td style=\"padding-left: 1em; padding-right: 1em; text-align: center; vertical-align: top\">0</td>\n",
       "    </tr>\n",
       "</table>\n",
       "[183531 rows x 15 columns]<br/>Note: Only the head of the SFrame is printed.<br/>You can use print_rows(num_rows=m, num_columns=n) to print more rows and columns.\n",
       "</div>"
      ],
      "text/plain": [
       "Columns:\n",
       "\tname\tstr\n",
       "\treview\tstr\n",
       "\trating\tfloat\n",
       "\tword_count\tdict\n",
       "\tawesome\tint\n",
       "\tgreat\tint\n",
       "\tfantastic\tint\n",
       "\tamazing\tint\n",
       "\tlove\tint\n",
       "\thorrible\tint\n",
       "\tbad\tint\n",
       "\tterrible\tint\n",
       "\tawful\tint\n",
       "\twow\tint\n",
       "\thate\tint\n",
       "\n",
       "Rows: 183531\n",
       "\n",
       "Data:\n",
       "+-------------------------------+-------------------------------+--------+\n",
       "|              name             |             review            | rating |\n",
       "+-------------------------------+-------------------------------+--------+\n",
       "|    Planetwise Flannel Wipes   | These flannel wipes are OK... |  3.0   |\n",
       "|     Planetwise Wipe Pouch     | it came early and was not ... |  5.0   |\n",
       "| Annas Dream Full Quilt wit... | Very soft and comfortable ... |  5.0   |\n",
       "| Stop Pacifier Sucking with... | This is a product well wor... |  5.0   |\n",
       "| Stop Pacifier Sucking with... | All of my kids have cried ... |  5.0   |\n",
       "| Stop Pacifier Sucking with... | When the Binky Fairy came ... |  5.0   |\n",
       "| A Tale of Baby's Days with... | Lovely book, it's bound ti... |  4.0   |\n",
       "| Baby Tracker&reg; - Daily ... | Perfect for new parents. W... |  5.0   |\n",
       "| Baby Tracker&reg; - Daily ... | A friend of mine pinned th... |  5.0   |\n",
       "| Baby Tracker&reg; - Daily ... | This has been an easy way ... |  4.0   |\n",
       "+-------------------------------+-------------------------------+--------+\n",
       "+-------------------------------+---------+-------+-----------+---------+------+\n",
       "|           word_count          | awesome | great | fantastic | amazing | love |\n",
       "+-------------------------------+---------+-------+-----------+---------+------+\n",
       "| {'and': 5, 'stink': 1, 'be... |    0    |   0   |     0     |    0    |  0   |\n",
       "| {'and': 3, 'love': 1, 'it'... |    0    |   0   |     0     |    0    |  1   |\n",
       "| {'and': 2, 'quilt': 1, 'it... |    0    |   0   |     0     |    0    |  0   |\n",
       "| {'ingenious': 1, 'and': 3,... |    0    |   0   |     0     |    0    |  2   |\n",
       "| {'and': 2, 'parents!!': 1,... |    0    |   1   |     1     |    0    |  0   |\n",
       "| {'and': 2, 'cute': 1, 'hel... |    0    |   1   |     1     |    0    |  0   |\n",
       "| {'shop': 1, 'be': 1, 'is':... |    0    |   0   |     0     |    0    |  0   |\n",
       "| {'feeding,': 1, 'and': 2, ... |    0    |   0   |     0     |    0    |  0   |\n",
       "| {'and': 1, 'help': 1, 'giv... |    0    |   0   |     0     |    0    |  0   |\n",
       "| {'journal.': 1, 'all': 1, ... |    0    |   0   |     0     |    0    |  0   |\n",
       "+-------------------------------+---------+-------+-----------+---------+------+\n",
       "+----------+-----+----------+-------+-----+------+\n",
       "| horrible | bad | terrible | awful | wow | hate |\n",
       "+----------+-----+----------+-------+-----+------+\n",
       "|    0     |  0  |    0     |   0   |  0  |  0   |\n",
       "|    0     |  0  |    0     |   0   |  0  |  0   |\n",
       "|    0     |  0  |    0     |   0   |  0  |  0   |\n",
       "|    0     |  0  |    0     |   0   |  0  |  0   |\n",
       "|    0     |  0  |    0     |   0   |  0  |  0   |\n",
       "|    0     |  0  |    0     |   0   |  0  |  0   |\n",
       "|    0     |  0  |    0     |   0   |  0  |  0   |\n",
       "|    0     |  0  |    0     |   0   |  0  |  0   |\n",
       "|    0     |  0  |    0     |   0   |  0  |  0   |\n",
       "|    0     |  0  |    0     |   0   |  0  |  0   |\n",
       "+----------+-----+----------+-------+-----+------+\n",
       "[183531 rows x 15 columns]\n",
       "Note: Only the head of the SFrame is printed.\n",
       "You can use print_rows(num_rows=m, num_columns=n) to print more rows and columns."
      ]
     },
     "execution_count": 76,
     "metadata": {},
     "output_type": "execute_result"
    }
   ],
   "source": [
    "products"
   ]
  },
  {
   "cell_type": "code",
   "execution_count": 75,
   "metadata": {
    "collapsed": false
   },
   "outputs": [
    {
     "name": "stdout",
     "output_type": "stream",
     "text": [
      "+-------------------------------+-------------------------------+--------+\n",
      "|              name             |             review            | rating |\n",
      "+-------------------------------+-------------------------------+--------+\n",
      "|    Planetwise Flannel Wipes   | These flannel wipes are OK... |  3.0   |\n",
      "|     Planetwise Wipe Pouch     | it came early and was not ... |  5.0   |\n",
      "| Annas Dream Full Quilt wit... | Very soft and comfortable ... |  5.0   |\n",
      "| Stop Pacifier Sucking with... | This is a product well wor... |  5.0   |\n",
      "| Stop Pacifier Sucking with... | All of my kids have cried ... |  5.0   |\n",
      "| Stop Pacifier Sucking with... | When the Binky Fairy came ... |  5.0   |\n",
      "| A Tale of Baby's Days with... | Lovely book, it's bound ti... |  4.0   |\n",
      "| Baby Tracker&reg; - Daily ... | Perfect for new parents. W... |  5.0   |\n",
      "| Baby Tracker&reg; - Daily ... | A friend of mine pinned th... |  5.0   |\n",
      "| Baby Tracker&reg; - Daily ... | This has been an easy way ... |  4.0   |\n",
      "+-------------------------------+-------------------------------+--------+\n",
      "+-------------------------------+---------+-------+-----------+---------+------+\n",
      "|           word_count          | awesome | great | fantastic | amazing | love |\n",
      "+-------------------------------+---------+-------+-----------+---------+------+\n",
      "| {'and': 5, 'stink': 1, 'be... |    0    |   0   |     0     |    0    |  0   |\n",
      "| {'and': 3, 'love': 1, 'it'... |    0    |   0   |     0     |    0    |  1   |\n",
      "| {'and': 2, 'quilt': 1, 'it... |    0    |   0   |     0     |    0    |  0   |\n",
      "| {'ingenious': 1, 'and': 3,... |    0    |   0   |     0     |    0    |  2   |\n",
      "| {'and': 2, 'parents!!': 1,... |    0    |   1   |     1     |    0    |  0   |\n",
      "| {'and': 2, 'cute': 1, 'hel... |    0    |   1   |     1     |    0    |  0   |\n",
      "| {'shop': 1, 'be': 1, 'is':... |    0    |   0   |     0     |    0    |  0   |\n",
      "| {'feeding,': 1, 'and': 2, ... |    0    |   0   |     0     |    0    |  0   |\n",
      "| {'and': 1, 'help': 1, 'giv... |    0    |   0   |     0     |    0    |  0   |\n",
      "| {'journal.': 1, 'all': 1, ... |    0    |   0   |     0     |    0    |  0   |\n",
      "+-------------------------------+---------+-------+-----------+---------+------+\n",
      "+----------+-----+----------+-------+-----+------+\n",
      "| horrible | bad | terrible | awful | wow | hate |\n",
      "+----------+-----+----------+-------+-----+------+\n",
      "|    0     |  0  |    0     |   0   |  0  |  0   |\n",
      "|    0     |  0  |    0     |   0   |  0  |  0   |\n",
      "|    0     |  0  |    0     |   0   |  0  |  0   |\n",
      "|    0     |  0  |    0     |   0   |  0  |  0   |\n",
      "|    0     |  0  |    0     |   0   |  0  |  0   |\n",
      "|    0     |  0  |    0     |   0   |  0  |  0   |\n",
      "|    0     |  0  |    0     |   0   |  0  |  0   |\n",
      "|    0     |  0  |    0     |   0   |  0  |  0   |\n",
      "|    0     |  0  |    0     |   0   |  0  |  0   |\n",
      "|    0     |  0  |    0     |   0   |  0  |  0   |\n",
      "+----------+-----+----------+-------+-----+------+\n",
      "[183531 rows x 15 columns]\n",
      "Note: Only the head of the SFrame is printed.\n",
      "You can use print_rows(num_rows=m, num_columns=n) to print more rows and columns.\n"
     ]
    }
   ],
   "source": [
    "for i in xrange(selected_words):\n",
    "    print selected_words[i]\n",
    "    print products[selected_words[i]]"
   ]
  },
  {
   "cell_type": "code",
   "execution_count": null,
   "metadata": {
    "collapsed": true
   },
   "outputs": [],
   "source": []
  },
  {
   "cell_type": "markdown",
   "metadata": {},
   "source": [
    "## Build a new sentiment analysis model using selected_words"
   ]
  },
  {
   "cell_type": "code",
   "execution_count": 210,
   "metadata": {
    "collapsed": false
   },
   "outputs": [
    {
     "ename": "ToolkitError",
     "evalue": "The following columns were expected but are missing: ['great', 'love', 'hate', 'awesome', 'fantastic', 'terrible', 'bad', 'horrible', 'awful', 'amazing', 'wow']",
     "output_type": "error",
     "traceback": [
      "\u001b[1;31m---------------------------------------------------------------------------\u001b[0m",
      "\u001b[1;31mToolkitError\u001b[0m                              Traceback (most recent call last)",
      "\u001b[1;32m<ipython-input-210-7b16ac6d74cf>\u001b[0m in \u001b[0;36m<module>\u001b[1;34m()\u001b[0m\n\u001b[0;32m      2\u001b[0m                                                      \u001b[0mtarget\u001b[0m\u001b[1;33m=\u001b[0m\u001b[1;34m'sentiment'\u001b[0m\u001b[1;33m,\u001b[0m\u001b[1;33m\u001b[0m\u001b[0m\n\u001b[0;32m      3\u001b[0m                                                      \u001b[0mfeatures\u001b[0m\u001b[1;33m=\u001b[0m\u001b[0mselected_words\u001b[0m\u001b[1;33m,\u001b[0m\u001b[1;33m\u001b[0m\u001b[0m\n\u001b[1;32m----> 4\u001b[1;33m                                                      validation_set=test_data)\n\u001b[0m",
      "\u001b[1;32m/home/zax/anaconda/lib/python2.7/site-packages/graphlab/toolkits/classifier/logistic_classifier.pyc\u001b[0m in \u001b[0;36mcreate\u001b[1;34m(dataset, target, features, l2_penalty, l1_penalty, solver, feature_rescaling, convergence_threshold, step_size, lbfgs_memory_level, max_iterations, class_weights, validation_set, verbose)\u001b[0m\n\u001b[0;32m    295\u001b[0m                         \u001b[0mlbfgs_memory_level\u001b[0m \u001b[1;33m=\u001b[0m \u001b[0mlbfgs_memory_level\u001b[0m\u001b[1;33m,\u001b[0m\u001b[1;33m\u001b[0m\u001b[0m\n\u001b[0;32m    296\u001b[0m                         \u001b[0mmax_iterations\u001b[0m \u001b[1;33m=\u001b[0m \u001b[0mmax_iterations\u001b[0m\u001b[1;33m,\u001b[0m\u001b[1;33m\u001b[0m\u001b[0m\n\u001b[1;32m--> 297\u001b[1;33m                         class_weights = class_weights)\n\u001b[0m\u001b[0;32m    298\u001b[0m \u001b[1;33m\u001b[0m\u001b[0m\n\u001b[0;32m    299\u001b[0m     \u001b[1;32mreturn\u001b[0m \u001b[0mLogisticClassifier\u001b[0m\u001b[1;33m(\u001b[0m\u001b[0mmodel\u001b[0m\u001b[1;33m.\u001b[0m\u001b[0m__proxy__\u001b[0m\u001b[1;33m)\u001b[0m\u001b[1;33m\u001b[0m\u001b[0m\n",
      "\u001b[1;32m/home/zax/anaconda/lib/python2.7/site-packages/graphlab/toolkits/_supervised_learning.pyc\u001b[0m in \u001b[0;36mcreate\u001b[1;34m(dataset, target, model_name, features, validation_set, verbose, distributed, **kwargs)\u001b[0m\n\u001b[0;32m    420\u001b[0m     \u001b[1;32mif\u001b[0m \u001b[1;32mnot\u001b[0m \u001b[0mall\u001b[0m\u001b[1;33m(\u001b[0m\u001b[1;33m[\u001b[0m\u001b[0misinstance\u001b[0m\u001b[1;33m(\u001b[0m\u001b[0mx\u001b[0m\u001b[1;33m,\u001b[0m \u001b[0mstr\u001b[0m\u001b[1;33m)\u001b[0m \u001b[1;32mfor\u001b[0m \u001b[0mx\u001b[0m \u001b[1;32min\u001b[0m \u001b[0mfeatures\u001b[0m\u001b[1;33m]\u001b[0m\u001b[1;33m)\u001b[0m\u001b[1;33m:\u001b[0m\u001b[1;33m\u001b[0m\u001b[0m\n\u001b[0;32m    421\u001b[0m         \u001b[1;32mraise\u001b[0m \u001b[0mTypeError\u001b[0m\u001b[1;33m(\u001b[0m\u001b[1;34m\"Invalid feature %s: Feature names must be of type str\"\u001b[0m \u001b[1;33m%\u001b[0m \u001b[0mx\u001b[0m\u001b[1;33m)\u001b[0m\u001b[1;33m\u001b[0m\u001b[0m\n\u001b[1;32m--> 422\u001b[1;33m     \u001b[0mfeatures_sframe\u001b[0m \u001b[1;33m=\u001b[0m \u001b[0m_toolkits_select_columns\u001b[0m\u001b[1;33m(\u001b[0m\u001b[0mdataset\u001b[0m\u001b[1;33m,\u001b[0m \u001b[0mfeatures\u001b[0m\u001b[1;33m)\u001b[0m\u001b[1;33m\u001b[0m\u001b[0m\n\u001b[0m\u001b[0;32m    423\u001b[0m \u001b[1;33m\u001b[0m\u001b[0m\n\u001b[0;32m    424\u001b[0m \u001b[1;33m\u001b[0m\u001b[0m\n",
      "\u001b[1;32m/home/zax/anaconda/lib/python2.7/site-packages/graphlab/toolkits/_internal_utils.pyc\u001b[0m in \u001b[0;36m_toolkits_select_columns\u001b[1;34m(dataset, columns)\u001b[0m\n\u001b[0;32m    301\u001b[0m         \u001b[0mmissing_features\u001b[0m \u001b[1;33m=\u001b[0m \u001b[0mlist\u001b[0m\u001b[1;33m(\u001b[0m\u001b[0mset\u001b[0m\u001b[1;33m(\u001b[0m\u001b[0mcolumns\u001b[0m\u001b[1;33m)\u001b[0m\u001b[1;33m.\u001b[0m\u001b[0mdifference\u001b[0m\u001b[1;33m(\u001b[0m\u001b[0mset\u001b[0m\u001b[1;33m(\u001b[0m\u001b[0mdataset\u001b[0m\u001b[1;33m.\u001b[0m\u001b[0mcolumn_names\u001b[0m\u001b[1;33m(\u001b[0m\u001b[1;33m)\u001b[0m\u001b[1;33m)\u001b[0m\u001b[1;33m)\u001b[0m\u001b[1;33m)\u001b[0m\u001b[1;33m\u001b[0m\u001b[0m\n\u001b[0;32m    302\u001b[0m         raise ToolkitError(\"The following columns were expected but are \" +\n\u001b[1;32m--> 303\u001b[1;33m                            \"missing: {}\".format(missing_features))\n\u001b[0m\u001b[0;32m    304\u001b[0m \u001b[1;33m\u001b[0m\u001b[0m\n\u001b[0;32m    305\u001b[0m def _raise_error_if_column_exists(dataset, column_name = 'dataset',\n",
      "\u001b[1;31mToolkitError\u001b[0m: The following columns were expected but are missing: ['great', 'love', 'hate', 'awesome', 'fantastic', 'terrible', 'bad', 'horrible', 'awful', 'amazing', 'wow']"
     ]
    }
   ],
   "source": [
    "selected_words_model = graphlab.logistic_classifier.create(train_data,\n",
    "                                                     target='sentiment',\n",
    "                                                     features=selected_words,\n",
    "                                                     validation_set=test_data)"
   ]
  },
  {
   "cell_type": "code",
   "execution_count": null,
   "metadata": {
    "collapsed": true
   },
   "outputs": [],
   "source": []
  }
 ],
 "metadata": {
  "kernelspec": {
   "display_name": "Python 2",
   "language": "python",
   "name": "python2"
  },
  "language_info": {
   "codemirror_mode": {
    "name": "ipython",
    "version": 2
   },
   "file_extension": ".py",
   "mimetype": "text/x-python",
   "name": "python",
   "nbconvert_exporter": "python",
   "pygments_lexer": "ipython2",
   "version": "2.7.10"
  }
 },
 "nbformat": 4,
 "nbformat_minor": 0
}
