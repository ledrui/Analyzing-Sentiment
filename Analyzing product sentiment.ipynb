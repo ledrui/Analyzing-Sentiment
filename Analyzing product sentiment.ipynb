{
 "cells": [
  {
   "cell_type": "markdown",
   "metadata": {},
   "source": [
    "#Predicting sentiment from product reviews\n",
    "\n",
    "#Fire up GraphLab Create"
   ]
  },
  {
   "cell_type": "code",
   "execution_count": 1,
   "metadata": {
    "collapsed": true
   },
   "outputs": [],
   "source": [
    "import graphlab"
   ]
  },
  {
   "cell_type": "markdown",
   "metadata": {},
   "source": [
    "#Read some product review data\n",
    "\n",
    "Loading reviews for a set of baby products. "
   ]
  },
  {
   "cell_type": "code",
   "execution_count": 2,
   "metadata": {
    "collapsed": false
   },
   "outputs": [
    {
     "name": "stderr",
     "output_type": "stream",
     "text": [
      "[INFO] This non-commercial license of GraphLab Create is assigned to iliassweb@gmail.comand will expire on September 22, 2016. For commercial licensing options, visit https://dato.com/buy/.\n",
      "\n",
      "[INFO] Start server at: ipc:///tmp/graphlab_server-6015 - Server binary: /home/zax/anaconda/lib/python2.7/site-packages/graphlab/unity_server - Server log: /tmp/graphlab_server_1444063530.log\n",
      "[INFO] GraphLab Server Version: 1.6.1\n"
     ]
    }
   ],
   "source": [
    "products = graphlab.SFrame('amazon_baby.gl/')"
   ]
  },
  {
   "cell_type": "markdown",
   "metadata": {},
   "source": [
    "#Let's explore this data together\n",
    "\n",
    "Data includes the product name, the review text and the rating of the review. "
   ]
  },
  {
   "cell_type": "code",
   "execution_count": 3,
   "metadata": {
    "collapsed": false
   },
   "outputs": [
    {
     "data": {
      "text/html": [
       "<div style=\"max-height:1000px;max-width:1500px;overflow:auto;\"><table frame=\"box\" rules=\"cols\">\n",
       "    <tr>\n",
       "        <th style=\"padding-left: 1em; padding-right: 1em; text-align: center\">name</th>\n",
       "        <th style=\"padding-left: 1em; padding-right: 1em; text-align: center\">review</th>\n",
       "        <th style=\"padding-left: 1em; padding-right: 1em; text-align: center\">rating</th>\n",
       "    </tr>\n",
       "    <tr>\n",
       "        <td style=\"padding-left: 1em; padding-right: 1em; text-align: center; vertical-align: top\">Planetwise Flannel Wipes</td>\n",
       "        <td style=\"padding-left: 1em; padding-right: 1em; text-align: center; vertical-align: top\">These flannel wipes are<br>OK, but in my opinion ...</td>\n",
       "        <td style=\"padding-left: 1em; padding-right: 1em; text-align: center; vertical-align: top\">3.0</td>\n",
       "    </tr>\n",
       "    <tr>\n",
       "        <td style=\"padding-left: 1em; padding-right: 1em; text-align: center; vertical-align: top\">Planetwise Wipe Pouch</td>\n",
       "        <td style=\"padding-left: 1em; padding-right: 1em; text-align: center; vertical-align: top\">it came early and was not<br>disappointed. i love ...</td>\n",
       "        <td style=\"padding-left: 1em; padding-right: 1em; text-align: center; vertical-align: top\">5.0</td>\n",
       "    </tr>\n",
       "    <tr>\n",
       "        <td style=\"padding-left: 1em; padding-right: 1em; text-align: center; vertical-align: top\">Annas Dream Full Quilt<br>with 2 Shams ...</td>\n",
       "        <td style=\"padding-left: 1em; padding-right: 1em; text-align: center; vertical-align: top\">Very soft and comfortable<br>and warmer than it ...</td>\n",
       "        <td style=\"padding-left: 1em; padding-right: 1em; text-align: center; vertical-align: top\">5.0</td>\n",
       "    </tr>\n",
       "    <tr>\n",
       "        <td style=\"padding-left: 1em; padding-right: 1em; text-align: center; vertical-align: top\">Stop Pacifier Sucking<br>without tears with ...</td>\n",
       "        <td style=\"padding-left: 1em; padding-right: 1em; text-align: center; vertical-align: top\">This is a product well<br>worth the purchase.  I ...</td>\n",
       "        <td style=\"padding-left: 1em; padding-right: 1em; text-align: center; vertical-align: top\">5.0</td>\n",
       "    </tr>\n",
       "    <tr>\n",
       "        <td style=\"padding-left: 1em; padding-right: 1em; text-align: center; vertical-align: top\">Stop Pacifier Sucking<br>without tears with ...</td>\n",
       "        <td style=\"padding-left: 1em; padding-right: 1em; text-align: center; vertical-align: top\">All of my kids have cried<br>non-stop when I tried to ...</td>\n",
       "        <td style=\"padding-left: 1em; padding-right: 1em; text-align: center; vertical-align: top\">5.0</td>\n",
       "    </tr>\n",
       "    <tr>\n",
       "        <td style=\"padding-left: 1em; padding-right: 1em; text-align: center; vertical-align: top\">Stop Pacifier Sucking<br>without tears with ...</td>\n",
       "        <td style=\"padding-left: 1em; padding-right: 1em; text-align: center; vertical-align: top\">When the Binky Fairy came<br>to our house, we didn't ...</td>\n",
       "        <td style=\"padding-left: 1em; padding-right: 1em; text-align: center; vertical-align: top\">5.0</td>\n",
       "    </tr>\n",
       "    <tr>\n",
       "        <td style=\"padding-left: 1em; padding-right: 1em; text-align: center; vertical-align: top\">A Tale of Baby's Days<br>with Peter Rabbit ...</td>\n",
       "        <td style=\"padding-left: 1em; padding-right: 1em; text-align: center; vertical-align: top\">Lovely book, it's bound<br>tightly so you may no ...</td>\n",
       "        <td style=\"padding-left: 1em; padding-right: 1em; text-align: center; vertical-align: top\">4.0</td>\n",
       "    </tr>\n",
       "    <tr>\n",
       "        <td style=\"padding-left: 1em; padding-right: 1em; text-align: center; vertical-align: top\">Baby Tracker&amp;reg; - Daily<br>Childcare Journal, ...</td>\n",
       "        <td style=\"padding-left: 1em; padding-right: 1em; text-align: center; vertical-align: top\">Perfect for new parents.<br>We were able to keep ...</td>\n",
       "        <td style=\"padding-left: 1em; padding-right: 1em; text-align: center; vertical-align: top\">5.0</td>\n",
       "    </tr>\n",
       "    <tr>\n",
       "        <td style=\"padding-left: 1em; padding-right: 1em; text-align: center; vertical-align: top\">Baby Tracker&amp;reg; - Daily<br>Childcare Journal, ...</td>\n",
       "        <td style=\"padding-left: 1em; padding-right: 1em; text-align: center; vertical-align: top\">A friend of mine pinned<br>this product on Pinte ...</td>\n",
       "        <td style=\"padding-left: 1em; padding-right: 1em; text-align: center; vertical-align: top\">5.0</td>\n",
       "    </tr>\n",
       "    <tr>\n",
       "        <td style=\"padding-left: 1em; padding-right: 1em; text-align: center; vertical-align: top\">Baby Tracker&amp;reg; - Daily<br>Childcare Journal, ...</td>\n",
       "        <td style=\"padding-left: 1em; padding-right: 1em; text-align: center; vertical-align: top\">This has been an easy way<br>for my nanny to record ...</td>\n",
       "        <td style=\"padding-left: 1em; padding-right: 1em; text-align: center; vertical-align: top\">4.0</td>\n",
       "    </tr>\n",
       "</table>\n",
       "[10 rows x 3 columns]<br/>\n",
       "</div>"
      ],
      "text/plain": [
       "Columns:\n",
       "\tname\tstr\n",
       "\treview\tstr\n",
       "\trating\tfloat\n",
       "\n",
       "Rows: 10\n",
       "\n",
       "Data:\n",
       "+-------------------------------+-------------------------------+--------+\n",
       "|              name             |             review            | rating |\n",
       "+-------------------------------+-------------------------------+--------+\n",
       "|    Planetwise Flannel Wipes   | These flannel wipes are OK... |  3.0   |\n",
       "|     Planetwise Wipe Pouch     | it came early and was not ... |  5.0   |\n",
       "| Annas Dream Full Quilt wit... | Very soft and comfortable ... |  5.0   |\n",
       "| Stop Pacifier Sucking with... | This is a product well wor... |  5.0   |\n",
       "| Stop Pacifier Sucking with... | All of my kids have cried ... |  5.0   |\n",
       "| Stop Pacifier Sucking with... | When the Binky Fairy came ... |  5.0   |\n",
       "| A Tale of Baby's Days with... | Lovely book, it's bound ti... |  4.0   |\n",
       "| Baby Tracker&reg; - Daily ... | Perfect for new parents. W... |  5.0   |\n",
       "| Baby Tracker&reg; - Daily ... | A friend of mine pinned th... |  5.0   |\n",
       "| Baby Tracker&reg; - Daily ... | This has been an easy way ... |  4.0   |\n",
       "+-------------------------------+-------------------------------+--------+\n",
       "[10 rows x 3 columns]"
      ]
     },
     "execution_count": 3,
     "metadata": {},
     "output_type": "execute_result"
    }
   ],
   "source": [
    "products.head()"
   ]
  },
  {
   "cell_type": "markdown",
   "metadata": {},
   "source": [
    "#Build the word count vector for each review"
   ]
  },
  {
   "cell_type": "code",
   "execution_count": 4,
   "metadata": {
    "collapsed": false
   },
   "outputs": [],
   "source": [
    "products['word_count'] = graphlab.text_analytics.count_words(products['review'])\n",
    "\n",
    "#products['ngram_count'] = graphlab.text_analytics.count_ngrams(products['review'])"
   ]
  },
  {
   "cell_type": "code",
   "execution_count": 5,
   "metadata": {
    "collapsed": false
   },
   "outputs": [
    {
     "data": {
      "text/html": [
       "<div style=\"max-height:1000px;max-width:1500px;overflow:auto;\"><table frame=\"box\" rules=\"cols\">\n",
       "    <tr>\n",
       "        <th style=\"padding-left: 1em; padding-right: 1em; text-align: center\">name</th>\n",
       "        <th style=\"padding-left: 1em; padding-right: 1em; text-align: center\">review</th>\n",
       "        <th style=\"padding-left: 1em; padding-right: 1em; text-align: center\">rating</th>\n",
       "        <th style=\"padding-left: 1em; padding-right: 1em; text-align: center\">word_count</th>\n",
       "    </tr>\n",
       "    <tr>\n",
       "        <td style=\"padding-left: 1em; padding-right: 1em; text-align: center; vertical-align: top\">Planetwise Flannel Wipes</td>\n",
       "        <td style=\"padding-left: 1em; padding-right: 1em; text-align: center; vertical-align: top\">These flannel wipes are<br>OK, but in my opinion ...</td>\n",
       "        <td style=\"padding-left: 1em; padding-right: 1em; text-align: center; vertical-align: top\">3.0</td>\n",
       "        <td style=\"padding-left: 1em; padding-right: 1em; text-align: center; vertical-align: top\">{'and': 5, 'stink': 1,<br>'because': 1, 'ordered': ...</td>\n",
       "    </tr>\n",
       "    <tr>\n",
       "        <td style=\"padding-left: 1em; padding-right: 1em; text-align: center; vertical-align: top\">Planetwise Wipe Pouch</td>\n",
       "        <td style=\"padding-left: 1em; padding-right: 1em; text-align: center; vertical-align: top\">it came early and was not<br>disappointed. i love ...</td>\n",
       "        <td style=\"padding-left: 1em; padding-right: 1em; text-align: center; vertical-align: top\">5.0</td>\n",
       "        <td style=\"padding-left: 1em; padding-right: 1em; text-align: center; vertical-align: top\">{'and': 3, 'love': 1,<br>'it': 2, 'highly': 1, ...</td>\n",
       "    </tr>\n",
       "    <tr>\n",
       "        <td style=\"padding-left: 1em; padding-right: 1em; text-align: center; vertical-align: top\">Annas Dream Full Quilt<br>with 2 Shams ...</td>\n",
       "        <td style=\"padding-left: 1em; padding-right: 1em; text-align: center; vertical-align: top\">Very soft and comfortable<br>and warmer than it ...</td>\n",
       "        <td style=\"padding-left: 1em; padding-right: 1em; text-align: center; vertical-align: top\">5.0</td>\n",
       "        <td style=\"padding-left: 1em; padding-right: 1em; text-align: center; vertical-align: top\">{'and': 2, 'quilt': 1,<br>'it': 1, 'comfortable': ...</td>\n",
       "    </tr>\n",
       "    <tr>\n",
       "        <td style=\"padding-left: 1em; padding-right: 1em; text-align: center; vertical-align: top\">Stop Pacifier Sucking<br>without tears with ...</td>\n",
       "        <td style=\"padding-left: 1em; padding-right: 1em; text-align: center; vertical-align: top\">This is a product well<br>worth the purchase.  I ...</td>\n",
       "        <td style=\"padding-left: 1em; padding-right: 1em; text-align: center; vertical-align: top\">5.0</td>\n",
       "        <td style=\"padding-left: 1em; padding-right: 1em; text-align: center; vertical-align: top\">{'ingenious': 1, 'and':<br>3, 'love': 2, ...</td>\n",
       "    </tr>\n",
       "    <tr>\n",
       "        <td style=\"padding-left: 1em; padding-right: 1em; text-align: center; vertical-align: top\">Stop Pacifier Sucking<br>without tears with ...</td>\n",
       "        <td style=\"padding-left: 1em; padding-right: 1em; text-align: center; vertical-align: top\">All of my kids have cried<br>non-stop when I tried to ...</td>\n",
       "        <td style=\"padding-left: 1em; padding-right: 1em; text-align: center; vertical-align: top\">5.0</td>\n",
       "        <td style=\"padding-left: 1em; padding-right: 1em; text-align: center; vertical-align: top\">{'and': 2, 'parents!!':<br>1, 'all': 2, 'puppet.': ...</td>\n",
       "    </tr>\n",
       "    <tr>\n",
       "        <td style=\"padding-left: 1em; padding-right: 1em; text-align: center; vertical-align: top\">Stop Pacifier Sucking<br>without tears with ...</td>\n",
       "        <td style=\"padding-left: 1em; padding-right: 1em; text-align: center; vertical-align: top\">When the Binky Fairy came<br>to our house, we didn't ...</td>\n",
       "        <td style=\"padding-left: 1em; padding-right: 1em; text-align: center; vertical-align: top\">5.0</td>\n",
       "        <td style=\"padding-left: 1em; padding-right: 1em; text-align: center; vertical-align: top\">{'and': 2, 'cute': 1,<br>'help': 2, 'doll': 1, ...</td>\n",
       "    </tr>\n",
       "    <tr>\n",
       "        <td style=\"padding-left: 1em; padding-right: 1em; text-align: center; vertical-align: top\">A Tale of Baby's Days<br>with Peter Rabbit ...</td>\n",
       "        <td style=\"padding-left: 1em; padding-right: 1em; text-align: center; vertical-align: top\">Lovely book, it's bound<br>tightly so you may no ...</td>\n",
       "        <td style=\"padding-left: 1em; padding-right: 1em; text-align: center; vertical-align: top\">4.0</td>\n",
       "        <td style=\"padding-left: 1em; padding-right: 1em; text-align: center; vertical-align: top\">{'shop': 1, 'be': 1,<br>'is': 1, 'it': 1, 'as': ...</td>\n",
       "    </tr>\n",
       "    <tr>\n",
       "        <td style=\"padding-left: 1em; padding-right: 1em; text-align: center; vertical-align: top\">Baby Tracker&amp;reg; - Daily<br>Childcare Journal, ...</td>\n",
       "        <td style=\"padding-left: 1em; padding-right: 1em; text-align: center; vertical-align: top\">Perfect for new parents.<br>We were able to keep ...</td>\n",
       "        <td style=\"padding-left: 1em; padding-right: 1em; text-align: center; vertical-align: top\">5.0</td>\n",
       "        <td style=\"padding-left: 1em; padding-right: 1em; text-align: center; vertical-align: top\">{'feeding,': 1, 'and': 2,<br>'all': 1, 'right': 1, ...</td>\n",
       "    </tr>\n",
       "    <tr>\n",
       "        <td style=\"padding-left: 1em; padding-right: 1em; text-align: center; vertical-align: top\">Baby Tracker&amp;reg; - Daily<br>Childcare Journal, ...</td>\n",
       "        <td style=\"padding-left: 1em; padding-right: 1em; text-align: center; vertical-align: top\">A friend of mine pinned<br>this product on Pinte ...</td>\n",
       "        <td style=\"padding-left: 1em; padding-right: 1em; text-align: center; vertical-align: top\">5.0</td>\n",
       "        <td style=\"padding-left: 1em; padding-right: 1em; text-align: center; vertical-align: top\">{'and': 1, 'help': 1,<br>'give': 1, 'is': 1, ...</td>\n",
       "    </tr>\n",
       "    <tr>\n",
       "        <td style=\"padding-left: 1em; padding-right: 1em; text-align: center; vertical-align: top\">Baby Tracker&amp;reg; - Daily<br>Childcare Journal, ...</td>\n",
       "        <td style=\"padding-left: 1em; padding-right: 1em; text-align: center; vertical-align: top\">This has been an easy way<br>for my nanny to record ...</td>\n",
       "        <td style=\"padding-left: 1em; padding-right: 1em; text-align: center; vertical-align: top\">4.0</td>\n",
       "        <td style=\"padding-left: 1em; padding-right: 1em; text-align: center; vertical-align: top\">{'journal.': 1, 'all': 1,<br>'standarad': 1, ...</td>\n",
       "    </tr>\n",
       "</table>\n",
       "[10 rows x 4 columns]<br/>\n",
       "</div>"
      ],
      "text/plain": [
       "Columns:\n",
       "\tname\tstr\n",
       "\treview\tstr\n",
       "\trating\tfloat\n",
       "\tword_count\tdict\n",
       "\n",
       "Rows: 10\n",
       "\n",
       "Data:\n",
       "+-------------------------------+-------------------------------+--------+\n",
       "|              name             |             review            | rating |\n",
       "+-------------------------------+-------------------------------+--------+\n",
       "|    Planetwise Flannel Wipes   | These flannel wipes are OK... |  3.0   |\n",
       "|     Planetwise Wipe Pouch     | it came early and was not ... |  5.0   |\n",
       "| Annas Dream Full Quilt wit... | Very soft and comfortable ... |  5.0   |\n",
       "| Stop Pacifier Sucking with... | This is a product well wor... |  5.0   |\n",
       "| Stop Pacifier Sucking with... | All of my kids have cried ... |  5.0   |\n",
       "| Stop Pacifier Sucking with... | When the Binky Fairy came ... |  5.0   |\n",
       "| A Tale of Baby's Days with... | Lovely book, it's bound ti... |  4.0   |\n",
       "| Baby Tracker&reg; - Daily ... | Perfect for new parents. W... |  5.0   |\n",
       "| Baby Tracker&reg; - Daily ... | A friend of mine pinned th... |  5.0   |\n",
       "| Baby Tracker&reg; - Daily ... | This has been an easy way ... |  4.0   |\n",
       "+-------------------------------+-------------------------------+--------+\n",
       "+-------------------------------+\n",
       "|           word_count          |\n",
       "+-------------------------------+\n",
       "| {'and': 5, 'stink': 1, 'be... |\n",
       "| {'and': 3, 'love': 1, 'it'... |\n",
       "| {'and': 2, 'quilt': 1, 'it... |\n",
       "| {'ingenious': 1, 'and': 3,... |\n",
       "| {'and': 2, 'parents!!': 1,... |\n",
       "| {'and': 2, 'cute': 1, 'hel... |\n",
       "| {'shop': 1, 'be': 1, 'is':... |\n",
       "| {'feeding,': 1, 'and': 2, ... |\n",
       "| {'and': 1, 'help': 1, 'giv... |\n",
       "| {'journal.': 1, 'all': 1, ... |\n",
       "+-------------------------------+\n",
       "[10 rows x 4 columns]"
      ]
     },
     "execution_count": 5,
     "metadata": {},
     "output_type": "execute_result"
    }
   ],
   "source": [
    "products.head()"
   ]
  },
  {
   "cell_type": "code",
   "execution_count": 6,
   "metadata": {
    "collapsed": false
   },
   "outputs": [],
   "source": [
    "graphlab.canvas.set_target('ipynb')"
   ]
  },
  {
   "cell_type": "code",
   "execution_count": 8,
   "metadata": {
    "collapsed": false
   },
   "outputs": [
    {
     "data": {
      "application/javascript": [
       "$(\"head\").append($(\"<link/>\").attr({\n",
       "  rel:  \"stylesheet\",\n",
       "  type: \"text/css\",\n",
       "  href: \"//cdnjs.cloudflare.com/ajax/libs/font-awesome/4.1.0/css/font-awesome.min.css\"\n",
       "}));\n",
       "$(\"head\").append($(\"<link/>\").attr({\n",
       "  rel:  \"stylesheet\",\n",
       "  type: \"text/css\",\n",
       "  href: \"//dato.com/files/canvas/1.6.1/css/canvas.css\"\n",
       "}));\n",
       "\n",
       "            (function(){\n",
       "\n",
       "                var e = null;\n",
       "                if (typeof element == 'undefined') {\n",
       "                    var scripts = document.getElementsByTagName('script');\n",
       "                    var thisScriptTag = scripts[scripts.length-1];\n",
       "                    var parentDiv = thisScriptTag.parentNode;\n",
       "                    e = document.createElement('div');\n",
       "                    parentDiv.appendChild(e);\n",
       "                } else {\n",
       "                    e = element[0];\n",
       "                }\n",
       "\n",
       "                if (typeof requirejs !== 'undefined') {\n",
       "                    // disable load timeout; ipython_app.js is large and can take a while to load.\n",
       "                    requirejs.config({waitSeconds: 0});\n",
       "                }\n",
       "\n",
       "                require(['//dato.com/files/canvas/1.6.1/js/ipython_app.js'], function(IPythonApp){\n",
       "                    var app = new IPythonApp();\n",
       "                    app.attachView('sarray','Numeric', {\"ipython\": true, \"sketch\": {\"std\": 1.2850135559617413, \"complete\": true, \"min\": 1.0, \"max\": 5.0, \"quantile\": [1.0, 1.0, 1.0, 1.0, 1.0, 1.0, 1.0, 1.0, 1.0, 2.0, 2.0, 2.0, 2.0, 2.0, 2.0, 3.0, 3.0, 3.0, 3.0, 3.0, 3.0, 3.0, 3.0, 3.0, 4.0, 4.0, 4.0, 4.0, 4.0, 4.0, 4.0, 4.0, 4.0, 4.0, 4.0, 4.0, 4.0, 4.0, 4.0, 4.0, 4.0, 4.0, 5.0, 5.0, 5.0, 5.0, 5.0, 5.0, 5.0, 5.0, 5.0, 5.0, 5.0, 5.0, 5.0, 5.0, 5.0, 5.0, 5.0, 5.0, 5.0, 5.0, 5.0, 5.0, 5.0, 5.0, 5.0, 5.0, 5.0, 5.0, 5.0, 5.0, 5.0, 5.0, 5.0, 5.0, 5.0, 5.0, 5.0, 5.0, 5.0, 5.0, 5.0, 5.0, 5.0, 5.0, 5.0, 5.0, 5.0, 5.0, 5.0, 5.0, 5.0, 5.0, 5.0, 5.0, 5.0, 5.0, 5.0, 5.0, 5.0], \"median\": 5.0, \"numeric\": true, \"num_unique\": 5, \"num_undefined\": 0, \"var\": 1.6512598390054394, \"progress\": 1.0, \"size\": 183531, \"frequent_items\": {\"1.0\": {\"frequency\": 15183, \"value\": 1.0}, \"2.0\": {\"frequency\": 11310, \"value\": 2.0}, \"3.0\": {\"frequency\": 16779, \"value\": 3.0}, \"4.0\": {\"frequency\": 33205, \"value\": 4.0}, \"5.0\": {\"frequency\": 107054, \"value\": 5.0}}, \"mean\": 4.1204483166331505}, \"selected_variable\": {\"name\": [\"<SArray>\"], \"dtype\": \"float\", \"view_component\": \"Numeric\", \"view_file\": \"sarray\", \"descriptives\": {\"rows\": 183531}, \"type\": \"SArray\", \"view_components\": [\"Numeric\", \"Categorical\"]}, \"histogram\": {\"progress\": 1.0, \"histogram\": {\"max\": 5.024, \"bins\": [15183, 0, 0, 11310, 0, 16779, 0, 0, 33205, 0, 0, 107054], \"min\": 0.992}, \"min\": 1.0, \"complete\": 1, \"max\": 5.0}}, e);\n",
       "                });\n",
       "            })();\n",
       "        "
      ]
     },
     "metadata": {},
     "output_type": "display_data"
    }
   ],
   "source": [
    "products['rating'].show()\n",
    "#print products['rating']"
   ]
  },
  {
   "cell_type": "markdown",
   "metadata": {
    "collapsed": true
   },
   "source": [
    "#Examining the reviews for most-sold product:  'Vulli Sophie the Giraffe Teether'"
   ]
  },
  {
   "cell_type": "code",
   "execution_count": 194,
   "metadata": {
    "collapsed": false
   },
   "outputs": [],
   "source": [
    "giraffe_reviews = products[products['name'] == 'Vulli Sophie the Giraffe Teether']"
   ]
  },
  {
   "cell_type": "code",
   "execution_count": 195,
   "metadata": {
    "collapsed": false
   },
   "outputs": [
    {
     "data": {
      "text/plain": [
       "785"
      ]
     },
     "execution_count": 195,
     "metadata": {},
     "output_type": "execute_result"
    }
   ],
   "source": [
    "len(giraffe_reviews)"
   ]
  },
  {
   "cell_type": "code",
   "execution_count": 196,
   "metadata": {
    "collapsed": false
   },
   "outputs": [
    {
     "data": {
      "application/javascript": [
       "$(\"head\").append($(\"<link/>\").attr({\n",
       "  rel:  \"stylesheet\",\n",
       "  type: \"text/css\",\n",
       "  href: \"//cdnjs.cloudflare.com/ajax/libs/font-awesome/4.1.0/css/font-awesome.min.css\"\n",
       "}));\n",
       "$(\"head\").append($(\"<link/>\").attr({\n",
       "  rel:  \"stylesheet\",\n",
       "  type: \"text/css\",\n",
       "  href: \"//dato.com/files/canvas/1.6.1/css/canvas.css\"\n",
       "}));\n",
       "\n",
       "            (function(){\n",
       "\n",
       "                var e = null;\n",
       "                if (typeof element == 'undefined') {\n",
       "                    var scripts = document.getElementsByTagName('script');\n",
       "                    var thisScriptTag = scripts[scripts.length-1];\n",
       "                    var parentDiv = thisScriptTag.parentNode;\n",
       "                    e = document.createElement('div');\n",
       "                    parentDiv.appendChild(e);\n",
       "                } else {\n",
       "                    e = element[0];\n",
       "                }\n",
       "\n",
       "                if (typeof requirejs !== 'undefined') {\n",
       "                    // disable load timeout; ipython_app.js is large and can take a while to load.\n",
       "                    requirejs.config({waitSeconds: 0});\n",
       "                }\n",
       "\n",
       "                require(['//dato.com/files/canvas/1.6.1/js/ipython_app.js'], function(IPythonApp){\n",
       "                    var app = new IPythonApp();\n",
       "                    app.attachView('sarray','Categorical', {\"ipython\": true, \"sketch\": {\"std\": 1.226576304850189, \"complete\": true, \"min\": 1.0, \"max\": 5.0, \"quantile\": [1.0, 1.0, 1.0, 1.0, 1.0, 1.0, 1.0, 1.0, 2.0, 2.0, 2.0, 2.0, 3.0, 3.0, 3.0, 3.0, 3.0, 3.0, 3.0, 3.0, 4.0, 4.0, 4.0, 4.0, 4.0, 4.0, 4.0, 4.0, 4.0, 4.0, 4.0, 4.0, 5.0, 5.0, 5.0, 5.0, 5.0, 5.0, 5.0, 5.0, 5.0, 5.0, 5.0, 5.0, 5.0, 5.0, 5.0, 5.0, 5.0, 5.0, 5.0, 5.0, 5.0, 5.0, 5.0, 5.0, 5.0, 5.0, 5.0, 5.0, 5.0, 5.0, 5.0, 5.0, 5.0, 5.0, 5.0, 5.0, 5.0, 5.0, 5.0, 5.0, 5.0, 5.0, 5.0, 5.0, 5.0, 5.0, 5.0, 5.0, 5.0, 5.0, 5.0, 5.0, 5.0, 5.0, 5.0, 5.0, 5.0, 5.0, 5.0, 5.0, 5.0, 5.0, 5.0, 5.0, 5.0, 5.0, 5.0, 5.0, 5.0], \"median\": 5.0, \"numeric\": true, \"num_unique\": 5, \"num_undefined\": 0, \"var\": 1.504489431619944, \"progress\": 1.0, \"size\": 785, \"frequent_items\": {\"1.0\": {\"frequency\": 56, \"value\": 1.0}, \"2.0\": {\"frequency\": 37, \"value\": 2.0}, \"3.0\": {\"frequency\": 62, \"value\": 3.0}, \"4.0\": {\"frequency\": 95, \"value\": 4.0}, \"5.0\": {\"frequency\": 535, \"value\": 5.0}}, \"mean\": 4.294267515923567}, \"selected_variable\": {\"name\": [\"<SArray>\"], \"dtype\": \"float\", \"view_component\": \"Categorical\", \"view_file\": \"sarray\", \"descriptives\": {\"rows\": 785}, \"type\": \"SArray\", \"view_components\": [\"Numeric\", \"Categorical\"]}, \"histogram\": {\"progress\": 1.0, \"histogram\": {\"max\": 5.0439843750025, \"bins\": [56, 0, 0, 37, 0, 0, 62, 0, 95, 0, 0, 535], \"min\": 0.9534375000025004}, \"min\": 1.0, \"complete\": 1, \"max\": 5.0}}, e);\n",
       "                });\n",
       "            })();\n",
       "        "
      ]
     },
     "metadata": {},
     "output_type": "display_data"
    }
   ],
   "source": [
    "giraffe_reviews['rating'].show(view='Categorical')"
   ]
  },
  {
   "cell_type": "markdown",
   "metadata": {},
   "source": [
    "#Build a sentiment classifier"
   ]
  },
  {
   "cell_type": "code",
   "execution_count": 9,
   "metadata": {
    "collapsed": false
   },
   "outputs": [
    {
     "data": {
      "application/javascript": [
       "$(\"head\").append($(\"<link/>\").attr({\n",
       "  rel:  \"stylesheet\",\n",
       "  type: \"text/css\",\n",
       "  href: \"//cdnjs.cloudflare.com/ajax/libs/font-awesome/4.1.0/css/font-awesome.min.css\"\n",
       "}));\n",
       "$(\"head\").append($(\"<link/>\").attr({\n",
       "  rel:  \"stylesheet\",\n",
       "  type: \"text/css\",\n",
       "  href: \"//dato.com/files/canvas/1.6.1/css/canvas.css\"\n",
       "}));\n",
       "\n",
       "            (function(){\n",
       "\n",
       "                var e = null;\n",
       "                if (typeof element == 'undefined') {\n",
       "                    var scripts = document.getElementsByTagName('script');\n",
       "                    var thisScriptTag = scripts[scripts.length-1];\n",
       "                    var parentDiv = thisScriptTag.parentNode;\n",
       "                    e = document.createElement('div');\n",
       "                    parentDiv.appendChild(e);\n",
       "                } else {\n",
       "                    e = element[0];\n",
       "                }\n",
       "\n",
       "                if (typeof requirejs !== 'undefined') {\n",
       "                    // disable load timeout; ipython_app.js is large and can take a while to load.\n",
       "                    requirejs.config({waitSeconds: 0});\n",
       "                }\n",
       "\n",
       "                require(['//dato.com/files/canvas/1.6.1/js/ipython_app.js'], function(IPythonApp){\n",
       "                    var app = new IPythonApp();\n",
       "                    app.attachView('sarray','Categorical', {\"ipython\": true, \"sketch\": {\"std\": 1.2850135559617413, \"complete\": true, \"min\": 1.0, \"max\": 5.0, \"quantile\": [1.0, 1.0, 1.0, 1.0, 1.0, 1.0, 1.0, 1.0, 1.0, 2.0, 2.0, 2.0, 2.0, 2.0, 2.0, 3.0, 3.0, 3.0, 3.0, 3.0, 3.0, 3.0, 3.0, 3.0, 4.0, 4.0, 4.0, 4.0, 4.0, 4.0, 4.0, 4.0, 4.0, 4.0, 4.0, 4.0, 4.0, 4.0, 4.0, 4.0, 4.0, 4.0, 5.0, 5.0, 5.0, 5.0, 5.0, 5.0, 5.0, 5.0, 5.0, 5.0, 5.0, 5.0, 5.0, 5.0, 5.0, 5.0, 5.0, 5.0, 5.0, 5.0, 5.0, 5.0, 5.0, 5.0, 5.0, 5.0, 5.0, 5.0, 5.0, 5.0, 5.0, 5.0, 5.0, 5.0, 5.0, 5.0, 5.0, 5.0, 5.0, 5.0, 5.0, 5.0, 5.0, 5.0, 5.0, 5.0, 5.0, 5.0, 5.0, 5.0, 5.0, 5.0, 5.0, 5.0, 5.0, 5.0, 5.0, 5.0, 5.0], \"median\": 5.0, \"numeric\": true, \"num_unique\": 5, \"num_undefined\": 0, \"var\": 1.6512598390054394, \"progress\": 1.0, \"size\": 183531, \"frequent_items\": {\"1.0\": {\"frequency\": 15183, \"value\": 1.0}, \"2.0\": {\"frequency\": 11310, \"value\": 2.0}, \"3.0\": {\"frequency\": 16779, \"value\": 3.0}, \"4.0\": {\"frequency\": 33205, \"value\": 4.0}, \"5.0\": {\"frequency\": 107054, \"value\": 5.0}}, \"mean\": 4.1204483166331505}, \"selected_variable\": {\"name\": [\"<SArray>\"], \"dtype\": \"float\", \"view_component\": \"Categorical\", \"view_file\": \"sarray\", \"descriptives\": {\"rows\": 183531}, \"type\": \"SArray\", \"view_components\": [\"Numeric\", \"Categorical\"]}, \"histogram\": {\"progress\": 1.0, \"histogram\": {\"max\": 5.024, \"bins\": [15183, 0, 0, 11310, 0, 16779, 0, 0, 33205, 0, 0, 107054], \"min\": 0.992}, \"min\": 1.0, \"complete\": 1, \"max\": 5.0}}, e);\n",
       "                });\n",
       "            })();\n",
       "        "
      ]
     },
     "metadata": {},
     "output_type": "display_data"
    }
   ],
   "source": [
    "products['rating'].show(view='Categorical')"
   ]
  },
  {
   "cell_type": "markdown",
   "metadata": {},
   "source": [
    "##Define what's a positive and a negative sentiment\n",
    "\n",
    "We will ignore all reviews with rating = 3, since they tend to have a neutral sentiment.  Reviews with a rating of 4 or higher will be considered positive, while the ones with rating of 2 or lower will have a negative sentiment.   "
   ]
  },
  {
   "cell_type": "code",
   "execution_count": 10,
   "metadata": {
    "collapsed": false
   },
   "outputs": [],
   "source": [
    "#ignore all 3* reviews\n",
    "products = products[products['rating'] != 3]"
   ]
  },
  {
   "cell_type": "code",
   "execution_count": 11,
   "metadata": {
    "collapsed": false
   },
   "outputs": [],
   "source": [
    "#positive sentiment = 4* or 5* reviews\n",
    "products['sentiment'] = products['rating'] >=4"
   ]
  },
  {
   "cell_type": "code",
   "execution_count": 12,
   "metadata": {
    "collapsed": false,
    "scrolled": true
   },
   "outputs": [
    {
     "data": {
      "text/html": [
       "<div style=\"max-height:1000px;max-width:1500px;overflow:auto;\"><table frame=\"box\" rules=\"cols\">\n",
       "    <tr>\n",
       "        <th style=\"padding-left: 1em; padding-right: 1em; text-align: center\">name</th>\n",
       "        <th style=\"padding-left: 1em; padding-right: 1em; text-align: center\">review</th>\n",
       "        <th style=\"padding-left: 1em; padding-right: 1em; text-align: center\">rating</th>\n",
       "        <th style=\"padding-left: 1em; padding-right: 1em; text-align: center\">word_count</th>\n",
       "        <th style=\"padding-left: 1em; padding-right: 1em; text-align: center\">sentiment</th>\n",
       "    </tr>\n",
       "    <tr>\n",
       "        <td style=\"padding-left: 1em; padding-right: 1em; text-align: center; vertical-align: top\">Planetwise Wipe Pouch</td>\n",
       "        <td style=\"padding-left: 1em; padding-right: 1em; text-align: center; vertical-align: top\">it came early and was not<br>disappointed. i love ...</td>\n",
       "        <td style=\"padding-left: 1em; padding-right: 1em; text-align: center; vertical-align: top\">5.0</td>\n",
       "        <td style=\"padding-left: 1em; padding-right: 1em; text-align: center; vertical-align: top\">{'and': 3, 'love': 1,<br>'it': 2, 'highly': 1, ...</td>\n",
       "        <td style=\"padding-left: 1em; padding-right: 1em; text-align: center; vertical-align: top\">1</td>\n",
       "    </tr>\n",
       "    <tr>\n",
       "        <td style=\"padding-left: 1em; padding-right: 1em; text-align: center; vertical-align: top\">Annas Dream Full Quilt<br>with 2 Shams ...</td>\n",
       "        <td style=\"padding-left: 1em; padding-right: 1em; text-align: center; vertical-align: top\">Very soft and comfortable<br>and warmer than it ...</td>\n",
       "        <td style=\"padding-left: 1em; padding-right: 1em; text-align: center; vertical-align: top\">5.0</td>\n",
       "        <td style=\"padding-left: 1em; padding-right: 1em; text-align: center; vertical-align: top\">{'and': 2, 'quilt': 1,<br>'it': 1, 'comfortable': ...</td>\n",
       "        <td style=\"padding-left: 1em; padding-right: 1em; text-align: center; vertical-align: top\">1</td>\n",
       "    </tr>\n",
       "    <tr>\n",
       "        <td style=\"padding-left: 1em; padding-right: 1em; text-align: center; vertical-align: top\">Stop Pacifier Sucking<br>without tears with ...</td>\n",
       "        <td style=\"padding-left: 1em; padding-right: 1em; text-align: center; vertical-align: top\">This is a product well<br>worth the purchase.  I ...</td>\n",
       "        <td style=\"padding-left: 1em; padding-right: 1em; text-align: center; vertical-align: top\">5.0</td>\n",
       "        <td style=\"padding-left: 1em; padding-right: 1em; text-align: center; vertical-align: top\">{'ingenious': 1, 'and':<br>3, 'love': 2, ...</td>\n",
       "        <td style=\"padding-left: 1em; padding-right: 1em; text-align: center; vertical-align: top\">1</td>\n",
       "    </tr>\n",
       "    <tr>\n",
       "        <td style=\"padding-left: 1em; padding-right: 1em; text-align: center; vertical-align: top\">Stop Pacifier Sucking<br>without tears with ...</td>\n",
       "        <td style=\"padding-left: 1em; padding-right: 1em; text-align: center; vertical-align: top\">All of my kids have cried<br>non-stop when I tried to ...</td>\n",
       "        <td style=\"padding-left: 1em; padding-right: 1em; text-align: center; vertical-align: top\">5.0</td>\n",
       "        <td style=\"padding-left: 1em; padding-right: 1em; text-align: center; vertical-align: top\">{'and': 2, 'parents!!':<br>1, 'all': 2, 'puppet.': ...</td>\n",
       "        <td style=\"padding-left: 1em; padding-right: 1em; text-align: center; vertical-align: top\">1</td>\n",
       "    </tr>\n",
       "    <tr>\n",
       "        <td style=\"padding-left: 1em; padding-right: 1em; text-align: center; vertical-align: top\">Stop Pacifier Sucking<br>without tears with ...</td>\n",
       "        <td style=\"padding-left: 1em; padding-right: 1em; text-align: center; vertical-align: top\">When the Binky Fairy came<br>to our house, we didn't ...</td>\n",
       "        <td style=\"padding-left: 1em; padding-right: 1em; text-align: center; vertical-align: top\">5.0</td>\n",
       "        <td style=\"padding-left: 1em; padding-right: 1em; text-align: center; vertical-align: top\">{'and': 2, 'cute': 1,<br>'help': 2, 'doll': 1, ...</td>\n",
       "        <td style=\"padding-left: 1em; padding-right: 1em; text-align: center; vertical-align: top\">1</td>\n",
       "    </tr>\n",
       "    <tr>\n",
       "        <td style=\"padding-left: 1em; padding-right: 1em; text-align: center; vertical-align: top\">A Tale of Baby's Days<br>with Peter Rabbit ...</td>\n",
       "        <td style=\"padding-left: 1em; padding-right: 1em; text-align: center; vertical-align: top\">Lovely book, it's bound<br>tightly so you may no ...</td>\n",
       "        <td style=\"padding-left: 1em; padding-right: 1em; text-align: center; vertical-align: top\">4.0</td>\n",
       "        <td style=\"padding-left: 1em; padding-right: 1em; text-align: center; vertical-align: top\">{'shop': 1, 'be': 1,<br>'is': 1, 'it': 1, 'as': ...</td>\n",
       "        <td style=\"padding-left: 1em; padding-right: 1em; text-align: center; vertical-align: top\">1</td>\n",
       "    </tr>\n",
       "    <tr>\n",
       "        <td style=\"padding-left: 1em; padding-right: 1em; text-align: center; vertical-align: top\">Baby Tracker&amp;reg; - Daily<br>Childcare Journal, ...</td>\n",
       "        <td style=\"padding-left: 1em; padding-right: 1em; text-align: center; vertical-align: top\">Perfect for new parents.<br>We were able to keep ...</td>\n",
       "        <td style=\"padding-left: 1em; padding-right: 1em; text-align: center; vertical-align: top\">5.0</td>\n",
       "        <td style=\"padding-left: 1em; padding-right: 1em; text-align: center; vertical-align: top\">{'feeding,': 1, 'and': 2,<br>'all': 1, 'right': 1, ...</td>\n",
       "        <td style=\"padding-left: 1em; padding-right: 1em; text-align: center; vertical-align: top\">1</td>\n",
       "    </tr>\n",
       "    <tr>\n",
       "        <td style=\"padding-left: 1em; padding-right: 1em; text-align: center; vertical-align: top\">Baby Tracker&amp;reg; - Daily<br>Childcare Journal, ...</td>\n",
       "        <td style=\"padding-left: 1em; padding-right: 1em; text-align: center; vertical-align: top\">A friend of mine pinned<br>this product on Pinte ...</td>\n",
       "        <td style=\"padding-left: 1em; padding-right: 1em; text-align: center; vertical-align: top\">5.0</td>\n",
       "        <td style=\"padding-left: 1em; padding-right: 1em; text-align: center; vertical-align: top\">{'and': 1, 'help': 1,<br>'give': 1, 'is': 1, ...</td>\n",
       "        <td style=\"padding-left: 1em; padding-right: 1em; text-align: center; vertical-align: top\">1</td>\n",
       "    </tr>\n",
       "    <tr>\n",
       "        <td style=\"padding-left: 1em; padding-right: 1em; text-align: center; vertical-align: top\">Baby Tracker&amp;reg; - Daily<br>Childcare Journal, ...</td>\n",
       "        <td style=\"padding-left: 1em; padding-right: 1em; text-align: center; vertical-align: top\">This has been an easy way<br>for my nanny to record ...</td>\n",
       "        <td style=\"padding-left: 1em; padding-right: 1em; text-align: center; vertical-align: top\">4.0</td>\n",
       "        <td style=\"padding-left: 1em; padding-right: 1em; text-align: center; vertical-align: top\">{'journal.': 1, 'all': 1,<br>'standarad': 1, ...</td>\n",
       "        <td style=\"padding-left: 1em; padding-right: 1em; text-align: center; vertical-align: top\">1</td>\n",
       "    </tr>\n",
       "    <tr>\n",
       "        <td style=\"padding-left: 1em; padding-right: 1em; text-align: center; vertical-align: top\">Baby Tracker&amp;reg; - Daily<br>Childcare Journal, ...</td>\n",
       "        <td style=\"padding-left: 1em; padding-right: 1em; text-align: center; vertical-align: top\">I love this journal and<br>our nanny uses it ...</td>\n",
       "        <td style=\"padding-left: 1em; padding-right: 1em; text-align: center; vertical-align: top\">4.0</td>\n",
       "        <td style=\"padding-left: 1em; padding-right: 1em; text-align: center; vertical-align: top\">{'all': 1, 'forget': 1,<br>'just': 1, \"daughter's\": ...</td>\n",
       "        <td style=\"padding-left: 1em; padding-right: 1em; text-align: center; vertical-align: top\">1</td>\n",
       "    </tr>\n",
       "</table>\n",
       "[10 rows x 5 columns]<br/>\n",
       "</div>"
      ],
      "text/plain": [
       "Columns:\n",
       "\tname\tstr\n",
       "\treview\tstr\n",
       "\trating\tfloat\n",
       "\tword_count\tdict\n",
       "\tsentiment\tint\n",
       "\n",
       "Rows: 10\n",
       "\n",
       "Data:\n",
       "+-------------------------------+-------------------------------+--------+\n",
       "|              name             |             review            | rating |\n",
       "+-------------------------------+-------------------------------+--------+\n",
       "|     Planetwise Wipe Pouch     | it came early and was not ... |  5.0   |\n",
       "| Annas Dream Full Quilt wit... | Very soft and comfortable ... |  5.0   |\n",
       "| Stop Pacifier Sucking with... | This is a product well wor... |  5.0   |\n",
       "| Stop Pacifier Sucking with... | All of my kids have cried ... |  5.0   |\n",
       "| Stop Pacifier Sucking with... | When the Binky Fairy came ... |  5.0   |\n",
       "| A Tale of Baby's Days with... | Lovely book, it's bound ti... |  4.0   |\n",
       "| Baby Tracker&reg; - Daily ... | Perfect for new parents. W... |  5.0   |\n",
       "| Baby Tracker&reg; - Daily ... | A friend of mine pinned th... |  5.0   |\n",
       "| Baby Tracker&reg; - Daily ... | This has been an easy way ... |  4.0   |\n",
       "| Baby Tracker&reg; - Daily ... | I love this journal and ou... |  4.0   |\n",
       "+-------------------------------+-------------------------------+--------+\n",
       "+-------------------------------+-----------+\n",
       "|           word_count          | sentiment |\n",
       "+-------------------------------+-----------+\n",
       "| {'and': 3, 'love': 1, 'it'... |     1     |\n",
       "| {'and': 2, 'quilt': 1, 'it... |     1     |\n",
       "| {'ingenious': 1, 'and': 3,... |     1     |\n",
       "| {'and': 2, 'parents!!': 1,... |     1     |\n",
       "| {'and': 2, 'cute': 1, 'hel... |     1     |\n",
       "| {'shop': 1, 'be': 1, 'is':... |     1     |\n",
       "| {'feeding,': 1, 'and': 2, ... |     1     |\n",
       "| {'and': 1, 'help': 1, 'giv... |     1     |\n",
       "| {'journal.': 1, 'all': 1, ... |     1     |\n",
       "| {'all': 1, 'forget': 1, 'j... |     1     |\n",
       "+-------------------------------+-----------+\n",
       "[10 rows x 5 columns]"
      ]
     },
     "execution_count": 12,
     "metadata": {},
     "output_type": "execute_result"
    }
   ],
   "source": [
    "products.head()"
   ]
  },
  {
   "cell_type": "markdown",
   "metadata": {},
   "source": [
    "##Let's train the sentiment classifier"
   ]
  },
  {
   "cell_type": "code",
   "execution_count": 13,
   "metadata": {
    "collapsed": true
   },
   "outputs": [],
   "source": [
    "train_data,test_data = products.random_split(.8, seed=0)"
   ]
  },
  {
   "cell_type": "code",
   "execution_count": 14,
   "metadata": {
    "collapsed": false,
    "scrolled": true
   },
   "outputs": [
    {
     "name": "stdout",
     "output_type": "stream",
     "text": [
      "PROGRESS: Logistic regression:\n",
      "PROGRESS: --------------------------------------------------------\n",
      "PROGRESS: Number of examples          : 133448\n",
      "PROGRESS: Number of classes           : 2\n",
      "PROGRESS: Number of feature columns   : 1\n",
      "PROGRESS: Number of unpacked features : 219217\n",
      "PROGRESS: Number of coefficients    : 219218\n",
      "PROGRESS: Starting L-BFGS\n",
      "PROGRESS: --------------------------------------------------------\n",
      "PROGRESS: +-----------+----------+-----------+--------------+-------------------+---------------------+\n",
      "PROGRESS: | Iteration | Passes   | Step size | Elapsed Time | Training-accuracy | Validation-accuracy |\n",
      "PROGRESS: +-----------+----------+-----------+--------------+-------------------+---------------------+\n",
      "PROGRESS: | 1         | 5        | 0.000002  | 3.001132     | 0.841481          | 0.839989            |\n",
      "PROGRESS: | 2         | 9        | 3.000000  | 4.854237     | 0.947425          | 0.894877            |\n",
      "PROGRESS: | 3         | 10       | 3.000000  | 5.588446     | 0.923768          | 0.866232            |\n",
      "PROGRESS: | 4         | 11       | 3.000000  | 6.326434     | 0.971779          | 0.912743            |\n",
      "PROGRESS: | 5         | 12       | 3.000000  | 7.050229     | 0.975511          | 0.908900            |\n",
      "PROGRESS: | 6         | 13       | 3.000000  | 7.807743     | 0.899991          | 0.825967            |\n",
      "PROGRESS: | 7         | 15       | 1.000000  | 8.986482     | 0.984548          | 0.921451            |\n",
      "PROGRESS: | 8         | 16       | 1.000000  | 9.716999     | 0.985118          | 0.921871            |\n",
      "PROGRESS: | 9         | 17       | 1.000000  | 10.462508    | 0.987066          | 0.919709            |\n",
      "PROGRESS: | 10        | 18       | 1.000000  | 11.186267    | 0.988715          | 0.916256            |\n",
      "PROGRESS: +-----------+----------+-----------+--------------+-------------------+---------------------+\n"
     ]
    }
   ],
   "source": [
    "sentiment_model = graphlab.logistic_classifier.create(train_data,\n",
    "                                                     target='sentiment',\n",
    "                                                     features=['word_count'],\n",
    "                                                     validation_set=test_data)"
   ]
  },
  {
   "cell_type": "markdown",
   "metadata": {},
   "source": [
    "#Evaluate the sentiment model"
   ]
  },
  {
   "cell_type": "code",
   "execution_count": 15,
   "metadata": {
    "collapsed": false
   },
   "outputs": [
    {
     "data": {
      "text/plain": [
       "{'roc_curve': Columns:\n",
       " \tthreshold\tfloat\n",
       " \tfpr\tfloat\n",
       " \ttpr\tfloat\n",
       " \tp\tint\n",
       " \tn\tint\n",
       " \n",
       " Rows: 1001\n",
       " \n",
       " Data:\n",
       " +------------------+----------------+------------------+-------+------+\n",
       " |    threshold     |      fpr       |       tpr        |   p   |  n   |\n",
       " +------------------+----------------+------------------+-------+------+\n",
       " |       0.0        | 0.223703981968 | 0.00385150315609 | 28041 | 5324 |\n",
       " | 0.0010000000475  | 0.776296018032 |  0.996148496844  | 28041 | 5324 |\n",
       " | 0.00200000009499 | 0.736288504884 |  0.995114296922  | 28041 | 5324 |\n",
       " | 0.00300000002608 | 0.713561232156 |  0.994508041796  | 28041 | 5324 |\n",
       " | 0.00400000018999 | 0.697971450038 |  0.994044434935  | 28041 | 5324 |\n",
       " | 0.00499999988824 | 0.686701728024 |  0.993687814272  | 28041 | 5324 |\n",
       " | 0.00600000005215 | 0.676934635612 |  0.993188545344  | 28041 | 5324 |\n",
       " | 0.00700000021607 |  0.6664162284  |  0.992831924682  | 28041 | 5324 |\n",
       " | 0.00800000037998 | 0.656085649887 |  0.992582290218  | 28041 | 5324 |\n",
       " | 0.00899999961257 | 0.648760330579 |  0.992261331622  | 28041 | 5324 |\n",
       " +------------------+----------------+------------------+-------+------+\n",
       " [1001 rows x 5 columns]\n",
       " Note: Only the head of the SFrame is printed.\n",
       " You can use print_rows(num_rows=m, num_columns=n) to print more rows and columns.}"
      ]
     },
     "execution_count": 15,
     "metadata": {},
     "output_type": "execute_result"
    }
   ],
   "source": [
    "sentiment_model.evaluate(test_data, metric='roc_curve')"
   ]
  },
  {
   "cell_type": "code",
   "execution_count": 16,
   "metadata": {
    "collapsed": false
   },
   "outputs": [
    {
     "data": {
      "application/javascript": [
       "$(\"head\").append($(\"<link/>\").attr({\n",
       "  rel:  \"stylesheet\",\n",
       "  type: \"text/css\",\n",
       "  href: \"//cdnjs.cloudflare.com/ajax/libs/font-awesome/4.1.0/css/font-awesome.min.css\"\n",
       "}));\n",
       "$(\"head\").append($(\"<link/>\").attr({\n",
       "  rel:  \"stylesheet\",\n",
       "  type: \"text/css\",\n",
       "  href: \"//dato.com/files/canvas/1.6.1/css/canvas.css\"\n",
       "}));\n",
       "\n",
       "            (function(){\n",
       "\n",
       "                var e = null;\n",
       "                if (typeof element == 'undefined') {\n",
       "                    var scripts = document.getElementsByTagName('script');\n",
       "                    var thisScriptTag = scripts[scripts.length-1];\n",
       "                    var parentDiv = thisScriptTag.parentNode;\n",
       "                    e = document.createElement('div');\n",
       "                    parentDiv.appendChild(e);\n",
       "                } else {\n",
       "                    e = element[0];\n",
       "                }\n",
       "\n",
       "                if (typeof requirejs !== 'undefined') {\n",
       "                    // disable load timeout; ipython_app.js is large and can take a while to load.\n",
       "                    requirejs.config({waitSeconds: 0});\n",
       "                }\n",
       "\n",
       "                require(['//dato.com/files/canvas/1.6.1/js/ipython_app.js'], function(IPythonApp){\n",
       "                    var app = new IPythonApp();\n",
       "                    app.attachView('model','Evaluation', {\"comparison\": null, \"selected_variable\": {\"comparison\": null, \"name\": [\"sentiment_model\"], \"view_file\": \"model\", \"view_component\": \"Evaluation\", \"view_params\": {\"model_type\": \"regression\", \"view\": \"Evaluation\"}, \"view_components\": [\"Summary\", \"Evaluation\", \"Comparison\"], \"model_type\": \"regression\", \"attributes\": {\"section_titles\": [\"Schema\", \"Hyperparameters\", \"Training Summary\", \"Settings\", \"Highest Positive Coefficients\", \"Lowest Negative Coefficients\"], \"sections\": [[[\"Number of coefficients\", 219218], [\"Number of examples\", 133448], [\"Number of classes\", 2], [\"Number of feature columns\", 1], [\"Number of unpacked features\", 219217]], [[\"L1 penalty\", 0.0], [\"L2 penalty\", 0.01]], [[\"Solver\", \"auto\"], [\"Solver iterations\", 10], [\"Solver status\", \"TERMINATED: Iteration limit reached.\"], [\"Training time (sec)\", 11.5114]], [[\"Log-likelihood\", 4956.6901]], [[\"word_count[pinkjeep]\", 13.5701], [\"word_count[(http://www.amazon.com/review/rhgg6qp7tdnhb/ref=cm_cr_pr_cmt?ie=utf8&asin;=b00318cla0&nodeid;)]\", 12.3088], [\"word_count[label/box.]\", 11.1774], [\"word_count[product.***]\", 11.064], [\"word_count[direct-pumping]\", 11.0531]], [[\"word_count[it.update:after]\", -18.3631], [\"word_count[5months.]\", -16.0906], [\"word_count[oldest.if]\", -15.9315], [\"word_count[maxima.]\", -15.8084], [\"word_count[(160.00)]\", -15.4512]]]}, \"evaluations\": [[\"test_data\", {\"roc_curve\": [{\"threshold\": 0.0, \"p\": 28041, \"fpr\": 0.22370398196844477, \"tpr\": 0.003851503156092864, \"n\": 5324}, {\"threshold\": 0.0010000000474974513, \"p\": 28041, \"fpr\": 0.7762960180315552, \"tpr\": 0.9961484968439072, \"n\": 5324}, {\"threshold\": 0.0020000000949949026, \"p\": 28041, \"fpr\": 0.7362885048835462, \"tpr\": 0.9951142969223636, \"n\": 5324}, {\"threshold\": 0.003000000026077032, \"p\": 28041, \"fpr\": 0.7135612321562734, \"tpr\": 0.9945080417959417, \"n\": 5324}, {\"threshold\": 0.004000000189989805, \"p\": 28041, \"fpr\": 0.6979714500375658, \"tpr\": 0.9940444349345601, \"n\": 5324}, {\"threshold\": 0.004999999888241291, \"p\": 28041, \"fpr\": 0.6867017280240421, \"tpr\": 0.993687814271959, \"n\": 5324}, {\"threshold\": 0.006000000052154064, \"p\": 28041, \"fpr\": 0.6769346356123216, \"tpr\": 0.9931885453443172, \"n\": 5324}, {\"threshold\": 0.007000000216066837, \"p\": 28041, \"fpr\": 0.6664162283996995, \"tpr\": 0.9928319246817161, \"n\": 5324}, {\"threshold\": 0.00800000037997961, \"p\": 28041, \"fpr\": 0.6560856498873028, \"tpr\": 0.9925822902178952, \"n\": 5324}, {\"threshold\": 0.008999999612569809, \"p\": 28041, \"fpr\": 0.6487603305785123, \"tpr\": 0.9922613316215542, \"n\": 5324}, {\"threshold\": 0.009999999776482582, \"p\": 28041, \"fpr\": 0.6401202103681443, \"tpr\": 0.9920116971577333, \"n\": 5324}, {\"threshold\": 0.010999999940395355, \"p\": 28041, \"fpr\": 0.6331705484598047, \"tpr\": 0.9917264006276524, \"n\": 5324}, {\"threshold\": 0.012000000104308128, \"p\": 28041, \"fpr\": 0.6277235161532683, \"tpr\": 0.9914054420313113, \"n\": 5324}, {\"threshold\": 0.013000000268220901, \"p\": 28041, \"fpr\": 0.620961682945154, \"tpr\": 0.9911558075674904, \"n\": 5324}, {\"threshold\": 0.014000000432133675, \"p\": 28041, \"fpr\": 0.6160781367392938, \"tpr\": 0.9909061731036696, \"n\": 5324}, {\"threshold\": 0.014999999664723873, \"p\": 28041, \"fpr\": 0.6093163035311796, \"tpr\": 0.9906565386398488, \"n\": 5324}, {\"threshold\": 0.01600000075995922, \"p\": 28041, \"fpr\": 0.6046205860255447, \"tpr\": 0.9903355800435077, \"n\": 5324}, {\"threshold\": 0.017000000923871994, \"p\": 28041, \"fpr\": 0.6008640120210368, \"tpr\": 0.9900859455796869, \"n\": 5324}, {\"threshold\": 0.017999999225139618, \"p\": 28041, \"fpr\": 0.5959804658151766, \"tpr\": 0.9899076352483863, \"n\": 5324}, {\"threshold\": 0.01899999938905239, \"p\": 28041, \"fpr\": 0.5910969196093163, \"tpr\": 0.9897649869833458, \"n\": 5324}, {\"threshold\": 0.019999999552965164, \"p\": 28041, \"fpr\": 0.5865890308039068, \"tpr\": 0.9895510145857851, \"n\": 5324}, {\"threshold\": 0.020999999716877937, \"p\": 28041, \"fpr\": 0.582832456799399, \"tpr\": 0.9894440283870047, \"n\": 5324}, {\"threshold\": 0.02199999988079071, \"p\": 28041, \"fpr\": 0.580015026296018, \"tpr\": 0.9891943939231839, \"n\": 5324}, {\"threshold\": 0.023000000044703484, \"p\": 28041, \"fpr\": 0.5779489105935387, \"tpr\": 0.9890874077244035, \"n\": 5324}, {\"threshold\": 0.024000000208616257, \"p\": 28041, \"fpr\": 0.5736288504883547, \"tpr\": 0.9889447594593631, \"n\": 5324}, {\"threshold\": 0.02500000037252903, \"p\": 28041, \"fpr\": 0.5706235912847483, \"tpr\": 0.9887307870618024, \"n\": 5324}, {\"threshold\": 0.026000000536441803, \"p\": 28041, \"fpr\": 0.5670548459804658, \"tpr\": 0.988623800863022, \"n\": 5324}, {\"threshold\": 0.027000000700354576, \"p\": 28041, \"fpr\": 0.5638617580766341, \"tpr\": 0.988338504332941, \"n\": 5324}, {\"threshold\": 0.02800000086426735, \"p\": 28041, \"fpr\": 0.5610443275732532, \"tpr\": 0.9881601940016405, \"n\": 5324}, {\"threshold\": 0.028999999165534973, \"p\": 28041, \"fpr\": 0.5576634109691961, \"tpr\": 0.9879818836703399, \"n\": 5324}, {\"threshold\": 0.029999999329447746, \"p\": 28041, \"fpr\": 0.5537190082644629, \"tpr\": 0.987732249206519, \"n\": 5324}, {\"threshold\": 0.03099999949336052, \"p\": 28041, \"fpr\": 0.5522163786626596, \"tpr\": 0.9876252630077387, \"n\": 5324}, {\"threshold\": 0.03200000151991844, \"p\": 28041, \"fpr\": 0.5484598046581518, \"tpr\": 0.9873756285439178, \"n\": 5324}, {\"threshold\": 0.032999999821186066, \"p\": 28041, \"fpr\": 0.5443275732531931, \"tpr\": 0.9872329802788774, \"n\": 5324}, {\"threshold\": 0.03400000184774399, \"p\": 28041, \"fpr\": 0.5424492862509391, \"tpr\": 0.987125994080097, \"n\": 5324}, {\"threshold\": 0.03500000014901161, \"p\": 28041, \"fpr\": 0.5405709992486852, \"tpr\": 0.9870903320138369, \"n\": 5324}, {\"threshold\": 0.035999998450279236, \"p\": 28041, \"fpr\": 0.5385048835462058, \"tpr\": 0.9869833458150565, \"n\": 5324}, {\"threshold\": 0.03700000047683716, \"p\": 28041, \"fpr\": 0.5360631104432757, \"tpr\": 0.9869120216825363, \"n\": 5324}, {\"threshold\": 0.03799999877810478, \"p\": 28041, \"fpr\": 0.532870022539444, \"tpr\": 0.9865554010199351, \"n\": 5324}, {\"threshold\": 0.039000000804662704, \"p\": 28041, \"fpr\": 0.5317430503380917, \"tpr\": 0.9863057665561142, \"n\": 5324}, {\"threshold\": 0.03999999910593033, \"p\": 28041, \"fpr\": 0.5304282494365139, \"tpr\": 0.9861987803573339, \"n\": 5324}, {\"threshold\": 0.04100000113248825, \"p\": 28041, \"fpr\": 0.5281743050338091, \"tpr\": 0.9861274562248137, \"n\": 5324}, {\"threshold\": 0.041999999433755875, \"p\": 28041, \"fpr\": 0.5251690458302029, \"tpr\": 0.9859848079597732, \"n\": 5324}, {\"threshold\": 0.0430000014603138, \"p\": 28041, \"fpr\": 0.5240420736288505, \"tpr\": 0.9857351734959524, \"n\": 5324}, {\"threshold\": 0.04399999976158142, \"p\": 28041, \"fpr\": 0.5217881292261457, \"tpr\": 0.9855925252309119, \"n\": 5324}, {\"threshold\": 0.04500000178813934, \"p\": 28041, \"fpr\": 0.5206611570247934, \"tpr\": 0.9854142148996112, \"n\": 5324}, {\"threshold\": 0.04600000008940697, \"p\": 28041, \"fpr\": 0.5178437265214124, \"tpr\": 0.9853785528333512, \"n\": 5324}, {\"threshold\": 0.04699999839067459, \"p\": 28041, \"fpr\": 0.5159654395191585, \"tpr\": 0.9851289183695303, \"n\": 5324}, {\"threshold\": 0.04800000041723251, \"p\": 28041, \"fpr\": 0.5137114951164538, \"tpr\": 0.9849149459719696, \"n\": 5324}, {\"threshold\": 0.04899999871850014, \"p\": 28041, \"fpr\": 0.5125845229151015, \"tpr\": 0.9847722977069291, \"n\": 5324}, {\"threshold\": 0.05000000074505806, \"p\": 28041, \"fpr\": 0.5107062359128475, \"tpr\": 0.9846296494418887, \"n\": 5324}, {\"threshold\": 0.050999999046325684, \"p\": 28041, \"fpr\": 0.5075131480090158, \"tpr\": 0.984415677044328, \"n\": 5324}, {\"threshold\": 0.052000001072883606, \"p\": 28041, \"fpr\": 0.5048835462058603, \"tpr\": 0.9842730287792875, \"n\": 5324}, {\"threshold\": 0.05299999937415123, \"p\": 28041, \"fpr\": 0.5031930879038317, \"tpr\": 0.9841660425805071, \"n\": 5324}, {\"threshold\": 0.05400000140070915, \"p\": 28041, \"fpr\": 0.5011269722013524, \"tpr\": 0.9839520701829464, \"n\": 5324}, {\"threshold\": 0.054999999701976776, \"p\": 28041, \"fpr\": 0.5, \"tpr\": 0.9838807460504262, \"n\": 5324}, {\"threshold\": 0.0560000017285347, \"p\": 28041, \"fpr\": 0.49755822689706986, \"tpr\": 0.983845083984166, \"n\": 5324}, {\"threshold\": 0.05700000002980232, \"p\": 28041, \"fpr\": 0.4954921111945905, \"tpr\": 0.9836311115866053, \"n\": 5324}, {\"threshold\": 0.057999998331069946, \"p\": 28041, \"fpr\": 0.4934259954921112, \"tpr\": 0.9834528012553048, \"n\": 5324}, {\"threshold\": 0.05900000035762787, \"p\": 28041, \"fpr\": 0.4922990232907588, \"tpr\": 0.9833101529902643, \"n\": 5324}, {\"threshold\": 0.05999999865889549, \"p\": 28041, \"fpr\": 0.4898572501878287, \"tpr\": 0.9832744909240041, \"n\": 5324}, {\"threshold\": 0.061000000685453415, \"p\": 28041, \"fpr\": 0.4877911344853494, \"tpr\": 0.9830961805927035, \"n\": 5324}, {\"threshold\": 0.06199999898672104, \"p\": 28041, \"fpr\": 0.48591284748309543, \"tpr\": 0.9830605185264434, \"n\": 5324}, {\"threshold\": 0.06300000101327896, \"p\": 28041, \"fpr\": 0.48459804658151767, \"tpr\": 0.9829891943939232, \"n\": 5324}, {\"threshold\": 0.06400000303983688, \"p\": 28041, \"fpr\": 0.4834710743801653, \"tpr\": 0.9828108840626226, \"n\": 5324}, {\"threshold\": 0.06499999761581421, \"p\": 28041, \"fpr\": 0.4821562734785875, \"tpr\": 0.9828108840626226, \"n\": 5324}, {\"threshold\": 0.06599999964237213, \"p\": 28041, \"fpr\": 0.48159278737791134, \"tpr\": 0.9828108840626226, \"n\": 5324}, {\"threshold\": 0.06700000166893005, \"p\": 28041, \"fpr\": 0.48084147257700977, \"tpr\": 0.9827395599301023, \"n\": 5324}, {\"threshold\": 0.06800000369548798, \"p\": 28041, \"fpr\": 0.4797145003756574, \"tpr\": 0.9825612495988018, \"n\": 5324}, {\"threshold\": 0.0689999982714653, \"p\": 28041, \"fpr\": 0.47858752817430505, \"tpr\": 0.9825255875325416, \"n\": 5324}, {\"threshold\": 0.07000000029802322, \"p\": 28041, \"fpr\": 0.47783621337340343, \"tpr\": 0.9824542634000214, \"n\": 5324}, {\"threshold\": 0.07100000232458115, \"p\": 28041, \"fpr\": 0.4765214124718257, \"tpr\": 0.9823829392675012, \"n\": 5324}, {\"threshold\": 0.07199999690055847, \"p\": 28041, \"fpr\": 0.47520661157024796, \"tpr\": 0.9823829392675012, \"n\": 5324}, {\"threshold\": 0.0729999989271164, \"p\": 28041, \"fpr\": 0.473328324567994, \"tpr\": 0.9822759530687208, \"n\": 5324}, {\"threshold\": 0.07400000095367432, \"p\": 28041, \"fpr\": 0.4718256949661908, \"tpr\": 0.9821689668699405, \"n\": 5324}, {\"threshold\": 0.07500000298023224, \"p\": 28041, \"fpr\": 0.4699474079639369, \"tpr\": 0.9820619806711601, \"n\": 5324}, {\"threshold\": 0.07599999755620956, \"p\": 28041, \"fpr\": 0.4690082644628099, \"tpr\": 0.9818836703398595, \"n\": 5324}, {\"threshold\": 0.07699999958276749, \"p\": 28041, \"fpr\": 0.46769346356123215, \"tpr\": 0.9818480082735994, \"n\": 5324}, {\"threshold\": 0.07800000160932541, \"p\": 28041, \"fpr\": 0.4667543200601052, \"tpr\": 0.9815627117435184, \"n\": 5324}, {\"threshold\": 0.07900000363588333, \"p\": 28041, \"fpr\": 0.4658151765589782, \"tpr\": 0.9815627117435184, \"n\": 5324}, {\"threshold\": 0.07999999821186066, \"p\": 28041, \"fpr\": 0.46487603305785125, \"tpr\": 0.981455725544738, \"n\": 5324}, {\"threshold\": 0.08100000023841858, \"p\": 28041, \"fpr\": 0.4641247182569497, \"tpr\": 0.981420063478478, \"n\": 5324}, {\"threshold\": 0.0820000022649765, \"p\": 28041, \"fpr\": 0.4626220886551465, \"tpr\": 0.9813844014122178, \"n\": 5324}, {\"threshold\": 0.08299999684095383, \"p\": 28041, \"fpr\": 0.46111945905334334, \"tpr\": 0.9811704290146571, \"n\": 5324}, {\"threshold\": 0.08399999886751175, \"p\": 28041, \"fpr\": 0.4598046581517656, \"tpr\": 0.9810991048821369, \"n\": 5324}, {\"threshold\": 0.08500000089406967, \"p\": 28041, \"fpr\": 0.45773854244928625, \"tpr\": 0.9810991048821369, \"n\": 5324}, {\"threshold\": 0.0860000029206276, \"p\": 28041, \"fpr\": 0.4567993989481593, \"tpr\": 0.9810634428158768, \"n\": 5324}, {\"threshold\": 0.08699999749660492, \"p\": 28041, \"fpr\": 0.4552967693463561, \"tpr\": 0.9809921186833566, \"n\": 5324}, {\"threshold\": 0.08799999952316284, \"p\": 28041, \"fpr\": 0.45379413974455296, \"tpr\": 0.9807424842195357, \"n\": 5324}, {\"threshold\": 0.08900000154972076, \"p\": 28041, \"fpr\": 0.45323065364387677, \"tpr\": 0.9805641738882351, \"n\": 5324}, {\"threshold\": 0.09000000357627869, \"p\": 28041, \"fpr\": 0.4522915101427498, \"tpr\": 0.9804928497557148, \"n\": 5324}, {\"threshold\": 0.09099999815225601, \"p\": 28041, \"fpr\": 0.4513523666416228, \"tpr\": 0.9804215256231946, \"n\": 5324}, {\"threshold\": 0.09200000017881393, \"p\": 28041, \"fpr\": 0.4502253944402705, \"tpr\": 0.9804215256231946, \"n\": 5324}, {\"threshold\": 0.09300000220537186, \"p\": 28041, \"fpr\": 0.4489105935386927, \"tpr\": 0.9802432152918941, \"n\": 5324}, {\"threshold\": 0.09399999678134918, \"p\": 28041, \"fpr\": 0.44815927873779116, \"tpr\": 0.9801718911593738, \"n\": 5324}, {\"threshold\": 0.0949999988079071, \"p\": 28041, \"fpr\": 0.44722013523666415, \"tpr\": 0.9800649049605934, \"n\": 5324}, {\"threshold\": 0.09600000083446503, \"p\": 28041, \"fpr\": 0.4462809917355372, \"tpr\": 0.979957918761813, \"n\": 5324}, {\"threshold\": 0.09700000286102295, \"p\": 28041, \"fpr\": 0.44552967693463563, \"tpr\": 0.979922256695553, \"n\": 5324}, {\"threshold\": 0.09799999743700027, \"p\": 28041, \"fpr\": 0.44477836213373406, \"tpr\": 0.9797082842979922, \"n\": 5324}, {\"threshold\": 0.0989999994635582, \"p\": 28041, \"fpr\": 0.44383921863260706, \"tpr\": 0.9794586498341714, \"n\": 5324}, {\"threshold\": 0.10000000149011612, \"p\": 28041, \"fpr\": 0.4429000751314801, \"tpr\": 0.9793873257016511, \"n\": 5324}, {\"threshold\": 0.10100000351667404, \"p\": 28041, \"fpr\": 0.44102178812922616, \"tpr\": 0.9793160015691309, \"n\": 5324}, {\"threshold\": 0.10199999809265137, \"p\": 28041, \"fpr\": 0.439519158527423, \"tpr\": 0.9791733533040904, \"n\": 5324}, {\"threshold\": 0.10300000011920929, \"p\": 28041, \"fpr\": 0.4387678437265214, \"tpr\": 0.9791376912378303, \"n\": 5324}, {\"threshold\": 0.10400000214576721, \"p\": 28041, \"fpr\": 0.43764087152516906, \"tpr\": 0.9789237188402696, \"n\": 5324}, {\"threshold\": 0.10499999672174454, \"p\": 28041, \"fpr\": 0.43726521412471825, \"tpr\": 0.978745408508969, \"n\": 5324}, {\"threshold\": 0.10599999874830246, \"p\": 28041, \"fpr\": 0.43557475582268973, \"tpr\": 0.9786027602439286, \"n\": 5324}, {\"threshold\": 0.10700000077486038, \"p\": 28041, \"fpr\": 0.43444778362133735, \"tpr\": 0.9785670981776684, \"n\": 5324}, {\"threshold\": 0.1080000028014183, \"p\": 28041, \"fpr\": 0.43388429752066116, \"tpr\": 0.9784957740451482, \"n\": 5324}, {\"threshold\": 0.10899999737739563, \"p\": 28041, \"fpr\": 0.43275732531930877, \"tpr\": 0.9783174637138475, \"n\": 5324}, {\"threshold\": 0.10999999940395355, \"p\": 28041, \"fpr\": 0.4320060105184072, \"tpr\": 0.9782104775150672, \"n\": 5324}, {\"threshold\": 0.11100000143051147, \"p\": 28041, \"fpr\": 0.43050338091660406, \"tpr\": 0.9782104775150672, \"n\": 5324}, {\"threshold\": 0.1120000034570694, \"p\": 28041, \"fpr\": 0.42993989481592787, \"tpr\": 0.9780678292500268, \"n\": 5324}, {\"threshold\": 0.11299999803304672, \"p\": 28041, \"fpr\": 0.4291885800150263, \"tpr\": 0.9779251809849863, \"n\": 5324}, {\"threshold\": 0.11400000005960464, \"p\": 28041, \"fpr\": 0.42843726521412473, \"tpr\": 0.9778895189187261, \"n\": 5324}, {\"threshold\": 0.11500000208616257, \"p\": 28041, \"fpr\": 0.4269346356123216, \"tpr\": 0.9777825327199458, \"n\": 5324}, {\"threshold\": 0.11599999666213989, \"p\": 28041, \"fpr\": 0.4259954921111946, \"tpr\": 0.9777468706536857, \"n\": 5324}, {\"threshold\": 0.11699999868869781, \"p\": 28041, \"fpr\": 0.4254320060105184, \"tpr\": 0.9776398844549054, \"n\": 5324}, {\"threshold\": 0.11800000071525574, \"p\": 28041, \"fpr\": 0.425244177310293, \"tpr\": 0.977568560322385, \"n\": 5324}, {\"threshold\": 0.11900000274181366, \"p\": 28041, \"fpr\": 0.42449286250939144, \"tpr\": 0.977532898256125, \"n\": 5324}, {\"threshold\": 0.11999999731779099, \"p\": 28041, \"fpr\": 0.4237415477084899, \"tpr\": 0.9774615741236047, \"n\": 5324}, {\"threshold\": 0.12099999934434891, \"p\": 28041, \"fpr\": 0.4231780616078137, \"tpr\": 0.9772119396597839, \"n\": 5324}, {\"threshold\": 0.12200000137090683, \"p\": 28041, \"fpr\": 0.4231780616078137, \"tpr\": 0.9771049534610036, \"n\": 5324}, {\"threshold\": 0.12300000339746475, \"p\": 28041, \"fpr\": 0.4229902329075883, \"tpr\": 0.9770336293284833, \"n\": 5324}, {\"threshold\": 0.12399999797344208, \"p\": 28041, \"fpr\": 0.4218632607062359, \"tpr\": 0.9769266431297029, \"n\": 5324}, {\"threshold\": 0.125, \"p\": 28041, \"fpr\": 0.42129977460555973, \"tpr\": 0.9768909810634429, \"n\": 5324}, {\"threshold\": 0.12600000202655792, \"p\": 28041, \"fpr\": 0.4203606311044328, \"tpr\": 0.9768909810634429, \"n\": 5324}, {\"threshold\": 0.12700000405311584, \"p\": 28041, \"fpr\": 0.41960931630353115, \"tpr\": 0.9767126707321422, \"n\": 5324}, {\"threshold\": 0.12800000607967377, \"p\": 28041, \"fpr\": 0.4188580015026296, \"tpr\": 0.9766770086658821, \"n\": 5324}, {\"threshold\": 0.1289999932050705, \"p\": 28041, \"fpr\": 0.4184823441021788, \"tpr\": 0.9764630362683214, \"n\": 5324}, {\"threshold\": 0.12999999523162842, \"p\": 28041, \"fpr\": 0.41735537190082644, \"tpr\": 0.9762490638707607, \"n\": 5324}, {\"threshold\": 0.13099999725818634, \"p\": 28041, \"fpr\": 0.41679188580015025, \"tpr\": 0.9761777397382404, \"n\": 5324}, {\"threshold\": 0.13199999928474426, \"p\": 28041, \"fpr\": 0.4154770848985725, \"tpr\": 0.9760350914732, \"n\": 5324}, {\"threshold\": 0.13300000131130219, \"p\": 28041, \"fpr\": 0.4149135987978963, \"tpr\": 0.9759637673406797, \"n\": 5324}, {\"threshold\": 0.1340000033378601, \"p\": 28041, \"fpr\": 0.41378662659654397, \"tpr\": 0.9758567811418993, \"n\": 5324}, {\"threshold\": 0.13500000536441803, \"p\": 28041, \"fpr\": 0.4120961682945154, \"tpr\": 0.975749794943119, \"n\": 5324}, {\"threshold\": 0.13600000739097595, \"p\": 28041, \"fpr\": 0.4113448534936138, \"tpr\": 0.975749794943119, \"n\": 5324}, {\"threshold\": 0.13699999451637268, \"p\": 28041, \"fpr\": 0.41021788129226144, \"tpr\": 0.9755001604792982, \"n\": 5324}, {\"threshold\": 0.1379999965429306, \"p\": 28041, \"fpr\": 0.40965439519158525, \"tpr\": 0.9754644984130381, \"n\": 5324}, {\"threshold\": 0.13899999856948853, \"p\": 28041, \"fpr\": 0.4087152516904583, \"tpr\": 0.9754288363467779, \"n\": 5324}, {\"threshold\": 0.14000000059604645, \"p\": 28041, \"fpr\": 0.4085274229902329, \"tpr\": 0.9753931742805179, \"n\": 5324}, {\"threshold\": 0.14100000262260437, \"p\": 28041, \"fpr\": 0.4083395942900075, \"tpr\": 0.9753575122142577, \"n\": 5324}, {\"threshold\": 0.1420000046491623, \"p\": 28041, \"fpr\": 0.4075882794891059, \"tpr\": 0.9753218501479975, \"n\": 5324}, {\"threshold\": 0.14300000667572021, \"p\": 28041, \"fpr\": 0.40664913598797897, \"tpr\": 0.9752861880817375, \"n\": 5324}, {\"threshold\": 0.14399999380111694, \"p\": 28041, \"fpr\": 0.40627347858752816, \"tpr\": 0.9752861880817375, \"n\": 5324}, {\"threshold\": 0.14499999582767487, \"p\": 28041, \"fpr\": 0.40458302028549964, \"tpr\": 0.9752505260154773, \"n\": 5324}, {\"threshold\": 0.1459999978542328, \"p\": 28041, \"fpr\": 0.40383170548459807, \"tpr\": 0.975143539816697, \"n\": 5324}, {\"threshold\": 0.1469999998807907, \"p\": 28041, \"fpr\": 0.4027047332832457, \"tpr\": 0.9750722156841768, \"n\": 5324}, {\"threshold\": 0.14800000190734863, \"p\": 28041, \"fpr\": 0.4025169045830203, \"tpr\": 0.9749652294853964, \"n\": 5324}, {\"threshold\": 0.14900000393390656, \"p\": 28041, \"fpr\": 0.4019534184823441, \"tpr\": 0.9749295674191363, \"n\": 5324}, {\"threshold\": 0.15000000596046448, \"p\": 28041, \"fpr\": 0.4013899323816679, \"tpr\": 0.9748939053528761, \"n\": 5324}, {\"threshold\": 0.1509999930858612, \"p\": 28041, \"fpr\": 0.40026296018031554, \"tpr\": 0.9748582432866161, \"n\": 5324}, {\"threshold\": 0.15199999511241913, \"p\": 28041, \"fpr\": 0.40026296018031554, \"tpr\": 0.9747869191540958, \"n\": 5324}, {\"threshold\": 0.15299999713897705, \"p\": 28041, \"fpr\": 0.39969947407963935, \"tpr\": 0.9746442708890554, \"n\": 5324}, {\"threshold\": 0.15399999916553497, \"p\": 28041, \"fpr\": 0.398572501878287, \"tpr\": 0.974537284690275, \"n\": 5324}, {\"threshold\": 0.1550000011920929, \"p\": 28041, \"fpr\": 0.3981968444778362, \"tpr\": 0.9743946364252345, \"n\": 5324}, {\"threshold\": 0.15600000321865082, \"p\": 28041, \"fpr\": 0.39763335837716, \"tpr\": 0.9743233122927143, \"n\": 5324}, {\"threshold\": 0.15700000524520874, \"p\": 28041, \"fpr\": 0.39744552967693464, \"tpr\": 0.9742163260939339, \"n\": 5324}, {\"threshold\": 0.15800000727176666, \"p\": 28041, \"fpr\": 0.39669421487603307, \"tpr\": 0.9741450019614136, \"n\": 5324}, {\"threshold\": 0.1589999943971634, \"p\": 28041, \"fpr\": 0.3965063861758077, \"tpr\": 0.9741093398951535, \"n\": 5324}, {\"threshold\": 0.1599999964237213, \"p\": 28041, \"fpr\": 0.3959429000751315, \"tpr\": 0.9740736778288934, \"n\": 5324}, {\"threshold\": 0.16099999845027924, \"p\": 28041, \"fpr\": 0.39519158527422993, \"tpr\": 0.9739666916301131, \"n\": 5324}, {\"threshold\": 0.16200000047683716, \"p\": 28041, \"fpr\": 0.39462809917355374, \"tpr\": 0.9738953674975928, \"n\": 5324}, {\"threshold\": 0.16300000250339508, \"p\": 28041, \"fpr\": 0.3942524417731029, \"tpr\": 0.9738240433650726, \"n\": 5324}, {\"threshold\": 0.164000004529953, \"p\": 28041, \"fpr\": 0.393313298271976, \"tpr\": 0.9737883812988124, \"n\": 5324}, {\"threshold\": 0.16500000655651093, \"p\": 28041, \"fpr\": 0.3925619834710744, \"tpr\": 0.973681395100032, \"n\": 5324}, {\"threshold\": 0.16599999368190765, \"p\": 28041, \"fpr\": 0.3921863260706236, \"tpr\": 0.9736100709675118, \"n\": 5324}, {\"threshold\": 0.16699999570846558, \"p\": 28041, \"fpr\": 0.3918106686701728, \"tpr\": 0.9735030847687315, \"n\": 5324}, {\"threshold\": 0.1679999977350235, \"p\": 28041, \"fpr\": 0.391435011269722, \"tpr\": 0.9734317606362113, \"n\": 5324}, {\"threshold\": 0.16899999976158142, \"p\": 28041, \"fpr\": 0.39068369646882045, \"tpr\": 0.9733247744374309, \"n\": 5324}, {\"threshold\": 0.17000000178813934, \"p\": 28041, \"fpr\": 0.3893688955672427, \"tpr\": 0.9732177882386506, \"n\": 5324}, {\"threshold\": 0.17100000381469727, \"p\": 28041, \"fpr\": 0.3882419233658903, \"tpr\": 0.9732177882386506, \"n\": 5324}, {\"threshold\": 0.1720000058412552, \"p\": 28041, \"fpr\": 0.3878662659654395, \"tpr\": 0.9731464641061303, \"n\": 5324}, {\"threshold\": 0.17299999296665192, \"p\": 28041, \"fpr\": 0.38692712246431255, \"tpr\": 0.9731464641061303, \"n\": 5324}, {\"threshold\": 0.17399999499320984, \"p\": 28041, \"fpr\": 0.38673929376408717, \"tpr\": 0.9730751399736101, \"n\": 5324}, {\"threshold\": 0.17499999701976776, \"p\": 28041, \"fpr\": 0.38655146506386173, \"tpr\": 0.9729324917085695, \"n\": 5324}, {\"threshold\": 0.17599999904632568, \"p\": 28041, \"fpr\": 0.38580015026296016, \"tpr\": 0.9728968296423095, \"n\": 5324}, {\"threshold\": 0.1770000010728836, \"p\": 28041, \"fpr\": 0.384297520661157, \"tpr\": 0.9728611675760493, \"n\": 5324}, {\"threshold\": 0.17800000309944153, \"p\": 28041, \"fpr\": 0.38354620586025545, \"tpr\": 0.972754181377269, \"n\": 5324}, {\"threshold\": 0.17900000512599945, \"p\": 28041, \"fpr\": 0.38317054845980464, \"tpr\": 0.9726828572447488, \"n\": 5324}, {\"threshold\": 0.18000000715255737, \"p\": 28041, \"fpr\": 0.3822314049586777, \"tpr\": 0.9725758710459684, \"n\": 5324}, {\"threshold\": 0.1809999942779541, \"p\": 28041, \"fpr\": 0.3816679188580015, \"tpr\": 0.9725045469134481, \"n\": 5324}, {\"threshold\": 0.18199999630451202, \"p\": 28041, \"fpr\": 0.38091660405709993, \"tpr\": 0.9722905745158874, \"n\": 5324}, {\"threshold\": 0.18299999833106995, \"p\": 28041, \"fpr\": 0.38016528925619836, \"tpr\": 0.972147926250847, \"n\": 5324}, {\"threshold\": 0.18400000035762787, \"p\": 28041, \"fpr\": 0.37978963185574754, \"tpr\": 0.9720052779858065, \"n\": 5324}, {\"threshold\": 0.1850000023841858, \"p\": 28041, \"fpr\": 0.37922614575507135, \"tpr\": 0.9719339538532863, \"n\": 5324}, {\"threshold\": 0.1860000044107437, \"p\": 28041, \"fpr\": 0.3782870022539444, \"tpr\": 0.9719339538532863, \"n\": 5324}, {\"threshold\": 0.18700000643730164, \"p\": 28041, \"fpr\": 0.377160030052592, \"tpr\": 0.9717913055882458, \"n\": 5324}, {\"threshold\": 0.18799999356269836, \"p\": 28041, \"fpr\": 0.377160030052592, \"tpr\": 0.9717556435219856, \"n\": 5324}, {\"threshold\": 0.1889999955892563, \"p\": 28041, \"fpr\": 0.37678437265214126, \"tpr\": 0.9716843193894654, \"n\": 5324}, {\"threshold\": 0.1899999976158142, \"p\": 28041, \"fpr\": 0.37640871525169045, \"tpr\": 0.9715416711244249, \"n\": 5324}, {\"threshold\": 0.19099999964237213, \"p\": 28041, \"fpr\": 0.37584522915101426, \"tpr\": 0.9714703469919047, \"n\": 5324}, {\"threshold\": 0.19200000166893005, \"p\": 28041, \"fpr\": 0.3756574004507889, \"tpr\": 0.9713633607931244, \"n\": 5324}, {\"threshold\": 0.19300000369548798, \"p\": 28041, \"fpr\": 0.3750939143501127, \"tpr\": 0.9712920366606042, \"n\": 5324}, {\"threshold\": 0.1940000057220459, \"p\": 28041, \"fpr\": 0.37471825694966193, \"tpr\": 0.9712207125280838, \"n\": 5324}, {\"threshold\": 0.19499999284744263, \"p\": 28041, \"fpr\": 0.3743425995492111, \"tpr\": 0.9711493883955636, \"n\": 5324}, {\"threshold\": 0.19599999487400055, \"p\": 28041, \"fpr\": 0.3739669421487603, \"tpr\": 0.9710780642630434, \"n\": 5324}, {\"threshold\": 0.19699999690055847, \"p\": 28041, \"fpr\": 0.3737791134485349, \"tpr\": 0.9710424021967833, \"n\": 5324}, {\"threshold\": 0.1979999989271164, \"p\": 28041, \"fpr\": 0.37359128474830955, \"tpr\": 0.9710067401305231, \"n\": 5324}, {\"threshold\": 0.19900000095367432, \"p\": 28041, \"fpr\": 0.37321562734785874, \"tpr\": 0.9708997539317428, \"n\": 5324}, {\"threshold\": 0.20000000298023224, \"p\": 28041, \"fpr\": 0.37246431254695717, \"tpr\": 0.9708640918654827, \"n\": 5324}, {\"threshold\": 0.20100000500679016, \"p\": 28041, \"fpr\": 0.371900826446281, \"tpr\": 0.9708284297992226, \"n\": 5324}, {\"threshold\": 0.20200000703334808, \"p\": 28041, \"fpr\": 0.3715251690458302, \"tpr\": 0.9707214436004422, \"n\": 5324}, {\"threshold\": 0.2029999941587448, \"p\": 28041, \"fpr\": 0.3715251690458302, \"tpr\": 0.9706857815341821, \"n\": 5324}, {\"threshold\": 0.20399999618530273, \"p\": 28041, \"fpr\": 0.370961682945154, \"tpr\": 0.9705074712028815, \"n\": 5324}, {\"threshold\": 0.20499999821186066, \"p\": 28041, \"fpr\": 0.36983471074380164, \"tpr\": 0.9703291608715809, \"n\": 5324}, {\"threshold\": 0.20600000023841858, \"p\": 28041, \"fpr\": 0.3688955672426747, \"tpr\": 0.9702578367390606, \"n\": 5324}, {\"threshold\": 0.2070000022649765, \"p\": 28041, \"fpr\": 0.3685199098422239, \"tpr\": 0.9702578367390606, \"n\": 5324}, {\"threshold\": 0.20800000429153442, \"p\": 28041, \"fpr\": 0.3681442524417731, \"tpr\": 0.9701508505402803, \"n\": 5324}, {\"threshold\": 0.20900000631809235, \"p\": 28041, \"fpr\": 0.3672051089406461, \"tpr\": 0.9700795264077601, \"n\": 5324}, {\"threshold\": 0.20999999344348907, \"p\": 28041, \"fpr\": 0.36589030803906836, \"tpr\": 0.9700082022752399, \"n\": 5324}, {\"threshold\": 0.210999995470047, \"p\": 28041, \"fpr\": 0.3655146506386176, \"tpr\": 0.9699012160764595, \"n\": 5324}, {\"threshold\": 0.21199999749660492, \"p\": 28041, \"fpr\": 0.36532682193839217, \"tpr\": 0.9696872436788988, \"n\": 5324}, {\"threshold\": 0.21299999952316284, \"p\": 28041, \"fpr\": 0.36476333583771603, \"tpr\": 0.9696515816126386, \"n\": 5324}, {\"threshold\": 0.21400000154972076, \"p\": 28041, \"fpr\": 0.3643876784372652, \"tpr\": 0.9695445954138583, \"n\": 5324}, {\"threshold\": 0.2150000035762787, \"p\": 28041, \"fpr\": 0.363824192336589, \"tpr\": 0.9695089333475981, \"n\": 5324}, {\"threshold\": 0.2160000056028366, \"p\": 28041, \"fpr\": 0.3628850488354621, \"tpr\": 0.9694376092150779, \"n\": 5324}, {\"threshold\": 0.21699999272823334, \"p\": 28041, \"fpr\": 0.36250939143501126, \"tpr\": 0.9694376092150779, \"n\": 5324}, {\"threshold\": 0.21799999475479126, \"p\": 28041, \"fpr\": 0.3613824192336589, \"tpr\": 0.9694376092150779, \"n\": 5324}, {\"threshold\": 0.21899999678134918, \"p\": 28041, \"fpr\": 0.3606311044327573, \"tpr\": 0.9693662850825577, \"n\": 5324}, {\"threshold\": 0.2199999988079071, \"p\": 28041, \"fpr\": 0.35969196093163036, \"tpr\": 0.9693306230162976, \"n\": 5324}, {\"threshold\": 0.22100000083446503, \"p\": 28041, \"fpr\": 0.35912847483095417, \"tpr\": 0.9692236368175172, \"n\": 5324}, {\"threshold\": 0.22200000286102295, \"p\": 28041, \"fpr\": 0.3589406461307288, \"tpr\": 0.9692236368175172, \"n\": 5324}, {\"threshold\": 0.22300000488758087, \"p\": 28041, \"fpr\": 0.358564988730278, \"tpr\": 0.9690096644199565, \"n\": 5324}, {\"threshold\": 0.2240000069141388, \"p\": 28041, \"fpr\": 0.35762584522915103, \"tpr\": 0.968867016154916, \"n\": 5324}, {\"threshold\": 0.22499999403953552, \"p\": 28041, \"fpr\": 0.35687453042824946, \"tpr\": 0.968831354088656, \"n\": 5324}, {\"threshold\": 0.22599999606609344, \"p\": 28041, \"fpr\": 0.35631104432757327, \"tpr\": 0.9687243678898756, \"n\": 5324}, {\"threshold\": 0.22699999809265137, \"p\": 28041, \"fpr\": 0.35612321562734783, \"tpr\": 0.9685103954923149, \"n\": 5324}, {\"threshold\": 0.2280000001192093, \"p\": 28041, \"fpr\": 0.3555597295266717, \"tpr\": 0.9684390713597946, \"n\": 5324}, {\"threshold\": 0.2290000021457672, \"p\": 28041, \"fpr\": 0.35480841472577007, \"tpr\": 0.9684034092935345, \"n\": 5324}, {\"threshold\": 0.23000000417232513, \"p\": 28041, \"fpr\": 0.3544327573253193, \"tpr\": 0.9683677472272744, \"n\": 5324}, {\"threshold\": 0.23100000619888306, \"p\": 28041, \"fpr\": 0.35368144252441774, \"tpr\": 0.968260761028494, \"n\": 5324}, {\"threshold\": 0.23199999332427979, \"p\": 28041, \"fpr\": 0.35274229902329074, \"tpr\": 0.9681894368959737, \"n\": 5324}, {\"threshold\": 0.2329999953508377, \"p\": 28041, \"fpr\": 0.35236664162284, \"tpr\": 0.9681181127634535, \"n\": 5324}, {\"threshold\": 0.23399999737739563, \"p\": 28041, \"fpr\": 0.35199098422238917, \"tpr\": 0.9680824506971933, \"n\": 5324}, {\"threshold\": 0.23499999940395355, \"p\": 28041, \"fpr\": 0.3518031555221638, \"tpr\": 0.9680824506971933, \"n\": 5324}, {\"threshold\": 0.23600000143051147, \"p\": 28041, \"fpr\": 0.35086401202103684, \"tpr\": 0.9680467886309333, \"n\": 5324}, {\"threshold\": 0.2370000034570694, \"p\": 28041, \"fpr\": 0.35048835462058603, \"tpr\": 0.9680111265646731, \"n\": 5324}, {\"threshold\": 0.23800000548362732, \"p\": 28041, \"fpr\": 0.3495492111194591, \"tpr\": 0.967975464498413, \"n\": 5324}, {\"threshold\": 0.23899999260902405, \"p\": 28041, \"fpr\": 0.3489857250187829, \"tpr\": 0.9679398024321529, \"n\": 5324}, {\"threshold\": 0.23999999463558197, \"p\": 28041, \"fpr\": 0.34879789631855745, \"tpr\": 0.9676545059020719, \"n\": 5324}, {\"threshold\": 0.2409999966621399, \"p\": 28041, \"fpr\": 0.3480465815176559, \"tpr\": 0.9675475197032916, \"n\": 5324}, {\"threshold\": 0.24199999868869781, \"p\": 28041, \"fpr\": 0.3478587528174305, \"tpr\": 0.9674761955707714, \"n\": 5324}, {\"threshold\": 0.24300000071525574, \"p\": 28041, \"fpr\": 0.3476709241172051, \"tpr\": 0.9672978852394708, \"n\": 5324}, {\"threshold\": 0.24400000274181366, \"p\": 28041, \"fpr\": 0.3472952667167543, \"tpr\": 0.9672265611069505, \"n\": 5324}, {\"threshold\": 0.24500000476837158, \"p\": 28041, \"fpr\": 0.34635612321562737, \"tpr\": 0.9671195749081701, \"n\": 5324}, {\"threshold\": 0.2460000067949295, \"p\": 28041, \"fpr\": 0.3456048084147258, \"tpr\": 0.9670482507756499, \"n\": 5324}, {\"threshold\": 0.24699999392032623, \"p\": 28041, \"fpr\": 0.3456048084147258, \"tpr\": 0.9669769266431297, \"n\": 5324}, {\"threshold\": 0.24799999594688416, \"p\": 28041, \"fpr\": 0.345229151014275, \"tpr\": 0.9669412645768696, \"n\": 5324}, {\"threshold\": 0.24899999797344208, \"p\": 28041, \"fpr\": 0.34485349361382417, \"tpr\": 0.9668699404443494, \"n\": 5324}, {\"threshold\": 0.25, \"p\": 28041, \"fpr\": 0.3444778362133734, \"tpr\": 0.9668342783780892, \"n\": 5324}, {\"threshold\": 0.25099998712539673, \"p\": 28041, \"fpr\": 0.3441021788129226, \"tpr\": 0.9667986163118291, \"n\": 5324}, {\"threshold\": 0.25200000405311584, \"p\": 28041, \"fpr\": 0.3439143501126972, \"tpr\": 0.9666916301130487, \"n\": 5324}, {\"threshold\": 0.2529999911785126, \"p\": 28041, \"fpr\": 0.3435386927122464, \"tpr\": 0.9666203059805285, \"n\": 5324}, {\"threshold\": 0.2540000081062317, \"p\": 28041, \"fpr\": 0.34316303531179565, \"tpr\": 0.9665846439142683, \"n\": 5324}, {\"threshold\": 0.2549999952316284, \"p\": 28041, \"fpr\": 0.34278737791134484, \"tpr\": 0.9665489818480083, \"n\": 5324}, {\"threshold\": 0.25600001215934753, \"p\": 28041, \"fpr\": 0.34203606311044327, \"tpr\": 0.966441995649228, \"n\": 5324}, {\"threshold\": 0.25699999928474426, \"p\": 28041, \"fpr\": 0.3416604057099925, \"tpr\": 0.9664063335829678, \"n\": 5324}, {\"threshold\": 0.257999986410141, \"p\": 28041, \"fpr\": 0.3414725770097671, \"tpr\": 0.9663350094504476, \"n\": 5324}, {\"threshold\": 0.2590000033378601, \"p\": 28041, \"fpr\": 0.34034560480841475, \"tpr\": 0.9662993473841874, \"n\": 5324}, {\"threshold\": 0.25999999046325684, \"p\": 28041, \"fpr\": 0.3401577761081893, \"tpr\": 0.9662280232516672, \"n\": 5324}, {\"threshold\": 0.26100000739097595, \"p\": 28041, \"fpr\": 0.3401577761081893, \"tpr\": 0.9661566991191469, \"n\": 5324}, {\"threshold\": 0.2619999945163727, \"p\": 28041, \"fpr\": 0.33978211870773856, \"tpr\": 0.9661566991191469, \"n\": 5324}, {\"threshold\": 0.2630000114440918, \"p\": 28041, \"fpr\": 0.33921863260706236, \"tpr\": 0.9660853749866267, \"n\": 5324}, {\"threshold\": 0.2639999985694885, \"p\": 28041, \"fpr\": 0.33884297520661155, \"tpr\": 0.9660140508541065, \"n\": 5324}, {\"threshold\": 0.26499998569488525, \"p\": 28041, \"fpr\": 0.33827948910593536, \"tpr\": 0.9659783887878464, \"n\": 5324}, {\"threshold\": 0.26600000262260437, \"p\": 28041, \"fpr\": 0.33809166040571, \"tpr\": 0.9658357405228059, \"n\": 5324}, {\"threshold\": 0.2669999897480011, \"p\": 28041, \"fpr\": 0.33715251690458303, \"tpr\": 0.9658000784565458, \"n\": 5324}, {\"threshold\": 0.2680000066757202, \"p\": 28041, \"fpr\": 0.3367768595041322, \"tpr\": 0.9656930922577655, \"n\": 5324}, {\"threshold\": 0.26899999380111694, \"p\": 28041, \"fpr\": 0.33640120210368146, \"tpr\": 0.9656217681252451, \"n\": 5324}, {\"threshold\": 0.27000001072883606, \"p\": 28041, \"fpr\": 0.33621337340345603, \"tpr\": 0.9656217681252451, \"n\": 5324}, {\"threshold\": 0.2709999978542328, \"p\": 28041, \"fpr\": 0.33602554470323065, \"tpr\": 0.9654791198602047, \"n\": 5324}, {\"threshold\": 0.2720000147819519, \"p\": 28041, \"fpr\": 0.3350864012021037, \"tpr\": 0.9654791198602047, \"n\": 5324}, {\"threshold\": 0.27300000190734863, \"p\": 28041, \"fpr\": 0.3345229151014275, \"tpr\": 0.9654434577939446, \"n\": 5324}, {\"threshold\": 0.27399998903274536, \"p\": 28041, \"fpr\": 0.3339594290007513, \"tpr\": 0.9653364715951642, \"n\": 5324}, {\"threshold\": 0.2750000059604645, \"p\": 28041, \"fpr\": 0.3333959429000751, \"tpr\": 0.9652294853963839, \"n\": 5324}, {\"threshold\": 0.2759999930858612, \"p\": 28041, \"fpr\": 0.33302028549962437, \"tpr\": 0.9651938233301237, \"n\": 5324}, {\"threshold\": 0.2770000100135803, \"p\": 28041, \"fpr\": 0.33264462809917356, \"tpr\": 0.9651938233301237, \"n\": 5324}, {\"threshold\": 0.27799999713897705, \"p\": 28041, \"fpr\": 0.33226897069872274, \"tpr\": 0.9651581612638637, \"n\": 5324}, {\"threshold\": 0.27900001406669617, \"p\": 28041, \"fpr\": 0.331893313298272, \"tpr\": 0.9650868371313434, \"n\": 5324}, {\"threshold\": 0.2800000011920929, \"p\": 28041, \"fpr\": 0.3317054845980466, \"tpr\": 0.9650868371313434, \"n\": 5324}, {\"threshold\": 0.2809999883174896, \"p\": 28041, \"fpr\": 0.3313298271975958, \"tpr\": 0.964979850932563, \"n\": 5324}, {\"threshold\": 0.28200000524520874, \"p\": 28041, \"fpr\": 0.3313298271975958, \"tpr\": 0.964944188866303, \"n\": 5324}, {\"threshold\": 0.28299999237060547, \"p\": 28041, \"fpr\": 0.33039068369646885, \"tpr\": 0.9648372026675226, \"n\": 5324}, {\"threshold\": 0.2840000092983246, \"p\": 28041, \"fpr\": 0.33001502629601803, \"tpr\": 0.9647302164687422, \"n\": 5324}, {\"threshold\": 0.2849999964237213, \"p\": 28041, \"fpr\": 0.32945154019534184, \"tpr\": 0.9645875682037017, \"n\": 5324}, {\"threshold\": 0.28600001335144043, \"p\": 28041, \"fpr\": 0.32926371149511646, \"tpr\": 0.9645519061374416, \"n\": 5324}, {\"threshold\": 0.28700000047683716, \"p\": 28041, \"fpr\": 0.32870022539444027, \"tpr\": 0.9644092578724012, \"n\": 5324}, {\"threshold\": 0.2879999876022339, \"p\": 28041, \"fpr\": 0.3281367392937641, \"tpr\": 0.9643022716736208, \"n\": 5324}, {\"threshold\": 0.289000004529953, \"p\": 28041, \"fpr\": 0.3277610818933133, \"tpr\": 0.9641952854748405, \"n\": 5324}, {\"threshold\": 0.28999999165534973, \"p\": 28041, \"fpr\": 0.3273854244928625, \"tpr\": 0.9640526372098, \"n\": 5324}, {\"threshold\": 0.29100000858306885, \"p\": 28041, \"fpr\": 0.3268219383921863, \"tpr\": 0.9639813130772797, \"n\": 5324}, {\"threshold\": 0.2919999957084656, \"p\": 28041, \"fpr\": 0.32644628099173556, \"tpr\": 0.9638743268784994, \"n\": 5324}, {\"threshold\": 0.2930000126361847, \"p\": 28041, \"fpr\": 0.32588279489105937, \"tpr\": 0.963767340679719, \"n\": 5324}, {\"threshold\": 0.2939999997615814, \"p\": 28041, \"fpr\": 0.32588279489105937, \"tpr\": 0.9636246924146785, \"n\": 5324}, {\"threshold\": 0.29499998688697815, \"p\": 28041, \"fpr\": 0.32569496619083393, \"tpr\": 0.9635177062158982, \"n\": 5324}, {\"threshold\": 0.29600000381469727, \"p\": 28041, \"fpr\": 0.3251314800901578, \"tpr\": 0.963482044149638, \"n\": 5324}, {\"threshold\": 0.296999990940094, \"p\": 28041, \"fpr\": 0.3243801652892562, \"tpr\": 0.9634107200171178, \"n\": 5324}, {\"threshold\": 0.2980000078678131, \"p\": 28041, \"fpr\": 0.3241923365890308, \"tpr\": 0.9633037338183374, \"n\": 5324}, {\"threshold\": 0.29899999499320984, \"p\": 28041, \"fpr\": 0.3236288504883546, \"tpr\": 0.9632680717520773, \"n\": 5324}, {\"threshold\": 0.30000001192092896, \"p\": 28041, \"fpr\": 0.3234410217881292, \"tpr\": 0.9631254234870369, \"n\": 5324}, {\"threshold\": 0.3009999990463257, \"p\": 28041, \"fpr\": 0.32268970698722765, \"tpr\": 0.9630897614207767, \"n\": 5324}, {\"threshold\": 0.3019999861717224, \"p\": 28041, \"fpr\": 0.3225018782870023, \"tpr\": 0.9629827752219964, \"n\": 5324}, {\"threshold\": 0.30300000309944153, \"p\": 28041, \"fpr\": 0.3219383921863261, \"tpr\": 0.9629827752219964, \"n\": 5324}, {\"threshold\": 0.30399999022483826, \"p\": 28041, \"fpr\": 0.3213749060856499, \"tpr\": 0.9629114510894762, \"n\": 5324}, {\"threshold\": 0.3050000071525574, \"p\": 28041, \"fpr\": 0.3208114199849737, \"tpr\": 0.9628401269569559, \"n\": 5324}, {\"threshold\": 0.3059999942779541, \"p\": 28041, \"fpr\": 0.3202479338842975, \"tpr\": 0.9627331407581755, \"n\": 5324}, {\"threshold\": 0.3070000112056732, \"p\": 28041, \"fpr\": 0.3202479338842975, \"tpr\": 0.9626618166256553, \"n\": 5324}, {\"threshold\": 0.30799999833106995, \"p\": 28041, \"fpr\": 0.31987227648384675, \"tpr\": 0.9626618166256553, \"n\": 5324}, {\"threshold\": 0.3089999854564667, \"p\": 28041, \"fpr\": 0.31893313298271975, \"tpr\": 0.9626618166256553, \"n\": 5324}, {\"threshold\": 0.3100000023841858, \"p\": 28041, \"fpr\": 0.31874530428249437, \"tpr\": 0.9624835062943546, \"n\": 5324}, {\"threshold\": 0.3109999895095825, \"p\": 28041, \"fpr\": 0.3179939894815928, \"tpr\": 0.9624478442280946, \"n\": 5324}, {\"threshold\": 0.31200000643730164, \"p\": 28041, \"fpr\": 0.3178061607813674, \"tpr\": 0.9623408580293142, \"n\": 5324}, {\"threshold\": 0.31299999356269836, \"p\": 28041, \"fpr\": 0.3174305033809166, \"tpr\": 0.9622338718305339, \"n\": 5324}, {\"threshold\": 0.3140000104904175, \"p\": 28041, \"fpr\": 0.3168670172802404, \"tpr\": 0.9622338718305339, \"n\": 5324}, {\"threshold\": 0.3149999976158142, \"p\": 28041, \"fpr\": 0.31574004507888803, \"tpr\": 0.9621982097642737, \"n\": 5324}, {\"threshold\": 0.3160000145435333, \"p\": 28041, \"fpr\": 0.3153643876784373, \"tpr\": 0.9620555614992332, \"n\": 5324}, {\"threshold\": 0.31700000166893005, \"p\": 28041, \"fpr\": 0.3146130728775357, \"tpr\": 0.9619129132341928, \"n\": 5324}, {\"threshold\": 0.3179999887943268, \"p\": 28041, \"fpr\": 0.31442524417731027, \"tpr\": 0.9618415891016725, \"n\": 5324}, {\"threshold\": 0.3190000057220459, \"p\": 28041, \"fpr\": 0.3140495867768595, \"tpr\": 0.9617346029028921, \"n\": 5324}, {\"threshold\": 0.3199999928474426, \"p\": 28041, \"fpr\": 0.31386175807663413, \"tpr\": 0.9616632787703719, \"n\": 5324}, {\"threshold\": 0.32100000977516174, \"p\": 28041, \"fpr\": 0.3136739293764087, \"tpr\": 0.9615562925715916, \"n\": 5324}, {\"threshold\": 0.32199999690055847, \"p\": 28041, \"fpr\": 0.31329827197595794, \"tpr\": 0.9613423201740309, \"n\": 5324}, {\"threshold\": 0.3230000138282776, \"p\": 28041, \"fpr\": 0.3131104432757325, \"tpr\": 0.9613423201740309, \"n\": 5324}, {\"threshold\": 0.3240000009536743, \"p\": 28041, \"fpr\": 0.31292261457550713, \"tpr\": 0.9612709960415107, \"n\": 5324}, {\"threshold\": 0.32499998807907104, \"p\": 28041, \"fpr\": 0.3125469571750564, \"tpr\": 0.9611996719089904, \"n\": 5324}, {\"threshold\": 0.32600000500679016, \"p\": 28041, \"fpr\": 0.31217129977460556, \"tpr\": 0.96109268571021, \"n\": 5324}, {\"threshold\": 0.3269999921321869, \"p\": 28041, \"fpr\": 0.31179564237415475, \"tpr\": 0.96105702364395, \"n\": 5324}, {\"threshold\": 0.328000009059906, \"p\": 28041, \"fpr\": 0.3106686701728024, \"tpr\": 0.9609856995114296, \"n\": 5324}, {\"threshold\": 0.32899999618530273, \"p\": 28041, \"fpr\": 0.30991735537190085, \"tpr\": 0.9609143753789094, \"n\": 5324}, {\"threshold\": 0.33000001311302185, \"p\": 28041, \"fpr\": 0.3091660405709992, \"tpr\": 0.9608787133126493, \"n\": 5324}, {\"threshold\": 0.3310000002384186, \"p\": 28041, \"fpr\": 0.30879038317054847, \"tpr\": 0.9608430512463892, \"n\": 5324}, {\"threshold\": 0.3319999873638153, \"p\": 28041, \"fpr\": 0.3086025544703231, \"tpr\": 0.9607360650476089, \"n\": 5324}, {\"threshold\": 0.3330000042915344, \"p\": 28041, \"fpr\": 0.30841472577009765, \"tpr\": 0.9606647409150886, \"n\": 5324}, {\"threshold\": 0.33399999141693115, \"p\": 28041, \"fpr\": 0.3074755822689707, \"tpr\": 0.9606647409150886, \"n\": 5324}, {\"threshold\": 0.33500000834465027, \"p\": 28041, \"fpr\": 0.3070999248685199, \"tpr\": 0.9606290788488285, \"n\": 5324}, {\"threshold\": 0.335999995470047, \"p\": 28041, \"fpr\": 0.30672426746806913, \"tpr\": 0.9605934167825684, \"n\": 5324}, {\"threshold\": 0.3370000123977661, \"p\": 28041, \"fpr\": 0.3063486100676183, \"tpr\": 0.9604507685175279, \"n\": 5324}, {\"threshold\": 0.33799999952316284, \"p\": 28041, \"fpr\": 0.30597295266716756, \"tpr\": 0.9603437823187475, \"n\": 5324}, {\"threshold\": 0.33899998664855957, \"p\": 28041, \"fpr\": 0.30559729526671675, \"tpr\": 0.9603081202524875, \"n\": 5324}, {\"threshold\": 0.3400000035762787, \"p\": 28041, \"fpr\": 0.3046581517655898, \"tpr\": 0.9601298099211868, \"n\": 5324}, {\"threshold\": 0.3409999907016754, \"p\": 28041, \"fpr\": 0.30447032306536437, \"tpr\": 0.9600584857886666, \"n\": 5324}, {\"threshold\": 0.34200000762939453, \"p\": 28041, \"fpr\": 0.3037190082644628, \"tpr\": 0.9599514995898862, \"n\": 5324}, {\"threshold\": 0.34299999475479126, \"p\": 28041, \"fpr\": 0.3037190082644628, \"tpr\": 0.9598445133911059, \"n\": 5324}, {\"threshold\": 0.3440000116825104, \"p\": 28041, \"fpr\": 0.3035311795642374, \"tpr\": 0.9596305409935452, \"n\": 5324}, {\"threshold\": 0.3449999988079071, \"p\": 28041, \"fpr\": 0.3029676934635612, \"tpr\": 0.959559216861025, \"n\": 5324}, {\"threshold\": 0.34599998593330383, \"p\": 28041, \"fpr\": 0.30277986476333585, \"tpr\": 0.9595235547947648, \"n\": 5324}, {\"threshold\": 0.34700000286102295, \"p\": 28041, \"fpr\": 0.3020285499624343, \"tpr\": 0.9593809065297243, \"n\": 5324}, {\"threshold\": 0.3479999899864197, \"p\": 28041, \"fpr\": 0.30184072126220884, \"tpr\": 0.9593452444634643, \"n\": 5324}, {\"threshold\": 0.3490000069141388, \"p\": 28041, \"fpr\": 0.30165289256198347, \"tpr\": 0.9592739203309439, \"n\": 5324}, {\"threshold\": 0.3499999940395355, \"p\": 28041, \"fpr\": 0.30165289256198347, \"tpr\": 0.9592025961984237, \"n\": 5324}, {\"threshold\": 0.35100001096725464, \"p\": 28041, \"fpr\": 0.3007137490608565, \"tpr\": 0.9591312720659035, \"n\": 5324}, {\"threshold\": 0.35199999809265137, \"p\": 28041, \"fpr\": 0.3005259203606311, \"tpr\": 0.9590956099996434, \"n\": 5324}, {\"threshold\": 0.3529999852180481, \"p\": 28041, \"fpr\": 0.29996243425995495, \"tpr\": 0.9589529617346029, \"n\": 5324}, {\"threshold\": 0.3540000021457672, \"p\": 28041, \"fpr\": 0.2997746055597295, \"tpr\": 0.9588816376020827, \"n\": 5324}, {\"threshold\": 0.35499998927116394, \"p\": 28041, \"fpr\": 0.2997746055597295, \"tpr\": 0.9587389893370422, \"n\": 5324}, {\"threshold\": 0.35600000619888306, \"p\": 28041, \"fpr\": 0.29958677685950413, \"tpr\": 0.9587389893370422, \"n\": 5324}, {\"threshold\": 0.3569999933242798, \"p\": 28041, \"fpr\": 0.29902329075882794, \"tpr\": 0.9586320031382618, \"n\": 5324}, {\"threshold\": 0.3580000102519989, \"p\": 28041, \"fpr\": 0.29883546205860256, \"tpr\": 0.9585606790057416, \"n\": 5324}, {\"threshold\": 0.35899999737739563, \"p\": 28041, \"fpr\": 0.29883546205860256, \"tpr\": 0.9584536928069612, \"n\": 5324}, {\"threshold\": 0.36000001430511475, \"p\": 28041, \"fpr\": 0.298084147257701, \"tpr\": 0.9584180307407011, \"n\": 5324}, {\"threshold\": 0.3610000014305115, \"p\": 28041, \"fpr\": 0.29789631855747556, \"tpr\": 0.9583110445419207, \"n\": 5324}, {\"threshold\": 0.3619999885559082, \"p\": 28041, \"fpr\": 0.2977084898572502, \"tpr\": 0.9582397204094005, \"n\": 5324}, {\"threshold\": 0.3630000054836273, \"p\": 28041, \"fpr\": 0.2973328324567994, \"tpr\": 0.9581327342106202, \"n\": 5324}, {\"threshold\": 0.36399999260902405, \"p\": 28041, \"fpr\": 0.2973328324567994, \"tpr\": 0.95809707214436, \"n\": 5324}, {\"threshold\": 0.36500000953674316, \"p\": 28041, \"fpr\": 0.2969571750563486, \"tpr\": 0.9579900859455797, \"n\": 5324}, {\"threshold\": 0.3659999966621399, \"p\": 28041, \"fpr\": 0.2965815176558978, \"tpr\": 0.9579187618130595, \"n\": 5324}, {\"threshold\": 0.367000013589859, \"p\": 28041, \"fpr\": 0.29620586025544704, \"tpr\": 0.9578830997467993, \"n\": 5324}, {\"threshold\": 0.36800000071525574, \"p\": 28041, \"fpr\": 0.29620586025544704, \"tpr\": 0.9577047894154987, \"n\": 5324}, {\"threshold\": 0.36899998784065247, \"p\": 28041, \"fpr\": 0.29620586025544704, \"tpr\": 0.9575264790841982, \"n\": 5324}, {\"threshold\": 0.3700000047683716, \"p\": 28041, \"fpr\": 0.29601803155522166, \"tpr\": 0.957490817017938, \"n\": 5324}, {\"threshold\": 0.3709999918937683, \"p\": 28041, \"fpr\": 0.29601803155522166, \"tpr\": 0.9573838308191577, \"n\": 5324}, {\"threshold\": 0.3720000088214874, \"p\": 28041, \"fpr\": 0.2958302028549962, \"tpr\": 0.9573125066866375, \"n\": 5324}, {\"threshold\": 0.37299999594688416, \"p\": 28041, \"fpr\": 0.29526671675432004, \"tpr\": 0.9573125066866375, \"n\": 5324}, {\"threshold\": 0.37400001287460327, \"p\": 28041, \"fpr\": 0.2948910593538693, \"tpr\": 0.9573125066866375, \"n\": 5324}, {\"threshold\": 0.375, \"p\": 28041, \"fpr\": 0.2947032306536439, \"tpr\": 0.9572055204878571, \"n\": 5324}, {\"threshold\": 0.37599998712539673, \"p\": 28041, \"fpr\": 0.2941397445529677, \"tpr\": 0.9572055204878571, \"n\": 5324}, {\"threshold\": 0.37700000405311584, \"p\": 28041, \"fpr\": 0.2939519158527423, \"tpr\": 0.9571341963553368, \"n\": 5324}, {\"threshold\": 0.3779999911785126, \"p\": 28041, \"fpr\": 0.2935762584522915, \"tpr\": 0.9568488998252559, \"n\": 5324}, {\"threshold\": 0.3790000081062317, \"p\": 28041, \"fpr\": 0.2930127723516153, \"tpr\": 0.9568132377589957, \"n\": 5324}, {\"threshold\": 0.3799999952316284, \"p\": 28041, \"fpr\": 0.29282494365138995, \"tpr\": 0.9566705894939552, \"n\": 5324}, {\"threshold\": 0.38100001215934753, \"p\": 28041, \"fpr\": 0.29226145755071375, \"tpr\": 0.956599265361435, \"n\": 5324}, {\"threshold\": 0.38199999928474426, \"p\": 28041, \"fpr\": 0.2915101427498122, \"tpr\": 0.9565279412289148, \"n\": 5324}, {\"threshold\": 0.382999986410141, \"p\": 28041, \"fpr\": 0.29132231404958675, \"tpr\": 0.9563496308976142, \"n\": 5324}, {\"threshold\": 0.3840000033378601, \"p\": 28041, \"fpr\": 0.29113448534936137, \"tpr\": 0.9562426446988338, \"n\": 5324}, {\"threshold\": 0.38499999046325684, \"p\": 28041, \"fpr\": 0.29113448534936137, \"tpr\": 0.9561356585000534, \"n\": 5324}, {\"threshold\": 0.38600000739097595, \"p\": 28041, \"fpr\": 0.290007513148009, \"tpr\": 0.9560999964337934, \"n\": 5324}, {\"threshold\": 0.3869999945163727, \"p\": 28041, \"fpr\": 0.28963185574755823, \"tpr\": 0.9560999964337934, \"n\": 5324}, {\"threshold\": 0.3880000114440918, \"p\": 28041, \"fpr\": 0.2886927122464313, \"tpr\": 0.9559573481687529, \"n\": 5324}, {\"threshold\": 0.3889999985694885, \"p\": 28041, \"fpr\": 0.28794139744552966, \"tpr\": 0.9558860240362327, \"n\": 5324}, {\"threshold\": 0.38999998569488525, \"p\": 28041, \"fpr\": 0.2877535687453043, \"tpr\": 0.9558146999037124, \"n\": 5324}, {\"threshold\": 0.39100000262260437, \"p\": 28041, \"fpr\": 0.2871900826446281, \"tpr\": 0.9557433757711922, \"n\": 5324}, {\"threshold\": 0.3919999897480011, \"p\": 28041, \"fpr\": 0.28681442524417733, \"tpr\": 0.9556363895724118, \"n\": 5324}, {\"threshold\": 0.3930000066757202, \"p\": 28041, \"fpr\": 0.28606311044327576, \"tpr\": 0.9554224171748511, \"n\": 5324}, {\"threshold\": 0.39399999380111694, \"p\": 28041, \"fpr\": 0.28568745304282495, \"tpr\": 0.9553510930423309, \"n\": 5324}, {\"threshold\": 0.39500001072883606, \"p\": 28041, \"fpr\": 0.28549962434259957, \"tpr\": 0.9552084447772904, \"n\": 5324}, {\"threshold\": 0.3959999978542328, \"p\": 28041, \"fpr\": 0.28512396694214875, \"tpr\": 0.9551371206447702, \"n\": 5324}, {\"threshold\": 0.3970000147819519, \"p\": 28041, \"fpr\": 0.28456048084147256, \"tpr\": 0.9550657965122499, \"n\": 5324}, {\"threshold\": 0.39800000190734863, \"p\": 28041, \"fpr\": 0.2841848234410218, \"tpr\": 0.9550657965122499, \"n\": 5324}, {\"threshold\": 0.39899998903274536, \"p\": 28041, \"fpr\": 0.2841848234410218, \"tpr\": 0.9549944723797297, \"n\": 5324}, {\"threshold\": 0.4000000059604645, \"p\": 28041, \"fpr\": 0.2836213373403456, \"tpr\": 0.9548874861809493, \"n\": 5324}, {\"threshold\": 0.4009999930858612, \"p\": 28041, \"fpr\": 0.2826821938392186, \"tpr\": 0.9548161620484291, \"n\": 5324}, {\"threshold\": 0.4020000100135803, \"p\": 28041, \"fpr\": 0.2821187077385425, \"tpr\": 0.9546735137833886, \"n\": 5324}, {\"threshold\": 0.40299999713897705, \"p\": 28041, \"fpr\": 0.2815552216378663, \"tpr\": 0.9546021896508684, \"n\": 5324}, {\"threshold\": 0.40400001406669617, \"p\": 28041, \"fpr\": 0.2815552216378663, \"tpr\": 0.9545665275846082, \"n\": 5324}, {\"threshold\": 0.4050000011920929, \"p\": 28041, \"fpr\": 0.2815552216378663, \"tpr\": 0.9545665275846082, \"n\": 5324}, {\"threshold\": 0.4059999883174896, \"p\": 28041, \"fpr\": 0.28136739293764085, \"tpr\": 0.9545308655183481, \"n\": 5324}, {\"threshold\": 0.40700000524520874, \"p\": 28041, \"fpr\": 0.28117956423741547, \"tpr\": 0.9545308655183481, \"n\": 5324}, {\"threshold\": 0.40799999237060547, \"p\": 28041, \"fpr\": 0.2806160781367393, \"tpr\": 0.9544595413858279, \"n\": 5324}, {\"threshold\": 0.4090000092983246, \"p\": 28041, \"fpr\": 0.2802404207362885, \"tpr\": 0.9543882172533077, \"n\": 5324}, {\"threshold\": 0.4099999964237213, \"p\": 28041, \"fpr\": 0.2800525920360631, \"tpr\": 0.9543882172533077, \"n\": 5324}, {\"threshold\": 0.41100001335144043, \"p\": 28041, \"fpr\": 0.2798647633358377, \"tpr\": 0.9541385827894868, \"n\": 5324}, {\"threshold\": 0.41200000047683716, \"p\": 28041, \"fpr\": 0.27948910593538695, \"tpr\": 0.9540672586569666, \"n\": 5324}, {\"threshold\": 0.4129999876022339, \"p\": 28041, \"fpr\": 0.27911344853493614, \"tpr\": 0.9540315965907065, \"n\": 5324}, {\"threshold\": 0.414000004529953, \"p\": 28041, \"fpr\": 0.27854996243425995, \"tpr\": 0.9539602724581863, \"n\": 5324}, {\"threshold\": 0.41499999165534973, \"p\": 28041, \"fpr\": 0.27854996243425995, \"tpr\": 0.9539246103919261, \"n\": 5324}, {\"threshold\": 0.41600000858306885, \"p\": 28041, \"fpr\": 0.2781743050338092, \"tpr\": 0.9538532862594059, \"n\": 5324}, {\"threshold\": 0.4169999957084656, \"p\": 28041, \"fpr\": 0.277610818933133, \"tpr\": 0.9538176241931458, \"n\": 5324}, {\"threshold\": 0.4180000126361847, \"p\": 28041, \"fpr\": 0.277610818933133, \"tpr\": 0.9537106379943654, \"n\": 5324}, {\"threshold\": 0.4189999997615814, \"p\": 28041, \"fpr\": 0.2772351615326822, \"tpr\": 0.953603651795585, \"n\": 5324}, {\"threshold\": 0.41999998688697815, \"p\": 28041, \"fpr\": 0.2772351615326822, \"tpr\": 0.9535679897293249, \"n\": 5324}, {\"threshold\": 0.42100000381469727, \"p\": 28041, \"fpr\": 0.2768595041322314, \"tpr\": 0.9534966655968047, \"n\": 5324}, {\"threshold\": 0.421999990940094, \"p\": 28041, \"fpr\": 0.276671675432006, \"tpr\": 0.9533896793980243, \"n\": 5324}, {\"threshold\": 0.4230000078678131, \"p\": 28041, \"fpr\": 0.2764838467317806, \"tpr\": 0.953282693199244, \"n\": 5324}, {\"threshold\": 0.42399999499320984, \"p\": 28041, \"fpr\": 0.2764838467317806, \"tpr\": 0.9531757070004636, \"n\": 5324}, {\"threshold\": 0.42500001192092896, \"p\": 28041, \"fpr\": 0.27629601803155523, \"tpr\": 0.9531400449342035, \"n\": 5324}, {\"threshold\": 0.4259999990463257, \"p\": 28041, \"fpr\": 0.27573253193087904, \"tpr\": 0.9531400449342035, \"n\": 5324}, {\"threshold\": 0.4269999861717224, \"p\": 28041, \"fpr\": 0.27516904583020285, \"tpr\": 0.9531043828679434, \"n\": 5324}, {\"threshold\": 0.42800000309944153, \"p\": 28041, \"fpr\": 0.2742299023290759, \"tpr\": 0.9528904104703827, \"n\": 5324}, {\"threshold\": 0.42899999022483826, \"p\": 28041, \"fpr\": 0.2736664162283997, \"tpr\": 0.9527477622053422, \"n\": 5324}, {\"threshold\": 0.4300000071525574, \"p\": 28041, \"fpr\": 0.2731029301277235, \"tpr\": 0.952676438072822, \"n\": 5324}, {\"threshold\": 0.4309999942779541, \"p\": 28041, \"fpr\": 0.2727272727272727, \"tpr\": 0.9526051139403017, \"n\": 5324}, {\"threshold\": 0.4320000112056732, \"p\": 28041, \"fpr\": 0.27197595792637114, \"tpr\": 0.9525337898077815, \"n\": 5324}, {\"threshold\": 0.43299999833106995, \"p\": 28041, \"fpr\": 0.2716003005259204, \"tpr\": 0.9524624656752613, \"n\": 5324}, {\"threshold\": 0.4339999854564667, \"p\": 28041, \"fpr\": 0.27141247182569495, \"tpr\": 0.9524268036090011, \"n\": 5324}, {\"threshold\": 0.4350000023841858, \"p\": 28041, \"fpr\": 0.2710368144252442, \"tpr\": 0.9524268036090011, \"n\": 5324}, {\"threshold\": 0.4359999895095825, \"p\": 28041, \"fpr\": 0.2710368144252442, \"tpr\": 0.9523198174102208, \"n\": 5324}, {\"threshold\": 0.43700000643730164, \"p\": 28041, \"fpr\": 0.2706611570247934, \"tpr\": 0.9522128312114404, \"n\": 5324}, {\"threshold\": 0.43799999356269836, \"p\": 28041, \"fpr\": 0.2700976709241172, \"tpr\": 0.9521771691451802, \"n\": 5324}, {\"threshold\": 0.4390000104904175, \"p\": 28041, \"fpr\": 0.2700976709241172, \"tpr\": 0.9521415070789202, \"n\": 5324}, {\"threshold\": 0.4399999976158142, \"p\": 28041, \"fpr\": 0.26953418482344105, \"tpr\": 0.9519988588138797, \"n\": 5324}, {\"threshold\": 0.4410000145435333, \"p\": 28041, \"fpr\": 0.26953418482344105, \"tpr\": 0.9518918726150993, \"n\": 5324}, {\"threshold\": 0.44200000166893005, \"p\": 28041, \"fpr\": 0.2693463561232156, \"tpr\": 0.9517492243500588, \"n\": 5324}, {\"threshold\": 0.4429999887943268, \"p\": 28041, \"fpr\": 0.26915852742299023, \"tpr\": 0.9517135622837988, \"n\": 5324}, {\"threshold\": 0.4440000057220459, \"p\": 28041, \"fpr\": 0.2682193839218633, \"tpr\": 0.9516779002175386, \"n\": 5324}, {\"threshold\": 0.4449999928474426, \"p\": 28041, \"fpr\": 0.2676558978211871, \"tpr\": 0.9516422381512785, \"n\": 5324}, {\"threshold\": 0.44600000977516174, \"p\": 28041, \"fpr\": 0.2672802404207363, \"tpr\": 0.9515352519524981, \"n\": 5324}, {\"threshold\": 0.44699999690055847, \"p\": 28041, \"fpr\": 0.2669045830202855, \"tpr\": 0.9514995898862381, \"n\": 5324}, {\"threshold\": 0.4480000138282776, \"p\": 28041, \"fpr\": 0.2667167543200601, \"tpr\": 0.9513212795549374, \"n\": 5324}, {\"threshold\": 0.4490000009536743, \"p\": 28041, \"fpr\": 0.2665289256198347, \"tpr\": 0.951178631289897, \"n\": 5324}, {\"threshold\": 0.44999998807907104, \"p\": 28041, \"fpr\": 0.2659654395191585, \"tpr\": 0.9511073071573767, \"n\": 5324}, {\"threshold\": 0.45100000500679016, \"p\": 28041, \"fpr\": 0.26521412471825695, \"tpr\": 0.9510003209585963, \"n\": 5324}, {\"threshold\": 0.4519999921321869, \"p\": 28041, \"fpr\": 0.26521412471825695, \"tpr\": 0.9508576726935558, \"n\": 5324}, {\"threshold\": 0.453000009059906, \"p\": 28041, \"fpr\": 0.26465063861758076, \"tpr\": 0.9508220106272958, \"n\": 5324}, {\"threshold\": 0.45399999618530273, \"p\": 28041, \"fpr\": 0.26465063861758076, \"tpr\": 0.9507506864947755, \"n\": 5324}, {\"threshold\": 0.45500001311302185, \"p\": 28041, \"fpr\": 0.2644628099173554, \"tpr\": 0.9506793623622553, \"n\": 5324}, {\"threshold\": 0.4560000002384186, \"p\": 28041, \"fpr\": 0.26427498121713, \"tpr\": 0.9505723761634749, \"n\": 5324}, {\"threshold\": 0.4569999873638153, \"p\": 28041, \"fpr\": 0.26408715251690457, \"tpr\": 0.9503584037659142, \"n\": 5324}, {\"threshold\": 0.4580000042915344, \"p\": 28041, \"fpr\": 0.2638993238166792, \"tpr\": 0.9501800934346136, \"n\": 5324}, {\"threshold\": 0.45899999141693115, \"p\": 28041, \"fpr\": 0.2638993238166792, \"tpr\": 0.9500731072358333, \"n\": 5324}, {\"threshold\": 0.46000000834465027, \"p\": 28041, \"fpr\": 0.2635236664162284, \"tpr\": 0.9498947969045326, \"n\": 5324}, {\"threshold\": 0.460999995470047, \"p\": 28041, \"fpr\": 0.263335837716003, \"tpr\": 0.9498234727720124, \"n\": 5324}, {\"threshold\": 0.4620000123977661, \"p\": 28041, \"fpr\": 0.2627723516153268, \"tpr\": 0.9495738383081915, \"n\": 5324}, {\"threshold\": 0.46299999952316284, \"p\": 28041, \"fpr\": 0.26239669421487605, \"tpr\": 0.9495381762419315, \"n\": 5324}, {\"threshold\": 0.46399998664855957, \"p\": 28041, \"fpr\": 0.2622088655146506, \"tpr\": 0.9494668521094112, \"n\": 5324}, {\"threshold\": 0.4650000035762787, \"p\": 28041, \"fpr\": 0.26202103681442523, \"tpr\": 0.9493242038443708, \"n\": 5324}, {\"threshold\": 0.4659999907016754, \"p\": 28041, \"fpr\": 0.26183320811419986, \"tpr\": 0.9492885417781106, \"n\": 5324}, {\"threshold\": 0.46700000762939453, \"p\": 28041, \"fpr\": 0.26145755071374904, \"tpr\": 0.9492172176455904, \"n\": 5324}, {\"threshold\": 0.46799999475479126, \"p\": 28041, \"fpr\": 0.26126972201352366, \"tpr\": 0.9490389073142897, \"n\": 5324}, {\"threshold\": 0.4690000116825104, \"p\": 28041, \"fpr\": 0.2605184072126221, \"tpr\": 0.9489675831817695, \"n\": 5324}, {\"threshold\": 0.4699999988079071, \"p\": 28041, \"fpr\": 0.2597670924117205, \"tpr\": 0.9489675831817695, \"n\": 5324}, {\"threshold\": 0.47099998593330383, \"p\": 28041, \"fpr\": 0.2597670924117205, \"tpr\": 0.9489319211155094, \"n\": 5324}, {\"threshold\": 0.47200000286102295, \"p\": 28041, \"fpr\": 0.25920360631104433, \"tpr\": 0.9487536107842088, \"n\": 5324}, {\"threshold\": 0.4729999899864197, \"p\": 28041, \"fpr\": 0.25901577761081895, \"tpr\": 0.9485753004529083, \"n\": 5324}, {\"threshold\": 0.4740000069141388, \"p\": 28041, \"fpr\": 0.25807663410969195, \"tpr\": 0.9485396383866481, \"n\": 5324}, {\"threshold\": 0.4749999940395355, \"p\": 28041, \"fpr\": 0.25788880540946657, \"tpr\": 0.948503976320388, \"n\": 5324}, {\"threshold\": 0.47600001096725464, \"p\": 28041, \"fpr\": 0.25788880540946657, \"tpr\": 0.9483256659890874, \"n\": 5324}, {\"threshold\": 0.47699999809265137, \"p\": 28041, \"fpr\": 0.2577009767092412, \"tpr\": 0.9481830177240469, \"n\": 5324}, {\"threshold\": 0.4779999852180481, \"p\": 28041, \"fpr\": 0.2569496619083396, \"tpr\": 0.9481116935915267, \"n\": 5324}, {\"threshold\": 0.4790000021457672, \"p\": 28041, \"fpr\": 0.2569496619083396, \"tpr\": 0.9480403694590065, \"n\": 5324}, {\"threshold\": 0.47999998927116394, \"p\": 28041, \"fpr\": 0.2565740045078888, \"tpr\": 0.947897721193966, \"n\": 5324}, {\"threshold\": 0.48100000619888306, \"p\": 28041, \"fpr\": 0.2560105184072126, \"tpr\": 0.9478263970614458, \"n\": 5324}, {\"threshold\": 0.4819999933242798, \"p\": 28041, \"fpr\": 0.25525920360631105, \"tpr\": 0.9477907349951856, \"n\": 5324}, {\"threshold\": 0.4830000102519989, \"p\": 28041, \"fpr\": 0.25507137490608567, \"tpr\": 0.9477194108626654, \"n\": 5324}, {\"threshold\": 0.48399999737739563, \"p\": 28041, \"fpr\": 0.25469571750563486, \"tpr\": 0.9475054384651047, \"n\": 5324}, {\"threshold\": 0.48500001430511475, \"p\": 28041, \"fpr\": 0.2543200601051841, \"tpr\": 0.9474341143325844, \"n\": 5324}, {\"threshold\": 0.4860000014305115, \"p\": 28041, \"fpr\": 0.2543200601051841, \"tpr\": 0.947291466067544, \"n\": 5324}, {\"threshold\": 0.4869999885559082, \"p\": 28041, \"fpr\": 0.25413223140495866, \"tpr\": 0.9471131557362433, \"n\": 5324}, {\"threshold\": 0.4880000054836273, \"p\": 28041, \"fpr\": 0.2535687453042825, \"tpr\": 0.9470774936699833, \"n\": 5324}, {\"threshold\": 0.48899999260902405, \"p\": 28041, \"fpr\": 0.2535687453042825, \"tpr\": 0.9469705074712029, \"n\": 5324}, {\"threshold\": 0.49000000953674316, \"p\": 28041, \"fpr\": 0.2528174305033809, \"tpr\": 0.9468635212724226, \"n\": 5324}, {\"threshold\": 0.4909999966621399, \"p\": 28041, \"fpr\": 0.25244177310293014, \"tpr\": 0.9468278592061624, \"n\": 5324}, {\"threshold\": 0.492000013589859, \"p\": 28041, \"fpr\": 0.2522539444027047, \"tpr\": 0.9467208730073821, \"n\": 5324}, {\"threshold\": 0.49300000071525574, \"p\": 28041, \"fpr\": 0.2522539444027047, \"tpr\": 0.9466495488748619, \"n\": 5324}, {\"threshold\": 0.49399998784065247, \"p\": 28041, \"fpr\": 0.2522539444027047, \"tpr\": 0.9465069006098213, \"n\": 5324}, {\"threshold\": 0.4950000047683716, \"p\": 28041, \"fpr\": 0.25206611570247933, \"tpr\": 0.946399914411041, \"n\": 5324}, {\"threshold\": 0.4959999918937683, \"p\": 28041, \"fpr\": 0.25206611570247933, \"tpr\": 0.9462216040797404, \"n\": 5324}, {\"threshold\": 0.4970000088214874, \"p\": 28041, \"fpr\": 0.25187828700225395, \"tpr\": 0.9460432937484398, \"n\": 5324}, {\"threshold\": 0.49799999594688416, \"p\": 28041, \"fpr\": 0.2516904583020286, \"tpr\": 0.9459006454833994, \"n\": 5324}, {\"threshold\": 0.49900001287460327, \"p\": 28041, \"fpr\": 0.2516904583020286, \"tpr\": 0.9457223351520987, \"n\": 5324}, {\"threshold\": 0.5, \"p\": 28041, \"fpr\": 0.2511269722013524, \"tpr\": 0.9455440248207981, \"n\": 5324}, {\"threshold\": 0.5009999871253967, \"p\": 28041, \"fpr\": 0.25075131480090157, \"tpr\": 0.9454727006882779, \"n\": 5324}, {\"threshold\": 0.5019999742507935, \"p\": 28041, \"fpr\": 0.2503756574004508, \"tpr\": 0.9454370386220178, \"n\": 5324}, {\"threshold\": 0.503000020980835, \"p\": 28041, \"fpr\": 0.2498121712997746, \"tpr\": 0.9453300524232374, \"n\": 5324}, {\"threshold\": 0.5040000081062317, \"p\": 28041, \"fpr\": 0.2494365138993238, \"tpr\": 0.9451874041581969, \"n\": 5324}, {\"threshold\": 0.5049999952316284, \"p\": 28041, \"fpr\": 0.2494365138993238, \"tpr\": 0.9450447558931564, \"n\": 5324}, {\"threshold\": 0.5059999823570251, \"p\": 28041, \"fpr\": 0.24868519909842224, \"tpr\": 0.9449734317606362, \"n\": 5324}, {\"threshold\": 0.5070000290870667, \"p\": 28041, \"fpr\": 0.24830954169797145, \"tpr\": 0.9448664455618558, \"n\": 5324}, {\"threshold\": 0.5080000162124634, \"p\": 28041, \"fpr\": 0.24830954169797145, \"tpr\": 0.9447237972968153, \"n\": 5324}, {\"threshold\": 0.5090000033378601, \"p\": 28041, \"fpr\": 0.24793388429752067, \"tpr\": 0.944616811098035, \"n\": 5324}, {\"threshold\": 0.5099999904632568, \"p\": 28041, \"fpr\": 0.24718256949661907, \"tpr\": 0.9445811490317749, \"n\": 5324}, {\"threshold\": 0.5109999775886536, \"p\": 28041, \"fpr\": 0.2466190833959429, \"tpr\": 0.9444028387004743, \"n\": 5324}, {\"threshold\": 0.5120000243186951, \"p\": 28041, \"fpr\": 0.2464312546957175, \"tpr\": 0.9443671766342142, \"n\": 5324}, {\"threshold\": 0.5130000114440918, \"p\": 28041, \"fpr\": 0.24605559729526671, \"tpr\": 0.9442958525016939, \"n\": 5324}, {\"threshold\": 0.5139999985694885, \"p\": 28041, \"fpr\": 0.24605559729526671, \"tpr\": 0.9441175421703933, \"n\": 5324}, {\"threshold\": 0.5149999856948853, \"p\": 28041, \"fpr\": 0.24511645379413974, \"tpr\": 0.944010555971613, \"n\": 5324}, {\"threshold\": 0.515999972820282, \"p\": 28041, \"fpr\": 0.24492862509391436, \"tpr\": 0.9439748939053528, \"n\": 5324}, {\"threshold\": 0.5170000195503235, \"p\": 28041, \"fpr\": 0.24455296769346357, \"tpr\": 0.9438679077065725, \"n\": 5324}, {\"threshold\": 0.5180000066757202, \"p\": 28041, \"fpr\": 0.24455296769346357, \"tpr\": 0.9438679077065725, \"n\": 5324}, {\"threshold\": 0.5189999938011169, \"p\": 28041, \"fpr\": 0.24455296769346357, \"tpr\": 0.9437965835740523, \"n\": 5324}, {\"threshold\": 0.5199999809265137, \"p\": 28041, \"fpr\": 0.24436513899323817, \"tpr\": 0.9437609215077921, \"n\": 5324}, {\"threshold\": 0.5210000276565552, \"p\": 28041, \"fpr\": 0.24398948159278738, \"tpr\": 0.9436895973752719, \"n\": 5324}, {\"threshold\": 0.5220000147819519, \"p\": 28041, \"fpr\": 0.2434259954921112, \"tpr\": 0.9435112870439714, \"n\": 5324}, {\"threshold\": 0.5230000019073486, \"p\": 28041, \"fpr\": 0.2430503380916604, \"tpr\": 0.943404300845191, \"n\": 5324}, {\"threshold\": 0.5239999890327454, \"p\": 28041, \"fpr\": 0.24229902329075884, \"tpr\": 0.9432973146464106, \"n\": 5324}, {\"threshold\": 0.5249999761581421, \"p\": 28041, \"fpr\": 0.24173553719008264, \"tpr\": 0.9431546663813701, \"n\": 5324}, {\"threshold\": 0.5260000228881836, \"p\": 28041, \"fpr\": 0.24135987978963186, \"tpr\": 0.9430833422488499, \"n\": 5324}, {\"threshold\": 0.5270000100135803, \"p\": 28041, \"fpr\": 0.24117205108940645, \"tpr\": 0.9429406939838094, \"n\": 5324}, {\"threshold\": 0.527999997138977, \"p\": 28041, \"fpr\": 0.24042073628850488, \"tpr\": 0.9428337077850291, \"n\": 5324}, {\"threshold\": 0.5289999842643738, \"p\": 28041, \"fpr\": 0.2398572501878287, \"tpr\": 0.9427267215862487, \"n\": 5324}, {\"threshold\": 0.5299999713897705, \"p\": 28041, \"fpr\": 0.2394815927873779, \"tpr\": 0.9426553974537285, \"n\": 5324}, {\"threshold\": 0.531000018119812, \"p\": 28041, \"fpr\": 0.2394815927873779, \"tpr\": 0.942512749188688, \"n\": 5324}, {\"threshold\": 0.5320000052452087, \"p\": 28041, \"fpr\": 0.23910593538692712, \"tpr\": 0.942512749188688, \"n\": 5324}, {\"threshold\": 0.5329999923706055, \"p\": 28041, \"fpr\": 0.23891810668670171, \"tpr\": 0.9424770871224278, \"n\": 5324}, {\"threshold\": 0.5339999794960022, \"p\": 28041, \"fpr\": 0.23854244928625093, \"tpr\": 0.9424057629899076, \"n\": 5324}, {\"threshold\": 0.5350000262260437, \"p\": 28041, \"fpr\": 0.23779113448534936, \"tpr\": 0.9422274526586071, \"n\": 5324}, {\"threshold\": 0.5360000133514404, \"p\": 28041, \"fpr\": 0.23760330578512398, \"tpr\": 0.9421561285260868, \"n\": 5324}, {\"threshold\": 0.5370000004768372, \"p\": 28041, \"fpr\": 0.23741547708489857, \"tpr\": 0.9420848043935666, \"n\": 5324}, {\"threshold\": 0.5379999876022339, \"p\": 28041, \"fpr\": 0.23741547708489857, \"tpr\": 0.941942156128526, \"n\": 5324}, {\"threshold\": 0.5389999747276306, \"p\": 28041, \"fpr\": 0.23722764838467317, \"tpr\": 0.9418351699297457, \"n\": 5324}, {\"threshold\": 0.5400000214576721, \"p\": 28041, \"fpr\": 0.2370398196844478, \"tpr\": 0.9417995078634857, \"n\": 5324}, {\"threshold\": 0.5410000085830688, \"p\": 28041, \"fpr\": 0.23685199098422238, \"tpr\": 0.9417638457972255, \"n\": 5324}, {\"threshold\": 0.5419999957084656, \"p\": 28041, \"fpr\": 0.23685199098422238, \"tpr\": 0.941621197532185, \"n\": 5324}, {\"threshold\": 0.5429999828338623, \"p\": 28041, \"fpr\": 0.2364763335837716, \"tpr\": 0.9415855354659249, \"n\": 5324}, {\"threshold\": 0.5440000295639038, \"p\": 28041, \"fpr\": 0.2359128474830954, \"tpr\": 0.9415142113334046, \"n\": 5324}, {\"threshold\": 0.5450000166893005, \"p\": 28041, \"fpr\": 0.2359128474830954, \"tpr\": 0.9414785492671446, \"n\": 5324}, {\"threshold\": 0.5460000038146973, \"p\": 28041, \"fpr\": 0.23516153268219384, \"tpr\": 0.9413715630683642, \"n\": 5324}, {\"threshold\": 0.546999990940094, \"p\": 28041, \"fpr\": 0.23497370398196846, \"tpr\": 0.9413002389358439, \"n\": 5324}, {\"threshold\": 0.5479999780654907, \"p\": 28041, \"fpr\": 0.23478587528174305, \"tpr\": 0.9412289148033237, \"n\": 5324}, {\"threshold\": 0.5490000247955322, \"p\": 28041, \"fpr\": 0.23422238918106686, \"tpr\": 0.941014942405763, \"n\": 5324}, {\"threshold\": 0.550000011920929, \"p\": 28041, \"fpr\": 0.23384673178061607, \"tpr\": 0.9409436182732428, \"n\": 5324}, {\"threshold\": 0.5509999990463257, \"p\": 28041, \"fpr\": 0.2334710743801653, \"tpr\": 0.9408366320744624, \"n\": 5324}, {\"threshold\": 0.5519999861717224, \"p\": 28041, \"fpr\": 0.2334710743801653, \"tpr\": 0.9407653079419421, \"n\": 5324}, {\"threshold\": 0.5529999732971191, \"p\": 28041, \"fpr\": 0.2330954169797145, \"tpr\": 0.9406939838094219, \"n\": 5324}, {\"threshold\": 0.5540000200271606, \"p\": 28041, \"fpr\": 0.23234410217881293, \"tpr\": 0.9405869976106416, \"n\": 5324}, {\"threshold\": 0.5550000071525574, \"p\": 28041, \"fpr\": 0.23196844477836212, \"tpr\": 0.9404800114118612, \"n\": 5324}, {\"threshold\": 0.5559999942779541, \"p\": 28041, \"fpr\": 0.23140495867768596, \"tpr\": 0.9402660390143005, \"n\": 5324}, {\"threshold\": 0.5569999814033508, \"p\": 28041, \"fpr\": 0.23102930127723517, \"tpr\": 0.94012339074926, \"n\": 5324}, {\"threshold\": 0.5580000281333923, \"p\": 28041, \"fpr\": 0.23046581517655898, \"tpr\": 0.94012339074926, \"n\": 5324}, {\"threshold\": 0.5590000152587891, \"p\": 28041, \"fpr\": 0.23046581517655898, \"tpr\": 0.9399807424842196, \"n\": 5324}, {\"threshold\": 0.5600000023841858, \"p\": 28041, \"fpr\": 0.23046581517655898, \"tpr\": 0.9399807424842196, \"n\": 5324}, {\"threshold\": 0.5609999895095825, \"p\": 28041, \"fpr\": 0.23027798647633357, \"tpr\": 0.9397667700866589, \"n\": 5324}, {\"threshold\": 0.5619999766349792, \"p\": 28041, \"fpr\": 0.2297145003756574, \"tpr\": 0.9396241218216184, \"n\": 5324}, {\"threshold\": 0.5630000233650208, \"p\": 28041, \"fpr\": 0.22915101427498122, \"tpr\": 0.939552797689098, \"n\": 5324}, {\"threshold\": 0.5640000104904175, \"p\": 28041, \"fpr\": 0.2289631855747558, \"tpr\": 0.9394814735565779, \"n\": 5324}, {\"threshold\": 0.5649999976158142, \"p\": 28041, \"fpr\": 0.22858752817430503, \"tpr\": 0.9393031632252773, \"n\": 5324}, {\"threshold\": 0.5659999847412109, \"p\": 28041, \"fpr\": 0.22839969947407965, \"tpr\": 0.9391961770264969, \"n\": 5324}, {\"threshold\": 0.5669999718666077, \"p\": 28041, \"fpr\": 0.22821187077385424, \"tpr\": 0.9391961770264969, \"n\": 5324}, {\"threshold\": 0.5680000185966492, \"p\": 28041, \"fpr\": 0.22764838467317805, \"tpr\": 0.9391605149602368, \"n\": 5324}, {\"threshold\": 0.5690000057220459, \"p\": 28041, \"fpr\": 0.22727272727272727, \"tpr\": 0.9390178666951963, \"n\": 5324}, {\"threshold\": 0.5699999928474426, \"p\": 28041, \"fpr\": 0.2270848985725019, \"tpr\": 0.9389108804964159, \"n\": 5324}, {\"threshold\": 0.5709999799728394, \"p\": 28041, \"fpr\": 0.2270848985725019, \"tpr\": 0.9388395563638957, \"n\": 5324}, {\"threshold\": 0.5720000267028809, \"p\": 28041, \"fpr\": 0.2265214124718257, \"tpr\": 0.9387682322313755, \"n\": 5324}, {\"threshold\": 0.5730000138282776, \"p\": 28041, \"fpr\": 0.2265214124718257, \"tpr\": 0.9386969080988552, \"n\": 5324}, {\"threshold\": 0.5740000009536743, \"p\": 28041, \"fpr\": 0.2263335837716003, \"tpr\": 0.9385542598338148, \"n\": 5324}, {\"threshold\": 0.574999988079071, \"p\": 28041, \"fpr\": 0.22558226897069872, \"tpr\": 0.9384829357012945, \"n\": 5324}, {\"threshold\": 0.5759999752044678, \"p\": 28041, \"fpr\": 0.22520661157024793, \"tpr\": 0.9382689633037338, \"n\": 5324}, {\"threshold\": 0.5770000219345093, \"p\": 28041, \"fpr\": 0.22464312546957174, \"tpr\": 0.9381619771049534, \"n\": 5324}, {\"threshold\": 0.578000009059906, \"p\": 28041, \"fpr\": 0.22426746806912096, \"tpr\": 0.9381263150386934, \"n\": 5324}, {\"threshold\": 0.5789999961853027, \"p\": 28041, \"fpr\": 0.22407963936889558, \"tpr\": 0.9379480047073927, \"n\": 5324}, {\"threshold\": 0.5799999833106995, \"p\": 28041, \"fpr\": 0.22407963936889558, \"tpr\": 0.9378410185086123, \"n\": 5324}, {\"threshold\": 0.5809999704360962, \"p\": 28041, \"fpr\": 0.22332832456799398, \"tpr\": 0.937734032309832, \"n\": 5324}, {\"threshold\": 0.5820000171661377, \"p\": 28041, \"fpr\": 0.22238918106686703, \"tpr\": 0.9375913840447916, \"n\": 5324}, {\"threshold\": 0.5830000042915344, \"p\": 28041, \"fpr\": 0.22220135236664162, \"tpr\": 0.9375200599122713, \"n\": 5324}, {\"threshold\": 0.5839999914169312, \"p\": 28041, \"fpr\": 0.22201352366641622, \"tpr\": 0.9374843978460112, \"n\": 5324}, {\"threshold\": 0.5849999785423279, \"p\": 28041, \"fpr\": 0.22163786626596543, \"tpr\": 0.9374130737134909, \"n\": 5324}, {\"threshold\": 0.5860000252723694, \"p\": 28041, \"fpr\": 0.22145003756574005, \"tpr\": 0.9373417495809707, \"n\": 5324}, {\"threshold\": 0.5870000123977661, \"p\": 28041, \"fpr\": 0.22107438016528927, \"tpr\": 0.9373060875147106, \"n\": 5324}, {\"threshold\": 0.5879999995231628, \"p\": 28041, \"fpr\": 0.22088655146506386, \"tpr\": 0.9372704254484505, \"n\": 5324}, {\"threshold\": 0.5889999866485596, \"p\": 28041, \"fpr\": 0.22051089406461308, \"tpr\": 0.9371991013159302, \"n\": 5324}, {\"threshold\": 0.5899999737739563, \"p\": 28041, \"fpr\": 0.2201352366641623, \"tpr\": 0.9370207909846296, \"n\": 5324}, {\"threshold\": 0.5910000205039978, \"p\": 28041, \"fpr\": 0.2199474079639369, \"tpr\": 0.9370207909846296, \"n\": 5324}, {\"threshold\": 0.5920000076293945, \"p\": 28041, \"fpr\": 0.2197595792637115, \"tpr\": 0.9369851289183695, \"n\": 5324}, {\"threshold\": 0.5929999947547913, \"p\": 28041, \"fpr\": 0.2193839218632607, \"tpr\": 0.9368781427195891, \"n\": 5324}, {\"threshold\": 0.593999981880188, \"p\": 28041, \"fpr\": 0.21882043576258453, \"tpr\": 0.9368068185870689, \"n\": 5324}, {\"threshold\": 0.5950000286102295, \"p\": 28041, \"fpr\": 0.21806912096168293, \"tpr\": 0.9366641703220284, \"n\": 5324}, {\"threshold\": 0.5960000157356262, \"p\": 28041, \"fpr\": 0.21750563486100677, \"tpr\": 0.9365928461895082, \"n\": 5324}, {\"threshold\": 0.597000002861023, \"p\": 28041, \"fpr\": 0.21712997746055598, \"tpr\": 0.9364858599907279, \"n\": 5324}, {\"threshold\": 0.5979999899864197, \"p\": 28041, \"fpr\": 0.2165664913598798, \"tpr\": 0.9364145358582077, \"n\": 5324}, {\"threshold\": 0.5989999771118164, \"p\": 28041, \"fpr\": 0.216190833959429, \"tpr\": 0.9363432117256874, \"n\": 5324}, {\"threshold\": 0.6000000238418579, \"p\": 28041, \"fpr\": 0.21581517655897822, \"tpr\": 0.9362718875931672, \"n\": 5324}, {\"threshold\": 0.6010000109672546, \"p\": 28041, \"fpr\": 0.2154395191585274, \"tpr\": 0.9361292393281266, \"n\": 5324}, {\"threshold\": 0.6019999980926514, \"p\": 28041, \"fpr\": 0.21468820435762584, \"tpr\": 0.9360579151956064, \"n\": 5324}, {\"threshold\": 0.6029999852180481, \"p\": 28041, \"fpr\": 0.21393688955672427, \"tpr\": 0.9360222531293463, \"n\": 5324}, {\"threshold\": 0.6039999723434448, \"p\": 28041, \"fpr\": 0.21337340345604808, \"tpr\": 0.9359865910630862, \"n\": 5324}, {\"threshold\": 0.6050000190734863, \"p\": 28041, \"fpr\": 0.2128099173553719, \"tpr\": 0.9358082807317856, \"n\": 5324}, {\"threshold\": 0.6060000061988831, \"p\": 28041, \"fpr\": 0.2124342599549211, \"tpr\": 0.935629970400485, \"n\": 5324}, {\"threshold\": 0.6069999933242798, \"p\": 28041, \"fpr\": 0.2124342599549211, \"tpr\": 0.9355229842017047, \"n\": 5324}, {\"threshold\": 0.6079999804496765, \"p\": 28041, \"fpr\": 0.21205860255447032, \"tpr\": 0.9354516600691845, \"n\": 5324}, {\"threshold\": 0.609000027179718, \"p\": 28041, \"fpr\": 0.21187077385424494, \"tpr\": 0.9353090118041439, \"n\": 5324}, {\"threshold\": 0.6100000143051147, \"p\": 28041, \"fpr\": 0.21187077385424494, \"tpr\": 0.9353090118041439, \"n\": 5324}, {\"threshold\": 0.6110000014305115, \"p\": 28041, \"fpr\": 0.21168294515401953, \"tpr\": 0.9352020256053636, \"n\": 5324}, {\"threshold\": 0.6119999885559082, \"p\": 28041, \"fpr\": 0.21149511645379415, \"tpr\": 0.9350950394065832, \"n\": 5324}, {\"threshold\": 0.6129999756813049, \"p\": 28041, \"fpr\": 0.21130728775356875, \"tpr\": 0.9349523911415427, \"n\": 5324}, {\"threshold\": 0.6140000224113464, \"p\": 28041, \"fpr\": 0.21111945905334334, \"tpr\": 0.9348454049427624, \"n\": 5324}, {\"threshold\": 0.6150000095367432, \"p\": 28041, \"fpr\": 0.21093163035311796, \"tpr\": 0.934702756677722, \"n\": 5324}, {\"threshold\": 0.6159999966621399, \"p\": 28041, \"fpr\": 0.21074380165289255, \"tpr\": 0.9345244463464213, \"n\": 5324}, {\"threshold\": 0.6169999837875366, \"p\": 28041, \"fpr\": 0.21055597295266718, \"tpr\": 0.9343461360151207, \"n\": 5324}, {\"threshold\": 0.6179999709129333, \"p\": 28041, \"fpr\": 0.21055597295266718, \"tpr\": 0.93413216361756, \"n\": 5324}, {\"threshold\": 0.6190000176429749, \"p\": 28041, \"fpr\": 0.21036814425244177, \"tpr\": 0.9339538532862595, \"n\": 5324}, {\"threshold\": 0.6200000047683716, \"p\": 28041, \"fpr\": 0.21036814425244177, \"tpr\": 0.9338825291537391, \"n\": 5324}, {\"threshold\": 0.6209999918937683, \"p\": 28041, \"fpr\": 0.20999248685199098, \"tpr\": 0.9336685567561784, \"n\": 5324}, {\"threshold\": 0.621999979019165, \"p\": 28041, \"fpr\": 0.2096168294515402, \"tpr\": 0.9334902464248779, \"n\": 5324}, {\"threshold\": 0.6230000257492065, \"p\": 28041, \"fpr\": 0.2094290007513148, \"tpr\": 0.9334189222923576, \"n\": 5324}, {\"threshold\": 0.6240000128746033, \"p\": 28041, \"fpr\": 0.20886551465063863, \"tpr\": 0.9333119360935772, \"n\": 5324}, {\"threshold\": 0.625, \"p\": 28041, \"fpr\": 0.20830202854996244, \"tpr\": 0.9331692878285368, \"n\": 5324}, {\"threshold\": 0.6259999871253967, \"p\": 28041, \"fpr\": 0.20830202854996244, \"tpr\": 0.9330623016297565, \"n\": 5324}, {\"threshold\": 0.6269999742507935, \"p\": 28041, \"fpr\": 0.20792637114951165, \"tpr\": 0.9329553154309761, \"n\": 5324}, {\"threshold\": 0.628000020980835, \"p\": 28041, \"fpr\": 0.20755071374906087, \"tpr\": 0.9327056809671552, \"n\": 5324}, {\"threshold\": 0.6290000081062317, \"p\": 28041, \"fpr\": 0.20717505634861005, \"tpr\": 0.9324560465033344, \"n\": 5324}, {\"threshold\": 0.6299999952316284, \"p\": 28041, \"fpr\": 0.20698722764838468, \"tpr\": 0.9322420741057736, \"n\": 5324}, {\"threshold\": 0.6309999823570251, \"p\": 28041, \"fpr\": 0.20679939894815927, \"tpr\": 0.9319211155094326, \"n\": 5324}, {\"threshold\": 0.6320000290870667, \"p\": 28041, \"fpr\": 0.2066115702479339, \"tpr\": 0.9318497913769124, \"n\": 5324}, {\"threshold\": 0.6330000162124634, \"p\": 28041, \"fpr\": 0.2062359128474831, \"tpr\": 0.9317071431118719, \"n\": 5324}, {\"threshold\": 0.6340000033378601, \"p\": 28041, \"fpr\": 0.2060480841472577, \"tpr\": 0.9316001569130915, \"n\": 5324}, {\"threshold\": 0.6349999904632568, \"p\": 28041, \"fpr\": 0.20586025544703232, \"tpr\": 0.931421846581791, \"n\": 5324}, {\"threshold\": 0.6359999775886536, \"p\": 28041, \"fpr\": 0.2056724267468069, \"tpr\": 0.9312435362504904, \"n\": 5324}, {\"threshold\": 0.6370000243186951, \"p\": 28041, \"fpr\": 0.20492111194590534, \"tpr\": 0.9311722121179701, \"n\": 5324}, {\"threshold\": 0.6380000114440918, \"p\": 28041, \"fpr\": 0.20473328324567994, \"tpr\": 0.9311008879854499, \"n\": 5324}, {\"threshold\": 0.6389999985694885, \"p\": 28041, \"fpr\": 0.20454545454545456, \"tpr\": 0.9308869155878892, \"n\": 5324}, {\"threshold\": 0.6399999856948853, \"p\": 28041, \"fpr\": 0.20454545454545456, \"tpr\": 0.930815591455369, \"n\": 5324}, {\"threshold\": 0.640999972820282, \"p\": 28041, \"fpr\": 0.20398196844477837, \"tpr\": 0.9306372811240683, \"n\": 5324}, {\"threshold\": 0.6420000195503235, \"p\": 28041, \"fpr\": 0.20341848234410217, \"tpr\": 0.9305302949252879, \"n\": 5324}, {\"threshold\": 0.6430000066757202, \"p\": 28041, \"fpr\": 0.2030428249436514, \"tpr\": 0.9304589707927677, \"n\": 5324}, {\"threshold\": 0.6439999938011169, \"p\": 28041, \"fpr\": 0.2026671675432006, \"tpr\": 0.9304233087265076, \"n\": 5324}, {\"threshold\": 0.6449999809265137, \"p\": 28041, \"fpr\": 0.2026671675432006, \"tpr\": 0.9303163225277272, \"n\": 5324}, {\"threshold\": 0.6460000276565552, \"p\": 28041, \"fpr\": 0.2024793388429752, \"tpr\": 0.9302093363289469, \"n\": 5324}, {\"threshold\": 0.6470000147819519, \"p\": 28041, \"fpr\": 0.2024793388429752, \"tpr\": 0.9301023501301665, \"n\": 5324}, {\"threshold\": 0.6480000019073486, \"p\": 28041, \"fpr\": 0.20229151014274982, \"tpr\": 0.9300666880639065, \"n\": 5324}, {\"threshold\": 0.6489999890327454, \"p\": 28041, \"fpr\": 0.20191585274229903, \"tpr\": 0.9298170536000856, \"n\": 5324}, {\"threshold\": 0.6499999761581421, \"p\": 28041, \"fpr\": 0.20172802404207363, \"tpr\": 0.9295674191362647, \"n\": 5324}, {\"threshold\": 0.6510000228881836, \"p\": 28041, \"fpr\": 0.20060105184072127, \"tpr\": 0.9293891088049642, \"n\": 5324}, {\"threshold\": 0.6520000100135803, \"p\": 28041, \"fpr\": 0.20060105184072127, \"tpr\": 0.9291751364074035, \"n\": 5324}, {\"threshold\": 0.652999997138977, \"p\": 28041, \"fpr\": 0.20022539444027046, \"tpr\": 0.9291038122748833, \"n\": 5324}, {\"threshold\": 0.6539999842643738, \"p\": 28041, \"fpr\": 0.20003756574004508, \"tpr\": 0.9289968260761029, \"n\": 5324}, {\"threshold\": 0.6549999713897705, \"p\": 28041, \"fpr\": 0.1992862509391435, \"tpr\": 0.9288541778110624, \"n\": 5324}, {\"threshold\": 0.656000018119812, \"p\": 28041, \"fpr\": 0.19891059353869273, \"tpr\": 0.9287115295460219, \"n\": 5324}, {\"threshold\": 0.6570000052452087, \"p\": 28041, \"fpr\": 0.1985349361382419, \"tpr\": 0.9285688812809815, \"n\": 5324}, {\"threshold\": 0.6579999923706055, \"p\": 28041, \"fpr\": 0.19797145003756575, \"tpr\": 0.928426233015941, \"n\": 5324}, {\"threshold\": 0.6589999794960022, \"p\": 28041, \"fpr\": 0.19778362133734034, \"tpr\": 0.9282835847509004, \"n\": 5324}, {\"threshold\": 0.6600000262260437, \"p\": 28041, \"fpr\": 0.19759579263711496, \"tpr\": 0.9282479226846404, \"n\": 5324}, {\"threshold\": 0.6610000133514404, \"p\": 28041, \"fpr\": 0.19722013523666415, \"tpr\": 0.9280696123533397, \"n\": 5324}, {\"threshold\": 0.6620000004768372, \"p\": 28041, \"fpr\": 0.19722013523666415, \"tpr\": 0.9279269640882992, \"n\": 5324}, {\"threshold\": 0.6629999876022339, \"p\": 28041, \"fpr\": 0.19684447783621337, \"tpr\": 0.9277486537569987, \"n\": 5324}, {\"threshold\": 0.6639999747276306, \"p\": 28041, \"fpr\": 0.19684447783621337, \"tpr\": 0.9276416675582183, \"n\": 5324}, {\"threshold\": 0.6650000214576721, \"p\": 28041, \"fpr\": 0.196656649135988, \"tpr\": 0.9274276951606576, \"n\": 5324}, {\"threshold\": 0.6660000085830688, \"p\": 28041, \"fpr\": 0.1959053343350864, \"tpr\": 0.9272850468956171, \"n\": 5324}, {\"threshold\": 0.6669999957084656, \"p\": 28041, \"fpr\": 0.1955296769346356, \"tpr\": 0.9271423986305767, \"n\": 5324}, {\"threshold\": 0.6679999828338623, \"p\": 28041, \"fpr\": 0.19496619083395944, \"tpr\": 0.926964088299276, \"n\": 5324}, {\"threshold\": 0.6690000295639038, \"p\": 28041, \"fpr\": 0.19459053343350863, \"tpr\": 0.9268927641667558, \"n\": 5324}, {\"threshold\": 0.6700000166893005, \"p\": 28041, \"fpr\": 0.19440270473328325, \"tpr\": 0.9267501159017153, \"n\": 5324}, {\"threshold\": 0.6710000038146973, \"p\": 28041, \"fpr\": 0.19421487603305784, \"tpr\": 0.9266431297029349, \"n\": 5324}, {\"threshold\": 0.671999990940094, \"p\": 28041, \"fpr\": 0.19421487603305784, \"tpr\": 0.9265361435041546, \"n\": 5324}, {\"threshold\": 0.6729999780654907, \"p\": 28041, \"fpr\": 0.19421487603305784, \"tpr\": 0.9264291573053742, \"n\": 5324}, {\"threshold\": 0.6740000247955322, \"p\": 28041, \"fpr\": 0.19327573253193087, \"tpr\": 0.9261795228415535, \"n\": 5324}, {\"threshold\": 0.675000011920929, \"p\": 28041, \"fpr\": 0.1889556724267468, \"tpr\": 0.9210798473663564, \"n\": 5324}, {\"threshold\": 0.6759999990463257, \"p\": 28041, \"fpr\": 0.18839218632607063, \"tpr\": 0.9208658749687957, \"n\": 5324}, {\"threshold\": 0.6769999861717224, \"p\": 28041, \"fpr\": 0.18764087152516903, \"tpr\": 0.920651902571235, \"n\": 5324}, {\"threshold\": 0.6779999732971191, \"p\": 28041, \"fpr\": 0.18726521412471825, \"tpr\": 0.9205449163724546, \"n\": 5324}, {\"threshold\": 0.6790000200271606, \"p\": 28041, \"fpr\": 0.18707738542449287, \"tpr\": 0.9204022681074141, \"n\": 5324}, {\"threshold\": 0.6800000071525574, \"p\": 28041, \"fpr\": 0.18688955672426746, \"tpr\": 0.9201882957098534, \"n\": 5324}, {\"threshold\": 0.6809999942779541, \"p\": 28041, \"fpr\": 0.18670172802404209, \"tpr\": 0.9201526336435933, \"n\": 5324}, {\"threshold\": 0.6819999814033508, \"p\": 28041, \"fpr\": 0.18632607062359127, \"tpr\": 0.9200099853785528, \"n\": 5324}, {\"threshold\": 0.6830000281333923, \"p\": 28041, \"fpr\": 0.1861382419233659, \"tpr\": 0.9199029991797725, \"n\": 5324}, {\"threshold\": 0.6840000152587891, \"p\": 28041, \"fpr\": 0.1850112697220135, \"tpr\": 0.9197960129809921, \"n\": 5324}, {\"threshold\": 0.6850000023841858, \"p\": 28041, \"fpr\": 0.18482344102178813, \"tpr\": 0.9196533647159516, \"n\": 5324}, {\"threshold\": 0.6859999895095825, \"p\": 28041, \"fpr\": 0.18463561232156273, \"tpr\": 0.919475054384651, \"n\": 5324}, {\"threshold\": 0.6869999766349792, \"p\": 28041, \"fpr\": 0.18407212622088656, \"tpr\": 0.9194037302521308, \"n\": 5324}, {\"threshold\": 0.6880000233650208, \"p\": 28041, \"fpr\": 0.18294515401953418, \"tpr\": 0.9191897578545701, \"n\": 5324}, {\"threshold\": 0.6890000104904175, \"p\": 28041, \"fpr\": 0.1821938392186326, \"tpr\": 0.9189757854570094, \"n\": 5324}, {\"threshold\": 0.6899999976158142, \"p\": 28041, \"fpr\": 0.1821938392186326, \"tpr\": 0.9187974751257088, \"n\": 5324}, {\"threshold\": 0.6909999847412109, \"p\": 28041, \"fpr\": 0.18144252441773104, \"tpr\": 0.9186548268606683, \"n\": 5324}, {\"threshold\": 0.6919999718666077, \"p\": 28041, \"fpr\": 0.18144252441773104, \"tpr\": 0.9184765165293677, \"n\": 5324}, {\"threshold\": 0.6930000185966492, \"p\": 28041, \"fpr\": 0.18125469571750563, \"tpr\": 0.9182268820655469, \"n\": 5324}, {\"threshold\": 0.6940000057220459, \"p\": 28041, \"fpr\": 0.18069120961682944, \"tpr\": 0.9180485717342463, \"n\": 5324}, {\"threshold\": 0.6949999928474426, \"p\": 28041, \"fpr\": 0.18012772351615328, \"tpr\": 0.9178702614029457, \"n\": 5324}, {\"threshold\": 0.6959999799728394, \"p\": 28041, \"fpr\": 0.1791885800150263, \"tpr\": 0.9178345993366855, \"n\": 5324}, {\"threshold\": 0.6970000267028809, \"p\": 28041, \"fpr\": 0.1790007513148009, \"tpr\": 0.9175136407403445, \"n\": 5324}, {\"threshold\": 0.6980000138282776, \"p\": 28041, \"fpr\": 0.1790007513148009, \"tpr\": 0.9173709924753041, \"n\": 5324}, {\"threshold\": 0.6990000009536743, \"p\": 28041, \"fpr\": 0.1786250939143501, \"tpr\": 0.9173353304090439, \"n\": 5324}, {\"threshold\": 0.699999988079071, \"p\": 28041, \"fpr\": 0.1786250939143501, \"tpr\": 0.9172283442102636, \"n\": 5324}, {\"threshold\": 0.7009999752044678, \"p\": 28041, \"fpr\": 0.17768595041322313, \"tpr\": 0.9171570200777434, \"n\": 5324}, {\"threshold\": 0.7020000219345093, \"p\": 28041, \"fpr\": 0.17768595041322313, \"tpr\": 0.9169073856139225, \"n\": 5324}, {\"threshold\": 0.703000009059906, \"p\": 28041, \"fpr\": 0.17731029301277235, \"tpr\": 0.916764737348882, \"n\": 5324}, {\"threshold\": 0.7039999961853027, \"p\": 28041, \"fpr\": 0.17712246431254697, \"tpr\": 0.9167290752826219, \"n\": 5324}, {\"threshold\": 0.7049999833106995, \"p\": 28041, \"fpr\": 0.17618332081142, \"tpr\": 0.9166577511501016, \"n\": 5324}, {\"threshold\": 0.7059999704360962, \"p\": 28041, \"fpr\": 0.1758076634109692, \"tpr\": 0.9163724546200207, \"n\": 5324}, {\"threshold\": 0.7070000171661377, \"p\": 28041, \"fpr\": 0.17468069120961682, \"tpr\": 0.9160871580899397, \"n\": 5324}, {\"threshold\": 0.7080000042915344, \"p\": 28041, \"fpr\": 0.17449286250939144, \"tpr\": 0.9159088477586391, \"n\": 5324}, {\"threshold\": 0.7089999914169312, \"p\": 28041, \"fpr\": 0.17411720510894066, \"tpr\": 0.9156235512285582, \"n\": 5324}, {\"threshold\": 0.7099999785423279, \"p\": 28041, \"fpr\": 0.17299023290758828, \"tpr\": 0.9153739167647373, \"n\": 5324}, {\"threshold\": 0.7110000252723694, \"p\": 28041, \"fpr\": 0.1728024042073629, \"tpr\": 0.9151956064334368, \"n\": 5324}, {\"threshold\": 0.7120000123977661, \"p\": 28041, \"fpr\": 0.1728024042073629, \"tpr\": 0.9149459719696159, \"n\": 5324}, {\"threshold\": 0.7129999995231628, \"p\": 28041, \"fpr\": 0.17242674680691208, \"tpr\": 0.9146250133732748, \"n\": 5324}, {\"threshold\": 0.7139999866485596, \"p\": 28041, \"fpr\": 0.17148760330578514, \"tpr\": 0.9144467030419743, \"n\": 5324}, {\"threshold\": 0.7149999737739563, \"p\": 28041, \"fpr\": 0.17111194590533432, \"tpr\": 0.9142683927106736, \"n\": 5324}, {\"threshold\": 0.7160000205039978, \"p\": 28041, \"fpr\": 0.17092411720510894, \"tpr\": 0.9140544203131129, \"n\": 5324}, {\"threshold\": 0.7170000076293945, \"p\": 28041, \"fpr\": 0.17054845980465816, \"tpr\": 0.9138047858492921, \"n\": 5324}, {\"threshold\": 0.7179999947547913, \"p\": 28041, \"fpr\": 0.16998497370398197, \"tpr\": 0.9136621375842516, \"n\": 5324}, {\"threshold\": 0.718999981880188, \"p\": 28041, \"fpr\": 0.16960931630353118, \"tpr\": 0.9135551513854713, \"n\": 5324}, {\"threshold\": 0.7200000286102295, \"p\": 28041, \"fpr\": 0.16942148760330578, \"tpr\": 0.9135194893192111, \"n\": 5324}, {\"threshold\": 0.7210000157356262, \"p\": 28041, \"fpr\": 0.169045830202855, \"tpr\": 0.9133055169216504, \"n\": 5324}, {\"threshold\": 0.722000002861023, \"p\": 28041, \"fpr\": 0.16810668670172801, \"tpr\": 0.9129845583253093, \"n\": 5324}, {\"threshold\": 0.7229999899864197, \"p\": 28041, \"fpr\": 0.16791885800150264, \"tpr\": 0.9128062479940088, \"n\": 5324}, {\"threshold\": 0.7239999771118164, \"p\": 28041, \"fpr\": 0.16791885800150264, \"tpr\": 0.9126279376627082, \"n\": 5324}, {\"threshold\": 0.7250000238418579, \"p\": 28041, \"fpr\": 0.16754320060105185, \"tpr\": 0.9124852893976677, \"n\": 5324}, {\"threshold\": 0.7260000109672546, \"p\": 28041, \"fpr\": 0.16716754320060107, \"tpr\": 0.9121643308013266, \"n\": 5324}, {\"threshold\": 0.7269999980926514, \"p\": 28041, \"fpr\": 0.16697971450037566, \"tpr\": 0.9119146963375058, \"n\": 5324}, {\"threshold\": 0.7279999852180481, \"p\": 28041, \"fpr\": 0.16679188580015025, \"tpr\": 0.9118433722049856, \"n\": 5324}, {\"threshold\": 0.7289999723434448, \"p\": 28041, \"fpr\": 0.16660405709992487, \"tpr\": 0.9117007239399451, \"n\": 5324}, {\"threshold\": 0.7300000190734863, \"p\": 28041, \"fpr\": 0.1662283996994741, \"tpr\": 0.9115580756749047, \"n\": 5324}, {\"threshold\": 0.7310000061988831, \"p\": 28041, \"fpr\": 0.1656649135987979, \"tpr\": 0.9112727791448236, \"n\": 5324}, {\"threshold\": 0.7319999933242798, \"p\": 28041, \"fpr\": 0.16491359879789633, \"tpr\": 0.9111301308797832, \"n\": 5324}, {\"threshold\": 0.7329999804496765, \"p\": 28041, \"fpr\": 0.16472577009767092, \"tpr\": 0.910773510217182, \"n\": 5324}, {\"threshold\": 0.734000027179718, \"p\": 28041, \"fpr\": 0.16453794139744554, \"tpr\": 0.9105951998858813, \"n\": 5324}, {\"threshold\": 0.7350000143051147, \"p\": 28041, \"fpr\": 0.16435011269722014, \"tpr\": 0.9104525516208409, \"n\": 5324}, {\"threshold\": 0.7360000014305115, \"p\": 28041, \"fpr\": 0.16416228399699473, \"tpr\": 0.9101672550907599, \"n\": 5324}, {\"threshold\": 0.7369999885559082, \"p\": 28041, \"fpr\": 0.16416228399699473, \"tpr\": 0.9100246068257195, \"n\": 5324}, {\"threshold\": 0.7379999756813049, \"p\": 28041, \"fpr\": 0.16359879789631857, \"tpr\": 0.9098462964944188, \"n\": 5324}, {\"threshold\": 0.7390000224113464, \"p\": 28041, \"fpr\": 0.16303531179564237, \"tpr\": 0.9095609999643379, \"n\": 5324}, {\"threshold\": 0.7400000095367432, \"p\": 28041, \"fpr\": 0.1626596543951916, \"tpr\": 0.9094540137655576, \"n\": 5324}, {\"threshold\": 0.7409999966621399, \"p\": 28041, \"fpr\": 0.16190833959429002, \"tpr\": 0.909311365500517, \"n\": 5324}, {\"threshold\": 0.7419999837875366, \"p\": 28041, \"fpr\": 0.1617205108940646, \"tpr\": 0.9090973931029563, \"n\": 5324}, {\"threshold\": 0.7429999709129333, \"p\": 28041, \"fpr\": 0.16115702479338842, \"tpr\": 0.9089547448379159, \"n\": 5324}, {\"threshold\": 0.7440000176429749, \"p\": 28041, \"fpr\": 0.16059353869271226, \"tpr\": 0.9087051103740951, \"n\": 5324}, {\"threshold\": 0.7450000047683716, \"p\": 28041, \"fpr\": 0.16040570999248685, \"tpr\": 0.9085268000427945, \"n\": 5324}, {\"threshold\": 0.7459999918937683, \"p\": 28041, \"fpr\": 0.16021788129226144, \"tpr\": 0.9082058414464534, \"n\": 5324}, {\"threshold\": 0.746999979019165, \"p\": 28041, \"fpr\": 0.15984222389181066, \"tpr\": 0.9080988552476731, \"n\": 5324}, {\"threshold\": 0.7480000257492065, \"p\": 28041, \"fpr\": 0.15965439519158528, \"tpr\": 0.9077422345850719, \"n\": 5324}, {\"threshold\": 0.7490000128746033, \"p\": 28041, \"fpr\": 0.15946656649135987, \"tpr\": 0.907492600121251, \"n\": 5324}, {\"threshold\": 0.75, \"p\": 28041, \"fpr\": 0.1590909090909091, \"tpr\": 0.9072786277236903, \"n\": 5324}, {\"threshold\": 0.7509999871253967, \"p\": 28041, \"fpr\": 0.15777610818933133, \"tpr\": 0.9071359794586499, \"n\": 5324}, {\"threshold\": 0.7519999742507935, \"p\": 28041, \"fpr\": 0.15758827948910595, \"tpr\": 0.9069220070610892, \"n\": 5324}, {\"threshold\": 0.753000020980835, \"p\": 28041, \"fpr\": 0.15646130728775356, \"tpr\": 0.9066723725972683, \"n\": 5324}, {\"threshold\": 0.7540000081062317, \"p\": 28041, \"fpr\": 0.1562734785875282, \"tpr\": 0.9066010484647481, \"n\": 5324}, {\"threshold\": 0.7549999952316284, \"p\": 28041, \"fpr\": 0.1562734785875282, \"tpr\": 0.9064227381334474, \"n\": 5324}, {\"threshold\": 0.7559999823570251, \"p\": 28041, \"fpr\": 0.15589782118707737, \"tpr\": 0.9061731036696267, \"n\": 5324}, {\"threshold\": 0.7570000290870667, \"p\": 28041, \"fpr\": 0.155709992486852, \"tpr\": 0.9058164830070254, \"n\": 5324}, {\"threshold\": 0.7580000162124634, \"p\": 28041, \"fpr\": 0.15495867768595042, \"tpr\": 0.9055668485432046, \"n\": 5324}, {\"threshold\": 0.7590000033378601, \"p\": 28041, \"fpr\": 0.15439519158527423, \"tpr\": 0.905103241681823, \"n\": 5324}, {\"threshold\": 0.7599999904632568, \"p\": 28041, \"fpr\": 0.15420736288504883, \"tpr\": 0.9048536072180022, \"n\": 5324}, {\"threshold\": 0.7609999775886536, \"p\": 28041, \"fpr\": 0.15383170548459804, \"tpr\": 0.9045683106879212, \"n\": 5324}, {\"threshold\": 0.7620000243186951, \"p\": 28041, \"fpr\": 0.15345604808414726, \"tpr\": 0.9042116900253201, \"n\": 5324}, {\"threshold\": 0.7630000114440918, \"p\": 28041, \"fpr\": 0.15289256198347106, \"tpr\": 0.9041047038265397, \"n\": 5324}, {\"threshold\": 0.7639999985694885, \"p\": 28041, \"fpr\": 0.15251690458302028, \"tpr\": 0.9036767590314183, \"n\": 5324}, {\"threshold\": 0.7649999856948853, \"p\": 28041, \"fpr\": 0.1521412471825695, \"tpr\": 0.9034271245675974, \"n\": 5324}, {\"threshold\": 0.765999972820282, \"p\": 28041, \"fpr\": 0.1515777610818933, \"tpr\": 0.9032844763025569, \"n\": 5324}, {\"threshold\": 0.7670000195503235, \"p\": 28041, \"fpr\": 0.15138993238166792, \"tpr\": 0.9029635177062159, \"n\": 5324}, {\"threshold\": 0.7680000066757202, \"p\": 28041, \"fpr\": 0.15120210368144252, \"tpr\": 0.9028208694411755, \"n\": 5324}, {\"threshold\": 0.7689999938011169, \"p\": 28041, \"fpr\": 0.15082644628099173, \"tpr\": 0.9024999108448344, \"n\": 5324}, {\"threshold\": 0.7699999809265137, \"p\": 28041, \"fpr\": 0.15082644628099173, \"tpr\": 0.9023216005135337, \"n\": 5324}, {\"threshold\": 0.7710000276565552, \"p\": 28041, \"fpr\": 0.15045078888054095, \"tpr\": 0.9019649798509326, \"n\": 5324}, {\"threshold\": 0.7720000147819519, \"p\": 28041, \"fpr\": 0.15026296018031554, \"tpr\": 0.9016440212545915, \"n\": 5324}, {\"threshold\": 0.7730000019073486, \"p\": 28041, \"fpr\": 0.14969947407963938, \"tpr\": 0.9013230626582505, \"n\": 5324}, {\"threshold\": 0.7739999890327454, \"p\": 28041, \"fpr\": 0.14913598797896319, \"tpr\": 0.9011090902606897, \"n\": 5324}, {\"threshold\": 0.7749999761581421, \"p\": 28041, \"fpr\": 0.1487603305785124, \"tpr\": 0.9009307799293891, \"n\": 5324}, {\"threshold\": 0.7760000228881836, \"p\": 28041, \"fpr\": 0.1481968444778362, \"tpr\": 0.900895117863129, \"n\": 5324}, {\"threshold\": 0.7770000100135803, \"p\": 28041, \"fpr\": 0.14744552967693464, \"tpr\": 0.9006454833993082, \"n\": 5324}, {\"threshold\": 0.777999997138977, \"p\": 28041, \"fpr\": 0.14725770097670923, \"tpr\": 0.9003958489354873, \"n\": 5324}, {\"threshold\": 0.7789999842643738, \"p\": 28041, \"fpr\": 0.14669421487603307, \"tpr\": 0.900003566206626, \"n\": 5324}, {\"threshold\": 0.7799999713897705, \"p\": 28041, \"fpr\": 0.14669421487603307, \"tpr\": 0.8997182696765451, \"n\": 5324}, {\"threshold\": 0.781000018119812, \"p\": 28041, \"fpr\": 0.14650638617580766, \"tpr\": 0.8996112834777648, \"n\": 5324}, {\"threshold\": 0.7820000052452087, \"p\": 28041, \"fpr\": 0.14594290007513147, \"tpr\": 0.8992546628151635, \"n\": 5324}, {\"threshold\": 0.7829999923706055, \"p\": 28041, \"fpr\": 0.14594290007513147, \"tpr\": 0.8990406904176028, \"n\": 5324}, {\"threshold\": 0.7839999794960022, \"p\": 28041, \"fpr\": 0.14594290007513147, \"tpr\": 0.8987553938875218, \"n\": 5324}, {\"threshold\": 0.7850000262260437, \"p\": 28041, \"fpr\": 0.14556724267468069, \"tpr\": 0.898505759423701, \"n\": 5324}, {\"threshold\": 0.7860000133514404, \"p\": 28041, \"fpr\": 0.14556724267468069, \"tpr\": 0.8982561249598802, \"n\": 5324}, {\"threshold\": 0.7870000004768372, \"p\": 28041, \"fpr\": 0.14481592787377912, \"tpr\": 0.8979351663635391, \"n\": 5324}, {\"threshold\": 0.7879999876022339, \"p\": 28041, \"fpr\": 0.14444027047332833, \"tpr\": 0.8977568560322385, \"n\": 5324}, {\"threshold\": 0.7889999747276306, \"p\": 28041, \"fpr\": 0.14350112697220135, \"tpr\": 0.8975072215684177, \"n\": 5324}, {\"threshold\": 0.7900000214576721, \"p\": 28041, \"fpr\": 0.14350112697220135, \"tpr\": 0.8972575871045968, \"n\": 5324}, {\"threshold\": 0.7910000085830688, \"p\": 28041, \"fpr\": 0.14331329827197595, \"tpr\": 0.897007952640776, \"n\": 5324}, {\"threshold\": 0.7919999957084656, \"p\": 28041, \"fpr\": 0.14274981217129978, \"tpr\": 0.8967583181769552, \"n\": 5324}, {\"threshold\": 0.7929999828338623, \"p\": 28041, \"fpr\": 0.142374154770849, \"tpr\": 0.8964730216468743, \"n\": 5324}, {\"threshold\": 0.7940000295639038, \"p\": 28041, \"fpr\": 0.1418106686701728, \"tpr\": 0.8961877251167932, \"n\": 5324}, {\"threshold\": 0.7950000166893005, \"p\": 28041, \"fpr\": 0.14143501126972202, \"tpr\": 0.8959380906529725, \"n\": 5324}, {\"threshold\": 0.7960000038146973, \"p\": 28041, \"fpr\": 0.14068369646882042, \"tpr\": 0.8956527941228914, \"n\": 5324}, {\"threshold\": 0.796999990940094, \"p\": 28041, \"fpr\": 0.14012021036814426, \"tpr\": 0.8954388217253307, \"n\": 5324}, {\"threshold\": 0.7979999780654907, \"p\": 28041, \"fpr\": 0.13974455296769348, \"tpr\": 0.89518918726151, \"n\": 5324}, {\"threshold\": 0.7990000247955322, \"p\": 28041, \"fpr\": 0.13918106686701728, \"tpr\": 0.8949395527976891, \"n\": 5324}, {\"threshold\": 0.800000011920929, \"p\": 28041, \"fpr\": 0.13899323816679188, \"tpr\": 0.894903890731429, \"n\": 5324}, {\"threshold\": 0.8009999990463257, \"p\": 28041, \"fpr\": 0.1386175807663411, \"tpr\": 0.8945829321350879, \"n\": 5324}, {\"threshold\": 0.8019999861717224, \"p\": 28041, \"fpr\": 0.1380540946656649, \"tpr\": 0.8942619735387468, \"n\": 5324}, {\"threshold\": 0.8029999732971191, \"p\": 28041, \"fpr\": 0.13767843726521412, \"tpr\": 0.8939053528761457, \"n\": 5324}, {\"threshold\": 0.8040000200271606, \"p\": 28041, \"fpr\": 0.13767843726521412, \"tpr\": 0.8934774080810242, \"n\": 5324}, {\"threshold\": 0.8050000071525574, \"p\": 28041, \"fpr\": 0.13692712246431255, \"tpr\": 0.893120787418423, \"n\": 5324}, {\"threshold\": 0.8059999942779541, \"p\": 28041, \"fpr\": 0.13692712246431255, \"tpr\": 0.8929424770871224, \"n\": 5324}, {\"threshold\": 0.8069999814033508, \"p\": 28041, \"fpr\": 0.13673929376408714, \"tpr\": 0.8927285046895617, \"n\": 5324}, {\"threshold\": 0.8080000281333923, \"p\": 28041, \"fpr\": 0.13617580766341097, \"tpr\": 0.8925858564245213, \"n\": 5324}, {\"threshold\": 0.8090000152587891, \"p\": 28041, \"fpr\": 0.13561232156273478, \"tpr\": 0.8920509254306195, \"n\": 5324}, {\"threshold\": 0.8100000023841858, \"p\": 28041, \"fpr\": 0.1354244928625094, \"tpr\": 0.8916586427017581, \"n\": 5324}, {\"threshold\": 0.8109999895095825, \"p\": 28041, \"fpr\": 0.135236664162284, \"tpr\": 0.891337684105417, \"n\": 5324}, {\"threshold\": 0.8119999766349792, \"p\": 28041, \"fpr\": 0.1348610067618332, \"tpr\": 0.8911950358403766, \"n\": 5324}, {\"threshold\": 0.8130000233650208, \"p\": 28041, \"fpr\": 0.1346731780616078, \"tpr\": 0.8909810634428159, \"n\": 5324}, {\"threshold\": 0.8140000104904175, \"p\": 28041, \"fpr\": 0.1346731780616078, \"tpr\": 0.8905887807139545, \"n\": 5324}, {\"threshold\": 0.8149999976158142, \"p\": 28041, \"fpr\": 0.13410969196093164, \"tpr\": 0.8901964979850933, \"n\": 5324}, {\"threshold\": 0.8159999847412109, \"p\": 28041, \"fpr\": 0.13392186326070624, \"tpr\": 0.8900895117863129, \"n\": 5324}, {\"threshold\": 0.8169999718666077, \"p\": 28041, \"fpr\": 0.13298271975957926, \"tpr\": 0.8897685531899718, \"n\": 5324}, {\"threshold\": 0.8180000185966492, \"p\": 28041, \"fpr\": 0.13298271975957926, \"tpr\": 0.889518918726151, \"n\": 5324}, {\"threshold\": 0.8190000057220459, \"p\": 28041, \"fpr\": 0.13279489105935388, \"tpr\": 0.88923362219607, \"n\": 5324}, {\"threshold\": 0.8199999928474426, \"p\": 28041, \"fpr\": 0.13279489105935388, \"tpr\": 0.8885917050033879, \"n\": 5324}, {\"threshold\": 0.8209999799728394, \"p\": 28041, \"fpr\": 0.13204357625845228, \"tpr\": 0.8882350843407867, \"n\": 5324}, {\"threshold\": 0.8220000267028809, \"p\": 28041, \"fpr\": 0.13204357625845228, \"tpr\": 0.8878071395456653, \"n\": 5324}, {\"threshold\": 0.8230000138282776, \"p\": 28041, \"fpr\": 0.1318557475582269, \"tpr\": 0.887414856816804, \"n\": 5324}, {\"threshold\": 0.8240000009536743, \"p\": 28041, \"fpr\": 0.13148009015777612, \"tpr\": 0.8870938982204629, \"n\": 5324}, {\"threshold\": 0.824999988079071, \"p\": 28041, \"fpr\": 0.13054094665664914, \"tpr\": 0.8866659534253415, \"n\": 5324}, {\"threshold\": 0.8259999752044678, \"p\": 28041, \"fpr\": 0.12997746055597295, \"tpr\": 0.8861666844976998, \"n\": 5324}, {\"threshold\": 0.8270000219345093, \"p\": 28041, \"fpr\": 0.12960180315552217, \"tpr\": 0.8857744017688385, \"n\": 5324}, {\"threshold\": 0.828000009059906, \"p\": 28041, \"fpr\": 0.12903831705484597, \"tpr\": 0.8855247673050176, \"n\": 5324}, {\"threshold\": 0.8289999961853027, \"p\": 28041, \"fpr\": 0.1286626596543952, \"tpr\": 0.8853107949074569, \"n\": 5324}, {\"threshold\": 0.8299999833106995, \"p\": 28041, \"fpr\": 0.1284748309541698, \"tpr\": 0.8849541742448558, \"n\": 5324}, {\"threshold\": 0.8309999704360962, \"p\": 28041, \"fpr\": 0.12716003005259205, \"tpr\": 0.8848115259798153, \"n\": 5324}, {\"threshold\": 0.8320000171661377, \"p\": 28041, \"fpr\": 0.12678437265214124, \"tpr\": 0.8843479191184337, \"n\": 5324}, {\"threshold\": 0.8330000042915344, \"p\": 28041, \"fpr\": 0.12603305785123967, \"tpr\": 0.8839556363895724, \"n\": 5324}, {\"threshold\": 0.8339999914169312, \"p\": 28041, \"fpr\": 0.12565740045078888, \"tpr\": 0.8834920295281908, \"n\": 5324}, {\"threshold\": 0.8349999785423279, \"p\": 28041, \"fpr\": 0.1249060856498873, \"tpr\": 0.8831710709318498, \"n\": 5324}, {\"threshold\": 0.8360000252723694, \"p\": 28041, \"fpr\": 0.12415477084898573, \"tpr\": 0.8827074640704683, \"n\": 5324}, {\"threshold\": 0.8370000123977661, \"p\": 28041, \"fpr\": 0.12377911344853494, \"tpr\": 0.8824578296066474, \"n\": 5324}, {\"threshold\": 0.8379999995231628, \"p\": 28041, \"fpr\": 0.12340345604808414, \"tpr\": 0.8822795192753469, \"n\": 5324}, {\"threshold\": 0.8389999866485596, \"p\": 28041, \"fpr\": 0.12340345604808414, \"tpr\": 0.881744588281445, \"n\": 5324}, {\"threshold\": 0.8399999737739563, \"p\": 28041, \"fpr\": 0.12265214124718257, \"tpr\": 0.881138333155023, \"n\": 5324}, {\"threshold\": 0.8410000205039978, \"p\": 28041, \"fpr\": 0.12227648384673179, \"tpr\": 0.8809243607574623, \"n\": 5324}, {\"threshold\": 0.8420000076293945, \"p\": 28041, \"fpr\": 0.1217129977460556, \"tpr\": 0.8803181056310403, \"n\": 5324}, {\"threshold\": 0.8429999947547913, \"p\": 28041, \"fpr\": 0.1215251690458302, \"tpr\": 0.8798188367033986, \"n\": 5324}, {\"threshold\": 0.843999981880188, \"p\": 28041, \"fpr\": 0.12058602554470323, \"tpr\": 0.8791412574444564, \"n\": 5324}, {\"threshold\": 0.8450000286102295, \"p\": 28041, \"fpr\": 0.11983471074380166, \"tpr\": 0.8788916229806355, \"n\": 5324}, {\"threshold\": 0.8460000157356262, \"p\": 28041, \"fpr\": 0.11964688204357626, \"tpr\": 0.8786063264505546, \"n\": 5324}, {\"threshold\": 0.847000002861023, \"p\": 28041, \"fpr\": 0.11945905334335086, \"tpr\": 0.8782853678542135, \"n\": 5324}, {\"threshold\": 0.8479999899864197, \"p\": 28041, \"fpr\": 0.1185199098422239, \"tpr\": 0.8780357333903926, \"n\": 5324}, {\"threshold\": 0.8489999771118164, \"p\": 28041, \"fpr\": 0.1183320811419985, \"tpr\": 0.8776077885952712, \"n\": 5324}, {\"threshold\": 0.8500000238418579, \"p\": 28041, \"fpr\": 0.11814425244177311, \"tpr\": 0.87721550586641, \"n\": 5324}, {\"threshold\": 0.8510000109672546, \"p\": 28041, \"fpr\": 0.1179564237415477, \"tpr\": 0.8768232231375486, \"n\": 5324}, {\"threshold\": 0.8519999980926514, \"p\": 28041, \"fpr\": 0.11776859504132231, \"tpr\": 0.876359616276167, \"n\": 5324}, {\"threshold\": 0.8529999852180481, \"p\": 28041, \"fpr\": 0.11701728024042074, \"tpr\": 0.8759316714810456, \"n\": 5324}, {\"threshold\": 0.8539999723434448, \"p\": 28041, \"fpr\": 0.11664162283996994, \"tpr\": 0.8755393887521843, \"n\": 5324}, {\"threshold\": 0.8550000190734863, \"p\": 28041, \"fpr\": 0.11607813673929376, \"tpr\": 0.874826147426982, \"n\": 5324}, {\"threshold\": 0.8560000061988831, \"p\": 28041, \"fpr\": 0.11589030803906837, \"tpr\": 0.87425555436682, \"n\": 5324}, {\"threshold\": 0.8569999933242798, \"p\": 28041, \"fpr\": 0.11570247933884298, \"tpr\": 0.8740059199029991, \"n\": 5324}, {\"threshold\": 0.8579999804496765, \"p\": 28041, \"fpr\": 0.1149511645379414, \"tpr\": 0.8736136371741379, \"n\": 5324}, {\"threshold\": 0.859000027179718, \"p\": 28041, \"fpr\": 0.1149511645379414, \"tpr\": 0.8730430441139759, \"n\": 5324}, {\"threshold\": 0.8600000143051147, \"p\": 28041, \"fpr\": 0.114763335837716, \"tpr\": 0.8725794372525945, \"n\": 5324}, {\"threshold\": 0.8610000014305115, \"p\": 28041, \"fpr\": 0.11419984973703982, \"tpr\": 0.8723298027887736, \"n\": 5324}, {\"threshold\": 0.8619999885559082, \"p\": 28041, \"fpr\": 0.11401202103681443, \"tpr\": 0.8719375200599123, \"n\": 5324}, {\"threshold\": 0.8629999756813049, \"p\": 28041, \"fpr\": 0.11382419233658903, \"tpr\": 0.8715452373310509, \"n\": 5324}, {\"threshold\": 0.8640000224113464, \"p\": 28041, \"fpr\": 0.11307287753568745, \"tpr\": 0.8712242787347099, \"n\": 5324}, {\"threshold\": 0.8650000095367432, \"p\": 28041, \"fpr\": 0.11194590533433509, \"tpr\": 0.8706180236082879, \"n\": 5324}, {\"threshold\": 0.8659999966621399, \"p\": 28041, \"fpr\": 0.11138241923365891, \"tpr\": 0.8699047822830854, \"n\": 5324}, {\"threshold\": 0.8669999837875366, \"p\": 28041, \"fpr\": 0.11081893313298272, \"tpr\": 0.8695481616204843, \"n\": 5324}, {\"threshold\": 0.8679999709129333, \"p\": 28041, \"fpr\": 0.11063110443275732, \"tpr\": 0.8690132306265825, \"n\": 5324}, {\"threshold\": 0.8690000176429749, \"p\": 28041, \"fpr\": 0.11025544703230654, \"tpr\": 0.8687279340965015, \"n\": 5324}, {\"threshold\": 0.8700000047683716, \"p\": 28041, \"fpr\": 0.10950413223140495, \"tpr\": 0.8681930031025997, \"n\": 5324}, {\"threshold\": 0.8709999918937683, \"p\": 28041, \"fpr\": 0.10912847483095417, \"tpr\": 0.867943368638779, \"n\": 5324}, {\"threshold\": 0.871999979019165, \"p\": 28041, \"fpr\": 0.10818933132982719, \"tpr\": 0.8674797617773974, \"n\": 5324}, {\"threshold\": 0.8730000257492065, \"p\": 28041, \"fpr\": 0.10762584522915102, \"tpr\": 0.8668378445847152, \"n\": 5324}, {\"threshold\": 0.8740000128746033, \"p\": 28041, \"fpr\": 0.10725018782870023, \"tpr\": 0.866481223922114, \"n\": 5324}, {\"threshold\": 0.875, \"p\": 28041, \"fpr\": 0.10668670172802404, \"tpr\": 0.8659106308619522, \"n\": 5324}, {\"threshold\": 0.8759999871253967, \"p\": 28041, \"fpr\": 0.10593538692712247, \"tpr\": 0.8655896722656111, \"n\": 5324}, {\"threshold\": 0.8769999742507935, \"p\": 28041, \"fpr\": 0.10537190082644628, \"tpr\": 0.8649120930066688, \"n\": 5324}, {\"threshold\": 0.878000020980835, \"p\": 28041, \"fpr\": 0.10443275732531931, \"tpr\": 0.8644128240790271, \"n\": 5324}, {\"threshold\": 0.8790000081062317, \"p\": 28041, \"fpr\": 0.10405709992486852, \"tpr\": 0.8639135551513855, \"n\": 5324}, {\"threshold\": 0.8799999952316284, \"p\": 28041, \"fpr\": 0.10386927122464312, \"tpr\": 0.8631289896936628, \"n\": 5324}, {\"threshold\": 0.8809999823570251, \"p\": 28041, \"fpr\": 0.10349361382419234, \"tpr\": 0.8623800863022003, \"n\": 5324}, {\"threshold\": 0.8820000290870667, \"p\": 28041, \"fpr\": 0.10293012772351616, \"tpr\": 0.8618094932420385, \"n\": 5324}, {\"threshold\": 0.8830000162124634, \"p\": 28041, \"fpr\": 0.10255447032306536, \"tpr\": 0.8612032381156164, \"n\": 5324}, {\"threshold\": 0.8840000033378601, \"p\": 28041, \"fpr\": 0.1016153268219384, \"tpr\": 0.8604186726578938, \"n\": 5324}, {\"threshold\": 0.8849999904632568, \"p\": 28041, \"fpr\": 0.1012396694214876, \"tpr\": 0.859562783067651, \"n\": 5324}, {\"threshold\": 0.8859999775886536, \"p\": 28041, \"fpr\": 0.1010518407212622, \"tpr\": 0.8591705003387896, \"n\": 5324}, {\"threshold\": 0.8870000243186951, \"p\": 28041, \"fpr\": 0.10067618332081142, \"tpr\": 0.858385934881067, \"n\": 5324}, {\"threshold\": 0.8880000114440918, \"p\": 28041, \"fpr\": 0.10030052592036064, \"tpr\": 0.8577083556221248, \"n\": 5324}, {\"threshold\": 0.8889999985694885, \"p\": 28041, \"fpr\": 0.09992486851990984, \"tpr\": 0.8572804108270033, \"n\": 5324}, {\"threshold\": 0.8899999856948853, \"p\": 28041, \"fpr\": 0.09842223891810668, \"tpr\": 0.8566741557005813, \"n\": 5324}, {\"threshold\": 0.890999972820282, \"p\": 28041, \"fpr\": 0.0980465815176559, \"tpr\": 0.8557469419778182, \"n\": 5324}, {\"threshold\": 0.8920000195503235, \"p\": 28041, \"fpr\": 0.09729526671675431, \"tpr\": 0.8551050247851361, \"n\": 5324}, {\"threshold\": 0.8930000066757202, \"p\": 28041, \"fpr\": 0.09691960931630353, \"tpr\": 0.8543917834599337, \"n\": 5324}, {\"threshold\": 0.8939999938011169, \"p\": 28041, \"fpr\": 0.09598046581517655, \"tpr\": 0.8534645697371706, \"n\": 5324}, {\"threshold\": 0.8949999809265137, \"p\": 28041, \"fpr\": 0.09560480841472577, \"tpr\": 0.8527869904782283, \"n\": 5324}, {\"threshold\": 0.8960000276565552, \"p\": 28041, \"fpr\": 0.09560480841472577, \"tpr\": 0.8519667629542456, \"n\": 5324}, {\"threshold\": 0.8970000147819519, \"p\": 28041, \"fpr\": 0.09541697971450037, \"tpr\": 0.8512535216290432, \"n\": 5324}, {\"threshold\": 0.8980000019073486, \"p\": 28041, \"fpr\": 0.09504132231404959, \"tpr\": 0.8506472665026211, \"n\": 5324}, {\"threshold\": 0.8989999890327454, \"p\": 28041, \"fpr\": 0.0944778362133734, \"tpr\": 0.8498627010448986, \"n\": 5324}, {\"threshold\": 0.8999999761581421, \"p\": 28041, \"fpr\": 0.09410217881292261, \"tpr\": 0.8491851217859563, \"n\": 5324}, {\"threshold\": 0.9010000228881836, \"p\": 28041, \"fpr\": 0.09316303531179564, \"tpr\": 0.848507542527014, \"n\": 5324}, {\"threshold\": 0.9020000100135803, \"p\": 28041, \"fpr\": 0.09297520661157024, \"tpr\": 0.8478299632680718, \"n\": 5324}, {\"threshold\": 0.902999997138977, \"p\": 28041, \"fpr\": 0.09241172051089407, \"tpr\": 0.8475090046717306, \"n\": 5324}, {\"threshold\": 0.9039999842643738, \"p\": 28041, \"fpr\": 0.09222389181066867, \"tpr\": 0.8466887771477479, \"n\": 5324}, {\"threshold\": 0.9049999713897705, \"p\": 28041, \"fpr\": 0.0912847483095417, \"tpr\": 0.846118184087586, \"n\": 5324}, {\"threshold\": 0.906000018119812, \"p\": 28041, \"fpr\": 0.09015777610818933, \"tpr\": 0.8451909703648229, \"n\": 5324}, {\"threshold\": 0.9070000052452087, \"p\": 28041, \"fpr\": 0.08940646130728776, \"tpr\": 0.8443350807745801, \"n\": 5324}, {\"threshold\": 0.9079999923706055, \"p\": 28041, \"fpr\": 0.08846731780616078, \"tpr\": 0.8433008808530367, \"n\": 5324}, {\"threshold\": 0.9089999794960022, \"p\": 28041, \"fpr\": 0.08827948910593539, \"tpr\": 0.8422666809314932, \"n\": 5324}, {\"threshold\": 0.9100000262260437, \"p\": 28041, \"fpr\": 0.08809166040571, \"tpr\": 0.8414107913412503, \"n\": 5324}, {\"threshold\": 0.9110000133514404, \"p\": 28041, \"fpr\": 0.08734034560480841, \"tpr\": 0.8404835776184872, \"n\": 5324}, {\"threshold\": 0.9120000004768372, \"p\": 28041, \"fpr\": 0.08715251690458302, \"tpr\": 0.839805998359545, \"n\": 5324}, {\"threshold\": 0.9129999876022339, \"p\": 28041, \"fpr\": 0.08677685950413223, \"tpr\": 0.8390927570343426, \"n\": 5324}, {\"threshold\": 0.9139999747276306, \"p\": 28041, \"fpr\": 0.08677685950413223, \"tpr\": 0.8384151777754003, \"n\": 5324}, {\"threshold\": 0.9150000214576721, \"p\": 28041, \"fpr\": 0.08640120210368145, \"tpr\": 0.8373096537213366, \"n\": 5324}, {\"threshold\": 0.9160000085830688, \"p\": 28041, \"fpr\": 0.08583771600300526, \"tpr\": 0.8364181020648337, \"n\": 5324}, {\"threshold\": 0.9169999957084656, \"p\": 28041, \"fpr\": 0.08508640120210369, \"tpr\": 0.8350629435469491, \"n\": 5324}, {\"threshold\": 0.9179999828338623, \"p\": 28041, \"fpr\": 0.08508640120210369, \"tpr\": 0.8337791091615848, \"n\": 5324}, {\"threshold\": 0.9190000295639038, \"p\": 28041, \"fpr\": 0.0845229151014275, \"tpr\": 0.8328875575050818, \"n\": 5324}, {\"threshold\": 0.9200000166893005, \"p\": 28041, \"fpr\": 0.08377160030052593, \"tpr\": 0.8314610748546771, \"n\": 5324}, {\"threshold\": 0.9210000038146973, \"p\": 28041, \"fpr\": 0.08339594290007513, \"tpr\": 0.8304625369993938, \"n\": 5324}, {\"threshold\": 0.921999990940094, \"p\": 28041, \"fpr\": 0.08245679939894816, \"tpr\": 0.8293213508790699, \"n\": 5324}, {\"threshold\": 0.9229999780654907, \"p\": 28041, \"fpr\": 0.08170548459804658, \"tpr\": 0.8281801647587461, \"n\": 5324}, {\"threshold\": 0.9240000247955322, \"p\": 28041, \"fpr\": 0.0813298271975958, \"tpr\": 0.8272529510359831, \"n\": 5324}, {\"threshold\": 0.925000011920929, \"p\": 28041, \"fpr\": 0.08095416979714501, \"tpr\": 0.8264683855782604, \"n\": 5324}, {\"threshold\": 0.9259999990463257, \"p\": 28041, \"fpr\": 0.08001502629601803, \"tpr\": 0.825148889126636, \"n\": 5324}, {\"threshold\": 0.9269999861717224, \"p\": 28041, \"fpr\": 0.07982719759579264, \"tpr\": 0.8240077030063122, \"n\": 5324}, {\"threshold\": 0.9279999732971191, \"p\": 28041, \"fpr\": 0.07963936889556725, \"tpr\": 0.823044827217289, \"n\": 5324}, {\"threshold\": 0.9290000200271606, \"p\": 28041, \"fpr\": 0.07888805409466566, \"tpr\": 0.8216896686994044, \"n\": 5324}, {\"threshold\": 0.9300000071525574, \"p\": 28041, \"fpr\": 0.0781367392937641, \"tpr\": 0.8204771584465604, \"n\": 5324}, {\"threshold\": 0.9309999942779541, \"p\": 28041, \"fpr\": 0.07700976709241172, \"tpr\": 0.8189080275311151, \"n\": 5324}, {\"threshold\": 0.9319999814033508, \"p\": 28041, \"fpr\": 0.07682193839218633, \"tpr\": 0.8175172069469705, \"n\": 5324}, {\"threshold\": 0.9330000281333923, \"p\": 28041, \"fpr\": 0.07682193839218633, \"tpr\": 0.8163403587603866, \"n\": 5324}, {\"threshold\": 0.9340000152587891, \"p\": 28041, \"fpr\": 0.07663410969196092, \"tpr\": 0.8148068899112014, \"n\": 5324}, {\"threshold\": 0.9350000023841858, \"p\": 28041, \"fpr\": 0.07644628099173553, \"tpr\": 0.8132734210620164, \"n\": 5324}, {\"threshold\": 0.9359999895095825, \"p\": 28041, \"fpr\": 0.07588279489105935, \"tpr\": 0.8120609108091723, \"n\": 5324}, {\"threshold\": 0.9369999766349792, \"p\": 28041, \"fpr\": 0.07531930879038318, \"tpr\": 0.8109553867551086, \"n\": 5324}, {\"threshold\": 0.9380000233650208, \"p\": 28041, \"fpr\": 0.07494365138993238, \"tpr\": 0.8094932420384437, \"n\": 5324}, {\"threshold\": 0.9390000104904175, \"p\": 28041, \"fpr\": 0.07456799398948159, \"tpr\": 0.8079597731892586, \"n\": 5324}, {\"threshold\": 0.9399999976158142, \"p\": 28041, \"fpr\": 0.07381667918858001, \"tpr\": 0.8061410078099925, \"n\": 5324}, {\"threshold\": 0.9409999847412109, \"p\": 28041, \"fpr\": 0.07325319308790383, \"tpr\": 0.8048215113583681, \"n\": 5324}, {\"threshold\": 0.9419999718666077, \"p\": 28041, \"fpr\": 0.07250187828700225, \"tpr\": 0.8034306907742235, \"n\": 5324}, {\"threshold\": 0.9430000185966492, \"p\": 28041, \"fpr\": 0.07231404958677685, \"tpr\": 0.8018972219250383, \"n\": 5324}, {\"threshold\": 0.9440000057220459, \"p\": 28041, \"fpr\": 0.07156273478587528, \"tpr\": 0.8004707392746335, \"n\": 5324}, {\"threshold\": 0.9449999928474426, \"p\": 28041, \"fpr\": 0.0711870773854245, \"tpr\": 0.7988659462929282, \"n\": 5324}, {\"threshold\": 0.9459999799728394, \"p\": 28041, \"fpr\": 0.0708114199849737, \"tpr\": 0.7970115188474021, \"n\": 5324}, {\"threshold\": 0.9470000267028809, \"p\": 28041, \"fpr\": 0.06987227648384674, \"tpr\": 0.7953354017331764, \"n\": 5324}, {\"threshold\": 0.9480000138282776, \"p\": 28041, \"fpr\": 0.06930879038317055, \"tpr\": 0.7939445811490318, \"n\": 5324}, {\"threshold\": 0.9490000009536743, \"p\": 28041, \"fpr\": 0.06780616078136739, \"tpr\": 0.7923041261010663, \"n\": 5324}, {\"threshold\": 0.949999988079071, \"p\": 28041, \"fpr\": 0.06649135987978963, \"tpr\": 0.7898434435291181, \"n\": 5324}, {\"threshold\": 0.9509999752044678, \"p\": 28041, \"fpr\": 0.06574004507888806, \"tpr\": 0.7883099746799329, \"n\": 5324}, {\"threshold\": 0.9520000219345093, \"p\": 28041, \"fpr\": 0.06498873027798648, \"tpr\": 0.7867408437644877, \"n\": 5324}, {\"threshold\": 0.953000009059906, \"p\": 28041, \"fpr\": 0.0644252441773103, \"tpr\": 0.7843514853250597, \"n\": 5324}, {\"threshold\": 0.9539999961853027, \"p\": 28041, \"fpr\": 0.0638617580766341, \"tpr\": 0.7819264648193717, \"n\": 5324}, {\"threshold\": 0.9549999833106995, \"p\": 28041, \"fpr\": 0.06311044327573254, \"tpr\": 0.7797867408437645, \"n\": 5324}, {\"threshold\": 0.9559999704360962, \"p\": 28041, \"fpr\": 0.06292261457550714, \"tpr\": 0.778146285795799, \"n\": 5324}, {\"threshold\": 0.9570000171661377, \"p\": 28041, \"fpr\": 0.06179564237415477, \"tpr\": 0.7759708997539317, \"n\": 5324}, {\"threshold\": 0.9580000042915344, \"p\": 28041, \"fpr\": 0.06104432757325319, \"tpr\": 0.7740451481758853, \"n\": 5324}, {\"threshold\": 0.9589999914169312, \"p\": 28041, \"fpr\": 0.06010518407212622, \"tpr\": 0.771263507007596, \"n\": 5324}, {\"threshold\": 0.9599999785423279, \"p\": 28041, \"fpr\": 0.05972952667167543, \"tpr\": 0.768874148568168, \"n\": 5324}, {\"threshold\": 0.9610000252723694, \"p\": 28041, \"fpr\": 0.05916604057099925, \"tpr\": 0.7663421418636995, \"n\": 5324}, {\"threshold\": 0.9620000123977661, \"p\": 28041, \"fpr\": 0.05785123966942149, \"tpr\": 0.7642024178880924, \"n\": 5324}, {\"threshold\": 0.9629999995231628, \"p\": 28041, \"fpr\": 0.057287753568745305, \"tpr\": 0.7612424663885026, \"n\": 5324}, {\"threshold\": 0.9639999866485596, \"p\": 28041, \"fpr\": 0.056348610067618335, \"tpr\": 0.7580328804250919, \"n\": 5324}, {\"threshold\": 0.9649999737739563, \"p\": 28041, \"fpr\": 0.05559729526671676, \"tpr\": 0.7555365357868835, \"n\": 5324}, {\"threshold\": 0.9660000205039978, \"p\": 28041, \"fpr\": 0.054845980465815174, \"tpr\": 0.7525765842872936, \"n\": 5324}, {\"threshold\": 0.9670000076293945, \"p\": 28041, \"fpr\": 0.053906836964688204, \"tpr\": 0.7495809707214436, \"n\": 5324}, {\"threshold\": 0.9679999947547913, \"p\": 28041, \"fpr\": 0.05334335086401202, \"tpr\": 0.7460504261616918, \"n\": 5324}, {\"threshold\": 0.968999981880188, \"p\": 28041, \"fpr\": 0.052967693463561234, \"tpr\": 0.7429121643308013, \"n\": 5324}, {\"threshold\": 0.9700000286102295, \"p\": 28041, \"fpr\": 0.051840721262208865, \"tpr\": 0.7391676473734888, \"n\": 5324}, {\"threshold\": 0.9710000157356262, \"p\": 28041, \"fpr\": 0.050901577761081895, \"tpr\": 0.7361007096751185, \"n\": 5324}, {\"threshold\": 0.972000002861023, \"p\": 28041, \"fpr\": 0.04996243425995492, \"tpr\": 0.7320708961877251, \"n\": 5324}, {\"threshold\": 0.9729999899864197, \"p\": 28041, \"fpr\": 0.04939894815927874, \"tpr\": 0.7286116757604936, \"n\": 5324}, {\"threshold\": 0.9739999771118164, \"p\": 28041, \"fpr\": 0.04827197595792637, \"tpr\": 0.7241895795442388, \"n\": 5324}, {\"threshold\": 0.9750000238418579, \"p\": 28041, \"fpr\": 0.047145003756574, \"tpr\": 0.719767483327984, \"n\": 5324}, {\"threshold\": 0.9760000109672546, \"p\": 28041, \"fpr\": 0.045454545454545456, \"tpr\": 0.7153097250454691, \"n\": 5324}, {\"threshold\": 0.9769999980926514, \"p\": 28041, \"fpr\": 0.04432757325319309, \"tpr\": 0.7107093184979137, \"n\": 5324}, {\"threshold\": 0.9779999852180481, \"p\": 28041, \"fpr\": 0.04338842975206612, \"tpr\": 0.7063585464141793, \"n\": 5324}, {\"threshold\": 0.9789999723434448, \"p\": 28041, \"fpr\": 0.043012772351615325, \"tpr\": 0.7013658571377626, \"n\": 5324}, {\"threshold\": 0.9800000190734863, \"p\": 28041, \"fpr\": 0.04244928625093914, \"tpr\": 0.6954459541385828, \"n\": 5324}, {\"threshold\": 0.9810000061988831, \"p\": 28041, \"fpr\": 0.04169797145003756, \"tpr\": 0.6897043614707036, \"n\": 5324}, {\"threshold\": 0.9819999933242798, \"p\": 28041, \"fpr\": 0.0403831705484598, \"tpr\": 0.6831425412788417, \"n\": 5324}, {\"threshold\": 0.9829999804496765, \"p\": 28041, \"fpr\": 0.03831705484598046, \"tpr\": 0.6772226382796619, \"n\": 5324}, {\"threshold\": 0.984000027179718, \"p\": 28041, \"fpr\": 0.03681442524417731, \"tpr\": 0.6699119146963375, \"n\": 5324}, {\"threshold\": 0.9850000143051147, \"p\": 28041, \"fpr\": 0.036250939143501124, \"tpr\": 0.6623158945829322, \"n\": 5324}, {\"threshold\": 0.9860000014305115, \"p\": 28041, \"fpr\": 0.03493613824192337, \"tpr\": 0.6540422952105845, \"n\": 5324}, {\"threshold\": 0.9869999885559082, \"p\": 28041, \"fpr\": 0.03399699474079639, \"tpr\": 0.6448058200492136, \"n\": 5324}, {\"threshold\": 0.9879999756813049, \"p\": 28041, \"fpr\": 0.03249436513899324, \"tpr\": 0.6355336828215827, \"n\": 5324}, {\"threshold\": 0.9890000224113464, \"p\": 28041, \"fpr\": 0.030803906836964687, \"tpr\": 0.6256196284012696, \"n\": 5324}, {\"threshold\": 0.9900000095367432, \"p\": 28041, \"fpr\": 0.028549962434259956, \"tpr\": 0.6140294568667308, \"n\": 5324}, {\"threshold\": 0.9909999966621399, \"p\": 28041, \"fpr\": 0.027235161532682194, \"tpr\": 0.60179736813951, \"n\": 5324}, {\"threshold\": 0.9919999837875366, \"p\": 28041, \"fpr\": 0.025920360631104433, \"tpr\": 0.587746514033023, \"n\": 5324}, {\"threshold\": 0.9929999709129333, \"p\": 28041, \"fpr\": 0.023854244928625094, \"tpr\": 0.5725901358724724, \"n\": 5324}, {\"threshold\": 0.9940000176429749, \"p\": 28041, \"fpr\": 0.022163786626596543, \"tpr\": 0.5554723440676153, \"n\": 5324}, {\"threshold\": 0.9950000047683716, \"p\": 28041, \"fpr\": 0.021036814425244178, \"tpr\": 0.5331122285225206, \"n\": 5324}, {\"threshold\": 0.9959999918937683, \"p\": 28041, \"fpr\": 0.019534184823441023, \"tpr\": 0.5060090581648301, \"n\": 5324}, {\"threshold\": 0.996999979019165, \"p\": 28041, \"fpr\": 0.017468069120961684, \"tpr\": 0.47280767447665917, \"n\": 5324}, {\"threshold\": 0.9980000257492065, \"p\": 28041, \"fpr\": 0.014462809917355372, \"tpr\": 0.42823009165151027, \"n\": 5324}, {\"threshold\": 0.9990000128746033, \"p\": 28041, \"fpr\": 0.010706235912847483, \"tpr\": 0.35911700723939943, \"n\": 5324}, {\"threshold\": 1.0, \"p\": 28041, \"fpr\": 0.0, \"tpr\": 0.0, \"n\": 5324}]}]], \"type\": \"Model\"}, \"ipython\": true, \"view_params\": {\"model_type\": \"regression\", \"view\": \"Evaluation\"}, \"model_type\": \"regression\", \"attributes\": {\"section_titles\": [\"Schema\", \"Hyperparameters\", \"Training Summary\", \"Settings\", \"Highest Positive Coefficients\", \"Lowest Negative Coefficients\"], \"sections\": [[[\"Number of coefficients\", 219218], [\"Number of examples\", 133448], [\"Number of classes\", 2], [\"Number of feature columns\", 1], [\"Number of unpacked features\", 219217]], [[\"L1 penalty\", 0.0], [\"L2 penalty\", 0.01]], [[\"Solver\", \"auto\"], [\"Solver iterations\", 10], [\"Solver status\", \"TERMINATED: Iteration limit reached.\"], [\"Training time (sec)\", 11.5114]], [[\"Log-likelihood\", 4956.6901]], [[\"word_count[pinkjeep]\", 13.5701], [\"word_count[(http://www.amazon.com/review/rhgg6qp7tdnhb/ref=cm_cr_pr_cmt?ie=utf8&asin;=b00318cla0&nodeid;)]\", 12.3088], [\"word_count[label/box.]\", 11.1774], [\"word_count[product.***]\", 11.064], [\"word_count[direct-pumping]\", 11.0531]], [[\"word_count[it.update:after]\", -18.3631], [\"word_count[5months.]\", -16.0906], [\"word_count[oldest.if]\", -15.9315], [\"word_count[maxima.]\", -15.8084], [\"word_count[(160.00)]\", -15.4512]]]}, \"evaluations\": [[\"test_data\", {\"roc_curve\": [{\"threshold\": 0.0, \"p\": 28041, \"fpr\": 0.22370398196844477, \"tpr\": 0.003851503156092864, \"n\": 5324}, {\"threshold\": 0.0010000000474974513, \"p\": 28041, \"fpr\": 0.7762960180315552, \"tpr\": 0.9961484968439072, \"n\": 5324}, {\"threshold\": 0.0020000000949949026, \"p\": 28041, \"fpr\": 0.7362885048835462, \"tpr\": 0.9951142969223636, \"n\": 5324}, {\"threshold\": 0.003000000026077032, \"p\": 28041, \"fpr\": 0.7135612321562734, \"tpr\": 0.9945080417959417, \"n\": 5324}, {\"threshold\": 0.004000000189989805, \"p\": 28041, \"fpr\": 0.6979714500375658, \"tpr\": 0.9940444349345601, \"n\": 5324}, {\"threshold\": 0.004999999888241291, \"p\": 28041, \"fpr\": 0.6867017280240421, \"tpr\": 0.993687814271959, \"n\": 5324}, {\"threshold\": 0.006000000052154064, \"p\": 28041, \"fpr\": 0.6769346356123216, \"tpr\": 0.9931885453443172, \"n\": 5324}, {\"threshold\": 0.007000000216066837, \"p\": 28041, \"fpr\": 0.6664162283996995, \"tpr\": 0.9928319246817161, \"n\": 5324}, {\"threshold\": 0.00800000037997961, \"p\": 28041, \"fpr\": 0.6560856498873028, \"tpr\": 0.9925822902178952, \"n\": 5324}, {\"threshold\": 0.008999999612569809, \"p\": 28041, \"fpr\": 0.6487603305785123, \"tpr\": 0.9922613316215542, \"n\": 5324}, {\"threshold\": 0.009999999776482582, \"p\": 28041, \"fpr\": 0.6401202103681443, \"tpr\": 0.9920116971577333, \"n\": 5324}, {\"threshold\": 0.010999999940395355, \"p\": 28041, \"fpr\": 0.6331705484598047, \"tpr\": 0.9917264006276524, \"n\": 5324}, {\"threshold\": 0.012000000104308128, \"p\": 28041, \"fpr\": 0.6277235161532683, \"tpr\": 0.9914054420313113, \"n\": 5324}, {\"threshold\": 0.013000000268220901, \"p\": 28041, \"fpr\": 0.620961682945154, \"tpr\": 0.9911558075674904, \"n\": 5324}, {\"threshold\": 0.014000000432133675, \"p\": 28041, \"fpr\": 0.6160781367392938, \"tpr\": 0.9909061731036696, \"n\": 5324}, {\"threshold\": 0.014999999664723873, \"p\": 28041, \"fpr\": 0.6093163035311796, \"tpr\": 0.9906565386398488, \"n\": 5324}, {\"threshold\": 0.01600000075995922, \"p\": 28041, \"fpr\": 0.6046205860255447, \"tpr\": 0.9903355800435077, \"n\": 5324}, {\"threshold\": 0.017000000923871994, \"p\": 28041, \"fpr\": 0.6008640120210368, \"tpr\": 0.9900859455796869, \"n\": 5324}, {\"threshold\": 0.017999999225139618, \"p\": 28041, \"fpr\": 0.5959804658151766, \"tpr\": 0.9899076352483863, \"n\": 5324}, {\"threshold\": 0.01899999938905239, \"p\": 28041, \"fpr\": 0.5910969196093163, \"tpr\": 0.9897649869833458, \"n\": 5324}, {\"threshold\": 0.019999999552965164, \"p\": 28041, \"fpr\": 0.5865890308039068, \"tpr\": 0.9895510145857851, \"n\": 5324}, {\"threshold\": 0.020999999716877937, \"p\": 28041, \"fpr\": 0.582832456799399, \"tpr\": 0.9894440283870047, \"n\": 5324}, {\"threshold\": 0.02199999988079071, \"p\": 28041, \"fpr\": 0.580015026296018, \"tpr\": 0.9891943939231839, \"n\": 5324}, {\"threshold\": 0.023000000044703484, \"p\": 28041, \"fpr\": 0.5779489105935387, \"tpr\": 0.9890874077244035, \"n\": 5324}, {\"threshold\": 0.024000000208616257, \"p\": 28041, \"fpr\": 0.5736288504883547, \"tpr\": 0.9889447594593631, \"n\": 5324}, {\"threshold\": 0.02500000037252903, \"p\": 28041, \"fpr\": 0.5706235912847483, \"tpr\": 0.9887307870618024, \"n\": 5324}, {\"threshold\": 0.026000000536441803, \"p\": 28041, \"fpr\": 0.5670548459804658, \"tpr\": 0.988623800863022, \"n\": 5324}, {\"threshold\": 0.027000000700354576, \"p\": 28041, \"fpr\": 0.5638617580766341, \"tpr\": 0.988338504332941, \"n\": 5324}, {\"threshold\": 0.02800000086426735, \"p\": 28041, \"fpr\": 0.5610443275732532, \"tpr\": 0.9881601940016405, \"n\": 5324}, {\"threshold\": 0.028999999165534973, \"p\": 28041, \"fpr\": 0.5576634109691961, \"tpr\": 0.9879818836703399, \"n\": 5324}, {\"threshold\": 0.029999999329447746, \"p\": 28041, \"fpr\": 0.5537190082644629, \"tpr\": 0.987732249206519, \"n\": 5324}, {\"threshold\": 0.03099999949336052, \"p\": 28041, \"fpr\": 0.5522163786626596, \"tpr\": 0.9876252630077387, \"n\": 5324}, {\"threshold\": 0.03200000151991844, \"p\": 28041, \"fpr\": 0.5484598046581518, \"tpr\": 0.9873756285439178, \"n\": 5324}, {\"threshold\": 0.032999999821186066, \"p\": 28041, \"fpr\": 0.5443275732531931, \"tpr\": 0.9872329802788774, \"n\": 5324}, {\"threshold\": 0.03400000184774399, \"p\": 28041, \"fpr\": 0.5424492862509391, \"tpr\": 0.987125994080097, \"n\": 5324}, {\"threshold\": 0.03500000014901161, \"p\": 28041, \"fpr\": 0.5405709992486852, \"tpr\": 0.9870903320138369, \"n\": 5324}, {\"threshold\": 0.035999998450279236, \"p\": 28041, \"fpr\": 0.5385048835462058, \"tpr\": 0.9869833458150565, \"n\": 5324}, {\"threshold\": 0.03700000047683716, \"p\": 28041, \"fpr\": 0.5360631104432757, \"tpr\": 0.9869120216825363, \"n\": 5324}, {\"threshold\": 0.03799999877810478, \"p\": 28041, \"fpr\": 0.532870022539444, \"tpr\": 0.9865554010199351, \"n\": 5324}, {\"threshold\": 0.039000000804662704, \"p\": 28041, \"fpr\": 0.5317430503380917, \"tpr\": 0.9863057665561142, \"n\": 5324}, {\"threshold\": 0.03999999910593033, \"p\": 28041, \"fpr\": 0.5304282494365139, \"tpr\": 0.9861987803573339, \"n\": 5324}, {\"threshold\": 0.04100000113248825, \"p\": 28041, \"fpr\": 0.5281743050338091, \"tpr\": 0.9861274562248137, \"n\": 5324}, {\"threshold\": 0.041999999433755875, \"p\": 28041, \"fpr\": 0.5251690458302029, \"tpr\": 0.9859848079597732, \"n\": 5324}, {\"threshold\": 0.0430000014603138, \"p\": 28041, \"fpr\": 0.5240420736288505, \"tpr\": 0.9857351734959524, \"n\": 5324}, {\"threshold\": 0.04399999976158142, \"p\": 28041, \"fpr\": 0.5217881292261457, \"tpr\": 0.9855925252309119, \"n\": 5324}, {\"threshold\": 0.04500000178813934, \"p\": 28041, \"fpr\": 0.5206611570247934, \"tpr\": 0.9854142148996112, \"n\": 5324}, {\"threshold\": 0.04600000008940697, \"p\": 28041, \"fpr\": 0.5178437265214124, \"tpr\": 0.9853785528333512, \"n\": 5324}, {\"threshold\": 0.04699999839067459, \"p\": 28041, \"fpr\": 0.5159654395191585, \"tpr\": 0.9851289183695303, \"n\": 5324}, {\"threshold\": 0.04800000041723251, \"p\": 28041, \"fpr\": 0.5137114951164538, \"tpr\": 0.9849149459719696, \"n\": 5324}, {\"threshold\": 0.04899999871850014, \"p\": 28041, \"fpr\": 0.5125845229151015, \"tpr\": 0.9847722977069291, \"n\": 5324}, {\"threshold\": 0.05000000074505806, \"p\": 28041, \"fpr\": 0.5107062359128475, \"tpr\": 0.9846296494418887, \"n\": 5324}, {\"threshold\": 0.050999999046325684, \"p\": 28041, \"fpr\": 0.5075131480090158, \"tpr\": 0.984415677044328, \"n\": 5324}, {\"threshold\": 0.052000001072883606, \"p\": 28041, \"fpr\": 0.5048835462058603, \"tpr\": 0.9842730287792875, \"n\": 5324}, {\"threshold\": 0.05299999937415123, \"p\": 28041, \"fpr\": 0.5031930879038317, \"tpr\": 0.9841660425805071, \"n\": 5324}, {\"threshold\": 0.05400000140070915, \"p\": 28041, \"fpr\": 0.5011269722013524, \"tpr\": 0.9839520701829464, \"n\": 5324}, {\"threshold\": 0.054999999701976776, \"p\": 28041, \"fpr\": 0.5, \"tpr\": 0.9838807460504262, \"n\": 5324}, {\"threshold\": 0.0560000017285347, \"p\": 28041, \"fpr\": 0.49755822689706986, \"tpr\": 0.983845083984166, \"n\": 5324}, {\"threshold\": 0.05700000002980232, \"p\": 28041, \"fpr\": 0.4954921111945905, \"tpr\": 0.9836311115866053, \"n\": 5324}, {\"threshold\": 0.057999998331069946, \"p\": 28041, \"fpr\": 0.4934259954921112, \"tpr\": 0.9834528012553048, \"n\": 5324}, {\"threshold\": 0.05900000035762787, \"p\": 28041, \"fpr\": 0.4922990232907588, \"tpr\": 0.9833101529902643, \"n\": 5324}, {\"threshold\": 0.05999999865889549, \"p\": 28041, \"fpr\": 0.4898572501878287, \"tpr\": 0.9832744909240041, \"n\": 5324}, {\"threshold\": 0.061000000685453415, \"p\": 28041, \"fpr\": 0.4877911344853494, \"tpr\": 0.9830961805927035, \"n\": 5324}, {\"threshold\": 0.06199999898672104, \"p\": 28041, \"fpr\": 0.48591284748309543, \"tpr\": 0.9830605185264434, \"n\": 5324}, {\"threshold\": 0.06300000101327896, \"p\": 28041, \"fpr\": 0.48459804658151767, \"tpr\": 0.9829891943939232, \"n\": 5324}, {\"threshold\": 0.06400000303983688, \"p\": 28041, \"fpr\": 0.4834710743801653, \"tpr\": 0.9828108840626226, \"n\": 5324}, {\"threshold\": 0.06499999761581421, \"p\": 28041, \"fpr\": 0.4821562734785875, \"tpr\": 0.9828108840626226, \"n\": 5324}, {\"threshold\": 0.06599999964237213, \"p\": 28041, \"fpr\": 0.48159278737791134, \"tpr\": 0.9828108840626226, \"n\": 5324}, {\"threshold\": 0.06700000166893005, \"p\": 28041, \"fpr\": 0.48084147257700977, \"tpr\": 0.9827395599301023, \"n\": 5324}, {\"threshold\": 0.06800000369548798, \"p\": 28041, \"fpr\": 0.4797145003756574, \"tpr\": 0.9825612495988018, \"n\": 5324}, {\"threshold\": 0.0689999982714653, \"p\": 28041, \"fpr\": 0.47858752817430505, \"tpr\": 0.9825255875325416, \"n\": 5324}, {\"threshold\": 0.07000000029802322, \"p\": 28041, \"fpr\": 0.47783621337340343, \"tpr\": 0.9824542634000214, \"n\": 5324}, {\"threshold\": 0.07100000232458115, \"p\": 28041, \"fpr\": 0.4765214124718257, \"tpr\": 0.9823829392675012, \"n\": 5324}, {\"threshold\": 0.07199999690055847, \"p\": 28041, \"fpr\": 0.47520661157024796, \"tpr\": 0.9823829392675012, \"n\": 5324}, {\"threshold\": 0.0729999989271164, \"p\": 28041, \"fpr\": 0.473328324567994, \"tpr\": 0.9822759530687208, \"n\": 5324}, {\"threshold\": 0.07400000095367432, \"p\": 28041, \"fpr\": 0.4718256949661908, \"tpr\": 0.9821689668699405, \"n\": 5324}, {\"threshold\": 0.07500000298023224, \"p\": 28041, \"fpr\": 0.4699474079639369, \"tpr\": 0.9820619806711601, \"n\": 5324}, {\"threshold\": 0.07599999755620956, \"p\": 28041, \"fpr\": 0.4690082644628099, \"tpr\": 0.9818836703398595, \"n\": 5324}, {\"threshold\": 0.07699999958276749, \"p\": 28041, \"fpr\": 0.46769346356123215, \"tpr\": 0.9818480082735994, \"n\": 5324}, {\"threshold\": 0.07800000160932541, \"p\": 28041, \"fpr\": 0.4667543200601052, \"tpr\": 0.9815627117435184, \"n\": 5324}, {\"threshold\": 0.07900000363588333, \"p\": 28041, \"fpr\": 0.4658151765589782, \"tpr\": 0.9815627117435184, \"n\": 5324}, {\"threshold\": 0.07999999821186066, \"p\": 28041, \"fpr\": 0.46487603305785125, \"tpr\": 0.981455725544738, \"n\": 5324}, {\"threshold\": 0.08100000023841858, \"p\": 28041, \"fpr\": 0.4641247182569497, \"tpr\": 0.981420063478478, \"n\": 5324}, {\"threshold\": 0.0820000022649765, \"p\": 28041, \"fpr\": 0.4626220886551465, \"tpr\": 0.9813844014122178, \"n\": 5324}, {\"threshold\": 0.08299999684095383, \"p\": 28041, \"fpr\": 0.46111945905334334, \"tpr\": 0.9811704290146571, \"n\": 5324}, {\"threshold\": 0.08399999886751175, \"p\": 28041, \"fpr\": 0.4598046581517656, \"tpr\": 0.9810991048821369, \"n\": 5324}, {\"threshold\": 0.08500000089406967, \"p\": 28041, \"fpr\": 0.45773854244928625, \"tpr\": 0.9810991048821369, \"n\": 5324}, {\"threshold\": 0.0860000029206276, \"p\": 28041, \"fpr\": 0.4567993989481593, \"tpr\": 0.9810634428158768, \"n\": 5324}, {\"threshold\": 0.08699999749660492, \"p\": 28041, \"fpr\": 0.4552967693463561, \"tpr\": 0.9809921186833566, \"n\": 5324}, {\"threshold\": 0.08799999952316284, \"p\": 28041, \"fpr\": 0.45379413974455296, \"tpr\": 0.9807424842195357, \"n\": 5324}, {\"threshold\": 0.08900000154972076, \"p\": 28041, \"fpr\": 0.45323065364387677, \"tpr\": 0.9805641738882351, \"n\": 5324}, {\"threshold\": 0.09000000357627869, \"p\": 28041, \"fpr\": 0.4522915101427498, \"tpr\": 0.9804928497557148, \"n\": 5324}, {\"threshold\": 0.09099999815225601, \"p\": 28041, \"fpr\": 0.4513523666416228, \"tpr\": 0.9804215256231946, \"n\": 5324}, {\"threshold\": 0.09200000017881393, \"p\": 28041, \"fpr\": 0.4502253944402705, \"tpr\": 0.9804215256231946, \"n\": 5324}, {\"threshold\": 0.09300000220537186, \"p\": 28041, \"fpr\": 0.4489105935386927, \"tpr\": 0.9802432152918941, \"n\": 5324}, {\"threshold\": 0.09399999678134918, \"p\": 28041, \"fpr\": 0.44815927873779116, \"tpr\": 0.9801718911593738, \"n\": 5324}, {\"threshold\": 0.0949999988079071, \"p\": 28041, \"fpr\": 0.44722013523666415, \"tpr\": 0.9800649049605934, \"n\": 5324}, {\"threshold\": 0.09600000083446503, \"p\": 28041, \"fpr\": 0.4462809917355372, \"tpr\": 0.979957918761813, \"n\": 5324}, {\"threshold\": 0.09700000286102295, \"p\": 28041, \"fpr\": 0.44552967693463563, \"tpr\": 0.979922256695553, \"n\": 5324}, {\"threshold\": 0.09799999743700027, \"p\": 28041, \"fpr\": 0.44477836213373406, \"tpr\": 0.9797082842979922, \"n\": 5324}, {\"threshold\": 0.0989999994635582, \"p\": 28041, \"fpr\": 0.44383921863260706, \"tpr\": 0.9794586498341714, \"n\": 5324}, {\"threshold\": 0.10000000149011612, \"p\": 28041, \"fpr\": 0.4429000751314801, \"tpr\": 0.9793873257016511, \"n\": 5324}, {\"threshold\": 0.10100000351667404, \"p\": 28041, \"fpr\": 0.44102178812922616, \"tpr\": 0.9793160015691309, \"n\": 5324}, {\"threshold\": 0.10199999809265137, \"p\": 28041, \"fpr\": 0.439519158527423, \"tpr\": 0.9791733533040904, \"n\": 5324}, {\"threshold\": 0.10300000011920929, \"p\": 28041, \"fpr\": 0.4387678437265214, \"tpr\": 0.9791376912378303, \"n\": 5324}, {\"threshold\": 0.10400000214576721, \"p\": 28041, \"fpr\": 0.43764087152516906, \"tpr\": 0.9789237188402696, \"n\": 5324}, {\"threshold\": 0.10499999672174454, \"p\": 28041, \"fpr\": 0.43726521412471825, \"tpr\": 0.978745408508969, \"n\": 5324}, {\"threshold\": 0.10599999874830246, \"p\": 28041, \"fpr\": 0.43557475582268973, \"tpr\": 0.9786027602439286, \"n\": 5324}, {\"threshold\": 0.10700000077486038, \"p\": 28041, \"fpr\": 0.43444778362133735, \"tpr\": 0.9785670981776684, \"n\": 5324}, {\"threshold\": 0.1080000028014183, \"p\": 28041, \"fpr\": 0.43388429752066116, \"tpr\": 0.9784957740451482, \"n\": 5324}, {\"threshold\": 0.10899999737739563, \"p\": 28041, \"fpr\": 0.43275732531930877, \"tpr\": 0.9783174637138475, \"n\": 5324}, {\"threshold\": 0.10999999940395355, \"p\": 28041, \"fpr\": 0.4320060105184072, \"tpr\": 0.9782104775150672, \"n\": 5324}, {\"threshold\": 0.11100000143051147, \"p\": 28041, \"fpr\": 0.43050338091660406, \"tpr\": 0.9782104775150672, \"n\": 5324}, {\"threshold\": 0.1120000034570694, \"p\": 28041, \"fpr\": 0.42993989481592787, \"tpr\": 0.9780678292500268, \"n\": 5324}, {\"threshold\": 0.11299999803304672, \"p\": 28041, \"fpr\": 0.4291885800150263, \"tpr\": 0.9779251809849863, \"n\": 5324}, {\"threshold\": 0.11400000005960464, \"p\": 28041, \"fpr\": 0.42843726521412473, \"tpr\": 0.9778895189187261, \"n\": 5324}, {\"threshold\": 0.11500000208616257, \"p\": 28041, \"fpr\": 0.4269346356123216, \"tpr\": 0.9777825327199458, \"n\": 5324}, {\"threshold\": 0.11599999666213989, \"p\": 28041, \"fpr\": 0.4259954921111946, \"tpr\": 0.9777468706536857, \"n\": 5324}, {\"threshold\": 0.11699999868869781, \"p\": 28041, \"fpr\": 0.4254320060105184, \"tpr\": 0.9776398844549054, \"n\": 5324}, {\"threshold\": 0.11800000071525574, \"p\": 28041, \"fpr\": 0.425244177310293, \"tpr\": 0.977568560322385, \"n\": 5324}, {\"threshold\": 0.11900000274181366, \"p\": 28041, \"fpr\": 0.42449286250939144, \"tpr\": 0.977532898256125, \"n\": 5324}, {\"threshold\": 0.11999999731779099, \"p\": 28041, \"fpr\": 0.4237415477084899, \"tpr\": 0.9774615741236047, \"n\": 5324}, {\"threshold\": 0.12099999934434891, \"p\": 28041, \"fpr\": 0.4231780616078137, \"tpr\": 0.9772119396597839, \"n\": 5324}, {\"threshold\": 0.12200000137090683, \"p\": 28041, \"fpr\": 0.4231780616078137, \"tpr\": 0.9771049534610036, \"n\": 5324}, {\"threshold\": 0.12300000339746475, \"p\": 28041, \"fpr\": 0.4229902329075883, \"tpr\": 0.9770336293284833, \"n\": 5324}, {\"threshold\": 0.12399999797344208, \"p\": 28041, \"fpr\": 0.4218632607062359, \"tpr\": 0.9769266431297029, \"n\": 5324}, {\"threshold\": 0.125, \"p\": 28041, \"fpr\": 0.42129977460555973, \"tpr\": 0.9768909810634429, \"n\": 5324}, {\"threshold\": 0.12600000202655792, \"p\": 28041, \"fpr\": 0.4203606311044328, \"tpr\": 0.9768909810634429, \"n\": 5324}, {\"threshold\": 0.12700000405311584, \"p\": 28041, \"fpr\": 0.41960931630353115, \"tpr\": 0.9767126707321422, \"n\": 5324}, {\"threshold\": 0.12800000607967377, \"p\": 28041, \"fpr\": 0.4188580015026296, \"tpr\": 0.9766770086658821, \"n\": 5324}, {\"threshold\": 0.1289999932050705, \"p\": 28041, \"fpr\": 0.4184823441021788, \"tpr\": 0.9764630362683214, \"n\": 5324}, {\"threshold\": 0.12999999523162842, \"p\": 28041, \"fpr\": 0.41735537190082644, \"tpr\": 0.9762490638707607, \"n\": 5324}, {\"threshold\": 0.13099999725818634, \"p\": 28041, \"fpr\": 0.41679188580015025, \"tpr\": 0.9761777397382404, \"n\": 5324}, {\"threshold\": 0.13199999928474426, \"p\": 28041, \"fpr\": 0.4154770848985725, \"tpr\": 0.9760350914732, \"n\": 5324}, {\"threshold\": 0.13300000131130219, \"p\": 28041, \"fpr\": 0.4149135987978963, \"tpr\": 0.9759637673406797, \"n\": 5324}, {\"threshold\": 0.1340000033378601, \"p\": 28041, \"fpr\": 0.41378662659654397, \"tpr\": 0.9758567811418993, \"n\": 5324}, {\"threshold\": 0.13500000536441803, \"p\": 28041, \"fpr\": 0.4120961682945154, \"tpr\": 0.975749794943119, \"n\": 5324}, {\"threshold\": 0.13600000739097595, \"p\": 28041, \"fpr\": 0.4113448534936138, \"tpr\": 0.975749794943119, \"n\": 5324}, {\"threshold\": 0.13699999451637268, \"p\": 28041, \"fpr\": 0.41021788129226144, \"tpr\": 0.9755001604792982, \"n\": 5324}, {\"threshold\": 0.1379999965429306, \"p\": 28041, \"fpr\": 0.40965439519158525, \"tpr\": 0.9754644984130381, \"n\": 5324}, {\"threshold\": 0.13899999856948853, \"p\": 28041, \"fpr\": 0.4087152516904583, \"tpr\": 0.9754288363467779, \"n\": 5324}, {\"threshold\": 0.14000000059604645, \"p\": 28041, \"fpr\": 0.4085274229902329, \"tpr\": 0.9753931742805179, \"n\": 5324}, {\"threshold\": 0.14100000262260437, \"p\": 28041, \"fpr\": 0.4083395942900075, \"tpr\": 0.9753575122142577, \"n\": 5324}, {\"threshold\": 0.1420000046491623, \"p\": 28041, \"fpr\": 0.4075882794891059, \"tpr\": 0.9753218501479975, \"n\": 5324}, {\"threshold\": 0.14300000667572021, \"p\": 28041, \"fpr\": 0.40664913598797897, \"tpr\": 0.9752861880817375, \"n\": 5324}, {\"threshold\": 0.14399999380111694, \"p\": 28041, \"fpr\": 0.40627347858752816, \"tpr\": 0.9752861880817375, \"n\": 5324}, {\"threshold\": 0.14499999582767487, \"p\": 28041, \"fpr\": 0.40458302028549964, \"tpr\": 0.9752505260154773, \"n\": 5324}, {\"threshold\": 0.1459999978542328, \"p\": 28041, \"fpr\": 0.40383170548459807, \"tpr\": 0.975143539816697, \"n\": 5324}, {\"threshold\": 0.1469999998807907, \"p\": 28041, \"fpr\": 0.4027047332832457, \"tpr\": 0.9750722156841768, \"n\": 5324}, {\"threshold\": 0.14800000190734863, \"p\": 28041, \"fpr\": 0.4025169045830203, \"tpr\": 0.9749652294853964, \"n\": 5324}, {\"threshold\": 0.14900000393390656, \"p\": 28041, \"fpr\": 0.4019534184823441, \"tpr\": 0.9749295674191363, \"n\": 5324}, {\"threshold\": 0.15000000596046448, \"p\": 28041, \"fpr\": 0.4013899323816679, \"tpr\": 0.9748939053528761, \"n\": 5324}, {\"threshold\": 0.1509999930858612, \"p\": 28041, \"fpr\": 0.40026296018031554, \"tpr\": 0.9748582432866161, \"n\": 5324}, {\"threshold\": 0.15199999511241913, \"p\": 28041, \"fpr\": 0.40026296018031554, \"tpr\": 0.9747869191540958, \"n\": 5324}, {\"threshold\": 0.15299999713897705, \"p\": 28041, \"fpr\": 0.39969947407963935, \"tpr\": 0.9746442708890554, \"n\": 5324}, {\"threshold\": 0.15399999916553497, \"p\": 28041, \"fpr\": 0.398572501878287, \"tpr\": 0.974537284690275, \"n\": 5324}, {\"threshold\": 0.1550000011920929, \"p\": 28041, \"fpr\": 0.3981968444778362, \"tpr\": 0.9743946364252345, \"n\": 5324}, {\"threshold\": 0.15600000321865082, \"p\": 28041, \"fpr\": 0.39763335837716, \"tpr\": 0.9743233122927143, \"n\": 5324}, {\"threshold\": 0.15700000524520874, \"p\": 28041, \"fpr\": 0.39744552967693464, \"tpr\": 0.9742163260939339, \"n\": 5324}, {\"threshold\": 0.15800000727176666, \"p\": 28041, \"fpr\": 0.39669421487603307, \"tpr\": 0.9741450019614136, \"n\": 5324}, {\"threshold\": 0.1589999943971634, \"p\": 28041, \"fpr\": 0.3965063861758077, \"tpr\": 0.9741093398951535, \"n\": 5324}, {\"threshold\": 0.1599999964237213, \"p\": 28041, \"fpr\": 0.3959429000751315, \"tpr\": 0.9740736778288934, \"n\": 5324}, {\"threshold\": 0.16099999845027924, \"p\": 28041, \"fpr\": 0.39519158527422993, \"tpr\": 0.9739666916301131, \"n\": 5324}, {\"threshold\": 0.16200000047683716, \"p\": 28041, \"fpr\": 0.39462809917355374, \"tpr\": 0.9738953674975928, \"n\": 5324}, {\"threshold\": 0.16300000250339508, \"p\": 28041, \"fpr\": 0.3942524417731029, \"tpr\": 0.9738240433650726, \"n\": 5324}, {\"threshold\": 0.164000004529953, \"p\": 28041, \"fpr\": 0.393313298271976, \"tpr\": 0.9737883812988124, \"n\": 5324}, {\"threshold\": 0.16500000655651093, \"p\": 28041, \"fpr\": 0.3925619834710744, \"tpr\": 0.973681395100032, \"n\": 5324}, {\"threshold\": 0.16599999368190765, \"p\": 28041, \"fpr\": 0.3921863260706236, \"tpr\": 0.9736100709675118, \"n\": 5324}, {\"threshold\": 0.16699999570846558, \"p\": 28041, \"fpr\": 0.3918106686701728, \"tpr\": 0.9735030847687315, \"n\": 5324}, {\"threshold\": 0.1679999977350235, \"p\": 28041, \"fpr\": 0.391435011269722, \"tpr\": 0.9734317606362113, \"n\": 5324}, {\"threshold\": 0.16899999976158142, \"p\": 28041, \"fpr\": 0.39068369646882045, \"tpr\": 0.9733247744374309, \"n\": 5324}, {\"threshold\": 0.17000000178813934, \"p\": 28041, \"fpr\": 0.3893688955672427, \"tpr\": 0.9732177882386506, \"n\": 5324}, {\"threshold\": 0.17100000381469727, \"p\": 28041, \"fpr\": 0.3882419233658903, \"tpr\": 0.9732177882386506, \"n\": 5324}, {\"threshold\": 0.1720000058412552, \"p\": 28041, \"fpr\": 0.3878662659654395, \"tpr\": 0.9731464641061303, \"n\": 5324}, {\"threshold\": 0.17299999296665192, \"p\": 28041, \"fpr\": 0.38692712246431255, \"tpr\": 0.9731464641061303, \"n\": 5324}, {\"threshold\": 0.17399999499320984, \"p\": 28041, \"fpr\": 0.38673929376408717, \"tpr\": 0.9730751399736101, \"n\": 5324}, {\"threshold\": 0.17499999701976776, \"p\": 28041, \"fpr\": 0.38655146506386173, \"tpr\": 0.9729324917085695, \"n\": 5324}, {\"threshold\": 0.17599999904632568, \"p\": 28041, \"fpr\": 0.38580015026296016, \"tpr\": 0.9728968296423095, \"n\": 5324}, {\"threshold\": 0.1770000010728836, \"p\": 28041, \"fpr\": 0.384297520661157, \"tpr\": 0.9728611675760493, \"n\": 5324}, {\"threshold\": 0.17800000309944153, \"p\": 28041, \"fpr\": 0.38354620586025545, \"tpr\": 0.972754181377269, \"n\": 5324}, {\"threshold\": 0.17900000512599945, \"p\": 28041, \"fpr\": 0.38317054845980464, \"tpr\": 0.9726828572447488, \"n\": 5324}, {\"threshold\": 0.18000000715255737, \"p\": 28041, \"fpr\": 0.3822314049586777, \"tpr\": 0.9725758710459684, \"n\": 5324}, {\"threshold\": 0.1809999942779541, \"p\": 28041, \"fpr\": 0.3816679188580015, \"tpr\": 0.9725045469134481, \"n\": 5324}, {\"threshold\": 0.18199999630451202, \"p\": 28041, \"fpr\": 0.38091660405709993, \"tpr\": 0.9722905745158874, \"n\": 5324}, {\"threshold\": 0.18299999833106995, \"p\": 28041, \"fpr\": 0.38016528925619836, \"tpr\": 0.972147926250847, \"n\": 5324}, {\"threshold\": 0.18400000035762787, \"p\": 28041, \"fpr\": 0.37978963185574754, \"tpr\": 0.9720052779858065, \"n\": 5324}, {\"threshold\": 0.1850000023841858, \"p\": 28041, \"fpr\": 0.37922614575507135, \"tpr\": 0.9719339538532863, \"n\": 5324}, {\"threshold\": 0.1860000044107437, \"p\": 28041, \"fpr\": 0.3782870022539444, \"tpr\": 0.9719339538532863, \"n\": 5324}, {\"threshold\": 0.18700000643730164, \"p\": 28041, \"fpr\": 0.377160030052592, \"tpr\": 0.9717913055882458, \"n\": 5324}, {\"threshold\": 0.18799999356269836, \"p\": 28041, \"fpr\": 0.377160030052592, \"tpr\": 0.9717556435219856, \"n\": 5324}, {\"threshold\": 0.1889999955892563, \"p\": 28041, \"fpr\": 0.37678437265214126, \"tpr\": 0.9716843193894654, \"n\": 5324}, {\"threshold\": 0.1899999976158142, \"p\": 28041, \"fpr\": 0.37640871525169045, \"tpr\": 0.9715416711244249, \"n\": 5324}, {\"threshold\": 0.19099999964237213, \"p\": 28041, \"fpr\": 0.37584522915101426, \"tpr\": 0.9714703469919047, \"n\": 5324}, {\"threshold\": 0.19200000166893005, \"p\": 28041, \"fpr\": 0.3756574004507889, \"tpr\": 0.9713633607931244, \"n\": 5324}, {\"threshold\": 0.19300000369548798, \"p\": 28041, \"fpr\": 0.3750939143501127, \"tpr\": 0.9712920366606042, \"n\": 5324}, {\"threshold\": 0.1940000057220459, \"p\": 28041, \"fpr\": 0.37471825694966193, \"tpr\": 0.9712207125280838, \"n\": 5324}, {\"threshold\": 0.19499999284744263, \"p\": 28041, \"fpr\": 0.3743425995492111, \"tpr\": 0.9711493883955636, \"n\": 5324}, {\"threshold\": 0.19599999487400055, \"p\": 28041, \"fpr\": 0.3739669421487603, \"tpr\": 0.9710780642630434, \"n\": 5324}, {\"threshold\": 0.19699999690055847, \"p\": 28041, \"fpr\": 0.3737791134485349, \"tpr\": 0.9710424021967833, \"n\": 5324}, {\"threshold\": 0.1979999989271164, \"p\": 28041, \"fpr\": 0.37359128474830955, \"tpr\": 0.9710067401305231, \"n\": 5324}, {\"threshold\": 0.19900000095367432, \"p\": 28041, \"fpr\": 0.37321562734785874, \"tpr\": 0.9708997539317428, \"n\": 5324}, {\"threshold\": 0.20000000298023224, \"p\": 28041, \"fpr\": 0.37246431254695717, \"tpr\": 0.9708640918654827, \"n\": 5324}, {\"threshold\": 0.20100000500679016, \"p\": 28041, \"fpr\": 0.371900826446281, \"tpr\": 0.9708284297992226, \"n\": 5324}, {\"threshold\": 0.20200000703334808, \"p\": 28041, \"fpr\": 0.3715251690458302, \"tpr\": 0.9707214436004422, \"n\": 5324}, {\"threshold\": 0.2029999941587448, \"p\": 28041, \"fpr\": 0.3715251690458302, \"tpr\": 0.9706857815341821, \"n\": 5324}, {\"threshold\": 0.20399999618530273, \"p\": 28041, \"fpr\": 0.370961682945154, \"tpr\": 0.9705074712028815, \"n\": 5324}, {\"threshold\": 0.20499999821186066, \"p\": 28041, \"fpr\": 0.36983471074380164, \"tpr\": 0.9703291608715809, \"n\": 5324}, {\"threshold\": 0.20600000023841858, \"p\": 28041, \"fpr\": 0.3688955672426747, \"tpr\": 0.9702578367390606, \"n\": 5324}, {\"threshold\": 0.2070000022649765, \"p\": 28041, \"fpr\": 0.3685199098422239, \"tpr\": 0.9702578367390606, \"n\": 5324}, {\"threshold\": 0.20800000429153442, \"p\": 28041, \"fpr\": 0.3681442524417731, \"tpr\": 0.9701508505402803, \"n\": 5324}, {\"threshold\": 0.20900000631809235, \"p\": 28041, \"fpr\": 0.3672051089406461, \"tpr\": 0.9700795264077601, \"n\": 5324}, {\"threshold\": 0.20999999344348907, \"p\": 28041, \"fpr\": 0.36589030803906836, \"tpr\": 0.9700082022752399, \"n\": 5324}, {\"threshold\": 0.210999995470047, \"p\": 28041, \"fpr\": 0.3655146506386176, \"tpr\": 0.9699012160764595, \"n\": 5324}, {\"threshold\": 0.21199999749660492, \"p\": 28041, \"fpr\": 0.36532682193839217, \"tpr\": 0.9696872436788988, \"n\": 5324}, {\"threshold\": 0.21299999952316284, \"p\": 28041, \"fpr\": 0.36476333583771603, \"tpr\": 0.9696515816126386, \"n\": 5324}, {\"threshold\": 0.21400000154972076, \"p\": 28041, \"fpr\": 0.3643876784372652, \"tpr\": 0.9695445954138583, \"n\": 5324}, {\"threshold\": 0.2150000035762787, \"p\": 28041, \"fpr\": 0.363824192336589, \"tpr\": 0.9695089333475981, \"n\": 5324}, {\"threshold\": 0.2160000056028366, \"p\": 28041, \"fpr\": 0.3628850488354621, \"tpr\": 0.9694376092150779, \"n\": 5324}, {\"threshold\": 0.21699999272823334, \"p\": 28041, \"fpr\": 0.36250939143501126, \"tpr\": 0.9694376092150779, \"n\": 5324}, {\"threshold\": 0.21799999475479126, \"p\": 28041, \"fpr\": 0.3613824192336589, \"tpr\": 0.9694376092150779, \"n\": 5324}, {\"threshold\": 0.21899999678134918, \"p\": 28041, \"fpr\": 0.3606311044327573, \"tpr\": 0.9693662850825577, \"n\": 5324}, {\"threshold\": 0.2199999988079071, \"p\": 28041, \"fpr\": 0.35969196093163036, \"tpr\": 0.9693306230162976, \"n\": 5324}, {\"threshold\": 0.22100000083446503, \"p\": 28041, \"fpr\": 0.35912847483095417, \"tpr\": 0.9692236368175172, \"n\": 5324}, {\"threshold\": 0.22200000286102295, \"p\": 28041, \"fpr\": 0.3589406461307288, \"tpr\": 0.9692236368175172, \"n\": 5324}, {\"threshold\": 0.22300000488758087, \"p\": 28041, \"fpr\": 0.358564988730278, \"tpr\": 0.9690096644199565, \"n\": 5324}, {\"threshold\": 0.2240000069141388, \"p\": 28041, \"fpr\": 0.35762584522915103, \"tpr\": 0.968867016154916, \"n\": 5324}, {\"threshold\": 0.22499999403953552, \"p\": 28041, \"fpr\": 0.35687453042824946, \"tpr\": 0.968831354088656, \"n\": 5324}, {\"threshold\": 0.22599999606609344, \"p\": 28041, \"fpr\": 0.35631104432757327, \"tpr\": 0.9687243678898756, \"n\": 5324}, {\"threshold\": 0.22699999809265137, \"p\": 28041, \"fpr\": 0.35612321562734783, \"tpr\": 0.9685103954923149, \"n\": 5324}, {\"threshold\": 0.2280000001192093, \"p\": 28041, \"fpr\": 0.3555597295266717, \"tpr\": 0.9684390713597946, \"n\": 5324}, {\"threshold\": 0.2290000021457672, \"p\": 28041, \"fpr\": 0.35480841472577007, \"tpr\": 0.9684034092935345, \"n\": 5324}, {\"threshold\": 0.23000000417232513, \"p\": 28041, \"fpr\": 0.3544327573253193, \"tpr\": 0.9683677472272744, \"n\": 5324}, {\"threshold\": 0.23100000619888306, \"p\": 28041, \"fpr\": 0.35368144252441774, \"tpr\": 0.968260761028494, \"n\": 5324}, {\"threshold\": 0.23199999332427979, \"p\": 28041, \"fpr\": 0.35274229902329074, \"tpr\": 0.9681894368959737, \"n\": 5324}, {\"threshold\": 0.2329999953508377, \"p\": 28041, \"fpr\": 0.35236664162284, \"tpr\": 0.9681181127634535, \"n\": 5324}, {\"threshold\": 0.23399999737739563, \"p\": 28041, \"fpr\": 0.35199098422238917, \"tpr\": 0.9680824506971933, \"n\": 5324}, {\"threshold\": 0.23499999940395355, \"p\": 28041, \"fpr\": 0.3518031555221638, \"tpr\": 0.9680824506971933, \"n\": 5324}, {\"threshold\": 0.23600000143051147, \"p\": 28041, \"fpr\": 0.35086401202103684, \"tpr\": 0.9680467886309333, \"n\": 5324}, {\"threshold\": 0.2370000034570694, \"p\": 28041, \"fpr\": 0.35048835462058603, \"tpr\": 0.9680111265646731, \"n\": 5324}, {\"threshold\": 0.23800000548362732, \"p\": 28041, \"fpr\": 0.3495492111194591, \"tpr\": 0.967975464498413, \"n\": 5324}, {\"threshold\": 0.23899999260902405, \"p\": 28041, \"fpr\": 0.3489857250187829, \"tpr\": 0.9679398024321529, \"n\": 5324}, {\"threshold\": 0.23999999463558197, \"p\": 28041, \"fpr\": 0.34879789631855745, \"tpr\": 0.9676545059020719, \"n\": 5324}, {\"threshold\": 0.2409999966621399, \"p\": 28041, \"fpr\": 0.3480465815176559, \"tpr\": 0.9675475197032916, \"n\": 5324}, {\"threshold\": 0.24199999868869781, \"p\": 28041, \"fpr\": 0.3478587528174305, \"tpr\": 0.9674761955707714, \"n\": 5324}, {\"threshold\": 0.24300000071525574, \"p\": 28041, \"fpr\": 0.3476709241172051, \"tpr\": 0.9672978852394708, \"n\": 5324}, {\"threshold\": 0.24400000274181366, \"p\": 28041, \"fpr\": 0.3472952667167543, \"tpr\": 0.9672265611069505, \"n\": 5324}, {\"threshold\": 0.24500000476837158, \"p\": 28041, \"fpr\": 0.34635612321562737, \"tpr\": 0.9671195749081701, \"n\": 5324}, {\"threshold\": 0.2460000067949295, \"p\": 28041, \"fpr\": 0.3456048084147258, \"tpr\": 0.9670482507756499, \"n\": 5324}, {\"threshold\": 0.24699999392032623, \"p\": 28041, \"fpr\": 0.3456048084147258, \"tpr\": 0.9669769266431297, \"n\": 5324}, {\"threshold\": 0.24799999594688416, \"p\": 28041, \"fpr\": 0.345229151014275, \"tpr\": 0.9669412645768696, \"n\": 5324}, {\"threshold\": 0.24899999797344208, \"p\": 28041, \"fpr\": 0.34485349361382417, \"tpr\": 0.9668699404443494, \"n\": 5324}, {\"threshold\": 0.25, \"p\": 28041, \"fpr\": 0.3444778362133734, \"tpr\": 0.9668342783780892, \"n\": 5324}, {\"threshold\": 0.25099998712539673, \"p\": 28041, \"fpr\": 0.3441021788129226, \"tpr\": 0.9667986163118291, \"n\": 5324}, {\"threshold\": 0.25200000405311584, \"p\": 28041, \"fpr\": 0.3439143501126972, \"tpr\": 0.9666916301130487, \"n\": 5324}, {\"threshold\": 0.2529999911785126, \"p\": 28041, \"fpr\": 0.3435386927122464, \"tpr\": 0.9666203059805285, \"n\": 5324}, {\"threshold\": 0.2540000081062317, \"p\": 28041, \"fpr\": 0.34316303531179565, \"tpr\": 0.9665846439142683, \"n\": 5324}, {\"threshold\": 0.2549999952316284, \"p\": 28041, \"fpr\": 0.34278737791134484, \"tpr\": 0.9665489818480083, \"n\": 5324}, {\"threshold\": 0.25600001215934753, \"p\": 28041, \"fpr\": 0.34203606311044327, \"tpr\": 0.966441995649228, \"n\": 5324}, {\"threshold\": 0.25699999928474426, \"p\": 28041, \"fpr\": 0.3416604057099925, \"tpr\": 0.9664063335829678, \"n\": 5324}, {\"threshold\": 0.257999986410141, \"p\": 28041, \"fpr\": 0.3414725770097671, \"tpr\": 0.9663350094504476, \"n\": 5324}, {\"threshold\": 0.2590000033378601, \"p\": 28041, \"fpr\": 0.34034560480841475, \"tpr\": 0.9662993473841874, \"n\": 5324}, {\"threshold\": 0.25999999046325684, \"p\": 28041, \"fpr\": 0.3401577761081893, \"tpr\": 0.9662280232516672, \"n\": 5324}, {\"threshold\": 0.26100000739097595, \"p\": 28041, \"fpr\": 0.3401577761081893, \"tpr\": 0.9661566991191469, \"n\": 5324}, {\"threshold\": 0.2619999945163727, \"p\": 28041, \"fpr\": 0.33978211870773856, \"tpr\": 0.9661566991191469, \"n\": 5324}, {\"threshold\": 0.2630000114440918, \"p\": 28041, \"fpr\": 0.33921863260706236, \"tpr\": 0.9660853749866267, \"n\": 5324}, {\"threshold\": 0.2639999985694885, \"p\": 28041, \"fpr\": 0.33884297520661155, \"tpr\": 0.9660140508541065, \"n\": 5324}, {\"threshold\": 0.26499998569488525, \"p\": 28041, \"fpr\": 0.33827948910593536, \"tpr\": 0.9659783887878464, \"n\": 5324}, {\"threshold\": 0.26600000262260437, \"p\": 28041, \"fpr\": 0.33809166040571, \"tpr\": 0.9658357405228059, \"n\": 5324}, {\"threshold\": 0.2669999897480011, \"p\": 28041, \"fpr\": 0.33715251690458303, \"tpr\": 0.9658000784565458, \"n\": 5324}, {\"threshold\": 0.2680000066757202, \"p\": 28041, \"fpr\": 0.3367768595041322, \"tpr\": 0.9656930922577655, \"n\": 5324}, {\"threshold\": 0.26899999380111694, \"p\": 28041, \"fpr\": 0.33640120210368146, \"tpr\": 0.9656217681252451, \"n\": 5324}, {\"threshold\": 0.27000001072883606, \"p\": 28041, \"fpr\": 0.33621337340345603, \"tpr\": 0.9656217681252451, \"n\": 5324}, {\"threshold\": 0.2709999978542328, \"p\": 28041, \"fpr\": 0.33602554470323065, \"tpr\": 0.9654791198602047, \"n\": 5324}, {\"threshold\": 0.2720000147819519, \"p\": 28041, \"fpr\": 0.3350864012021037, \"tpr\": 0.9654791198602047, \"n\": 5324}, {\"threshold\": 0.27300000190734863, \"p\": 28041, \"fpr\": 0.3345229151014275, \"tpr\": 0.9654434577939446, \"n\": 5324}, {\"threshold\": 0.27399998903274536, \"p\": 28041, \"fpr\": 0.3339594290007513, \"tpr\": 0.9653364715951642, \"n\": 5324}, {\"threshold\": 0.2750000059604645, \"p\": 28041, \"fpr\": 0.3333959429000751, \"tpr\": 0.9652294853963839, \"n\": 5324}, {\"threshold\": 0.2759999930858612, \"p\": 28041, \"fpr\": 0.33302028549962437, \"tpr\": 0.9651938233301237, \"n\": 5324}, {\"threshold\": 0.2770000100135803, \"p\": 28041, \"fpr\": 0.33264462809917356, \"tpr\": 0.9651938233301237, \"n\": 5324}, {\"threshold\": 0.27799999713897705, \"p\": 28041, \"fpr\": 0.33226897069872274, \"tpr\": 0.9651581612638637, \"n\": 5324}, {\"threshold\": 0.27900001406669617, \"p\": 28041, \"fpr\": 0.331893313298272, \"tpr\": 0.9650868371313434, \"n\": 5324}, {\"threshold\": 0.2800000011920929, \"p\": 28041, \"fpr\": 0.3317054845980466, \"tpr\": 0.9650868371313434, \"n\": 5324}, {\"threshold\": 0.2809999883174896, \"p\": 28041, \"fpr\": 0.3313298271975958, \"tpr\": 0.964979850932563, \"n\": 5324}, {\"threshold\": 0.28200000524520874, \"p\": 28041, \"fpr\": 0.3313298271975958, \"tpr\": 0.964944188866303, \"n\": 5324}, {\"threshold\": 0.28299999237060547, \"p\": 28041, \"fpr\": 0.33039068369646885, \"tpr\": 0.9648372026675226, \"n\": 5324}, {\"threshold\": 0.2840000092983246, \"p\": 28041, \"fpr\": 0.33001502629601803, \"tpr\": 0.9647302164687422, \"n\": 5324}, {\"threshold\": 0.2849999964237213, \"p\": 28041, \"fpr\": 0.32945154019534184, \"tpr\": 0.9645875682037017, \"n\": 5324}, {\"threshold\": 0.28600001335144043, \"p\": 28041, \"fpr\": 0.32926371149511646, \"tpr\": 0.9645519061374416, \"n\": 5324}, {\"threshold\": 0.28700000047683716, \"p\": 28041, \"fpr\": 0.32870022539444027, \"tpr\": 0.9644092578724012, \"n\": 5324}, {\"threshold\": 0.2879999876022339, \"p\": 28041, \"fpr\": 0.3281367392937641, \"tpr\": 0.9643022716736208, \"n\": 5324}, {\"threshold\": 0.289000004529953, \"p\": 28041, \"fpr\": 0.3277610818933133, \"tpr\": 0.9641952854748405, \"n\": 5324}, {\"threshold\": 0.28999999165534973, \"p\": 28041, \"fpr\": 0.3273854244928625, \"tpr\": 0.9640526372098, \"n\": 5324}, {\"threshold\": 0.29100000858306885, \"p\": 28041, \"fpr\": 0.3268219383921863, \"tpr\": 0.9639813130772797, \"n\": 5324}, {\"threshold\": 0.2919999957084656, \"p\": 28041, \"fpr\": 0.32644628099173556, \"tpr\": 0.9638743268784994, \"n\": 5324}, {\"threshold\": 0.2930000126361847, \"p\": 28041, \"fpr\": 0.32588279489105937, \"tpr\": 0.963767340679719, \"n\": 5324}, {\"threshold\": 0.2939999997615814, \"p\": 28041, \"fpr\": 0.32588279489105937, \"tpr\": 0.9636246924146785, \"n\": 5324}, {\"threshold\": 0.29499998688697815, \"p\": 28041, \"fpr\": 0.32569496619083393, \"tpr\": 0.9635177062158982, \"n\": 5324}, {\"threshold\": 0.29600000381469727, \"p\": 28041, \"fpr\": 0.3251314800901578, \"tpr\": 0.963482044149638, \"n\": 5324}, {\"threshold\": 0.296999990940094, \"p\": 28041, \"fpr\": 0.3243801652892562, \"tpr\": 0.9634107200171178, \"n\": 5324}, {\"threshold\": 0.2980000078678131, \"p\": 28041, \"fpr\": 0.3241923365890308, \"tpr\": 0.9633037338183374, \"n\": 5324}, {\"threshold\": 0.29899999499320984, \"p\": 28041, \"fpr\": 0.3236288504883546, \"tpr\": 0.9632680717520773, \"n\": 5324}, {\"threshold\": 0.30000001192092896, \"p\": 28041, \"fpr\": 0.3234410217881292, \"tpr\": 0.9631254234870369, \"n\": 5324}, {\"threshold\": 0.3009999990463257, \"p\": 28041, \"fpr\": 0.32268970698722765, \"tpr\": 0.9630897614207767, \"n\": 5324}, {\"threshold\": 0.3019999861717224, \"p\": 28041, \"fpr\": 0.3225018782870023, \"tpr\": 0.9629827752219964, \"n\": 5324}, {\"threshold\": 0.30300000309944153, \"p\": 28041, \"fpr\": 0.3219383921863261, \"tpr\": 0.9629827752219964, \"n\": 5324}, {\"threshold\": 0.30399999022483826, \"p\": 28041, \"fpr\": 0.3213749060856499, \"tpr\": 0.9629114510894762, \"n\": 5324}, {\"threshold\": 0.3050000071525574, \"p\": 28041, \"fpr\": 0.3208114199849737, \"tpr\": 0.9628401269569559, \"n\": 5324}, {\"threshold\": 0.3059999942779541, \"p\": 28041, \"fpr\": 0.3202479338842975, \"tpr\": 0.9627331407581755, \"n\": 5324}, {\"threshold\": 0.3070000112056732, \"p\": 28041, \"fpr\": 0.3202479338842975, \"tpr\": 0.9626618166256553, \"n\": 5324}, {\"threshold\": 0.30799999833106995, \"p\": 28041, \"fpr\": 0.31987227648384675, \"tpr\": 0.9626618166256553, \"n\": 5324}, {\"threshold\": 0.3089999854564667, \"p\": 28041, \"fpr\": 0.31893313298271975, \"tpr\": 0.9626618166256553, \"n\": 5324}, {\"threshold\": 0.3100000023841858, \"p\": 28041, \"fpr\": 0.31874530428249437, \"tpr\": 0.9624835062943546, \"n\": 5324}, {\"threshold\": 0.3109999895095825, \"p\": 28041, \"fpr\": 0.3179939894815928, \"tpr\": 0.9624478442280946, \"n\": 5324}, {\"threshold\": 0.31200000643730164, \"p\": 28041, \"fpr\": 0.3178061607813674, \"tpr\": 0.9623408580293142, \"n\": 5324}, {\"threshold\": 0.31299999356269836, \"p\": 28041, \"fpr\": 0.3174305033809166, \"tpr\": 0.9622338718305339, \"n\": 5324}, {\"threshold\": 0.3140000104904175, \"p\": 28041, \"fpr\": 0.3168670172802404, \"tpr\": 0.9622338718305339, \"n\": 5324}, {\"threshold\": 0.3149999976158142, \"p\": 28041, \"fpr\": 0.31574004507888803, \"tpr\": 0.9621982097642737, \"n\": 5324}, {\"threshold\": 0.3160000145435333, \"p\": 28041, \"fpr\": 0.3153643876784373, \"tpr\": 0.9620555614992332, \"n\": 5324}, {\"threshold\": 0.31700000166893005, \"p\": 28041, \"fpr\": 0.3146130728775357, \"tpr\": 0.9619129132341928, \"n\": 5324}, {\"threshold\": 0.3179999887943268, \"p\": 28041, \"fpr\": 0.31442524417731027, \"tpr\": 0.9618415891016725, \"n\": 5324}, {\"threshold\": 0.3190000057220459, \"p\": 28041, \"fpr\": 0.3140495867768595, \"tpr\": 0.9617346029028921, \"n\": 5324}, {\"threshold\": 0.3199999928474426, \"p\": 28041, \"fpr\": 0.31386175807663413, \"tpr\": 0.9616632787703719, \"n\": 5324}, {\"threshold\": 0.32100000977516174, \"p\": 28041, \"fpr\": 0.3136739293764087, \"tpr\": 0.9615562925715916, \"n\": 5324}, {\"threshold\": 0.32199999690055847, \"p\": 28041, \"fpr\": 0.31329827197595794, \"tpr\": 0.9613423201740309, \"n\": 5324}, {\"threshold\": 0.3230000138282776, \"p\": 28041, \"fpr\": 0.3131104432757325, \"tpr\": 0.9613423201740309, \"n\": 5324}, {\"threshold\": 0.3240000009536743, \"p\": 28041, \"fpr\": 0.31292261457550713, \"tpr\": 0.9612709960415107, \"n\": 5324}, {\"threshold\": 0.32499998807907104, \"p\": 28041, \"fpr\": 0.3125469571750564, \"tpr\": 0.9611996719089904, \"n\": 5324}, {\"threshold\": 0.32600000500679016, \"p\": 28041, \"fpr\": 0.31217129977460556, \"tpr\": 0.96109268571021, \"n\": 5324}, {\"threshold\": 0.3269999921321869, \"p\": 28041, \"fpr\": 0.31179564237415475, \"tpr\": 0.96105702364395, \"n\": 5324}, {\"threshold\": 0.328000009059906, \"p\": 28041, \"fpr\": 0.3106686701728024, \"tpr\": 0.9609856995114296, \"n\": 5324}, {\"threshold\": 0.32899999618530273, \"p\": 28041, \"fpr\": 0.30991735537190085, \"tpr\": 0.9609143753789094, \"n\": 5324}, {\"threshold\": 0.33000001311302185, \"p\": 28041, \"fpr\": 0.3091660405709992, \"tpr\": 0.9608787133126493, \"n\": 5324}, {\"threshold\": 0.3310000002384186, \"p\": 28041, \"fpr\": 0.30879038317054847, \"tpr\": 0.9608430512463892, \"n\": 5324}, {\"threshold\": 0.3319999873638153, \"p\": 28041, \"fpr\": 0.3086025544703231, \"tpr\": 0.9607360650476089, \"n\": 5324}, {\"threshold\": 0.3330000042915344, \"p\": 28041, \"fpr\": 0.30841472577009765, \"tpr\": 0.9606647409150886, \"n\": 5324}, {\"threshold\": 0.33399999141693115, \"p\": 28041, \"fpr\": 0.3074755822689707, \"tpr\": 0.9606647409150886, \"n\": 5324}, {\"threshold\": 0.33500000834465027, \"p\": 28041, \"fpr\": 0.3070999248685199, \"tpr\": 0.9606290788488285, \"n\": 5324}, {\"threshold\": 0.335999995470047, \"p\": 28041, \"fpr\": 0.30672426746806913, \"tpr\": 0.9605934167825684, \"n\": 5324}, {\"threshold\": 0.3370000123977661, \"p\": 28041, \"fpr\": 0.3063486100676183, \"tpr\": 0.9604507685175279, \"n\": 5324}, {\"threshold\": 0.33799999952316284, \"p\": 28041, \"fpr\": 0.30597295266716756, \"tpr\": 0.9603437823187475, \"n\": 5324}, {\"threshold\": 0.33899998664855957, \"p\": 28041, \"fpr\": 0.30559729526671675, \"tpr\": 0.9603081202524875, \"n\": 5324}, {\"threshold\": 0.3400000035762787, \"p\": 28041, \"fpr\": 0.3046581517655898, \"tpr\": 0.9601298099211868, \"n\": 5324}, {\"threshold\": 0.3409999907016754, \"p\": 28041, \"fpr\": 0.30447032306536437, \"tpr\": 0.9600584857886666, \"n\": 5324}, {\"threshold\": 0.34200000762939453, \"p\": 28041, \"fpr\": 0.3037190082644628, \"tpr\": 0.9599514995898862, \"n\": 5324}, {\"threshold\": 0.34299999475479126, \"p\": 28041, \"fpr\": 0.3037190082644628, \"tpr\": 0.9598445133911059, \"n\": 5324}, {\"threshold\": 0.3440000116825104, \"p\": 28041, \"fpr\": 0.3035311795642374, \"tpr\": 0.9596305409935452, \"n\": 5324}, {\"threshold\": 0.3449999988079071, \"p\": 28041, \"fpr\": 0.3029676934635612, \"tpr\": 0.959559216861025, \"n\": 5324}, {\"threshold\": 0.34599998593330383, \"p\": 28041, \"fpr\": 0.30277986476333585, \"tpr\": 0.9595235547947648, \"n\": 5324}, {\"threshold\": 0.34700000286102295, \"p\": 28041, \"fpr\": 0.3020285499624343, \"tpr\": 0.9593809065297243, \"n\": 5324}, {\"threshold\": 0.3479999899864197, \"p\": 28041, \"fpr\": 0.30184072126220884, \"tpr\": 0.9593452444634643, \"n\": 5324}, {\"threshold\": 0.3490000069141388, \"p\": 28041, \"fpr\": 0.30165289256198347, \"tpr\": 0.9592739203309439, \"n\": 5324}, {\"threshold\": 0.3499999940395355, \"p\": 28041, \"fpr\": 0.30165289256198347, \"tpr\": 0.9592025961984237, \"n\": 5324}, {\"threshold\": 0.35100001096725464, \"p\": 28041, \"fpr\": 0.3007137490608565, \"tpr\": 0.9591312720659035, \"n\": 5324}, {\"threshold\": 0.35199999809265137, \"p\": 28041, \"fpr\": 0.3005259203606311, \"tpr\": 0.9590956099996434, \"n\": 5324}, {\"threshold\": 0.3529999852180481, \"p\": 28041, \"fpr\": 0.29996243425995495, \"tpr\": 0.9589529617346029, \"n\": 5324}, {\"threshold\": 0.3540000021457672, \"p\": 28041, \"fpr\": 0.2997746055597295, \"tpr\": 0.9588816376020827, \"n\": 5324}, {\"threshold\": 0.35499998927116394, \"p\": 28041, \"fpr\": 0.2997746055597295, \"tpr\": 0.9587389893370422, \"n\": 5324}, {\"threshold\": 0.35600000619888306, \"p\": 28041, \"fpr\": 0.29958677685950413, \"tpr\": 0.9587389893370422, \"n\": 5324}, {\"threshold\": 0.3569999933242798, \"p\": 28041, \"fpr\": 0.29902329075882794, \"tpr\": 0.9586320031382618, \"n\": 5324}, {\"threshold\": 0.3580000102519989, \"p\": 28041, \"fpr\": 0.29883546205860256, \"tpr\": 0.9585606790057416, \"n\": 5324}, {\"threshold\": 0.35899999737739563, \"p\": 28041, \"fpr\": 0.29883546205860256, \"tpr\": 0.9584536928069612, \"n\": 5324}, {\"threshold\": 0.36000001430511475, \"p\": 28041, \"fpr\": 0.298084147257701, \"tpr\": 0.9584180307407011, \"n\": 5324}, {\"threshold\": 0.3610000014305115, \"p\": 28041, \"fpr\": 0.29789631855747556, \"tpr\": 0.9583110445419207, \"n\": 5324}, {\"threshold\": 0.3619999885559082, \"p\": 28041, \"fpr\": 0.2977084898572502, \"tpr\": 0.9582397204094005, \"n\": 5324}, {\"threshold\": 0.3630000054836273, \"p\": 28041, \"fpr\": 0.2973328324567994, \"tpr\": 0.9581327342106202, \"n\": 5324}, {\"threshold\": 0.36399999260902405, \"p\": 28041, \"fpr\": 0.2973328324567994, \"tpr\": 0.95809707214436, \"n\": 5324}, {\"threshold\": 0.36500000953674316, \"p\": 28041, \"fpr\": 0.2969571750563486, \"tpr\": 0.9579900859455797, \"n\": 5324}, {\"threshold\": 0.3659999966621399, \"p\": 28041, \"fpr\": 0.2965815176558978, \"tpr\": 0.9579187618130595, \"n\": 5324}, {\"threshold\": 0.367000013589859, \"p\": 28041, \"fpr\": 0.29620586025544704, \"tpr\": 0.9578830997467993, \"n\": 5324}, {\"threshold\": 0.36800000071525574, \"p\": 28041, \"fpr\": 0.29620586025544704, \"tpr\": 0.9577047894154987, \"n\": 5324}, {\"threshold\": 0.36899998784065247, \"p\": 28041, \"fpr\": 0.29620586025544704, \"tpr\": 0.9575264790841982, \"n\": 5324}, {\"threshold\": 0.3700000047683716, \"p\": 28041, \"fpr\": 0.29601803155522166, \"tpr\": 0.957490817017938, \"n\": 5324}, {\"threshold\": 0.3709999918937683, \"p\": 28041, \"fpr\": 0.29601803155522166, \"tpr\": 0.9573838308191577, \"n\": 5324}, {\"threshold\": 0.3720000088214874, \"p\": 28041, \"fpr\": 0.2958302028549962, \"tpr\": 0.9573125066866375, \"n\": 5324}, {\"threshold\": 0.37299999594688416, \"p\": 28041, \"fpr\": 0.29526671675432004, \"tpr\": 0.9573125066866375, \"n\": 5324}, {\"threshold\": 0.37400001287460327, \"p\": 28041, \"fpr\": 0.2948910593538693, \"tpr\": 0.9573125066866375, \"n\": 5324}, {\"threshold\": 0.375, \"p\": 28041, \"fpr\": 0.2947032306536439, \"tpr\": 0.9572055204878571, \"n\": 5324}, {\"threshold\": 0.37599998712539673, \"p\": 28041, \"fpr\": 0.2941397445529677, \"tpr\": 0.9572055204878571, \"n\": 5324}, {\"threshold\": 0.37700000405311584, \"p\": 28041, \"fpr\": 0.2939519158527423, \"tpr\": 0.9571341963553368, \"n\": 5324}, {\"threshold\": 0.3779999911785126, \"p\": 28041, \"fpr\": 0.2935762584522915, \"tpr\": 0.9568488998252559, \"n\": 5324}, {\"threshold\": 0.3790000081062317, \"p\": 28041, \"fpr\": 0.2930127723516153, \"tpr\": 0.9568132377589957, \"n\": 5324}, {\"threshold\": 0.3799999952316284, \"p\": 28041, \"fpr\": 0.29282494365138995, \"tpr\": 0.9566705894939552, \"n\": 5324}, {\"threshold\": 0.38100001215934753, \"p\": 28041, \"fpr\": 0.29226145755071375, \"tpr\": 0.956599265361435, \"n\": 5324}, {\"threshold\": 0.38199999928474426, \"p\": 28041, \"fpr\": 0.2915101427498122, \"tpr\": 0.9565279412289148, \"n\": 5324}, {\"threshold\": 0.382999986410141, \"p\": 28041, \"fpr\": 0.29132231404958675, \"tpr\": 0.9563496308976142, \"n\": 5324}, {\"threshold\": 0.3840000033378601, \"p\": 28041, \"fpr\": 0.29113448534936137, \"tpr\": 0.9562426446988338, \"n\": 5324}, {\"threshold\": 0.38499999046325684, \"p\": 28041, \"fpr\": 0.29113448534936137, \"tpr\": 0.9561356585000534, \"n\": 5324}, {\"threshold\": 0.38600000739097595, \"p\": 28041, \"fpr\": 0.290007513148009, \"tpr\": 0.9560999964337934, \"n\": 5324}, {\"threshold\": 0.3869999945163727, \"p\": 28041, \"fpr\": 0.28963185574755823, \"tpr\": 0.9560999964337934, \"n\": 5324}, {\"threshold\": 0.3880000114440918, \"p\": 28041, \"fpr\": 0.2886927122464313, \"tpr\": 0.9559573481687529, \"n\": 5324}, {\"threshold\": 0.3889999985694885, \"p\": 28041, \"fpr\": 0.28794139744552966, \"tpr\": 0.9558860240362327, \"n\": 5324}, {\"threshold\": 0.38999998569488525, \"p\": 28041, \"fpr\": 0.2877535687453043, \"tpr\": 0.9558146999037124, \"n\": 5324}, {\"threshold\": 0.39100000262260437, \"p\": 28041, \"fpr\": 0.2871900826446281, \"tpr\": 0.9557433757711922, \"n\": 5324}, {\"threshold\": 0.3919999897480011, \"p\": 28041, \"fpr\": 0.28681442524417733, \"tpr\": 0.9556363895724118, \"n\": 5324}, {\"threshold\": 0.3930000066757202, \"p\": 28041, \"fpr\": 0.28606311044327576, \"tpr\": 0.9554224171748511, \"n\": 5324}, {\"threshold\": 0.39399999380111694, \"p\": 28041, \"fpr\": 0.28568745304282495, \"tpr\": 0.9553510930423309, \"n\": 5324}, {\"threshold\": 0.39500001072883606, \"p\": 28041, \"fpr\": 0.28549962434259957, \"tpr\": 0.9552084447772904, \"n\": 5324}, {\"threshold\": 0.3959999978542328, \"p\": 28041, \"fpr\": 0.28512396694214875, \"tpr\": 0.9551371206447702, \"n\": 5324}, {\"threshold\": 0.3970000147819519, \"p\": 28041, \"fpr\": 0.28456048084147256, \"tpr\": 0.9550657965122499, \"n\": 5324}, {\"threshold\": 0.39800000190734863, \"p\": 28041, \"fpr\": 0.2841848234410218, \"tpr\": 0.9550657965122499, \"n\": 5324}, {\"threshold\": 0.39899998903274536, \"p\": 28041, \"fpr\": 0.2841848234410218, \"tpr\": 0.9549944723797297, \"n\": 5324}, {\"threshold\": 0.4000000059604645, \"p\": 28041, \"fpr\": 0.2836213373403456, \"tpr\": 0.9548874861809493, \"n\": 5324}, {\"threshold\": 0.4009999930858612, \"p\": 28041, \"fpr\": 0.2826821938392186, \"tpr\": 0.9548161620484291, \"n\": 5324}, {\"threshold\": 0.4020000100135803, \"p\": 28041, \"fpr\": 0.2821187077385425, \"tpr\": 0.9546735137833886, \"n\": 5324}, {\"threshold\": 0.40299999713897705, \"p\": 28041, \"fpr\": 0.2815552216378663, \"tpr\": 0.9546021896508684, \"n\": 5324}, {\"threshold\": 0.40400001406669617, \"p\": 28041, \"fpr\": 0.2815552216378663, \"tpr\": 0.9545665275846082, \"n\": 5324}, {\"threshold\": 0.4050000011920929, \"p\": 28041, \"fpr\": 0.2815552216378663, \"tpr\": 0.9545665275846082, \"n\": 5324}, {\"threshold\": 0.4059999883174896, \"p\": 28041, \"fpr\": 0.28136739293764085, \"tpr\": 0.9545308655183481, \"n\": 5324}, {\"threshold\": 0.40700000524520874, \"p\": 28041, \"fpr\": 0.28117956423741547, \"tpr\": 0.9545308655183481, \"n\": 5324}, {\"threshold\": 0.40799999237060547, \"p\": 28041, \"fpr\": 0.2806160781367393, \"tpr\": 0.9544595413858279, \"n\": 5324}, {\"threshold\": 0.4090000092983246, \"p\": 28041, \"fpr\": 0.2802404207362885, \"tpr\": 0.9543882172533077, \"n\": 5324}, {\"threshold\": 0.4099999964237213, \"p\": 28041, \"fpr\": 0.2800525920360631, \"tpr\": 0.9543882172533077, \"n\": 5324}, {\"threshold\": 0.41100001335144043, \"p\": 28041, \"fpr\": 0.2798647633358377, \"tpr\": 0.9541385827894868, \"n\": 5324}, {\"threshold\": 0.41200000047683716, \"p\": 28041, \"fpr\": 0.27948910593538695, \"tpr\": 0.9540672586569666, \"n\": 5324}, {\"threshold\": 0.4129999876022339, \"p\": 28041, \"fpr\": 0.27911344853493614, \"tpr\": 0.9540315965907065, \"n\": 5324}, {\"threshold\": 0.414000004529953, \"p\": 28041, \"fpr\": 0.27854996243425995, \"tpr\": 0.9539602724581863, \"n\": 5324}, {\"threshold\": 0.41499999165534973, \"p\": 28041, \"fpr\": 0.27854996243425995, \"tpr\": 0.9539246103919261, \"n\": 5324}, {\"threshold\": 0.41600000858306885, \"p\": 28041, \"fpr\": 0.2781743050338092, \"tpr\": 0.9538532862594059, \"n\": 5324}, {\"threshold\": 0.4169999957084656, \"p\": 28041, \"fpr\": 0.277610818933133, \"tpr\": 0.9538176241931458, \"n\": 5324}, {\"threshold\": 0.4180000126361847, \"p\": 28041, \"fpr\": 0.277610818933133, \"tpr\": 0.9537106379943654, \"n\": 5324}, {\"threshold\": 0.4189999997615814, \"p\": 28041, \"fpr\": 0.2772351615326822, \"tpr\": 0.953603651795585, \"n\": 5324}, {\"threshold\": 0.41999998688697815, \"p\": 28041, \"fpr\": 0.2772351615326822, \"tpr\": 0.9535679897293249, \"n\": 5324}, {\"threshold\": 0.42100000381469727, \"p\": 28041, \"fpr\": 0.2768595041322314, \"tpr\": 0.9534966655968047, \"n\": 5324}, {\"threshold\": 0.421999990940094, \"p\": 28041, \"fpr\": 0.276671675432006, \"tpr\": 0.9533896793980243, \"n\": 5324}, {\"threshold\": 0.4230000078678131, \"p\": 28041, \"fpr\": 0.2764838467317806, \"tpr\": 0.953282693199244, \"n\": 5324}, {\"threshold\": 0.42399999499320984, \"p\": 28041, \"fpr\": 0.2764838467317806, \"tpr\": 0.9531757070004636, \"n\": 5324}, {\"threshold\": 0.42500001192092896, \"p\": 28041, \"fpr\": 0.27629601803155523, \"tpr\": 0.9531400449342035, \"n\": 5324}, {\"threshold\": 0.4259999990463257, \"p\": 28041, \"fpr\": 0.27573253193087904, \"tpr\": 0.9531400449342035, \"n\": 5324}, {\"threshold\": 0.4269999861717224, \"p\": 28041, \"fpr\": 0.27516904583020285, \"tpr\": 0.9531043828679434, \"n\": 5324}, {\"threshold\": 0.42800000309944153, \"p\": 28041, \"fpr\": 0.2742299023290759, \"tpr\": 0.9528904104703827, \"n\": 5324}, {\"threshold\": 0.42899999022483826, \"p\": 28041, \"fpr\": 0.2736664162283997, \"tpr\": 0.9527477622053422, \"n\": 5324}, {\"threshold\": 0.4300000071525574, \"p\": 28041, \"fpr\": 0.2731029301277235, \"tpr\": 0.952676438072822, \"n\": 5324}, {\"threshold\": 0.4309999942779541, \"p\": 28041, \"fpr\": 0.2727272727272727, \"tpr\": 0.9526051139403017, \"n\": 5324}, {\"threshold\": 0.4320000112056732, \"p\": 28041, \"fpr\": 0.27197595792637114, \"tpr\": 0.9525337898077815, \"n\": 5324}, {\"threshold\": 0.43299999833106995, \"p\": 28041, \"fpr\": 0.2716003005259204, \"tpr\": 0.9524624656752613, \"n\": 5324}, {\"threshold\": 0.4339999854564667, \"p\": 28041, \"fpr\": 0.27141247182569495, \"tpr\": 0.9524268036090011, \"n\": 5324}, {\"threshold\": 0.4350000023841858, \"p\": 28041, \"fpr\": 0.2710368144252442, \"tpr\": 0.9524268036090011, \"n\": 5324}, {\"threshold\": 0.4359999895095825, \"p\": 28041, \"fpr\": 0.2710368144252442, \"tpr\": 0.9523198174102208, \"n\": 5324}, {\"threshold\": 0.43700000643730164, \"p\": 28041, \"fpr\": 0.2706611570247934, \"tpr\": 0.9522128312114404, \"n\": 5324}, {\"threshold\": 0.43799999356269836, \"p\": 28041, \"fpr\": 0.2700976709241172, \"tpr\": 0.9521771691451802, \"n\": 5324}, {\"threshold\": 0.4390000104904175, \"p\": 28041, \"fpr\": 0.2700976709241172, \"tpr\": 0.9521415070789202, \"n\": 5324}, {\"threshold\": 0.4399999976158142, \"p\": 28041, \"fpr\": 0.26953418482344105, \"tpr\": 0.9519988588138797, \"n\": 5324}, {\"threshold\": 0.4410000145435333, \"p\": 28041, \"fpr\": 0.26953418482344105, \"tpr\": 0.9518918726150993, \"n\": 5324}, {\"threshold\": 0.44200000166893005, \"p\": 28041, \"fpr\": 0.2693463561232156, \"tpr\": 0.9517492243500588, \"n\": 5324}, {\"threshold\": 0.4429999887943268, \"p\": 28041, \"fpr\": 0.26915852742299023, \"tpr\": 0.9517135622837988, \"n\": 5324}, {\"threshold\": 0.4440000057220459, \"p\": 28041, \"fpr\": 0.2682193839218633, \"tpr\": 0.9516779002175386, \"n\": 5324}, {\"threshold\": 0.4449999928474426, \"p\": 28041, \"fpr\": 0.2676558978211871, \"tpr\": 0.9516422381512785, \"n\": 5324}, {\"threshold\": 0.44600000977516174, \"p\": 28041, \"fpr\": 0.2672802404207363, \"tpr\": 0.9515352519524981, \"n\": 5324}, {\"threshold\": 0.44699999690055847, \"p\": 28041, \"fpr\": 0.2669045830202855, \"tpr\": 0.9514995898862381, \"n\": 5324}, {\"threshold\": 0.4480000138282776, \"p\": 28041, \"fpr\": 0.2667167543200601, \"tpr\": 0.9513212795549374, \"n\": 5324}, {\"threshold\": 0.4490000009536743, \"p\": 28041, \"fpr\": 0.2665289256198347, \"tpr\": 0.951178631289897, \"n\": 5324}, {\"threshold\": 0.44999998807907104, \"p\": 28041, \"fpr\": 0.2659654395191585, \"tpr\": 0.9511073071573767, \"n\": 5324}, {\"threshold\": 0.45100000500679016, \"p\": 28041, \"fpr\": 0.26521412471825695, \"tpr\": 0.9510003209585963, \"n\": 5324}, {\"threshold\": 0.4519999921321869, \"p\": 28041, \"fpr\": 0.26521412471825695, \"tpr\": 0.9508576726935558, \"n\": 5324}, {\"threshold\": 0.453000009059906, \"p\": 28041, \"fpr\": 0.26465063861758076, \"tpr\": 0.9508220106272958, \"n\": 5324}, {\"threshold\": 0.45399999618530273, \"p\": 28041, \"fpr\": 0.26465063861758076, \"tpr\": 0.9507506864947755, \"n\": 5324}, {\"threshold\": 0.45500001311302185, \"p\": 28041, \"fpr\": 0.2644628099173554, \"tpr\": 0.9506793623622553, \"n\": 5324}, {\"threshold\": 0.4560000002384186, \"p\": 28041, \"fpr\": 0.26427498121713, \"tpr\": 0.9505723761634749, \"n\": 5324}, {\"threshold\": 0.4569999873638153, \"p\": 28041, \"fpr\": 0.26408715251690457, \"tpr\": 0.9503584037659142, \"n\": 5324}, {\"threshold\": 0.4580000042915344, \"p\": 28041, \"fpr\": 0.2638993238166792, \"tpr\": 0.9501800934346136, \"n\": 5324}, {\"threshold\": 0.45899999141693115, \"p\": 28041, \"fpr\": 0.2638993238166792, \"tpr\": 0.9500731072358333, \"n\": 5324}, {\"threshold\": 0.46000000834465027, \"p\": 28041, \"fpr\": 0.2635236664162284, \"tpr\": 0.9498947969045326, \"n\": 5324}, {\"threshold\": 0.460999995470047, \"p\": 28041, \"fpr\": 0.263335837716003, \"tpr\": 0.9498234727720124, \"n\": 5324}, {\"threshold\": 0.4620000123977661, \"p\": 28041, \"fpr\": 0.2627723516153268, \"tpr\": 0.9495738383081915, \"n\": 5324}, {\"threshold\": 0.46299999952316284, \"p\": 28041, \"fpr\": 0.26239669421487605, \"tpr\": 0.9495381762419315, \"n\": 5324}, {\"threshold\": 0.46399998664855957, \"p\": 28041, \"fpr\": 0.2622088655146506, \"tpr\": 0.9494668521094112, \"n\": 5324}, {\"threshold\": 0.4650000035762787, \"p\": 28041, \"fpr\": 0.26202103681442523, \"tpr\": 0.9493242038443708, \"n\": 5324}, {\"threshold\": 0.4659999907016754, \"p\": 28041, \"fpr\": 0.26183320811419986, \"tpr\": 0.9492885417781106, \"n\": 5324}, {\"threshold\": 0.46700000762939453, \"p\": 28041, \"fpr\": 0.26145755071374904, \"tpr\": 0.9492172176455904, \"n\": 5324}, {\"threshold\": 0.46799999475479126, \"p\": 28041, \"fpr\": 0.26126972201352366, \"tpr\": 0.9490389073142897, \"n\": 5324}, {\"threshold\": 0.4690000116825104, \"p\": 28041, \"fpr\": 0.2605184072126221, \"tpr\": 0.9489675831817695, \"n\": 5324}, {\"threshold\": 0.4699999988079071, \"p\": 28041, \"fpr\": 0.2597670924117205, \"tpr\": 0.9489675831817695, \"n\": 5324}, {\"threshold\": 0.47099998593330383, \"p\": 28041, \"fpr\": 0.2597670924117205, \"tpr\": 0.9489319211155094, \"n\": 5324}, {\"threshold\": 0.47200000286102295, \"p\": 28041, \"fpr\": 0.25920360631104433, \"tpr\": 0.9487536107842088, \"n\": 5324}, {\"threshold\": 0.4729999899864197, \"p\": 28041, \"fpr\": 0.25901577761081895, \"tpr\": 0.9485753004529083, \"n\": 5324}, {\"threshold\": 0.4740000069141388, \"p\": 28041, \"fpr\": 0.25807663410969195, \"tpr\": 0.9485396383866481, \"n\": 5324}, {\"threshold\": 0.4749999940395355, \"p\": 28041, \"fpr\": 0.25788880540946657, \"tpr\": 0.948503976320388, \"n\": 5324}, {\"threshold\": 0.47600001096725464, \"p\": 28041, \"fpr\": 0.25788880540946657, \"tpr\": 0.9483256659890874, \"n\": 5324}, {\"threshold\": 0.47699999809265137, \"p\": 28041, \"fpr\": 0.2577009767092412, \"tpr\": 0.9481830177240469, \"n\": 5324}, {\"threshold\": 0.4779999852180481, \"p\": 28041, \"fpr\": 0.2569496619083396, \"tpr\": 0.9481116935915267, \"n\": 5324}, {\"threshold\": 0.4790000021457672, \"p\": 28041, \"fpr\": 0.2569496619083396, \"tpr\": 0.9480403694590065, \"n\": 5324}, {\"threshold\": 0.47999998927116394, \"p\": 28041, \"fpr\": 0.2565740045078888, \"tpr\": 0.947897721193966, \"n\": 5324}, {\"threshold\": 0.48100000619888306, \"p\": 28041, \"fpr\": 0.2560105184072126, \"tpr\": 0.9478263970614458, \"n\": 5324}, {\"threshold\": 0.4819999933242798, \"p\": 28041, \"fpr\": 0.25525920360631105, \"tpr\": 0.9477907349951856, \"n\": 5324}, {\"threshold\": 0.4830000102519989, \"p\": 28041, \"fpr\": 0.25507137490608567, \"tpr\": 0.9477194108626654, \"n\": 5324}, {\"threshold\": 0.48399999737739563, \"p\": 28041, \"fpr\": 0.25469571750563486, \"tpr\": 0.9475054384651047, \"n\": 5324}, {\"threshold\": 0.48500001430511475, \"p\": 28041, \"fpr\": 0.2543200601051841, \"tpr\": 0.9474341143325844, \"n\": 5324}, {\"threshold\": 0.4860000014305115, \"p\": 28041, \"fpr\": 0.2543200601051841, \"tpr\": 0.947291466067544, \"n\": 5324}, {\"threshold\": 0.4869999885559082, \"p\": 28041, \"fpr\": 0.25413223140495866, \"tpr\": 0.9471131557362433, \"n\": 5324}, {\"threshold\": 0.4880000054836273, \"p\": 28041, \"fpr\": 0.2535687453042825, \"tpr\": 0.9470774936699833, \"n\": 5324}, {\"threshold\": 0.48899999260902405, \"p\": 28041, \"fpr\": 0.2535687453042825, \"tpr\": 0.9469705074712029, \"n\": 5324}, {\"threshold\": 0.49000000953674316, \"p\": 28041, \"fpr\": 0.2528174305033809, \"tpr\": 0.9468635212724226, \"n\": 5324}, {\"threshold\": 0.4909999966621399, \"p\": 28041, \"fpr\": 0.25244177310293014, \"tpr\": 0.9468278592061624, \"n\": 5324}, {\"threshold\": 0.492000013589859, \"p\": 28041, \"fpr\": 0.2522539444027047, \"tpr\": 0.9467208730073821, \"n\": 5324}, {\"threshold\": 0.49300000071525574, \"p\": 28041, \"fpr\": 0.2522539444027047, \"tpr\": 0.9466495488748619, \"n\": 5324}, {\"threshold\": 0.49399998784065247, \"p\": 28041, \"fpr\": 0.2522539444027047, \"tpr\": 0.9465069006098213, \"n\": 5324}, {\"threshold\": 0.4950000047683716, \"p\": 28041, \"fpr\": 0.25206611570247933, \"tpr\": 0.946399914411041, \"n\": 5324}, {\"threshold\": 0.4959999918937683, \"p\": 28041, \"fpr\": 0.25206611570247933, \"tpr\": 0.9462216040797404, \"n\": 5324}, {\"threshold\": 0.4970000088214874, \"p\": 28041, \"fpr\": 0.25187828700225395, \"tpr\": 0.9460432937484398, \"n\": 5324}, {\"threshold\": 0.49799999594688416, \"p\": 28041, \"fpr\": 0.2516904583020286, \"tpr\": 0.9459006454833994, \"n\": 5324}, {\"threshold\": 0.49900001287460327, \"p\": 28041, \"fpr\": 0.2516904583020286, \"tpr\": 0.9457223351520987, \"n\": 5324}, {\"threshold\": 0.5, \"p\": 28041, \"fpr\": 0.2511269722013524, \"tpr\": 0.9455440248207981, \"n\": 5324}, {\"threshold\": 0.5009999871253967, \"p\": 28041, \"fpr\": 0.25075131480090157, \"tpr\": 0.9454727006882779, \"n\": 5324}, {\"threshold\": 0.5019999742507935, \"p\": 28041, \"fpr\": 0.2503756574004508, \"tpr\": 0.9454370386220178, \"n\": 5324}, {\"threshold\": 0.503000020980835, \"p\": 28041, \"fpr\": 0.2498121712997746, \"tpr\": 0.9453300524232374, \"n\": 5324}, {\"threshold\": 0.5040000081062317, \"p\": 28041, \"fpr\": 0.2494365138993238, \"tpr\": 0.9451874041581969, \"n\": 5324}, {\"threshold\": 0.5049999952316284, \"p\": 28041, \"fpr\": 0.2494365138993238, \"tpr\": 0.9450447558931564, \"n\": 5324}, {\"threshold\": 0.5059999823570251, \"p\": 28041, \"fpr\": 0.24868519909842224, \"tpr\": 0.9449734317606362, \"n\": 5324}, {\"threshold\": 0.5070000290870667, \"p\": 28041, \"fpr\": 0.24830954169797145, \"tpr\": 0.9448664455618558, \"n\": 5324}, {\"threshold\": 0.5080000162124634, \"p\": 28041, \"fpr\": 0.24830954169797145, \"tpr\": 0.9447237972968153, \"n\": 5324}, {\"threshold\": 0.5090000033378601, \"p\": 28041, \"fpr\": 0.24793388429752067, \"tpr\": 0.944616811098035, \"n\": 5324}, {\"threshold\": 0.5099999904632568, \"p\": 28041, \"fpr\": 0.24718256949661907, \"tpr\": 0.9445811490317749, \"n\": 5324}, {\"threshold\": 0.5109999775886536, \"p\": 28041, \"fpr\": 0.2466190833959429, \"tpr\": 0.9444028387004743, \"n\": 5324}, {\"threshold\": 0.5120000243186951, \"p\": 28041, \"fpr\": 0.2464312546957175, \"tpr\": 0.9443671766342142, \"n\": 5324}, {\"threshold\": 0.5130000114440918, \"p\": 28041, \"fpr\": 0.24605559729526671, \"tpr\": 0.9442958525016939, \"n\": 5324}, {\"threshold\": 0.5139999985694885, \"p\": 28041, \"fpr\": 0.24605559729526671, \"tpr\": 0.9441175421703933, \"n\": 5324}, {\"threshold\": 0.5149999856948853, \"p\": 28041, \"fpr\": 0.24511645379413974, \"tpr\": 0.944010555971613, \"n\": 5324}, {\"threshold\": 0.515999972820282, \"p\": 28041, \"fpr\": 0.24492862509391436, \"tpr\": 0.9439748939053528, \"n\": 5324}, {\"threshold\": 0.5170000195503235, \"p\": 28041, \"fpr\": 0.24455296769346357, \"tpr\": 0.9438679077065725, \"n\": 5324}, {\"threshold\": 0.5180000066757202, \"p\": 28041, \"fpr\": 0.24455296769346357, \"tpr\": 0.9438679077065725, \"n\": 5324}, {\"threshold\": 0.5189999938011169, \"p\": 28041, \"fpr\": 0.24455296769346357, \"tpr\": 0.9437965835740523, \"n\": 5324}, {\"threshold\": 0.5199999809265137, \"p\": 28041, \"fpr\": 0.24436513899323817, \"tpr\": 0.9437609215077921, \"n\": 5324}, {\"threshold\": 0.5210000276565552, \"p\": 28041, \"fpr\": 0.24398948159278738, \"tpr\": 0.9436895973752719, \"n\": 5324}, {\"threshold\": 0.5220000147819519, \"p\": 28041, \"fpr\": 0.2434259954921112, \"tpr\": 0.9435112870439714, \"n\": 5324}, {\"threshold\": 0.5230000019073486, \"p\": 28041, \"fpr\": 0.2430503380916604, \"tpr\": 0.943404300845191, \"n\": 5324}, {\"threshold\": 0.5239999890327454, \"p\": 28041, \"fpr\": 0.24229902329075884, \"tpr\": 0.9432973146464106, \"n\": 5324}, {\"threshold\": 0.5249999761581421, \"p\": 28041, \"fpr\": 0.24173553719008264, \"tpr\": 0.9431546663813701, \"n\": 5324}, {\"threshold\": 0.5260000228881836, \"p\": 28041, \"fpr\": 0.24135987978963186, \"tpr\": 0.9430833422488499, \"n\": 5324}, {\"threshold\": 0.5270000100135803, \"p\": 28041, \"fpr\": 0.24117205108940645, \"tpr\": 0.9429406939838094, \"n\": 5324}, {\"threshold\": 0.527999997138977, \"p\": 28041, \"fpr\": 0.24042073628850488, \"tpr\": 0.9428337077850291, \"n\": 5324}, {\"threshold\": 0.5289999842643738, \"p\": 28041, \"fpr\": 0.2398572501878287, \"tpr\": 0.9427267215862487, \"n\": 5324}, {\"threshold\": 0.5299999713897705, \"p\": 28041, \"fpr\": 0.2394815927873779, \"tpr\": 0.9426553974537285, \"n\": 5324}, {\"threshold\": 0.531000018119812, \"p\": 28041, \"fpr\": 0.2394815927873779, \"tpr\": 0.942512749188688, \"n\": 5324}, {\"threshold\": 0.5320000052452087, \"p\": 28041, \"fpr\": 0.23910593538692712, \"tpr\": 0.942512749188688, \"n\": 5324}, {\"threshold\": 0.5329999923706055, \"p\": 28041, \"fpr\": 0.23891810668670171, \"tpr\": 0.9424770871224278, \"n\": 5324}, {\"threshold\": 0.5339999794960022, \"p\": 28041, \"fpr\": 0.23854244928625093, \"tpr\": 0.9424057629899076, \"n\": 5324}, {\"threshold\": 0.5350000262260437, \"p\": 28041, \"fpr\": 0.23779113448534936, \"tpr\": 0.9422274526586071, \"n\": 5324}, {\"threshold\": 0.5360000133514404, \"p\": 28041, \"fpr\": 0.23760330578512398, \"tpr\": 0.9421561285260868, \"n\": 5324}, {\"threshold\": 0.5370000004768372, \"p\": 28041, \"fpr\": 0.23741547708489857, \"tpr\": 0.9420848043935666, \"n\": 5324}, {\"threshold\": 0.5379999876022339, \"p\": 28041, \"fpr\": 0.23741547708489857, \"tpr\": 0.941942156128526, \"n\": 5324}, {\"threshold\": 0.5389999747276306, \"p\": 28041, \"fpr\": 0.23722764838467317, \"tpr\": 0.9418351699297457, \"n\": 5324}, {\"threshold\": 0.5400000214576721, \"p\": 28041, \"fpr\": 0.2370398196844478, \"tpr\": 0.9417995078634857, \"n\": 5324}, {\"threshold\": 0.5410000085830688, \"p\": 28041, \"fpr\": 0.23685199098422238, \"tpr\": 0.9417638457972255, \"n\": 5324}, {\"threshold\": 0.5419999957084656, \"p\": 28041, \"fpr\": 0.23685199098422238, \"tpr\": 0.941621197532185, \"n\": 5324}, {\"threshold\": 0.5429999828338623, \"p\": 28041, \"fpr\": 0.2364763335837716, \"tpr\": 0.9415855354659249, \"n\": 5324}, {\"threshold\": 0.5440000295639038, \"p\": 28041, \"fpr\": 0.2359128474830954, \"tpr\": 0.9415142113334046, \"n\": 5324}, {\"threshold\": 0.5450000166893005, \"p\": 28041, \"fpr\": 0.2359128474830954, \"tpr\": 0.9414785492671446, \"n\": 5324}, {\"threshold\": 0.5460000038146973, \"p\": 28041, \"fpr\": 0.23516153268219384, \"tpr\": 0.9413715630683642, \"n\": 5324}, {\"threshold\": 0.546999990940094, \"p\": 28041, \"fpr\": 0.23497370398196846, \"tpr\": 0.9413002389358439, \"n\": 5324}, {\"threshold\": 0.5479999780654907, \"p\": 28041, \"fpr\": 0.23478587528174305, \"tpr\": 0.9412289148033237, \"n\": 5324}, {\"threshold\": 0.5490000247955322, \"p\": 28041, \"fpr\": 0.23422238918106686, \"tpr\": 0.941014942405763, \"n\": 5324}, {\"threshold\": 0.550000011920929, \"p\": 28041, \"fpr\": 0.23384673178061607, \"tpr\": 0.9409436182732428, \"n\": 5324}, {\"threshold\": 0.5509999990463257, \"p\": 28041, \"fpr\": 0.2334710743801653, \"tpr\": 0.9408366320744624, \"n\": 5324}, {\"threshold\": 0.5519999861717224, \"p\": 28041, \"fpr\": 0.2334710743801653, \"tpr\": 0.9407653079419421, \"n\": 5324}, {\"threshold\": 0.5529999732971191, \"p\": 28041, \"fpr\": 0.2330954169797145, \"tpr\": 0.9406939838094219, \"n\": 5324}, {\"threshold\": 0.5540000200271606, \"p\": 28041, \"fpr\": 0.23234410217881293, \"tpr\": 0.9405869976106416, \"n\": 5324}, {\"threshold\": 0.5550000071525574, \"p\": 28041, \"fpr\": 0.23196844477836212, \"tpr\": 0.9404800114118612, \"n\": 5324}, {\"threshold\": 0.5559999942779541, \"p\": 28041, \"fpr\": 0.23140495867768596, \"tpr\": 0.9402660390143005, \"n\": 5324}, {\"threshold\": 0.5569999814033508, \"p\": 28041, \"fpr\": 0.23102930127723517, \"tpr\": 0.94012339074926, \"n\": 5324}, {\"threshold\": 0.5580000281333923, \"p\": 28041, \"fpr\": 0.23046581517655898, \"tpr\": 0.94012339074926, \"n\": 5324}, {\"threshold\": 0.5590000152587891, \"p\": 28041, \"fpr\": 0.23046581517655898, \"tpr\": 0.9399807424842196, \"n\": 5324}, {\"threshold\": 0.5600000023841858, \"p\": 28041, \"fpr\": 0.23046581517655898, \"tpr\": 0.9399807424842196, \"n\": 5324}, {\"threshold\": 0.5609999895095825, \"p\": 28041, \"fpr\": 0.23027798647633357, \"tpr\": 0.9397667700866589, \"n\": 5324}, {\"threshold\": 0.5619999766349792, \"p\": 28041, \"fpr\": 0.2297145003756574, \"tpr\": 0.9396241218216184, \"n\": 5324}, {\"threshold\": 0.5630000233650208, \"p\": 28041, \"fpr\": 0.22915101427498122, \"tpr\": 0.939552797689098, \"n\": 5324}, {\"threshold\": 0.5640000104904175, \"p\": 28041, \"fpr\": 0.2289631855747558, \"tpr\": 0.9394814735565779, \"n\": 5324}, {\"threshold\": 0.5649999976158142, \"p\": 28041, \"fpr\": 0.22858752817430503, \"tpr\": 0.9393031632252773, \"n\": 5324}, {\"threshold\": 0.5659999847412109, \"p\": 28041, \"fpr\": 0.22839969947407965, \"tpr\": 0.9391961770264969, \"n\": 5324}, {\"threshold\": 0.5669999718666077, \"p\": 28041, \"fpr\": 0.22821187077385424, \"tpr\": 0.9391961770264969, \"n\": 5324}, {\"threshold\": 0.5680000185966492, \"p\": 28041, \"fpr\": 0.22764838467317805, \"tpr\": 0.9391605149602368, \"n\": 5324}, {\"threshold\": 0.5690000057220459, \"p\": 28041, \"fpr\": 0.22727272727272727, \"tpr\": 0.9390178666951963, \"n\": 5324}, {\"threshold\": 0.5699999928474426, \"p\": 28041, \"fpr\": 0.2270848985725019, \"tpr\": 0.9389108804964159, \"n\": 5324}, {\"threshold\": 0.5709999799728394, \"p\": 28041, \"fpr\": 0.2270848985725019, \"tpr\": 0.9388395563638957, \"n\": 5324}, {\"threshold\": 0.5720000267028809, \"p\": 28041, \"fpr\": 0.2265214124718257, \"tpr\": 0.9387682322313755, \"n\": 5324}, {\"threshold\": 0.5730000138282776, \"p\": 28041, \"fpr\": 0.2265214124718257, \"tpr\": 0.9386969080988552, \"n\": 5324}, {\"threshold\": 0.5740000009536743, \"p\": 28041, \"fpr\": 0.2263335837716003, \"tpr\": 0.9385542598338148, \"n\": 5324}, {\"threshold\": 0.574999988079071, \"p\": 28041, \"fpr\": 0.22558226897069872, \"tpr\": 0.9384829357012945, \"n\": 5324}, {\"threshold\": 0.5759999752044678, \"p\": 28041, \"fpr\": 0.22520661157024793, \"tpr\": 0.9382689633037338, \"n\": 5324}, {\"threshold\": 0.5770000219345093, \"p\": 28041, \"fpr\": 0.22464312546957174, \"tpr\": 0.9381619771049534, \"n\": 5324}, {\"threshold\": 0.578000009059906, \"p\": 28041, \"fpr\": 0.22426746806912096, \"tpr\": 0.9381263150386934, \"n\": 5324}, {\"threshold\": 0.5789999961853027, \"p\": 28041, \"fpr\": 0.22407963936889558, \"tpr\": 0.9379480047073927, \"n\": 5324}, {\"threshold\": 0.5799999833106995, \"p\": 28041, \"fpr\": 0.22407963936889558, \"tpr\": 0.9378410185086123, \"n\": 5324}, {\"threshold\": 0.5809999704360962, \"p\": 28041, \"fpr\": 0.22332832456799398, \"tpr\": 0.937734032309832, \"n\": 5324}, {\"threshold\": 0.5820000171661377, \"p\": 28041, \"fpr\": 0.22238918106686703, \"tpr\": 0.9375913840447916, \"n\": 5324}, {\"threshold\": 0.5830000042915344, \"p\": 28041, \"fpr\": 0.22220135236664162, \"tpr\": 0.9375200599122713, \"n\": 5324}, {\"threshold\": 0.5839999914169312, \"p\": 28041, \"fpr\": 0.22201352366641622, \"tpr\": 0.9374843978460112, \"n\": 5324}, {\"threshold\": 0.5849999785423279, \"p\": 28041, \"fpr\": 0.22163786626596543, \"tpr\": 0.9374130737134909, \"n\": 5324}, {\"threshold\": 0.5860000252723694, \"p\": 28041, \"fpr\": 0.22145003756574005, \"tpr\": 0.9373417495809707, \"n\": 5324}, {\"threshold\": 0.5870000123977661, \"p\": 28041, \"fpr\": 0.22107438016528927, \"tpr\": 0.9373060875147106, \"n\": 5324}, {\"threshold\": 0.5879999995231628, \"p\": 28041, \"fpr\": 0.22088655146506386, \"tpr\": 0.9372704254484505, \"n\": 5324}, {\"threshold\": 0.5889999866485596, \"p\": 28041, \"fpr\": 0.22051089406461308, \"tpr\": 0.9371991013159302, \"n\": 5324}, {\"threshold\": 0.5899999737739563, \"p\": 28041, \"fpr\": 0.2201352366641623, \"tpr\": 0.9370207909846296, \"n\": 5324}, {\"threshold\": 0.5910000205039978, \"p\": 28041, \"fpr\": 0.2199474079639369, \"tpr\": 0.9370207909846296, \"n\": 5324}, {\"threshold\": 0.5920000076293945, \"p\": 28041, \"fpr\": 0.2197595792637115, \"tpr\": 0.9369851289183695, \"n\": 5324}, {\"threshold\": 0.5929999947547913, \"p\": 28041, \"fpr\": 0.2193839218632607, \"tpr\": 0.9368781427195891, \"n\": 5324}, {\"threshold\": 0.593999981880188, \"p\": 28041, \"fpr\": 0.21882043576258453, \"tpr\": 0.9368068185870689, \"n\": 5324}, {\"threshold\": 0.5950000286102295, \"p\": 28041, \"fpr\": 0.21806912096168293, \"tpr\": 0.9366641703220284, \"n\": 5324}, {\"threshold\": 0.5960000157356262, \"p\": 28041, \"fpr\": 0.21750563486100677, \"tpr\": 0.9365928461895082, \"n\": 5324}, {\"threshold\": 0.597000002861023, \"p\": 28041, \"fpr\": 0.21712997746055598, \"tpr\": 0.9364858599907279, \"n\": 5324}, {\"threshold\": 0.5979999899864197, \"p\": 28041, \"fpr\": 0.2165664913598798, \"tpr\": 0.9364145358582077, \"n\": 5324}, {\"threshold\": 0.5989999771118164, \"p\": 28041, \"fpr\": 0.216190833959429, \"tpr\": 0.9363432117256874, \"n\": 5324}, {\"threshold\": 0.6000000238418579, \"p\": 28041, \"fpr\": 0.21581517655897822, \"tpr\": 0.9362718875931672, \"n\": 5324}, {\"threshold\": 0.6010000109672546, \"p\": 28041, \"fpr\": 0.2154395191585274, \"tpr\": 0.9361292393281266, \"n\": 5324}, {\"threshold\": 0.6019999980926514, \"p\": 28041, \"fpr\": 0.21468820435762584, \"tpr\": 0.9360579151956064, \"n\": 5324}, {\"threshold\": 0.6029999852180481, \"p\": 28041, \"fpr\": 0.21393688955672427, \"tpr\": 0.9360222531293463, \"n\": 5324}, {\"threshold\": 0.6039999723434448, \"p\": 28041, \"fpr\": 0.21337340345604808, \"tpr\": 0.9359865910630862, \"n\": 5324}, {\"threshold\": 0.6050000190734863, \"p\": 28041, \"fpr\": 0.2128099173553719, \"tpr\": 0.9358082807317856, \"n\": 5324}, {\"threshold\": 0.6060000061988831, \"p\": 28041, \"fpr\": 0.2124342599549211, \"tpr\": 0.935629970400485, \"n\": 5324}, {\"threshold\": 0.6069999933242798, \"p\": 28041, \"fpr\": 0.2124342599549211, \"tpr\": 0.9355229842017047, \"n\": 5324}, {\"threshold\": 0.6079999804496765, \"p\": 28041, \"fpr\": 0.21205860255447032, \"tpr\": 0.9354516600691845, \"n\": 5324}, {\"threshold\": 0.609000027179718, \"p\": 28041, \"fpr\": 0.21187077385424494, \"tpr\": 0.9353090118041439, \"n\": 5324}, {\"threshold\": 0.6100000143051147, \"p\": 28041, \"fpr\": 0.21187077385424494, \"tpr\": 0.9353090118041439, \"n\": 5324}, {\"threshold\": 0.6110000014305115, \"p\": 28041, \"fpr\": 0.21168294515401953, \"tpr\": 0.9352020256053636, \"n\": 5324}, {\"threshold\": 0.6119999885559082, \"p\": 28041, \"fpr\": 0.21149511645379415, \"tpr\": 0.9350950394065832, \"n\": 5324}, {\"threshold\": 0.6129999756813049, \"p\": 28041, \"fpr\": 0.21130728775356875, \"tpr\": 0.9349523911415427, \"n\": 5324}, {\"threshold\": 0.6140000224113464, \"p\": 28041, \"fpr\": 0.21111945905334334, \"tpr\": 0.9348454049427624, \"n\": 5324}, {\"threshold\": 0.6150000095367432, \"p\": 28041, \"fpr\": 0.21093163035311796, \"tpr\": 0.934702756677722, \"n\": 5324}, {\"threshold\": 0.6159999966621399, \"p\": 28041, \"fpr\": 0.21074380165289255, \"tpr\": 0.9345244463464213, \"n\": 5324}, {\"threshold\": 0.6169999837875366, \"p\": 28041, \"fpr\": 0.21055597295266718, \"tpr\": 0.9343461360151207, \"n\": 5324}, {\"threshold\": 0.6179999709129333, \"p\": 28041, \"fpr\": 0.21055597295266718, \"tpr\": 0.93413216361756, \"n\": 5324}, {\"threshold\": 0.6190000176429749, \"p\": 28041, \"fpr\": 0.21036814425244177, \"tpr\": 0.9339538532862595, \"n\": 5324}, {\"threshold\": 0.6200000047683716, \"p\": 28041, \"fpr\": 0.21036814425244177, \"tpr\": 0.9338825291537391, \"n\": 5324}, {\"threshold\": 0.6209999918937683, \"p\": 28041, \"fpr\": 0.20999248685199098, \"tpr\": 0.9336685567561784, \"n\": 5324}, {\"threshold\": 0.621999979019165, \"p\": 28041, \"fpr\": 0.2096168294515402, \"tpr\": 0.9334902464248779, \"n\": 5324}, {\"threshold\": 0.6230000257492065, \"p\": 28041, \"fpr\": 0.2094290007513148, \"tpr\": 0.9334189222923576, \"n\": 5324}, {\"threshold\": 0.6240000128746033, \"p\": 28041, \"fpr\": 0.20886551465063863, \"tpr\": 0.9333119360935772, \"n\": 5324}, {\"threshold\": 0.625, \"p\": 28041, \"fpr\": 0.20830202854996244, \"tpr\": 0.9331692878285368, \"n\": 5324}, {\"threshold\": 0.6259999871253967, \"p\": 28041, \"fpr\": 0.20830202854996244, \"tpr\": 0.9330623016297565, \"n\": 5324}, {\"threshold\": 0.6269999742507935, \"p\": 28041, \"fpr\": 0.20792637114951165, \"tpr\": 0.9329553154309761, \"n\": 5324}, {\"threshold\": 0.628000020980835, \"p\": 28041, \"fpr\": 0.20755071374906087, \"tpr\": 0.9327056809671552, \"n\": 5324}, {\"threshold\": 0.6290000081062317, \"p\": 28041, \"fpr\": 0.20717505634861005, \"tpr\": 0.9324560465033344, \"n\": 5324}, {\"threshold\": 0.6299999952316284, \"p\": 28041, \"fpr\": 0.20698722764838468, \"tpr\": 0.9322420741057736, \"n\": 5324}, {\"threshold\": 0.6309999823570251, \"p\": 28041, \"fpr\": 0.20679939894815927, \"tpr\": 0.9319211155094326, \"n\": 5324}, {\"threshold\": 0.6320000290870667, \"p\": 28041, \"fpr\": 0.2066115702479339, \"tpr\": 0.9318497913769124, \"n\": 5324}, {\"threshold\": 0.6330000162124634, \"p\": 28041, \"fpr\": 0.2062359128474831, \"tpr\": 0.9317071431118719, \"n\": 5324}, {\"threshold\": 0.6340000033378601, \"p\": 28041, \"fpr\": 0.2060480841472577, \"tpr\": 0.9316001569130915, \"n\": 5324}, {\"threshold\": 0.6349999904632568, \"p\": 28041, \"fpr\": 0.20586025544703232, \"tpr\": 0.931421846581791, \"n\": 5324}, {\"threshold\": 0.6359999775886536, \"p\": 28041, \"fpr\": 0.2056724267468069, \"tpr\": 0.9312435362504904, \"n\": 5324}, {\"threshold\": 0.6370000243186951, \"p\": 28041, \"fpr\": 0.20492111194590534, \"tpr\": 0.9311722121179701, \"n\": 5324}, {\"threshold\": 0.6380000114440918, \"p\": 28041, \"fpr\": 0.20473328324567994, \"tpr\": 0.9311008879854499, \"n\": 5324}, {\"threshold\": 0.6389999985694885, \"p\": 28041, \"fpr\": 0.20454545454545456, \"tpr\": 0.9308869155878892, \"n\": 5324}, {\"threshold\": 0.6399999856948853, \"p\": 28041, \"fpr\": 0.20454545454545456, \"tpr\": 0.930815591455369, \"n\": 5324}, {\"threshold\": 0.640999972820282, \"p\": 28041, \"fpr\": 0.20398196844477837, \"tpr\": 0.9306372811240683, \"n\": 5324}, {\"threshold\": 0.6420000195503235, \"p\": 28041, \"fpr\": 0.20341848234410217, \"tpr\": 0.9305302949252879, \"n\": 5324}, {\"threshold\": 0.6430000066757202, \"p\": 28041, \"fpr\": 0.2030428249436514, \"tpr\": 0.9304589707927677, \"n\": 5324}, {\"threshold\": 0.6439999938011169, \"p\": 28041, \"fpr\": 0.2026671675432006, \"tpr\": 0.9304233087265076, \"n\": 5324}, {\"threshold\": 0.6449999809265137, \"p\": 28041, \"fpr\": 0.2026671675432006, \"tpr\": 0.9303163225277272, \"n\": 5324}, {\"threshold\": 0.6460000276565552, \"p\": 28041, \"fpr\": 0.2024793388429752, \"tpr\": 0.9302093363289469, \"n\": 5324}, {\"threshold\": 0.6470000147819519, \"p\": 28041, \"fpr\": 0.2024793388429752, \"tpr\": 0.9301023501301665, \"n\": 5324}, {\"threshold\": 0.6480000019073486, \"p\": 28041, \"fpr\": 0.20229151014274982, \"tpr\": 0.9300666880639065, \"n\": 5324}, {\"threshold\": 0.6489999890327454, \"p\": 28041, \"fpr\": 0.20191585274229903, \"tpr\": 0.9298170536000856, \"n\": 5324}, {\"threshold\": 0.6499999761581421, \"p\": 28041, \"fpr\": 0.20172802404207363, \"tpr\": 0.9295674191362647, \"n\": 5324}, {\"threshold\": 0.6510000228881836, \"p\": 28041, \"fpr\": 0.20060105184072127, \"tpr\": 0.9293891088049642, \"n\": 5324}, {\"threshold\": 0.6520000100135803, \"p\": 28041, \"fpr\": 0.20060105184072127, \"tpr\": 0.9291751364074035, \"n\": 5324}, {\"threshold\": 0.652999997138977, \"p\": 28041, \"fpr\": 0.20022539444027046, \"tpr\": 0.9291038122748833, \"n\": 5324}, {\"threshold\": 0.6539999842643738, \"p\": 28041, \"fpr\": 0.20003756574004508, \"tpr\": 0.9289968260761029, \"n\": 5324}, {\"threshold\": 0.6549999713897705, \"p\": 28041, \"fpr\": 0.1992862509391435, \"tpr\": 0.9288541778110624, \"n\": 5324}, {\"threshold\": 0.656000018119812, \"p\": 28041, \"fpr\": 0.19891059353869273, \"tpr\": 0.9287115295460219, \"n\": 5324}, {\"threshold\": 0.6570000052452087, \"p\": 28041, \"fpr\": 0.1985349361382419, \"tpr\": 0.9285688812809815, \"n\": 5324}, {\"threshold\": 0.6579999923706055, \"p\": 28041, \"fpr\": 0.19797145003756575, \"tpr\": 0.928426233015941, \"n\": 5324}, {\"threshold\": 0.6589999794960022, \"p\": 28041, \"fpr\": 0.19778362133734034, \"tpr\": 0.9282835847509004, \"n\": 5324}, {\"threshold\": 0.6600000262260437, \"p\": 28041, \"fpr\": 0.19759579263711496, \"tpr\": 0.9282479226846404, \"n\": 5324}, {\"threshold\": 0.6610000133514404, \"p\": 28041, \"fpr\": 0.19722013523666415, \"tpr\": 0.9280696123533397, \"n\": 5324}, {\"threshold\": 0.6620000004768372, \"p\": 28041, \"fpr\": 0.19722013523666415, \"tpr\": 0.9279269640882992, \"n\": 5324}, {\"threshold\": 0.6629999876022339, \"p\": 28041, \"fpr\": 0.19684447783621337, \"tpr\": 0.9277486537569987, \"n\": 5324}, {\"threshold\": 0.6639999747276306, \"p\": 28041, \"fpr\": 0.19684447783621337, \"tpr\": 0.9276416675582183, \"n\": 5324}, {\"threshold\": 0.6650000214576721, \"p\": 28041, \"fpr\": 0.196656649135988, \"tpr\": 0.9274276951606576, \"n\": 5324}, {\"threshold\": 0.6660000085830688, \"p\": 28041, \"fpr\": 0.1959053343350864, \"tpr\": 0.9272850468956171, \"n\": 5324}, {\"threshold\": 0.6669999957084656, \"p\": 28041, \"fpr\": 0.1955296769346356, \"tpr\": 0.9271423986305767, \"n\": 5324}, {\"threshold\": 0.6679999828338623, \"p\": 28041, \"fpr\": 0.19496619083395944, \"tpr\": 0.926964088299276, \"n\": 5324}, {\"threshold\": 0.6690000295639038, \"p\": 28041, \"fpr\": 0.19459053343350863, \"tpr\": 0.9268927641667558, \"n\": 5324}, {\"threshold\": 0.6700000166893005, \"p\": 28041, \"fpr\": 0.19440270473328325, \"tpr\": 0.9267501159017153, \"n\": 5324}, {\"threshold\": 0.6710000038146973, \"p\": 28041, \"fpr\": 0.19421487603305784, \"tpr\": 0.9266431297029349, \"n\": 5324}, {\"threshold\": 0.671999990940094, \"p\": 28041, \"fpr\": 0.19421487603305784, \"tpr\": 0.9265361435041546, \"n\": 5324}, {\"threshold\": 0.6729999780654907, \"p\": 28041, \"fpr\": 0.19421487603305784, \"tpr\": 0.9264291573053742, \"n\": 5324}, {\"threshold\": 0.6740000247955322, \"p\": 28041, \"fpr\": 0.19327573253193087, \"tpr\": 0.9261795228415535, \"n\": 5324}, {\"threshold\": 0.675000011920929, \"p\": 28041, \"fpr\": 0.1889556724267468, \"tpr\": 0.9210798473663564, \"n\": 5324}, {\"threshold\": 0.6759999990463257, \"p\": 28041, \"fpr\": 0.18839218632607063, \"tpr\": 0.9208658749687957, \"n\": 5324}, {\"threshold\": 0.6769999861717224, \"p\": 28041, \"fpr\": 0.18764087152516903, \"tpr\": 0.920651902571235, \"n\": 5324}, {\"threshold\": 0.6779999732971191, \"p\": 28041, \"fpr\": 0.18726521412471825, \"tpr\": 0.9205449163724546, \"n\": 5324}, {\"threshold\": 0.6790000200271606, \"p\": 28041, \"fpr\": 0.18707738542449287, \"tpr\": 0.9204022681074141, \"n\": 5324}, {\"threshold\": 0.6800000071525574, \"p\": 28041, \"fpr\": 0.18688955672426746, \"tpr\": 0.9201882957098534, \"n\": 5324}, {\"threshold\": 0.6809999942779541, \"p\": 28041, \"fpr\": 0.18670172802404209, \"tpr\": 0.9201526336435933, \"n\": 5324}, {\"threshold\": 0.6819999814033508, \"p\": 28041, \"fpr\": 0.18632607062359127, \"tpr\": 0.9200099853785528, \"n\": 5324}, {\"threshold\": 0.6830000281333923, \"p\": 28041, \"fpr\": 0.1861382419233659, \"tpr\": 0.9199029991797725, \"n\": 5324}, {\"threshold\": 0.6840000152587891, \"p\": 28041, \"fpr\": 0.1850112697220135, \"tpr\": 0.9197960129809921, \"n\": 5324}, {\"threshold\": 0.6850000023841858, \"p\": 28041, \"fpr\": 0.18482344102178813, \"tpr\": 0.9196533647159516, \"n\": 5324}, {\"threshold\": 0.6859999895095825, \"p\": 28041, \"fpr\": 0.18463561232156273, \"tpr\": 0.919475054384651, \"n\": 5324}, {\"threshold\": 0.6869999766349792, \"p\": 28041, \"fpr\": 0.18407212622088656, \"tpr\": 0.9194037302521308, \"n\": 5324}, {\"threshold\": 0.6880000233650208, \"p\": 28041, \"fpr\": 0.18294515401953418, \"tpr\": 0.9191897578545701, \"n\": 5324}, {\"threshold\": 0.6890000104904175, \"p\": 28041, \"fpr\": 0.1821938392186326, \"tpr\": 0.9189757854570094, \"n\": 5324}, {\"threshold\": 0.6899999976158142, \"p\": 28041, \"fpr\": 0.1821938392186326, \"tpr\": 0.9187974751257088, \"n\": 5324}, {\"threshold\": 0.6909999847412109, \"p\": 28041, \"fpr\": 0.18144252441773104, \"tpr\": 0.9186548268606683, \"n\": 5324}, {\"threshold\": 0.6919999718666077, \"p\": 28041, \"fpr\": 0.18144252441773104, \"tpr\": 0.9184765165293677, \"n\": 5324}, {\"threshold\": 0.6930000185966492, \"p\": 28041, \"fpr\": 0.18125469571750563, \"tpr\": 0.9182268820655469, \"n\": 5324}, {\"threshold\": 0.6940000057220459, \"p\": 28041, \"fpr\": 0.18069120961682944, \"tpr\": 0.9180485717342463, \"n\": 5324}, {\"threshold\": 0.6949999928474426, \"p\": 28041, \"fpr\": 0.18012772351615328, \"tpr\": 0.9178702614029457, \"n\": 5324}, {\"threshold\": 0.6959999799728394, \"p\": 28041, \"fpr\": 0.1791885800150263, \"tpr\": 0.9178345993366855, \"n\": 5324}, {\"threshold\": 0.6970000267028809, \"p\": 28041, \"fpr\": 0.1790007513148009, \"tpr\": 0.9175136407403445, \"n\": 5324}, {\"threshold\": 0.6980000138282776, \"p\": 28041, \"fpr\": 0.1790007513148009, \"tpr\": 0.9173709924753041, \"n\": 5324}, {\"threshold\": 0.6990000009536743, \"p\": 28041, \"fpr\": 0.1786250939143501, \"tpr\": 0.9173353304090439, \"n\": 5324}, {\"threshold\": 0.699999988079071, \"p\": 28041, \"fpr\": 0.1786250939143501, \"tpr\": 0.9172283442102636, \"n\": 5324}, {\"threshold\": 0.7009999752044678, \"p\": 28041, \"fpr\": 0.17768595041322313, \"tpr\": 0.9171570200777434, \"n\": 5324}, {\"threshold\": 0.7020000219345093, \"p\": 28041, \"fpr\": 0.17768595041322313, \"tpr\": 0.9169073856139225, \"n\": 5324}, {\"threshold\": 0.703000009059906, \"p\": 28041, \"fpr\": 0.17731029301277235, \"tpr\": 0.916764737348882, \"n\": 5324}, {\"threshold\": 0.7039999961853027, \"p\": 28041, \"fpr\": 0.17712246431254697, \"tpr\": 0.9167290752826219, \"n\": 5324}, {\"threshold\": 0.7049999833106995, \"p\": 28041, \"fpr\": 0.17618332081142, \"tpr\": 0.9166577511501016, \"n\": 5324}, {\"threshold\": 0.7059999704360962, \"p\": 28041, \"fpr\": 0.1758076634109692, \"tpr\": 0.9163724546200207, \"n\": 5324}, {\"threshold\": 0.7070000171661377, \"p\": 28041, \"fpr\": 0.17468069120961682, \"tpr\": 0.9160871580899397, \"n\": 5324}, {\"threshold\": 0.7080000042915344, \"p\": 28041, \"fpr\": 0.17449286250939144, \"tpr\": 0.9159088477586391, \"n\": 5324}, {\"threshold\": 0.7089999914169312, \"p\": 28041, \"fpr\": 0.17411720510894066, \"tpr\": 0.9156235512285582, \"n\": 5324}, {\"threshold\": 0.7099999785423279, \"p\": 28041, \"fpr\": 0.17299023290758828, \"tpr\": 0.9153739167647373, \"n\": 5324}, {\"threshold\": 0.7110000252723694, \"p\": 28041, \"fpr\": 0.1728024042073629, \"tpr\": 0.9151956064334368, \"n\": 5324}, {\"threshold\": 0.7120000123977661, \"p\": 28041, \"fpr\": 0.1728024042073629, \"tpr\": 0.9149459719696159, \"n\": 5324}, {\"threshold\": 0.7129999995231628, \"p\": 28041, \"fpr\": 0.17242674680691208, \"tpr\": 0.9146250133732748, \"n\": 5324}, {\"threshold\": 0.7139999866485596, \"p\": 28041, \"fpr\": 0.17148760330578514, \"tpr\": 0.9144467030419743, \"n\": 5324}, {\"threshold\": 0.7149999737739563, \"p\": 28041, \"fpr\": 0.17111194590533432, \"tpr\": 0.9142683927106736, \"n\": 5324}, {\"threshold\": 0.7160000205039978, \"p\": 28041, \"fpr\": 0.17092411720510894, \"tpr\": 0.9140544203131129, \"n\": 5324}, {\"threshold\": 0.7170000076293945, \"p\": 28041, \"fpr\": 0.17054845980465816, \"tpr\": 0.9138047858492921, \"n\": 5324}, {\"threshold\": 0.7179999947547913, \"p\": 28041, \"fpr\": 0.16998497370398197, \"tpr\": 0.9136621375842516, \"n\": 5324}, {\"threshold\": 0.718999981880188, \"p\": 28041, \"fpr\": 0.16960931630353118, \"tpr\": 0.9135551513854713, \"n\": 5324}, {\"threshold\": 0.7200000286102295, \"p\": 28041, \"fpr\": 0.16942148760330578, \"tpr\": 0.9135194893192111, \"n\": 5324}, {\"threshold\": 0.7210000157356262, \"p\": 28041, \"fpr\": 0.169045830202855, \"tpr\": 0.9133055169216504, \"n\": 5324}, {\"threshold\": 0.722000002861023, \"p\": 28041, \"fpr\": 0.16810668670172801, \"tpr\": 0.9129845583253093, \"n\": 5324}, {\"threshold\": 0.7229999899864197, \"p\": 28041, \"fpr\": 0.16791885800150264, \"tpr\": 0.9128062479940088, \"n\": 5324}, {\"threshold\": 0.7239999771118164, \"p\": 28041, \"fpr\": 0.16791885800150264, \"tpr\": 0.9126279376627082, \"n\": 5324}, {\"threshold\": 0.7250000238418579, \"p\": 28041, \"fpr\": 0.16754320060105185, \"tpr\": 0.9124852893976677, \"n\": 5324}, {\"threshold\": 0.7260000109672546, \"p\": 28041, \"fpr\": 0.16716754320060107, \"tpr\": 0.9121643308013266, \"n\": 5324}, {\"threshold\": 0.7269999980926514, \"p\": 28041, \"fpr\": 0.16697971450037566, \"tpr\": 0.9119146963375058, \"n\": 5324}, {\"threshold\": 0.7279999852180481, \"p\": 28041, \"fpr\": 0.16679188580015025, \"tpr\": 0.9118433722049856, \"n\": 5324}, {\"threshold\": 0.7289999723434448, \"p\": 28041, \"fpr\": 0.16660405709992487, \"tpr\": 0.9117007239399451, \"n\": 5324}, {\"threshold\": 0.7300000190734863, \"p\": 28041, \"fpr\": 0.1662283996994741, \"tpr\": 0.9115580756749047, \"n\": 5324}, {\"threshold\": 0.7310000061988831, \"p\": 28041, \"fpr\": 0.1656649135987979, \"tpr\": 0.9112727791448236, \"n\": 5324}, {\"threshold\": 0.7319999933242798, \"p\": 28041, \"fpr\": 0.16491359879789633, \"tpr\": 0.9111301308797832, \"n\": 5324}, {\"threshold\": 0.7329999804496765, \"p\": 28041, \"fpr\": 0.16472577009767092, \"tpr\": 0.910773510217182, \"n\": 5324}, {\"threshold\": 0.734000027179718, \"p\": 28041, \"fpr\": 0.16453794139744554, \"tpr\": 0.9105951998858813, \"n\": 5324}, {\"threshold\": 0.7350000143051147, \"p\": 28041, \"fpr\": 0.16435011269722014, \"tpr\": 0.9104525516208409, \"n\": 5324}, {\"threshold\": 0.7360000014305115, \"p\": 28041, \"fpr\": 0.16416228399699473, \"tpr\": 0.9101672550907599, \"n\": 5324}, {\"threshold\": 0.7369999885559082, \"p\": 28041, \"fpr\": 0.16416228399699473, \"tpr\": 0.9100246068257195, \"n\": 5324}, {\"threshold\": 0.7379999756813049, \"p\": 28041, \"fpr\": 0.16359879789631857, \"tpr\": 0.9098462964944188, \"n\": 5324}, {\"threshold\": 0.7390000224113464, \"p\": 28041, \"fpr\": 0.16303531179564237, \"tpr\": 0.9095609999643379, \"n\": 5324}, {\"threshold\": 0.7400000095367432, \"p\": 28041, \"fpr\": 0.1626596543951916, \"tpr\": 0.9094540137655576, \"n\": 5324}, {\"threshold\": 0.7409999966621399, \"p\": 28041, \"fpr\": 0.16190833959429002, \"tpr\": 0.909311365500517, \"n\": 5324}, {\"threshold\": 0.7419999837875366, \"p\": 28041, \"fpr\": 0.1617205108940646, \"tpr\": 0.9090973931029563, \"n\": 5324}, {\"threshold\": 0.7429999709129333, \"p\": 28041, \"fpr\": 0.16115702479338842, \"tpr\": 0.9089547448379159, \"n\": 5324}, {\"threshold\": 0.7440000176429749, \"p\": 28041, \"fpr\": 0.16059353869271226, \"tpr\": 0.9087051103740951, \"n\": 5324}, {\"threshold\": 0.7450000047683716, \"p\": 28041, \"fpr\": 0.16040570999248685, \"tpr\": 0.9085268000427945, \"n\": 5324}, {\"threshold\": 0.7459999918937683, \"p\": 28041, \"fpr\": 0.16021788129226144, \"tpr\": 0.9082058414464534, \"n\": 5324}, {\"threshold\": 0.746999979019165, \"p\": 28041, \"fpr\": 0.15984222389181066, \"tpr\": 0.9080988552476731, \"n\": 5324}, {\"threshold\": 0.7480000257492065, \"p\": 28041, \"fpr\": 0.15965439519158528, \"tpr\": 0.9077422345850719, \"n\": 5324}, {\"threshold\": 0.7490000128746033, \"p\": 28041, \"fpr\": 0.15946656649135987, \"tpr\": 0.907492600121251, \"n\": 5324}, {\"threshold\": 0.75, \"p\": 28041, \"fpr\": 0.1590909090909091, \"tpr\": 0.9072786277236903, \"n\": 5324}, {\"threshold\": 0.7509999871253967, \"p\": 28041, \"fpr\": 0.15777610818933133, \"tpr\": 0.9071359794586499, \"n\": 5324}, {\"threshold\": 0.7519999742507935, \"p\": 28041, \"fpr\": 0.15758827948910595, \"tpr\": 0.9069220070610892, \"n\": 5324}, {\"threshold\": 0.753000020980835, \"p\": 28041, \"fpr\": 0.15646130728775356, \"tpr\": 0.9066723725972683, \"n\": 5324}, {\"threshold\": 0.7540000081062317, \"p\": 28041, \"fpr\": 0.1562734785875282, \"tpr\": 0.9066010484647481, \"n\": 5324}, {\"threshold\": 0.7549999952316284, \"p\": 28041, \"fpr\": 0.1562734785875282, \"tpr\": 0.9064227381334474, \"n\": 5324}, {\"threshold\": 0.7559999823570251, \"p\": 28041, \"fpr\": 0.15589782118707737, \"tpr\": 0.9061731036696267, \"n\": 5324}, {\"threshold\": 0.7570000290870667, \"p\": 28041, \"fpr\": 0.155709992486852, \"tpr\": 0.9058164830070254, \"n\": 5324}, {\"threshold\": 0.7580000162124634, \"p\": 28041, \"fpr\": 0.15495867768595042, \"tpr\": 0.9055668485432046, \"n\": 5324}, {\"threshold\": 0.7590000033378601, \"p\": 28041, \"fpr\": 0.15439519158527423, \"tpr\": 0.905103241681823, \"n\": 5324}, {\"threshold\": 0.7599999904632568, \"p\": 28041, \"fpr\": 0.15420736288504883, \"tpr\": 0.9048536072180022, \"n\": 5324}, {\"threshold\": 0.7609999775886536, \"p\": 28041, \"fpr\": 0.15383170548459804, \"tpr\": 0.9045683106879212, \"n\": 5324}, {\"threshold\": 0.7620000243186951, \"p\": 28041, \"fpr\": 0.15345604808414726, \"tpr\": 0.9042116900253201, \"n\": 5324}, {\"threshold\": 0.7630000114440918, \"p\": 28041, \"fpr\": 0.15289256198347106, \"tpr\": 0.9041047038265397, \"n\": 5324}, {\"threshold\": 0.7639999985694885, \"p\": 28041, \"fpr\": 0.15251690458302028, \"tpr\": 0.9036767590314183, \"n\": 5324}, {\"threshold\": 0.7649999856948853, \"p\": 28041, \"fpr\": 0.1521412471825695, \"tpr\": 0.9034271245675974, \"n\": 5324}, {\"threshold\": 0.765999972820282, \"p\": 28041, \"fpr\": 0.1515777610818933, \"tpr\": 0.9032844763025569, \"n\": 5324}, {\"threshold\": 0.7670000195503235, \"p\": 28041, \"fpr\": 0.15138993238166792, \"tpr\": 0.9029635177062159, \"n\": 5324}, {\"threshold\": 0.7680000066757202, \"p\": 28041, \"fpr\": 0.15120210368144252, \"tpr\": 0.9028208694411755, \"n\": 5324}, {\"threshold\": 0.7689999938011169, \"p\": 28041, \"fpr\": 0.15082644628099173, \"tpr\": 0.9024999108448344, \"n\": 5324}, {\"threshold\": 0.7699999809265137, \"p\": 28041, \"fpr\": 0.15082644628099173, \"tpr\": 0.9023216005135337, \"n\": 5324}, {\"threshold\": 0.7710000276565552, \"p\": 28041, \"fpr\": 0.15045078888054095, \"tpr\": 0.9019649798509326, \"n\": 5324}, {\"threshold\": 0.7720000147819519, \"p\": 28041, \"fpr\": 0.15026296018031554, \"tpr\": 0.9016440212545915, \"n\": 5324}, {\"threshold\": 0.7730000019073486, \"p\": 28041, \"fpr\": 0.14969947407963938, \"tpr\": 0.9013230626582505, \"n\": 5324}, {\"threshold\": 0.7739999890327454, \"p\": 28041, \"fpr\": 0.14913598797896319, \"tpr\": 0.9011090902606897, \"n\": 5324}, {\"threshold\": 0.7749999761581421, \"p\": 28041, \"fpr\": 0.1487603305785124, \"tpr\": 0.9009307799293891, \"n\": 5324}, {\"threshold\": 0.7760000228881836, \"p\": 28041, \"fpr\": 0.1481968444778362, \"tpr\": 0.900895117863129, \"n\": 5324}, {\"threshold\": 0.7770000100135803, \"p\": 28041, \"fpr\": 0.14744552967693464, \"tpr\": 0.9006454833993082, \"n\": 5324}, {\"threshold\": 0.777999997138977, \"p\": 28041, \"fpr\": 0.14725770097670923, \"tpr\": 0.9003958489354873, \"n\": 5324}, {\"threshold\": 0.7789999842643738, \"p\": 28041, \"fpr\": 0.14669421487603307, \"tpr\": 0.900003566206626, \"n\": 5324}, {\"threshold\": 0.7799999713897705, \"p\": 28041, \"fpr\": 0.14669421487603307, \"tpr\": 0.8997182696765451, \"n\": 5324}, {\"threshold\": 0.781000018119812, \"p\": 28041, \"fpr\": 0.14650638617580766, \"tpr\": 0.8996112834777648, \"n\": 5324}, {\"threshold\": 0.7820000052452087, \"p\": 28041, \"fpr\": 0.14594290007513147, \"tpr\": 0.8992546628151635, \"n\": 5324}, {\"threshold\": 0.7829999923706055, \"p\": 28041, \"fpr\": 0.14594290007513147, \"tpr\": 0.8990406904176028, \"n\": 5324}, {\"threshold\": 0.7839999794960022, \"p\": 28041, \"fpr\": 0.14594290007513147, \"tpr\": 0.8987553938875218, \"n\": 5324}, {\"threshold\": 0.7850000262260437, \"p\": 28041, \"fpr\": 0.14556724267468069, \"tpr\": 0.898505759423701, \"n\": 5324}, {\"threshold\": 0.7860000133514404, \"p\": 28041, \"fpr\": 0.14556724267468069, \"tpr\": 0.8982561249598802, \"n\": 5324}, {\"threshold\": 0.7870000004768372, \"p\": 28041, \"fpr\": 0.14481592787377912, \"tpr\": 0.8979351663635391, \"n\": 5324}, {\"threshold\": 0.7879999876022339, \"p\": 28041, \"fpr\": 0.14444027047332833, \"tpr\": 0.8977568560322385, \"n\": 5324}, {\"threshold\": 0.7889999747276306, \"p\": 28041, \"fpr\": 0.14350112697220135, \"tpr\": 0.8975072215684177, \"n\": 5324}, {\"threshold\": 0.7900000214576721, \"p\": 28041, \"fpr\": 0.14350112697220135, \"tpr\": 0.8972575871045968, \"n\": 5324}, {\"threshold\": 0.7910000085830688, \"p\": 28041, \"fpr\": 0.14331329827197595, \"tpr\": 0.897007952640776, \"n\": 5324}, {\"threshold\": 0.7919999957084656, \"p\": 28041, \"fpr\": 0.14274981217129978, \"tpr\": 0.8967583181769552, \"n\": 5324}, {\"threshold\": 0.7929999828338623, \"p\": 28041, \"fpr\": 0.142374154770849, \"tpr\": 0.8964730216468743, \"n\": 5324}, {\"threshold\": 0.7940000295639038, \"p\": 28041, \"fpr\": 0.1418106686701728, \"tpr\": 0.8961877251167932, \"n\": 5324}, {\"threshold\": 0.7950000166893005, \"p\": 28041, \"fpr\": 0.14143501126972202, \"tpr\": 0.8959380906529725, \"n\": 5324}, {\"threshold\": 0.7960000038146973, \"p\": 28041, \"fpr\": 0.14068369646882042, \"tpr\": 0.8956527941228914, \"n\": 5324}, {\"threshold\": 0.796999990940094, \"p\": 28041, \"fpr\": 0.14012021036814426, \"tpr\": 0.8954388217253307, \"n\": 5324}, {\"threshold\": 0.7979999780654907, \"p\": 28041, \"fpr\": 0.13974455296769348, \"tpr\": 0.89518918726151, \"n\": 5324}, {\"threshold\": 0.7990000247955322, \"p\": 28041, \"fpr\": 0.13918106686701728, \"tpr\": 0.8949395527976891, \"n\": 5324}, {\"threshold\": 0.800000011920929, \"p\": 28041, \"fpr\": 0.13899323816679188, \"tpr\": 0.894903890731429, \"n\": 5324}, {\"threshold\": 0.8009999990463257, \"p\": 28041, \"fpr\": 0.1386175807663411, \"tpr\": 0.8945829321350879, \"n\": 5324}, {\"threshold\": 0.8019999861717224, \"p\": 28041, \"fpr\": 0.1380540946656649, \"tpr\": 0.8942619735387468, \"n\": 5324}, {\"threshold\": 0.8029999732971191, \"p\": 28041, \"fpr\": 0.13767843726521412, \"tpr\": 0.8939053528761457, \"n\": 5324}, {\"threshold\": 0.8040000200271606, \"p\": 28041, \"fpr\": 0.13767843726521412, \"tpr\": 0.8934774080810242, \"n\": 5324}, {\"threshold\": 0.8050000071525574, \"p\": 28041, \"fpr\": 0.13692712246431255, \"tpr\": 0.893120787418423, \"n\": 5324}, {\"threshold\": 0.8059999942779541, \"p\": 28041, \"fpr\": 0.13692712246431255, \"tpr\": 0.8929424770871224, \"n\": 5324}, {\"threshold\": 0.8069999814033508, \"p\": 28041, \"fpr\": 0.13673929376408714, \"tpr\": 0.8927285046895617, \"n\": 5324}, {\"threshold\": 0.8080000281333923, \"p\": 28041, \"fpr\": 0.13617580766341097, \"tpr\": 0.8925858564245213, \"n\": 5324}, {\"threshold\": 0.8090000152587891, \"p\": 28041, \"fpr\": 0.13561232156273478, \"tpr\": 0.8920509254306195, \"n\": 5324}, {\"threshold\": 0.8100000023841858, \"p\": 28041, \"fpr\": 0.1354244928625094, \"tpr\": 0.8916586427017581, \"n\": 5324}, {\"threshold\": 0.8109999895095825, \"p\": 28041, \"fpr\": 0.135236664162284, \"tpr\": 0.891337684105417, \"n\": 5324}, {\"threshold\": 0.8119999766349792, \"p\": 28041, \"fpr\": 0.1348610067618332, \"tpr\": 0.8911950358403766, \"n\": 5324}, {\"threshold\": 0.8130000233650208, \"p\": 28041, \"fpr\": 0.1346731780616078, \"tpr\": 0.8909810634428159, \"n\": 5324}, {\"threshold\": 0.8140000104904175, \"p\": 28041, \"fpr\": 0.1346731780616078, \"tpr\": 0.8905887807139545, \"n\": 5324}, {\"threshold\": 0.8149999976158142, \"p\": 28041, \"fpr\": 0.13410969196093164, \"tpr\": 0.8901964979850933, \"n\": 5324}, {\"threshold\": 0.8159999847412109, \"p\": 28041, \"fpr\": 0.13392186326070624, \"tpr\": 0.8900895117863129, \"n\": 5324}, {\"threshold\": 0.8169999718666077, \"p\": 28041, \"fpr\": 0.13298271975957926, \"tpr\": 0.8897685531899718, \"n\": 5324}, {\"threshold\": 0.8180000185966492, \"p\": 28041, \"fpr\": 0.13298271975957926, \"tpr\": 0.889518918726151, \"n\": 5324}, {\"threshold\": 0.8190000057220459, \"p\": 28041, \"fpr\": 0.13279489105935388, \"tpr\": 0.88923362219607, \"n\": 5324}, {\"threshold\": 0.8199999928474426, \"p\": 28041, \"fpr\": 0.13279489105935388, \"tpr\": 0.8885917050033879, \"n\": 5324}, {\"threshold\": 0.8209999799728394, \"p\": 28041, \"fpr\": 0.13204357625845228, \"tpr\": 0.8882350843407867, \"n\": 5324}, {\"threshold\": 0.8220000267028809, \"p\": 28041, \"fpr\": 0.13204357625845228, \"tpr\": 0.8878071395456653, \"n\": 5324}, {\"threshold\": 0.8230000138282776, \"p\": 28041, \"fpr\": 0.1318557475582269, \"tpr\": 0.887414856816804, \"n\": 5324}, {\"threshold\": 0.8240000009536743, \"p\": 28041, \"fpr\": 0.13148009015777612, \"tpr\": 0.8870938982204629, \"n\": 5324}, {\"threshold\": 0.824999988079071, \"p\": 28041, \"fpr\": 0.13054094665664914, \"tpr\": 0.8866659534253415, \"n\": 5324}, {\"threshold\": 0.8259999752044678, \"p\": 28041, \"fpr\": 0.12997746055597295, \"tpr\": 0.8861666844976998, \"n\": 5324}, {\"threshold\": 0.8270000219345093, \"p\": 28041, \"fpr\": 0.12960180315552217, \"tpr\": 0.8857744017688385, \"n\": 5324}, {\"threshold\": 0.828000009059906, \"p\": 28041, \"fpr\": 0.12903831705484597, \"tpr\": 0.8855247673050176, \"n\": 5324}, {\"threshold\": 0.8289999961853027, \"p\": 28041, \"fpr\": 0.1286626596543952, \"tpr\": 0.8853107949074569, \"n\": 5324}, {\"threshold\": 0.8299999833106995, \"p\": 28041, \"fpr\": 0.1284748309541698, \"tpr\": 0.8849541742448558, \"n\": 5324}, {\"threshold\": 0.8309999704360962, \"p\": 28041, \"fpr\": 0.12716003005259205, \"tpr\": 0.8848115259798153, \"n\": 5324}, {\"threshold\": 0.8320000171661377, \"p\": 28041, \"fpr\": 0.12678437265214124, \"tpr\": 0.8843479191184337, \"n\": 5324}, {\"threshold\": 0.8330000042915344, \"p\": 28041, \"fpr\": 0.12603305785123967, \"tpr\": 0.8839556363895724, \"n\": 5324}, {\"threshold\": 0.8339999914169312, \"p\": 28041, \"fpr\": 0.12565740045078888, \"tpr\": 0.8834920295281908, \"n\": 5324}, {\"threshold\": 0.8349999785423279, \"p\": 28041, \"fpr\": 0.1249060856498873, \"tpr\": 0.8831710709318498, \"n\": 5324}, {\"threshold\": 0.8360000252723694, \"p\": 28041, \"fpr\": 0.12415477084898573, \"tpr\": 0.8827074640704683, \"n\": 5324}, {\"threshold\": 0.8370000123977661, \"p\": 28041, \"fpr\": 0.12377911344853494, \"tpr\": 0.8824578296066474, \"n\": 5324}, {\"threshold\": 0.8379999995231628, \"p\": 28041, \"fpr\": 0.12340345604808414, \"tpr\": 0.8822795192753469, \"n\": 5324}, {\"threshold\": 0.8389999866485596, \"p\": 28041, \"fpr\": 0.12340345604808414, \"tpr\": 0.881744588281445, \"n\": 5324}, {\"threshold\": 0.8399999737739563, \"p\": 28041, \"fpr\": 0.12265214124718257, \"tpr\": 0.881138333155023, \"n\": 5324}, {\"threshold\": 0.8410000205039978, \"p\": 28041, \"fpr\": 0.12227648384673179, \"tpr\": 0.8809243607574623, \"n\": 5324}, {\"threshold\": 0.8420000076293945, \"p\": 28041, \"fpr\": 0.1217129977460556, \"tpr\": 0.8803181056310403, \"n\": 5324}, {\"threshold\": 0.8429999947547913, \"p\": 28041, \"fpr\": 0.1215251690458302, \"tpr\": 0.8798188367033986, \"n\": 5324}, {\"threshold\": 0.843999981880188, \"p\": 28041, \"fpr\": 0.12058602554470323, \"tpr\": 0.8791412574444564, \"n\": 5324}, {\"threshold\": 0.8450000286102295, \"p\": 28041, \"fpr\": 0.11983471074380166, \"tpr\": 0.8788916229806355, \"n\": 5324}, {\"threshold\": 0.8460000157356262, \"p\": 28041, \"fpr\": 0.11964688204357626, \"tpr\": 0.8786063264505546, \"n\": 5324}, {\"threshold\": 0.847000002861023, \"p\": 28041, \"fpr\": 0.11945905334335086, \"tpr\": 0.8782853678542135, \"n\": 5324}, {\"threshold\": 0.8479999899864197, \"p\": 28041, \"fpr\": 0.1185199098422239, \"tpr\": 0.8780357333903926, \"n\": 5324}, {\"threshold\": 0.8489999771118164, \"p\": 28041, \"fpr\": 0.1183320811419985, \"tpr\": 0.8776077885952712, \"n\": 5324}, {\"threshold\": 0.8500000238418579, \"p\": 28041, \"fpr\": 0.11814425244177311, \"tpr\": 0.87721550586641, \"n\": 5324}, {\"threshold\": 0.8510000109672546, \"p\": 28041, \"fpr\": 0.1179564237415477, \"tpr\": 0.8768232231375486, \"n\": 5324}, {\"threshold\": 0.8519999980926514, \"p\": 28041, \"fpr\": 0.11776859504132231, \"tpr\": 0.876359616276167, \"n\": 5324}, {\"threshold\": 0.8529999852180481, \"p\": 28041, \"fpr\": 0.11701728024042074, \"tpr\": 0.8759316714810456, \"n\": 5324}, {\"threshold\": 0.8539999723434448, \"p\": 28041, \"fpr\": 0.11664162283996994, \"tpr\": 0.8755393887521843, \"n\": 5324}, {\"threshold\": 0.8550000190734863, \"p\": 28041, \"fpr\": 0.11607813673929376, \"tpr\": 0.874826147426982, \"n\": 5324}, {\"threshold\": 0.8560000061988831, \"p\": 28041, \"fpr\": 0.11589030803906837, \"tpr\": 0.87425555436682, \"n\": 5324}, {\"threshold\": 0.8569999933242798, \"p\": 28041, \"fpr\": 0.11570247933884298, \"tpr\": 0.8740059199029991, \"n\": 5324}, {\"threshold\": 0.8579999804496765, \"p\": 28041, \"fpr\": 0.1149511645379414, \"tpr\": 0.8736136371741379, \"n\": 5324}, {\"threshold\": 0.859000027179718, \"p\": 28041, \"fpr\": 0.1149511645379414, \"tpr\": 0.8730430441139759, \"n\": 5324}, {\"threshold\": 0.8600000143051147, \"p\": 28041, \"fpr\": 0.114763335837716, \"tpr\": 0.8725794372525945, \"n\": 5324}, {\"threshold\": 0.8610000014305115, \"p\": 28041, \"fpr\": 0.11419984973703982, \"tpr\": 0.8723298027887736, \"n\": 5324}, {\"threshold\": 0.8619999885559082, \"p\": 28041, \"fpr\": 0.11401202103681443, \"tpr\": 0.8719375200599123, \"n\": 5324}, {\"threshold\": 0.8629999756813049, \"p\": 28041, \"fpr\": 0.11382419233658903, \"tpr\": 0.8715452373310509, \"n\": 5324}, {\"threshold\": 0.8640000224113464, \"p\": 28041, \"fpr\": 0.11307287753568745, \"tpr\": 0.8712242787347099, \"n\": 5324}, {\"threshold\": 0.8650000095367432, \"p\": 28041, \"fpr\": 0.11194590533433509, \"tpr\": 0.8706180236082879, \"n\": 5324}, {\"threshold\": 0.8659999966621399, \"p\": 28041, \"fpr\": 0.11138241923365891, \"tpr\": 0.8699047822830854, \"n\": 5324}, {\"threshold\": 0.8669999837875366, \"p\": 28041, \"fpr\": 0.11081893313298272, \"tpr\": 0.8695481616204843, \"n\": 5324}, {\"threshold\": 0.8679999709129333, \"p\": 28041, \"fpr\": 0.11063110443275732, \"tpr\": 0.8690132306265825, \"n\": 5324}, {\"threshold\": 0.8690000176429749, \"p\": 28041, \"fpr\": 0.11025544703230654, \"tpr\": 0.8687279340965015, \"n\": 5324}, {\"threshold\": 0.8700000047683716, \"p\": 28041, \"fpr\": 0.10950413223140495, \"tpr\": 0.8681930031025997, \"n\": 5324}, {\"threshold\": 0.8709999918937683, \"p\": 28041, \"fpr\": 0.10912847483095417, \"tpr\": 0.867943368638779, \"n\": 5324}, {\"threshold\": 0.871999979019165, \"p\": 28041, \"fpr\": 0.10818933132982719, \"tpr\": 0.8674797617773974, \"n\": 5324}, {\"threshold\": 0.8730000257492065, \"p\": 28041, \"fpr\": 0.10762584522915102, \"tpr\": 0.8668378445847152, \"n\": 5324}, {\"threshold\": 0.8740000128746033, \"p\": 28041, \"fpr\": 0.10725018782870023, \"tpr\": 0.866481223922114, \"n\": 5324}, {\"threshold\": 0.875, \"p\": 28041, \"fpr\": 0.10668670172802404, \"tpr\": 0.8659106308619522, \"n\": 5324}, {\"threshold\": 0.8759999871253967, \"p\": 28041, \"fpr\": 0.10593538692712247, \"tpr\": 0.8655896722656111, \"n\": 5324}, {\"threshold\": 0.8769999742507935, \"p\": 28041, \"fpr\": 0.10537190082644628, \"tpr\": 0.8649120930066688, \"n\": 5324}, {\"threshold\": 0.878000020980835, \"p\": 28041, \"fpr\": 0.10443275732531931, \"tpr\": 0.8644128240790271, \"n\": 5324}, {\"threshold\": 0.8790000081062317, \"p\": 28041, \"fpr\": 0.10405709992486852, \"tpr\": 0.8639135551513855, \"n\": 5324}, {\"threshold\": 0.8799999952316284, \"p\": 28041, \"fpr\": 0.10386927122464312, \"tpr\": 0.8631289896936628, \"n\": 5324}, {\"threshold\": 0.8809999823570251, \"p\": 28041, \"fpr\": 0.10349361382419234, \"tpr\": 0.8623800863022003, \"n\": 5324}, {\"threshold\": 0.8820000290870667, \"p\": 28041, \"fpr\": 0.10293012772351616, \"tpr\": 0.8618094932420385, \"n\": 5324}, {\"threshold\": 0.8830000162124634, \"p\": 28041, \"fpr\": 0.10255447032306536, \"tpr\": 0.8612032381156164, \"n\": 5324}, {\"threshold\": 0.8840000033378601, \"p\": 28041, \"fpr\": 0.1016153268219384, \"tpr\": 0.8604186726578938, \"n\": 5324}, {\"threshold\": 0.8849999904632568, \"p\": 28041, \"fpr\": 0.1012396694214876, \"tpr\": 0.859562783067651, \"n\": 5324}, {\"threshold\": 0.8859999775886536, \"p\": 28041, \"fpr\": 0.1010518407212622, \"tpr\": 0.8591705003387896, \"n\": 5324}, {\"threshold\": 0.8870000243186951, \"p\": 28041, \"fpr\": 0.10067618332081142, \"tpr\": 0.858385934881067, \"n\": 5324}, {\"threshold\": 0.8880000114440918, \"p\": 28041, \"fpr\": 0.10030052592036064, \"tpr\": 0.8577083556221248, \"n\": 5324}, {\"threshold\": 0.8889999985694885, \"p\": 28041, \"fpr\": 0.09992486851990984, \"tpr\": 0.8572804108270033, \"n\": 5324}, {\"threshold\": 0.8899999856948853, \"p\": 28041, \"fpr\": 0.09842223891810668, \"tpr\": 0.8566741557005813, \"n\": 5324}, {\"threshold\": 0.890999972820282, \"p\": 28041, \"fpr\": 0.0980465815176559, \"tpr\": 0.8557469419778182, \"n\": 5324}, {\"threshold\": 0.8920000195503235, \"p\": 28041, \"fpr\": 0.09729526671675431, \"tpr\": 0.8551050247851361, \"n\": 5324}, {\"threshold\": 0.8930000066757202, \"p\": 28041, \"fpr\": 0.09691960931630353, \"tpr\": 0.8543917834599337, \"n\": 5324}, {\"threshold\": 0.8939999938011169, \"p\": 28041, \"fpr\": 0.09598046581517655, \"tpr\": 0.8534645697371706, \"n\": 5324}, {\"threshold\": 0.8949999809265137, \"p\": 28041, \"fpr\": 0.09560480841472577, \"tpr\": 0.8527869904782283, \"n\": 5324}, {\"threshold\": 0.8960000276565552, \"p\": 28041, \"fpr\": 0.09560480841472577, \"tpr\": 0.8519667629542456, \"n\": 5324}, {\"threshold\": 0.8970000147819519, \"p\": 28041, \"fpr\": 0.09541697971450037, \"tpr\": 0.8512535216290432, \"n\": 5324}, {\"threshold\": 0.8980000019073486, \"p\": 28041, \"fpr\": 0.09504132231404959, \"tpr\": 0.8506472665026211, \"n\": 5324}, {\"threshold\": 0.8989999890327454, \"p\": 28041, \"fpr\": 0.0944778362133734, \"tpr\": 0.8498627010448986, \"n\": 5324}, {\"threshold\": 0.8999999761581421, \"p\": 28041, \"fpr\": 0.09410217881292261, \"tpr\": 0.8491851217859563, \"n\": 5324}, {\"threshold\": 0.9010000228881836, \"p\": 28041, \"fpr\": 0.09316303531179564, \"tpr\": 0.848507542527014, \"n\": 5324}, {\"threshold\": 0.9020000100135803, \"p\": 28041, \"fpr\": 0.09297520661157024, \"tpr\": 0.8478299632680718, \"n\": 5324}, {\"threshold\": 0.902999997138977, \"p\": 28041, \"fpr\": 0.09241172051089407, \"tpr\": 0.8475090046717306, \"n\": 5324}, {\"threshold\": 0.9039999842643738, \"p\": 28041, \"fpr\": 0.09222389181066867, \"tpr\": 0.8466887771477479, \"n\": 5324}, {\"threshold\": 0.9049999713897705, \"p\": 28041, \"fpr\": 0.0912847483095417, \"tpr\": 0.846118184087586, \"n\": 5324}, {\"threshold\": 0.906000018119812, \"p\": 28041, \"fpr\": 0.09015777610818933, \"tpr\": 0.8451909703648229, \"n\": 5324}, {\"threshold\": 0.9070000052452087, \"p\": 28041, \"fpr\": 0.08940646130728776, \"tpr\": 0.8443350807745801, \"n\": 5324}, {\"threshold\": 0.9079999923706055, \"p\": 28041, \"fpr\": 0.08846731780616078, \"tpr\": 0.8433008808530367, \"n\": 5324}, {\"threshold\": 0.9089999794960022, \"p\": 28041, \"fpr\": 0.08827948910593539, \"tpr\": 0.8422666809314932, \"n\": 5324}, {\"threshold\": 0.9100000262260437, \"p\": 28041, \"fpr\": 0.08809166040571, \"tpr\": 0.8414107913412503, \"n\": 5324}, {\"threshold\": 0.9110000133514404, \"p\": 28041, \"fpr\": 0.08734034560480841, \"tpr\": 0.8404835776184872, \"n\": 5324}, {\"threshold\": 0.9120000004768372, \"p\": 28041, \"fpr\": 0.08715251690458302, \"tpr\": 0.839805998359545, \"n\": 5324}, {\"threshold\": 0.9129999876022339, \"p\": 28041, \"fpr\": 0.08677685950413223, \"tpr\": 0.8390927570343426, \"n\": 5324}, {\"threshold\": 0.9139999747276306, \"p\": 28041, \"fpr\": 0.08677685950413223, \"tpr\": 0.8384151777754003, \"n\": 5324}, {\"threshold\": 0.9150000214576721, \"p\": 28041, \"fpr\": 0.08640120210368145, \"tpr\": 0.8373096537213366, \"n\": 5324}, {\"threshold\": 0.9160000085830688, \"p\": 28041, \"fpr\": 0.08583771600300526, \"tpr\": 0.8364181020648337, \"n\": 5324}, {\"threshold\": 0.9169999957084656, \"p\": 28041, \"fpr\": 0.08508640120210369, \"tpr\": 0.8350629435469491, \"n\": 5324}, {\"threshold\": 0.9179999828338623, \"p\": 28041, \"fpr\": 0.08508640120210369, \"tpr\": 0.8337791091615848, \"n\": 5324}, {\"threshold\": 0.9190000295639038, \"p\": 28041, \"fpr\": 0.0845229151014275, \"tpr\": 0.8328875575050818, \"n\": 5324}, {\"threshold\": 0.9200000166893005, \"p\": 28041, \"fpr\": 0.08377160030052593, \"tpr\": 0.8314610748546771, \"n\": 5324}, {\"threshold\": 0.9210000038146973, \"p\": 28041, \"fpr\": 0.08339594290007513, \"tpr\": 0.8304625369993938, \"n\": 5324}, {\"threshold\": 0.921999990940094, \"p\": 28041, \"fpr\": 0.08245679939894816, \"tpr\": 0.8293213508790699, \"n\": 5324}, {\"threshold\": 0.9229999780654907, \"p\": 28041, \"fpr\": 0.08170548459804658, \"tpr\": 0.8281801647587461, \"n\": 5324}, {\"threshold\": 0.9240000247955322, \"p\": 28041, \"fpr\": 0.0813298271975958, \"tpr\": 0.8272529510359831, \"n\": 5324}, {\"threshold\": 0.925000011920929, \"p\": 28041, \"fpr\": 0.08095416979714501, \"tpr\": 0.8264683855782604, \"n\": 5324}, {\"threshold\": 0.9259999990463257, \"p\": 28041, \"fpr\": 0.08001502629601803, \"tpr\": 0.825148889126636, \"n\": 5324}, {\"threshold\": 0.9269999861717224, \"p\": 28041, \"fpr\": 0.07982719759579264, \"tpr\": 0.8240077030063122, \"n\": 5324}, {\"threshold\": 0.9279999732971191, \"p\": 28041, \"fpr\": 0.07963936889556725, \"tpr\": 0.823044827217289, \"n\": 5324}, {\"threshold\": 0.9290000200271606, \"p\": 28041, \"fpr\": 0.07888805409466566, \"tpr\": 0.8216896686994044, \"n\": 5324}, {\"threshold\": 0.9300000071525574, \"p\": 28041, \"fpr\": 0.0781367392937641, \"tpr\": 0.8204771584465604, \"n\": 5324}, {\"threshold\": 0.9309999942779541, \"p\": 28041, \"fpr\": 0.07700976709241172, \"tpr\": 0.8189080275311151, \"n\": 5324}, {\"threshold\": 0.9319999814033508, \"p\": 28041, \"fpr\": 0.07682193839218633, \"tpr\": 0.8175172069469705, \"n\": 5324}, {\"threshold\": 0.9330000281333923, \"p\": 28041, \"fpr\": 0.07682193839218633, \"tpr\": 0.8163403587603866, \"n\": 5324}, {\"threshold\": 0.9340000152587891, \"p\": 28041, \"fpr\": 0.07663410969196092, \"tpr\": 0.8148068899112014, \"n\": 5324}, {\"threshold\": 0.9350000023841858, \"p\": 28041, \"fpr\": 0.07644628099173553, \"tpr\": 0.8132734210620164, \"n\": 5324}, {\"threshold\": 0.9359999895095825, \"p\": 28041, \"fpr\": 0.07588279489105935, \"tpr\": 0.8120609108091723, \"n\": 5324}, {\"threshold\": 0.9369999766349792, \"p\": 28041, \"fpr\": 0.07531930879038318, \"tpr\": 0.8109553867551086, \"n\": 5324}, {\"threshold\": 0.9380000233650208, \"p\": 28041, \"fpr\": 0.07494365138993238, \"tpr\": 0.8094932420384437, \"n\": 5324}, {\"threshold\": 0.9390000104904175, \"p\": 28041, \"fpr\": 0.07456799398948159, \"tpr\": 0.8079597731892586, \"n\": 5324}, {\"threshold\": 0.9399999976158142, \"p\": 28041, \"fpr\": 0.07381667918858001, \"tpr\": 0.8061410078099925, \"n\": 5324}, {\"threshold\": 0.9409999847412109, \"p\": 28041, \"fpr\": 0.07325319308790383, \"tpr\": 0.8048215113583681, \"n\": 5324}, {\"threshold\": 0.9419999718666077, \"p\": 28041, \"fpr\": 0.07250187828700225, \"tpr\": 0.8034306907742235, \"n\": 5324}, {\"threshold\": 0.9430000185966492, \"p\": 28041, \"fpr\": 0.07231404958677685, \"tpr\": 0.8018972219250383, \"n\": 5324}, {\"threshold\": 0.9440000057220459, \"p\": 28041, \"fpr\": 0.07156273478587528, \"tpr\": 0.8004707392746335, \"n\": 5324}, {\"threshold\": 0.9449999928474426, \"p\": 28041, \"fpr\": 0.0711870773854245, \"tpr\": 0.7988659462929282, \"n\": 5324}, {\"threshold\": 0.9459999799728394, \"p\": 28041, \"fpr\": 0.0708114199849737, \"tpr\": 0.7970115188474021, \"n\": 5324}, {\"threshold\": 0.9470000267028809, \"p\": 28041, \"fpr\": 0.06987227648384674, \"tpr\": 0.7953354017331764, \"n\": 5324}, {\"threshold\": 0.9480000138282776, \"p\": 28041, \"fpr\": 0.06930879038317055, \"tpr\": 0.7939445811490318, \"n\": 5324}, {\"threshold\": 0.9490000009536743, \"p\": 28041, \"fpr\": 0.06780616078136739, \"tpr\": 0.7923041261010663, \"n\": 5324}, {\"threshold\": 0.949999988079071, \"p\": 28041, \"fpr\": 0.06649135987978963, \"tpr\": 0.7898434435291181, \"n\": 5324}, {\"threshold\": 0.9509999752044678, \"p\": 28041, \"fpr\": 0.06574004507888806, \"tpr\": 0.7883099746799329, \"n\": 5324}, {\"threshold\": 0.9520000219345093, \"p\": 28041, \"fpr\": 0.06498873027798648, \"tpr\": 0.7867408437644877, \"n\": 5324}, {\"threshold\": 0.953000009059906, \"p\": 28041, \"fpr\": 0.0644252441773103, \"tpr\": 0.7843514853250597, \"n\": 5324}, {\"threshold\": 0.9539999961853027, \"p\": 28041, \"fpr\": 0.0638617580766341, \"tpr\": 0.7819264648193717, \"n\": 5324}, {\"threshold\": 0.9549999833106995, \"p\": 28041, \"fpr\": 0.06311044327573254, \"tpr\": 0.7797867408437645, \"n\": 5324}, {\"threshold\": 0.9559999704360962, \"p\": 28041, \"fpr\": 0.06292261457550714, \"tpr\": 0.778146285795799, \"n\": 5324}, {\"threshold\": 0.9570000171661377, \"p\": 28041, \"fpr\": 0.06179564237415477, \"tpr\": 0.7759708997539317, \"n\": 5324}, {\"threshold\": 0.9580000042915344, \"p\": 28041, \"fpr\": 0.06104432757325319, \"tpr\": 0.7740451481758853, \"n\": 5324}, {\"threshold\": 0.9589999914169312, \"p\": 28041, \"fpr\": 0.06010518407212622, \"tpr\": 0.771263507007596, \"n\": 5324}, {\"threshold\": 0.9599999785423279, \"p\": 28041, \"fpr\": 0.05972952667167543, \"tpr\": 0.768874148568168, \"n\": 5324}, {\"threshold\": 0.9610000252723694, \"p\": 28041, \"fpr\": 0.05916604057099925, \"tpr\": 0.7663421418636995, \"n\": 5324}, {\"threshold\": 0.9620000123977661, \"p\": 28041, \"fpr\": 0.05785123966942149, \"tpr\": 0.7642024178880924, \"n\": 5324}, {\"threshold\": 0.9629999995231628, \"p\": 28041, \"fpr\": 0.057287753568745305, \"tpr\": 0.7612424663885026, \"n\": 5324}, {\"threshold\": 0.9639999866485596, \"p\": 28041, \"fpr\": 0.056348610067618335, \"tpr\": 0.7580328804250919, \"n\": 5324}, {\"threshold\": 0.9649999737739563, \"p\": 28041, \"fpr\": 0.05559729526671676, \"tpr\": 0.7555365357868835, \"n\": 5324}, {\"threshold\": 0.9660000205039978, \"p\": 28041, \"fpr\": 0.054845980465815174, \"tpr\": 0.7525765842872936, \"n\": 5324}, {\"threshold\": 0.9670000076293945, \"p\": 28041, \"fpr\": 0.053906836964688204, \"tpr\": 0.7495809707214436, \"n\": 5324}, {\"threshold\": 0.9679999947547913, \"p\": 28041, \"fpr\": 0.05334335086401202, \"tpr\": 0.7460504261616918, \"n\": 5324}, {\"threshold\": 0.968999981880188, \"p\": 28041, \"fpr\": 0.052967693463561234, \"tpr\": 0.7429121643308013, \"n\": 5324}, {\"threshold\": 0.9700000286102295, \"p\": 28041, \"fpr\": 0.051840721262208865, \"tpr\": 0.7391676473734888, \"n\": 5324}, {\"threshold\": 0.9710000157356262, \"p\": 28041, \"fpr\": 0.050901577761081895, \"tpr\": 0.7361007096751185, \"n\": 5324}, {\"threshold\": 0.972000002861023, \"p\": 28041, \"fpr\": 0.04996243425995492, \"tpr\": 0.7320708961877251, \"n\": 5324}, {\"threshold\": 0.9729999899864197, \"p\": 28041, \"fpr\": 0.04939894815927874, \"tpr\": 0.7286116757604936, \"n\": 5324}, {\"threshold\": 0.9739999771118164, \"p\": 28041, \"fpr\": 0.04827197595792637, \"tpr\": 0.7241895795442388, \"n\": 5324}, {\"threshold\": 0.9750000238418579, \"p\": 28041, \"fpr\": 0.047145003756574, \"tpr\": 0.719767483327984, \"n\": 5324}, {\"threshold\": 0.9760000109672546, \"p\": 28041, \"fpr\": 0.045454545454545456, \"tpr\": 0.7153097250454691, \"n\": 5324}, {\"threshold\": 0.9769999980926514, \"p\": 28041, \"fpr\": 0.04432757325319309, \"tpr\": 0.7107093184979137, \"n\": 5324}, {\"threshold\": 0.9779999852180481, \"p\": 28041, \"fpr\": 0.04338842975206612, \"tpr\": 0.7063585464141793, \"n\": 5324}, {\"threshold\": 0.9789999723434448, \"p\": 28041, \"fpr\": 0.043012772351615325, \"tpr\": 0.7013658571377626, \"n\": 5324}, {\"threshold\": 0.9800000190734863, \"p\": 28041, \"fpr\": 0.04244928625093914, \"tpr\": 0.6954459541385828, \"n\": 5324}, {\"threshold\": 0.9810000061988831, \"p\": 28041, \"fpr\": 0.04169797145003756, \"tpr\": 0.6897043614707036, \"n\": 5324}, {\"threshold\": 0.9819999933242798, \"p\": 28041, \"fpr\": 0.0403831705484598, \"tpr\": 0.6831425412788417, \"n\": 5324}, {\"threshold\": 0.9829999804496765, \"p\": 28041, \"fpr\": 0.03831705484598046, \"tpr\": 0.6772226382796619, \"n\": 5324}, {\"threshold\": 0.984000027179718, \"p\": 28041, \"fpr\": 0.03681442524417731, \"tpr\": 0.6699119146963375, \"n\": 5324}, {\"threshold\": 0.9850000143051147, \"p\": 28041, \"fpr\": 0.036250939143501124, \"tpr\": 0.6623158945829322, \"n\": 5324}, {\"threshold\": 0.9860000014305115, \"p\": 28041, \"fpr\": 0.03493613824192337, \"tpr\": 0.6540422952105845, \"n\": 5324}, {\"threshold\": 0.9869999885559082, \"p\": 28041, \"fpr\": 0.03399699474079639, \"tpr\": 0.6448058200492136, \"n\": 5324}, {\"threshold\": 0.9879999756813049, \"p\": 28041, \"fpr\": 0.03249436513899324, \"tpr\": 0.6355336828215827, \"n\": 5324}, {\"threshold\": 0.9890000224113464, \"p\": 28041, \"fpr\": 0.030803906836964687, \"tpr\": 0.6256196284012696, \"n\": 5324}, {\"threshold\": 0.9900000095367432, \"p\": 28041, \"fpr\": 0.028549962434259956, \"tpr\": 0.6140294568667308, \"n\": 5324}, {\"threshold\": 0.9909999966621399, \"p\": 28041, \"fpr\": 0.027235161532682194, \"tpr\": 0.60179736813951, \"n\": 5324}, {\"threshold\": 0.9919999837875366, \"p\": 28041, \"fpr\": 0.025920360631104433, \"tpr\": 0.587746514033023, \"n\": 5324}, {\"threshold\": 0.9929999709129333, \"p\": 28041, \"fpr\": 0.023854244928625094, \"tpr\": 0.5725901358724724, \"n\": 5324}, {\"threshold\": 0.9940000176429749, \"p\": 28041, \"fpr\": 0.022163786626596543, \"tpr\": 0.5554723440676153, \"n\": 5324}, {\"threshold\": 0.9950000047683716, \"p\": 28041, \"fpr\": 0.021036814425244178, \"tpr\": 0.5331122285225206, \"n\": 5324}, {\"threshold\": 0.9959999918937683, \"p\": 28041, \"fpr\": 0.019534184823441023, \"tpr\": 0.5060090581648301, \"n\": 5324}, {\"threshold\": 0.996999979019165, \"p\": 28041, \"fpr\": 0.017468069120961684, \"tpr\": 0.47280767447665917, \"n\": 5324}, {\"threshold\": 0.9980000257492065, \"p\": 28041, \"fpr\": 0.014462809917355372, \"tpr\": 0.42823009165151027, \"n\": 5324}, {\"threshold\": 0.9990000128746033, \"p\": 28041, \"fpr\": 0.010706235912847483, \"tpr\": 0.35911700723939943, \"n\": 5324}, {\"threshold\": 1.0, \"p\": 28041, \"fpr\": 0.0, \"tpr\": 0.0, \"n\": 5324}]}]]}, e);\n",
       "                });\n",
       "            })();\n",
       "        "
      ]
     },
     "metadata": {},
     "output_type": "display_data"
    }
   ],
   "source": [
    "sentiment_model.show(view='Evaluation')"
   ]
  },
  {
   "cell_type": "markdown",
   "metadata": {},
   "source": [
    "#Applying the learned model to understand sentiment for Giraffe"
   ]
  },
  {
   "cell_type": "code",
   "execution_count": 205,
   "metadata": {
    "collapsed": true
   },
   "outputs": [],
   "source": [
    "giraffe_reviews['predicted_sentiment'] = sentiment_model.predict(giraffe_reviews, output_type='probability')"
   ]
  },
  {
   "cell_type": "code",
   "execution_count": 28,
   "metadata": {
    "collapsed": false
   },
   "outputs": [
    {
     "data": {
      "text/html": [
       "<div style=\"max-height:1000px;max-width:1500px;overflow:auto;\"><table frame=\"box\" rules=\"cols\">\n",
       "    <tr>\n",
       "        <th style=\"padding-left: 1em; padding-right: 1em; text-align: center\">name</th>\n",
       "        <th style=\"padding-left: 1em; padding-right: 1em; text-align: center\">review</th>\n",
       "        <th style=\"padding-left: 1em; padding-right: 1em; text-align: center\">rating</th>\n",
       "        <th style=\"padding-left: 1em; padding-right: 1em; text-align: center\">word_count</th>\n",
       "    </tr>\n",
       "    <tr>\n",
       "        <td style=\"padding-left: 1em; padding-right: 1em; text-align: center; vertical-align: top\">Vulli Sophie the Giraffe<br>Teether ...</td>\n",
       "        <td style=\"padding-left: 1em; padding-right: 1em; text-align: center; vertical-align: top\">He likes chewing on all<br>the parts especially the ...</td>\n",
       "        <td style=\"padding-left: 1em; padding-right: 1em; text-align: center; vertical-align: top\">5.0</td>\n",
       "        <td style=\"padding-left: 1em; padding-right: 1em; text-align: center; vertical-align: top\">{'and': 1, 'all': 1,<br>'because': 1, 'it': 1, ...</td>\n",
       "    </tr>\n",
       "    <tr>\n",
       "        <td style=\"padding-left: 1em; padding-right: 1em; text-align: center; vertical-align: top\">Vulli Sophie the Giraffe<br>Teether ...</td>\n",
       "        <td style=\"padding-left: 1em; padding-right: 1em; text-align: center; vertical-align: top\">My son loves this toy and<br>fits great in the diaper ...</td>\n",
       "        <td style=\"padding-left: 1em; padding-right: 1em; text-align: center; vertical-align: top\">5.0</td>\n",
       "        <td style=\"padding-left: 1em; padding-right: 1em; text-align: center; vertical-align: top\">{'and': 1, 'right': 1,<br>'help': 1, 'just': 1, ...</td>\n",
       "    </tr>\n",
       "    <tr>\n",
       "        <td style=\"padding-left: 1em; padding-right: 1em; text-align: center; vertical-align: top\">Vulli Sophie the Giraffe<br>Teether ...</td>\n",
       "        <td style=\"padding-left: 1em; padding-right: 1em; text-align: center; vertical-align: top\">There really should be a<br>large warning on the  ...</td>\n",
       "        <td style=\"padding-left: 1em; padding-right: 1em; text-align: center; vertical-align: top\">1.0</td>\n",
       "        <td style=\"padding-left: 1em; padding-right: 1em; text-align: center; vertical-align: top\">{'and': 2, 'all': 1,<br>'latex.': 1, 'being': 1, ...</td>\n",
       "    </tr>\n",
       "    <tr>\n",
       "        <td style=\"padding-left: 1em; padding-right: 1em; text-align: center; vertical-align: top\">Vulli Sophie the Giraffe<br>Teether ...</td>\n",
       "        <td style=\"padding-left: 1em; padding-right: 1em; text-align: center; vertical-align: top\">All the moms in my moms'<br>group got Sophie for ...</td>\n",
       "        <td style=\"padding-left: 1em; padding-right: 1em; text-align: center; vertical-align: top\">5.0</td>\n",
       "        <td style=\"padding-left: 1em; padding-right: 1em; text-align: center; vertical-align: top\">{'and': 2, 'one!': 1,<br>'all': 1, 'love': 1, ...</td>\n",
       "    </tr>\n",
       "    <tr>\n",
       "        <td style=\"padding-left: 1em; padding-right: 1em; text-align: center; vertical-align: top\">Vulli Sophie the Giraffe<br>Teether ...</td>\n",
       "        <td style=\"padding-left: 1em; padding-right: 1em; text-align: center; vertical-align: top\">I was a little skeptical<br>on whether Sophie was ...</td>\n",
       "        <td style=\"padding-left: 1em; padding-right: 1em; text-align: center; vertical-align: top\">5.0</td>\n",
       "        <td style=\"padding-left: 1em; padding-right: 1em; text-align: center; vertical-align: top\">{'and': 3, 'all': 1,<br>'old': 1, 'her.': 1, ...</td>\n",
       "    </tr>\n",
       "    <tr>\n",
       "        <td style=\"padding-left: 1em; padding-right: 1em; text-align: center; vertical-align: top\">Vulli Sophie the Giraffe<br>Teether ...</td>\n",
       "        <td style=\"padding-left: 1em; padding-right: 1em; text-align: center; vertical-align: top\">I have been reading about<br>Sophie and was going  ...</td>\n",
       "        <td style=\"padding-left: 1em; padding-right: 1em; text-align: center; vertical-align: top\">5.0</td>\n",
       "        <td style=\"padding-left: 1em; padding-right: 1em; text-align: center; vertical-align: top\">{'and': 6, 'seven': 1,<br>'already': 1, 'love': 1, ...</td>\n",
       "    </tr>\n",
       "    <tr>\n",
       "        <td style=\"padding-left: 1em; padding-right: 1em; text-align: center; vertical-align: top\">Vulli Sophie the Giraffe<br>Teether ...</td>\n",
       "        <td style=\"padding-left: 1em; padding-right: 1em; text-align: center; vertical-align: top\">My neice loves her sophie<br>and has spent hours ...</td>\n",
       "        <td style=\"padding-left: 1em; padding-right: 1em; text-align: center; vertical-align: top\">5.0</td>\n",
       "        <td style=\"padding-left: 1em; padding-right: 1em; text-align: center; vertical-align: top\">{'and': 4, 'drooling,':<br>1, 'love': 1, 'her.': 1, ...</td>\n",
       "    </tr>\n",
       "    <tr>\n",
       "        <td style=\"padding-left: 1em; padding-right: 1em; text-align: center; vertical-align: top\">Vulli Sophie the Giraffe<br>Teether ...</td>\n",
       "        <td style=\"padding-left: 1em; padding-right: 1em; text-align: center; vertical-align: top\">What a friendly face!<br>And those mesmerizing ...</td>\n",
       "        <td style=\"padding-left: 1em; padding-right: 1em; text-align: center; vertical-align: top\">5.0</td>\n",
       "        <td style=\"padding-left: 1em; padding-right: 1em; text-align: center; vertical-align: top\">{'and': 3, 'chew': 1,<br>\"don't\": 1, 'is': 1, ...</td>\n",
       "    </tr>\n",
       "    <tr>\n",
       "        <td style=\"padding-left: 1em; padding-right: 1em; text-align: center; vertical-align: top\">Vulli Sophie the Giraffe<br>Teether ...</td>\n",
       "        <td style=\"padding-left: 1em; padding-right: 1em; text-align: center; vertical-align: top\">We got this just for my<br>son to chew on instea ...</td>\n",
       "        <td style=\"padding-left: 1em; padding-right: 1em; text-align: center; vertical-align: top\">5.0</td>\n",
       "        <td style=\"padding-left: 1em; padding-right: 1em; text-align: center; vertical-align: top\">{'chew': 2, 'because': 1,<br>'just': 2, 'what': 1, ...</td>\n",
       "    </tr>\n",
       "    <tr>\n",
       "        <td style=\"padding-left: 1em; padding-right: 1em; text-align: center; vertical-align: top\">Vulli Sophie the Giraffe<br>Teether ...</td>\n",
       "        <td style=\"padding-left: 1em; padding-right: 1em; text-align: center; vertical-align: top\">My baby seems to like<br>this toy, but I could ...</td>\n",
       "        <td style=\"padding-left: 1em; padding-right: 1em; text-align: center; vertical-align: top\">3.0</td>\n",
       "        <td style=\"padding-left: 1em; padding-right: 1em; text-align: center; vertical-align: top\">{'and': 2, 'already': 1,<br>'in': 1, 'some': 1, ' ...</td>\n",
       "    </tr>\n",
       "</table>\n",
       "<table frame=\"box\" rules=\"cols\">\n",
       "    <tr>\n",
       "        <th style=\"padding-left: 1em; padding-right: 1em; text-align: center\">ngram_count</th>\n",
       "        <th style=\"padding-left: 1em; padding-right: 1em; text-align: center\">predicted_sentiment</th>\n",
       "    </tr>\n",
       "    <tr>\n",
       "        <td style=\"padding-left: 1em; padding-right: 1em; text-align: center; vertical-align: top\">{'head and': 1, 'it has':<br>1, 'been cranky': 1, 'he ...</td>\n",
       "        <td style=\"padding-left: 1em; padding-right: 1em; text-align: center; vertical-align: top\">0.999513023521</td>\n",
       "    </tr>\n",
       "    <tr>\n",
       "        <td style=\"padding-left: 1em; padding-right: 1em; text-align: center; vertical-align: top\">{'him when': 1, 'this<br>toy': 1, 'water seems': ...</td>\n",
       "        <td style=\"padding-left: 1em; padding-right: 1em; text-align: center; vertical-align: top\">0.999320678306</td>\n",
       "    </tr>\n",
       "    <tr>\n",
       "        <td style=\"padding-left: 1em; padding-right: 1em; text-align: center; vertical-align: top\">{'large warning': 1, 'was<br>no': 1, 'idea for': 1, ...</td>\n",
       "        <td style=\"padding-left: 1em; padding-right: 1em; text-align: center; vertical-align: top\">0.013558811687</td>\n",
       "    </tr>\n",
       "    <tr>\n",
       "        <td style=\"padding-left: 1em; padding-right: 1em; text-align: center; vertical-align: top\">{'got one': 1, 'and got':<br>1, 'ever lost': 1, 'and ...</td>\n",
       "        <td style=\"padding-left: 1em; padding-right: 1em; text-align: center; vertical-align: top\">0.995769474148</td>\n",
       "    </tr>\n",
       "    <tr>\n",
       "        <td style=\"padding-left: 1em; padding-right: 1em; text-align: center; vertical-align: top\">{'it arrived': 1, 'and<br>buy': 1, 'rather or': 1, ...</td>\n",
       "        <td style=\"padding-left: 1em; padding-right: 1em; text-align: center; vertical-align: top\">0.662374415673</td>\n",
       "    </tr>\n",
       "    <tr>\n",
       "        <td style=\"padding-left: 1em; padding-right: 1em; text-align: center; vertical-align: top\">{'on her': 1, 'our baby':<br>1, 'her the': 1, 'we  ...</td>\n",
       "        <td style=\"padding-left: 1em; padding-right: 1em; text-align: center; vertical-align: top\">0.999997148186</td>\n",
       "    </tr>\n",
       "    <tr>\n",
       "        <td style=\"padding-left: 1em; padding-right: 1em; text-align: center; vertical-align: top\">{'in delight': 1, 'and<br>squeal': 1, 'and ...</td>\n",
       "        <td style=\"padding-left: 1em; padding-right: 1em; text-align: center; vertical-align: top\">0.989190989536</td>\n",
       "    </tr>\n",
       "    <tr>\n",
       "        <td style=\"padding-left: 1em; padding-right: 1em; text-align: center; vertical-align: top\">{'be careful': 1, 'when<br>you': 1, 'water inside': ...</td>\n",
       "        <td style=\"padding-left: 1em; padding-right: 1em; text-align: center; vertical-align: top\">0.999563518413</td>\n",
       "    </tr>\n",
       "    <tr>\n",
       "        <td style=\"padding-left: 1em; padding-right: 1em; text-align: center; vertical-align: top\">{'son to': 1, 'i though':<br>1, 'worn off': 1, 'got ...</td>\n",
       "        <td style=\"padding-left: 1em; padding-right: 1em; text-align: center; vertical-align: top\">0.970160542725</td>\n",
       "    </tr>\n",
       "    <tr>\n",
       "        <td style=\"padding-left: 1em; padding-right: 1em; text-align: center; vertical-align: top\">{'i could': 2, 'this<br>toy': 1, 'would be': 1, ...</td>\n",
       "        <td style=\"padding-left: 1em; padding-right: 1em; text-align: center; vertical-align: top\">0.195367644588</td>\n",
       "    </tr>\n",
       "</table>\n",
       "[10 rows x 6 columns]<br/>\n",
       "</div>"
      ],
      "text/plain": [
       "Columns:\n",
       "\tname\tstr\n",
       "\treview\tstr\n",
       "\trating\tfloat\n",
       "\tword_count\tdict\n",
       "\tngram_count\tdict\n",
       "\tpredicted_sentiment\tfloat\n",
       "\n",
       "Rows: 10\n",
       "\n",
       "Data:\n",
       "+-------------------------------+-------------------------------+--------+\n",
       "|              name             |             review            | rating |\n",
       "+-------------------------------+-------------------------------+--------+\n",
       "| Vulli Sophie the Giraffe T... | He likes chewing on all th... |  5.0   |\n",
       "| Vulli Sophie the Giraffe T... | My son loves this toy and ... |  5.0   |\n",
       "| Vulli Sophie the Giraffe T... | There really should be a l... |  1.0   |\n",
       "| Vulli Sophie the Giraffe T... | All the moms in my moms' g... |  5.0   |\n",
       "| Vulli Sophie the Giraffe T... | I was a little skeptical o... |  5.0   |\n",
       "| Vulli Sophie the Giraffe T... | I have been reading about ... |  5.0   |\n",
       "| Vulli Sophie the Giraffe T... | My neice loves her sophie ... |  5.0   |\n",
       "| Vulli Sophie the Giraffe T... | What a friendly face!  And... |  5.0   |\n",
       "| Vulli Sophie the Giraffe T... | We got this just for my so... |  5.0   |\n",
       "| Vulli Sophie the Giraffe T... | My baby seems to like this... |  3.0   |\n",
       "+-------------------------------+-------------------------------+--------+\n",
       "+-------------------------------+-------------------------------+---------------------+\n",
       "|           word_count          |          ngram_count          | predicted_sentiment |\n",
       "+-------------------------------+-------------------------------+---------------------+\n",
       "| {'and': 1, 'all': 1, 'beca... | {'head and': 1, 'it has': ... |    0.999513023521   |\n",
       "| {'and': 1, 'right': 1, 'he... | {'him when': 1, 'this toy'... |    0.999320678306   |\n",
       "| {'and': 2, 'all': 1, 'late... | {'large warning': 1, 'was ... |    0.013558811687   |\n",
       "| {'and': 2, 'one!': 1, 'all... | {'got one': 1, 'and got': ... |    0.995769474148   |\n",
       "| {'and': 3, 'all': 1, 'old'... | {'it arrived': 1, 'and buy... |    0.662374415673   |\n",
       "| {'and': 6, 'seven': 1, 'al... | {'on her': 1, 'our baby': ... |    0.999997148186   |\n",
       "| {'and': 4, 'drooling,': 1,... | {'in delight': 1, 'and squ... |    0.989190989536   |\n",
       "| {'and': 3, 'chew': 1, \"don... | {'be careful': 1, 'when yo... |    0.999563518413   |\n",
       "| {'chew': 2, 'because': 1, ... | {'son to': 1, 'i though': ... |    0.970160542725   |\n",
       "| {'and': 2, 'already': 1, '... | {'i could': 2, 'this toy':... |    0.195367644588   |\n",
       "+-------------------------------+-------------------------------+---------------------+\n",
       "[10 rows x 6 columns]"
      ]
     },
     "execution_count": 28,
     "metadata": {},
     "output_type": "execute_result"
    }
   ],
   "source": [
    "giraffe_reviews.head()"
   ]
  },
  {
   "cell_type": "markdown",
   "metadata": {},
   "source": [
    "##Sort the reviews based on the predicted sentiment and explore"
   ]
  },
  {
   "cell_type": "code",
   "execution_count": 29,
   "metadata": {
    "collapsed": true
   },
   "outputs": [],
   "source": [
    "giraffe_reviews = giraffe_reviews.sort('predicted_sentiment', ascending=False)"
   ]
  },
  {
   "cell_type": "code",
   "execution_count": 30,
   "metadata": {
    "collapsed": false
   },
   "outputs": [
    {
     "data": {
      "text/html": [
       "<div style=\"max-height:1000px;max-width:1500px;overflow:auto;\"><table frame=\"box\" rules=\"cols\">\n",
       "    <tr>\n",
       "        <th style=\"padding-left: 1em; padding-right: 1em; text-align: center\">name</th>\n",
       "        <th style=\"padding-left: 1em; padding-right: 1em; text-align: center\">review</th>\n",
       "        <th style=\"padding-left: 1em; padding-right: 1em; text-align: center\">rating</th>\n",
       "        <th style=\"padding-left: 1em; padding-right: 1em; text-align: center\">word_count</th>\n",
       "    </tr>\n",
       "    <tr>\n",
       "        <td style=\"padding-left: 1em; padding-right: 1em; text-align: center; vertical-align: top\">Vulli Sophie the Giraffe<br>Teether ...</td>\n",
       "        <td style=\"padding-left: 1em; padding-right: 1em; text-align: center; vertical-align: top\">Sophie, oh Sophie, your<br>time has come. My ...</td>\n",
       "        <td style=\"padding-left: 1em; padding-right: 1em; text-align: center; vertical-align: top\">5.0</td>\n",
       "        <td style=\"padding-left: 1em; padding-right: 1em; text-align: center; vertical-align: top\">{'giggles': 1, 'all': 1,<br>\"violet's\": 2, 'food' ...</td>\n",
       "    </tr>\n",
       "    <tr>\n",
       "        <td style=\"padding-left: 1em; padding-right: 1em; text-align: center; vertical-align: top\">Vulli Sophie the Giraffe<br>Teether ...</td>\n",
       "        <td style=\"padding-left: 1em; padding-right: 1em; text-align: center; vertical-align: top\">I'm not sure why Sophie<br>is such a hit with the ...</td>\n",
       "        <td style=\"padding-left: 1em; padding-right: 1em; text-align: center; vertical-align: top\">4.0</td>\n",
       "        <td style=\"padding-left: 1em; padding-right: 1em; text-align: center; vertical-align: top\">{'peace': 1, 'month': 1,<br>'bright': 1, 'softer' ...</td>\n",
       "    </tr>\n",
       "    <tr>\n",
       "        <td style=\"padding-left: 1em; padding-right: 1em; text-align: center; vertical-align: top\">Vulli Sophie the Giraffe<br>Teether ...</td>\n",
       "        <td style=\"padding-left: 1em; padding-right: 1em; text-align: center; vertical-align: top\">I'll be honest...I bought<br>this toy because all the ...</td>\n",
       "        <td style=\"padding-left: 1em; padding-right: 1em; text-align: center; vertical-align: top\">4.0</td>\n",
       "        <td style=\"padding-left: 1em; padding-right: 1em; text-align: center; vertical-align: top\">{'all': 2, 'pops': 1,<br>'existence.': 1, ...</td>\n",
       "    </tr>\n",
       "    <tr>\n",
       "        <td style=\"padding-left: 1em; padding-right: 1em; text-align: center; vertical-align: top\">Vulli Sophie the Giraffe<br>Teether ...</td>\n",
       "        <td style=\"padding-left: 1em; padding-right: 1em; text-align: center; vertical-align: top\">We got this little<br>giraffe as a gift from a ...</td>\n",
       "        <td style=\"padding-left: 1em; padding-right: 1em; text-align: center; vertical-align: top\">5.0</td>\n",
       "        <td style=\"padding-left: 1em; padding-right: 1em; text-align: center; vertical-align: top\">{'all': 2, \"don't\": 1,<br>'(literally).so': 1, ...</td>\n",
       "    </tr>\n",
       "    <tr>\n",
       "        <td style=\"padding-left: 1em; padding-right: 1em; text-align: center; vertical-align: top\">Vulli Sophie the Giraffe<br>Teether ...</td>\n",
       "        <td style=\"padding-left: 1em; padding-right: 1em; text-align: center; vertical-align: top\">As a mother of 16month<br>old twins; I bought ...</td>\n",
       "        <td style=\"padding-left: 1em; padding-right: 1em; text-align: center; vertical-align: top\">5.0</td>\n",
       "        <td style=\"padding-left: 1em; padding-right: 1em; text-align: center; vertical-align: top\">{'cute': 1, 'all': 1,<br>'reviews.': 2, 'just' ...</td>\n",
       "    </tr>\n",
       "    <tr>\n",
       "        <td style=\"padding-left: 1em; padding-right: 1em; text-align: center; vertical-align: top\">Vulli Sophie the Giraffe<br>Teether ...</td>\n",
       "        <td style=\"padding-left: 1em; padding-right: 1em; text-align: center; vertical-align: top\">Sophie the Giraffe is the<br>perfect teething toy. ...</td>\n",
       "        <td style=\"padding-left: 1em; padding-right: 1em; text-align: center; vertical-align: top\">5.0</td>\n",
       "        <td style=\"padding-left: 1em; padding-right: 1em; text-align: center; vertical-align: top\">{'just': 2, 'both': 1,<br>'month': 1, 'ears,': 1, ...</td>\n",
       "    </tr>\n",
       "    <tr>\n",
       "        <td style=\"padding-left: 1em; padding-right: 1em; text-align: center; vertical-align: top\">Vulli Sophie the Giraffe<br>Teether ...</td>\n",
       "        <td style=\"padding-left: 1em; padding-right: 1em; text-align: center; vertical-align: top\">Sophie la giraffe is<br>absolutely the best toy ...</td>\n",
       "        <td style=\"padding-left: 1em; padding-right: 1em; text-align: center; vertical-align: top\">5.0</td>\n",
       "        <td style=\"padding-left: 1em; padding-right: 1em; text-align: center; vertical-align: top\">{'and': 5, 'the': 1,<br>'all': 1, 'that': 2, ...</td>\n",
       "    </tr>\n",
       "    <tr>\n",
       "        <td style=\"padding-left: 1em; padding-right: 1em; text-align: center; vertical-align: top\">Vulli Sophie the Giraffe<br>Teether ...</td>\n",
       "        <td style=\"padding-left: 1em; padding-right: 1em; text-align: center; vertical-align: top\">My 5-mos old son took to<br>this immediately. The ...</td>\n",
       "        <td style=\"padding-left: 1em; padding-right: 1em; text-align: center; vertical-align: top\">5.0</td>\n",
       "        <td style=\"padding-left: 1em; padding-right: 1em; text-align: center; vertical-align: top\">{'just': 1, 'shape': 2,<br>'mutt': 1, '\"dog': 1, ...</td>\n",
       "    </tr>\n",
       "    <tr>\n",
       "        <td style=\"padding-left: 1em; padding-right: 1em; text-align: center; vertical-align: top\">Vulli Sophie the Giraffe<br>Teether ...</td>\n",
       "        <td style=\"padding-left: 1em; padding-right: 1em; text-align: center; vertical-align: top\">My nephews and my four<br>kids all had Sophie in ...</td>\n",
       "        <td style=\"padding-left: 1em; padding-right: 1em; text-align: center; vertical-align: top\">5.0</td>\n",
       "        <td style=\"padding-left: 1em; padding-right: 1em; text-align: center; vertical-align: top\">{'and': 4, 'chew': 1,<br>'all': 1, 'perfect;': 1, ...</td>\n",
       "    </tr>\n",
       "    <tr>\n",
       "        <td style=\"padding-left: 1em; padding-right: 1em; text-align: center; vertical-align: top\">Vulli Sophie the Giraffe<br>Teether ...</td>\n",
       "        <td style=\"padding-left: 1em; padding-right: 1em; text-align: center; vertical-align: top\">Never thought I'd see my<br>son French kissing a ...</td>\n",
       "        <td style=\"padding-left: 1em; padding-right: 1em; text-align: center; vertical-align: top\">5.0</td>\n",
       "        <td style=\"padding-left: 1em; padding-right: 1em; text-align: center; vertical-align: top\">{'giggles': 1, 'all': 1,<br>'out,': 1, 'over': 1, ...</td>\n",
       "    </tr>\n",
       "</table>\n",
       "<table frame=\"box\" rules=\"cols\">\n",
       "    <tr>\n",
       "        <th style=\"padding-left: 1em; padding-right: 1em; text-align: center\">ngram_count</th>\n",
       "        <th style=\"padding-left: 1em; padding-right: 1em; text-align: center\">predicted_sentiment</th>\n",
       "    </tr>\n",
       "    <tr>\n",
       "        <td style=\"padding-left: 1em; padding-right: 1em; text-align: center; vertical-align: top\">{'know the': 1, 'what<br>joy': 1, 'grasp and': 1, ...</td>\n",
       "        <td style=\"padding-left: 1em; padding-right: 1em; text-align: center; vertical-align: top\">1.0</td>\n",
       "    </tr>\n",
       "    <tr>\n",
       "        <td style=\"padding-left: 1em; padding-right: 1em; text-align: center; vertical-align: top\">{'on her': 2, 'her not':<br>1, 'is such': 1, 'new ...</td>\n",
       "        <td style=\"padding-left: 1em; padding-right: 1em; text-align: center; vertical-align: top\">0.999999999703</td>\n",
       "    </tr>\n",
       "    <tr>\n",
       "        <td style=\"padding-left: 1em; padding-right: 1em; text-align: center; vertical-align: top\">{'one to': 1, 'they<br>explore': 1, 'been far': ...</td>\n",
       "        <td style=\"padding-left: 1em; padding-right: 1em; text-align: center; vertical-align: top\">0.999999999392</td>\n",
       "    </tr>\n",
       "    <tr>\n",
       "        <td style=\"padding-left: 1em; padding-right: 1em; text-align: center; vertical-align: top\">{'with it': 1, 'it in':<br>1, 'babies with': 1,  ...</td>\n",
       "        <td style=\"padding-left: 1em; padding-right: 1em; text-align: center; vertical-align: top\">0.99999999919</td>\n",
       "    </tr>\n",
       "    <tr>\n",
       "        <td style=\"padding-left: 1em; padding-right: 1em; text-align: center; vertical-align: top\">{'on her': 3, 'are<br>wondering': 1, 'face ...</td>\n",
       "        <td style=\"padding-left: 1em; padding-right: 1em; text-align: center; vertical-align: top\">0.999999998657</td>\n",
       "    </tr>\n",
       "    <tr>\n",
       "        <td style=\"padding-left: 1em; padding-right: 1em; text-align: center; vertical-align: top\">{'on her': 1, 'expensive<br>after': 1, 'the most' ...</td>\n",
       "        <td style=\"padding-left: 1em; padding-right: 1em; text-align: center; vertical-align: top\">0.999999997108</td>\n",
       "    </tr>\n",
       "    <tr>\n",
       "        <td style=\"padding-left: 1em; padding-right: 1em; text-align: center; vertical-align: top\">{'if you': 1, 'time he':<br>1, 'old pictures': 1, ...</td>\n",
       "        <td style=\"padding-left: 1em; padding-right: 1em; text-align: center; vertical-align: top\">0.999999995589</td>\n",
       "    </tr>\n",
       "    <tr>\n",
       "        <td style=\"padding-left: 1em; padding-right: 1em; text-align: center; vertical-align: top\">{'to wait': 1, 'it in':<br>1, 'but we': 1, 'darling ...</td>\n",
       "        <td style=\"padding-left: 1em; padding-right: 1em; text-align: center; vertical-align: top\">0.999999995573</td>\n",
       "    </tr>\n",
       "    <tr>\n",
       "        <td style=\"padding-left: 1em; padding-right: 1em; text-align: center; vertical-align: top\">{'all had': 1, 'kids<br>all': 1, 'sophie hasn': ...</td>\n",
       "        <td style=\"padding-left: 1em; padding-right: 1em; text-align: center; vertical-align: top\">0.999999989527</td>\n",
       "    </tr>\n",
       "    <tr>\n",
       "        <td style=\"padding-left: 1em; padding-right: 1em; text-align: center; vertical-align: top\">{'gets from': 1,<br>'teething furiously': 1, ...</td>\n",
       "        <td style=\"padding-left: 1em; padding-right: 1em; text-align: center; vertical-align: top\">0.999999985069</td>\n",
       "    </tr>\n",
       "</table>\n",
       "[10 rows x 6 columns]<br/>\n",
       "</div>"
      ],
      "text/plain": [
       "Columns:\n",
       "\tname\tstr\n",
       "\treview\tstr\n",
       "\trating\tfloat\n",
       "\tword_count\tdict\n",
       "\tngram_count\tdict\n",
       "\tpredicted_sentiment\tfloat\n",
       "\n",
       "Rows: 10\n",
       "\n",
       "Data:\n",
       "+-------------------------------+-------------------------------+--------+\n",
       "|              name             |             review            | rating |\n",
       "+-------------------------------+-------------------------------+--------+\n",
       "| Vulli Sophie the Giraffe T... | Sophie, oh Sophie, your ti... |  5.0   |\n",
       "| Vulli Sophie the Giraffe T... | I'm not sure why Sophie is... |  4.0   |\n",
       "| Vulli Sophie the Giraffe T... | I'll be honest...I bought ... |  4.0   |\n",
       "| Vulli Sophie the Giraffe T... | We got this little giraffe... |  5.0   |\n",
       "| Vulli Sophie the Giraffe T... | As a mother of 16month old... |  5.0   |\n",
       "| Vulli Sophie the Giraffe T... | Sophie the Giraffe is the ... |  5.0   |\n",
       "| Vulli Sophie the Giraffe T... | Sophie la giraffe is absol... |  5.0   |\n",
       "| Vulli Sophie the Giraffe T... | My 5-mos old son took to t... |  5.0   |\n",
       "| Vulli Sophie the Giraffe T... | My nephews and my four kid... |  5.0   |\n",
       "| Vulli Sophie the Giraffe T... | Never thought I'd see my s... |  5.0   |\n",
       "+-------------------------------+-------------------------------+--------+\n",
       "+-------------------------------+-------------------------------+---------------------+\n",
       "|           word_count          |          ngram_count          | predicted_sentiment |\n",
       "+-------------------------------+-------------------------------+---------------------+\n",
       "| {'giggles': 1, 'all': 1, \"... | {'know the': 1, 'what joy'... |         1.0         |\n",
       "| {'peace': 1, 'month': 1, '... | {'on her': 2, 'her not': 1... |    0.999999999703   |\n",
       "| {'all': 2, 'pops': 1, 'exi... | {'one to': 1, 'they explor... |    0.999999999392   |\n",
       "| {'all': 2, \"don't\": 1, '(l... | {'with it': 1, 'it in': 1,... |    0.99999999919    |\n",
       "| {'cute': 1, 'all': 1, 'rev... | {'on her': 3, 'are wonderi... |    0.999999998657   |\n",
       "| {'just': 2, 'both': 1, 'mo... | {'on her': 1, 'expensive a... |    0.999999997108   |\n",
       "| {'and': 5, 'the': 1, 'all'... | {'if you': 1, 'time he': 1... |    0.999999995589   |\n",
       "| {'just': 1, 'shape': 2, 'm... | {'to wait': 1, 'it in': 1,... |    0.999999995573   |\n",
       "| {'and': 4, 'chew': 1, 'all... | {'all had': 1, 'kids all':... |    0.999999989527   |\n",
       "| {'giggles': 1, 'all': 1, '... | {'gets from': 1, 'teething... |    0.999999985069   |\n",
       "+-------------------------------+-------------------------------+---------------------+\n",
       "[10 rows x 6 columns]"
      ]
     },
     "execution_count": 30,
     "metadata": {},
     "output_type": "execute_result"
    }
   ],
   "source": [
    "giraffe_reviews.head()"
   ]
  },
  {
   "cell_type": "markdown",
   "metadata": {},
   "source": [
    "##Most positive reviews for the giraffe"
   ]
  },
  {
   "cell_type": "code",
   "execution_count": 22,
   "metadata": {
    "collapsed": false
   },
   "outputs": [
    {
     "data": {
      "text/plain": [
       "\"Sophie, oh Sophie, your time has come. My granddaughter, Violet is 5 months old and starting to teeth. What joy little Sophie brings to Violet. Sophie is made of a very pliable rubber that is sturdy but not tough. It is quite easy for Violet to twist Sophie into unheard of positions to get Sophie into her mouth. The little nose and hooves fit perfectly into small mouths, and the drooling has purpose. The paint on Sophie is food quality.Sophie was born in 1961 in France. The maker had wondered why there was nothing available for babies and made Sophie from the finest rubber, phthalate-free on St Sophie's Day, thus the name was born. Since that time millions of Sophie's populate the world. She is soft and for babies little hands easy to grasp. Violet especially loves the bumpy head and horns of Sophie. Sophie has a long neck that easy to grasp and twist. She has lovely, sizable spots that attract Violet's attention. Sophie has happy little squeaks that bring squeals of delight from Violet. She is able to make Sophie squeak and that brings much joy. Sophie's smooth skin is soothing to Violet's little gums. Sophie is 7 inches tall and is the exact correct size for babies to hold and love.As you well know the first thing babies grasp, goes into their mouths- how wonderful to have a toy that stimulates all of the senses and helps with the issue of teething. Sophie is small enough to fit into any size pocket or bag. Sophie is the perfect find for babies from a few months to a year old. How wonderful to hear the giggles and laughs that emanate from babies who find Sophie irresistible. Viva La Sophie!Highly Recommended.  prisrob 12-11-09\""
      ]
     },
     "execution_count": 22,
     "metadata": {},
     "output_type": "execute_result"
    }
   ],
   "source": [
    "giraffe_reviews[0]['review']"
   ]
  },
  {
   "cell_type": "code",
   "execution_count": 23,
   "metadata": {
    "collapsed": false
   },
   "outputs": [
    {
     "data": {
      "text/plain": [
       "\"I'm not sure why Sophie is such a hit with the little ones, but my 7 month old baby girl is one of her adoring fans.  The rubber is softer and more pleasant to handle, and my daughter has enjoyed chewing on her legs and the nubs on her head even before she started teething.  She also loves the squeak that Sophie makes when you squeeze her.  Not sure what it is but if Sophie is amongst a pile of her other toys, my daughter will more often than not reach for Sophie.  And I have the peace of mind of knowing that only edible and safe paints and materials have been used to make Sophie, as opposed to Bright Starts and other baby toys made in China.  Now that the research is out on phthalates and other toxic substances in baby toys, I think it's more important than ever to find good quality toys that are also safe for our babies to handle and put in their mouths.  Sophie is a must-have for every new mom in my opinion.  Even if your kid is one of the few that can take or leave her, it's worth a try.  Vulli, the makers of Sophie, also make natural rubber teething rings that my daughter loves as well.\""
      ]
     },
     "execution_count": 23,
     "metadata": {},
     "output_type": "execute_result"
    }
   ],
   "source": [
    "giraffe_reviews[1]['review']"
   ]
  },
  {
   "cell_type": "markdown",
   "metadata": {},
   "source": [
    "##Show most negative reviews for giraffe"
   ]
  },
  {
   "cell_type": "code",
   "execution_count": 24,
   "metadata": {
    "collapsed": false
   },
   "outputs": [
    {
     "data": {
      "text/plain": [
       "\"My son (now 2.5) LOVED his Sophie, and I bought one for every baby shower I've gone to. Now, my daughter (6 months) just today nearly choked on it and I will never give it to her again. Had I not been within hearing range it could have been fatal. The strange sound she was making caught my attention and when I went to her and found the front curved leg shoved well down her throat and her face a purply/blue I panicked. I pulled it out and she vomited all over the carpet before screaming her head off. I can't believe how my opinion of this toy has changed from a must-have to a must-not-use. Please don't disregard any of the choking hazard comments, they are not over exaggerated!\""
      ]
     },
     "execution_count": 24,
     "metadata": {},
     "output_type": "execute_result"
    }
   ],
   "source": [
    "giraffe_reviews[-1]['review']"
   ]
  },
  {
   "cell_type": "code",
   "execution_count": 25,
   "metadata": {
    "collapsed": false
   },
   "outputs": [
    {
     "data": {
      "text/plain": [
       "\"This children's toy is nostalgic and very cute. However, there is a distinct rubber smell and a very odd taste, yes I tried it, that my baby did not enjoy. Also, if it is soiled it is extremely difficult to clean as the rubber is a kind of porus material and does not clean well. The final thing is the squeaking device inside which stopped working after the first couple of days. I returned this item feeling I had overpaid for a toy that was defective and did not meet my expectations. Please do not be swayed by the cute packaging and hype surounding it as I was. One more thing, I was given a full refund from Amazon without any problem.\""
      ]
     },
     "execution_count": 25,
     "metadata": {},
     "output_type": "execute_result"
    }
   ],
   "source": [
    "giraffe_reviews[-2]['review']"
   ]
  },
  {
   "cell_type": "markdown",
   "metadata": {
    "collapsed": true
   },
   "source": [
    "## Building awesome count function"
   ]
  },
  {
   "cell_type": "code",
   "execution_count": null,
   "metadata": {
    "collapsed": false
   },
   "outputs": [],
   "source": [
    "## Just trying things\n",
    "dicts = products['word_count'][0:5]\n",
    "#print dicts\n",
    "c = 'to'\n",
    "for dict in dicts:\n",
    "    print dict\n",
    "    if c in dict:\n",
    "        print dict[c]\n",
    "    else:\n",
    "        print 0\n",
    "        "
   ]
  },
  {
   "cell_type": "code",
   "execution_count": null,
   "metadata": {
    "collapsed": false
   },
   "outputs": [],
   "source": [
    "def awesome_count(dicts):\n",
    "    \"\"\"\" Count the number of occurence of the word Awesome on the dict\"\"\"\n",
    "    #print dicts\n",
    "    c = 'to'\n",
    "    result = 0\n",
    "    for dict in dicts:\n",
    "        while dict:\n",
    "            if c in dict:\n",
    "                retrun dict[c]\n",
    "                result = dict[c]\n",
    "            else:\n",
    "                return 0\n",
    "                result = 0\n",
    "                \n",
    "            return result\n",
    "        \n",
    "    "
   ]
  },
  {
   "cell_type": "code",
   "execution_count": null,
   "metadata": {
    "collapsed": false
   },
   "outputs": [],
   "source": [
    "print awesome_count(dicts)"
   ]
  },
  {
   "cell_type": "code",
   "execution_count": null,
   "metadata": {
    "collapsed": false
   },
   "outputs": [],
   "source": [
    "print dicts[0]['and']"
   ]
  },
  {
   "cell_type": "markdown",
   "metadata": {},
   "source": [
    "## Buildind the awesome feature column"
   ]
  },
  {
   "cell_type": "code",
   "execution_count": 267,
   "metadata": {
    "collapsed": false
   },
   "outputs": [
    {
     "name": "stdout",
     "output_type": "stream",
     "text": [
      "and\n",
      "#\n"
     ]
    },
    {
     "ename": "TypeError",
     "evalue": "string indices must be integers, not str",
     "output_type": "error",
     "traceback": [
      "\u001b[1;31m---------------------------------------------------------------------------\u001b[0m",
      "\u001b[1;31mTypeError\u001b[0m                                 Traceback (most recent call last)",
      "\u001b[1;32m<ipython-input-267-015c1560e4f6>\u001b[0m in \u001b[0;36m<module>\u001b[1;34m()\u001b[0m\n\u001b[1;32m----> 1\u001b[1;33m \u001b[0mproducts\u001b[0m\u001b[1;33m[\u001b[0m\u001b[1;34m'awesome'\u001b[0m\u001b[1;33m]\u001b[0m \u001b[1;33m=\u001b[0m \u001b[0mproducts\u001b[0m\u001b[1;33m[\u001b[0m\u001b[1;34m'word_count'\u001b[0m\u001b[1;33m]\u001b[0m\u001b[1;33m.\u001b[0m\u001b[0mapply\u001b[0m\u001b[1;33m(\u001b[0m\u001b[0mawesome_count\u001b[0m\u001b[1;33m)\u001b[0m\u001b[1;33m\u001b[0m\u001b[0m\n\u001b[0m",
      "\u001b[1;32m/home/zax/anaconda/lib/python2.7/site-packages/graphlab/data_structures/sarray.pyc\u001b[0m in \u001b[0;36mapply\u001b[1;34m(self, fn, dtype, skip_undefined, seed)\u001b[0m\n\u001b[0;32m   1600\u001b[0m         \u001b[1;32massert\u001b[0m \u001b[0mcallable\u001b[0m\u001b[1;33m(\u001b[0m\u001b[0mfn\u001b[0m\u001b[1;33m)\u001b[0m\u001b[1;33m,\u001b[0m \u001b[1;34m\"Input function must be callable.\"\u001b[0m\u001b[1;33m\u001b[0m\u001b[0m\n\u001b[0;32m   1601\u001b[0m \u001b[1;33m\u001b[0m\u001b[0m\n\u001b[1;32m-> 1602\u001b[1;33m         \u001b[0mdryrun\u001b[0m \u001b[1;33m=\u001b[0m \u001b[1;33m[\u001b[0m\u001b[0mfn\u001b[0m\u001b[1;33m(\u001b[0m\u001b[0mi\u001b[0m\u001b[1;33m)\u001b[0m \u001b[1;32mfor\u001b[0m \u001b[0mi\u001b[0m \u001b[1;32min\u001b[0m \u001b[0mself\u001b[0m\u001b[1;33m.\u001b[0m\u001b[0mhead\u001b[0m\u001b[1;33m(\u001b[0m\u001b[1;36m100\u001b[0m\u001b[1;33m)\u001b[0m \u001b[1;32mif\u001b[0m \u001b[0mi\u001b[0m \u001b[1;32mis\u001b[0m \u001b[1;32mnot\u001b[0m \u001b[0mNone\u001b[0m\u001b[1;33m]\u001b[0m\u001b[1;33m\u001b[0m\u001b[0m\n\u001b[0m\u001b[0;32m   1603\u001b[0m         \u001b[1;32mif\u001b[0m \u001b[0mdtype\u001b[0m \u001b[1;33m==\u001b[0m \u001b[0mNone\u001b[0m\u001b[1;33m:\u001b[0m\u001b[1;33m\u001b[0m\u001b[0m\n\u001b[0;32m   1604\u001b[0m             \u001b[0mdtype\u001b[0m \u001b[1;33m=\u001b[0m \u001b[0minfer_type_of_list\u001b[0m\u001b[1;33m(\u001b[0m\u001b[0mdryrun\u001b[0m\u001b[1;33m)\u001b[0m\u001b[1;33m\u001b[0m\u001b[0m\n",
      "\u001b[1;32m<ipython-input-264-2eef489c6b61>\u001b[0m in \u001b[0;36mawesome_count\u001b[1;34m(dictionary)\u001b[0m\n\u001b[0;32m      7\u001b[0m         \u001b[1;32mfor\u001b[0m \u001b[0mword\u001b[0m \u001b[1;32min\u001b[0m \u001b[0mreview\u001b[0m\u001b[1;33m:\u001b[0m\u001b[1;33m\u001b[0m\u001b[0m\n\u001b[0;32m      8\u001b[0m             \u001b[1;32mif\u001b[0m \u001b[0mword\u001b[0m \u001b[1;32min\u001b[0m \u001b[0mreview\u001b[0m\u001b[1;33m:\u001b[0m\u001b[1;33m\u001b[0m\u001b[0m\n\u001b[1;32m----> 9\u001b[1;33m                 \u001b[1;32mreturn\u001b[0m \u001b[0mreview\u001b[0m\u001b[1;33m[\u001b[0m\u001b[0mword\u001b[0m\u001b[1;33m]\u001b[0m\u001b[1;33m\u001b[0m\u001b[0m\n\u001b[0m\u001b[0;32m     10\u001b[0m                 \u001b[1;32mprint\u001b[0m \u001b[1;34m\"word found\"\u001b[0m\u001b[1;33m\u001b[0m\u001b[0m\n\u001b[0;32m     11\u001b[0m \u001b[1;33m\u001b[0m\u001b[0m\n",
      "\u001b[1;31mTypeError\u001b[0m: string indices must be integers, not str"
     ]
    }
   ],
   "source": [
    "products['awesome'] = products['word_count'].apply(awesome_count)"
   ]
  },
  {
   "cell_type": "code",
   "execution_count": 218,
   "metadata": {
    "collapsed": false
   },
   "outputs": [
    {
     "data": {
      "text/html": [
       "<div style=\"max-height:1000px;max-width:1500px;overflow:auto;\"><table frame=\"box\" rules=\"cols\">\n",
       "    <tr>\n",
       "        <th style=\"padding-left: 1em; padding-right: 1em; text-align: center\">name</th>\n",
       "        <th style=\"padding-left: 1em; padding-right: 1em; text-align: center\">review</th>\n",
       "        <th style=\"padding-left: 1em; padding-right: 1em; text-align: center\">rating</th>\n",
       "        <th style=\"padding-left: 1em; padding-right: 1em; text-align: center\">word_count</th>\n",
       "        <th style=\"padding-left: 1em; padding-right: 1em; text-align: center\">sentiment</th>\n",
       "        <th style=\"padding-left: 1em; padding-right: 1em; text-align: center\">awesome</th>\n",
       "    </tr>\n",
       "    <tr>\n",
       "        <td style=\"padding-left: 1em; padding-right: 1em; text-align: center; vertical-align: top\">Planetwise Wipe Pouch</td>\n",
       "        <td style=\"padding-left: 1em; padding-right: 1em; text-align: center; vertical-align: top\">it came early and was not<br>disappointed. i love ...</td>\n",
       "        <td style=\"padding-left: 1em; padding-right: 1em; text-align: center; vertical-align: top\">5.0</td>\n",
       "        <td style=\"padding-left: 1em; padding-right: 1em; text-align: center; vertical-align: top\">{'and': 3, 'love': 1,<br>'it': 2, 'highly': 1, ...</td>\n",
       "        <td style=\"padding-left: 1em; padding-right: 1em; text-align: center; vertical-align: top\">1</td>\n",
       "        <td style=\"padding-left: 1em; padding-right: 1em; text-align: center; vertical-align: top\">0</td>\n",
       "    </tr>\n",
       "    <tr>\n",
       "        <td style=\"padding-left: 1em; padding-right: 1em; text-align: center; vertical-align: top\">Annas Dream Full Quilt<br>with 2 Shams ...</td>\n",
       "        <td style=\"padding-left: 1em; padding-right: 1em; text-align: center; vertical-align: top\">Very soft and comfortable<br>and warmer than it ...</td>\n",
       "        <td style=\"padding-left: 1em; padding-right: 1em; text-align: center; vertical-align: top\">5.0</td>\n",
       "        <td style=\"padding-left: 1em; padding-right: 1em; text-align: center; vertical-align: top\">{'and': 2, 'quilt': 1,<br>'it': 1, 'comfortable': ...</td>\n",
       "        <td style=\"padding-left: 1em; padding-right: 1em; text-align: center; vertical-align: top\">1</td>\n",
       "        <td style=\"padding-left: 1em; padding-right: 1em; text-align: center; vertical-align: top\">0</td>\n",
       "    </tr>\n",
       "    <tr>\n",
       "        <td style=\"padding-left: 1em; padding-right: 1em; text-align: center; vertical-align: top\">Stop Pacifier Sucking<br>without tears with ...</td>\n",
       "        <td style=\"padding-left: 1em; padding-right: 1em; text-align: center; vertical-align: top\">This is a product well<br>worth the purchase.  I ...</td>\n",
       "        <td style=\"padding-left: 1em; padding-right: 1em; text-align: center; vertical-align: top\">5.0</td>\n",
       "        <td style=\"padding-left: 1em; padding-right: 1em; text-align: center; vertical-align: top\">{'ingenious': 1, 'and':<br>3, 'love': 2, ...</td>\n",
       "        <td style=\"padding-left: 1em; padding-right: 1em; text-align: center; vertical-align: top\">1</td>\n",
       "        <td style=\"padding-left: 1em; padding-right: 1em; text-align: center; vertical-align: top\">0</td>\n",
       "    </tr>\n",
       "    <tr>\n",
       "        <td style=\"padding-left: 1em; padding-right: 1em; text-align: center; vertical-align: top\">Stop Pacifier Sucking<br>without tears with ...</td>\n",
       "        <td style=\"padding-left: 1em; padding-right: 1em; text-align: center; vertical-align: top\">All of my kids have cried<br>non-stop when I tried to ...</td>\n",
       "        <td style=\"padding-left: 1em; padding-right: 1em; text-align: center; vertical-align: top\">5.0</td>\n",
       "        <td style=\"padding-left: 1em; padding-right: 1em; text-align: center; vertical-align: top\">{'and': 2, 'parents!!':<br>1, 'all': 2, 'puppet.': ...</td>\n",
       "        <td style=\"padding-left: 1em; padding-right: 1em; text-align: center; vertical-align: top\">1</td>\n",
       "        <td style=\"padding-left: 1em; padding-right: 1em; text-align: center; vertical-align: top\">0</td>\n",
       "    </tr>\n",
       "    <tr>\n",
       "        <td style=\"padding-left: 1em; padding-right: 1em; text-align: center; vertical-align: top\">Stop Pacifier Sucking<br>without tears with ...</td>\n",
       "        <td style=\"padding-left: 1em; padding-right: 1em; text-align: center; vertical-align: top\">When the Binky Fairy came<br>to our house, we didn't ...</td>\n",
       "        <td style=\"padding-left: 1em; padding-right: 1em; text-align: center; vertical-align: top\">5.0</td>\n",
       "        <td style=\"padding-left: 1em; padding-right: 1em; text-align: center; vertical-align: top\">{'and': 2, 'cute': 1,<br>'help': 2, 'doll': 1, ...</td>\n",
       "        <td style=\"padding-left: 1em; padding-right: 1em; text-align: center; vertical-align: top\">1</td>\n",
       "        <td style=\"padding-left: 1em; padding-right: 1em; text-align: center; vertical-align: top\">0</td>\n",
       "    </tr>\n",
       "    <tr>\n",
       "        <td style=\"padding-left: 1em; padding-right: 1em; text-align: center; vertical-align: top\">A Tale of Baby's Days<br>with Peter Rabbit ...</td>\n",
       "        <td style=\"padding-left: 1em; padding-right: 1em; text-align: center; vertical-align: top\">Lovely book, it's bound<br>tightly so you may no ...</td>\n",
       "        <td style=\"padding-left: 1em; padding-right: 1em; text-align: center; vertical-align: top\">4.0</td>\n",
       "        <td style=\"padding-left: 1em; padding-right: 1em; text-align: center; vertical-align: top\">{'shop': 1, 'be': 1,<br>'is': 1, 'it': 1, 'as': ...</td>\n",
       "        <td style=\"padding-left: 1em; padding-right: 1em; text-align: center; vertical-align: top\">1</td>\n",
       "        <td style=\"padding-left: 1em; padding-right: 1em; text-align: center; vertical-align: top\">0</td>\n",
       "    </tr>\n",
       "    <tr>\n",
       "        <td style=\"padding-left: 1em; padding-right: 1em; text-align: center; vertical-align: top\">Baby Tracker&amp;reg; - Daily<br>Childcare Journal, ...</td>\n",
       "        <td style=\"padding-left: 1em; padding-right: 1em; text-align: center; vertical-align: top\">Perfect for new parents.<br>We were able to keep ...</td>\n",
       "        <td style=\"padding-left: 1em; padding-right: 1em; text-align: center; vertical-align: top\">5.0</td>\n",
       "        <td style=\"padding-left: 1em; padding-right: 1em; text-align: center; vertical-align: top\">{'feeding,': 1, 'and': 2,<br>'all': 1, 'right': 1, ...</td>\n",
       "        <td style=\"padding-left: 1em; padding-right: 1em; text-align: center; vertical-align: top\">1</td>\n",
       "        <td style=\"padding-left: 1em; padding-right: 1em; text-align: center; vertical-align: top\">0</td>\n",
       "    </tr>\n",
       "    <tr>\n",
       "        <td style=\"padding-left: 1em; padding-right: 1em; text-align: center; vertical-align: top\">Baby Tracker&amp;reg; - Daily<br>Childcare Journal, ...</td>\n",
       "        <td style=\"padding-left: 1em; padding-right: 1em; text-align: center; vertical-align: top\">A friend of mine pinned<br>this product on Pinte ...</td>\n",
       "        <td style=\"padding-left: 1em; padding-right: 1em; text-align: center; vertical-align: top\">5.0</td>\n",
       "        <td style=\"padding-left: 1em; padding-right: 1em; text-align: center; vertical-align: top\">{'and': 1, 'help': 1,<br>'give': 1, 'is': 1, ...</td>\n",
       "        <td style=\"padding-left: 1em; padding-right: 1em; text-align: center; vertical-align: top\">1</td>\n",
       "        <td style=\"padding-left: 1em; padding-right: 1em; text-align: center; vertical-align: top\">0</td>\n",
       "    </tr>\n",
       "    <tr>\n",
       "        <td style=\"padding-left: 1em; padding-right: 1em; text-align: center; vertical-align: top\">Baby Tracker&amp;reg; - Daily<br>Childcare Journal, ...</td>\n",
       "        <td style=\"padding-left: 1em; padding-right: 1em; text-align: center; vertical-align: top\">This has been an easy way<br>for my nanny to record ...</td>\n",
       "        <td style=\"padding-left: 1em; padding-right: 1em; text-align: center; vertical-align: top\">4.0</td>\n",
       "        <td style=\"padding-left: 1em; padding-right: 1em; text-align: center; vertical-align: top\">{'journal.': 1, 'all': 1,<br>'standarad': 1, ...</td>\n",
       "        <td style=\"padding-left: 1em; padding-right: 1em; text-align: center; vertical-align: top\">1</td>\n",
       "        <td style=\"padding-left: 1em; padding-right: 1em; text-align: center; vertical-align: top\">0</td>\n",
       "    </tr>\n",
       "    <tr>\n",
       "        <td style=\"padding-left: 1em; padding-right: 1em; text-align: center; vertical-align: top\">Baby Tracker&amp;reg; - Daily<br>Childcare Journal, ...</td>\n",
       "        <td style=\"padding-left: 1em; padding-right: 1em; text-align: center; vertical-align: top\">I love this journal and<br>our nanny uses it ...</td>\n",
       "        <td style=\"padding-left: 1em; padding-right: 1em; text-align: center; vertical-align: top\">4.0</td>\n",
       "        <td style=\"padding-left: 1em; padding-right: 1em; text-align: center; vertical-align: top\">{'all': 1, 'forget': 1,<br>'just': 1, \"daughter's\": ...</td>\n",
       "        <td style=\"padding-left: 1em; padding-right: 1em; text-align: center; vertical-align: top\">1</td>\n",
       "        <td style=\"padding-left: 1em; padding-right: 1em; text-align: center; vertical-align: top\">0</td>\n",
       "    </tr>\n",
       "</table>\n",
       "[166752 rows x 6 columns]<br/>Note: Only the head of the SFrame is printed.<br/>You can use print_rows(num_rows=m, num_columns=n) to print more rows and columns.\n",
       "</div>"
      ],
      "text/plain": [
       "Columns:\n",
       "\tname\tstr\n",
       "\treview\tstr\n",
       "\trating\tfloat\n",
       "\tword_count\tdict\n",
       "\tsentiment\tint\n",
       "\tawesome\tint\n",
       "\n",
       "Rows: 166752\n",
       "\n",
       "Data:\n",
       "+-------------------------------+-------------------------------+--------+\n",
       "|              name             |             review            | rating |\n",
       "+-------------------------------+-------------------------------+--------+\n",
       "|     Planetwise Wipe Pouch     | it came early and was not ... |  5.0   |\n",
       "| Annas Dream Full Quilt wit... | Very soft and comfortable ... |  5.0   |\n",
       "| Stop Pacifier Sucking with... | This is a product well wor... |  5.0   |\n",
       "| Stop Pacifier Sucking with... | All of my kids have cried ... |  5.0   |\n",
       "| Stop Pacifier Sucking with... | When the Binky Fairy came ... |  5.0   |\n",
       "| A Tale of Baby's Days with... | Lovely book, it's bound ti... |  4.0   |\n",
       "| Baby Tracker&reg; - Daily ... | Perfect for new parents. W... |  5.0   |\n",
       "| Baby Tracker&reg; - Daily ... | A friend of mine pinned th... |  5.0   |\n",
       "| Baby Tracker&reg; - Daily ... | This has been an easy way ... |  4.0   |\n",
       "| Baby Tracker&reg; - Daily ... | I love this journal and ou... |  4.0   |\n",
       "+-------------------------------+-------------------------------+--------+\n",
       "+-------------------------------+-----------+---------+\n",
       "|           word_count          | sentiment | awesome |\n",
       "+-------------------------------+-----------+---------+\n",
       "| {'and': 3, 'love': 1, 'it'... |     1     |    0    |\n",
       "| {'and': 2, 'quilt': 1, 'it... |     1     |    0    |\n",
       "| {'ingenious': 1, 'and': 3,... |     1     |    0    |\n",
       "| {'and': 2, 'parents!!': 1,... |     1     |    0    |\n",
       "| {'and': 2, 'cute': 1, 'hel... |     1     |    0    |\n",
       "| {'shop': 1, 'be': 1, 'is':... |     1     |    0    |\n",
       "| {'feeding,': 1, 'and': 2, ... |     1     |    0    |\n",
       "| {'and': 1, 'help': 1, 'giv... |     1     |    0    |\n",
       "| {'journal.': 1, 'all': 1, ... |     1     |    0    |\n",
       "| {'all': 1, 'forget': 1, 'j... |     1     |    0    |\n",
       "+-------------------------------+-----------+---------+\n",
       "[166752 rows x 6 columns]\n",
       "Note: Only the head of the SFrame is printed.\n",
       "You can use print_rows(num_rows=m, num_columns=n) to print more rows and columns."
      ]
     },
     "execution_count": 218,
     "metadata": {},
     "output_type": "execute_result"
    }
   ],
   "source": [
    "products"
   ]
  },
  {
   "cell_type": "markdown",
   "metadata": {},
   "source": [
    "## Add 10 more new features"
   ]
  },
  {
   "cell_type": "code",
   "execution_count": 221,
   "metadata": {
    "collapsed": false
   },
   "outputs": [
    {
     "data": {
      "text/html": [
       "<div style=\"max-height:1000px;max-width:1500px;overflow:auto;\"><table frame=\"box\" rules=\"cols\">\n",
       "    <tr>\n",
       "        <th style=\"padding-left: 1em; padding-right: 1em; text-align: center\">name</th>\n",
       "        <th style=\"padding-left: 1em; padding-right: 1em; text-align: center\">review</th>\n",
       "        <th style=\"padding-left: 1em; padding-right: 1em; text-align: center\">rating</th>\n",
       "        <th style=\"padding-left: 1em; padding-right: 1em; text-align: center\">word_count</th>\n",
       "        <th style=\"padding-left: 1em; padding-right: 1em; text-align: center\">sentiment</th>\n",
       "        <th style=\"padding-left: 1em; padding-right: 1em; text-align: center\">awesome</th>\n",
       "    </tr>\n",
       "    <tr>\n",
       "        <td style=\"padding-left: 1em; padding-right: 1em; text-align: center; vertical-align: top\">Planetwise Wipe Pouch</td>\n",
       "        <td style=\"padding-left: 1em; padding-right: 1em; text-align: center; vertical-align: top\">it came early and was not<br>disappointed. i love ...</td>\n",
       "        <td style=\"padding-left: 1em; padding-right: 1em; text-align: center; vertical-align: top\">5.0</td>\n",
       "        <td style=\"padding-left: 1em; padding-right: 1em; text-align: center; vertical-align: top\">{'and': 3, 'love': 1,<br>'it': 2, 'highly': 1, ...</td>\n",
       "        <td style=\"padding-left: 1em; padding-right: 1em; text-align: center; vertical-align: top\">1</td>\n",
       "        <td style=\"padding-left: 1em; padding-right: 1em; text-align: center; vertical-align: top\">0</td>\n",
       "    </tr>\n",
       "    <tr>\n",
       "        <td style=\"padding-left: 1em; padding-right: 1em; text-align: center; vertical-align: top\">Annas Dream Full Quilt<br>with 2 Shams ...</td>\n",
       "        <td style=\"padding-left: 1em; padding-right: 1em; text-align: center; vertical-align: top\">Very soft and comfortable<br>and warmer than it ...</td>\n",
       "        <td style=\"padding-left: 1em; padding-right: 1em; text-align: center; vertical-align: top\">5.0</td>\n",
       "        <td style=\"padding-left: 1em; padding-right: 1em; text-align: center; vertical-align: top\">{'and': 2, 'quilt': 1,<br>'it': 1, 'comfortable': ...</td>\n",
       "        <td style=\"padding-left: 1em; padding-right: 1em; text-align: center; vertical-align: top\">1</td>\n",
       "        <td style=\"padding-left: 1em; padding-right: 1em; text-align: center; vertical-align: top\">0</td>\n",
       "    </tr>\n",
       "    <tr>\n",
       "        <td style=\"padding-left: 1em; padding-right: 1em; text-align: center; vertical-align: top\">Stop Pacifier Sucking<br>without tears with ...</td>\n",
       "        <td style=\"padding-left: 1em; padding-right: 1em; text-align: center; vertical-align: top\">This is a product well<br>worth the purchase.  I ...</td>\n",
       "        <td style=\"padding-left: 1em; padding-right: 1em; text-align: center; vertical-align: top\">5.0</td>\n",
       "        <td style=\"padding-left: 1em; padding-right: 1em; text-align: center; vertical-align: top\">{'ingenious': 1, 'and':<br>3, 'love': 2, ...</td>\n",
       "        <td style=\"padding-left: 1em; padding-right: 1em; text-align: center; vertical-align: top\">1</td>\n",
       "        <td style=\"padding-left: 1em; padding-right: 1em; text-align: center; vertical-align: top\">0</td>\n",
       "    </tr>\n",
       "    <tr>\n",
       "        <td style=\"padding-left: 1em; padding-right: 1em; text-align: center; vertical-align: top\">Stop Pacifier Sucking<br>without tears with ...</td>\n",
       "        <td style=\"padding-left: 1em; padding-right: 1em; text-align: center; vertical-align: top\">All of my kids have cried<br>non-stop when I tried to ...</td>\n",
       "        <td style=\"padding-left: 1em; padding-right: 1em; text-align: center; vertical-align: top\">5.0</td>\n",
       "        <td style=\"padding-left: 1em; padding-right: 1em; text-align: center; vertical-align: top\">{'and': 2, 'parents!!':<br>1, 'all': 2, 'puppet.': ...</td>\n",
       "        <td style=\"padding-left: 1em; padding-right: 1em; text-align: center; vertical-align: top\">1</td>\n",
       "        <td style=\"padding-left: 1em; padding-right: 1em; text-align: center; vertical-align: top\">0</td>\n",
       "    </tr>\n",
       "    <tr>\n",
       "        <td style=\"padding-left: 1em; padding-right: 1em; text-align: center; vertical-align: top\">Stop Pacifier Sucking<br>without tears with ...</td>\n",
       "        <td style=\"padding-left: 1em; padding-right: 1em; text-align: center; vertical-align: top\">When the Binky Fairy came<br>to our house, we didn't ...</td>\n",
       "        <td style=\"padding-left: 1em; padding-right: 1em; text-align: center; vertical-align: top\">5.0</td>\n",
       "        <td style=\"padding-left: 1em; padding-right: 1em; text-align: center; vertical-align: top\">{'and': 2, 'cute': 1,<br>'help': 2, 'doll': 1, ...</td>\n",
       "        <td style=\"padding-left: 1em; padding-right: 1em; text-align: center; vertical-align: top\">1</td>\n",
       "        <td style=\"padding-left: 1em; padding-right: 1em; text-align: center; vertical-align: top\">0</td>\n",
       "    </tr>\n",
       "    <tr>\n",
       "        <td style=\"padding-left: 1em; padding-right: 1em; text-align: center; vertical-align: top\">A Tale of Baby's Days<br>with Peter Rabbit ...</td>\n",
       "        <td style=\"padding-left: 1em; padding-right: 1em; text-align: center; vertical-align: top\">Lovely book, it's bound<br>tightly so you may no ...</td>\n",
       "        <td style=\"padding-left: 1em; padding-right: 1em; text-align: center; vertical-align: top\">4.0</td>\n",
       "        <td style=\"padding-left: 1em; padding-right: 1em; text-align: center; vertical-align: top\">{'shop': 1, 'be': 1,<br>'is': 1, 'it': 1, 'as': ...</td>\n",
       "        <td style=\"padding-left: 1em; padding-right: 1em; text-align: center; vertical-align: top\">1</td>\n",
       "        <td style=\"padding-left: 1em; padding-right: 1em; text-align: center; vertical-align: top\">0</td>\n",
       "    </tr>\n",
       "    <tr>\n",
       "        <td style=\"padding-left: 1em; padding-right: 1em; text-align: center; vertical-align: top\">Baby Tracker&amp;reg; - Daily<br>Childcare Journal, ...</td>\n",
       "        <td style=\"padding-left: 1em; padding-right: 1em; text-align: center; vertical-align: top\">Perfect for new parents.<br>We were able to keep ...</td>\n",
       "        <td style=\"padding-left: 1em; padding-right: 1em; text-align: center; vertical-align: top\">5.0</td>\n",
       "        <td style=\"padding-left: 1em; padding-right: 1em; text-align: center; vertical-align: top\">{'feeding,': 1, 'and': 2,<br>'all': 1, 'right': 1, ...</td>\n",
       "        <td style=\"padding-left: 1em; padding-right: 1em; text-align: center; vertical-align: top\">1</td>\n",
       "        <td style=\"padding-left: 1em; padding-right: 1em; text-align: center; vertical-align: top\">0</td>\n",
       "    </tr>\n",
       "    <tr>\n",
       "        <td style=\"padding-left: 1em; padding-right: 1em; text-align: center; vertical-align: top\">Baby Tracker&amp;reg; - Daily<br>Childcare Journal, ...</td>\n",
       "        <td style=\"padding-left: 1em; padding-right: 1em; text-align: center; vertical-align: top\">A friend of mine pinned<br>this product on Pinte ...</td>\n",
       "        <td style=\"padding-left: 1em; padding-right: 1em; text-align: center; vertical-align: top\">5.0</td>\n",
       "        <td style=\"padding-left: 1em; padding-right: 1em; text-align: center; vertical-align: top\">{'and': 1, 'help': 1,<br>'give': 1, 'is': 1, ...</td>\n",
       "        <td style=\"padding-left: 1em; padding-right: 1em; text-align: center; vertical-align: top\">1</td>\n",
       "        <td style=\"padding-left: 1em; padding-right: 1em; text-align: center; vertical-align: top\">0</td>\n",
       "    </tr>\n",
       "    <tr>\n",
       "        <td style=\"padding-left: 1em; padding-right: 1em; text-align: center; vertical-align: top\">Baby Tracker&amp;reg; - Daily<br>Childcare Journal, ...</td>\n",
       "        <td style=\"padding-left: 1em; padding-right: 1em; text-align: center; vertical-align: top\">This has been an easy way<br>for my nanny to record ...</td>\n",
       "        <td style=\"padding-left: 1em; padding-right: 1em; text-align: center; vertical-align: top\">4.0</td>\n",
       "        <td style=\"padding-left: 1em; padding-right: 1em; text-align: center; vertical-align: top\">{'journal.': 1, 'all': 1,<br>'standarad': 1, ...</td>\n",
       "        <td style=\"padding-left: 1em; padding-right: 1em; text-align: center; vertical-align: top\">1</td>\n",
       "        <td style=\"padding-left: 1em; padding-right: 1em; text-align: center; vertical-align: top\">0</td>\n",
       "    </tr>\n",
       "    <tr>\n",
       "        <td style=\"padding-left: 1em; padding-right: 1em; text-align: center; vertical-align: top\">Baby Tracker&amp;reg; - Daily<br>Childcare Journal, ...</td>\n",
       "        <td style=\"padding-left: 1em; padding-right: 1em; text-align: center; vertical-align: top\">I love this journal and<br>our nanny uses it ...</td>\n",
       "        <td style=\"padding-left: 1em; padding-right: 1em; text-align: center; vertical-align: top\">4.0</td>\n",
       "        <td style=\"padding-left: 1em; padding-right: 1em; text-align: center; vertical-align: top\">{'all': 1, 'forget': 1,<br>'just': 1, \"daughter's\": ...</td>\n",
       "        <td style=\"padding-left: 1em; padding-right: 1em; text-align: center; vertical-align: top\">1</td>\n",
       "        <td style=\"padding-left: 1em; padding-right: 1em; text-align: center; vertical-align: top\">0</td>\n",
       "    </tr>\n",
       "</table>\n",
       "<table frame=\"box\" rules=\"cols\">\n",
       "    <tr>\n",
       "        <th style=\"padding-left: 1em; padding-right: 1em; text-align: center\">great</th>\n",
       "    </tr>\n",
       "    <tr>\n",
       "        <td style=\"padding-left: 1em; padding-right: 1em; text-align: center; vertical-align: top\">0</td>\n",
       "    </tr>\n",
       "    <tr>\n",
       "        <td style=\"padding-left: 1em; padding-right: 1em; text-align: center; vertical-align: top\">0</td>\n",
       "    </tr>\n",
       "    <tr>\n",
       "        <td style=\"padding-left: 1em; padding-right: 1em; text-align: center; vertical-align: top\">0</td>\n",
       "    </tr>\n",
       "    <tr>\n",
       "        <td style=\"padding-left: 1em; padding-right: 1em; text-align: center; vertical-align: top\">0</td>\n",
       "    </tr>\n",
       "    <tr>\n",
       "        <td style=\"padding-left: 1em; padding-right: 1em; text-align: center; vertical-align: top\">0</td>\n",
       "    </tr>\n",
       "    <tr>\n",
       "        <td style=\"padding-left: 1em; padding-right: 1em; text-align: center; vertical-align: top\">0</td>\n",
       "    </tr>\n",
       "    <tr>\n",
       "        <td style=\"padding-left: 1em; padding-right: 1em; text-align: center; vertical-align: top\">0</td>\n",
       "    </tr>\n",
       "    <tr>\n",
       "        <td style=\"padding-left: 1em; padding-right: 1em; text-align: center; vertical-align: top\">0</td>\n",
       "    </tr>\n",
       "    <tr>\n",
       "        <td style=\"padding-left: 1em; padding-right: 1em; text-align: center; vertical-align: top\">0</td>\n",
       "    </tr>\n",
       "    <tr>\n",
       "        <td style=\"padding-left: 1em; padding-right: 1em; text-align: center; vertical-align: top\">0</td>\n",
       "    </tr>\n",
       "</table>\n",
       "[166752 rows x 7 columns]<br/>Note: Only the head of the SFrame is printed.<br/>You can use print_rows(num_rows=m, num_columns=n) to print more rows and columns.\n",
       "</div>"
      ],
      "text/plain": [
       "Columns:\n",
       "\tname\tstr\n",
       "\treview\tstr\n",
       "\trating\tfloat\n",
       "\tword_count\tdict\n",
       "\tsentiment\tint\n",
       "\tawesome\tint\n",
       "\tgreat\tint\n",
       "\n",
       "Rows: 166752\n",
       "\n",
       "Data:\n",
       "+-------------------------------+-------------------------------+--------+\n",
       "|              name             |             review            | rating |\n",
       "+-------------------------------+-------------------------------+--------+\n",
       "|     Planetwise Wipe Pouch     | it came early and was not ... |  5.0   |\n",
       "| Annas Dream Full Quilt wit... | Very soft and comfortable ... |  5.0   |\n",
       "| Stop Pacifier Sucking with... | This is a product well wor... |  5.0   |\n",
       "| Stop Pacifier Sucking with... | All of my kids have cried ... |  5.0   |\n",
       "| Stop Pacifier Sucking with... | When the Binky Fairy came ... |  5.0   |\n",
       "| A Tale of Baby's Days with... | Lovely book, it's bound ti... |  4.0   |\n",
       "| Baby Tracker&reg; - Daily ... | Perfect for new parents. W... |  5.0   |\n",
       "| Baby Tracker&reg; - Daily ... | A friend of mine pinned th... |  5.0   |\n",
       "| Baby Tracker&reg; - Daily ... | This has been an easy way ... |  4.0   |\n",
       "| Baby Tracker&reg; - Daily ... | I love this journal and ou... |  4.0   |\n",
       "+-------------------------------+-------------------------------+--------+\n",
       "+-------------------------------+-----------+---------+-------+\n",
       "|           word_count          | sentiment | awesome | great |\n",
       "+-------------------------------+-----------+---------+-------+\n",
       "| {'and': 3, 'love': 1, 'it'... |     1     |    0    |   0   |\n",
       "| {'and': 2, 'quilt': 1, 'it... |     1     |    0    |   0   |\n",
       "| {'ingenious': 1, 'and': 3,... |     1     |    0    |   0   |\n",
       "| {'and': 2, 'parents!!': 1,... |     1     |    0    |   0   |\n",
       "| {'and': 2, 'cute': 1, 'hel... |     1     |    0    |   0   |\n",
       "| {'shop': 1, 'be': 1, 'is':... |     1     |    0    |   0   |\n",
       "| {'feeding,': 1, 'and': 2, ... |     1     |    0    |   0   |\n",
       "| {'and': 1, 'help': 1, 'giv... |     1     |    0    |   0   |\n",
       "| {'journal.': 1, 'all': 1, ... |     1     |    0    |   0   |\n",
       "| {'all': 1, 'forget': 1, 'j... |     1     |    0    |   0   |\n",
       "+-------------------------------+-----------+---------+-------+\n",
       "[166752 rows x 7 columns]\n",
       "Note: Only the head of the SFrame is printed.\n",
       "You can use print_rows(num_rows=m, num_columns=n) to print more rows and columns."
      ]
     },
     "execution_count": 221,
     "metadata": {},
     "output_type": "execute_result"
    }
   ],
   "source": [
    "## Great\n",
    "products['great'] = products['word_count'].apply(awesome_count)\n",
    "products"
   ]
  },
  {
   "cell_type": "code",
   "execution_count": 223,
   "metadata": {
    "collapsed": false
   },
   "outputs": [
    {
     "data": {
      "text/html": [
       "<div style=\"max-height:1000px;max-width:1500px;overflow:auto;\"><table frame=\"box\" rules=\"cols\">\n",
       "    <tr>\n",
       "        <th style=\"padding-left: 1em; padding-right: 1em; text-align: center\">name</th>\n",
       "        <th style=\"padding-left: 1em; padding-right: 1em; text-align: center\">review</th>\n",
       "        <th style=\"padding-left: 1em; padding-right: 1em; text-align: center\">rating</th>\n",
       "        <th style=\"padding-left: 1em; padding-right: 1em; text-align: center\">word_count</th>\n",
       "        <th style=\"padding-left: 1em; padding-right: 1em; text-align: center\">sentiment</th>\n",
       "        <th style=\"padding-left: 1em; padding-right: 1em; text-align: center\">awesome</th>\n",
       "    </tr>\n",
       "    <tr>\n",
       "        <td style=\"padding-left: 1em; padding-right: 1em; text-align: center; vertical-align: top\">Planetwise Wipe Pouch</td>\n",
       "        <td style=\"padding-left: 1em; padding-right: 1em; text-align: center; vertical-align: top\">it came early and was not<br>disappointed. i love ...</td>\n",
       "        <td style=\"padding-left: 1em; padding-right: 1em; text-align: center; vertical-align: top\">5.0</td>\n",
       "        <td style=\"padding-left: 1em; padding-right: 1em; text-align: center; vertical-align: top\">{'and': 3, 'love': 1,<br>'it': 2, 'highly': 1, ...</td>\n",
       "        <td style=\"padding-left: 1em; padding-right: 1em; text-align: center; vertical-align: top\">1</td>\n",
       "        <td style=\"padding-left: 1em; padding-right: 1em; text-align: center; vertical-align: top\">0</td>\n",
       "    </tr>\n",
       "    <tr>\n",
       "        <td style=\"padding-left: 1em; padding-right: 1em; text-align: center; vertical-align: top\">Annas Dream Full Quilt<br>with 2 Shams ...</td>\n",
       "        <td style=\"padding-left: 1em; padding-right: 1em; text-align: center; vertical-align: top\">Very soft and comfortable<br>and warmer than it ...</td>\n",
       "        <td style=\"padding-left: 1em; padding-right: 1em; text-align: center; vertical-align: top\">5.0</td>\n",
       "        <td style=\"padding-left: 1em; padding-right: 1em; text-align: center; vertical-align: top\">{'and': 2, 'quilt': 1,<br>'it': 1, 'comfortable': ...</td>\n",
       "        <td style=\"padding-left: 1em; padding-right: 1em; text-align: center; vertical-align: top\">1</td>\n",
       "        <td style=\"padding-left: 1em; padding-right: 1em; text-align: center; vertical-align: top\">0</td>\n",
       "    </tr>\n",
       "    <tr>\n",
       "        <td style=\"padding-left: 1em; padding-right: 1em; text-align: center; vertical-align: top\">Stop Pacifier Sucking<br>without tears with ...</td>\n",
       "        <td style=\"padding-left: 1em; padding-right: 1em; text-align: center; vertical-align: top\">This is a product well<br>worth the purchase.  I ...</td>\n",
       "        <td style=\"padding-left: 1em; padding-right: 1em; text-align: center; vertical-align: top\">5.0</td>\n",
       "        <td style=\"padding-left: 1em; padding-right: 1em; text-align: center; vertical-align: top\">{'ingenious': 1, 'and':<br>3, 'love': 2, ...</td>\n",
       "        <td style=\"padding-left: 1em; padding-right: 1em; text-align: center; vertical-align: top\">1</td>\n",
       "        <td style=\"padding-left: 1em; padding-right: 1em; text-align: center; vertical-align: top\">0</td>\n",
       "    </tr>\n",
       "    <tr>\n",
       "        <td style=\"padding-left: 1em; padding-right: 1em; text-align: center; vertical-align: top\">Stop Pacifier Sucking<br>without tears with ...</td>\n",
       "        <td style=\"padding-left: 1em; padding-right: 1em; text-align: center; vertical-align: top\">All of my kids have cried<br>non-stop when I tried to ...</td>\n",
       "        <td style=\"padding-left: 1em; padding-right: 1em; text-align: center; vertical-align: top\">5.0</td>\n",
       "        <td style=\"padding-left: 1em; padding-right: 1em; text-align: center; vertical-align: top\">{'and': 2, 'parents!!':<br>1, 'all': 2, 'puppet.': ...</td>\n",
       "        <td style=\"padding-left: 1em; padding-right: 1em; text-align: center; vertical-align: top\">1</td>\n",
       "        <td style=\"padding-left: 1em; padding-right: 1em; text-align: center; vertical-align: top\">0</td>\n",
       "    </tr>\n",
       "    <tr>\n",
       "        <td style=\"padding-left: 1em; padding-right: 1em; text-align: center; vertical-align: top\">Stop Pacifier Sucking<br>without tears with ...</td>\n",
       "        <td style=\"padding-left: 1em; padding-right: 1em; text-align: center; vertical-align: top\">When the Binky Fairy came<br>to our house, we didn't ...</td>\n",
       "        <td style=\"padding-left: 1em; padding-right: 1em; text-align: center; vertical-align: top\">5.0</td>\n",
       "        <td style=\"padding-left: 1em; padding-right: 1em; text-align: center; vertical-align: top\">{'and': 2, 'cute': 1,<br>'help': 2, 'doll': 1, ...</td>\n",
       "        <td style=\"padding-left: 1em; padding-right: 1em; text-align: center; vertical-align: top\">1</td>\n",
       "        <td style=\"padding-left: 1em; padding-right: 1em; text-align: center; vertical-align: top\">0</td>\n",
       "    </tr>\n",
       "    <tr>\n",
       "        <td style=\"padding-left: 1em; padding-right: 1em; text-align: center; vertical-align: top\">A Tale of Baby's Days<br>with Peter Rabbit ...</td>\n",
       "        <td style=\"padding-left: 1em; padding-right: 1em; text-align: center; vertical-align: top\">Lovely book, it's bound<br>tightly so you may no ...</td>\n",
       "        <td style=\"padding-left: 1em; padding-right: 1em; text-align: center; vertical-align: top\">4.0</td>\n",
       "        <td style=\"padding-left: 1em; padding-right: 1em; text-align: center; vertical-align: top\">{'shop': 1, 'be': 1,<br>'is': 1, 'it': 1, 'as': ...</td>\n",
       "        <td style=\"padding-left: 1em; padding-right: 1em; text-align: center; vertical-align: top\">1</td>\n",
       "        <td style=\"padding-left: 1em; padding-right: 1em; text-align: center; vertical-align: top\">0</td>\n",
       "    </tr>\n",
       "    <tr>\n",
       "        <td style=\"padding-left: 1em; padding-right: 1em; text-align: center; vertical-align: top\">Baby Tracker&amp;reg; - Daily<br>Childcare Journal, ...</td>\n",
       "        <td style=\"padding-left: 1em; padding-right: 1em; text-align: center; vertical-align: top\">Perfect for new parents.<br>We were able to keep ...</td>\n",
       "        <td style=\"padding-left: 1em; padding-right: 1em; text-align: center; vertical-align: top\">5.0</td>\n",
       "        <td style=\"padding-left: 1em; padding-right: 1em; text-align: center; vertical-align: top\">{'feeding,': 1, 'and': 2,<br>'all': 1, 'right': 1, ...</td>\n",
       "        <td style=\"padding-left: 1em; padding-right: 1em; text-align: center; vertical-align: top\">1</td>\n",
       "        <td style=\"padding-left: 1em; padding-right: 1em; text-align: center; vertical-align: top\">0</td>\n",
       "    </tr>\n",
       "    <tr>\n",
       "        <td style=\"padding-left: 1em; padding-right: 1em; text-align: center; vertical-align: top\">Baby Tracker&amp;reg; - Daily<br>Childcare Journal, ...</td>\n",
       "        <td style=\"padding-left: 1em; padding-right: 1em; text-align: center; vertical-align: top\">A friend of mine pinned<br>this product on Pinte ...</td>\n",
       "        <td style=\"padding-left: 1em; padding-right: 1em; text-align: center; vertical-align: top\">5.0</td>\n",
       "        <td style=\"padding-left: 1em; padding-right: 1em; text-align: center; vertical-align: top\">{'and': 1, 'help': 1,<br>'give': 1, 'is': 1, ...</td>\n",
       "        <td style=\"padding-left: 1em; padding-right: 1em; text-align: center; vertical-align: top\">1</td>\n",
       "        <td style=\"padding-left: 1em; padding-right: 1em; text-align: center; vertical-align: top\">0</td>\n",
       "    </tr>\n",
       "    <tr>\n",
       "        <td style=\"padding-left: 1em; padding-right: 1em; text-align: center; vertical-align: top\">Baby Tracker&amp;reg; - Daily<br>Childcare Journal, ...</td>\n",
       "        <td style=\"padding-left: 1em; padding-right: 1em; text-align: center; vertical-align: top\">This has been an easy way<br>for my nanny to record ...</td>\n",
       "        <td style=\"padding-left: 1em; padding-right: 1em; text-align: center; vertical-align: top\">4.0</td>\n",
       "        <td style=\"padding-left: 1em; padding-right: 1em; text-align: center; vertical-align: top\">{'journal.': 1, 'all': 1,<br>'standarad': 1, ...</td>\n",
       "        <td style=\"padding-left: 1em; padding-right: 1em; text-align: center; vertical-align: top\">1</td>\n",
       "        <td style=\"padding-left: 1em; padding-right: 1em; text-align: center; vertical-align: top\">0</td>\n",
       "    </tr>\n",
       "    <tr>\n",
       "        <td style=\"padding-left: 1em; padding-right: 1em; text-align: center; vertical-align: top\">Baby Tracker&amp;reg; - Daily<br>Childcare Journal, ...</td>\n",
       "        <td style=\"padding-left: 1em; padding-right: 1em; text-align: center; vertical-align: top\">I love this journal and<br>our nanny uses it ...</td>\n",
       "        <td style=\"padding-left: 1em; padding-right: 1em; text-align: center; vertical-align: top\">4.0</td>\n",
       "        <td style=\"padding-left: 1em; padding-right: 1em; text-align: center; vertical-align: top\">{'all': 1, 'forget': 1,<br>'just': 1, \"daughter's\": ...</td>\n",
       "        <td style=\"padding-left: 1em; padding-right: 1em; text-align: center; vertical-align: top\">1</td>\n",
       "        <td style=\"padding-left: 1em; padding-right: 1em; text-align: center; vertical-align: top\">0</td>\n",
       "    </tr>\n",
       "</table>\n",
       "<table frame=\"box\" rules=\"cols\">\n",
       "    <tr>\n",
       "        <th style=\"padding-left: 1em; padding-right: 1em; text-align: center\">great</th>\n",
       "        <th style=\"padding-left: 1em; padding-right: 1em; text-align: center\">fantastic</th>\n",
       "    </tr>\n",
       "    <tr>\n",
       "        <td style=\"padding-left: 1em; padding-right: 1em; text-align: center; vertical-align: top\">0</td>\n",
       "        <td style=\"padding-left: 1em; padding-right: 1em; text-align: center; vertical-align: top\">0</td>\n",
       "    </tr>\n",
       "    <tr>\n",
       "        <td style=\"padding-left: 1em; padding-right: 1em; text-align: center; vertical-align: top\">0</td>\n",
       "        <td style=\"padding-left: 1em; padding-right: 1em; text-align: center; vertical-align: top\">0</td>\n",
       "    </tr>\n",
       "    <tr>\n",
       "        <td style=\"padding-left: 1em; padding-right: 1em; text-align: center; vertical-align: top\">0</td>\n",
       "        <td style=\"padding-left: 1em; padding-right: 1em; text-align: center; vertical-align: top\">0</td>\n",
       "    </tr>\n",
       "    <tr>\n",
       "        <td style=\"padding-left: 1em; padding-right: 1em; text-align: center; vertical-align: top\">0</td>\n",
       "        <td style=\"padding-left: 1em; padding-right: 1em; text-align: center; vertical-align: top\">0</td>\n",
       "    </tr>\n",
       "    <tr>\n",
       "        <td style=\"padding-left: 1em; padding-right: 1em; text-align: center; vertical-align: top\">0</td>\n",
       "        <td style=\"padding-left: 1em; padding-right: 1em; text-align: center; vertical-align: top\">0</td>\n",
       "    </tr>\n",
       "    <tr>\n",
       "        <td style=\"padding-left: 1em; padding-right: 1em; text-align: center; vertical-align: top\">0</td>\n",
       "        <td style=\"padding-left: 1em; padding-right: 1em; text-align: center; vertical-align: top\">0</td>\n",
       "    </tr>\n",
       "    <tr>\n",
       "        <td style=\"padding-left: 1em; padding-right: 1em; text-align: center; vertical-align: top\">0</td>\n",
       "        <td style=\"padding-left: 1em; padding-right: 1em; text-align: center; vertical-align: top\">0</td>\n",
       "    </tr>\n",
       "    <tr>\n",
       "        <td style=\"padding-left: 1em; padding-right: 1em; text-align: center; vertical-align: top\">0</td>\n",
       "        <td style=\"padding-left: 1em; padding-right: 1em; text-align: center; vertical-align: top\">0</td>\n",
       "    </tr>\n",
       "    <tr>\n",
       "        <td style=\"padding-left: 1em; padding-right: 1em; text-align: center; vertical-align: top\">0</td>\n",
       "        <td style=\"padding-left: 1em; padding-right: 1em; text-align: center; vertical-align: top\">0</td>\n",
       "    </tr>\n",
       "    <tr>\n",
       "        <td style=\"padding-left: 1em; padding-right: 1em; text-align: center; vertical-align: top\">0</td>\n",
       "        <td style=\"padding-left: 1em; padding-right: 1em; text-align: center; vertical-align: top\">0</td>\n",
       "    </tr>\n",
       "</table>\n",
       "[166752 rows x 8 columns]<br/>Note: Only the head of the SFrame is printed.<br/>You can use print_rows(num_rows=m, num_columns=n) to print more rows and columns.\n",
       "</div>"
      ],
      "text/plain": [
       "Columns:\n",
       "\tname\tstr\n",
       "\treview\tstr\n",
       "\trating\tfloat\n",
       "\tword_count\tdict\n",
       "\tsentiment\tint\n",
       "\tawesome\tint\n",
       "\tgreat\tint\n",
       "\tfantastic\tint\n",
       "\n",
       "Rows: 166752\n",
       "\n",
       "Data:\n",
       "+-------------------------------+-------------------------------+--------+\n",
       "|              name             |             review            | rating |\n",
       "+-------------------------------+-------------------------------+--------+\n",
       "|     Planetwise Wipe Pouch     | it came early and was not ... |  5.0   |\n",
       "| Annas Dream Full Quilt wit... | Very soft and comfortable ... |  5.0   |\n",
       "| Stop Pacifier Sucking with... | This is a product well wor... |  5.0   |\n",
       "| Stop Pacifier Sucking with... | All of my kids have cried ... |  5.0   |\n",
       "| Stop Pacifier Sucking with... | When the Binky Fairy came ... |  5.0   |\n",
       "| A Tale of Baby's Days with... | Lovely book, it's bound ti... |  4.0   |\n",
       "| Baby Tracker&reg; - Daily ... | Perfect for new parents. W... |  5.0   |\n",
       "| Baby Tracker&reg; - Daily ... | A friend of mine pinned th... |  5.0   |\n",
       "| Baby Tracker&reg; - Daily ... | This has been an easy way ... |  4.0   |\n",
       "| Baby Tracker&reg; - Daily ... | I love this journal and ou... |  4.0   |\n",
       "+-------------------------------+-------------------------------+--------+\n",
       "+-------------------------------+-----------+---------+-------+-----------+\n",
       "|           word_count          | sentiment | awesome | great | fantastic |\n",
       "+-------------------------------+-----------+---------+-------+-----------+\n",
       "| {'and': 3, 'love': 1, 'it'... |     1     |    0    |   0   |     0     |\n",
       "| {'and': 2, 'quilt': 1, 'it... |     1     |    0    |   0   |     0     |\n",
       "| {'ingenious': 1, 'and': 3,... |     1     |    0    |   0   |     0     |\n",
       "| {'and': 2, 'parents!!': 1,... |     1     |    0    |   0   |     0     |\n",
       "| {'and': 2, 'cute': 1, 'hel... |     1     |    0    |   0   |     0     |\n",
       "| {'shop': 1, 'be': 1, 'is':... |     1     |    0    |   0   |     0     |\n",
       "| {'feeding,': 1, 'and': 2, ... |     1     |    0    |   0   |     0     |\n",
       "| {'and': 1, 'help': 1, 'giv... |     1     |    0    |   0   |     0     |\n",
       "| {'journal.': 1, 'all': 1, ... |     1     |    0    |   0   |     0     |\n",
       "| {'all': 1, 'forget': 1, 'j... |     1     |    0    |   0   |     0     |\n",
       "+-------------------------------+-----------+---------+-------+-----------+\n",
       "[166752 rows x 8 columns]\n",
       "Note: Only the head of the SFrame is printed.\n",
       "You can use print_rows(num_rows=m, num_columns=n) to print more rows and columns."
      ]
     },
     "execution_count": 223,
     "metadata": {},
     "output_type": "execute_result"
    }
   ],
   "source": [
    "# Fantastic\n",
    "products['fantastic'] = products['word_count'].apply(awesome_count)\n",
    "products"
   ]
  },
  {
   "cell_type": "code",
   "execution_count": 225,
   "metadata": {
    "collapsed": false
   },
   "outputs": [
    {
     "data": {
      "text/html": [
       "<div style=\"max-height:1000px;max-width:1500px;overflow:auto;\"><table frame=\"box\" rules=\"cols\">\n",
       "    <tr>\n",
       "        <th style=\"padding-left: 1em; padding-right: 1em; text-align: center\">name</th>\n",
       "        <th style=\"padding-left: 1em; padding-right: 1em; text-align: center\">review</th>\n",
       "        <th style=\"padding-left: 1em; padding-right: 1em; text-align: center\">rating</th>\n",
       "        <th style=\"padding-left: 1em; padding-right: 1em; text-align: center\">word_count</th>\n",
       "        <th style=\"padding-left: 1em; padding-right: 1em; text-align: center\">sentiment</th>\n",
       "        <th style=\"padding-left: 1em; padding-right: 1em; text-align: center\">awesome</th>\n",
       "    </tr>\n",
       "    <tr>\n",
       "        <td style=\"padding-left: 1em; padding-right: 1em; text-align: center; vertical-align: top\">Planetwise Wipe Pouch</td>\n",
       "        <td style=\"padding-left: 1em; padding-right: 1em; text-align: center; vertical-align: top\">it came early and was not<br>disappointed. i love ...</td>\n",
       "        <td style=\"padding-left: 1em; padding-right: 1em; text-align: center; vertical-align: top\">5.0</td>\n",
       "        <td style=\"padding-left: 1em; padding-right: 1em; text-align: center; vertical-align: top\">{'and': 3, 'love': 1,<br>'it': 2, 'highly': 1, ...</td>\n",
       "        <td style=\"padding-left: 1em; padding-right: 1em; text-align: center; vertical-align: top\">1</td>\n",
       "        <td style=\"padding-left: 1em; padding-right: 1em; text-align: center; vertical-align: top\">0</td>\n",
       "    </tr>\n",
       "    <tr>\n",
       "        <td style=\"padding-left: 1em; padding-right: 1em; text-align: center; vertical-align: top\">Annas Dream Full Quilt<br>with 2 Shams ...</td>\n",
       "        <td style=\"padding-left: 1em; padding-right: 1em; text-align: center; vertical-align: top\">Very soft and comfortable<br>and warmer than it ...</td>\n",
       "        <td style=\"padding-left: 1em; padding-right: 1em; text-align: center; vertical-align: top\">5.0</td>\n",
       "        <td style=\"padding-left: 1em; padding-right: 1em; text-align: center; vertical-align: top\">{'and': 2, 'quilt': 1,<br>'it': 1, 'comfortable': ...</td>\n",
       "        <td style=\"padding-left: 1em; padding-right: 1em; text-align: center; vertical-align: top\">1</td>\n",
       "        <td style=\"padding-left: 1em; padding-right: 1em; text-align: center; vertical-align: top\">0</td>\n",
       "    </tr>\n",
       "    <tr>\n",
       "        <td style=\"padding-left: 1em; padding-right: 1em; text-align: center; vertical-align: top\">Stop Pacifier Sucking<br>without tears with ...</td>\n",
       "        <td style=\"padding-left: 1em; padding-right: 1em; text-align: center; vertical-align: top\">This is a product well<br>worth the purchase.  I ...</td>\n",
       "        <td style=\"padding-left: 1em; padding-right: 1em; text-align: center; vertical-align: top\">5.0</td>\n",
       "        <td style=\"padding-left: 1em; padding-right: 1em; text-align: center; vertical-align: top\">{'ingenious': 1, 'and':<br>3, 'love': 2, ...</td>\n",
       "        <td style=\"padding-left: 1em; padding-right: 1em; text-align: center; vertical-align: top\">1</td>\n",
       "        <td style=\"padding-left: 1em; padding-right: 1em; text-align: center; vertical-align: top\">0</td>\n",
       "    </tr>\n",
       "    <tr>\n",
       "        <td style=\"padding-left: 1em; padding-right: 1em; text-align: center; vertical-align: top\">Stop Pacifier Sucking<br>without tears with ...</td>\n",
       "        <td style=\"padding-left: 1em; padding-right: 1em; text-align: center; vertical-align: top\">All of my kids have cried<br>non-stop when I tried to ...</td>\n",
       "        <td style=\"padding-left: 1em; padding-right: 1em; text-align: center; vertical-align: top\">5.0</td>\n",
       "        <td style=\"padding-left: 1em; padding-right: 1em; text-align: center; vertical-align: top\">{'and': 2, 'parents!!':<br>1, 'all': 2, 'puppet.': ...</td>\n",
       "        <td style=\"padding-left: 1em; padding-right: 1em; text-align: center; vertical-align: top\">1</td>\n",
       "        <td style=\"padding-left: 1em; padding-right: 1em; text-align: center; vertical-align: top\">0</td>\n",
       "    </tr>\n",
       "    <tr>\n",
       "        <td style=\"padding-left: 1em; padding-right: 1em; text-align: center; vertical-align: top\">Stop Pacifier Sucking<br>without tears with ...</td>\n",
       "        <td style=\"padding-left: 1em; padding-right: 1em; text-align: center; vertical-align: top\">When the Binky Fairy came<br>to our house, we didn't ...</td>\n",
       "        <td style=\"padding-left: 1em; padding-right: 1em; text-align: center; vertical-align: top\">5.0</td>\n",
       "        <td style=\"padding-left: 1em; padding-right: 1em; text-align: center; vertical-align: top\">{'and': 2, 'cute': 1,<br>'help': 2, 'doll': 1, ...</td>\n",
       "        <td style=\"padding-left: 1em; padding-right: 1em; text-align: center; vertical-align: top\">1</td>\n",
       "        <td style=\"padding-left: 1em; padding-right: 1em; text-align: center; vertical-align: top\">0</td>\n",
       "    </tr>\n",
       "    <tr>\n",
       "        <td style=\"padding-left: 1em; padding-right: 1em; text-align: center; vertical-align: top\">A Tale of Baby's Days<br>with Peter Rabbit ...</td>\n",
       "        <td style=\"padding-left: 1em; padding-right: 1em; text-align: center; vertical-align: top\">Lovely book, it's bound<br>tightly so you may no ...</td>\n",
       "        <td style=\"padding-left: 1em; padding-right: 1em; text-align: center; vertical-align: top\">4.0</td>\n",
       "        <td style=\"padding-left: 1em; padding-right: 1em; text-align: center; vertical-align: top\">{'shop': 1, 'be': 1,<br>'is': 1, 'it': 1, 'as': ...</td>\n",
       "        <td style=\"padding-left: 1em; padding-right: 1em; text-align: center; vertical-align: top\">1</td>\n",
       "        <td style=\"padding-left: 1em; padding-right: 1em; text-align: center; vertical-align: top\">0</td>\n",
       "    </tr>\n",
       "    <tr>\n",
       "        <td style=\"padding-left: 1em; padding-right: 1em; text-align: center; vertical-align: top\">Baby Tracker&amp;reg; - Daily<br>Childcare Journal, ...</td>\n",
       "        <td style=\"padding-left: 1em; padding-right: 1em; text-align: center; vertical-align: top\">Perfect for new parents.<br>We were able to keep ...</td>\n",
       "        <td style=\"padding-left: 1em; padding-right: 1em; text-align: center; vertical-align: top\">5.0</td>\n",
       "        <td style=\"padding-left: 1em; padding-right: 1em; text-align: center; vertical-align: top\">{'feeding,': 1, 'and': 2,<br>'all': 1, 'right': 1, ...</td>\n",
       "        <td style=\"padding-left: 1em; padding-right: 1em; text-align: center; vertical-align: top\">1</td>\n",
       "        <td style=\"padding-left: 1em; padding-right: 1em; text-align: center; vertical-align: top\">0</td>\n",
       "    </tr>\n",
       "    <tr>\n",
       "        <td style=\"padding-left: 1em; padding-right: 1em; text-align: center; vertical-align: top\">Baby Tracker&amp;reg; - Daily<br>Childcare Journal, ...</td>\n",
       "        <td style=\"padding-left: 1em; padding-right: 1em; text-align: center; vertical-align: top\">A friend of mine pinned<br>this product on Pinte ...</td>\n",
       "        <td style=\"padding-left: 1em; padding-right: 1em; text-align: center; vertical-align: top\">5.0</td>\n",
       "        <td style=\"padding-left: 1em; padding-right: 1em; text-align: center; vertical-align: top\">{'and': 1, 'help': 1,<br>'give': 1, 'is': 1, ...</td>\n",
       "        <td style=\"padding-left: 1em; padding-right: 1em; text-align: center; vertical-align: top\">1</td>\n",
       "        <td style=\"padding-left: 1em; padding-right: 1em; text-align: center; vertical-align: top\">0</td>\n",
       "    </tr>\n",
       "    <tr>\n",
       "        <td style=\"padding-left: 1em; padding-right: 1em; text-align: center; vertical-align: top\">Baby Tracker&amp;reg; - Daily<br>Childcare Journal, ...</td>\n",
       "        <td style=\"padding-left: 1em; padding-right: 1em; text-align: center; vertical-align: top\">This has been an easy way<br>for my nanny to record ...</td>\n",
       "        <td style=\"padding-left: 1em; padding-right: 1em; text-align: center; vertical-align: top\">4.0</td>\n",
       "        <td style=\"padding-left: 1em; padding-right: 1em; text-align: center; vertical-align: top\">{'journal.': 1, 'all': 1,<br>'standarad': 1, ...</td>\n",
       "        <td style=\"padding-left: 1em; padding-right: 1em; text-align: center; vertical-align: top\">1</td>\n",
       "        <td style=\"padding-left: 1em; padding-right: 1em; text-align: center; vertical-align: top\">0</td>\n",
       "    </tr>\n",
       "    <tr>\n",
       "        <td style=\"padding-left: 1em; padding-right: 1em; text-align: center; vertical-align: top\">Baby Tracker&amp;reg; - Daily<br>Childcare Journal, ...</td>\n",
       "        <td style=\"padding-left: 1em; padding-right: 1em; text-align: center; vertical-align: top\">I love this journal and<br>our nanny uses it ...</td>\n",
       "        <td style=\"padding-left: 1em; padding-right: 1em; text-align: center; vertical-align: top\">4.0</td>\n",
       "        <td style=\"padding-left: 1em; padding-right: 1em; text-align: center; vertical-align: top\">{'all': 1, 'forget': 1,<br>'just': 1, \"daughter's\": ...</td>\n",
       "        <td style=\"padding-left: 1em; padding-right: 1em; text-align: center; vertical-align: top\">1</td>\n",
       "        <td style=\"padding-left: 1em; padding-right: 1em; text-align: center; vertical-align: top\">0</td>\n",
       "    </tr>\n",
       "</table>\n",
       "<table frame=\"box\" rules=\"cols\">\n",
       "    <tr>\n",
       "        <th style=\"padding-left: 1em; padding-right: 1em; text-align: center\">great</th>\n",
       "        <th style=\"padding-left: 1em; padding-right: 1em; text-align: center\">fantastic</th>\n",
       "        <th style=\"padding-left: 1em; padding-right: 1em; text-align: center\">amazing</th>\n",
       "    </tr>\n",
       "    <tr>\n",
       "        <td style=\"padding-left: 1em; padding-right: 1em; text-align: center; vertical-align: top\">0</td>\n",
       "        <td style=\"padding-left: 1em; padding-right: 1em; text-align: center; vertical-align: top\">0</td>\n",
       "        <td style=\"padding-left: 1em; padding-right: 1em; text-align: center; vertical-align: top\">0</td>\n",
       "    </tr>\n",
       "    <tr>\n",
       "        <td style=\"padding-left: 1em; padding-right: 1em; text-align: center; vertical-align: top\">0</td>\n",
       "        <td style=\"padding-left: 1em; padding-right: 1em; text-align: center; vertical-align: top\">0</td>\n",
       "        <td style=\"padding-left: 1em; padding-right: 1em; text-align: center; vertical-align: top\">0</td>\n",
       "    </tr>\n",
       "    <tr>\n",
       "        <td style=\"padding-left: 1em; padding-right: 1em; text-align: center; vertical-align: top\">0</td>\n",
       "        <td style=\"padding-left: 1em; padding-right: 1em; text-align: center; vertical-align: top\">0</td>\n",
       "        <td style=\"padding-left: 1em; padding-right: 1em; text-align: center; vertical-align: top\">0</td>\n",
       "    </tr>\n",
       "    <tr>\n",
       "        <td style=\"padding-left: 1em; padding-right: 1em; text-align: center; vertical-align: top\">0</td>\n",
       "        <td style=\"padding-left: 1em; padding-right: 1em; text-align: center; vertical-align: top\">0</td>\n",
       "        <td style=\"padding-left: 1em; padding-right: 1em; text-align: center; vertical-align: top\">0</td>\n",
       "    </tr>\n",
       "    <tr>\n",
       "        <td style=\"padding-left: 1em; padding-right: 1em; text-align: center; vertical-align: top\">0</td>\n",
       "        <td style=\"padding-left: 1em; padding-right: 1em; text-align: center; vertical-align: top\">0</td>\n",
       "        <td style=\"padding-left: 1em; padding-right: 1em; text-align: center; vertical-align: top\">0</td>\n",
       "    </tr>\n",
       "    <tr>\n",
       "        <td style=\"padding-left: 1em; padding-right: 1em; text-align: center; vertical-align: top\">0</td>\n",
       "        <td style=\"padding-left: 1em; padding-right: 1em; text-align: center; vertical-align: top\">0</td>\n",
       "        <td style=\"padding-left: 1em; padding-right: 1em; text-align: center; vertical-align: top\">0</td>\n",
       "    </tr>\n",
       "    <tr>\n",
       "        <td style=\"padding-left: 1em; padding-right: 1em; text-align: center; vertical-align: top\">0</td>\n",
       "        <td style=\"padding-left: 1em; padding-right: 1em; text-align: center; vertical-align: top\">0</td>\n",
       "        <td style=\"padding-left: 1em; padding-right: 1em; text-align: center; vertical-align: top\">0</td>\n",
       "    </tr>\n",
       "    <tr>\n",
       "        <td style=\"padding-left: 1em; padding-right: 1em; text-align: center; vertical-align: top\">0</td>\n",
       "        <td style=\"padding-left: 1em; padding-right: 1em; text-align: center; vertical-align: top\">0</td>\n",
       "        <td style=\"padding-left: 1em; padding-right: 1em; text-align: center; vertical-align: top\">0</td>\n",
       "    </tr>\n",
       "    <tr>\n",
       "        <td style=\"padding-left: 1em; padding-right: 1em; text-align: center; vertical-align: top\">0</td>\n",
       "        <td style=\"padding-left: 1em; padding-right: 1em; text-align: center; vertical-align: top\">0</td>\n",
       "        <td style=\"padding-left: 1em; padding-right: 1em; text-align: center; vertical-align: top\">0</td>\n",
       "    </tr>\n",
       "    <tr>\n",
       "        <td style=\"padding-left: 1em; padding-right: 1em; text-align: center; vertical-align: top\">0</td>\n",
       "        <td style=\"padding-left: 1em; padding-right: 1em; text-align: center; vertical-align: top\">0</td>\n",
       "        <td style=\"padding-left: 1em; padding-right: 1em; text-align: center; vertical-align: top\">0</td>\n",
       "    </tr>\n",
       "</table>\n",
       "[166752 rows x 9 columns]<br/>Note: Only the head of the SFrame is printed.<br/>You can use print_rows(num_rows=m, num_columns=n) to print more rows and columns.\n",
       "</div>"
      ],
      "text/plain": [
       "Columns:\n",
       "\tname\tstr\n",
       "\treview\tstr\n",
       "\trating\tfloat\n",
       "\tword_count\tdict\n",
       "\tsentiment\tint\n",
       "\tawesome\tint\n",
       "\tgreat\tint\n",
       "\tfantastic\tint\n",
       "\tamazing\tint\n",
       "\n",
       "Rows: 166752\n",
       "\n",
       "Data:\n",
       "+-------------------------------+-------------------------------+--------+\n",
       "|              name             |             review            | rating |\n",
       "+-------------------------------+-------------------------------+--------+\n",
       "|     Planetwise Wipe Pouch     | it came early and was not ... |  5.0   |\n",
       "| Annas Dream Full Quilt wit... | Very soft and comfortable ... |  5.0   |\n",
       "| Stop Pacifier Sucking with... | This is a product well wor... |  5.0   |\n",
       "| Stop Pacifier Sucking with... | All of my kids have cried ... |  5.0   |\n",
       "| Stop Pacifier Sucking with... | When the Binky Fairy came ... |  5.0   |\n",
       "| A Tale of Baby's Days with... | Lovely book, it's bound ti... |  4.0   |\n",
       "| Baby Tracker&reg; - Daily ... | Perfect for new parents. W... |  5.0   |\n",
       "| Baby Tracker&reg; - Daily ... | A friend of mine pinned th... |  5.0   |\n",
       "| Baby Tracker&reg; - Daily ... | This has been an easy way ... |  4.0   |\n",
       "| Baby Tracker&reg; - Daily ... | I love this journal and ou... |  4.0   |\n",
       "+-------------------------------+-------------------------------+--------+\n",
       "+-------------------------------+-----------+---------+-------+-----------+---------+\n",
       "|           word_count          | sentiment | awesome | great | fantastic | amazing |\n",
       "+-------------------------------+-----------+---------+-------+-----------+---------+\n",
       "| {'and': 3, 'love': 1, 'it'... |     1     |    0    |   0   |     0     |    0    |\n",
       "| {'and': 2, 'quilt': 1, 'it... |     1     |    0    |   0   |     0     |    0    |\n",
       "| {'ingenious': 1, 'and': 3,... |     1     |    0    |   0   |     0     |    0    |\n",
       "| {'and': 2, 'parents!!': 1,... |     1     |    0    |   0   |     0     |    0    |\n",
       "| {'and': 2, 'cute': 1, 'hel... |     1     |    0    |   0   |     0     |    0    |\n",
       "| {'shop': 1, 'be': 1, 'is':... |     1     |    0    |   0   |     0     |    0    |\n",
       "| {'feeding,': 1, 'and': 2, ... |     1     |    0    |   0   |     0     |    0    |\n",
       "| {'and': 1, 'help': 1, 'giv... |     1     |    0    |   0   |     0     |    0    |\n",
       "| {'journal.': 1, 'all': 1, ... |     1     |    0    |   0   |     0     |    0    |\n",
       "| {'all': 1, 'forget': 1, 'j... |     1     |    0    |   0   |     0     |    0    |\n",
       "+-------------------------------+-----------+---------+-------+-----------+---------+\n",
       "[166752 rows x 9 columns]\n",
       "Note: Only the head of the SFrame is printed.\n",
       "You can use print_rows(num_rows=m, num_columns=n) to print more rows and columns."
      ]
     },
     "execution_count": 225,
     "metadata": {},
     "output_type": "execute_result"
    }
   ],
   "source": [
    "## amazing\n",
    "products['amazing'] = products['word_count'].apply(awesome_count, skip_undefined=True)\n",
    "products"
   ]
  },
  {
   "cell_type": "code",
   "execution_count": 229,
   "metadata": {
    "collapsed": false
   },
   "outputs": [
    {
     "ename": "TypeError",
     "evalue": "string indices must be integers, not str",
     "output_type": "error",
     "traceback": [
      "\u001b[1;31m---------------------------------------------------------------------------\u001b[0m",
      "\u001b[1;31mTypeError\u001b[0m                                 Traceback (most recent call last)",
      "\u001b[1;32m<ipython-input-229-3af91d1c89ae>\u001b[0m in \u001b[0;36m<module>\u001b[1;34m()\u001b[0m\n\u001b[0;32m      1\u001b[0m \u001b[1;31m## love\u001b[0m\u001b[1;33m\u001b[0m\u001b[1;33m\u001b[0m\u001b[0m\n\u001b[1;32m----> 2\u001b[1;33m \u001b[0mproducts\u001b[0m\u001b[1;33m[\u001b[0m\u001b[1;34m'love1'\u001b[0m\u001b[1;33m]\u001b[0m \u001b[1;33m=\u001b[0m \u001b[0mproducts\u001b[0m\u001b[1;33m[\u001b[0m\u001b[1;34m'word_count'\u001b[0m\u001b[1;33m]\u001b[0m\u001b[1;33m.\u001b[0m\u001b[0mapply\u001b[0m\u001b[1;33m(\u001b[0m\u001b[0mawesome_count\u001b[0m\u001b[1;33m)\u001b[0m\u001b[1;33m\u001b[0m\u001b[0m\n\u001b[0m",
      "\u001b[1;32m/home/zax/anaconda/lib/python2.7/site-packages/graphlab/data_structures/sarray.pyc\u001b[0m in \u001b[0;36mapply\u001b[1;34m(self, fn, dtype, skip_undefined, seed)\u001b[0m\n\u001b[0;32m   1600\u001b[0m         \u001b[1;32massert\u001b[0m \u001b[0mcallable\u001b[0m\u001b[1;33m(\u001b[0m\u001b[0mfn\u001b[0m\u001b[1;33m)\u001b[0m\u001b[1;33m,\u001b[0m \u001b[1;34m\"Input function must be callable.\"\u001b[0m\u001b[1;33m\u001b[0m\u001b[0m\n\u001b[0;32m   1601\u001b[0m \u001b[1;33m\u001b[0m\u001b[0m\n\u001b[1;32m-> 1602\u001b[1;33m         \u001b[0mdryrun\u001b[0m \u001b[1;33m=\u001b[0m \u001b[1;33m[\u001b[0m\u001b[0mfn\u001b[0m\u001b[1;33m(\u001b[0m\u001b[0mi\u001b[0m\u001b[1;33m)\u001b[0m \u001b[1;32mfor\u001b[0m \u001b[0mi\u001b[0m \u001b[1;32min\u001b[0m \u001b[0mself\u001b[0m\u001b[1;33m.\u001b[0m\u001b[0mhead\u001b[0m\u001b[1;33m(\u001b[0m\u001b[1;36m100\u001b[0m\u001b[1;33m)\u001b[0m \u001b[1;32mif\u001b[0m \u001b[0mi\u001b[0m \u001b[1;32mis\u001b[0m \u001b[1;32mnot\u001b[0m \u001b[0mNone\u001b[0m\u001b[1;33m]\u001b[0m\u001b[1;33m\u001b[0m\u001b[0m\n\u001b[0m\u001b[0;32m   1603\u001b[0m         \u001b[1;32mif\u001b[0m \u001b[0mdtype\u001b[0m \u001b[1;33m==\u001b[0m \u001b[0mNone\u001b[0m\u001b[1;33m:\u001b[0m\u001b[1;33m\u001b[0m\u001b[0m\n\u001b[0;32m   1604\u001b[0m             \u001b[0mdtype\u001b[0m \u001b[1;33m=\u001b[0m \u001b[0minfer_type_of_list\u001b[0m\u001b[1;33m(\u001b[0m\u001b[0mdryrun\u001b[0m\u001b[1;33m)\u001b[0m\u001b[1;33m\u001b[0m\u001b[0m\n",
      "\u001b[1;32m<ipython-input-227-ebc2dfe8dd33>\u001b[0m in \u001b[0;36mawesome_count\u001b[1;34m(dictionary)\u001b[0m\n\u001b[0;32m      4\u001b[0m     \u001b[1;32mfor\u001b[0m \u001b[0mreview\u001b[0m \u001b[1;32min\u001b[0m \u001b[0mdictionary\u001b[0m\u001b[1;33m:\u001b[0m\u001b[1;33m\u001b[0m\u001b[0m\n\u001b[0;32m      5\u001b[0m         \u001b[1;32mif\u001b[0m \u001b[0mword\u001b[0m \u001b[1;32min\u001b[0m \u001b[0mreview\u001b[0m\u001b[1;33m:\u001b[0m\u001b[1;33m\u001b[0m\u001b[0m\n\u001b[1;32m----> 6\u001b[1;33m             \u001b[1;32mreturn\u001b[0m \u001b[0mreview\u001b[0m\u001b[1;33m[\u001b[0m\u001b[0mword\u001b[0m\u001b[1;33m]\u001b[0m\u001b[1;33m\u001b[0m\u001b[0m\n\u001b[0m\u001b[0;32m      7\u001b[0m \u001b[1;33m\u001b[0m\u001b[0m\n\u001b[0;32m      8\u001b[0m         \u001b[1;32melse\u001b[0m \u001b[1;33m:\u001b[0m\u001b[1;33m\u001b[0m\u001b[0m\n",
      "\u001b[1;31mTypeError\u001b[0m: string indices must be integers, not str"
     ]
    }
   ],
   "source": [
    "## love\n",
    "products['love'] = products['word_count'].apply(awesome_count)"
   ]
  },
  {
   "cell_type": "code",
   "execution_count": 162,
   "metadata": {
    "collapsed": false
   },
   "outputs": [],
   "source": [
    "## horrible\n",
    "products['horrible'] = products['word_count'].apply(awesome_count)"
   ]
  },
  {
   "cell_type": "code",
   "execution_count": 158,
   "metadata": {
    "collapsed": false
   },
   "outputs": [],
   "source": [
    "## bad\n",
    "products['bad'] = products['word_count'].apply(awesome_count)"
   ]
  },
  {
   "cell_type": "code",
   "execution_count": 164,
   "metadata": {
    "collapsed": true
   },
   "outputs": [],
   "source": [
    "## terrible\n",
    "products['terrible'] = products['word_count'].apply(awesome_count)"
   ]
  },
  {
   "cell_type": "code",
   "execution_count": 163,
   "metadata": {
    "collapsed": true
   },
   "outputs": [],
   "source": [
    "def awesome_count(dictionary):\n",
    "    \"\"\"\" Count the number of occurence of the word Awesome on the dict\"\"\"\n",
    "    word = 'terrible'\n",
    "    for review in dictionary:\n",
    "        if word in review:\n",
    "            result =  review[word]\n",
    "            if result == None:\n",
    "                result = 0\n",
    "            return result\n",
    "            \n",
    "        else :\n",
    "            \n",
    "            return 0"
   ]
  },
  {
   "cell_type": "code",
   "execution_count": 144,
   "metadata": {
    "collapsed": true
   },
   "outputs": [],
   "source": [
    "## awful\n",
    "products['awful'] = products['word_count'].apply(awesome_count)"
   ]
  },
  {
   "cell_type": "code",
   "execution_count": 145,
   "metadata": {
    "collapsed": true
   },
   "outputs": [],
   "source": [
    "## wow\n",
    "products['wow'] = products['word_count'].apply(awesome_count)"
   ]
  },
  {
   "cell_type": "code",
   "execution_count": 155,
   "metadata": {
    "collapsed": false
   },
   "outputs": [
    {
     "data": {
      "text/plain": [
       "dtype: int\n",
       "Rows: 183531\n",
       "[0, 0, 0, 0, 0, 0, 0, 0, 0, 0, 0, 0, 0, 0, 0, 0, 0, 0, 0, 0, 0, 0, 0, 0, 0, 0, 0, 0, 0, 0, 0, 0, 0, 0, 0, 0, 0, 0, None, 0, 0, 0, 0, 0, 0, 0, 0, 0, 0, 0, 0, 0, 0, 0, 0, 0, 0, 0, None, 0, 0, 0, 0, 0, 0, 0, 0, 0, 0, 0, 0, 0, 0, 0, 0, 0, 0, 0, 0, 0, 0, 0, 0, 0, 0, 0, 0, 0, 0, 0, 0, 0, 0, 0, 0, 0, 0, 0, 0, 0, ... ]"
      ]
     },
     "execution_count": 155,
     "metadata": {},
     "output_type": "execute_result"
    }
   ],
   "source": [
    "## hate\n",
    "products['hate'] = products['word_count'].apply(awesome_count)\n",
    "products['hate']"
   ]
  },
  {
   "cell_type": "code",
   "execution_count": 211,
   "metadata": {
    "collapsed": false
   },
   "outputs": [],
   "source": [
    "selected_words = ['awesome', 'great', 'fantastic', 'amazing', 'love', 'horrible', 'bad', 'terrible', 'awful', 'wow', 'hate']"
   ]
  },
  {
   "cell_type": "code",
   "execution_count": 212,
   "metadata": {
    "collapsed": false
   },
   "outputs": [
    {
     "name": "stdout",
     "output_type": "stream",
     "text": [
      "awesome\n",
      "great\n",
      "fantastic\n",
      "amazing\n",
      "love\n",
      "horrible\n",
      "bad\n",
      "terrible\n",
      "awful\n",
      "wow\n",
      "hate\n"
     ]
    }
   ],
   "source": [
    "for x in xrange(len(selected_words)):\n",
    "    print selected_words[x]"
   ]
  },
  {
   "cell_type": "code",
   "execution_count": 219,
   "metadata": {
    "collapsed": false
   },
   "outputs": [
    {
     "name": "stdout",
     "output_type": "stream",
     "text": [
      "+-------------------------------+-------------------------------+--------+\n",
      "|              name             |             review            | rating |\n",
      "+-------------------------------+-------------------------------+--------+\n",
      "|     Planetwise Wipe Pouch     | it came early and was not ... |  5.0   |\n",
      "| Annas Dream Full Quilt wit... | Very soft and comfortable ... |  5.0   |\n",
      "| Stop Pacifier Sucking with... | This is a product well wor... |  5.0   |\n",
      "| Stop Pacifier Sucking with... | All of my kids have cried ... |  5.0   |\n",
      "| Stop Pacifier Sucking with... | When the Binky Fairy came ... |  5.0   |\n",
      "| A Tale of Baby's Days with... | Lovely book, it's bound ti... |  4.0   |\n",
      "| Baby Tracker&reg; - Daily ... | Perfect for new parents. W... |  5.0   |\n",
      "| Baby Tracker&reg; - Daily ... | A friend of mine pinned th... |  5.0   |\n",
      "| Baby Tracker&reg; - Daily ... | This has been an easy way ... |  4.0   |\n",
      "| Baby Tracker&reg; - Daily ... | I love this journal and ou... |  4.0   |\n",
      "+-------------------------------+-------------------------------+--------+\n",
      "+-------------------------------+-----------+---------+\n",
      "|           word_count          | sentiment | awesome |\n",
      "+-------------------------------+-----------+---------+\n",
      "| {'and': 3, 'love': 1, 'it'... |     1     |    0    |\n",
      "| {'and': 2, 'quilt': 1, 'it... |     1     |    0    |\n",
      "| {'ingenious': 1, 'and': 3,... |     1     |    0    |\n",
      "| {'and': 2, 'parents!!': 1,... |     1     |    0    |\n",
      "| {'and': 2, 'cute': 1, 'hel... |     1     |    0    |\n",
      "| {'shop': 1, 'be': 1, 'is':... |     1     |    0    |\n",
      "| {'feeding,': 1, 'and': 2, ... |     1     |    0    |\n",
      "| {'and': 1, 'help': 1, 'giv... |     1     |    0    |\n",
      "| {'journal.': 1, 'all': 1, ... |     1     |    0    |\n",
      "| {'all': 1, 'forget': 1, 'j... |     1     |    0    |\n",
      "+-------------------------------+-----------+---------+\n",
      "[166752 rows x 6 columns]\n",
      "Note: Only the head of the SFrame is printed.\n",
      "You can use print_rows(num_rows=m, num_columns=n) to print more rows and columns.\n"
     ]
    }
   ],
   "source": [
    "print products"
   ]
  },
  {
   "cell_type": "code",
   "execution_count": null,
   "metadata": {
    "collapsed": true
   },
   "outputs": [],
   "source": []
  },
  {
   "cell_type": "markdown",
   "metadata": {},
   "source": [
    "## Build a new sentiment analysis model using selected_words"
   ]
  },
  {
   "cell_type": "code",
   "execution_count": 210,
   "metadata": {
    "collapsed": false
   },
   "outputs": [
    {
     "ename": "ToolkitError",
     "evalue": "The following columns were expected but are missing: ['great', 'love', 'hate', 'awesome', 'fantastic', 'terrible', 'bad', 'horrible', 'awful', 'amazing', 'wow']",
     "output_type": "error",
     "traceback": [
      "\u001b[1;31m---------------------------------------------------------------------------\u001b[0m",
      "\u001b[1;31mToolkitError\u001b[0m                              Traceback (most recent call last)",
      "\u001b[1;32m<ipython-input-210-7b16ac6d74cf>\u001b[0m in \u001b[0;36m<module>\u001b[1;34m()\u001b[0m\n\u001b[0;32m      2\u001b[0m                                                      \u001b[0mtarget\u001b[0m\u001b[1;33m=\u001b[0m\u001b[1;34m'sentiment'\u001b[0m\u001b[1;33m,\u001b[0m\u001b[1;33m\u001b[0m\u001b[0m\n\u001b[0;32m      3\u001b[0m                                                      \u001b[0mfeatures\u001b[0m\u001b[1;33m=\u001b[0m\u001b[0mselected_words\u001b[0m\u001b[1;33m,\u001b[0m\u001b[1;33m\u001b[0m\u001b[0m\n\u001b[1;32m----> 4\u001b[1;33m                                                      validation_set=test_data)\n\u001b[0m",
      "\u001b[1;32m/home/zax/anaconda/lib/python2.7/site-packages/graphlab/toolkits/classifier/logistic_classifier.pyc\u001b[0m in \u001b[0;36mcreate\u001b[1;34m(dataset, target, features, l2_penalty, l1_penalty, solver, feature_rescaling, convergence_threshold, step_size, lbfgs_memory_level, max_iterations, class_weights, validation_set, verbose)\u001b[0m\n\u001b[0;32m    295\u001b[0m                         \u001b[0mlbfgs_memory_level\u001b[0m \u001b[1;33m=\u001b[0m \u001b[0mlbfgs_memory_level\u001b[0m\u001b[1;33m,\u001b[0m\u001b[1;33m\u001b[0m\u001b[0m\n\u001b[0;32m    296\u001b[0m                         \u001b[0mmax_iterations\u001b[0m \u001b[1;33m=\u001b[0m \u001b[0mmax_iterations\u001b[0m\u001b[1;33m,\u001b[0m\u001b[1;33m\u001b[0m\u001b[0m\n\u001b[1;32m--> 297\u001b[1;33m                         class_weights = class_weights)\n\u001b[0m\u001b[0;32m    298\u001b[0m \u001b[1;33m\u001b[0m\u001b[0m\n\u001b[0;32m    299\u001b[0m     \u001b[1;32mreturn\u001b[0m \u001b[0mLogisticClassifier\u001b[0m\u001b[1;33m(\u001b[0m\u001b[0mmodel\u001b[0m\u001b[1;33m.\u001b[0m\u001b[0m__proxy__\u001b[0m\u001b[1;33m)\u001b[0m\u001b[1;33m\u001b[0m\u001b[0m\n",
      "\u001b[1;32m/home/zax/anaconda/lib/python2.7/site-packages/graphlab/toolkits/_supervised_learning.pyc\u001b[0m in \u001b[0;36mcreate\u001b[1;34m(dataset, target, model_name, features, validation_set, verbose, distributed, **kwargs)\u001b[0m\n\u001b[0;32m    420\u001b[0m     \u001b[1;32mif\u001b[0m \u001b[1;32mnot\u001b[0m \u001b[0mall\u001b[0m\u001b[1;33m(\u001b[0m\u001b[1;33m[\u001b[0m\u001b[0misinstance\u001b[0m\u001b[1;33m(\u001b[0m\u001b[0mx\u001b[0m\u001b[1;33m,\u001b[0m \u001b[0mstr\u001b[0m\u001b[1;33m)\u001b[0m \u001b[1;32mfor\u001b[0m \u001b[0mx\u001b[0m \u001b[1;32min\u001b[0m \u001b[0mfeatures\u001b[0m\u001b[1;33m]\u001b[0m\u001b[1;33m)\u001b[0m\u001b[1;33m:\u001b[0m\u001b[1;33m\u001b[0m\u001b[0m\n\u001b[0;32m    421\u001b[0m         \u001b[1;32mraise\u001b[0m \u001b[0mTypeError\u001b[0m\u001b[1;33m(\u001b[0m\u001b[1;34m\"Invalid feature %s: Feature names must be of type str\"\u001b[0m \u001b[1;33m%\u001b[0m \u001b[0mx\u001b[0m\u001b[1;33m)\u001b[0m\u001b[1;33m\u001b[0m\u001b[0m\n\u001b[1;32m--> 422\u001b[1;33m     \u001b[0mfeatures_sframe\u001b[0m \u001b[1;33m=\u001b[0m \u001b[0m_toolkits_select_columns\u001b[0m\u001b[1;33m(\u001b[0m\u001b[0mdataset\u001b[0m\u001b[1;33m,\u001b[0m \u001b[0mfeatures\u001b[0m\u001b[1;33m)\u001b[0m\u001b[1;33m\u001b[0m\u001b[0m\n\u001b[0m\u001b[0;32m    423\u001b[0m \u001b[1;33m\u001b[0m\u001b[0m\n\u001b[0;32m    424\u001b[0m \u001b[1;33m\u001b[0m\u001b[0m\n",
      "\u001b[1;32m/home/zax/anaconda/lib/python2.7/site-packages/graphlab/toolkits/_internal_utils.pyc\u001b[0m in \u001b[0;36m_toolkits_select_columns\u001b[1;34m(dataset, columns)\u001b[0m\n\u001b[0;32m    301\u001b[0m         \u001b[0mmissing_features\u001b[0m \u001b[1;33m=\u001b[0m \u001b[0mlist\u001b[0m\u001b[1;33m(\u001b[0m\u001b[0mset\u001b[0m\u001b[1;33m(\u001b[0m\u001b[0mcolumns\u001b[0m\u001b[1;33m)\u001b[0m\u001b[1;33m.\u001b[0m\u001b[0mdifference\u001b[0m\u001b[1;33m(\u001b[0m\u001b[0mset\u001b[0m\u001b[1;33m(\u001b[0m\u001b[0mdataset\u001b[0m\u001b[1;33m.\u001b[0m\u001b[0mcolumn_names\u001b[0m\u001b[1;33m(\u001b[0m\u001b[1;33m)\u001b[0m\u001b[1;33m)\u001b[0m\u001b[1;33m)\u001b[0m\u001b[1;33m)\u001b[0m\u001b[1;33m\u001b[0m\u001b[0m\n\u001b[0;32m    302\u001b[0m         raise ToolkitError(\"The following columns were expected but are \" +\n\u001b[1;32m--> 303\u001b[1;33m                            \"missing: {}\".format(missing_features))\n\u001b[0m\u001b[0;32m    304\u001b[0m \u001b[1;33m\u001b[0m\u001b[0m\n\u001b[0;32m    305\u001b[0m def _raise_error_if_column_exists(dataset, column_name = 'dataset',\n",
      "\u001b[1;31mToolkitError\u001b[0m: The following columns were expected but are missing: ['great', 'love', 'hate', 'awesome', 'fantastic', 'terrible', 'bad', 'horrible', 'awful', 'amazing', 'wow']"
     ]
    }
   ],
   "source": [
    "selected_words_model = graphlab.logistic_classifier.create(train_data,\n",
    "                                                     target='sentiment',\n",
    "                                                     features=selected_words,\n",
    "                                                     validation_set=test_data)"
   ]
  },
  {
   "cell_type": "code",
   "execution_count": null,
   "metadata": {
    "collapsed": true
   },
   "outputs": [],
   "source": []
  }
 ],
 "metadata": {
  "kernelspec": {
   "display_name": "Python 2",
   "language": "python",
   "name": "python2"
  },
  "language_info": {
   "codemirror_mode": {
    "name": "ipython",
    "version": 2
   },
   "file_extension": ".py",
   "mimetype": "text/x-python",
   "name": "python",
   "nbconvert_exporter": "python",
   "pygments_lexer": "ipython2",
   "version": "2.7.10"
  }
 },
 "nbformat": 4,
 "nbformat_minor": 0
}
